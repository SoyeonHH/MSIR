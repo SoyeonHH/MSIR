{
 "cells": [
  {
   "cell_type": "code",
   "execution_count": 2,
   "metadata": {},
   "outputs": [],
   "source": [
    "import pickle as pkl\n",
    "import numpy as np\n",
    "from tqdm import tqdm\n",
    "import ipywidgets as widgets\n",
    "from ipywidgets import interact, interact_manual\n",
    "\n",
    "with open(\"/data1/multimodal/mosi.pkl\", 'rb') as f:\n",
    "    mosi = pkl.load(f)\n",
    "\n",
    "with open(\"/data1/multimodal/mosei.pkl\", 'rb') as f:\n",
    "    mosei = pkl.load(f)"
   ]
  },
  {
   "cell_type": "code",
   "execution_count": 6,
   "metadata": {},
   "outputs": [
    {
     "data": {
      "application/vnd.jupyter.widget-view+json": {
       "model_id": "7f3f78c472694b039601c711e901ddf7",
       "version_major": 2,
       "version_minor": 0
      },
      "text/plain": [
       "interactive(children=(Dropdown(description='idx', options=(0, 1, 2, 3, 4, 5, 6, 7, 8, 9, 10, 11, 12, 13, 14, 1…"
      ]
     },
     "metadata": {},
     "output_type": "display_data"
    }
   ],
   "source": [
    "test_mosi = mosi['test']\n",
    "test_mosei = mosei['test']\n",
    "\n",
    "@interact\n",
    "def get_mosi_sample(idx = range(len(test_mosi))):\n",
    "    (words, visual, acoustic), label, segment =  mosi['test'][idx]\n",
    "    print(\"WORDS\", words)\n",
    "    print(\"VISUAL\", visual.shape)\n",
    "    print(\"ACOUSTIC\", acoustic.shape)\n",
    "    print(\"LABEL\", label)\n",
    "    print(\"SEGMENT\", segment)"
   ]
  },
  {
   "cell_type": "code",
   "execution_count": 7,
   "metadata": {},
   "outputs": [
    {
     "data": {
      "application/vnd.jupyter.widget-view+json": {
       "model_id": "20d5cd8f56264955ab566e63841548a6",
       "version_major": 2,
       "version_minor": 0
      },
      "text/plain": [
       "interactive(children=(Dropdown(description='idx', options=(0, 1, 2, 3, 4, 5, 6, 7, 8, 9, 10, 11, 12, 13, 14, 1…"
      ]
     },
     "metadata": {},
     "output_type": "display_data"
    }
   ],
   "source": [
    "@interact\n",
    "def get_mosi_sample(idx = range(len(test_mosei))):\n",
    "    (words, visual, acoustic), label, segment =  mosei['test'][idx]\n",
    "    print(\"WORDS\", words)\n",
    "    print(\"VISUAL\", visual.shape)\n",
    "    print(\"ACOUSTIC\", acoustic.shape)\n",
    "    print(\"LABEL\", label)\n",
    "    print(\"SEGMENT\", segment)"
   ]
  },
  {
   "cell_type": "code",
   "execution_count": 8,
   "metadata": {},
   "outputs": [
    {
     "name": "stderr",
     "output_type": "stream",
     "text": [
      "100%|██████████| 1281/1281 [00:00<00:00, 265577.75it/s]\n",
      "100%|██████████| 229/229 [00:00<00:00, 264672.26it/s]\n",
      "100%|██████████| 685/685 [00:00<00:00, 290946.66it/s]\n",
      "100%|██████████| 16265/16265 [00:00<00:00, 379235.83it/s]\n",
      "100%|██████████| 1869/1869 [00:00<00:00, 475619.11it/s]\n",
      "100%|██████████| 4643/4643 [00:00<00:00, 484624.56it/s]\n"
     ]
    }
   ],
   "source": [
    "def validate(data, VISUAL_DIM:int, ACOUSTIC_DIM:int):\n",
    "    for partition in [\"train\", \"dev\", \"test\"]:\n",
    "        for feature in tqdm(data[partition]):\n",
    "            (words, visual, acoustic), label, segment = feature\n",
    "            assert len(words) == len(visual) == len(acoustic), f\"Modality Alignment failure at {segment}\"\n",
    "            assert visual.shape == (len(words), VISUAL_DIM), f\"Visual dimension mismatch at {segment}\"\n",
    "            assert acoustic.shape == (len(words), ACOUSTIC_DIM), f\"Acoustic dimension mismatch at {segment}\"\n",
    "\n",
    "validate(mosi, 47, 74)\n",
    "validate(mosei, 35, 74)"
   ]
  },
  {
   "cell_type": "code",
   "execution_count": 10,
   "metadata": {},
   "outputs": [],
   "source": [
    "with open(\"/data1/multimodal/mosi_data_noalign.pkl\", 'rb') as f:\n",
    "    mosi_noalign = pkl.load(f)\n",
    "with open(\"/data1/multimodal/mosei_senti_data_noalign.pkl\", 'rb') as f:\n",
    "    mosei_noalign = pkl.load(f)"
   ]
  },
  {
   "cell_type": "code",
   "execution_count": 12,
   "metadata": {},
   "outputs": [],
   "source": [
    "test_mosi_noalign = mosi_noalign['test']"
   ]
  },
  {
   "cell_type": "code",
   "execution_count": 15,
   "metadata": {},
   "outputs": [
    {
     "name": "stdout",
     "output_type": "stream",
     "text": [
      "dict_keys(['id', 'labels', 'vision', 'text', 'audio'])\n"
     ]
    }
   ],
   "source": [
    "print(test_mosi_noalign.keys())"
   ]
  },
  {
   "cell_type": "code",
   "execution_count": 16,
   "metadata": {},
   "outputs": [
    {
     "data": {
      "application/vnd.jupyter.widget-view+json": {
       "model_id": "363e565a5dd645e1b186a8b6a161eb7c",
       "version_major": 2,
       "version_minor": 0
      },
      "text/plain": [
       "interactive(children=(Dropdown(description='idx', options=(0, 1, 2, 3, 4, 5, 6, 7, 8, 9, 10, 11, 12, 13, 14, 1…"
      ]
     },
     "metadata": {},
     "output_type": "display_data"
    }
   ],
   "source": [
    "@interact\n",
    "def get_mosi_sample(idx = range(len(test_mosi_noalign['text']))):\n",
    "    print(\"TEXT\", test_mosi_noalign['text'][idx].shape)\n",
    "    print(\"VISION\", test_mosi_noalign['vision'][idx].shape)\n",
    "    print(\"AUDIO\", test_mosi_noalign['audio'][idx].shape)\n",
    "    print(\"LABEL\", test_mosi_noalign['labels'][idx])\n",
    "    print(\"ID\", test_mosi_noalign['id'][idx])"
   ]
  },
  {
   "cell_type": "code",
   "execution_count": null,
   "metadata": {},
   "outputs": [],
   "source": []
  }
 ],
 "metadata": {
  "kernelspec": {
   "display_name": "Python 3.10.4 ('mm')",
   "language": "python",
   "name": "python3"
  },
  "language_info": {
   "codemirror_mode": {
    "name": "ipython",
    "version": 3
   },
   "file_extension": ".py",
   "mimetype": "text/x-python",
   "name": "python",
   "nbconvert_exporter": "python",
   "pygments_lexer": "ipython3",
   "version": "3.10.4"
  },
  "orig_nbformat": 2,
  "vscode": {
   "interpreter": {
    "hash": "deec9a5f5aa3ef13c68dd8e84e3dba1960cdbbebd46883ffcb84be005fc17f90"
   }
  }
 },
 "nbformat": 4,
 "nbformat_minor": 2
}
