{
 "cells": [
  {
   "cell_type": "code",
   "execution_count": 5,
   "metadata": {},
   "outputs": [],
   "source": [
    "import pickle as pkl\n",
    "import numpy as np\n",
    "from tqdm import tqdm\n",
    "import ipywidgets as widgets\n",
    "from ipywidgets import interact, interact_manual\n",
    "\n",
    "with open(\"./datasets/mosi.pkl\", 'rb') as f:\n",
    "    mosi = pkl.load(f)\n",
    "\n",
    "with open(\"./datasets/mosei.pkl\", 'rb') as f:\n",
    "    mosei = pkl.load(f)"
   ]
  },
  {
   "cell_type": "code",
   "execution_count": 6,
   "metadata": {},
   "outputs": [
    {
     "data": {
      "application/vnd.jupyter.widget-view+json": {
       "model_id": "ba4e40a1449a46f9ab2a5619a13990e8",
       "version_major": 2,
       "version_minor": 0
      },
      "text/plain": [
       "interactive(children=(Dropdown(description='idx', options=(0, 1, 2, 3, 4, 5, 6, 7, 8, 9, 10, 11, 12, 13, 14, 1…"
      ]
     },
     "metadata": {},
     "output_type": "display_data"
    }
   ],
   "source": [
    "test_mosi = mosi['test']\n",
    "test_mosei = mosei['test']\n",
    "\n",
    "@interact\n",
    "def get_mosi_sample(idx = range(len(test_mosi))):\n",
    "    (words, visual, acoustic), label, segment =  mosi['test'][idx]\n",
    "    print(\"WORDS\", words)\n",
    "    print(\"VISUAL\", visual.shape)\n",
    "    print(\"ACOUSTIC\", acoustic.shape)\n",
    "    print(\"LABEL\", label)\n",
    "    print(\"SEGMENT\", segment)"
   ]
  },
  {
   "cell_type": "code",
   "execution_count": 7,
   "metadata": {},
   "outputs": [
    {
     "data": {
      "application/vnd.jupyter.widget-view+json": {
       "model_id": "6d27c7857077428b897725156ddc61ee",
       "version_major": 2,
       "version_minor": 0
      },
      "text/plain": [
       "interactive(children=(Dropdown(description='idx', options=(0, 1, 2, 3, 4, 5, 6, 7, 8, 9, 10, 11, 12, 13, 14, 1…"
      ]
     },
     "metadata": {},
     "output_type": "display_data"
    }
   ],
   "source": [
    "@interact\n",
    "def get_mosi_sample(idx = range(len(test_mosei))):\n",
    "    (words, visual, acoustic), label, segment =  mosei['test'][idx]\n",
    "    print(\"WORDS\", words)\n",
    "    print(\"VISUAL\", visual.shape)\n",
    "    print(\"ACOUSTIC\", acoustic.shape)\n",
    "    print(\"LABEL\", label)\n",
    "    print(\"SEGMENT\", segment)"
   ]
  },
  {
   "cell_type": "code",
   "execution_count": 4,
   "metadata": {},
   "outputs": [
    {
     "name": "stderr",
     "output_type": "stream",
     "text": [
      "100%|████████████████████████████████████████████████████████████████████████████████████████████████████████████████████████████████████████████████████████████████████████████████████████████████████████████████| 1281/1281 [00:00<00:00, 430935.47it/s]\n",
      "100%|██████████████████████████████████████████████████████████████████████████████████████████████████████████████████████████████████████████████████████████████████████████████████████████████████████████████████| 229/229 [00:00<00:00, 419797.03it/s]\n",
      "100%|██████████████████████████████████████████████████████████████████████████████████████████████████████████████████████████████████████████████████████████████████████████████████████████████████████████████████| 685/685 [00:00<00:00, 392982.94it/s]\n",
      "100%|██████████████████████████████████████████████████████████████████████████████████████████████████████████████████████████████████████████████████████████████████████████████████████████████████████████████| 16265/16265 [00:00<00:00, 578928.49it/s]\n",
      "100%|████████████████████████████████████████████████████████████████████████████████████████████████████████████████████████████████████████████████████████████████████████████████████████████████████████████████| 1869/1869 [00:00<00:00, 907309.51it/s]\n",
      "100%|████████████████████████████████████████████████████████████████████████████████████████████████████████████████████████████████████████████████████████████████████████████████████████████████████████████████| 4643/4643 [00:00<00:00, 798284.63it/s]\n"
     ]
    }
   ],
   "source": [
    "def validate(data, VISUAL_DIM:int, ACOUSTIC_DIM:int):\n",
    "    for partition in [\"train\", \"dev\", \"test\"]:\n",
    "        for feature in tqdm(data[partition]):\n",
    "            (words, visual, acoustic), label, segment = feature\n",
    "            assert len(words) == len(visual) == len(acoustic), f\"Modality Alignment failure at {segment}\"\n",
    "            assert visual.shape == (len(words), VISUAL_DIM), f\"Visual dimension mismatch at {segment}\"\n",
    "            assert acoustic.shape == (len(words), ACOUSTIC_DIM), f\"Acoustic dimension mismatch at {segment}\"\n",
    "\n",
    "validate(mosi, 47, 74)\n",
    "validate(mosei, 35, 74)"
   ]
  },
  {
   "cell_type": "code",
   "execution_count": null,
   "metadata": {},
   "outputs": [],
   "source": []
  }
 ],
 "metadata": {
  "kernelspec": {
   "display_name": "pytorch",
   "language": "python",
   "name": "pytorch"
  },
  "orig_nbformat": 2
 },
 "nbformat": 4,
 "nbformat_minor": 2
}
