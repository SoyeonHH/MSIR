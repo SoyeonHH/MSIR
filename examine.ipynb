{
 "cells": [
  {
   "cell_type": "markdown",
   "metadata": {},
   "source": [
    "# Dataset Explorer"
   ]
  },
  {
   "cell_type": "code",
   "execution_count": 34,
   "metadata": {},
   "outputs": [],
   "source": [
    "import pickle as pkl\n",
    "import numpy as np\n",
    "from tqdm import tqdm\n",
    "import ipywidgets as widgets\n",
    "from ipywidgets import interact, interact_manual\n",
    "\n",
    "with open(\"./datasets/MOSI/mosi.pkl\", 'rb') as f:\n",
    "    mosi = pkl.load(f)\n",
    "\n",
    "with open(\"./datasets/MOSEI/mosei.pkl\", 'rb') as f:\n",
    "    mosei = pkl.load(f)"
   ]
  },
  {
   "cell_type": "code",
   "execution_count": 35,
   "metadata": {},
   "outputs": [
    {
     "data": {
      "application/vnd.jupyter.widget-view+json": {
       "model_id": "0745363130e545ce8fc2b17c7b4b21b7",
       "version_major": 2,
       "version_minor": 0
      },
      "text/plain": [
       "interactive(children=(Dropdown(description='idx', options=(0, 1, 2, 3, 4, 5, 6, 7, 8, 9, 10, 11, 12, 13, 14, 1…"
      ]
     },
     "metadata": {},
     "output_type": "display_data"
    }
   ],
   "source": [
    "test_mosi = mosi['test']\n",
    "test_mosei = mosei['test']\n",
    "\n",
    "@interact\n",
    "def get_mosi_sample(idx = range(len(test_mosi))):\n",
    "    (words, visual, acoustic), label, segment =  mosi['test'][idx]\n",
    "    print(\"WORDS\", words)\n",
    "    print(\"VISUAL\", visual.shape)\n",
    "    print(\"ACOUSTIC\", acoustic.shape)\n",
    "    print(\"LABEL\", label)\n",
    "    print(\"SEGMENT\", segment)"
   ]
  },
  {
   "cell_type": "code",
   "execution_count": 36,
   "metadata": {},
   "outputs": [
    {
     "data": {
      "application/vnd.jupyter.widget-view+json": {
       "model_id": "db97404d16834f17aec6d356deb48243",
       "version_major": 2,
       "version_minor": 0
      },
      "text/plain": [
       "interactive(children=(Dropdown(description='idx', options=(0, 1, 2, 3, 4, 5, 6, 7, 8, 9, 10, 11, 12, 13, 14, 1…"
      ]
     },
     "metadata": {},
     "output_type": "display_data"
    }
   ],
   "source": [
    "@interact\n",
    "def get_mosi_sample(idx = range(len(test_mosei))):\n",
    "    (words, visual, acoustic), label, segment =  mosei['test'][idx]\n",
    "    print(\"WORDS\", words)\n",
    "    print(\"VISUAL\", visual.shape)\n",
    "    print(\"ACOUSTIC\", acoustic.shape)\n",
    "    print(\"LABEL\", label)\n",
    "    print(\"SEGMENT\", segment)"
   ]
  },
  {
   "cell_type": "code",
   "execution_count": 37,
   "metadata": {},
   "outputs": [
    {
     "name": "stderr",
     "output_type": "stream",
     "text": [
      "100%|██████████| 1281/1281 [00:00<00:00, 472717.18it/s]\n",
      "100%|██████████| 229/229 [00:00<00:00, 502088.66it/s]\n",
      "100%|██████████| 685/685 [00:00<00:00, 524958.57it/s]\n",
      "100%|██████████| 16265/16265 [00:00<00:00, 597412.75it/s]\n",
      "100%|██████████| 1869/1869 [00:00<00:00, 542164.34it/s]\n",
      "100%|██████████| 4643/4643 [00:00<00:00, 580538.19it/s]\n"
     ]
    }
   ],
   "source": [
    "def validate(data, VISUAL_DIM:int, ACOUSTIC_DIM:int):\n",
    "    for partition in [\"train\", \"dev\", \"test\"]:\n",
    "        for feature in tqdm(data[partition]):\n",
    "            (words, visual, acoustic), label, segment = feature\n",
    "            assert len(words) == len(visual) == len(acoustic), f\"Modality Alignment failure at {segment}\"\n",
    "            assert visual.shape == (len(words), VISUAL_DIM), f\"Visual dimension mismatch at {segment}\"\n",
    "            assert acoustic.shape == (len(words), ACOUSTIC_DIM), f\"Acoustic dimension mismatch at {segment}\"\n",
    "\n",
    "validate(mosi, 47, 74)\n",
    "validate(mosei, 35, 74)"
   ]
  },
  {
   "cell_type": "code",
   "execution_count": 38,
   "metadata": {},
   "outputs": [],
   "source": [
    "with open(\"./datasets/MOSI/test.pkl\", 'rb') as f:\n",
    "    test_mosi = pkl.load(f)"
   ]
  },
  {
   "cell_type": "code",
   "execution_count": 39,
   "metadata": {},
   "outputs": [
    {
     "data": {
      "application/vnd.jupyter.widget-view+json": {
       "model_id": "ec489192cbdf4d5bbecd29614e44e49f",
       "version_major": 2,
       "version_minor": 0
      },
      "text/plain": [
       "interactive(children=(Dropdown(description='idx', options=(0, 1, 2, 3, 4, 5, 6, 7, 8, 9, 10, 11, 12, 13, 14, 1…"
      ]
     },
     "metadata": {},
     "output_type": "display_data"
    }
   ],
   "source": [
    "@interact\n",
    "def get_mosi_sample(idx = range(len(test_mosi))):\n",
    "    (words, visual, acoustic, actual_words), label, segment =  test_mosi[idx]\n",
    "    print(\"WORDS\", words.shape)\n",
    "    print(\"VISUAL\", visual.shape)\n",
    "    print(\"ACOUSTIC\", acoustic.shape)\n",
    "    print(\"ACTUAL WORDS\", actual_words)\n",
    "    print(\"LABEL\", label)\n",
    "    print(\"SEGMENT\", segment)"
   ]
  },
  {
   "cell_type": "code",
   "execution_count": 40,
   "metadata": {},
   "outputs": [],
   "source": [
    "with open(\"./datasets/MOSEI/test.pkl\", 'rb') as f:\n",
    "    test_mosei = pkl.load(f)"
   ]
  },
  {
   "cell_type": "code",
   "execution_count": 41,
   "metadata": {},
   "outputs": [
    {
     "data": {
      "application/vnd.jupyter.widget-view+json": {
       "model_id": "d233a216370d4d2284b131cfd8e79b44",
       "version_major": 2,
       "version_minor": 0
      },
      "text/plain": [
       "interactive(children=(Dropdown(description='idx', options=(0, 1, 2, 3, 4, 5, 6, 7, 8, 9, 10, 11, 12, 13, 14, 1…"
      ]
     },
     "metadata": {},
     "output_type": "display_data"
    }
   ],
   "source": [
    "@interact\n",
    "def get_mosei_sample(idx = range(len(test_mosei))):\n",
    "    (words, visual, acoustic, actual_words, vlen, alen), label, segment =  test_mosei[idx]\n",
    "    print(\"WORDS\", words.shape)\n",
    "    print(\"VISUAL\", visual.shape)\n",
    "    print(\"ACOUSTIC\", acoustic.shape)\n",
    "    print(\"ACTUAL WORDS\", actual_words)\n",
    "    print(\"LABEL\", label)\n",
    "    print(\"SEGMENT\", segment)"
   ]
  },
  {
   "cell_type": "markdown",
   "metadata": {},
   "source": [
    "# MOSI"
   ]
  },
  {
   "cell_type": "markdown",
   "metadata": {},
   "source": [
    "## TFN"
   ]
  },
  {
   "cell_type": "markdown",
   "metadata": {},
   "source": [
    "### 1. Ground-truth Distribution"
   ]
  },
  {
   "cell_type": "code",
   "execution_count": 42,
   "metadata": {},
   "outputs": [],
   "source": [
    "with open(f\"results/TFN.pkl\", \"rb\") as handle:\n",
    "    # tfn_dict = {segment, labels, labels_2, labels_7, preds, preds_2, preds_7}\n",
    "    tfn = pkl.load(handle) "
   ]
  },
  {
   "cell_type": "code",
   "execution_count": 43,
   "metadata": {},
   "outputs": [
    {
     "name": "stdout",
     "output_type": "stream",
     "text": [
      "686\n"
     ]
    }
   ],
   "source": [
    "print(len(tfn['segment']))"
   ]
  },
  {
   "cell_type": "code",
   "execution_count": 44,
   "metadata": {},
   "outputs": [
    {
     "data": {
      "application/vnd.plotly.v1+json": {
       "config": {
        "plotlyServerURL": "https://plot.ly"
       },
       "data": [
        {
         "alignmentgroup": "True",
         "hovertemplate": "binary=%{x}<br>count=%{y}<extra></extra>",
         "legendgroup": "",
         "marker": {
          "color": "#636efa",
          "pattern": {
           "shape": ""
          }
         },
         "name": "",
         "offsetgroup": "",
         "orientation": "v",
         "showlegend": false,
         "textposition": "auto",
         "type": "bar",
         "x": [
          "pos",
          "neg",
          "neg",
          "neg",
          "neg",
          "neg",
          "neg",
          "neg",
          "neg",
          "pos",
          "neg",
          "neg",
          "neg",
          "neg",
          "pos",
          "neg",
          "pos",
          "neg",
          "neg",
          "neg",
          "neg",
          "pos",
          "pos",
          "neg",
          "neg",
          "neg",
          "neg",
          "neg",
          "neg",
          "neg",
          "neg",
          "neg",
          "pos",
          "pos",
          "pos",
          "pos",
          "neg",
          "neg",
          "neg",
          "pos",
          "neg",
          "neg",
          "neg",
          "pos",
          "pos",
          "neg",
          "pos",
          "neg",
          "pos",
          "pos",
          "pos",
          "neg",
          "neg",
          "neg",
          "neg",
          "neg",
          "neg",
          "pos",
          "pos",
          "pos",
          "pos",
          "neg",
          "pos",
          "pos",
          "pos",
          "pos",
          "neg",
          "pos",
          "neg",
          "neg",
          "neg",
          "pos",
          "neg",
          "neg",
          "pos",
          "pos",
          "neg",
          "pos",
          "neg",
          "neg",
          "neg",
          "pos",
          "pos",
          "pos",
          "pos",
          "pos",
          "pos",
          "neg",
          "pos",
          "pos",
          "pos",
          "neg",
          "neg",
          "pos",
          "pos",
          "pos",
          "pos",
          "pos",
          "pos",
          "pos",
          "pos",
          "neg",
          "pos",
          "pos",
          "neg",
          "pos",
          "pos",
          "neg",
          "pos",
          "pos",
          "pos",
          "pos",
          "pos",
          "pos",
          "neg",
          "pos",
          "neg",
          "pos",
          "pos",
          "pos",
          "pos",
          "neg",
          "neg",
          "pos",
          "neg",
          "neg",
          "neg",
          "neg",
          "neg",
          "neg",
          "neg",
          "neg",
          "pos",
          "neg",
          "neg",
          "neg",
          "neg",
          "neg",
          "neg",
          "neg",
          "neg",
          "neg",
          "neg",
          "neg",
          "pos",
          "neg",
          "neg",
          "neg",
          "neg",
          "neg",
          "neg",
          "neg",
          "neg",
          "neg",
          "neg",
          "neg",
          "neg",
          "neg",
          "neg",
          "neg",
          "neg",
          "neg",
          "pos",
          "neg",
          "pos",
          "neg",
          "neg",
          "neg",
          "neg",
          "neg",
          "neg",
          "pos",
          "neg",
          "neg",
          "pos",
          "pos",
          "neg",
          "neg",
          "neg",
          "neg",
          "pos",
          "neg",
          "neg",
          "pos",
          "pos",
          "neg",
          "pos",
          "pos",
          "neg",
          "neg",
          "neg",
          "neg",
          "neg",
          "neg",
          "neg",
          "neg",
          "neg",
          "pos",
          "neg",
          "neg",
          "pos",
          "neg",
          "neg",
          "pos",
          "pos",
          "neg",
          "neg",
          "neg",
          "neg",
          "pos",
          "neg",
          "neg",
          "neg",
          "neg",
          "neg",
          "neg",
          "neg",
          "neg",
          "pos",
          "pos",
          "neg",
          "neg",
          "pos",
          "pos",
          "neg",
          "neg",
          "neg",
          "pos",
          "neg",
          "neg",
          "neg",
          "pos",
          "neg",
          "pos",
          "neg",
          "pos",
          "neg",
          "neg",
          "neg",
          "neg",
          "neg",
          "pos",
          "pos",
          "neg",
          "pos",
          "neg",
          "neg",
          "neg",
          "pos",
          "pos",
          "pos",
          "neg",
          "pos",
          "pos",
          "neg",
          "neg",
          "neg",
          "neg",
          "neg",
          "pos",
          "pos",
          "pos",
          "neg",
          "neg",
          "neg",
          "neg",
          "neg",
          "pos",
          "neg",
          "pos",
          "neg",
          "neg",
          "pos",
          "pos",
          "neg",
          "neg",
          "neg",
          "pos",
          "pos",
          "pos",
          "neg",
          "pos",
          "neg",
          "pos",
          "neg",
          "pos",
          "pos",
          "neg",
          "neg",
          "neg",
          "neg",
          "pos",
          "neg",
          "pos",
          "pos",
          "neg",
          "neg",
          "neg",
          "pos",
          "neg",
          "pos",
          "neg",
          "pos",
          "neg",
          "pos",
          "neg",
          "pos",
          "neg",
          "neg",
          "pos",
          "pos",
          "pos",
          "pos",
          "pos",
          "pos",
          "neg",
          "neg",
          "pos",
          "pos",
          "pos",
          "neg",
          "neg",
          "neg",
          "neg",
          "neg",
          "neg",
          "neg",
          "neg",
          "pos",
          "neg",
          "pos",
          "neg",
          "neg",
          "pos",
          "pos",
          "neg",
          "neg",
          "neg",
          "neg",
          "neg",
          "neg",
          "neg",
          "pos",
          "pos",
          "pos",
          "neg",
          "pos",
          "neg",
          "pos",
          "neg",
          "pos",
          "neg",
          "neg",
          "neg",
          "neg",
          "neg",
          "neg",
          "neg",
          "neg",
          "neg",
          "neg",
          "neg",
          "pos",
          "pos",
          "neg",
          "neg",
          "neg",
          "neg",
          "pos",
          "pos",
          "neg",
          "pos",
          "neg",
          "neg",
          "neg",
          "neg",
          "pos",
          "neg",
          "pos",
          "neg",
          "neg",
          "neg",
          "neg",
          "neg",
          "neg",
          "neg",
          "neg",
          "pos",
          "pos",
          "neg",
          "pos",
          "neg",
          "neg",
          "pos",
          "neg",
          "neg",
          "pos",
          "neg",
          "neg",
          "pos",
          "neg",
          "neg",
          "pos",
          "pos",
          "neg",
          "pos",
          "pos",
          "pos",
          "pos",
          "pos",
          "neg",
          "pos",
          "pos",
          "pos",
          "pos",
          "neg",
          "neg",
          "neg",
          "pos",
          "neg",
          "neg",
          "neg",
          "neg",
          "neg",
          "neg",
          "neg",
          "neg",
          "neg",
          "neg",
          "neg",
          "pos",
          "neg",
          "pos",
          "pos",
          "pos",
          "neg",
          "pos",
          "neg",
          "pos",
          "neg",
          "neg",
          "pos",
          "pos",
          "neg",
          "pos",
          "pos",
          "pos",
          "pos",
          "pos",
          "neg",
          "neg",
          "neg",
          "neg",
          "neg",
          "neg",
          "neg",
          "neg",
          "neg",
          "neg",
          "neg",
          "pos",
          "neg",
          "pos",
          "pos",
          "neg",
          "pos",
          "pos",
          "pos",
          "neg",
          "neg",
          "neg",
          "neg",
          "neg",
          "pos",
          "neg",
          "neg",
          "neg",
          "neg",
          "neg",
          "neg",
          "neg",
          "neg",
          "neg",
          "neg",
          "neg",
          "neg",
          "neg",
          "neg",
          "neg",
          "neg",
          "neg",
          "neg",
          "pos",
          "neg",
          "neg",
          "neg",
          "neg",
          "neg",
          "neg",
          "neg",
          "neg",
          "neg",
          "neg",
          "neg",
          "neg",
          "neg",
          "pos",
          "pos",
          "neg",
          "pos",
          "pos",
          "neg",
          "pos",
          "neg",
          "neg",
          "pos",
          "pos",
          "pos",
          "pos",
          "pos",
          "pos",
          "neg",
          "neg",
          "neg",
          "pos",
          "neg",
          "neg",
          "pos",
          "neg",
          "pos",
          "neg",
          "neg",
          "pos",
          "pos",
          "neg",
          "pos",
          "neg",
          "pos",
          "pos",
          "pos",
          "pos",
          "pos",
          "neg",
          "neg",
          "pos",
          "pos",
          "pos",
          "neg",
          "pos",
          "pos",
          "neg",
          "pos",
          "pos",
          "pos",
          "neg",
          "pos",
          "neg",
          "pos",
          "pos",
          "pos",
          "pos",
          "pos",
          "neg",
          "pos",
          "pos",
          "pos",
          "neg",
          "neg",
          "pos",
          "pos",
          "pos",
          "pos",
          "pos",
          "pos",
          "pos",
          "pos",
          "neg",
          "pos",
          "pos",
          "pos",
          "pos",
          "pos",
          "pos",
          "neg",
          "pos",
          "pos",
          "pos",
          "neg",
          "pos",
          "neg",
          "pos",
          "neg",
          "pos",
          "pos",
          "pos",
          "neg",
          "pos",
          "pos",
          "pos",
          "neg",
          "pos",
          "neg",
          "neg",
          "neg",
          "pos",
          "pos",
          "neg",
          "neg",
          "neg",
          "neg",
          "neg",
          "neg",
          "pos",
          "pos",
          "pos",
          "neg",
          "neg",
          "neg",
          "neg",
          "pos",
          "neg",
          "pos",
          "neg",
          "neg",
          "neg",
          "neg",
          "pos",
          "pos",
          "pos",
          "neg",
          "pos",
          "neg",
          "neg",
          "neg",
          "neg",
          "neg",
          "neg",
          "neg",
          "pos",
          "pos",
          "neg",
          "neg",
          "pos",
          "neg",
          "neg",
          "neg",
          "neg",
          "neg",
          "neg",
          "neg",
          "neg",
          "pos",
          "neg",
          "pos",
          "neg",
          "neg",
          "neg",
          "neg",
          "pos",
          "neg",
          "neg",
          "neg",
          "neg",
          "pos",
          "pos",
          "pos",
          "neg",
          "neg",
          "pos",
          "pos",
          "neg",
          "neg",
          "pos",
          "neg",
          "pos",
          "neg",
          "neg",
          "neg",
          "neg",
          "neg",
          "pos",
          "pos",
          "pos",
          "neg",
          "pos",
          "pos"
         ],
         "xaxis": "x",
         "y": [
          1,
          1,
          1,
          1,
          1,
          1,
          1,
          1,
          1,
          1,
          1,
          1,
          1,
          1,
          1,
          1,
          1,
          1,
          1,
          1,
          1,
          1,
          1,
          1,
          1,
          1,
          1,
          1,
          1,
          1,
          1,
          1,
          1,
          1,
          1,
          1,
          1,
          1,
          1,
          1,
          1,
          1,
          1,
          1,
          1,
          1,
          1,
          1,
          1,
          1,
          1,
          1,
          1,
          1,
          1,
          1,
          1,
          1,
          1,
          1,
          1,
          1,
          1,
          1,
          1,
          1,
          1,
          1,
          1,
          1,
          1,
          1,
          1,
          1,
          1,
          1,
          1,
          1,
          1,
          1,
          1,
          1,
          1,
          1,
          1,
          1,
          1,
          1,
          1,
          1,
          1,
          1,
          1,
          1,
          1,
          1,
          1,
          1,
          1,
          1,
          1,
          1,
          1,
          1,
          1,
          1,
          1,
          1,
          1,
          1,
          1,
          1,
          1,
          1,
          1,
          1,
          1,
          1,
          1,
          1,
          1,
          1,
          1,
          1,
          1,
          1,
          1,
          1,
          1,
          1,
          1,
          1,
          1,
          1,
          1,
          1,
          1,
          1,
          1,
          1,
          1,
          1,
          1,
          1,
          1,
          1,
          1,
          1,
          1,
          1,
          1,
          1,
          1,
          1,
          1,
          1,
          1,
          1,
          1,
          1,
          1,
          1,
          1,
          1,
          1,
          1,
          1,
          1,
          1,
          1,
          1,
          1,
          1,
          1,
          1,
          1,
          1,
          1,
          1,
          1,
          1,
          1,
          1,
          1,
          1,
          1,
          1,
          1,
          1,
          1,
          1,
          1,
          1,
          1,
          1,
          1,
          1,
          1,
          1,
          1,
          1,
          1,
          1,
          1,
          1,
          1,
          1,
          1,
          1,
          1,
          1,
          1,
          1,
          1,
          1,
          1,
          1,
          1,
          1,
          1,
          1,
          1,
          1,
          1,
          1,
          1,
          1,
          1,
          1,
          1,
          1,
          1,
          1,
          1,
          1,
          1,
          1,
          1,
          1,
          1,
          1,
          1,
          1,
          1,
          1,
          1,
          1,
          1,
          1,
          1,
          1,
          1,
          1,
          1,
          1,
          1,
          1,
          1,
          1,
          1,
          1,
          1,
          1,
          1,
          1,
          1,
          1,
          1,
          1,
          1,
          1,
          1,
          1,
          1,
          1,
          1,
          1,
          1,
          1,
          1,
          1,
          1,
          1,
          1,
          1,
          1,
          1,
          1,
          1,
          1,
          1,
          1,
          1,
          1,
          1,
          1,
          1,
          1,
          1,
          1,
          1,
          1,
          1,
          1,
          1,
          1,
          1,
          1,
          1,
          1,
          1,
          1,
          1,
          1,
          1,
          1,
          1,
          1,
          1,
          1,
          1,
          1,
          1,
          1,
          1,
          1,
          1,
          1,
          1,
          1,
          1,
          1,
          1,
          1,
          1,
          1,
          1,
          1,
          1,
          1,
          1,
          1,
          1,
          1,
          1,
          1,
          1,
          1,
          1,
          1,
          1,
          1,
          1,
          1,
          1,
          1,
          1,
          1,
          1,
          1,
          1,
          1,
          1,
          1,
          1,
          1,
          1,
          1,
          1,
          1,
          1,
          1,
          1,
          1,
          1,
          1,
          1,
          1,
          1,
          1,
          1,
          1,
          1,
          1,
          1,
          1,
          1,
          1,
          1,
          1,
          1,
          1,
          1,
          1,
          1,
          1,
          1,
          1,
          1,
          1,
          1,
          1,
          1,
          1,
          1,
          1,
          1,
          1,
          1,
          1,
          1,
          1,
          1,
          1,
          1,
          1,
          1,
          1,
          1,
          1,
          1,
          1,
          1,
          1,
          1,
          1,
          1,
          1,
          1,
          1,
          1,
          1,
          1,
          1,
          1,
          1,
          1,
          1,
          1,
          1,
          1,
          1,
          1,
          1,
          1,
          1,
          1,
          1,
          1,
          1,
          1,
          1,
          1,
          1,
          1,
          1,
          1,
          1,
          1,
          1,
          1,
          1,
          1,
          1,
          1,
          1,
          1,
          1,
          1,
          1,
          1,
          1,
          1,
          1,
          1,
          1,
          1,
          1,
          1,
          1,
          1,
          1,
          1,
          1,
          1,
          1,
          1,
          1,
          1,
          1,
          1,
          1,
          1,
          1,
          1,
          1,
          1,
          1,
          1,
          1,
          1,
          1,
          1,
          1,
          1,
          1,
          1,
          1,
          1,
          1,
          1,
          1,
          1,
          1,
          1,
          1,
          1,
          1,
          1,
          1,
          1,
          1,
          1,
          1,
          1,
          1,
          1,
          1,
          1,
          1,
          1,
          1,
          1,
          1,
          1,
          1,
          1,
          1,
          1,
          1,
          1,
          1,
          1,
          1,
          1,
          1,
          1,
          1,
          1,
          1,
          1,
          1,
          1,
          1,
          1,
          1,
          1,
          1,
          1,
          1,
          1,
          1,
          1,
          1,
          1,
          1,
          1,
          1,
          1,
          1,
          1,
          1,
          1,
          1,
          1,
          1,
          1,
          1,
          1,
          1,
          1,
          1,
          1,
          1,
          1,
          1,
          1,
          1,
          1,
          1,
          1,
          1,
          1,
          1,
          1,
          1,
          1,
          1,
          1,
          1,
          1,
          1,
          1,
          1,
          1,
          1,
          1,
          1,
          1,
          1,
          1,
          1,
          1,
          1,
          1,
          1,
          1,
          1,
          1,
          1,
          1,
          1,
          1,
          1,
          1,
          1,
          1,
          1,
          1,
          1,
          1,
          1,
          1,
          1,
          1,
          1,
          1,
          1,
          1,
          1,
          1,
          1,
          1,
          1,
          1,
          1,
          1,
          1,
          1,
          1,
          1,
          1,
          1,
          1,
          1,
          1,
          1,
          1,
          1,
          1,
          1,
          1,
          1,
          1,
          1,
          1,
          1,
          1,
          1,
          1,
          1,
          1,
          1,
          1,
          1,
          1,
          1,
          1,
          1,
          1,
          1,
          1,
          1,
          1,
          1,
          1
         ],
         "yaxis": "y"
        },
        {
         "alignmentgroup": "True",
         "hovertemplate": "7_class=%{x}<br>count=%{y}<extra></extra>",
         "legendgroup": "",
         "marker": {
          "color": "#636efa",
          "pattern": {
           "shape": ""
          }
         },
         "name": "",
         "offsetgroup": "",
         "orientation": "v",
         "showlegend": false,
         "textposition": "auto",
         "type": "bar",
         "x": [
          "weakly positive",
          "very negative",
          "Neutral",
          "negative",
          "very negative",
          "negative",
          "weakly negative",
          "negative",
          "negative",
          "positive",
          "very negative",
          "very negative",
          "very negative",
          "weakly negative",
          "weakly positive",
          "weakly negative",
          "weakly positive",
          "very negative",
          "very negative",
          "Neutral",
          "very negative",
          "weakly positive",
          "weakly positive",
          "very negative",
          "negative",
          "weakly negative",
          "negative",
          "very negative",
          "very negative",
          "very negative",
          "negative",
          "very negative",
          "very positive",
          "positive",
          "weakly positive",
          "very positive",
          "very negative",
          "very negative",
          "weakly negative",
          "very positive",
          "weakly negative",
          "Neutral",
          "weakly negative",
          "positive",
          "very positive",
          "weakly negative",
          "very positive",
          "very negative",
          "very positive",
          "weakly positive",
          "very positive",
          "weakly negative",
          "very negative",
          "very negative",
          "weakly negative",
          "very negative",
          "negative",
          "weakly positive",
          "positive",
          "positive",
          "positive",
          "negative",
          "positive",
          "weakly positive",
          "Neutral",
          "weakly positive",
          "weakly negative",
          "positive",
          "weakly negative",
          "weakly negative",
          "weakly negative",
          "positive",
          "weakly negative",
          "Neutral",
          "positive",
          "weakly positive",
          "weakly negative",
          "very positive",
          "Neutral",
          "weakly negative",
          "weakly negative",
          "very positive",
          "weakly positive",
          "positive",
          "positive",
          "positive",
          "positive",
          "weakly negative",
          "very positive",
          "weakly positive",
          "Neutral",
          "weakly negative",
          "Neutral",
          "positive",
          "Neutral",
          "very positive",
          "Neutral",
          "positive",
          "Neutral",
          "very positive",
          "positive",
          "weakly negative",
          "positive",
          "positive",
          "weakly negative",
          "Neutral",
          "Neutral",
          "very negative",
          "very positive",
          "Neutral",
          "positive",
          "positive",
          "weakly positive",
          "weakly positive",
          "very negative",
          "positive",
          "negative",
          "very positive",
          "positive",
          "very positive",
          "very positive",
          "negative",
          "negative",
          "weakly positive",
          "negative",
          "Neutral",
          "very negative",
          "negative",
          "negative",
          "weakly negative",
          "negative",
          "very negative",
          "weakly positive",
          "negative",
          "negative",
          "very negative",
          "very negative",
          "weakly negative",
          "weakly negative",
          "negative",
          "negative",
          "very negative",
          "very negative",
          "very negative",
          "positive",
          "very negative",
          "weakly negative",
          "negative",
          "weakly negative",
          "very negative",
          "negative",
          "negative",
          "very negative",
          "very negative",
          "very negative",
          "negative",
          "very negative",
          "very negative",
          "very negative",
          "very negative",
          "weakly negative",
          "very negative",
          "Neutral",
          "weakly negative",
          "weakly positive",
          "Neutral",
          "weakly negative",
          "Neutral",
          "very negative",
          "negative",
          "weakly negative",
          "weakly positive",
          "weakly negative",
          "negative",
          "weakly positive",
          "weakly positive",
          "negative",
          "Neutral",
          "negative",
          "very negative",
          "Neutral",
          "negative",
          "negative",
          "weakly positive",
          "weakly positive",
          "negative",
          "weakly positive",
          "weakly positive",
          "very negative",
          "negative",
          "weakly negative",
          "weakly negative",
          "very negative",
          "weakly negative",
          "weakly negative",
          "negative",
          "weakly negative",
          "positive",
          "Neutral",
          "negative",
          "positive",
          "negative",
          "weakly negative",
          "weakly positive",
          "positive",
          "very negative",
          "very negative",
          "negative",
          "Neutral",
          "positive",
          "very negative",
          "weakly negative",
          "negative",
          "weakly negative",
          "negative",
          "weakly negative",
          "very negative",
          "weakly negative",
          "weakly positive",
          "Neutral",
          "negative",
          "weakly negative",
          "weakly positive",
          "positive",
          "weakly negative",
          "weakly negative",
          "Neutral",
          "weakly positive",
          "Neutral",
          "weakly negative",
          "Neutral",
          "weakly positive",
          "Neutral",
          "Neutral",
          "weakly negative",
          "positive",
          "Neutral",
          "Neutral",
          "very negative",
          "Neutral",
          "weakly negative",
          "positive",
          "weakly positive",
          "very negative",
          "weakly positive",
          "Neutral",
          "very negative",
          "Neutral",
          "positive",
          "positive",
          "weakly positive",
          "negative",
          "Neutral",
          "weakly positive",
          "very negative",
          "weakly negative",
          "Neutral",
          "negative",
          "negative",
          "weakly positive",
          "very positive",
          "very positive",
          "Neutral",
          "weakly negative",
          "negative",
          "weakly negative",
          "weakly negative",
          "Neutral",
          "weakly negative",
          "positive",
          "very negative",
          "weakly negative",
          "weakly positive",
          "weakly positive",
          "weakly negative",
          "negative",
          "weakly negative",
          "positive",
          "weakly positive",
          "very positive",
          "negative",
          "Neutral",
          "Neutral",
          "positive",
          "Neutral",
          "very positive",
          "very positive",
          "Neutral",
          "negative",
          "weakly negative",
          "weakly negative",
          "Neutral",
          "very negative",
          "positive",
          "weakly positive",
          "negative",
          "weakly negative",
          "negative",
          "weakly positive",
          "negative",
          "weakly positive",
          "negative",
          "positive",
          "very negative",
          "weakly positive",
          "very negative",
          "very positive",
          "negative",
          "negative",
          "positive",
          "positive",
          "weakly positive",
          "Neutral",
          "weakly positive",
          "Neutral",
          "very negative",
          "very negative",
          "weakly positive",
          "weakly positive",
          "weakly positive",
          "very negative",
          "very negative",
          "negative",
          "very negative",
          "weakly negative",
          "weakly negative",
          "weakly negative",
          "negative",
          "Neutral",
          "weakly negative",
          "Neutral",
          "Neutral",
          "weakly negative",
          "Neutral",
          "positive",
          "very negative",
          "weakly negative",
          "very negative",
          "negative",
          "very negative",
          "negative",
          "Neutral",
          "very positive",
          "Neutral",
          "weakly positive",
          "negative",
          "positive",
          "very negative",
          "very positive",
          "Neutral",
          "positive",
          "negative",
          "very negative",
          "negative",
          "negative",
          "weakly negative",
          "negative",
          "weakly negative",
          "very negative",
          "negative",
          "very negative",
          "negative",
          "weakly positive",
          "weakly positive",
          "very negative",
          "very negative",
          "very negative",
          "Neutral",
          "positive",
          "very positive",
          "Neutral",
          "positive",
          "Neutral",
          "Neutral",
          "very negative",
          "weakly negative",
          "weakly positive",
          "negative",
          "weakly positive",
          "negative",
          "very negative",
          "negative",
          "weakly negative",
          "negative",
          "negative",
          "negative",
          "very negative",
          "weakly positive",
          "weakly positive",
          "negative",
          "weakly positive",
          "negative",
          "weakly negative",
          "Neutral",
          "negative",
          "Neutral",
          "weakly positive",
          "very negative",
          "weakly negative",
          "weakly positive",
          "negative",
          "negative",
          "positive",
          "very positive",
          "weakly negative",
          "weakly positive",
          "positive",
          "weakly positive",
          "positive",
          "weakly positive",
          "weakly negative",
          "positive",
          "weakly positive",
          "positive",
          "Neutral",
          "negative",
          "very negative",
          "very negative",
          "positive",
          "negative",
          "weakly negative",
          "negative",
          "negative",
          "Neutral",
          "weakly negative",
          "negative",
          "negative",
          "negative",
          "negative",
          "weakly negative",
          "weakly positive",
          "negative",
          "positive",
          "positive",
          "weakly positive",
          "negative",
          "weakly positive",
          "negative",
          "very positive",
          "negative",
          "weakly negative",
          "positive",
          "weakly positive",
          "negative",
          "positive",
          "weakly positive",
          "very positive",
          "positive",
          "weakly positive",
          "weakly negative",
          "very negative",
          "very negative",
          "negative",
          "very negative",
          "very negative",
          "weakly negative",
          "negative",
          "weakly negative",
          "negative",
          "very negative",
          "very positive",
          "negative",
          "positive",
          "weakly positive",
          "very negative",
          "very positive",
          "Neutral",
          "very positive",
          "negative",
          "weakly negative",
          "very negative",
          "very negative",
          "very negative",
          "very positive",
          "Neutral",
          "negative",
          "negative",
          "negative",
          "very negative",
          "negative",
          "negative",
          "very negative",
          "Neutral",
          "negative",
          "weakly negative",
          "negative",
          "negative",
          "very negative",
          "very negative",
          "Neutral",
          "weakly negative",
          "negative",
          "Neutral",
          "negative",
          "weakly negative",
          "negative",
          "Neutral",
          "very negative",
          "negative",
          "negative",
          "negative",
          "Neutral",
          "negative",
          "very negative",
          "negative",
          "negative",
          "positive",
          "positive",
          "very negative",
          "weakly positive",
          "weakly positive",
          "weakly negative",
          "positive",
          "weakly negative",
          "negative",
          "very positive",
          "positive",
          "positive",
          "positive",
          "weakly positive",
          "Neutral",
          "Neutral",
          "weakly negative",
          "negative",
          "weakly positive",
          "Neutral",
          "negative",
          "very positive",
          "Neutral",
          "positive",
          "negative",
          "weakly negative",
          "very positive",
          "very positive",
          "very negative",
          "Neutral",
          "weakly negative",
          "positive",
          "positive",
          "positive",
          "very positive",
          "positive",
          "Neutral",
          "Neutral",
          "Neutral",
          "very positive",
          "Neutral",
          "very negative",
          "positive",
          "weakly positive",
          "weakly negative",
          "very positive",
          "very positive",
          "positive",
          "negative",
          "very positive",
          "negative",
          "positive",
          "weakly positive",
          "very positive",
          "weakly positive",
          "positive",
          "Neutral",
          "positive",
          "very positive",
          "weakly positive",
          "Neutral",
          "Neutral",
          "positive",
          "weakly positive",
          "positive",
          "very positive",
          "very positive",
          "positive",
          "Neutral",
          "weakly positive",
          "Neutral",
          "positive",
          "positive",
          "positive",
          "very positive",
          "weakly positive",
          "positive",
          "weakly negative",
          "positive",
          "positive",
          "weakly positive",
          "weakly negative",
          "Neutral",
          "weakly negative",
          "positive",
          "Neutral",
          "positive",
          "Neutral",
          "positive",
          "weakly negative",
          "weakly positive",
          "positive",
          "weakly positive",
          "weakly negative",
          "positive",
          "negative",
          "Neutral",
          "negative",
          "positive",
          "weakly positive",
          "Neutral",
          "Neutral",
          "weakly negative",
          "weakly negative",
          "weakly negative",
          "negative",
          "Neutral",
          "Neutral",
          "very positive",
          "negative",
          "negative",
          "negative",
          "Neutral",
          "weakly positive",
          "negative",
          "weakly positive",
          "weakly negative",
          "Neutral",
          "negative",
          "weakly negative",
          "Neutral",
          "positive",
          "weakly positive",
          "negative",
          "very positive",
          "weakly negative",
          "Neutral",
          "weakly negative",
          "negative",
          "negative",
          "weakly negative",
          "negative",
          "positive",
          "Neutral",
          "weakly negative",
          "negative",
          "weakly positive",
          "negative",
          "negative",
          "very negative",
          "negative",
          "very negative",
          "negative",
          "negative",
          "negative",
          "positive",
          "weakly negative",
          "positive",
          "weakly negative",
          "weakly negative",
          "weakly negative",
          "negative",
          "weakly positive",
          "weakly negative",
          "negative",
          "negative",
          "very negative",
          "positive",
          "weakly positive",
          "weakly positive",
          "negative",
          "negative",
          "weakly positive",
          "weakly positive",
          "negative",
          "weakly negative",
          "weakly positive",
          "weakly negative",
          "weakly positive",
          "Neutral",
          "weakly negative",
          "weakly negative",
          "negative",
          "Neutral",
          "weakly positive",
          "positive",
          "weakly positive",
          "Neutral",
          "weakly positive",
          "weakly positive"
         ],
         "xaxis": "x2",
         "y": [
          1,
          1,
          1,
          1,
          1,
          1,
          1,
          1,
          1,
          1,
          1,
          1,
          1,
          1,
          1,
          1,
          1,
          1,
          1,
          1,
          1,
          1,
          1,
          1,
          1,
          1,
          1,
          1,
          1,
          1,
          1,
          1,
          1,
          1,
          1,
          1,
          1,
          1,
          1,
          1,
          1,
          1,
          1,
          1,
          1,
          1,
          1,
          1,
          1,
          1,
          1,
          1,
          1,
          1,
          1,
          1,
          1,
          1,
          1,
          1,
          1,
          1,
          1,
          1,
          1,
          1,
          1,
          1,
          1,
          1,
          1,
          1,
          1,
          1,
          1,
          1,
          1,
          1,
          1,
          1,
          1,
          1,
          1,
          1,
          1,
          1,
          1,
          1,
          1,
          1,
          1,
          1,
          1,
          1,
          1,
          1,
          1,
          1,
          1,
          1,
          1,
          1,
          1,
          1,
          1,
          1,
          1,
          1,
          1,
          1,
          1,
          1,
          1,
          1,
          1,
          1,
          1,
          1,
          1,
          1,
          1,
          1,
          1,
          1,
          1,
          1,
          1,
          1,
          1,
          1,
          1,
          1,
          1,
          1,
          1,
          1,
          1,
          1,
          1,
          1,
          1,
          1,
          1,
          1,
          1,
          1,
          1,
          1,
          1,
          1,
          1,
          1,
          1,
          1,
          1,
          1,
          1,
          1,
          1,
          1,
          1,
          1,
          1,
          1,
          1,
          1,
          1,
          1,
          1,
          1,
          1,
          1,
          1,
          1,
          1,
          1,
          1,
          1,
          1,
          1,
          1,
          1,
          1,
          1,
          1,
          1,
          1,
          1,
          1,
          1,
          1,
          1,
          1,
          1,
          1,
          1,
          1,
          1,
          1,
          1,
          1,
          1,
          1,
          1,
          1,
          1,
          1,
          1,
          1,
          1,
          1,
          1,
          1,
          1,
          1,
          1,
          1,
          1,
          1,
          1,
          1,
          1,
          1,
          1,
          1,
          1,
          1,
          1,
          1,
          1,
          1,
          1,
          1,
          1,
          1,
          1,
          1,
          1,
          1,
          1,
          1,
          1,
          1,
          1,
          1,
          1,
          1,
          1,
          1,
          1,
          1,
          1,
          1,
          1,
          1,
          1,
          1,
          1,
          1,
          1,
          1,
          1,
          1,
          1,
          1,
          1,
          1,
          1,
          1,
          1,
          1,
          1,
          1,
          1,
          1,
          1,
          1,
          1,
          1,
          1,
          1,
          1,
          1,
          1,
          1,
          1,
          1,
          1,
          1,
          1,
          1,
          1,
          1,
          1,
          1,
          1,
          1,
          1,
          1,
          1,
          1,
          1,
          1,
          1,
          1,
          1,
          1,
          1,
          1,
          1,
          1,
          1,
          1,
          1,
          1,
          1,
          1,
          1,
          1,
          1,
          1,
          1,
          1,
          1,
          1,
          1,
          1,
          1,
          1,
          1,
          1,
          1,
          1,
          1,
          1,
          1,
          1,
          1,
          1,
          1,
          1,
          1,
          1,
          1,
          1,
          1,
          1,
          1,
          1,
          1,
          1,
          1,
          1,
          1,
          1,
          1,
          1,
          1,
          1,
          1,
          1,
          1,
          1,
          1,
          1,
          1,
          1,
          1,
          1,
          1,
          1,
          1,
          1,
          1,
          1,
          1,
          1,
          1,
          1,
          1,
          1,
          1,
          1,
          1,
          1,
          1,
          1,
          1,
          1,
          1,
          1,
          1,
          1,
          1,
          1,
          1,
          1,
          1,
          1,
          1,
          1,
          1,
          1,
          1,
          1,
          1,
          1,
          1,
          1,
          1,
          1,
          1,
          1,
          1,
          1,
          1,
          1,
          1,
          1,
          1,
          1,
          1,
          1,
          1,
          1,
          1,
          1,
          1,
          1,
          1,
          1,
          1,
          1,
          1,
          1,
          1,
          1,
          1,
          1,
          1,
          1,
          1,
          1,
          1,
          1,
          1,
          1,
          1,
          1,
          1,
          1,
          1,
          1,
          1,
          1,
          1,
          1,
          1,
          1,
          1,
          1,
          1,
          1,
          1,
          1,
          1,
          1,
          1,
          1,
          1,
          1,
          1,
          1,
          1,
          1,
          1,
          1,
          1,
          1,
          1,
          1,
          1,
          1,
          1,
          1,
          1,
          1,
          1,
          1,
          1,
          1,
          1,
          1,
          1,
          1,
          1,
          1,
          1,
          1,
          1,
          1,
          1,
          1,
          1,
          1,
          1,
          1,
          1,
          1,
          1,
          1,
          1,
          1,
          1,
          1,
          1,
          1,
          1,
          1,
          1,
          1,
          1,
          1,
          1,
          1,
          1,
          1,
          1,
          1,
          1,
          1,
          1,
          1,
          1,
          1,
          1,
          1,
          1,
          1,
          1,
          1,
          1,
          1,
          1,
          1,
          1,
          1,
          1,
          1,
          1,
          1,
          1,
          1,
          1,
          1,
          1,
          1,
          1,
          1,
          1,
          1,
          1,
          1,
          1,
          1,
          1,
          1,
          1,
          1,
          1,
          1,
          1,
          1,
          1,
          1,
          1,
          1,
          1,
          1,
          1,
          1,
          1,
          1,
          1,
          1,
          1,
          1,
          1,
          1,
          1,
          1,
          1,
          1,
          1,
          1,
          1,
          1,
          1,
          1,
          1,
          1,
          1,
          1,
          1,
          1,
          1,
          1,
          1,
          1,
          1,
          1,
          1,
          1,
          1,
          1,
          1,
          1,
          1,
          1,
          1,
          1,
          1,
          1,
          1,
          1,
          1,
          1,
          1,
          1,
          1,
          1,
          1,
          1,
          1,
          1,
          1,
          1,
          1,
          1,
          1,
          1,
          1,
          1,
          1,
          1,
          1,
          1,
          1,
          1,
          1,
          1,
          1,
          1,
          1,
          1,
          1,
          1,
          1,
          1,
          1,
          1,
          1,
          1,
          1,
          1,
          1,
          1,
          1,
          1,
          1,
          1,
          1,
          1,
          1,
          1,
          1,
          1,
          1,
          1,
          1,
          1,
          1,
          1,
          1,
          1,
          1
         ],
         "yaxis": "y2"
        }
       ],
       "layout": {
        "annotations": [
         {
          "font": {
           "size": 16
          },
          "showarrow": false,
          "text": "Binary",
          "x": 0.225,
          "xanchor": "center",
          "xref": "paper",
          "y": 1,
          "yanchor": "bottom",
          "yref": "paper"
         },
         {
          "font": {
           "size": 16
          },
          "showarrow": false,
          "text": "7-class",
          "x": 0.775,
          "xanchor": "center",
          "xref": "paper",
          "y": 1,
          "yanchor": "bottom",
          "yref": "paper"
         }
        ],
        "height": 500,
        "template": {
         "data": {
          "bar": [
           {
            "error_x": {
             "color": "#2a3f5f"
            },
            "error_y": {
             "color": "#2a3f5f"
            },
            "marker": {
             "line": {
              "color": "#E5ECF6",
              "width": 0.5
             },
             "pattern": {
              "fillmode": "overlay",
              "size": 10,
              "solidity": 0.2
             }
            },
            "type": "bar"
           }
          ],
          "barpolar": [
           {
            "marker": {
             "line": {
              "color": "#E5ECF6",
              "width": 0.5
             },
             "pattern": {
              "fillmode": "overlay",
              "size": 10,
              "solidity": 0.2
             }
            },
            "type": "barpolar"
           }
          ],
          "carpet": [
           {
            "aaxis": {
             "endlinecolor": "#2a3f5f",
             "gridcolor": "white",
             "linecolor": "white",
             "minorgridcolor": "white",
             "startlinecolor": "#2a3f5f"
            },
            "baxis": {
             "endlinecolor": "#2a3f5f",
             "gridcolor": "white",
             "linecolor": "white",
             "minorgridcolor": "white",
             "startlinecolor": "#2a3f5f"
            },
            "type": "carpet"
           }
          ],
          "choropleth": [
           {
            "colorbar": {
             "outlinewidth": 0,
             "ticks": ""
            },
            "type": "choropleth"
           }
          ],
          "contour": [
           {
            "colorbar": {
             "outlinewidth": 0,
             "ticks": ""
            },
            "colorscale": [
             [
              0,
              "#0d0887"
             ],
             [
              0.1111111111111111,
              "#46039f"
             ],
             [
              0.2222222222222222,
              "#7201a8"
             ],
             [
              0.3333333333333333,
              "#9c179e"
             ],
             [
              0.4444444444444444,
              "#bd3786"
             ],
             [
              0.5555555555555556,
              "#d8576b"
             ],
             [
              0.6666666666666666,
              "#ed7953"
             ],
             [
              0.7777777777777778,
              "#fb9f3a"
             ],
             [
              0.8888888888888888,
              "#fdca26"
             ],
             [
              1,
              "#f0f921"
             ]
            ],
            "type": "contour"
           }
          ],
          "contourcarpet": [
           {
            "colorbar": {
             "outlinewidth": 0,
             "ticks": ""
            },
            "type": "contourcarpet"
           }
          ],
          "heatmap": [
           {
            "colorbar": {
             "outlinewidth": 0,
             "ticks": ""
            },
            "colorscale": [
             [
              0,
              "#0d0887"
             ],
             [
              0.1111111111111111,
              "#46039f"
             ],
             [
              0.2222222222222222,
              "#7201a8"
             ],
             [
              0.3333333333333333,
              "#9c179e"
             ],
             [
              0.4444444444444444,
              "#bd3786"
             ],
             [
              0.5555555555555556,
              "#d8576b"
             ],
             [
              0.6666666666666666,
              "#ed7953"
             ],
             [
              0.7777777777777778,
              "#fb9f3a"
             ],
             [
              0.8888888888888888,
              "#fdca26"
             ],
             [
              1,
              "#f0f921"
             ]
            ],
            "type": "heatmap"
           }
          ],
          "heatmapgl": [
           {
            "colorbar": {
             "outlinewidth": 0,
             "ticks": ""
            },
            "colorscale": [
             [
              0,
              "#0d0887"
             ],
             [
              0.1111111111111111,
              "#46039f"
             ],
             [
              0.2222222222222222,
              "#7201a8"
             ],
             [
              0.3333333333333333,
              "#9c179e"
             ],
             [
              0.4444444444444444,
              "#bd3786"
             ],
             [
              0.5555555555555556,
              "#d8576b"
             ],
             [
              0.6666666666666666,
              "#ed7953"
             ],
             [
              0.7777777777777778,
              "#fb9f3a"
             ],
             [
              0.8888888888888888,
              "#fdca26"
             ],
             [
              1,
              "#f0f921"
             ]
            ],
            "type": "heatmapgl"
           }
          ],
          "histogram": [
           {
            "marker": {
             "pattern": {
              "fillmode": "overlay",
              "size": 10,
              "solidity": 0.2
             }
            },
            "type": "histogram"
           }
          ],
          "histogram2d": [
           {
            "colorbar": {
             "outlinewidth": 0,
             "ticks": ""
            },
            "colorscale": [
             [
              0,
              "#0d0887"
             ],
             [
              0.1111111111111111,
              "#46039f"
             ],
             [
              0.2222222222222222,
              "#7201a8"
             ],
             [
              0.3333333333333333,
              "#9c179e"
             ],
             [
              0.4444444444444444,
              "#bd3786"
             ],
             [
              0.5555555555555556,
              "#d8576b"
             ],
             [
              0.6666666666666666,
              "#ed7953"
             ],
             [
              0.7777777777777778,
              "#fb9f3a"
             ],
             [
              0.8888888888888888,
              "#fdca26"
             ],
             [
              1,
              "#f0f921"
             ]
            ],
            "type": "histogram2d"
           }
          ],
          "histogram2dcontour": [
           {
            "colorbar": {
             "outlinewidth": 0,
             "ticks": ""
            },
            "colorscale": [
             [
              0,
              "#0d0887"
             ],
             [
              0.1111111111111111,
              "#46039f"
             ],
             [
              0.2222222222222222,
              "#7201a8"
             ],
             [
              0.3333333333333333,
              "#9c179e"
             ],
             [
              0.4444444444444444,
              "#bd3786"
             ],
             [
              0.5555555555555556,
              "#d8576b"
             ],
             [
              0.6666666666666666,
              "#ed7953"
             ],
             [
              0.7777777777777778,
              "#fb9f3a"
             ],
             [
              0.8888888888888888,
              "#fdca26"
             ],
             [
              1,
              "#f0f921"
             ]
            ],
            "type": "histogram2dcontour"
           }
          ],
          "mesh3d": [
           {
            "colorbar": {
             "outlinewidth": 0,
             "ticks": ""
            },
            "type": "mesh3d"
           }
          ],
          "parcoords": [
           {
            "line": {
             "colorbar": {
              "outlinewidth": 0,
              "ticks": ""
             }
            },
            "type": "parcoords"
           }
          ],
          "pie": [
           {
            "automargin": true,
            "type": "pie"
           }
          ],
          "scatter": [
           {
            "fillpattern": {
             "fillmode": "overlay",
             "size": 10,
             "solidity": 0.2
            },
            "type": "scatter"
           }
          ],
          "scatter3d": [
           {
            "line": {
             "colorbar": {
              "outlinewidth": 0,
              "ticks": ""
             }
            },
            "marker": {
             "colorbar": {
              "outlinewidth": 0,
              "ticks": ""
             }
            },
            "type": "scatter3d"
           }
          ],
          "scattercarpet": [
           {
            "marker": {
             "colorbar": {
              "outlinewidth": 0,
              "ticks": ""
             }
            },
            "type": "scattercarpet"
           }
          ],
          "scattergeo": [
           {
            "marker": {
             "colorbar": {
              "outlinewidth": 0,
              "ticks": ""
             }
            },
            "type": "scattergeo"
           }
          ],
          "scattergl": [
           {
            "marker": {
             "colorbar": {
              "outlinewidth": 0,
              "ticks": ""
             }
            },
            "type": "scattergl"
           }
          ],
          "scattermapbox": [
           {
            "marker": {
             "colorbar": {
              "outlinewidth": 0,
              "ticks": ""
             }
            },
            "type": "scattermapbox"
           }
          ],
          "scatterpolar": [
           {
            "marker": {
             "colorbar": {
              "outlinewidth": 0,
              "ticks": ""
             }
            },
            "type": "scatterpolar"
           }
          ],
          "scatterpolargl": [
           {
            "marker": {
             "colorbar": {
              "outlinewidth": 0,
              "ticks": ""
             }
            },
            "type": "scatterpolargl"
           }
          ],
          "scatterternary": [
           {
            "marker": {
             "colorbar": {
              "outlinewidth": 0,
              "ticks": ""
             }
            },
            "type": "scatterternary"
           }
          ],
          "surface": [
           {
            "colorbar": {
             "outlinewidth": 0,
             "ticks": ""
            },
            "colorscale": [
             [
              0,
              "#0d0887"
             ],
             [
              0.1111111111111111,
              "#46039f"
             ],
             [
              0.2222222222222222,
              "#7201a8"
             ],
             [
              0.3333333333333333,
              "#9c179e"
             ],
             [
              0.4444444444444444,
              "#bd3786"
             ],
             [
              0.5555555555555556,
              "#d8576b"
             ],
             [
              0.6666666666666666,
              "#ed7953"
             ],
             [
              0.7777777777777778,
              "#fb9f3a"
             ],
             [
              0.8888888888888888,
              "#fdca26"
             ],
             [
              1,
              "#f0f921"
             ]
            ],
            "type": "surface"
           }
          ],
          "table": [
           {
            "cells": {
             "fill": {
              "color": "#EBF0F8"
             },
             "line": {
              "color": "white"
             }
            },
            "header": {
             "fill": {
              "color": "#C8D4E3"
             },
             "line": {
              "color": "white"
             }
            },
            "type": "table"
           }
          ]
         },
         "layout": {
          "annotationdefaults": {
           "arrowcolor": "#2a3f5f",
           "arrowhead": 0,
           "arrowwidth": 1
          },
          "autotypenumbers": "strict",
          "coloraxis": {
           "colorbar": {
            "outlinewidth": 0,
            "ticks": ""
           }
          },
          "colorscale": {
           "diverging": [
            [
             0,
             "#8e0152"
            ],
            [
             0.1,
             "#c51b7d"
            ],
            [
             0.2,
             "#de77ae"
            ],
            [
             0.3,
             "#f1b6da"
            ],
            [
             0.4,
             "#fde0ef"
            ],
            [
             0.5,
             "#f7f7f7"
            ],
            [
             0.6,
             "#e6f5d0"
            ],
            [
             0.7,
             "#b8e186"
            ],
            [
             0.8,
             "#7fbc41"
            ],
            [
             0.9,
             "#4d9221"
            ],
            [
             1,
             "#276419"
            ]
           ],
           "sequential": [
            [
             0,
             "#0d0887"
            ],
            [
             0.1111111111111111,
             "#46039f"
            ],
            [
             0.2222222222222222,
             "#7201a8"
            ],
            [
             0.3333333333333333,
             "#9c179e"
            ],
            [
             0.4444444444444444,
             "#bd3786"
            ],
            [
             0.5555555555555556,
             "#d8576b"
            ],
            [
             0.6666666666666666,
             "#ed7953"
            ],
            [
             0.7777777777777778,
             "#fb9f3a"
            ],
            [
             0.8888888888888888,
             "#fdca26"
            ],
            [
             1,
             "#f0f921"
            ]
           ],
           "sequentialminus": [
            [
             0,
             "#0d0887"
            ],
            [
             0.1111111111111111,
             "#46039f"
            ],
            [
             0.2222222222222222,
             "#7201a8"
            ],
            [
             0.3333333333333333,
             "#9c179e"
            ],
            [
             0.4444444444444444,
             "#bd3786"
            ],
            [
             0.5555555555555556,
             "#d8576b"
            ],
            [
             0.6666666666666666,
             "#ed7953"
            ],
            [
             0.7777777777777778,
             "#fb9f3a"
            ],
            [
             0.8888888888888888,
             "#fdca26"
            ],
            [
             1,
             "#f0f921"
            ]
           ]
          },
          "colorway": [
           "#636efa",
           "#EF553B",
           "#00cc96",
           "#ab63fa",
           "#FFA15A",
           "#19d3f3",
           "#FF6692",
           "#B6E880",
           "#FF97FF",
           "#FECB52"
          ],
          "font": {
           "color": "#2a3f5f"
          },
          "geo": {
           "bgcolor": "white",
           "lakecolor": "white",
           "landcolor": "#E5ECF6",
           "showlakes": true,
           "showland": true,
           "subunitcolor": "white"
          },
          "hoverlabel": {
           "align": "left"
          },
          "hovermode": "closest",
          "mapbox": {
           "style": "light"
          },
          "paper_bgcolor": "white",
          "plot_bgcolor": "#E5ECF6",
          "polar": {
           "angularaxis": {
            "gridcolor": "white",
            "linecolor": "white",
            "ticks": ""
           },
           "bgcolor": "#E5ECF6",
           "radialaxis": {
            "gridcolor": "white",
            "linecolor": "white",
            "ticks": ""
           }
          },
          "scene": {
           "xaxis": {
            "backgroundcolor": "#E5ECF6",
            "gridcolor": "white",
            "gridwidth": 2,
            "linecolor": "white",
            "showbackground": true,
            "ticks": "",
            "zerolinecolor": "white"
           },
           "yaxis": {
            "backgroundcolor": "#E5ECF6",
            "gridcolor": "white",
            "gridwidth": 2,
            "linecolor": "white",
            "showbackground": true,
            "ticks": "",
            "zerolinecolor": "white"
           },
           "zaxis": {
            "backgroundcolor": "#E5ECF6",
            "gridcolor": "white",
            "gridwidth": 2,
            "linecolor": "white",
            "showbackground": true,
            "ticks": "",
            "zerolinecolor": "white"
           }
          },
          "shapedefaults": {
           "line": {
            "color": "#2a3f5f"
           }
          },
          "ternary": {
           "aaxis": {
            "gridcolor": "white",
            "linecolor": "white",
            "ticks": ""
           },
           "baxis": {
            "gridcolor": "white",
            "linecolor": "white",
            "ticks": ""
           },
           "bgcolor": "#E5ECF6",
           "caxis": {
            "gridcolor": "white",
            "linecolor": "white",
            "ticks": ""
           }
          },
          "title": {
           "x": 0.05
          },
          "xaxis": {
           "automargin": true,
           "gridcolor": "white",
           "linecolor": "white",
           "ticks": "",
           "title": {
            "standoff": 15
           },
           "zerolinecolor": "white",
           "zerolinewidth": 2
          },
          "yaxis": {
           "automargin": true,
           "gridcolor": "white",
           "linecolor": "white",
           "ticks": "",
           "title": {
            "standoff": 15
           },
           "zerolinecolor": "white",
           "zerolinewidth": 2
          }
         }
        },
        "title": {
         "text": "Ground-truth distribution"
        },
        "width": 1200,
        "xaxis": {
         "anchor": "y",
         "categoryarray": [
          "very negative",
          "negative",
          "weakly negative",
          "Neutral",
          "weakly positive",
          "positive",
          "very positive"
         ],
         "categoryorder": "array",
         "domain": [
          0,
          0.45
         ]
        },
        "xaxis2": {
         "anchor": "y2",
         "categoryarray": [
          "very negative",
          "negative",
          "weakly negative",
          "Neutral",
          "weakly positive",
          "positive",
          "very positive"
         ],
         "categoryorder": "array",
         "domain": [
          0.55,
          1
         ]
        },
        "yaxis": {
         "anchor": "x",
         "domain": [
          0,
          1
         ]
        },
        "yaxis2": {
         "anchor": "x2",
         "domain": [
          0,
          1
         ]
        }
       }
      },
      "text/html": [
       "<div>                            <div id=\"6c4ea20c-7412-4470-9ca4-74c340e5f3c2\" class=\"plotly-graph-div\" style=\"height:500px; width:1200px;\"></div>            <script type=\"text/javascript\">                require([\"plotly\"], function(Plotly) {                    window.PLOTLYENV=window.PLOTLYENV || {};                                    if (document.getElementById(\"6c4ea20c-7412-4470-9ca4-74c340e5f3c2\")) {                    Plotly.newPlot(                        \"6c4ea20c-7412-4470-9ca4-74c340e5f3c2\",                        [{\"alignmentgroup\":\"True\",\"hovertemplate\":\"binary=%{x}<br>count=%{y}<extra></extra>\",\"legendgroup\":\"\",\"marker\":{\"color\":\"#636efa\",\"pattern\":{\"shape\":\"\"}},\"name\":\"\",\"offsetgroup\":\"\",\"orientation\":\"v\",\"showlegend\":false,\"textposition\":\"auto\",\"x\":[\"pos\",\"neg\",\"neg\",\"neg\",\"neg\",\"neg\",\"neg\",\"neg\",\"neg\",\"pos\",\"neg\",\"neg\",\"neg\",\"neg\",\"pos\",\"neg\",\"pos\",\"neg\",\"neg\",\"neg\",\"neg\",\"pos\",\"pos\",\"neg\",\"neg\",\"neg\",\"neg\",\"neg\",\"neg\",\"neg\",\"neg\",\"neg\",\"pos\",\"pos\",\"pos\",\"pos\",\"neg\",\"neg\",\"neg\",\"pos\",\"neg\",\"neg\",\"neg\",\"pos\",\"pos\",\"neg\",\"pos\",\"neg\",\"pos\",\"pos\",\"pos\",\"neg\",\"neg\",\"neg\",\"neg\",\"neg\",\"neg\",\"pos\",\"pos\",\"pos\",\"pos\",\"neg\",\"pos\",\"pos\",\"pos\",\"pos\",\"neg\",\"pos\",\"neg\",\"neg\",\"neg\",\"pos\",\"neg\",\"neg\",\"pos\",\"pos\",\"neg\",\"pos\",\"neg\",\"neg\",\"neg\",\"pos\",\"pos\",\"pos\",\"pos\",\"pos\",\"pos\",\"neg\",\"pos\",\"pos\",\"pos\",\"neg\",\"neg\",\"pos\",\"pos\",\"pos\",\"pos\",\"pos\",\"pos\",\"pos\",\"pos\",\"neg\",\"pos\",\"pos\",\"neg\",\"pos\",\"pos\",\"neg\",\"pos\",\"pos\",\"pos\",\"pos\",\"pos\",\"pos\",\"neg\",\"pos\",\"neg\",\"pos\",\"pos\",\"pos\",\"pos\",\"neg\",\"neg\",\"pos\",\"neg\",\"neg\",\"neg\",\"neg\",\"neg\",\"neg\",\"neg\",\"neg\",\"pos\",\"neg\",\"neg\",\"neg\",\"neg\",\"neg\",\"neg\",\"neg\",\"neg\",\"neg\",\"neg\",\"neg\",\"pos\",\"neg\",\"neg\",\"neg\",\"neg\",\"neg\",\"neg\",\"neg\",\"neg\",\"neg\",\"neg\",\"neg\",\"neg\",\"neg\",\"neg\",\"neg\",\"neg\",\"neg\",\"pos\",\"neg\",\"pos\",\"neg\",\"neg\",\"neg\",\"neg\",\"neg\",\"neg\",\"pos\",\"neg\",\"neg\",\"pos\",\"pos\",\"neg\",\"neg\",\"neg\",\"neg\",\"pos\",\"neg\",\"neg\",\"pos\",\"pos\",\"neg\",\"pos\",\"pos\",\"neg\",\"neg\",\"neg\",\"neg\",\"neg\",\"neg\",\"neg\",\"neg\",\"neg\",\"pos\",\"neg\",\"neg\",\"pos\",\"neg\",\"neg\",\"pos\",\"pos\",\"neg\",\"neg\",\"neg\",\"neg\",\"pos\",\"neg\",\"neg\",\"neg\",\"neg\",\"neg\",\"neg\",\"neg\",\"neg\",\"pos\",\"pos\",\"neg\",\"neg\",\"pos\",\"pos\",\"neg\",\"neg\",\"neg\",\"pos\",\"neg\",\"neg\",\"neg\",\"pos\",\"neg\",\"pos\",\"neg\",\"pos\",\"neg\",\"neg\",\"neg\",\"neg\",\"neg\",\"pos\",\"pos\",\"neg\",\"pos\",\"neg\",\"neg\",\"neg\",\"pos\",\"pos\",\"pos\",\"neg\",\"pos\",\"pos\",\"neg\",\"neg\",\"neg\",\"neg\",\"neg\",\"pos\",\"pos\",\"pos\",\"neg\",\"neg\",\"neg\",\"neg\",\"neg\",\"pos\",\"neg\",\"pos\",\"neg\",\"neg\",\"pos\",\"pos\",\"neg\",\"neg\",\"neg\",\"pos\",\"pos\",\"pos\",\"neg\",\"pos\",\"neg\",\"pos\",\"neg\",\"pos\",\"pos\",\"neg\",\"neg\",\"neg\",\"neg\",\"pos\",\"neg\",\"pos\",\"pos\",\"neg\",\"neg\",\"neg\",\"pos\",\"neg\",\"pos\",\"neg\",\"pos\",\"neg\",\"pos\",\"neg\",\"pos\",\"neg\",\"neg\",\"pos\",\"pos\",\"pos\",\"pos\",\"pos\",\"pos\",\"neg\",\"neg\",\"pos\",\"pos\",\"pos\",\"neg\",\"neg\",\"neg\",\"neg\",\"neg\",\"neg\",\"neg\",\"neg\",\"pos\",\"neg\",\"pos\",\"neg\",\"neg\",\"pos\",\"pos\",\"neg\",\"neg\",\"neg\",\"neg\",\"neg\",\"neg\",\"neg\",\"pos\",\"pos\",\"pos\",\"neg\",\"pos\",\"neg\",\"pos\",\"neg\",\"pos\",\"neg\",\"neg\",\"neg\",\"neg\",\"neg\",\"neg\",\"neg\",\"neg\",\"neg\",\"neg\",\"neg\",\"pos\",\"pos\",\"neg\",\"neg\",\"neg\",\"neg\",\"pos\",\"pos\",\"neg\",\"pos\",\"neg\",\"neg\",\"neg\",\"neg\",\"pos\",\"neg\",\"pos\",\"neg\",\"neg\",\"neg\",\"neg\",\"neg\",\"neg\",\"neg\",\"neg\",\"pos\",\"pos\",\"neg\",\"pos\",\"neg\",\"neg\",\"pos\",\"neg\",\"neg\",\"pos\",\"neg\",\"neg\",\"pos\",\"neg\",\"neg\",\"pos\",\"pos\",\"neg\",\"pos\",\"pos\",\"pos\",\"pos\",\"pos\",\"neg\",\"pos\",\"pos\",\"pos\",\"pos\",\"neg\",\"neg\",\"neg\",\"pos\",\"neg\",\"neg\",\"neg\",\"neg\",\"neg\",\"neg\",\"neg\",\"neg\",\"neg\",\"neg\",\"neg\",\"pos\",\"neg\",\"pos\",\"pos\",\"pos\",\"neg\",\"pos\",\"neg\",\"pos\",\"neg\",\"neg\",\"pos\",\"pos\",\"neg\",\"pos\",\"pos\",\"pos\",\"pos\",\"pos\",\"neg\",\"neg\",\"neg\",\"neg\",\"neg\",\"neg\",\"neg\",\"neg\",\"neg\",\"neg\",\"neg\",\"pos\",\"neg\",\"pos\",\"pos\",\"neg\",\"pos\",\"pos\",\"pos\",\"neg\",\"neg\",\"neg\",\"neg\",\"neg\",\"pos\",\"neg\",\"neg\",\"neg\",\"neg\",\"neg\",\"neg\",\"neg\",\"neg\",\"neg\",\"neg\",\"neg\",\"neg\",\"neg\",\"neg\",\"neg\",\"neg\",\"neg\",\"neg\",\"pos\",\"neg\",\"neg\",\"neg\",\"neg\",\"neg\",\"neg\",\"neg\",\"neg\",\"neg\",\"neg\",\"neg\",\"neg\",\"neg\",\"pos\",\"pos\",\"neg\",\"pos\",\"pos\",\"neg\",\"pos\",\"neg\",\"neg\",\"pos\",\"pos\",\"pos\",\"pos\",\"pos\",\"pos\",\"neg\",\"neg\",\"neg\",\"pos\",\"neg\",\"neg\",\"pos\",\"neg\",\"pos\",\"neg\",\"neg\",\"pos\",\"pos\",\"neg\",\"pos\",\"neg\",\"pos\",\"pos\",\"pos\",\"pos\",\"pos\",\"neg\",\"neg\",\"pos\",\"pos\",\"pos\",\"neg\",\"pos\",\"pos\",\"neg\",\"pos\",\"pos\",\"pos\",\"neg\",\"pos\",\"neg\",\"pos\",\"pos\",\"pos\",\"pos\",\"pos\",\"neg\",\"pos\",\"pos\",\"pos\",\"neg\",\"neg\",\"pos\",\"pos\",\"pos\",\"pos\",\"pos\",\"pos\",\"pos\",\"pos\",\"neg\",\"pos\",\"pos\",\"pos\",\"pos\",\"pos\",\"pos\",\"neg\",\"pos\",\"pos\",\"pos\",\"neg\",\"pos\",\"neg\",\"pos\",\"neg\",\"pos\",\"pos\",\"pos\",\"neg\",\"pos\",\"pos\",\"pos\",\"neg\",\"pos\",\"neg\",\"neg\",\"neg\",\"pos\",\"pos\",\"neg\",\"neg\",\"neg\",\"neg\",\"neg\",\"neg\",\"pos\",\"pos\",\"pos\",\"neg\",\"neg\",\"neg\",\"neg\",\"pos\",\"neg\",\"pos\",\"neg\",\"neg\",\"neg\",\"neg\",\"pos\",\"pos\",\"pos\",\"neg\",\"pos\",\"neg\",\"neg\",\"neg\",\"neg\",\"neg\",\"neg\",\"neg\",\"pos\",\"pos\",\"neg\",\"neg\",\"pos\",\"neg\",\"neg\",\"neg\",\"neg\",\"neg\",\"neg\",\"neg\",\"neg\",\"pos\",\"neg\",\"pos\",\"neg\",\"neg\",\"neg\",\"neg\",\"pos\",\"neg\",\"neg\",\"neg\",\"neg\",\"pos\",\"pos\",\"pos\",\"neg\",\"neg\",\"pos\",\"pos\",\"neg\",\"neg\",\"pos\",\"neg\",\"pos\",\"neg\",\"neg\",\"neg\",\"neg\",\"neg\",\"pos\",\"pos\",\"pos\",\"neg\",\"pos\",\"pos\"],\"xaxis\":\"x\",\"y\":[1,1,1,1,1,1,1,1,1,1,1,1,1,1,1,1,1,1,1,1,1,1,1,1,1,1,1,1,1,1,1,1,1,1,1,1,1,1,1,1,1,1,1,1,1,1,1,1,1,1,1,1,1,1,1,1,1,1,1,1,1,1,1,1,1,1,1,1,1,1,1,1,1,1,1,1,1,1,1,1,1,1,1,1,1,1,1,1,1,1,1,1,1,1,1,1,1,1,1,1,1,1,1,1,1,1,1,1,1,1,1,1,1,1,1,1,1,1,1,1,1,1,1,1,1,1,1,1,1,1,1,1,1,1,1,1,1,1,1,1,1,1,1,1,1,1,1,1,1,1,1,1,1,1,1,1,1,1,1,1,1,1,1,1,1,1,1,1,1,1,1,1,1,1,1,1,1,1,1,1,1,1,1,1,1,1,1,1,1,1,1,1,1,1,1,1,1,1,1,1,1,1,1,1,1,1,1,1,1,1,1,1,1,1,1,1,1,1,1,1,1,1,1,1,1,1,1,1,1,1,1,1,1,1,1,1,1,1,1,1,1,1,1,1,1,1,1,1,1,1,1,1,1,1,1,1,1,1,1,1,1,1,1,1,1,1,1,1,1,1,1,1,1,1,1,1,1,1,1,1,1,1,1,1,1,1,1,1,1,1,1,1,1,1,1,1,1,1,1,1,1,1,1,1,1,1,1,1,1,1,1,1,1,1,1,1,1,1,1,1,1,1,1,1,1,1,1,1,1,1,1,1,1,1,1,1,1,1,1,1,1,1,1,1,1,1,1,1,1,1,1,1,1,1,1,1,1,1,1,1,1,1,1,1,1,1,1,1,1,1,1,1,1,1,1,1,1,1,1,1,1,1,1,1,1,1,1,1,1,1,1,1,1,1,1,1,1,1,1,1,1,1,1,1,1,1,1,1,1,1,1,1,1,1,1,1,1,1,1,1,1,1,1,1,1,1,1,1,1,1,1,1,1,1,1,1,1,1,1,1,1,1,1,1,1,1,1,1,1,1,1,1,1,1,1,1,1,1,1,1,1,1,1,1,1,1,1,1,1,1,1,1,1,1,1,1,1,1,1,1,1,1,1,1,1,1,1,1,1,1,1,1,1,1,1,1,1,1,1,1,1,1,1,1,1,1,1,1,1,1,1,1,1,1,1,1,1,1,1,1,1,1,1,1,1,1,1,1,1,1,1,1,1,1,1,1,1,1,1,1,1,1,1,1,1,1,1,1,1,1,1,1,1,1,1,1,1,1,1,1,1,1,1,1,1,1,1,1,1,1,1,1,1,1,1,1,1,1,1,1,1,1,1,1,1,1,1,1,1,1,1,1,1,1,1,1,1,1,1,1,1,1,1,1,1,1,1,1,1,1,1,1,1,1,1,1,1,1,1,1,1,1,1,1,1,1,1,1,1,1,1,1,1,1,1,1,1,1,1,1,1,1,1,1,1,1,1,1,1,1,1,1,1,1,1,1,1,1,1,1,1,1,1,1,1,1,1,1,1,1,1,1,1,1,1,1,1,1,1,1,1,1,1,1,1,1],\"yaxis\":\"y\",\"type\":\"bar\"},{\"alignmentgroup\":\"True\",\"hovertemplate\":\"7_class=%{x}<br>count=%{y}<extra></extra>\",\"legendgroup\":\"\",\"marker\":{\"color\":\"#636efa\",\"pattern\":{\"shape\":\"\"}},\"name\":\"\",\"offsetgroup\":\"\",\"orientation\":\"v\",\"showlegend\":false,\"textposition\":\"auto\",\"x\":[\"weakly positive\",\"very negative\",\"Neutral\",\"negative\",\"very negative\",\"negative\",\"weakly negative\",\"negative\",\"negative\",\"positive\",\"very negative\",\"very negative\",\"very negative\",\"weakly negative\",\"weakly positive\",\"weakly negative\",\"weakly positive\",\"very negative\",\"very negative\",\"Neutral\",\"very negative\",\"weakly positive\",\"weakly positive\",\"very negative\",\"negative\",\"weakly negative\",\"negative\",\"very negative\",\"very negative\",\"very negative\",\"negative\",\"very negative\",\"very positive\",\"positive\",\"weakly positive\",\"very positive\",\"very negative\",\"very negative\",\"weakly negative\",\"very positive\",\"weakly negative\",\"Neutral\",\"weakly negative\",\"positive\",\"very positive\",\"weakly negative\",\"very positive\",\"very negative\",\"very positive\",\"weakly positive\",\"very positive\",\"weakly negative\",\"very negative\",\"very negative\",\"weakly negative\",\"very negative\",\"negative\",\"weakly positive\",\"positive\",\"positive\",\"positive\",\"negative\",\"positive\",\"weakly positive\",\"Neutral\",\"weakly positive\",\"weakly negative\",\"positive\",\"weakly negative\",\"weakly negative\",\"weakly negative\",\"positive\",\"weakly negative\",\"Neutral\",\"positive\",\"weakly positive\",\"weakly negative\",\"very positive\",\"Neutral\",\"weakly negative\",\"weakly negative\",\"very positive\",\"weakly positive\",\"positive\",\"positive\",\"positive\",\"positive\",\"weakly negative\",\"very positive\",\"weakly positive\",\"Neutral\",\"weakly negative\",\"Neutral\",\"positive\",\"Neutral\",\"very positive\",\"Neutral\",\"positive\",\"Neutral\",\"very positive\",\"positive\",\"weakly negative\",\"positive\",\"positive\",\"weakly negative\",\"Neutral\",\"Neutral\",\"very negative\",\"very positive\",\"Neutral\",\"positive\",\"positive\",\"weakly positive\",\"weakly positive\",\"very negative\",\"positive\",\"negative\",\"very positive\",\"positive\",\"very positive\",\"very positive\",\"negative\",\"negative\",\"weakly positive\",\"negative\",\"Neutral\",\"very negative\",\"negative\",\"negative\",\"weakly negative\",\"negative\",\"very negative\",\"weakly positive\",\"negative\",\"negative\",\"very negative\",\"very negative\",\"weakly negative\",\"weakly negative\",\"negative\",\"negative\",\"very negative\",\"very negative\",\"very negative\",\"positive\",\"very negative\",\"weakly negative\",\"negative\",\"weakly negative\",\"very negative\",\"negative\",\"negative\",\"very negative\",\"very negative\",\"very negative\",\"negative\",\"very negative\",\"very negative\",\"very negative\",\"very negative\",\"weakly negative\",\"very negative\",\"Neutral\",\"weakly negative\",\"weakly positive\",\"Neutral\",\"weakly negative\",\"Neutral\",\"very negative\",\"negative\",\"weakly negative\",\"weakly positive\",\"weakly negative\",\"negative\",\"weakly positive\",\"weakly positive\",\"negative\",\"Neutral\",\"negative\",\"very negative\",\"Neutral\",\"negative\",\"negative\",\"weakly positive\",\"weakly positive\",\"negative\",\"weakly positive\",\"weakly positive\",\"very negative\",\"negative\",\"weakly negative\",\"weakly negative\",\"very negative\",\"weakly negative\",\"weakly negative\",\"negative\",\"weakly negative\",\"positive\",\"Neutral\",\"negative\",\"positive\",\"negative\",\"weakly negative\",\"weakly positive\",\"positive\",\"very negative\",\"very negative\",\"negative\",\"Neutral\",\"positive\",\"very negative\",\"weakly negative\",\"negative\",\"weakly negative\",\"negative\",\"weakly negative\",\"very negative\",\"weakly negative\",\"weakly positive\",\"Neutral\",\"negative\",\"weakly negative\",\"weakly positive\",\"positive\",\"weakly negative\",\"weakly negative\",\"Neutral\",\"weakly positive\",\"Neutral\",\"weakly negative\",\"Neutral\",\"weakly positive\",\"Neutral\",\"Neutral\",\"weakly negative\",\"positive\",\"Neutral\",\"Neutral\",\"very negative\",\"Neutral\",\"weakly negative\",\"positive\",\"weakly positive\",\"very negative\",\"weakly positive\",\"Neutral\",\"very negative\",\"Neutral\",\"positive\",\"positive\",\"weakly positive\",\"negative\",\"Neutral\",\"weakly positive\",\"very negative\",\"weakly negative\",\"Neutral\",\"negative\",\"negative\",\"weakly positive\",\"very positive\",\"very positive\",\"Neutral\",\"weakly negative\",\"negative\",\"weakly negative\",\"weakly negative\",\"Neutral\",\"weakly negative\",\"positive\",\"very negative\",\"weakly negative\",\"weakly positive\",\"weakly positive\",\"weakly negative\",\"negative\",\"weakly negative\",\"positive\",\"weakly positive\",\"very positive\",\"negative\",\"Neutral\",\"Neutral\",\"positive\",\"Neutral\",\"very positive\",\"very positive\",\"Neutral\",\"negative\",\"weakly negative\",\"weakly negative\",\"Neutral\",\"very negative\",\"positive\",\"weakly positive\",\"negative\",\"weakly negative\",\"negative\",\"weakly positive\",\"negative\",\"weakly positive\",\"negative\",\"positive\",\"very negative\",\"weakly positive\",\"very negative\",\"very positive\",\"negative\",\"negative\",\"positive\",\"positive\",\"weakly positive\",\"Neutral\",\"weakly positive\",\"Neutral\",\"very negative\",\"very negative\",\"weakly positive\",\"weakly positive\",\"weakly positive\",\"very negative\",\"very negative\",\"negative\",\"very negative\",\"weakly negative\",\"weakly negative\",\"weakly negative\",\"negative\",\"Neutral\",\"weakly negative\",\"Neutral\",\"Neutral\",\"weakly negative\",\"Neutral\",\"positive\",\"very negative\",\"weakly negative\",\"very negative\",\"negative\",\"very negative\",\"negative\",\"Neutral\",\"very positive\",\"Neutral\",\"weakly positive\",\"negative\",\"positive\",\"very negative\",\"very positive\",\"Neutral\",\"positive\",\"negative\",\"very negative\",\"negative\",\"negative\",\"weakly negative\",\"negative\",\"weakly negative\",\"very negative\",\"negative\",\"very negative\",\"negative\",\"weakly positive\",\"weakly positive\",\"very negative\",\"very negative\",\"very negative\",\"Neutral\",\"positive\",\"very positive\",\"Neutral\",\"positive\",\"Neutral\",\"Neutral\",\"very negative\",\"weakly negative\",\"weakly positive\",\"negative\",\"weakly positive\",\"negative\",\"very negative\",\"negative\",\"weakly negative\",\"negative\",\"negative\",\"negative\",\"very negative\",\"weakly positive\",\"weakly positive\",\"negative\",\"weakly positive\",\"negative\",\"weakly negative\",\"Neutral\",\"negative\",\"Neutral\",\"weakly positive\",\"very negative\",\"weakly negative\",\"weakly positive\",\"negative\",\"negative\",\"positive\",\"very positive\",\"weakly negative\",\"weakly positive\",\"positive\",\"weakly positive\",\"positive\",\"weakly positive\",\"weakly negative\",\"positive\",\"weakly positive\",\"positive\",\"Neutral\",\"negative\",\"very negative\",\"very negative\",\"positive\",\"negative\",\"weakly negative\",\"negative\",\"negative\",\"Neutral\",\"weakly negative\",\"negative\",\"negative\",\"negative\",\"negative\",\"weakly negative\",\"weakly positive\",\"negative\",\"positive\",\"positive\",\"weakly positive\",\"negative\",\"weakly positive\",\"negative\",\"very positive\",\"negative\",\"weakly negative\",\"positive\",\"weakly positive\",\"negative\",\"positive\",\"weakly positive\",\"very positive\",\"positive\",\"weakly positive\",\"weakly negative\",\"very negative\",\"very negative\",\"negative\",\"very negative\",\"very negative\",\"weakly negative\",\"negative\",\"weakly negative\",\"negative\",\"very negative\",\"very positive\",\"negative\",\"positive\",\"weakly positive\",\"very negative\",\"very positive\",\"Neutral\",\"very positive\",\"negative\",\"weakly negative\",\"very negative\",\"very negative\",\"very negative\",\"very positive\",\"Neutral\",\"negative\",\"negative\",\"negative\",\"very negative\",\"negative\",\"negative\",\"very negative\",\"Neutral\",\"negative\",\"weakly negative\",\"negative\",\"negative\",\"very negative\",\"very negative\",\"Neutral\",\"weakly negative\",\"negative\",\"Neutral\",\"negative\",\"weakly negative\",\"negative\",\"Neutral\",\"very negative\",\"negative\",\"negative\",\"negative\",\"Neutral\",\"negative\",\"very negative\",\"negative\",\"negative\",\"positive\",\"positive\",\"very negative\",\"weakly positive\",\"weakly positive\",\"weakly negative\",\"positive\",\"weakly negative\",\"negative\",\"very positive\",\"positive\",\"positive\",\"positive\",\"weakly positive\",\"Neutral\",\"Neutral\",\"weakly negative\",\"negative\",\"weakly positive\",\"Neutral\",\"negative\",\"very positive\",\"Neutral\",\"positive\",\"negative\",\"weakly negative\",\"very positive\",\"very positive\",\"very negative\",\"Neutral\",\"weakly negative\",\"positive\",\"positive\",\"positive\",\"very positive\",\"positive\",\"Neutral\",\"Neutral\",\"Neutral\",\"very positive\",\"Neutral\",\"very negative\",\"positive\",\"weakly positive\",\"weakly negative\",\"very positive\",\"very positive\",\"positive\",\"negative\",\"very positive\",\"negative\",\"positive\",\"weakly positive\",\"very positive\",\"weakly positive\",\"positive\",\"Neutral\",\"positive\",\"very positive\",\"weakly positive\",\"Neutral\",\"Neutral\",\"positive\",\"weakly positive\",\"positive\",\"very positive\",\"very positive\",\"positive\",\"Neutral\",\"weakly positive\",\"Neutral\",\"positive\",\"positive\",\"positive\",\"very positive\",\"weakly positive\",\"positive\",\"weakly negative\",\"positive\",\"positive\",\"weakly positive\",\"weakly negative\",\"Neutral\",\"weakly negative\",\"positive\",\"Neutral\",\"positive\",\"Neutral\",\"positive\",\"weakly negative\",\"weakly positive\",\"positive\",\"weakly positive\",\"weakly negative\",\"positive\",\"negative\",\"Neutral\",\"negative\",\"positive\",\"weakly positive\",\"Neutral\",\"Neutral\",\"weakly negative\",\"weakly negative\",\"weakly negative\",\"negative\",\"Neutral\",\"Neutral\",\"very positive\",\"negative\",\"negative\",\"negative\",\"Neutral\",\"weakly positive\",\"negative\",\"weakly positive\",\"weakly negative\",\"Neutral\",\"negative\",\"weakly negative\",\"Neutral\",\"positive\",\"weakly positive\",\"negative\",\"very positive\",\"weakly negative\",\"Neutral\",\"weakly negative\",\"negative\",\"negative\",\"weakly negative\",\"negative\",\"positive\",\"Neutral\",\"weakly negative\",\"negative\",\"weakly positive\",\"negative\",\"negative\",\"very negative\",\"negative\",\"very negative\",\"negative\",\"negative\",\"negative\",\"positive\",\"weakly negative\",\"positive\",\"weakly negative\",\"weakly negative\",\"weakly negative\",\"negative\",\"weakly positive\",\"weakly negative\",\"negative\",\"negative\",\"very negative\",\"positive\",\"weakly positive\",\"weakly positive\",\"negative\",\"negative\",\"weakly positive\",\"weakly positive\",\"negative\",\"weakly negative\",\"weakly positive\",\"weakly negative\",\"weakly positive\",\"Neutral\",\"weakly negative\",\"weakly negative\",\"negative\",\"Neutral\",\"weakly positive\",\"positive\",\"weakly positive\",\"Neutral\",\"weakly positive\",\"weakly positive\"],\"xaxis\":\"x2\",\"y\":[1,1,1,1,1,1,1,1,1,1,1,1,1,1,1,1,1,1,1,1,1,1,1,1,1,1,1,1,1,1,1,1,1,1,1,1,1,1,1,1,1,1,1,1,1,1,1,1,1,1,1,1,1,1,1,1,1,1,1,1,1,1,1,1,1,1,1,1,1,1,1,1,1,1,1,1,1,1,1,1,1,1,1,1,1,1,1,1,1,1,1,1,1,1,1,1,1,1,1,1,1,1,1,1,1,1,1,1,1,1,1,1,1,1,1,1,1,1,1,1,1,1,1,1,1,1,1,1,1,1,1,1,1,1,1,1,1,1,1,1,1,1,1,1,1,1,1,1,1,1,1,1,1,1,1,1,1,1,1,1,1,1,1,1,1,1,1,1,1,1,1,1,1,1,1,1,1,1,1,1,1,1,1,1,1,1,1,1,1,1,1,1,1,1,1,1,1,1,1,1,1,1,1,1,1,1,1,1,1,1,1,1,1,1,1,1,1,1,1,1,1,1,1,1,1,1,1,1,1,1,1,1,1,1,1,1,1,1,1,1,1,1,1,1,1,1,1,1,1,1,1,1,1,1,1,1,1,1,1,1,1,1,1,1,1,1,1,1,1,1,1,1,1,1,1,1,1,1,1,1,1,1,1,1,1,1,1,1,1,1,1,1,1,1,1,1,1,1,1,1,1,1,1,1,1,1,1,1,1,1,1,1,1,1,1,1,1,1,1,1,1,1,1,1,1,1,1,1,1,1,1,1,1,1,1,1,1,1,1,1,1,1,1,1,1,1,1,1,1,1,1,1,1,1,1,1,1,1,1,1,1,1,1,1,1,1,1,1,1,1,1,1,1,1,1,1,1,1,1,1,1,1,1,1,1,1,1,1,1,1,1,1,1,1,1,1,1,1,1,1,1,1,1,1,1,1,1,1,1,1,1,1,1,1,1,1,1,1,1,1,1,1,1,1,1,1,1,1,1,1,1,1,1,1,1,1,1,1,1,1,1,1,1,1,1,1,1,1,1,1,1,1,1,1,1,1,1,1,1,1,1,1,1,1,1,1,1,1,1,1,1,1,1,1,1,1,1,1,1,1,1,1,1,1,1,1,1,1,1,1,1,1,1,1,1,1,1,1,1,1,1,1,1,1,1,1,1,1,1,1,1,1,1,1,1,1,1,1,1,1,1,1,1,1,1,1,1,1,1,1,1,1,1,1,1,1,1,1,1,1,1,1,1,1,1,1,1,1,1,1,1,1,1,1,1,1,1,1,1,1,1,1,1,1,1,1,1,1,1,1,1,1,1,1,1,1,1,1,1,1,1,1,1,1,1,1,1,1,1,1,1,1,1,1,1,1,1,1,1,1,1,1,1,1,1,1,1,1,1,1,1,1,1,1,1,1,1,1,1,1,1,1,1,1,1,1,1,1,1,1,1,1,1,1,1,1,1,1,1,1,1,1,1,1,1,1,1,1,1,1,1,1,1,1,1,1,1,1,1,1,1,1,1,1,1,1,1,1,1,1,1,1,1,1,1,1,1,1,1,1,1,1,1,1,1,1],\"yaxis\":\"y2\",\"type\":\"bar\"}],                        {\"template\":{\"data\":{\"histogram2dcontour\":[{\"type\":\"histogram2dcontour\",\"colorbar\":{\"outlinewidth\":0,\"ticks\":\"\"},\"colorscale\":[[0.0,\"#0d0887\"],[0.1111111111111111,\"#46039f\"],[0.2222222222222222,\"#7201a8\"],[0.3333333333333333,\"#9c179e\"],[0.4444444444444444,\"#bd3786\"],[0.5555555555555556,\"#d8576b\"],[0.6666666666666666,\"#ed7953\"],[0.7777777777777778,\"#fb9f3a\"],[0.8888888888888888,\"#fdca26\"],[1.0,\"#f0f921\"]]}],\"choropleth\":[{\"type\":\"choropleth\",\"colorbar\":{\"outlinewidth\":0,\"ticks\":\"\"}}],\"histogram2d\":[{\"type\":\"histogram2d\",\"colorbar\":{\"outlinewidth\":0,\"ticks\":\"\"},\"colorscale\":[[0.0,\"#0d0887\"],[0.1111111111111111,\"#46039f\"],[0.2222222222222222,\"#7201a8\"],[0.3333333333333333,\"#9c179e\"],[0.4444444444444444,\"#bd3786\"],[0.5555555555555556,\"#d8576b\"],[0.6666666666666666,\"#ed7953\"],[0.7777777777777778,\"#fb9f3a\"],[0.8888888888888888,\"#fdca26\"],[1.0,\"#f0f921\"]]}],\"heatmap\":[{\"type\":\"heatmap\",\"colorbar\":{\"outlinewidth\":0,\"ticks\":\"\"},\"colorscale\":[[0.0,\"#0d0887\"],[0.1111111111111111,\"#46039f\"],[0.2222222222222222,\"#7201a8\"],[0.3333333333333333,\"#9c179e\"],[0.4444444444444444,\"#bd3786\"],[0.5555555555555556,\"#d8576b\"],[0.6666666666666666,\"#ed7953\"],[0.7777777777777778,\"#fb9f3a\"],[0.8888888888888888,\"#fdca26\"],[1.0,\"#f0f921\"]]}],\"heatmapgl\":[{\"type\":\"heatmapgl\",\"colorbar\":{\"outlinewidth\":0,\"ticks\":\"\"},\"colorscale\":[[0.0,\"#0d0887\"],[0.1111111111111111,\"#46039f\"],[0.2222222222222222,\"#7201a8\"],[0.3333333333333333,\"#9c179e\"],[0.4444444444444444,\"#bd3786\"],[0.5555555555555556,\"#d8576b\"],[0.6666666666666666,\"#ed7953\"],[0.7777777777777778,\"#fb9f3a\"],[0.8888888888888888,\"#fdca26\"],[1.0,\"#f0f921\"]]}],\"contourcarpet\":[{\"type\":\"contourcarpet\",\"colorbar\":{\"outlinewidth\":0,\"ticks\":\"\"}}],\"contour\":[{\"type\":\"contour\",\"colorbar\":{\"outlinewidth\":0,\"ticks\":\"\"},\"colorscale\":[[0.0,\"#0d0887\"],[0.1111111111111111,\"#46039f\"],[0.2222222222222222,\"#7201a8\"],[0.3333333333333333,\"#9c179e\"],[0.4444444444444444,\"#bd3786\"],[0.5555555555555556,\"#d8576b\"],[0.6666666666666666,\"#ed7953\"],[0.7777777777777778,\"#fb9f3a\"],[0.8888888888888888,\"#fdca26\"],[1.0,\"#f0f921\"]]}],\"surface\":[{\"type\":\"surface\",\"colorbar\":{\"outlinewidth\":0,\"ticks\":\"\"},\"colorscale\":[[0.0,\"#0d0887\"],[0.1111111111111111,\"#46039f\"],[0.2222222222222222,\"#7201a8\"],[0.3333333333333333,\"#9c179e\"],[0.4444444444444444,\"#bd3786\"],[0.5555555555555556,\"#d8576b\"],[0.6666666666666666,\"#ed7953\"],[0.7777777777777778,\"#fb9f3a\"],[0.8888888888888888,\"#fdca26\"],[1.0,\"#f0f921\"]]}],\"mesh3d\":[{\"type\":\"mesh3d\",\"colorbar\":{\"outlinewidth\":0,\"ticks\":\"\"}}],\"scatter\":[{\"fillpattern\":{\"fillmode\":\"overlay\",\"size\":10,\"solidity\":0.2},\"type\":\"scatter\"}],\"parcoords\":[{\"type\":\"parcoords\",\"line\":{\"colorbar\":{\"outlinewidth\":0,\"ticks\":\"\"}}}],\"scatterpolargl\":[{\"type\":\"scatterpolargl\",\"marker\":{\"colorbar\":{\"outlinewidth\":0,\"ticks\":\"\"}}}],\"bar\":[{\"error_x\":{\"color\":\"#2a3f5f\"},\"error_y\":{\"color\":\"#2a3f5f\"},\"marker\":{\"line\":{\"color\":\"#E5ECF6\",\"width\":0.5},\"pattern\":{\"fillmode\":\"overlay\",\"size\":10,\"solidity\":0.2}},\"type\":\"bar\"}],\"scattergeo\":[{\"type\":\"scattergeo\",\"marker\":{\"colorbar\":{\"outlinewidth\":0,\"ticks\":\"\"}}}],\"scatterpolar\":[{\"type\":\"scatterpolar\",\"marker\":{\"colorbar\":{\"outlinewidth\":0,\"ticks\":\"\"}}}],\"histogram\":[{\"marker\":{\"pattern\":{\"fillmode\":\"overlay\",\"size\":10,\"solidity\":0.2}},\"type\":\"histogram\"}],\"scattergl\":[{\"type\":\"scattergl\",\"marker\":{\"colorbar\":{\"outlinewidth\":0,\"ticks\":\"\"}}}],\"scatter3d\":[{\"type\":\"scatter3d\",\"line\":{\"colorbar\":{\"outlinewidth\":0,\"ticks\":\"\"}},\"marker\":{\"colorbar\":{\"outlinewidth\":0,\"ticks\":\"\"}}}],\"scattermapbox\":[{\"type\":\"scattermapbox\",\"marker\":{\"colorbar\":{\"outlinewidth\":0,\"ticks\":\"\"}}}],\"scatterternary\":[{\"type\":\"scatterternary\",\"marker\":{\"colorbar\":{\"outlinewidth\":0,\"ticks\":\"\"}}}],\"scattercarpet\":[{\"type\":\"scattercarpet\",\"marker\":{\"colorbar\":{\"outlinewidth\":0,\"ticks\":\"\"}}}],\"carpet\":[{\"aaxis\":{\"endlinecolor\":\"#2a3f5f\",\"gridcolor\":\"white\",\"linecolor\":\"white\",\"minorgridcolor\":\"white\",\"startlinecolor\":\"#2a3f5f\"},\"baxis\":{\"endlinecolor\":\"#2a3f5f\",\"gridcolor\":\"white\",\"linecolor\":\"white\",\"minorgridcolor\":\"white\",\"startlinecolor\":\"#2a3f5f\"},\"type\":\"carpet\"}],\"table\":[{\"cells\":{\"fill\":{\"color\":\"#EBF0F8\"},\"line\":{\"color\":\"white\"}},\"header\":{\"fill\":{\"color\":\"#C8D4E3\"},\"line\":{\"color\":\"white\"}},\"type\":\"table\"}],\"barpolar\":[{\"marker\":{\"line\":{\"color\":\"#E5ECF6\",\"width\":0.5},\"pattern\":{\"fillmode\":\"overlay\",\"size\":10,\"solidity\":0.2}},\"type\":\"barpolar\"}],\"pie\":[{\"automargin\":true,\"type\":\"pie\"}]},\"layout\":{\"autotypenumbers\":\"strict\",\"colorway\":[\"#636efa\",\"#EF553B\",\"#00cc96\",\"#ab63fa\",\"#FFA15A\",\"#19d3f3\",\"#FF6692\",\"#B6E880\",\"#FF97FF\",\"#FECB52\"],\"font\":{\"color\":\"#2a3f5f\"},\"hovermode\":\"closest\",\"hoverlabel\":{\"align\":\"left\"},\"paper_bgcolor\":\"white\",\"plot_bgcolor\":\"#E5ECF6\",\"polar\":{\"bgcolor\":\"#E5ECF6\",\"angularaxis\":{\"gridcolor\":\"white\",\"linecolor\":\"white\",\"ticks\":\"\"},\"radialaxis\":{\"gridcolor\":\"white\",\"linecolor\":\"white\",\"ticks\":\"\"}},\"ternary\":{\"bgcolor\":\"#E5ECF6\",\"aaxis\":{\"gridcolor\":\"white\",\"linecolor\":\"white\",\"ticks\":\"\"},\"baxis\":{\"gridcolor\":\"white\",\"linecolor\":\"white\",\"ticks\":\"\"},\"caxis\":{\"gridcolor\":\"white\",\"linecolor\":\"white\",\"ticks\":\"\"}},\"coloraxis\":{\"colorbar\":{\"outlinewidth\":0,\"ticks\":\"\"}},\"colorscale\":{\"sequential\":[[0.0,\"#0d0887\"],[0.1111111111111111,\"#46039f\"],[0.2222222222222222,\"#7201a8\"],[0.3333333333333333,\"#9c179e\"],[0.4444444444444444,\"#bd3786\"],[0.5555555555555556,\"#d8576b\"],[0.6666666666666666,\"#ed7953\"],[0.7777777777777778,\"#fb9f3a\"],[0.8888888888888888,\"#fdca26\"],[1.0,\"#f0f921\"]],\"sequentialminus\":[[0.0,\"#0d0887\"],[0.1111111111111111,\"#46039f\"],[0.2222222222222222,\"#7201a8\"],[0.3333333333333333,\"#9c179e\"],[0.4444444444444444,\"#bd3786\"],[0.5555555555555556,\"#d8576b\"],[0.6666666666666666,\"#ed7953\"],[0.7777777777777778,\"#fb9f3a\"],[0.8888888888888888,\"#fdca26\"],[1.0,\"#f0f921\"]],\"diverging\":[[0,\"#8e0152\"],[0.1,\"#c51b7d\"],[0.2,\"#de77ae\"],[0.3,\"#f1b6da\"],[0.4,\"#fde0ef\"],[0.5,\"#f7f7f7\"],[0.6,\"#e6f5d0\"],[0.7,\"#b8e186\"],[0.8,\"#7fbc41\"],[0.9,\"#4d9221\"],[1,\"#276419\"]]},\"xaxis\":{\"gridcolor\":\"white\",\"linecolor\":\"white\",\"ticks\":\"\",\"title\":{\"standoff\":15},\"zerolinecolor\":\"white\",\"automargin\":true,\"zerolinewidth\":2},\"yaxis\":{\"gridcolor\":\"white\",\"linecolor\":\"white\",\"ticks\":\"\",\"title\":{\"standoff\":15},\"zerolinecolor\":\"white\",\"automargin\":true,\"zerolinewidth\":2},\"scene\":{\"xaxis\":{\"backgroundcolor\":\"#E5ECF6\",\"gridcolor\":\"white\",\"linecolor\":\"white\",\"showbackground\":true,\"ticks\":\"\",\"zerolinecolor\":\"white\",\"gridwidth\":2},\"yaxis\":{\"backgroundcolor\":\"#E5ECF6\",\"gridcolor\":\"white\",\"linecolor\":\"white\",\"showbackground\":true,\"ticks\":\"\",\"zerolinecolor\":\"white\",\"gridwidth\":2},\"zaxis\":{\"backgroundcolor\":\"#E5ECF6\",\"gridcolor\":\"white\",\"linecolor\":\"white\",\"showbackground\":true,\"ticks\":\"\",\"zerolinecolor\":\"white\",\"gridwidth\":2}},\"shapedefaults\":{\"line\":{\"color\":\"#2a3f5f\"}},\"annotationdefaults\":{\"arrowcolor\":\"#2a3f5f\",\"arrowhead\":0,\"arrowwidth\":1},\"geo\":{\"bgcolor\":\"white\",\"landcolor\":\"#E5ECF6\",\"subunitcolor\":\"white\",\"showland\":true,\"showlakes\":true,\"lakecolor\":\"white\"},\"title\":{\"x\":0.05},\"mapbox\":{\"style\":\"light\"}}},\"xaxis\":{\"anchor\":\"y\",\"domain\":[0.0,0.45],\"categoryorder\":\"array\",\"categoryarray\":[\"very negative\",\"negative\",\"weakly negative\",\"Neutral\",\"weakly positive\",\"positive\",\"very positive\"]},\"yaxis\":{\"anchor\":\"x\",\"domain\":[0.0,1.0]},\"xaxis2\":{\"anchor\":\"y2\",\"domain\":[0.55,1.0],\"categoryorder\":\"array\",\"categoryarray\":[\"very negative\",\"negative\",\"weakly negative\",\"Neutral\",\"weakly positive\",\"positive\",\"very positive\"]},\"yaxis2\":{\"anchor\":\"x2\",\"domain\":[0.0,1.0]},\"annotations\":[{\"font\":{\"size\":16},\"showarrow\":false,\"text\":\"Binary\",\"x\":0.225,\"xanchor\":\"center\",\"xref\":\"paper\",\"y\":1.0,\"yanchor\":\"bottom\",\"yref\":\"paper\"},{\"font\":{\"size\":16},\"showarrow\":false,\"text\":\"7-class\",\"x\":0.775,\"xanchor\":\"center\",\"xref\":\"paper\",\"y\":1.0,\"yanchor\":\"bottom\",\"yref\":\"paper\"}],\"title\":{\"text\":\"Ground-truth distribution\"},\"height\":500,\"width\":1200},                        {\"responsive\": true}                    ).then(function(){\n",
       "                            \n",
       "var gd = document.getElementById('6c4ea20c-7412-4470-9ca4-74c340e5f3c2');\n",
       "var x = new MutationObserver(function (mutations, observer) {{\n",
       "        var display = window.getComputedStyle(gd).display;\n",
       "        if (!display || display === 'none') {{\n",
       "            console.log([gd, 'removed!']);\n",
       "            Plotly.purge(gd);\n",
       "            observer.disconnect();\n",
       "        }}\n",
       "}});\n",
       "\n",
       "// Listen for the removal of the full notebook cells\n",
       "var notebookContainer = gd.closest('#notebook-container');\n",
       "if (notebookContainer) {{\n",
       "    x.observe(notebookContainer, {childList: true});\n",
       "}}\n",
       "\n",
       "// Listen for the clearing of the current output cell\n",
       "var outputEl = gd.closest('.output');\n",
       "if (outputEl) {{\n",
       "    x.observe(outputEl, {childList: true});\n",
       "}}\n",
       "\n",
       "                        })                };                });            </script>        </div>"
      ]
     },
     "metadata": {},
     "output_type": "display_data"
    }
   ],
   "source": [
    "import plotly.express as px\n",
    "import plotly.subplots as sp\n",
    "import pandas as pd\n",
    "\n",
    "d = {'binary': tfn['labels_2'], '7_class': tfn['labels_7']}\n",
    "df = pd.DataFrame(data=d)\n",
    "order = ['very negative', 'negative', 'weakly negative', 'Neutral', 'weakly positive', 'positive', 'very positive']\n",
    "\n",
    "fig1 = px.bar(df, x='binary')\n",
    "fig2 = px.bar(df, x='7_class')\n",
    "\n",
    "fig1_traces = []\n",
    "fig2_traces = []\n",
    "\n",
    "for trace in range(len(fig1[\"data\"])):\n",
    "    fig1_traces.append(fig1[\"data\"][trace])\n",
    "for trace in range(len(fig2[\"data\"])):\n",
    "    fig2_traces.append(fig2[\"data\"][trace])\n",
    "\n",
    "this_figure = sp.make_subplots(rows=1, cols=2, subplot_titles=(\"Binary\", \"7-class\"))\n",
    "for traces in fig1_traces:\n",
    "    this_figure.append_trace(traces, row=1, col=1)\n",
    "for traces in fig2_traces:\n",
    "    this_figure.append_trace(traces, row=1, col=2,)\n",
    "\n",
    "this_figure.update_xaxes(categoryorder='array', categoryarray= order)\n",
    "this_figure.update_layout(height=500, width=1200, title_text=\"Ground-truth distribution\")\n",
    "# this_figure.update_yaxes(range=[0,420])\n",
    "this_figure.show()"
   ]
  },
  {
   "cell_type": "markdown",
   "metadata": {},
   "source": [
    "### 2. Fusion result distribution"
   ]
  },
  {
   "cell_type": "code",
   "execution_count": 45,
   "metadata": {},
   "outputs": [
    {
     "data": {
      "application/vnd.plotly.v1+json": {
       "config": {
        "plotlyServerURL": "https://plot.ly"
       },
       "data": [
        {
         "alignmentgroup": "True",
         "hovertemplate": "preds_7=%{x}<br>count=%{y}<extra></extra>",
         "legendgroup": "",
         "marker": {
          "color": "#636efa",
          "pattern": {
           "shape": ""
          }
         },
         "name": "",
         "offsetgroup": "",
         "orientation": "v",
         "showlegend": false,
         "textposition": "auto",
         "type": "bar",
         "x": [
          "weakly positive",
          "weakly positive",
          "Neutral",
          "weakly positive",
          "weakly negative",
          "Neutral",
          "Neutral",
          "weakly positive",
          "Neutral",
          "weakly positive",
          "positive",
          "weakly negative",
          "weakly negative",
          "Neutral",
          "Neutral",
          "Neutral",
          "Neutral",
          "Neutral",
          "weakly negative",
          "weakly positive",
          "Neutral",
          "Neutral",
          "weakly positive",
          "weakly positive",
          "Neutral",
          "weakly positive",
          "weakly positive",
          "weakly positive",
          "Neutral",
          "Neutral",
          "Neutral",
          "Neutral",
          "weakly positive",
          "Neutral",
          "Neutral",
          "Neutral",
          "Neutral",
          "Neutral",
          "weakly positive",
          "weakly negative",
          "Neutral",
          "weakly positive",
          "Neutral",
          "Neutral",
          "positive",
          "weakly positive",
          "weakly negative",
          "Neutral",
          "weakly positive",
          "weakly positive",
          "weakly positive",
          "Neutral",
          "weakly negative",
          "weakly negative",
          "Neutral",
          "weakly positive",
          "Neutral",
          "weakly positive",
          "positive",
          "weakly positive",
          "weakly negative",
          "Neutral",
          "Neutral",
          "weakly positive",
          "weakly negative",
          "Neutral",
          "weakly negative",
          "weakly positive",
          "weakly negative",
          "Neutral",
          "Neutral",
          "Neutral",
          "Neutral",
          "weakly negative",
          "Neutral",
          "positive",
          "Neutral",
          "Neutral",
          "weakly negative",
          "weakly positive",
          "weakly negative",
          "Neutral",
          "Neutral",
          "weakly positive",
          "Neutral",
          "weakly positive",
          "Neutral",
          "weakly positive",
          "Neutral",
          "weakly positive",
          "Neutral",
          "Neutral",
          "weakly positive",
          "weakly positive",
          "weakly negative",
          "Neutral",
          "Neutral",
          "weakly positive",
          "weakly negative",
          "weakly positive",
          "weakly negative",
          "Neutral",
          "weakly positive",
          "Neutral",
          "Neutral",
          "weakly negative",
          "weakly positive",
          "weakly positive",
          "Neutral",
          "weakly positive",
          "positive",
          "Neutral",
          "weakly positive",
          "positive",
          "Neutral",
          "weakly positive",
          "Neutral",
          "positive",
          "very positive",
          "weakly negative",
          "weakly positive",
          "weakly positive",
          "Neutral",
          "positive",
          "weakly negative",
          "weakly positive",
          "weakly negative",
          "Neutral",
          "weakly negative",
          "Neutral",
          "Neutral",
          "weakly negative",
          "Neutral",
          "weakly negative",
          "Neutral",
          "Neutral",
          "Neutral",
          "weakly negative",
          "weakly positive",
          "Neutral",
          "weakly negative",
          "Neutral",
          "Neutral",
          "weakly positive",
          "Neutral",
          "weakly positive",
          "Neutral",
          "Neutral",
          "weakly positive",
          "weakly negative",
          "Neutral",
          "weakly negative",
          "Neutral",
          "weakly positive",
          "Neutral",
          "weakly positive",
          "weakly negative",
          "Neutral",
          "Neutral",
          "weakly negative",
          "Neutral",
          "weakly negative",
          "weakly negative",
          "weakly positive",
          "weakly positive",
          "Neutral",
          "Neutral",
          "positive",
          "weakly negative",
          "Neutral",
          "weakly negative",
          "Neutral",
          "Neutral",
          "Neutral",
          "Neutral",
          "weakly negative",
          "weakly negative",
          "weakly positive",
          "Neutral",
          "Neutral",
          "positive",
          "weakly positive",
          "weakly negative",
          "weakly negative",
          "positive",
          "Neutral",
          "weakly positive",
          "positive",
          "Neutral",
          "positive",
          "Neutral",
          "Neutral",
          "Neutral",
          "Neutral",
          "weakly negative",
          "Neutral",
          "weakly positive",
          "weakly positive",
          "Neutral",
          "weakly positive",
          "weakly positive",
          "Neutral",
          "Neutral",
          "Neutral",
          "positive",
          "Neutral",
          "weakly negative",
          "Neutral",
          "Neutral",
          "Neutral",
          "weakly positive",
          "Neutral",
          "weakly negative",
          "weakly positive",
          "weakly positive",
          "weakly negative",
          "positive",
          "Neutral",
          "weakly positive",
          "Neutral",
          "weakly negative",
          "Neutral",
          "weakly positive",
          "positive",
          "weakly negative",
          "positive",
          "Neutral",
          "weakly negative",
          "Neutral",
          "weakly positive",
          "weakly negative",
          "Neutral",
          "Neutral",
          "Neutral",
          "Neutral",
          "weakly positive",
          "Neutral",
          "Neutral",
          "weakly positive",
          "Neutral",
          "Neutral",
          "weakly negative",
          "weakly negative",
          "weakly positive",
          "Neutral",
          "Neutral",
          "weakly negative",
          "weakly positive",
          "weakly negative",
          "weakly positive",
          "positive",
          "positive",
          "weakly positive",
          "weakly positive",
          "weakly negative",
          "weakly positive",
          "Neutral",
          "Neutral",
          "Neutral",
          "weakly negative",
          "weakly positive",
          "weakly positive",
          "Neutral",
          "Neutral",
          "Neutral",
          "Neutral",
          "weakly positive",
          "Neutral",
          "Neutral",
          "positive",
          "weakly positive",
          "weakly positive",
          "weakly positive",
          "Neutral",
          "Neutral",
          "Neutral",
          "weakly positive",
          "weakly positive",
          "Neutral",
          "positive",
          "Neutral",
          "weakly positive",
          "weakly positive",
          "weakly positive",
          "weakly negative",
          "Neutral",
          "Neutral",
          "weakly positive",
          "weakly positive",
          "weakly positive",
          "weakly negative",
          "Neutral",
          "Neutral",
          "Neutral",
          "Neutral",
          "weakly negative",
          "positive",
          "weakly negative",
          "weakly positive",
          "Neutral",
          "weakly positive",
          "Neutral",
          "positive",
          "Neutral",
          "positive",
          "weakly positive",
          "weakly negative",
          "weakly positive",
          "Neutral",
          "weakly positive",
          "weakly positive",
          "positive",
          "positive",
          "weakly negative",
          "weakly positive",
          "Neutral",
          "weakly negative",
          "weakly positive",
          "weakly positive",
          "Neutral",
          "Neutral",
          "weakly negative",
          "Neutral",
          "Neutral",
          "Neutral",
          "Neutral",
          "Neutral",
          "weakly negative",
          "weakly negative",
          "weakly negative",
          "weakly positive",
          "Neutral",
          "Neutral",
          "weakly negative",
          "weakly positive",
          "Neutral",
          "weakly negative",
          "weakly positive",
          "weakly negative",
          "Neutral",
          "weakly negative",
          "weakly negative",
          "weakly positive",
          "weakly positive",
          "Neutral",
          "weakly positive",
          "weakly positive",
          "weakly positive",
          "Neutral",
          "positive",
          "weakly positive",
          "positive",
          "Neutral",
          "Neutral",
          "weakly negative",
          "Neutral",
          "weakly positive",
          "weakly negative",
          "Neutral",
          "weakly negative",
          "weakly negative",
          "weakly negative",
          "positive",
          "weakly positive",
          "weakly positive",
          "Neutral",
          "weakly negative",
          "weakly positive",
          "weakly positive",
          "weakly positive",
          "Neutral",
          "Neutral",
          "Neutral",
          "Neutral",
          "weakly negative",
          "Neutral",
          "weakly positive",
          "Neutral",
          "weakly negative",
          "weakly positive",
          "weakly positive",
          "weakly negative",
          "Neutral",
          "Neutral",
          "weakly negative",
          "weakly negative",
          "Neutral",
          "Neutral",
          "Neutral",
          "Neutral",
          "positive",
          "weakly negative",
          "Neutral",
          "Neutral",
          "positive",
          "weakly negative",
          "weakly positive",
          "weakly negative",
          "Neutral",
          "Neutral",
          "Neutral",
          "weakly negative",
          "weakly positive",
          "weakly positive",
          "Neutral",
          "weakly positive",
          "weakly positive",
          "Neutral",
          "positive",
          "weakly positive",
          "weakly positive",
          "weakly positive",
          "weakly positive",
          "weakly positive",
          "weakly positive",
          "weakly positive",
          "Neutral",
          "Neutral",
          "weakly negative",
          "Neutral",
          "weakly negative",
          "Neutral",
          "Neutral",
          "Neutral",
          "Neutral",
          "Neutral",
          "Neutral",
          "weakly negative",
          "weakly positive",
          "negative",
          "Neutral",
          "weakly negative",
          "positive",
          "weakly negative",
          "Neutral",
          "weakly negative",
          "weakly positive",
          "weakly negative",
          "weakly positive",
          "Neutral",
          "Neutral",
          "positive",
          "Neutral",
          "Neutral",
          "Neutral",
          "weakly positive",
          "weakly positive",
          "weakly positive",
          "weakly positive",
          "weakly positive",
          "weakly positive",
          "Neutral",
          "Neutral",
          "weakly negative",
          "Neutral",
          "weakly negative",
          "weakly negative",
          "weakly positive",
          "Neutral",
          "Neutral",
          "weakly positive",
          "weakly positive",
          "weakly negative",
          "Neutral",
          "weakly positive",
          "positive",
          "weakly positive",
          "Neutral",
          "weakly positive",
          "weakly negative",
          "weakly negative",
          "weakly positive",
          "weakly negative",
          "positive",
          "Neutral",
          "weakly negative",
          "weakly positive",
          "weakly positive",
          "weakly positive",
          "weakly positive",
          "weakly positive",
          "Neutral",
          "weakly positive",
          "Neutral",
          "weakly negative",
          "Neutral",
          "weakly negative",
          "weakly negative",
          "Neutral",
          "Neutral",
          "Neutral",
          "Neutral",
          "Neutral",
          "weakly negative",
          "Neutral",
          "negative",
          "weakly negative",
          "weakly positive",
          "Neutral",
          "weakly negative",
          "weakly negative",
          "weakly negative",
          "Neutral",
          "weakly negative",
          "Neutral",
          "Neutral",
          "weakly positive",
          "positive",
          "Neutral",
          "Neutral",
          "weakly negative",
          "weakly positive",
          "Neutral",
          "weakly positive",
          "weakly positive",
          "Neutral",
          "weakly negative",
          "weakly positive",
          "weakly positive",
          "weakly positive",
          "weakly positive",
          "Neutral",
          "Neutral",
          "weakly positive",
          "weakly positive",
          "weakly positive",
          "weakly positive",
          "positive",
          "weakly positive",
          "positive",
          "Neutral",
          "Neutral",
          "Neutral",
          "Neutral",
          "weakly negative",
          "weakly positive",
          "Neutral",
          "positive",
          "very positive",
          "Neutral",
          "weakly positive",
          "weakly negative",
          "positive",
          "weakly negative",
          "weakly positive",
          "Neutral",
          "Neutral",
          "weakly positive",
          "Neutral",
          "weakly negative",
          "Neutral",
          "Neutral",
          "positive",
          "Neutral",
          "Neutral",
          "weakly positive",
          "Neutral",
          "weakly negative",
          "weakly positive",
          "weakly positive",
          "Neutral",
          "weakly positive",
          "Neutral",
          "Neutral",
          "weakly positive",
          "weakly positive",
          "Neutral",
          "weakly positive",
          "Neutral",
          "weakly negative",
          "weakly positive",
          "weakly positive",
          "weakly positive",
          "positive",
          "positive",
          "weakly positive",
          "weakly positive",
          "weakly positive",
          "weakly negative",
          "positive",
          "Neutral",
          "weakly positive",
          "Neutral",
          "weakly positive",
          "weakly positive",
          "weakly positive",
          "Neutral",
          "weakly positive",
          "Neutral",
          "Neutral",
          "Neutral",
          "weakly positive",
          "positive",
          "weakly negative",
          "Neutral",
          "weakly positive",
          "weakly positive",
          "weakly positive",
          "negative",
          "Neutral",
          "weakly positive",
          "weakly positive",
          "Neutral",
          "Neutral",
          "positive",
          "weakly positive",
          "Neutral",
          "positive",
          "weakly positive",
          "Neutral",
          "weakly negative",
          "weakly positive",
          "Neutral",
          "weakly negative",
          "weakly positive",
          "Neutral",
          "weakly negative",
          "Neutral",
          "weakly positive",
          "weakly positive",
          "Neutral",
          "Neutral",
          "Neutral",
          "Neutral",
          "weakly positive",
          "weakly negative",
          "Neutral",
          "Neutral",
          "weakly positive",
          "Neutral",
          "Neutral",
          "weakly positive",
          "weakly negative",
          "weakly positive",
          "Neutral",
          "Neutral",
          "Neutral",
          "weakly negative",
          "positive",
          "weakly positive",
          "Neutral",
          "weakly negative",
          "Neutral",
          "Neutral",
          "Neutral",
          "Neutral",
          "Neutral",
          "weakly negative",
          "weakly negative",
          "Neutral",
          "weakly positive",
          "Neutral",
          "Neutral",
          "weakly negative",
          "weakly positive",
          "Neutral",
          "Neutral",
          "Neutral",
          "weakly positive",
          "Neutral",
          "Neutral",
          "Neutral",
          "weakly negative",
          "weakly positive",
          "Neutral",
          "weakly positive",
          "weakly negative",
          "Neutral",
          "Neutral",
          "weakly positive",
          "Neutral",
          "Neutral",
          "weakly negative",
          "Neutral",
          "weakly negative",
          "weakly positive",
          "weakly positive",
          "weakly positive",
          "weakly positive",
          "Neutral",
          "weakly positive",
          "weakly positive",
          "Neutral",
          "Neutral",
          "Neutral",
          "Neutral"
         ],
         "xaxis": "x",
         "y": [
          1,
          1,
          1,
          1,
          1,
          1,
          1,
          1,
          1,
          1,
          1,
          1,
          1,
          1,
          1,
          1,
          1,
          1,
          1,
          1,
          1,
          1,
          1,
          1,
          1,
          1,
          1,
          1,
          1,
          1,
          1,
          1,
          1,
          1,
          1,
          1,
          1,
          1,
          1,
          1,
          1,
          1,
          1,
          1,
          1,
          1,
          1,
          1,
          1,
          1,
          1,
          1,
          1,
          1,
          1,
          1,
          1,
          1,
          1,
          1,
          1,
          1,
          1,
          1,
          1,
          1,
          1,
          1,
          1,
          1,
          1,
          1,
          1,
          1,
          1,
          1,
          1,
          1,
          1,
          1,
          1,
          1,
          1,
          1,
          1,
          1,
          1,
          1,
          1,
          1,
          1,
          1,
          1,
          1,
          1,
          1,
          1,
          1,
          1,
          1,
          1,
          1,
          1,
          1,
          1,
          1,
          1,
          1,
          1,
          1,
          1,
          1,
          1,
          1,
          1,
          1,
          1,
          1,
          1,
          1,
          1,
          1,
          1,
          1,
          1,
          1,
          1,
          1,
          1,
          1,
          1,
          1,
          1,
          1,
          1,
          1,
          1,
          1,
          1,
          1,
          1,
          1,
          1,
          1,
          1,
          1,
          1,
          1,
          1,
          1,
          1,
          1,
          1,
          1,
          1,
          1,
          1,
          1,
          1,
          1,
          1,
          1,
          1,
          1,
          1,
          1,
          1,
          1,
          1,
          1,
          1,
          1,
          1,
          1,
          1,
          1,
          1,
          1,
          1,
          1,
          1,
          1,
          1,
          1,
          1,
          1,
          1,
          1,
          1,
          1,
          1,
          1,
          1,
          1,
          1,
          1,
          1,
          1,
          1,
          1,
          1,
          1,
          1,
          1,
          1,
          1,
          1,
          1,
          1,
          1,
          1,
          1,
          1,
          1,
          1,
          1,
          1,
          1,
          1,
          1,
          1,
          1,
          1,
          1,
          1,
          1,
          1,
          1,
          1,
          1,
          1,
          1,
          1,
          1,
          1,
          1,
          1,
          1,
          1,
          1,
          1,
          1,
          1,
          1,
          1,
          1,
          1,
          1,
          1,
          1,
          1,
          1,
          1,
          1,
          1,
          1,
          1,
          1,
          1,
          1,
          1,
          1,
          1,
          1,
          1,
          1,
          1,
          1,
          1,
          1,
          1,
          1,
          1,
          1,
          1,
          1,
          1,
          1,
          1,
          1,
          1,
          1,
          1,
          1,
          1,
          1,
          1,
          1,
          1,
          1,
          1,
          1,
          1,
          1,
          1,
          1,
          1,
          1,
          1,
          1,
          1,
          1,
          1,
          1,
          1,
          1,
          1,
          1,
          1,
          1,
          1,
          1,
          1,
          1,
          1,
          1,
          1,
          1,
          1,
          1,
          1,
          1,
          1,
          1,
          1,
          1,
          1,
          1,
          1,
          1,
          1,
          1,
          1,
          1,
          1,
          1,
          1,
          1,
          1,
          1,
          1,
          1,
          1,
          1,
          1,
          1,
          1,
          1,
          1,
          1,
          1,
          1,
          1,
          1,
          1,
          1,
          1,
          1,
          1,
          1,
          1,
          1,
          1,
          1,
          1,
          1,
          1,
          1,
          1,
          1,
          1,
          1,
          1,
          1,
          1,
          1,
          1,
          1,
          1,
          1,
          1,
          1,
          1,
          1,
          1,
          1,
          1,
          1,
          1,
          1,
          1,
          1,
          1,
          1,
          1,
          1,
          1,
          1,
          1,
          1,
          1,
          1,
          1,
          1,
          1,
          1,
          1,
          1,
          1,
          1,
          1,
          1,
          1,
          1,
          1,
          1,
          1,
          1,
          1,
          1,
          1,
          1,
          1,
          1,
          1,
          1,
          1,
          1,
          1,
          1,
          1,
          1,
          1,
          1,
          1,
          1,
          1,
          1,
          1,
          1,
          1,
          1,
          1,
          1,
          1,
          1,
          1,
          1,
          1,
          1,
          1,
          1,
          1,
          1,
          1,
          1,
          1,
          1,
          1,
          1,
          1,
          1,
          1,
          1,
          1,
          1,
          1,
          1,
          1,
          1,
          1,
          1,
          1,
          1,
          1,
          1,
          1,
          1,
          1,
          1,
          1,
          1,
          1,
          1,
          1,
          1,
          1,
          1,
          1,
          1,
          1,
          1,
          1,
          1,
          1,
          1,
          1,
          1,
          1,
          1,
          1,
          1,
          1,
          1,
          1,
          1,
          1,
          1,
          1,
          1,
          1,
          1,
          1,
          1,
          1,
          1,
          1,
          1,
          1,
          1,
          1,
          1,
          1,
          1,
          1,
          1,
          1,
          1,
          1,
          1,
          1,
          1,
          1,
          1,
          1,
          1,
          1,
          1,
          1,
          1,
          1,
          1,
          1,
          1,
          1,
          1,
          1,
          1,
          1,
          1,
          1,
          1,
          1,
          1,
          1,
          1,
          1,
          1,
          1,
          1,
          1,
          1,
          1,
          1,
          1,
          1,
          1,
          1,
          1,
          1,
          1,
          1,
          1,
          1,
          1,
          1,
          1,
          1,
          1,
          1,
          1,
          1,
          1,
          1,
          1,
          1,
          1,
          1,
          1,
          1,
          1,
          1,
          1,
          1,
          1,
          1,
          1,
          1,
          1,
          1,
          1,
          1,
          1,
          1,
          1,
          1,
          1,
          1,
          1,
          1,
          1,
          1,
          1,
          1,
          1,
          1,
          1,
          1,
          1,
          1,
          1,
          1,
          1,
          1,
          1,
          1,
          1,
          1,
          1,
          1,
          1,
          1,
          1,
          1,
          1,
          1,
          1,
          1,
          1,
          1,
          1,
          1,
          1,
          1,
          1,
          1,
          1,
          1,
          1,
          1,
          1,
          1,
          1,
          1,
          1,
          1,
          1,
          1,
          1,
          1,
          1,
          1,
          1,
          1,
          1,
          1,
          1,
          1,
          1,
          1,
          1,
          1,
          1,
          1,
          1,
          1,
          1,
          1,
          1,
          1,
          1,
          1,
          1,
          1,
          1,
          1
         ],
         "yaxis": "y"
        },
        {
         "alignmentgroup": "True",
         "hovertemplate": "preds_7=%{x}<br>count=%{y}<extra></extra>",
         "legendgroup": "",
         "marker": {
          "color": "#636efa",
          "pattern": {
           "shape": ""
          }
         },
         "name": "",
         "offsetgroup": "",
         "orientation": "v",
         "showlegend": false,
         "textposition": "auto",
         "type": "bar",
         "x": [
          "Neutral",
          "Neutral",
          "Neutral",
          "Neutral",
          "Neutral",
          "Neutral",
          "Neutral",
          "Neutral",
          "Neutral",
          "Neutral",
          "Neutral",
          "Neutral",
          "Neutral",
          "Neutral",
          "weakly positive",
          "Neutral",
          "Neutral",
          "Neutral",
          "Neutral",
          "Neutral",
          "Neutral",
          "weakly positive",
          "weakly positive",
          "Neutral",
          "weakly positive",
          "Neutral",
          "weakly positive",
          "weakly positive",
          "Neutral",
          "Neutral",
          "Neutral",
          "Neutral",
          "Neutral",
          "Neutral",
          "Neutral",
          "Neutral",
          "Neutral",
          "Neutral",
          "Neutral",
          "Neutral",
          "Neutral",
          "Neutral",
          "Neutral",
          "Neutral",
          "weakly positive",
          "Neutral",
          "Neutral",
          "weakly positive",
          "Neutral",
          "Neutral",
          "Neutral",
          "Neutral",
          "Neutral",
          "Neutral",
          "Neutral",
          "weakly positive",
          "Neutral",
          "Neutral",
          "weakly positive",
          "weakly positive",
          "Neutral",
          "Neutral",
          "weakly positive",
          "weakly positive",
          "weakly positive",
          "Neutral",
          "weakly positive",
          "Neutral",
          "Neutral",
          "Neutral",
          "Neutral",
          "Neutral",
          "weakly positive",
          "Neutral",
          "Neutral",
          "Neutral",
          "Neutral",
          "Neutral",
          "Neutral",
          "Neutral",
          "Neutral",
          "Neutral",
          "Neutral",
          "weakly positive",
          "Neutral",
          "Neutral",
          "Neutral",
          "Neutral",
          "weakly positive",
          "weakly positive",
          "Neutral",
          "Neutral",
          "Neutral",
          "Neutral",
          "Neutral",
          "Neutral",
          "Neutral",
          "Neutral",
          "weakly positive",
          "Neutral",
          "weakly positive",
          "Neutral",
          "Neutral",
          "Neutral",
          "Neutral",
          "weakly positive",
          "Neutral",
          "Neutral",
          "weakly positive",
          "Neutral",
          "Neutral",
          "Neutral",
          "Neutral",
          "Neutral",
          "weakly positive",
          "Neutral",
          "Neutral",
          "Neutral",
          "Neutral",
          "Neutral",
          "weakly positive",
          "weakly positive",
          "Neutral",
          "weakly positive",
          "weakly positive",
          "weakly positive",
          "Neutral",
          "Neutral",
          "Neutral",
          "Neutral",
          "Neutral",
          "Neutral",
          "Neutral",
          "Neutral",
          "weakly positive",
          "Neutral",
          "Neutral",
          "Neutral",
          "Neutral",
          "weakly positive",
          "Neutral",
          "Neutral",
          "weakly positive",
          "weakly positive",
          "Neutral",
          "Neutral",
          "Neutral",
          "Neutral",
          "Neutral",
          "Neutral",
          "weakly positive",
          "Neutral",
          "Neutral",
          "Neutral",
          "Neutral",
          "Neutral",
          "Neutral",
          "Neutral",
          "Neutral",
          "Neutral",
          "weakly positive",
          "Neutral",
          "Neutral",
          "Neutral",
          "Neutral",
          "Neutral",
          "weakly positive",
          "Neutral",
          "Neutral",
          "Neutral",
          "Neutral",
          "Neutral",
          "Neutral",
          "weakly positive",
          "Neutral",
          "Neutral",
          "Neutral",
          "weakly positive",
          "Neutral",
          "Neutral",
          "Neutral",
          "Neutral",
          "Neutral",
          "Neutral",
          "weakly positive",
          "Neutral",
          "Neutral",
          "Neutral",
          "Neutral",
          "weakly positive",
          "Neutral",
          "Neutral",
          "Neutral",
          "Neutral",
          "Neutral",
          "Neutral",
          "Neutral",
          "Neutral",
          "Neutral",
          "Neutral",
          "Neutral",
          "Neutral",
          "Neutral",
          "Neutral",
          "Neutral",
          "Neutral",
          "Neutral",
          "Neutral",
          "Neutral",
          "Neutral",
          "Neutral",
          "Neutral",
          "Neutral",
          "Neutral",
          "Neutral",
          "Neutral",
          "Neutral",
          "weakly positive",
          "weakly positive",
          "Neutral",
          "Neutral",
          "Neutral",
          "Neutral",
          "Neutral",
          "Neutral",
          "Neutral",
          "Neutral",
          "Neutral",
          "Neutral",
          "Neutral",
          "Neutral",
          "Neutral",
          "Neutral",
          "Neutral",
          "Neutral",
          "Neutral",
          "Neutral",
          "Neutral",
          "weakly positive",
          "Neutral",
          "weakly positive",
          "weakly positive",
          "weakly positive",
          "Neutral",
          "Neutral",
          "Neutral",
          "Neutral",
          "Neutral",
          "Neutral",
          "weakly positive",
          "Neutral",
          "Neutral",
          "Neutral",
          "Neutral",
          "weakly positive",
          "Neutral",
          "Neutral",
          "Neutral",
          "Neutral",
          "Neutral",
          "Neutral",
          "weakly positive",
          "Neutral",
          "Neutral",
          "Neutral",
          "Neutral",
          "Neutral",
          "Neutral",
          "Neutral",
          "weakly positive",
          "Neutral",
          "Neutral",
          "weakly positive",
          "Neutral",
          "Neutral",
          "weakly positive",
          "Neutral",
          "weakly positive",
          "Neutral",
          "Neutral",
          "Neutral",
          "Neutral",
          "Neutral",
          "weakly positive",
          "Neutral",
          "Neutral",
          "weakly positive",
          "Neutral",
          "Neutral",
          "Neutral",
          "Neutral",
          "Neutral",
          "Neutral",
          "weakly positive",
          "Neutral",
          "Neutral",
          "Neutral",
          "Neutral",
          "Neutral",
          "weakly positive",
          "Neutral",
          "Neutral",
          "Neutral",
          "Neutral",
          "Neutral",
          "Neutral",
          "Neutral",
          "Neutral",
          "Neutral",
          "Neutral",
          "weakly positive",
          "Neutral",
          "Neutral",
          "weakly positive",
          "Neutral",
          "Neutral",
          "Neutral",
          "Neutral",
          "weakly positive",
          "Neutral",
          "Neutral",
          "Neutral",
          "Neutral",
          "Neutral",
          "Neutral",
          "Neutral",
          "Neutral",
          "Neutral",
          "Neutral",
          "Neutral",
          "weakly positive",
          "weakly positive",
          "Neutral",
          "Neutral",
          "weakly positive",
          "Neutral",
          "Neutral",
          "Neutral",
          "Neutral",
          "Neutral",
          "Neutral",
          "Neutral",
          "weakly positive",
          "Neutral",
          "Neutral",
          "Neutral",
          "weakly positive",
          "Neutral",
          "weakly positive",
          "weakly positive",
          "Neutral",
          "weakly positive",
          "weakly positive",
          "weakly positive",
          "Neutral",
          "Neutral",
          "Neutral",
          "Neutral",
          "weakly positive",
          "Neutral",
          "Neutral",
          "Neutral",
          "Neutral",
          "Neutral",
          "weakly positive",
          "Neutral",
          "Neutral",
          "weakly positive",
          "Neutral",
          "weakly positive",
          "Neutral",
          "Neutral",
          "weakly positive",
          "Neutral",
          "Neutral",
          "Neutral",
          "weakly positive",
          "Neutral",
          "Neutral",
          "Neutral",
          "Neutral",
          "Neutral",
          "Neutral",
          "Neutral",
          "Neutral",
          "Neutral",
          "Neutral",
          "Neutral",
          "Neutral",
          "Neutral",
          "Neutral",
          "Neutral",
          "weakly positive",
          "Neutral",
          "Neutral",
          "Neutral",
          "weakly positive",
          "Neutral",
          "Neutral",
          "Neutral",
          "Neutral",
          "Neutral",
          "weakly positive",
          "Neutral",
          "Neutral",
          "Neutral",
          "Neutral",
          "Neutral",
          "weakly positive",
          "Neutral",
          "Neutral",
          "Neutral",
          "Neutral",
          "Neutral",
          "Neutral",
          "Neutral",
          "Neutral",
          "Neutral",
          "Neutral",
          "Neutral",
          "Neutral",
          "Neutral",
          "Neutral",
          "Neutral",
          "Neutral",
          "Neutral",
          "Neutral",
          "Neutral",
          "weakly positive",
          "weakly positive",
          "Neutral",
          "Neutral",
          "Neutral",
          "Neutral",
          "weakly positive",
          "Neutral",
          "Neutral",
          "Neutral",
          "weakly positive",
          "Neutral",
          "Neutral",
          "Neutral",
          "Neutral",
          "Neutral",
          "Neutral",
          "Neutral",
          "Neutral",
          "weakly positive",
          "Neutral",
          "Neutral",
          "Neutral",
          "Neutral",
          "Neutral",
          "Neutral",
          "weakly positive",
          "Neutral",
          "Neutral",
          "weakly positive",
          "Neutral",
          "weakly positive",
          "Neutral",
          "Neutral",
          "Neutral",
          "Neutral",
          "weakly positive",
          "weakly positive",
          "Neutral",
          "Neutral",
          "Neutral",
          "Neutral",
          "Neutral",
          "Neutral",
          "Neutral",
          "Neutral",
          "weakly positive",
          "Neutral",
          "Neutral",
          "weakly positive",
          "Neutral",
          "weakly positive",
          "Neutral",
          "Neutral",
          "Neutral",
          "weakly positive",
          "Neutral",
          "weakly positive",
          "Neutral",
          "Neutral",
          "Neutral",
          "Neutral",
          "Neutral",
          "Neutral",
          "Neutral",
          "Neutral",
          "Neutral",
          "weakly positive",
          "Neutral",
          "weakly positive",
          "Neutral",
          "Neutral",
          "Neutral",
          "Neutral",
          "Neutral",
          "Neutral",
          "Neutral",
          "Neutral",
          "Neutral",
          "weakly positive",
          "Neutral",
          "weakly positive",
          "Neutral",
          "weakly positive",
          "Neutral",
          "Neutral",
          "Neutral",
          "Neutral",
          "weakly positive",
          "Neutral",
          "Neutral",
          "weakly positive",
          "Neutral",
          "Neutral",
          "Neutral",
          "Neutral",
          "Neutral",
          "Neutral",
          "Neutral",
          "Neutral",
          "Neutral",
          "Neutral",
          "Neutral",
          "Neutral",
          "Neutral",
          "Neutral",
          "Neutral",
          "Neutral",
          "Neutral",
          "Neutral",
          "Neutral",
          "Neutral",
          "Neutral",
          "weakly positive",
          "weakly positive",
          "Neutral",
          "Neutral",
          "weakly positive",
          "Neutral",
          "weakly positive",
          "Neutral",
          "Neutral",
          "Neutral",
          "Neutral",
          "Neutral",
          "Neutral",
          "Neutral",
          "Neutral",
          "Neutral",
          "weakly positive",
          "Neutral",
          "Neutral",
          "weakly positive",
          "Neutral",
          "Neutral",
          "Neutral",
          "weakly positive",
          "weakly positive",
          "Neutral",
          "Neutral",
          "Neutral",
          "Neutral",
          "Neutral",
          "Neutral",
          "Neutral",
          "Neutral",
          "Neutral",
          "Neutral",
          "Neutral",
          "Neutral",
          "Neutral",
          "Neutral",
          "Neutral",
          "Neutral",
          "weakly positive",
          "Neutral",
          "Neutral",
          "Neutral",
          "weakly positive",
          "weakly positive",
          "Neutral",
          "Neutral",
          "Neutral",
          "Neutral",
          "Neutral",
          "Neutral",
          "Neutral",
          "Neutral",
          "Neutral",
          "Neutral",
          "Neutral",
          "Neutral",
          "Neutral",
          "Neutral",
          "Neutral",
          "Neutral",
          "Neutral",
          "Neutral",
          "Neutral",
          "Neutral",
          "Neutral",
          "Neutral",
          "Neutral",
          "Neutral",
          "Neutral",
          "Neutral",
          "Neutral",
          "Neutral",
          "Neutral",
          "Neutral",
          "Neutral",
          "Neutral",
          "Neutral",
          "Neutral",
          "Neutral",
          "Neutral",
          "Neutral",
          "Neutral",
          "Neutral",
          "Neutral",
          "Neutral",
          "Neutral",
          "weakly positive",
          "Neutral",
          "Neutral",
          "Neutral",
          "weakly positive",
          "Neutral",
          "Neutral",
          "Neutral",
          "weakly positive",
          "Neutral",
          "Neutral",
          "Neutral",
          "Neutral",
          "Neutral",
          "Neutral",
          "weakly positive",
          "weakly positive",
          "Neutral",
          "weakly positive",
          "Neutral",
          "Neutral",
          "Neutral",
          "Neutral",
          "Neutral",
          "Neutral",
          "Neutral",
          "Neutral",
          "Neutral",
          "Neutral",
          "Neutral",
          "weakly positive",
          "Neutral",
          "Neutral",
          "weakly positive",
          "weakly positive",
          "Neutral",
          "Neutral",
          "Neutral",
          "Neutral",
          "Neutral",
          "Neutral",
          "Neutral",
          "Neutral",
          "Neutral",
          "Neutral",
          "Neutral",
          "Neutral",
          "Neutral",
          "Neutral",
          "Neutral",
          "weakly positive",
          "Neutral",
          "weakly positive",
          "Neutral",
          "Neutral",
          "Neutral"
         ],
         "xaxis": "x2",
         "y": [
          1,
          1,
          1,
          1,
          1,
          1,
          1,
          1,
          1,
          1,
          1,
          1,
          1,
          1,
          1,
          1,
          1,
          1,
          1,
          1,
          1,
          1,
          1,
          1,
          1,
          1,
          1,
          1,
          1,
          1,
          1,
          1,
          1,
          1,
          1,
          1,
          1,
          1,
          1,
          1,
          1,
          1,
          1,
          1,
          1,
          1,
          1,
          1,
          1,
          1,
          1,
          1,
          1,
          1,
          1,
          1,
          1,
          1,
          1,
          1,
          1,
          1,
          1,
          1,
          1,
          1,
          1,
          1,
          1,
          1,
          1,
          1,
          1,
          1,
          1,
          1,
          1,
          1,
          1,
          1,
          1,
          1,
          1,
          1,
          1,
          1,
          1,
          1,
          1,
          1,
          1,
          1,
          1,
          1,
          1,
          1,
          1,
          1,
          1,
          1,
          1,
          1,
          1,
          1,
          1,
          1,
          1,
          1,
          1,
          1,
          1,
          1,
          1,
          1,
          1,
          1,
          1,
          1,
          1,
          1,
          1,
          1,
          1,
          1,
          1,
          1,
          1,
          1,
          1,
          1,
          1,
          1,
          1,
          1,
          1,
          1,
          1,
          1,
          1,
          1,
          1,
          1,
          1,
          1,
          1,
          1,
          1,
          1,
          1,
          1,
          1,
          1,
          1,
          1,
          1,
          1,
          1,
          1,
          1,
          1,
          1,
          1,
          1,
          1,
          1,
          1,
          1,
          1,
          1,
          1,
          1,
          1,
          1,
          1,
          1,
          1,
          1,
          1,
          1,
          1,
          1,
          1,
          1,
          1,
          1,
          1,
          1,
          1,
          1,
          1,
          1,
          1,
          1,
          1,
          1,
          1,
          1,
          1,
          1,
          1,
          1,
          1,
          1,
          1,
          1,
          1,
          1,
          1,
          1,
          1,
          1,
          1,
          1,
          1,
          1,
          1,
          1,
          1,
          1,
          1,
          1,
          1,
          1,
          1,
          1,
          1,
          1,
          1,
          1,
          1,
          1,
          1,
          1,
          1,
          1,
          1,
          1,
          1,
          1,
          1,
          1,
          1,
          1,
          1,
          1,
          1,
          1,
          1,
          1,
          1,
          1,
          1,
          1,
          1,
          1,
          1,
          1,
          1,
          1,
          1,
          1,
          1,
          1,
          1,
          1,
          1,
          1,
          1,
          1,
          1,
          1,
          1,
          1,
          1,
          1,
          1,
          1,
          1,
          1,
          1,
          1,
          1,
          1,
          1,
          1,
          1,
          1,
          1,
          1,
          1,
          1,
          1,
          1,
          1,
          1,
          1,
          1,
          1,
          1,
          1,
          1,
          1,
          1,
          1,
          1,
          1,
          1,
          1,
          1,
          1,
          1,
          1,
          1,
          1,
          1,
          1,
          1,
          1,
          1,
          1,
          1,
          1,
          1,
          1,
          1,
          1,
          1,
          1,
          1,
          1,
          1,
          1,
          1,
          1,
          1,
          1,
          1,
          1,
          1,
          1,
          1,
          1,
          1,
          1,
          1,
          1,
          1,
          1,
          1,
          1,
          1,
          1,
          1,
          1,
          1,
          1,
          1,
          1,
          1,
          1,
          1,
          1,
          1,
          1,
          1,
          1,
          1,
          1,
          1,
          1,
          1,
          1,
          1,
          1,
          1,
          1,
          1,
          1,
          1,
          1,
          1,
          1,
          1,
          1,
          1,
          1,
          1,
          1,
          1,
          1,
          1,
          1,
          1,
          1,
          1,
          1,
          1,
          1,
          1,
          1,
          1,
          1,
          1,
          1,
          1,
          1,
          1,
          1,
          1,
          1,
          1,
          1,
          1,
          1,
          1,
          1,
          1,
          1,
          1,
          1,
          1,
          1,
          1,
          1,
          1,
          1,
          1,
          1,
          1,
          1,
          1,
          1,
          1,
          1,
          1,
          1,
          1,
          1,
          1,
          1,
          1,
          1,
          1,
          1,
          1,
          1,
          1,
          1,
          1,
          1,
          1,
          1,
          1,
          1,
          1,
          1,
          1,
          1,
          1,
          1,
          1,
          1,
          1,
          1,
          1,
          1,
          1,
          1,
          1,
          1,
          1,
          1,
          1,
          1,
          1,
          1,
          1,
          1,
          1,
          1,
          1,
          1,
          1,
          1,
          1,
          1,
          1,
          1,
          1,
          1,
          1,
          1,
          1,
          1,
          1,
          1,
          1,
          1,
          1,
          1,
          1,
          1,
          1,
          1,
          1,
          1,
          1,
          1,
          1,
          1,
          1,
          1,
          1,
          1,
          1,
          1,
          1,
          1,
          1,
          1,
          1,
          1,
          1,
          1,
          1,
          1,
          1,
          1,
          1,
          1,
          1,
          1,
          1,
          1,
          1,
          1,
          1,
          1,
          1,
          1,
          1,
          1,
          1,
          1,
          1,
          1,
          1,
          1,
          1,
          1,
          1,
          1,
          1,
          1,
          1,
          1,
          1,
          1,
          1,
          1,
          1,
          1,
          1,
          1,
          1,
          1,
          1,
          1,
          1,
          1,
          1,
          1,
          1,
          1,
          1,
          1,
          1,
          1,
          1,
          1,
          1,
          1,
          1,
          1,
          1,
          1,
          1,
          1,
          1,
          1,
          1,
          1,
          1,
          1,
          1,
          1,
          1,
          1,
          1,
          1,
          1,
          1,
          1,
          1,
          1,
          1,
          1,
          1,
          1,
          1,
          1,
          1,
          1,
          1,
          1,
          1,
          1,
          1,
          1,
          1,
          1,
          1,
          1,
          1,
          1,
          1,
          1,
          1,
          1,
          1,
          1,
          1,
          1,
          1,
          1,
          1,
          1,
          1,
          1,
          1,
          1,
          1,
          1,
          1,
          1,
          1,
          1,
          1,
          1,
          1,
          1,
          1,
          1,
          1,
          1,
          1,
          1,
          1,
          1,
          1,
          1,
          1,
          1,
          1,
          1,
          1,
          1,
          1,
          1,
          1,
          1,
          1,
          1,
          1,
          1,
          1,
          1,
          1,
          1,
          1,
          1,
          1,
          1,
          1,
          1,
          1
         ],
         "yaxis": "y2"
        }
       ],
       "layout": {
        "annotations": [
         {
          "font": {
           "size": 16
          },
          "showarrow": false,
          "text": "TFN-40d",
          "x": 0.225,
          "xanchor": "center",
          "xref": "paper",
          "y": 1,
          "yanchor": "bottom",
          "yref": "paper"
         },
         {
          "font": {
           "size": 16
          },
          "showarrow": false,
          "text": "TFN-16d",
          "x": 0.775,
          "xanchor": "center",
          "xref": "paper",
          "y": 1,
          "yanchor": "bottom",
          "yref": "paper"
         }
        ],
        "height": 600,
        "template": {
         "data": {
          "bar": [
           {
            "error_x": {
             "color": "#2a3f5f"
            },
            "error_y": {
             "color": "#2a3f5f"
            },
            "marker": {
             "line": {
              "color": "#E5ECF6",
              "width": 0.5
             },
             "pattern": {
              "fillmode": "overlay",
              "size": 10,
              "solidity": 0.2
             }
            },
            "type": "bar"
           }
          ],
          "barpolar": [
           {
            "marker": {
             "line": {
              "color": "#E5ECF6",
              "width": 0.5
             },
             "pattern": {
              "fillmode": "overlay",
              "size": 10,
              "solidity": 0.2
             }
            },
            "type": "barpolar"
           }
          ],
          "carpet": [
           {
            "aaxis": {
             "endlinecolor": "#2a3f5f",
             "gridcolor": "white",
             "linecolor": "white",
             "minorgridcolor": "white",
             "startlinecolor": "#2a3f5f"
            },
            "baxis": {
             "endlinecolor": "#2a3f5f",
             "gridcolor": "white",
             "linecolor": "white",
             "minorgridcolor": "white",
             "startlinecolor": "#2a3f5f"
            },
            "type": "carpet"
           }
          ],
          "choropleth": [
           {
            "colorbar": {
             "outlinewidth": 0,
             "ticks": ""
            },
            "type": "choropleth"
           }
          ],
          "contour": [
           {
            "colorbar": {
             "outlinewidth": 0,
             "ticks": ""
            },
            "colorscale": [
             [
              0,
              "#0d0887"
             ],
             [
              0.1111111111111111,
              "#46039f"
             ],
             [
              0.2222222222222222,
              "#7201a8"
             ],
             [
              0.3333333333333333,
              "#9c179e"
             ],
             [
              0.4444444444444444,
              "#bd3786"
             ],
             [
              0.5555555555555556,
              "#d8576b"
             ],
             [
              0.6666666666666666,
              "#ed7953"
             ],
             [
              0.7777777777777778,
              "#fb9f3a"
             ],
             [
              0.8888888888888888,
              "#fdca26"
             ],
             [
              1,
              "#f0f921"
             ]
            ],
            "type": "contour"
           }
          ],
          "contourcarpet": [
           {
            "colorbar": {
             "outlinewidth": 0,
             "ticks": ""
            },
            "type": "contourcarpet"
           }
          ],
          "heatmap": [
           {
            "colorbar": {
             "outlinewidth": 0,
             "ticks": ""
            },
            "colorscale": [
             [
              0,
              "#0d0887"
             ],
             [
              0.1111111111111111,
              "#46039f"
             ],
             [
              0.2222222222222222,
              "#7201a8"
             ],
             [
              0.3333333333333333,
              "#9c179e"
             ],
             [
              0.4444444444444444,
              "#bd3786"
             ],
             [
              0.5555555555555556,
              "#d8576b"
             ],
             [
              0.6666666666666666,
              "#ed7953"
             ],
             [
              0.7777777777777778,
              "#fb9f3a"
             ],
             [
              0.8888888888888888,
              "#fdca26"
             ],
             [
              1,
              "#f0f921"
             ]
            ],
            "type": "heatmap"
           }
          ],
          "heatmapgl": [
           {
            "colorbar": {
             "outlinewidth": 0,
             "ticks": ""
            },
            "colorscale": [
             [
              0,
              "#0d0887"
             ],
             [
              0.1111111111111111,
              "#46039f"
             ],
             [
              0.2222222222222222,
              "#7201a8"
             ],
             [
              0.3333333333333333,
              "#9c179e"
             ],
             [
              0.4444444444444444,
              "#bd3786"
             ],
             [
              0.5555555555555556,
              "#d8576b"
             ],
             [
              0.6666666666666666,
              "#ed7953"
             ],
             [
              0.7777777777777778,
              "#fb9f3a"
             ],
             [
              0.8888888888888888,
              "#fdca26"
             ],
             [
              1,
              "#f0f921"
             ]
            ],
            "type": "heatmapgl"
           }
          ],
          "histogram": [
           {
            "marker": {
             "pattern": {
              "fillmode": "overlay",
              "size": 10,
              "solidity": 0.2
             }
            },
            "type": "histogram"
           }
          ],
          "histogram2d": [
           {
            "colorbar": {
             "outlinewidth": 0,
             "ticks": ""
            },
            "colorscale": [
             [
              0,
              "#0d0887"
             ],
             [
              0.1111111111111111,
              "#46039f"
             ],
             [
              0.2222222222222222,
              "#7201a8"
             ],
             [
              0.3333333333333333,
              "#9c179e"
             ],
             [
              0.4444444444444444,
              "#bd3786"
             ],
             [
              0.5555555555555556,
              "#d8576b"
             ],
             [
              0.6666666666666666,
              "#ed7953"
             ],
             [
              0.7777777777777778,
              "#fb9f3a"
             ],
             [
              0.8888888888888888,
              "#fdca26"
             ],
             [
              1,
              "#f0f921"
             ]
            ],
            "type": "histogram2d"
           }
          ],
          "histogram2dcontour": [
           {
            "colorbar": {
             "outlinewidth": 0,
             "ticks": ""
            },
            "colorscale": [
             [
              0,
              "#0d0887"
             ],
             [
              0.1111111111111111,
              "#46039f"
             ],
             [
              0.2222222222222222,
              "#7201a8"
             ],
             [
              0.3333333333333333,
              "#9c179e"
             ],
             [
              0.4444444444444444,
              "#bd3786"
             ],
             [
              0.5555555555555556,
              "#d8576b"
             ],
             [
              0.6666666666666666,
              "#ed7953"
             ],
             [
              0.7777777777777778,
              "#fb9f3a"
             ],
             [
              0.8888888888888888,
              "#fdca26"
             ],
             [
              1,
              "#f0f921"
             ]
            ],
            "type": "histogram2dcontour"
           }
          ],
          "mesh3d": [
           {
            "colorbar": {
             "outlinewidth": 0,
             "ticks": ""
            },
            "type": "mesh3d"
           }
          ],
          "parcoords": [
           {
            "line": {
             "colorbar": {
              "outlinewidth": 0,
              "ticks": ""
             }
            },
            "type": "parcoords"
           }
          ],
          "pie": [
           {
            "automargin": true,
            "type": "pie"
           }
          ],
          "scatter": [
           {
            "fillpattern": {
             "fillmode": "overlay",
             "size": 10,
             "solidity": 0.2
            },
            "type": "scatter"
           }
          ],
          "scatter3d": [
           {
            "line": {
             "colorbar": {
              "outlinewidth": 0,
              "ticks": ""
             }
            },
            "marker": {
             "colorbar": {
              "outlinewidth": 0,
              "ticks": ""
             }
            },
            "type": "scatter3d"
           }
          ],
          "scattercarpet": [
           {
            "marker": {
             "colorbar": {
              "outlinewidth": 0,
              "ticks": ""
             }
            },
            "type": "scattercarpet"
           }
          ],
          "scattergeo": [
           {
            "marker": {
             "colorbar": {
              "outlinewidth": 0,
              "ticks": ""
             }
            },
            "type": "scattergeo"
           }
          ],
          "scattergl": [
           {
            "marker": {
             "colorbar": {
              "outlinewidth": 0,
              "ticks": ""
             }
            },
            "type": "scattergl"
           }
          ],
          "scattermapbox": [
           {
            "marker": {
             "colorbar": {
              "outlinewidth": 0,
              "ticks": ""
             }
            },
            "type": "scattermapbox"
           }
          ],
          "scatterpolar": [
           {
            "marker": {
             "colorbar": {
              "outlinewidth": 0,
              "ticks": ""
             }
            },
            "type": "scatterpolar"
           }
          ],
          "scatterpolargl": [
           {
            "marker": {
             "colorbar": {
              "outlinewidth": 0,
              "ticks": ""
             }
            },
            "type": "scatterpolargl"
           }
          ],
          "scatterternary": [
           {
            "marker": {
             "colorbar": {
              "outlinewidth": 0,
              "ticks": ""
             }
            },
            "type": "scatterternary"
           }
          ],
          "surface": [
           {
            "colorbar": {
             "outlinewidth": 0,
             "ticks": ""
            },
            "colorscale": [
             [
              0,
              "#0d0887"
             ],
             [
              0.1111111111111111,
              "#46039f"
             ],
             [
              0.2222222222222222,
              "#7201a8"
             ],
             [
              0.3333333333333333,
              "#9c179e"
             ],
             [
              0.4444444444444444,
              "#bd3786"
             ],
             [
              0.5555555555555556,
              "#d8576b"
             ],
             [
              0.6666666666666666,
              "#ed7953"
             ],
             [
              0.7777777777777778,
              "#fb9f3a"
             ],
             [
              0.8888888888888888,
              "#fdca26"
             ],
             [
              1,
              "#f0f921"
             ]
            ],
            "type": "surface"
           }
          ],
          "table": [
           {
            "cells": {
             "fill": {
              "color": "#EBF0F8"
             },
             "line": {
              "color": "white"
             }
            },
            "header": {
             "fill": {
              "color": "#C8D4E3"
             },
             "line": {
              "color": "white"
             }
            },
            "type": "table"
           }
          ]
         },
         "layout": {
          "annotationdefaults": {
           "arrowcolor": "#2a3f5f",
           "arrowhead": 0,
           "arrowwidth": 1
          },
          "autotypenumbers": "strict",
          "coloraxis": {
           "colorbar": {
            "outlinewidth": 0,
            "ticks": ""
           }
          },
          "colorscale": {
           "diverging": [
            [
             0,
             "#8e0152"
            ],
            [
             0.1,
             "#c51b7d"
            ],
            [
             0.2,
             "#de77ae"
            ],
            [
             0.3,
             "#f1b6da"
            ],
            [
             0.4,
             "#fde0ef"
            ],
            [
             0.5,
             "#f7f7f7"
            ],
            [
             0.6,
             "#e6f5d0"
            ],
            [
             0.7,
             "#b8e186"
            ],
            [
             0.8,
             "#7fbc41"
            ],
            [
             0.9,
             "#4d9221"
            ],
            [
             1,
             "#276419"
            ]
           ],
           "sequential": [
            [
             0,
             "#0d0887"
            ],
            [
             0.1111111111111111,
             "#46039f"
            ],
            [
             0.2222222222222222,
             "#7201a8"
            ],
            [
             0.3333333333333333,
             "#9c179e"
            ],
            [
             0.4444444444444444,
             "#bd3786"
            ],
            [
             0.5555555555555556,
             "#d8576b"
            ],
            [
             0.6666666666666666,
             "#ed7953"
            ],
            [
             0.7777777777777778,
             "#fb9f3a"
            ],
            [
             0.8888888888888888,
             "#fdca26"
            ],
            [
             1,
             "#f0f921"
            ]
           ],
           "sequentialminus": [
            [
             0,
             "#0d0887"
            ],
            [
             0.1111111111111111,
             "#46039f"
            ],
            [
             0.2222222222222222,
             "#7201a8"
            ],
            [
             0.3333333333333333,
             "#9c179e"
            ],
            [
             0.4444444444444444,
             "#bd3786"
            ],
            [
             0.5555555555555556,
             "#d8576b"
            ],
            [
             0.6666666666666666,
             "#ed7953"
            ],
            [
             0.7777777777777778,
             "#fb9f3a"
            ],
            [
             0.8888888888888888,
             "#fdca26"
            ],
            [
             1,
             "#f0f921"
            ]
           ]
          },
          "colorway": [
           "#636efa",
           "#EF553B",
           "#00cc96",
           "#ab63fa",
           "#FFA15A",
           "#19d3f3",
           "#FF6692",
           "#B6E880",
           "#FF97FF",
           "#FECB52"
          ],
          "font": {
           "color": "#2a3f5f"
          },
          "geo": {
           "bgcolor": "white",
           "lakecolor": "white",
           "landcolor": "#E5ECF6",
           "showlakes": true,
           "showland": true,
           "subunitcolor": "white"
          },
          "hoverlabel": {
           "align": "left"
          },
          "hovermode": "closest",
          "mapbox": {
           "style": "light"
          },
          "paper_bgcolor": "white",
          "plot_bgcolor": "#E5ECF6",
          "polar": {
           "angularaxis": {
            "gridcolor": "white",
            "linecolor": "white",
            "ticks": ""
           },
           "bgcolor": "#E5ECF6",
           "radialaxis": {
            "gridcolor": "white",
            "linecolor": "white",
            "ticks": ""
           }
          },
          "scene": {
           "xaxis": {
            "backgroundcolor": "#E5ECF6",
            "gridcolor": "white",
            "gridwidth": 2,
            "linecolor": "white",
            "showbackground": true,
            "ticks": "",
            "zerolinecolor": "white"
           },
           "yaxis": {
            "backgroundcolor": "#E5ECF6",
            "gridcolor": "white",
            "gridwidth": 2,
            "linecolor": "white",
            "showbackground": true,
            "ticks": "",
            "zerolinecolor": "white"
           },
           "zaxis": {
            "backgroundcolor": "#E5ECF6",
            "gridcolor": "white",
            "gridwidth": 2,
            "linecolor": "white",
            "showbackground": true,
            "ticks": "",
            "zerolinecolor": "white"
           }
          },
          "shapedefaults": {
           "line": {
            "color": "#2a3f5f"
           }
          },
          "ternary": {
           "aaxis": {
            "gridcolor": "white",
            "linecolor": "white",
            "ticks": ""
           },
           "baxis": {
            "gridcolor": "white",
            "linecolor": "white",
            "ticks": ""
           },
           "bgcolor": "#E5ECF6",
           "caxis": {
            "gridcolor": "white",
            "linecolor": "white",
            "ticks": ""
           }
          },
          "title": {
           "x": 0.05
          },
          "xaxis": {
           "automargin": true,
           "gridcolor": "white",
           "linecolor": "white",
           "ticks": "",
           "title": {
            "standoff": 15
           },
           "zerolinecolor": "white",
           "zerolinewidth": 2
          },
          "yaxis": {
           "automargin": true,
           "gridcolor": "white",
           "linecolor": "white",
           "ticks": "",
           "title": {
            "standoff": 15
           },
           "zerolinecolor": "white",
           "zerolinewidth": 2
          }
         }
        },
        "title": {
         "text": "TFN frozen dimension"
        },
        "width": 1200,
        "xaxis": {
         "anchor": "y",
         "categoryarray": [
          "very negative",
          "negative",
          "weakly negative",
          "Neutral",
          "weakly positive",
          "positive",
          "very positive"
         ],
         "categoryorder": "array",
         "domain": [
          0,
          0.45
         ]
        },
        "xaxis2": {
         "anchor": "y2",
         "categoryarray": [
          "very negative",
          "negative",
          "weakly negative",
          "Neutral",
          "weakly positive",
          "positive",
          "very positive"
         ],
         "categoryorder": "array",
         "domain": [
          0.55,
          1
         ]
        },
        "yaxis": {
         "anchor": "x",
         "domain": [
          0,
          1
         ],
         "range": [
          0,
          300
         ]
        },
        "yaxis2": {
         "anchor": "x2",
         "domain": [
          0,
          1
         ],
         "range": [
          0,
          300
         ]
        }
       }
      },
      "text/html": [
       "<div>                            <div id=\"b7b9befa-5171-4ced-a64b-f6c35154e4a4\" class=\"plotly-graph-div\" style=\"height:600px; width:1200px;\"></div>            <script type=\"text/javascript\">                require([\"plotly\"], function(Plotly) {                    window.PLOTLYENV=window.PLOTLYENV || {};                                    if (document.getElementById(\"b7b9befa-5171-4ced-a64b-f6c35154e4a4\")) {                    Plotly.newPlot(                        \"b7b9befa-5171-4ced-a64b-f6c35154e4a4\",                        [{\"alignmentgroup\":\"True\",\"hovertemplate\":\"preds_7=%{x}<br>count=%{y}<extra></extra>\",\"legendgroup\":\"\",\"marker\":{\"color\":\"#636efa\",\"pattern\":{\"shape\":\"\"}},\"name\":\"\",\"offsetgroup\":\"\",\"orientation\":\"v\",\"showlegend\":false,\"textposition\":\"auto\",\"x\":[\"weakly positive\",\"weakly positive\",\"Neutral\",\"weakly positive\",\"weakly negative\",\"Neutral\",\"Neutral\",\"weakly positive\",\"Neutral\",\"weakly positive\",\"positive\",\"weakly negative\",\"weakly negative\",\"Neutral\",\"Neutral\",\"Neutral\",\"Neutral\",\"Neutral\",\"weakly negative\",\"weakly positive\",\"Neutral\",\"Neutral\",\"weakly positive\",\"weakly positive\",\"Neutral\",\"weakly positive\",\"weakly positive\",\"weakly positive\",\"Neutral\",\"Neutral\",\"Neutral\",\"Neutral\",\"weakly positive\",\"Neutral\",\"Neutral\",\"Neutral\",\"Neutral\",\"Neutral\",\"weakly positive\",\"weakly negative\",\"Neutral\",\"weakly positive\",\"Neutral\",\"Neutral\",\"positive\",\"weakly positive\",\"weakly negative\",\"Neutral\",\"weakly positive\",\"weakly positive\",\"weakly positive\",\"Neutral\",\"weakly negative\",\"weakly negative\",\"Neutral\",\"weakly positive\",\"Neutral\",\"weakly positive\",\"positive\",\"weakly positive\",\"weakly negative\",\"Neutral\",\"Neutral\",\"weakly positive\",\"weakly negative\",\"Neutral\",\"weakly negative\",\"weakly positive\",\"weakly negative\",\"Neutral\",\"Neutral\",\"Neutral\",\"Neutral\",\"weakly negative\",\"Neutral\",\"positive\",\"Neutral\",\"Neutral\",\"weakly negative\",\"weakly positive\",\"weakly negative\",\"Neutral\",\"Neutral\",\"weakly positive\",\"Neutral\",\"weakly positive\",\"Neutral\",\"weakly positive\",\"Neutral\",\"weakly positive\",\"Neutral\",\"Neutral\",\"weakly positive\",\"weakly positive\",\"weakly negative\",\"Neutral\",\"Neutral\",\"weakly positive\",\"weakly negative\",\"weakly positive\",\"weakly negative\",\"Neutral\",\"weakly positive\",\"Neutral\",\"Neutral\",\"weakly negative\",\"weakly positive\",\"weakly positive\",\"Neutral\",\"weakly positive\",\"positive\",\"Neutral\",\"weakly positive\",\"positive\",\"Neutral\",\"weakly positive\",\"Neutral\",\"positive\",\"very positive\",\"weakly negative\",\"weakly positive\",\"weakly positive\",\"Neutral\",\"positive\",\"weakly negative\",\"weakly positive\",\"weakly negative\",\"Neutral\",\"weakly negative\",\"Neutral\",\"Neutral\",\"weakly negative\",\"Neutral\",\"weakly negative\",\"Neutral\",\"Neutral\",\"Neutral\",\"weakly negative\",\"weakly positive\",\"Neutral\",\"weakly negative\",\"Neutral\",\"Neutral\",\"weakly positive\",\"Neutral\",\"weakly positive\",\"Neutral\",\"Neutral\",\"weakly positive\",\"weakly negative\",\"Neutral\",\"weakly negative\",\"Neutral\",\"weakly positive\",\"Neutral\",\"weakly positive\",\"weakly negative\",\"Neutral\",\"Neutral\",\"weakly negative\",\"Neutral\",\"weakly negative\",\"weakly negative\",\"weakly positive\",\"weakly positive\",\"Neutral\",\"Neutral\",\"positive\",\"weakly negative\",\"Neutral\",\"weakly negative\",\"Neutral\",\"Neutral\",\"Neutral\",\"Neutral\",\"weakly negative\",\"weakly negative\",\"weakly positive\",\"Neutral\",\"Neutral\",\"positive\",\"weakly positive\",\"weakly negative\",\"weakly negative\",\"positive\",\"Neutral\",\"weakly positive\",\"positive\",\"Neutral\",\"positive\",\"Neutral\",\"Neutral\",\"Neutral\",\"Neutral\",\"weakly negative\",\"Neutral\",\"weakly positive\",\"weakly positive\",\"Neutral\",\"weakly positive\",\"weakly positive\",\"Neutral\",\"Neutral\",\"Neutral\",\"positive\",\"Neutral\",\"weakly negative\",\"Neutral\",\"Neutral\",\"Neutral\",\"weakly positive\",\"Neutral\",\"weakly negative\",\"weakly positive\",\"weakly positive\",\"weakly negative\",\"positive\",\"Neutral\",\"weakly positive\",\"Neutral\",\"weakly negative\",\"Neutral\",\"weakly positive\",\"positive\",\"weakly negative\",\"positive\",\"Neutral\",\"weakly negative\",\"Neutral\",\"weakly positive\",\"weakly negative\",\"Neutral\",\"Neutral\",\"Neutral\",\"Neutral\",\"weakly positive\",\"Neutral\",\"Neutral\",\"weakly positive\",\"Neutral\",\"Neutral\",\"weakly negative\",\"weakly negative\",\"weakly positive\",\"Neutral\",\"Neutral\",\"weakly negative\",\"weakly positive\",\"weakly negative\",\"weakly positive\",\"positive\",\"positive\",\"weakly positive\",\"weakly positive\",\"weakly negative\",\"weakly positive\",\"Neutral\",\"Neutral\",\"Neutral\",\"weakly negative\",\"weakly positive\",\"weakly positive\",\"Neutral\",\"Neutral\",\"Neutral\",\"Neutral\",\"weakly positive\",\"Neutral\",\"Neutral\",\"positive\",\"weakly positive\",\"weakly positive\",\"weakly positive\",\"Neutral\",\"Neutral\",\"Neutral\",\"weakly positive\",\"weakly positive\",\"Neutral\",\"positive\",\"Neutral\",\"weakly positive\",\"weakly positive\",\"weakly positive\",\"weakly negative\",\"Neutral\",\"Neutral\",\"weakly positive\",\"weakly positive\",\"weakly positive\",\"weakly negative\",\"Neutral\",\"Neutral\",\"Neutral\",\"Neutral\",\"weakly negative\",\"positive\",\"weakly negative\",\"weakly positive\",\"Neutral\",\"weakly positive\",\"Neutral\",\"positive\",\"Neutral\",\"positive\",\"weakly positive\",\"weakly negative\",\"weakly positive\",\"Neutral\",\"weakly positive\",\"weakly positive\",\"positive\",\"positive\",\"weakly negative\",\"weakly positive\",\"Neutral\",\"weakly negative\",\"weakly positive\",\"weakly positive\",\"Neutral\",\"Neutral\",\"weakly negative\",\"Neutral\",\"Neutral\",\"Neutral\",\"Neutral\",\"Neutral\",\"weakly negative\",\"weakly negative\",\"weakly negative\",\"weakly positive\",\"Neutral\",\"Neutral\",\"weakly negative\",\"weakly positive\",\"Neutral\",\"weakly negative\",\"weakly positive\",\"weakly negative\",\"Neutral\",\"weakly negative\",\"weakly negative\",\"weakly positive\",\"weakly positive\",\"Neutral\",\"weakly positive\",\"weakly positive\",\"weakly positive\",\"Neutral\",\"positive\",\"weakly positive\",\"positive\",\"Neutral\",\"Neutral\",\"weakly negative\",\"Neutral\",\"weakly positive\",\"weakly negative\",\"Neutral\",\"weakly negative\",\"weakly negative\",\"weakly negative\",\"positive\",\"weakly positive\",\"weakly positive\",\"Neutral\",\"weakly negative\",\"weakly positive\",\"weakly positive\",\"weakly positive\",\"Neutral\",\"Neutral\",\"Neutral\",\"Neutral\",\"weakly negative\",\"Neutral\",\"weakly positive\",\"Neutral\",\"weakly negative\",\"weakly positive\",\"weakly positive\",\"weakly negative\",\"Neutral\",\"Neutral\",\"weakly negative\",\"weakly negative\",\"Neutral\",\"Neutral\",\"Neutral\",\"Neutral\",\"positive\",\"weakly negative\",\"Neutral\",\"Neutral\",\"positive\",\"weakly negative\",\"weakly positive\",\"weakly negative\",\"Neutral\",\"Neutral\",\"Neutral\",\"weakly negative\",\"weakly positive\",\"weakly positive\",\"Neutral\",\"weakly positive\",\"weakly positive\",\"Neutral\",\"positive\",\"weakly positive\",\"weakly positive\",\"weakly positive\",\"weakly positive\",\"weakly positive\",\"weakly positive\",\"weakly positive\",\"Neutral\",\"Neutral\",\"weakly negative\",\"Neutral\",\"weakly negative\",\"Neutral\",\"Neutral\",\"Neutral\",\"Neutral\",\"Neutral\",\"Neutral\",\"weakly negative\",\"weakly positive\",\"negative\",\"Neutral\",\"weakly negative\",\"positive\",\"weakly negative\",\"Neutral\",\"weakly negative\",\"weakly positive\",\"weakly negative\",\"weakly positive\",\"Neutral\",\"Neutral\",\"positive\",\"Neutral\",\"Neutral\",\"Neutral\",\"weakly positive\",\"weakly positive\",\"weakly positive\",\"weakly positive\",\"weakly positive\",\"weakly positive\",\"Neutral\",\"Neutral\",\"weakly negative\",\"Neutral\",\"weakly negative\",\"weakly negative\",\"weakly positive\",\"Neutral\",\"Neutral\",\"weakly positive\",\"weakly positive\",\"weakly negative\",\"Neutral\",\"weakly positive\",\"positive\",\"weakly positive\",\"Neutral\",\"weakly positive\",\"weakly negative\",\"weakly negative\",\"weakly positive\",\"weakly negative\",\"positive\",\"Neutral\",\"weakly negative\",\"weakly positive\",\"weakly positive\",\"weakly positive\",\"weakly positive\",\"weakly positive\",\"Neutral\",\"weakly positive\",\"Neutral\",\"weakly negative\",\"Neutral\",\"weakly negative\",\"weakly negative\",\"Neutral\",\"Neutral\",\"Neutral\",\"Neutral\",\"Neutral\",\"weakly negative\",\"Neutral\",\"negative\",\"weakly negative\",\"weakly positive\",\"Neutral\",\"weakly negative\",\"weakly negative\",\"weakly negative\",\"Neutral\",\"weakly negative\",\"Neutral\",\"Neutral\",\"weakly positive\",\"positive\",\"Neutral\",\"Neutral\",\"weakly negative\",\"weakly positive\",\"Neutral\",\"weakly positive\",\"weakly positive\",\"Neutral\",\"weakly negative\",\"weakly positive\",\"weakly positive\",\"weakly positive\",\"weakly positive\",\"Neutral\",\"Neutral\",\"weakly positive\",\"weakly positive\",\"weakly positive\",\"weakly positive\",\"positive\",\"weakly positive\",\"positive\",\"Neutral\",\"Neutral\",\"Neutral\",\"Neutral\",\"weakly negative\",\"weakly positive\",\"Neutral\",\"positive\",\"very positive\",\"Neutral\",\"weakly positive\",\"weakly negative\",\"positive\",\"weakly negative\",\"weakly positive\",\"Neutral\",\"Neutral\",\"weakly positive\",\"Neutral\",\"weakly negative\",\"Neutral\",\"Neutral\",\"positive\",\"Neutral\",\"Neutral\",\"weakly positive\",\"Neutral\",\"weakly negative\",\"weakly positive\",\"weakly positive\",\"Neutral\",\"weakly positive\",\"Neutral\",\"Neutral\",\"weakly positive\",\"weakly positive\",\"Neutral\",\"weakly positive\",\"Neutral\",\"weakly negative\",\"weakly positive\",\"weakly positive\",\"weakly positive\",\"positive\",\"positive\",\"weakly positive\",\"weakly positive\",\"weakly positive\",\"weakly negative\",\"positive\",\"Neutral\",\"weakly positive\",\"Neutral\",\"weakly positive\",\"weakly positive\",\"weakly positive\",\"Neutral\",\"weakly positive\",\"Neutral\",\"Neutral\",\"Neutral\",\"weakly positive\",\"positive\",\"weakly negative\",\"Neutral\",\"weakly positive\",\"weakly positive\",\"weakly positive\",\"negative\",\"Neutral\",\"weakly positive\",\"weakly positive\",\"Neutral\",\"Neutral\",\"positive\",\"weakly positive\",\"Neutral\",\"positive\",\"weakly positive\",\"Neutral\",\"weakly negative\",\"weakly positive\",\"Neutral\",\"weakly negative\",\"weakly positive\",\"Neutral\",\"weakly negative\",\"Neutral\",\"weakly positive\",\"weakly positive\",\"Neutral\",\"Neutral\",\"Neutral\",\"Neutral\",\"weakly positive\",\"weakly negative\",\"Neutral\",\"Neutral\",\"weakly positive\",\"Neutral\",\"Neutral\",\"weakly positive\",\"weakly negative\",\"weakly positive\",\"Neutral\",\"Neutral\",\"Neutral\",\"weakly negative\",\"positive\",\"weakly positive\",\"Neutral\",\"weakly negative\",\"Neutral\",\"Neutral\",\"Neutral\",\"Neutral\",\"Neutral\",\"weakly negative\",\"weakly negative\",\"Neutral\",\"weakly positive\",\"Neutral\",\"Neutral\",\"weakly negative\",\"weakly positive\",\"Neutral\",\"Neutral\",\"Neutral\",\"weakly positive\",\"Neutral\",\"Neutral\",\"Neutral\",\"weakly negative\",\"weakly positive\",\"Neutral\",\"weakly positive\",\"weakly negative\",\"Neutral\",\"Neutral\",\"weakly positive\",\"Neutral\",\"Neutral\",\"weakly negative\",\"Neutral\",\"weakly negative\",\"weakly positive\",\"weakly positive\",\"weakly positive\",\"weakly positive\",\"Neutral\",\"weakly positive\",\"weakly positive\",\"Neutral\",\"Neutral\",\"Neutral\",\"Neutral\"],\"xaxis\":\"x\",\"y\":[1,1,1,1,1,1,1,1,1,1,1,1,1,1,1,1,1,1,1,1,1,1,1,1,1,1,1,1,1,1,1,1,1,1,1,1,1,1,1,1,1,1,1,1,1,1,1,1,1,1,1,1,1,1,1,1,1,1,1,1,1,1,1,1,1,1,1,1,1,1,1,1,1,1,1,1,1,1,1,1,1,1,1,1,1,1,1,1,1,1,1,1,1,1,1,1,1,1,1,1,1,1,1,1,1,1,1,1,1,1,1,1,1,1,1,1,1,1,1,1,1,1,1,1,1,1,1,1,1,1,1,1,1,1,1,1,1,1,1,1,1,1,1,1,1,1,1,1,1,1,1,1,1,1,1,1,1,1,1,1,1,1,1,1,1,1,1,1,1,1,1,1,1,1,1,1,1,1,1,1,1,1,1,1,1,1,1,1,1,1,1,1,1,1,1,1,1,1,1,1,1,1,1,1,1,1,1,1,1,1,1,1,1,1,1,1,1,1,1,1,1,1,1,1,1,1,1,1,1,1,1,1,1,1,1,1,1,1,1,1,1,1,1,1,1,1,1,1,1,1,1,1,1,1,1,1,1,1,1,1,1,1,1,1,1,1,1,1,1,1,1,1,1,1,1,1,1,1,1,1,1,1,1,1,1,1,1,1,1,1,1,1,1,1,1,1,1,1,1,1,1,1,1,1,1,1,1,1,1,1,1,1,1,1,1,1,1,1,1,1,1,1,1,1,1,1,1,1,1,1,1,1,1,1,1,1,1,1,1,1,1,1,1,1,1,1,1,1,1,1,1,1,1,1,1,1,1,1,1,1,1,1,1,1,1,1,1,1,1,1,1,1,1,1,1,1,1,1,1,1,1,1,1,1,1,1,1,1,1,1,1,1,1,1,1,1,1,1,1,1,1,1,1,1,1,1,1,1,1,1,1,1,1,1,1,1,1,1,1,1,1,1,1,1,1,1,1,1,1,1,1,1,1,1,1,1,1,1,1,1,1,1,1,1,1,1,1,1,1,1,1,1,1,1,1,1,1,1,1,1,1,1,1,1,1,1,1,1,1,1,1,1,1,1,1,1,1,1,1,1,1,1,1,1,1,1,1,1,1,1,1,1,1,1,1,1,1,1,1,1,1,1,1,1,1,1,1,1,1,1,1,1,1,1,1,1,1,1,1,1,1,1,1,1,1,1,1,1,1,1,1,1,1,1,1,1,1,1,1,1,1,1,1,1,1,1,1,1,1,1,1,1,1,1,1,1,1,1,1,1,1,1,1,1,1,1,1,1,1,1,1,1,1,1,1,1,1,1,1,1,1,1,1,1,1,1,1,1,1,1,1,1,1,1,1,1,1,1,1,1,1,1,1,1,1,1,1,1,1,1,1,1,1,1,1,1,1,1,1,1,1,1,1,1,1,1,1,1,1,1,1,1,1,1,1,1,1,1,1,1,1,1,1,1,1,1,1,1,1,1,1,1,1,1,1,1,1,1,1,1,1,1,1,1,1,1,1,1,1,1,1,1,1,1,1,1,1,1,1,1,1,1,1,1,1,1],\"yaxis\":\"y\",\"type\":\"bar\"},{\"alignmentgroup\":\"True\",\"hovertemplate\":\"preds_7=%{x}<br>count=%{y}<extra></extra>\",\"legendgroup\":\"\",\"marker\":{\"color\":\"#636efa\",\"pattern\":{\"shape\":\"\"}},\"name\":\"\",\"offsetgroup\":\"\",\"orientation\":\"v\",\"showlegend\":false,\"textposition\":\"auto\",\"x\":[\"Neutral\",\"Neutral\",\"Neutral\",\"Neutral\",\"Neutral\",\"Neutral\",\"Neutral\",\"Neutral\",\"Neutral\",\"Neutral\",\"Neutral\",\"Neutral\",\"Neutral\",\"Neutral\",\"weakly positive\",\"Neutral\",\"Neutral\",\"Neutral\",\"Neutral\",\"Neutral\",\"Neutral\",\"weakly positive\",\"weakly positive\",\"Neutral\",\"weakly positive\",\"Neutral\",\"weakly positive\",\"weakly positive\",\"Neutral\",\"Neutral\",\"Neutral\",\"Neutral\",\"Neutral\",\"Neutral\",\"Neutral\",\"Neutral\",\"Neutral\",\"Neutral\",\"Neutral\",\"Neutral\",\"Neutral\",\"Neutral\",\"Neutral\",\"Neutral\",\"weakly positive\",\"Neutral\",\"Neutral\",\"weakly positive\",\"Neutral\",\"Neutral\",\"Neutral\",\"Neutral\",\"Neutral\",\"Neutral\",\"Neutral\",\"weakly positive\",\"Neutral\",\"Neutral\",\"weakly positive\",\"weakly positive\",\"Neutral\",\"Neutral\",\"weakly positive\",\"weakly positive\",\"weakly positive\",\"Neutral\",\"weakly positive\",\"Neutral\",\"Neutral\",\"Neutral\",\"Neutral\",\"Neutral\",\"weakly positive\",\"Neutral\",\"Neutral\",\"Neutral\",\"Neutral\",\"Neutral\",\"Neutral\",\"Neutral\",\"Neutral\",\"Neutral\",\"Neutral\",\"weakly positive\",\"Neutral\",\"Neutral\",\"Neutral\",\"Neutral\",\"weakly positive\",\"weakly positive\",\"Neutral\",\"Neutral\",\"Neutral\",\"Neutral\",\"Neutral\",\"Neutral\",\"Neutral\",\"Neutral\",\"weakly positive\",\"Neutral\",\"weakly positive\",\"Neutral\",\"Neutral\",\"Neutral\",\"Neutral\",\"weakly positive\",\"Neutral\",\"Neutral\",\"weakly positive\",\"Neutral\",\"Neutral\",\"Neutral\",\"Neutral\",\"Neutral\",\"weakly positive\",\"Neutral\",\"Neutral\",\"Neutral\",\"Neutral\",\"Neutral\",\"weakly positive\",\"weakly positive\",\"Neutral\",\"weakly positive\",\"weakly positive\",\"weakly positive\",\"Neutral\",\"Neutral\",\"Neutral\",\"Neutral\",\"Neutral\",\"Neutral\",\"Neutral\",\"Neutral\",\"weakly positive\",\"Neutral\",\"Neutral\",\"Neutral\",\"Neutral\",\"weakly positive\",\"Neutral\",\"Neutral\",\"weakly positive\",\"weakly positive\",\"Neutral\",\"Neutral\",\"Neutral\",\"Neutral\",\"Neutral\",\"Neutral\",\"weakly positive\",\"Neutral\",\"Neutral\",\"Neutral\",\"Neutral\",\"Neutral\",\"Neutral\",\"Neutral\",\"Neutral\",\"Neutral\",\"weakly positive\",\"Neutral\",\"Neutral\",\"Neutral\",\"Neutral\",\"Neutral\",\"weakly positive\",\"Neutral\",\"Neutral\",\"Neutral\",\"Neutral\",\"Neutral\",\"Neutral\",\"weakly positive\",\"Neutral\",\"Neutral\",\"Neutral\",\"weakly positive\",\"Neutral\",\"Neutral\",\"Neutral\",\"Neutral\",\"Neutral\",\"Neutral\",\"weakly positive\",\"Neutral\",\"Neutral\",\"Neutral\",\"Neutral\",\"weakly positive\",\"Neutral\",\"Neutral\",\"Neutral\",\"Neutral\",\"Neutral\",\"Neutral\",\"Neutral\",\"Neutral\",\"Neutral\",\"Neutral\",\"Neutral\",\"Neutral\",\"Neutral\",\"Neutral\",\"Neutral\",\"Neutral\",\"Neutral\",\"Neutral\",\"Neutral\",\"Neutral\",\"Neutral\",\"Neutral\",\"Neutral\",\"Neutral\",\"Neutral\",\"Neutral\",\"Neutral\",\"weakly positive\",\"weakly positive\",\"Neutral\",\"Neutral\",\"Neutral\",\"Neutral\",\"Neutral\",\"Neutral\",\"Neutral\",\"Neutral\",\"Neutral\",\"Neutral\",\"Neutral\",\"Neutral\",\"Neutral\",\"Neutral\",\"Neutral\",\"Neutral\",\"Neutral\",\"Neutral\",\"Neutral\",\"weakly positive\",\"Neutral\",\"weakly positive\",\"weakly positive\",\"weakly positive\",\"Neutral\",\"Neutral\",\"Neutral\",\"Neutral\",\"Neutral\",\"Neutral\",\"weakly positive\",\"Neutral\",\"Neutral\",\"Neutral\",\"Neutral\",\"weakly positive\",\"Neutral\",\"Neutral\",\"Neutral\",\"Neutral\",\"Neutral\",\"Neutral\",\"weakly positive\",\"Neutral\",\"Neutral\",\"Neutral\",\"Neutral\",\"Neutral\",\"Neutral\",\"Neutral\",\"weakly positive\",\"Neutral\",\"Neutral\",\"weakly positive\",\"Neutral\",\"Neutral\",\"weakly positive\",\"Neutral\",\"weakly positive\",\"Neutral\",\"Neutral\",\"Neutral\",\"Neutral\",\"Neutral\",\"weakly positive\",\"Neutral\",\"Neutral\",\"weakly positive\",\"Neutral\",\"Neutral\",\"Neutral\",\"Neutral\",\"Neutral\",\"Neutral\",\"weakly positive\",\"Neutral\",\"Neutral\",\"Neutral\",\"Neutral\",\"Neutral\",\"weakly positive\",\"Neutral\",\"Neutral\",\"Neutral\",\"Neutral\",\"Neutral\",\"Neutral\",\"Neutral\",\"Neutral\",\"Neutral\",\"Neutral\",\"weakly positive\",\"Neutral\",\"Neutral\",\"weakly positive\",\"Neutral\",\"Neutral\",\"Neutral\",\"Neutral\",\"weakly positive\",\"Neutral\",\"Neutral\",\"Neutral\",\"Neutral\",\"Neutral\",\"Neutral\",\"Neutral\",\"Neutral\",\"Neutral\",\"Neutral\",\"Neutral\",\"weakly positive\",\"weakly positive\",\"Neutral\",\"Neutral\",\"weakly positive\",\"Neutral\",\"Neutral\",\"Neutral\",\"Neutral\",\"Neutral\",\"Neutral\",\"Neutral\",\"weakly positive\",\"Neutral\",\"Neutral\",\"Neutral\",\"weakly positive\",\"Neutral\",\"weakly positive\",\"weakly positive\",\"Neutral\",\"weakly positive\",\"weakly positive\",\"weakly positive\",\"Neutral\",\"Neutral\",\"Neutral\",\"Neutral\",\"weakly positive\",\"Neutral\",\"Neutral\",\"Neutral\",\"Neutral\",\"Neutral\",\"weakly positive\",\"Neutral\",\"Neutral\",\"weakly positive\",\"Neutral\",\"weakly positive\",\"Neutral\",\"Neutral\",\"weakly positive\",\"Neutral\",\"Neutral\",\"Neutral\",\"weakly positive\",\"Neutral\",\"Neutral\",\"Neutral\",\"Neutral\",\"Neutral\",\"Neutral\",\"Neutral\",\"Neutral\",\"Neutral\",\"Neutral\",\"Neutral\",\"Neutral\",\"Neutral\",\"Neutral\",\"Neutral\",\"weakly positive\",\"Neutral\",\"Neutral\",\"Neutral\",\"weakly positive\",\"Neutral\",\"Neutral\",\"Neutral\",\"Neutral\",\"Neutral\",\"weakly positive\",\"Neutral\",\"Neutral\",\"Neutral\",\"Neutral\",\"Neutral\",\"weakly positive\",\"Neutral\",\"Neutral\",\"Neutral\",\"Neutral\",\"Neutral\",\"Neutral\",\"Neutral\",\"Neutral\",\"Neutral\",\"Neutral\",\"Neutral\",\"Neutral\",\"Neutral\",\"Neutral\",\"Neutral\",\"Neutral\",\"Neutral\",\"Neutral\",\"Neutral\",\"weakly positive\",\"weakly positive\",\"Neutral\",\"Neutral\",\"Neutral\",\"Neutral\",\"weakly positive\",\"Neutral\",\"Neutral\",\"Neutral\",\"weakly positive\",\"Neutral\",\"Neutral\",\"Neutral\",\"Neutral\",\"Neutral\",\"Neutral\",\"Neutral\",\"Neutral\",\"weakly positive\",\"Neutral\",\"Neutral\",\"Neutral\",\"Neutral\",\"Neutral\",\"Neutral\",\"weakly positive\",\"Neutral\",\"Neutral\",\"weakly positive\",\"Neutral\",\"weakly positive\",\"Neutral\",\"Neutral\",\"Neutral\",\"Neutral\",\"weakly positive\",\"weakly positive\",\"Neutral\",\"Neutral\",\"Neutral\",\"Neutral\",\"Neutral\",\"Neutral\",\"Neutral\",\"Neutral\",\"weakly positive\",\"Neutral\",\"Neutral\",\"weakly positive\",\"Neutral\",\"weakly positive\",\"Neutral\",\"Neutral\",\"Neutral\",\"weakly positive\",\"Neutral\",\"weakly positive\",\"Neutral\",\"Neutral\",\"Neutral\",\"Neutral\",\"Neutral\",\"Neutral\",\"Neutral\",\"Neutral\",\"Neutral\",\"weakly positive\",\"Neutral\",\"weakly positive\",\"Neutral\",\"Neutral\",\"Neutral\",\"Neutral\",\"Neutral\",\"Neutral\",\"Neutral\",\"Neutral\",\"Neutral\",\"weakly positive\",\"Neutral\",\"weakly positive\",\"Neutral\",\"weakly positive\",\"Neutral\",\"Neutral\",\"Neutral\",\"Neutral\",\"weakly positive\",\"Neutral\",\"Neutral\",\"weakly positive\",\"Neutral\",\"Neutral\",\"Neutral\",\"Neutral\",\"Neutral\",\"Neutral\",\"Neutral\",\"Neutral\",\"Neutral\",\"Neutral\",\"Neutral\",\"Neutral\",\"Neutral\",\"Neutral\",\"Neutral\",\"Neutral\",\"Neutral\",\"Neutral\",\"Neutral\",\"Neutral\",\"Neutral\",\"weakly positive\",\"weakly positive\",\"Neutral\",\"Neutral\",\"weakly positive\",\"Neutral\",\"weakly positive\",\"Neutral\",\"Neutral\",\"Neutral\",\"Neutral\",\"Neutral\",\"Neutral\",\"Neutral\",\"Neutral\",\"Neutral\",\"weakly positive\",\"Neutral\",\"Neutral\",\"weakly positive\",\"Neutral\",\"Neutral\",\"Neutral\",\"weakly positive\",\"weakly positive\",\"Neutral\",\"Neutral\",\"Neutral\",\"Neutral\",\"Neutral\",\"Neutral\",\"Neutral\",\"Neutral\",\"Neutral\",\"Neutral\",\"Neutral\",\"Neutral\",\"Neutral\",\"Neutral\",\"Neutral\",\"Neutral\",\"weakly positive\",\"Neutral\",\"Neutral\",\"Neutral\",\"weakly positive\",\"weakly positive\",\"Neutral\",\"Neutral\",\"Neutral\",\"Neutral\",\"Neutral\",\"Neutral\",\"Neutral\",\"Neutral\",\"Neutral\",\"Neutral\",\"Neutral\",\"Neutral\",\"Neutral\",\"Neutral\",\"Neutral\",\"Neutral\",\"Neutral\",\"Neutral\",\"Neutral\",\"Neutral\",\"Neutral\",\"Neutral\",\"Neutral\",\"Neutral\",\"Neutral\",\"Neutral\",\"Neutral\",\"Neutral\",\"Neutral\",\"Neutral\",\"Neutral\",\"Neutral\",\"Neutral\",\"Neutral\",\"Neutral\",\"Neutral\",\"Neutral\",\"Neutral\",\"Neutral\",\"Neutral\",\"Neutral\",\"Neutral\",\"weakly positive\",\"Neutral\",\"Neutral\",\"Neutral\",\"weakly positive\",\"Neutral\",\"Neutral\",\"Neutral\",\"weakly positive\",\"Neutral\",\"Neutral\",\"Neutral\",\"Neutral\",\"Neutral\",\"Neutral\",\"weakly positive\",\"weakly positive\",\"Neutral\",\"weakly positive\",\"Neutral\",\"Neutral\",\"Neutral\",\"Neutral\",\"Neutral\",\"Neutral\",\"Neutral\",\"Neutral\",\"Neutral\",\"Neutral\",\"Neutral\",\"weakly positive\",\"Neutral\",\"Neutral\",\"weakly positive\",\"weakly positive\",\"Neutral\",\"Neutral\",\"Neutral\",\"Neutral\",\"Neutral\",\"Neutral\",\"Neutral\",\"Neutral\",\"Neutral\",\"Neutral\",\"Neutral\",\"Neutral\",\"Neutral\",\"Neutral\",\"Neutral\",\"weakly positive\",\"Neutral\",\"weakly positive\",\"Neutral\",\"Neutral\",\"Neutral\"],\"xaxis\":\"x2\",\"y\":[1,1,1,1,1,1,1,1,1,1,1,1,1,1,1,1,1,1,1,1,1,1,1,1,1,1,1,1,1,1,1,1,1,1,1,1,1,1,1,1,1,1,1,1,1,1,1,1,1,1,1,1,1,1,1,1,1,1,1,1,1,1,1,1,1,1,1,1,1,1,1,1,1,1,1,1,1,1,1,1,1,1,1,1,1,1,1,1,1,1,1,1,1,1,1,1,1,1,1,1,1,1,1,1,1,1,1,1,1,1,1,1,1,1,1,1,1,1,1,1,1,1,1,1,1,1,1,1,1,1,1,1,1,1,1,1,1,1,1,1,1,1,1,1,1,1,1,1,1,1,1,1,1,1,1,1,1,1,1,1,1,1,1,1,1,1,1,1,1,1,1,1,1,1,1,1,1,1,1,1,1,1,1,1,1,1,1,1,1,1,1,1,1,1,1,1,1,1,1,1,1,1,1,1,1,1,1,1,1,1,1,1,1,1,1,1,1,1,1,1,1,1,1,1,1,1,1,1,1,1,1,1,1,1,1,1,1,1,1,1,1,1,1,1,1,1,1,1,1,1,1,1,1,1,1,1,1,1,1,1,1,1,1,1,1,1,1,1,1,1,1,1,1,1,1,1,1,1,1,1,1,1,1,1,1,1,1,1,1,1,1,1,1,1,1,1,1,1,1,1,1,1,1,1,1,1,1,1,1,1,1,1,1,1,1,1,1,1,1,1,1,1,1,1,1,1,1,1,1,1,1,1,1,1,1,1,1,1,1,1,1,1,1,1,1,1,1,1,1,1,1,1,1,1,1,1,1,1,1,1,1,1,1,1,1,1,1,1,1,1,1,1,1,1,1,1,1,1,1,1,1,1,1,1,1,1,1,1,1,1,1,1,1,1,1,1,1,1,1,1,1,1,1,1,1,1,1,1,1,1,1,1,1,1,1,1,1,1,1,1,1,1,1,1,1,1,1,1,1,1,1,1,1,1,1,1,1,1,1,1,1,1,1,1,1,1,1,1,1,1,1,1,1,1,1,1,1,1,1,1,1,1,1,1,1,1,1,1,1,1,1,1,1,1,1,1,1,1,1,1,1,1,1,1,1,1,1,1,1,1,1,1,1,1,1,1,1,1,1,1,1,1,1,1,1,1,1,1,1,1,1,1,1,1,1,1,1,1,1,1,1,1,1,1,1,1,1,1,1,1,1,1,1,1,1,1,1,1,1,1,1,1,1,1,1,1,1,1,1,1,1,1,1,1,1,1,1,1,1,1,1,1,1,1,1,1,1,1,1,1,1,1,1,1,1,1,1,1,1,1,1,1,1,1,1,1,1,1,1,1,1,1,1,1,1,1,1,1,1,1,1,1,1,1,1,1,1,1,1,1,1,1,1,1,1,1,1,1,1,1,1,1,1,1,1,1,1,1,1,1,1,1,1,1,1,1,1,1,1,1,1,1,1,1,1,1,1,1,1,1,1,1,1,1,1,1,1,1,1,1,1,1,1,1,1,1,1,1,1,1,1,1,1,1,1,1,1,1,1,1,1,1,1,1,1,1],\"yaxis\":\"y2\",\"type\":\"bar\"}],                        {\"template\":{\"data\":{\"histogram2dcontour\":[{\"type\":\"histogram2dcontour\",\"colorbar\":{\"outlinewidth\":0,\"ticks\":\"\"},\"colorscale\":[[0.0,\"#0d0887\"],[0.1111111111111111,\"#46039f\"],[0.2222222222222222,\"#7201a8\"],[0.3333333333333333,\"#9c179e\"],[0.4444444444444444,\"#bd3786\"],[0.5555555555555556,\"#d8576b\"],[0.6666666666666666,\"#ed7953\"],[0.7777777777777778,\"#fb9f3a\"],[0.8888888888888888,\"#fdca26\"],[1.0,\"#f0f921\"]]}],\"choropleth\":[{\"type\":\"choropleth\",\"colorbar\":{\"outlinewidth\":0,\"ticks\":\"\"}}],\"histogram2d\":[{\"type\":\"histogram2d\",\"colorbar\":{\"outlinewidth\":0,\"ticks\":\"\"},\"colorscale\":[[0.0,\"#0d0887\"],[0.1111111111111111,\"#46039f\"],[0.2222222222222222,\"#7201a8\"],[0.3333333333333333,\"#9c179e\"],[0.4444444444444444,\"#bd3786\"],[0.5555555555555556,\"#d8576b\"],[0.6666666666666666,\"#ed7953\"],[0.7777777777777778,\"#fb9f3a\"],[0.8888888888888888,\"#fdca26\"],[1.0,\"#f0f921\"]]}],\"heatmap\":[{\"type\":\"heatmap\",\"colorbar\":{\"outlinewidth\":0,\"ticks\":\"\"},\"colorscale\":[[0.0,\"#0d0887\"],[0.1111111111111111,\"#46039f\"],[0.2222222222222222,\"#7201a8\"],[0.3333333333333333,\"#9c179e\"],[0.4444444444444444,\"#bd3786\"],[0.5555555555555556,\"#d8576b\"],[0.6666666666666666,\"#ed7953\"],[0.7777777777777778,\"#fb9f3a\"],[0.8888888888888888,\"#fdca26\"],[1.0,\"#f0f921\"]]}],\"heatmapgl\":[{\"type\":\"heatmapgl\",\"colorbar\":{\"outlinewidth\":0,\"ticks\":\"\"},\"colorscale\":[[0.0,\"#0d0887\"],[0.1111111111111111,\"#46039f\"],[0.2222222222222222,\"#7201a8\"],[0.3333333333333333,\"#9c179e\"],[0.4444444444444444,\"#bd3786\"],[0.5555555555555556,\"#d8576b\"],[0.6666666666666666,\"#ed7953\"],[0.7777777777777778,\"#fb9f3a\"],[0.8888888888888888,\"#fdca26\"],[1.0,\"#f0f921\"]]}],\"contourcarpet\":[{\"type\":\"contourcarpet\",\"colorbar\":{\"outlinewidth\":0,\"ticks\":\"\"}}],\"contour\":[{\"type\":\"contour\",\"colorbar\":{\"outlinewidth\":0,\"ticks\":\"\"},\"colorscale\":[[0.0,\"#0d0887\"],[0.1111111111111111,\"#46039f\"],[0.2222222222222222,\"#7201a8\"],[0.3333333333333333,\"#9c179e\"],[0.4444444444444444,\"#bd3786\"],[0.5555555555555556,\"#d8576b\"],[0.6666666666666666,\"#ed7953\"],[0.7777777777777778,\"#fb9f3a\"],[0.8888888888888888,\"#fdca26\"],[1.0,\"#f0f921\"]]}],\"surface\":[{\"type\":\"surface\",\"colorbar\":{\"outlinewidth\":0,\"ticks\":\"\"},\"colorscale\":[[0.0,\"#0d0887\"],[0.1111111111111111,\"#46039f\"],[0.2222222222222222,\"#7201a8\"],[0.3333333333333333,\"#9c179e\"],[0.4444444444444444,\"#bd3786\"],[0.5555555555555556,\"#d8576b\"],[0.6666666666666666,\"#ed7953\"],[0.7777777777777778,\"#fb9f3a\"],[0.8888888888888888,\"#fdca26\"],[1.0,\"#f0f921\"]]}],\"mesh3d\":[{\"type\":\"mesh3d\",\"colorbar\":{\"outlinewidth\":0,\"ticks\":\"\"}}],\"scatter\":[{\"fillpattern\":{\"fillmode\":\"overlay\",\"size\":10,\"solidity\":0.2},\"type\":\"scatter\"}],\"parcoords\":[{\"type\":\"parcoords\",\"line\":{\"colorbar\":{\"outlinewidth\":0,\"ticks\":\"\"}}}],\"scatterpolargl\":[{\"type\":\"scatterpolargl\",\"marker\":{\"colorbar\":{\"outlinewidth\":0,\"ticks\":\"\"}}}],\"bar\":[{\"error_x\":{\"color\":\"#2a3f5f\"},\"error_y\":{\"color\":\"#2a3f5f\"},\"marker\":{\"line\":{\"color\":\"#E5ECF6\",\"width\":0.5},\"pattern\":{\"fillmode\":\"overlay\",\"size\":10,\"solidity\":0.2}},\"type\":\"bar\"}],\"scattergeo\":[{\"type\":\"scattergeo\",\"marker\":{\"colorbar\":{\"outlinewidth\":0,\"ticks\":\"\"}}}],\"scatterpolar\":[{\"type\":\"scatterpolar\",\"marker\":{\"colorbar\":{\"outlinewidth\":0,\"ticks\":\"\"}}}],\"histogram\":[{\"marker\":{\"pattern\":{\"fillmode\":\"overlay\",\"size\":10,\"solidity\":0.2}},\"type\":\"histogram\"}],\"scattergl\":[{\"type\":\"scattergl\",\"marker\":{\"colorbar\":{\"outlinewidth\":0,\"ticks\":\"\"}}}],\"scatter3d\":[{\"type\":\"scatter3d\",\"line\":{\"colorbar\":{\"outlinewidth\":0,\"ticks\":\"\"}},\"marker\":{\"colorbar\":{\"outlinewidth\":0,\"ticks\":\"\"}}}],\"scattermapbox\":[{\"type\":\"scattermapbox\",\"marker\":{\"colorbar\":{\"outlinewidth\":0,\"ticks\":\"\"}}}],\"scatterternary\":[{\"type\":\"scatterternary\",\"marker\":{\"colorbar\":{\"outlinewidth\":0,\"ticks\":\"\"}}}],\"scattercarpet\":[{\"type\":\"scattercarpet\",\"marker\":{\"colorbar\":{\"outlinewidth\":0,\"ticks\":\"\"}}}],\"carpet\":[{\"aaxis\":{\"endlinecolor\":\"#2a3f5f\",\"gridcolor\":\"white\",\"linecolor\":\"white\",\"minorgridcolor\":\"white\",\"startlinecolor\":\"#2a3f5f\"},\"baxis\":{\"endlinecolor\":\"#2a3f5f\",\"gridcolor\":\"white\",\"linecolor\":\"white\",\"minorgridcolor\":\"white\",\"startlinecolor\":\"#2a3f5f\"},\"type\":\"carpet\"}],\"table\":[{\"cells\":{\"fill\":{\"color\":\"#EBF0F8\"},\"line\":{\"color\":\"white\"}},\"header\":{\"fill\":{\"color\":\"#C8D4E3\"},\"line\":{\"color\":\"white\"}},\"type\":\"table\"}],\"barpolar\":[{\"marker\":{\"line\":{\"color\":\"#E5ECF6\",\"width\":0.5},\"pattern\":{\"fillmode\":\"overlay\",\"size\":10,\"solidity\":0.2}},\"type\":\"barpolar\"}],\"pie\":[{\"automargin\":true,\"type\":\"pie\"}]},\"layout\":{\"autotypenumbers\":\"strict\",\"colorway\":[\"#636efa\",\"#EF553B\",\"#00cc96\",\"#ab63fa\",\"#FFA15A\",\"#19d3f3\",\"#FF6692\",\"#B6E880\",\"#FF97FF\",\"#FECB52\"],\"font\":{\"color\":\"#2a3f5f\"},\"hovermode\":\"closest\",\"hoverlabel\":{\"align\":\"left\"},\"paper_bgcolor\":\"white\",\"plot_bgcolor\":\"#E5ECF6\",\"polar\":{\"bgcolor\":\"#E5ECF6\",\"angularaxis\":{\"gridcolor\":\"white\",\"linecolor\":\"white\",\"ticks\":\"\"},\"radialaxis\":{\"gridcolor\":\"white\",\"linecolor\":\"white\",\"ticks\":\"\"}},\"ternary\":{\"bgcolor\":\"#E5ECF6\",\"aaxis\":{\"gridcolor\":\"white\",\"linecolor\":\"white\",\"ticks\":\"\"},\"baxis\":{\"gridcolor\":\"white\",\"linecolor\":\"white\",\"ticks\":\"\"},\"caxis\":{\"gridcolor\":\"white\",\"linecolor\":\"white\",\"ticks\":\"\"}},\"coloraxis\":{\"colorbar\":{\"outlinewidth\":0,\"ticks\":\"\"}},\"colorscale\":{\"sequential\":[[0.0,\"#0d0887\"],[0.1111111111111111,\"#46039f\"],[0.2222222222222222,\"#7201a8\"],[0.3333333333333333,\"#9c179e\"],[0.4444444444444444,\"#bd3786\"],[0.5555555555555556,\"#d8576b\"],[0.6666666666666666,\"#ed7953\"],[0.7777777777777778,\"#fb9f3a\"],[0.8888888888888888,\"#fdca26\"],[1.0,\"#f0f921\"]],\"sequentialminus\":[[0.0,\"#0d0887\"],[0.1111111111111111,\"#46039f\"],[0.2222222222222222,\"#7201a8\"],[0.3333333333333333,\"#9c179e\"],[0.4444444444444444,\"#bd3786\"],[0.5555555555555556,\"#d8576b\"],[0.6666666666666666,\"#ed7953\"],[0.7777777777777778,\"#fb9f3a\"],[0.8888888888888888,\"#fdca26\"],[1.0,\"#f0f921\"]],\"diverging\":[[0,\"#8e0152\"],[0.1,\"#c51b7d\"],[0.2,\"#de77ae\"],[0.3,\"#f1b6da\"],[0.4,\"#fde0ef\"],[0.5,\"#f7f7f7\"],[0.6,\"#e6f5d0\"],[0.7,\"#b8e186\"],[0.8,\"#7fbc41\"],[0.9,\"#4d9221\"],[1,\"#276419\"]]},\"xaxis\":{\"gridcolor\":\"white\",\"linecolor\":\"white\",\"ticks\":\"\",\"title\":{\"standoff\":15},\"zerolinecolor\":\"white\",\"automargin\":true,\"zerolinewidth\":2},\"yaxis\":{\"gridcolor\":\"white\",\"linecolor\":\"white\",\"ticks\":\"\",\"title\":{\"standoff\":15},\"zerolinecolor\":\"white\",\"automargin\":true,\"zerolinewidth\":2},\"scene\":{\"xaxis\":{\"backgroundcolor\":\"#E5ECF6\",\"gridcolor\":\"white\",\"linecolor\":\"white\",\"showbackground\":true,\"ticks\":\"\",\"zerolinecolor\":\"white\",\"gridwidth\":2},\"yaxis\":{\"backgroundcolor\":\"#E5ECF6\",\"gridcolor\":\"white\",\"linecolor\":\"white\",\"showbackground\":true,\"ticks\":\"\",\"zerolinecolor\":\"white\",\"gridwidth\":2},\"zaxis\":{\"backgroundcolor\":\"#E5ECF6\",\"gridcolor\":\"white\",\"linecolor\":\"white\",\"showbackground\":true,\"ticks\":\"\",\"zerolinecolor\":\"white\",\"gridwidth\":2}},\"shapedefaults\":{\"line\":{\"color\":\"#2a3f5f\"}},\"annotationdefaults\":{\"arrowcolor\":\"#2a3f5f\",\"arrowhead\":0,\"arrowwidth\":1},\"geo\":{\"bgcolor\":\"white\",\"landcolor\":\"#E5ECF6\",\"subunitcolor\":\"white\",\"showland\":true,\"showlakes\":true,\"lakecolor\":\"white\"},\"title\":{\"x\":0.05},\"mapbox\":{\"style\":\"light\"}}},\"xaxis\":{\"anchor\":\"y\",\"domain\":[0.0,0.45],\"categoryorder\":\"array\",\"categoryarray\":[\"very negative\",\"negative\",\"weakly negative\",\"Neutral\",\"weakly positive\",\"positive\",\"very positive\"]},\"yaxis\":{\"anchor\":\"x\",\"domain\":[0.0,1.0],\"range\":[0,300]},\"xaxis2\":{\"anchor\":\"y2\",\"domain\":[0.55,1.0],\"categoryorder\":\"array\",\"categoryarray\":[\"very negative\",\"negative\",\"weakly negative\",\"Neutral\",\"weakly positive\",\"positive\",\"very positive\"]},\"yaxis2\":{\"anchor\":\"x2\",\"domain\":[0.0,1.0],\"range\":[0,300]},\"annotations\":[{\"font\":{\"size\":16},\"showarrow\":false,\"text\":\"TFN-40d\",\"x\":0.225,\"xanchor\":\"center\",\"xref\":\"paper\",\"y\":1.0,\"yanchor\":\"bottom\",\"yref\":\"paper\"},{\"font\":{\"size\":16},\"showarrow\":false,\"text\":\"TFN-16d\",\"x\":0.775,\"xanchor\":\"center\",\"xref\":\"paper\",\"y\":1.0,\"yanchor\":\"bottom\",\"yref\":\"paper\"}],\"title\":{\"text\":\"TFN frozen dimension\"},\"height\":600,\"width\":1200},                        {\"responsive\": true}                    ).then(function(){\n",
       "                            \n",
       "var gd = document.getElementById('b7b9befa-5171-4ced-a64b-f6c35154e4a4');\n",
       "var x = new MutationObserver(function (mutations, observer) {{\n",
       "        var display = window.getComputedStyle(gd).display;\n",
       "        if (!display || display === 'none') {{\n",
       "            console.log([gd, 'removed!']);\n",
       "            Plotly.purge(gd);\n",
       "            observer.disconnect();\n",
       "        }}\n",
       "}});\n",
       "\n",
       "// Listen for the removal of the full notebook cells\n",
       "var notebookContainer = gd.closest('#notebook-container');\n",
       "if (notebookContainer) {{\n",
       "    x.observe(notebookContainer, {childList: true});\n",
       "}}\n",
       "\n",
       "// Listen for the clearing of the current output cell\n",
       "var outputEl = gd.closest('.output');\n",
       "if (outputEl) {{\n",
       "    x.observe(outputEl, {childList: true});\n",
       "}}\n",
       "\n",
       "                        })                };                });            </script>        </div>"
      ]
     },
     "metadata": {},
     "output_type": "display_data"
    }
   ],
   "source": [
    "with open(f\"results/TFN_16d.pkl\", \"rb\") as handle:\n",
    "    tfn_16d = pkl.load(handle) \n",
    "\n",
    "df1 = pd.DataFrame(data=tfn)\n",
    "df2 = pd.DataFrame(data=tfn_16d)\n",
    "order = ['very negative', 'negative', 'weakly negative', 'Neutral', 'weakly positive', 'positive', 'very positive']\n",
    "\n",
    "fig1 = px.bar(df1, x=\"preds_7\")\n",
    "fig2 = px.bar(df2, x=\"preds_7\")\n",
    "\n",
    "fig1_traces = []\n",
    "fig2_traces = []\n",
    "\n",
    "for trace in range(len(fig1[\"data\"])):\n",
    "    fig1_traces.append(fig1[\"data\"][trace])\n",
    "for trace in range(len(fig2[\"data\"])):\n",
    "    fig2_traces.append(fig2[\"data\"][trace])\n",
    "\n",
    "this_figure = sp.make_subplots(rows=1, cols=2, subplot_titles=(\"TFN-40d\", \"TFN-16d\"))\n",
    "for traces in fig1_traces:\n",
    "    this_figure.append_trace(traces, row=1, col=1)\n",
    "for traces in fig2_traces:\n",
    "    this_figure.append_trace(traces, row=1, col=2)\n",
    "\n",
    "this_figure.update_layout(height=600, width=1200, title_text=\"TFN frozen dimension\")\n",
    "this_figure.update_xaxes(categoryorder='array', categoryarray= order)\n",
    "this_figure.update_yaxes(range=[0,300])\n",
    "this_figure.show()"
   ]
  },
  {
   "cell_type": "code",
   "execution_count": 46,
   "metadata": {},
   "outputs": [
    {
     "data": {
      "application/vnd.plotly.v1+json": {
       "config": {
        "plotlyServerURL": "https://plot.ly"
       },
       "data": [
        {
         "alignmentgroup": "True",
         "hovertemplate": "labels_7=%{x}<br>count=%{y}<extra></extra>",
         "legendgroup": "",
         "marker": {
          "color": "#636efa",
          "pattern": {
           "shape": ""
          }
         },
         "name": "",
         "offsetgroup": "",
         "orientation": "v",
         "showlegend": false,
         "textposition": "auto",
         "type": "bar",
         "x": [
          "weakly positive",
          "very negative",
          "Neutral",
          "negative",
          "very negative",
          "negative",
          "weakly negative",
          "negative",
          "negative",
          "positive",
          "very negative",
          "very negative",
          "very negative",
          "weakly negative",
          "weakly positive",
          "weakly negative",
          "weakly positive",
          "very negative",
          "very negative",
          "Neutral",
          "very negative",
          "weakly positive",
          "weakly positive",
          "very negative",
          "negative",
          "weakly negative",
          "negative",
          "very negative",
          "very negative",
          "very negative",
          "negative",
          "very negative",
          "very positive",
          "positive",
          "weakly positive",
          "very positive",
          "very negative",
          "very negative",
          "weakly negative",
          "very positive",
          "weakly negative",
          "Neutral",
          "weakly negative",
          "positive",
          "very positive",
          "weakly negative",
          "very positive",
          "very negative",
          "very positive",
          "weakly positive",
          "very positive",
          "weakly negative",
          "very negative",
          "very negative",
          "weakly negative",
          "very negative",
          "negative",
          "weakly positive",
          "positive",
          "positive",
          "positive",
          "negative",
          "positive",
          "weakly positive",
          "Neutral",
          "weakly positive",
          "weakly negative",
          "positive",
          "weakly negative",
          "weakly negative",
          "weakly negative",
          "positive",
          "weakly negative",
          "Neutral",
          "positive",
          "weakly positive",
          "weakly negative",
          "very positive",
          "Neutral",
          "weakly negative",
          "weakly negative",
          "very positive",
          "weakly positive",
          "positive",
          "positive",
          "positive",
          "positive",
          "weakly negative",
          "very positive",
          "weakly positive",
          "Neutral",
          "weakly negative",
          "Neutral",
          "positive",
          "Neutral",
          "very positive",
          "Neutral",
          "positive",
          "Neutral",
          "very positive",
          "positive",
          "weakly negative",
          "positive",
          "positive",
          "weakly negative",
          "Neutral",
          "Neutral",
          "very negative",
          "very positive",
          "Neutral",
          "positive",
          "positive",
          "weakly positive",
          "weakly positive",
          "very negative",
          "positive",
          "negative",
          "very positive",
          "positive",
          "very positive",
          "very positive",
          "negative",
          "negative",
          "weakly positive",
          "negative",
          "Neutral",
          "very negative",
          "negative",
          "negative",
          "weakly negative",
          "negative",
          "very negative",
          "weakly positive",
          "negative",
          "negative",
          "very negative",
          "very negative",
          "weakly negative",
          "weakly negative",
          "negative",
          "negative",
          "very negative",
          "very negative",
          "very negative",
          "positive",
          "very negative",
          "weakly negative",
          "negative",
          "weakly negative",
          "very negative",
          "negative",
          "negative",
          "very negative",
          "very negative",
          "very negative",
          "negative",
          "very negative",
          "very negative",
          "very negative",
          "very negative",
          "weakly negative",
          "very negative",
          "Neutral",
          "weakly negative",
          "weakly positive",
          "Neutral",
          "weakly negative",
          "Neutral",
          "very negative",
          "negative",
          "weakly negative",
          "weakly positive",
          "weakly negative",
          "negative",
          "weakly positive",
          "weakly positive",
          "negative",
          "Neutral",
          "negative",
          "very negative",
          "Neutral",
          "negative",
          "negative",
          "weakly positive",
          "weakly positive",
          "negative",
          "weakly positive",
          "weakly positive",
          "very negative",
          "negative",
          "weakly negative",
          "weakly negative",
          "very negative",
          "weakly negative",
          "weakly negative",
          "negative",
          "weakly negative",
          "positive",
          "Neutral",
          "negative",
          "positive",
          "negative",
          "weakly negative",
          "weakly positive",
          "positive",
          "very negative",
          "very negative",
          "negative",
          "Neutral",
          "positive",
          "very negative",
          "weakly negative",
          "negative",
          "weakly negative",
          "negative",
          "weakly negative",
          "very negative",
          "weakly negative",
          "weakly positive",
          "Neutral",
          "negative",
          "weakly negative",
          "weakly positive",
          "positive",
          "weakly negative",
          "weakly negative",
          "Neutral",
          "weakly positive",
          "Neutral",
          "weakly negative",
          "Neutral",
          "weakly positive",
          "Neutral",
          "Neutral",
          "weakly negative",
          "positive",
          "Neutral",
          "Neutral",
          "very negative",
          "Neutral",
          "weakly negative",
          "positive",
          "weakly positive",
          "very negative",
          "weakly positive",
          "Neutral",
          "very negative",
          "Neutral",
          "positive",
          "positive",
          "weakly positive",
          "negative",
          "Neutral",
          "weakly positive",
          "very negative",
          "weakly negative",
          "Neutral",
          "negative",
          "negative",
          "weakly positive",
          "very positive",
          "very positive",
          "Neutral",
          "weakly negative",
          "negative",
          "weakly negative",
          "weakly negative",
          "Neutral",
          "weakly negative",
          "positive",
          "very negative",
          "weakly negative",
          "weakly positive",
          "weakly positive",
          "weakly negative",
          "negative",
          "weakly negative",
          "positive",
          "weakly positive",
          "very positive",
          "negative",
          "Neutral",
          "Neutral",
          "positive",
          "Neutral",
          "very positive",
          "very positive",
          "Neutral",
          "negative",
          "weakly negative",
          "weakly negative",
          "Neutral",
          "very negative",
          "positive",
          "weakly positive",
          "negative",
          "weakly negative",
          "negative",
          "weakly positive",
          "negative",
          "weakly positive",
          "negative",
          "positive",
          "very negative",
          "weakly positive",
          "very negative",
          "very positive",
          "negative",
          "negative",
          "positive",
          "positive",
          "weakly positive",
          "Neutral",
          "weakly positive",
          "Neutral",
          "very negative",
          "very negative",
          "weakly positive",
          "weakly positive",
          "weakly positive",
          "very negative",
          "very negative",
          "negative",
          "very negative",
          "weakly negative",
          "weakly negative",
          "weakly negative",
          "negative",
          "Neutral",
          "weakly negative",
          "Neutral",
          "Neutral",
          "weakly negative",
          "Neutral",
          "positive",
          "very negative",
          "weakly negative",
          "very negative",
          "negative",
          "very negative",
          "negative",
          "Neutral",
          "very positive",
          "Neutral",
          "weakly positive",
          "negative",
          "positive",
          "very negative",
          "very positive",
          "Neutral",
          "positive",
          "negative",
          "very negative",
          "negative",
          "negative",
          "weakly negative",
          "negative",
          "weakly negative",
          "very negative",
          "negative",
          "very negative",
          "negative",
          "weakly positive",
          "weakly positive",
          "very negative",
          "very negative",
          "very negative",
          "Neutral",
          "positive",
          "very positive",
          "Neutral",
          "positive",
          "Neutral",
          "Neutral",
          "very negative",
          "weakly negative",
          "weakly positive",
          "negative",
          "weakly positive",
          "negative",
          "very negative",
          "negative",
          "weakly negative",
          "negative",
          "negative",
          "negative",
          "very negative",
          "weakly positive",
          "weakly positive",
          "negative",
          "weakly positive",
          "negative",
          "weakly negative",
          "Neutral",
          "negative",
          "Neutral",
          "weakly positive",
          "very negative",
          "weakly negative",
          "weakly positive",
          "negative",
          "negative",
          "positive",
          "very positive",
          "weakly negative",
          "weakly positive",
          "positive",
          "weakly positive",
          "positive",
          "weakly positive",
          "weakly negative",
          "positive",
          "weakly positive",
          "positive",
          "Neutral",
          "negative",
          "very negative",
          "very negative",
          "positive",
          "negative",
          "weakly negative",
          "negative",
          "negative",
          "Neutral",
          "weakly negative",
          "negative",
          "negative",
          "negative",
          "negative",
          "weakly negative",
          "weakly positive",
          "negative",
          "positive",
          "positive",
          "weakly positive",
          "negative",
          "weakly positive",
          "negative",
          "very positive",
          "negative",
          "weakly negative",
          "positive",
          "weakly positive",
          "negative",
          "positive",
          "weakly positive",
          "very positive",
          "positive",
          "weakly positive",
          "weakly negative",
          "very negative",
          "very negative",
          "negative",
          "very negative",
          "very negative",
          "weakly negative",
          "negative",
          "weakly negative",
          "negative",
          "very negative",
          "very positive",
          "negative",
          "positive",
          "weakly positive",
          "very negative",
          "very positive",
          "Neutral",
          "very positive",
          "negative",
          "weakly negative",
          "very negative",
          "very negative",
          "very negative",
          "very positive",
          "Neutral",
          "negative",
          "negative",
          "negative",
          "very negative",
          "negative",
          "negative",
          "very negative",
          "Neutral",
          "negative",
          "weakly negative",
          "negative",
          "negative",
          "very negative",
          "very negative",
          "Neutral",
          "weakly negative",
          "negative",
          "Neutral",
          "negative",
          "weakly negative",
          "negative",
          "Neutral",
          "very negative",
          "negative",
          "negative",
          "negative",
          "Neutral",
          "negative",
          "very negative",
          "negative",
          "negative",
          "positive",
          "positive",
          "very negative",
          "weakly positive",
          "weakly positive",
          "weakly negative",
          "positive",
          "weakly negative",
          "negative",
          "very positive",
          "positive",
          "positive",
          "positive",
          "weakly positive",
          "Neutral",
          "Neutral",
          "weakly negative",
          "negative",
          "weakly positive",
          "Neutral",
          "negative",
          "very positive",
          "Neutral",
          "positive",
          "negative",
          "weakly negative",
          "very positive",
          "very positive",
          "very negative",
          "Neutral",
          "weakly negative",
          "positive",
          "positive",
          "positive",
          "very positive",
          "positive",
          "Neutral",
          "Neutral",
          "Neutral",
          "very positive",
          "Neutral",
          "very negative",
          "positive",
          "weakly positive",
          "weakly negative",
          "very positive",
          "very positive",
          "positive",
          "negative",
          "very positive",
          "negative",
          "positive",
          "weakly positive",
          "very positive",
          "weakly positive",
          "positive",
          "Neutral",
          "positive",
          "very positive",
          "weakly positive",
          "Neutral",
          "Neutral",
          "positive",
          "weakly positive",
          "positive",
          "very positive",
          "very positive",
          "positive",
          "Neutral",
          "weakly positive",
          "Neutral",
          "positive",
          "positive",
          "positive",
          "very positive",
          "weakly positive",
          "positive",
          "weakly negative",
          "positive",
          "positive",
          "weakly positive",
          "weakly negative",
          "Neutral",
          "weakly negative",
          "positive",
          "Neutral",
          "positive",
          "Neutral",
          "positive",
          "weakly negative",
          "weakly positive",
          "positive",
          "weakly positive",
          "weakly negative",
          "positive",
          "negative",
          "Neutral",
          "negative",
          "positive",
          "weakly positive",
          "Neutral",
          "Neutral",
          "weakly negative",
          "weakly negative",
          "weakly negative",
          "negative",
          "Neutral",
          "Neutral",
          "very positive",
          "negative",
          "negative",
          "negative",
          "Neutral",
          "weakly positive",
          "negative",
          "weakly positive",
          "weakly negative",
          "Neutral",
          "negative",
          "weakly negative",
          "Neutral",
          "positive",
          "weakly positive",
          "negative",
          "very positive",
          "weakly negative",
          "Neutral",
          "weakly negative",
          "negative",
          "negative",
          "weakly negative",
          "negative",
          "positive",
          "Neutral",
          "weakly negative",
          "negative",
          "weakly positive",
          "negative",
          "negative",
          "very negative",
          "negative",
          "very negative",
          "negative",
          "negative",
          "negative",
          "positive",
          "weakly negative",
          "positive",
          "weakly negative",
          "weakly negative",
          "weakly negative",
          "negative",
          "weakly positive",
          "weakly negative",
          "negative",
          "negative",
          "very negative",
          "positive",
          "weakly positive",
          "weakly positive",
          "negative",
          "negative",
          "weakly positive",
          "weakly positive",
          "negative",
          "weakly negative",
          "weakly positive",
          "weakly negative",
          "weakly positive",
          "Neutral",
          "weakly negative",
          "weakly negative",
          "negative",
          "Neutral",
          "weakly positive",
          "positive",
          "weakly positive",
          "Neutral",
          "weakly positive",
          "weakly positive"
         ],
         "xaxis": "x",
         "y": [
          1,
          1,
          1,
          1,
          1,
          1,
          1,
          1,
          1,
          1,
          1,
          1,
          1,
          1,
          1,
          1,
          1,
          1,
          1,
          1,
          1,
          1,
          1,
          1,
          1,
          1,
          1,
          1,
          1,
          1,
          1,
          1,
          1,
          1,
          1,
          1,
          1,
          1,
          1,
          1,
          1,
          1,
          1,
          1,
          1,
          1,
          1,
          1,
          1,
          1,
          1,
          1,
          1,
          1,
          1,
          1,
          1,
          1,
          1,
          1,
          1,
          1,
          1,
          1,
          1,
          1,
          1,
          1,
          1,
          1,
          1,
          1,
          1,
          1,
          1,
          1,
          1,
          1,
          1,
          1,
          1,
          1,
          1,
          1,
          1,
          1,
          1,
          1,
          1,
          1,
          1,
          1,
          1,
          1,
          1,
          1,
          1,
          1,
          1,
          1,
          1,
          1,
          1,
          1,
          1,
          1,
          1,
          1,
          1,
          1,
          1,
          1,
          1,
          1,
          1,
          1,
          1,
          1,
          1,
          1,
          1,
          1,
          1,
          1,
          1,
          1,
          1,
          1,
          1,
          1,
          1,
          1,
          1,
          1,
          1,
          1,
          1,
          1,
          1,
          1,
          1,
          1,
          1,
          1,
          1,
          1,
          1,
          1,
          1,
          1,
          1,
          1,
          1,
          1,
          1,
          1,
          1,
          1,
          1,
          1,
          1,
          1,
          1,
          1,
          1,
          1,
          1,
          1,
          1,
          1,
          1,
          1,
          1,
          1,
          1,
          1,
          1,
          1,
          1,
          1,
          1,
          1,
          1,
          1,
          1,
          1,
          1,
          1,
          1,
          1,
          1,
          1,
          1,
          1,
          1,
          1,
          1,
          1,
          1,
          1,
          1,
          1,
          1,
          1,
          1,
          1,
          1,
          1,
          1,
          1,
          1,
          1,
          1,
          1,
          1,
          1,
          1,
          1,
          1,
          1,
          1,
          1,
          1,
          1,
          1,
          1,
          1,
          1,
          1,
          1,
          1,
          1,
          1,
          1,
          1,
          1,
          1,
          1,
          1,
          1,
          1,
          1,
          1,
          1,
          1,
          1,
          1,
          1,
          1,
          1,
          1,
          1,
          1,
          1,
          1,
          1,
          1,
          1,
          1,
          1,
          1,
          1,
          1,
          1,
          1,
          1,
          1,
          1,
          1,
          1,
          1,
          1,
          1,
          1,
          1,
          1,
          1,
          1,
          1,
          1,
          1,
          1,
          1,
          1,
          1,
          1,
          1,
          1,
          1,
          1,
          1,
          1,
          1,
          1,
          1,
          1,
          1,
          1,
          1,
          1,
          1,
          1,
          1,
          1,
          1,
          1,
          1,
          1,
          1,
          1,
          1,
          1,
          1,
          1,
          1,
          1,
          1,
          1,
          1,
          1,
          1,
          1,
          1,
          1,
          1,
          1,
          1,
          1,
          1,
          1,
          1,
          1,
          1,
          1,
          1,
          1,
          1,
          1,
          1,
          1,
          1,
          1,
          1,
          1,
          1,
          1,
          1,
          1,
          1,
          1,
          1,
          1,
          1,
          1,
          1,
          1,
          1,
          1,
          1,
          1,
          1,
          1,
          1,
          1,
          1,
          1,
          1,
          1,
          1,
          1,
          1,
          1,
          1,
          1,
          1,
          1,
          1,
          1,
          1,
          1,
          1,
          1,
          1,
          1,
          1,
          1,
          1,
          1,
          1,
          1,
          1,
          1,
          1,
          1,
          1,
          1,
          1,
          1,
          1,
          1,
          1,
          1,
          1,
          1,
          1,
          1,
          1,
          1,
          1,
          1,
          1,
          1,
          1,
          1,
          1,
          1,
          1,
          1,
          1,
          1,
          1,
          1,
          1,
          1,
          1,
          1,
          1,
          1,
          1,
          1,
          1,
          1,
          1,
          1,
          1,
          1,
          1,
          1,
          1,
          1,
          1,
          1,
          1,
          1,
          1,
          1,
          1,
          1,
          1,
          1,
          1,
          1,
          1,
          1,
          1,
          1,
          1,
          1,
          1,
          1,
          1,
          1,
          1,
          1,
          1,
          1,
          1,
          1,
          1,
          1,
          1,
          1,
          1,
          1,
          1,
          1,
          1,
          1,
          1,
          1,
          1,
          1,
          1,
          1,
          1,
          1,
          1,
          1,
          1,
          1,
          1,
          1,
          1,
          1,
          1,
          1,
          1,
          1,
          1,
          1,
          1,
          1,
          1,
          1,
          1,
          1,
          1,
          1,
          1,
          1,
          1,
          1,
          1,
          1,
          1,
          1,
          1,
          1,
          1,
          1,
          1,
          1,
          1,
          1,
          1,
          1,
          1,
          1,
          1,
          1,
          1,
          1,
          1,
          1,
          1,
          1,
          1,
          1,
          1,
          1,
          1,
          1,
          1,
          1,
          1,
          1,
          1,
          1,
          1,
          1,
          1,
          1,
          1,
          1,
          1,
          1,
          1,
          1,
          1,
          1,
          1,
          1,
          1,
          1,
          1,
          1,
          1,
          1,
          1,
          1,
          1,
          1,
          1,
          1,
          1,
          1,
          1,
          1,
          1,
          1,
          1,
          1,
          1,
          1,
          1,
          1,
          1,
          1,
          1,
          1,
          1,
          1,
          1,
          1,
          1,
          1,
          1,
          1,
          1,
          1,
          1,
          1,
          1,
          1,
          1,
          1,
          1,
          1,
          1,
          1,
          1,
          1,
          1,
          1,
          1,
          1,
          1,
          1,
          1,
          1,
          1,
          1,
          1,
          1,
          1,
          1,
          1,
          1,
          1,
          1,
          1,
          1,
          1,
          1,
          1,
          1,
          1,
          1,
          1,
          1,
          1,
          1,
          1,
          1,
          1,
          1,
          1,
          1,
          1,
          1,
          1,
          1,
          1,
          1,
          1,
          1,
          1,
          1,
          1,
          1,
          1,
          1,
          1,
          1,
          1,
          1,
          1,
          1,
          1,
          1,
          1,
          1,
          1,
          1,
          1,
          1,
          1,
          1,
          1,
          1,
          1,
          1,
          1,
          1,
          1,
          1
         ],
         "yaxis": "y"
        },
        {
         "alignmentgroup": "True",
         "hovertemplate": "preds_7=%{x}<br>count=%{y}<extra></extra>",
         "legendgroup": "",
         "marker": {
          "color": "#636efa",
          "pattern": {
           "shape": ""
          }
         },
         "name": "",
         "offsetgroup": "",
         "orientation": "v",
         "showlegend": false,
         "textposition": "auto",
         "type": "bar",
         "x": [
          "positive",
          "negative",
          "Neutral",
          "Neutral",
          "negative",
          "weakly negative",
          "positive",
          "weakly negative",
          "weakly positive",
          "positive",
          "positive",
          "negative",
          "negative",
          "negative",
          "positive",
          "weakly positive",
          "positive",
          "weakly positive",
          "negative",
          "weakly positive",
          "weakly positive",
          "weakly positive",
          "positive",
          "weakly negative",
          "negative",
          "positive",
          "Neutral",
          "negative",
          "very negative",
          "weakly negative",
          "weakly negative",
          "negative",
          "weakly positive",
          "very positive",
          "weakly positive",
          "weakly negative",
          "negative",
          "negative",
          "weakly negative",
          "positive",
          "weakly negative",
          "weakly positive",
          "positive",
          "weakly positive",
          "very positive",
          "negative",
          "very positive",
          "negative",
          "positive",
          "weakly positive",
          "negative",
          "Neutral",
          "Neutral",
          "Neutral",
          "negative",
          "weakly negative",
          "weakly negative",
          "positive",
          "weakly positive",
          "positive",
          "weakly positive",
          "weakly negative",
          "very positive",
          "weakly positive",
          "Neutral",
          "weakly positive",
          "negative",
          "positive",
          "weakly negative",
          "Neutral",
          "weakly positive",
          "positive",
          "weakly negative",
          "Neutral",
          "positive",
          "positive",
          "weakly positive",
          "very positive",
          "weakly negative",
          "positive",
          "weakly positive",
          "positive",
          "weakly positive",
          "positive",
          "positive",
          "very positive",
          "very positive",
          "weakly negative",
          "very positive",
          "weakly positive",
          "weakly positive",
          "Neutral",
          "Neutral",
          "positive",
          "weakly positive",
          "very positive",
          "weakly positive",
          "negative",
          "weakly positive",
          "very positive",
          "weakly positive",
          "weakly positive",
          "very positive",
          "positive",
          "negative",
          "Neutral",
          "Neutral",
          "Neutral",
          "very positive",
          "Neutral",
          "weakly positive",
          "weakly positive",
          "Neutral",
          "weakly negative",
          "negative",
          "positive",
          "negative",
          "positive",
          "very positive",
          "weakly positive",
          "very positive",
          "negative",
          "weakly negative",
          "weakly positive",
          "negative",
          "Neutral",
          "very negative",
          "very negative",
          "weakly negative",
          "Neutral",
          "negative",
          "negative",
          "weakly positive",
          "negative",
          "Neutral",
          "weakly negative",
          "negative",
          "weakly negative",
          "Neutral",
          "negative",
          "negative",
          "negative",
          "very negative",
          "very negative",
          "positive",
          "very negative",
          "positive",
          "negative",
          "positive",
          "weakly negative",
          "negative",
          "negative",
          "negative",
          "very negative",
          "negative",
          "negative",
          "negative",
          "very negative",
          "negative",
          "negative",
          "weakly positive",
          "weakly positive",
          "weakly negative",
          "negative",
          "weakly positive",
          "weakly positive",
          "weakly positive",
          "weakly positive",
          "very negative",
          "Neutral",
          "weakly negative",
          "very positive",
          "weakly negative",
          "weakly positive",
          "positive",
          "weakly negative",
          "weakly positive",
          "weakly positive",
          "weakly negative",
          "positive",
          "Neutral",
          "weakly negative",
          "Neutral",
          "negative",
          "weakly positive",
          "Neutral",
          "Neutral",
          "weakly negative",
          "negative",
          "weakly negative",
          "negative",
          "negative",
          "Neutral",
          "weakly negative",
          "negative",
          "negative",
          "positive",
          "positive",
          "negative",
          "Neutral",
          "positive",
          "weakly negative",
          "weakly negative",
          "weakly positive",
          "positive",
          "very negative",
          "negative",
          "negative",
          "Neutral",
          "weakly positive",
          "negative",
          "negative",
          "negative",
          "weakly negative",
          "negative",
          "weakly negative",
          "negative",
          "negative",
          "weakly positive",
          "weakly negative",
          "negative",
          "weakly negative",
          "positive",
          "positive",
          "weakly negative",
          "weakly positive",
          "weakly positive",
          "Neutral",
          "negative",
          "weakly negative",
          "Neutral",
          "weakly positive",
          "Neutral",
          "weakly negative",
          "weakly negative",
          "weakly positive",
          "weakly positive",
          "weakly negative",
          "negative",
          "Neutral",
          "weakly negative",
          "positive",
          "weakly positive",
          "negative",
          "Neutral",
          "negative",
          "Neutral",
          "Neutral",
          "weakly positive",
          "positive",
          "positive",
          "weakly positive",
          "positive",
          "weakly negative",
          "weakly negative",
          "weakly negative",
          "weakly negative",
          "positive",
          "weakly negative",
          "weakly positive",
          "positive",
          "positive",
          "positive",
          "Neutral",
          "weakly negative",
          "weakly positive",
          "Neutral",
          "weakly positive",
          "negative",
          "positive",
          "Neutral",
          "weakly negative",
          "Neutral",
          "weakly positive",
          "Neutral",
          "negative",
          "Neutral",
          "positive",
          "Neutral",
          "positive",
          "negative",
          "weakly positive",
          "Neutral",
          "positive",
          "weakly negative",
          "very positive",
          "very positive",
          "weakly positive",
          "negative",
          "positive",
          "weakly negative",
          "weakly positive",
          "negative",
          "weakly positive",
          "weakly positive",
          "negative",
          "weakly positive",
          "negative",
          "positive",
          "weakly negative",
          "weakly positive",
          "negative",
          "Neutral",
          "very negative",
          "Neutral",
          "negative",
          "Neutral",
          "Neutral",
          "negative",
          "positive",
          "weakly positive",
          "weakly positive",
          "weakly negative",
          "Neutral",
          "weakly positive",
          "very negative",
          "negative",
          "weakly positive",
          "weakly positive",
          "very negative",
          "weakly negative",
          "negative",
          "weakly positive",
          "negative",
          "negative",
          "Neutral",
          "weakly negative",
          "weakly negative",
          "very negative",
          "Neutral",
          "weakly positive",
          "negative",
          "Neutral",
          "weakly positive",
          "positive",
          "very negative",
          "negative",
          "weakly negative",
          "negative",
          "very negative",
          "negative",
          "weakly negative",
          "very positive",
          "weakly negative",
          "weakly positive",
          "negative",
          "weakly positive",
          "negative",
          "positive",
          "weakly positive",
          "weakly negative",
          "weakly negative",
          "weakly positive",
          "weakly positive",
          "negative",
          "Neutral",
          "negative",
          "Neutral",
          "negative",
          "weakly negative",
          "Neutral",
          "weakly negative",
          "weakly positive",
          "positive",
          "Neutral",
          "weakly negative",
          "weakly positive",
          "weakly positive",
          "positive",
          "positive",
          "weakly positive",
          "positive",
          "weakly negative",
          "weakly positive",
          "negative",
          "negative",
          "positive",
          "negative",
          "positive",
          "weakly positive",
          "negative",
          "very negative",
          "negative",
          "negative",
          "negative",
          "positive",
          "Neutral",
          "very positive",
          "positive",
          "weakly negative",
          "positive",
          "negative",
          "Neutral",
          "negative",
          "weakly positive",
          "negative",
          "positive",
          "weakly negative",
          "Neutral",
          "negative",
          "negative",
          "negative",
          "positive",
          "very positive",
          "negative",
          "weakly positive",
          "weakly positive",
          "weakly positive",
          "positive",
          "positive",
          "weakly positive",
          "weakly positive",
          "weakly positive",
          "positive",
          "weakly positive",
          "negative",
          "negative",
          "weakly negative",
          "weakly negative",
          "weakly negative",
          "weakly positive",
          "weakly negative",
          "weakly positive",
          "Neutral",
          "Neutral",
          "negative",
          "weakly positive",
          "negative",
          "Neutral",
          "very positive",
          "weakly positive",
          "Neutral",
          "weakly positive",
          "positive",
          "Neutral",
          "Neutral",
          "weakly positive",
          "negative",
          "positive",
          "negative",
          "Neutral",
          "positive",
          "weakly positive",
          "weakly negative",
          "positive",
          "weakly positive",
          "positive",
          "weakly positive",
          "very positive",
          "weakly negative",
          "very negative",
          "positive",
          "weakly negative",
          "weakly negative",
          "negative",
          "weakly positive",
          "negative",
          "Neutral",
          "weakly negative",
          "negative",
          "positive",
          "weakly negative",
          "weakly positive",
          "weakly positive",
          "very negative",
          "positive",
          "positive",
          "very positive",
          "weakly negative",
          "Neutral",
          "weakly negative",
          "Neutral",
          "weakly positive",
          "positive",
          "weakly positive",
          "negative",
          "weakly positive",
          "weakly negative",
          "weakly negative",
          "negative",
          "weakly positive",
          "negative",
          "weakly negative",
          "Neutral",
          "Neutral",
          "positive",
          "weakly negative",
          "very negative",
          "very negative",
          "weakly positive",
          "weakly negative",
          "weakly negative",
          "weakly positive",
          "very negative",
          "weakly negative",
          "negative",
          "Neutral",
          "very negative",
          "negative",
          "weakly negative",
          "Neutral",
          "Neutral",
          "Neutral",
          "negative",
          "positive",
          "negative",
          "positive",
          "positive",
          "very negative",
          "positive",
          "weakly positive",
          "Neutral",
          "positive",
          "weakly positive",
          "weakly negative",
          "positive",
          "negative",
          "Neutral",
          "Neutral",
          "weakly positive",
          "weakly positive",
          "Neutral",
          "negative",
          "weakly positive",
          "Neutral",
          "weakly negative",
          "Neutral",
          "very positive",
          "positive",
          "positive",
          "weakly positive",
          "Neutral",
          "positive",
          "positive",
          "negative",
          "Neutral",
          "Neutral",
          "positive",
          "positive",
          "very positive",
          "very positive",
          "very positive",
          "weakly positive",
          "weakly negative",
          "weakly positive",
          "positive",
          "weakly positive",
          "weakly negative",
          "positive",
          "negative",
          "weakly negative",
          "positive",
          "very positive",
          "weakly positive",
          "Neutral",
          "positive",
          "negative",
          "negative",
          "very positive",
          "positive",
          "weakly positive",
          "weakly positive",
          "Neutral",
          "very positive",
          "positive",
          "weakly positive",
          "positive",
          "positive",
          "weakly positive",
          "positive",
          "positive",
          "positive",
          "positive",
          "positive",
          "weakly positive",
          "positive",
          "weakly negative",
          "positive",
          "weakly positive",
          "weakly positive",
          "positive",
          "weakly negative",
          "very positive",
          "Neutral",
          "weakly positive",
          "weakly positive",
          "positive",
          "negative",
          "weakly negative",
          "weakly negative",
          "Neutral",
          "weakly positive",
          "positive",
          "very positive",
          "very positive",
          "weakly positive",
          "weakly negative",
          "weakly positive",
          "positive",
          "weakly negative",
          "weakly positive",
          "Neutral",
          "weakly positive",
          "weakly negative",
          "weakly positive",
          "Neutral",
          "weakly positive",
          "Neutral",
          "negative",
          "weakly negative",
          "positive",
          "Neutral",
          "Neutral",
          "weakly negative",
          "very positive",
          "negative",
          "negative",
          "weakly negative",
          "negative",
          "Neutral",
          "negative",
          "Neutral",
          "weakly positive",
          "weakly positive",
          "weakly positive",
          "negative",
          "Neutral",
          "weakly positive",
          "positive",
          "negative",
          "positive",
          "weakly negative",
          "weakly negative",
          "Neutral",
          "negative",
          "negative",
          "Neutral",
          "Neutral",
          "positive",
          "weakly negative",
          "weakly negative",
          "negative",
          "positive",
          "negative",
          "weakly negative",
          "negative",
          "Neutral",
          "negative",
          "negative",
          "negative",
          "positive",
          "very positive",
          "negative",
          "positive",
          "Neutral",
          "Neutral",
          "negative",
          "weakly positive",
          "weakly positive",
          "weakly negative",
          "weakly negative",
          "very negative",
          "very negative",
          "positive",
          "weakly positive",
          "positive",
          "weakly positive",
          "negative",
          "weakly positive",
          "positive",
          "negative",
          "weakly negative",
          "positive",
          "weakly positive",
          "weakly positive",
          "weakly positive",
          "weakly positive",
          "weakly negative",
          "negative",
          "positive",
          "Neutral",
          "weakly positive",
          "weakly negative",
          "weakly negative",
          "weakly positive",
          "positive"
         ],
         "xaxis": "x2",
         "y": [
          1,
          1,
          1,
          1,
          1,
          1,
          1,
          1,
          1,
          1,
          1,
          1,
          1,
          1,
          1,
          1,
          1,
          1,
          1,
          1,
          1,
          1,
          1,
          1,
          1,
          1,
          1,
          1,
          1,
          1,
          1,
          1,
          1,
          1,
          1,
          1,
          1,
          1,
          1,
          1,
          1,
          1,
          1,
          1,
          1,
          1,
          1,
          1,
          1,
          1,
          1,
          1,
          1,
          1,
          1,
          1,
          1,
          1,
          1,
          1,
          1,
          1,
          1,
          1,
          1,
          1,
          1,
          1,
          1,
          1,
          1,
          1,
          1,
          1,
          1,
          1,
          1,
          1,
          1,
          1,
          1,
          1,
          1,
          1,
          1,
          1,
          1,
          1,
          1,
          1,
          1,
          1,
          1,
          1,
          1,
          1,
          1,
          1,
          1,
          1,
          1,
          1,
          1,
          1,
          1,
          1,
          1,
          1,
          1,
          1,
          1,
          1,
          1,
          1,
          1,
          1,
          1,
          1,
          1,
          1,
          1,
          1,
          1,
          1,
          1,
          1,
          1,
          1,
          1,
          1,
          1,
          1,
          1,
          1,
          1,
          1,
          1,
          1,
          1,
          1,
          1,
          1,
          1,
          1,
          1,
          1,
          1,
          1,
          1,
          1,
          1,
          1,
          1,
          1,
          1,
          1,
          1,
          1,
          1,
          1,
          1,
          1,
          1,
          1,
          1,
          1,
          1,
          1,
          1,
          1,
          1,
          1,
          1,
          1,
          1,
          1,
          1,
          1,
          1,
          1,
          1,
          1,
          1,
          1,
          1,
          1,
          1,
          1,
          1,
          1,
          1,
          1,
          1,
          1,
          1,
          1,
          1,
          1,
          1,
          1,
          1,
          1,
          1,
          1,
          1,
          1,
          1,
          1,
          1,
          1,
          1,
          1,
          1,
          1,
          1,
          1,
          1,
          1,
          1,
          1,
          1,
          1,
          1,
          1,
          1,
          1,
          1,
          1,
          1,
          1,
          1,
          1,
          1,
          1,
          1,
          1,
          1,
          1,
          1,
          1,
          1,
          1,
          1,
          1,
          1,
          1,
          1,
          1,
          1,
          1,
          1,
          1,
          1,
          1,
          1,
          1,
          1,
          1,
          1,
          1,
          1,
          1,
          1,
          1,
          1,
          1,
          1,
          1,
          1,
          1,
          1,
          1,
          1,
          1,
          1,
          1,
          1,
          1,
          1,
          1,
          1,
          1,
          1,
          1,
          1,
          1,
          1,
          1,
          1,
          1,
          1,
          1,
          1,
          1,
          1,
          1,
          1,
          1,
          1,
          1,
          1,
          1,
          1,
          1,
          1,
          1,
          1,
          1,
          1,
          1,
          1,
          1,
          1,
          1,
          1,
          1,
          1,
          1,
          1,
          1,
          1,
          1,
          1,
          1,
          1,
          1,
          1,
          1,
          1,
          1,
          1,
          1,
          1,
          1,
          1,
          1,
          1,
          1,
          1,
          1,
          1,
          1,
          1,
          1,
          1,
          1,
          1,
          1,
          1,
          1,
          1,
          1,
          1,
          1,
          1,
          1,
          1,
          1,
          1,
          1,
          1,
          1,
          1,
          1,
          1,
          1,
          1,
          1,
          1,
          1,
          1,
          1,
          1,
          1,
          1,
          1,
          1,
          1,
          1,
          1,
          1,
          1,
          1,
          1,
          1,
          1,
          1,
          1,
          1,
          1,
          1,
          1,
          1,
          1,
          1,
          1,
          1,
          1,
          1,
          1,
          1,
          1,
          1,
          1,
          1,
          1,
          1,
          1,
          1,
          1,
          1,
          1,
          1,
          1,
          1,
          1,
          1,
          1,
          1,
          1,
          1,
          1,
          1,
          1,
          1,
          1,
          1,
          1,
          1,
          1,
          1,
          1,
          1,
          1,
          1,
          1,
          1,
          1,
          1,
          1,
          1,
          1,
          1,
          1,
          1,
          1,
          1,
          1,
          1,
          1,
          1,
          1,
          1,
          1,
          1,
          1,
          1,
          1,
          1,
          1,
          1,
          1,
          1,
          1,
          1,
          1,
          1,
          1,
          1,
          1,
          1,
          1,
          1,
          1,
          1,
          1,
          1,
          1,
          1,
          1,
          1,
          1,
          1,
          1,
          1,
          1,
          1,
          1,
          1,
          1,
          1,
          1,
          1,
          1,
          1,
          1,
          1,
          1,
          1,
          1,
          1,
          1,
          1,
          1,
          1,
          1,
          1,
          1,
          1,
          1,
          1,
          1,
          1,
          1,
          1,
          1,
          1,
          1,
          1,
          1,
          1,
          1,
          1,
          1,
          1,
          1,
          1,
          1,
          1,
          1,
          1,
          1,
          1,
          1,
          1,
          1,
          1,
          1,
          1,
          1,
          1,
          1,
          1,
          1,
          1,
          1,
          1,
          1,
          1,
          1,
          1,
          1,
          1,
          1,
          1,
          1,
          1,
          1,
          1,
          1,
          1,
          1,
          1,
          1,
          1,
          1,
          1,
          1,
          1,
          1,
          1,
          1,
          1,
          1,
          1,
          1,
          1,
          1,
          1,
          1,
          1,
          1,
          1,
          1,
          1,
          1,
          1,
          1,
          1,
          1,
          1,
          1,
          1,
          1,
          1,
          1,
          1,
          1,
          1,
          1,
          1,
          1,
          1,
          1,
          1,
          1,
          1,
          1,
          1,
          1,
          1,
          1,
          1,
          1,
          1,
          1,
          1,
          1,
          1,
          1,
          1,
          1,
          1,
          1,
          1,
          1,
          1,
          1,
          1,
          1,
          1,
          1,
          1,
          1,
          1,
          1,
          1,
          1,
          1,
          1,
          1,
          1,
          1,
          1,
          1,
          1,
          1,
          1,
          1,
          1,
          1,
          1,
          1,
          1,
          1,
          1,
          1,
          1,
          1,
          1,
          1,
          1,
          1,
          1,
          1,
          1,
          1,
          1,
          1,
          1,
          1,
          1,
          1,
          1,
          1,
          1,
          1,
          1,
          1,
          1,
          1,
          1,
          1,
          1,
          1,
          1
         ],
         "yaxis": "y2"
        }
       ],
       "layout": {
        "annotations": [
         {
          "font": {
           "size": 16
          },
          "showarrow": false,
          "text": "Grond-truth",
          "x": 0.225,
          "xanchor": "center",
          "xref": "paper",
          "y": 1,
          "yanchor": "bottom",
          "yref": "paper"
         },
         {
          "font": {
           "size": 16
          },
          "showarrow": false,
          "text": "TFN",
          "x": 0.775,
          "xanchor": "center",
          "xref": "paper",
          "y": 1,
          "yanchor": "bottom",
          "yref": "paper"
         }
        ],
        "template": {
         "data": {
          "bar": [
           {
            "error_x": {
             "color": "#2a3f5f"
            },
            "error_y": {
             "color": "#2a3f5f"
            },
            "marker": {
             "line": {
              "color": "#E5ECF6",
              "width": 0.5
             },
             "pattern": {
              "fillmode": "overlay",
              "size": 10,
              "solidity": 0.2
             }
            },
            "type": "bar"
           }
          ],
          "barpolar": [
           {
            "marker": {
             "line": {
              "color": "#E5ECF6",
              "width": 0.5
             },
             "pattern": {
              "fillmode": "overlay",
              "size": 10,
              "solidity": 0.2
             }
            },
            "type": "barpolar"
           }
          ],
          "carpet": [
           {
            "aaxis": {
             "endlinecolor": "#2a3f5f",
             "gridcolor": "white",
             "linecolor": "white",
             "minorgridcolor": "white",
             "startlinecolor": "#2a3f5f"
            },
            "baxis": {
             "endlinecolor": "#2a3f5f",
             "gridcolor": "white",
             "linecolor": "white",
             "minorgridcolor": "white",
             "startlinecolor": "#2a3f5f"
            },
            "type": "carpet"
           }
          ],
          "choropleth": [
           {
            "colorbar": {
             "outlinewidth": 0,
             "ticks": ""
            },
            "type": "choropleth"
           }
          ],
          "contour": [
           {
            "colorbar": {
             "outlinewidth": 0,
             "ticks": ""
            },
            "colorscale": [
             [
              0,
              "#0d0887"
             ],
             [
              0.1111111111111111,
              "#46039f"
             ],
             [
              0.2222222222222222,
              "#7201a8"
             ],
             [
              0.3333333333333333,
              "#9c179e"
             ],
             [
              0.4444444444444444,
              "#bd3786"
             ],
             [
              0.5555555555555556,
              "#d8576b"
             ],
             [
              0.6666666666666666,
              "#ed7953"
             ],
             [
              0.7777777777777778,
              "#fb9f3a"
             ],
             [
              0.8888888888888888,
              "#fdca26"
             ],
             [
              1,
              "#f0f921"
             ]
            ],
            "type": "contour"
           }
          ],
          "contourcarpet": [
           {
            "colorbar": {
             "outlinewidth": 0,
             "ticks": ""
            },
            "type": "contourcarpet"
           }
          ],
          "heatmap": [
           {
            "colorbar": {
             "outlinewidth": 0,
             "ticks": ""
            },
            "colorscale": [
             [
              0,
              "#0d0887"
             ],
             [
              0.1111111111111111,
              "#46039f"
             ],
             [
              0.2222222222222222,
              "#7201a8"
             ],
             [
              0.3333333333333333,
              "#9c179e"
             ],
             [
              0.4444444444444444,
              "#bd3786"
             ],
             [
              0.5555555555555556,
              "#d8576b"
             ],
             [
              0.6666666666666666,
              "#ed7953"
             ],
             [
              0.7777777777777778,
              "#fb9f3a"
             ],
             [
              0.8888888888888888,
              "#fdca26"
             ],
             [
              1,
              "#f0f921"
             ]
            ],
            "type": "heatmap"
           }
          ],
          "heatmapgl": [
           {
            "colorbar": {
             "outlinewidth": 0,
             "ticks": ""
            },
            "colorscale": [
             [
              0,
              "#0d0887"
             ],
             [
              0.1111111111111111,
              "#46039f"
             ],
             [
              0.2222222222222222,
              "#7201a8"
             ],
             [
              0.3333333333333333,
              "#9c179e"
             ],
             [
              0.4444444444444444,
              "#bd3786"
             ],
             [
              0.5555555555555556,
              "#d8576b"
             ],
             [
              0.6666666666666666,
              "#ed7953"
             ],
             [
              0.7777777777777778,
              "#fb9f3a"
             ],
             [
              0.8888888888888888,
              "#fdca26"
             ],
             [
              1,
              "#f0f921"
             ]
            ],
            "type": "heatmapgl"
           }
          ],
          "histogram": [
           {
            "marker": {
             "pattern": {
              "fillmode": "overlay",
              "size": 10,
              "solidity": 0.2
             }
            },
            "type": "histogram"
           }
          ],
          "histogram2d": [
           {
            "colorbar": {
             "outlinewidth": 0,
             "ticks": ""
            },
            "colorscale": [
             [
              0,
              "#0d0887"
             ],
             [
              0.1111111111111111,
              "#46039f"
             ],
             [
              0.2222222222222222,
              "#7201a8"
             ],
             [
              0.3333333333333333,
              "#9c179e"
             ],
             [
              0.4444444444444444,
              "#bd3786"
             ],
             [
              0.5555555555555556,
              "#d8576b"
             ],
             [
              0.6666666666666666,
              "#ed7953"
             ],
             [
              0.7777777777777778,
              "#fb9f3a"
             ],
             [
              0.8888888888888888,
              "#fdca26"
             ],
             [
              1,
              "#f0f921"
             ]
            ],
            "type": "histogram2d"
           }
          ],
          "histogram2dcontour": [
           {
            "colorbar": {
             "outlinewidth": 0,
             "ticks": ""
            },
            "colorscale": [
             [
              0,
              "#0d0887"
             ],
             [
              0.1111111111111111,
              "#46039f"
             ],
             [
              0.2222222222222222,
              "#7201a8"
             ],
             [
              0.3333333333333333,
              "#9c179e"
             ],
             [
              0.4444444444444444,
              "#bd3786"
             ],
             [
              0.5555555555555556,
              "#d8576b"
             ],
             [
              0.6666666666666666,
              "#ed7953"
             ],
             [
              0.7777777777777778,
              "#fb9f3a"
             ],
             [
              0.8888888888888888,
              "#fdca26"
             ],
             [
              1,
              "#f0f921"
             ]
            ],
            "type": "histogram2dcontour"
           }
          ],
          "mesh3d": [
           {
            "colorbar": {
             "outlinewidth": 0,
             "ticks": ""
            },
            "type": "mesh3d"
           }
          ],
          "parcoords": [
           {
            "line": {
             "colorbar": {
              "outlinewidth": 0,
              "ticks": ""
             }
            },
            "type": "parcoords"
           }
          ],
          "pie": [
           {
            "automargin": true,
            "type": "pie"
           }
          ],
          "scatter": [
           {
            "fillpattern": {
             "fillmode": "overlay",
             "size": 10,
             "solidity": 0.2
            },
            "type": "scatter"
           }
          ],
          "scatter3d": [
           {
            "line": {
             "colorbar": {
              "outlinewidth": 0,
              "ticks": ""
             }
            },
            "marker": {
             "colorbar": {
              "outlinewidth": 0,
              "ticks": ""
             }
            },
            "type": "scatter3d"
           }
          ],
          "scattercarpet": [
           {
            "marker": {
             "colorbar": {
              "outlinewidth": 0,
              "ticks": ""
             }
            },
            "type": "scattercarpet"
           }
          ],
          "scattergeo": [
           {
            "marker": {
             "colorbar": {
              "outlinewidth": 0,
              "ticks": ""
             }
            },
            "type": "scattergeo"
           }
          ],
          "scattergl": [
           {
            "marker": {
             "colorbar": {
              "outlinewidth": 0,
              "ticks": ""
             }
            },
            "type": "scattergl"
           }
          ],
          "scattermapbox": [
           {
            "marker": {
             "colorbar": {
              "outlinewidth": 0,
              "ticks": ""
             }
            },
            "type": "scattermapbox"
           }
          ],
          "scatterpolar": [
           {
            "marker": {
             "colorbar": {
              "outlinewidth": 0,
              "ticks": ""
             }
            },
            "type": "scatterpolar"
           }
          ],
          "scatterpolargl": [
           {
            "marker": {
             "colorbar": {
              "outlinewidth": 0,
              "ticks": ""
             }
            },
            "type": "scatterpolargl"
           }
          ],
          "scatterternary": [
           {
            "marker": {
             "colorbar": {
              "outlinewidth": 0,
              "ticks": ""
             }
            },
            "type": "scatterternary"
           }
          ],
          "surface": [
           {
            "colorbar": {
             "outlinewidth": 0,
             "ticks": ""
            },
            "colorscale": [
             [
              0,
              "#0d0887"
             ],
             [
              0.1111111111111111,
              "#46039f"
             ],
             [
              0.2222222222222222,
              "#7201a8"
             ],
             [
              0.3333333333333333,
              "#9c179e"
             ],
             [
              0.4444444444444444,
              "#bd3786"
             ],
             [
              0.5555555555555556,
              "#d8576b"
             ],
             [
              0.6666666666666666,
              "#ed7953"
             ],
             [
              0.7777777777777778,
              "#fb9f3a"
             ],
             [
              0.8888888888888888,
              "#fdca26"
             ],
             [
              1,
              "#f0f921"
             ]
            ],
            "type": "surface"
           }
          ],
          "table": [
           {
            "cells": {
             "fill": {
              "color": "#EBF0F8"
             },
             "line": {
              "color": "white"
             }
            },
            "header": {
             "fill": {
              "color": "#C8D4E3"
             },
             "line": {
              "color": "white"
             }
            },
            "type": "table"
           }
          ]
         },
         "layout": {
          "annotationdefaults": {
           "arrowcolor": "#2a3f5f",
           "arrowhead": 0,
           "arrowwidth": 1
          },
          "autotypenumbers": "strict",
          "coloraxis": {
           "colorbar": {
            "outlinewidth": 0,
            "ticks": ""
           }
          },
          "colorscale": {
           "diverging": [
            [
             0,
             "#8e0152"
            ],
            [
             0.1,
             "#c51b7d"
            ],
            [
             0.2,
             "#de77ae"
            ],
            [
             0.3,
             "#f1b6da"
            ],
            [
             0.4,
             "#fde0ef"
            ],
            [
             0.5,
             "#f7f7f7"
            ],
            [
             0.6,
             "#e6f5d0"
            ],
            [
             0.7,
             "#b8e186"
            ],
            [
             0.8,
             "#7fbc41"
            ],
            [
             0.9,
             "#4d9221"
            ],
            [
             1,
             "#276419"
            ]
           ],
           "sequential": [
            [
             0,
             "#0d0887"
            ],
            [
             0.1111111111111111,
             "#46039f"
            ],
            [
             0.2222222222222222,
             "#7201a8"
            ],
            [
             0.3333333333333333,
             "#9c179e"
            ],
            [
             0.4444444444444444,
             "#bd3786"
            ],
            [
             0.5555555555555556,
             "#d8576b"
            ],
            [
             0.6666666666666666,
             "#ed7953"
            ],
            [
             0.7777777777777778,
             "#fb9f3a"
            ],
            [
             0.8888888888888888,
             "#fdca26"
            ],
            [
             1,
             "#f0f921"
            ]
           ],
           "sequentialminus": [
            [
             0,
             "#0d0887"
            ],
            [
             0.1111111111111111,
             "#46039f"
            ],
            [
             0.2222222222222222,
             "#7201a8"
            ],
            [
             0.3333333333333333,
             "#9c179e"
            ],
            [
             0.4444444444444444,
             "#bd3786"
            ],
            [
             0.5555555555555556,
             "#d8576b"
            ],
            [
             0.6666666666666666,
             "#ed7953"
            ],
            [
             0.7777777777777778,
             "#fb9f3a"
            ],
            [
             0.8888888888888888,
             "#fdca26"
            ],
            [
             1,
             "#f0f921"
            ]
           ]
          },
          "colorway": [
           "#636efa",
           "#EF553B",
           "#00cc96",
           "#ab63fa",
           "#FFA15A",
           "#19d3f3",
           "#FF6692",
           "#B6E880",
           "#FF97FF",
           "#FECB52"
          ],
          "font": {
           "color": "#2a3f5f"
          },
          "geo": {
           "bgcolor": "white",
           "lakecolor": "white",
           "landcolor": "#E5ECF6",
           "showlakes": true,
           "showland": true,
           "subunitcolor": "white"
          },
          "hoverlabel": {
           "align": "left"
          },
          "hovermode": "closest",
          "mapbox": {
           "style": "light"
          },
          "paper_bgcolor": "white",
          "plot_bgcolor": "#E5ECF6",
          "polar": {
           "angularaxis": {
            "gridcolor": "white",
            "linecolor": "white",
            "ticks": ""
           },
           "bgcolor": "#E5ECF6",
           "radialaxis": {
            "gridcolor": "white",
            "linecolor": "white",
            "ticks": ""
           }
          },
          "scene": {
           "xaxis": {
            "backgroundcolor": "#E5ECF6",
            "gridcolor": "white",
            "gridwidth": 2,
            "linecolor": "white",
            "showbackground": true,
            "ticks": "",
            "zerolinecolor": "white"
           },
           "yaxis": {
            "backgroundcolor": "#E5ECF6",
            "gridcolor": "white",
            "gridwidth": 2,
            "linecolor": "white",
            "showbackground": true,
            "ticks": "",
            "zerolinecolor": "white"
           },
           "zaxis": {
            "backgroundcolor": "#E5ECF6",
            "gridcolor": "white",
            "gridwidth": 2,
            "linecolor": "white",
            "showbackground": true,
            "ticks": "",
            "zerolinecolor": "white"
           }
          },
          "shapedefaults": {
           "line": {
            "color": "#2a3f5f"
           }
          },
          "ternary": {
           "aaxis": {
            "gridcolor": "white",
            "linecolor": "white",
            "ticks": ""
           },
           "baxis": {
            "gridcolor": "white",
            "linecolor": "white",
            "ticks": ""
           },
           "bgcolor": "#E5ECF6",
           "caxis": {
            "gridcolor": "white",
            "linecolor": "white",
            "ticks": ""
           }
          },
          "title": {
           "x": 0.05
          },
          "xaxis": {
           "automargin": true,
           "gridcolor": "white",
           "linecolor": "white",
           "ticks": "",
           "title": {
            "standoff": 15
           },
           "zerolinecolor": "white",
           "zerolinewidth": 2
          },
          "yaxis": {
           "automargin": true,
           "gridcolor": "white",
           "linecolor": "white",
           "ticks": "",
           "title": {
            "standoff": 15
           },
           "zerolinecolor": "white",
           "zerolinewidth": 2
          }
         }
        },
        "title": {
         "text": "Fusion result distribution"
        },
        "xaxis": {
         "anchor": "y",
         "categoryarray": [
          "very negative",
          "negative",
          "weakly negative",
          "Neutral",
          "weakly positive",
          "positive",
          "very positive"
         ],
         "categoryorder": "array",
         "domain": [
          0,
          0.45
         ]
        },
        "xaxis2": {
         "anchor": "y2",
         "categoryarray": [
          "very negative",
          "negative",
          "weakly negative",
          "Neutral",
          "weakly positive",
          "positive",
          "very positive"
         ],
         "categoryorder": "array",
         "domain": [
          0.55,
          1
         ]
        },
        "yaxis": {
         "anchor": "x",
         "domain": [
          0,
          1
         ],
         "range": [
          0,
          200
         ]
        },
        "yaxis2": {
         "anchor": "x2",
         "domain": [
          0,
          1
         ],
         "range": [
          0,
          200
         ]
        }
       }
      },
      "text/html": [
       "<div>                            <div id=\"2c17dc15-ebe8-4f0b-9b12-f3b2e3992aeb\" class=\"plotly-graph-div\" style=\"height:525px; width:100%;\"></div>            <script type=\"text/javascript\">                require([\"plotly\"], function(Plotly) {                    window.PLOTLYENV=window.PLOTLYENV || {};                                    if (document.getElementById(\"2c17dc15-ebe8-4f0b-9b12-f3b2e3992aeb\")) {                    Plotly.newPlot(                        \"2c17dc15-ebe8-4f0b-9b12-f3b2e3992aeb\",                        [{\"alignmentgroup\":\"True\",\"hovertemplate\":\"labels_7=%{x}<br>count=%{y}<extra></extra>\",\"legendgroup\":\"\",\"marker\":{\"color\":\"#636efa\",\"pattern\":{\"shape\":\"\"}},\"name\":\"\",\"offsetgroup\":\"\",\"orientation\":\"v\",\"showlegend\":false,\"textposition\":\"auto\",\"x\":[\"weakly positive\",\"very negative\",\"Neutral\",\"negative\",\"very negative\",\"negative\",\"weakly negative\",\"negative\",\"negative\",\"positive\",\"very negative\",\"very negative\",\"very negative\",\"weakly negative\",\"weakly positive\",\"weakly negative\",\"weakly positive\",\"very negative\",\"very negative\",\"Neutral\",\"very negative\",\"weakly positive\",\"weakly positive\",\"very negative\",\"negative\",\"weakly negative\",\"negative\",\"very negative\",\"very negative\",\"very negative\",\"negative\",\"very negative\",\"very positive\",\"positive\",\"weakly positive\",\"very positive\",\"very negative\",\"very negative\",\"weakly negative\",\"very positive\",\"weakly negative\",\"Neutral\",\"weakly negative\",\"positive\",\"very positive\",\"weakly negative\",\"very positive\",\"very negative\",\"very positive\",\"weakly positive\",\"very positive\",\"weakly negative\",\"very negative\",\"very negative\",\"weakly negative\",\"very negative\",\"negative\",\"weakly positive\",\"positive\",\"positive\",\"positive\",\"negative\",\"positive\",\"weakly positive\",\"Neutral\",\"weakly positive\",\"weakly negative\",\"positive\",\"weakly negative\",\"weakly negative\",\"weakly negative\",\"positive\",\"weakly negative\",\"Neutral\",\"positive\",\"weakly positive\",\"weakly negative\",\"very positive\",\"Neutral\",\"weakly negative\",\"weakly negative\",\"very positive\",\"weakly positive\",\"positive\",\"positive\",\"positive\",\"positive\",\"weakly negative\",\"very positive\",\"weakly positive\",\"Neutral\",\"weakly negative\",\"Neutral\",\"positive\",\"Neutral\",\"very positive\",\"Neutral\",\"positive\",\"Neutral\",\"very positive\",\"positive\",\"weakly negative\",\"positive\",\"positive\",\"weakly negative\",\"Neutral\",\"Neutral\",\"very negative\",\"very positive\",\"Neutral\",\"positive\",\"positive\",\"weakly positive\",\"weakly positive\",\"very negative\",\"positive\",\"negative\",\"very positive\",\"positive\",\"very positive\",\"very positive\",\"negative\",\"negative\",\"weakly positive\",\"negative\",\"Neutral\",\"very negative\",\"negative\",\"negative\",\"weakly negative\",\"negative\",\"very negative\",\"weakly positive\",\"negative\",\"negative\",\"very negative\",\"very negative\",\"weakly negative\",\"weakly negative\",\"negative\",\"negative\",\"very negative\",\"very negative\",\"very negative\",\"positive\",\"very negative\",\"weakly negative\",\"negative\",\"weakly negative\",\"very negative\",\"negative\",\"negative\",\"very negative\",\"very negative\",\"very negative\",\"negative\",\"very negative\",\"very negative\",\"very negative\",\"very negative\",\"weakly negative\",\"very negative\",\"Neutral\",\"weakly negative\",\"weakly positive\",\"Neutral\",\"weakly negative\",\"Neutral\",\"very negative\",\"negative\",\"weakly negative\",\"weakly positive\",\"weakly negative\",\"negative\",\"weakly positive\",\"weakly positive\",\"negative\",\"Neutral\",\"negative\",\"very negative\",\"Neutral\",\"negative\",\"negative\",\"weakly positive\",\"weakly positive\",\"negative\",\"weakly positive\",\"weakly positive\",\"very negative\",\"negative\",\"weakly negative\",\"weakly negative\",\"very negative\",\"weakly negative\",\"weakly negative\",\"negative\",\"weakly negative\",\"positive\",\"Neutral\",\"negative\",\"positive\",\"negative\",\"weakly negative\",\"weakly positive\",\"positive\",\"very negative\",\"very negative\",\"negative\",\"Neutral\",\"positive\",\"very negative\",\"weakly negative\",\"negative\",\"weakly negative\",\"negative\",\"weakly negative\",\"very negative\",\"weakly negative\",\"weakly positive\",\"Neutral\",\"negative\",\"weakly negative\",\"weakly positive\",\"positive\",\"weakly negative\",\"weakly negative\",\"Neutral\",\"weakly positive\",\"Neutral\",\"weakly negative\",\"Neutral\",\"weakly positive\",\"Neutral\",\"Neutral\",\"weakly negative\",\"positive\",\"Neutral\",\"Neutral\",\"very negative\",\"Neutral\",\"weakly negative\",\"positive\",\"weakly positive\",\"very negative\",\"weakly positive\",\"Neutral\",\"very negative\",\"Neutral\",\"positive\",\"positive\",\"weakly positive\",\"negative\",\"Neutral\",\"weakly positive\",\"very negative\",\"weakly negative\",\"Neutral\",\"negative\",\"negative\",\"weakly positive\",\"very positive\",\"very positive\",\"Neutral\",\"weakly negative\",\"negative\",\"weakly negative\",\"weakly negative\",\"Neutral\",\"weakly negative\",\"positive\",\"very negative\",\"weakly negative\",\"weakly positive\",\"weakly positive\",\"weakly negative\",\"negative\",\"weakly negative\",\"positive\",\"weakly positive\",\"very positive\",\"negative\",\"Neutral\",\"Neutral\",\"positive\",\"Neutral\",\"very positive\",\"very positive\",\"Neutral\",\"negative\",\"weakly negative\",\"weakly negative\",\"Neutral\",\"very negative\",\"positive\",\"weakly positive\",\"negative\",\"weakly negative\",\"negative\",\"weakly positive\",\"negative\",\"weakly positive\",\"negative\",\"positive\",\"very negative\",\"weakly positive\",\"very negative\",\"very positive\",\"negative\",\"negative\",\"positive\",\"positive\",\"weakly positive\",\"Neutral\",\"weakly positive\",\"Neutral\",\"very negative\",\"very negative\",\"weakly positive\",\"weakly positive\",\"weakly positive\",\"very negative\",\"very negative\",\"negative\",\"very negative\",\"weakly negative\",\"weakly negative\",\"weakly negative\",\"negative\",\"Neutral\",\"weakly negative\",\"Neutral\",\"Neutral\",\"weakly negative\",\"Neutral\",\"positive\",\"very negative\",\"weakly negative\",\"very negative\",\"negative\",\"very negative\",\"negative\",\"Neutral\",\"very positive\",\"Neutral\",\"weakly positive\",\"negative\",\"positive\",\"very negative\",\"very positive\",\"Neutral\",\"positive\",\"negative\",\"very negative\",\"negative\",\"negative\",\"weakly negative\",\"negative\",\"weakly negative\",\"very negative\",\"negative\",\"very negative\",\"negative\",\"weakly positive\",\"weakly positive\",\"very negative\",\"very negative\",\"very negative\",\"Neutral\",\"positive\",\"very positive\",\"Neutral\",\"positive\",\"Neutral\",\"Neutral\",\"very negative\",\"weakly negative\",\"weakly positive\",\"negative\",\"weakly positive\",\"negative\",\"very negative\",\"negative\",\"weakly negative\",\"negative\",\"negative\",\"negative\",\"very negative\",\"weakly positive\",\"weakly positive\",\"negative\",\"weakly positive\",\"negative\",\"weakly negative\",\"Neutral\",\"negative\",\"Neutral\",\"weakly positive\",\"very negative\",\"weakly negative\",\"weakly positive\",\"negative\",\"negative\",\"positive\",\"very positive\",\"weakly negative\",\"weakly positive\",\"positive\",\"weakly positive\",\"positive\",\"weakly positive\",\"weakly negative\",\"positive\",\"weakly positive\",\"positive\",\"Neutral\",\"negative\",\"very negative\",\"very negative\",\"positive\",\"negative\",\"weakly negative\",\"negative\",\"negative\",\"Neutral\",\"weakly negative\",\"negative\",\"negative\",\"negative\",\"negative\",\"weakly negative\",\"weakly positive\",\"negative\",\"positive\",\"positive\",\"weakly positive\",\"negative\",\"weakly positive\",\"negative\",\"very positive\",\"negative\",\"weakly negative\",\"positive\",\"weakly positive\",\"negative\",\"positive\",\"weakly positive\",\"very positive\",\"positive\",\"weakly positive\",\"weakly negative\",\"very negative\",\"very negative\",\"negative\",\"very negative\",\"very negative\",\"weakly negative\",\"negative\",\"weakly negative\",\"negative\",\"very negative\",\"very positive\",\"negative\",\"positive\",\"weakly positive\",\"very negative\",\"very positive\",\"Neutral\",\"very positive\",\"negative\",\"weakly negative\",\"very negative\",\"very negative\",\"very negative\",\"very positive\",\"Neutral\",\"negative\",\"negative\",\"negative\",\"very negative\",\"negative\",\"negative\",\"very negative\",\"Neutral\",\"negative\",\"weakly negative\",\"negative\",\"negative\",\"very negative\",\"very negative\",\"Neutral\",\"weakly negative\",\"negative\",\"Neutral\",\"negative\",\"weakly negative\",\"negative\",\"Neutral\",\"very negative\",\"negative\",\"negative\",\"negative\",\"Neutral\",\"negative\",\"very negative\",\"negative\",\"negative\",\"positive\",\"positive\",\"very negative\",\"weakly positive\",\"weakly positive\",\"weakly negative\",\"positive\",\"weakly negative\",\"negative\",\"very positive\",\"positive\",\"positive\",\"positive\",\"weakly positive\",\"Neutral\",\"Neutral\",\"weakly negative\",\"negative\",\"weakly positive\",\"Neutral\",\"negative\",\"very positive\",\"Neutral\",\"positive\",\"negative\",\"weakly negative\",\"very positive\",\"very positive\",\"very negative\",\"Neutral\",\"weakly negative\",\"positive\",\"positive\",\"positive\",\"very positive\",\"positive\",\"Neutral\",\"Neutral\",\"Neutral\",\"very positive\",\"Neutral\",\"very negative\",\"positive\",\"weakly positive\",\"weakly negative\",\"very positive\",\"very positive\",\"positive\",\"negative\",\"very positive\",\"negative\",\"positive\",\"weakly positive\",\"very positive\",\"weakly positive\",\"positive\",\"Neutral\",\"positive\",\"very positive\",\"weakly positive\",\"Neutral\",\"Neutral\",\"positive\",\"weakly positive\",\"positive\",\"very positive\",\"very positive\",\"positive\",\"Neutral\",\"weakly positive\",\"Neutral\",\"positive\",\"positive\",\"positive\",\"very positive\",\"weakly positive\",\"positive\",\"weakly negative\",\"positive\",\"positive\",\"weakly positive\",\"weakly negative\",\"Neutral\",\"weakly negative\",\"positive\",\"Neutral\",\"positive\",\"Neutral\",\"positive\",\"weakly negative\",\"weakly positive\",\"positive\",\"weakly positive\",\"weakly negative\",\"positive\",\"negative\",\"Neutral\",\"negative\",\"positive\",\"weakly positive\",\"Neutral\",\"Neutral\",\"weakly negative\",\"weakly negative\",\"weakly negative\",\"negative\",\"Neutral\",\"Neutral\",\"very positive\",\"negative\",\"negative\",\"negative\",\"Neutral\",\"weakly positive\",\"negative\",\"weakly positive\",\"weakly negative\",\"Neutral\",\"negative\",\"weakly negative\",\"Neutral\",\"positive\",\"weakly positive\",\"negative\",\"very positive\",\"weakly negative\",\"Neutral\",\"weakly negative\",\"negative\",\"negative\",\"weakly negative\",\"negative\",\"positive\",\"Neutral\",\"weakly negative\",\"negative\",\"weakly positive\",\"negative\",\"negative\",\"very negative\",\"negative\",\"very negative\",\"negative\",\"negative\",\"negative\",\"positive\",\"weakly negative\",\"positive\",\"weakly negative\",\"weakly negative\",\"weakly negative\",\"negative\",\"weakly positive\",\"weakly negative\",\"negative\",\"negative\",\"very negative\",\"positive\",\"weakly positive\",\"weakly positive\",\"negative\",\"negative\",\"weakly positive\",\"weakly positive\",\"negative\",\"weakly negative\",\"weakly positive\",\"weakly negative\",\"weakly positive\",\"Neutral\",\"weakly negative\",\"weakly negative\",\"negative\",\"Neutral\",\"weakly positive\",\"positive\",\"weakly positive\",\"Neutral\",\"weakly positive\",\"weakly positive\"],\"xaxis\":\"x\",\"y\":[1,1,1,1,1,1,1,1,1,1,1,1,1,1,1,1,1,1,1,1,1,1,1,1,1,1,1,1,1,1,1,1,1,1,1,1,1,1,1,1,1,1,1,1,1,1,1,1,1,1,1,1,1,1,1,1,1,1,1,1,1,1,1,1,1,1,1,1,1,1,1,1,1,1,1,1,1,1,1,1,1,1,1,1,1,1,1,1,1,1,1,1,1,1,1,1,1,1,1,1,1,1,1,1,1,1,1,1,1,1,1,1,1,1,1,1,1,1,1,1,1,1,1,1,1,1,1,1,1,1,1,1,1,1,1,1,1,1,1,1,1,1,1,1,1,1,1,1,1,1,1,1,1,1,1,1,1,1,1,1,1,1,1,1,1,1,1,1,1,1,1,1,1,1,1,1,1,1,1,1,1,1,1,1,1,1,1,1,1,1,1,1,1,1,1,1,1,1,1,1,1,1,1,1,1,1,1,1,1,1,1,1,1,1,1,1,1,1,1,1,1,1,1,1,1,1,1,1,1,1,1,1,1,1,1,1,1,1,1,1,1,1,1,1,1,1,1,1,1,1,1,1,1,1,1,1,1,1,1,1,1,1,1,1,1,1,1,1,1,1,1,1,1,1,1,1,1,1,1,1,1,1,1,1,1,1,1,1,1,1,1,1,1,1,1,1,1,1,1,1,1,1,1,1,1,1,1,1,1,1,1,1,1,1,1,1,1,1,1,1,1,1,1,1,1,1,1,1,1,1,1,1,1,1,1,1,1,1,1,1,1,1,1,1,1,1,1,1,1,1,1,1,1,1,1,1,1,1,1,1,1,1,1,1,1,1,1,1,1,1,1,1,1,1,1,1,1,1,1,1,1,1,1,1,1,1,1,1,1,1,1,1,1,1,1,1,1,1,1,1,1,1,1,1,1,1,1,1,1,1,1,1,1,1,1,1,1,1,1,1,1,1,1,1,1,1,1,1,1,1,1,1,1,1,1,1,1,1,1,1,1,1,1,1,1,1,1,1,1,1,1,1,1,1,1,1,1,1,1,1,1,1,1,1,1,1,1,1,1,1,1,1,1,1,1,1,1,1,1,1,1,1,1,1,1,1,1,1,1,1,1,1,1,1,1,1,1,1,1,1,1,1,1,1,1,1,1,1,1,1,1,1,1,1,1,1,1,1,1,1,1,1,1,1,1,1,1,1,1,1,1,1,1,1,1,1,1,1,1,1,1,1,1,1,1,1,1,1,1,1,1,1,1,1,1,1,1,1,1,1,1,1,1,1,1,1,1,1,1,1,1,1,1,1,1,1,1,1,1,1,1,1,1,1,1,1,1,1,1,1,1,1,1,1,1,1,1,1,1,1,1,1,1,1,1,1,1,1,1,1,1,1,1,1,1,1,1,1,1,1,1,1,1,1,1,1,1,1,1,1,1,1,1,1,1,1,1,1,1,1,1,1,1,1,1,1,1,1,1,1,1,1,1,1,1,1,1,1,1,1,1,1,1,1,1,1,1,1,1,1,1,1,1,1,1,1,1,1,1,1,1,1,1,1,1,1],\"yaxis\":\"y\",\"type\":\"bar\"},{\"alignmentgroup\":\"True\",\"hovertemplate\":\"preds_7=%{x}<br>count=%{y}<extra></extra>\",\"legendgroup\":\"\",\"marker\":{\"color\":\"#636efa\",\"pattern\":{\"shape\":\"\"}},\"name\":\"\",\"offsetgroup\":\"\",\"orientation\":\"v\",\"showlegend\":false,\"textposition\":\"auto\",\"x\":[\"positive\",\"negative\",\"Neutral\",\"Neutral\",\"negative\",\"weakly negative\",\"positive\",\"weakly negative\",\"weakly positive\",\"positive\",\"positive\",\"negative\",\"negative\",\"negative\",\"positive\",\"weakly positive\",\"positive\",\"weakly positive\",\"negative\",\"weakly positive\",\"weakly positive\",\"weakly positive\",\"positive\",\"weakly negative\",\"negative\",\"positive\",\"Neutral\",\"negative\",\"very negative\",\"weakly negative\",\"weakly negative\",\"negative\",\"weakly positive\",\"very positive\",\"weakly positive\",\"weakly negative\",\"negative\",\"negative\",\"weakly negative\",\"positive\",\"weakly negative\",\"weakly positive\",\"positive\",\"weakly positive\",\"very positive\",\"negative\",\"very positive\",\"negative\",\"positive\",\"weakly positive\",\"negative\",\"Neutral\",\"Neutral\",\"Neutral\",\"negative\",\"weakly negative\",\"weakly negative\",\"positive\",\"weakly positive\",\"positive\",\"weakly positive\",\"weakly negative\",\"very positive\",\"weakly positive\",\"Neutral\",\"weakly positive\",\"negative\",\"positive\",\"weakly negative\",\"Neutral\",\"weakly positive\",\"positive\",\"weakly negative\",\"Neutral\",\"positive\",\"positive\",\"weakly positive\",\"very positive\",\"weakly negative\",\"positive\",\"weakly positive\",\"positive\",\"weakly positive\",\"positive\",\"positive\",\"very positive\",\"very positive\",\"weakly negative\",\"very positive\",\"weakly positive\",\"weakly positive\",\"Neutral\",\"Neutral\",\"positive\",\"weakly positive\",\"very positive\",\"weakly positive\",\"negative\",\"weakly positive\",\"very positive\",\"weakly positive\",\"weakly positive\",\"very positive\",\"positive\",\"negative\",\"Neutral\",\"Neutral\",\"Neutral\",\"very positive\",\"Neutral\",\"weakly positive\",\"weakly positive\",\"Neutral\",\"weakly negative\",\"negative\",\"positive\",\"negative\",\"positive\",\"very positive\",\"weakly positive\",\"very positive\",\"negative\",\"weakly negative\",\"weakly positive\",\"negative\",\"Neutral\",\"very negative\",\"very negative\",\"weakly negative\",\"Neutral\",\"negative\",\"negative\",\"weakly positive\",\"negative\",\"Neutral\",\"weakly negative\",\"negative\",\"weakly negative\",\"Neutral\",\"negative\",\"negative\",\"negative\",\"very negative\",\"very negative\",\"positive\",\"very negative\",\"positive\",\"negative\",\"positive\",\"weakly negative\",\"negative\",\"negative\",\"negative\",\"very negative\",\"negative\",\"negative\",\"negative\",\"very negative\",\"negative\",\"negative\",\"weakly positive\",\"weakly positive\",\"weakly negative\",\"negative\",\"weakly positive\",\"weakly positive\",\"weakly positive\",\"weakly positive\",\"very negative\",\"Neutral\",\"weakly negative\",\"very positive\",\"weakly negative\",\"weakly positive\",\"positive\",\"weakly negative\",\"weakly positive\",\"weakly positive\",\"weakly negative\",\"positive\",\"Neutral\",\"weakly negative\",\"Neutral\",\"negative\",\"weakly positive\",\"Neutral\",\"Neutral\",\"weakly negative\",\"negative\",\"weakly negative\",\"negative\",\"negative\",\"Neutral\",\"weakly negative\",\"negative\",\"negative\",\"positive\",\"positive\",\"negative\",\"Neutral\",\"positive\",\"weakly negative\",\"weakly negative\",\"weakly positive\",\"positive\",\"very negative\",\"negative\",\"negative\",\"Neutral\",\"weakly positive\",\"negative\",\"negative\",\"negative\",\"weakly negative\",\"negative\",\"weakly negative\",\"negative\",\"negative\",\"weakly positive\",\"weakly negative\",\"negative\",\"weakly negative\",\"positive\",\"positive\",\"weakly negative\",\"weakly positive\",\"weakly positive\",\"Neutral\",\"negative\",\"weakly negative\",\"Neutral\",\"weakly positive\",\"Neutral\",\"weakly negative\",\"weakly negative\",\"weakly positive\",\"weakly positive\",\"weakly negative\",\"negative\",\"Neutral\",\"weakly negative\",\"positive\",\"weakly positive\",\"negative\",\"Neutral\",\"negative\",\"Neutral\",\"Neutral\",\"weakly positive\",\"positive\",\"positive\",\"weakly positive\",\"positive\",\"weakly negative\",\"weakly negative\",\"weakly negative\",\"weakly negative\",\"positive\",\"weakly negative\",\"weakly positive\",\"positive\",\"positive\",\"positive\",\"Neutral\",\"weakly negative\",\"weakly positive\",\"Neutral\",\"weakly positive\",\"negative\",\"positive\",\"Neutral\",\"weakly negative\",\"Neutral\",\"weakly positive\",\"Neutral\",\"negative\",\"Neutral\",\"positive\",\"Neutral\",\"positive\",\"negative\",\"weakly positive\",\"Neutral\",\"positive\",\"weakly negative\",\"very positive\",\"very positive\",\"weakly positive\",\"negative\",\"positive\",\"weakly negative\",\"weakly positive\",\"negative\",\"weakly positive\",\"weakly positive\",\"negative\",\"weakly positive\",\"negative\",\"positive\",\"weakly negative\",\"weakly positive\",\"negative\",\"Neutral\",\"very negative\",\"Neutral\",\"negative\",\"Neutral\",\"Neutral\",\"negative\",\"positive\",\"weakly positive\",\"weakly positive\",\"weakly negative\",\"Neutral\",\"weakly positive\",\"very negative\",\"negative\",\"weakly positive\",\"weakly positive\",\"very negative\",\"weakly negative\",\"negative\",\"weakly positive\",\"negative\",\"negative\",\"Neutral\",\"weakly negative\",\"weakly negative\",\"very negative\",\"Neutral\",\"weakly positive\",\"negative\",\"Neutral\",\"weakly positive\",\"positive\",\"very negative\",\"negative\",\"weakly negative\",\"negative\",\"very negative\",\"negative\",\"weakly negative\",\"very positive\",\"weakly negative\",\"weakly positive\",\"negative\",\"weakly positive\",\"negative\",\"positive\",\"weakly positive\",\"weakly negative\",\"weakly negative\",\"weakly positive\",\"weakly positive\",\"negative\",\"Neutral\",\"negative\",\"Neutral\",\"negative\",\"weakly negative\",\"Neutral\",\"weakly negative\",\"weakly positive\",\"positive\",\"Neutral\",\"weakly negative\",\"weakly positive\",\"weakly positive\",\"positive\",\"positive\",\"weakly positive\",\"positive\",\"weakly negative\",\"weakly positive\",\"negative\",\"negative\",\"positive\",\"negative\",\"positive\",\"weakly positive\",\"negative\",\"very negative\",\"negative\",\"negative\",\"negative\",\"positive\",\"Neutral\",\"very positive\",\"positive\",\"weakly negative\",\"positive\",\"negative\",\"Neutral\",\"negative\",\"weakly positive\",\"negative\",\"positive\",\"weakly negative\",\"Neutral\",\"negative\",\"negative\",\"negative\",\"positive\",\"very positive\",\"negative\",\"weakly positive\",\"weakly positive\",\"weakly positive\",\"positive\",\"positive\",\"weakly positive\",\"weakly positive\",\"weakly positive\",\"positive\",\"weakly positive\",\"negative\",\"negative\",\"weakly negative\",\"weakly negative\",\"weakly negative\",\"weakly positive\",\"weakly negative\",\"weakly positive\",\"Neutral\",\"Neutral\",\"negative\",\"weakly positive\",\"negative\",\"Neutral\",\"very positive\",\"weakly positive\",\"Neutral\",\"weakly positive\",\"positive\",\"Neutral\",\"Neutral\",\"weakly positive\",\"negative\",\"positive\",\"negative\",\"Neutral\",\"positive\",\"weakly positive\",\"weakly negative\",\"positive\",\"weakly positive\",\"positive\",\"weakly positive\",\"very positive\",\"weakly negative\",\"very negative\",\"positive\",\"weakly negative\",\"weakly negative\",\"negative\",\"weakly positive\",\"negative\",\"Neutral\",\"weakly negative\",\"negative\",\"positive\",\"weakly negative\",\"weakly positive\",\"weakly positive\",\"very negative\",\"positive\",\"positive\",\"very positive\",\"weakly negative\",\"Neutral\",\"weakly negative\",\"Neutral\",\"weakly positive\",\"positive\",\"weakly positive\",\"negative\",\"weakly positive\",\"weakly negative\",\"weakly negative\",\"negative\",\"weakly positive\",\"negative\",\"weakly negative\",\"Neutral\",\"Neutral\",\"positive\",\"weakly negative\",\"very negative\",\"very negative\",\"weakly positive\",\"weakly negative\",\"weakly negative\",\"weakly positive\",\"very negative\",\"weakly negative\",\"negative\",\"Neutral\",\"very negative\",\"negative\",\"weakly negative\",\"Neutral\",\"Neutral\",\"Neutral\",\"negative\",\"positive\",\"negative\",\"positive\",\"positive\",\"very negative\",\"positive\",\"weakly positive\",\"Neutral\",\"positive\",\"weakly positive\",\"weakly negative\",\"positive\",\"negative\",\"Neutral\",\"Neutral\",\"weakly positive\",\"weakly positive\",\"Neutral\",\"negative\",\"weakly positive\",\"Neutral\",\"weakly negative\",\"Neutral\",\"very positive\",\"positive\",\"positive\",\"weakly positive\",\"Neutral\",\"positive\",\"positive\",\"negative\",\"Neutral\",\"Neutral\",\"positive\",\"positive\",\"very positive\",\"very positive\",\"very positive\",\"weakly positive\",\"weakly negative\",\"weakly positive\",\"positive\",\"weakly positive\",\"weakly negative\",\"positive\",\"negative\",\"weakly negative\",\"positive\",\"very positive\",\"weakly positive\",\"Neutral\",\"positive\",\"negative\",\"negative\",\"very positive\",\"positive\",\"weakly positive\",\"weakly positive\",\"Neutral\",\"very positive\",\"positive\",\"weakly positive\",\"positive\",\"positive\",\"weakly positive\",\"positive\",\"positive\",\"positive\",\"positive\",\"positive\",\"weakly positive\",\"positive\",\"weakly negative\",\"positive\",\"weakly positive\",\"weakly positive\",\"positive\",\"weakly negative\",\"very positive\",\"Neutral\",\"weakly positive\",\"weakly positive\",\"positive\",\"negative\",\"weakly negative\",\"weakly negative\",\"Neutral\",\"weakly positive\",\"positive\",\"very positive\",\"very positive\",\"weakly positive\",\"weakly negative\",\"weakly positive\",\"positive\",\"weakly negative\",\"weakly positive\",\"Neutral\",\"weakly positive\",\"weakly negative\",\"weakly positive\",\"Neutral\",\"weakly positive\",\"Neutral\",\"negative\",\"weakly negative\",\"positive\",\"Neutral\",\"Neutral\",\"weakly negative\",\"very positive\",\"negative\",\"negative\",\"weakly negative\",\"negative\",\"Neutral\",\"negative\",\"Neutral\",\"weakly positive\",\"weakly positive\",\"weakly positive\",\"negative\",\"Neutral\",\"weakly positive\",\"positive\",\"negative\",\"positive\",\"weakly negative\",\"weakly negative\",\"Neutral\",\"negative\",\"negative\",\"Neutral\",\"Neutral\",\"positive\",\"weakly negative\",\"weakly negative\",\"negative\",\"positive\",\"negative\",\"weakly negative\",\"negative\",\"Neutral\",\"negative\",\"negative\",\"negative\",\"positive\",\"very positive\",\"negative\",\"positive\",\"Neutral\",\"Neutral\",\"negative\",\"weakly positive\",\"weakly positive\",\"weakly negative\",\"weakly negative\",\"very negative\",\"very negative\",\"positive\",\"weakly positive\",\"positive\",\"weakly positive\",\"negative\",\"weakly positive\",\"positive\",\"negative\",\"weakly negative\",\"positive\",\"weakly positive\",\"weakly positive\",\"weakly positive\",\"weakly positive\",\"weakly negative\",\"negative\",\"positive\",\"Neutral\",\"weakly positive\",\"weakly negative\",\"weakly negative\",\"weakly positive\",\"positive\"],\"xaxis\":\"x2\",\"y\":[1,1,1,1,1,1,1,1,1,1,1,1,1,1,1,1,1,1,1,1,1,1,1,1,1,1,1,1,1,1,1,1,1,1,1,1,1,1,1,1,1,1,1,1,1,1,1,1,1,1,1,1,1,1,1,1,1,1,1,1,1,1,1,1,1,1,1,1,1,1,1,1,1,1,1,1,1,1,1,1,1,1,1,1,1,1,1,1,1,1,1,1,1,1,1,1,1,1,1,1,1,1,1,1,1,1,1,1,1,1,1,1,1,1,1,1,1,1,1,1,1,1,1,1,1,1,1,1,1,1,1,1,1,1,1,1,1,1,1,1,1,1,1,1,1,1,1,1,1,1,1,1,1,1,1,1,1,1,1,1,1,1,1,1,1,1,1,1,1,1,1,1,1,1,1,1,1,1,1,1,1,1,1,1,1,1,1,1,1,1,1,1,1,1,1,1,1,1,1,1,1,1,1,1,1,1,1,1,1,1,1,1,1,1,1,1,1,1,1,1,1,1,1,1,1,1,1,1,1,1,1,1,1,1,1,1,1,1,1,1,1,1,1,1,1,1,1,1,1,1,1,1,1,1,1,1,1,1,1,1,1,1,1,1,1,1,1,1,1,1,1,1,1,1,1,1,1,1,1,1,1,1,1,1,1,1,1,1,1,1,1,1,1,1,1,1,1,1,1,1,1,1,1,1,1,1,1,1,1,1,1,1,1,1,1,1,1,1,1,1,1,1,1,1,1,1,1,1,1,1,1,1,1,1,1,1,1,1,1,1,1,1,1,1,1,1,1,1,1,1,1,1,1,1,1,1,1,1,1,1,1,1,1,1,1,1,1,1,1,1,1,1,1,1,1,1,1,1,1,1,1,1,1,1,1,1,1,1,1,1,1,1,1,1,1,1,1,1,1,1,1,1,1,1,1,1,1,1,1,1,1,1,1,1,1,1,1,1,1,1,1,1,1,1,1,1,1,1,1,1,1,1,1,1,1,1,1,1,1,1,1,1,1,1,1,1,1,1,1,1,1,1,1,1,1,1,1,1,1,1,1,1,1,1,1,1,1,1,1,1,1,1,1,1,1,1,1,1,1,1,1,1,1,1,1,1,1,1,1,1,1,1,1,1,1,1,1,1,1,1,1,1,1,1,1,1,1,1,1,1,1,1,1,1,1,1,1,1,1,1,1,1,1,1,1,1,1,1,1,1,1,1,1,1,1,1,1,1,1,1,1,1,1,1,1,1,1,1,1,1,1,1,1,1,1,1,1,1,1,1,1,1,1,1,1,1,1,1,1,1,1,1,1,1,1,1,1,1,1,1,1,1,1,1,1,1,1,1,1,1,1,1,1,1,1,1,1,1,1,1,1,1,1,1,1,1,1,1,1,1,1,1,1,1,1,1,1,1,1,1,1,1,1,1,1,1,1,1,1,1,1,1,1,1,1,1,1,1,1,1,1,1,1,1,1,1,1,1,1,1,1,1,1,1,1,1,1,1,1,1,1,1,1,1,1,1,1,1,1,1,1,1,1,1,1,1,1,1,1,1,1,1,1,1,1,1],\"yaxis\":\"y2\",\"type\":\"bar\"}],                        {\"template\":{\"data\":{\"histogram2dcontour\":[{\"type\":\"histogram2dcontour\",\"colorbar\":{\"outlinewidth\":0,\"ticks\":\"\"},\"colorscale\":[[0.0,\"#0d0887\"],[0.1111111111111111,\"#46039f\"],[0.2222222222222222,\"#7201a8\"],[0.3333333333333333,\"#9c179e\"],[0.4444444444444444,\"#bd3786\"],[0.5555555555555556,\"#d8576b\"],[0.6666666666666666,\"#ed7953\"],[0.7777777777777778,\"#fb9f3a\"],[0.8888888888888888,\"#fdca26\"],[1.0,\"#f0f921\"]]}],\"choropleth\":[{\"type\":\"choropleth\",\"colorbar\":{\"outlinewidth\":0,\"ticks\":\"\"}}],\"histogram2d\":[{\"type\":\"histogram2d\",\"colorbar\":{\"outlinewidth\":0,\"ticks\":\"\"},\"colorscale\":[[0.0,\"#0d0887\"],[0.1111111111111111,\"#46039f\"],[0.2222222222222222,\"#7201a8\"],[0.3333333333333333,\"#9c179e\"],[0.4444444444444444,\"#bd3786\"],[0.5555555555555556,\"#d8576b\"],[0.6666666666666666,\"#ed7953\"],[0.7777777777777778,\"#fb9f3a\"],[0.8888888888888888,\"#fdca26\"],[1.0,\"#f0f921\"]]}],\"heatmap\":[{\"type\":\"heatmap\",\"colorbar\":{\"outlinewidth\":0,\"ticks\":\"\"},\"colorscale\":[[0.0,\"#0d0887\"],[0.1111111111111111,\"#46039f\"],[0.2222222222222222,\"#7201a8\"],[0.3333333333333333,\"#9c179e\"],[0.4444444444444444,\"#bd3786\"],[0.5555555555555556,\"#d8576b\"],[0.6666666666666666,\"#ed7953\"],[0.7777777777777778,\"#fb9f3a\"],[0.8888888888888888,\"#fdca26\"],[1.0,\"#f0f921\"]]}],\"heatmapgl\":[{\"type\":\"heatmapgl\",\"colorbar\":{\"outlinewidth\":0,\"ticks\":\"\"},\"colorscale\":[[0.0,\"#0d0887\"],[0.1111111111111111,\"#46039f\"],[0.2222222222222222,\"#7201a8\"],[0.3333333333333333,\"#9c179e\"],[0.4444444444444444,\"#bd3786\"],[0.5555555555555556,\"#d8576b\"],[0.6666666666666666,\"#ed7953\"],[0.7777777777777778,\"#fb9f3a\"],[0.8888888888888888,\"#fdca26\"],[1.0,\"#f0f921\"]]}],\"contourcarpet\":[{\"type\":\"contourcarpet\",\"colorbar\":{\"outlinewidth\":0,\"ticks\":\"\"}}],\"contour\":[{\"type\":\"contour\",\"colorbar\":{\"outlinewidth\":0,\"ticks\":\"\"},\"colorscale\":[[0.0,\"#0d0887\"],[0.1111111111111111,\"#46039f\"],[0.2222222222222222,\"#7201a8\"],[0.3333333333333333,\"#9c179e\"],[0.4444444444444444,\"#bd3786\"],[0.5555555555555556,\"#d8576b\"],[0.6666666666666666,\"#ed7953\"],[0.7777777777777778,\"#fb9f3a\"],[0.8888888888888888,\"#fdca26\"],[1.0,\"#f0f921\"]]}],\"surface\":[{\"type\":\"surface\",\"colorbar\":{\"outlinewidth\":0,\"ticks\":\"\"},\"colorscale\":[[0.0,\"#0d0887\"],[0.1111111111111111,\"#46039f\"],[0.2222222222222222,\"#7201a8\"],[0.3333333333333333,\"#9c179e\"],[0.4444444444444444,\"#bd3786\"],[0.5555555555555556,\"#d8576b\"],[0.6666666666666666,\"#ed7953\"],[0.7777777777777778,\"#fb9f3a\"],[0.8888888888888888,\"#fdca26\"],[1.0,\"#f0f921\"]]}],\"mesh3d\":[{\"type\":\"mesh3d\",\"colorbar\":{\"outlinewidth\":0,\"ticks\":\"\"}}],\"scatter\":[{\"fillpattern\":{\"fillmode\":\"overlay\",\"size\":10,\"solidity\":0.2},\"type\":\"scatter\"}],\"parcoords\":[{\"type\":\"parcoords\",\"line\":{\"colorbar\":{\"outlinewidth\":0,\"ticks\":\"\"}}}],\"scatterpolargl\":[{\"type\":\"scatterpolargl\",\"marker\":{\"colorbar\":{\"outlinewidth\":0,\"ticks\":\"\"}}}],\"bar\":[{\"error_x\":{\"color\":\"#2a3f5f\"},\"error_y\":{\"color\":\"#2a3f5f\"},\"marker\":{\"line\":{\"color\":\"#E5ECF6\",\"width\":0.5},\"pattern\":{\"fillmode\":\"overlay\",\"size\":10,\"solidity\":0.2}},\"type\":\"bar\"}],\"scattergeo\":[{\"type\":\"scattergeo\",\"marker\":{\"colorbar\":{\"outlinewidth\":0,\"ticks\":\"\"}}}],\"scatterpolar\":[{\"type\":\"scatterpolar\",\"marker\":{\"colorbar\":{\"outlinewidth\":0,\"ticks\":\"\"}}}],\"histogram\":[{\"marker\":{\"pattern\":{\"fillmode\":\"overlay\",\"size\":10,\"solidity\":0.2}},\"type\":\"histogram\"}],\"scattergl\":[{\"type\":\"scattergl\",\"marker\":{\"colorbar\":{\"outlinewidth\":0,\"ticks\":\"\"}}}],\"scatter3d\":[{\"type\":\"scatter3d\",\"line\":{\"colorbar\":{\"outlinewidth\":0,\"ticks\":\"\"}},\"marker\":{\"colorbar\":{\"outlinewidth\":0,\"ticks\":\"\"}}}],\"scattermapbox\":[{\"type\":\"scattermapbox\",\"marker\":{\"colorbar\":{\"outlinewidth\":0,\"ticks\":\"\"}}}],\"scatterternary\":[{\"type\":\"scatterternary\",\"marker\":{\"colorbar\":{\"outlinewidth\":0,\"ticks\":\"\"}}}],\"scattercarpet\":[{\"type\":\"scattercarpet\",\"marker\":{\"colorbar\":{\"outlinewidth\":0,\"ticks\":\"\"}}}],\"carpet\":[{\"aaxis\":{\"endlinecolor\":\"#2a3f5f\",\"gridcolor\":\"white\",\"linecolor\":\"white\",\"minorgridcolor\":\"white\",\"startlinecolor\":\"#2a3f5f\"},\"baxis\":{\"endlinecolor\":\"#2a3f5f\",\"gridcolor\":\"white\",\"linecolor\":\"white\",\"minorgridcolor\":\"white\",\"startlinecolor\":\"#2a3f5f\"},\"type\":\"carpet\"}],\"table\":[{\"cells\":{\"fill\":{\"color\":\"#EBF0F8\"},\"line\":{\"color\":\"white\"}},\"header\":{\"fill\":{\"color\":\"#C8D4E3\"},\"line\":{\"color\":\"white\"}},\"type\":\"table\"}],\"barpolar\":[{\"marker\":{\"line\":{\"color\":\"#E5ECF6\",\"width\":0.5},\"pattern\":{\"fillmode\":\"overlay\",\"size\":10,\"solidity\":0.2}},\"type\":\"barpolar\"}],\"pie\":[{\"automargin\":true,\"type\":\"pie\"}]},\"layout\":{\"autotypenumbers\":\"strict\",\"colorway\":[\"#636efa\",\"#EF553B\",\"#00cc96\",\"#ab63fa\",\"#FFA15A\",\"#19d3f3\",\"#FF6692\",\"#B6E880\",\"#FF97FF\",\"#FECB52\"],\"font\":{\"color\":\"#2a3f5f\"},\"hovermode\":\"closest\",\"hoverlabel\":{\"align\":\"left\"},\"paper_bgcolor\":\"white\",\"plot_bgcolor\":\"#E5ECF6\",\"polar\":{\"bgcolor\":\"#E5ECF6\",\"angularaxis\":{\"gridcolor\":\"white\",\"linecolor\":\"white\",\"ticks\":\"\"},\"radialaxis\":{\"gridcolor\":\"white\",\"linecolor\":\"white\",\"ticks\":\"\"}},\"ternary\":{\"bgcolor\":\"#E5ECF6\",\"aaxis\":{\"gridcolor\":\"white\",\"linecolor\":\"white\",\"ticks\":\"\"},\"baxis\":{\"gridcolor\":\"white\",\"linecolor\":\"white\",\"ticks\":\"\"},\"caxis\":{\"gridcolor\":\"white\",\"linecolor\":\"white\",\"ticks\":\"\"}},\"coloraxis\":{\"colorbar\":{\"outlinewidth\":0,\"ticks\":\"\"}},\"colorscale\":{\"sequential\":[[0.0,\"#0d0887\"],[0.1111111111111111,\"#46039f\"],[0.2222222222222222,\"#7201a8\"],[0.3333333333333333,\"#9c179e\"],[0.4444444444444444,\"#bd3786\"],[0.5555555555555556,\"#d8576b\"],[0.6666666666666666,\"#ed7953\"],[0.7777777777777778,\"#fb9f3a\"],[0.8888888888888888,\"#fdca26\"],[1.0,\"#f0f921\"]],\"sequentialminus\":[[0.0,\"#0d0887\"],[0.1111111111111111,\"#46039f\"],[0.2222222222222222,\"#7201a8\"],[0.3333333333333333,\"#9c179e\"],[0.4444444444444444,\"#bd3786\"],[0.5555555555555556,\"#d8576b\"],[0.6666666666666666,\"#ed7953\"],[0.7777777777777778,\"#fb9f3a\"],[0.8888888888888888,\"#fdca26\"],[1.0,\"#f0f921\"]],\"diverging\":[[0,\"#8e0152\"],[0.1,\"#c51b7d\"],[0.2,\"#de77ae\"],[0.3,\"#f1b6da\"],[0.4,\"#fde0ef\"],[0.5,\"#f7f7f7\"],[0.6,\"#e6f5d0\"],[0.7,\"#b8e186\"],[0.8,\"#7fbc41\"],[0.9,\"#4d9221\"],[1,\"#276419\"]]},\"xaxis\":{\"gridcolor\":\"white\",\"linecolor\":\"white\",\"ticks\":\"\",\"title\":{\"standoff\":15},\"zerolinecolor\":\"white\",\"automargin\":true,\"zerolinewidth\":2},\"yaxis\":{\"gridcolor\":\"white\",\"linecolor\":\"white\",\"ticks\":\"\",\"title\":{\"standoff\":15},\"zerolinecolor\":\"white\",\"automargin\":true,\"zerolinewidth\":2},\"scene\":{\"xaxis\":{\"backgroundcolor\":\"#E5ECF6\",\"gridcolor\":\"white\",\"linecolor\":\"white\",\"showbackground\":true,\"ticks\":\"\",\"zerolinecolor\":\"white\",\"gridwidth\":2},\"yaxis\":{\"backgroundcolor\":\"#E5ECF6\",\"gridcolor\":\"white\",\"linecolor\":\"white\",\"showbackground\":true,\"ticks\":\"\",\"zerolinecolor\":\"white\",\"gridwidth\":2},\"zaxis\":{\"backgroundcolor\":\"#E5ECF6\",\"gridcolor\":\"white\",\"linecolor\":\"white\",\"showbackground\":true,\"ticks\":\"\",\"zerolinecolor\":\"white\",\"gridwidth\":2}},\"shapedefaults\":{\"line\":{\"color\":\"#2a3f5f\"}},\"annotationdefaults\":{\"arrowcolor\":\"#2a3f5f\",\"arrowhead\":0,\"arrowwidth\":1},\"geo\":{\"bgcolor\":\"white\",\"landcolor\":\"#E5ECF6\",\"subunitcolor\":\"white\",\"showland\":true,\"showlakes\":true,\"lakecolor\":\"white\"},\"title\":{\"x\":0.05},\"mapbox\":{\"style\":\"light\"}}},\"xaxis\":{\"anchor\":\"y\",\"domain\":[0.0,0.45],\"categoryorder\":\"array\",\"categoryarray\":[\"very negative\",\"negative\",\"weakly negative\",\"Neutral\",\"weakly positive\",\"positive\",\"very positive\"]},\"yaxis\":{\"anchor\":\"x\",\"domain\":[0.0,1.0],\"range\":[0,200]},\"xaxis2\":{\"anchor\":\"y2\",\"domain\":[0.55,1.0],\"categoryorder\":\"array\",\"categoryarray\":[\"very negative\",\"negative\",\"weakly negative\",\"Neutral\",\"weakly positive\",\"positive\",\"very positive\"]},\"yaxis2\":{\"anchor\":\"x2\",\"domain\":[0.0,1.0],\"range\":[0,200]},\"annotations\":[{\"font\":{\"size\":16},\"showarrow\":false,\"text\":\"Grond-truth\",\"x\":0.225,\"xanchor\":\"center\",\"xref\":\"paper\",\"y\":1.0,\"yanchor\":\"bottom\",\"yref\":\"paper\"},{\"font\":{\"size\":16},\"showarrow\":false,\"text\":\"TFN\",\"x\":0.775,\"xanchor\":\"center\",\"xref\":\"paper\",\"y\":1.0,\"yanchor\":\"bottom\",\"yref\":\"paper\"}],\"title\":{\"text\":\"Fusion result distribution\"}},                        {\"responsive\": true}                    ).then(function(){\n",
       "                            \n",
       "var gd = document.getElementById('2c17dc15-ebe8-4f0b-9b12-f3b2e3992aeb');\n",
       "var x = new MutationObserver(function (mutations, observer) {{\n",
       "        var display = window.getComputedStyle(gd).display;\n",
       "        if (!display || display === 'none') {{\n",
       "            console.log([gd, 'removed!']);\n",
       "            Plotly.purge(gd);\n",
       "            observer.disconnect();\n",
       "        }}\n",
       "}});\n",
       "\n",
       "// Listen for the removal of the full notebook cells\n",
       "var notebookContainer = gd.closest('#notebook-container');\n",
       "if (notebookContainer) {{\n",
       "    x.observe(notebookContainer, {childList: true});\n",
       "}}\n",
       "\n",
       "// Listen for the clearing of the current output cell\n",
       "var outputEl = gd.closest('.output');\n",
       "if (outputEl) {{\n",
       "    x.observe(outputEl, {childList: true});\n",
       "}}\n",
       "\n",
       "                        })                };                });            </script>        </div>"
      ]
     },
     "metadata": {},
     "output_type": "display_data"
    }
   ],
   "source": [
    "with open(f\"results/TFN_fusion.pkl\", \"rb\") as handle:\n",
    "    tfn_origin = pkl.load(handle) \n",
    "\n",
    "df1 = pd.DataFrame(data=tfn)\n",
    "df2 = pd.DataFrame(data=tfn_origin)\n",
    "order = ['very negative', 'negative', 'weakly negative', 'Neutral', 'weakly positive', 'positive', 'very positive']\n",
    "\n",
    "fig1 = px.bar(df1, x=\"labels_7\")\n",
    "fig2 = px.bar(df2, x=\"preds_7\")\n",
    "fig3 = px.bar(df1, x=\"preds_7\")\n",
    "\n",
    "fig1_traces = []\n",
    "fig2_traces = []\n",
    "fig3_traces = []\n",
    "\n",
    "for trace in range(len(fig1[\"data\"])):\n",
    "    fig1_traces.append(fig1[\"data\"][trace])\n",
    "for trace in range(len(fig2[\"data\"])):\n",
    "    fig2_traces.append(fig2[\"data\"][trace])\n",
    "for trace in range(len(fig3[\"data\"])):\n",
    "    fig3_traces.append(fig3[\"data\"][trace])\n",
    "\n",
    "this_figure = sp.make_subplots(rows=1, cols=2, subplot_titles=(\"Grond-truth\", \"TFN\"))\n",
    "for traces in fig1_traces:\n",
    "    this_figure.append_trace(traces, row=1, col=1)\n",
    "for traces in fig2_traces:\n",
    "    this_figure.append_trace(traces, row=1, col=2)\n",
    "# for traces in fig3_traces:\n",
    "#     this_figure.append_trace(traces, row=1, col=3)\n",
    "\n",
    "this_figure.update_layout(title_text=\"Fusion result distribution\")\n",
    "this_figure.update_xaxes(categoryorder='array', categoryarray= order)\n",
    "this_figure.update_yaxes(range=[0,200])\n",
    "this_figure.show()"
   ]
  },
  {
   "cell_type": "markdown",
   "metadata": {},
   "source": [
    "### 3. Unimodal result distribution"
   ]
  },
  {
   "cell_type": "code",
   "execution_count": 47,
   "metadata": {},
   "outputs": [
    {
     "data": {
      "application/vnd.plotly.v1+json": {
       "config": {
        "plotlyServerURL": "https://plot.ly"
       },
       "data": [
        {
         "alignmentgroup": "True",
         "hovertemplate": "text_7=%{x}<br>count=%{y}<extra></extra>",
         "legendgroup": "",
         "marker": {
          "color": "#636efa",
          "pattern": {
           "shape": ""
          }
         },
         "name": "",
         "offsetgroup": "",
         "orientation": "v",
         "showlegend": false,
         "textposition": "auto",
         "type": "bar",
         "x": [
          "weakly positive",
          "weakly positive",
          "Neutral",
          "weakly positive",
          "Neutral",
          "Neutral",
          "Neutral",
          "Neutral",
          "Neutral",
          "weakly positive",
          "weakly positive",
          "weakly negative",
          "weakly negative",
          "Neutral",
          "Neutral",
          "Neutral",
          "Neutral",
          "Neutral",
          "Neutral",
          "weakly positive",
          "Neutral",
          "Neutral",
          "weakly positive",
          "Neutral",
          "weakly positive",
          "Neutral",
          "weakly positive",
          "Neutral",
          "weakly negative",
          "Neutral",
          "Neutral",
          "Neutral",
          "weakly positive",
          "weakly positive",
          "Neutral",
          "weakly positive",
          "Neutral",
          "Neutral",
          "weakly positive",
          "weakly negative",
          "Neutral",
          "Neutral",
          "weakly positive",
          "Neutral",
          "weakly positive",
          "Neutral",
          "weakly negative",
          "Neutral",
          "weakly negative",
          "positive",
          "weakly positive",
          "weakly negative",
          "weakly negative",
          "Neutral",
          "weakly negative",
          "Neutral",
          "Neutral",
          "weakly positive",
          "Neutral",
          "positive",
          "Neutral",
          "weakly positive",
          "Neutral",
          "weakly positive",
          "weakly negative",
          "Neutral",
          "weakly negative",
          "Neutral",
          "weakly negative",
          "Neutral",
          "Neutral",
          "Neutral",
          "weakly negative",
          "Neutral",
          "Neutral",
          "Neutral",
          "Neutral",
          "weakly negative",
          "weakly negative",
          "weakly positive",
          "Neutral",
          "weakly negative",
          "Neutral",
          "weakly positive",
          "Neutral",
          "weakly positive",
          "Neutral",
          "weakly positive",
          "weakly negative",
          "weakly positive",
          "Neutral",
          "Neutral",
          "Neutral",
          "Neutral",
          "Neutral",
          "weakly positive",
          "weakly positive",
          "Neutral",
          "Neutral",
          "Neutral",
          "weakly negative",
          "Neutral",
          "weakly positive",
          "Neutral",
          "Neutral",
          "Neutral",
          "weakly negative",
          "weakly positive",
          "weakly positive",
          "weakly positive",
          "positive",
          "Neutral",
          "weakly positive",
          "Neutral",
          "Neutral",
          "weakly positive",
          "weakly negative",
          "weakly positive",
          "positive",
          "Neutral",
          "weakly positive",
          "weakly positive",
          "Neutral",
          "weakly positive",
          "Neutral",
          "weakly positive",
          "weakly negative",
          "weakly positive",
          "Neutral",
          "Neutral",
          "Neutral",
          "weakly negative",
          "weakly negative",
          "weakly negative",
          "Neutral",
          "weakly negative",
          "Neutral",
          "Neutral",
          "Neutral",
          "Neutral",
          "Neutral",
          "Neutral",
          "weakly positive",
          "weakly positive",
          "weakly positive",
          "Neutral",
          "Neutral",
          "weakly positive",
          "Neutral",
          "Neutral",
          "Neutral",
          "weakly negative",
          "Neutral",
          "weakly positive",
          "weakly positive",
          "Neutral",
          "Neutral",
          "Neutral",
          "Neutral",
          "weakly positive",
          "Neutral",
          "Neutral",
          "weakly negative",
          "Neutral",
          "Neutral",
          "Neutral",
          "weakly positive",
          "weakly positive",
          "Neutral",
          "weakly positive",
          "Neutral",
          "Neutral",
          "Neutral",
          "Neutral",
          "weakly negative",
          "weakly negative",
          "Neutral",
          "weakly positive",
          "Neutral",
          "Neutral",
          "positive",
          "weakly negative",
          "Neutral",
          "Neutral",
          "Neutral",
          "Neutral",
          "Neutral",
          "weakly positive",
          "Neutral",
          "Neutral",
          "Neutral",
          "Neutral",
          "weakly positive",
          "Neutral",
          "weakly negative",
          "weakly negative",
          "Neutral",
          "weakly positive",
          "Neutral",
          "weakly negative",
          "weakly positive",
          "Neutral",
          "weakly positive",
          "Neutral",
          "weakly positive",
          "Neutral",
          "Neutral",
          "weakly negative",
          "weakly negative",
          "Neutral",
          "Neutral",
          "weakly negative",
          "weakly negative",
          "Neutral",
          "weakly positive",
          "weakly negative",
          "Neutral",
          "Neutral",
          "weakly positive",
          "Neutral",
          "weakly negative",
          "Neutral",
          "positive",
          "Neutral",
          "Neutral",
          "Neutral",
          "Neutral",
          "Neutral",
          "Neutral",
          "Neutral",
          "Neutral",
          "Neutral",
          "Neutral",
          "weakly negative",
          "Neutral",
          "Neutral",
          "Neutral",
          "Neutral",
          "weakly positive",
          "Neutral",
          "weakly negative",
          "weakly negative",
          "Neutral",
          "Neutral",
          "weakly positive",
          "weakly negative",
          "Neutral",
          "Neutral",
          "Neutral",
          "Neutral",
          "weakly positive",
          "weakly positive",
          "Neutral",
          "weakly positive",
          "Neutral",
          "Neutral",
          "weakly negative",
          "Neutral",
          "Neutral",
          "weakly negative",
          "weakly positive",
          "Neutral",
          "Neutral",
          "Neutral",
          "weakly negative",
          "Neutral",
          "Neutral",
          "Neutral",
          "Neutral",
          "Neutral",
          "Neutral",
          "Neutral",
          "Neutral",
          "Neutral",
          "Neutral",
          "weakly positive",
          "Neutral",
          "Neutral",
          "Neutral",
          "weakly positive",
          "weakly negative",
          "Neutral",
          "weakly positive",
          "weakly positive",
          "Neutral",
          "Neutral",
          "Neutral",
          "Neutral",
          "Neutral",
          "Neutral",
          "Neutral",
          "Neutral",
          "Neutral",
          "Neutral",
          "Neutral",
          "weakly negative",
          "weakly positive",
          "weakly positive",
          "positive",
          "Neutral",
          "weakly positive",
          "weakly positive",
          "Neutral",
          "Neutral",
          "weakly positive",
          "Neutral",
          "weakly negative",
          "weakly positive",
          "Neutral",
          "weakly positive",
          "Neutral",
          "Neutral",
          "weakly positive",
          "Neutral",
          "Neutral",
          "weakly negative",
          "Neutral",
          "Neutral",
          "Neutral",
          "Neutral",
          "Neutral",
          "Neutral",
          "Neutral",
          "weakly negative",
          "Neutral",
          "Neutral",
          "weakly negative",
          "Neutral",
          "Neutral",
          "Neutral",
          "weakly negative",
          "weakly positive",
          "Neutral",
          "Neutral",
          "weakly negative",
          "weakly negative",
          "weakly negative",
          "weakly positive",
          "weakly negative",
          "Neutral",
          "weakly negative",
          "weakly negative",
          "Neutral",
          "Neutral",
          "weakly positive",
          "weakly positive",
          "weakly positive",
          "weakly positive",
          "Neutral",
          "weakly positive",
          "Neutral",
          "weakly positive",
          "weakly positive",
          "weakly negative",
          "Neutral",
          "Neutral",
          "Neutral",
          "weakly negative",
          "Neutral",
          "Neutral",
          "Neutral",
          "Neutral",
          "weakly positive",
          "Neutral",
          "weakly positive",
          "weakly positive",
          "weakly negative",
          "Neutral",
          "Neutral",
          "Neutral",
          "Neutral",
          "weakly negative",
          "Neutral",
          "weakly positive",
          "Neutral",
          "Neutral",
          "weakly negative",
          "Neutral",
          "weakly negative",
          "Neutral",
          "Neutral",
          "weakly negative",
          "Neutral",
          "Neutral",
          "Neutral",
          "Neutral",
          "Neutral",
          "weakly negative",
          "Neutral",
          "Neutral",
          "positive",
          "Neutral",
          "weakly negative",
          "weakly negative",
          "Neutral",
          "Neutral",
          "Neutral",
          "Neutral",
          "Neutral",
          "weakly negative",
          "weakly positive",
          "weakly negative",
          "Neutral",
          "Neutral",
          "Neutral",
          "weakly negative",
          "weakly positive",
          "Neutral",
          "weakly positive",
          "Neutral",
          "weakly positive",
          "Neutral",
          "Neutral",
          "Neutral",
          "weakly positive",
          "weakly positive",
          "Neutral",
          "weakly positive",
          "Neutral",
          "Neutral",
          "weakly negative",
          "weakly negative",
          "Neutral",
          "weakly negative",
          "Neutral",
          "weakly negative",
          "weakly negative",
          "weakly negative",
          "Neutral",
          "weakly negative",
          "weakly negative",
          "weakly negative",
          "weakly positive",
          "weakly negative",
          "Neutral",
          "Neutral",
          "weakly positive",
          "Neutral",
          "Neutral",
          "Neutral",
          "Neutral",
          "Neutral",
          "weakly negative",
          "weakly positive",
          "weakly positive",
          "Neutral",
          "Neutral",
          "Neutral",
          "Neutral",
          "weakly positive",
          "weakly positive",
          "Neutral",
          "Neutral",
          "Neutral",
          "Neutral",
          "Neutral",
          "Neutral",
          "weakly positive",
          "Neutral",
          "Neutral",
          "Neutral",
          "Neutral",
          "weakly negative",
          "Neutral",
          "weakly positive",
          "weakly positive",
          "weakly negative",
          "Neutral",
          "weakly positive",
          "Neutral",
          "weakly negative",
          "weakly positive",
          "Neutral",
          "positive",
          "Neutral",
          "Neutral",
          "Neutral",
          "Neutral",
          "weakly positive",
          "weakly positive",
          "Neutral",
          "Neutral",
          "Neutral",
          "weakly positive",
          "Neutral",
          "Neutral",
          "Neutral",
          "weakly negative",
          "weakly positive",
          "weakly negative",
          "weakly negative",
          "weakly positive",
          "Neutral",
          "Neutral",
          "Neutral",
          "Neutral",
          "weakly negative",
          "Neutral",
          "Neutral",
          "Neutral",
          "weakly positive",
          "Neutral",
          "weakly positive",
          "Neutral",
          "Neutral",
          "Neutral",
          "Neutral",
          "weakly positive",
          "Neutral",
          "Neutral",
          "Neutral",
          "weakly positive",
          "weakly positive",
          "Neutral",
          "Neutral",
          "Neutral",
          "Neutral",
          "Neutral",
          "weakly positive",
          "Neutral",
          "Neutral",
          "Neutral",
          "weakly negative",
          "Neutral",
          "Neutral",
          "weakly positive",
          "weakly positive",
          "Neutral",
          "Neutral",
          "weakly negative",
          "weakly positive",
          "Neutral",
          "Neutral",
          "weakly positive",
          "Neutral",
          "Neutral",
          "weakly negative",
          "Neutral",
          "weakly positive",
          "Neutral",
          "Neutral",
          "Neutral",
          "weakly positive",
          "Neutral",
          "Neutral",
          "Neutral",
          "Neutral",
          "Neutral",
          "weakly negative",
          "Neutral",
          "weakly negative",
          "Neutral",
          "weakly positive",
          "Neutral",
          "Neutral",
          "weakly positive",
          "Neutral",
          "Neutral",
          "weakly positive",
          "Neutral",
          "Neutral",
          "weakly positive",
          "Neutral",
          "weakly negative",
          "Neutral",
          "Neutral",
          "Neutral",
          "Neutral",
          "Neutral",
          "Neutral",
          "weakly positive",
          "Neutral",
          "weakly positive",
          "weakly positive",
          "weakly positive",
          "weakly positive",
          "Neutral",
          "Neutral",
          "weakly negative",
          "Neutral",
          "Neutral",
          "Neutral",
          "Neutral",
          "Neutral",
          "weakly positive",
          "weakly positive",
          "weakly negative",
          "Neutral",
          "Neutral",
          "Neutral",
          "weakly negative",
          "Neutral",
          "weakly positive",
          "weakly negative",
          "Neutral",
          "Neutral",
          "Neutral",
          "Neutral",
          "Neutral",
          "weakly negative",
          "weakly positive",
          "weakly positive",
          "Neutral",
          "weakly negative",
          "weakly positive",
          "weakly positive",
          "Neutral",
          "positive",
          "weakly positive",
          "Neutral",
          "Neutral",
          "Neutral",
          "Neutral",
          "Neutral",
          "Neutral",
          "weakly positive",
          "weakly negative",
          "Neutral",
          "Neutral",
          "Neutral",
          "Neutral",
          "weakly negative",
          "Neutral",
          "Neutral",
          "weakly positive",
          "weakly negative",
          "Neutral",
          "Neutral",
          "Neutral",
          "weakly negative",
          "Neutral",
          "weakly negative",
          "Neutral",
          "Neutral",
          "Neutral",
          "Neutral",
          "weakly negative",
          "Neutral",
          "weakly positive",
          "weakly positive",
          "Neutral",
          "Neutral",
          "Neutral",
          "weakly negative",
          "Neutral",
          "weakly negative",
          "Neutral",
          "Neutral",
          "weakly positive",
          "Neutral",
          "weakly negative",
          "Neutral",
          "Neutral",
          "Neutral",
          "weakly positive",
          "Neutral",
          "weakly negative",
          "weakly negative",
          "weakly positive",
          "Neutral",
          "Neutral",
          "weakly positive",
          "weakly negative",
          "Neutral",
          "Neutral",
          "weakly positive",
          "Neutral",
          "weakly positive",
          "Neutral",
          "Neutral",
          "weakly positive",
          "weakly negative",
          "weakly negative",
          "Neutral",
          "weakly negative",
          "Neutral",
          "weakly positive",
          "Neutral",
          "Neutral",
          "Neutral",
          "Neutral",
          "Neutral",
          "Neutral",
          "weakly positive",
          "Neutral",
          "Neutral",
          "very negative",
          "negative",
          "weakly negative",
          "Neutral",
          "weakly positive",
          "positive",
          "very positive"
         ],
         "xaxis": "x",
         "y": [
          1,
          1,
          1,
          1,
          1,
          1,
          1,
          1,
          1,
          1,
          1,
          1,
          1,
          1,
          1,
          1,
          1,
          1,
          1,
          1,
          1,
          1,
          1,
          1,
          1,
          1,
          1,
          1,
          1,
          1,
          1,
          1,
          1,
          1,
          1,
          1,
          1,
          1,
          1,
          1,
          1,
          1,
          1,
          1,
          1,
          1,
          1,
          1,
          1,
          1,
          1,
          1,
          1,
          1,
          1,
          1,
          1,
          1,
          1,
          1,
          1,
          1,
          1,
          1,
          1,
          1,
          1,
          1,
          1,
          1,
          1,
          1,
          1,
          1,
          1,
          1,
          1,
          1,
          1,
          1,
          1,
          1,
          1,
          1,
          1,
          1,
          1,
          1,
          1,
          1,
          1,
          1,
          1,
          1,
          1,
          1,
          1,
          1,
          1,
          1,
          1,
          1,
          1,
          1,
          1,
          1,
          1,
          1,
          1,
          1,
          1,
          1,
          1,
          1,
          1,
          1,
          1,
          1,
          1,
          1,
          1,
          1,
          1,
          1,
          1,
          1,
          1,
          1,
          1,
          1,
          1,
          1,
          1,
          1,
          1,
          1,
          1,
          1,
          1,
          1,
          1,
          1,
          1,
          1,
          1,
          1,
          1,
          1,
          1,
          1,
          1,
          1,
          1,
          1,
          1,
          1,
          1,
          1,
          1,
          1,
          1,
          1,
          1,
          1,
          1,
          1,
          1,
          1,
          1,
          1,
          1,
          1,
          1,
          1,
          1,
          1,
          1,
          1,
          1,
          1,
          1,
          1,
          1,
          1,
          1,
          1,
          1,
          1,
          1,
          1,
          1,
          1,
          1,
          1,
          1,
          1,
          1,
          1,
          1,
          1,
          1,
          1,
          1,
          1,
          1,
          1,
          1,
          1,
          1,
          1,
          1,
          1,
          1,
          1,
          1,
          1,
          1,
          1,
          1,
          1,
          1,
          1,
          1,
          1,
          1,
          1,
          1,
          1,
          1,
          1,
          1,
          1,
          1,
          1,
          1,
          1,
          1,
          1,
          1,
          1,
          1,
          1,
          1,
          1,
          1,
          1,
          1,
          1,
          1,
          1,
          1,
          1,
          1,
          1,
          1,
          1,
          1,
          1,
          1,
          1,
          1,
          1,
          1,
          1,
          1,
          1,
          1,
          1,
          1,
          1,
          1,
          1,
          1,
          1,
          1,
          1,
          1,
          1,
          1,
          1,
          1,
          1,
          1,
          1,
          1,
          1,
          1,
          1,
          1,
          1,
          1,
          1,
          1,
          1,
          1,
          1,
          1,
          1,
          1,
          1,
          1,
          1,
          1,
          1,
          1,
          1,
          1,
          1,
          1,
          1,
          1,
          1,
          1,
          1,
          1,
          1,
          1,
          1,
          1,
          1,
          1,
          1,
          1,
          1,
          1,
          1,
          1,
          1,
          1,
          1,
          1,
          1,
          1,
          1,
          1,
          1,
          1,
          1,
          1,
          1,
          1,
          1,
          1,
          1,
          1,
          1,
          1,
          1,
          1,
          1,
          1,
          1,
          1,
          1,
          1,
          1,
          1,
          1,
          1,
          1,
          1,
          1,
          1,
          1,
          1,
          1,
          1,
          1,
          1,
          1,
          1,
          1,
          1,
          1,
          1,
          1,
          1,
          1,
          1,
          1,
          1,
          1,
          1,
          1,
          1,
          1,
          1,
          1,
          1,
          1,
          1,
          1,
          1,
          1,
          1,
          1,
          1,
          1,
          1,
          1,
          1,
          1,
          1,
          1,
          1,
          1,
          1,
          1,
          1,
          1,
          1,
          1,
          1,
          1,
          1,
          1,
          1,
          1,
          1,
          1,
          1,
          1,
          1,
          1,
          1,
          1,
          1,
          1,
          1,
          1,
          1,
          1,
          1,
          1,
          1,
          1,
          1,
          1,
          1,
          1,
          1,
          1,
          1,
          1,
          1,
          1,
          1,
          1,
          1,
          1,
          1,
          1,
          1,
          1,
          1,
          1,
          1,
          1,
          1,
          1,
          1,
          1,
          1,
          1,
          1,
          1,
          1,
          1,
          1,
          1,
          1,
          1,
          1,
          1,
          1,
          1,
          1,
          1,
          1,
          1,
          1,
          1,
          1,
          1,
          1,
          1,
          1,
          1,
          1,
          1,
          1,
          1,
          1,
          1,
          1,
          1,
          1,
          1,
          1,
          1,
          1,
          1,
          1,
          1,
          1,
          1,
          1,
          1,
          1,
          1,
          1,
          1,
          1,
          1,
          1,
          1,
          1,
          1,
          1,
          1,
          1,
          1,
          1,
          1,
          1,
          1,
          1,
          1,
          1,
          1,
          1,
          1,
          1,
          1,
          1,
          1,
          1,
          1,
          1,
          1,
          1,
          1,
          1,
          1,
          1,
          1,
          1,
          1,
          1,
          1,
          1,
          1,
          1,
          1,
          1,
          1,
          1,
          1,
          1,
          1,
          1,
          1,
          1,
          1,
          1,
          1,
          1,
          1,
          1,
          1,
          1,
          1,
          1,
          1,
          1,
          1,
          1,
          1,
          1,
          1,
          1,
          1,
          1,
          1,
          1,
          1,
          1,
          1,
          1,
          1,
          1,
          1,
          1,
          1,
          1,
          1,
          1,
          1,
          1,
          1,
          1,
          1,
          1,
          1,
          1,
          1,
          1,
          1,
          1,
          1,
          1,
          1,
          1,
          1,
          1,
          1,
          1,
          1,
          1,
          1,
          1,
          1,
          1,
          1,
          1,
          1,
          1,
          1,
          1,
          1,
          1,
          1,
          1,
          1,
          1,
          1,
          1,
          1,
          1,
          1,
          1,
          1,
          1,
          1,
          1,
          1,
          1,
          1,
          1,
          1,
          1,
          1,
          1,
          1,
          1,
          1,
          1,
          1,
          1,
          1,
          1,
          1,
          1,
          1,
          1,
          1,
          1,
          1,
          1,
          1,
          1,
          1,
          1,
          1,
          1,
          1,
          1,
          1,
          1,
          1,
          1,
          1,
          1,
          1,
          1,
          1,
          1,
          1,
          1,
          1,
          1,
          1,
          1
         ],
         "yaxis": "y"
        },
        {
         "alignmentgroup": "True",
         "hovertemplate": "audio_7=%{x}<br>count=%{y}<extra></extra>",
         "legendgroup": "",
         "marker": {
          "color": "#636efa",
          "pattern": {
           "shape": ""
          }
         },
         "name": "",
         "offsetgroup": "",
         "orientation": "v",
         "showlegend": false,
         "textposition": "auto",
         "type": "bar",
         "x": [
          "weakly positive",
          "weakly positive",
          "weakly positive",
          "weakly positive",
          "weakly positive",
          "weakly positive",
          "weakly positive",
          "Neutral",
          "weakly positive",
          "weakly positive",
          "weakly positive",
          "weakly positive",
          "weakly positive",
          "Neutral",
          "weakly positive",
          "Neutral",
          "positive",
          "weakly positive",
          "weakly positive",
          "weakly positive",
          "weakly positive",
          "Neutral",
          "weakly positive",
          "weakly positive",
          "weakly positive",
          "weakly positive",
          "weakly positive",
          "Neutral",
          "Neutral",
          "weakly positive",
          "weakly positive",
          "Neutral",
          "weakly positive",
          "weakly positive",
          "weakly positive",
          "Neutral",
          "Neutral",
          "weakly positive",
          "weakly positive",
          "weakly positive",
          "weakly positive",
          "weakly positive",
          "weakly positive",
          "weakly positive",
          "Neutral",
          "weakly positive",
          "weakly positive",
          "weakly positive",
          "Neutral",
          "weakly positive",
          "weakly positive",
          "Neutral",
          "weakly positive",
          "weakly positive",
          "Neutral",
          "Neutral",
          "Neutral",
          "Neutral",
          "weakly positive",
          "positive",
          "weakly positive",
          "weakly positive",
          "weakly positive",
          "weakly positive",
          "Neutral",
          "weakly positive",
          "weakly positive",
          "weakly positive",
          "weakly positive",
          "Neutral",
          "Neutral",
          "weakly positive",
          "Neutral",
          "weakly positive",
          "weakly positive",
          "weakly positive",
          "weakly positive",
          "weakly positive",
          "weakly positive",
          "weakly positive",
          "weakly positive",
          "weakly positive",
          "weakly positive",
          "Neutral",
          "weakly positive",
          "weakly positive",
          "weakly positive",
          "Neutral",
          "weakly positive",
          "weakly positive",
          "weakly positive",
          "weakly positive",
          "weakly positive",
          "weakly positive",
          "weakly positive",
          "weakly positive",
          "weakly positive",
          "Neutral",
          "positive",
          "Neutral",
          "weakly positive",
          "Neutral",
          "Neutral",
          "weakly positive",
          "weakly positive",
          "weakly positive",
          "weakly positive",
          "weakly positive",
          "Neutral",
          "Neutral",
          "weakly positive",
          "Neutral",
          "weakly positive",
          "weakly positive",
          "weakly positive",
          "weakly positive",
          "weakly positive",
          "weakly positive",
          "weakly positive",
          "weakly positive",
          "Neutral",
          "weakly positive",
          "weakly positive",
          "weakly positive",
          "weakly positive",
          "Neutral",
          "weakly positive",
          "weakly positive",
          "weakly positive",
          "weakly positive",
          "Neutral",
          "weakly positive",
          "weakly positive",
          "weakly positive",
          "weakly positive",
          "weakly positive",
          "weakly positive",
          "Neutral",
          "weakly positive",
          "weakly positive",
          "weakly positive",
          "weakly positive",
          "weakly positive",
          "weakly positive",
          "weakly positive",
          "Neutral",
          "weakly positive",
          "Neutral",
          "weakly positive",
          "Neutral",
          "weakly positive",
          "weakly positive",
          "weakly positive",
          "Neutral",
          "weakly positive",
          "weakly positive",
          "positive",
          "weakly positive",
          "positive",
          "Neutral",
          "weakly positive",
          "weakly positive",
          "weakly positive",
          "weakly positive",
          "weakly positive",
          "weakly positive",
          "weakly positive",
          "weakly positive",
          "weakly positive",
          "weakly positive",
          "weakly positive",
          "Neutral",
          "Neutral",
          "Neutral",
          "weakly positive",
          "weakly positive",
          "Neutral",
          "weakly positive",
          "weakly positive",
          "Neutral",
          "weakly positive",
          "weakly positive",
          "weakly positive",
          "weakly positive",
          "weakly positive",
          "weakly positive",
          "weakly positive",
          "weakly positive",
          "weakly positive",
          "Neutral",
          "weakly positive",
          "weakly positive",
          "weakly positive",
          "weakly positive",
          "weakly positive",
          "Neutral",
          "weakly positive",
          "weakly positive",
          "weakly positive",
          "Neutral",
          "weakly positive",
          "weakly positive",
          "weakly positive",
          "Neutral",
          "weakly positive",
          "Neutral",
          "weakly positive",
          "weakly positive",
          "weakly positive",
          "weakly positive",
          "weakly positive",
          "weakly positive",
          "weakly positive",
          "weakly positive",
          "Neutral",
          "weakly positive",
          "weakly positive",
          "weakly positive",
          "weakly positive",
          "weakly positive",
          "weakly positive",
          "weakly positive",
          "weakly positive",
          "weakly positive",
          "Neutral",
          "weakly positive",
          "weakly positive",
          "weakly positive",
          "weakly positive",
          "Neutral",
          "Neutral",
          "Neutral",
          "weakly positive",
          "weakly positive",
          "weakly positive",
          "Neutral",
          "Neutral",
          "weakly positive",
          "weakly positive",
          "weakly positive",
          "weakly positive",
          "weakly positive",
          "weakly positive",
          "Neutral",
          "weakly positive",
          "weakly positive",
          "Neutral",
          "weakly positive",
          "weakly positive",
          "weakly positive",
          "weakly positive",
          "weakly positive",
          "weakly positive",
          "weakly positive",
          "Neutral",
          "weakly positive",
          "weakly positive",
          "weakly positive",
          "Neutral",
          "weakly positive",
          "weakly positive",
          "positive",
          "weakly positive",
          "Neutral",
          "weakly positive",
          "weakly positive",
          "weakly positive",
          "Neutral",
          "Neutral",
          "weakly positive",
          "weakly positive",
          "weakly positive",
          "Neutral",
          "Neutral",
          "weakly positive",
          "weakly positive",
          "weakly positive",
          "weakly positive",
          "Neutral",
          "Neutral",
          "Neutral",
          "weakly positive",
          "Neutral",
          "weakly positive",
          "weakly positive",
          "weakly positive",
          "Neutral",
          "weakly positive",
          "Neutral",
          "Neutral",
          "weakly positive",
          "weakly positive",
          "weakly positive",
          "weakly positive",
          "Neutral",
          "weakly positive",
          "weakly positive",
          "weakly positive",
          "Neutral",
          "Neutral",
          "weakly positive",
          "weakly positive",
          "weakly positive",
          "weakly positive",
          "Neutral",
          "Neutral",
          "weakly positive",
          "weakly positive",
          "weakly positive",
          "weakly positive",
          "weakly positive",
          "weakly positive",
          "Neutral",
          "weakly positive",
          "weakly positive",
          "weakly positive",
          "Neutral",
          "weakly positive",
          "weakly positive",
          "weakly positive",
          "weakly positive",
          "weakly positive",
          "Neutral",
          "weakly positive",
          "weakly positive",
          "weakly positive",
          "weakly positive",
          "weakly positive",
          "weakly positive",
          "weakly positive",
          "weakly positive",
          "weakly positive",
          "weakly positive",
          "weakly positive",
          "weakly positive",
          "Neutral",
          "weakly positive",
          "weakly positive",
          "weakly positive",
          "weakly positive",
          "weakly positive",
          "weakly positive",
          "weakly positive",
          "Neutral",
          "Neutral",
          "weakly positive",
          "weakly positive",
          "weakly positive",
          "weakly positive",
          "Neutral",
          "Neutral",
          "weakly positive",
          "weakly positive",
          "weakly positive",
          "weakly positive",
          "weakly positive",
          "weakly positive",
          "weakly positive",
          "Neutral",
          "weakly positive",
          "weakly positive",
          "Neutral",
          "Neutral",
          "weakly positive",
          "Neutral",
          "weakly positive",
          "weakly positive",
          "weakly positive",
          "weakly positive",
          "weakly positive",
          "weakly positive",
          "Neutral",
          "weakly positive",
          "weakly positive",
          "weakly positive",
          "weakly positive",
          "weakly positive",
          "weakly positive",
          "Neutral",
          "weakly positive",
          "weakly positive",
          "weakly positive",
          "Neutral",
          "Neutral",
          "Neutral",
          "Neutral",
          "weakly positive",
          "weakly positive",
          "weakly positive",
          "weakly positive",
          "Neutral",
          "weakly positive",
          "weakly positive",
          "Neutral",
          "Neutral",
          "weakly positive",
          "weakly positive",
          "weakly positive",
          "weakly positive",
          "Neutral",
          "Neutral",
          "weakly positive",
          "weakly positive",
          "weakly positive",
          "weakly positive",
          "weakly positive",
          "Neutral",
          "weakly positive",
          "weakly positive",
          "weakly positive",
          "weakly positive",
          "weakly positive",
          "weakly positive",
          "Neutral",
          "Neutral",
          "weakly positive",
          "Neutral",
          "weakly positive",
          "weakly positive",
          "weakly positive",
          "weakly positive",
          "Neutral",
          "weakly positive",
          "weakly positive",
          "weakly positive",
          "Neutral",
          "positive",
          "Neutral",
          "weakly positive",
          "weakly positive",
          "Neutral",
          "weakly positive",
          "weakly positive",
          "Neutral",
          "Neutral",
          "Neutral",
          "weakly positive",
          "weakly positive",
          "weakly positive",
          "Neutral",
          "weakly positive",
          "Neutral",
          "weakly positive",
          "weakly positive",
          "weakly positive",
          "weakly positive",
          "weakly positive",
          "weakly positive",
          "Neutral",
          "Neutral",
          "Neutral",
          "Neutral",
          "Neutral",
          "weakly positive",
          "Neutral",
          "weakly positive",
          "weakly positive",
          "weakly positive",
          "Neutral",
          "weakly positive",
          "weakly positive",
          "very positive",
          "weakly positive",
          "weakly positive",
          "weakly positive",
          "weakly positive",
          "Neutral",
          "weakly positive",
          "weakly positive",
          "weakly positive",
          "weakly positive",
          "weakly positive",
          "weakly positive",
          "weakly positive",
          "weakly positive",
          "weakly positive",
          "Neutral",
          "Neutral",
          "weakly positive",
          "weakly positive",
          "weakly positive",
          "weakly positive",
          "weakly positive",
          "positive",
          "weakly positive",
          "weakly positive",
          "weakly positive",
          "weakly positive",
          "Neutral",
          "weakly positive",
          "weakly positive",
          "weakly positive",
          "weakly positive",
          "weakly positive",
          "weakly positive",
          "weakly positive",
          "weakly positive",
          "weakly positive",
          "weakly positive",
          "Neutral",
          "Neutral",
          "Neutral",
          "weakly positive",
          "weakly positive",
          "Neutral",
          "Neutral",
          "weakly positive",
          "Neutral",
          "weakly positive",
          "weakly positive",
          "weakly positive",
          "weakly positive",
          "weakly positive",
          "weakly positive",
          "Neutral",
          "weakly positive",
          "weakly positive",
          "Neutral",
          "weakly positive",
          "weakly positive",
          "weakly positive",
          "Neutral",
          "weakly positive",
          "weakly positive",
          "weakly positive",
          "weakly positive",
          "weakly positive",
          "weakly positive",
          "Neutral",
          "weakly positive",
          "weakly positive",
          "weakly positive",
          "Neutral",
          "weakly positive",
          "weakly positive",
          "Neutral",
          "Neutral",
          "weakly positive",
          "weakly positive",
          "weakly positive",
          "weakly positive",
          "weakly positive",
          "weakly positive",
          "weakly positive",
          "Neutral",
          "weakly positive",
          "weakly positive",
          "weakly positive",
          "weakly positive",
          "weakly positive",
          "weakly positive",
          "Neutral",
          "positive",
          "weakly positive",
          "Neutral",
          "Neutral",
          "weakly positive",
          "weakly positive",
          "weakly positive",
          "weakly positive",
          "Neutral",
          "weakly positive",
          "weakly positive",
          "Neutral",
          "weakly positive",
          "weakly positive",
          "Neutral",
          "weakly positive",
          "weakly positive",
          "weakly positive",
          "weakly positive",
          "weakly positive",
          "weakly positive",
          "weakly positive",
          "weakly positive",
          "weakly positive",
          "weakly positive",
          "weakly positive",
          "Neutral",
          "weakly positive",
          "weakly positive",
          "Neutral",
          "Neutral",
          "weakly positive",
          "weakly positive",
          "weakly positive",
          "Neutral",
          "weakly positive",
          "Neutral",
          "weakly positive",
          "weakly positive",
          "Neutral",
          "positive",
          "weakly positive",
          "weakly positive",
          "weakly positive",
          "weakly positive",
          "weakly positive",
          "weakly positive",
          "Neutral",
          "weakly positive",
          "weakly positive",
          "weakly positive",
          "weakly positive",
          "Neutral",
          "weakly positive",
          "weakly positive",
          "weakly positive",
          "weakly positive",
          "Neutral",
          "weakly positive",
          "Neutral",
          "weakly positive",
          "weakly positive",
          "weakly positive",
          "weakly positive",
          "weakly positive",
          "weakly positive",
          "weakly positive",
          "weakly positive",
          "weakly positive",
          "Neutral",
          "weakly positive",
          "weakly positive",
          "weakly positive",
          "Neutral",
          "weakly positive",
          "weakly positive",
          "weakly positive",
          "weakly positive",
          "Neutral",
          "weakly positive",
          "positive",
          "weakly positive",
          "weakly positive",
          "weakly positive",
          "weakly positive",
          "weakly positive",
          "weakly positive",
          "weakly positive",
          "Neutral",
          "weakly positive",
          "weakly positive",
          "weakly positive",
          "weakly positive",
          "weakly positive",
          "weakly positive",
          "Neutral",
          "weakly positive",
          "Neutral",
          "weakly positive",
          "weakly positive",
          "weakly positive",
          "positive",
          "weakly positive",
          "weakly positive",
          "Neutral",
          "weakly positive",
          "weakly positive",
          "weakly positive",
          "weakly positive",
          "Neutral",
          "weakly positive",
          "Neutral",
          "weakly positive",
          "Neutral",
          "Neutral",
          "Neutral",
          "Neutral",
          "weakly positive",
          "Neutral",
          "weakly positive",
          "Neutral",
          "positive",
          "weakly positive",
          "weakly positive",
          "weakly positive",
          "weakly positive",
          "weakly positive",
          "weakly positive",
          "Neutral",
          "weakly positive",
          "weakly positive",
          "weakly positive",
          "weakly positive",
          "weakly positive",
          "very negative",
          "negative",
          "weakly negative",
          "Neutral",
          "weakly positive",
          "positive",
          "very positive"
         ],
         "xaxis": "x2",
         "y": [
          1,
          1,
          1,
          1,
          1,
          1,
          1,
          1,
          1,
          1,
          1,
          1,
          1,
          1,
          1,
          1,
          1,
          1,
          1,
          1,
          1,
          1,
          1,
          1,
          1,
          1,
          1,
          1,
          1,
          1,
          1,
          1,
          1,
          1,
          1,
          1,
          1,
          1,
          1,
          1,
          1,
          1,
          1,
          1,
          1,
          1,
          1,
          1,
          1,
          1,
          1,
          1,
          1,
          1,
          1,
          1,
          1,
          1,
          1,
          1,
          1,
          1,
          1,
          1,
          1,
          1,
          1,
          1,
          1,
          1,
          1,
          1,
          1,
          1,
          1,
          1,
          1,
          1,
          1,
          1,
          1,
          1,
          1,
          1,
          1,
          1,
          1,
          1,
          1,
          1,
          1,
          1,
          1,
          1,
          1,
          1,
          1,
          1,
          1,
          1,
          1,
          1,
          1,
          1,
          1,
          1,
          1,
          1,
          1,
          1,
          1,
          1,
          1,
          1,
          1,
          1,
          1,
          1,
          1,
          1,
          1,
          1,
          1,
          1,
          1,
          1,
          1,
          1,
          1,
          1,
          1,
          1,
          1,
          1,
          1,
          1,
          1,
          1,
          1,
          1,
          1,
          1,
          1,
          1,
          1,
          1,
          1,
          1,
          1,
          1,
          1,
          1,
          1,
          1,
          1,
          1,
          1,
          1,
          1,
          1,
          1,
          1,
          1,
          1,
          1,
          1,
          1,
          1,
          1,
          1,
          1,
          1,
          1,
          1,
          1,
          1,
          1,
          1,
          1,
          1,
          1,
          1,
          1,
          1,
          1,
          1,
          1,
          1,
          1,
          1,
          1,
          1,
          1,
          1,
          1,
          1,
          1,
          1,
          1,
          1,
          1,
          1,
          1,
          1,
          1,
          1,
          1,
          1,
          1,
          1,
          1,
          1,
          1,
          1,
          1,
          1,
          1,
          1,
          1,
          1,
          1,
          1,
          1,
          1,
          1,
          1,
          1,
          1,
          1,
          1,
          1,
          1,
          1,
          1,
          1,
          1,
          1,
          1,
          1,
          1,
          1,
          1,
          1,
          1,
          1,
          1,
          1,
          1,
          1,
          1,
          1,
          1,
          1,
          1,
          1,
          1,
          1,
          1,
          1,
          1,
          1,
          1,
          1,
          1,
          1,
          1,
          1,
          1,
          1,
          1,
          1,
          1,
          1,
          1,
          1,
          1,
          1,
          1,
          1,
          1,
          1,
          1,
          1,
          1,
          1,
          1,
          1,
          1,
          1,
          1,
          1,
          1,
          1,
          1,
          1,
          1,
          1,
          1,
          1,
          1,
          1,
          1,
          1,
          1,
          1,
          1,
          1,
          1,
          1,
          1,
          1,
          1,
          1,
          1,
          1,
          1,
          1,
          1,
          1,
          1,
          1,
          1,
          1,
          1,
          1,
          1,
          1,
          1,
          1,
          1,
          1,
          1,
          1,
          1,
          1,
          1,
          1,
          1,
          1,
          1,
          1,
          1,
          1,
          1,
          1,
          1,
          1,
          1,
          1,
          1,
          1,
          1,
          1,
          1,
          1,
          1,
          1,
          1,
          1,
          1,
          1,
          1,
          1,
          1,
          1,
          1,
          1,
          1,
          1,
          1,
          1,
          1,
          1,
          1,
          1,
          1,
          1,
          1,
          1,
          1,
          1,
          1,
          1,
          1,
          1,
          1,
          1,
          1,
          1,
          1,
          1,
          1,
          1,
          1,
          1,
          1,
          1,
          1,
          1,
          1,
          1,
          1,
          1,
          1,
          1,
          1,
          1,
          1,
          1,
          1,
          1,
          1,
          1,
          1,
          1,
          1,
          1,
          1,
          1,
          1,
          1,
          1,
          1,
          1,
          1,
          1,
          1,
          1,
          1,
          1,
          1,
          1,
          1,
          1,
          1,
          1,
          1,
          1,
          1,
          1,
          1,
          1,
          1,
          1,
          1,
          1,
          1,
          1,
          1,
          1,
          1,
          1,
          1,
          1,
          1,
          1,
          1,
          1,
          1,
          1,
          1,
          1,
          1,
          1,
          1,
          1,
          1,
          1,
          1,
          1,
          1,
          1,
          1,
          1,
          1,
          1,
          1,
          1,
          1,
          1,
          1,
          1,
          1,
          1,
          1,
          1,
          1,
          1,
          1,
          1,
          1,
          1,
          1,
          1,
          1,
          1,
          1,
          1,
          1,
          1,
          1,
          1,
          1,
          1,
          1,
          1,
          1,
          1,
          1,
          1,
          1,
          1,
          1,
          1,
          1,
          1,
          1,
          1,
          1,
          1,
          1,
          1,
          1,
          1,
          1,
          1,
          1,
          1,
          1,
          1,
          1,
          1,
          1,
          1,
          1,
          1,
          1,
          1,
          1,
          1,
          1,
          1,
          1,
          1,
          1,
          1,
          1,
          1,
          1,
          1,
          1,
          1,
          1,
          1,
          1,
          1,
          1,
          1,
          1,
          1,
          1,
          1,
          1,
          1,
          1,
          1,
          1,
          1,
          1,
          1,
          1,
          1,
          1,
          1,
          1,
          1,
          1,
          1,
          1,
          1,
          1,
          1,
          1,
          1,
          1,
          1,
          1,
          1,
          1,
          1,
          1,
          1,
          1,
          1,
          1,
          1,
          1,
          1,
          1,
          1,
          1,
          1,
          1,
          1,
          1,
          1,
          1,
          1,
          1,
          1,
          1,
          1,
          1,
          1,
          1,
          1,
          1,
          1,
          1,
          1,
          1,
          1,
          1,
          1,
          1,
          1,
          1,
          1,
          1,
          1,
          1,
          1,
          1,
          1,
          1,
          1,
          1,
          1,
          1,
          1,
          1,
          1,
          1,
          1,
          1,
          1,
          1,
          1,
          1,
          1,
          1,
          1,
          1,
          1,
          1,
          1,
          1,
          1,
          1,
          1,
          1,
          1,
          1,
          1,
          1,
          1,
          1,
          1,
          1,
          1,
          1,
          1,
          1,
          1,
          1,
          1,
          1,
          1,
          1,
          1,
          1,
          1,
          1,
          1,
          1,
          1,
          1,
          1,
          1,
          1,
          1,
          1,
          1
         ],
         "yaxis": "y2"
        },
        {
         "alignmentgroup": "True",
         "hovertemplate": "video_7=%{x}<br>count=%{y}<extra></extra>",
         "legendgroup": "",
         "marker": {
          "color": "#636efa",
          "pattern": {
           "shape": ""
          }
         },
         "name": "",
         "offsetgroup": "",
         "orientation": "v",
         "showlegend": false,
         "textposition": "auto",
         "type": "bar",
         "x": [
          "Neutral",
          "Neutral",
          "Neutral",
          "Neutral",
          "Neutral",
          "Neutral",
          "Neutral",
          "Neutral",
          "Neutral",
          "Neutral",
          "Neutral",
          "Neutral",
          "Neutral",
          "Neutral",
          "Neutral",
          "Neutral",
          "Neutral",
          "Neutral",
          "Neutral",
          "Neutral",
          "Neutral",
          "Neutral",
          "Neutral",
          "Neutral",
          "Neutral",
          "Neutral",
          "Neutral",
          "Neutral",
          "Neutral",
          "Neutral",
          "Neutral",
          "Neutral",
          "Neutral",
          "Neutral",
          "Neutral",
          "Neutral",
          "Neutral",
          "Neutral",
          "Neutral",
          "Neutral",
          "Neutral",
          "Neutral",
          "Neutral",
          "Neutral",
          "Neutral",
          "Neutral",
          "Neutral",
          "Neutral",
          "Neutral",
          "Neutral",
          "Neutral",
          "Neutral",
          "Neutral",
          "Neutral",
          "Neutral",
          "Neutral",
          "Neutral",
          "Neutral",
          "Neutral",
          "Neutral",
          "Neutral",
          "Neutral",
          "Neutral",
          "Neutral",
          "Neutral",
          "Neutral",
          "Neutral",
          "Neutral",
          "Neutral",
          "Neutral",
          "Neutral",
          "Neutral",
          "Neutral",
          "Neutral",
          "Neutral",
          "Neutral",
          "Neutral",
          "Neutral",
          "Neutral",
          "Neutral",
          "Neutral",
          "Neutral",
          "Neutral",
          "Neutral",
          "Neutral",
          "Neutral",
          "Neutral",
          "Neutral",
          "Neutral",
          "Neutral",
          "Neutral",
          "Neutral",
          "Neutral",
          "Neutral",
          "Neutral",
          "Neutral",
          "Neutral",
          "Neutral",
          "Neutral",
          "Neutral",
          "Neutral",
          "Neutral",
          "Neutral",
          "Neutral",
          "Neutral",
          "Neutral",
          "Neutral",
          "Neutral",
          "Neutral",
          "Neutral",
          "Neutral",
          "Neutral",
          "Neutral",
          "Neutral",
          "Neutral",
          "Neutral",
          "Neutral",
          "Neutral",
          "Neutral",
          "Neutral",
          "Neutral",
          "Neutral",
          "Neutral",
          "Neutral",
          "Neutral",
          "Neutral",
          "Neutral",
          "Neutral",
          "Neutral",
          "Neutral",
          "Neutral",
          "Neutral",
          "Neutral",
          "Neutral",
          "Neutral",
          "Neutral",
          "Neutral",
          "Neutral",
          "Neutral",
          "Neutral",
          "Neutral",
          "Neutral",
          "Neutral",
          "Neutral",
          "Neutral",
          "Neutral",
          "Neutral",
          "Neutral",
          "Neutral",
          "Neutral",
          "Neutral",
          "Neutral",
          "Neutral",
          "Neutral",
          "Neutral",
          "Neutral",
          "Neutral",
          "Neutral",
          "Neutral",
          "Neutral",
          "Neutral",
          "Neutral",
          "Neutral",
          "Neutral",
          "Neutral",
          "Neutral",
          "Neutral",
          "Neutral",
          "Neutral",
          "Neutral",
          "weakly positive",
          "Neutral",
          "Neutral",
          "Neutral",
          "Neutral",
          "Neutral",
          "Neutral",
          "Neutral",
          "Neutral",
          "Neutral",
          "Neutral",
          "Neutral",
          "Neutral",
          "Neutral",
          "Neutral",
          "Neutral",
          "Neutral",
          "Neutral",
          "Neutral",
          "Neutral",
          "Neutral",
          "Neutral",
          "Neutral",
          "Neutral",
          "Neutral",
          "Neutral",
          "Neutral",
          "Neutral",
          "Neutral",
          "Neutral",
          "Neutral",
          "Neutral",
          "Neutral",
          "Neutral",
          "Neutral",
          "Neutral",
          "Neutral",
          "Neutral",
          "Neutral",
          "Neutral",
          "Neutral",
          "Neutral",
          "Neutral",
          "Neutral",
          "Neutral",
          "Neutral",
          "Neutral",
          "Neutral",
          "Neutral",
          "Neutral",
          "Neutral",
          "Neutral",
          "Neutral",
          "Neutral",
          "Neutral",
          "Neutral",
          "Neutral",
          "Neutral",
          "Neutral",
          "Neutral",
          "Neutral",
          "Neutral",
          "Neutral",
          "Neutral",
          "Neutral",
          "Neutral",
          "Neutral",
          "Neutral",
          "Neutral",
          "Neutral",
          "Neutral",
          "Neutral",
          "Neutral",
          "Neutral",
          "Neutral",
          "Neutral",
          "Neutral",
          "Neutral",
          "Neutral",
          "Neutral",
          "Neutral",
          "Neutral",
          "Neutral",
          "Neutral",
          "Neutral",
          "Neutral",
          "Neutral",
          "Neutral",
          "Neutral",
          "Neutral",
          "Neutral",
          "Neutral",
          "Neutral",
          "Neutral",
          "Neutral",
          "Neutral",
          "Neutral",
          "Neutral",
          "Neutral",
          "Neutral",
          "Neutral",
          "Neutral",
          "Neutral",
          "Neutral",
          "Neutral",
          "Neutral",
          "Neutral",
          "Neutral",
          "Neutral",
          "Neutral",
          "Neutral",
          "Neutral",
          "Neutral",
          "Neutral",
          "Neutral",
          "Neutral",
          "Neutral",
          "Neutral",
          "Neutral",
          "Neutral",
          "Neutral",
          "Neutral",
          "Neutral",
          "Neutral",
          "Neutral",
          "Neutral",
          "Neutral",
          "Neutral",
          "Neutral",
          "Neutral",
          "Neutral",
          "Neutral",
          "Neutral",
          "Neutral",
          "Neutral",
          "Neutral",
          "Neutral",
          "Neutral",
          "Neutral",
          "Neutral",
          "Neutral",
          "Neutral",
          "Neutral",
          "Neutral",
          "Neutral",
          "Neutral",
          "Neutral",
          "Neutral",
          "Neutral",
          "Neutral",
          "Neutral",
          "Neutral",
          "Neutral",
          "Neutral",
          "Neutral",
          "Neutral",
          "Neutral",
          "Neutral",
          "Neutral",
          "Neutral",
          "Neutral",
          "Neutral",
          "Neutral",
          "Neutral",
          "Neutral",
          "Neutral",
          "Neutral",
          "Neutral",
          "Neutral",
          "Neutral",
          "Neutral",
          "Neutral",
          "Neutral",
          "Neutral",
          "Neutral",
          "Neutral",
          "Neutral",
          "Neutral",
          "Neutral",
          "Neutral",
          "Neutral",
          "Neutral",
          "Neutral",
          "Neutral",
          "Neutral",
          "Neutral",
          "Neutral",
          "Neutral",
          "Neutral",
          "Neutral",
          "Neutral",
          "Neutral",
          "Neutral",
          "Neutral",
          "Neutral",
          "Neutral",
          "Neutral",
          "Neutral",
          "Neutral",
          "Neutral",
          "Neutral",
          "Neutral",
          "Neutral",
          "Neutral",
          "Neutral",
          "Neutral",
          "Neutral",
          "Neutral",
          "Neutral",
          "Neutral",
          "Neutral",
          "Neutral",
          "Neutral",
          "Neutral",
          "Neutral",
          "Neutral",
          "Neutral",
          "Neutral",
          "Neutral",
          "Neutral",
          "Neutral",
          "Neutral",
          "Neutral",
          "Neutral",
          "Neutral",
          "Neutral",
          "Neutral",
          "Neutral",
          "Neutral",
          "Neutral",
          "Neutral",
          "Neutral",
          "Neutral",
          "Neutral",
          "Neutral",
          "Neutral",
          "Neutral",
          "Neutral",
          "Neutral",
          "Neutral",
          "Neutral",
          "Neutral",
          "Neutral",
          "Neutral",
          "Neutral",
          "Neutral",
          "Neutral",
          "Neutral",
          "Neutral",
          "Neutral",
          "Neutral",
          "Neutral",
          "Neutral",
          "Neutral",
          "Neutral",
          "Neutral",
          "Neutral",
          "Neutral",
          "Neutral",
          "Neutral",
          "Neutral",
          "Neutral",
          "Neutral",
          "Neutral",
          "Neutral",
          "Neutral",
          "Neutral",
          "Neutral",
          "Neutral",
          "Neutral",
          "Neutral",
          "Neutral",
          "Neutral",
          "Neutral",
          "Neutral",
          "Neutral",
          "Neutral",
          "Neutral",
          "Neutral",
          "Neutral",
          "Neutral",
          "Neutral",
          "Neutral",
          "Neutral",
          "Neutral",
          "Neutral",
          "Neutral",
          "Neutral",
          "Neutral",
          "Neutral",
          "Neutral",
          "Neutral",
          "Neutral",
          "Neutral",
          "Neutral",
          "Neutral",
          "Neutral",
          "Neutral",
          "Neutral",
          "Neutral",
          "Neutral",
          "Neutral",
          "Neutral",
          "Neutral",
          "Neutral",
          "Neutral",
          "Neutral",
          "Neutral",
          "Neutral",
          "Neutral",
          "Neutral",
          "Neutral",
          "Neutral",
          "Neutral",
          "Neutral",
          "Neutral",
          "Neutral",
          "Neutral",
          "Neutral",
          "Neutral",
          "Neutral",
          "Neutral",
          "Neutral",
          "Neutral",
          "Neutral",
          "Neutral",
          "Neutral",
          "Neutral",
          "Neutral",
          "Neutral",
          "Neutral",
          "Neutral",
          "Neutral",
          "Neutral",
          "Neutral",
          "Neutral",
          "Neutral",
          "Neutral",
          "Neutral",
          "Neutral",
          "Neutral",
          "Neutral",
          "Neutral",
          "Neutral",
          "Neutral",
          "Neutral",
          "Neutral",
          "Neutral",
          "Neutral",
          "Neutral",
          "Neutral",
          "Neutral",
          "Neutral",
          "Neutral",
          "Neutral",
          "Neutral",
          "Neutral",
          "Neutral",
          "Neutral",
          "Neutral",
          "Neutral",
          "Neutral",
          "Neutral",
          "Neutral",
          "Neutral",
          "Neutral",
          "Neutral",
          "Neutral",
          "Neutral",
          "Neutral",
          "Neutral",
          "Neutral",
          "Neutral",
          "Neutral",
          "Neutral",
          "Neutral",
          "Neutral",
          "Neutral",
          "Neutral",
          "Neutral",
          "Neutral",
          "Neutral",
          "Neutral",
          "Neutral",
          "Neutral",
          "Neutral",
          "Neutral",
          "Neutral",
          "Neutral",
          "Neutral",
          "Neutral",
          "Neutral",
          "Neutral",
          "Neutral",
          "Neutral",
          "Neutral",
          "Neutral",
          "Neutral",
          "Neutral",
          "Neutral",
          "Neutral",
          "Neutral",
          "Neutral",
          "Neutral",
          "Neutral",
          "Neutral",
          "Neutral",
          "Neutral",
          "Neutral",
          "Neutral",
          "Neutral",
          "Neutral",
          "Neutral",
          "Neutral",
          "Neutral",
          "Neutral",
          "Neutral",
          "Neutral",
          "Neutral",
          "Neutral",
          "Neutral",
          "Neutral",
          "Neutral",
          "Neutral",
          "Neutral",
          "Neutral",
          "Neutral",
          "Neutral",
          "Neutral",
          "Neutral",
          "Neutral",
          "Neutral",
          "Neutral",
          "Neutral",
          "Neutral",
          "Neutral",
          "Neutral",
          "Neutral",
          "Neutral",
          "Neutral",
          "Neutral",
          "Neutral",
          "Neutral",
          "Neutral",
          "Neutral",
          "Neutral",
          "Neutral",
          "Neutral",
          "Neutral",
          "Neutral",
          "Neutral",
          "Neutral",
          "Neutral",
          "Neutral",
          "Neutral",
          "Neutral",
          "Neutral",
          "Neutral",
          "Neutral",
          "Neutral",
          "Neutral",
          "Neutral",
          "Neutral",
          "Neutral",
          "Neutral",
          "Neutral",
          "Neutral",
          "Neutral",
          "Neutral",
          "Neutral",
          "Neutral",
          "Neutral",
          "Neutral",
          "Neutral",
          "Neutral",
          "Neutral",
          "Neutral",
          "Neutral",
          "Neutral",
          "Neutral",
          "Neutral",
          "Neutral",
          "Neutral",
          "Neutral",
          "Neutral",
          "Neutral",
          "Neutral",
          "Neutral",
          "Neutral",
          "Neutral",
          "Neutral",
          "Neutral",
          "Neutral",
          "Neutral",
          "Neutral",
          "Neutral",
          "Neutral",
          "Neutral",
          "Neutral",
          "Neutral",
          "Neutral",
          "Neutral",
          "Neutral",
          "Neutral",
          "Neutral",
          "Neutral",
          "Neutral",
          "Neutral",
          "Neutral",
          "Neutral",
          "Neutral",
          "Neutral",
          "Neutral",
          "Neutral",
          "Neutral",
          "Neutral",
          "very negative",
          "negative",
          "weakly negative",
          "Neutral",
          "weakly positive",
          "positive",
          "very positive"
         ],
         "xaxis": "x3",
         "y": [
          1,
          1,
          1,
          1,
          1,
          1,
          1,
          1,
          1,
          1,
          1,
          1,
          1,
          1,
          1,
          1,
          1,
          1,
          1,
          1,
          1,
          1,
          1,
          1,
          1,
          1,
          1,
          1,
          1,
          1,
          1,
          1,
          1,
          1,
          1,
          1,
          1,
          1,
          1,
          1,
          1,
          1,
          1,
          1,
          1,
          1,
          1,
          1,
          1,
          1,
          1,
          1,
          1,
          1,
          1,
          1,
          1,
          1,
          1,
          1,
          1,
          1,
          1,
          1,
          1,
          1,
          1,
          1,
          1,
          1,
          1,
          1,
          1,
          1,
          1,
          1,
          1,
          1,
          1,
          1,
          1,
          1,
          1,
          1,
          1,
          1,
          1,
          1,
          1,
          1,
          1,
          1,
          1,
          1,
          1,
          1,
          1,
          1,
          1,
          1,
          1,
          1,
          1,
          1,
          1,
          1,
          1,
          1,
          1,
          1,
          1,
          1,
          1,
          1,
          1,
          1,
          1,
          1,
          1,
          1,
          1,
          1,
          1,
          1,
          1,
          1,
          1,
          1,
          1,
          1,
          1,
          1,
          1,
          1,
          1,
          1,
          1,
          1,
          1,
          1,
          1,
          1,
          1,
          1,
          1,
          1,
          1,
          1,
          1,
          1,
          1,
          1,
          1,
          1,
          1,
          1,
          1,
          1,
          1,
          1,
          1,
          1,
          1,
          1,
          1,
          1,
          1,
          1,
          1,
          1,
          1,
          1,
          1,
          1,
          1,
          1,
          1,
          1,
          1,
          1,
          1,
          1,
          1,
          1,
          1,
          1,
          1,
          1,
          1,
          1,
          1,
          1,
          1,
          1,
          1,
          1,
          1,
          1,
          1,
          1,
          1,
          1,
          1,
          1,
          1,
          1,
          1,
          1,
          1,
          1,
          1,
          1,
          1,
          1,
          1,
          1,
          1,
          1,
          1,
          1,
          1,
          1,
          1,
          1,
          1,
          1,
          1,
          1,
          1,
          1,
          1,
          1,
          1,
          1,
          1,
          1,
          1,
          1,
          1,
          1,
          1,
          1,
          1,
          1,
          1,
          1,
          1,
          1,
          1,
          1,
          1,
          1,
          1,
          1,
          1,
          1,
          1,
          1,
          1,
          1,
          1,
          1,
          1,
          1,
          1,
          1,
          1,
          1,
          1,
          1,
          1,
          1,
          1,
          1,
          1,
          1,
          1,
          1,
          1,
          1,
          1,
          1,
          1,
          1,
          1,
          1,
          1,
          1,
          1,
          1,
          1,
          1,
          1,
          1,
          1,
          1,
          1,
          1,
          1,
          1,
          1,
          1,
          1,
          1,
          1,
          1,
          1,
          1,
          1,
          1,
          1,
          1,
          1,
          1,
          1,
          1,
          1,
          1,
          1,
          1,
          1,
          1,
          1,
          1,
          1,
          1,
          1,
          1,
          1,
          1,
          1,
          1,
          1,
          1,
          1,
          1,
          1,
          1,
          1,
          1,
          1,
          1,
          1,
          1,
          1,
          1,
          1,
          1,
          1,
          1,
          1,
          1,
          1,
          1,
          1,
          1,
          1,
          1,
          1,
          1,
          1,
          1,
          1,
          1,
          1,
          1,
          1,
          1,
          1,
          1,
          1,
          1,
          1,
          1,
          1,
          1,
          1,
          1,
          1,
          1,
          1,
          1,
          1,
          1,
          1,
          1,
          1,
          1,
          1,
          1,
          1,
          1,
          1,
          1,
          1,
          1,
          1,
          1,
          1,
          1,
          1,
          1,
          1,
          1,
          1,
          1,
          1,
          1,
          1,
          1,
          1,
          1,
          1,
          1,
          1,
          1,
          1,
          1,
          1,
          1,
          1,
          1,
          1,
          1,
          1,
          1,
          1,
          1,
          1,
          1,
          1,
          1,
          1,
          1,
          1,
          1,
          1,
          1,
          1,
          1,
          1,
          1,
          1,
          1,
          1,
          1,
          1,
          1,
          1,
          1,
          1,
          1,
          1,
          1,
          1,
          1,
          1,
          1,
          1,
          1,
          1,
          1,
          1,
          1,
          1,
          1,
          1,
          1,
          1,
          1,
          1,
          1,
          1,
          1,
          1,
          1,
          1,
          1,
          1,
          1,
          1,
          1,
          1,
          1,
          1,
          1,
          1,
          1,
          1,
          1,
          1,
          1,
          1,
          1,
          1,
          1,
          1,
          1,
          1,
          1,
          1,
          1,
          1,
          1,
          1,
          1,
          1,
          1,
          1,
          1,
          1,
          1,
          1,
          1,
          1,
          1,
          1,
          1,
          1,
          1,
          1,
          1,
          1,
          1,
          1,
          1,
          1,
          1,
          1,
          1,
          1,
          1,
          1,
          1,
          1,
          1,
          1,
          1,
          1,
          1,
          1,
          1,
          1,
          1,
          1,
          1,
          1,
          1,
          1,
          1,
          1,
          1,
          1,
          1,
          1,
          1,
          1,
          1,
          1,
          1,
          1,
          1,
          1,
          1,
          1,
          1,
          1,
          1,
          1,
          1,
          1,
          1,
          1,
          1,
          1,
          1,
          1,
          1,
          1,
          1,
          1,
          1,
          1,
          1,
          1,
          1,
          1,
          1,
          1,
          1,
          1,
          1,
          1,
          1,
          1,
          1,
          1,
          1,
          1,
          1,
          1,
          1,
          1,
          1,
          1,
          1,
          1,
          1,
          1,
          1,
          1,
          1,
          1,
          1,
          1,
          1,
          1,
          1,
          1,
          1,
          1,
          1,
          1,
          1,
          1,
          1,
          1,
          1,
          1,
          1,
          1,
          1,
          1,
          1,
          1,
          1,
          1,
          1,
          1,
          1,
          1,
          1,
          1,
          1,
          1,
          1,
          1,
          1,
          1,
          1,
          1,
          1,
          1,
          1,
          1,
          1,
          1,
          1,
          1,
          1,
          1,
          1,
          1,
          1,
          1,
          1,
          1,
          1,
          1,
          1,
          1,
          1,
          1,
          1,
          1,
          1,
          1,
          1,
          1,
          1,
          1,
          1,
          1,
          1,
          1,
          1,
          1,
          1,
          1,
          1,
          1,
          1,
          1
         ],
         "yaxis": "y3"
        },
        {
         "alignmentgroup": "True",
         "hovertemplate": "preds_7=%{x}<br>count=%{y}<extra></extra>",
         "legendgroup": "",
         "marker": {
          "color": "#636efa",
          "pattern": {
           "shape": ""
          }
         },
         "name": "",
         "offsetgroup": "",
         "orientation": "v",
         "showlegend": false,
         "textposition": "auto",
         "type": "bar",
         "x": [
          "weakly positive",
          "weakly positive",
          "Neutral",
          "weakly positive",
          "weakly negative",
          "Neutral",
          "Neutral",
          "weakly positive",
          "Neutral",
          "weakly positive",
          "positive",
          "weakly negative",
          "weakly negative",
          "Neutral",
          "Neutral",
          "Neutral",
          "Neutral",
          "Neutral",
          "weakly negative",
          "weakly positive",
          "Neutral",
          "Neutral",
          "weakly positive",
          "weakly positive",
          "Neutral",
          "weakly positive",
          "weakly positive",
          "weakly positive",
          "Neutral",
          "Neutral",
          "Neutral",
          "Neutral",
          "weakly positive",
          "Neutral",
          "Neutral",
          "Neutral",
          "Neutral",
          "Neutral",
          "weakly positive",
          "weakly negative",
          "Neutral",
          "weakly positive",
          "Neutral",
          "Neutral",
          "positive",
          "weakly positive",
          "weakly negative",
          "Neutral",
          "weakly positive",
          "weakly positive",
          "weakly positive",
          "Neutral",
          "weakly negative",
          "weakly negative",
          "Neutral",
          "weakly positive",
          "Neutral",
          "weakly positive",
          "positive",
          "weakly positive",
          "weakly negative",
          "Neutral",
          "Neutral",
          "weakly positive",
          "weakly negative",
          "Neutral",
          "weakly negative",
          "weakly positive",
          "weakly negative",
          "Neutral",
          "Neutral",
          "Neutral",
          "Neutral",
          "weakly negative",
          "Neutral",
          "positive",
          "Neutral",
          "Neutral",
          "weakly negative",
          "weakly positive",
          "weakly negative",
          "Neutral",
          "Neutral",
          "weakly positive",
          "Neutral",
          "weakly positive",
          "Neutral",
          "weakly positive",
          "Neutral",
          "weakly positive",
          "Neutral",
          "Neutral",
          "weakly positive",
          "weakly positive",
          "weakly negative",
          "Neutral",
          "Neutral",
          "weakly positive",
          "weakly negative",
          "weakly positive",
          "weakly negative",
          "Neutral",
          "weakly positive",
          "Neutral",
          "Neutral",
          "weakly negative",
          "weakly positive",
          "weakly positive",
          "Neutral",
          "weakly positive",
          "positive",
          "Neutral",
          "weakly positive",
          "positive",
          "Neutral",
          "weakly positive",
          "Neutral",
          "positive",
          "very positive",
          "weakly negative",
          "weakly positive",
          "weakly positive",
          "Neutral",
          "positive",
          "weakly negative",
          "weakly positive",
          "weakly negative",
          "Neutral",
          "weakly negative",
          "Neutral",
          "Neutral",
          "weakly negative",
          "Neutral",
          "weakly negative",
          "Neutral",
          "Neutral",
          "Neutral",
          "weakly negative",
          "weakly positive",
          "Neutral",
          "weakly negative",
          "Neutral",
          "Neutral",
          "weakly positive",
          "Neutral",
          "weakly positive",
          "Neutral",
          "Neutral",
          "weakly positive",
          "weakly negative",
          "Neutral",
          "weakly negative",
          "Neutral",
          "weakly positive",
          "Neutral",
          "weakly positive",
          "weakly negative",
          "Neutral",
          "Neutral",
          "weakly negative",
          "Neutral",
          "weakly negative",
          "weakly negative",
          "weakly positive",
          "weakly positive",
          "Neutral",
          "Neutral",
          "positive",
          "weakly negative",
          "Neutral",
          "weakly negative",
          "Neutral",
          "Neutral",
          "Neutral",
          "Neutral",
          "weakly negative",
          "weakly negative",
          "weakly positive",
          "Neutral",
          "Neutral",
          "positive",
          "weakly positive",
          "weakly negative",
          "weakly negative",
          "positive",
          "Neutral",
          "weakly positive",
          "positive",
          "Neutral",
          "positive",
          "Neutral",
          "Neutral",
          "Neutral",
          "Neutral",
          "weakly negative",
          "Neutral",
          "weakly positive",
          "weakly positive",
          "Neutral",
          "weakly positive",
          "weakly positive",
          "Neutral",
          "Neutral",
          "Neutral",
          "positive",
          "Neutral",
          "weakly negative",
          "Neutral",
          "Neutral",
          "Neutral",
          "weakly positive",
          "Neutral",
          "weakly negative",
          "weakly positive",
          "weakly positive",
          "weakly negative",
          "positive",
          "Neutral",
          "weakly positive",
          "Neutral",
          "weakly negative",
          "Neutral",
          "weakly positive",
          "positive",
          "weakly negative",
          "positive",
          "Neutral",
          "weakly negative",
          "Neutral",
          "weakly positive",
          "weakly negative",
          "Neutral",
          "Neutral",
          "Neutral",
          "Neutral",
          "weakly positive",
          "Neutral",
          "Neutral",
          "weakly positive",
          "Neutral",
          "Neutral",
          "weakly negative",
          "weakly negative",
          "weakly positive",
          "Neutral",
          "Neutral",
          "weakly negative",
          "weakly positive",
          "weakly negative",
          "weakly positive",
          "positive",
          "positive",
          "weakly positive",
          "weakly positive",
          "weakly negative",
          "weakly positive",
          "Neutral",
          "Neutral",
          "Neutral",
          "weakly negative",
          "weakly positive",
          "weakly positive",
          "Neutral",
          "Neutral",
          "Neutral",
          "Neutral",
          "weakly positive",
          "Neutral",
          "Neutral",
          "positive",
          "weakly positive",
          "weakly positive",
          "weakly positive",
          "Neutral",
          "Neutral",
          "Neutral",
          "weakly positive",
          "weakly positive",
          "Neutral",
          "positive",
          "Neutral",
          "weakly positive",
          "weakly positive",
          "weakly positive",
          "weakly negative",
          "Neutral",
          "Neutral",
          "weakly positive",
          "weakly positive",
          "weakly positive",
          "weakly negative",
          "Neutral",
          "Neutral",
          "Neutral",
          "Neutral",
          "weakly negative",
          "positive",
          "weakly negative",
          "weakly positive",
          "Neutral",
          "weakly positive",
          "Neutral",
          "positive",
          "Neutral",
          "positive",
          "weakly positive",
          "weakly negative",
          "weakly positive",
          "Neutral",
          "weakly positive",
          "weakly positive",
          "positive",
          "positive",
          "weakly negative",
          "weakly positive",
          "Neutral",
          "weakly negative",
          "weakly positive",
          "weakly positive",
          "Neutral",
          "Neutral",
          "weakly negative",
          "Neutral",
          "Neutral",
          "Neutral",
          "Neutral",
          "Neutral",
          "weakly negative",
          "weakly negative",
          "weakly negative",
          "weakly positive",
          "Neutral",
          "Neutral",
          "weakly negative",
          "weakly positive",
          "Neutral",
          "weakly negative",
          "weakly positive",
          "weakly negative",
          "Neutral",
          "weakly negative",
          "weakly negative",
          "weakly positive",
          "weakly positive",
          "Neutral",
          "weakly positive",
          "weakly positive",
          "weakly positive",
          "Neutral",
          "positive",
          "weakly positive",
          "positive",
          "Neutral",
          "Neutral",
          "weakly negative",
          "Neutral",
          "weakly positive",
          "weakly negative",
          "Neutral",
          "weakly negative",
          "weakly negative",
          "weakly negative",
          "positive",
          "weakly positive",
          "weakly positive",
          "Neutral",
          "weakly negative",
          "weakly positive",
          "weakly positive",
          "weakly positive",
          "Neutral",
          "Neutral",
          "Neutral",
          "Neutral",
          "weakly negative",
          "Neutral",
          "weakly positive",
          "Neutral",
          "weakly negative",
          "weakly positive",
          "weakly positive",
          "weakly negative",
          "Neutral",
          "Neutral",
          "weakly negative",
          "weakly negative",
          "Neutral",
          "Neutral",
          "Neutral",
          "Neutral",
          "positive",
          "weakly negative",
          "Neutral",
          "Neutral",
          "positive",
          "weakly negative",
          "weakly positive",
          "weakly negative",
          "Neutral",
          "Neutral",
          "Neutral",
          "weakly negative",
          "weakly positive",
          "weakly positive",
          "Neutral",
          "weakly positive",
          "weakly positive",
          "Neutral",
          "positive",
          "weakly positive",
          "weakly positive",
          "weakly positive",
          "weakly positive",
          "weakly positive",
          "weakly positive",
          "weakly positive",
          "Neutral",
          "Neutral",
          "weakly negative",
          "Neutral",
          "weakly negative",
          "Neutral",
          "Neutral",
          "Neutral",
          "Neutral",
          "Neutral",
          "Neutral",
          "weakly negative",
          "weakly positive",
          "negative",
          "Neutral",
          "weakly negative",
          "positive",
          "weakly negative",
          "Neutral",
          "weakly negative",
          "weakly positive",
          "weakly negative",
          "weakly positive",
          "Neutral",
          "Neutral",
          "positive",
          "Neutral",
          "Neutral",
          "Neutral",
          "weakly positive",
          "weakly positive",
          "weakly positive",
          "weakly positive",
          "weakly positive",
          "weakly positive",
          "Neutral",
          "Neutral",
          "weakly negative",
          "Neutral",
          "weakly negative",
          "weakly negative",
          "weakly positive",
          "Neutral",
          "Neutral",
          "weakly positive",
          "weakly positive",
          "weakly negative",
          "Neutral",
          "weakly positive",
          "positive",
          "weakly positive",
          "Neutral",
          "weakly positive",
          "weakly negative",
          "weakly negative",
          "weakly positive",
          "weakly negative",
          "positive",
          "Neutral",
          "weakly negative",
          "weakly positive",
          "weakly positive",
          "weakly positive",
          "weakly positive",
          "weakly positive",
          "Neutral",
          "weakly positive",
          "Neutral",
          "weakly negative",
          "Neutral",
          "weakly negative",
          "weakly negative",
          "Neutral",
          "Neutral",
          "Neutral",
          "Neutral",
          "Neutral",
          "weakly negative",
          "Neutral",
          "negative",
          "weakly negative",
          "weakly positive",
          "Neutral",
          "weakly negative",
          "weakly negative",
          "weakly negative",
          "Neutral",
          "weakly negative",
          "Neutral",
          "Neutral",
          "weakly positive",
          "positive",
          "Neutral",
          "Neutral",
          "weakly negative",
          "weakly positive",
          "Neutral",
          "weakly positive",
          "weakly positive",
          "Neutral",
          "weakly negative",
          "weakly positive",
          "weakly positive",
          "weakly positive",
          "weakly positive",
          "Neutral",
          "Neutral",
          "weakly positive",
          "weakly positive",
          "weakly positive",
          "weakly positive",
          "positive",
          "weakly positive",
          "positive",
          "Neutral",
          "Neutral",
          "Neutral",
          "Neutral",
          "weakly negative",
          "weakly positive",
          "Neutral",
          "positive",
          "very positive",
          "Neutral",
          "weakly positive",
          "weakly negative",
          "positive",
          "weakly negative",
          "weakly positive",
          "Neutral",
          "Neutral",
          "weakly positive",
          "Neutral",
          "weakly negative",
          "Neutral",
          "Neutral",
          "positive",
          "Neutral",
          "Neutral",
          "weakly positive",
          "Neutral",
          "weakly negative",
          "weakly positive",
          "weakly positive",
          "Neutral",
          "weakly positive",
          "Neutral",
          "Neutral",
          "weakly positive",
          "weakly positive",
          "Neutral",
          "weakly positive",
          "Neutral",
          "weakly negative",
          "weakly positive",
          "weakly positive",
          "weakly positive",
          "positive",
          "positive",
          "weakly positive",
          "weakly positive",
          "weakly positive",
          "weakly negative",
          "positive",
          "Neutral",
          "weakly positive",
          "Neutral",
          "weakly positive",
          "weakly positive",
          "weakly positive",
          "Neutral",
          "weakly positive",
          "Neutral",
          "Neutral",
          "Neutral",
          "weakly positive",
          "positive",
          "weakly negative",
          "Neutral",
          "weakly positive",
          "weakly positive",
          "weakly positive",
          "negative",
          "Neutral",
          "weakly positive",
          "weakly positive",
          "Neutral",
          "Neutral",
          "positive",
          "weakly positive",
          "Neutral",
          "positive",
          "weakly positive",
          "Neutral",
          "weakly negative",
          "weakly positive",
          "Neutral",
          "weakly negative",
          "weakly positive",
          "Neutral",
          "weakly negative",
          "Neutral",
          "weakly positive",
          "weakly positive",
          "Neutral",
          "Neutral",
          "Neutral",
          "Neutral",
          "weakly positive",
          "weakly negative",
          "Neutral",
          "Neutral",
          "weakly positive",
          "Neutral",
          "Neutral",
          "weakly positive",
          "weakly negative",
          "weakly positive",
          "Neutral",
          "Neutral",
          "Neutral",
          "weakly negative",
          "positive",
          "weakly positive",
          "Neutral",
          "weakly negative",
          "Neutral",
          "Neutral",
          "Neutral",
          "Neutral",
          "Neutral",
          "weakly negative",
          "weakly negative",
          "Neutral",
          "weakly positive",
          "Neutral",
          "Neutral",
          "weakly negative",
          "weakly positive",
          "Neutral",
          "Neutral",
          "Neutral",
          "weakly positive",
          "Neutral",
          "Neutral",
          "Neutral",
          "weakly negative",
          "weakly positive",
          "Neutral",
          "weakly positive",
          "weakly negative",
          "Neutral",
          "Neutral",
          "weakly positive",
          "Neutral",
          "Neutral",
          "weakly negative",
          "Neutral",
          "weakly negative",
          "weakly positive",
          "weakly positive",
          "weakly positive",
          "weakly positive",
          "Neutral",
          "weakly positive",
          "weakly positive",
          "Neutral",
          "Neutral",
          "Neutral",
          "Neutral",
          "very negative",
          "negative",
          "weakly negative",
          "Neutral",
          "weakly positive",
          "positive",
          "very positive"
         ],
         "xaxis": "x4",
         "y": [
          1,
          1,
          1,
          1,
          1,
          1,
          1,
          1,
          1,
          1,
          1,
          1,
          1,
          1,
          1,
          1,
          1,
          1,
          1,
          1,
          1,
          1,
          1,
          1,
          1,
          1,
          1,
          1,
          1,
          1,
          1,
          1,
          1,
          1,
          1,
          1,
          1,
          1,
          1,
          1,
          1,
          1,
          1,
          1,
          1,
          1,
          1,
          1,
          1,
          1,
          1,
          1,
          1,
          1,
          1,
          1,
          1,
          1,
          1,
          1,
          1,
          1,
          1,
          1,
          1,
          1,
          1,
          1,
          1,
          1,
          1,
          1,
          1,
          1,
          1,
          1,
          1,
          1,
          1,
          1,
          1,
          1,
          1,
          1,
          1,
          1,
          1,
          1,
          1,
          1,
          1,
          1,
          1,
          1,
          1,
          1,
          1,
          1,
          1,
          1,
          1,
          1,
          1,
          1,
          1,
          1,
          1,
          1,
          1,
          1,
          1,
          1,
          1,
          1,
          1,
          1,
          1,
          1,
          1,
          1,
          1,
          1,
          1,
          1,
          1,
          1,
          1,
          1,
          1,
          1,
          1,
          1,
          1,
          1,
          1,
          1,
          1,
          1,
          1,
          1,
          1,
          1,
          1,
          1,
          1,
          1,
          1,
          1,
          1,
          1,
          1,
          1,
          1,
          1,
          1,
          1,
          1,
          1,
          1,
          1,
          1,
          1,
          1,
          1,
          1,
          1,
          1,
          1,
          1,
          1,
          1,
          1,
          1,
          1,
          1,
          1,
          1,
          1,
          1,
          1,
          1,
          1,
          1,
          1,
          1,
          1,
          1,
          1,
          1,
          1,
          1,
          1,
          1,
          1,
          1,
          1,
          1,
          1,
          1,
          1,
          1,
          1,
          1,
          1,
          1,
          1,
          1,
          1,
          1,
          1,
          1,
          1,
          1,
          1,
          1,
          1,
          1,
          1,
          1,
          1,
          1,
          1,
          1,
          1,
          1,
          1,
          1,
          1,
          1,
          1,
          1,
          1,
          1,
          1,
          1,
          1,
          1,
          1,
          1,
          1,
          1,
          1,
          1,
          1,
          1,
          1,
          1,
          1,
          1,
          1,
          1,
          1,
          1,
          1,
          1,
          1,
          1,
          1,
          1,
          1,
          1,
          1,
          1,
          1,
          1,
          1,
          1,
          1,
          1,
          1,
          1,
          1,
          1,
          1,
          1,
          1,
          1,
          1,
          1,
          1,
          1,
          1,
          1,
          1,
          1,
          1,
          1,
          1,
          1,
          1,
          1,
          1,
          1,
          1,
          1,
          1,
          1,
          1,
          1,
          1,
          1,
          1,
          1,
          1,
          1,
          1,
          1,
          1,
          1,
          1,
          1,
          1,
          1,
          1,
          1,
          1,
          1,
          1,
          1,
          1,
          1,
          1,
          1,
          1,
          1,
          1,
          1,
          1,
          1,
          1,
          1,
          1,
          1,
          1,
          1,
          1,
          1,
          1,
          1,
          1,
          1,
          1,
          1,
          1,
          1,
          1,
          1,
          1,
          1,
          1,
          1,
          1,
          1,
          1,
          1,
          1,
          1,
          1,
          1,
          1,
          1,
          1,
          1,
          1,
          1,
          1,
          1,
          1,
          1,
          1,
          1,
          1,
          1,
          1,
          1,
          1,
          1,
          1,
          1,
          1,
          1,
          1,
          1,
          1,
          1,
          1,
          1,
          1,
          1,
          1,
          1,
          1,
          1,
          1,
          1,
          1,
          1,
          1,
          1,
          1,
          1,
          1,
          1,
          1,
          1,
          1,
          1,
          1,
          1,
          1,
          1,
          1,
          1,
          1,
          1,
          1,
          1,
          1,
          1,
          1,
          1,
          1,
          1,
          1,
          1,
          1,
          1,
          1,
          1,
          1,
          1,
          1,
          1,
          1,
          1,
          1,
          1,
          1,
          1,
          1,
          1,
          1,
          1,
          1,
          1,
          1,
          1,
          1,
          1,
          1,
          1,
          1,
          1,
          1,
          1,
          1,
          1,
          1,
          1,
          1,
          1,
          1,
          1,
          1,
          1,
          1,
          1,
          1,
          1,
          1,
          1,
          1,
          1,
          1,
          1,
          1,
          1,
          1,
          1,
          1,
          1,
          1,
          1,
          1,
          1,
          1,
          1,
          1,
          1,
          1,
          1,
          1,
          1,
          1,
          1,
          1,
          1,
          1,
          1,
          1,
          1,
          1,
          1,
          1,
          1,
          1,
          1,
          1,
          1,
          1,
          1,
          1,
          1,
          1,
          1,
          1,
          1,
          1,
          1,
          1,
          1,
          1,
          1,
          1,
          1,
          1,
          1,
          1,
          1,
          1,
          1,
          1,
          1,
          1,
          1,
          1,
          1,
          1,
          1,
          1,
          1,
          1,
          1,
          1,
          1,
          1,
          1,
          1,
          1,
          1,
          1,
          1,
          1,
          1,
          1,
          1,
          1,
          1,
          1,
          1,
          1,
          1,
          1,
          1,
          1,
          1,
          1,
          1,
          1,
          1,
          1,
          1,
          1,
          1,
          1,
          1,
          1,
          1,
          1,
          1,
          1,
          1,
          1,
          1,
          1,
          1,
          1,
          1,
          1,
          1,
          1,
          1,
          1,
          1,
          1,
          1,
          1,
          1,
          1,
          1,
          1,
          1,
          1,
          1,
          1,
          1,
          1,
          1,
          1,
          1,
          1,
          1,
          1,
          1,
          1,
          1,
          1,
          1,
          1,
          1,
          1,
          1,
          1,
          1,
          1,
          1,
          1,
          1,
          1,
          1,
          1,
          1,
          1,
          1,
          1,
          1,
          1,
          1,
          1,
          1,
          1,
          1,
          1,
          1,
          1,
          1,
          1,
          1,
          1,
          1,
          1,
          1,
          1,
          1,
          1,
          1,
          1,
          1,
          1,
          1,
          1,
          1,
          1,
          1,
          1,
          1,
          1,
          1,
          1,
          1,
          1,
          1,
          1,
          1,
          1,
          1,
          1,
          1,
          1,
          1,
          1,
          1,
          1,
          1,
          1,
          1,
          1,
          1,
          1,
          1,
          1,
          1,
          1
         ],
         "yaxis": "y4"
        }
       ],
       "layout": {
        "annotations": [
         {
          "font": {
           "size": 16
          },
          "showarrow": false,
          "text": "Text-only",
          "x": 0.225,
          "xanchor": "center",
          "xref": "paper",
          "y": 1,
          "yanchor": "bottom",
          "yref": "paper"
         },
         {
          "font": {
           "size": 16
          },
          "showarrow": false,
          "text": "Acoustic-only",
          "x": 0.775,
          "xanchor": "center",
          "xref": "paper",
          "y": 1,
          "yanchor": "bottom",
          "yref": "paper"
         },
         {
          "font": {
           "size": 16
          },
          "showarrow": false,
          "text": "Visual-only",
          "x": 0.225,
          "xanchor": "center",
          "xref": "paper",
          "y": 0.375,
          "yanchor": "bottom",
          "yref": "paper"
         },
         {
          "font": {
           "size": 16
          },
          "showarrow": false,
          "text": "TFN-fusion",
          "x": 0.775,
          "xanchor": "center",
          "xref": "paper",
          "y": 0.375,
          "yanchor": "bottom",
          "yref": "paper"
         }
        ],
        "height": 800,
        "template": {
         "data": {
          "bar": [
           {
            "error_x": {
             "color": "#2a3f5f"
            },
            "error_y": {
             "color": "#2a3f5f"
            },
            "marker": {
             "line": {
              "color": "#E5ECF6",
              "width": 0.5
             },
             "pattern": {
              "fillmode": "overlay",
              "size": 10,
              "solidity": 0.2
             }
            },
            "type": "bar"
           }
          ],
          "barpolar": [
           {
            "marker": {
             "line": {
              "color": "#E5ECF6",
              "width": 0.5
             },
             "pattern": {
              "fillmode": "overlay",
              "size": 10,
              "solidity": 0.2
             }
            },
            "type": "barpolar"
           }
          ],
          "carpet": [
           {
            "aaxis": {
             "endlinecolor": "#2a3f5f",
             "gridcolor": "white",
             "linecolor": "white",
             "minorgridcolor": "white",
             "startlinecolor": "#2a3f5f"
            },
            "baxis": {
             "endlinecolor": "#2a3f5f",
             "gridcolor": "white",
             "linecolor": "white",
             "minorgridcolor": "white",
             "startlinecolor": "#2a3f5f"
            },
            "type": "carpet"
           }
          ],
          "choropleth": [
           {
            "colorbar": {
             "outlinewidth": 0,
             "ticks": ""
            },
            "type": "choropleth"
           }
          ],
          "contour": [
           {
            "colorbar": {
             "outlinewidth": 0,
             "ticks": ""
            },
            "colorscale": [
             [
              0,
              "#0d0887"
             ],
             [
              0.1111111111111111,
              "#46039f"
             ],
             [
              0.2222222222222222,
              "#7201a8"
             ],
             [
              0.3333333333333333,
              "#9c179e"
             ],
             [
              0.4444444444444444,
              "#bd3786"
             ],
             [
              0.5555555555555556,
              "#d8576b"
             ],
             [
              0.6666666666666666,
              "#ed7953"
             ],
             [
              0.7777777777777778,
              "#fb9f3a"
             ],
             [
              0.8888888888888888,
              "#fdca26"
             ],
             [
              1,
              "#f0f921"
             ]
            ],
            "type": "contour"
           }
          ],
          "contourcarpet": [
           {
            "colorbar": {
             "outlinewidth": 0,
             "ticks": ""
            },
            "type": "contourcarpet"
           }
          ],
          "heatmap": [
           {
            "colorbar": {
             "outlinewidth": 0,
             "ticks": ""
            },
            "colorscale": [
             [
              0,
              "#0d0887"
             ],
             [
              0.1111111111111111,
              "#46039f"
             ],
             [
              0.2222222222222222,
              "#7201a8"
             ],
             [
              0.3333333333333333,
              "#9c179e"
             ],
             [
              0.4444444444444444,
              "#bd3786"
             ],
             [
              0.5555555555555556,
              "#d8576b"
             ],
             [
              0.6666666666666666,
              "#ed7953"
             ],
             [
              0.7777777777777778,
              "#fb9f3a"
             ],
             [
              0.8888888888888888,
              "#fdca26"
             ],
             [
              1,
              "#f0f921"
             ]
            ],
            "type": "heatmap"
           }
          ],
          "heatmapgl": [
           {
            "colorbar": {
             "outlinewidth": 0,
             "ticks": ""
            },
            "colorscale": [
             [
              0,
              "#0d0887"
             ],
             [
              0.1111111111111111,
              "#46039f"
             ],
             [
              0.2222222222222222,
              "#7201a8"
             ],
             [
              0.3333333333333333,
              "#9c179e"
             ],
             [
              0.4444444444444444,
              "#bd3786"
             ],
             [
              0.5555555555555556,
              "#d8576b"
             ],
             [
              0.6666666666666666,
              "#ed7953"
             ],
             [
              0.7777777777777778,
              "#fb9f3a"
             ],
             [
              0.8888888888888888,
              "#fdca26"
             ],
             [
              1,
              "#f0f921"
             ]
            ],
            "type": "heatmapgl"
           }
          ],
          "histogram": [
           {
            "marker": {
             "pattern": {
              "fillmode": "overlay",
              "size": 10,
              "solidity": 0.2
             }
            },
            "type": "histogram"
           }
          ],
          "histogram2d": [
           {
            "colorbar": {
             "outlinewidth": 0,
             "ticks": ""
            },
            "colorscale": [
             [
              0,
              "#0d0887"
             ],
             [
              0.1111111111111111,
              "#46039f"
             ],
             [
              0.2222222222222222,
              "#7201a8"
             ],
             [
              0.3333333333333333,
              "#9c179e"
             ],
             [
              0.4444444444444444,
              "#bd3786"
             ],
             [
              0.5555555555555556,
              "#d8576b"
             ],
             [
              0.6666666666666666,
              "#ed7953"
             ],
             [
              0.7777777777777778,
              "#fb9f3a"
             ],
             [
              0.8888888888888888,
              "#fdca26"
             ],
             [
              1,
              "#f0f921"
             ]
            ],
            "type": "histogram2d"
           }
          ],
          "histogram2dcontour": [
           {
            "colorbar": {
             "outlinewidth": 0,
             "ticks": ""
            },
            "colorscale": [
             [
              0,
              "#0d0887"
             ],
             [
              0.1111111111111111,
              "#46039f"
             ],
             [
              0.2222222222222222,
              "#7201a8"
             ],
             [
              0.3333333333333333,
              "#9c179e"
             ],
             [
              0.4444444444444444,
              "#bd3786"
             ],
             [
              0.5555555555555556,
              "#d8576b"
             ],
             [
              0.6666666666666666,
              "#ed7953"
             ],
             [
              0.7777777777777778,
              "#fb9f3a"
             ],
             [
              0.8888888888888888,
              "#fdca26"
             ],
             [
              1,
              "#f0f921"
             ]
            ],
            "type": "histogram2dcontour"
           }
          ],
          "mesh3d": [
           {
            "colorbar": {
             "outlinewidth": 0,
             "ticks": ""
            },
            "type": "mesh3d"
           }
          ],
          "parcoords": [
           {
            "line": {
             "colorbar": {
              "outlinewidth": 0,
              "ticks": ""
             }
            },
            "type": "parcoords"
           }
          ],
          "pie": [
           {
            "automargin": true,
            "type": "pie"
           }
          ],
          "scatter": [
           {
            "fillpattern": {
             "fillmode": "overlay",
             "size": 10,
             "solidity": 0.2
            },
            "type": "scatter"
           }
          ],
          "scatter3d": [
           {
            "line": {
             "colorbar": {
              "outlinewidth": 0,
              "ticks": ""
             }
            },
            "marker": {
             "colorbar": {
              "outlinewidth": 0,
              "ticks": ""
             }
            },
            "type": "scatter3d"
           }
          ],
          "scattercarpet": [
           {
            "marker": {
             "colorbar": {
              "outlinewidth": 0,
              "ticks": ""
             }
            },
            "type": "scattercarpet"
           }
          ],
          "scattergeo": [
           {
            "marker": {
             "colorbar": {
              "outlinewidth": 0,
              "ticks": ""
             }
            },
            "type": "scattergeo"
           }
          ],
          "scattergl": [
           {
            "marker": {
             "colorbar": {
              "outlinewidth": 0,
              "ticks": ""
             }
            },
            "type": "scattergl"
           }
          ],
          "scattermapbox": [
           {
            "marker": {
             "colorbar": {
              "outlinewidth": 0,
              "ticks": ""
             }
            },
            "type": "scattermapbox"
           }
          ],
          "scatterpolar": [
           {
            "marker": {
             "colorbar": {
              "outlinewidth": 0,
              "ticks": ""
             }
            },
            "type": "scatterpolar"
           }
          ],
          "scatterpolargl": [
           {
            "marker": {
             "colorbar": {
              "outlinewidth": 0,
              "ticks": ""
             }
            },
            "type": "scatterpolargl"
           }
          ],
          "scatterternary": [
           {
            "marker": {
             "colorbar": {
              "outlinewidth": 0,
              "ticks": ""
             }
            },
            "type": "scatterternary"
           }
          ],
          "surface": [
           {
            "colorbar": {
             "outlinewidth": 0,
             "ticks": ""
            },
            "colorscale": [
             [
              0,
              "#0d0887"
             ],
             [
              0.1111111111111111,
              "#46039f"
             ],
             [
              0.2222222222222222,
              "#7201a8"
             ],
             [
              0.3333333333333333,
              "#9c179e"
             ],
             [
              0.4444444444444444,
              "#bd3786"
             ],
             [
              0.5555555555555556,
              "#d8576b"
             ],
             [
              0.6666666666666666,
              "#ed7953"
             ],
             [
              0.7777777777777778,
              "#fb9f3a"
             ],
             [
              0.8888888888888888,
              "#fdca26"
             ],
             [
              1,
              "#f0f921"
             ]
            ],
            "type": "surface"
           }
          ],
          "table": [
           {
            "cells": {
             "fill": {
              "color": "#EBF0F8"
             },
             "line": {
              "color": "white"
             }
            },
            "header": {
             "fill": {
              "color": "#C8D4E3"
             },
             "line": {
              "color": "white"
             }
            },
            "type": "table"
           }
          ]
         },
         "layout": {
          "annotationdefaults": {
           "arrowcolor": "#2a3f5f",
           "arrowhead": 0,
           "arrowwidth": 1
          },
          "autotypenumbers": "strict",
          "coloraxis": {
           "colorbar": {
            "outlinewidth": 0,
            "ticks": ""
           }
          },
          "colorscale": {
           "diverging": [
            [
             0,
             "#8e0152"
            ],
            [
             0.1,
             "#c51b7d"
            ],
            [
             0.2,
             "#de77ae"
            ],
            [
             0.3,
             "#f1b6da"
            ],
            [
             0.4,
             "#fde0ef"
            ],
            [
             0.5,
             "#f7f7f7"
            ],
            [
             0.6,
             "#e6f5d0"
            ],
            [
             0.7,
             "#b8e186"
            ],
            [
             0.8,
             "#7fbc41"
            ],
            [
             0.9,
             "#4d9221"
            ],
            [
             1,
             "#276419"
            ]
           ],
           "sequential": [
            [
             0,
             "#0d0887"
            ],
            [
             0.1111111111111111,
             "#46039f"
            ],
            [
             0.2222222222222222,
             "#7201a8"
            ],
            [
             0.3333333333333333,
             "#9c179e"
            ],
            [
             0.4444444444444444,
             "#bd3786"
            ],
            [
             0.5555555555555556,
             "#d8576b"
            ],
            [
             0.6666666666666666,
             "#ed7953"
            ],
            [
             0.7777777777777778,
             "#fb9f3a"
            ],
            [
             0.8888888888888888,
             "#fdca26"
            ],
            [
             1,
             "#f0f921"
            ]
           ],
           "sequentialminus": [
            [
             0,
             "#0d0887"
            ],
            [
             0.1111111111111111,
             "#46039f"
            ],
            [
             0.2222222222222222,
             "#7201a8"
            ],
            [
             0.3333333333333333,
             "#9c179e"
            ],
            [
             0.4444444444444444,
             "#bd3786"
            ],
            [
             0.5555555555555556,
             "#d8576b"
            ],
            [
             0.6666666666666666,
             "#ed7953"
            ],
            [
             0.7777777777777778,
             "#fb9f3a"
            ],
            [
             0.8888888888888888,
             "#fdca26"
            ],
            [
             1,
             "#f0f921"
            ]
           ]
          },
          "colorway": [
           "#636efa",
           "#EF553B",
           "#00cc96",
           "#ab63fa",
           "#FFA15A",
           "#19d3f3",
           "#FF6692",
           "#B6E880",
           "#FF97FF",
           "#FECB52"
          ],
          "font": {
           "color": "#2a3f5f"
          },
          "geo": {
           "bgcolor": "white",
           "lakecolor": "white",
           "landcolor": "#E5ECF6",
           "showlakes": true,
           "showland": true,
           "subunitcolor": "white"
          },
          "hoverlabel": {
           "align": "left"
          },
          "hovermode": "closest",
          "mapbox": {
           "style": "light"
          },
          "paper_bgcolor": "white",
          "plot_bgcolor": "#E5ECF6",
          "polar": {
           "angularaxis": {
            "gridcolor": "white",
            "linecolor": "white",
            "ticks": ""
           },
           "bgcolor": "#E5ECF6",
           "radialaxis": {
            "gridcolor": "white",
            "linecolor": "white",
            "ticks": ""
           }
          },
          "scene": {
           "xaxis": {
            "backgroundcolor": "#E5ECF6",
            "gridcolor": "white",
            "gridwidth": 2,
            "linecolor": "white",
            "showbackground": true,
            "ticks": "",
            "zerolinecolor": "white"
           },
           "yaxis": {
            "backgroundcolor": "#E5ECF6",
            "gridcolor": "white",
            "gridwidth": 2,
            "linecolor": "white",
            "showbackground": true,
            "ticks": "",
            "zerolinecolor": "white"
           },
           "zaxis": {
            "backgroundcolor": "#E5ECF6",
            "gridcolor": "white",
            "gridwidth": 2,
            "linecolor": "white",
            "showbackground": true,
            "ticks": "",
            "zerolinecolor": "white"
           }
          },
          "shapedefaults": {
           "line": {
            "color": "#2a3f5f"
           }
          },
          "ternary": {
           "aaxis": {
            "gridcolor": "white",
            "linecolor": "white",
            "ticks": ""
           },
           "baxis": {
            "gridcolor": "white",
            "linecolor": "white",
            "ticks": ""
           },
           "bgcolor": "#E5ECF6",
           "caxis": {
            "gridcolor": "white",
            "linecolor": "white",
            "ticks": ""
           }
          },
          "title": {
           "x": 0.05
          },
          "xaxis": {
           "automargin": true,
           "gridcolor": "white",
           "linecolor": "white",
           "ticks": "",
           "title": {
            "standoff": 15
           },
           "zerolinecolor": "white",
           "zerolinewidth": 2
          },
          "yaxis": {
           "automargin": true,
           "gridcolor": "white",
           "linecolor": "white",
           "ticks": "",
           "title": {
            "standoff": 15
           },
           "zerolinecolor": "white",
           "zerolinewidth": 2
          }
         }
        },
        "title": {
         "text": "Unimodal results distribution"
        },
        "width": 1200,
        "xaxis": {
         "anchor": "y",
         "categoryarray": [
          "very negative",
          "negative",
          "weakly negative",
          "Neutral",
          "weakly positive",
          "positive",
          "very positive"
         ],
         "categoryorder": "array",
         "domain": [
          0,
          0.45
         ]
        },
        "xaxis2": {
         "anchor": "y2",
         "categoryarray": [
          "very negative",
          "negative",
          "weakly negative",
          "Neutral",
          "weakly positive",
          "positive",
          "very positive"
         ],
         "categoryorder": "array",
         "domain": [
          0.55,
          1
         ]
        },
        "xaxis3": {
         "anchor": "y3",
         "categoryarray": [
          "very negative",
          "negative",
          "weakly negative",
          "Neutral",
          "weakly positive",
          "positive",
          "very positive"
         ],
         "categoryorder": "array",
         "domain": [
          0,
          0.45
         ]
        },
        "xaxis4": {
         "anchor": "y4",
         "categoryarray": [
          "very negative",
          "negative",
          "weakly negative",
          "Neutral",
          "weakly positive",
          "positive",
          "very positive"
         ],
         "categoryorder": "array",
         "domain": [
          0.55,
          1
         ]
        },
        "yaxis": {
         "anchor": "x",
         "domain": [
          0.625,
          1
         ],
         "range": [
          0,
          500
         ]
        },
        "yaxis2": {
         "anchor": "x2",
         "domain": [
          0.625,
          1
         ],
         "range": [
          0,
          500
         ]
        },
        "yaxis3": {
         "anchor": "x3",
         "domain": [
          0,
          0.375
         ],
         "range": [
          0,
          500
         ]
        },
        "yaxis4": {
         "anchor": "x4",
         "domain": [
          0,
          0.375
         ],
         "range": [
          0,
          500
         ]
        }
       }
      },
      "text/html": [
       "<div>                            <div id=\"6c4be9b6-9669-4fe7-bc3f-ce5c1fdb160a\" class=\"plotly-graph-div\" style=\"height:800px; width:1200px;\"></div>            <script type=\"text/javascript\">                require([\"plotly\"], function(Plotly) {                    window.PLOTLYENV=window.PLOTLYENV || {};                                    if (document.getElementById(\"6c4be9b6-9669-4fe7-bc3f-ce5c1fdb160a\")) {                    Plotly.newPlot(                        \"6c4be9b6-9669-4fe7-bc3f-ce5c1fdb160a\",                        [{\"alignmentgroup\":\"True\",\"hovertemplate\":\"text_7=%{x}<br>count=%{y}<extra></extra>\",\"legendgroup\":\"\",\"marker\":{\"color\":\"#636efa\",\"pattern\":{\"shape\":\"\"}},\"name\":\"\",\"offsetgroup\":\"\",\"orientation\":\"v\",\"showlegend\":false,\"textposition\":\"auto\",\"x\":[\"weakly positive\",\"weakly positive\",\"Neutral\",\"weakly positive\",\"Neutral\",\"Neutral\",\"Neutral\",\"Neutral\",\"Neutral\",\"weakly positive\",\"weakly positive\",\"weakly negative\",\"weakly negative\",\"Neutral\",\"Neutral\",\"Neutral\",\"Neutral\",\"Neutral\",\"Neutral\",\"weakly positive\",\"Neutral\",\"Neutral\",\"weakly positive\",\"Neutral\",\"weakly positive\",\"Neutral\",\"weakly positive\",\"Neutral\",\"weakly negative\",\"Neutral\",\"Neutral\",\"Neutral\",\"weakly positive\",\"weakly positive\",\"Neutral\",\"weakly positive\",\"Neutral\",\"Neutral\",\"weakly positive\",\"weakly negative\",\"Neutral\",\"Neutral\",\"weakly positive\",\"Neutral\",\"weakly positive\",\"Neutral\",\"weakly negative\",\"Neutral\",\"weakly negative\",\"positive\",\"weakly positive\",\"weakly negative\",\"weakly negative\",\"Neutral\",\"weakly negative\",\"Neutral\",\"Neutral\",\"weakly positive\",\"Neutral\",\"positive\",\"Neutral\",\"weakly positive\",\"Neutral\",\"weakly positive\",\"weakly negative\",\"Neutral\",\"weakly negative\",\"Neutral\",\"weakly negative\",\"Neutral\",\"Neutral\",\"Neutral\",\"weakly negative\",\"Neutral\",\"Neutral\",\"Neutral\",\"Neutral\",\"weakly negative\",\"weakly negative\",\"weakly positive\",\"Neutral\",\"weakly negative\",\"Neutral\",\"weakly positive\",\"Neutral\",\"weakly positive\",\"Neutral\",\"weakly positive\",\"weakly negative\",\"weakly positive\",\"Neutral\",\"Neutral\",\"Neutral\",\"Neutral\",\"Neutral\",\"weakly positive\",\"weakly positive\",\"Neutral\",\"Neutral\",\"Neutral\",\"weakly negative\",\"Neutral\",\"weakly positive\",\"Neutral\",\"Neutral\",\"Neutral\",\"weakly negative\",\"weakly positive\",\"weakly positive\",\"weakly positive\",\"positive\",\"Neutral\",\"weakly positive\",\"Neutral\",\"Neutral\",\"weakly positive\",\"weakly negative\",\"weakly positive\",\"positive\",\"Neutral\",\"weakly positive\",\"weakly positive\",\"Neutral\",\"weakly positive\",\"Neutral\",\"weakly positive\",\"weakly negative\",\"weakly positive\",\"Neutral\",\"Neutral\",\"Neutral\",\"weakly negative\",\"weakly negative\",\"weakly negative\",\"Neutral\",\"weakly negative\",\"Neutral\",\"Neutral\",\"Neutral\",\"Neutral\",\"Neutral\",\"Neutral\",\"weakly positive\",\"weakly positive\",\"weakly positive\",\"Neutral\",\"Neutral\",\"weakly positive\",\"Neutral\",\"Neutral\",\"Neutral\",\"weakly negative\",\"Neutral\",\"weakly positive\",\"weakly positive\",\"Neutral\",\"Neutral\",\"Neutral\",\"Neutral\",\"weakly positive\",\"Neutral\",\"Neutral\",\"weakly negative\",\"Neutral\",\"Neutral\",\"Neutral\",\"weakly positive\",\"weakly positive\",\"Neutral\",\"weakly positive\",\"Neutral\",\"Neutral\",\"Neutral\",\"Neutral\",\"weakly negative\",\"weakly negative\",\"Neutral\",\"weakly positive\",\"Neutral\",\"Neutral\",\"positive\",\"weakly negative\",\"Neutral\",\"Neutral\",\"Neutral\",\"Neutral\",\"Neutral\",\"weakly positive\",\"Neutral\",\"Neutral\",\"Neutral\",\"Neutral\",\"weakly positive\",\"Neutral\",\"weakly negative\",\"weakly negative\",\"Neutral\",\"weakly positive\",\"Neutral\",\"weakly negative\",\"weakly positive\",\"Neutral\",\"weakly positive\",\"Neutral\",\"weakly positive\",\"Neutral\",\"Neutral\",\"weakly negative\",\"weakly negative\",\"Neutral\",\"Neutral\",\"weakly negative\",\"weakly negative\",\"Neutral\",\"weakly positive\",\"weakly negative\",\"Neutral\",\"Neutral\",\"weakly positive\",\"Neutral\",\"weakly negative\",\"Neutral\",\"positive\",\"Neutral\",\"Neutral\",\"Neutral\",\"Neutral\",\"Neutral\",\"Neutral\",\"Neutral\",\"Neutral\",\"Neutral\",\"Neutral\",\"weakly negative\",\"Neutral\",\"Neutral\",\"Neutral\",\"Neutral\",\"weakly positive\",\"Neutral\",\"weakly negative\",\"weakly negative\",\"Neutral\",\"Neutral\",\"weakly positive\",\"weakly negative\",\"Neutral\",\"Neutral\",\"Neutral\",\"Neutral\",\"weakly positive\",\"weakly positive\",\"Neutral\",\"weakly positive\",\"Neutral\",\"Neutral\",\"weakly negative\",\"Neutral\",\"Neutral\",\"weakly negative\",\"weakly positive\",\"Neutral\",\"Neutral\",\"Neutral\",\"weakly negative\",\"Neutral\",\"Neutral\",\"Neutral\",\"Neutral\",\"Neutral\",\"Neutral\",\"Neutral\",\"Neutral\",\"Neutral\",\"Neutral\",\"weakly positive\",\"Neutral\",\"Neutral\",\"Neutral\",\"weakly positive\",\"weakly negative\",\"Neutral\",\"weakly positive\",\"weakly positive\",\"Neutral\",\"Neutral\",\"Neutral\",\"Neutral\",\"Neutral\",\"Neutral\",\"Neutral\",\"Neutral\",\"Neutral\",\"Neutral\",\"Neutral\",\"weakly negative\",\"weakly positive\",\"weakly positive\",\"positive\",\"Neutral\",\"weakly positive\",\"weakly positive\",\"Neutral\",\"Neutral\",\"weakly positive\",\"Neutral\",\"weakly negative\",\"weakly positive\",\"Neutral\",\"weakly positive\",\"Neutral\",\"Neutral\",\"weakly positive\",\"Neutral\",\"Neutral\",\"weakly negative\",\"Neutral\",\"Neutral\",\"Neutral\",\"Neutral\",\"Neutral\",\"Neutral\",\"Neutral\",\"weakly negative\",\"Neutral\",\"Neutral\",\"weakly negative\",\"Neutral\",\"Neutral\",\"Neutral\",\"weakly negative\",\"weakly positive\",\"Neutral\",\"Neutral\",\"weakly negative\",\"weakly negative\",\"weakly negative\",\"weakly positive\",\"weakly negative\",\"Neutral\",\"weakly negative\",\"weakly negative\",\"Neutral\",\"Neutral\",\"weakly positive\",\"weakly positive\",\"weakly positive\",\"weakly positive\",\"Neutral\",\"weakly positive\",\"Neutral\",\"weakly positive\",\"weakly positive\",\"weakly negative\",\"Neutral\",\"Neutral\",\"Neutral\",\"weakly negative\",\"Neutral\",\"Neutral\",\"Neutral\",\"Neutral\",\"weakly positive\",\"Neutral\",\"weakly positive\",\"weakly positive\",\"weakly negative\",\"Neutral\",\"Neutral\",\"Neutral\",\"Neutral\",\"weakly negative\",\"Neutral\",\"weakly positive\",\"Neutral\",\"Neutral\",\"weakly negative\",\"Neutral\",\"weakly negative\",\"Neutral\",\"Neutral\",\"weakly negative\",\"Neutral\",\"Neutral\",\"Neutral\",\"Neutral\",\"Neutral\",\"weakly negative\",\"Neutral\",\"Neutral\",\"positive\",\"Neutral\",\"weakly negative\",\"weakly negative\",\"Neutral\",\"Neutral\",\"Neutral\",\"Neutral\",\"Neutral\",\"weakly negative\",\"weakly positive\",\"weakly negative\",\"Neutral\",\"Neutral\",\"Neutral\",\"weakly negative\",\"weakly positive\",\"Neutral\",\"weakly positive\",\"Neutral\",\"weakly positive\",\"Neutral\",\"Neutral\",\"Neutral\",\"weakly positive\",\"weakly positive\",\"Neutral\",\"weakly positive\",\"Neutral\",\"Neutral\",\"weakly negative\",\"weakly negative\",\"Neutral\",\"weakly negative\",\"Neutral\",\"weakly negative\",\"weakly negative\",\"weakly negative\",\"Neutral\",\"weakly negative\",\"weakly negative\",\"weakly negative\",\"weakly positive\",\"weakly negative\",\"Neutral\",\"Neutral\",\"weakly positive\",\"Neutral\",\"Neutral\",\"Neutral\",\"Neutral\",\"Neutral\",\"weakly negative\",\"weakly positive\",\"weakly positive\",\"Neutral\",\"Neutral\",\"Neutral\",\"Neutral\",\"weakly positive\",\"weakly positive\",\"Neutral\",\"Neutral\",\"Neutral\",\"Neutral\",\"Neutral\",\"Neutral\",\"weakly positive\",\"Neutral\",\"Neutral\",\"Neutral\",\"Neutral\",\"weakly negative\",\"Neutral\",\"weakly positive\",\"weakly positive\",\"weakly negative\",\"Neutral\",\"weakly positive\",\"Neutral\",\"weakly negative\",\"weakly positive\",\"Neutral\",\"positive\",\"Neutral\",\"Neutral\",\"Neutral\",\"Neutral\",\"weakly positive\",\"weakly positive\",\"Neutral\",\"Neutral\",\"Neutral\",\"weakly positive\",\"Neutral\",\"Neutral\",\"Neutral\",\"weakly negative\",\"weakly positive\",\"weakly negative\",\"weakly negative\",\"weakly positive\",\"Neutral\",\"Neutral\",\"Neutral\",\"Neutral\",\"weakly negative\",\"Neutral\",\"Neutral\",\"Neutral\",\"weakly positive\",\"Neutral\",\"weakly positive\",\"Neutral\",\"Neutral\",\"Neutral\",\"Neutral\",\"weakly positive\",\"Neutral\",\"Neutral\",\"Neutral\",\"weakly positive\",\"weakly positive\",\"Neutral\",\"Neutral\",\"Neutral\",\"Neutral\",\"Neutral\",\"weakly positive\",\"Neutral\",\"Neutral\",\"Neutral\",\"weakly negative\",\"Neutral\",\"Neutral\",\"weakly positive\",\"weakly positive\",\"Neutral\",\"Neutral\",\"weakly negative\",\"weakly positive\",\"Neutral\",\"Neutral\",\"weakly positive\",\"Neutral\",\"Neutral\",\"weakly negative\",\"Neutral\",\"weakly positive\",\"Neutral\",\"Neutral\",\"Neutral\",\"weakly positive\",\"Neutral\",\"Neutral\",\"Neutral\",\"Neutral\",\"Neutral\",\"weakly negative\",\"Neutral\",\"weakly negative\",\"Neutral\",\"weakly positive\",\"Neutral\",\"Neutral\",\"weakly positive\",\"Neutral\",\"Neutral\",\"weakly positive\",\"Neutral\",\"Neutral\",\"weakly positive\",\"Neutral\",\"weakly negative\",\"Neutral\",\"Neutral\",\"Neutral\",\"Neutral\",\"Neutral\",\"Neutral\",\"weakly positive\",\"Neutral\",\"weakly positive\",\"weakly positive\",\"weakly positive\",\"weakly positive\",\"Neutral\",\"Neutral\",\"weakly negative\",\"Neutral\",\"Neutral\",\"Neutral\",\"Neutral\",\"Neutral\",\"weakly positive\",\"weakly positive\",\"weakly negative\",\"Neutral\",\"Neutral\",\"Neutral\",\"weakly negative\",\"Neutral\",\"weakly positive\",\"weakly negative\",\"Neutral\",\"Neutral\",\"Neutral\",\"Neutral\",\"Neutral\",\"weakly negative\",\"weakly positive\",\"weakly positive\",\"Neutral\",\"weakly negative\",\"weakly positive\",\"weakly positive\",\"Neutral\",\"positive\",\"weakly positive\",\"Neutral\",\"Neutral\",\"Neutral\",\"Neutral\",\"Neutral\",\"Neutral\",\"weakly positive\",\"weakly negative\",\"Neutral\",\"Neutral\",\"Neutral\",\"Neutral\",\"weakly negative\",\"Neutral\",\"Neutral\",\"weakly positive\",\"weakly negative\",\"Neutral\",\"Neutral\",\"Neutral\",\"weakly negative\",\"Neutral\",\"weakly negative\",\"Neutral\",\"Neutral\",\"Neutral\",\"Neutral\",\"weakly negative\",\"Neutral\",\"weakly positive\",\"weakly positive\",\"Neutral\",\"Neutral\",\"Neutral\",\"weakly negative\",\"Neutral\",\"weakly negative\",\"Neutral\",\"Neutral\",\"weakly positive\",\"Neutral\",\"weakly negative\",\"Neutral\",\"Neutral\",\"Neutral\",\"weakly positive\",\"Neutral\",\"weakly negative\",\"weakly negative\",\"weakly positive\",\"Neutral\",\"Neutral\",\"weakly positive\",\"weakly negative\",\"Neutral\",\"Neutral\",\"weakly positive\",\"Neutral\",\"weakly positive\",\"Neutral\",\"Neutral\",\"weakly positive\",\"weakly negative\",\"weakly negative\",\"Neutral\",\"weakly negative\",\"Neutral\",\"weakly positive\",\"Neutral\",\"Neutral\",\"Neutral\",\"Neutral\",\"Neutral\",\"Neutral\",\"weakly positive\",\"Neutral\",\"Neutral\",\"very negative\",\"negative\",\"weakly negative\",\"Neutral\",\"weakly positive\",\"positive\",\"very positive\"],\"xaxis\":\"x\",\"y\":[1,1,1,1,1,1,1,1,1,1,1,1,1,1,1,1,1,1,1,1,1,1,1,1,1,1,1,1,1,1,1,1,1,1,1,1,1,1,1,1,1,1,1,1,1,1,1,1,1,1,1,1,1,1,1,1,1,1,1,1,1,1,1,1,1,1,1,1,1,1,1,1,1,1,1,1,1,1,1,1,1,1,1,1,1,1,1,1,1,1,1,1,1,1,1,1,1,1,1,1,1,1,1,1,1,1,1,1,1,1,1,1,1,1,1,1,1,1,1,1,1,1,1,1,1,1,1,1,1,1,1,1,1,1,1,1,1,1,1,1,1,1,1,1,1,1,1,1,1,1,1,1,1,1,1,1,1,1,1,1,1,1,1,1,1,1,1,1,1,1,1,1,1,1,1,1,1,1,1,1,1,1,1,1,1,1,1,1,1,1,1,1,1,1,1,1,1,1,1,1,1,1,1,1,1,1,1,1,1,1,1,1,1,1,1,1,1,1,1,1,1,1,1,1,1,1,1,1,1,1,1,1,1,1,1,1,1,1,1,1,1,1,1,1,1,1,1,1,1,1,1,1,1,1,1,1,1,1,1,1,1,1,1,1,1,1,1,1,1,1,1,1,1,1,1,1,1,1,1,1,1,1,1,1,1,1,1,1,1,1,1,1,1,1,1,1,1,1,1,1,1,1,1,1,1,1,1,1,1,1,1,1,1,1,1,1,1,1,1,1,1,1,1,1,1,1,1,1,1,1,1,1,1,1,1,1,1,1,1,1,1,1,1,1,1,1,1,1,1,1,1,1,1,1,1,1,1,1,1,1,1,1,1,1,1,1,1,1,1,1,1,1,1,1,1,1,1,1,1,1,1,1,1,1,1,1,1,1,1,1,1,1,1,1,1,1,1,1,1,1,1,1,1,1,1,1,1,1,1,1,1,1,1,1,1,1,1,1,1,1,1,1,1,1,1,1,1,1,1,1,1,1,1,1,1,1,1,1,1,1,1,1,1,1,1,1,1,1,1,1,1,1,1,1,1,1,1,1,1,1,1,1,1,1,1,1,1,1,1,1,1,1,1,1,1,1,1,1,1,1,1,1,1,1,1,1,1,1,1,1,1,1,1,1,1,1,1,1,1,1,1,1,1,1,1,1,1,1,1,1,1,1,1,1,1,1,1,1,1,1,1,1,1,1,1,1,1,1,1,1,1,1,1,1,1,1,1,1,1,1,1,1,1,1,1,1,1,1,1,1,1,1,1,1,1,1,1,1,1,1,1,1,1,1,1,1,1,1,1,1,1,1,1,1,1,1,1,1,1,1,1,1,1,1,1,1,1,1,1,1,1,1,1,1,1,1,1,1,1,1,1,1,1,1,1,1,1,1,1,1,1,1,1,1,1,1,1,1,1,1,1,1,1,1,1,1,1,1,1,1,1,1,1,1,1,1,1,1,1,1,1,1,1,1,1,1,1,1,1,1,1,1,1,1,1,1,1,1,1,1,1,1,1,1,1,1,1,1,1,1,1,1,1,1,1,1,1,1,1,1,1,1,1,1,1,1,1,1,1,1,1,1,1],\"yaxis\":\"y\",\"type\":\"bar\"},{\"alignmentgroup\":\"True\",\"hovertemplate\":\"audio_7=%{x}<br>count=%{y}<extra></extra>\",\"legendgroup\":\"\",\"marker\":{\"color\":\"#636efa\",\"pattern\":{\"shape\":\"\"}},\"name\":\"\",\"offsetgroup\":\"\",\"orientation\":\"v\",\"showlegend\":false,\"textposition\":\"auto\",\"x\":[\"weakly positive\",\"weakly positive\",\"weakly positive\",\"weakly positive\",\"weakly positive\",\"weakly positive\",\"weakly positive\",\"Neutral\",\"weakly positive\",\"weakly positive\",\"weakly positive\",\"weakly positive\",\"weakly positive\",\"Neutral\",\"weakly positive\",\"Neutral\",\"positive\",\"weakly positive\",\"weakly positive\",\"weakly positive\",\"weakly positive\",\"Neutral\",\"weakly positive\",\"weakly positive\",\"weakly positive\",\"weakly positive\",\"weakly positive\",\"Neutral\",\"Neutral\",\"weakly positive\",\"weakly positive\",\"Neutral\",\"weakly positive\",\"weakly positive\",\"weakly positive\",\"Neutral\",\"Neutral\",\"weakly positive\",\"weakly positive\",\"weakly positive\",\"weakly positive\",\"weakly positive\",\"weakly positive\",\"weakly positive\",\"Neutral\",\"weakly positive\",\"weakly positive\",\"weakly positive\",\"Neutral\",\"weakly positive\",\"weakly positive\",\"Neutral\",\"weakly positive\",\"weakly positive\",\"Neutral\",\"Neutral\",\"Neutral\",\"Neutral\",\"weakly positive\",\"positive\",\"weakly positive\",\"weakly positive\",\"weakly positive\",\"weakly positive\",\"Neutral\",\"weakly positive\",\"weakly positive\",\"weakly positive\",\"weakly positive\",\"Neutral\",\"Neutral\",\"weakly positive\",\"Neutral\",\"weakly positive\",\"weakly positive\",\"weakly positive\",\"weakly positive\",\"weakly positive\",\"weakly positive\",\"weakly positive\",\"weakly positive\",\"weakly positive\",\"weakly positive\",\"Neutral\",\"weakly positive\",\"weakly positive\",\"weakly positive\",\"Neutral\",\"weakly positive\",\"weakly positive\",\"weakly positive\",\"weakly positive\",\"weakly positive\",\"weakly positive\",\"weakly positive\",\"weakly positive\",\"weakly positive\",\"Neutral\",\"positive\",\"Neutral\",\"weakly positive\",\"Neutral\",\"Neutral\",\"weakly positive\",\"weakly positive\",\"weakly positive\",\"weakly positive\",\"weakly positive\",\"Neutral\",\"Neutral\",\"weakly positive\",\"Neutral\",\"weakly positive\",\"weakly positive\",\"weakly positive\",\"weakly positive\",\"weakly positive\",\"weakly positive\",\"weakly positive\",\"weakly positive\",\"Neutral\",\"weakly positive\",\"weakly positive\",\"weakly positive\",\"weakly positive\",\"Neutral\",\"weakly positive\",\"weakly positive\",\"weakly positive\",\"weakly positive\",\"Neutral\",\"weakly positive\",\"weakly positive\",\"weakly positive\",\"weakly positive\",\"weakly positive\",\"weakly positive\",\"Neutral\",\"weakly positive\",\"weakly positive\",\"weakly positive\",\"weakly positive\",\"weakly positive\",\"weakly positive\",\"weakly positive\",\"Neutral\",\"weakly positive\",\"Neutral\",\"weakly positive\",\"Neutral\",\"weakly positive\",\"weakly positive\",\"weakly positive\",\"Neutral\",\"weakly positive\",\"weakly positive\",\"positive\",\"weakly positive\",\"positive\",\"Neutral\",\"weakly positive\",\"weakly positive\",\"weakly positive\",\"weakly positive\",\"weakly positive\",\"weakly positive\",\"weakly positive\",\"weakly positive\",\"weakly positive\",\"weakly positive\",\"weakly positive\",\"Neutral\",\"Neutral\",\"Neutral\",\"weakly positive\",\"weakly positive\",\"Neutral\",\"weakly positive\",\"weakly positive\",\"Neutral\",\"weakly positive\",\"weakly positive\",\"weakly positive\",\"weakly positive\",\"weakly positive\",\"weakly positive\",\"weakly positive\",\"weakly positive\",\"weakly positive\",\"Neutral\",\"weakly positive\",\"weakly positive\",\"weakly positive\",\"weakly positive\",\"weakly positive\",\"Neutral\",\"weakly positive\",\"weakly positive\",\"weakly positive\",\"Neutral\",\"weakly positive\",\"weakly positive\",\"weakly positive\",\"Neutral\",\"weakly positive\",\"Neutral\",\"weakly positive\",\"weakly positive\",\"weakly positive\",\"weakly positive\",\"weakly positive\",\"weakly positive\",\"weakly positive\",\"weakly positive\",\"Neutral\",\"weakly positive\",\"weakly positive\",\"weakly positive\",\"weakly positive\",\"weakly positive\",\"weakly positive\",\"weakly positive\",\"weakly positive\",\"weakly positive\",\"Neutral\",\"weakly positive\",\"weakly positive\",\"weakly positive\",\"weakly positive\",\"Neutral\",\"Neutral\",\"Neutral\",\"weakly positive\",\"weakly positive\",\"weakly positive\",\"Neutral\",\"Neutral\",\"weakly positive\",\"weakly positive\",\"weakly positive\",\"weakly positive\",\"weakly positive\",\"weakly positive\",\"Neutral\",\"weakly positive\",\"weakly positive\",\"Neutral\",\"weakly positive\",\"weakly positive\",\"weakly positive\",\"weakly positive\",\"weakly positive\",\"weakly positive\",\"weakly positive\",\"Neutral\",\"weakly positive\",\"weakly positive\",\"weakly positive\",\"Neutral\",\"weakly positive\",\"weakly positive\",\"positive\",\"weakly positive\",\"Neutral\",\"weakly positive\",\"weakly positive\",\"weakly positive\",\"Neutral\",\"Neutral\",\"weakly positive\",\"weakly positive\",\"weakly positive\",\"Neutral\",\"Neutral\",\"weakly positive\",\"weakly positive\",\"weakly positive\",\"weakly positive\",\"Neutral\",\"Neutral\",\"Neutral\",\"weakly positive\",\"Neutral\",\"weakly positive\",\"weakly positive\",\"weakly positive\",\"Neutral\",\"weakly positive\",\"Neutral\",\"Neutral\",\"weakly positive\",\"weakly positive\",\"weakly positive\",\"weakly positive\",\"Neutral\",\"weakly positive\",\"weakly positive\",\"weakly positive\",\"Neutral\",\"Neutral\",\"weakly positive\",\"weakly positive\",\"weakly positive\",\"weakly positive\",\"Neutral\",\"Neutral\",\"weakly positive\",\"weakly positive\",\"weakly positive\",\"weakly positive\",\"weakly positive\",\"weakly positive\",\"Neutral\",\"weakly positive\",\"weakly positive\",\"weakly positive\",\"Neutral\",\"weakly positive\",\"weakly positive\",\"weakly positive\",\"weakly positive\",\"weakly positive\",\"Neutral\",\"weakly positive\",\"weakly positive\",\"weakly positive\",\"weakly positive\",\"weakly positive\",\"weakly positive\",\"weakly positive\",\"weakly positive\",\"weakly positive\",\"weakly positive\",\"weakly positive\",\"weakly positive\",\"Neutral\",\"weakly positive\",\"weakly positive\",\"weakly positive\",\"weakly positive\",\"weakly positive\",\"weakly positive\",\"weakly positive\",\"Neutral\",\"Neutral\",\"weakly positive\",\"weakly positive\",\"weakly positive\",\"weakly positive\",\"Neutral\",\"Neutral\",\"weakly positive\",\"weakly positive\",\"weakly positive\",\"weakly positive\",\"weakly positive\",\"weakly positive\",\"weakly positive\",\"Neutral\",\"weakly positive\",\"weakly positive\",\"Neutral\",\"Neutral\",\"weakly positive\",\"Neutral\",\"weakly positive\",\"weakly positive\",\"weakly positive\",\"weakly positive\",\"weakly positive\",\"weakly positive\",\"Neutral\",\"weakly positive\",\"weakly positive\",\"weakly positive\",\"weakly positive\",\"weakly positive\",\"weakly positive\",\"Neutral\",\"weakly positive\",\"weakly positive\",\"weakly positive\",\"Neutral\",\"Neutral\",\"Neutral\",\"Neutral\",\"weakly positive\",\"weakly positive\",\"weakly positive\",\"weakly positive\",\"Neutral\",\"weakly positive\",\"weakly positive\",\"Neutral\",\"Neutral\",\"weakly positive\",\"weakly positive\",\"weakly positive\",\"weakly positive\",\"Neutral\",\"Neutral\",\"weakly positive\",\"weakly positive\",\"weakly positive\",\"weakly positive\",\"weakly positive\",\"Neutral\",\"weakly positive\",\"weakly positive\",\"weakly positive\",\"weakly positive\",\"weakly positive\",\"weakly positive\",\"Neutral\",\"Neutral\",\"weakly positive\",\"Neutral\",\"weakly positive\",\"weakly positive\",\"weakly positive\",\"weakly positive\",\"Neutral\",\"weakly positive\",\"weakly positive\",\"weakly positive\",\"Neutral\",\"positive\",\"Neutral\",\"weakly positive\",\"weakly positive\",\"Neutral\",\"weakly positive\",\"weakly positive\",\"Neutral\",\"Neutral\",\"Neutral\",\"weakly positive\",\"weakly positive\",\"weakly positive\",\"Neutral\",\"weakly positive\",\"Neutral\",\"weakly positive\",\"weakly positive\",\"weakly positive\",\"weakly positive\",\"weakly positive\",\"weakly positive\",\"Neutral\",\"Neutral\",\"Neutral\",\"Neutral\",\"Neutral\",\"weakly positive\",\"Neutral\",\"weakly positive\",\"weakly positive\",\"weakly positive\",\"Neutral\",\"weakly positive\",\"weakly positive\",\"very positive\",\"weakly positive\",\"weakly positive\",\"weakly positive\",\"weakly positive\",\"Neutral\",\"weakly positive\",\"weakly positive\",\"weakly positive\",\"weakly positive\",\"weakly positive\",\"weakly positive\",\"weakly positive\",\"weakly positive\",\"weakly positive\",\"Neutral\",\"Neutral\",\"weakly positive\",\"weakly positive\",\"weakly positive\",\"weakly positive\",\"weakly positive\",\"positive\",\"weakly positive\",\"weakly positive\",\"weakly positive\",\"weakly positive\",\"Neutral\",\"weakly positive\",\"weakly positive\",\"weakly positive\",\"weakly positive\",\"weakly positive\",\"weakly positive\",\"weakly positive\",\"weakly positive\",\"weakly positive\",\"weakly positive\",\"Neutral\",\"Neutral\",\"Neutral\",\"weakly positive\",\"weakly positive\",\"Neutral\",\"Neutral\",\"weakly positive\",\"Neutral\",\"weakly positive\",\"weakly positive\",\"weakly positive\",\"weakly positive\",\"weakly positive\",\"weakly positive\",\"Neutral\",\"weakly positive\",\"weakly positive\",\"Neutral\",\"weakly positive\",\"weakly positive\",\"weakly positive\",\"Neutral\",\"weakly positive\",\"weakly positive\",\"weakly positive\",\"weakly positive\",\"weakly positive\",\"weakly positive\",\"Neutral\",\"weakly positive\",\"weakly positive\",\"weakly positive\",\"Neutral\",\"weakly positive\",\"weakly positive\",\"Neutral\",\"Neutral\",\"weakly positive\",\"weakly positive\",\"weakly positive\",\"weakly positive\",\"weakly positive\",\"weakly positive\",\"weakly positive\",\"Neutral\",\"weakly positive\",\"weakly positive\",\"weakly positive\",\"weakly positive\",\"weakly positive\",\"weakly positive\",\"Neutral\",\"positive\",\"weakly positive\",\"Neutral\",\"Neutral\",\"weakly positive\",\"weakly positive\",\"weakly positive\",\"weakly positive\",\"Neutral\",\"weakly positive\",\"weakly positive\",\"Neutral\",\"weakly positive\",\"weakly positive\",\"Neutral\",\"weakly positive\",\"weakly positive\",\"weakly positive\",\"weakly positive\",\"weakly positive\",\"weakly positive\",\"weakly positive\",\"weakly positive\",\"weakly positive\",\"weakly positive\",\"weakly positive\",\"Neutral\",\"weakly positive\",\"weakly positive\",\"Neutral\",\"Neutral\",\"weakly positive\",\"weakly positive\",\"weakly positive\",\"Neutral\",\"weakly positive\",\"Neutral\",\"weakly positive\",\"weakly positive\",\"Neutral\",\"positive\",\"weakly positive\",\"weakly positive\",\"weakly positive\",\"weakly positive\",\"weakly positive\",\"weakly positive\",\"Neutral\",\"weakly positive\",\"weakly positive\",\"weakly positive\",\"weakly positive\",\"Neutral\",\"weakly positive\",\"weakly positive\",\"weakly positive\",\"weakly positive\",\"Neutral\",\"weakly positive\",\"Neutral\",\"weakly positive\",\"weakly positive\",\"weakly positive\",\"weakly positive\",\"weakly positive\",\"weakly positive\",\"weakly positive\",\"weakly positive\",\"weakly positive\",\"Neutral\",\"weakly positive\",\"weakly positive\",\"weakly positive\",\"Neutral\",\"weakly positive\",\"weakly positive\",\"weakly positive\",\"weakly positive\",\"Neutral\",\"weakly positive\",\"positive\",\"weakly positive\",\"weakly positive\",\"weakly positive\",\"weakly positive\",\"weakly positive\",\"weakly positive\",\"weakly positive\",\"Neutral\",\"weakly positive\",\"weakly positive\",\"weakly positive\",\"weakly positive\",\"weakly positive\",\"weakly positive\",\"Neutral\",\"weakly positive\",\"Neutral\",\"weakly positive\",\"weakly positive\",\"weakly positive\",\"positive\",\"weakly positive\",\"weakly positive\",\"Neutral\",\"weakly positive\",\"weakly positive\",\"weakly positive\",\"weakly positive\",\"Neutral\",\"weakly positive\",\"Neutral\",\"weakly positive\",\"Neutral\",\"Neutral\",\"Neutral\",\"Neutral\",\"weakly positive\",\"Neutral\",\"weakly positive\",\"Neutral\",\"positive\",\"weakly positive\",\"weakly positive\",\"weakly positive\",\"weakly positive\",\"weakly positive\",\"weakly positive\",\"Neutral\",\"weakly positive\",\"weakly positive\",\"weakly positive\",\"weakly positive\",\"weakly positive\",\"very negative\",\"negative\",\"weakly negative\",\"Neutral\",\"weakly positive\",\"positive\",\"very positive\"],\"xaxis\":\"x2\",\"y\":[1,1,1,1,1,1,1,1,1,1,1,1,1,1,1,1,1,1,1,1,1,1,1,1,1,1,1,1,1,1,1,1,1,1,1,1,1,1,1,1,1,1,1,1,1,1,1,1,1,1,1,1,1,1,1,1,1,1,1,1,1,1,1,1,1,1,1,1,1,1,1,1,1,1,1,1,1,1,1,1,1,1,1,1,1,1,1,1,1,1,1,1,1,1,1,1,1,1,1,1,1,1,1,1,1,1,1,1,1,1,1,1,1,1,1,1,1,1,1,1,1,1,1,1,1,1,1,1,1,1,1,1,1,1,1,1,1,1,1,1,1,1,1,1,1,1,1,1,1,1,1,1,1,1,1,1,1,1,1,1,1,1,1,1,1,1,1,1,1,1,1,1,1,1,1,1,1,1,1,1,1,1,1,1,1,1,1,1,1,1,1,1,1,1,1,1,1,1,1,1,1,1,1,1,1,1,1,1,1,1,1,1,1,1,1,1,1,1,1,1,1,1,1,1,1,1,1,1,1,1,1,1,1,1,1,1,1,1,1,1,1,1,1,1,1,1,1,1,1,1,1,1,1,1,1,1,1,1,1,1,1,1,1,1,1,1,1,1,1,1,1,1,1,1,1,1,1,1,1,1,1,1,1,1,1,1,1,1,1,1,1,1,1,1,1,1,1,1,1,1,1,1,1,1,1,1,1,1,1,1,1,1,1,1,1,1,1,1,1,1,1,1,1,1,1,1,1,1,1,1,1,1,1,1,1,1,1,1,1,1,1,1,1,1,1,1,1,1,1,1,1,1,1,1,1,1,1,1,1,1,1,1,1,1,1,1,1,1,1,1,1,1,1,1,1,1,1,1,1,1,1,1,1,1,1,1,1,1,1,1,1,1,1,1,1,1,1,1,1,1,1,1,1,1,1,1,1,1,1,1,1,1,1,1,1,1,1,1,1,1,1,1,1,1,1,1,1,1,1,1,1,1,1,1,1,1,1,1,1,1,1,1,1,1,1,1,1,1,1,1,1,1,1,1,1,1,1,1,1,1,1,1,1,1,1,1,1,1,1,1,1,1,1,1,1,1,1,1,1,1,1,1,1,1,1,1,1,1,1,1,1,1,1,1,1,1,1,1,1,1,1,1,1,1,1,1,1,1,1,1,1,1,1,1,1,1,1,1,1,1,1,1,1,1,1,1,1,1,1,1,1,1,1,1,1,1,1,1,1,1,1,1,1,1,1,1,1,1,1,1,1,1,1,1,1,1,1,1,1,1,1,1,1,1,1,1,1,1,1,1,1,1,1,1,1,1,1,1,1,1,1,1,1,1,1,1,1,1,1,1,1,1,1,1,1,1,1,1,1,1,1,1,1,1,1,1,1,1,1,1,1,1,1,1,1,1,1,1,1,1,1,1,1,1,1,1,1,1,1,1,1,1,1,1,1,1,1,1,1,1,1,1,1,1,1,1,1,1,1,1,1,1,1,1,1,1,1,1,1,1,1,1,1,1,1,1,1,1,1,1,1,1,1,1,1,1,1,1,1,1,1,1,1,1,1,1,1,1,1,1,1,1,1],\"yaxis\":\"y2\",\"type\":\"bar\"},{\"alignmentgroup\":\"True\",\"hovertemplate\":\"video_7=%{x}<br>count=%{y}<extra></extra>\",\"legendgroup\":\"\",\"marker\":{\"color\":\"#636efa\",\"pattern\":{\"shape\":\"\"}},\"name\":\"\",\"offsetgroup\":\"\",\"orientation\":\"v\",\"showlegend\":false,\"textposition\":\"auto\",\"x\":[\"Neutral\",\"Neutral\",\"Neutral\",\"Neutral\",\"Neutral\",\"Neutral\",\"Neutral\",\"Neutral\",\"Neutral\",\"Neutral\",\"Neutral\",\"Neutral\",\"Neutral\",\"Neutral\",\"Neutral\",\"Neutral\",\"Neutral\",\"Neutral\",\"Neutral\",\"Neutral\",\"Neutral\",\"Neutral\",\"Neutral\",\"Neutral\",\"Neutral\",\"Neutral\",\"Neutral\",\"Neutral\",\"Neutral\",\"Neutral\",\"Neutral\",\"Neutral\",\"Neutral\",\"Neutral\",\"Neutral\",\"Neutral\",\"Neutral\",\"Neutral\",\"Neutral\",\"Neutral\",\"Neutral\",\"Neutral\",\"Neutral\",\"Neutral\",\"Neutral\",\"Neutral\",\"Neutral\",\"Neutral\",\"Neutral\",\"Neutral\",\"Neutral\",\"Neutral\",\"Neutral\",\"Neutral\",\"Neutral\",\"Neutral\",\"Neutral\",\"Neutral\",\"Neutral\",\"Neutral\",\"Neutral\",\"Neutral\",\"Neutral\",\"Neutral\",\"Neutral\",\"Neutral\",\"Neutral\",\"Neutral\",\"Neutral\",\"Neutral\",\"Neutral\",\"Neutral\",\"Neutral\",\"Neutral\",\"Neutral\",\"Neutral\",\"Neutral\",\"Neutral\",\"Neutral\",\"Neutral\",\"Neutral\",\"Neutral\",\"Neutral\",\"Neutral\",\"Neutral\",\"Neutral\",\"Neutral\",\"Neutral\",\"Neutral\",\"Neutral\",\"Neutral\",\"Neutral\",\"Neutral\",\"Neutral\",\"Neutral\",\"Neutral\",\"Neutral\",\"Neutral\",\"Neutral\",\"Neutral\",\"Neutral\",\"Neutral\",\"Neutral\",\"Neutral\",\"Neutral\",\"Neutral\",\"Neutral\",\"Neutral\",\"Neutral\",\"Neutral\",\"Neutral\",\"Neutral\",\"Neutral\",\"Neutral\",\"Neutral\",\"Neutral\",\"Neutral\",\"Neutral\",\"Neutral\",\"Neutral\",\"Neutral\",\"Neutral\",\"Neutral\",\"Neutral\",\"Neutral\",\"Neutral\",\"Neutral\",\"Neutral\",\"Neutral\",\"Neutral\",\"Neutral\",\"Neutral\",\"Neutral\",\"Neutral\",\"Neutral\",\"Neutral\",\"Neutral\",\"Neutral\",\"Neutral\",\"Neutral\",\"Neutral\",\"Neutral\",\"Neutral\",\"Neutral\",\"Neutral\",\"Neutral\",\"Neutral\",\"Neutral\",\"Neutral\",\"Neutral\",\"Neutral\",\"Neutral\",\"Neutral\",\"Neutral\",\"Neutral\",\"Neutral\",\"Neutral\",\"Neutral\",\"Neutral\",\"Neutral\",\"Neutral\",\"Neutral\",\"Neutral\",\"Neutral\",\"Neutral\",\"Neutral\",\"Neutral\",\"Neutral\",\"Neutral\",\"Neutral\",\"weakly positive\",\"Neutral\",\"Neutral\",\"Neutral\",\"Neutral\",\"Neutral\",\"Neutral\",\"Neutral\",\"Neutral\",\"Neutral\",\"Neutral\",\"Neutral\",\"Neutral\",\"Neutral\",\"Neutral\",\"Neutral\",\"Neutral\",\"Neutral\",\"Neutral\",\"Neutral\",\"Neutral\",\"Neutral\",\"Neutral\",\"Neutral\",\"Neutral\",\"Neutral\",\"Neutral\",\"Neutral\",\"Neutral\",\"Neutral\",\"Neutral\",\"Neutral\",\"Neutral\",\"Neutral\",\"Neutral\",\"Neutral\",\"Neutral\",\"Neutral\",\"Neutral\",\"Neutral\",\"Neutral\",\"Neutral\",\"Neutral\",\"Neutral\",\"Neutral\",\"Neutral\",\"Neutral\",\"Neutral\",\"Neutral\",\"Neutral\",\"Neutral\",\"Neutral\",\"Neutral\",\"Neutral\",\"Neutral\",\"Neutral\",\"Neutral\",\"Neutral\",\"Neutral\",\"Neutral\",\"Neutral\",\"Neutral\",\"Neutral\",\"Neutral\",\"Neutral\",\"Neutral\",\"Neutral\",\"Neutral\",\"Neutral\",\"Neutral\",\"Neutral\",\"Neutral\",\"Neutral\",\"Neutral\",\"Neutral\",\"Neutral\",\"Neutral\",\"Neutral\",\"Neutral\",\"Neutral\",\"Neutral\",\"Neutral\",\"Neutral\",\"Neutral\",\"Neutral\",\"Neutral\",\"Neutral\",\"Neutral\",\"Neutral\",\"Neutral\",\"Neutral\",\"Neutral\",\"Neutral\",\"Neutral\",\"Neutral\",\"Neutral\",\"Neutral\",\"Neutral\",\"Neutral\",\"Neutral\",\"Neutral\",\"Neutral\",\"Neutral\",\"Neutral\",\"Neutral\",\"Neutral\",\"Neutral\",\"Neutral\",\"Neutral\",\"Neutral\",\"Neutral\",\"Neutral\",\"Neutral\",\"Neutral\",\"Neutral\",\"Neutral\",\"Neutral\",\"Neutral\",\"Neutral\",\"Neutral\",\"Neutral\",\"Neutral\",\"Neutral\",\"Neutral\",\"Neutral\",\"Neutral\",\"Neutral\",\"Neutral\",\"Neutral\",\"Neutral\",\"Neutral\",\"Neutral\",\"Neutral\",\"Neutral\",\"Neutral\",\"Neutral\",\"Neutral\",\"Neutral\",\"Neutral\",\"Neutral\",\"Neutral\",\"Neutral\",\"Neutral\",\"Neutral\",\"Neutral\",\"Neutral\",\"Neutral\",\"Neutral\",\"Neutral\",\"Neutral\",\"Neutral\",\"Neutral\",\"Neutral\",\"Neutral\",\"Neutral\",\"Neutral\",\"Neutral\",\"Neutral\",\"Neutral\",\"Neutral\",\"Neutral\",\"Neutral\",\"Neutral\",\"Neutral\",\"Neutral\",\"Neutral\",\"Neutral\",\"Neutral\",\"Neutral\",\"Neutral\",\"Neutral\",\"Neutral\",\"Neutral\",\"Neutral\",\"Neutral\",\"Neutral\",\"Neutral\",\"Neutral\",\"Neutral\",\"Neutral\",\"Neutral\",\"Neutral\",\"Neutral\",\"Neutral\",\"Neutral\",\"Neutral\",\"Neutral\",\"Neutral\",\"Neutral\",\"Neutral\",\"Neutral\",\"Neutral\",\"Neutral\",\"Neutral\",\"Neutral\",\"Neutral\",\"Neutral\",\"Neutral\",\"Neutral\",\"Neutral\",\"Neutral\",\"Neutral\",\"Neutral\",\"Neutral\",\"Neutral\",\"Neutral\",\"Neutral\",\"Neutral\",\"Neutral\",\"Neutral\",\"Neutral\",\"Neutral\",\"Neutral\",\"Neutral\",\"Neutral\",\"Neutral\",\"Neutral\",\"Neutral\",\"Neutral\",\"Neutral\",\"Neutral\",\"Neutral\",\"Neutral\",\"Neutral\",\"Neutral\",\"Neutral\",\"Neutral\",\"Neutral\",\"Neutral\",\"Neutral\",\"Neutral\",\"Neutral\",\"Neutral\",\"Neutral\",\"Neutral\",\"Neutral\",\"Neutral\",\"Neutral\",\"Neutral\",\"Neutral\",\"Neutral\",\"Neutral\",\"Neutral\",\"Neutral\",\"Neutral\",\"Neutral\",\"Neutral\",\"Neutral\",\"Neutral\",\"Neutral\",\"Neutral\",\"Neutral\",\"Neutral\",\"Neutral\",\"Neutral\",\"Neutral\",\"Neutral\",\"Neutral\",\"Neutral\",\"Neutral\",\"Neutral\",\"Neutral\",\"Neutral\",\"Neutral\",\"Neutral\",\"Neutral\",\"Neutral\",\"Neutral\",\"Neutral\",\"Neutral\",\"Neutral\",\"Neutral\",\"Neutral\",\"Neutral\",\"Neutral\",\"Neutral\",\"Neutral\",\"Neutral\",\"Neutral\",\"Neutral\",\"Neutral\",\"Neutral\",\"Neutral\",\"Neutral\",\"Neutral\",\"Neutral\",\"Neutral\",\"Neutral\",\"Neutral\",\"Neutral\",\"Neutral\",\"Neutral\",\"Neutral\",\"Neutral\",\"Neutral\",\"Neutral\",\"Neutral\",\"Neutral\",\"Neutral\",\"Neutral\",\"Neutral\",\"Neutral\",\"Neutral\",\"Neutral\",\"Neutral\",\"Neutral\",\"Neutral\",\"Neutral\",\"Neutral\",\"Neutral\",\"Neutral\",\"Neutral\",\"Neutral\",\"Neutral\",\"Neutral\",\"Neutral\",\"Neutral\",\"Neutral\",\"Neutral\",\"Neutral\",\"Neutral\",\"Neutral\",\"Neutral\",\"Neutral\",\"Neutral\",\"Neutral\",\"Neutral\",\"Neutral\",\"Neutral\",\"Neutral\",\"Neutral\",\"Neutral\",\"Neutral\",\"Neutral\",\"Neutral\",\"Neutral\",\"Neutral\",\"Neutral\",\"Neutral\",\"Neutral\",\"Neutral\",\"Neutral\",\"Neutral\",\"Neutral\",\"Neutral\",\"Neutral\",\"Neutral\",\"Neutral\",\"Neutral\",\"Neutral\",\"Neutral\",\"Neutral\",\"Neutral\",\"Neutral\",\"Neutral\",\"Neutral\",\"Neutral\",\"Neutral\",\"Neutral\",\"Neutral\",\"Neutral\",\"Neutral\",\"Neutral\",\"Neutral\",\"Neutral\",\"Neutral\",\"Neutral\",\"Neutral\",\"Neutral\",\"Neutral\",\"Neutral\",\"Neutral\",\"Neutral\",\"Neutral\",\"Neutral\",\"Neutral\",\"Neutral\",\"Neutral\",\"Neutral\",\"Neutral\",\"Neutral\",\"Neutral\",\"Neutral\",\"Neutral\",\"Neutral\",\"Neutral\",\"Neutral\",\"Neutral\",\"Neutral\",\"Neutral\",\"Neutral\",\"Neutral\",\"Neutral\",\"Neutral\",\"Neutral\",\"Neutral\",\"Neutral\",\"Neutral\",\"Neutral\",\"Neutral\",\"Neutral\",\"Neutral\",\"Neutral\",\"Neutral\",\"Neutral\",\"Neutral\",\"Neutral\",\"Neutral\",\"Neutral\",\"Neutral\",\"Neutral\",\"Neutral\",\"Neutral\",\"Neutral\",\"Neutral\",\"Neutral\",\"Neutral\",\"Neutral\",\"Neutral\",\"Neutral\",\"Neutral\",\"Neutral\",\"Neutral\",\"Neutral\",\"Neutral\",\"Neutral\",\"Neutral\",\"Neutral\",\"Neutral\",\"Neutral\",\"Neutral\",\"Neutral\",\"Neutral\",\"Neutral\",\"Neutral\",\"Neutral\",\"Neutral\",\"Neutral\",\"Neutral\",\"Neutral\",\"Neutral\",\"Neutral\",\"Neutral\",\"Neutral\",\"Neutral\",\"Neutral\",\"Neutral\",\"Neutral\",\"Neutral\",\"Neutral\",\"Neutral\",\"Neutral\",\"Neutral\",\"Neutral\",\"Neutral\",\"Neutral\",\"Neutral\",\"Neutral\",\"Neutral\",\"Neutral\",\"Neutral\",\"Neutral\",\"Neutral\",\"Neutral\",\"Neutral\",\"Neutral\",\"Neutral\",\"Neutral\",\"Neutral\",\"Neutral\",\"Neutral\",\"Neutral\",\"Neutral\",\"Neutral\",\"Neutral\",\"Neutral\",\"Neutral\",\"Neutral\",\"Neutral\",\"Neutral\",\"Neutral\",\"Neutral\",\"Neutral\",\"Neutral\",\"Neutral\",\"Neutral\",\"Neutral\",\"Neutral\",\"Neutral\",\"Neutral\",\"Neutral\",\"Neutral\",\"Neutral\",\"Neutral\",\"Neutral\",\"Neutral\",\"Neutral\",\"Neutral\",\"Neutral\",\"Neutral\",\"Neutral\",\"Neutral\",\"Neutral\",\"Neutral\",\"Neutral\",\"Neutral\",\"Neutral\",\"Neutral\",\"Neutral\",\"Neutral\",\"Neutral\",\"Neutral\",\"Neutral\",\"Neutral\",\"Neutral\",\"Neutral\",\"very negative\",\"negative\",\"weakly negative\",\"Neutral\",\"weakly positive\",\"positive\",\"very positive\"],\"xaxis\":\"x3\",\"y\":[1,1,1,1,1,1,1,1,1,1,1,1,1,1,1,1,1,1,1,1,1,1,1,1,1,1,1,1,1,1,1,1,1,1,1,1,1,1,1,1,1,1,1,1,1,1,1,1,1,1,1,1,1,1,1,1,1,1,1,1,1,1,1,1,1,1,1,1,1,1,1,1,1,1,1,1,1,1,1,1,1,1,1,1,1,1,1,1,1,1,1,1,1,1,1,1,1,1,1,1,1,1,1,1,1,1,1,1,1,1,1,1,1,1,1,1,1,1,1,1,1,1,1,1,1,1,1,1,1,1,1,1,1,1,1,1,1,1,1,1,1,1,1,1,1,1,1,1,1,1,1,1,1,1,1,1,1,1,1,1,1,1,1,1,1,1,1,1,1,1,1,1,1,1,1,1,1,1,1,1,1,1,1,1,1,1,1,1,1,1,1,1,1,1,1,1,1,1,1,1,1,1,1,1,1,1,1,1,1,1,1,1,1,1,1,1,1,1,1,1,1,1,1,1,1,1,1,1,1,1,1,1,1,1,1,1,1,1,1,1,1,1,1,1,1,1,1,1,1,1,1,1,1,1,1,1,1,1,1,1,1,1,1,1,1,1,1,1,1,1,1,1,1,1,1,1,1,1,1,1,1,1,1,1,1,1,1,1,1,1,1,1,1,1,1,1,1,1,1,1,1,1,1,1,1,1,1,1,1,1,1,1,1,1,1,1,1,1,1,1,1,1,1,1,1,1,1,1,1,1,1,1,1,1,1,1,1,1,1,1,1,1,1,1,1,1,1,1,1,1,1,1,1,1,1,1,1,1,1,1,1,1,1,1,1,1,1,1,1,1,1,1,1,1,1,1,1,1,1,1,1,1,1,1,1,1,1,1,1,1,1,1,1,1,1,1,1,1,1,1,1,1,1,1,1,1,1,1,1,1,1,1,1,1,1,1,1,1,1,1,1,1,1,1,1,1,1,1,1,1,1,1,1,1,1,1,1,1,1,1,1,1,1,1,1,1,1,1,1,1,1,1,1,1,1,1,1,1,1,1,1,1,1,1,1,1,1,1,1,1,1,1,1,1,1,1,1,1,1,1,1,1,1,1,1,1,1,1,1,1,1,1,1,1,1,1,1,1,1,1,1,1,1,1,1,1,1,1,1,1,1,1,1,1,1,1,1,1,1,1,1,1,1,1,1,1,1,1,1,1,1,1,1,1,1,1,1,1,1,1,1,1,1,1,1,1,1,1,1,1,1,1,1,1,1,1,1,1,1,1,1,1,1,1,1,1,1,1,1,1,1,1,1,1,1,1,1,1,1,1,1,1,1,1,1,1,1,1,1,1,1,1,1,1,1,1,1,1,1,1,1,1,1,1,1,1,1,1,1,1,1,1,1,1,1,1,1,1,1,1,1,1,1,1,1,1,1,1,1,1,1,1,1,1,1,1,1,1,1,1,1,1,1,1,1,1,1,1,1,1,1,1,1,1,1,1,1,1,1,1,1,1,1,1,1,1,1,1,1,1,1,1,1,1,1,1,1,1,1,1,1,1,1,1,1,1,1,1,1,1,1,1,1],\"yaxis\":\"y3\",\"type\":\"bar\"},{\"alignmentgroup\":\"True\",\"hovertemplate\":\"preds_7=%{x}<br>count=%{y}<extra></extra>\",\"legendgroup\":\"\",\"marker\":{\"color\":\"#636efa\",\"pattern\":{\"shape\":\"\"}},\"name\":\"\",\"offsetgroup\":\"\",\"orientation\":\"v\",\"showlegend\":false,\"textposition\":\"auto\",\"x\":[\"weakly positive\",\"weakly positive\",\"Neutral\",\"weakly positive\",\"weakly negative\",\"Neutral\",\"Neutral\",\"weakly positive\",\"Neutral\",\"weakly positive\",\"positive\",\"weakly negative\",\"weakly negative\",\"Neutral\",\"Neutral\",\"Neutral\",\"Neutral\",\"Neutral\",\"weakly negative\",\"weakly positive\",\"Neutral\",\"Neutral\",\"weakly positive\",\"weakly positive\",\"Neutral\",\"weakly positive\",\"weakly positive\",\"weakly positive\",\"Neutral\",\"Neutral\",\"Neutral\",\"Neutral\",\"weakly positive\",\"Neutral\",\"Neutral\",\"Neutral\",\"Neutral\",\"Neutral\",\"weakly positive\",\"weakly negative\",\"Neutral\",\"weakly positive\",\"Neutral\",\"Neutral\",\"positive\",\"weakly positive\",\"weakly negative\",\"Neutral\",\"weakly positive\",\"weakly positive\",\"weakly positive\",\"Neutral\",\"weakly negative\",\"weakly negative\",\"Neutral\",\"weakly positive\",\"Neutral\",\"weakly positive\",\"positive\",\"weakly positive\",\"weakly negative\",\"Neutral\",\"Neutral\",\"weakly positive\",\"weakly negative\",\"Neutral\",\"weakly negative\",\"weakly positive\",\"weakly negative\",\"Neutral\",\"Neutral\",\"Neutral\",\"Neutral\",\"weakly negative\",\"Neutral\",\"positive\",\"Neutral\",\"Neutral\",\"weakly negative\",\"weakly positive\",\"weakly negative\",\"Neutral\",\"Neutral\",\"weakly positive\",\"Neutral\",\"weakly positive\",\"Neutral\",\"weakly positive\",\"Neutral\",\"weakly positive\",\"Neutral\",\"Neutral\",\"weakly positive\",\"weakly positive\",\"weakly negative\",\"Neutral\",\"Neutral\",\"weakly positive\",\"weakly negative\",\"weakly positive\",\"weakly negative\",\"Neutral\",\"weakly positive\",\"Neutral\",\"Neutral\",\"weakly negative\",\"weakly positive\",\"weakly positive\",\"Neutral\",\"weakly positive\",\"positive\",\"Neutral\",\"weakly positive\",\"positive\",\"Neutral\",\"weakly positive\",\"Neutral\",\"positive\",\"very positive\",\"weakly negative\",\"weakly positive\",\"weakly positive\",\"Neutral\",\"positive\",\"weakly negative\",\"weakly positive\",\"weakly negative\",\"Neutral\",\"weakly negative\",\"Neutral\",\"Neutral\",\"weakly negative\",\"Neutral\",\"weakly negative\",\"Neutral\",\"Neutral\",\"Neutral\",\"weakly negative\",\"weakly positive\",\"Neutral\",\"weakly negative\",\"Neutral\",\"Neutral\",\"weakly positive\",\"Neutral\",\"weakly positive\",\"Neutral\",\"Neutral\",\"weakly positive\",\"weakly negative\",\"Neutral\",\"weakly negative\",\"Neutral\",\"weakly positive\",\"Neutral\",\"weakly positive\",\"weakly negative\",\"Neutral\",\"Neutral\",\"weakly negative\",\"Neutral\",\"weakly negative\",\"weakly negative\",\"weakly positive\",\"weakly positive\",\"Neutral\",\"Neutral\",\"positive\",\"weakly negative\",\"Neutral\",\"weakly negative\",\"Neutral\",\"Neutral\",\"Neutral\",\"Neutral\",\"weakly negative\",\"weakly negative\",\"weakly positive\",\"Neutral\",\"Neutral\",\"positive\",\"weakly positive\",\"weakly negative\",\"weakly negative\",\"positive\",\"Neutral\",\"weakly positive\",\"positive\",\"Neutral\",\"positive\",\"Neutral\",\"Neutral\",\"Neutral\",\"Neutral\",\"weakly negative\",\"Neutral\",\"weakly positive\",\"weakly positive\",\"Neutral\",\"weakly positive\",\"weakly positive\",\"Neutral\",\"Neutral\",\"Neutral\",\"positive\",\"Neutral\",\"weakly negative\",\"Neutral\",\"Neutral\",\"Neutral\",\"weakly positive\",\"Neutral\",\"weakly negative\",\"weakly positive\",\"weakly positive\",\"weakly negative\",\"positive\",\"Neutral\",\"weakly positive\",\"Neutral\",\"weakly negative\",\"Neutral\",\"weakly positive\",\"positive\",\"weakly negative\",\"positive\",\"Neutral\",\"weakly negative\",\"Neutral\",\"weakly positive\",\"weakly negative\",\"Neutral\",\"Neutral\",\"Neutral\",\"Neutral\",\"weakly positive\",\"Neutral\",\"Neutral\",\"weakly positive\",\"Neutral\",\"Neutral\",\"weakly negative\",\"weakly negative\",\"weakly positive\",\"Neutral\",\"Neutral\",\"weakly negative\",\"weakly positive\",\"weakly negative\",\"weakly positive\",\"positive\",\"positive\",\"weakly positive\",\"weakly positive\",\"weakly negative\",\"weakly positive\",\"Neutral\",\"Neutral\",\"Neutral\",\"weakly negative\",\"weakly positive\",\"weakly positive\",\"Neutral\",\"Neutral\",\"Neutral\",\"Neutral\",\"weakly positive\",\"Neutral\",\"Neutral\",\"positive\",\"weakly positive\",\"weakly positive\",\"weakly positive\",\"Neutral\",\"Neutral\",\"Neutral\",\"weakly positive\",\"weakly positive\",\"Neutral\",\"positive\",\"Neutral\",\"weakly positive\",\"weakly positive\",\"weakly positive\",\"weakly negative\",\"Neutral\",\"Neutral\",\"weakly positive\",\"weakly positive\",\"weakly positive\",\"weakly negative\",\"Neutral\",\"Neutral\",\"Neutral\",\"Neutral\",\"weakly negative\",\"positive\",\"weakly negative\",\"weakly positive\",\"Neutral\",\"weakly positive\",\"Neutral\",\"positive\",\"Neutral\",\"positive\",\"weakly positive\",\"weakly negative\",\"weakly positive\",\"Neutral\",\"weakly positive\",\"weakly positive\",\"positive\",\"positive\",\"weakly negative\",\"weakly positive\",\"Neutral\",\"weakly negative\",\"weakly positive\",\"weakly positive\",\"Neutral\",\"Neutral\",\"weakly negative\",\"Neutral\",\"Neutral\",\"Neutral\",\"Neutral\",\"Neutral\",\"weakly negative\",\"weakly negative\",\"weakly negative\",\"weakly positive\",\"Neutral\",\"Neutral\",\"weakly negative\",\"weakly positive\",\"Neutral\",\"weakly negative\",\"weakly positive\",\"weakly negative\",\"Neutral\",\"weakly negative\",\"weakly negative\",\"weakly positive\",\"weakly positive\",\"Neutral\",\"weakly positive\",\"weakly positive\",\"weakly positive\",\"Neutral\",\"positive\",\"weakly positive\",\"positive\",\"Neutral\",\"Neutral\",\"weakly negative\",\"Neutral\",\"weakly positive\",\"weakly negative\",\"Neutral\",\"weakly negative\",\"weakly negative\",\"weakly negative\",\"positive\",\"weakly positive\",\"weakly positive\",\"Neutral\",\"weakly negative\",\"weakly positive\",\"weakly positive\",\"weakly positive\",\"Neutral\",\"Neutral\",\"Neutral\",\"Neutral\",\"weakly negative\",\"Neutral\",\"weakly positive\",\"Neutral\",\"weakly negative\",\"weakly positive\",\"weakly positive\",\"weakly negative\",\"Neutral\",\"Neutral\",\"weakly negative\",\"weakly negative\",\"Neutral\",\"Neutral\",\"Neutral\",\"Neutral\",\"positive\",\"weakly negative\",\"Neutral\",\"Neutral\",\"positive\",\"weakly negative\",\"weakly positive\",\"weakly negative\",\"Neutral\",\"Neutral\",\"Neutral\",\"weakly negative\",\"weakly positive\",\"weakly positive\",\"Neutral\",\"weakly positive\",\"weakly positive\",\"Neutral\",\"positive\",\"weakly positive\",\"weakly positive\",\"weakly positive\",\"weakly positive\",\"weakly positive\",\"weakly positive\",\"weakly positive\",\"Neutral\",\"Neutral\",\"weakly negative\",\"Neutral\",\"weakly negative\",\"Neutral\",\"Neutral\",\"Neutral\",\"Neutral\",\"Neutral\",\"Neutral\",\"weakly negative\",\"weakly positive\",\"negative\",\"Neutral\",\"weakly negative\",\"positive\",\"weakly negative\",\"Neutral\",\"weakly negative\",\"weakly positive\",\"weakly negative\",\"weakly positive\",\"Neutral\",\"Neutral\",\"positive\",\"Neutral\",\"Neutral\",\"Neutral\",\"weakly positive\",\"weakly positive\",\"weakly positive\",\"weakly positive\",\"weakly positive\",\"weakly positive\",\"Neutral\",\"Neutral\",\"weakly negative\",\"Neutral\",\"weakly negative\",\"weakly negative\",\"weakly positive\",\"Neutral\",\"Neutral\",\"weakly positive\",\"weakly positive\",\"weakly negative\",\"Neutral\",\"weakly positive\",\"positive\",\"weakly positive\",\"Neutral\",\"weakly positive\",\"weakly negative\",\"weakly negative\",\"weakly positive\",\"weakly negative\",\"positive\",\"Neutral\",\"weakly negative\",\"weakly positive\",\"weakly positive\",\"weakly positive\",\"weakly positive\",\"weakly positive\",\"Neutral\",\"weakly positive\",\"Neutral\",\"weakly negative\",\"Neutral\",\"weakly negative\",\"weakly negative\",\"Neutral\",\"Neutral\",\"Neutral\",\"Neutral\",\"Neutral\",\"weakly negative\",\"Neutral\",\"negative\",\"weakly negative\",\"weakly positive\",\"Neutral\",\"weakly negative\",\"weakly negative\",\"weakly negative\",\"Neutral\",\"weakly negative\",\"Neutral\",\"Neutral\",\"weakly positive\",\"positive\",\"Neutral\",\"Neutral\",\"weakly negative\",\"weakly positive\",\"Neutral\",\"weakly positive\",\"weakly positive\",\"Neutral\",\"weakly negative\",\"weakly positive\",\"weakly positive\",\"weakly positive\",\"weakly positive\",\"Neutral\",\"Neutral\",\"weakly positive\",\"weakly positive\",\"weakly positive\",\"weakly positive\",\"positive\",\"weakly positive\",\"positive\",\"Neutral\",\"Neutral\",\"Neutral\",\"Neutral\",\"weakly negative\",\"weakly positive\",\"Neutral\",\"positive\",\"very positive\",\"Neutral\",\"weakly positive\",\"weakly negative\",\"positive\",\"weakly negative\",\"weakly positive\",\"Neutral\",\"Neutral\",\"weakly positive\",\"Neutral\",\"weakly negative\",\"Neutral\",\"Neutral\",\"positive\",\"Neutral\",\"Neutral\",\"weakly positive\",\"Neutral\",\"weakly negative\",\"weakly positive\",\"weakly positive\",\"Neutral\",\"weakly positive\",\"Neutral\",\"Neutral\",\"weakly positive\",\"weakly positive\",\"Neutral\",\"weakly positive\",\"Neutral\",\"weakly negative\",\"weakly positive\",\"weakly positive\",\"weakly positive\",\"positive\",\"positive\",\"weakly positive\",\"weakly positive\",\"weakly positive\",\"weakly negative\",\"positive\",\"Neutral\",\"weakly positive\",\"Neutral\",\"weakly positive\",\"weakly positive\",\"weakly positive\",\"Neutral\",\"weakly positive\",\"Neutral\",\"Neutral\",\"Neutral\",\"weakly positive\",\"positive\",\"weakly negative\",\"Neutral\",\"weakly positive\",\"weakly positive\",\"weakly positive\",\"negative\",\"Neutral\",\"weakly positive\",\"weakly positive\",\"Neutral\",\"Neutral\",\"positive\",\"weakly positive\",\"Neutral\",\"positive\",\"weakly positive\",\"Neutral\",\"weakly negative\",\"weakly positive\",\"Neutral\",\"weakly negative\",\"weakly positive\",\"Neutral\",\"weakly negative\",\"Neutral\",\"weakly positive\",\"weakly positive\",\"Neutral\",\"Neutral\",\"Neutral\",\"Neutral\",\"weakly positive\",\"weakly negative\",\"Neutral\",\"Neutral\",\"weakly positive\",\"Neutral\",\"Neutral\",\"weakly positive\",\"weakly negative\",\"weakly positive\",\"Neutral\",\"Neutral\",\"Neutral\",\"weakly negative\",\"positive\",\"weakly positive\",\"Neutral\",\"weakly negative\",\"Neutral\",\"Neutral\",\"Neutral\",\"Neutral\",\"Neutral\",\"weakly negative\",\"weakly negative\",\"Neutral\",\"weakly positive\",\"Neutral\",\"Neutral\",\"weakly negative\",\"weakly positive\",\"Neutral\",\"Neutral\",\"Neutral\",\"weakly positive\",\"Neutral\",\"Neutral\",\"Neutral\",\"weakly negative\",\"weakly positive\",\"Neutral\",\"weakly positive\",\"weakly negative\",\"Neutral\",\"Neutral\",\"weakly positive\",\"Neutral\",\"Neutral\",\"weakly negative\",\"Neutral\",\"weakly negative\",\"weakly positive\",\"weakly positive\",\"weakly positive\",\"weakly positive\",\"Neutral\",\"weakly positive\",\"weakly positive\",\"Neutral\",\"Neutral\",\"Neutral\",\"Neutral\",\"very negative\",\"negative\",\"weakly negative\",\"Neutral\",\"weakly positive\",\"positive\",\"very positive\"],\"xaxis\":\"x4\",\"y\":[1,1,1,1,1,1,1,1,1,1,1,1,1,1,1,1,1,1,1,1,1,1,1,1,1,1,1,1,1,1,1,1,1,1,1,1,1,1,1,1,1,1,1,1,1,1,1,1,1,1,1,1,1,1,1,1,1,1,1,1,1,1,1,1,1,1,1,1,1,1,1,1,1,1,1,1,1,1,1,1,1,1,1,1,1,1,1,1,1,1,1,1,1,1,1,1,1,1,1,1,1,1,1,1,1,1,1,1,1,1,1,1,1,1,1,1,1,1,1,1,1,1,1,1,1,1,1,1,1,1,1,1,1,1,1,1,1,1,1,1,1,1,1,1,1,1,1,1,1,1,1,1,1,1,1,1,1,1,1,1,1,1,1,1,1,1,1,1,1,1,1,1,1,1,1,1,1,1,1,1,1,1,1,1,1,1,1,1,1,1,1,1,1,1,1,1,1,1,1,1,1,1,1,1,1,1,1,1,1,1,1,1,1,1,1,1,1,1,1,1,1,1,1,1,1,1,1,1,1,1,1,1,1,1,1,1,1,1,1,1,1,1,1,1,1,1,1,1,1,1,1,1,1,1,1,1,1,1,1,1,1,1,1,1,1,1,1,1,1,1,1,1,1,1,1,1,1,1,1,1,1,1,1,1,1,1,1,1,1,1,1,1,1,1,1,1,1,1,1,1,1,1,1,1,1,1,1,1,1,1,1,1,1,1,1,1,1,1,1,1,1,1,1,1,1,1,1,1,1,1,1,1,1,1,1,1,1,1,1,1,1,1,1,1,1,1,1,1,1,1,1,1,1,1,1,1,1,1,1,1,1,1,1,1,1,1,1,1,1,1,1,1,1,1,1,1,1,1,1,1,1,1,1,1,1,1,1,1,1,1,1,1,1,1,1,1,1,1,1,1,1,1,1,1,1,1,1,1,1,1,1,1,1,1,1,1,1,1,1,1,1,1,1,1,1,1,1,1,1,1,1,1,1,1,1,1,1,1,1,1,1,1,1,1,1,1,1,1,1,1,1,1,1,1,1,1,1,1,1,1,1,1,1,1,1,1,1,1,1,1,1,1,1,1,1,1,1,1,1,1,1,1,1,1,1,1,1,1,1,1,1,1,1,1,1,1,1,1,1,1,1,1,1,1,1,1,1,1,1,1,1,1,1,1,1,1,1,1,1,1,1,1,1,1,1,1,1,1,1,1,1,1,1,1,1,1,1,1,1,1,1,1,1,1,1,1,1,1,1,1,1,1,1,1,1,1,1,1,1,1,1,1,1,1,1,1,1,1,1,1,1,1,1,1,1,1,1,1,1,1,1,1,1,1,1,1,1,1,1,1,1,1,1,1,1,1,1,1,1,1,1,1,1,1,1,1,1,1,1,1,1,1,1,1,1,1,1,1,1,1,1,1,1,1,1,1,1,1,1,1,1,1,1,1,1,1,1,1,1,1,1,1,1,1,1,1,1,1,1,1,1,1,1,1,1,1,1,1,1,1,1,1,1,1,1,1,1,1,1,1,1,1,1,1,1,1,1,1,1,1,1,1,1,1,1,1,1,1,1,1,1,1,1],\"yaxis\":\"y4\",\"type\":\"bar\"}],                        {\"template\":{\"data\":{\"histogram2dcontour\":[{\"type\":\"histogram2dcontour\",\"colorbar\":{\"outlinewidth\":0,\"ticks\":\"\"},\"colorscale\":[[0.0,\"#0d0887\"],[0.1111111111111111,\"#46039f\"],[0.2222222222222222,\"#7201a8\"],[0.3333333333333333,\"#9c179e\"],[0.4444444444444444,\"#bd3786\"],[0.5555555555555556,\"#d8576b\"],[0.6666666666666666,\"#ed7953\"],[0.7777777777777778,\"#fb9f3a\"],[0.8888888888888888,\"#fdca26\"],[1.0,\"#f0f921\"]]}],\"choropleth\":[{\"type\":\"choropleth\",\"colorbar\":{\"outlinewidth\":0,\"ticks\":\"\"}}],\"histogram2d\":[{\"type\":\"histogram2d\",\"colorbar\":{\"outlinewidth\":0,\"ticks\":\"\"},\"colorscale\":[[0.0,\"#0d0887\"],[0.1111111111111111,\"#46039f\"],[0.2222222222222222,\"#7201a8\"],[0.3333333333333333,\"#9c179e\"],[0.4444444444444444,\"#bd3786\"],[0.5555555555555556,\"#d8576b\"],[0.6666666666666666,\"#ed7953\"],[0.7777777777777778,\"#fb9f3a\"],[0.8888888888888888,\"#fdca26\"],[1.0,\"#f0f921\"]]}],\"heatmap\":[{\"type\":\"heatmap\",\"colorbar\":{\"outlinewidth\":0,\"ticks\":\"\"},\"colorscale\":[[0.0,\"#0d0887\"],[0.1111111111111111,\"#46039f\"],[0.2222222222222222,\"#7201a8\"],[0.3333333333333333,\"#9c179e\"],[0.4444444444444444,\"#bd3786\"],[0.5555555555555556,\"#d8576b\"],[0.6666666666666666,\"#ed7953\"],[0.7777777777777778,\"#fb9f3a\"],[0.8888888888888888,\"#fdca26\"],[1.0,\"#f0f921\"]]}],\"heatmapgl\":[{\"type\":\"heatmapgl\",\"colorbar\":{\"outlinewidth\":0,\"ticks\":\"\"},\"colorscale\":[[0.0,\"#0d0887\"],[0.1111111111111111,\"#46039f\"],[0.2222222222222222,\"#7201a8\"],[0.3333333333333333,\"#9c179e\"],[0.4444444444444444,\"#bd3786\"],[0.5555555555555556,\"#d8576b\"],[0.6666666666666666,\"#ed7953\"],[0.7777777777777778,\"#fb9f3a\"],[0.8888888888888888,\"#fdca26\"],[1.0,\"#f0f921\"]]}],\"contourcarpet\":[{\"type\":\"contourcarpet\",\"colorbar\":{\"outlinewidth\":0,\"ticks\":\"\"}}],\"contour\":[{\"type\":\"contour\",\"colorbar\":{\"outlinewidth\":0,\"ticks\":\"\"},\"colorscale\":[[0.0,\"#0d0887\"],[0.1111111111111111,\"#46039f\"],[0.2222222222222222,\"#7201a8\"],[0.3333333333333333,\"#9c179e\"],[0.4444444444444444,\"#bd3786\"],[0.5555555555555556,\"#d8576b\"],[0.6666666666666666,\"#ed7953\"],[0.7777777777777778,\"#fb9f3a\"],[0.8888888888888888,\"#fdca26\"],[1.0,\"#f0f921\"]]}],\"surface\":[{\"type\":\"surface\",\"colorbar\":{\"outlinewidth\":0,\"ticks\":\"\"},\"colorscale\":[[0.0,\"#0d0887\"],[0.1111111111111111,\"#46039f\"],[0.2222222222222222,\"#7201a8\"],[0.3333333333333333,\"#9c179e\"],[0.4444444444444444,\"#bd3786\"],[0.5555555555555556,\"#d8576b\"],[0.6666666666666666,\"#ed7953\"],[0.7777777777777778,\"#fb9f3a\"],[0.8888888888888888,\"#fdca26\"],[1.0,\"#f0f921\"]]}],\"mesh3d\":[{\"type\":\"mesh3d\",\"colorbar\":{\"outlinewidth\":0,\"ticks\":\"\"}}],\"scatter\":[{\"fillpattern\":{\"fillmode\":\"overlay\",\"size\":10,\"solidity\":0.2},\"type\":\"scatter\"}],\"parcoords\":[{\"type\":\"parcoords\",\"line\":{\"colorbar\":{\"outlinewidth\":0,\"ticks\":\"\"}}}],\"scatterpolargl\":[{\"type\":\"scatterpolargl\",\"marker\":{\"colorbar\":{\"outlinewidth\":0,\"ticks\":\"\"}}}],\"bar\":[{\"error_x\":{\"color\":\"#2a3f5f\"},\"error_y\":{\"color\":\"#2a3f5f\"},\"marker\":{\"line\":{\"color\":\"#E5ECF6\",\"width\":0.5},\"pattern\":{\"fillmode\":\"overlay\",\"size\":10,\"solidity\":0.2}},\"type\":\"bar\"}],\"scattergeo\":[{\"type\":\"scattergeo\",\"marker\":{\"colorbar\":{\"outlinewidth\":0,\"ticks\":\"\"}}}],\"scatterpolar\":[{\"type\":\"scatterpolar\",\"marker\":{\"colorbar\":{\"outlinewidth\":0,\"ticks\":\"\"}}}],\"histogram\":[{\"marker\":{\"pattern\":{\"fillmode\":\"overlay\",\"size\":10,\"solidity\":0.2}},\"type\":\"histogram\"}],\"scattergl\":[{\"type\":\"scattergl\",\"marker\":{\"colorbar\":{\"outlinewidth\":0,\"ticks\":\"\"}}}],\"scatter3d\":[{\"type\":\"scatter3d\",\"line\":{\"colorbar\":{\"outlinewidth\":0,\"ticks\":\"\"}},\"marker\":{\"colorbar\":{\"outlinewidth\":0,\"ticks\":\"\"}}}],\"scattermapbox\":[{\"type\":\"scattermapbox\",\"marker\":{\"colorbar\":{\"outlinewidth\":0,\"ticks\":\"\"}}}],\"scatterternary\":[{\"type\":\"scatterternary\",\"marker\":{\"colorbar\":{\"outlinewidth\":0,\"ticks\":\"\"}}}],\"scattercarpet\":[{\"type\":\"scattercarpet\",\"marker\":{\"colorbar\":{\"outlinewidth\":0,\"ticks\":\"\"}}}],\"carpet\":[{\"aaxis\":{\"endlinecolor\":\"#2a3f5f\",\"gridcolor\":\"white\",\"linecolor\":\"white\",\"minorgridcolor\":\"white\",\"startlinecolor\":\"#2a3f5f\"},\"baxis\":{\"endlinecolor\":\"#2a3f5f\",\"gridcolor\":\"white\",\"linecolor\":\"white\",\"minorgridcolor\":\"white\",\"startlinecolor\":\"#2a3f5f\"},\"type\":\"carpet\"}],\"table\":[{\"cells\":{\"fill\":{\"color\":\"#EBF0F8\"},\"line\":{\"color\":\"white\"}},\"header\":{\"fill\":{\"color\":\"#C8D4E3\"},\"line\":{\"color\":\"white\"}},\"type\":\"table\"}],\"barpolar\":[{\"marker\":{\"line\":{\"color\":\"#E5ECF6\",\"width\":0.5},\"pattern\":{\"fillmode\":\"overlay\",\"size\":10,\"solidity\":0.2}},\"type\":\"barpolar\"}],\"pie\":[{\"automargin\":true,\"type\":\"pie\"}]},\"layout\":{\"autotypenumbers\":\"strict\",\"colorway\":[\"#636efa\",\"#EF553B\",\"#00cc96\",\"#ab63fa\",\"#FFA15A\",\"#19d3f3\",\"#FF6692\",\"#B6E880\",\"#FF97FF\",\"#FECB52\"],\"font\":{\"color\":\"#2a3f5f\"},\"hovermode\":\"closest\",\"hoverlabel\":{\"align\":\"left\"},\"paper_bgcolor\":\"white\",\"plot_bgcolor\":\"#E5ECF6\",\"polar\":{\"bgcolor\":\"#E5ECF6\",\"angularaxis\":{\"gridcolor\":\"white\",\"linecolor\":\"white\",\"ticks\":\"\"},\"radialaxis\":{\"gridcolor\":\"white\",\"linecolor\":\"white\",\"ticks\":\"\"}},\"ternary\":{\"bgcolor\":\"#E5ECF6\",\"aaxis\":{\"gridcolor\":\"white\",\"linecolor\":\"white\",\"ticks\":\"\"},\"baxis\":{\"gridcolor\":\"white\",\"linecolor\":\"white\",\"ticks\":\"\"},\"caxis\":{\"gridcolor\":\"white\",\"linecolor\":\"white\",\"ticks\":\"\"}},\"coloraxis\":{\"colorbar\":{\"outlinewidth\":0,\"ticks\":\"\"}},\"colorscale\":{\"sequential\":[[0.0,\"#0d0887\"],[0.1111111111111111,\"#46039f\"],[0.2222222222222222,\"#7201a8\"],[0.3333333333333333,\"#9c179e\"],[0.4444444444444444,\"#bd3786\"],[0.5555555555555556,\"#d8576b\"],[0.6666666666666666,\"#ed7953\"],[0.7777777777777778,\"#fb9f3a\"],[0.8888888888888888,\"#fdca26\"],[1.0,\"#f0f921\"]],\"sequentialminus\":[[0.0,\"#0d0887\"],[0.1111111111111111,\"#46039f\"],[0.2222222222222222,\"#7201a8\"],[0.3333333333333333,\"#9c179e\"],[0.4444444444444444,\"#bd3786\"],[0.5555555555555556,\"#d8576b\"],[0.6666666666666666,\"#ed7953\"],[0.7777777777777778,\"#fb9f3a\"],[0.8888888888888888,\"#fdca26\"],[1.0,\"#f0f921\"]],\"diverging\":[[0,\"#8e0152\"],[0.1,\"#c51b7d\"],[0.2,\"#de77ae\"],[0.3,\"#f1b6da\"],[0.4,\"#fde0ef\"],[0.5,\"#f7f7f7\"],[0.6,\"#e6f5d0\"],[0.7,\"#b8e186\"],[0.8,\"#7fbc41\"],[0.9,\"#4d9221\"],[1,\"#276419\"]]},\"xaxis\":{\"gridcolor\":\"white\",\"linecolor\":\"white\",\"ticks\":\"\",\"title\":{\"standoff\":15},\"zerolinecolor\":\"white\",\"automargin\":true,\"zerolinewidth\":2},\"yaxis\":{\"gridcolor\":\"white\",\"linecolor\":\"white\",\"ticks\":\"\",\"title\":{\"standoff\":15},\"zerolinecolor\":\"white\",\"automargin\":true,\"zerolinewidth\":2},\"scene\":{\"xaxis\":{\"backgroundcolor\":\"#E5ECF6\",\"gridcolor\":\"white\",\"linecolor\":\"white\",\"showbackground\":true,\"ticks\":\"\",\"zerolinecolor\":\"white\",\"gridwidth\":2},\"yaxis\":{\"backgroundcolor\":\"#E5ECF6\",\"gridcolor\":\"white\",\"linecolor\":\"white\",\"showbackground\":true,\"ticks\":\"\",\"zerolinecolor\":\"white\",\"gridwidth\":2},\"zaxis\":{\"backgroundcolor\":\"#E5ECF6\",\"gridcolor\":\"white\",\"linecolor\":\"white\",\"showbackground\":true,\"ticks\":\"\",\"zerolinecolor\":\"white\",\"gridwidth\":2}},\"shapedefaults\":{\"line\":{\"color\":\"#2a3f5f\"}},\"annotationdefaults\":{\"arrowcolor\":\"#2a3f5f\",\"arrowhead\":0,\"arrowwidth\":1},\"geo\":{\"bgcolor\":\"white\",\"landcolor\":\"#E5ECF6\",\"subunitcolor\":\"white\",\"showland\":true,\"showlakes\":true,\"lakecolor\":\"white\"},\"title\":{\"x\":0.05},\"mapbox\":{\"style\":\"light\"}}},\"xaxis\":{\"anchor\":\"y\",\"domain\":[0.0,0.45],\"categoryorder\":\"array\",\"categoryarray\":[\"very negative\",\"negative\",\"weakly negative\",\"Neutral\",\"weakly positive\",\"positive\",\"very positive\"]},\"yaxis\":{\"anchor\":\"x\",\"domain\":[0.625,1.0],\"range\":[0,500]},\"xaxis2\":{\"anchor\":\"y2\",\"domain\":[0.55,1.0],\"categoryorder\":\"array\",\"categoryarray\":[\"very negative\",\"negative\",\"weakly negative\",\"Neutral\",\"weakly positive\",\"positive\",\"very positive\"]},\"yaxis2\":{\"anchor\":\"x2\",\"domain\":[0.625,1.0],\"range\":[0,500]},\"xaxis3\":{\"anchor\":\"y3\",\"domain\":[0.0,0.45],\"categoryorder\":\"array\",\"categoryarray\":[\"very negative\",\"negative\",\"weakly negative\",\"Neutral\",\"weakly positive\",\"positive\",\"very positive\"]},\"yaxis3\":{\"anchor\":\"x3\",\"domain\":[0.0,0.375],\"range\":[0,500]},\"xaxis4\":{\"anchor\":\"y4\",\"domain\":[0.55,1.0],\"categoryorder\":\"array\",\"categoryarray\":[\"very negative\",\"negative\",\"weakly negative\",\"Neutral\",\"weakly positive\",\"positive\",\"very positive\"]},\"yaxis4\":{\"anchor\":\"x4\",\"domain\":[0.0,0.375],\"range\":[0,500]},\"annotations\":[{\"font\":{\"size\":16},\"showarrow\":false,\"text\":\"Text-only\",\"x\":0.225,\"xanchor\":\"center\",\"xref\":\"paper\",\"y\":1.0,\"yanchor\":\"bottom\",\"yref\":\"paper\"},{\"font\":{\"size\":16},\"showarrow\":false,\"text\":\"Acoustic-only\",\"x\":0.775,\"xanchor\":\"center\",\"xref\":\"paper\",\"y\":1.0,\"yanchor\":\"bottom\",\"yref\":\"paper\"},{\"font\":{\"size\":16},\"showarrow\":false,\"text\":\"Visual-only\",\"x\":0.225,\"xanchor\":\"center\",\"xref\":\"paper\",\"y\":0.375,\"yanchor\":\"bottom\",\"yref\":\"paper\"},{\"font\":{\"size\":16},\"showarrow\":false,\"text\":\"TFN-fusion\",\"x\":0.775,\"xanchor\":\"center\",\"xref\":\"paper\",\"y\":0.375,\"yanchor\":\"bottom\",\"yref\":\"paper\"}],\"title\":{\"text\":\"Unimodal results distribution\"},\"height\":800,\"width\":1200},                        {\"responsive\": true}                    ).then(function(){\n",
       "                            \n",
       "var gd = document.getElementById('6c4be9b6-9669-4fe7-bc3f-ce5c1fdb160a');\n",
       "var x = new MutationObserver(function (mutations, observer) {{\n",
       "        var display = window.getComputedStyle(gd).display;\n",
       "        if (!display || display === 'none') {{\n",
       "            console.log([gd, 'removed!']);\n",
       "            Plotly.purge(gd);\n",
       "            observer.disconnect();\n",
       "        }}\n",
       "}});\n",
       "\n",
       "// Listen for the removal of the full notebook cells\n",
       "var notebookContainer = gd.closest('#notebook-container');\n",
       "if (notebookContainer) {{\n",
       "    x.observe(notebookContainer, {childList: true});\n",
       "}}\n",
       "\n",
       "// Listen for the clearing of the current output cell\n",
       "var outputEl = gd.closest('.output');\n",
       "if (outputEl) {{\n",
       "    x.observe(outputEl, {childList: true});\n",
       "}}\n",
       "\n",
       "                        })                };                });            </script>        </div>"
      ]
     },
     "metadata": {},
     "output_type": "display_data"
    }
   ],
   "source": [
    "keys = list(tfn.keys())\n",
    "for key in keys:\n",
    "    tfn[key].extend(['very negative', 'negative', 'weakly negative', 'Neutral', 'weakly positive', 'positive', 'very positive'])\n",
    "\n",
    "df = pd.DataFrame(data=tfn)\n",
    "\n",
    "fig1 = px.bar(df, x=\"text_7\")\n",
    "fig2 = px.bar(df, x=\"audio_7\")\n",
    "fig3 = px.bar(df, x=\"video_7\")\n",
    "fig4 = px.bar(df, x=\"preds_7\")\n",
    "\n",
    "fig1_traces = []\n",
    "fig2_traces = []\n",
    "fig3_traces = []\n",
    "fig4_traces = []\n",
    "\n",
    "for trace in range(len(fig1[\"data\"])):\n",
    "    fig1_traces.append(fig1[\"data\"][trace])\n",
    "for trace in range(len(fig2[\"data\"])):\n",
    "    fig2_traces.append(fig2[\"data\"][trace])\n",
    "for trace in range(len(fig3[\"data\"])):\n",
    "    fig3_traces.append(fig3[\"data\"][trace])\n",
    "for trace in range(len(fig4[\"data\"])):\n",
    "    fig4_traces.append(fig4[\"data\"][trace])\n",
    "\n",
    "this_figure = sp.make_subplots(rows=2, cols=2, subplot_titles=(\"Text-only\", \"Acoustic-only\", \"Visual-only\", \"TFN-fusion\"))\n",
    "for traces in fig1_traces:\n",
    "    this_figure.append_trace(traces, row=1, col=1)\n",
    "for traces in fig2_traces:\n",
    "    this_figure.append_trace(traces, row=1, col=2)\n",
    "for traces in fig3_traces:\n",
    "    this_figure.append_trace(traces, row=2, col=1)\n",
    "for traces in fig4_traces:\n",
    "    this_figure.append_trace(traces, row=2, col=2)\n",
    "\n",
    "this_figure.update_layout(height=800, width=1200, title_text=\"Unimodal results distribution\")\n",
    "this_figure.update_xaxes(categoryorder='array', categoryarray= order)\n",
    "this_figure.update_yaxes(range=[0,500])\n",
    "this_figure.show()"
   ]
  },
  {
   "cell_type": "markdown",
   "metadata": {},
   "source": [
    "## MMIM"
   ]
  },
  {
   "cell_type": "code",
   "execution_count": 9,
   "metadata": {},
   "outputs": [],
   "source": [
    "import pickle as pkl\n",
    "\n",
    "with open(f\"results/MIM_mosi.pkl\", \"rb\") as handle:\n",
    "    # tfn_dict = {segment, labels, labels_2, labels_7, preds, preds_2, preds_7}\n",
    "    mmim = pkl.load(handle)"
   ]
  },
  {
   "cell_type": "code",
   "execution_count": 10,
   "metadata": {},
   "outputs": [
    {
     "name": "stdout",
     "output_type": "stream",
     "text": [
      "686\n"
     ]
    }
   ],
   "source": [
    "print(len(mmim['segment']))"
   ]
  },
  {
   "cell_type": "code",
   "execution_count": 11,
   "metadata": {},
   "outputs": [
    {
     "data": {
      "application/vnd.plotly.v1+json": {
       "config": {
        "plotlyServerURL": "https://plot.ly"
       },
       "data": [
        {
         "alignmentgroup": "True",
         "hovertemplate": "labels_7=%{x}<br>segment=%{y}<extra></extra>",
         "legendgroup": "",
         "marker": {
          "color": "#636efa",
          "pattern": {
           "shape": ""
          }
         },
         "name": "",
         "offsetgroup": "",
         "orientation": "v",
         "showlegend": false,
         "textposition": "auto",
         "type": "bar",
         "x": [
          "Neutral",
          "negative",
          "positive",
          "very negative",
          "very positive",
          "weakly negative",
          "weakly positive"
         ],
         "xaxis": "x",
         "y": [
          96,
          141,
          94,
          96,
          48,
          113,
          98
         ],
         "yaxis": "y"
        },
        {
         "alignmentgroup": "True",
         "hovertemplate": "preds_7=%{x}<br>segment=%{y}<extra></extra>",
         "legendgroup": "",
         "marker": {
          "color": "#636efa",
          "pattern": {
           "shape": ""
          }
         },
         "name": "",
         "offsetgroup": "",
         "orientation": "v",
         "showlegend": false,
         "textposition": "auto",
         "type": "bar",
         "x": [
          "negative",
          "positive",
          "very negative",
          "very positive"
         ],
         "xaxis": "x2",
         "y": [
          1,
          1,
          387,
          297
         ],
         "yaxis": "y2"
        }
       ],
       "layout": {
        "annotations": [
         {
          "font": {
           "size": 16
          },
          "showarrow": false,
          "text": "Grond-truth",
          "x": 0.225,
          "xanchor": "center",
          "xref": "paper",
          "y": 1,
          "yanchor": "bottom",
          "yref": "paper"
         },
         {
          "font": {
           "size": 16
          },
          "showarrow": false,
          "text": "MMIM",
          "x": 0.775,
          "xanchor": "center",
          "xref": "paper",
          "y": 1,
          "yanchor": "bottom",
          "yref": "paper"
         }
        ],
        "template": {
         "data": {
          "bar": [
           {
            "error_x": {
             "color": "#2a3f5f"
            },
            "error_y": {
             "color": "#2a3f5f"
            },
            "marker": {
             "line": {
              "color": "#E5ECF6",
              "width": 0.5
             },
             "pattern": {
              "fillmode": "overlay",
              "size": 10,
              "solidity": 0.2
             }
            },
            "type": "bar"
           }
          ],
          "barpolar": [
           {
            "marker": {
             "line": {
              "color": "#E5ECF6",
              "width": 0.5
             },
             "pattern": {
              "fillmode": "overlay",
              "size": 10,
              "solidity": 0.2
             }
            },
            "type": "barpolar"
           }
          ],
          "carpet": [
           {
            "aaxis": {
             "endlinecolor": "#2a3f5f",
             "gridcolor": "white",
             "linecolor": "white",
             "minorgridcolor": "white",
             "startlinecolor": "#2a3f5f"
            },
            "baxis": {
             "endlinecolor": "#2a3f5f",
             "gridcolor": "white",
             "linecolor": "white",
             "minorgridcolor": "white",
             "startlinecolor": "#2a3f5f"
            },
            "type": "carpet"
           }
          ],
          "choropleth": [
           {
            "colorbar": {
             "outlinewidth": 0,
             "ticks": ""
            },
            "type": "choropleth"
           }
          ],
          "contour": [
           {
            "colorbar": {
             "outlinewidth": 0,
             "ticks": ""
            },
            "colorscale": [
             [
              0,
              "#0d0887"
             ],
             [
              0.1111111111111111,
              "#46039f"
             ],
             [
              0.2222222222222222,
              "#7201a8"
             ],
             [
              0.3333333333333333,
              "#9c179e"
             ],
             [
              0.4444444444444444,
              "#bd3786"
             ],
             [
              0.5555555555555556,
              "#d8576b"
             ],
             [
              0.6666666666666666,
              "#ed7953"
             ],
             [
              0.7777777777777778,
              "#fb9f3a"
             ],
             [
              0.8888888888888888,
              "#fdca26"
             ],
             [
              1,
              "#f0f921"
             ]
            ],
            "type": "contour"
           }
          ],
          "contourcarpet": [
           {
            "colorbar": {
             "outlinewidth": 0,
             "ticks": ""
            },
            "type": "contourcarpet"
           }
          ],
          "heatmap": [
           {
            "colorbar": {
             "outlinewidth": 0,
             "ticks": ""
            },
            "colorscale": [
             [
              0,
              "#0d0887"
             ],
             [
              0.1111111111111111,
              "#46039f"
             ],
             [
              0.2222222222222222,
              "#7201a8"
             ],
             [
              0.3333333333333333,
              "#9c179e"
             ],
             [
              0.4444444444444444,
              "#bd3786"
             ],
             [
              0.5555555555555556,
              "#d8576b"
             ],
             [
              0.6666666666666666,
              "#ed7953"
             ],
             [
              0.7777777777777778,
              "#fb9f3a"
             ],
             [
              0.8888888888888888,
              "#fdca26"
             ],
             [
              1,
              "#f0f921"
             ]
            ],
            "type": "heatmap"
           }
          ],
          "heatmapgl": [
           {
            "colorbar": {
             "outlinewidth": 0,
             "ticks": ""
            },
            "colorscale": [
             [
              0,
              "#0d0887"
             ],
             [
              0.1111111111111111,
              "#46039f"
             ],
             [
              0.2222222222222222,
              "#7201a8"
             ],
             [
              0.3333333333333333,
              "#9c179e"
             ],
             [
              0.4444444444444444,
              "#bd3786"
             ],
             [
              0.5555555555555556,
              "#d8576b"
             ],
             [
              0.6666666666666666,
              "#ed7953"
             ],
             [
              0.7777777777777778,
              "#fb9f3a"
             ],
             [
              0.8888888888888888,
              "#fdca26"
             ],
             [
              1,
              "#f0f921"
             ]
            ],
            "type": "heatmapgl"
           }
          ],
          "histogram": [
           {
            "marker": {
             "pattern": {
              "fillmode": "overlay",
              "size": 10,
              "solidity": 0.2
             }
            },
            "type": "histogram"
           }
          ],
          "histogram2d": [
           {
            "colorbar": {
             "outlinewidth": 0,
             "ticks": ""
            },
            "colorscale": [
             [
              0,
              "#0d0887"
             ],
             [
              0.1111111111111111,
              "#46039f"
             ],
             [
              0.2222222222222222,
              "#7201a8"
             ],
             [
              0.3333333333333333,
              "#9c179e"
             ],
             [
              0.4444444444444444,
              "#bd3786"
             ],
             [
              0.5555555555555556,
              "#d8576b"
             ],
             [
              0.6666666666666666,
              "#ed7953"
             ],
             [
              0.7777777777777778,
              "#fb9f3a"
             ],
             [
              0.8888888888888888,
              "#fdca26"
             ],
             [
              1,
              "#f0f921"
             ]
            ],
            "type": "histogram2d"
           }
          ],
          "histogram2dcontour": [
           {
            "colorbar": {
             "outlinewidth": 0,
             "ticks": ""
            },
            "colorscale": [
             [
              0,
              "#0d0887"
             ],
             [
              0.1111111111111111,
              "#46039f"
             ],
             [
              0.2222222222222222,
              "#7201a8"
             ],
             [
              0.3333333333333333,
              "#9c179e"
             ],
             [
              0.4444444444444444,
              "#bd3786"
             ],
             [
              0.5555555555555556,
              "#d8576b"
             ],
             [
              0.6666666666666666,
              "#ed7953"
             ],
             [
              0.7777777777777778,
              "#fb9f3a"
             ],
             [
              0.8888888888888888,
              "#fdca26"
             ],
             [
              1,
              "#f0f921"
             ]
            ],
            "type": "histogram2dcontour"
           }
          ],
          "mesh3d": [
           {
            "colorbar": {
             "outlinewidth": 0,
             "ticks": ""
            },
            "type": "mesh3d"
           }
          ],
          "parcoords": [
           {
            "line": {
             "colorbar": {
              "outlinewidth": 0,
              "ticks": ""
             }
            },
            "type": "parcoords"
           }
          ],
          "pie": [
           {
            "automargin": true,
            "type": "pie"
           }
          ],
          "scatter": [
           {
            "fillpattern": {
             "fillmode": "overlay",
             "size": 10,
             "solidity": 0.2
            },
            "type": "scatter"
           }
          ],
          "scatter3d": [
           {
            "line": {
             "colorbar": {
              "outlinewidth": 0,
              "ticks": ""
             }
            },
            "marker": {
             "colorbar": {
              "outlinewidth": 0,
              "ticks": ""
             }
            },
            "type": "scatter3d"
           }
          ],
          "scattercarpet": [
           {
            "marker": {
             "colorbar": {
              "outlinewidth": 0,
              "ticks": ""
             }
            },
            "type": "scattercarpet"
           }
          ],
          "scattergeo": [
           {
            "marker": {
             "colorbar": {
              "outlinewidth": 0,
              "ticks": ""
             }
            },
            "type": "scattergeo"
           }
          ],
          "scattergl": [
           {
            "marker": {
             "colorbar": {
              "outlinewidth": 0,
              "ticks": ""
             }
            },
            "type": "scattergl"
           }
          ],
          "scattermapbox": [
           {
            "marker": {
             "colorbar": {
              "outlinewidth": 0,
              "ticks": ""
             }
            },
            "type": "scattermapbox"
           }
          ],
          "scatterpolar": [
           {
            "marker": {
             "colorbar": {
              "outlinewidth": 0,
              "ticks": ""
             }
            },
            "type": "scatterpolar"
           }
          ],
          "scatterpolargl": [
           {
            "marker": {
             "colorbar": {
              "outlinewidth": 0,
              "ticks": ""
             }
            },
            "type": "scatterpolargl"
           }
          ],
          "scatterternary": [
           {
            "marker": {
             "colorbar": {
              "outlinewidth": 0,
              "ticks": ""
             }
            },
            "type": "scatterternary"
           }
          ],
          "surface": [
           {
            "colorbar": {
             "outlinewidth": 0,
             "ticks": ""
            },
            "colorscale": [
             [
              0,
              "#0d0887"
             ],
             [
              0.1111111111111111,
              "#46039f"
             ],
             [
              0.2222222222222222,
              "#7201a8"
             ],
             [
              0.3333333333333333,
              "#9c179e"
             ],
             [
              0.4444444444444444,
              "#bd3786"
             ],
             [
              0.5555555555555556,
              "#d8576b"
             ],
             [
              0.6666666666666666,
              "#ed7953"
             ],
             [
              0.7777777777777778,
              "#fb9f3a"
             ],
             [
              0.8888888888888888,
              "#fdca26"
             ],
             [
              1,
              "#f0f921"
             ]
            ],
            "type": "surface"
           }
          ],
          "table": [
           {
            "cells": {
             "fill": {
              "color": "#EBF0F8"
             },
             "line": {
              "color": "white"
             }
            },
            "header": {
             "fill": {
              "color": "#C8D4E3"
             },
             "line": {
              "color": "white"
             }
            },
            "type": "table"
           }
          ]
         },
         "layout": {
          "annotationdefaults": {
           "arrowcolor": "#2a3f5f",
           "arrowhead": 0,
           "arrowwidth": 1
          },
          "autotypenumbers": "strict",
          "coloraxis": {
           "colorbar": {
            "outlinewidth": 0,
            "ticks": ""
           }
          },
          "colorscale": {
           "diverging": [
            [
             0,
             "#8e0152"
            ],
            [
             0.1,
             "#c51b7d"
            ],
            [
             0.2,
             "#de77ae"
            ],
            [
             0.3,
             "#f1b6da"
            ],
            [
             0.4,
             "#fde0ef"
            ],
            [
             0.5,
             "#f7f7f7"
            ],
            [
             0.6,
             "#e6f5d0"
            ],
            [
             0.7,
             "#b8e186"
            ],
            [
             0.8,
             "#7fbc41"
            ],
            [
             0.9,
             "#4d9221"
            ],
            [
             1,
             "#276419"
            ]
           ],
           "sequential": [
            [
             0,
             "#0d0887"
            ],
            [
             0.1111111111111111,
             "#46039f"
            ],
            [
             0.2222222222222222,
             "#7201a8"
            ],
            [
             0.3333333333333333,
             "#9c179e"
            ],
            [
             0.4444444444444444,
             "#bd3786"
            ],
            [
             0.5555555555555556,
             "#d8576b"
            ],
            [
             0.6666666666666666,
             "#ed7953"
            ],
            [
             0.7777777777777778,
             "#fb9f3a"
            ],
            [
             0.8888888888888888,
             "#fdca26"
            ],
            [
             1,
             "#f0f921"
            ]
           ],
           "sequentialminus": [
            [
             0,
             "#0d0887"
            ],
            [
             0.1111111111111111,
             "#46039f"
            ],
            [
             0.2222222222222222,
             "#7201a8"
            ],
            [
             0.3333333333333333,
             "#9c179e"
            ],
            [
             0.4444444444444444,
             "#bd3786"
            ],
            [
             0.5555555555555556,
             "#d8576b"
            ],
            [
             0.6666666666666666,
             "#ed7953"
            ],
            [
             0.7777777777777778,
             "#fb9f3a"
            ],
            [
             0.8888888888888888,
             "#fdca26"
            ],
            [
             1,
             "#f0f921"
            ]
           ]
          },
          "colorway": [
           "#636efa",
           "#EF553B",
           "#00cc96",
           "#ab63fa",
           "#FFA15A",
           "#19d3f3",
           "#FF6692",
           "#B6E880",
           "#FF97FF",
           "#FECB52"
          ],
          "font": {
           "color": "#2a3f5f"
          },
          "geo": {
           "bgcolor": "white",
           "lakecolor": "white",
           "landcolor": "#E5ECF6",
           "showlakes": true,
           "showland": true,
           "subunitcolor": "white"
          },
          "hoverlabel": {
           "align": "left"
          },
          "hovermode": "closest",
          "mapbox": {
           "style": "light"
          },
          "paper_bgcolor": "white",
          "plot_bgcolor": "#E5ECF6",
          "polar": {
           "angularaxis": {
            "gridcolor": "white",
            "linecolor": "white",
            "ticks": ""
           },
           "bgcolor": "#E5ECF6",
           "radialaxis": {
            "gridcolor": "white",
            "linecolor": "white",
            "ticks": ""
           }
          },
          "scene": {
           "xaxis": {
            "backgroundcolor": "#E5ECF6",
            "gridcolor": "white",
            "gridwidth": 2,
            "linecolor": "white",
            "showbackground": true,
            "ticks": "",
            "zerolinecolor": "white"
           },
           "yaxis": {
            "backgroundcolor": "#E5ECF6",
            "gridcolor": "white",
            "gridwidth": 2,
            "linecolor": "white",
            "showbackground": true,
            "ticks": "",
            "zerolinecolor": "white"
           },
           "zaxis": {
            "backgroundcolor": "#E5ECF6",
            "gridcolor": "white",
            "gridwidth": 2,
            "linecolor": "white",
            "showbackground": true,
            "ticks": "",
            "zerolinecolor": "white"
           }
          },
          "shapedefaults": {
           "line": {
            "color": "#2a3f5f"
           }
          },
          "ternary": {
           "aaxis": {
            "gridcolor": "white",
            "linecolor": "white",
            "ticks": ""
           },
           "baxis": {
            "gridcolor": "white",
            "linecolor": "white",
            "ticks": ""
           },
           "bgcolor": "#E5ECF6",
           "caxis": {
            "gridcolor": "white",
            "linecolor": "white",
            "ticks": ""
           }
          },
          "title": {
           "x": 0.05
          },
          "xaxis": {
           "automargin": true,
           "gridcolor": "white",
           "linecolor": "white",
           "ticks": "",
           "title": {
            "standoff": 15
           },
           "zerolinecolor": "white",
           "zerolinewidth": 2
          },
          "yaxis": {
           "automargin": true,
           "gridcolor": "white",
           "linecolor": "white",
           "ticks": "",
           "title": {
            "standoff": 15
           },
           "zerolinecolor": "white",
           "zerolinewidth": 2
          }
         }
        },
        "title": {
         "text": "7-Classification Result"
        },
        "xaxis": {
         "anchor": "y",
         "categoryarray": [
          "very negative",
          "negative",
          "weakly negative",
          "Neutral",
          "weakly positive",
          "positive",
          "very positive"
         ],
         "categoryorder": "array",
         "domain": [
          0,
          0.45
         ]
        },
        "xaxis2": {
         "anchor": "y2",
         "categoryarray": [
          "very negative",
          "negative",
          "weakly negative",
          "Neutral",
          "weakly positive",
          "positive",
          "very positive"
         ],
         "categoryorder": "array",
         "domain": [
          0.55,
          1
         ]
        },
        "yaxis": {
         "anchor": "x",
         "domain": [
          0,
          1
         ],
         "range": [
          0,
          200
         ]
        },
        "yaxis2": {
         "anchor": "x2",
         "domain": [
          0,
          1
         ],
         "range": [
          0,
          200
         ]
        }
       }
      },
      "text/html": [
       "<div>                            <div id=\"f6554b54-7283-4d8f-a0cf-4ace70d29b71\" class=\"plotly-graph-div\" style=\"height:525px; width:100%;\"></div>            <script type=\"text/javascript\">                require([\"plotly\"], function(Plotly) {                    window.PLOTLYENV=window.PLOTLYENV || {};                                    if (document.getElementById(\"f6554b54-7283-4d8f-a0cf-4ace70d29b71\")) {                    Plotly.newPlot(                        \"f6554b54-7283-4d8f-a0cf-4ace70d29b71\",                        [{\"alignmentgroup\":\"True\",\"hovertemplate\":\"labels_7=%{x}<br>segment=%{y}<extra></extra>\",\"legendgroup\":\"\",\"marker\":{\"color\":\"#636efa\",\"pattern\":{\"shape\":\"\"}},\"name\":\"\",\"offsetgroup\":\"\",\"orientation\":\"v\",\"showlegend\":false,\"textposition\":\"auto\",\"x\":[\"Neutral\",\"negative\",\"positive\",\"very negative\",\"very positive\",\"weakly negative\",\"weakly positive\"],\"xaxis\":\"x\",\"y\":[96,141,94,96,48,113,98],\"yaxis\":\"y\",\"type\":\"bar\"},{\"alignmentgroup\":\"True\",\"hovertemplate\":\"preds_7=%{x}<br>segment=%{y}<extra></extra>\",\"legendgroup\":\"\",\"marker\":{\"color\":\"#636efa\",\"pattern\":{\"shape\":\"\"}},\"name\":\"\",\"offsetgroup\":\"\",\"orientation\":\"v\",\"showlegend\":false,\"textposition\":\"auto\",\"x\":[\"negative\",\"positive\",\"very negative\",\"very positive\"],\"xaxis\":\"x2\",\"y\":[1,1,387,297],\"yaxis\":\"y2\",\"type\":\"bar\"}],                        {\"template\":{\"data\":{\"histogram2dcontour\":[{\"type\":\"histogram2dcontour\",\"colorbar\":{\"outlinewidth\":0,\"ticks\":\"\"},\"colorscale\":[[0.0,\"#0d0887\"],[0.1111111111111111,\"#46039f\"],[0.2222222222222222,\"#7201a8\"],[0.3333333333333333,\"#9c179e\"],[0.4444444444444444,\"#bd3786\"],[0.5555555555555556,\"#d8576b\"],[0.6666666666666666,\"#ed7953\"],[0.7777777777777778,\"#fb9f3a\"],[0.8888888888888888,\"#fdca26\"],[1.0,\"#f0f921\"]]}],\"choropleth\":[{\"type\":\"choropleth\",\"colorbar\":{\"outlinewidth\":0,\"ticks\":\"\"}}],\"histogram2d\":[{\"type\":\"histogram2d\",\"colorbar\":{\"outlinewidth\":0,\"ticks\":\"\"},\"colorscale\":[[0.0,\"#0d0887\"],[0.1111111111111111,\"#46039f\"],[0.2222222222222222,\"#7201a8\"],[0.3333333333333333,\"#9c179e\"],[0.4444444444444444,\"#bd3786\"],[0.5555555555555556,\"#d8576b\"],[0.6666666666666666,\"#ed7953\"],[0.7777777777777778,\"#fb9f3a\"],[0.8888888888888888,\"#fdca26\"],[1.0,\"#f0f921\"]]}],\"heatmap\":[{\"type\":\"heatmap\",\"colorbar\":{\"outlinewidth\":0,\"ticks\":\"\"},\"colorscale\":[[0.0,\"#0d0887\"],[0.1111111111111111,\"#46039f\"],[0.2222222222222222,\"#7201a8\"],[0.3333333333333333,\"#9c179e\"],[0.4444444444444444,\"#bd3786\"],[0.5555555555555556,\"#d8576b\"],[0.6666666666666666,\"#ed7953\"],[0.7777777777777778,\"#fb9f3a\"],[0.8888888888888888,\"#fdca26\"],[1.0,\"#f0f921\"]]}],\"heatmapgl\":[{\"type\":\"heatmapgl\",\"colorbar\":{\"outlinewidth\":0,\"ticks\":\"\"},\"colorscale\":[[0.0,\"#0d0887\"],[0.1111111111111111,\"#46039f\"],[0.2222222222222222,\"#7201a8\"],[0.3333333333333333,\"#9c179e\"],[0.4444444444444444,\"#bd3786\"],[0.5555555555555556,\"#d8576b\"],[0.6666666666666666,\"#ed7953\"],[0.7777777777777778,\"#fb9f3a\"],[0.8888888888888888,\"#fdca26\"],[1.0,\"#f0f921\"]]}],\"contourcarpet\":[{\"type\":\"contourcarpet\",\"colorbar\":{\"outlinewidth\":0,\"ticks\":\"\"}}],\"contour\":[{\"type\":\"contour\",\"colorbar\":{\"outlinewidth\":0,\"ticks\":\"\"},\"colorscale\":[[0.0,\"#0d0887\"],[0.1111111111111111,\"#46039f\"],[0.2222222222222222,\"#7201a8\"],[0.3333333333333333,\"#9c179e\"],[0.4444444444444444,\"#bd3786\"],[0.5555555555555556,\"#d8576b\"],[0.6666666666666666,\"#ed7953\"],[0.7777777777777778,\"#fb9f3a\"],[0.8888888888888888,\"#fdca26\"],[1.0,\"#f0f921\"]]}],\"surface\":[{\"type\":\"surface\",\"colorbar\":{\"outlinewidth\":0,\"ticks\":\"\"},\"colorscale\":[[0.0,\"#0d0887\"],[0.1111111111111111,\"#46039f\"],[0.2222222222222222,\"#7201a8\"],[0.3333333333333333,\"#9c179e\"],[0.4444444444444444,\"#bd3786\"],[0.5555555555555556,\"#d8576b\"],[0.6666666666666666,\"#ed7953\"],[0.7777777777777778,\"#fb9f3a\"],[0.8888888888888888,\"#fdca26\"],[1.0,\"#f0f921\"]]}],\"mesh3d\":[{\"type\":\"mesh3d\",\"colorbar\":{\"outlinewidth\":0,\"ticks\":\"\"}}],\"scatter\":[{\"fillpattern\":{\"fillmode\":\"overlay\",\"size\":10,\"solidity\":0.2},\"type\":\"scatter\"}],\"parcoords\":[{\"type\":\"parcoords\",\"line\":{\"colorbar\":{\"outlinewidth\":0,\"ticks\":\"\"}}}],\"scatterpolargl\":[{\"type\":\"scatterpolargl\",\"marker\":{\"colorbar\":{\"outlinewidth\":0,\"ticks\":\"\"}}}],\"bar\":[{\"error_x\":{\"color\":\"#2a3f5f\"},\"error_y\":{\"color\":\"#2a3f5f\"},\"marker\":{\"line\":{\"color\":\"#E5ECF6\",\"width\":0.5},\"pattern\":{\"fillmode\":\"overlay\",\"size\":10,\"solidity\":0.2}},\"type\":\"bar\"}],\"scattergeo\":[{\"type\":\"scattergeo\",\"marker\":{\"colorbar\":{\"outlinewidth\":0,\"ticks\":\"\"}}}],\"scatterpolar\":[{\"type\":\"scatterpolar\",\"marker\":{\"colorbar\":{\"outlinewidth\":0,\"ticks\":\"\"}}}],\"histogram\":[{\"marker\":{\"pattern\":{\"fillmode\":\"overlay\",\"size\":10,\"solidity\":0.2}},\"type\":\"histogram\"}],\"scattergl\":[{\"type\":\"scattergl\",\"marker\":{\"colorbar\":{\"outlinewidth\":0,\"ticks\":\"\"}}}],\"scatter3d\":[{\"type\":\"scatter3d\",\"line\":{\"colorbar\":{\"outlinewidth\":0,\"ticks\":\"\"}},\"marker\":{\"colorbar\":{\"outlinewidth\":0,\"ticks\":\"\"}}}],\"scattermapbox\":[{\"type\":\"scattermapbox\",\"marker\":{\"colorbar\":{\"outlinewidth\":0,\"ticks\":\"\"}}}],\"scatterternary\":[{\"type\":\"scatterternary\",\"marker\":{\"colorbar\":{\"outlinewidth\":0,\"ticks\":\"\"}}}],\"scattercarpet\":[{\"type\":\"scattercarpet\",\"marker\":{\"colorbar\":{\"outlinewidth\":0,\"ticks\":\"\"}}}],\"carpet\":[{\"aaxis\":{\"endlinecolor\":\"#2a3f5f\",\"gridcolor\":\"white\",\"linecolor\":\"white\",\"minorgridcolor\":\"white\",\"startlinecolor\":\"#2a3f5f\"},\"baxis\":{\"endlinecolor\":\"#2a3f5f\",\"gridcolor\":\"white\",\"linecolor\":\"white\",\"minorgridcolor\":\"white\",\"startlinecolor\":\"#2a3f5f\"},\"type\":\"carpet\"}],\"table\":[{\"cells\":{\"fill\":{\"color\":\"#EBF0F8\"},\"line\":{\"color\":\"white\"}},\"header\":{\"fill\":{\"color\":\"#C8D4E3\"},\"line\":{\"color\":\"white\"}},\"type\":\"table\"}],\"barpolar\":[{\"marker\":{\"line\":{\"color\":\"#E5ECF6\",\"width\":0.5},\"pattern\":{\"fillmode\":\"overlay\",\"size\":10,\"solidity\":0.2}},\"type\":\"barpolar\"}],\"pie\":[{\"automargin\":true,\"type\":\"pie\"}]},\"layout\":{\"autotypenumbers\":\"strict\",\"colorway\":[\"#636efa\",\"#EF553B\",\"#00cc96\",\"#ab63fa\",\"#FFA15A\",\"#19d3f3\",\"#FF6692\",\"#B6E880\",\"#FF97FF\",\"#FECB52\"],\"font\":{\"color\":\"#2a3f5f\"},\"hovermode\":\"closest\",\"hoverlabel\":{\"align\":\"left\"},\"paper_bgcolor\":\"white\",\"plot_bgcolor\":\"#E5ECF6\",\"polar\":{\"bgcolor\":\"#E5ECF6\",\"angularaxis\":{\"gridcolor\":\"white\",\"linecolor\":\"white\",\"ticks\":\"\"},\"radialaxis\":{\"gridcolor\":\"white\",\"linecolor\":\"white\",\"ticks\":\"\"}},\"ternary\":{\"bgcolor\":\"#E5ECF6\",\"aaxis\":{\"gridcolor\":\"white\",\"linecolor\":\"white\",\"ticks\":\"\"},\"baxis\":{\"gridcolor\":\"white\",\"linecolor\":\"white\",\"ticks\":\"\"},\"caxis\":{\"gridcolor\":\"white\",\"linecolor\":\"white\",\"ticks\":\"\"}},\"coloraxis\":{\"colorbar\":{\"outlinewidth\":0,\"ticks\":\"\"}},\"colorscale\":{\"sequential\":[[0.0,\"#0d0887\"],[0.1111111111111111,\"#46039f\"],[0.2222222222222222,\"#7201a8\"],[0.3333333333333333,\"#9c179e\"],[0.4444444444444444,\"#bd3786\"],[0.5555555555555556,\"#d8576b\"],[0.6666666666666666,\"#ed7953\"],[0.7777777777777778,\"#fb9f3a\"],[0.8888888888888888,\"#fdca26\"],[1.0,\"#f0f921\"]],\"sequentialminus\":[[0.0,\"#0d0887\"],[0.1111111111111111,\"#46039f\"],[0.2222222222222222,\"#7201a8\"],[0.3333333333333333,\"#9c179e\"],[0.4444444444444444,\"#bd3786\"],[0.5555555555555556,\"#d8576b\"],[0.6666666666666666,\"#ed7953\"],[0.7777777777777778,\"#fb9f3a\"],[0.8888888888888888,\"#fdca26\"],[1.0,\"#f0f921\"]],\"diverging\":[[0,\"#8e0152\"],[0.1,\"#c51b7d\"],[0.2,\"#de77ae\"],[0.3,\"#f1b6da\"],[0.4,\"#fde0ef\"],[0.5,\"#f7f7f7\"],[0.6,\"#e6f5d0\"],[0.7,\"#b8e186\"],[0.8,\"#7fbc41\"],[0.9,\"#4d9221\"],[1,\"#276419\"]]},\"xaxis\":{\"gridcolor\":\"white\",\"linecolor\":\"white\",\"ticks\":\"\",\"title\":{\"standoff\":15},\"zerolinecolor\":\"white\",\"automargin\":true,\"zerolinewidth\":2},\"yaxis\":{\"gridcolor\":\"white\",\"linecolor\":\"white\",\"ticks\":\"\",\"title\":{\"standoff\":15},\"zerolinecolor\":\"white\",\"automargin\":true,\"zerolinewidth\":2},\"scene\":{\"xaxis\":{\"backgroundcolor\":\"#E5ECF6\",\"gridcolor\":\"white\",\"linecolor\":\"white\",\"showbackground\":true,\"ticks\":\"\",\"zerolinecolor\":\"white\",\"gridwidth\":2},\"yaxis\":{\"backgroundcolor\":\"#E5ECF6\",\"gridcolor\":\"white\",\"linecolor\":\"white\",\"showbackground\":true,\"ticks\":\"\",\"zerolinecolor\":\"white\",\"gridwidth\":2},\"zaxis\":{\"backgroundcolor\":\"#E5ECF6\",\"gridcolor\":\"white\",\"linecolor\":\"white\",\"showbackground\":true,\"ticks\":\"\",\"zerolinecolor\":\"white\",\"gridwidth\":2}},\"shapedefaults\":{\"line\":{\"color\":\"#2a3f5f\"}},\"annotationdefaults\":{\"arrowcolor\":\"#2a3f5f\",\"arrowhead\":0,\"arrowwidth\":1},\"geo\":{\"bgcolor\":\"white\",\"landcolor\":\"#E5ECF6\",\"subunitcolor\":\"white\",\"showland\":true,\"showlakes\":true,\"lakecolor\":\"white\"},\"title\":{\"x\":0.05},\"mapbox\":{\"style\":\"light\"}}},\"xaxis\":{\"anchor\":\"y\",\"domain\":[0.0,0.45],\"categoryorder\":\"array\",\"categoryarray\":[\"very negative\",\"negative\",\"weakly negative\",\"Neutral\",\"weakly positive\",\"positive\",\"very positive\"]},\"yaxis\":{\"anchor\":\"x\",\"domain\":[0.0,1.0],\"range\":[0,200]},\"xaxis2\":{\"anchor\":\"y2\",\"domain\":[0.55,1.0],\"categoryorder\":\"array\",\"categoryarray\":[\"very negative\",\"negative\",\"weakly negative\",\"Neutral\",\"weakly positive\",\"positive\",\"very positive\"]},\"yaxis2\":{\"anchor\":\"x2\",\"domain\":[0.0,1.0],\"range\":[0,200]},\"annotations\":[{\"font\":{\"size\":16},\"showarrow\":false,\"text\":\"Grond-truth\",\"x\":0.225,\"xanchor\":\"center\",\"xref\":\"paper\",\"y\":1.0,\"yanchor\":\"bottom\",\"yref\":\"paper\"},{\"font\":{\"size\":16},\"showarrow\":false,\"text\":\"MMIM\",\"x\":0.775,\"xanchor\":\"center\",\"xref\":\"paper\",\"y\":1.0,\"yanchor\":\"bottom\",\"yref\":\"paper\"}],\"title\":{\"text\":\"7-Classification Result\"}},                        {\"responsive\": true}                    ).then(function(){\n",
       "                            \n",
       "var gd = document.getElementById('f6554b54-7283-4d8f-a0cf-4ace70d29b71');\n",
       "var x = new MutationObserver(function (mutations, observer) {{\n",
       "        var display = window.getComputedStyle(gd).display;\n",
       "        if (!display || display === 'none') {{\n",
       "            console.log([gd, 'removed!']);\n",
       "            Plotly.purge(gd);\n",
       "            observer.disconnect();\n",
       "        }}\n",
       "}});\n",
       "\n",
       "// Listen for the removal of the full notebook cells\n",
       "var notebookContainer = gd.closest('#notebook-container');\n",
       "if (notebookContainer) {{\n",
       "    x.observe(notebookContainer, {childList: true});\n",
       "}}\n",
       "\n",
       "// Listen for the clearing of the current output cell\n",
       "var outputEl = gd.closest('.output');\n",
       "if (outputEl) {{\n",
       "    x.observe(outputEl, {childList: true});\n",
       "}}\n",
       "\n",
       "                        })                };                });            </script>        </div>"
      ]
     },
     "metadata": {},
     "output_type": "display_data"
    }
   ],
   "source": [
    "import plotly.express as px\n",
    "import plotly.subplots as sp\n",
    "import pandas as pd\n",
    "\n",
    "df = pd.DataFrame(data=mmim)\n",
    "df_gold = df.groupby('labels_7').count().reset_index()\n",
    "df_pred = df.groupby('preds_7').count().reset_index()\n",
    "\n",
    "order = ['very negative', 'negative', 'weakly negative', 'Neutral', 'weakly positive', 'positive', 'very positive']\n",
    "\n",
    "fig1 = px.bar(df_gold, x=\"labels_7\", y=\"segment\")\n",
    "fig2 = px.bar(df_pred, x=\"preds_7\", y=\"segment\")\n",
    "\n",
    "fig1_traces = []\n",
    "fig2_traces = []\n",
    "\n",
    "for trace in range(len(fig1[\"data\"])):\n",
    "    fig1_traces.append(fig1[\"data\"][trace])\n",
    "for trace in range(len(fig2[\"data\"])):\n",
    "    fig2_traces.append(fig2[\"data\"][trace])\n",
    "\n",
    "this_figure = sp.make_subplots(rows=1, cols=2, subplot_titles=(\"Grond-truth\", \"MMIM\"))\n",
    "for traces in fig1_traces:\n",
    "    this_figure.append_trace(traces, row=1, col=1)\n",
    "for traces in fig2_traces:\n",
    "    this_figure.append_trace(traces, row=1, col=2)\n",
    "\n",
    "this_figure.update_layout(title_text=\"7-Classification Result\")\n",
    "this_figure.update_xaxes(categoryorder='array', categoryarray= order)\n",
    "this_figure.update_yaxes(range=[0,200])\n",
    "this_figure.show()"
   ]
  },
  {
   "cell_type": "markdown",
   "metadata": {},
   "source": [
    "# MOSEI"
   ]
  },
  {
   "cell_type": "markdown",
   "metadata": {},
   "source": [
    "## TFN"
   ]
  },
  {
   "cell_type": "markdown",
   "metadata": {},
   "source": [
    "### 1. Ground-truth"
   ]
  },
  {
   "cell_type": "code",
   "execution_count": 48,
   "metadata": {},
   "outputs": [],
   "source": [
    "with open(f\"results/TFN_mosei.pkl\", \"rb\") as handle:\n",
    "    # tfn_dict = {segment, labels, labels_2, labels_7, preds, preds_2, preds_7, preds_text, text_2, text_7, preds_video, ...}\n",
    "    tfn_mosei = pkl.load(handle) "
   ]
  },
  {
   "cell_type": "code",
   "execution_count": 49,
   "metadata": {},
   "outputs": [
    {
     "name": "stdout",
     "output_type": "stream",
     "text": [
      "4654\n"
     ]
    }
   ],
   "source": [
    "print(len(tfn_mosei['segment']))"
   ]
  },
  {
   "cell_type": "code",
   "execution_count": 50,
   "metadata": {},
   "outputs": [
    {
     "data": {
      "application/vnd.plotly.v1+json": {
       "config": {
        "plotlyServerURL": "https://plot.ly"
       },
       "data": [
        {
         "alignmentgroup": "True",
         "hovertemplate": "labels_2=%{x}<br>segment=%{y}<extra></extra>",
         "legendgroup": "",
         "marker": {
          "color": "#636efa",
          "pattern": {
           "shape": ""
          }
         },
         "name": "",
         "offsetgroup": "",
         "orientation": "v",
         "showlegend": false,
         "textposition": "auto",
         "type": "bar",
         "x": [
          "neg",
          "pos"
         ],
         "xaxis": "x",
         "y": [
          2373,
          2281
         ],
         "yaxis": "y"
        },
        {
         "alignmentgroup": "True",
         "hovertemplate": "labels_7=%{x}<br>segment=%{y}<extra></extra>",
         "legendgroup": "",
         "marker": {
          "color": "#636efa",
          "pattern": {
           "shape": ""
          }
         },
         "name": "",
         "offsetgroup": "",
         "orientation": "v",
         "showlegend": false,
         "textposition": "auto",
         "type": "bar",
         "x": [
          "Neutral",
          "negative",
          "positive",
          "very negative",
          "very positive",
          "weakly negative",
          "weakly positive"
         ],
         "xaxis": "x2",
         "y": [
          1922,
          488,
          663,
          156,
          109,
          380,
          936
         ],
         "yaxis": "y2"
        }
       ],
       "layout": {
        "annotations": [
         {
          "font": {
           "size": 16
          },
          "showarrow": false,
          "text": "Binary",
          "x": 0.225,
          "xanchor": "center",
          "xref": "paper",
          "y": 1,
          "yanchor": "bottom",
          "yref": "paper"
         },
         {
          "font": {
           "size": 16
          },
          "showarrow": false,
          "text": "7-class",
          "x": 0.775,
          "xanchor": "center",
          "xref": "paper",
          "y": 1,
          "yanchor": "bottom",
          "yref": "paper"
         }
        ],
        "height": 500,
        "template": {
         "data": {
          "bar": [
           {
            "error_x": {
             "color": "#2a3f5f"
            },
            "error_y": {
             "color": "#2a3f5f"
            },
            "marker": {
             "line": {
              "color": "#E5ECF6",
              "width": 0.5
             },
             "pattern": {
              "fillmode": "overlay",
              "size": 10,
              "solidity": 0.2
             }
            },
            "type": "bar"
           }
          ],
          "barpolar": [
           {
            "marker": {
             "line": {
              "color": "#E5ECF6",
              "width": 0.5
             },
             "pattern": {
              "fillmode": "overlay",
              "size": 10,
              "solidity": 0.2
             }
            },
            "type": "barpolar"
           }
          ],
          "carpet": [
           {
            "aaxis": {
             "endlinecolor": "#2a3f5f",
             "gridcolor": "white",
             "linecolor": "white",
             "minorgridcolor": "white",
             "startlinecolor": "#2a3f5f"
            },
            "baxis": {
             "endlinecolor": "#2a3f5f",
             "gridcolor": "white",
             "linecolor": "white",
             "minorgridcolor": "white",
             "startlinecolor": "#2a3f5f"
            },
            "type": "carpet"
           }
          ],
          "choropleth": [
           {
            "colorbar": {
             "outlinewidth": 0,
             "ticks": ""
            },
            "type": "choropleth"
           }
          ],
          "contour": [
           {
            "colorbar": {
             "outlinewidth": 0,
             "ticks": ""
            },
            "colorscale": [
             [
              0,
              "#0d0887"
             ],
             [
              0.1111111111111111,
              "#46039f"
             ],
             [
              0.2222222222222222,
              "#7201a8"
             ],
             [
              0.3333333333333333,
              "#9c179e"
             ],
             [
              0.4444444444444444,
              "#bd3786"
             ],
             [
              0.5555555555555556,
              "#d8576b"
             ],
             [
              0.6666666666666666,
              "#ed7953"
             ],
             [
              0.7777777777777778,
              "#fb9f3a"
             ],
             [
              0.8888888888888888,
              "#fdca26"
             ],
             [
              1,
              "#f0f921"
             ]
            ],
            "type": "contour"
           }
          ],
          "contourcarpet": [
           {
            "colorbar": {
             "outlinewidth": 0,
             "ticks": ""
            },
            "type": "contourcarpet"
           }
          ],
          "heatmap": [
           {
            "colorbar": {
             "outlinewidth": 0,
             "ticks": ""
            },
            "colorscale": [
             [
              0,
              "#0d0887"
             ],
             [
              0.1111111111111111,
              "#46039f"
             ],
             [
              0.2222222222222222,
              "#7201a8"
             ],
             [
              0.3333333333333333,
              "#9c179e"
             ],
             [
              0.4444444444444444,
              "#bd3786"
             ],
             [
              0.5555555555555556,
              "#d8576b"
             ],
             [
              0.6666666666666666,
              "#ed7953"
             ],
             [
              0.7777777777777778,
              "#fb9f3a"
             ],
             [
              0.8888888888888888,
              "#fdca26"
             ],
             [
              1,
              "#f0f921"
             ]
            ],
            "type": "heatmap"
           }
          ],
          "heatmapgl": [
           {
            "colorbar": {
             "outlinewidth": 0,
             "ticks": ""
            },
            "colorscale": [
             [
              0,
              "#0d0887"
             ],
             [
              0.1111111111111111,
              "#46039f"
             ],
             [
              0.2222222222222222,
              "#7201a8"
             ],
             [
              0.3333333333333333,
              "#9c179e"
             ],
             [
              0.4444444444444444,
              "#bd3786"
             ],
             [
              0.5555555555555556,
              "#d8576b"
             ],
             [
              0.6666666666666666,
              "#ed7953"
             ],
             [
              0.7777777777777778,
              "#fb9f3a"
             ],
             [
              0.8888888888888888,
              "#fdca26"
             ],
             [
              1,
              "#f0f921"
             ]
            ],
            "type": "heatmapgl"
           }
          ],
          "histogram": [
           {
            "marker": {
             "pattern": {
              "fillmode": "overlay",
              "size": 10,
              "solidity": 0.2
             }
            },
            "type": "histogram"
           }
          ],
          "histogram2d": [
           {
            "colorbar": {
             "outlinewidth": 0,
             "ticks": ""
            },
            "colorscale": [
             [
              0,
              "#0d0887"
             ],
             [
              0.1111111111111111,
              "#46039f"
             ],
             [
              0.2222222222222222,
              "#7201a8"
             ],
             [
              0.3333333333333333,
              "#9c179e"
             ],
             [
              0.4444444444444444,
              "#bd3786"
             ],
             [
              0.5555555555555556,
              "#d8576b"
             ],
             [
              0.6666666666666666,
              "#ed7953"
             ],
             [
              0.7777777777777778,
              "#fb9f3a"
             ],
             [
              0.8888888888888888,
              "#fdca26"
             ],
             [
              1,
              "#f0f921"
             ]
            ],
            "type": "histogram2d"
           }
          ],
          "histogram2dcontour": [
           {
            "colorbar": {
             "outlinewidth": 0,
             "ticks": ""
            },
            "colorscale": [
             [
              0,
              "#0d0887"
             ],
             [
              0.1111111111111111,
              "#46039f"
             ],
             [
              0.2222222222222222,
              "#7201a8"
             ],
             [
              0.3333333333333333,
              "#9c179e"
             ],
             [
              0.4444444444444444,
              "#bd3786"
             ],
             [
              0.5555555555555556,
              "#d8576b"
             ],
             [
              0.6666666666666666,
              "#ed7953"
             ],
             [
              0.7777777777777778,
              "#fb9f3a"
             ],
             [
              0.8888888888888888,
              "#fdca26"
             ],
             [
              1,
              "#f0f921"
             ]
            ],
            "type": "histogram2dcontour"
           }
          ],
          "mesh3d": [
           {
            "colorbar": {
             "outlinewidth": 0,
             "ticks": ""
            },
            "type": "mesh3d"
           }
          ],
          "parcoords": [
           {
            "line": {
             "colorbar": {
              "outlinewidth": 0,
              "ticks": ""
             }
            },
            "type": "parcoords"
           }
          ],
          "pie": [
           {
            "automargin": true,
            "type": "pie"
           }
          ],
          "scatter": [
           {
            "fillpattern": {
             "fillmode": "overlay",
             "size": 10,
             "solidity": 0.2
            },
            "type": "scatter"
           }
          ],
          "scatter3d": [
           {
            "line": {
             "colorbar": {
              "outlinewidth": 0,
              "ticks": ""
             }
            },
            "marker": {
             "colorbar": {
              "outlinewidth": 0,
              "ticks": ""
             }
            },
            "type": "scatter3d"
           }
          ],
          "scattercarpet": [
           {
            "marker": {
             "colorbar": {
              "outlinewidth": 0,
              "ticks": ""
             }
            },
            "type": "scattercarpet"
           }
          ],
          "scattergeo": [
           {
            "marker": {
             "colorbar": {
              "outlinewidth": 0,
              "ticks": ""
             }
            },
            "type": "scattergeo"
           }
          ],
          "scattergl": [
           {
            "marker": {
             "colorbar": {
              "outlinewidth": 0,
              "ticks": ""
             }
            },
            "type": "scattergl"
           }
          ],
          "scattermapbox": [
           {
            "marker": {
             "colorbar": {
              "outlinewidth": 0,
              "ticks": ""
             }
            },
            "type": "scattermapbox"
           }
          ],
          "scatterpolar": [
           {
            "marker": {
             "colorbar": {
              "outlinewidth": 0,
              "ticks": ""
             }
            },
            "type": "scatterpolar"
           }
          ],
          "scatterpolargl": [
           {
            "marker": {
             "colorbar": {
              "outlinewidth": 0,
              "ticks": ""
             }
            },
            "type": "scatterpolargl"
           }
          ],
          "scatterternary": [
           {
            "marker": {
             "colorbar": {
              "outlinewidth": 0,
              "ticks": ""
             }
            },
            "type": "scatterternary"
           }
          ],
          "surface": [
           {
            "colorbar": {
             "outlinewidth": 0,
             "ticks": ""
            },
            "colorscale": [
             [
              0,
              "#0d0887"
             ],
             [
              0.1111111111111111,
              "#46039f"
             ],
             [
              0.2222222222222222,
              "#7201a8"
             ],
             [
              0.3333333333333333,
              "#9c179e"
             ],
             [
              0.4444444444444444,
              "#bd3786"
             ],
             [
              0.5555555555555556,
              "#d8576b"
             ],
             [
              0.6666666666666666,
              "#ed7953"
             ],
             [
              0.7777777777777778,
              "#fb9f3a"
             ],
             [
              0.8888888888888888,
              "#fdca26"
             ],
             [
              1,
              "#f0f921"
             ]
            ],
            "type": "surface"
           }
          ],
          "table": [
           {
            "cells": {
             "fill": {
              "color": "#EBF0F8"
             },
             "line": {
              "color": "white"
             }
            },
            "header": {
             "fill": {
              "color": "#C8D4E3"
             },
             "line": {
              "color": "white"
             }
            },
            "type": "table"
           }
          ]
         },
         "layout": {
          "annotationdefaults": {
           "arrowcolor": "#2a3f5f",
           "arrowhead": 0,
           "arrowwidth": 1
          },
          "autotypenumbers": "strict",
          "coloraxis": {
           "colorbar": {
            "outlinewidth": 0,
            "ticks": ""
           }
          },
          "colorscale": {
           "diverging": [
            [
             0,
             "#8e0152"
            ],
            [
             0.1,
             "#c51b7d"
            ],
            [
             0.2,
             "#de77ae"
            ],
            [
             0.3,
             "#f1b6da"
            ],
            [
             0.4,
             "#fde0ef"
            ],
            [
             0.5,
             "#f7f7f7"
            ],
            [
             0.6,
             "#e6f5d0"
            ],
            [
             0.7,
             "#b8e186"
            ],
            [
             0.8,
             "#7fbc41"
            ],
            [
             0.9,
             "#4d9221"
            ],
            [
             1,
             "#276419"
            ]
           ],
           "sequential": [
            [
             0,
             "#0d0887"
            ],
            [
             0.1111111111111111,
             "#46039f"
            ],
            [
             0.2222222222222222,
             "#7201a8"
            ],
            [
             0.3333333333333333,
             "#9c179e"
            ],
            [
             0.4444444444444444,
             "#bd3786"
            ],
            [
             0.5555555555555556,
             "#d8576b"
            ],
            [
             0.6666666666666666,
             "#ed7953"
            ],
            [
             0.7777777777777778,
             "#fb9f3a"
            ],
            [
             0.8888888888888888,
             "#fdca26"
            ],
            [
             1,
             "#f0f921"
            ]
           ],
           "sequentialminus": [
            [
             0,
             "#0d0887"
            ],
            [
             0.1111111111111111,
             "#46039f"
            ],
            [
             0.2222222222222222,
             "#7201a8"
            ],
            [
             0.3333333333333333,
             "#9c179e"
            ],
            [
             0.4444444444444444,
             "#bd3786"
            ],
            [
             0.5555555555555556,
             "#d8576b"
            ],
            [
             0.6666666666666666,
             "#ed7953"
            ],
            [
             0.7777777777777778,
             "#fb9f3a"
            ],
            [
             0.8888888888888888,
             "#fdca26"
            ],
            [
             1,
             "#f0f921"
            ]
           ]
          },
          "colorway": [
           "#636efa",
           "#EF553B",
           "#00cc96",
           "#ab63fa",
           "#FFA15A",
           "#19d3f3",
           "#FF6692",
           "#B6E880",
           "#FF97FF",
           "#FECB52"
          ],
          "font": {
           "color": "#2a3f5f"
          },
          "geo": {
           "bgcolor": "white",
           "lakecolor": "white",
           "landcolor": "#E5ECF6",
           "showlakes": true,
           "showland": true,
           "subunitcolor": "white"
          },
          "hoverlabel": {
           "align": "left"
          },
          "hovermode": "closest",
          "mapbox": {
           "style": "light"
          },
          "paper_bgcolor": "white",
          "plot_bgcolor": "#E5ECF6",
          "polar": {
           "angularaxis": {
            "gridcolor": "white",
            "linecolor": "white",
            "ticks": ""
           },
           "bgcolor": "#E5ECF6",
           "radialaxis": {
            "gridcolor": "white",
            "linecolor": "white",
            "ticks": ""
           }
          },
          "scene": {
           "xaxis": {
            "backgroundcolor": "#E5ECF6",
            "gridcolor": "white",
            "gridwidth": 2,
            "linecolor": "white",
            "showbackground": true,
            "ticks": "",
            "zerolinecolor": "white"
           },
           "yaxis": {
            "backgroundcolor": "#E5ECF6",
            "gridcolor": "white",
            "gridwidth": 2,
            "linecolor": "white",
            "showbackground": true,
            "ticks": "",
            "zerolinecolor": "white"
           },
           "zaxis": {
            "backgroundcolor": "#E5ECF6",
            "gridcolor": "white",
            "gridwidth": 2,
            "linecolor": "white",
            "showbackground": true,
            "ticks": "",
            "zerolinecolor": "white"
           }
          },
          "shapedefaults": {
           "line": {
            "color": "#2a3f5f"
           }
          },
          "ternary": {
           "aaxis": {
            "gridcolor": "white",
            "linecolor": "white",
            "ticks": ""
           },
           "baxis": {
            "gridcolor": "white",
            "linecolor": "white",
            "ticks": ""
           },
           "bgcolor": "#E5ECF6",
           "caxis": {
            "gridcolor": "white",
            "linecolor": "white",
            "ticks": ""
           }
          },
          "title": {
           "x": 0.05
          },
          "xaxis": {
           "automargin": true,
           "gridcolor": "white",
           "linecolor": "white",
           "ticks": "",
           "title": {
            "standoff": 15
           },
           "zerolinecolor": "white",
           "zerolinewidth": 2
          },
          "yaxis": {
           "automargin": true,
           "gridcolor": "white",
           "linecolor": "white",
           "ticks": "",
           "title": {
            "standoff": 15
           },
           "zerolinecolor": "white",
           "zerolinewidth": 2
          }
         }
        },
        "title": {
         "text": "Ground-truth distribution"
        },
        "width": 1200,
        "xaxis": {
         "anchor": "y",
         "categoryarray": [
          "very negative",
          "negative",
          "weakly negative",
          "Neutral",
          "weakly positive",
          "positive",
          "very positive"
         ],
         "categoryorder": "array",
         "domain": [
          0,
          0.45
         ]
        },
        "xaxis2": {
         "anchor": "y2",
         "categoryarray": [
          "very negative",
          "negative",
          "weakly negative",
          "Neutral",
          "weakly positive",
          "positive",
          "very positive"
         ],
         "categoryorder": "array",
         "domain": [
          0.55,
          1
         ]
        },
        "yaxis": {
         "anchor": "x",
         "domain": [
          0,
          1
         ],
         "range": [
          0,
          2500
         ]
        },
        "yaxis2": {
         "anchor": "x2",
         "domain": [
          0,
          1
         ],
         "range": [
          0,
          2500
         ]
        }
       }
      },
      "text/html": [
       "<div>                            <div id=\"ccad203a-ae41-448e-9dfc-61c49f07b741\" class=\"plotly-graph-div\" style=\"height:500px; width:1200px;\"></div>            <script type=\"text/javascript\">                require([\"plotly\"], function(Plotly) {                    window.PLOTLYENV=window.PLOTLYENV || {};                                    if (document.getElementById(\"ccad203a-ae41-448e-9dfc-61c49f07b741\")) {                    Plotly.newPlot(                        \"ccad203a-ae41-448e-9dfc-61c49f07b741\",                        [{\"alignmentgroup\":\"True\",\"hovertemplate\":\"labels_2=%{x}<br>segment=%{y}<extra></extra>\",\"legendgroup\":\"\",\"marker\":{\"color\":\"#636efa\",\"pattern\":{\"shape\":\"\"}},\"name\":\"\",\"offsetgroup\":\"\",\"orientation\":\"v\",\"showlegend\":false,\"textposition\":\"auto\",\"x\":[\"neg\",\"pos\"],\"xaxis\":\"x\",\"y\":[2373,2281],\"yaxis\":\"y\",\"type\":\"bar\"},{\"alignmentgroup\":\"True\",\"hovertemplate\":\"labels_7=%{x}<br>segment=%{y}<extra></extra>\",\"legendgroup\":\"\",\"marker\":{\"color\":\"#636efa\",\"pattern\":{\"shape\":\"\"}},\"name\":\"\",\"offsetgroup\":\"\",\"orientation\":\"v\",\"showlegend\":false,\"textposition\":\"auto\",\"x\":[\"Neutral\",\"negative\",\"positive\",\"very negative\",\"very positive\",\"weakly negative\",\"weakly positive\"],\"xaxis\":\"x2\",\"y\":[1922,488,663,156,109,380,936],\"yaxis\":\"y2\",\"type\":\"bar\"}],                        {\"template\":{\"data\":{\"histogram2dcontour\":[{\"type\":\"histogram2dcontour\",\"colorbar\":{\"outlinewidth\":0,\"ticks\":\"\"},\"colorscale\":[[0.0,\"#0d0887\"],[0.1111111111111111,\"#46039f\"],[0.2222222222222222,\"#7201a8\"],[0.3333333333333333,\"#9c179e\"],[0.4444444444444444,\"#bd3786\"],[0.5555555555555556,\"#d8576b\"],[0.6666666666666666,\"#ed7953\"],[0.7777777777777778,\"#fb9f3a\"],[0.8888888888888888,\"#fdca26\"],[1.0,\"#f0f921\"]]}],\"choropleth\":[{\"type\":\"choropleth\",\"colorbar\":{\"outlinewidth\":0,\"ticks\":\"\"}}],\"histogram2d\":[{\"type\":\"histogram2d\",\"colorbar\":{\"outlinewidth\":0,\"ticks\":\"\"},\"colorscale\":[[0.0,\"#0d0887\"],[0.1111111111111111,\"#46039f\"],[0.2222222222222222,\"#7201a8\"],[0.3333333333333333,\"#9c179e\"],[0.4444444444444444,\"#bd3786\"],[0.5555555555555556,\"#d8576b\"],[0.6666666666666666,\"#ed7953\"],[0.7777777777777778,\"#fb9f3a\"],[0.8888888888888888,\"#fdca26\"],[1.0,\"#f0f921\"]]}],\"heatmap\":[{\"type\":\"heatmap\",\"colorbar\":{\"outlinewidth\":0,\"ticks\":\"\"},\"colorscale\":[[0.0,\"#0d0887\"],[0.1111111111111111,\"#46039f\"],[0.2222222222222222,\"#7201a8\"],[0.3333333333333333,\"#9c179e\"],[0.4444444444444444,\"#bd3786\"],[0.5555555555555556,\"#d8576b\"],[0.6666666666666666,\"#ed7953\"],[0.7777777777777778,\"#fb9f3a\"],[0.8888888888888888,\"#fdca26\"],[1.0,\"#f0f921\"]]}],\"heatmapgl\":[{\"type\":\"heatmapgl\",\"colorbar\":{\"outlinewidth\":0,\"ticks\":\"\"},\"colorscale\":[[0.0,\"#0d0887\"],[0.1111111111111111,\"#46039f\"],[0.2222222222222222,\"#7201a8\"],[0.3333333333333333,\"#9c179e\"],[0.4444444444444444,\"#bd3786\"],[0.5555555555555556,\"#d8576b\"],[0.6666666666666666,\"#ed7953\"],[0.7777777777777778,\"#fb9f3a\"],[0.8888888888888888,\"#fdca26\"],[1.0,\"#f0f921\"]]}],\"contourcarpet\":[{\"type\":\"contourcarpet\",\"colorbar\":{\"outlinewidth\":0,\"ticks\":\"\"}}],\"contour\":[{\"type\":\"contour\",\"colorbar\":{\"outlinewidth\":0,\"ticks\":\"\"},\"colorscale\":[[0.0,\"#0d0887\"],[0.1111111111111111,\"#46039f\"],[0.2222222222222222,\"#7201a8\"],[0.3333333333333333,\"#9c179e\"],[0.4444444444444444,\"#bd3786\"],[0.5555555555555556,\"#d8576b\"],[0.6666666666666666,\"#ed7953\"],[0.7777777777777778,\"#fb9f3a\"],[0.8888888888888888,\"#fdca26\"],[1.0,\"#f0f921\"]]}],\"surface\":[{\"type\":\"surface\",\"colorbar\":{\"outlinewidth\":0,\"ticks\":\"\"},\"colorscale\":[[0.0,\"#0d0887\"],[0.1111111111111111,\"#46039f\"],[0.2222222222222222,\"#7201a8\"],[0.3333333333333333,\"#9c179e\"],[0.4444444444444444,\"#bd3786\"],[0.5555555555555556,\"#d8576b\"],[0.6666666666666666,\"#ed7953\"],[0.7777777777777778,\"#fb9f3a\"],[0.8888888888888888,\"#fdca26\"],[1.0,\"#f0f921\"]]}],\"mesh3d\":[{\"type\":\"mesh3d\",\"colorbar\":{\"outlinewidth\":0,\"ticks\":\"\"}}],\"scatter\":[{\"fillpattern\":{\"fillmode\":\"overlay\",\"size\":10,\"solidity\":0.2},\"type\":\"scatter\"}],\"parcoords\":[{\"type\":\"parcoords\",\"line\":{\"colorbar\":{\"outlinewidth\":0,\"ticks\":\"\"}}}],\"scatterpolargl\":[{\"type\":\"scatterpolargl\",\"marker\":{\"colorbar\":{\"outlinewidth\":0,\"ticks\":\"\"}}}],\"bar\":[{\"error_x\":{\"color\":\"#2a3f5f\"},\"error_y\":{\"color\":\"#2a3f5f\"},\"marker\":{\"line\":{\"color\":\"#E5ECF6\",\"width\":0.5},\"pattern\":{\"fillmode\":\"overlay\",\"size\":10,\"solidity\":0.2}},\"type\":\"bar\"}],\"scattergeo\":[{\"type\":\"scattergeo\",\"marker\":{\"colorbar\":{\"outlinewidth\":0,\"ticks\":\"\"}}}],\"scatterpolar\":[{\"type\":\"scatterpolar\",\"marker\":{\"colorbar\":{\"outlinewidth\":0,\"ticks\":\"\"}}}],\"histogram\":[{\"marker\":{\"pattern\":{\"fillmode\":\"overlay\",\"size\":10,\"solidity\":0.2}},\"type\":\"histogram\"}],\"scattergl\":[{\"type\":\"scattergl\",\"marker\":{\"colorbar\":{\"outlinewidth\":0,\"ticks\":\"\"}}}],\"scatter3d\":[{\"type\":\"scatter3d\",\"line\":{\"colorbar\":{\"outlinewidth\":0,\"ticks\":\"\"}},\"marker\":{\"colorbar\":{\"outlinewidth\":0,\"ticks\":\"\"}}}],\"scattermapbox\":[{\"type\":\"scattermapbox\",\"marker\":{\"colorbar\":{\"outlinewidth\":0,\"ticks\":\"\"}}}],\"scatterternary\":[{\"type\":\"scatterternary\",\"marker\":{\"colorbar\":{\"outlinewidth\":0,\"ticks\":\"\"}}}],\"scattercarpet\":[{\"type\":\"scattercarpet\",\"marker\":{\"colorbar\":{\"outlinewidth\":0,\"ticks\":\"\"}}}],\"carpet\":[{\"aaxis\":{\"endlinecolor\":\"#2a3f5f\",\"gridcolor\":\"white\",\"linecolor\":\"white\",\"minorgridcolor\":\"white\",\"startlinecolor\":\"#2a3f5f\"},\"baxis\":{\"endlinecolor\":\"#2a3f5f\",\"gridcolor\":\"white\",\"linecolor\":\"white\",\"minorgridcolor\":\"white\",\"startlinecolor\":\"#2a3f5f\"},\"type\":\"carpet\"}],\"table\":[{\"cells\":{\"fill\":{\"color\":\"#EBF0F8\"},\"line\":{\"color\":\"white\"}},\"header\":{\"fill\":{\"color\":\"#C8D4E3\"},\"line\":{\"color\":\"white\"}},\"type\":\"table\"}],\"barpolar\":[{\"marker\":{\"line\":{\"color\":\"#E5ECF6\",\"width\":0.5},\"pattern\":{\"fillmode\":\"overlay\",\"size\":10,\"solidity\":0.2}},\"type\":\"barpolar\"}],\"pie\":[{\"automargin\":true,\"type\":\"pie\"}]},\"layout\":{\"autotypenumbers\":\"strict\",\"colorway\":[\"#636efa\",\"#EF553B\",\"#00cc96\",\"#ab63fa\",\"#FFA15A\",\"#19d3f3\",\"#FF6692\",\"#B6E880\",\"#FF97FF\",\"#FECB52\"],\"font\":{\"color\":\"#2a3f5f\"},\"hovermode\":\"closest\",\"hoverlabel\":{\"align\":\"left\"},\"paper_bgcolor\":\"white\",\"plot_bgcolor\":\"#E5ECF6\",\"polar\":{\"bgcolor\":\"#E5ECF6\",\"angularaxis\":{\"gridcolor\":\"white\",\"linecolor\":\"white\",\"ticks\":\"\"},\"radialaxis\":{\"gridcolor\":\"white\",\"linecolor\":\"white\",\"ticks\":\"\"}},\"ternary\":{\"bgcolor\":\"#E5ECF6\",\"aaxis\":{\"gridcolor\":\"white\",\"linecolor\":\"white\",\"ticks\":\"\"},\"baxis\":{\"gridcolor\":\"white\",\"linecolor\":\"white\",\"ticks\":\"\"},\"caxis\":{\"gridcolor\":\"white\",\"linecolor\":\"white\",\"ticks\":\"\"}},\"coloraxis\":{\"colorbar\":{\"outlinewidth\":0,\"ticks\":\"\"}},\"colorscale\":{\"sequential\":[[0.0,\"#0d0887\"],[0.1111111111111111,\"#46039f\"],[0.2222222222222222,\"#7201a8\"],[0.3333333333333333,\"#9c179e\"],[0.4444444444444444,\"#bd3786\"],[0.5555555555555556,\"#d8576b\"],[0.6666666666666666,\"#ed7953\"],[0.7777777777777778,\"#fb9f3a\"],[0.8888888888888888,\"#fdca26\"],[1.0,\"#f0f921\"]],\"sequentialminus\":[[0.0,\"#0d0887\"],[0.1111111111111111,\"#46039f\"],[0.2222222222222222,\"#7201a8\"],[0.3333333333333333,\"#9c179e\"],[0.4444444444444444,\"#bd3786\"],[0.5555555555555556,\"#d8576b\"],[0.6666666666666666,\"#ed7953\"],[0.7777777777777778,\"#fb9f3a\"],[0.8888888888888888,\"#fdca26\"],[1.0,\"#f0f921\"]],\"diverging\":[[0,\"#8e0152\"],[0.1,\"#c51b7d\"],[0.2,\"#de77ae\"],[0.3,\"#f1b6da\"],[0.4,\"#fde0ef\"],[0.5,\"#f7f7f7\"],[0.6,\"#e6f5d0\"],[0.7,\"#b8e186\"],[0.8,\"#7fbc41\"],[0.9,\"#4d9221\"],[1,\"#276419\"]]},\"xaxis\":{\"gridcolor\":\"white\",\"linecolor\":\"white\",\"ticks\":\"\",\"title\":{\"standoff\":15},\"zerolinecolor\":\"white\",\"automargin\":true,\"zerolinewidth\":2},\"yaxis\":{\"gridcolor\":\"white\",\"linecolor\":\"white\",\"ticks\":\"\",\"title\":{\"standoff\":15},\"zerolinecolor\":\"white\",\"automargin\":true,\"zerolinewidth\":2},\"scene\":{\"xaxis\":{\"backgroundcolor\":\"#E5ECF6\",\"gridcolor\":\"white\",\"linecolor\":\"white\",\"showbackground\":true,\"ticks\":\"\",\"zerolinecolor\":\"white\",\"gridwidth\":2},\"yaxis\":{\"backgroundcolor\":\"#E5ECF6\",\"gridcolor\":\"white\",\"linecolor\":\"white\",\"showbackground\":true,\"ticks\":\"\",\"zerolinecolor\":\"white\",\"gridwidth\":2},\"zaxis\":{\"backgroundcolor\":\"#E5ECF6\",\"gridcolor\":\"white\",\"linecolor\":\"white\",\"showbackground\":true,\"ticks\":\"\",\"zerolinecolor\":\"white\",\"gridwidth\":2}},\"shapedefaults\":{\"line\":{\"color\":\"#2a3f5f\"}},\"annotationdefaults\":{\"arrowcolor\":\"#2a3f5f\",\"arrowhead\":0,\"arrowwidth\":1},\"geo\":{\"bgcolor\":\"white\",\"landcolor\":\"#E5ECF6\",\"subunitcolor\":\"white\",\"showland\":true,\"showlakes\":true,\"lakecolor\":\"white\"},\"title\":{\"x\":0.05},\"mapbox\":{\"style\":\"light\"}}},\"xaxis\":{\"anchor\":\"y\",\"domain\":[0.0,0.45],\"categoryorder\":\"array\",\"categoryarray\":[\"very negative\",\"negative\",\"weakly negative\",\"Neutral\",\"weakly positive\",\"positive\",\"very positive\"]},\"yaxis\":{\"anchor\":\"x\",\"domain\":[0.0,1.0],\"range\":[0,2500]},\"xaxis2\":{\"anchor\":\"y2\",\"domain\":[0.55,1.0],\"categoryorder\":\"array\",\"categoryarray\":[\"very negative\",\"negative\",\"weakly negative\",\"Neutral\",\"weakly positive\",\"positive\",\"very positive\"]},\"yaxis2\":{\"anchor\":\"x2\",\"domain\":[0.0,1.0],\"range\":[0,2500]},\"annotations\":[{\"font\":{\"size\":16},\"showarrow\":false,\"text\":\"Binary\",\"x\":0.225,\"xanchor\":\"center\",\"xref\":\"paper\",\"y\":1.0,\"yanchor\":\"bottom\",\"yref\":\"paper\"},{\"font\":{\"size\":16},\"showarrow\":false,\"text\":\"7-class\",\"x\":0.775,\"xanchor\":\"center\",\"xref\":\"paper\",\"y\":1.0,\"yanchor\":\"bottom\",\"yref\":\"paper\"}],\"title\":{\"text\":\"Ground-truth distribution\"},\"height\":500,\"width\":1200},                        {\"responsive\": true}                    ).then(function(){\n",
       "                            \n",
       "var gd = document.getElementById('ccad203a-ae41-448e-9dfc-61c49f07b741');\n",
       "var x = new MutationObserver(function (mutations, observer) {{\n",
       "        var display = window.getComputedStyle(gd).display;\n",
       "        if (!display || display === 'none') {{\n",
       "            console.log([gd, 'removed!']);\n",
       "            Plotly.purge(gd);\n",
       "            observer.disconnect();\n",
       "        }}\n",
       "}});\n",
       "\n",
       "// Listen for the removal of the full notebook cells\n",
       "var notebookContainer = gd.closest('#notebook-container');\n",
       "if (notebookContainer) {{\n",
       "    x.observe(notebookContainer, {childList: true});\n",
       "}}\n",
       "\n",
       "// Listen for the clearing of the current output cell\n",
       "var outputEl = gd.closest('.output');\n",
       "if (outputEl) {{\n",
       "    x.observe(outputEl, {childList: true});\n",
       "}}\n",
       "\n",
       "                        })                };                });            </script>        </div>"
      ]
     },
     "metadata": {},
     "output_type": "display_data"
    }
   ],
   "source": [
    "import plotly.express as px\n",
    "import plotly.subplots as sp\n",
    "import pandas as pd\n",
    "\n",
    "df = pd.DataFrame(data=tfn_mosei)\n",
    "df_2 = df.groupby('labels_2').count().reset_index()\n",
    "df_7 = df.groupby('labels_7').count().reset_index()\n",
    "\n",
    "order = ['very negative', 'negative', 'weakly negative', 'Neutral', 'weakly positive', 'positive', 'very positive']\n",
    "\n",
    "fig1 = px.bar(df_2, x='labels_2', y='segment')\n",
    "fig2 = px.bar(df_7, x='labels_7', y='segment')\n",
    "\n",
    "fig1_traces = []\n",
    "fig2_traces = []\n",
    "\n",
    "for trace in range(len(fig1[\"data\"])):\n",
    "    fig1_traces.append(fig1[\"data\"][trace])\n",
    "for trace in range(len(fig2[\"data\"])):\n",
    "    fig2_traces.append(fig2[\"data\"][trace])\n",
    "\n",
    "this_figure = sp.make_subplots(rows=1, cols=2, subplot_titles=(\"Binary\", \"7-class\"))\n",
    "for traces in fig1_traces:\n",
    "    this_figure.append_trace(traces, row=1, col=1)\n",
    "for traces in fig2_traces:\n",
    "    this_figure.append_trace(traces, row=1, col=2)\n",
    "\n",
    "this_figure.update_xaxes(categoryorder='array', categoryarray= order)\n",
    "this_figure.update_layout(height=500, width=1200, title_text=\"Ground-truth distribution\")\n",
    "this_figure.update_yaxes(range=[0,2500])\n",
    "this_figure.show()"
   ]
  },
  {
   "cell_type": "markdown",
   "metadata": {},
   "source": [
    "### 2. Fusion result distribution"
   ]
  },
  {
   "cell_type": "code",
   "execution_count": 51,
   "metadata": {},
   "outputs": [
    {
     "data": {
      "application/vnd.plotly.v1+json": {
       "config": {
        "plotlyServerURL": "https://plot.ly"
       },
       "data": [
        {
         "alignmentgroup": "True",
         "hovertemplate": "labels_7=%{x}<br>segment=%{y}<extra></extra>",
         "legendgroup": "",
         "marker": {
          "color": "#636efa",
          "pattern": {
           "shape": ""
          }
         },
         "name": "",
         "offsetgroup": "",
         "orientation": "v",
         "showlegend": false,
         "textposition": "auto",
         "type": "bar",
         "x": [
          "Neutral",
          "negative",
          "positive",
          "very negative",
          "very positive",
          "weakly negative",
          "weakly positive"
         ],
         "xaxis": "x",
         "y": [
          1922,
          488,
          663,
          156,
          109,
          380,
          936
         ],
         "yaxis": "y"
        },
        {
         "alignmentgroup": "True",
         "hovertemplate": "preds_7=%{x}<br>segment=%{y}<extra></extra>",
         "legendgroup": "",
         "marker": {
          "color": "#636efa",
          "pattern": {
           "shape": ""
          }
         },
         "name": "",
         "offsetgroup": "",
         "orientation": "v",
         "showlegend": false,
         "textposition": "auto",
         "type": "bar",
         "x": [
          "Neutral",
          "weakly positive"
         ],
         "xaxis": "x2",
         "y": [
          4581,
          73
         ],
         "yaxis": "y2"
        }
       ],
       "layout": {
        "annotations": [
         {
          "font": {
           "size": 16
          },
          "showarrow": false,
          "text": "Grond-truth",
          "x": 0.225,
          "xanchor": "center",
          "xref": "paper",
          "y": 1,
          "yanchor": "bottom",
          "yref": "paper"
         },
         {
          "font": {
           "size": 16
          },
          "showarrow": false,
          "text": "TFN-frozen",
          "x": 0.775,
          "xanchor": "center",
          "xref": "paper",
          "y": 1,
          "yanchor": "bottom",
          "yref": "paper"
         }
        ],
        "height": 800,
        "template": {
         "data": {
          "bar": [
           {
            "error_x": {
             "color": "#2a3f5f"
            },
            "error_y": {
             "color": "#2a3f5f"
            },
            "marker": {
             "line": {
              "color": "#E5ECF6",
              "width": 0.5
             },
             "pattern": {
              "fillmode": "overlay",
              "size": 10,
              "solidity": 0.2
             }
            },
            "type": "bar"
           }
          ],
          "barpolar": [
           {
            "marker": {
             "line": {
              "color": "#E5ECF6",
              "width": 0.5
             },
             "pattern": {
              "fillmode": "overlay",
              "size": 10,
              "solidity": 0.2
             }
            },
            "type": "barpolar"
           }
          ],
          "carpet": [
           {
            "aaxis": {
             "endlinecolor": "#2a3f5f",
             "gridcolor": "white",
             "linecolor": "white",
             "minorgridcolor": "white",
             "startlinecolor": "#2a3f5f"
            },
            "baxis": {
             "endlinecolor": "#2a3f5f",
             "gridcolor": "white",
             "linecolor": "white",
             "minorgridcolor": "white",
             "startlinecolor": "#2a3f5f"
            },
            "type": "carpet"
           }
          ],
          "choropleth": [
           {
            "colorbar": {
             "outlinewidth": 0,
             "ticks": ""
            },
            "type": "choropleth"
           }
          ],
          "contour": [
           {
            "colorbar": {
             "outlinewidth": 0,
             "ticks": ""
            },
            "colorscale": [
             [
              0,
              "#0d0887"
             ],
             [
              0.1111111111111111,
              "#46039f"
             ],
             [
              0.2222222222222222,
              "#7201a8"
             ],
             [
              0.3333333333333333,
              "#9c179e"
             ],
             [
              0.4444444444444444,
              "#bd3786"
             ],
             [
              0.5555555555555556,
              "#d8576b"
             ],
             [
              0.6666666666666666,
              "#ed7953"
             ],
             [
              0.7777777777777778,
              "#fb9f3a"
             ],
             [
              0.8888888888888888,
              "#fdca26"
             ],
             [
              1,
              "#f0f921"
             ]
            ],
            "type": "contour"
           }
          ],
          "contourcarpet": [
           {
            "colorbar": {
             "outlinewidth": 0,
             "ticks": ""
            },
            "type": "contourcarpet"
           }
          ],
          "heatmap": [
           {
            "colorbar": {
             "outlinewidth": 0,
             "ticks": ""
            },
            "colorscale": [
             [
              0,
              "#0d0887"
             ],
             [
              0.1111111111111111,
              "#46039f"
             ],
             [
              0.2222222222222222,
              "#7201a8"
             ],
             [
              0.3333333333333333,
              "#9c179e"
             ],
             [
              0.4444444444444444,
              "#bd3786"
             ],
             [
              0.5555555555555556,
              "#d8576b"
             ],
             [
              0.6666666666666666,
              "#ed7953"
             ],
             [
              0.7777777777777778,
              "#fb9f3a"
             ],
             [
              0.8888888888888888,
              "#fdca26"
             ],
             [
              1,
              "#f0f921"
             ]
            ],
            "type": "heatmap"
           }
          ],
          "heatmapgl": [
           {
            "colorbar": {
             "outlinewidth": 0,
             "ticks": ""
            },
            "colorscale": [
             [
              0,
              "#0d0887"
             ],
             [
              0.1111111111111111,
              "#46039f"
             ],
             [
              0.2222222222222222,
              "#7201a8"
             ],
             [
              0.3333333333333333,
              "#9c179e"
             ],
             [
              0.4444444444444444,
              "#bd3786"
             ],
             [
              0.5555555555555556,
              "#d8576b"
             ],
             [
              0.6666666666666666,
              "#ed7953"
             ],
             [
              0.7777777777777778,
              "#fb9f3a"
             ],
             [
              0.8888888888888888,
              "#fdca26"
             ],
             [
              1,
              "#f0f921"
             ]
            ],
            "type": "heatmapgl"
           }
          ],
          "histogram": [
           {
            "marker": {
             "pattern": {
              "fillmode": "overlay",
              "size": 10,
              "solidity": 0.2
             }
            },
            "type": "histogram"
           }
          ],
          "histogram2d": [
           {
            "colorbar": {
             "outlinewidth": 0,
             "ticks": ""
            },
            "colorscale": [
             [
              0,
              "#0d0887"
             ],
             [
              0.1111111111111111,
              "#46039f"
             ],
             [
              0.2222222222222222,
              "#7201a8"
             ],
             [
              0.3333333333333333,
              "#9c179e"
             ],
             [
              0.4444444444444444,
              "#bd3786"
             ],
             [
              0.5555555555555556,
              "#d8576b"
             ],
             [
              0.6666666666666666,
              "#ed7953"
             ],
             [
              0.7777777777777778,
              "#fb9f3a"
             ],
             [
              0.8888888888888888,
              "#fdca26"
             ],
             [
              1,
              "#f0f921"
             ]
            ],
            "type": "histogram2d"
           }
          ],
          "histogram2dcontour": [
           {
            "colorbar": {
             "outlinewidth": 0,
             "ticks": ""
            },
            "colorscale": [
             [
              0,
              "#0d0887"
             ],
             [
              0.1111111111111111,
              "#46039f"
             ],
             [
              0.2222222222222222,
              "#7201a8"
             ],
             [
              0.3333333333333333,
              "#9c179e"
             ],
             [
              0.4444444444444444,
              "#bd3786"
             ],
             [
              0.5555555555555556,
              "#d8576b"
             ],
             [
              0.6666666666666666,
              "#ed7953"
             ],
             [
              0.7777777777777778,
              "#fb9f3a"
             ],
             [
              0.8888888888888888,
              "#fdca26"
             ],
             [
              1,
              "#f0f921"
             ]
            ],
            "type": "histogram2dcontour"
           }
          ],
          "mesh3d": [
           {
            "colorbar": {
             "outlinewidth": 0,
             "ticks": ""
            },
            "type": "mesh3d"
           }
          ],
          "parcoords": [
           {
            "line": {
             "colorbar": {
              "outlinewidth": 0,
              "ticks": ""
             }
            },
            "type": "parcoords"
           }
          ],
          "pie": [
           {
            "automargin": true,
            "type": "pie"
           }
          ],
          "scatter": [
           {
            "fillpattern": {
             "fillmode": "overlay",
             "size": 10,
             "solidity": 0.2
            },
            "type": "scatter"
           }
          ],
          "scatter3d": [
           {
            "line": {
             "colorbar": {
              "outlinewidth": 0,
              "ticks": ""
             }
            },
            "marker": {
             "colorbar": {
              "outlinewidth": 0,
              "ticks": ""
             }
            },
            "type": "scatter3d"
           }
          ],
          "scattercarpet": [
           {
            "marker": {
             "colorbar": {
              "outlinewidth": 0,
              "ticks": ""
             }
            },
            "type": "scattercarpet"
           }
          ],
          "scattergeo": [
           {
            "marker": {
             "colorbar": {
              "outlinewidth": 0,
              "ticks": ""
             }
            },
            "type": "scattergeo"
           }
          ],
          "scattergl": [
           {
            "marker": {
             "colorbar": {
              "outlinewidth": 0,
              "ticks": ""
             }
            },
            "type": "scattergl"
           }
          ],
          "scattermapbox": [
           {
            "marker": {
             "colorbar": {
              "outlinewidth": 0,
              "ticks": ""
             }
            },
            "type": "scattermapbox"
           }
          ],
          "scatterpolar": [
           {
            "marker": {
             "colorbar": {
              "outlinewidth": 0,
              "ticks": ""
             }
            },
            "type": "scatterpolar"
           }
          ],
          "scatterpolargl": [
           {
            "marker": {
             "colorbar": {
              "outlinewidth": 0,
              "ticks": ""
             }
            },
            "type": "scatterpolargl"
           }
          ],
          "scatterternary": [
           {
            "marker": {
             "colorbar": {
              "outlinewidth": 0,
              "ticks": ""
             }
            },
            "type": "scatterternary"
           }
          ],
          "surface": [
           {
            "colorbar": {
             "outlinewidth": 0,
             "ticks": ""
            },
            "colorscale": [
             [
              0,
              "#0d0887"
             ],
             [
              0.1111111111111111,
              "#46039f"
             ],
             [
              0.2222222222222222,
              "#7201a8"
             ],
             [
              0.3333333333333333,
              "#9c179e"
             ],
             [
              0.4444444444444444,
              "#bd3786"
             ],
             [
              0.5555555555555556,
              "#d8576b"
             ],
             [
              0.6666666666666666,
              "#ed7953"
             ],
             [
              0.7777777777777778,
              "#fb9f3a"
             ],
             [
              0.8888888888888888,
              "#fdca26"
             ],
             [
              1,
              "#f0f921"
             ]
            ],
            "type": "surface"
           }
          ],
          "table": [
           {
            "cells": {
             "fill": {
              "color": "#EBF0F8"
             },
             "line": {
              "color": "white"
             }
            },
            "header": {
             "fill": {
              "color": "#C8D4E3"
             },
             "line": {
              "color": "white"
             }
            },
            "type": "table"
           }
          ]
         },
         "layout": {
          "annotationdefaults": {
           "arrowcolor": "#2a3f5f",
           "arrowhead": 0,
           "arrowwidth": 1
          },
          "autotypenumbers": "strict",
          "coloraxis": {
           "colorbar": {
            "outlinewidth": 0,
            "ticks": ""
           }
          },
          "colorscale": {
           "diverging": [
            [
             0,
             "#8e0152"
            ],
            [
             0.1,
             "#c51b7d"
            ],
            [
             0.2,
             "#de77ae"
            ],
            [
             0.3,
             "#f1b6da"
            ],
            [
             0.4,
             "#fde0ef"
            ],
            [
             0.5,
             "#f7f7f7"
            ],
            [
             0.6,
             "#e6f5d0"
            ],
            [
             0.7,
             "#b8e186"
            ],
            [
             0.8,
             "#7fbc41"
            ],
            [
             0.9,
             "#4d9221"
            ],
            [
             1,
             "#276419"
            ]
           ],
           "sequential": [
            [
             0,
             "#0d0887"
            ],
            [
             0.1111111111111111,
             "#46039f"
            ],
            [
             0.2222222222222222,
             "#7201a8"
            ],
            [
             0.3333333333333333,
             "#9c179e"
            ],
            [
             0.4444444444444444,
             "#bd3786"
            ],
            [
             0.5555555555555556,
             "#d8576b"
            ],
            [
             0.6666666666666666,
             "#ed7953"
            ],
            [
             0.7777777777777778,
             "#fb9f3a"
            ],
            [
             0.8888888888888888,
             "#fdca26"
            ],
            [
             1,
             "#f0f921"
            ]
           ],
           "sequentialminus": [
            [
             0,
             "#0d0887"
            ],
            [
             0.1111111111111111,
             "#46039f"
            ],
            [
             0.2222222222222222,
             "#7201a8"
            ],
            [
             0.3333333333333333,
             "#9c179e"
            ],
            [
             0.4444444444444444,
             "#bd3786"
            ],
            [
             0.5555555555555556,
             "#d8576b"
            ],
            [
             0.6666666666666666,
             "#ed7953"
            ],
            [
             0.7777777777777778,
             "#fb9f3a"
            ],
            [
             0.8888888888888888,
             "#fdca26"
            ],
            [
             1,
             "#f0f921"
            ]
           ]
          },
          "colorway": [
           "#636efa",
           "#EF553B",
           "#00cc96",
           "#ab63fa",
           "#FFA15A",
           "#19d3f3",
           "#FF6692",
           "#B6E880",
           "#FF97FF",
           "#FECB52"
          ],
          "font": {
           "color": "#2a3f5f"
          },
          "geo": {
           "bgcolor": "white",
           "lakecolor": "white",
           "landcolor": "#E5ECF6",
           "showlakes": true,
           "showland": true,
           "subunitcolor": "white"
          },
          "hoverlabel": {
           "align": "left"
          },
          "hovermode": "closest",
          "mapbox": {
           "style": "light"
          },
          "paper_bgcolor": "white",
          "plot_bgcolor": "#E5ECF6",
          "polar": {
           "angularaxis": {
            "gridcolor": "white",
            "linecolor": "white",
            "ticks": ""
           },
           "bgcolor": "#E5ECF6",
           "radialaxis": {
            "gridcolor": "white",
            "linecolor": "white",
            "ticks": ""
           }
          },
          "scene": {
           "xaxis": {
            "backgroundcolor": "#E5ECF6",
            "gridcolor": "white",
            "gridwidth": 2,
            "linecolor": "white",
            "showbackground": true,
            "ticks": "",
            "zerolinecolor": "white"
           },
           "yaxis": {
            "backgroundcolor": "#E5ECF6",
            "gridcolor": "white",
            "gridwidth": 2,
            "linecolor": "white",
            "showbackground": true,
            "ticks": "",
            "zerolinecolor": "white"
           },
           "zaxis": {
            "backgroundcolor": "#E5ECF6",
            "gridcolor": "white",
            "gridwidth": 2,
            "linecolor": "white",
            "showbackground": true,
            "ticks": "",
            "zerolinecolor": "white"
           }
          },
          "shapedefaults": {
           "line": {
            "color": "#2a3f5f"
           }
          },
          "ternary": {
           "aaxis": {
            "gridcolor": "white",
            "linecolor": "white",
            "ticks": ""
           },
           "baxis": {
            "gridcolor": "white",
            "linecolor": "white",
            "ticks": ""
           },
           "bgcolor": "#E5ECF6",
           "caxis": {
            "gridcolor": "white",
            "linecolor": "white",
            "ticks": ""
           }
          },
          "title": {
           "x": 0.05
          },
          "xaxis": {
           "automargin": true,
           "gridcolor": "white",
           "linecolor": "white",
           "ticks": "",
           "title": {
            "standoff": 15
           },
           "zerolinecolor": "white",
           "zerolinewidth": 2
          },
          "yaxis": {
           "automargin": true,
           "gridcolor": "white",
           "linecolor": "white",
           "ticks": "",
           "title": {
            "standoff": 15
           },
           "zerolinecolor": "white",
           "zerolinewidth": 2
          }
         }
        },
        "title": {
         "text": "Fusion result distribution"
        },
        "width": 1200,
        "xaxis": {
         "anchor": "y",
         "categoryarray": [
          "very negative",
          "negative",
          "weakly negative",
          "Neutral",
          "weakly positive",
          "positive",
          "very positive"
         ],
         "categoryorder": "array",
         "domain": [
          0,
          0.45
         ]
        },
        "xaxis2": {
         "anchor": "y2",
         "categoryarray": [
          "very negative",
          "negative",
          "weakly negative",
          "Neutral",
          "weakly positive",
          "positive",
          "very positive"
         ],
         "categoryorder": "array",
         "domain": [
          0.55,
          1
         ]
        },
        "yaxis": {
         "anchor": "x",
         "domain": [
          0,
          1
         ],
         "range": [
          0,
          4500
         ]
        },
        "yaxis2": {
         "anchor": "x2",
         "domain": [
          0,
          1
         ],
         "range": [
          0,
          4500
         ]
        }
       }
      },
      "text/html": [
       "<div>                            <div id=\"d590ee42-a975-4dcf-a0e2-cd7849d739a1\" class=\"plotly-graph-div\" style=\"height:800px; width:1200px;\"></div>            <script type=\"text/javascript\">                require([\"plotly\"], function(Plotly) {                    window.PLOTLYENV=window.PLOTLYENV || {};                                    if (document.getElementById(\"d590ee42-a975-4dcf-a0e2-cd7849d739a1\")) {                    Plotly.newPlot(                        \"d590ee42-a975-4dcf-a0e2-cd7849d739a1\",                        [{\"alignmentgroup\":\"True\",\"hovertemplate\":\"labels_7=%{x}<br>segment=%{y}<extra></extra>\",\"legendgroup\":\"\",\"marker\":{\"color\":\"#636efa\",\"pattern\":{\"shape\":\"\"}},\"name\":\"\",\"offsetgroup\":\"\",\"orientation\":\"v\",\"showlegend\":false,\"textposition\":\"auto\",\"x\":[\"Neutral\",\"negative\",\"positive\",\"very negative\",\"very positive\",\"weakly negative\",\"weakly positive\"],\"xaxis\":\"x\",\"y\":[1922,488,663,156,109,380,936],\"yaxis\":\"y\",\"type\":\"bar\"},{\"alignmentgroup\":\"True\",\"hovertemplate\":\"preds_7=%{x}<br>segment=%{y}<extra></extra>\",\"legendgroup\":\"\",\"marker\":{\"color\":\"#636efa\",\"pattern\":{\"shape\":\"\"}},\"name\":\"\",\"offsetgroup\":\"\",\"orientation\":\"v\",\"showlegend\":false,\"textposition\":\"auto\",\"x\":[\"Neutral\",\"weakly positive\"],\"xaxis\":\"x2\",\"y\":[4581,73],\"yaxis\":\"y2\",\"type\":\"bar\"}],                        {\"template\":{\"data\":{\"histogram2dcontour\":[{\"type\":\"histogram2dcontour\",\"colorbar\":{\"outlinewidth\":0,\"ticks\":\"\"},\"colorscale\":[[0.0,\"#0d0887\"],[0.1111111111111111,\"#46039f\"],[0.2222222222222222,\"#7201a8\"],[0.3333333333333333,\"#9c179e\"],[0.4444444444444444,\"#bd3786\"],[0.5555555555555556,\"#d8576b\"],[0.6666666666666666,\"#ed7953\"],[0.7777777777777778,\"#fb9f3a\"],[0.8888888888888888,\"#fdca26\"],[1.0,\"#f0f921\"]]}],\"choropleth\":[{\"type\":\"choropleth\",\"colorbar\":{\"outlinewidth\":0,\"ticks\":\"\"}}],\"histogram2d\":[{\"type\":\"histogram2d\",\"colorbar\":{\"outlinewidth\":0,\"ticks\":\"\"},\"colorscale\":[[0.0,\"#0d0887\"],[0.1111111111111111,\"#46039f\"],[0.2222222222222222,\"#7201a8\"],[0.3333333333333333,\"#9c179e\"],[0.4444444444444444,\"#bd3786\"],[0.5555555555555556,\"#d8576b\"],[0.6666666666666666,\"#ed7953\"],[0.7777777777777778,\"#fb9f3a\"],[0.8888888888888888,\"#fdca26\"],[1.0,\"#f0f921\"]]}],\"heatmap\":[{\"type\":\"heatmap\",\"colorbar\":{\"outlinewidth\":0,\"ticks\":\"\"},\"colorscale\":[[0.0,\"#0d0887\"],[0.1111111111111111,\"#46039f\"],[0.2222222222222222,\"#7201a8\"],[0.3333333333333333,\"#9c179e\"],[0.4444444444444444,\"#bd3786\"],[0.5555555555555556,\"#d8576b\"],[0.6666666666666666,\"#ed7953\"],[0.7777777777777778,\"#fb9f3a\"],[0.8888888888888888,\"#fdca26\"],[1.0,\"#f0f921\"]]}],\"heatmapgl\":[{\"type\":\"heatmapgl\",\"colorbar\":{\"outlinewidth\":0,\"ticks\":\"\"},\"colorscale\":[[0.0,\"#0d0887\"],[0.1111111111111111,\"#46039f\"],[0.2222222222222222,\"#7201a8\"],[0.3333333333333333,\"#9c179e\"],[0.4444444444444444,\"#bd3786\"],[0.5555555555555556,\"#d8576b\"],[0.6666666666666666,\"#ed7953\"],[0.7777777777777778,\"#fb9f3a\"],[0.8888888888888888,\"#fdca26\"],[1.0,\"#f0f921\"]]}],\"contourcarpet\":[{\"type\":\"contourcarpet\",\"colorbar\":{\"outlinewidth\":0,\"ticks\":\"\"}}],\"contour\":[{\"type\":\"contour\",\"colorbar\":{\"outlinewidth\":0,\"ticks\":\"\"},\"colorscale\":[[0.0,\"#0d0887\"],[0.1111111111111111,\"#46039f\"],[0.2222222222222222,\"#7201a8\"],[0.3333333333333333,\"#9c179e\"],[0.4444444444444444,\"#bd3786\"],[0.5555555555555556,\"#d8576b\"],[0.6666666666666666,\"#ed7953\"],[0.7777777777777778,\"#fb9f3a\"],[0.8888888888888888,\"#fdca26\"],[1.0,\"#f0f921\"]]}],\"surface\":[{\"type\":\"surface\",\"colorbar\":{\"outlinewidth\":0,\"ticks\":\"\"},\"colorscale\":[[0.0,\"#0d0887\"],[0.1111111111111111,\"#46039f\"],[0.2222222222222222,\"#7201a8\"],[0.3333333333333333,\"#9c179e\"],[0.4444444444444444,\"#bd3786\"],[0.5555555555555556,\"#d8576b\"],[0.6666666666666666,\"#ed7953\"],[0.7777777777777778,\"#fb9f3a\"],[0.8888888888888888,\"#fdca26\"],[1.0,\"#f0f921\"]]}],\"mesh3d\":[{\"type\":\"mesh3d\",\"colorbar\":{\"outlinewidth\":0,\"ticks\":\"\"}}],\"scatter\":[{\"fillpattern\":{\"fillmode\":\"overlay\",\"size\":10,\"solidity\":0.2},\"type\":\"scatter\"}],\"parcoords\":[{\"type\":\"parcoords\",\"line\":{\"colorbar\":{\"outlinewidth\":0,\"ticks\":\"\"}}}],\"scatterpolargl\":[{\"type\":\"scatterpolargl\",\"marker\":{\"colorbar\":{\"outlinewidth\":0,\"ticks\":\"\"}}}],\"bar\":[{\"error_x\":{\"color\":\"#2a3f5f\"},\"error_y\":{\"color\":\"#2a3f5f\"},\"marker\":{\"line\":{\"color\":\"#E5ECF6\",\"width\":0.5},\"pattern\":{\"fillmode\":\"overlay\",\"size\":10,\"solidity\":0.2}},\"type\":\"bar\"}],\"scattergeo\":[{\"type\":\"scattergeo\",\"marker\":{\"colorbar\":{\"outlinewidth\":0,\"ticks\":\"\"}}}],\"scatterpolar\":[{\"type\":\"scatterpolar\",\"marker\":{\"colorbar\":{\"outlinewidth\":0,\"ticks\":\"\"}}}],\"histogram\":[{\"marker\":{\"pattern\":{\"fillmode\":\"overlay\",\"size\":10,\"solidity\":0.2}},\"type\":\"histogram\"}],\"scattergl\":[{\"type\":\"scattergl\",\"marker\":{\"colorbar\":{\"outlinewidth\":0,\"ticks\":\"\"}}}],\"scatter3d\":[{\"type\":\"scatter3d\",\"line\":{\"colorbar\":{\"outlinewidth\":0,\"ticks\":\"\"}},\"marker\":{\"colorbar\":{\"outlinewidth\":0,\"ticks\":\"\"}}}],\"scattermapbox\":[{\"type\":\"scattermapbox\",\"marker\":{\"colorbar\":{\"outlinewidth\":0,\"ticks\":\"\"}}}],\"scatterternary\":[{\"type\":\"scatterternary\",\"marker\":{\"colorbar\":{\"outlinewidth\":0,\"ticks\":\"\"}}}],\"scattercarpet\":[{\"type\":\"scattercarpet\",\"marker\":{\"colorbar\":{\"outlinewidth\":0,\"ticks\":\"\"}}}],\"carpet\":[{\"aaxis\":{\"endlinecolor\":\"#2a3f5f\",\"gridcolor\":\"white\",\"linecolor\":\"white\",\"minorgridcolor\":\"white\",\"startlinecolor\":\"#2a3f5f\"},\"baxis\":{\"endlinecolor\":\"#2a3f5f\",\"gridcolor\":\"white\",\"linecolor\":\"white\",\"minorgridcolor\":\"white\",\"startlinecolor\":\"#2a3f5f\"},\"type\":\"carpet\"}],\"table\":[{\"cells\":{\"fill\":{\"color\":\"#EBF0F8\"},\"line\":{\"color\":\"white\"}},\"header\":{\"fill\":{\"color\":\"#C8D4E3\"},\"line\":{\"color\":\"white\"}},\"type\":\"table\"}],\"barpolar\":[{\"marker\":{\"line\":{\"color\":\"#E5ECF6\",\"width\":0.5},\"pattern\":{\"fillmode\":\"overlay\",\"size\":10,\"solidity\":0.2}},\"type\":\"barpolar\"}],\"pie\":[{\"automargin\":true,\"type\":\"pie\"}]},\"layout\":{\"autotypenumbers\":\"strict\",\"colorway\":[\"#636efa\",\"#EF553B\",\"#00cc96\",\"#ab63fa\",\"#FFA15A\",\"#19d3f3\",\"#FF6692\",\"#B6E880\",\"#FF97FF\",\"#FECB52\"],\"font\":{\"color\":\"#2a3f5f\"},\"hovermode\":\"closest\",\"hoverlabel\":{\"align\":\"left\"},\"paper_bgcolor\":\"white\",\"plot_bgcolor\":\"#E5ECF6\",\"polar\":{\"bgcolor\":\"#E5ECF6\",\"angularaxis\":{\"gridcolor\":\"white\",\"linecolor\":\"white\",\"ticks\":\"\"},\"radialaxis\":{\"gridcolor\":\"white\",\"linecolor\":\"white\",\"ticks\":\"\"}},\"ternary\":{\"bgcolor\":\"#E5ECF6\",\"aaxis\":{\"gridcolor\":\"white\",\"linecolor\":\"white\",\"ticks\":\"\"},\"baxis\":{\"gridcolor\":\"white\",\"linecolor\":\"white\",\"ticks\":\"\"},\"caxis\":{\"gridcolor\":\"white\",\"linecolor\":\"white\",\"ticks\":\"\"}},\"coloraxis\":{\"colorbar\":{\"outlinewidth\":0,\"ticks\":\"\"}},\"colorscale\":{\"sequential\":[[0.0,\"#0d0887\"],[0.1111111111111111,\"#46039f\"],[0.2222222222222222,\"#7201a8\"],[0.3333333333333333,\"#9c179e\"],[0.4444444444444444,\"#bd3786\"],[0.5555555555555556,\"#d8576b\"],[0.6666666666666666,\"#ed7953\"],[0.7777777777777778,\"#fb9f3a\"],[0.8888888888888888,\"#fdca26\"],[1.0,\"#f0f921\"]],\"sequentialminus\":[[0.0,\"#0d0887\"],[0.1111111111111111,\"#46039f\"],[0.2222222222222222,\"#7201a8\"],[0.3333333333333333,\"#9c179e\"],[0.4444444444444444,\"#bd3786\"],[0.5555555555555556,\"#d8576b\"],[0.6666666666666666,\"#ed7953\"],[0.7777777777777778,\"#fb9f3a\"],[0.8888888888888888,\"#fdca26\"],[1.0,\"#f0f921\"]],\"diverging\":[[0,\"#8e0152\"],[0.1,\"#c51b7d\"],[0.2,\"#de77ae\"],[0.3,\"#f1b6da\"],[0.4,\"#fde0ef\"],[0.5,\"#f7f7f7\"],[0.6,\"#e6f5d0\"],[0.7,\"#b8e186\"],[0.8,\"#7fbc41\"],[0.9,\"#4d9221\"],[1,\"#276419\"]]},\"xaxis\":{\"gridcolor\":\"white\",\"linecolor\":\"white\",\"ticks\":\"\",\"title\":{\"standoff\":15},\"zerolinecolor\":\"white\",\"automargin\":true,\"zerolinewidth\":2},\"yaxis\":{\"gridcolor\":\"white\",\"linecolor\":\"white\",\"ticks\":\"\",\"title\":{\"standoff\":15},\"zerolinecolor\":\"white\",\"automargin\":true,\"zerolinewidth\":2},\"scene\":{\"xaxis\":{\"backgroundcolor\":\"#E5ECF6\",\"gridcolor\":\"white\",\"linecolor\":\"white\",\"showbackground\":true,\"ticks\":\"\",\"zerolinecolor\":\"white\",\"gridwidth\":2},\"yaxis\":{\"backgroundcolor\":\"#E5ECF6\",\"gridcolor\":\"white\",\"linecolor\":\"white\",\"showbackground\":true,\"ticks\":\"\",\"zerolinecolor\":\"white\",\"gridwidth\":2},\"zaxis\":{\"backgroundcolor\":\"#E5ECF6\",\"gridcolor\":\"white\",\"linecolor\":\"white\",\"showbackground\":true,\"ticks\":\"\",\"zerolinecolor\":\"white\",\"gridwidth\":2}},\"shapedefaults\":{\"line\":{\"color\":\"#2a3f5f\"}},\"annotationdefaults\":{\"arrowcolor\":\"#2a3f5f\",\"arrowhead\":0,\"arrowwidth\":1},\"geo\":{\"bgcolor\":\"white\",\"landcolor\":\"#E5ECF6\",\"subunitcolor\":\"white\",\"showland\":true,\"showlakes\":true,\"lakecolor\":\"white\"},\"title\":{\"x\":0.05},\"mapbox\":{\"style\":\"light\"}}},\"xaxis\":{\"anchor\":\"y\",\"domain\":[0.0,0.45],\"categoryorder\":\"array\",\"categoryarray\":[\"very negative\",\"negative\",\"weakly negative\",\"Neutral\",\"weakly positive\",\"positive\",\"very positive\"]},\"yaxis\":{\"anchor\":\"x\",\"domain\":[0.0,1.0],\"range\":[0,4500]},\"xaxis2\":{\"anchor\":\"y2\",\"domain\":[0.55,1.0],\"categoryorder\":\"array\",\"categoryarray\":[\"very negative\",\"negative\",\"weakly negative\",\"Neutral\",\"weakly positive\",\"positive\",\"very positive\"]},\"yaxis2\":{\"anchor\":\"x2\",\"domain\":[0.0,1.0],\"range\":[0,4500]},\"annotations\":[{\"font\":{\"size\":16},\"showarrow\":false,\"text\":\"Grond-truth\",\"x\":0.225,\"xanchor\":\"center\",\"xref\":\"paper\",\"y\":1.0,\"yanchor\":\"bottom\",\"yref\":\"paper\"},{\"font\":{\"size\":16},\"showarrow\":false,\"text\":\"TFN-frozen\",\"x\":0.775,\"xanchor\":\"center\",\"xref\":\"paper\",\"y\":1.0,\"yanchor\":\"bottom\",\"yref\":\"paper\"}],\"title\":{\"text\":\"Fusion result distribution\"},\"height\":800,\"width\":1200},                        {\"responsive\": true}                    ).then(function(){\n",
       "                            \n",
       "var gd = document.getElementById('d590ee42-a975-4dcf-a0e2-cd7849d739a1');\n",
       "var x = new MutationObserver(function (mutations, observer) {{\n",
       "        var display = window.getComputedStyle(gd).display;\n",
       "        if (!display || display === 'none') {{\n",
       "            console.log([gd, 'removed!']);\n",
       "            Plotly.purge(gd);\n",
       "            observer.disconnect();\n",
       "        }}\n",
       "}});\n",
       "\n",
       "// Listen for the removal of the full notebook cells\n",
       "var notebookContainer = gd.closest('#notebook-container');\n",
       "if (notebookContainer) {{\n",
       "    x.observe(notebookContainer, {childList: true});\n",
       "}}\n",
       "\n",
       "// Listen for the clearing of the current output cell\n",
       "var outputEl = gd.closest('.output');\n",
       "if (outputEl) {{\n",
       "    x.observe(outputEl, {childList: true});\n",
       "}}\n",
       "\n",
       "                        })                };                });            </script>        </div>"
      ]
     },
     "metadata": {},
     "output_type": "display_data"
    }
   ],
   "source": [
    "df = pd.DataFrame(data=tfn_mosei)\n",
    "df_gold = df.groupby('labels_7').count().reset_index()\n",
    "df_pred = df.groupby('preds_7').count().reset_index()\n",
    "\n",
    "order = ['very negative', 'negative', 'weakly negative', 'Neutral', 'weakly positive', 'positive', 'very positive']\n",
    "\n",
    "fig1 = px.bar(df_gold, x=\"labels_7\", y=\"segment\")\n",
    "fig2 = px.bar(df_pred, x=\"preds_7\", y=\"segment\")\n",
    "\n",
    "fig1_traces = []\n",
    "fig2_traces = []\n",
    "\n",
    "for trace in range(len(fig1[\"data\"])):\n",
    "    fig1_traces.append(fig1[\"data\"][trace])\n",
    "for trace in range(len(fig2[\"data\"])):\n",
    "    fig2_traces.append(fig2[\"data\"][trace])\n",
    "\n",
    "this_figure = sp.make_subplots(rows=1, cols=2, subplot_titles=(\"Grond-truth\", \"TFN-frozen\"))\n",
    "for traces in fig1_traces:\n",
    "    this_figure.append_trace(traces, row=1, col=1)\n",
    "for traces in fig2_traces:\n",
    "    this_figure.append_trace(traces, row=1, col=2)\n",
    "\n",
    "this_figure.update_layout(height=800, width=1200, title_text=\"Fusion result distribution\")\n",
    "this_figure.update_xaxes(categoryorder='array', categoryarray= order)\n",
    "this_figure.update_yaxes(range=[0,4500])\n",
    "this_figure.show()"
   ]
  },
  {
   "cell_type": "markdown",
   "metadata": {},
   "source": [
    "### 3. Unimodal result distribution"
   ]
  },
  {
   "cell_type": "code",
   "execution_count": 52,
   "metadata": {},
   "outputs": [
    {
     "data": {
      "application/vnd.plotly.v1+json": {
       "config": {
        "plotlyServerURL": "https://plot.ly"
       },
       "data": [
        {
         "alignmentgroup": "True",
         "hovertemplate": "text_7=%{x}<br>segment=%{y}<extra></extra>",
         "legendgroup": "",
         "marker": {
          "color": "#636efa",
          "pattern": {
           "shape": ""
          }
         },
         "name": "",
         "offsetgroup": "",
         "orientation": "v",
         "showlegend": false,
         "textposition": "auto",
         "type": "bar",
         "x": [
          "Neutral",
          "weakly positive"
         ],
         "xaxis": "x",
         "y": [
          4651,
          3
         ],
         "yaxis": "y"
        },
        {
         "alignmentgroup": "True",
         "hovertemplate": "audio_7=%{x}<br>segment=%{y}<extra></extra>",
         "legendgroup": "",
         "marker": {
          "color": "#636efa",
          "pattern": {
           "shape": ""
          }
         },
         "name": "",
         "offsetgroup": "",
         "orientation": "v",
         "showlegend": false,
         "textposition": "auto",
         "type": "bar",
         "x": [
          "Neutral"
         ],
         "xaxis": "x2",
         "y": [
          4654
         ],
         "yaxis": "y2"
        },
        {
         "alignmentgroup": "True",
         "hovertemplate": "video_7=%{x}<br>segment=%{y}<extra></extra>",
         "legendgroup": "",
         "marker": {
          "color": "#636efa",
          "pattern": {
           "shape": ""
          }
         },
         "name": "",
         "offsetgroup": "",
         "orientation": "v",
         "showlegend": false,
         "textposition": "auto",
         "type": "bar",
         "x": [
          "Neutral"
         ],
         "xaxis": "x3",
         "y": [
          4654
         ],
         "yaxis": "y3"
        },
        {
         "alignmentgroup": "True",
         "hovertemplate": "preds_7=%{x}<br>segment=%{y}<extra></extra>",
         "legendgroup": "",
         "marker": {
          "color": "#636efa",
          "pattern": {
           "shape": ""
          }
         },
         "name": "",
         "offsetgroup": "",
         "orientation": "v",
         "showlegend": false,
         "textposition": "auto",
         "type": "bar",
         "x": [
          "Neutral",
          "weakly positive"
         ],
         "xaxis": "x4",
         "y": [
          4581,
          73
         ],
         "yaxis": "y4"
        }
       ],
       "layout": {
        "annotations": [
         {
          "font": {
           "size": 16
          },
          "showarrow": false,
          "text": "Text-only",
          "x": 0.225,
          "xanchor": "center",
          "xref": "paper",
          "y": 1,
          "yanchor": "bottom",
          "yref": "paper"
         },
         {
          "font": {
           "size": 16
          },
          "showarrow": false,
          "text": "Acoustic-only",
          "x": 0.775,
          "xanchor": "center",
          "xref": "paper",
          "y": 1,
          "yanchor": "bottom",
          "yref": "paper"
         },
         {
          "font": {
           "size": 16
          },
          "showarrow": false,
          "text": "Visual-only",
          "x": 0.225,
          "xanchor": "center",
          "xref": "paper",
          "y": 0.375,
          "yanchor": "bottom",
          "yref": "paper"
         },
         {
          "font": {
           "size": 16
          },
          "showarrow": false,
          "text": "TFN-fusion",
          "x": 0.775,
          "xanchor": "center",
          "xref": "paper",
          "y": 0.375,
          "yanchor": "bottom",
          "yref": "paper"
         }
        ],
        "height": 800,
        "template": {
         "data": {
          "bar": [
           {
            "error_x": {
             "color": "#2a3f5f"
            },
            "error_y": {
             "color": "#2a3f5f"
            },
            "marker": {
             "line": {
              "color": "#E5ECF6",
              "width": 0.5
             },
             "pattern": {
              "fillmode": "overlay",
              "size": 10,
              "solidity": 0.2
             }
            },
            "type": "bar"
           }
          ],
          "barpolar": [
           {
            "marker": {
             "line": {
              "color": "#E5ECF6",
              "width": 0.5
             },
             "pattern": {
              "fillmode": "overlay",
              "size": 10,
              "solidity": 0.2
             }
            },
            "type": "barpolar"
           }
          ],
          "carpet": [
           {
            "aaxis": {
             "endlinecolor": "#2a3f5f",
             "gridcolor": "white",
             "linecolor": "white",
             "minorgridcolor": "white",
             "startlinecolor": "#2a3f5f"
            },
            "baxis": {
             "endlinecolor": "#2a3f5f",
             "gridcolor": "white",
             "linecolor": "white",
             "minorgridcolor": "white",
             "startlinecolor": "#2a3f5f"
            },
            "type": "carpet"
           }
          ],
          "choropleth": [
           {
            "colorbar": {
             "outlinewidth": 0,
             "ticks": ""
            },
            "type": "choropleth"
           }
          ],
          "contour": [
           {
            "colorbar": {
             "outlinewidth": 0,
             "ticks": ""
            },
            "colorscale": [
             [
              0,
              "#0d0887"
             ],
             [
              0.1111111111111111,
              "#46039f"
             ],
             [
              0.2222222222222222,
              "#7201a8"
             ],
             [
              0.3333333333333333,
              "#9c179e"
             ],
             [
              0.4444444444444444,
              "#bd3786"
             ],
             [
              0.5555555555555556,
              "#d8576b"
             ],
             [
              0.6666666666666666,
              "#ed7953"
             ],
             [
              0.7777777777777778,
              "#fb9f3a"
             ],
             [
              0.8888888888888888,
              "#fdca26"
             ],
             [
              1,
              "#f0f921"
             ]
            ],
            "type": "contour"
           }
          ],
          "contourcarpet": [
           {
            "colorbar": {
             "outlinewidth": 0,
             "ticks": ""
            },
            "type": "contourcarpet"
           }
          ],
          "heatmap": [
           {
            "colorbar": {
             "outlinewidth": 0,
             "ticks": ""
            },
            "colorscale": [
             [
              0,
              "#0d0887"
             ],
             [
              0.1111111111111111,
              "#46039f"
             ],
             [
              0.2222222222222222,
              "#7201a8"
             ],
             [
              0.3333333333333333,
              "#9c179e"
             ],
             [
              0.4444444444444444,
              "#bd3786"
             ],
             [
              0.5555555555555556,
              "#d8576b"
             ],
             [
              0.6666666666666666,
              "#ed7953"
             ],
             [
              0.7777777777777778,
              "#fb9f3a"
             ],
             [
              0.8888888888888888,
              "#fdca26"
             ],
             [
              1,
              "#f0f921"
             ]
            ],
            "type": "heatmap"
           }
          ],
          "heatmapgl": [
           {
            "colorbar": {
             "outlinewidth": 0,
             "ticks": ""
            },
            "colorscale": [
             [
              0,
              "#0d0887"
             ],
             [
              0.1111111111111111,
              "#46039f"
             ],
             [
              0.2222222222222222,
              "#7201a8"
             ],
             [
              0.3333333333333333,
              "#9c179e"
             ],
             [
              0.4444444444444444,
              "#bd3786"
             ],
             [
              0.5555555555555556,
              "#d8576b"
             ],
             [
              0.6666666666666666,
              "#ed7953"
             ],
             [
              0.7777777777777778,
              "#fb9f3a"
             ],
             [
              0.8888888888888888,
              "#fdca26"
             ],
             [
              1,
              "#f0f921"
             ]
            ],
            "type": "heatmapgl"
           }
          ],
          "histogram": [
           {
            "marker": {
             "pattern": {
              "fillmode": "overlay",
              "size": 10,
              "solidity": 0.2
             }
            },
            "type": "histogram"
           }
          ],
          "histogram2d": [
           {
            "colorbar": {
             "outlinewidth": 0,
             "ticks": ""
            },
            "colorscale": [
             [
              0,
              "#0d0887"
             ],
             [
              0.1111111111111111,
              "#46039f"
             ],
             [
              0.2222222222222222,
              "#7201a8"
             ],
             [
              0.3333333333333333,
              "#9c179e"
             ],
             [
              0.4444444444444444,
              "#bd3786"
             ],
             [
              0.5555555555555556,
              "#d8576b"
             ],
             [
              0.6666666666666666,
              "#ed7953"
             ],
             [
              0.7777777777777778,
              "#fb9f3a"
             ],
             [
              0.8888888888888888,
              "#fdca26"
             ],
             [
              1,
              "#f0f921"
             ]
            ],
            "type": "histogram2d"
           }
          ],
          "histogram2dcontour": [
           {
            "colorbar": {
             "outlinewidth": 0,
             "ticks": ""
            },
            "colorscale": [
             [
              0,
              "#0d0887"
             ],
             [
              0.1111111111111111,
              "#46039f"
             ],
             [
              0.2222222222222222,
              "#7201a8"
             ],
             [
              0.3333333333333333,
              "#9c179e"
             ],
             [
              0.4444444444444444,
              "#bd3786"
             ],
             [
              0.5555555555555556,
              "#d8576b"
             ],
             [
              0.6666666666666666,
              "#ed7953"
             ],
             [
              0.7777777777777778,
              "#fb9f3a"
             ],
             [
              0.8888888888888888,
              "#fdca26"
             ],
             [
              1,
              "#f0f921"
             ]
            ],
            "type": "histogram2dcontour"
           }
          ],
          "mesh3d": [
           {
            "colorbar": {
             "outlinewidth": 0,
             "ticks": ""
            },
            "type": "mesh3d"
           }
          ],
          "parcoords": [
           {
            "line": {
             "colorbar": {
              "outlinewidth": 0,
              "ticks": ""
             }
            },
            "type": "parcoords"
           }
          ],
          "pie": [
           {
            "automargin": true,
            "type": "pie"
           }
          ],
          "scatter": [
           {
            "fillpattern": {
             "fillmode": "overlay",
             "size": 10,
             "solidity": 0.2
            },
            "type": "scatter"
           }
          ],
          "scatter3d": [
           {
            "line": {
             "colorbar": {
              "outlinewidth": 0,
              "ticks": ""
             }
            },
            "marker": {
             "colorbar": {
              "outlinewidth": 0,
              "ticks": ""
             }
            },
            "type": "scatter3d"
           }
          ],
          "scattercarpet": [
           {
            "marker": {
             "colorbar": {
              "outlinewidth": 0,
              "ticks": ""
             }
            },
            "type": "scattercarpet"
           }
          ],
          "scattergeo": [
           {
            "marker": {
             "colorbar": {
              "outlinewidth": 0,
              "ticks": ""
             }
            },
            "type": "scattergeo"
           }
          ],
          "scattergl": [
           {
            "marker": {
             "colorbar": {
              "outlinewidth": 0,
              "ticks": ""
             }
            },
            "type": "scattergl"
           }
          ],
          "scattermapbox": [
           {
            "marker": {
             "colorbar": {
              "outlinewidth": 0,
              "ticks": ""
             }
            },
            "type": "scattermapbox"
           }
          ],
          "scatterpolar": [
           {
            "marker": {
             "colorbar": {
              "outlinewidth": 0,
              "ticks": ""
             }
            },
            "type": "scatterpolar"
           }
          ],
          "scatterpolargl": [
           {
            "marker": {
             "colorbar": {
              "outlinewidth": 0,
              "ticks": ""
             }
            },
            "type": "scatterpolargl"
           }
          ],
          "scatterternary": [
           {
            "marker": {
             "colorbar": {
              "outlinewidth": 0,
              "ticks": ""
             }
            },
            "type": "scatterternary"
           }
          ],
          "surface": [
           {
            "colorbar": {
             "outlinewidth": 0,
             "ticks": ""
            },
            "colorscale": [
             [
              0,
              "#0d0887"
             ],
             [
              0.1111111111111111,
              "#46039f"
             ],
             [
              0.2222222222222222,
              "#7201a8"
             ],
             [
              0.3333333333333333,
              "#9c179e"
             ],
             [
              0.4444444444444444,
              "#bd3786"
             ],
             [
              0.5555555555555556,
              "#d8576b"
             ],
             [
              0.6666666666666666,
              "#ed7953"
             ],
             [
              0.7777777777777778,
              "#fb9f3a"
             ],
             [
              0.8888888888888888,
              "#fdca26"
             ],
             [
              1,
              "#f0f921"
             ]
            ],
            "type": "surface"
           }
          ],
          "table": [
           {
            "cells": {
             "fill": {
              "color": "#EBF0F8"
             },
             "line": {
              "color": "white"
             }
            },
            "header": {
             "fill": {
              "color": "#C8D4E3"
             },
             "line": {
              "color": "white"
             }
            },
            "type": "table"
           }
          ]
         },
         "layout": {
          "annotationdefaults": {
           "arrowcolor": "#2a3f5f",
           "arrowhead": 0,
           "arrowwidth": 1
          },
          "autotypenumbers": "strict",
          "coloraxis": {
           "colorbar": {
            "outlinewidth": 0,
            "ticks": ""
           }
          },
          "colorscale": {
           "diverging": [
            [
             0,
             "#8e0152"
            ],
            [
             0.1,
             "#c51b7d"
            ],
            [
             0.2,
             "#de77ae"
            ],
            [
             0.3,
             "#f1b6da"
            ],
            [
             0.4,
             "#fde0ef"
            ],
            [
             0.5,
             "#f7f7f7"
            ],
            [
             0.6,
             "#e6f5d0"
            ],
            [
             0.7,
             "#b8e186"
            ],
            [
             0.8,
             "#7fbc41"
            ],
            [
             0.9,
             "#4d9221"
            ],
            [
             1,
             "#276419"
            ]
           ],
           "sequential": [
            [
             0,
             "#0d0887"
            ],
            [
             0.1111111111111111,
             "#46039f"
            ],
            [
             0.2222222222222222,
             "#7201a8"
            ],
            [
             0.3333333333333333,
             "#9c179e"
            ],
            [
             0.4444444444444444,
             "#bd3786"
            ],
            [
             0.5555555555555556,
             "#d8576b"
            ],
            [
             0.6666666666666666,
             "#ed7953"
            ],
            [
             0.7777777777777778,
             "#fb9f3a"
            ],
            [
             0.8888888888888888,
             "#fdca26"
            ],
            [
             1,
             "#f0f921"
            ]
           ],
           "sequentialminus": [
            [
             0,
             "#0d0887"
            ],
            [
             0.1111111111111111,
             "#46039f"
            ],
            [
             0.2222222222222222,
             "#7201a8"
            ],
            [
             0.3333333333333333,
             "#9c179e"
            ],
            [
             0.4444444444444444,
             "#bd3786"
            ],
            [
             0.5555555555555556,
             "#d8576b"
            ],
            [
             0.6666666666666666,
             "#ed7953"
            ],
            [
             0.7777777777777778,
             "#fb9f3a"
            ],
            [
             0.8888888888888888,
             "#fdca26"
            ],
            [
             1,
             "#f0f921"
            ]
           ]
          },
          "colorway": [
           "#636efa",
           "#EF553B",
           "#00cc96",
           "#ab63fa",
           "#FFA15A",
           "#19d3f3",
           "#FF6692",
           "#B6E880",
           "#FF97FF",
           "#FECB52"
          ],
          "font": {
           "color": "#2a3f5f"
          },
          "geo": {
           "bgcolor": "white",
           "lakecolor": "white",
           "landcolor": "#E5ECF6",
           "showlakes": true,
           "showland": true,
           "subunitcolor": "white"
          },
          "hoverlabel": {
           "align": "left"
          },
          "hovermode": "closest",
          "mapbox": {
           "style": "light"
          },
          "paper_bgcolor": "white",
          "plot_bgcolor": "#E5ECF6",
          "polar": {
           "angularaxis": {
            "gridcolor": "white",
            "linecolor": "white",
            "ticks": ""
           },
           "bgcolor": "#E5ECF6",
           "radialaxis": {
            "gridcolor": "white",
            "linecolor": "white",
            "ticks": ""
           }
          },
          "scene": {
           "xaxis": {
            "backgroundcolor": "#E5ECF6",
            "gridcolor": "white",
            "gridwidth": 2,
            "linecolor": "white",
            "showbackground": true,
            "ticks": "",
            "zerolinecolor": "white"
           },
           "yaxis": {
            "backgroundcolor": "#E5ECF6",
            "gridcolor": "white",
            "gridwidth": 2,
            "linecolor": "white",
            "showbackground": true,
            "ticks": "",
            "zerolinecolor": "white"
           },
           "zaxis": {
            "backgroundcolor": "#E5ECF6",
            "gridcolor": "white",
            "gridwidth": 2,
            "linecolor": "white",
            "showbackground": true,
            "ticks": "",
            "zerolinecolor": "white"
           }
          },
          "shapedefaults": {
           "line": {
            "color": "#2a3f5f"
           }
          },
          "ternary": {
           "aaxis": {
            "gridcolor": "white",
            "linecolor": "white",
            "ticks": ""
           },
           "baxis": {
            "gridcolor": "white",
            "linecolor": "white",
            "ticks": ""
           },
           "bgcolor": "#E5ECF6",
           "caxis": {
            "gridcolor": "white",
            "linecolor": "white",
            "ticks": ""
           }
          },
          "title": {
           "x": 0.05
          },
          "xaxis": {
           "automargin": true,
           "gridcolor": "white",
           "linecolor": "white",
           "ticks": "",
           "title": {
            "standoff": 15
           },
           "zerolinecolor": "white",
           "zerolinewidth": 2
          },
          "yaxis": {
           "automargin": true,
           "gridcolor": "white",
           "linecolor": "white",
           "ticks": "",
           "title": {
            "standoff": 15
           },
           "zerolinecolor": "white",
           "zerolinewidth": 2
          }
         }
        },
        "title": {
         "text": "Unimodal results distribution"
        },
        "width": 1200,
        "xaxis": {
         "anchor": "y",
         "categoryarray": [
          "very negative",
          "negative",
          "weakly negative",
          "Neutral",
          "weakly positive",
          "positive",
          "very positive"
         ],
         "categoryorder": "array",
         "domain": [
          0,
          0.45
         ]
        },
        "xaxis2": {
         "anchor": "y2",
         "categoryarray": [
          "very negative",
          "negative",
          "weakly negative",
          "Neutral",
          "weakly positive",
          "positive",
          "very positive"
         ],
         "categoryorder": "array",
         "domain": [
          0.55,
          1
         ]
        },
        "xaxis3": {
         "anchor": "y3",
         "categoryarray": [
          "very negative",
          "negative",
          "weakly negative",
          "Neutral",
          "weakly positive",
          "positive",
          "very positive"
         ],
         "categoryorder": "array",
         "domain": [
          0,
          0.45
         ]
        },
        "xaxis4": {
         "anchor": "y4",
         "categoryarray": [
          "very negative",
          "negative",
          "weakly negative",
          "Neutral",
          "weakly positive",
          "positive",
          "very positive"
         ],
         "categoryorder": "array",
         "domain": [
          0.55,
          1
         ]
        },
        "yaxis": {
         "anchor": "x",
         "domain": [
          0.625,
          1
         ]
        },
        "yaxis2": {
         "anchor": "x2",
         "domain": [
          0.625,
          1
         ]
        },
        "yaxis3": {
         "anchor": "x3",
         "domain": [
          0,
          0.375
         ]
        },
        "yaxis4": {
         "anchor": "x4",
         "domain": [
          0,
          0.375
         ]
        }
       }
      },
      "text/html": [
       "<div>                            <div id=\"6d1ed515-600a-461f-9dda-743dc7ab108c\" class=\"plotly-graph-div\" style=\"height:800px; width:1200px;\"></div>            <script type=\"text/javascript\">                require([\"plotly\"], function(Plotly) {                    window.PLOTLYENV=window.PLOTLYENV || {};                                    if (document.getElementById(\"6d1ed515-600a-461f-9dda-743dc7ab108c\")) {                    Plotly.newPlot(                        \"6d1ed515-600a-461f-9dda-743dc7ab108c\",                        [{\"alignmentgroup\":\"True\",\"hovertemplate\":\"text_7=%{x}<br>segment=%{y}<extra></extra>\",\"legendgroup\":\"\",\"marker\":{\"color\":\"#636efa\",\"pattern\":{\"shape\":\"\"}},\"name\":\"\",\"offsetgroup\":\"\",\"orientation\":\"v\",\"showlegend\":false,\"textposition\":\"auto\",\"x\":[\"Neutral\",\"weakly positive\"],\"xaxis\":\"x\",\"y\":[4651,3],\"yaxis\":\"y\",\"type\":\"bar\"},{\"alignmentgroup\":\"True\",\"hovertemplate\":\"audio_7=%{x}<br>segment=%{y}<extra></extra>\",\"legendgroup\":\"\",\"marker\":{\"color\":\"#636efa\",\"pattern\":{\"shape\":\"\"}},\"name\":\"\",\"offsetgroup\":\"\",\"orientation\":\"v\",\"showlegend\":false,\"textposition\":\"auto\",\"x\":[\"Neutral\"],\"xaxis\":\"x2\",\"y\":[4654],\"yaxis\":\"y2\",\"type\":\"bar\"},{\"alignmentgroup\":\"True\",\"hovertemplate\":\"video_7=%{x}<br>segment=%{y}<extra></extra>\",\"legendgroup\":\"\",\"marker\":{\"color\":\"#636efa\",\"pattern\":{\"shape\":\"\"}},\"name\":\"\",\"offsetgroup\":\"\",\"orientation\":\"v\",\"showlegend\":false,\"textposition\":\"auto\",\"x\":[\"Neutral\"],\"xaxis\":\"x3\",\"y\":[4654],\"yaxis\":\"y3\",\"type\":\"bar\"},{\"alignmentgroup\":\"True\",\"hovertemplate\":\"preds_7=%{x}<br>segment=%{y}<extra></extra>\",\"legendgroup\":\"\",\"marker\":{\"color\":\"#636efa\",\"pattern\":{\"shape\":\"\"}},\"name\":\"\",\"offsetgroup\":\"\",\"orientation\":\"v\",\"showlegend\":false,\"textposition\":\"auto\",\"x\":[\"Neutral\",\"weakly positive\"],\"xaxis\":\"x4\",\"y\":[4581,73],\"yaxis\":\"y4\",\"type\":\"bar\"}],                        {\"template\":{\"data\":{\"histogram2dcontour\":[{\"type\":\"histogram2dcontour\",\"colorbar\":{\"outlinewidth\":0,\"ticks\":\"\"},\"colorscale\":[[0.0,\"#0d0887\"],[0.1111111111111111,\"#46039f\"],[0.2222222222222222,\"#7201a8\"],[0.3333333333333333,\"#9c179e\"],[0.4444444444444444,\"#bd3786\"],[0.5555555555555556,\"#d8576b\"],[0.6666666666666666,\"#ed7953\"],[0.7777777777777778,\"#fb9f3a\"],[0.8888888888888888,\"#fdca26\"],[1.0,\"#f0f921\"]]}],\"choropleth\":[{\"type\":\"choropleth\",\"colorbar\":{\"outlinewidth\":0,\"ticks\":\"\"}}],\"histogram2d\":[{\"type\":\"histogram2d\",\"colorbar\":{\"outlinewidth\":0,\"ticks\":\"\"},\"colorscale\":[[0.0,\"#0d0887\"],[0.1111111111111111,\"#46039f\"],[0.2222222222222222,\"#7201a8\"],[0.3333333333333333,\"#9c179e\"],[0.4444444444444444,\"#bd3786\"],[0.5555555555555556,\"#d8576b\"],[0.6666666666666666,\"#ed7953\"],[0.7777777777777778,\"#fb9f3a\"],[0.8888888888888888,\"#fdca26\"],[1.0,\"#f0f921\"]]}],\"heatmap\":[{\"type\":\"heatmap\",\"colorbar\":{\"outlinewidth\":0,\"ticks\":\"\"},\"colorscale\":[[0.0,\"#0d0887\"],[0.1111111111111111,\"#46039f\"],[0.2222222222222222,\"#7201a8\"],[0.3333333333333333,\"#9c179e\"],[0.4444444444444444,\"#bd3786\"],[0.5555555555555556,\"#d8576b\"],[0.6666666666666666,\"#ed7953\"],[0.7777777777777778,\"#fb9f3a\"],[0.8888888888888888,\"#fdca26\"],[1.0,\"#f0f921\"]]}],\"heatmapgl\":[{\"type\":\"heatmapgl\",\"colorbar\":{\"outlinewidth\":0,\"ticks\":\"\"},\"colorscale\":[[0.0,\"#0d0887\"],[0.1111111111111111,\"#46039f\"],[0.2222222222222222,\"#7201a8\"],[0.3333333333333333,\"#9c179e\"],[0.4444444444444444,\"#bd3786\"],[0.5555555555555556,\"#d8576b\"],[0.6666666666666666,\"#ed7953\"],[0.7777777777777778,\"#fb9f3a\"],[0.8888888888888888,\"#fdca26\"],[1.0,\"#f0f921\"]]}],\"contourcarpet\":[{\"type\":\"contourcarpet\",\"colorbar\":{\"outlinewidth\":0,\"ticks\":\"\"}}],\"contour\":[{\"type\":\"contour\",\"colorbar\":{\"outlinewidth\":0,\"ticks\":\"\"},\"colorscale\":[[0.0,\"#0d0887\"],[0.1111111111111111,\"#46039f\"],[0.2222222222222222,\"#7201a8\"],[0.3333333333333333,\"#9c179e\"],[0.4444444444444444,\"#bd3786\"],[0.5555555555555556,\"#d8576b\"],[0.6666666666666666,\"#ed7953\"],[0.7777777777777778,\"#fb9f3a\"],[0.8888888888888888,\"#fdca26\"],[1.0,\"#f0f921\"]]}],\"surface\":[{\"type\":\"surface\",\"colorbar\":{\"outlinewidth\":0,\"ticks\":\"\"},\"colorscale\":[[0.0,\"#0d0887\"],[0.1111111111111111,\"#46039f\"],[0.2222222222222222,\"#7201a8\"],[0.3333333333333333,\"#9c179e\"],[0.4444444444444444,\"#bd3786\"],[0.5555555555555556,\"#d8576b\"],[0.6666666666666666,\"#ed7953\"],[0.7777777777777778,\"#fb9f3a\"],[0.8888888888888888,\"#fdca26\"],[1.0,\"#f0f921\"]]}],\"mesh3d\":[{\"type\":\"mesh3d\",\"colorbar\":{\"outlinewidth\":0,\"ticks\":\"\"}}],\"scatter\":[{\"fillpattern\":{\"fillmode\":\"overlay\",\"size\":10,\"solidity\":0.2},\"type\":\"scatter\"}],\"parcoords\":[{\"type\":\"parcoords\",\"line\":{\"colorbar\":{\"outlinewidth\":0,\"ticks\":\"\"}}}],\"scatterpolargl\":[{\"type\":\"scatterpolargl\",\"marker\":{\"colorbar\":{\"outlinewidth\":0,\"ticks\":\"\"}}}],\"bar\":[{\"error_x\":{\"color\":\"#2a3f5f\"},\"error_y\":{\"color\":\"#2a3f5f\"},\"marker\":{\"line\":{\"color\":\"#E5ECF6\",\"width\":0.5},\"pattern\":{\"fillmode\":\"overlay\",\"size\":10,\"solidity\":0.2}},\"type\":\"bar\"}],\"scattergeo\":[{\"type\":\"scattergeo\",\"marker\":{\"colorbar\":{\"outlinewidth\":0,\"ticks\":\"\"}}}],\"scatterpolar\":[{\"type\":\"scatterpolar\",\"marker\":{\"colorbar\":{\"outlinewidth\":0,\"ticks\":\"\"}}}],\"histogram\":[{\"marker\":{\"pattern\":{\"fillmode\":\"overlay\",\"size\":10,\"solidity\":0.2}},\"type\":\"histogram\"}],\"scattergl\":[{\"type\":\"scattergl\",\"marker\":{\"colorbar\":{\"outlinewidth\":0,\"ticks\":\"\"}}}],\"scatter3d\":[{\"type\":\"scatter3d\",\"line\":{\"colorbar\":{\"outlinewidth\":0,\"ticks\":\"\"}},\"marker\":{\"colorbar\":{\"outlinewidth\":0,\"ticks\":\"\"}}}],\"scattermapbox\":[{\"type\":\"scattermapbox\",\"marker\":{\"colorbar\":{\"outlinewidth\":0,\"ticks\":\"\"}}}],\"scatterternary\":[{\"type\":\"scatterternary\",\"marker\":{\"colorbar\":{\"outlinewidth\":0,\"ticks\":\"\"}}}],\"scattercarpet\":[{\"type\":\"scattercarpet\",\"marker\":{\"colorbar\":{\"outlinewidth\":0,\"ticks\":\"\"}}}],\"carpet\":[{\"aaxis\":{\"endlinecolor\":\"#2a3f5f\",\"gridcolor\":\"white\",\"linecolor\":\"white\",\"minorgridcolor\":\"white\",\"startlinecolor\":\"#2a3f5f\"},\"baxis\":{\"endlinecolor\":\"#2a3f5f\",\"gridcolor\":\"white\",\"linecolor\":\"white\",\"minorgridcolor\":\"white\",\"startlinecolor\":\"#2a3f5f\"},\"type\":\"carpet\"}],\"table\":[{\"cells\":{\"fill\":{\"color\":\"#EBF0F8\"},\"line\":{\"color\":\"white\"}},\"header\":{\"fill\":{\"color\":\"#C8D4E3\"},\"line\":{\"color\":\"white\"}},\"type\":\"table\"}],\"barpolar\":[{\"marker\":{\"line\":{\"color\":\"#E5ECF6\",\"width\":0.5},\"pattern\":{\"fillmode\":\"overlay\",\"size\":10,\"solidity\":0.2}},\"type\":\"barpolar\"}],\"pie\":[{\"automargin\":true,\"type\":\"pie\"}]},\"layout\":{\"autotypenumbers\":\"strict\",\"colorway\":[\"#636efa\",\"#EF553B\",\"#00cc96\",\"#ab63fa\",\"#FFA15A\",\"#19d3f3\",\"#FF6692\",\"#B6E880\",\"#FF97FF\",\"#FECB52\"],\"font\":{\"color\":\"#2a3f5f\"},\"hovermode\":\"closest\",\"hoverlabel\":{\"align\":\"left\"},\"paper_bgcolor\":\"white\",\"plot_bgcolor\":\"#E5ECF6\",\"polar\":{\"bgcolor\":\"#E5ECF6\",\"angularaxis\":{\"gridcolor\":\"white\",\"linecolor\":\"white\",\"ticks\":\"\"},\"radialaxis\":{\"gridcolor\":\"white\",\"linecolor\":\"white\",\"ticks\":\"\"}},\"ternary\":{\"bgcolor\":\"#E5ECF6\",\"aaxis\":{\"gridcolor\":\"white\",\"linecolor\":\"white\",\"ticks\":\"\"},\"baxis\":{\"gridcolor\":\"white\",\"linecolor\":\"white\",\"ticks\":\"\"},\"caxis\":{\"gridcolor\":\"white\",\"linecolor\":\"white\",\"ticks\":\"\"}},\"coloraxis\":{\"colorbar\":{\"outlinewidth\":0,\"ticks\":\"\"}},\"colorscale\":{\"sequential\":[[0.0,\"#0d0887\"],[0.1111111111111111,\"#46039f\"],[0.2222222222222222,\"#7201a8\"],[0.3333333333333333,\"#9c179e\"],[0.4444444444444444,\"#bd3786\"],[0.5555555555555556,\"#d8576b\"],[0.6666666666666666,\"#ed7953\"],[0.7777777777777778,\"#fb9f3a\"],[0.8888888888888888,\"#fdca26\"],[1.0,\"#f0f921\"]],\"sequentialminus\":[[0.0,\"#0d0887\"],[0.1111111111111111,\"#46039f\"],[0.2222222222222222,\"#7201a8\"],[0.3333333333333333,\"#9c179e\"],[0.4444444444444444,\"#bd3786\"],[0.5555555555555556,\"#d8576b\"],[0.6666666666666666,\"#ed7953\"],[0.7777777777777778,\"#fb9f3a\"],[0.8888888888888888,\"#fdca26\"],[1.0,\"#f0f921\"]],\"diverging\":[[0,\"#8e0152\"],[0.1,\"#c51b7d\"],[0.2,\"#de77ae\"],[0.3,\"#f1b6da\"],[0.4,\"#fde0ef\"],[0.5,\"#f7f7f7\"],[0.6,\"#e6f5d0\"],[0.7,\"#b8e186\"],[0.8,\"#7fbc41\"],[0.9,\"#4d9221\"],[1,\"#276419\"]]},\"xaxis\":{\"gridcolor\":\"white\",\"linecolor\":\"white\",\"ticks\":\"\",\"title\":{\"standoff\":15},\"zerolinecolor\":\"white\",\"automargin\":true,\"zerolinewidth\":2},\"yaxis\":{\"gridcolor\":\"white\",\"linecolor\":\"white\",\"ticks\":\"\",\"title\":{\"standoff\":15},\"zerolinecolor\":\"white\",\"automargin\":true,\"zerolinewidth\":2},\"scene\":{\"xaxis\":{\"backgroundcolor\":\"#E5ECF6\",\"gridcolor\":\"white\",\"linecolor\":\"white\",\"showbackground\":true,\"ticks\":\"\",\"zerolinecolor\":\"white\",\"gridwidth\":2},\"yaxis\":{\"backgroundcolor\":\"#E5ECF6\",\"gridcolor\":\"white\",\"linecolor\":\"white\",\"showbackground\":true,\"ticks\":\"\",\"zerolinecolor\":\"white\",\"gridwidth\":2},\"zaxis\":{\"backgroundcolor\":\"#E5ECF6\",\"gridcolor\":\"white\",\"linecolor\":\"white\",\"showbackground\":true,\"ticks\":\"\",\"zerolinecolor\":\"white\",\"gridwidth\":2}},\"shapedefaults\":{\"line\":{\"color\":\"#2a3f5f\"}},\"annotationdefaults\":{\"arrowcolor\":\"#2a3f5f\",\"arrowhead\":0,\"arrowwidth\":1},\"geo\":{\"bgcolor\":\"white\",\"landcolor\":\"#E5ECF6\",\"subunitcolor\":\"white\",\"showland\":true,\"showlakes\":true,\"lakecolor\":\"white\"},\"title\":{\"x\":0.05},\"mapbox\":{\"style\":\"light\"}}},\"xaxis\":{\"anchor\":\"y\",\"domain\":[0.0,0.45],\"categoryorder\":\"array\",\"categoryarray\":[\"very negative\",\"negative\",\"weakly negative\",\"Neutral\",\"weakly positive\",\"positive\",\"very positive\"]},\"yaxis\":{\"anchor\":\"x\",\"domain\":[0.625,1.0]},\"xaxis2\":{\"anchor\":\"y2\",\"domain\":[0.55,1.0],\"categoryorder\":\"array\",\"categoryarray\":[\"very negative\",\"negative\",\"weakly negative\",\"Neutral\",\"weakly positive\",\"positive\",\"very positive\"]},\"yaxis2\":{\"anchor\":\"x2\",\"domain\":[0.625,1.0]},\"xaxis3\":{\"anchor\":\"y3\",\"domain\":[0.0,0.45],\"categoryorder\":\"array\",\"categoryarray\":[\"very negative\",\"negative\",\"weakly negative\",\"Neutral\",\"weakly positive\",\"positive\",\"very positive\"]},\"yaxis3\":{\"anchor\":\"x3\",\"domain\":[0.0,0.375]},\"xaxis4\":{\"anchor\":\"y4\",\"domain\":[0.55,1.0],\"categoryorder\":\"array\",\"categoryarray\":[\"very negative\",\"negative\",\"weakly negative\",\"Neutral\",\"weakly positive\",\"positive\",\"very positive\"]},\"yaxis4\":{\"anchor\":\"x4\",\"domain\":[0.0,0.375]},\"annotations\":[{\"font\":{\"size\":16},\"showarrow\":false,\"text\":\"Text-only\",\"x\":0.225,\"xanchor\":\"center\",\"xref\":\"paper\",\"y\":1.0,\"yanchor\":\"bottom\",\"yref\":\"paper\"},{\"font\":{\"size\":16},\"showarrow\":false,\"text\":\"Acoustic-only\",\"x\":0.775,\"xanchor\":\"center\",\"xref\":\"paper\",\"y\":1.0,\"yanchor\":\"bottom\",\"yref\":\"paper\"},{\"font\":{\"size\":16},\"showarrow\":false,\"text\":\"Visual-only\",\"x\":0.225,\"xanchor\":\"center\",\"xref\":\"paper\",\"y\":0.375,\"yanchor\":\"bottom\",\"yref\":\"paper\"},{\"font\":{\"size\":16},\"showarrow\":false,\"text\":\"TFN-fusion\",\"x\":0.775,\"xanchor\":\"center\",\"xref\":\"paper\",\"y\":0.375,\"yanchor\":\"bottom\",\"yref\":\"paper\"}],\"title\":{\"text\":\"Unimodal results distribution\"},\"height\":800,\"width\":1200},                        {\"responsive\": true}                    ).then(function(){\n",
       "                            \n",
       "var gd = document.getElementById('6d1ed515-600a-461f-9dda-743dc7ab108c');\n",
       "var x = new MutationObserver(function (mutations, observer) {{\n",
       "        var display = window.getComputedStyle(gd).display;\n",
       "        if (!display || display === 'none') {{\n",
       "            console.log([gd, 'removed!']);\n",
       "            Plotly.purge(gd);\n",
       "            observer.disconnect();\n",
       "        }}\n",
       "}});\n",
       "\n",
       "// Listen for the removal of the full notebook cells\n",
       "var notebookContainer = gd.closest('#notebook-container');\n",
       "if (notebookContainer) {{\n",
       "    x.observe(notebookContainer, {childList: true});\n",
       "}}\n",
       "\n",
       "// Listen for the clearing of the current output cell\n",
       "var outputEl = gd.closest('.output');\n",
       "if (outputEl) {{\n",
       "    x.observe(outputEl, {childList: true});\n",
       "}}\n",
       "\n",
       "                        })                };                });            </script>        </div>"
      ]
     },
     "metadata": {},
     "output_type": "display_data"
    }
   ],
   "source": [
    "# keys = list(tfn.keys())\n",
    "# for key in keys:\n",
    "#     tfn[key].extend(['very negative', 'negative', 'weakly negative', 'Neutral', 'weakly positive', 'positive', 'very positive'])\n",
    "\n",
    "df = pd.DataFrame(data=tfn_mosei)\n",
    "df_t = df.groupby('text_7').count().reset_index()\n",
    "df_a = df.groupby('audio_7').count().reset_index()\n",
    "df_v = df.groupby('video_7').count().reset_index()\n",
    "df_f = df.groupby('preds_7').count().reset_index()\n",
    "\n",
    "fig1 = px.bar(df_t, x=\"text_7\", y=\"segment\")\n",
    "fig2 = px.bar(df_a, x=\"audio_7\", y=\"segment\")\n",
    "fig3 = px.bar(df_v, x=\"video_7\", y=\"segment\")\n",
    "fig4 = px.bar(df_f, x=\"preds_7\", y=\"segment\")\n",
    "\n",
    "fig1_traces = []\n",
    "fig2_traces = []\n",
    "fig3_traces = []\n",
    "fig4_traces = []\n",
    "\n",
    "for trace in range(len(fig1[\"data\"])):\n",
    "    fig1_traces.append(fig1[\"data\"][trace])\n",
    "for trace in range(len(fig2[\"data\"])):\n",
    "    fig2_traces.append(fig2[\"data\"][trace])\n",
    "for trace in range(len(fig3[\"data\"])):\n",
    "    fig3_traces.append(fig3[\"data\"][trace])\n",
    "for trace in range(len(fig4[\"data\"])):\n",
    "    fig4_traces.append(fig4[\"data\"][trace])\n",
    "\n",
    "this_figure = sp.make_subplots(rows=2, cols=2, subplot_titles=(\"Text-only\", \"Acoustic-only\", \"Visual-only\", \"TFN-fusion\"))\n",
    "for traces in fig1_traces:\n",
    "    this_figure.append_trace(traces, row=1, col=1)\n",
    "for traces in fig2_traces:\n",
    "    this_figure.append_trace(traces, row=1, col=2)\n",
    "for traces in fig3_traces:\n",
    "    this_figure.append_trace(traces, row=2, col=1)\n",
    "for traces in fig4_traces:\n",
    "    this_figure.append_trace(traces, row=2, col=2)\n",
    "\n",
    "this_figure.update_layout(height=800, width=1200, title_text=\"Unimodal results distribution\")\n",
    "this_figure.update_xaxes(categoryorder='array', categoryarray= order)\n",
    "# this_figure.update_yaxes(range=[0,500])\n",
    "this_figure.show()"
   ]
  },
  {
   "cell_type": "markdown",
   "metadata": {},
   "source": [
    "## MMIM"
   ]
  },
  {
   "cell_type": "code",
   "execution_count": 57,
   "metadata": {},
   "outputs": [],
   "source": [
    "with open(f\"results/MMIM_mosei.pkl\", \"rb\") as handle:\n",
    "    # tfn_dict = {segment, labels, labels_2, labels_7, preds, preds_2, preds_7}\n",
    "    mmim_mosei = pkl.load(handle)"
   ]
  },
  {
   "cell_type": "code",
   "execution_count": 58,
   "metadata": {},
   "outputs": [
    {
     "name": "stdout",
     "output_type": "stream",
     "text": [
      "4654\n"
     ]
    }
   ],
   "source": [
    "print(len(mmim_mosei['segment']))"
   ]
  },
  {
   "cell_type": "code",
   "execution_count": 61,
   "metadata": {},
   "outputs": [
    {
     "data": {
      "application/vnd.plotly.v1+json": {
       "config": {
        "plotlyServerURL": "https://plot.ly"
       },
       "data": [
        {
         "alignmentgroup": "True",
         "hovertemplate": "labels_7=%{x}<br>segment=%{y}<extra></extra>",
         "legendgroup": "",
         "marker": {
          "color": "#636efa",
          "pattern": {
           "shape": ""
          }
         },
         "name": "",
         "offsetgroup": "",
         "orientation": "v",
         "showlegend": false,
         "textposition": "auto",
         "type": "bar",
         "x": [
          "Neutral",
          "negative",
          "positive",
          "very negative",
          "very positive",
          "weakly negative",
          "weakly positive"
         ],
         "xaxis": "x",
         "y": [
          1922,
          488,
          663,
          156,
          109,
          380,
          936
         ],
         "yaxis": "y"
        },
        {
         "alignmentgroup": "True",
         "hovertemplate": "preds_7=%{x}<br>segment=%{y}<extra></extra>",
         "legendgroup": "",
         "marker": {
          "color": "#636efa",
          "pattern": {
           "shape": ""
          }
         },
         "name": "",
         "offsetgroup": "",
         "orientation": "v",
         "showlegend": false,
         "textposition": "auto",
         "type": "bar",
         "x": [
          "Neutral",
          "negative",
          "positive",
          "very negative",
          "very positive",
          "weakly negative",
          "weakly positive"
         ],
         "xaxis": "x2",
         "y": [
          2302,
          279,
          300,
          59,
          46,
          615,
          1053
         ],
         "yaxis": "y2"
        }
       ],
       "layout": {
        "annotations": [
         {
          "font": {
           "size": 16
          },
          "showarrow": false,
          "text": "Grond-truth",
          "x": 0.225,
          "xanchor": "center",
          "xref": "paper",
          "y": 1,
          "yanchor": "bottom",
          "yref": "paper"
         },
         {
          "font": {
           "size": 16
          },
          "showarrow": false,
          "text": "MMIM",
          "x": 0.775,
          "xanchor": "center",
          "xref": "paper",
          "y": 1,
          "yanchor": "bottom",
          "yref": "paper"
         }
        ],
        "template": {
         "data": {
          "bar": [
           {
            "error_x": {
             "color": "#2a3f5f"
            },
            "error_y": {
             "color": "#2a3f5f"
            },
            "marker": {
             "line": {
              "color": "#E5ECF6",
              "width": 0.5
             },
             "pattern": {
              "fillmode": "overlay",
              "size": 10,
              "solidity": 0.2
             }
            },
            "type": "bar"
           }
          ],
          "barpolar": [
           {
            "marker": {
             "line": {
              "color": "#E5ECF6",
              "width": 0.5
             },
             "pattern": {
              "fillmode": "overlay",
              "size": 10,
              "solidity": 0.2
             }
            },
            "type": "barpolar"
           }
          ],
          "carpet": [
           {
            "aaxis": {
             "endlinecolor": "#2a3f5f",
             "gridcolor": "white",
             "linecolor": "white",
             "minorgridcolor": "white",
             "startlinecolor": "#2a3f5f"
            },
            "baxis": {
             "endlinecolor": "#2a3f5f",
             "gridcolor": "white",
             "linecolor": "white",
             "minorgridcolor": "white",
             "startlinecolor": "#2a3f5f"
            },
            "type": "carpet"
           }
          ],
          "choropleth": [
           {
            "colorbar": {
             "outlinewidth": 0,
             "ticks": ""
            },
            "type": "choropleth"
           }
          ],
          "contour": [
           {
            "colorbar": {
             "outlinewidth": 0,
             "ticks": ""
            },
            "colorscale": [
             [
              0,
              "#0d0887"
             ],
             [
              0.1111111111111111,
              "#46039f"
             ],
             [
              0.2222222222222222,
              "#7201a8"
             ],
             [
              0.3333333333333333,
              "#9c179e"
             ],
             [
              0.4444444444444444,
              "#bd3786"
             ],
             [
              0.5555555555555556,
              "#d8576b"
             ],
             [
              0.6666666666666666,
              "#ed7953"
             ],
             [
              0.7777777777777778,
              "#fb9f3a"
             ],
             [
              0.8888888888888888,
              "#fdca26"
             ],
             [
              1,
              "#f0f921"
             ]
            ],
            "type": "contour"
           }
          ],
          "contourcarpet": [
           {
            "colorbar": {
             "outlinewidth": 0,
             "ticks": ""
            },
            "type": "contourcarpet"
           }
          ],
          "heatmap": [
           {
            "colorbar": {
             "outlinewidth": 0,
             "ticks": ""
            },
            "colorscale": [
             [
              0,
              "#0d0887"
             ],
             [
              0.1111111111111111,
              "#46039f"
             ],
             [
              0.2222222222222222,
              "#7201a8"
             ],
             [
              0.3333333333333333,
              "#9c179e"
             ],
             [
              0.4444444444444444,
              "#bd3786"
             ],
             [
              0.5555555555555556,
              "#d8576b"
             ],
             [
              0.6666666666666666,
              "#ed7953"
             ],
             [
              0.7777777777777778,
              "#fb9f3a"
             ],
             [
              0.8888888888888888,
              "#fdca26"
             ],
             [
              1,
              "#f0f921"
             ]
            ],
            "type": "heatmap"
           }
          ],
          "heatmapgl": [
           {
            "colorbar": {
             "outlinewidth": 0,
             "ticks": ""
            },
            "colorscale": [
             [
              0,
              "#0d0887"
             ],
             [
              0.1111111111111111,
              "#46039f"
             ],
             [
              0.2222222222222222,
              "#7201a8"
             ],
             [
              0.3333333333333333,
              "#9c179e"
             ],
             [
              0.4444444444444444,
              "#bd3786"
             ],
             [
              0.5555555555555556,
              "#d8576b"
             ],
             [
              0.6666666666666666,
              "#ed7953"
             ],
             [
              0.7777777777777778,
              "#fb9f3a"
             ],
             [
              0.8888888888888888,
              "#fdca26"
             ],
             [
              1,
              "#f0f921"
             ]
            ],
            "type": "heatmapgl"
           }
          ],
          "histogram": [
           {
            "marker": {
             "pattern": {
              "fillmode": "overlay",
              "size": 10,
              "solidity": 0.2
             }
            },
            "type": "histogram"
           }
          ],
          "histogram2d": [
           {
            "colorbar": {
             "outlinewidth": 0,
             "ticks": ""
            },
            "colorscale": [
             [
              0,
              "#0d0887"
             ],
             [
              0.1111111111111111,
              "#46039f"
             ],
             [
              0.2222222222222222,
              "#7201a8"
             ],
             [
              0.3333333333333333,
              "#9c179e"
             ],
             [
              0.4444444444444444,
              "#bd3786"
             ],
             [
              0.5555555555555556,
              "#d8576b"
             ],
             [
              0.6666666666666666,
              "#ed7953"
             ],
             [
              0.7777777777777778,
              "#fb9f3a"
             ],
             [
              0.8888888888888888,
              "#fdca26"
             ],
             [
              1,
              "#f0f921"
             ]
            ],
            "type": "histogram2d"
           }
          ],
          "histogram2dcontour": [
           {
            "colorbar": {
             "outlinewidth": 0,
             "ticks": ""
            },
            "colorscale": [
             [
              0,
              "#0d0887"
             ],
             [
              0.1111111111111111,
              "#46039f"
             ],
             [
              0.2222222222222222,
              "#7201a8"
             ],
             [
              0.3333333333333333,
              "#9c179e"
             ],
             [
              0.4444444444444444,
              "#bd3786"
             ],
             [
              0.5555555555555556,
              "#d8576b"
             ],
             [
              0.6666666666666666,
              "#ed7953"
             ],
             [
              0.7777777777777778,
              "#fb9f3a"
             ],
             [
              0.8888888888888888,
              "#fdca26"
             ],
             [
              1,
              "#f0f921"
             ]
            ],
            "type": "histogram2dcontour"
           }
          ],
          "mesh3d": [
           {
            "colorbar": {
             "outlinewidth": 0,
             "ticks": ""
            },
            "type": "mesh3d"
           }
          ],
          "parcoords": [
           {
            "line": {
             "colorbar": {
              "outlinewidth": 0,
              "ticks": ""
             }
            },
            "type": "parcoords"
           }
          ],
          "pie": [
           {
            "automargin": true,
            "type": "pie"
           }
          ],
          "scatter": [
           {
            "fillpattern": {
             "fillmode": "overlay",
             "size": 10,
             "solidity": 0.2
            },
            "type": "scatter"
           }
          ],
          "scatter3d": [
           {
            "line": {
             "colorbar": {
              "outlinewidth": 0,
              "ticks": ""
             }
            },
            "marker": {
             "colorbar": {
              "outlinewidth": 0,
              "ticks": ""
             }
            },
            "type": "scatter3d"
           }
          ],
          "scattercarpet": [
           {
            "marker": {
             "colorbar": {
              "outlinewidth": 0,
              "ticks": ""
             }
            },
            "type": "scattercarpet"
           }
          ],
          "scattergeo": [
           {
            "marker": {
             "colorbar": {
              "outlinewidth": 0,
              "ticks": ""
             }
            },
            "type": "scattergeo"
           }
          ],
          "scattergl": [
           {
            "marker": {
             "colorbar": {
              "outlinewidth": 0,
              "ticks": ""
             }
            },
            "type": "scattergl"
           }
          ],
          "scattermapbox": [
           {
            "marker": {
             "colorbar": {
              "outlinewidth": 0,
              "ticks": ""
             }
            },
            "type": "scattermapbox"
           }
          ],
          "scatterpolar": [
           {
            "marker": {
             "colorbar": {
              "outlinewidth": 0,
              "ticks": ""
             }
            },
            "type": "scatterpolar"
           }
          ],
          "scatterpolargl": [
           {
            "marker": {
             "colorbar": {
              "outlinewidth": 0,
              "ticks": ""
             }
            },
            "type": "scatterpolargl"
           }
          ],
          "scatterternary": [
           {
            "marker": {
             "colorbar": {
              "outlinewidth": 0,
              "ticks": ""
             }
            },
            "type": "scatterternary"
           }
          ],
          "surface": [
           {
            "colorbar": {
             "outlinewidth": 0,
             "ticks": ""
            },
            "colorscale": [
             [
              0,
              "#0d0887"
             ],
             [
              0.1111111111111111,
              "#46039f"
             ],
             [
              0.2222222222222222,
              "#7201a8"
             ],
             [
              0.3333333333333333,
              "#9c179e"
             ],
             [
              0.4444444444444444,
              "#bd3786"
             ],
             [
              0.5555555555555556,
              "#d8576b"
             ],
             [
              0.6666666666666666,
              "#ed7953"
             ],
             [
              0.7777777777777778,
              "#fb9f3a"
             ],
             [
              0.8888888888888888,
              "#fdca26"
             ],
             [
              1,
              "#f0f921"
             ]
            ],
            "type": "surface"
           }
          ],
          "table": [
           {
            "cells": {
             "fill": {
              "color": "#EBF0F8"
             },
             "line": {
              "color": "white"
             }
            },
            "header": {
             "fill": {
              "color": "#C8D4E3"
             },
             "line": {
              "color": "white"
             }
            },
            "type": "table"
           }
          ]
         },
         "layout": {
          "annotationdefaults": {
           "arrowcolor": "#2a3f5f",
           "arrowhead": 0,
           "arrowwidth": 1
          },
          "autotypenumbers": "strict",
          "coloraxis": {
           "colorbar": {
            "outlinewidth": 0,
            "ticks": ""
           }
          },
          "colorscale": {
           "diverging": [
            [
             0,
             "#8e0152"
            ],
            [
             0.1,
             "#c51b7d"
            ],
            [
             0.2,
             "#de77ae"
            ],
            [
             0.3,
             "#f1b6da"
            ],
            [
             0.4,
             "#fde0ef"
            ],
            [
             0.5,
             "#f7f7f7"
            ],
            [
             0.6,
             "#e6f5d0"
            ],
            [
             0.7,
             "#b8e186"
            ],
            [
             0.8,
             "#7fbc41"
            ],
            [
             0.9,
             "#4d9221"
            ],
            [
             1,
             "#276419"
            ]
           ],
           "sequential": [
            [
             0,
             "#0d0887"
            ],
            [
             0.1111111111111111,
             "#46039f"
            ],
            [
             0.2222222222222222,
             "#7201a8"
            ],
            [
             0.3333333333333333,
             "#9c179e"
            ],
            [
             0.4444444444444444,
             "#bd3786"
            ],
            [
             0.5555555555555556,
             "#d8576b"
            ],
            [
             0.6666666666666666,
             "#ed7953"
            ],
            [
             0.7777777777777778,
             "#fb9f3a"
            ],
            [
             0.8888888888888888,
             "#fdca26"
            ],
            [
             1,
             "#f0f921"
            ]
           ],
           "sequentialminus": [
            [
             0,
             "#0d0887"
            ],
            [
             0.1111111111111111,
             "#46039f"
            ],
            [
             0.2222222222222222,
             "#7201a8"
            ],
            [
             0.3333333333333333,
             "#9c179e"
            ],
            [
             0.4444444444444444,
             "#bd3786"
            ],
            [
             0.5555555555555556,
             "#d8576b"
            ],
            [
             0.6666666666666666,
             "#ed7953"
            ],
            [
             0.7777777777777778,
             "#fb9f3a"
            ],
            [
             0.8888888888888888,
             "#fdca26"
            ],
            [
             1,
             "#f0f921"
            ]
           ]
          },
          "colorway": [
           "#636efa",
           "#EF553B",
           "#00cc96",
           "#ab63fa",
           "#FFA15A",
           "#19d3f3",
           "#FF6692",
           "#B6E880",
           "#FF97FF",
           "#FECB52"
          ],
          "font": {
           "color": "#2a3f5f"
          },
          "geo": {
           "bgcolor": "white",
           "lakecolor": "white",
           "landcolor": "#E5ECF6",
           "showlakes": true,
           "showland": true,
           "subunitcolor": "white"
          },
          "hoverlabel": {
           "align": "left"
          },
          "hovermode": "closest",
          "mapbox": {
           "style": "light"
          },
          "paper_bgcolor": "white",
          "plot_bgcolor": "#E5ECF6",
          "polar": {
           "angularaxis": {
            "gridcolor": "white",
            "linecolor": "white",
            "ticks": ""
           },
           "bgcolor": "#E5ECF6",
           "radialaxis": {
            "gridcolor": "white",
            "linecolor": "white",
            "ticks": ""
           }
          },
          "scene": {
           "xaxis": {
            "backgroundcolor": "#E5ECF6",
            "gridcolor": "white",
            "gridwidth": 2,
            "linecolor": "white",
            "showbackground": true,
            "ticks": "",
            "zerolinecolor": "white"
           },
           "yaxis": {
            "backgroundcolor": "#E5ECF6",
            "gridcolor": "white",
            "gridwidth": 2,
            "linecolor": "white",
            "showbackground": true,
            "ticks": "",
            "zerolinecolor": "white"
           },
           "zaxis": {
            "backgroundcolor": "#E5ECF6",
            "gridcolor": "white",
            "gridwidth": 2,
            "linecolor": "white",
            "showbackground": true,
            "ticks": "",
            "zerolinecolor": "white"
           }
          },
          "shapedefaults": {
           "line": {
            "color": "#2a3f5f"
           }
          },
          "ternary": {
           "aaxis": {
            "gridcolor": "white",
            "linecolor": "white",
            "ticks": ""
           },
           "baxis": {
            "gridcolor": "white",
            "linecolor": "white",
            "ticks": ""
           },
           "bgcolor": "#E5ECF6",
           "caxis": {
            "gridcolor": "white",
            "linecolor": "white",
            "ticks": ""
           }
          },
          "title": {
           "x": 0.05
          },
          "xaxis": {
           "automargin": true,
           "gridcolor": "white",
           "linecolor": "white",
           "ticks": "",
           "title": {
            "standoff": 15
           },
           "zerolinecolor": "white",
           "zerolinewidth": 2
          },
          "yaxis": {
           "automargin": true,
           "gridcolor": "white",
           "linecolor": "white",
           "ticks": "",
           "title": {
            "standoff": 15
           },
           "zerolinecolor": "white",
           "zerolinewidth": 2
          }
         }
        },
        "title": {
         "text": "7-Classification Result"
        },
        "xaxis": {
         "anchor": "y",
         "categoryarray": [
          "very negative",
          "negative",
          "weakly negative",
          "Neutral",
          "weakly positive",
          "positive",
          "very positive"
         ],
         "categoryorder": "array",
         "domain": [
          0,
          0.45
         ]
        },
        "xaxis2": {
         "anchor": "y2",
         "categoryarray": [
          "very negative",
          "negative",
          "weakly negative",
          "Neutral",
          "weakly positive",
          "positive",
          "very positive"
         ],
         "categoryorder": "array",
         "domain": [
          0.55,
          1
         ]
        },
        "yaxis": {
         "anchor": "x",
         "domain": [
          0,
          1
         ],
         "range": [
          0,
          2500
         ]
        },
        "yaxis2": {
         "anchor": "x2",
         "domain": [
          0,
          1
         ],
         "range": [
          0,
          2500
         ]
        }
       }
      },
      "text/html": [
       "<div>                            <div id=\"7a2b16f3-943b-4d01-bd4f-625baf494e0e\" class=\"plotly-graph-div\" style=\"height:525px; width:100%;\"></div>            <script type=\"text/javascript\">                require([\"plotly\"], function(Plotly) {                    window.PLOTLYENV=window.PLOTLYENV || {};                                    if (document.getElementById(\"7a2b16f3-943b-4d01-bd4f-625baf494e0e\")) {                    Plotly.newPlot(                        \"7a2b16f3-943b-4d01-bd4f-625baf494e0e\",                        [{\"alignmentgroup\":\"True\",\"hovertemplate\":\"labels_7=%{x}<br>segment=%{y}<extra></extra>\",\"legendgroup\":\"\",\"marker\":{\"color\":\"#636efa\",\"pattern\":{\"shape\":\"\"}},\"name\":\"\",\"offsetgroup\":\"\",\"orientation\":\"v\",\"showlegend\":false,\"textposition\":\"auto\",\"x\":[\"Neutral\",\"negative\",\"positive\",\"very negative\",\"very positive\",\"weakly negative\",\"weakly positive\"],\"xaxis\":\"x\",\"y\":[1922,488,663,156,109,380,936],\"yaxis\":\"y\",\"type\":\"bar\"},{\"alignmentgroup\":\"True\",\"hovertemplate\":\"preds_7=%{x}<br>segment=%{y}<extra></extra>\",\"legendgroup\":\"\",\"marker\":{\"color\":\"#636efa\",\"pattern\":{\"shape\":\"\"}},\"name\":\"\",\"offsetgroup\":\"\",\"orientation\":\"v\",\"showlegend\":false,\"textposition\":\"auto\",\"x\":[\"Neutral\",\"negative\",\"positive\",\"very negative\",\"very positive\",\"weakly negative\",\"weakly positive\"],\"xaxis\":\"x2\",\"y\":[2302,279,300,59,46,615,1053],\"yaxis\":\"y2\",\"type\":\"bar\"}],                        {\"template\":{\"data\":{\"histogram2dcontour\":[{\"type\":\"histogram2dcontour\",\"colorbar\":{\"outlinewidth\":0,\"ticks\":\"\"},\"colorscale\":[[0.0,\"#0d0887\"],[0.1111111111111111,\"#46039f\"],[0.2222222222222222,\"#7201a8\"],[0.3333333333333333,\"#9c179e\"],[0.4444444444444444,\"#bd3786\"],[0.5555555555555556,\"#d8576b\"],[0.6666666666666666,\"#ed7953\"],[0.7777777777777778,\"#fb9f3a\"],[0.8888888888888888,\"#fdca26\"],[1.0,\"#f0f921\"]]}],\"choropleth\":[{\"type\":\"choropleth\",\"colorbar\":{\"outlinewidth\":0,\"ticks\":\"\"}}],\"histogram2d\":[{\"type\":\"histogram2d\",\"colorbar\":{\"outlinewidth\":0,\"ticks\":\"\"},\"colorscale\":[[0.0,\"#0d0887\"],[0.1111111111111111,\"#46039f\"],[0.2222222222222222,\"#7201a8\"],[0.3333333333333333,\"#9c179e\"],[0.4444444444444444,\"#bd3786\"],[0.5555555555555556,\"#d8576b\"],[0.6666666666666666,\"#ed7953\"],[0.7777777777777778,\"#fb9f3a\"],[0.8888888888888888,\"#fdca26\"],[1.0,\"#f0f921\"]]}],\"heatmap\":[{\"type\":\"heatmap\",\"colorbar\":{\"outlinewidth\":0,\"ticks\":\"\"},\"colorscale\":[[0.0,\"#0d0887\"],[0.1111111111111111,\"#46039f\"],[0.2222222222222222,\"#7201a8\"],[0.3333333333333333,\"#9c179e\"],[0.4444444444444444,\"#bd3786\"],[0.5555555555555556,\"#d8576b\"],[0.6666666666666666,\"#ed7953\"],[0.7777777777777778,\"#fb9f3a\"],[0.8888888888888888,\"#fdca26\"],[1.0,\"#f0f921\"]]}],\"heatmapgl\":[{\"type\":\"heatmapgl\",\"colorbar\":{\"outlinewidth\":0,\"ticks\":\"\"},\"colorscale\":[[0.0,\"#0d0887\"],[0.1111111111111111,\"#46039f\"],[0.2222222222222222,\"#7201a8\"],[0.3333333333333333,\"#9c179e\"],[0.4444444444444444,\"#bd3786\"],[0.5555555555555556,\"#d8576b\"],[0.6666666666666666,\"#ed7953\"],[0.7777777777777778,\"#fb9f3a\"],[0.8888888888888888,\"#fdca26\"],[1.0,\"#f0f921\"]]}],\"contourcarpet\":[{\"type\":\"contourcarpet\",\"colorbar\":{\"outlinewidth\":0,\"ticks\":\"\"}}],\"contour\":[{\"type\":\"contour\",\"colorbar\":{\"outlinewidth\":0,\"ticks\":\"\"},\"colorscale\":[[0.0,\"#0d0887\"],[0.1111111111111111,\"#46039f\"],[0.2222222222222222,\"#7201a8\"],[0.3333333333333333,\"#9c179e\"],[0.4444444444444444,\"#bd3786\"],[0.5555555555555556,\"#d8576b\"],[0.6666666666666666,\"#ed7953\"],[0.7777777777777778,\"#fb9f3a\"],[0.8888888888888888,\"#fdca26\"],[1.0,\"#f0f921\"]]}],\"surface\":[{\"type\":\"surface\",\"colorbar\":{\"outlinewidth\":0,\"ticks\":\"\"},\"colorscale\":[[0.0,\"#0d0887\"],[0.1111111111111111,\"#46039f\"],[0.2222222222222222,\"#7201a8\"],[0.3333333333333333,\"#9c179e\"],[0.4444444444444444,\"#bd3786\"],[0.5555555555555556,\"#d8576b\"],[0.6666666666666666,\"#ed7953\"],[0.7777777777777778,\"#fb9f3a\"],[0.8888888888888888,\"#fdca26\"],[1.0,\"#f0f921\"]]}],\"mesh3d\":[{\"type\":\"mesh3d\",\"colorbar\":{\"outlinewidth\":0,\"ticks\":\"\"}}],\"scatter\":[{\"fillpattern\":{\"fillmode\":\"overlay\",\"size\":10,\"solidity\":0.2},\"type\":\"scatter\"}],\"parcoords\":[{\"type\":\"parcoords\",\"line\":{\"colorbar\":{\"outlinewidth\":0,\"ticks\":\"\"}}}],\"scatterpolargl\":[{\"type\":\"scatterpolargl\",\"marker\":{\"colorbar\":{\"outlinewidth\":0,\"ticks\":\"\"}}}],\"bar\":[{\"error_x\":{\"color\":\"#2a3f5f\"},\"error_y\":{\"color\":\"#2a3f5f\"},\"marker\":{\"line\":{\"color\":\"#E5ECF6\",\"width\":0.5},\"pattern\":{\"fillmode\":\"overlay\",\"size\":10,\"solidity\":0.2}},\"type\":\"bar\"}],\"scattergeo\":[{\"type\":\"scattergeo\",\"marker\":{\"colorbar\":{\"outlinewidth\":0,\"ticks\":\"\"}}}],\"scatterpolar\":[{\"type\":\"scatterpolar\",\"marker\":{\"colorbar\":{\"outlinewidth\":0,\"ticks\":\"\"}}}],\"histogram\":[{\"marker\":{\"pattern\":{\"fillmode\":\"overlay\",\"size\":10,\"solidity\":0.2}},\"type\":\"histogram\"}],\"scattergl\":[{\"type\":\"scattergl\",\"marker\":{\"colorbar\":{\"outlinewidth\":0,\"ticks\":\"\"}}}],\"scatter3d\":[{\"type\":\"scatter3d\",\"line\":{\"colorbar\":{\"outlinewidth\":0,\"ticks\":\"\"}},\"marker\":{\"colorbar\":{\"outlinewidth\":0,\"ticks\":\"\"}}}],\"scattermapbox\":[{\"type\":\"scattermapbox\",\"marker\":{\"colorbar\":{\"outlinewidth\":0,\"ticks\":\"\"}}}],\"scatterternary\":[{\"type\":\"scatterternary\",\"marker\":{\"colorbar\":{\"outlinewidth\":0,\"ticks\":\"\"}}}],\"scattercarpet\":[{\"type\":\"scattercarpet\",\"marker\":{\"colorbar\":{\"outlinewidth\":0,\"ticks\":\"\"}}}],\"carpet\":[{\"aaxis\":{\"endlinecolor\":\"#2a3f5f\",\"gridcolor\":\"white\",\"linecolor\":\"white\",\"minorgridcolor\":\"white\",\"startlinecolor\":\"#2a3f5f\"},\"baxis\":{\"endlinecolor\":\"#2a3f5f\",\"gridcolor\":\"white\",\"linecolor\":\"white\",\"minorgridcolor\":\"white\",\"startlinecolor\":\"#2a3f5f\"},\"type\":\"carpet\"}],\"table\":[{\"cells\":{\"fill\":{\"color\":\"#EBF0F8\"},\"line\":{\"color\":\"white\"}},\"header\":{\"fill\":{\"color\":\"#C8D4E3\"},\"line\":{\"color\":\"white\"}},\"type\":\"table\"}],\"barpolar\":[{\"marker\":{\"line\":{\"color\":\"#E5ECF6\",\"width\":0.5},\"pattern\":{\"fillmode\":\"overlay\",\"size\":10,\"solidity\":0.2}},\"type\":\"barpolar\"}],\"pie\":[{\"automargin\":true,\"type\":\"pie\"}]},\"layout\":{\"autotypenumbers\":\"strict\",\"colorway\":[\"#636efa\",\"#EF553B\",\"#00cc96\",\"#ab63fa\",\"#FFA15A\",\"#19d3f3\",\"#FF6692\",\"#B6E880\",\"#FF97FF\",\"#FECB52\"],\"font\":{\"color\":\"#2a3f5f\"},\"hovermode\":\"closest\",\"hoverlabel\":{\"align\":\"left\"},\"paper_bgcolor\":\"white\",\"plot_bgcolor\":\"#E5ECF6\",\"polar\":{\"bgcolor\":\"#E5ECF6\",\"angularaxis\":{\"gridcolor\":\"white\",\"linecolor\":\"white\",\"ticks\":\"\"},\"radialaxis\":{\"gridcolor\":\"white\",\"linecolor\":\"white\",\"ticks\":\"\"}},\"ternary\":{\"bgcolor\":\"#E5ECF6\",\"aaxis\":{\"gridcolor\":\"white\",\"linecolor\":\"white\",\"ticks\":\"\"},\"baxis\":{\"gridcolor\":\"white\",\"linecolor\":\"white\",\"ticks\":\"\"},\"caxis\":{\"gridcolor\":\"white\",\"linecolor\":\"white\",\"ticks\":\"\"}},\"coloraxis\":{\"colorbar\":{\"outlinewidth\":0,\"ticks\":\"\"}},\"colorscale\":{\"sequential\":[[0.0,\"#0d0887\"],[0.1111111111111111,\"#46039f\"],[0.2222222222222222,\"#7201a8\"],[0.3333333333333333,\"#9c179e\"],[0.4444444444444444,\"#bd3786\"],[0.5555555555555556,\"#d8576b\"],[0.6666666666666666,\"#ed7953\"],[0.7777777777777778,\"#fb9f3a\"],[0.8888888888888888,\"#fdca26\"],[1.0,\"#f0f921\"]],\"sequentialminus\":[[0.0,\"#0d0887\"],[0.1111111111111111,\"#46039f\"],[0.2222222222222222,\"#7201a8\"],[0.3333333333333333,\"#9c179e\"],[0.4444444444444444,\"#bd3786\"],[0.5555555555555556,\"#d8576b\"],[0.6666666666666666,\"#ed7953\"],[0.7777777777777778,\"#fb9f3a\"],[0.8888888888888888,\"#fdca26\"],[1.0,\"#f0f921\"]],\"diverging\":[[0,\"#8e0152\"],[0.1,\"#c51b7d\"],[0.2,\"#de77ae\"],[0.3,\"#f1b6da\"],[0.4,\"#fde0ef\"],[0.5,\"#f7f7f7\"],[0.6,\"#e6f5d0\"],[0.7,\"#b8e186\"],[0.8,\"#7fbc41\"],[0.9,\"#4d9221\"],[1,\"#276419\"]]},\"xaxis\":{\"gridcolor\":\"white\",\"linecolor\":\"white\",\"ticks\":\"\",\"title\":{\"standoff\":15},\"zerolinecolor\":\"white\",\"automargin\":true,\"zerolinewidth\":2},\"yaxis\":{\"gridcolor\":\"white\",\"linecolor\":\"white\",\"ticks\":\"\",\"title\":{\"standoff\":15},\"zerolinecolor\":\"white\",\"automargin\":true,\"zerolinewidth\":2},\"scene\":{\"xaxis\":{\"backgroundcolor\":\"#E5ECF6\",\"gridcolor\":\"white\",\"linecolor\":\"white\",\"showbackground\":true,\"ticks\":\"\",\"zerolinecolor\":\"white\",\"gridwidth\":2},\"yaxis\":{\"backgroundcolor\":\"#E5ECF6\",\"gridcolor\":\"white\",\"linecolor\":\"white\",\"showbackground\":true,\"ticks\":\"\",\"zerolinecolor\":\"white\",\"gridwidth\":2},\"zaxis\":{\"backgroundcolor\":\"#E5ECF6\",\"gridcolor\":\"white\",\"linecolor\":\"white\",\"showbackground\":true,\"ticks\":\"\",\"zerolinecolor\":\"white\",\"gridwidth\":2}},\"shapedefaults\":{\"line\":{\"color\":\"#2a3f5f\"}},\"annotationdefaults\":{\"arrowcolor\":\"#2a3f5f\",\"arrowhead\":0,\"arrowwidth\":1},\"geo\":{\"bgcolor\":\"white\",\"landcolor\":\"#E5ECF6\",\"subunitcolor\":\"white\",\"showland\":true,\"showlakes\":true,\"lakecolor\":\"white\"},\"title\":{\"x\":0.05},\"mapbox\":{\"style\":\"light\"}}},\"xaxis\":{\"anchor\":\"y\",\"domain\":[0.0,0.45],\"categoryorder\":\"array\",\"categoryarray\":[\"very negative\",\"negative\",\"weakly negative\",\"Neutral\",\"weakly positive\",\"positive\",\"very positive\"]},\"yaxis\":{\"anchor\":\"x\",\"domain\":[0.0,1.0],\"range\":[0,2500]},\"xaxis2\":{\"anchor\":\"y2\",\"domain\":[0.55,1.0],\"categoryorder\":\"array\",\"categoryarray\":[\"very negative\",\"negative\",\"weakly negative\",\"Neutral\",\"weakly positive\",\"positive\",\"very positive\"]},\"yaxis2\":{\"anchor\":\"x2\",\"domain\":[0.0,1.0],\"range\":[0,2500]},\"annotations\":[{\"font\":{\"size\":16},\"showarrow\":false,\"text\":\"Grond-truth\",\"x\":0.225,\"xanchor\":\"center\",\"xref\":\"paper\",\"y\":1.0,\"yanchor\":\"bottom\",\"yref\":\"paper\"},{\"font\":{\"size\":16},\"showarrow\":false,\"text\":\"MMIM\",\"x\":0.775,\"xanchor\":\"center\",\"xref\":\"paper\",\"y\":1.0,\"yanchor\":\"bottom\",\"yref\":\"paper\"}],\"title\":{\"text\":\"7-Classification Result\"}},                        {\"responsive\": true}                    ).then(function(){\n",
       "                            \n",
       "var gd = document.getElementById('7a2b16f3-943b-4d01-bd4f-625baf494e0e');\n",
       "var x = new MutationObserver(function (mutations, observer) {{\n",
       "        var display = window.getComputedStyle(gd).display;\n",
       "        if (!display || display === 'none') {{\n",
       "            console.log([gd, 'removed!']);\n",
       "            Plotly.purge(gd);\n",
       "            observer.disconnect();\n",
       "        }}\n",
       "}});\n",
       "\n",
       "// Listen for the removal of the full notebook cells\n",
       "var notebookContainer = gd.closest('#notebook-container');\n",
       "if (notebookContainer) {{\n",
       "    x.observe(notebookContainer, {childList: true});\n",
       "}}\n",
       "\n",
       "// Listen for the clearing of the current output cell\n",
       "var outputEl = gd.closest('.output');\n",
       "if (outputEl) {{\n",
       "    x.observe(outputEl, {childList: true});\n",
       "}}\n",
       "\n",
       "                        })                };                });            </script>        </div>"
      ]
     },
     "metadata": {},
     "output_type": "display_data"
    }
   ],
   "source": [
    "import plotly.express as px\n",
    "import plotly.subplots as sp\n",
    "import pandas as pd\n",
    "\n",
    "df = pd.DataFrame(data=mmim_mosei)\n",
    "df_gold = df.groupby('labels_7').count().reset_index()\n",
    "df_pred = df.groupby('preds_7').count().reset_index()\n",
    "\n",
    "order = ['very negative', 'negative', 'weakly negative', 'Neutral', 'weakly positive', 'positive', 'very positive']\n",
    "\n",
    "fig1 = px.bar(df_gold, x=\"labels_7\", y=\"segment\")\n",
    "fig2 = px.bar(df_pred, x=\"preds_7\", y=\"segment\")\n",
    "\n",
    "fig1_traces = []\n",
    "fig2_traces = []\n",
    "\n",
    "for trace in range(len(fig1[\"data\"])):\n",
    "    fig1_traces.append(fig1[\"data\"][trace])\n",
    "for trace in range(len(fig2[\"data\"])):\n",
    "    fig2_traces.append(fig2[\"data\"][trace])\n",
    "\n",
    "this_figure = sp.make_subplots(rows=1, cols=2, subplot_titles=(\"Grond-truth\", \"MMIM\"))\n",
    "for traces in fig1_traces:\n",
    "    this_figure.append_trace(traces, row=1, col=1)\n",
    "for traces in fig2_traces:\n",
    "    this_figure.append_trace(traces, row=1, col=2)\n",
    "\n",
    "this_figure.update_layout(title_text=\"7-Classification Result\")\n",
    "this_figure.update_xaxes(categoryorder='array', categoryarray= order)\n",
    "this_figure.update_yaxes(range=[0,2500])\n",
    "this_figure.show()"
   ]
  },
  {
   "cell_type": "code",
   "execution_count": null,
   "metadata": {},
   "outputs": [],
   "source": []
  }
 ],
 "metadata": {
  "kernelspec": {
   "display_name": "Python 3.9.13 ('mm')",
   "language": "python",
   "name": "python3"
  },
  "language_info": {
   "codemirror_mode": {
    "name": "ipython",
    "version": 3
   },
   "file_extension": ".py",
   "mimetype": "text/x-python",
   "name": "python",
   "nbconvert_exporter": "python",
   "pygments_lexer": "ipython3",
   "version": "3.9.13"
  },
  "orig_nbformat": 4,
  "vscode": {
   "interpreter": {
    "hash": "bf7c25984d08a8baf6da04c4ea9b2f8034b141ee51bfd18af4c1817b5f3daff7"
   }
  }
 },
 "nbformat": 4,
 "nbformat_minor": 2
}
