{
 "cells": [
  {
   "cell_type": "code",
   "execution_count": 1,
   "metadata": {},
   "outputs": [
    {
     "name": "stderr",
     "output_type": "stream",
     "text": [
      "loading file https://huggingface.co/bert-base-uncased/resolve/main/vocab.txt from cache at /home/soyeon/.cache/huggingface/transformers/45c3f7a79a80e1cf0a489e5c62b43f173c15db47864303a55d623bb3c96f72a5.d789d64ebfe299b0e416afc4a169632f903f693095b4629a7ea271d5a0cf2c99\n",
      "loading file https://huggingface.co/bert-base-uncased/resolve/main/added_tokens.json from cache at None\n",
      "loading file https://huggingface.co/bert-base-uncased/resolve/main/special_tokens_map.json from cache at None\n",
      "loading file https://huggingface.co/bert-base-uncased/resolve/main/tokenizer_config.json from cache at /home/soyeon/.cache/huggingface/transformers/c1d7f0a763fb63861cc08553866f1fc3e5a6f4f07621be277452d26d71303b7e.20430bd8e10ef77a7d2977accefe796051e01bc2fc4aa146bc862997a1a15e79\n",
      "loading configuration file https://huggingface.co/bert-base-uncased/resolve/main/config.json from cache at /home/soyeon/.cache/huggingface/transformers/3c61d016573b14f7f008c02c4e51a366c67ab274726fe2910691e2a761acf43e.37395cee442ab11005bcd270f3c34464dc1704b715b5d7d52b1a461abe3b9e4e\n",
      "Model config BertConfig {\n",
      "  \"_name_or_path\": \"bert-base-uncased\",\n",
      "  \"architectures\": [\n",
      "    \"BertForMaskedLM\"\n",
      "  ],\n",
      "  \"attention_probs_dropout_prob\": 0.1,\n",
      "  \"classifier_dropout\": null,\n",
      "  \"gradient_checkpointing\": false,\n",
      "  \"hidden_act\": \"gelu\",\n",
      "  \"hidden_dropout_prob\": 0.1,\n",
      "  \"hidden_size\": 768,\n",
      "  \"initializer_range\": 0.02,\n",
      "  \"intermediate_size\": 3072,\n",
      "  \"layer_norm_eps\": 1e-12,\n",
      "  \"max_position_embeddings\": 512,\n",
      "  \"model_type\": \"bert\",\n",
      "  \"num_attention_heads\": 12,\n",
      "  \"num_hidden_layers\": 12,\n",
      "  \"pad_token_id\": 0,\n",
      "  \"position_embedding_type\": \"absolute\",\n",
      "  \"transformers_version\": \"4.17.0\",\n",
      "  \"type_vocab_size\": 2,\n",
      "  \"use_cache\": true,\n",
      "  \"vocab_size\": 30522\n",
      "}\n",
      "\n",
      "loading file https://huggingface.co/bert-base-uncased/resolve/main/vocab.txt from cache at /home/soyeon/.cache/huggingface/transformers/45c3f7a79a80e1cf0a489e5c62b43f173c15db47864303a55d623bb3c96f72a5.d789d64ebfe299b0e416afc4a169632f903f693095b4629a7ea271d5a0cf2c99\n",
      "loading file https://huggingface.co/bert-base-uncased/resolve/main/added_tokens.json from cache at None\n",
      "loading file https://huggingface.co/bert-base-uncased/resolve/main/special_tokens_map.json from cache at None\n",
      "loading file https://huggingface.co/bert-base-uncased/resolve/main/tokenizer_config.json from cache at /home/soyeon/.cache/huggingface/transformers/c1d7f0a763fb63861cc08553866f1fc3e5a6f4f07621be277452d26d71303b7e.20430bd8e10ef77a7d2977accefe796051e01bc2fc4aa146bc862997a1a15e79\n",
      "loading configuration file https://huggingface.co/bert-base-uncased/resolve/main/config.json from cache at /home/soyeon/.cache/huggingface/transformers/3c61d016573b14f7f008c02c4e51a366c67ab274726fe2910691e2a761acf43e.37395cee442ab11005bcd270f3c34464dc1704b715b5d7d52b1a461abe3b9e4e\n",
      "Model config BertConfig {\n",
      "  \"_name_or_path\": \"bert-base-uncased\",\n",
      "  \"architectures\": [\n",
      "    \"BertForMaskedLM\"\n",
      "  ],\n",
      "  \"attention_probs_dropout_prob\": 0.1,\n",
      "  \"classifier_dropout\": null,\n",
      "  \"gradient_checkpointing\": false,\n",
      "  \"hidden_act\": \"gelu\",\n",
      "  \"hidden_dropout_prob\": 0.1,\n",
      "  \"hidden_size\": 768,\n",
      "  \"initializer_range\": 0.02,\n",
      "  \"intermediate_size\": 3072,\n",
      "  \"layer_norm_eps\": 1e-12,\n",
      "  \"max_position_embeddings\": 512,\n",
      "  \"model_type\": \"bert\",\n",
      "  \"num_attention_heads\": 12,\n",
      "  \"num_hidden_layers\": 12,\n",
      "  \"pad_token_id\": 0,\n",
      "  \"position_embedding_type\": \"absolute\",\n",
      "  \"transformers_version\": \"4.17.0\",\n",
      "  \"type_vocab_size\": 2,\n",
      "  \"use_cache\": true,\n",
      "  \"vocab_size\": 30522\n",
      "}\n",
      "\n"
     ]
    }
   ],
   "source": [
    "import torch\n",
    "import argparse\n",
    "import numpy as np\n",
    "\n",
    "from utils import *\n",
    "from torch.utils.data import DataLoader\n",
    "from solver import Solver\n",
    "from config import get_args, get_config, output_dim_dict, criterion_dict\n",
    "from data_loader import get_loader\n",
    "from test_instance import TestMOSI, TestMOSEI"
   ]
  },
  {
   "cell_type": "code",
   "execution_count": 2,
   "metadata": {},
   "outputs": [],
   "source": [
    "def set_seed(seed):\n",
    "    # torch.set_default_tensor_type('torch.FloatTensor')\n",
    "    torch.manual_seed(seed)\n",
    "    if torch.cuda.is_available():\n",
    "        torch.cuda.manual_seed_all(seed)\n",
    "        # torch.set_default_tensor_type('torch.cuda.FloatTensor')\n",
    "\n",
    "        torch.backends.cudnn.deterministic = True\n",
    "        torch.backends.cudnn.benchmark = False\n",
    "        use_cuda = True"
   ]
  },
  {
   "cell_type": "code",
   "execution_count": 3,
   "metadata": {},
   "outputs": [],
   "source": [
    "# path to a pretrained word embedding file\n",
    "word_emb_path = '/mnt/soyeon/workspace/glove.840B.300d.txt'\n",
    "# word_emb_path = '/home/ubuntu/soyeon/glove.840B.300d.txt'\n",
    "assert(word_emb_path is not None)"
   ]
  },
  {
   "cell_type": "code",
   "execution_count": 4,
   "metadata": {},
   "outputs": [],
   "source": [
    "from datetime import datetime\n",
    "from pathlib import Path\n",
    "import pprint\n",
    "from torch import optim\n",
    "import torch.nn as nn\n",
    "\n",
    "# username = Path.home().name\n",
    "# project_dir = Path(__file__).resolve().parent.parent\n",
    "# sdk_dir = project_dir.joinpath('CMU-MultimodalSDK')\n",
    "# data_dir = project_dir.joinpath('datasets')\n",
    "\n",
    "sdk_dir = Path('/mnt/soyeon/workspace/multimodal/CMU-MultimodalSDK')\n",
    "data_dir = Path('/mnt/soyeon/workspace/multimodal/MSIR/datasets')\n",
    "# sdk_dir = Path('/home/ubuntu/soyeon/CMU-MultimodalSDK')\n",
    "# data_dir = Path('/home/ubuntu/soyeon/MSIR/datasets')\n",
    "\n",
    "data_dict = {'mosi': data_dir.joinpath('MOSI'), 'mosei': data_dir.joinpath(\n",
    "    'MOSEI'), 'ur_funny': data_dir.joinpath('UR_FUNNY')}\n",
    "optimizer_dict = {'RMSprop': optim.RMSprop, 'Adam': optim.Adam}\n",
    "activation_dict = {'elu': nn.ELU, \"hardshrink\": nn.Hardshrink, \"hardtanh\": nn.Hardtanh,\n",
    "                   \"leakyrelu\": nn.LeakyReLU, \"prelu\": nn.PReLU, \"relu\": nn.ReLU, \"rrelu\": nn.RReLU,\n",
    "                   \"tanh\": nn.Tanh}\n",
    "\n",
    "output_dim_dict = {\n",
    "    'mosi': 1,\n",
    "    'mosei_senti': 1,\n",
    "}\n",
    "\n",
    "criterion_dict = {\n",
    "    'mosi': 'L1Loss',\n",
    "    'iemocap': 'CrossEntropyLoss',\n",
    "    'ur_funny': 'CrossEntropyLoss'\n",
    "}"
   ]
  },
  {
   "cell_type": "code",
   "execution_count": 5,
   "metadata": {},
   "outputs": [],
   "source": [
    "import easydict\n",
    "\n",
    "args = easydict.EasyDict({\n",
    "    # Tasks\n",
    "    \"dataset\": \"mosi\",\n",
    "    \"data_path\": \"datasets\",\n",
    "\n",
    "    # Dropouts\n",
    "    \"dropout_a\": 0.1,\n",
    "    \"dropout_v\": 0.1,\n",
    "    \"dropout_prj\": 0.1,\n",
    "\n",
    "    # Architecture\n",
    "    \"multiseed\": True,\n",
    "    \"contrast\": True,\n",
    "    \"add_va\": True,\n",
    "    \"n_layer\": 1,\n",
    "    \"cpc_layers\": 1,\n",
    "    \"d_vh\": 16,\n",
    "    \"d_ah\": 16,\n",
    "    \"d_vout\": 16,\n",
    "    \"d_aout\": 16,\n",
    "    \"bidirectional\": True,\n",
    "    \"d_prjh\": 128,\n",
    "    \"pretrain_emb\": 768,\n",
    "\n",
    "    # Activations\n",
    "    \"mmilb_mid_activation\": \"ReLU\",\n",
    "    \"mmilb_last_activation\": \"Tanh\",\n",
    "    \"cpc_activation\": \"Tanh\",\n",
    "\n",
    "    # Training Setting\n",
    "    \"batch_size\": 32,\n",
    "    \"clip\": 1.0,\n",
    "    \"lr_main\": 1e-3,\n",
    "    \"lr_bert\": 5e-5,\n",
    "    \"lr_mmilb\": 1e-3,\n",
    "    \"alpha\": 0.1,\n",
    "    \"beta\": 0.1,\n",
    "    \"weight_decay_main\": 1e-4,\n",
    "    \"weight_decay_bert\": 1e-4,\n",
    "    \"weight_decay_club\": 1e-4,\n",
    "    \"optim\": \"Adam\",\n",
    "    \"num_epochs\": 40,\n",
    "    \"when\": 20,\n",
    "    \"patience\": 10,\n",
    "    \"update_batch\": 1,\n",
    "\n",
    "    # Logistics\n",
    "    \"log_interval\": 100,\n",
    "    \"seed\": 1111\n",
    "})"
   ]
  },
  {
   "cell_type": "code",
   "execution_count": 6,
   "metadata": {},
   "outputs": [],
   "source": [
    "def str2bool(v):\n",
    "    \"\"\"string to boolean\"\"\"\n",
    "    if v.lower() in ('yes', 'true', 't', 'y', '1'):\n",
    "        return True\n",
    "    elif v.lower() in ('no', 'false', 'f', 'n', '0'):\n",
    "        return False\n",
    "    else:\n",
    "        raise argparse.ArgumentTypeError('Boolean value expected.')"
   ]
  },
  {
   "cell_type": "code",
   "execution_count": 7,
   "metadata": {},
   "outputs": [],
   "source": [
    "class Config(object):\n",
    "    def __init__(self, data, mode='train'):\n",
    "        \"\"\"Configuration Class: set kwargs as class attributes with setattr\"\"\"\n",
    "        self.dataset_dir = data_dict[data.lower()]\n",
    "        self.sdk_dir = sdk_dir\n",
    "        self.mode = mode\n",
    "        # Glove path\n",
    "        self.word_emb_path = word_emb_path\n",
    "\n",
    "        # Data Split ex) 'train', 'valid', 'test'\n",
    "        self.data_dir = self.dataset_dir\n",
    "\n",
    "    def __str__(self):\n",
    "        \"\"\"Pretty-print configurations in alphabetical order\"\"\"\n",
    "        config_str = 'Configurations\\n'\n",
    "        config_str += pprint.pformat(self.__dict__)\n",
    "        return config_str\n",
    "\n",
    "\n",
    "def get_config(dataset='mosi', mode='train', batch_size=32):\n",
    "    config = Config(data=dataset, mode=mode)\n",
    "    \n",
    "    config.dataset = dataset\n",
    "    config.batch_size = batch_size\n",
    "\n",
    "    return config"
   ]
  },
  {
   "cell_type": "code",
   "execution_count": 8,
   "metadata": {},
   "outputs": [
    {
     "name": "stdout",
     "output_type": "stream",
     "text": [
      "Start loading the data....\n",
      "train\n",
      "Training data loaded!\n",
      "valid\n",
      "Validation data loaded!\n",
      "test\n",
      "Test data loaded!\n",
      "Finish loading the data....\n"
     ]
    }
   ],
   "source": [
    "dataset = str.lower(args.dataset.strip())\n",
    "\n",
    "set_seed(args.seed)\n",
    "print(\"Start loading the data....\")\n",
    "train_config = get_config(dataset, mode='train', batch_size=args.batch_size)\n",
    "valid_config = get_config(dataset, mode='valid', batch_size=args.batch_size)\n",
    "test_config = get_config(dataset, mode='test',  batch_size=args.batch_size)\n",
    "\n",
    "# pretrained_emb saved in train_config here\n",
    "train_loader = get_loader(args, train_config, shuffle=True)\n",
    "print('Training data loaded!')\n",
    "valid_loader = get_loader(args, valid_config, shuffle=False)\n",
    "print('Validation data loaded!')\n",
    "test_loader = get_loader(args, test_config, shuffle=False)\n",
    "print('Test data loaded!')\n",
    "print('Finish loading the data....')\n",
    "\n",
    "torch.autograd.set_detect_anomaly(True)\n",
    "\n",
    "# addintional appending\n",
    "args.word2id = train_config.word2id\n",
    "\n",
    "# architecture parameters\n",
    "args.d_tin, args.d_vin, args.d_ain = train_config.tva_dim\n",
    "args.dataset = args.data = dataset\n",
    "args.when = args.when\n",
    "args.n_class = output_dim_dict.get(dataset, 1)\n",
    "args.criterion = criterion_dict.get(dataset, 'MSELoss')"
   ]
  },
  {
   "cell_type": "code",
   "execution_count": 9,
   "metadata": {},
   "outputs": [
    {
     "name": "stderr",
     "output_type": "stream",
     "text": [
      "loading configuration file https://huggingface.co/bert-base-uncased/resolve/main/config.json from cache at /home/soyeon/.cache/huggingface/transformers/3c61d016573b14f7f008c02c4e51a366c67ab274726fe2910691e2a761acf43e.37395cee442ab11005bcd270f3c34464dc1704b715b5d7d52b1a461abe3b9e4e\n",
      "Model config BertConfig {\n",
      "  \"architectures\": [\n",
      "    \"BertForMaskedLM\"\n",
      "  ],\n",
      "  \"attention_probs_dropout_prob\": 0.1,\n",
      "  \"classifier_dropout\": null,\n",
      "  \"gradient_checkpointing\": false,\n",
      "  \"hidden_act\": \"gelu\",\n",
      "  \"hidden_dropout_prob\": 0.1,\n",
      "  \"hidden_size\": 768,\n",
      "  \"initializer_range\": 0.02,\n",
      "  \"intermediate_size\": 3072,\n",
      "  \"layer_norm_eps\": 1e-12,\n",
      "  \"max_position_embeddings\": 512,\n",
      "  \"model_type\": \"bert\",\n",
      "  \"num_attention_heads\": 12,\n",
      "  \"num_hidden_layers\": 12,\n",
      "  \"output_hidden_states\": true,\n",
      "  \"pad_token_id\": 0,\n",
      "  \"position_embedding_type\": \"absolute\",\n",
      "  \"transformers_version\": \"4.17.0\",\n",
      "  \"type_vocab_size\": 2,\n",
      "  \"use_cache\": true,\n",
      "  \"vocab_size\": 30522\n",
      "}\n",
      "\n",
      "loading weights file https://huggingface.co/bert-base-uncased/resolve/main/pytorch_model.bin from cache at /home/soyeon/.cache/huggingface/transformers/a8041bf617d7f94ea26d15e218abd04afc2004805632abc0ed2066aa16d50d04.faf6ea826ae9c5867d12b22257f9877e6b8367890837bd60f7c54a29633f7f2f\n",
      "Some weights of the model checkpoint at bert-base-uncased were not used when initializing BertModel: ['cls.predictions.decoder.weight', 'cls.seq_relationship.bias', 'cls.predictions.bias', 'cls.predictions.transform.dense.weight', 'cls.predictions.transform.LayerNorm.weight', 'cls.predictions.transform.LayerNorm.bias', 'cls.predictions.transform.dense.bias', 'cls.seq_relationship.weight']\n",
      "- This IS expected if you are initializing BertModel from the checkpoint of a model trained on another task or with another architecture (e.g. initializing a BertForSequenceClassification model from a BertForPreTraining model).\n",
      "- This IS NOT expected if you are initializing BertModel from the checkpoint of a model that you expect to be exactly identical (initializing a BertForSequenceClassification model from a BertForSequenceClassification model).\n",
      "All the weights of BertModel were initialized from the model checkpoint at bert-base-uncased.\n",
      "If your task is similar to the task the model of the checkpoint was trained on, you can already use BertModel for predictions without further training.\n"
     ]
    }
   ],
   "source": [
    "solver = Solver(args, train_loader=train_loader, dev_loader=valid_loader, test_loader=test_loader, is_train=True)"
   ]
  },
  {
   "cell_type": "code",
   "execution_count": 10,
   "metadata": {},
   "outputs": [],
   "source": [
    "model = solver.model"
   ]
  },
  {
   "cell_type": "code",
   "execution_count": 12,
   "metadata": {},
   "outputs": [
    {
     "name": "stderr",
     "output_type": "stream",
     "text": [
      "100%|██████████| 41/41 [00:13<00:00,  3.12it/s]\n",
      "100%|██████████| 41/41 [00:15<00:00,  2.69it/s]\n"
     ]
    },
    {
     "name": "stdout",
     "output_type": "stream",
     "text": [
      "--------------------------------------------------\n",
      "Epoch  1 | Time 29.5137 sec | Valid Loss 1.0112 | Test Loss 0.9232\n",
      "--------------------------------------------------\n",
      "MAE:  0.92319214\n",
      "Correlation Coefficient:  0.7049294243292297\n",
      "mult_acc_7:  0.29300291545189505\n",
      "mult_acc_5:  0.3206997084548105\n",
      "F1 score all/non0: 0.7791/0.8099 over 686/656\n",
      "Accuracy all/non0: 0.7886/0.8171\n",
      "--------------------------------------------------\n",
      "Saved model at pre_trained_models/MM.pt!\n"
     ]
    },
    {
     "name": "stderr",
     "output_type": "stream",
     "text": [
      "100%|██████████| 41/41 [00:13<00:00,  3.07it/s]\n",
      "100%|██████████| 41/41 [00:15<00:00,  2.66it/s]\n"
     ]
    },
    {
     "name": "stdout",
     "output_type": "stream",
     "text": [
      "--------------------------------------------------\n",
      "Epoch  2 | Time 29.8839 sec | Valid Loss 0.8006 | Test Loss 0.9007\n",
      "--------------------------------------------------\n",
      "MAE:  0.9006584\n",
      "Correlation Coefficient:  0.7722844640725065\n",
      "mult_acc_7:  0.34839650145772594\n",
      "mult_acc_5:  0.39504373177842567\n",
      "F1 score all/non0: 0.8052/0.8121 over 686/656\n",
      "Accuracy all/non0: 0.8047/0.811\n",
      "--------------------------------------------------\n",
      "Saved model at pre_trained_models/MM.pt!\n"
     ]
    },
    {
     "name": "stderr",
     "output_type": "stream",
     "text": [
      "100%|██████████| 41/41 [00:14<00:00,  2.91it/s]\n",
      "100%|██████████| 41/41 [00:14<00:00,  2.74it/s]\n"
     ]
    },
    {
     "name": "stdout",
     "output_type": "stream",
     "text": [
      "--------------------------------------------------\n",
      "Epoch  3 | Time 30.1106 sec | Valid Loss 0.7514 | Test Loss 0.8360\n",
      "--------------------------------------------------\n",
      "MAE:  0.83601546\n",
      "Correlation Coefficient:  0.7606723708997617\n",
      "mult_acc_7:  0.3979591836734694\n",
      "mult_acc_5:  0.46938775510204084\n",
      "F1 score all/non0: 0.8037/0.8167 over 686/656\n",
      "Accuracy all/non0: 0.8032/0.8155\n",
      "--------------------------------------------------\n",
      "Saved model at pre_trained_models/MM.pt!\n"
     ]
    },
    {
     "name": "stderr",
     "output_type": "stream",
     "text": [
      "100%|██████████| 41/41 [00:13<00:00,  3.11it/s]\n",
      "100%|██████████| 41/41 [00:14<00:00,  2.82it/s]\n"
     ]
    },
    {
     "name": "stdout",
     "output_type": "stream",
     "text": [
      "--------------------------------------------------\n",
      "Epoch  4 | Time 28.8141 sec | Valid Loss 0.7034 | Test Loss 0.7679\n",
      "--------------------------------------------------\n",
      "MAE:  0.76791286\n",
      "Correlation Coefficient:  0.7699020453843733\n",
      "mult_acc_7:  0.4314868804664723\n",
      "mult_acc_5:  0.5058309037900874\n",
      "F1 score all/non0: 0.8095/0.8181 over 686/656\n",
      "Accuracy all/non0: 0.809/0.8171\n",
      "--------------------------------------------------\n",
      "Saved model at pre_trained_models/MM.pt!\n"
     ]
    },
    {
     "name": "stderr",
     "output_type": "stream",
     "text": [
      "100%|██████████| 41/41 [00:13<00:00,  3.03it/s]\n",
      "100%|██████████| 41/41 [00:14<00:00,  2.84it/s]\n"
     ]
    },
    {
     "name": "stdout",
     "output_type": "stream",
     "text": [
      "--------------------------------------------------\n",
      "Epoch  5 | Time 29.0574 sec | Valid Loss 0.7781 | Test Loss 0.7922\n",
      "--------------------------------------------------\n"
     ]
    },
    {
     "name": "stderr",
     "output_type": "stream",
     "text": [
      "100%|██████████| 41/41 [00:13<00:00,  3.12it/s]\n",
      "100%|██████████| 41/41 [00:14<00:00,  2.76it/s]\n"
     ]
    },
    {
     "name": "stdout",
     "output_type": "stream",
     "text": [
      "--------------------------------------------------\n",
      "Epoch  6 | Time 29.1698 sec | Valid Loss 0.7404 | Test Loss 0.7657\n",
      "--------------------------------------------------\n"
     ]
    },
    {
     "name": "stderr",
     "output_type": "stream",
     "text": [
      "100%|██████████| 41/41 [00:13<00:00,  3.11it/s]\n",
      "100%|██████████| 41/41 [00:14<00:00,  2.80it/s]\n"
     ]
    },
    {
     "name": "stdout",
     "output_type": "stream",
     "text": [
      "--------------------------------------------------\n",
      "Epoch  7 | Time 28.9853 sec | Valid Loss 0.7124 | Test Loss 0.7803\n",
      "--------------------------------------------------\n"
     ]
    },
    {
     "name": "stderr",
     "output_type": "stream",
     "text": [
      "100%|██████████| 41/41 [00:13<00:00,  3.09it/s]\n",
      "100%|██████████| 41/41 [00:14<00:00,  2.78it/s]\n"
     ]
    },
    {
     "name": "stdout",
     "output_type": "stream",
     "text": [
      "--------------------------------------------------\n",
      "Epoch  8 | Time 29.1328 sec | Valid Loss 0.7333 | Test Loss 0.7834\n",
      "--------------------------------------------------\n"
     ]
    },
    {
     "name": "stderr",
     "output_type": "stream",
     "text": [
      "100%|██████████| 41/41 [00:13<00:00,  2.95it/s]\n",
      "100%|██████████| 41/41 [00:14<00:00,  2.76it/s]\n"
     ]
    },
    {
     "name": "stdout",
     "output_type": "stream",
     "text": [
      "--------------------------------------------------\n",
      "Epoch  9 | Time 29.8324 sec | Valid Loss 0.7093 | Test Loss 0.8292\n",
      "--------------------------------------------------\n"
     ]
    },
    {
     "name": "stderr",
     "output_type": "stream",
     "text": [
      "100%|██████████| 41/41 [00:13<00:00,  3.11it/s]\n",
      "100%|██████████| 41/41 [00:14<00:00,  2.81it/s]\n"
     ]
    },
    {
     "name": "stdout",
     "output_type": "stream",
     "text": [
      "--------------------------------------------------\n",
      "Epoch 10 | Time 28.8174 sec | Valid Loss 0.7438 | Test Loss 0.7813\n",
      "--------------------------------------------------\n"
     ]
    },
    {
     "name": "stderr",
     "output_type": "stream",
     "text": [
      "100%|██████████| 41/41 [00:13<00:00,  3.02it/s]\n",
      "100%|██████████| 41/41 [00:14<00:00,  2.79it/s]\n"
     ]
    },
    {
     "name": "stdout",
     "output_type": "stream",
     "text": [
      "--------------------------------------------------\n",
      "Epoch 11 | Time 29.4146 sec | Valid Loss 0.6903 | Test Loss 0.7968\n",
      "--------------------------------------------------\n"
     ]
    },
    {
     "name": "stderr",
     "output_type": "stream",
     "text": [
      "100%|██████████| 41/41 [00:13<00:00,  3.09it/s]\n",
      "100%|██████████| 41/41 [00:14<00:00,  2.82it/s]\n"
     ]
    },
    {
     "name": "stdout",
     "output_type": "stream",
     "text": [
      "--------------------------------------------------\n",
      "Epoch 12 | Time 28.8740 sec | Valid Loss 0.7238 | Test Loss 0.8273\n",
      "--------------------------------------------------\n"
     ]
    },
    {
     "name": "stderr",
     "output_type": "stream",
     "text": [
      "100%|██████████| 41/41 [00:13<00:00,  3.12it/s]\n",
      "100%|██████████| 41/41 [00:14<00:00,  2.82it/s]\n"
     ]
    },
    {
     "name": "stdout",
     "output_type": "stream",
     "text": [
      "--------------------------------------------------\n",
      "Epoch 13 | Time 28.7194 sec | Valid Loss 0.7168 | Test Loss 0.7585\n",
      "--------------------------------------------------\n"
     ]
    },
    {
     "name": "stderr",
     "output_type": "stream",
     "text": [
      "100%|██████████| 41/41 [00:13<00:00,  3.14it/s]\n",
      "100%|██████████| 41/41 [00:14<00:00,  2.78it/s]\n"
     ]
    },
    {
     "name": "stdout",
     "output_type": "stream",
     "text": [
      "--------------------------------------------------\n",
      "Epoch 14 | Time 28.8718 sec | Valid Loss 0.7099 | Test Loss 0.7712\n",
      "--------------------------------------------------\n"
     ]
    },
    {
     "name": "stderr",
     "output_type": "stream",
     "text": [
      "100%|██████████| 41/41 [00:13<00:00,  3.06it/s]\n",
      "100%|██████████| 41/41 [00:14<00:00,  2.79it/s]\n"
     ]
    },
    {
     "name": "stdout",
     "output_type": "stream",
     "text": [
      "--------------------------------------------------\n",
      "Epoch 15 | Time 29.1796 sec | Valid Loss 0.7390 | Test Loss 0.7543\n",
      "--------------------------------------------------\n"
     ]
    },
    {
     "name": "stderr",
     "output_type": "stream",
     "text": [
      "100%|██████████| 41/41 [00:13<00:00,  3.10it/s]\n",
      "100%|██████████| 41/41 [00:14<00:00,  2.78it/s]\n"
     ]
    },
    {
     "name": "stdout",
     "output_type": "stream",
     "text": [
      "--------------------------------------------------\n",
      "Epoch 16 | Time 29.0492 sec | Valid Loss 0.6889 | Test Loss 0.7633\n",
      "--------------------------------------------------\n",
      "MAE:  0.76330894\n",
      "Correlation Coefficient:  0.7632117147219627\n",
      "mult_acc_7:  0.44169096209912534\n",
      "mult_acc_5:  0.5058309037900874\n",
      "F1 score all/non0: 0.8042/0.8187 over 686/656\n",
      "Accuracy all/non0: 0.8047/0.8186\n",
      "--------------------------------------------------\n",
      "Saved model at pre_trained_models/MM.pt!\n"
     ]
    },
    {
     "name": "stderr",
     "output_type": "stream",
     "text": [
      "100%|██████████| 41/41 [00:13<00:00,  3.09it/s]\n",
      "100%|██████████| 41/41 [00:14<00:00,  2.77it/s]\n"
     ]
    },
    {
     "name": "stdout",
     "output_type": "stream",
     "text": [
      "--------------------------------------------------\n",
      "Epoch 17 | Time 29.1115 sec | Valid Loss 0.6963 | Test Loss 0.7905\n",
      "--------------------------------------------------\n"
     ]
    },
    {
     "name": "stderr",
     "output_type": "stream",
     "text": [
      "100%|██████████| 41/41 [00:13<00:00,  3.10it/s]\n",
      "100%|██████████| 41/41 [00:14<00:00,  2.80it/s]\n"
     ]
    },
    {
     "name": "stdout",
     "output_type": "stream",
     "text": [
      "--------------------------------------------------\n",
      "Epoch 18 | Time 28.9434 sec | Valid Loss 0.6939 | Test Loss 0.7551\n",
      "--------------------------------------------------\n"
     ]
    },
    {
     "name": "stderr",
     "output_type": "stream",
     "text": [
      "100%|██████████| 41/41 [00:13<00:00,  3.12it/s]\n",
      "100%|██████████| 41/41 [00:14<00:00,  2.81it/s]\n"
     ]
    },
    {
     "name": "stdout",
     "output_type": "stream",
     "text": [
      "--------------------------------------------------\n",
      "Epoch 19 | Time 28.7966 sec | Valid Loss 0.6965 | Test Loss 0.7637\n",
      "--------------------------------------------------\n"
     ]
    },
    {
     "name": "stderr",
     "output_type": "stream",
     "text": [
      "100%|██████████| 41/41 [00:13<00:00,  3.14it/s]\n",
      "100%|██████████| 41/41 [00:14<00:00,  2.81it/s]\n"
     ]
    },
    {
     "name": "stdout",
     "output_type": "stream",
     "text": [
      "--------------------------------------------------\n",
      "Epoch 20 | Time 28.7272 sec | Valid Loss 0.6969 | Test Loss 0.7638\n",
      "--------------------------------------------------\n"
     ]
    },
    {
     "name": "stderr",
     "output_type": "stream",
     "text": [
      "100%|██████████| 41/41 [00:13<00:00,  3.12it/s]\n",
      "100%|██████████| 41/41 [00:14<00:00,  2.80it/s]\n"
     ]
    },
    {
     "name": "stdout",
     "output_type": "stream",
     "text": [
      "--------------------------------------------------\n",
      "Epoch 21 | Time 28.8748 sec | Valid Loss 0.7047 | Test Loss 0.7489\n",
      "--------------------------------------------------\n"
     ]
    },
    {
     "name": "stderr",
     "output_type": "stream",
     "text": [
      "100%|██████████| 41/41 [00:13<00:00,  3.13it/s]\n",
      "100%|██████████| 41/41 [00:14<00:00,  2.82it/s]\n"
     ]
    },
    {
     "name": "stdout",
     "output_type": "stream",
     "text": [
      "--------------------------------------------------\n",
      "Epoch 22 | Time 28.6730 sec | Valid Loss 0.6970 | Test Loss 0.7681\n",
      "--------------------------------------------------\n"
     ]
    },
    {
     "name": "stderr",
     "output_type": "stream",
     "text": [
      "100%|██████████| 41/41 [00:13<00:00,  3.11it/s]\n",
      "100%|██████████| 41/41 [00:14<00:00,  2.80it/s]\n"
     ]
    },
    {
     "name": "stdout",
     "output_type": "stream",
     "text": [
      "--------------------------------------------------\n",
      "Epoch 23 | Time 28.8483 sec | Valid Loss 0.6816 | Test Loss 0.7937\n",
      "--------------------------------------------------\n"
     ]
    },
    {
     "name": "stderr",
     "output_type": "stream",
     "text": [
      "100%|██████████| 41/41 [00:13<00:00,  3.10it/s]\n",
      "100%|██████████| 41/41 [00:14<00:00,  2.83it/s]\n"
     ]
    },
    {
     "name": "stdout",
     "output_type": "stream",
     "text": [
      "--------------------------------------------------\n",
      "Epoch 24 | Time 28.8005 sec | Valid Loss 0.6961 | Test Loss 0.7709\n",
      "--------------------------------------------------\n"
     ]
    },
    {
     "name": "stderr",
     "output_type": "stream",
     "text": [
      "100%|██████████| 41/41 [00:13<00:00,  3.13it/s]\n",
      "100%|██████████| 41/41 [00:14<00:00,  2.84it/s]\n"
     ]
    },
    {
     "name": "stdout",
     "output_type": "stream",
     "text": [
      "--------------------------------------------------\n",
      "Epoch 25 | Time 28.5931 sec | Valid Loss 0.7001 | Test Loss 0.7832\n",
      "--------------------------------------------------\n"
     ]
    },
    {
     "name": "stderr",
     "output_type": "stream",
     "text": [
      "100%|██████████| 41/41 [00:13<00:00,  3.01it/s]\n",
      "100%|██████████| 41/41 [00:14<00:00,  2.79it/s]\n"
     ]
    },
    {
     "name": "stdout",
     "output_type": "stream",
     "text": [
      "--------------------------------------------------\n",
      "Epoch 26 | Time 29.3907 sec | Valid Loss 0.7525 | Test Loss 0.9096\n",
      "--------------------------------------------------\n"
     ]
    },
    {
     "name": "stderr",
     "output_type": "stream",
     "text": [
      "100%|██████████| 41/41 [00:13<00:00,  3.09it/s]\n",
      "100%|██████████| 41/41 [00:14<00:00,  2.79it/s]\n"
     ]
    },
    {
     "name": "stdout",
     "output_type": "stream",
     "text": [
      "--------------------------------------------------\n",
      "Epoch 27 | Time 28.9865 sec | Valid Loss 0.8651 | Test Loss 0.8780\n",
      "--------------------------------------------------\n"
     ]
    },
    {
     "name": "stderr",
     "output_type": "stream",
     "text": [
      "100%|██████████| 41/41 [00:13<00:00,  3.13it/s]\n",
      "100%|██████████| 41/41 [00:14<00:00,  2.81it/s]\n"
     ]
    },
    {
     "name": "stdout",
     "output_type": "stream",
     "text": [
      "--------------------------------------------------\n",
      "Epoch 28 | Time 28.7608 sec | Valid Loss 0.7598 | Test Loss 0.8687\n",
      "--------------------------------------------------\n"
     ]
    },
    {
     "name": "stderr",
     "output_type": "stream",
     "text": [
      "100%|██████████| 41/41 [00:13<00:00,  3.11it/s]\n",
      "100%|██████████| 41/41 [00:14<00:00,  2.83it/s]\n"
     ]
    },
    {
     "name": "stdout",
     "output_type": "stream",
     "text": [
      "--------------------------------------------------\n",
      "Epoch 29 | Time 28.7443 sec | Valid Loss 0.7350 | Test Loss 0.8852\n",
      "--------------------------------------------------\n"
     ]
    },
    {
     "name": "stderr",
     "output_type": "stream",
     "text": [
      "100%|██████████| 41/41 [00:13<00:00,  3.10it/s]\n",
      "100%|██████████| 41/41 [00:14<00:00,  2.79it/s]\n"
     ]
    },
    {
     "name": "stdout",
     "output_type": "stream",
     "text": [
      "--------------------------------------------------\n",
      "Epoch 30 | Time 28.9556 sec | Valid Loss 0.8216 | Test Loss 0.8607\n",
      "--------------------------------------------------\n"
     ]
    },
    {
     "name": "stderr",
     "output_type": "stream",
     "text": [
      "100%|██████████| 41/41 [00:13<00:00,  3.12it/s]\n",
      "100%|██████████| 41/41 [00:14<00:00,  2.78it/s]\n"
     ]
    },
    {
     "name": "stdout",
     "output_type": "stream",
     "text": [
      "--------------------------------------------------\n",
      "Epoch 31 | Time 28.9729 sec | Valid Loss 1.0651 | Test Loss 1.2261\n",
      "--------------------------------------------------\n"
     ]
    },
    {
     "name": "stderr",
     "output_type": "stream",
     "text": [
      "100%|██████████| 41/41 [00:13<00:00,  3.12it/s]\n",
      "100%|██████████| 41/41 [00:14<00:00,  2.78it/s]\n"
     ]
    },
    {
     "name": "stdout",
     "output_type": "stream",
     "text": [
      "--------------------------------------------------\n",
      "Epoch 32 | Time 28.9966 sec | Valid Loss 1.2240 | Test Loss 0.9041\n",
      "--------------------------------------------------\n"
     ]
    },
    {
     "name": "stderr",
     "output_type": "stream",
     "text": [
      "100%|██████████| 41/41 [00:13<00:00,  3.12it/s]\n",
      "100%|██████████| 41/41 [00:14<00:00,  2.78it/s]\n"
     ]
    },
    {
     "name": "stdout",
     "output_type": "stream",
     "text": [
      "--------------------------------------------------\n",
      "Epoch 33 | Time 28.9449 sec | Valid Loss 1.3060 | Test Loss 1.7335\n",
      "--------------------------------------------------\n",
      "Best epoch: 16\n",
      "MAE:  0.76330894\n",
      "Correlation Coefficient:  0.7632117147219627\n",
      "mult_acc_7:  0.44169096209912534\n",
      "mult_acc_5:  0.5058309037900874\n",
      "F1 score all/non0: 0.8042/0.8187 over 686/656\n",
      "Accuracy all/non0: 0.8047/0.8186\n",
      "--------------------------------------------------\n"
     ]
    }
   ],
   "source": [
    "model = solver.train_and_eval()"
   ]
  },
  {
   "cell_type": "code",
   "execution_count": 30,
   "metadata": {},
   "outputs": [],
   "source": [
    "torch.save(model.state_dict(), \"./saved_models_MMIM_mosi.pt\")"
   ]
  },
  {
   "cell_type": "markdown",
   "metadata": {},
   "source": [
    "### Model Load"
   ]
  },
  {
   "cell_type": "code",
   "execution_count": 31,
   "metadata": {},
   "outputs": [
    {
     "data": {
      "text/plain": [
       "MMIM(\n",
       "  (text_enc): LanguageEmbeddingLayer(\n",
       "    (bertmodel): BertModel(\n",
       "      (embeddings): BertEmbeddings(\n",
       "        (word_embeddings): Embedding(30522, 768, padding_idx=0)\n",
       "        (position_embeddings): Embedding(512, 768)\n",
       "        (token_type_embeddings): Embedding(2, 768)\n",
       "        (LayerNorm): LayerNorm((768,), eps=1e-12, elementwise_affine=True)\n",
       "        (dropout): Dropout(p=0.1, inplace=False)\n",
       "      )\n",
       "      (encoder): BertEncoder(\n",
       "        (layer): ModuleList(\n",
       "          (0): BertLayer(\n",
       "            (attention): BertAttention(\n",
       "              (self): BertSelfAttention(\n",
       "                (query): Linear(in_features=768, out_features=768, bias=True)\n",
       "                (key): Linear(in_features=768, out_features=768, bias=True)\n",
       "                (value): Linear(in_features=768, out_features=768, bias=True)\n",
       "                (dropout): Dropout(p=0.1, inplace=False)\n",
       "              )\n",
       "              (output): BertSelfOutput(\n",
       "                (dense): Linear(in_features=768, out_features=768, bias=True)\n",
       "                (LayerNorm): LayerNorm((768,), eps=1e-12, elementwise_affine=True)\n",
       "                (dropout): Dropout(p=0.1, inplace=False)\n",
       "              )\n",
       "            )\n",
       "            (intermediate): BertIntermediate(\n",
       "              (dense): Linear(in_features=768, out_features=3072, bias=True)\n",
       "              (intermediate_act_fn): GELUActivation()\n",
       "            )\n",
       "            (output): BertOutput(\n",
       "              (dense): Linear(in_features=3072, out_features=768, bias=True)\n",
       "              (LayerNorm): LayerNorm((768,), eps=1e-12, elementwise_affine=True)\n",
       "              (dropout): Dropout(p=0.1, inplace=False)\n",
       "            )\n",
       "          )\n",
       "          (1): BertLayer(\n",
       "            (attention): BertAttention(\n",
       "              (self): BertSelfAttention(\n",
       "                (query): Linear(in_features=768, out_features=768, bias=True)\n",
       "                (key): Linear(in_features=768, out_features=768, bias=True)\n",
       "                (value): Linear(in_features=768, out_features=768, bias=True)\n",
       "                (dropout): Dropout(p=0.1, inplace=False)\n",
       "              )\n",
       "              (output): BertSelfOutput(\n",
       "                (dense): Linear(in_features=768, out_features=768, bias=True)\n",
       "                (LayerNorm): LayerNorm((768,), eps=1e-12, elementwise_affine=True)\n",
       "                (dropout): Dropout(p=0.1, inplace=False)\n",
       "              )\n",
       "            )\n",
       "            (intermediate): BertIntermediate(\n",
       "              (dense): Linear(in_features=768, out_features=3072, bias=True)\n",
       "              (intermediate_act_fn): GELUActivation()\n",
       "            )\n",
       "            (output): BertOutput(\n",
       "              (dense): Linear(in_features=3072, out_features=768, bias=True)\n",
       "              (LayerNorm): LayerNorm((768,), eps=1e-12, elementwise_affine=True)\n",
       "              (dropout): Dropout(p=0.1, inplace=False)\n",
       "            )\n",
       "          )\n",
       "          (2): BertLayer(\n",
       "            (attention): BertAttention(\n",
       "              (self): BertSelfAttention(\n",
       "                (query): Linear(in_features=768, out_features=768, bias=True)\n",
       "                (key): Linear(in_features=768, out_features=768, bias=True)\n",
       "                (value): Linear(in_features=768, out_features=768, bias=True)\n",
       "                (dropout): Dropout(p=0.1, inplace=False)\n",
       "              )\n",
       "              (output): BertSelfOutput(\n",
       "                (dense): Linear(in_features=768, out_features=768, bias=True)\n",
       "                (LayerNorm): LayerNorm((768,), eps=1e-12, elementwise_affine=True)\n",
       "                (dropout): Dropout(p=0.1, inplace=False)\n",
       "              )\n",
       "            )\n",
       "            (intermediate): BertIntermediate(\n",
       "              (dense): Linear(in_features=768, out_features=3072, bias=True)\n",
       "              (intermediate_act_fn): GELUActivation()\n",
       "            )\n",
       "            (output): BertOutput(\n",
       "              (dense): Linear(in_features=3072, out_features=768, bias=True)\n",
       "              (LayerNorm): LayerNorm((768,), eps=1e-12, elementwise_affine=True)\n",
       "              (dropout): Dropout(p=0.1, inplace=False)\n",
       "            )\n",
       "          )\n",
       "          (3): BertLayer(\n",
       "            (attention): BertAttention(\n",
       "              (self): BertSelfAttention(\n",
       "                (query): Linear(in_features=768, out_features=768, bias=True)\n",
       "                (key): Linear(in_features=768, out_features=768, bias=True)\n",
       "                (value): Linear(in_features=768, out_features=768, bias=True)\n",
       "                (dropout): Dropout(p=0.1, inplace=False)\n",
       "              )\n",
       "              (output): BertSelfOutput(\n",
       "                (dense): Linear(in_features=768, out_features=768, bias=True)\n",
       "                (LayerNorm): LayerNorm((768,), eps=1e-12, elementwise_affine=True)\n",
       "                (dropout): Dropout(p=0.1, inplace=False)\n",
       "              )\n",
       "            )\n",
       "            (intermediate): BertIntermediate(\n",
       "              (dense): Linear(in_features=768, out_features=3072, bias=True)\n",
       "              (intermediate_act_fn): GELUActivation()\n",
       "            )\n",
       "            (output): BertOutput(\n",
       "              (dense): Linear(in_features=3072, out_features=768, bias=True)\n",
       "              (LayerNorm): LayerNorm((768,), eps=1e-12, elementwise_affine=True)\n",
       "              (dropout): Dropout(p=0.1, inplace=False)\n",
       "            )\n",
       "          )\n",
       "          (4): BertLayer(\n",
       "            (attention): BertAttention(\n",
       "              (self): BertSelfAttention(\n",
       "                (query): Linear(in_features=768, out_features=768, bias=True)\n",
       "                (key): Linear(in_features=768, out_features=768, bias=True)\n",
       "                (value): Linear(in_features=768, out_features=768, bias=True)\n",
       "                (dropout): Dropout(p=0.1, inplace=False)\n",
       "              )\n",
       "              (output): BertSelfOutput(\n",
       "                (dense): Linear(in_features=768, out_features=768, bias=True)\n",
       "                (LayerNorm): LayerNorm((768,), eps=1e-12, elementwise_affine=True)\n",
       "                (dropout): Dropout(p=0.1, inplace=False)\n",
       "              )\n",
       "            )\n",
       "            (intermediate): BertIntermediate(\n",
       "              (dense): Linear(in_features=768, out_features=3072, bias=True)\n",
       "              (intermediate_act_fn): GELUActivation()\n",
       "            )\n",
       "            (output): BertOutput(\n",
       "              (dense): Linear(in_features=3072, out_features=768, bias=True)\n",
       "              (LayerNorm): LayerNorm((768,), eps=1e-12, elementwise_affine=True)\n",
       "              (dropout): Dropout(p=0.1, inplace=False)\n",
       "            )\n",
       "          )\n",
       "          (5): BertLayer(\n",
       "            (attention): BertAttention(\n",
       "              (self): BertSelfAttention(\n",
       "                (query): Linear(in_features=768, out_features=768, bias=True)\n",
       "                (key): Linear(in_features=768, out_features=768, bias=True)\n",
       "                (value): Linear(in_features=768, out_features=768, bias=True)\n",
       "                (dropout): Dropout(p=0.1, inplace=False)\n",
       "              )\n",
       "              (output): BertSelfOutput(\n",
       "                (dense): Linear(in_features=768, out_features=768, bias=True)\n",
       "                (LayerNorm): LayerNorm((768,), eps=1e-12, elementwise_affine=True)\n",
       "                (dropout): Dropout(p=0.1, inplace=False)\n",
       "              )\n",
       "            )\n",
       "            (intermediate): BertIntermediate(\n",
       "              (dense): Linear(in_features=768, out_features=3072, bias=True)\n",
       "              (intermediate_act_fn): GELUActivation()\n",
       "            )\n",
       "            (output): BertOutput(\n",
       "              (dense): Linear(in_features=3072, out_features=768, bias=True)\n",
       "              (LayerNorm): LayerNorm((768,), eps=1e-12, elementwise_affine=True)\n",
       "              (dropout): Dropout(p=0.1, inplace=False)\n",
       "            )\n",
       "          )\n",
       "          (6): BertLayer(\n",
       "            (attention): BertAttention(\n",
       "              (self): BertSelfAttention(\n",
       "                (query): Linear(in_features=768, out_features=768, bias=True)\n",
       "                (key): Linear(in_features=768, out_features=768, bias=True)\n",
       "                (value): Linear(in_features=768, out_features=768, bias=True)\n",
       "                (dropout): Dropout(p=0.1, inplace=False)\n",
       "              )\n",
       "              (output): BertSelfOutput(\n",
       "                (dense): Linear(in_features=768, out_features=768, bias=True)\n",
       "                (LayerNorm): LayerNorm((768,), eps=1e-12, elementwise_affine=True)\n",
       "                (dropout): Dropout(p=0.1, inplace=False)\n",
       "              )\n",
       "            )\n",
       "            (intermediate): BertIntermediate(\n",
       "              (dense): Linear(in_features=768, out_features=3072, bias=True)\n",
       "              (intermediate_act_fn): GELUActivation()\n",
       "            )\n",
       "            (output): BertOutput(\n",
       "              (dense): Linear(in_features=3072, out_features=768, bias=True)\n",
       "              (LayerNorm): LayerNorm((768,), eps=1e-12, elementwise_affine=True)\n",
       "              (dropout): Dropout(p=0.1, inplace=False)\n",
       "            )\n",
       "          )\n",
       "          (7): BertLayer(\n",
       "            (attention): BertAttention(\n",
       "              (self): BertSelfAttention(\n",
       "                (query): Linear(in_features=768, out_features=768, bias=True)\n",
       "                (key): Linear(in_features=768, out_features=768, bias=True)\n",
       "                (value): Linear(in_features=768, out_features=768, bias=True)\n",
       "                (dropout): Dropout(p=0.1, inplace=False)\n",
       "              )\n",
       "              (output): BertSelfOutput(\n",
       "                (dense): Linear(in_features=768, out_features=768, bias=True)\n",
       "                (LayerNorm): LayerNorm((768,), eps=1e-12, elementwise_affine=True)\n",
       "                (dropout): Dropout(p=0.1, inplace=False)\n",
       "              )\n",
       "            )\n",
       "            (intermediate): BertIntermediate(\n",
       "              (dense): Linear(in_features=768, out_features=3072, bias=True)\n",
       "              (intermediate_act_fn): GELUActivation()\n",
       "            )\n",
       "            (output): BertOutput(\n",
       "              (dense): Linear(in_features=3072, out_features=768, bias=True)\n",
       "              (LayerNorm): LayerNorm((768,), eps=1e-12, elementwise_affine=True)\n",
       "              (dropout): Dropout(p=0.1, inplace=False)\n",
       "            )\n",
       "          )\n",
       "          (8): BertLayer(\n",
       "            (attention): BertAttention(\n",
       "              (self): BertSelfAttention(\n",
       "                (query): Linear(in_features=768, out_features=768, bias=True)\n",
       "                (key): Linear(in_features=768, out_features=768, bias=True)\n",
       "                (value): Linear(in_features=768, out_features=768, bias=True)\n",
       "                (dropout): Dropout(p=0.1, inplace=False)\n",
       "              )\n",
       "              (output): BertSelfOutput(\n",
       "                (dense): Linear(in_features=768, out_features=768, bias=True)\n",
       "                (LayerNorm): LayerNorm((768,), eps=1e-12, elementwise_affine=True)\n",
       "                (dropout): Dropout(p=0.1, inplace=False)\n",
       "              )\n",
       "            )\n",
       "            (intermediate): BertIntermediate(\n",
       "              (dense): Linear(in_features=768, out_features=3072, bias=True)\n",
       "              (intermediate_act_fn): GELUActivation()\n",
       "            )\n",
       "            (output): BertOutput(\n",
       "              (dense): Linear(in_features=3072, out_features=768, bias=True)\n",
       "              (LayerNorm): LayerNorm((768,), eps=1e-12, elementwise_affine=True)\n",
       "              (dropout): Dropout(p=0.1, inplace=False)\n",
       "            )\n",
       "          )\n",
       "          (9): BertLayer(\n",
       "            (attention): BertAttention(\n",
       "              (self): BertSelfAttention(\n",
       "                (query): Linear(in_features=768, out_features=768, bias=True)\n",
       "                (key): Linear(in_features=768, out_features=768, bias=True)\n",
       "                (value): Linear(in_features=768, out_features=768, bias=True)\n",
       "                (dropout): Dropout(p=0.1, inplace=False)\n",
       "              )\n",
       "              (output): BertSelfOutput(\n",
       "                (dense): Linear(in_features=768, out_features=768, bias=True)\n",
       "                (LayerNorm): LayerNorm((768,), eps=1e-12, elementwise_affine=True)\n",
       "                (dropout): Dropout(p=0.1, inplace=False)\n",
       "              )\n",
       "            )\n",
       "            (intermediate): BertIntermediate(\n",
       "              (dense): Linear(in_features=768, out_features=3072, bias=True)\n",
       "              (intermediate_act_fn): GELUActivation()\n",
       "            )\n",
       "            (output): BertOutput(\n",
       "              (dense): Linear(in_features=3072, out_features=768, bias=True)\n",
       "              (LayerNorm): LayerNorm((768,), eps=1e-12, elementwise_affine=True)\n",
       "              (dropout): Dropout(p=0.1, inplace=False)\n",
       "            )\n",
       "          )\n",
       "          (10): BertLayer(\n",
       "            (attention): BertAttention(\n",
       "              (self): BertSelfAttention(\n",
       "                (query): Linear(in_features=768, out_features=768, bias=True)\n",
       "                (key): Linear(in_features=768, out_features=768, bias=True)\n",
       "                (value): Linear(in_features=768, out_features=768, bias=True)\n",
       "                (dropout): Dropout(p=0.1, inplace=False)\n",
       "              )\n",
       "              (output): BertSelfOutput(\n",
       "                (dense): Linear(in_features=768, out_features=768, bias=True)\n",
       "                (LayerNorm): LayerNorm((768,), eps=1e-12, elementwise_affine=True)\n",
       "                (dropout): Dropout(p=0.1, inplace=False)\n",
       "              )\n",
       "            )\n",
       "            (intermediate): BertIntermediate(\n",
       "              (dense): Linear(in_features=768, out_features=3072, bias=True)\n",
       "              (intermediate_act_fn): GELUActivation()\n",
       "            )\n",
       "            (output): BertOutput(\n",
       "              (dense): Linear(in_features=3072, out_features=768, bias=True)\n",
       "              (LayerNorm): LayerNorm((768,), eps=1e-12, elementwise_affine=True)\n",
       "              (dropout): Dropout(p=0.1, inplace=False)\n",
       "            )\n",
       "          )\n",
       "          (11): BertLayer(\n",
       "            (attention): BertAttention(\n",
       "              (self): BertSelfAttention(\n",
       "                (query): Linear(in_features=768, out_features=768, bias=True)\n",
       "                (key): Linear(in_features=768, out_features=768, bias=True)\n",
       "                (value): Linear(in_features=768, out_features=768, bias=True)\n",
       "                (dropout): Dropout(p=0.1, inplace=False)\n",
       "              )\n",
       "              (output): BertSelfOutput(\n",
       "                (dense): Linear(in_features=768, out_features=768, bias=True)\n",
       "                (LayerNorm): LayerNorm((768,), eps=1e-12, elementwise_affine=True)\n",
       "                (dropout): Dropout(p=0.1, inplace=False)\n",
       "              )\n",
       "            )\n",
       "            (intermediate): BertIntermediate(\n",
       "              (dense): Linear(in_features=768, out_features=3072, bias=True)\n",
       "              (intermediate_act_fn): GELUActivation()\n",
       "            )\n",
       "            (output): BertOutput(\n",
       "              (dense): Linear(in_features=3072, out_features=768, bias=True)\n",
       "              (LayerNorm): LayerNorm((768,), eps=1e-12, elementwise_affine=True)\n",
       "              (dropout): Dropout(p=0.1, inplace=False)\n",
       "            )\n",
       "          )\n",
       "        )\n",
       "      )\n",
       "      (pooler): BertPooler(\n",
       "        (dense): Linear(in_features=768, out_features=768, bias=True)\n",
       "        (activation): Tanh()\n",
       "      )\n",
       "    )\n",
       "  )\n",
       "  (visual_enc): RNNEncoder(\n",
       "    (rnn): LSTM(47, 16, bidirectional=True)\n",
       "    (dropout): Dropout(p=0.0, inplace=False)\n",
       "    (linear_1): Linear(in_features=32, out_features=16, bias=True)\n",
       "  )\n",
       "  (acoustic_enc): RNNEncoder(\n",
       "    (rnn): LSTM(74, 16, bidirectional=True)\n",
       "    (dropout): Dropout(p=0.0, inplace=False)\n",
       "    (linear_1): Linear(in_features=32, out_features=16, bias=True)\n",
       "  )\n",
       "  (mi_tv): MMILB(\n",
       "    (mlp_mu): Sequential(\n",
       "      (0): Linear(in_features=768, out_features=16, bias=True)\n",
       "      (1): ReLU()\n",
       "      (2): Linear(in_features=16, out_features=16, bias=True)\n",
       "    )\n",
       "    (mlp_logvar): Sequential(\n",
       "      (0): Linear(in_features=768, out_features=16, bias=True)\n",
       "      (1): ReLU()\n",
       "      (2): Linear(in_features=16, out_features=16, bias=True)\n",
       "    )\n",
       "    (entropy_prj): Sequential(\n",
       "      (0): Linear(in_features=16, out_features=4, bias=True)\n",
       "      (1): Tanh()\n",
       "    )\n",
       "  )\n",
       "  (mi_ta): MMILB(\n",
       "    (mlp_mu): Sequential(\n",
       "      (0): Linear(in_features=768, out_features=16, bias=True)\n",
       "      (1): ReLU()\n",
       "      (2): Linear(in_features=16, out_features=16, bias=True)\n",
       "    )\n",
       "    (mlp_logvar): Sequential(\n",
       "      (0): Linear(in_features=768, out_features=16, bias=True)\n",
       "      (1): ReLU()\n",
       "      (2): Linear(in_features=16, out_features=16, bias=True)\n",
       "    )\n",
       "    (entropy_prj): Sequential(\n",
       "      (0): Linear(in_features=16, out_features=4, bias=True)\n",
       "      (1): Tanh()\n",
       "    )\n",
       "  )\n",
       "  (mi_va): MMILB(\n",
       "    (mlp_mu): Sequential(\n",
       "      (0): Linear(in_features=16, out_features=16, bias=True)\n",
       "      (1): ReLU()\n",
       "      (2): Linear(in_features=16, out_features=16, bias=True)\n",
       "    )\n",
       "    (mlp_logvar): Sequential(\n",
       "      (0): Linear(in_features=16, out_features=16, bias=True)\n",
       "      (1): ReLU()\n",
       "      (2): Linear(in_features=16, out_features=16, bias=True)\n",
       "    )\n",
       "    (entropy_prj): Sequential(\n",
       "      (0): Linear(in_features=16, out_features=4, bias=True)\n",
       "      (1): Tanh()\n",
       "    )\n",
       "  )\n",
       "  (cpc_zt): CPC(\n",
       "    (net): Linear(in_features=128, out_features=768, bias=True)\n",
       "  )\n",
       "  (cpc_zv): CPC(\n",
       "    (net): Linear(in_features=128, out_features=16, bias=True)\n",
       "  )\n",
       "  (cpc_za): CPC(\n",
       "    (net): Linear(in_features=128, out_features=16, bias=True)\n",
       "  )\n",
       "  (fusion_prj): SubNet(\n",
       "    (drop): Dropout(p=0.1, inplace=False)\n",
       "    (linear_1): Linear(in_features=800, out_features=128, bias=True)\n",
       "    (linear_2): Linear(in_features=128, out_features=128, bias=True)\n",
       "    (linear_3): Linear(in_features=128, out_features=1, bias=True)\n",
       "  )\n",
       ")"
      ]
     },
     "execution_count": 31,
     "metadata": {},
     "output_type": "execute_result"
    }
   ],
   "source": [
    "model.load_state_dict(torch.load(\"./saved_models_MMIM_mosi.pt\"))\n",
    "model.eval()"
   ]
  },
  {
   "cell_type": "code",
   "execution_count": 32,
   "metadata": {},
   "outputs": [
    {
     "name": "stderr",
     "output_type": "stream",
     "text": [
      "100%|██████████| 69/69 [00:01<00:00, 52.62it/s]\n"
     ]
    }
   ],
   "source": [
    "segment_list = []\n",
    "tester = TestMOSI\n",
    "tester = tester(model)\n",
    "segment_list, preds, preds_2, preds_7 = tester.start()"
   ]
  },
  {
   "cell_type": "code",
   "execution_count": 33,
   "metadata": {},
   "outputs": [
    {
     "data": {
      "text/plain": [
       "685"
      ]
     },
     "execution_count": 33,
     "metadata": {},
     "output_type": "execute_result"
    }
   ],
   "source": [
    "len(segment_list)"
   ]
  },
  {
   "cell_type": "code",
   "execution_count": 34,
   "metadata": {},
   "outputs": [],
   "source": [
    "import pickle\n",
    "# Gold-truth\n",
    "labels = []\n",
    "labels_2 = []\n",
    "labels_7 = []\n",
    "with open(f\"../datasets/MOSI/{args.dataset}.pkl\", \"rb\") as handle:\n",
    "    data = pickle.load(handle)\n",
    "\n",
    "test_data = data[\"test\"]\n",
    "\n",
    "video = set()\n",
    "count = 0\n",
    "\n",
    "for idx in range(len(test_data)):\n",
    "    (words, visual, acoustic), label, segment = test_data[idx]\n",
    "    if args.dataset == 'mosi':\n",
    "        assert segment_list[idx] == segment\n",
    "    else:\n",
    "        video_name = segment[0]\n",
    "        if video_name in video:\n",
    "            count += 1\n",
    "        else:\n",
    "            video.add(video_name)\n",
    "            count = 0\n",
    "        assert segment_list[idx] == segment\n",
    "\n",
    "    labels.append(label[0][0])\n",
    "\n",
    "    # label_2 appending\n",
    "    if label > 0:\n",
    "        labels_2.append('positive')\n",
    "    else:\n",
    "        labels_2.append('negative')\n",
    "    \n",
    "    # label_7 appending\n",
    "    if label < -15/7:\n",
    "        labels_7.append('very negative')\n",
    "    elif label < -9/7:\n",
    "        labels_7.append('negative')\n",
    "    elif label < -3/7:\n",
    "        labels_7.append('slightly negative')\n",
    "    elif label < 3/7:\n",
    "        labels_7.append('Neutral')\n",
    "    elif label < 9/7:\n",
    "        labels_7.append('slightly positive')\n",
    "    elif label < 15/7:\n",
    "        labels_7.append('positive')\n",
    "    else:\n",
    "        labels_7.append('very positive')\n",
    "count = 0"
   ]
  },
  {
   "cell_type": "code",
   "execution_count": 35,
   "metadata": {},
   "outputs": [
    {
     "data": {
      "application/vnd.jupyter.widget-view+json": {
       "model_id": "3cf5c607004645b885553f5fb991d2c7",
       "version_major": 2,
       "version_minor": 0
      },
      "text/plain": [
       "interactive(children=(Dropdown(description='idx', options=(0, 1, 2, 3, 4, 5, 6, 7, 8, 9, 10, 11, 12, 13, 14, 1…"
      ]
     },
     "metadata": {},
     "output_type": "display_data"
    }
   ],
   "source": [
    "from ipywidgets import interact\n",
    "\n",
    "@interact\n",
    "def get_predict_result(idx = range(len(segment_list))):\n",
    "    print(\"SEGMENT:\", segment_list[idx])\n",
    "    print(\"GOLD_VALUE:\", labels[idx])\n",
    "    print(\"GOLD_BINARY:\", labels_2[idx])\n",
    "    print(\"GOLD_7_CLASS:\", labels_7[idx])\n",
    "    print(\"PREDICTED_VALUE:\", preds[idx])\n",
    "    print(\"PREDICTED_BINARY:\", preds_2[idx])\n",
    "    print(\"PREDICTED _7_CLASS:\", preds_7[idx])"
   ]
  },
  {
   "cell_type": "code",
   "execution_count": 36,
   "metadata": {},
   "outputs": [
    {
     "name": "stdout",
     "output_type": "stream",
     "text": [
      "0\n"
     ]
    }
   ],
   "source": [
    "count = 0\n",
    "for i in range(len(preds_7)):\n",
    "    if preds_7[i] == 'very negative': count += 1\n",
    "\n",
    "print(count)"
   ]
  },
  {
   "cell_type": "code",
   "execution_count": 37,
   "metadata": {},
   "outputs": [
    {
     "name": "stdout",
     "output_type": "stream",
     "text": [
      "685\n",
      "685\n",
      "685\n"
     ]
    }
   ],
   "source": [
    "print(len(segment_list))\n",
    "print(len(labels))\n",
    "print(len(preds))"
   ]
  },
  {
   "cell_type": "code",
   "execution_count": 38,
   "metadata": {},
   "outputs": [
    {
     "data": {
      "application/vnd.plotly.v1+json": {
       "config": {
        "plotlyServerURL": "https://plot.ly"
       },
       "data": [
        {
         "alignmentgroup": "True",
         "hovertemplate": "labels_7=%{x}<br>count=%{y}<extra></extra>",
         "legendgroup": "",
         "marker": {
          "color": "#636efa",
          "pattern": {
           "shape": ""
          }
         },
         "name": "",
         "offsetgroup": "",
         "orientation": "v",
         "showlegend": false,
         "textposition": "auto",
         "type": "bar",
         "x": [
          "very negative",
          "very negative",
          "slightly negative",
          "positive",
          "very negative",
          "very negative",
          "very negative",
          "very negative",
          "Neutral",
          "slightly positive",
          "slightly positive",
          "very negative",
          "very negative",
          "slightly positive",
          "very negative",
          "negative",
          "negative",
          "very negative",
          "negative",
          "negative",
          "slightly negative",
          "very negative",
          "slightly negative",
          "negative",
          "Neutral",
          "very negative",
          "negative",
          "slightly negative",
          "slightly positive",
          "slightly positive",
          "negative",
          "very negative",
          "negative",
          "very positive",
          "very positive",
          "slightly positive",
          "slightly positive",
          "very positive",
          "very positive",
          "very positive",
          "slightly negative",
          "Neutral",
          "positive",
          "positive",
          "slightly negative",
          "negative",
          "very negative",
          "very negative",
          "very negative",
          "very negative",
          "very positive",
          "slightly negative",
          "positive",
          "positive",
          "slightly positive",
          "slightly positive",
          "positive",
          "very negative",
          "slightly negative",
          "slightly negative",
          "very positive",
          "positive",
          "slightly negative",
          "very negative",
          "very positive",
          "very positive",
          "very positive",
          "Neutral",
          "very positive",
          "positive",
          "slightly negative",
          "positive",
          "Neutral",
          "slightly positive",
          "slightly positive",
          "positive",
          "slightly negative",
          "positive",
          "slightly negative",
          "slightly negative",
          "positive",
          "slightly positive",
          "positive",
          "positive",
          "positive",
          "slightly negative",
          "slightly negative",
          "Neutral",
          "slightly negative",
          "slightly negative",
          "Neutral",
          "slightly positive",
          "slightly negative",
          "slightly negative",
          "Neutral",
          "Neutral",
          "Neutral",
          "slightly negative",
          "slightly positive",
          "slightly positive",
          "very negative",
          "negative",
          "positive",
          "Neutral",
          "positive",
          "slightly negative",
          "very positive",
          "positive",
          "Neutral",
          "very positive",
          "positive",
          "Neutral",
          "very positive",
          "positive",
          "very positive",
          "positive",
          "very positive",
          "positive",
          "positive",
          "slightly positive",
          "Neutral",
          "very negative",
          "negative",
          "Neutral",
          "negative",
          "negative",
          "negative",
          "very negative",
          "very negative",
          "very negative",
          "slightly negative",
          "slightly negative",
          "positive",
          "negative",
          "negative",
          "negative",
          "negative",
          "negative",
          "negative",
          "very negative",
          "slightly positive",
          "very negative",
          "slightly negative",
          "very negative",
          "very negative",
          "negative",
          "very negative",
          "very negative",
          "slightly negative",
          "negative",
          "very negative",
          "negative",
          "slightly negative",
          "very negative",
          "very negative",
          "negative",
          "very negative",
          "very negative",
          "very negative",
          "very negative",
          "slightly negative",
          "very negative",
          "negative",
          "very negative",
          "Neutral",
          "negative",
          "slightly negative",
          "Neutral",
          "slightly positive",
          "slightly positive",
          "negative",
          "slightly positive",
          "slightly negative",
          "slightly positive",
          "slightly negative",
          "negative",
          "slightly negative",
          "negative",
          "slightly positive",
          "Neutral",
          "slightly positive",
          "negative",
          "slightly positive",
          "Neutral",
          "Neutral",
          "slightly negative",
          "slightly negative",
          "very negative",
          "negative",
          "negative",
          "slightly positive",
          "very negative",
          "slightly negative",
          "Neutral",
          "very negative",
          "Neutral",
          "positive",
          "slightly negative",
          "slightly negative",
          "slightly positive",
          "slightly positive",
          "very negative",
          "negative",
          "very negative",
          "slightly negative",
          "negative",
          "very negative",
          "negative",
          "slightly negative",
          "negative",
          "negative",
          "slightly positive",
          "slightly negative",
          "slightly negative",
          "negative",
          "slightly negative",
          "slightly negative",
          "Neutral",
          "positive",
          "positive",
          "positive",
          "very negative",
          "negative",
          "positive",
          "positive",
          "slightly positive",
          "negative",
          "slightly negative",
          "Neutral",
          "positive",
          "slightly positive",
          "slightly positive",
          "slightly positive",
          "positive",
          "Neutral",
          "slightly positive",
          "very negative",
          "slightly positive",
          "Neutral",
          "slightly negative",
          "positive",
          "slightly negative",
          "slightly negative",
          "Neutral",
          "very negative",
          "very negative",
          "very negative",
          "Neutral",
          "Neutral",
          "slightly negative",
          "slightly negative",
          "Neutral",
          "Neutral",
          "Neutral",
          "Neutral",
          "Neutral",
          "Neutral",
          "very negative",
          "slightly positive",
          "slightly negative",
          "negative",
          "Neutral",
          "Neutral",
          "negative",
          "slightly negative",
          "Neutral",
          "Neutral",
          "slightly positive",
          "positive",
          "negative",
          "slightly negative",
          "slightly positive",
          "Neutral",
          "positive",
          "slightly negative",
          "very positive",
          "very positive",
          "Neutral",
          "negative",
          "slightly negative",
          "negative",
          "slightly negative",
          "positive",
          "very positive",
          "very positive",
          "very positive",
          "slightly positive",
          "slightly negative",
          "slightly positive",
          "positive",
          "slightly positive",
          "very negative",
          "very negative",
          "very positive",
          "very negative",
          "slightly negative",
          "very negative",
          "slightly positive",
          "slightly negative",
          "negative",
          "negative",
          "negative",
          "negative",
          "slightly positive",
          "slightly positive",
          "slightly positive",
          "negative",
          "positive",
          "very negative",
          "negative",
          "positive",
          "positive",
          "slightly positive",
          "Neutral",
          "slightly positive",
          "negative",
          "slightly negative",
          "Neutral",
          "slightly positive",
          "Neutral",
          "slightly negative",
          "Neutral",
          "Neutral",
          "Neutral",
          "Neutral",
          "slightly positive",
          "Neutral",
          "positive",
          "slightly negative",
          "positive",
          "slightly negative",
          "positive",
          "slightly negative",
          "Neutral",
          "very negative",
          "very negative",
          "slightly negative",
          "slightly negative",
          "negative",
          "very negative",
          "very positive",
          "very negative",
          "very negative",
          "negative",
          "negative",
          "very positive",
          "very negative",
          "very negative",
          "Neutral",
          "negative",
          "negative",
          "negative",
          "negative",
          "positive",
          "very positive",
          "very negative",
          "negative",
          "very negative",
          "very negative",
          "very negative",
          "slightly positive",
          "slightly negative",
          "slightly positive",
          "very negative",
          "negative",
          "very negative",
          "negative",
          "Neutral",
          "slightly negative",
          "very negative",
          "negative",
          "slightly positive",
          "Neutral",
          "negative",
          "slightly positive",
          "negative",
          "Neutral",
          "negative",
          "slightly negative",
          "positive",
          "very negative",
          "slightly negative",
          "Neutral",
          "negative",
          "slightly negative",
          "Neutral",
          "slightly negative",
          "positive",
          "positive",
          "slightly positive",
          "negative",
          "Neutral",
          "negative",
          "positive",
          "positive",
          "positive",
          "slightly positive",
          "slightly positive",
          "slightly negative",
          "negative",
          "negative",
          "Neutral",
          "slightly positive",
          "slightly positive",
          "negative",
          "slightly positive",
          "slightly positive",
          "very positive",
          "slightly positive",
          "slightly positive",
          "very negative",
          "negative",
          "slightly negative",
          "very negative",
          "negative",
          "negative",
          "slightly positive",
          "negative",
          "Neutral",
          "negative",
          "slightly positive",
          "negative",
          "negative",
          "negative",
          "negative",
          "negative",
          "positive",
          "very positive",
          "very positive",
          "slightly negative",
          "negative",
          "positive",
          "slightly negative",
          "very negative",
          "negative",
          "negative",
          "positive",
          "positive",
          "slightly positive",
          "slightly negative",
          "very negative",
          "negative",
          "positive",
          "slightly positive",
          "positive",
          "slightly negative",
          "slightly positive",
          "very negative",
          "very positive",
          "slightly negative",
          "very negative",
          "very negative",
          "very negative",
          "Neutral",
          "negative",
          "negative",
          "very negative",
          "very negative",
          "slightly negative",
          "negative",
          "very negative",
          "negative",
          "negative",
          "negative",
          "very negative",
          "negative",
          "slightly positive",
          "very negative",
          "very negative",
          "very positive",
          "very positive",
          "very positive",
          "positive",
          "Neutral",
          "slightly positive",
          "negative",
          "slightly negative",
          "slightly negative",
          "negative",
          "negative",
          "very negative",
          "negative",
          "very negative",
          "negative",
          "negative",
          "Neutral",
          "very negative",
          "Neutral",
          "negative",
          "slightly positive",
          "very negative",
          "very negative",
          "positive",
          "positive",
          "negative",
          "negative",
          "Neutral",
          "very negative",
          "slightly negative",
          "negative",
          "negative",
          "Neutral",
          "slightly positive",
          "Neutral",
          "negative",
          "negative",
          "slightly negative",
          "slightly negative",
          "negative",
          "slightly negative",
          "negative",
          "slightly negative",
          "negative",
          "slightly negative",
          "very negative",
          "slightly negative",
          "negative",
          "Neutral",
          "negative",
          "negative",
          "Neutral",
          "Neutral",
          "slightly negative",
          "very positive",
          "Neutral",
          "slightly positive",
          "Neutral",
          "positive",
          "slightly positive",
          "positive",
          "positive",
          "positive",
          "very positive",
          "positive",
          "Neutral",
          "positive",
          "positive",
          "very positive",
          "Neutral",
          "positive",
          "very positive",
          "positive",
          "very positive",
          "slightly positive",
          "slightly positive",
          "positive",
          "negative",
          "very positive",
          "negative",
          "positive",
          "Neutral",
          "Neutral",
          "very negative",
          "very positive",
          "positive",
          "positive",
          "positive",
          "very positive",
          "very positive",
          "Neutral",
          "positive",
          "Neutral",
          "Neutral",
          "very positive",
          "positive",
          "very positive",
          "Neutral",
          "positive",
          "very positive",
          "slightly positive",
          "very positive",
          "slightly positive",
          "slightly positive",
          "slightly positive",
          "slightly negative",
          "Neutral",
          "slightly positive",
          "Neutral",
          "positive",
          "slightly negative",
          "Neutral",
          "negative",
          "negative",
          "Neutral",
          "positive",
          "positive",
          "slightly negative",
          "positive",
          "Neutral",
          "positive",
          "slightly negative",
          "slightly negative",
          "Neutral",
          "positive",
          "positive",
          "positive",
          "positive",
          "positive",
          "positive",
          "Neutral",
          "very positive",
          "positive",
          "slightly positive",
          "slightly positive",
          "slightly positive",
          "slightly positive",
          "slightly negative",
          "slightly positive",
          "slightly negative",
          "Neutral",
          "negative",
          "slightly negative",
          "slightly negative",
          "negative",
          "slightly negative",
          "negative",
          "very positive",
          "slightly positive",
          "slightly positive",
          "Neutral",
          "negative",
          "negative",
          "slightly negative",
          "Neutral",
          "positive",
          "very positive",
          "slightly negative",
          "negative",
          "slightly negative",
          "negative",
          "Neutral",
          "Neutral",
          "Neutral",
          "negative",
          "Neutral",
          "negative",
          "negative",
          "positive",
          "slightly negative",
          "negative",
          "slightly negative",
          "negative",
          "negative",
          "slightly negative",
          "very negative",
          "negative",
          "slightly positive",
          "negative",
          "negative",
          "slightly negative",
          "negative",
          "positive",
          "negative",
          "negative",
          "very negative",
          "slightly positive",
          "slightly positive",
          "slightly negative",
          "slightly negative",
          "slightly positive",
          "very negative",
          "negative",
          "slightly negative",
          "negative",
          "negative",
          "positive",
          "positive",
          "slightly positive",
          "slightly negative",
          "negative",
          "slightly positive",
          "slightly positive",
          "slightly negative",
          "Neutral",
          "slightly positive",
          "Neutral",
          "slightly positive",
          "positive",
          "slightly negative",
          "negative",
          "slightly negative",
          "slightly positive",
          "Neutral",
          "slightly positive",
          "slightly positive"
         ],
         "xaxis": "x",
         "y": [
          1,
          1,
          1,
          1,
          1,
          1,
          1,
          1,
          1,
          1,
          1,
          1,
          1,
          1,
          1,
          1,
          1,
          1,
          1,
          1,
          1,
          1,
          1,
          1,
          1,
          1,
          1,
          1,
          1,
          1,
          1,
          1,
          1,
          1,
          1,
          1,
          1,
          1,
          1,
          1,
          1,
          1,
          1,
          1,
          1,
          1,
          1,
          1,
          1,
          1,
          1,
          1,
          1,
          1,
          1,
          1,
          1,
          1,
          1,
          1,
          1,
          1,
          1,
          1,
          1,
          1,
          1,
          1,
          1,
          1,
          1,
          1,
          1,
          1,
          1,
          1,
          1,
          1,
          1,
          1,
          1,
          1,
          1,
          1,
          1,
          1,
          1,
          1,
          1,
          1,
          1,
          1,
          1,
          1,
          1,
          1,
          1,
          1,
          1,
          1,
          1,
          1,
          1,
          1,
          1,
          1,
          1,
          1,
          1,
          1,
          1,
          1,
          1,
          1,
          1,
          1,
          1,
          1,
          1,
          1,
          1,
          1,
          1,
          1,
          1,
          1,
          1,
          1,
          1,
          1,
          1,
          1,
          1,
          1,
          1,
          1,
          1,
          1,
          1,
          1,
          1,
          1,
          1,
          1,
          1,
          1,
          1,
          1,
          1,
          1,
          1,
          1,
          1,
          1,
          1,
          1,
          1,
          1,
          1,
          1,
          1,
          1,
          1,
          1,
          1,
          1,
          1,
          1,
          1,
          1,
          1,
          1,
          1,
          1,
          1,
          1,
          1,
          1,
          1,
          1,
          1,
          1,
          1,
          1,
          1,
          1,
          1,
          1,
          1,
          1,
          1,
          1,
          1,
          1,
          1,
          1,
          1,
          1,
          1,
          1,
          1,
          1,
          1,
          1,
          1,
          1,
          1,
          1,
          1,
          1,
          1,
          1,
          1,
          1,
          1,
          1,
          1,
          1,
          1,
          1,
          1,
          1,
          1,
          1,
          1,
          1,
          1,
          1,
          1,
          1,
          1,
          1,
          1,
          1,
          1,
          1,
          1,
          1,
          1,
          1,
          1,
          1,
          1,
          1,
          1,
          1,
          1,
          1,
          1,
          1,
          1,
          1,
          1,
          1,
          1,
          1,
          1,
          1,
          1,
          1,
          1,
          1,
          1,
          1,
          1,
          1,
          1,
          1,
          1,
          1,
          1,
          1,
          1,
          1,
          1,
          1,
          1,
          1,
          1,
          1,
          1,
          1,
          1,
          1,
          1,
          1,
          1,
          1,
          1,
          1,
          1,
          1,
          1,
          1,
          1,
          1,
          1,
          1,
          1,
          1,
          1,
          1,
          1,
          1,
          1,
          1,
          1,
          1,
          1,
          1,
          1,
          1,
          1,
          1,
          1,
          1,
          1,
          1,
          1,
          1,
          1,
          1,
          1,
          1,
          1,
          1,
          1,
          1,
          1,
          1,
          1,
          1,
          1,
          1,
          1,
          1,
          1,
          1,
          1,
          1,
          1,
          1,
          1,
          1,
          1,
          1,
          1,
          1,
          1,
          1,
          1,
          1,
          1,
          1,
          1,
          1,
          1,
          1,
          1,
          1,
          1,
          1,
          1,
          1,
          1,
          1,
          1,
          1,
          1,
          1,
          1,
          1,
          1,
          1,
          1,
          1,
          1,
          1,
          1,
          1,
          1,
          1,
          1,
          1,
          1,
          1,
          1,
          1,
          1,
          1,
          1,
          1,
          1,
          1,
          1,
          1,
          1,
          1,
          1,
          1,
          1,
          1,
          1,
          1,
          1,
          1,
          1,
          1,
          1,
          1,
          1,
          1,
          1,
          1,
          1,
          1,
          1,
          1,
          1,
          1,
          1,
          1,
          1,
          1,
          1,
          1,
          1,
          1,
          1,
          1,
          1,
          1,
          1,
          1,
          1,
          1,
          1,
          1,
          1,
          1,
          1,
          1,
          1,
          1,
          1,
          1,
          1,
          1,
          1,
          1,
          1,
          1,
          1,
          1,
          1,
          1,
          1,
          1,
          1,
          1,
          1,
          1,
          1,
          1,
          1,
          1,
          1,
          1,
          1,
          1,
          1,
          1,
          1,
          1,
          1,
          1,
          1,
          1,
          1,
          1,
          1,
          1,
          1,
          1,
          1,
          1,
          1,
          1,
          1,
          1,
          1,
          1,
          1,
          1,
          1,
          1,
          1,
          1,
          1,
          1,
          1,
          1,
          1,
          1,
          1,
          1,
          1,
          1,
          1,
          1,
          1,
          1,
          1,
          1,
          1,
          1,
          1,
          1,
          1,
          1,
          1,
          1,
          1,
          1,
          1,
          1,
          1,
          1,
          1,
          1,
          1,
          1,
          1,
          1,
          1,
          1,
          1,
          1,
          1,
          1,
          1,
          1,
          1,
          1,
          1,
          1,
          1,
          1,
          1,
          1,
          1,
          1,
          1,
          1,
          1,
          1,
          1,
          1,
          1,
          1,
          1,
          1,
          1,
          1,
          1,
          1,
          1,
          1,
          1,
          1,
          1,
          1,
          1,
          1,
          1,
          1,
          1,
          1,
          1,
          1,
          1,
          1,
          1,
          1,
          1,
          1,
          1,
          1,
          1,
          1,
          1,
          1,
          1,
          1,
          1,
          1,
          1,
          1,
          1,
          1,
          1,
          1,
          1,
          1,
          1,
          1,
          1,
          1,
          1,
          1,
          1,
          1,
          1,
          1,
          1,
          1,
          1,
          1,
          1,
          1,
          1,
          1,
          1,
          1,
          1,
          1,
          1,
          1,
          1,
          1,
          1,
          1,
          1,
          1,
          1,
          1,
          1,
          1,
          1,
          1,
          1,
          1,
          1,
          1,
          1,
          1,
          1,
          1,
          1,
          1,
          1,
          1,
          1,
          1,
          1,
          1,
          1,
          1,
          1,
          1,
          1,
          1,
          1,
          1,
          1,
          1,
          1,
          1,
          1,
          1,
          1,
          1,
          1,
          1,
          1,
          1,
          1,
          1,
          1,
          1,
          1,
          1,
          1,
          1,
          1
         ],
         "yaxis": "y"
        },
        {
         "alignmentgroup": "True",
         "hovertemplate": "preds_7=%{x}<br>count=%{y}<extra></extra>",
         "legendgroup": "",
         "marker": {
          "color": "#636efa",
          "pattern": {
           "shape": ""
          }
         },
         "name": "",
         "offsetgroup": "",
         "orientation": "v",
         "showlegend": false,
         "textposition": "auto",
         "type": "bar",
         "x": [
          "slightly positive",
          "slightly negative",
          "very positive",
          "very positive",
          "Neutral",
          "positive",
          "slightly negative",
          "very positive",
          "very positive",
          "positive",
          "positive",
          "slightly negative",
          "very positive",
          "positive",
          "slightly negative",
          "slightly negative",
          "positive",
          "Neutral",
          "positive",
          "slightly positive",
          "positive",
          "slightly positive",
          "Neutral",
          "slightly negative",
          "positive",
          "Neutral",
          "Neutral",
          "slightly positive",
          "positive",
          "very positive",
          "slightly negative",
          "slightly positive",
          "slightly negative",
          "slightly positive",
          "positive",
          "slightly positive",
          "positive",
          "positive",
          "very positive",
          "very positive",
          "positive",
          "positive",
          "very positive",
          "very positive",
          "slightly positive",
          "Neutral",
          "positive",
          "very positive",
          "positive",
          "Neutral",
          "very positive",
          "slightly positive",
          "very positive",
          "positive",
          "very positive",
          "positive",
          "very positive",
          "slightly positive",
          "very positive",
          "Neutral",
          "positive",
          "slightly positive",
          "positive",
          "slightly positive",
          "very positive",
          "very positive",
          "very positive",
          "positive",
          "very positive",
          "very positive",
          "positive",
          "very positive",
          "positive",
          "positive",
          "very positive",
          "very positive",
          "slightly positive",
          "very positive",
          "positive",
          "positive",
          "very positive",
          "very positive",
          "very positive",
          "positive",
          "very positive",
          "Neutral",
          "positive",
          "slightly positive",
          "slightly negative",
          "slightly positive",
          "slightly positive",
          "positive",
          "positive",
          "positive",
          "slightly positive",
          "slightly positive",
          "slightly positive",
          "positive",
          "positive",
          "positive",
          "positive",
          "Neutral",
          "very positive",
          "positive",
          "very positive",
          "positive",
          "positive",
          "very positive",
          "positive",
          "very positive",
          "very positive",
          "slightly positive",
          "very positive",
          "very positive",
          "very positive",
          "Neutral",
          "very positive",
          "very positive",
          "positive",
          "positive",
          "very positive",
          "negative",
          "slightly positive",
          "slightly positive",
          "positive",
          "positive",
          "Neutral",
          "positive",
          "slightly negative",
          "very positive",
          "Neutral",
          "positive",
          "very positive",
          "negative",
          "slightly negative",
          "Neutral",
          "slightly negative",
          "Neutral",
          "negative",
          "Neutral",
          "positive",
          "slightly negative",
          "slightly positive",
          "slightly negative",
          "slightly negative",
          "slightly negative",
          "slightly negative",
          "slightly negative",
          "positive",
          "positive",
          "negative",
          "slightly positive",
          "positive",
          "slightly positive",
          "slightly negative",
          "positive",
          "negative",
          "slightly negative",
          "positive",
          "negative",
          "slightly negative",
          "negative",
          "Neutral",
          "positive",
          "positive",
          "positive",
          "very positive",
          "very positive",
          "slightly positive",
          "slightly positive",
          "slightly positive",
          "very positive",
          "positive",
          "very positive",
          "positive",
          "positive",
          "very positive",
          "positive",
          "positive",
          "slightly positive",
          "positive",
          "very positive",
          "very positive",
          "positive",
          "positive",
          "slightly positive",
          "slightly positive",
          "negative",
          "positive",
          "slightly positive",
          "very positive",
          "slightly positive",
          "slightly positive",
          "slightly positive",
          "positive",
          "positive",
          "very positive",
          "slightly positive",
          "slightly positive",
          "very positive",
          "positive",
          "Neutral",
          "Neutral",
          "slightly negative",
          "Neutral",
          "Neutral",
          "Neutral",
          "Neutral",
          "Neutral",
          "slightly negative",
          "slightly positive",
          "positive",
          "positive",
          "very positive",
          "positive",
          "positive",
          "slightly positive",
          "slightly positive",
          "very positive",
          "very positive",
          "very positive",
          "positive",
          "negative",
          "positive",
          "very positive",
          "very positive",
          "positive",
          "positive",
          "very positive",
          "positive",
          "slightly positive",
          "slightly positive",
          "positive",
          "positive",
          "Neutral",
          "positive",
          "positive",
          "positive",
          "Neutral",
          "positive",
          "very positive",
          "positive",
          "Neutral",
          "slightly positive",
          "slightly positive",
          "slightly positive",
          "positive",
          "positive",
          "slightly positive",
          "positive",
          "Neutral",
          "slightly positive",
          "positive",
          "positive",
          "slightly positive",
          "slightly positive",
          "positive",
          "very positive",
          "positive",
          "positive",
          "positive",
          "positive",
          "positive",
          "slightly negative",
          "slightly positive",
          "slightly positive",
          "slightly positive",
          "slightly positive",
          "very positive",
          "Neutral",
          "slightly positive",
          "positive",
          "slightly positive",
          "very positive",
          "Neutral",
          "very positive",
          "very positive",
          "positive",
          "very positive",
          "very positive",
          "slightly positive",
          "slightly positive",
          "very positive",
          "very positive",
          "very positive",
          "very positive",
          "positive",
          "slightly positive",
          "positive",
          "positive",
          "very positive",
          "negative",
          "negative",
          "Neutral",
          "negative",
          "Neutral",
          "slightly positive",
          "very positive",
          "slightly positive",
          "slightly negative",
          "slightly positive",
          "Neutral",
          "positive",
          "positive",
          "very positive",
          "positive",
          "slightly positive",
          "very positive",
          "Neutral",
          "slightly positive",
          "very positive",
          "positive",
          "positive",
          "positive",
          "Neutral",
          "slightly positive",
          "very positive",
          "slightly positive",
          "positive",
          "positive",
          "positive",
          "positive",
          "slightly negative",
          "positive",
          "positive",
          "positive",
          "very positive",
          "slightly positive",
          "slightly positive",
          "very positive",
          "positive",
          "positive",
          "Neutral",
          "very positive",
          "slightly negative",
          "slightly negative",
          "slightly positive",
          "positive",
          "slightly positive",
          "Neutral",
          "very positive",
          "slightly positive",
          "slightly positive",
          "slightly negative",
          "slightly negative",
          "very positive",
          "negative",
          "negative",
          "positive",
          "positive",
          "slightly positive",
          "negative",
          "Neutral",
          "very positive",
          "very positive",
          "slightly positive",
          "Neutral",
          "slightly positive",
          "Neutral",
          "slightly positive",
          "positive",
          "very positive",
          "very positive",
          "positive",
          "positive",
          "positive",
          "positive",
          "very positive",
          "Neutral",
          "Neutral",
          "slightly positive",
          "very positive",
          "very positive",
          "positive",
          "very positive",
          "slightly negative",
          "positive",
          "slightly positive",
          "Neutral",
          "very positive",
          "slightly positive",
          "slightly positive",
          "positive",
          "slightly negative",
          "positive",
          "positive",
          "positive",
          "very positive",
          "positive",
          "very positive",
          "positive",
          "positive",
          "Neutral",
          "very positive",
          "very positive",
          "very positive",
          "very positive",
          "positive",
          "Neutral",
          "Neutral",
          "Neutral",
          "slightly negative",
          "very positive",
          "very positive",
          "Neutral",
          "very positive",
          "very positive",
          "very positive",
          "very positive",
          "very positive",
          "Neutral",
          "positive",
          "slightly positive",
          "positive",
          "Neutral",
          "slightly positive",
          "positive",
          "slightly negative",
          "positive",
          "slightly positive",
          "positive",
          "positive",
          "positive",
          "slightly negative",
          "positive",
          "positive",
          "very positive",
          "positive",
          "very positive",
          "slightly positive",
          "positive",
          "positive",
          "positive",
          "slightly positive",
          "positive",
          "slightly positive",
          "very positive",
          "slightly positive",
          "positive",
          "slightly positive",
          "positive",
          "positive",
          "very positive",
          "positive",
          "very positive",
          "very positive",
          "very positive",
          "negative",
          "very positive",
          "positive",
          "slightly negative",
          "slightly negative",
          "very positive",
          "positive",
          "slightly negative",
          "slightly negative",
          "positive",
          "very positive",
          "slightly positive",
          "Neutral",
          "slightly negative",
          "Neutral",
          "very positive",
          "Neutral",
          "very positive",
          "slightly positive",
          "very positive",
          "slightly positive",
          "slightly positive",
          "very positive",
          "very positive",
          "very positive",
          "positive",
          "very positive",
          "positive",
          "slightly positive",
          "slightly positive",
          "very positive",
          "slightly positive",
          "slightly positive",
          "negative",
          "positive",
          "positive",
          "positive",
          "slightly positive",
          "very positive",
          "positive",
          "slightly positive",
          "slightly positive",
          "positive",
          "slightly positive",
          "slightly positive",
          "very positive",
          "very positive",
          "slightly positive",
          "slightly positive",
          "slightly positive",
          "negative",
          "slightly positive",
          "positive",
          "slightly positive",
          "positive",
          "very positive",
          "positive",
          "negative",
          "Neutral",
          "slightly positive",
          "slightly positive",
          "Neutral",
          "Neutral",
          "Neutral",
          "positive",
          "slightly positive",
          "positive",
          "positive",
          "slightly positive",
          "positive",
          "slightly positive",
          "slightly positive",
          "positive",
          "positive",
          "positive",
          "slightly positive",
          "very positive",
          "very positive",
          "very positive",
          "slightly positive",
          "very positive",
          "slightly positive",
          "slightly positive",
          "very positive",
          "very positive",
          "positive",
          "very positive",
          "slightly positive",
          "positive",
          "very positive",
          "very positive",
          "positive",
          "very positive",
          "very positive",
          "very positive",
          "very positive",
          "very positive",
          "very positive",
          "positive",
          "very positive",
          "positive",
          "slightly positive",
          "slightly positive",
          "positive",
          "positive",
          "positive",
          "very positive",
          "positive",
          "very positive",
          "very positive",
          "very positive",
          "very positive",
          "slightly positive",
          "positive",
          "slightly positive",
          "positive",
          "positive",
          "very positive",
          "very positive",
          "positive",
          "positive",
          "very positive",
          "very positive",
          "very positive",
          "positive",
          "slightly positive",
          "positive",
          "slightly positive",
          "positive",
          "slightly positive",
          "very positive",
          "very positive",
          "positive",
          "slightly positive",
          "slightly positive",
          "slightly positive",
          "slightly positive",
          "very positive",
          "very positive",
          "positive",
          "positive",
          "Neutral",
          "very positive",
          "positive",
          "slightly positive",
          "positive",
          "positive",
          "positive",
          "positive",
          "positive",
          "positive",
          "positive",
          "slightly positive",
          "very positive",
          "very positive",
          "very positive",
          "very positive",
          "very positive",
          "slightly positive",
          "positive",
          "positive",
          "positive",
          "positive",
          "slightly positive",
          "very positive",
          "positive",
          "slightly positive",
          "slightly negative",
          "Neutral",
          "very positive",
          "slightly positive",
          "very positive",
          "positive",
          "slightly positive",
          "Neutral",
          "positive",
          "positive",
          "very positive",
          "very positive",
          "slightly positive",
          "positive",
          "slightly negative",
          "slightly positive",
          "positive",
          "positive",
          "slightly positive",
          "Neutral",
          "positive",
          "slightly positive",
          "very positive",
          "positive",
          "slightly positive",
          "very positive",
          "Neutral",
          "very positive",
          "positive",
          "slightly positive",
          "slightly positive",
          "positive",
          "very positive",
          "slightly positive",
          "Neutral",
          "positive",
          "positive",
          "very positive",
          "slightly positive",
          "Neutral",
          "Neutral",
          "very positive",
          "positive",
          "slightly positive",
          "slightly positive",
          "positive",
          "negative",
          "Neutral",
          "slightly positive",
          "Neutral",
          "slightly positive",
          "very positive",
          "very positive",
          "very positive",
          "positive",
          "slightly positive",
          "positive",
          "slightly positive",
          "slightly positive",
          "positive",
          "positive",
          "slightly positive",
          "positive",
          "positive",
          "Neutral",
          "slightly negative",
          "Neutral",
          "positive",
          "positive",
          "very positive",
          "very positive"
         ],
         "xaxis": "x2",
         "y": [
          1,
          1,
          1,
          1,
          1,
          1,
          1,
          1,
          1,
          1,
          1,
          1,
          1,
          1,
          1,
          1,
          1,
          1,
          1,
          1,
          1,
          1,
          1,
          1,
          1,
          1,
          1,
          1,
          1,
          1,
          1,
          1,
          1,
          1,
          1,
          1,
          1,
          1,
          1,
          1,
          1,
          1,
          1,
          1,
          1,
          1,
          1,
          1,
          1,
          1,
          1,
          1,
          1,
          1,
          1,
          1,
          1,
          1,
          1,
          1,
          1,
          1,
          1,
          1,
          1,
          1,
          1,
          1,
          1,
          1,
          1,
          1,
          1,
          1,
          1,
          1,
          1,
          1,
          1,
          1,
          1,
          1,
          1,
          1,
          1,
          1,
          1,
          1,
          1,
          1,
          1,
          1,
          1,
          1,
          1,
          1,
          1,
          1,
          1,
          1,
          1,
          1,
          1,
          1,
          1,
          1,
          1,
          1,
          1,
          1,
          1,
          1,
          1,
          1,
          1,
          1,
          1,
          1,
          1,
          1,
          1,
          1,
          1,
          1,
          1,
          1,
          1,
          1,
          1,
          1,
          1,
          1,
          1,
          1,
          1,
          1,
          1,
          1,
          1,
          1,
          1,
          1,
          1,
          1,
          1,
          1,
          1,
          1,
          1,
          1,
          1,
          1,
          1,
          1,
          1,
          1,
          1,
          1,
          1,
          1,
          1,
          1,
          1,
          1,
          1,
          1,
          1,
          1,
          1,
          1,
          1,
          1,
          1,
          1,
          1,
          1,
          1,
          1,
          1,
          1,
          1,
          1,
          1,
          1,
          1,
          1,
          1,
          1,
          1,
          1,
          1,
          1,
          1,
          1,
          1,
          1,
          1,
          1,
          1,
          1,
          1,
          1,
          1,
          1,
          1,
          1,
          1,
          1,
          1,
          1,
          1,
          1,
          1,
          1,
          1,
          1,
          1,
          1,
          1,
          1,
          1,
          1,
          1,
          1,
          1,
          1,
          1,
          1,
          1,
          1,
          1,
          1,
          1,
          1,
          1,
          1,
          1,
          1,
          1,
          1,
          1,
          1,
          1,
          1,
          1,
          1,
          1,
          1,
          1,
          1,
          1,
          1,
          1,
          1,
          1,
          1,
          1,
          1,
          1,
          1,
          1,
          1,
          1,
          1,
          1,
          1,
          1,
          1,
          1,
          1,
          1,
          1,
          1,
          1,
          1,
          1,
          1,
          1,
          1,
          1,
          1,
          1,
          1,
          1,
          1,
          1,
          1,
          1,
          1,
          1,
          1,
          1,
          1,
          1,
          1,
          1,
          1,
          1,
          1,
          1,
          1,
          1,
          1,
          1,
          1,
          1,
          1,
          1,
          1,
          1,
          1,
          1,
          1,
          1,
          1,
          1,
          1,
          1,
          1,
          1,
          1,
          1,
          1,
          1,
          1,
          1,
          1,
          1,
          1,
          1,
          1,
          1,
          1,
          1,
          1,
          1,
          1,
          1,
          1,
          1,
          1,
          1,
          1,
          1,
          1,
          1,
          1,
          1,
          1,
          1,
          1,
          1,
          1,
          1,
          1,
          1,
          1,
          1,
          1,
          1,
          1,
          1,
          1,
          1,
          1,
          1,
          1,
          1,
          1,
          1,
          1,
          1,
          1,
          1,
          1,
          1,
          1,
          1,
          1,
          1,
          1,
          1,
          1,
          1,
          1,
          1,
          1,
          1,
          1,
          1,
          1,
          1,
          1,
          1,
          1,
          1,
          1,
          1,
          1,
          1,
          1,
          1,
          1,
          1,
          1,
          1,
          1,
          1,
          1,
          1,
          1,
          1,
          1,
          1,
          1,
          1,
          1,
          1,
          1,
          1,
          1,
          1,
          1,
          1,
          1,
          1,
          1,
          1,
          1,
          1,
          1,
          1,
          1,
          1,
          1,
          1,
          1,
          1,
          1,
          1,
          1,
          1,
          1,
          1,
          1,
          1,
          1,
          1,
          1,
          1,
          1,
          1,
          1,
          1,
          1,
          1,
          1,
          1,
          1,
          1,
          1,
          1,
          1,
          1,
          1,
          1,
          1,
          1,
          1,
          1,
          1,
          1,
          1,
          1,
          1,
          1,
          1,
          1,
          1,
          1,
          1,
          1,
          1,
          1,
          1,
          1,
          1,
          1,
          1,
          1,
          1,
          1,
          1,
          1,
          1,
          1,
          1,
          1,
          1,
          1,
          1,
          1,
          1,
          1,
          1,
          1,
          1,
          1,
          1,
          1,
          1,
          1,
          1,
          1,
          1,
          1,
          1,
          1,
          1,
          1,
          1,
          1,
          1,
          1,
          1,
          1,
          1,
          1,
          1,
          1,
          1,
          1,
          1,
          1,
          1,
          1,
          1,
          1,
          1,
          1,
          1,
          1,
          1,
          1,
          1,
          1,
          1,
          1,
          1,
          1,
          1,
          1,
          1,
          1,
          1,
          1,
          1,
          1,
          1,
          1,
          1,
          1,
          1,
          1,
          1,
          1,
          1,
          1,
          1,
          1,
          1,
          1,
          1,
          1,
          1,
          1,
          1,
          1,
          1,
          1,
          1,
          1,
          1,
          1,
          1,
          1,
          1,
          1,
          1,
          1,
          1,
          1,
          1,
          1,
          1,
          1,
          1,
          1,
          1,
          1,
          1,
          1,
          1,
          1,
          1,
          1,
          1,
          1,
          1,
          1,
          1,
          1,
          1,
          1,
          1,
          1,
          1,
          1,
          1,
          1,
          1,
          1,
          1,
          1,
          1,
          1,
          1,
          1,
          1,
          1,
          1,
          1,
          1,
          1,
          1,
          1,
          1,
          1,
          1,
          1,
          1,
          1,
          1,
          1,
          1,
          1,
          1,
          1,
          1,
          1,
          1,
          1,
          1,
          1,
          1,
          1,
          1,
          1,
          1,
          1,
          1,
          1,
          1,
          1,
          1,
          1,
          1,
          1,
          1,
          1,
          1,
          1,
          1,
          1,
          1,
          1,
          1,
          1,
          1,
          1,
          1,
          1,
          1,
          1,
          1
         ],
         "yaxis": "y2"
        }
       ],
       "layout": {
        "annotations": [
         {
          "font": {
           "size": 16
          },
          "showarrow": false,
          "text": "Gold",
          "x": 0.225,
          "xanchor": "center",
          "xref": "paper",
          "y": 1,
          "yanchor": "bottom",
          "yref": "paper"
         },
         {
          "font": {
           "size": 16
          },
          "showarrow": false,
          "text": "MIM",
          "x": 0.775,
          "xanchor": "center",
          "xref": "paper",
          "y": 1,
          "yanchor": "bottom",
          "yref": "paper"
         }
        ],
        "template": {
         "data": {
          "bar": [
           {
            "error_x": {
             "color": "#2a3f5f"
            },
            "error_y": {
             "color": "#2a3f5f"
            },
            "marker": {
             "line": {
              "color": "#E5ECF6",
              "width": 0.5
             },
             "pattern": {
              "fillmode": "overlay",
              "size": 10,
              "solidity": 0.2
             }
            },
            "type": "bar"
           }
          ],
          "barpolar": [
           {
            "marker": {
             "line": {
              "color": "#E5ECF6",
              "width": 0.5
             },
             "pattern": {
              "fillmode": "overlay",
              "size": 10,
              "solidity": 0.2
             }
            },
            "type": "barpolar"
           }
          ],
          "carpet": [
           {
            "aaxis": {
             "endlinecolor": "#2a3f5f",
             "gridcolor": "white",
             "linecolor": "white",
             "minorgridcolor": "white",
             "startlinecolor": "#2a3f5f"
            },
            "baxis": {
             "endlinecolor": "#2a3f5f",
             "gridcolor": "white",
             "linecolor": "white",
             "minorgridcolor": "white",
             "startlinecolor": "#2a3f5f"
            },
            "type": "carpet"
           }
          ],
          "choropleth": [
           {
            "colorbar": {
             "outlinewidth": 0,
             "ticks": ""
            },
            "type": "choropleth"
           }
          ],
          "contour": [
           {
            "colorbar": {
             "outlinewidth": 0,
             "ticks": ""
            },
            "colorscale": [
             [
              0,
              "#0d0887"
             ],
             [
              0.1111111111111111,
              "#46039f"
             ],
             [
              0.2222222222222222,
              "#7201a8"
             ],
             [
              0.3333333333333333,
              "#9c179e"
             ],
             [
              0.4444444444444444,
              "#bd3786"
             ],
             [
              0.5555555555555556,
              "#d8576b"
             ],
             [
              0.6666666666666666,
              "#ed7953"
             ],
             [
              0.7777777777777778,
              "#fb9f3a"
             ],
             [
              0.8888888888888888,
              "#fdca26"
             ],
             [
              1,
              "#f0f921"
             ]
            ],
            "type": "contour"
           }
          ],
          "contourcarpet": [
           {
            "colorbar": {
             "outlinewidth": 0,
             "ticks": ""
            },
            "type": "contourcarpet"
           }
          ],
          "heatmap": [
           {
            "colorbar": {
             "outlinewidth": 0,
             "ticks": ""
            },
            "colorscale": [
             [
              0,
              "#0d0887"
             ],
             [
              0.1111111111111111,
              "#46039f"
             ],
             [
              0.2222222222222222,
              "#7201a8"
             ],
             [
              0.3333333333333333,
              "#9c179e"
             ],
             [
              0.4444444444444444,
              "#bd3786"
             ],
             [
              0.5555555555555556,
              "#d8576b"
             ],
             [
              0.6666666666666666,
              "#ed7953"
             ],
             [
              0.7777777777777778,
              "#fb9f3a"
             ],
             [
              0.8888888888888888,
              "#fdca26"
             ],
             [
              1,
              "#f0f921"
             ]
            ],
            "type": "heatmap"
           }
          ],
          "heatmapgl": [
           {
            "colorbar": {
             "outlinewidth": 0,
             "ticks": ""
            },
            "colorscale": [
             [
              0,
              "#0d0887"
             ],
             [
              0.1111111111111111,
              "#46039f"
             ],
             [
              0.2222222222222222,
              "#7201a8"
             ],
             [
              0.3333333333333333,
              "#9c179e"
             ],
             [
              0.4444444444444444,
              "#bd3786"
             ],
             [
              0.5555555555555556,
              "#d8576b"
             ],
             [
              0.6666666666666666,
              "#ed7953"
             ],
             [
              0.7777777777777778,
              "#fb9f3a"
             ],
             [
              0.8888888888888888,
              "#fdca26"
             ],
             [
              1,
              "#f0f921"
             ]
            ],
            "type": "heatmapgl"
           }
          ],
          "histogram": [
           {
            "marker": {
             "pattern": {
              "fillmode": "overlay",
              "size": 10,
              "solidity": 0.2
             }
            },
            "type": "histogram"
           }
          ],
          "histogram2d": [
           {
            "colorbar": {
             "outlinewidth": 0,
             "ticks": ""
            },
            "colorscale": [
             [
              0,
              "#0d0887"
             ],
             [
              0.1111111111111111,
              "#46039f"
             ],
             [
              0.2222222222222222,
              "#7201a8"
             ],
             [
              0.3333333333333333,
              "#9c179e"
             ],
             [
              0.4444444444444444,
              "#bd3786"
             ],
             [
              0.5555555555555556,
              "#d8576b"
             ],
             [
              0.6666666666666666,
              "#ed7953"
             ],
             [
              0.7777777777777778,
              "#fb9f3a"
             ],
             [
              0.8888888888888888,
              "#fdca26"
             ],
             [
              1,
              "#f0f921"
             ]
            ],
            "type": "histogram2d"
           }
          ],
          "histogram2dcontour": [
           {
            "colorbar": {
             "outlinewidth": 0,
             "ticks": ""
            },
            "colorscale": [
             [
              0,
              "#0d0887"
             ],
             [
              0.1111111111111111,
              "#46039f"
             ],
             [
              0.2222222222222222,
              "#7201a8"
             ],
             [
              0.3333333333333333,
              "#9c179e"
             ],
             [
              0.4444444444444444,
              "#bd3786"
             ],
             [
              0.5555555555555556,
              "#d8576b"
             ],
             [
              0.6666666666666666,
              "#ed7953"
             ],
             [
              0.7777777777777778,
              "#fb9f3a"
             ],
             [
              0.8888888888888888,
              "#fdca26"
             ],
             [
              1,
              "#f0f921"
             ]
            ],
            "type": "histogram2dcontour"
           }
          ],
          "mesh3d": [
           {
            "colorbar": {
             "outlinewidth": 0,
             "ticks": ""
            },
            "type": "mesh3d"
           }
          ],
          "parcoords": [
           {
            "line": {
             "colorbar": {
              "outlinewidth": 0,
              "ticks": ""
             }
            },
            "type": "parcoords"
           }
          ],
          "pie": [
           {
            "automargin": true,
            "type": "pie"
           }
          ],
          "scatter": [
           {
            "fillpattern": {
             "fillmode": "overlay",
             "size": 10,
             "solidity": 0.2
            },
            "type": "scatter"
           }
          ],
          "scatter3d": [
           {
            "line": {
             "colorbar": {
              "outlinewidth": 0,
              "ticks": ""
             }
            },
            "marker": {
             "colorbar": {
              "outlinewidth": 0,
              "ticks": ""
             }
            },
            "type": "scatter3d"
           }
          ],
          "scattercarpet": [
           {
            "marker": {
             "colorbar": {
              "outlinewidth": 0,
              "ticks": ""
             }
            },
            "type": "scattercarpet"
           }
          ],
          "scattergeo": [
           {
            "marker": {
             "colorbar": {
              "outlinewidth": 0,
              "ticks": ""
             }
            },
            "type": "scattergeo"
           }
          ],
          "scattergl": [
           {
            "marker": {
             "colorbar": {
              "outlinewidth": 0,
              "ticks": ""
             }
            },
            "type": "scattergl"
           }
          ],
          "scattermapbox": [
           {
            "marker": {
             "colorbar": {
              "outlinewidth": 0,
              "ticks": ""
             }
            },
            "type": "scattermapbox"
           }
          ],
          "scatterpolar": [
           {
            "marker": {
             "colorbar": {
              "outlinewidth": 0,
              "ticks": ""
             }
            },
            "type": "scatterpolar"
           }
          ],
          "scatterpolargl": [
           {
            "marker": {
             "colorbar": {
              "outlinewidth": 0,
              "ticks": ""
             }
            },
            "type": "scatterpolargl"
           }
          ],
          "scatterternary": [
           {
            "marker": {
             "colorbar": {
              "outlinewidth": 0,
              "ticks": ""
             }
            },
            "type": "scatterternary"
           }
          ],
          "surface": [
           {
            "colorbar": {
             "outlinewidth": 0,
             "ticks": ""
            },
            "colorscale": [
             [
              0,
              "#0d0887"
             ],
             [
              0.1111111111111111,
              "#46039f"
             ],
             [
              0.2222222222222222,
              "#7201a8"
             ],
             [
              0.3333333333333333,
              "#9c179e"
             ],
             [
              0.4444444444444444,
              "#bd3786"
             ],
             [
              0.5555555555555556,
              "#d8576b"
             ],
             [
              0.6666666666666666,
              "#ed7953"
             ],
             [
              0.7777777777777778,
              "#fb9f3a"
             ],
             [
              0.8888888888888888,
              "#fdca26"
             ],
             [
              1,
              "#f0f921"
             ]
            ],
            "type": "surface"
           }
          ],
          "table": [
           {
            "cells": {
             "fill": {
              "color": "#EBF0F8"
             },
             "line": {
              "color": "white"
             }
            },
            "header": {
             "fill": {
              "color": "#C8D4E3"
             },
             "line": {
              "color": "white"
             }
            },
            "type": "table"
           }
          ]
         },
         "layout": {
          "annotationdefaults": {
           "arrowcolor": "#2a3f5f",
           "arrowhead": 0,
           "arrowwidth": 1
          },
          "autotypenumbers": "strict",
          "coloraxis": {
           "colorbar": {
            "outlinewidth": 0,
            "ticks": ""
           }
          },
          "colorscale": {
           "diverging": [
            [
             0,
             "#8e0152"
            ],
            [
             0.1,
             "#c51b7d"
            ],
            [
             0.2,
             "#de77ae"
            ],
            [
             0.3,
             "#f1b6da"
            ],
            [
             0.4,
             "#fde0ef"
            ],
            [
             0.5,
             "#f7f7f7"
            ],
            [
             0.6,
             "#e6f5d0"
            ],
            [
             0.7,
             "#b8e186"
            ],
            [
             0.8,
             "#7fbc41"
            ],
            [
             0.9,
             "#4d9221"
            ],
            [
             1,
             "#276419"
            ]
           ],
           "sequential": [
            [
             0,
             "#0d0887"
            ],
            [
             0.1111111111111111,
             "#46039f"
            ],
            [
             0.2222222222222222,
             "#7201a8"
            ],
            [
             0.3333333333333333,
             "#9c179e"
            ],
            [
             0.4444444444444444,
             "#bd3786"
            ],
            [
             0.5555555555555556,
             "#d8576b"
            ],
            [
             0.6666666666666666,
             "#ed7953"
            ],
            [
             0.7777777777777778,
             "#fb9f3a"
            ],
            [
             0.8888888888888888,
             "#fdca26"
            ],
            [
             1,
             "#f0f921"
            ]
           ],
           "sequentialminus": [
            [
             0,
             "#0d0887"
            ],
            [
             0.1111111111111111,
             "#46039f"
            ],
            [
             0.2222222222222222,
             "#7201a8"
            ],
            [
             0.3333333333333333,
             "#9c179e"
            ],
            [
             0.4444444444444444,
             "#bd3786"
            ],
            [
             0.5555555555555556,
             "#d8576b"
            ],
            [
             0.6666666666666666,
             "#ed7953"
            ],
            [
             0.7777777777777778,
             "#fb9f3a"
            ],
            [
             0.8888888888888888,
             "#fdca26"
            ],
            [
             1,
             "#f0f921"
            ]
           ]
          },
          "colorway": [
           "#636efa",
           "#EF553B",
           "#00cc96",
           "#ab63fa",
           "#FFA15A",
           "#19d3f3",
           "#FF6692",
           "#B6E880",
           "#FF97FF",
           "#FECB52"
          ],
          "font": {
           "color": "#2a3f5f"
          },
          "geo": {
           "bgcolor": "white",
           "lakecolor": "white",
           "landcolor": "#E5ECF6",
           "showlakes": true,
           "showland": true,
           "subunitcolor": "white"
          },
          "hoverlabel": {
           "align": "left"
          },
          "hovermode": "closest",
          "mapbox": {
           "style": "light"
          },
          "paper_bgcolor": "white",
          "plot_bgcolor": "#E5ECF6",
          "polar": {
           "angularaxis": {
            "gridcolor": "white",
            "linecolor": "white",
            "ticks": ""
           },
           "bgcolor": "#E5ECF6",
           "radialaxis": {
            "gridcolor": "white",
            "linecolor": "white",
            "ticks": ""
           }
          },
          "scene": {
           "xaxis": {
            "backgroundcolor": "#E5ECF6",
            "gridcolor": "white",
            "gridwidth": 2,
            "linecolor": "white",
            "showbackground": true,
            "ticks": "",
            "zerolinecolor": "white"
           },
           "yaxis": {
            "backgroundcolor": "#E5ECF6",
            "gridcolor": "white",
            "gridwidth": 2,
            "linecolor": "white",
            "showbackground": true,
            "ticks": "",
            "zerolinecolor": "white"
           },
           "zaxis": {
            "backgroundcolor": "#E5ECF6",
            "gridcolor": "white",
            "gridwidth": 2,
            "linecolor": "white",
            "showbackground": true,
            "ticks": "",
            "zerolinecolor": "white"
           }
          },
          "shapedefaults": {
           "line": {
            "color": "#2a3f5f"
           }
          },
          "ternary": {
           "aaxis": {
            "gridcolor": "white",
            "linecolor": "white",
            "ticks": ""
           },
           "baxis": {
            "gridcolor": "white",
            "linecolor": "white",
            "ticks": ""
           },
           "bgcolor": "#E5ECF6",
           "caxis": {
            "gridcolor": "white",
            "linecolor": "white",
            "ticks": ""
           }
          },
          "title": {
           "x": 0.05
          },
          "xaxis": {
           "automargin": true,
           "gridcolor": "white",
           "linecolor": "white",
           "ticks": "",
           "title": {
            "standoff": 15
           },
           "zerolinecolor": "white",
           "zerolinewidth": 2
          },
          "yaxis": {
           "automargin": true,
           "gridcolor": "white",
           "linecolor": "white",
           "ticks": "",
           "title": {
            "standoff": 15
           },
           "zerolinecolor": "white",
           "zerolinewidth": 2
          }
         }
        },
        "xaxis": {
         "anchor": "y",
         "categoryarray": [
          "very negative",
          "negative",
          "slightly negative",
          "Neutral",
          "slightly positive",
          "positive",
          "very positive"
         ],
         "categoryorder": "array",
         "domain": [
          0,
          0.45
         ]
        },
        "xaxis2": {
         "anchor": "y2",
         "categoryarray": [
          "very negative",
          "negative",
          "slightly negative",
          "Neutral",
          "slightly positive",
          "positive",
          "very positive"
         ],
         "categoryorder": "array",
         "domain": [
          0.55,
          1
         ]
        },
        "yaxis": {
         "anchor": "x",
         "domain": [
          0,
          1
         ]
        },
        "yaxis2": {
         "anchor": "x2",
         "domain": [
          0,
          1
         ]
        }
       }
      },
      "text/html": [
       "<div>                            <div id=\"e09e4f1f-956d-4bf9-b156-bba7855f3114\" class=\"plotly-graph-div\" style=\"height:525px; width:100%;\"></div>            <script type=\"text/javascript\">                require([\"plotly\"], function(Plotly) {                    window.PLOTLYENV=window.PLOTLYENV || {};                                    if (document.getElementById(\"e09e4f1f-956d-4bf9-b156-bba7855f3114\")) {                    Plotly.newPlot(                        \"e09e4f1f-956d-4bf9-b156-bba7855f3114\",                        [{\"alignmentgroup\":\"True\",\"hovertemplate\":\"labels_7=%{x}<br>count=%{y}<extra></extra>\",\"legendgroup\":\"\",\"marker\":{\"color\":\"#636efa\",\"pattern\":{\"shape\":\"\"}},\"name\":\"\",\"offsetgroup\":\"\",\"orientation\":\"v\",\"showlegend\":false,\"textposition\":\"auto\",\"x\":[\"very negative\",\"very negative\",\"slightly negative\",\"positive\",\"very negative\",\"very negative\",\"very negative\",\"very negative\",\"Neutral\",\"slightly positive\",\"slightly positive\",\"very negative\",\"very negative\",\"slightly positive\",\"very negative\",\"negative\",\"negative\",\"very negative\",\"negative\",\"negative\",\"slightly negative\",\"very negative\",\"slightly negative\",\"negative\",\"Neutral\",\"very negative\",\"negative\",\"slightly negative\",\"slightly positive\",\"slightly positive\",\"negative\",\"very negative\",\"negative\",\"very positive\",\"very positive\",\"slightly positive\",\"slightly positive\",\"very positive\",\"very positive\",\"very positive\",\"slightly negative\",\"Neutral\",\"positive\",\"positive\",\"slightly negative\",\"negative\",\"very negative\",\"very negative\",\"very negative\",\"very negative\",\"very positive\",\"slightly negative\",\"positive\",\"positive\",\"slightly positive\",\"slightly positive\",\"positive\",\"very negative\",\"slightly negative\",\"slightly negative\",\"very positive\",\"positive\",\"slightly negative\",\"very negative\",\"very positive\",\"very positive\",\"very positive\",\"Neutral\",\"very positive\",\"positive\",\"slightly negative\",\"positive\",\"Neutral\",\"slightly positive\",\"slightly positive\",\"positive\",\"slightly negative\",\"positive\",\"slightly negative\",\"slightly negative\",\"positive\",\"slightly positive\",\"positive\",\"positive\",\"positive\",\"slightly negative\",\"slightly negative\",\"Neutral\",\"slightly negative\",\"slightly negative\",\"Neutral\",\"slightly positive\",\"slightly negative\",\"slightly negative\",\"Neutral\",\"Neutral\",\"Neutral\",\"slightly negative\",\"slightly positive\",\"slightly positive\",\"very negative\",\"negative\",\"positive\",\"Neutral\",\"positive\",\"slightly negative\",\"very positive\",\"positive\",\"Neutral\",\"very positive\",\"positive\",\"Neutral\",\"very positive\",\"positive\",\"very positive\",\"positive\",\"very positive\",\"positive\",\"positive\",\"slightly positive\",\"Neutral\",\"very negative\",\"negative\",\"Neutral\",\"negative\",\"negative\",\"negative\",\"very negative\",\"very negative\",\"very negative\",\"slightly negative\",\"slightly negative\",\"positive\",\"negative\",\"negative\",\"negative\",\"negative\",\"negative\",\"negative\",\"very negative\",\"slightly positive\",\"very negative\",\"slightly negative\",\"very negative\",\"very negative\",\"negative\",\"very negative\",\"very negative\",\"slightly negative\",\"negative\",\"very negative\",\"negative\",\"slightly negative\",\"very negative\",\"very negative\",\"negative\",\"very negative\",\"very negative\",\"very negative\",\"very negative\",\"slightly negative\",\"very negative\",\"negative\",\"very negative\",\"Neutral\",\"negative\",\"slightly negative\",\"Neutral\",\"slightly positive\",\"slightly positive\",\"negative\",\"slightly positive\",\"slightly negative\",\"slightly positive\",\"slightly negative\",\"negative\",\"slightly negative\",\"negative\",\"slightly positive\",\"Neutral\",\"slightly positive\",\"negative\",\"slightly positive\",\"Neutral\",\"Neutral\",\"slightly negative\",\"slightly negative\",\"very negative\",\"negative\",\"negative\",\"slightly positive\",\"very negative\",\"slightly negative\",\"Neutral\",\"very negative\",\"Neutral\",\"positive\",\"slightly negative\",\"slightly negative\",\"slightly positive\",\"slightly positive\",\"very negative\",\"negative\",\"very negative\",\"slightly negative\",\"negative\",\"very negative\",\"negative\",\"slightly negative\",\"negative\",\"negative\",\"slightly positive\",\"slightly negative\",\"slightly negative\",\"negative\",\"slightly negative\",\"slightly negative\",\"Neutral\",\"positive\",\"positive\",\"positive\",\"very negative\",\"negative\",\"positive\",\"positive\",\"slightly positive\",\"negative\",\"slightly negative\",\"Neutral\",\"positive\",\"slightly positive\",\"slightly positive\",\"slightly positive\",\"positive\",\"Neutral\",\"slightly positive\",\"very negative\",\"slightly positive\",\"Neutral\",\"slightly negative\",\"positive\",\"slightly negative\",\"slightly negative\",\"Neutral\",\"very negative\",\"very negative\",\"very negative\",\"Neutral\",\"Neutral\",\"slightly negative\",\"slightly negative\",\"Neutral\",\"Neutral\",\"Neutral\",\"Neutral\",\"Neutral\",\"Neutral\",\"very negative\",\"slightly positive\",\"slightly negative\",\"negative\",\"Neutral\",\"Neutral\",\"negative\",\"slightly negative\",\"Neutral\",\"Neutral\",\"slightly positive\",\"positive\",\"negative\",\"slightly negative\",\"slightly positive\",\"Neutral\",\"positive\",\"slightly negative\",\"very positive\",\"very positive\",\"Neutral\",\"negative\",\"slightly negative\",\"negative\",\"slightly negative\",\"positive\",\"very positive\",\"very positive\",\"very positive\",\"slightly positive\",\"slightly negative\",\"slightly positive\",\"positive\",\"slightly positive\",\"very negative\",\"very negative\",\"very positive\",\"very negative\",\"slightly negative\",\"very negative\",\"slightly positive\",\"slightly negative\",\"negative\",\"negative\",\"negative\",\"negative\",\"slightly positive\",\"slightly positive\",\"slightly positive\",\"negative\",\"positive\",\"very negative\",\"negative\",\"positive\",\"positive\",\"slightly positive\",\"Neutral\",\"slightly positive\",\"negative\",\"slightly negative\",\"Neutral\",\"slightly positive\",\"Neutral\",\"slightly negative\",\"Neutral\",\"Neutral\",\"Neutral\",\"Neutral\",\"slightly positive\",\"Neutral\",\"positive\",\"slightly negative\",\"positive\",\"slightly negative\",\"positive\",\"slightly negative\",\"Neutral\",\"very negative\",\"very negative\",\"slightly negative\",\"slightly negative\",\"negative\",\"very negative\",\"very positive\",\"very negative\",\"very negative\",\"negative\",\"negative\",\"very positive\",\"very negative\",\"very negative\",\"Neutral\",\"negative\",\"negative\",\"negative\",\"negative\",\"positive\",\"very positive\",\"very negative\",\"negative\",\"very negative\",\"very negative\",\"very negative\",\"slightly positive\",\"slightly negative\",\"slightly positive\",\"very negative\",\"negative\",\"very negative\",\"negative\",\"Neutral\",\"slightly negative\",\"very negative\",\"negative\",\"slightly positive\",\"Neutral\",\"negative\",\"slightly positive\",\"negative\",\"Neutral\",\"negative\",\"slightly negative\",\"positive\",\"very negative\",\"slightly negative\",\"Neutral\",\"negative\",\"slightly negative\",\"Neutral\",\"slightly negative\",\"positive\",\"positive\",\"slightly positive\",\"negative\",\"Neutral\",\"negative\",\"positive\",\"positive\",\"positive\",\"slightly positive\",\"slightly positive\",\"slightly negative\",\"negative\",\"negative\",\"Neutral\",\"slightly positive\",\"slightly positive\",\"negative\",\"slightly positive\",\"slightly positive\",\"very positive\",\"slightly positive\",\"slightly positive\",\"very negative\",\"negative\",\"slightly negative\",\"very negative\",\"negative\",\"negative\",\"slightly positive\",\"negative\",\"Neutral\",\"negative\",\"slightly positive\",\"negative\",\"negative\",\"negative\",\"negative\",\"negative\",\"positive\",\"very positive\",\"very positive\",\"slightly negative\",\"negative\",\"positive\",\"slightly negative\",\"very negative\",\"negative\",\"negative\",\"positive\",\"positive\",\"slightly positive\",\"slightly negative\",\"very negative\",\"negative\",\"positive\",\"slightly positive\",\"positive\",\"slightly negative\",\"slightly positive\",\"very negative\",\"very positive\",\"slightly negative\",\"very negative\",\"very negative\",\"very negative\",\"Neutral\",\"negative\",\"negative\",\"very negative\",\"very negative\",\"slightly negative\",\"negative\",\"very negative\",\"negative\",\"negative\",\"negative\",\"very negative\",\"negative\",\"slightly positive\",\"very negative\",\"very negative\",\"very positive\",\"very positive\",\"very positive\",\"positive\",\"Neutral\",\"slightly positive\",\"negative\",\"slightly negative\",\"slightly negative\",\"negative\",\"negative\",\"very negative\",\"negative\",\"very negative\",\"negative\",\"negative\",\"Neutral\",\"very negative\",\"Neutral\",\"negative\",\"slightly positive\",\"very negative\",\"very negative\",\"positive\",\"positive\",\"negative\",\"negative\",\"Neutral\",\"very negative\",\"slightly negative\",\"negative\",\"negative\",\"Neutral\",\"slightly positive\",\"Neutral\",\"negative\",\"negative\",\"slightly negative\",\"slightly negative\",\"negative\",\"slightly negative\",\"negative\",\"slightly negative\",\"negative\",\"slightly negative\",\"very negative\",\"slightly negative\",\"negative\",\"Neutral\",\"negative\",\"negative\",\"Neutral\",\"Neutral\",\"slightly negative\",\"very positive\",\"Neutral\",\"slightly positive\",\"Neutral\",\"positive\",\"slightly positive\",\"positive\",\"positive\",\"positive\",\"very positive\",\"positive\",\"Neutral\",\"positive\",\"positive\",\"very positive\",\"Neutral\",\"positive\",\"very positive\",\"positive\",\"very positive\",\"slightly positive\",\"slightly positive\",\"positive\",\"negative\",\"very positive\",\"negative\",\"positive\",\"Neutral\",\"Neutral\",\"very negative\",\"very positive\",\"positive\",\"positive\",\"positive\",\"very positive\",\"very positive\",\"Neutral\",\"positive\",\"Neutral\",\"Neutral\",\"very positive\",\"positive\",\"very positive\",\"Neutral\",\"positive\",\"very positive\",\"slightly positive\",\"very positive\",\"slightly positive\",\"slightly positive\",\"slightly positive\",\"slightly negative\",\"Neutral\",\"slightly positive\",\"Neutral\",\"positive\",\"slightly negative\",\"Neutral\",\"negative\",\"negative\",\"Neutral\",\"positive\",\"positive\",\"slightly negative\",\"positive\",\"Neutral\",\"positive\",\"slightly negative\",\"slightly negative\",\"Neutral\",\"positive\",\"positive\",\"positive\",\"positive\",\"positive\",\"positive\",\"Neutral\",\"very positive\",\"positive\",\"slightly positive\",\"slightly positive\",\"slightly positive\",\"slightly positive\",\"slightly negative\",\"slightly positive\",\"slightly negative\",\"Neutral\",\"negative\",\"slightly negative\",\"slightly negative\",\"negative\",\"slightly negative\",\"negative\",\"very positive\",\"slightly positive\",\"slightly positive\",\"Neutral\",\"negative\",\"negative\",\"slightly negative\",\"Neutral\",\"positive\",\"very positive\",\"slightly negative\",\"negative\",\"slightly negative\",\"negative\",\"Neutral\",\"Neutral\",\"Neutral\",\"negative\",\"Neutral\",\"negative\",\"negative\",\"positive\",\"slightly negative\",\"negative\",\"slightly negative\",\"negative\",\"negative\",\"slightly negative\",\"very negative\",\"negative\",\"slightly positive\",\"negative\",\"negative\",\"slightly negative\",\"negative\",\"positive\",\"negative\",\"negative\",\"very negative\",\"slightly positive\",\"slightly positive\",\"slightly negative\",\"slightly negative\",\"slightly positive\",\"very negative\",\"negative\",\"slightly negative\",\"negative\",\"negative\",\"positive\",\"positive\",\"slightly positive\",\"slightly negative\",\"negative\",\"slightly positive\",\"slightly positive\",\"slightly negative\",\"Neutral\",\"slightly positive\",\"Neutral\",\"slightly positive\",\"positive\",\"slightly negative\",\"negative\",\"slightly negative\",\"slightly positive\",\"Neutral\",\"slightly positive\",\"slightly positive\"],\"xaxis\":\"x\",\"y\":[1,1,1,1,1,1,1,1,1,1,1,1,1,1,1,1,1,1,1,1,1,1,1,1,1,1,1,1,1,1,1,1,1,1,1,1,1,1,1,1,1,1,1,1,1,1,1,1,1,1,1,1,1,1,1,1,1,1,1,1,1,1,1,1,1,1,1,1,1,1,1,1,1,1,1,1,1,1,1,1,1,1,1,1,1,1,1,1,1,1,1,1,1,1,1,1,1,1,1,1,1,1,1,1,1,1,1,1,1,1,1,1,1,1,1,1,1,1,1,1,1,1,1,1,1,1,1,1,1,1,1,1,1,1,1,1,1,1,1,1,1,1,1,1,1,1,1,1,1,1,1,1,1,1,1,1,1,1,1,1,1,1,1,1,1,1,1,1,1,1,1,1,1,1,1,1,1,1,1,1,1,1,1,1,1,1,1,1,1,1,1,1,1,1,1,1,1,1,1,1,1,1,1,1,1,1,1,1,1,1,1,1,1,1,1,1,1,1,1,1,1,1,1,1,1,1,1,1,1,1,1,1,1,1,1,1,1,1,1,1,1,1,1,1,1,1,1,1,1,1,1,1,1,1,1,1,1,1,1,1,1,1,1,1,1,1,1,1,1,1,1,1,1,1,1,1,1,1,1,1,1,1,1,1,1,1,1,1,1,1,1,1,1,1,1,1,1,1,1,1,1,1,1,1,1,1,1,1,1,1,1,1,1,1,1,1,1,1,1,1,1,1,1,1,1,1,1,1,1,1,1,1,1,1,1,1,1,1,1,1,1,1,1,1,1,1,1,1,1,1,1,1,1,1,1,1,1,1,1,1,1,1,1,1,1,1,1,1,1,1,1,1,1,1,1,1,1,1,1,1,1,1,1,1,1,1,1,1,1,1,1,1,1,1,1,1,1,1,1,1,1,1,1,1,1,1,1,1,1,1,1,1,1,1,1,1,1,1,1,1,1,1,1,1,1,1,1,1,1,1,1,1,1,1,1,1,1,1,1,1,1,1,1,1,1,1,1,1,1,1,1,1,1,1,1,1,1,1,1,1,1,1,1,1,1,1,1,1,1,1,1,1,1,1,1,1,1,1,1,1,1,1,1,1,1,1,1,1,1,1,1,1,1,1,1,1,1,1,1,1,1,1,1,1,1,1,1,1,1,1,1,1,1,1,1,1,1,1,1,1,1,1,1,1,1,1,1,1,1,1,1,1,1,1,1,1,1,1,1,1,1,1,1,1,1,1,1,1,1,1,1,1,1,1,1,1,1,1,1,1,1,1,1,1,1,1,1,1,1,1,1,1,1,1,1,1,1,1,1,1,1,1,1,1,1,1,1,1,1,1,1,1,1,1,1,1,1,1,1,1,1,1,1,1,1,1,1,1,1,1,1,1,1,1,1,1,1,1,1,1,1,1,1,1,1,1,1,1,1,1,1,1,1,1,1,1,1,1,1,1,1,1,1,1,1,1,1,1,1,1,1,1,1,1,1,1,1,1,1,1,1,1,1,1,1,1,1,1,1,1,1,1,1,1,1,1,1,1,1,1,1,1,1,1,1],\"yaxis\":\"y\",\"type\":\"bar\"},{\"alignmentgroup\":\"True\",\"hovertemplate\":\"preds_7=%{x}<br>count=%{y}<extra></extra>\",\"legendgroup\":\"\",\"marker\":{\"color\":\"#636efa\",\"pattern\":{\"shape\":\"\"}},\"name\":\"\",\"offsetgroup\":\"\",\"orientation\":\"v\",\"showlegend\":false,\"textposition\":\"auto\",\"x\":[\"slightly positive\",\"slightly negative\",\"very positive\",\"very positive\",\"Neutral\",\"positive\",\"slightly negative\",\"very positive\",\"very positive\",\"positive\",\"positive\",\"slightly negative\",\"very positive\",\"positive\",\"slightly negative\",\"slightly negative\",\"positive\",\"Neutral\",\"positive\",\"slightly positive\",\"positive\",\"slightly positive\",\"Neutral\",\"slightly negative\",\"positive\",\"Neutral\",\"Neutral\",\"slightly positive\",\"positive\",\"very positive\",\"slightly negative\",\"slightly positive\",\"slightly negative\",\"slightly positive\",\"positive\",\"slightly positive\",\"positive\",\"positive\",\"very positive\",\"very positive\",\"positive\",\"positive\",\"very positive\",\"very positive\",\"slightly positive\",\"Neutral\",\"positive\",\"very positive\",\"positive\",\"Neutral\",\"very positive\",\"slightly positive\",\"very positive\",\"positive\",\"very positive\",\"positive\",\"very positive\",\"slightly positive\",\"very positive\",\"Neutral\",\"positive\",\"slightly positive\",\"positive\",\"slightly positive\",\"very positive\",\"very positive\",\"very positive\",\"positive\",\"very positive\",\"very positive\",\"positive\",\"very positive\",\"positive\",\"positive\",\"very positive\",\"very positive\",\"slightly positive\",\"very positive\",\"positive\",\"positive\",\"very positive\",\"very positive\",\"very positive\",\"positive\",\"very positive\",\"Neutral\",\"positive\",\"slightly positive\",\"slightly negative\",\"slightly positive\",\"slightly positive\",\"positive\",\"positive\",\"positive\",\"slightly positive\",\"slightly positive\",\"slightly positive\",\"positive\",\"positive\",\"positive\",\"positive\",\"Neutral\",\"very positive\",\"positive\",\"very positive\",\"positive\",\"positive\",\"very positive\",\"positive\",\"very positive\",\"very positive\",\"slightly positive\",\"very positive\",\"very positive\",\"very positive\",\"Neutral\",\"very positive\",\"very positive\",\"positive\",\"positive\",\"very positive\",\"negative\",\"slightly positive\",\"slightly positive\",\"positive\",\"positive\",\"Neutral\",\"positive\",\"slightly negative\",\"very positive\",\"Neutral\",\"positive\",\"very positive\",\"negative\",\"slightly negative\",\"Neutral\",\"slightly negative\",\"Neutral\",\"negative\",\"Neutral\",\"positive\",\"slightly negative\",\"slightly positive\",\"slightly negative\",\"slightly negative\",\"slightly negative\",\"slightly negative\",\"slightly negative\",\"positive\",\"positive\",\"negative\",\"slightly positive\",\"positive\",\"slightly positive\",\"slightly negative\",\"positive\",\"negative\",\"slightly negative\",\"positive\",\"negative\",\"slightly negative\",\"negative\",\"Neutral\",\"positive\",\"positive\",\"positive\",\"very positive\",\"very positive\",\"slightly positive\",\"slightly positive\",\"slightly positive\",\"very positive\",\"positive\",\"very positive\",\"positive\",\"positive\",\"very positive\",\"positive\",\"positive\",\"slightly positive\",\"positive\",\"very positive\",\"very positive\",\"positive\",\"positive\",\"slightly positive\",\"slightly positive\",\"negative\",\"positive\",\"slightly positive\",\"very positive\",\"slightly positive\",\"slightly positive\",\"slightly positive\",\"positive\",\"positive\",\"very positive\",\"slightly positive\",\"slightly positive\",\"very positive\",\"positive\",\"Neutral\",\"Neutral\",\"slightly negative\",\"Neutral\",\"Neutral\",\"Neutral\",\"Neutral\",\"Neutral\",\"slightly negative\",\"slightly positive\",\"positive\",\"positive\",\"very positive\",\"positive\",\"positive\",\"slightly positive\",\"slightly positive\",\"very positive\",\"very positive\",\"very positive\",\"positive\",\"negative\",\"positive\",\"very positive\",\"very positive\",\"positive\",\"positive\",\"very positive\",\"positive\",\"slightly positive\",\"slightly positive\",\"positive\",\"positive\",\"Neutral\",\"positive\",\"positive\",\"positive\",\"Neutral\",\"positive\",\"very positive\",\"positive\",\"Neutral\",\"slightly positive\",\"slightly positive\",\"slightly positive\",\"positive\",\"positive\",\"slightly positive\",\"positive\",\"Neutral\",\"slightly positive\",\"positive\",\"positive\",\"slightly positive\",\"slightly positive\",\"positive\",\"very positive\",\"positive\",\"positive\",\"positive\",\"positive\",\"positive\",\"slightly negative\",\"slightly positive\",\"slightly positive\",\"slightly positive\",\"slightly positive\",\"very positive\",\"Neutral\",\"slightly positive\",\"positive\",\"slightly positive\",\"very positive\",\"Neutral\",\"very positive\",\"very positive\",\"positive\",\"very positive\",\"very positive\",\"slightly positive\",\"slightly positive\",\"very positive\",\"very positive\",\"very positive\",\"very positive\",\"positive\",\"slightly positive\",\"positive\",\"positive\",\"very positive\",\"negative\",\"negative\",\"Neutral\",\"negative\",\"Neutral\",\"slightly positive\",\"very positive\",\"slightly positive\",\"slightly negative\",\"slightly positive\",\"Neutral\",\"positive\",\"positive\",\"very positive\",\"positive\",\"slightly positive\",\"very positive\",\"Neutral\",\"slightly positive\",\"very positive\",\"positive\",\"positive\",\"positive\",\"Neutral\",\"slightly positive\",\"very positive\",\"slightly positive\",\"positive\",\"positive\",\"positive\",\"positive\",\"slightly negative\",\"positive\",\"positive\",\"positive\",\"very positive\",\"slightly positive\",\"slightly positive\",\"very positive\",\"positive\",\"positive\",\"Neutral\",\"very positive\",\"slightly negative\",\"slightly negative\",\"slightly positive\",\"positive\",\"slightly positive\",\"Neutral\",\"very positive\",\"slightly positive\",\"slightly positive\",\"slightly negative\",\"slightly negative\",\"very positive\",\"negative\",\"negative\",\"positive\",\"positive\",\"slightly positive\",\"negative\",\"Neutral\",\"very positive\",\"very positive\",\"slightly positive\",\"Neutral\",\"slightly positive\",\"Neutral\",\"slightly positive\",\"positive\",\"very positive\",\"very positive\",\"positive\",\"positive\",\"positive\",\"positive\",\"very positive\",\"Neutral\",\"Neutral\",\"slightly positive\",\"very positive\",\"very positive\",\"positive\",\"very positive\",\"slightly negative\",\"positive\",\"slightly positive\",\"Neutral\",\"very positive\",\"slightly positive\",\"slightly positive\",\"positive\",\"slightly negative\",\"positive\",\"positive\",\"positive\",\"very positive\",\"positive\",\"very positive\",\"positive\",\"positive\",\"Neutral\",\"very positive\",\"very positive\",\"very positive\",\"very positive\",\"positive\",\"Neutral\",\"Neutral\",\"Neutral\",\"slightly negative\",\"very positive\",\"very positive\",\"Neutral\",\"very positive\",\"very positive\",\"very positive\",\"very positive\",\"very positive\",\"Neutral\",\"positive\",\"slightly positive\",\"positive\",\"Neutral\",\"slightly positive\",\"positive\",\"slightly negative\",\"positive\",\"slightly positive\",\"positive\",\"positive\",\"positive\",\"slightly negative\",\"positive\",\"positive\",\"very positive\",\"positive\",\"very positive\",\"slightly positive\",\"positive\",\"positive\",\"positive\",\"slightly positive\",\"positive\",\"slightly positive\",\"very positive\",\"slightly positive\",\"positive\",\"slightly positive\",\"positive\",\"positive\",\"very positive\",\"positive\",\"very positive\",\"very positive\",\"very positive\",\"negative\",\"very positive\",\"positive\",\"slightly negative\",\"slightly negative\",\"very positive\",\"positive\",\"slightly negative\",\"slightly negative\",\"positive\",\"very positive\",\"slightly positive\",\"Neutral\",\"slightly negative\",\"Neutral\",\"very positive\",\"Neutral\",\"very positive\",\"slightly positive\",\"very positive\",\"slightly positive\",\"slightly positive\",\"very positive\",\"very positive\",\"very positive\",\"positive\",\"very positive\",\"positive\",\"slightly positive\",\"slightly positive\",\"very positive\",\"slightly positive\",\"slightly positive\",\"negative\",\"positive\",\"positive\",\"positive\",\"slightly positive\",\"very positive\",\"positive\",\"slightly positive\",\"slightly positive\",\"positive\",\"slightly positive\",\"slightly positive\",\"very positive\",\"very positive\",\"slightly positive\",\"slightly positive\",\"slightly positive\",\"negative\",\"slightly positive\",\"positive\",\"slightly positive\",\"positive\",\"very positive\",\"positive\",\"negative\",\"Neutral\",\"slightly positive\",\"slightly positive\",\"Neutral\",\"Neutral\",\"Neutral\",\"positive\",\"slightly positive\",\"positive\",\"positive\",\"slightly positive\",\"positive\",\"slightly positive\",\"slightly positive\",\"positive\",\"positive\",\"positive\",\"slightly positive\",\"very positive\",\"very positive\",\"very positive\",\"slightly positive\",\"very positive\",\"slightly positive\",\"slightly positive\",\"very positive\",\"very positive\",\"positive\",\"very positive\",\"slightly positive\",\"positive\",\"very positive\",\"very positive\",\"positive\",\"very positive\",\"very positive\",\"very positive\",\"very positive\",\"very positive\",\"very positive\",\"positive\",\"very positive\",\"positive\",\"slightly positive\",\"slightly positive\",\"positive\",\"positive\",\"positive\",\"very positive\",\"positive\",\"very positive\",\"very positive\",\"very positive\",\"very positive\",\"slightly positive\",\"positive\",\"slightly positive\",\"positive\",\"positive\",\"very positive\",\"very positive\",\"positive\",\"positive\",\"very positive\",\"very positive\",\"very positive\",\"positive\",\"slightly positive\",\"positive\",\"slightly positive\",\"positive\",\"slightly positive\",\"very positive\",\"very positive\",\"positive\",\"slightly positive\",\"slightly positive\",\"slightly positive\",\"slightly positive\",\"very positive\",\"very positive\",\"positive\",\"positive\",\"Neutral\",\"very positive\",\"positive\",\"slightly positive\",\"positive\",\"positive\",\"positive\",\"positive\",\"positive\",\"positive\",\"positive\",\"slightly positive\",\"very positive\",\"very positive\",\"very positive\",\"very positive\",\"very positive\",\"slightly positive\",\"positive\",\"positive\",\"positive\",\"positive\",\"slightly positive\",\"very positive\",\"positive\",\"slightly positive\",\"slightly negative\",\"Neutral\",\"very positive\",\"slightly positive\",\"very positive\",\"positive\",\"slightly positive\",\"Neutral\",\"positive\",\"positive\",\"very positive\",\"very positive\",\"slightly positive\",\"positive\",\"slightly negative\",\"slightly positive\",\"positive\",\"positive\",\"slightly positive\",\"Neutral\",\"positive\",\"slightly positive\",\"very positive\",\"positive\",\"slightly positive\",\"very positive\",\"Neutral\",\"very positive\",\"positive\",\"slightly positive\",\"slightly positive\",\"positive\",\"very positive\",\"slightly positive\",\"Neutral\",\"positive\",\"positive\",\"very positive\",\"slightly positive\",\"Neutral\",\"Neutral\",\"very positive\",\"positive\",\"slightly positive\",\"slightly positive\",\"positive\",\"negative\",\"Neutral\",\"slightly positive\",\"Neutral\",\"slightly positive\",\"very positive\",\"very positive\",\"very positive\",\"positive\",\"slightly positive\",\"positive\",\"slightly positive\",\"slightly positive\",\"positive\",\"positive\",\"slightly positive\",\"positive\",\"positive\",\"Neutral\",\"slightly negative\",\"Neutral\",\"positive\",\"positive\",\"very positive\",\"very positive\"],\"xaxis\":\"x2\",\"y\":[1,1,1,1,1,1,1,1,1,1,1,1,1,1,1,1,1,1,1,1,1,1,1,1,1,1,1,1,1,1,1,1,1,1,1,1,1,1,1,1,1,1,1,1,1,1,1,1,1,1,1,1,1,1,1,1,1,1,1,1,1,1,1,1,1,1,1,1,1,1,1,1,1,1,1,1,1,1,1,1,1,1,1,1,1,1,1,1,1,1,1,1,1,1,1,1,1,1,1,1,1,1,1,1,1,1,1,1,1,1,1,1,1,1,1,1,1,1,1,1,1,1,1,1,1,1,1,1,1,1,1,1,1,1,1,1,1,1,1,1,1,1,1,1,1,1,1,1,1,1,1,1,1,1,1,1,1,1,1,1,1,1,1,1,1,1,1,1,1,1,1,1,1,1,1,1,1,1,1,1,1,1,1,1,1,1,1,1,1,1,1,1,1,1,1,1,1,1,1,1,1,1,1,1,1,1,1,1,1,1,1,1,1,1,1,1,1,1,1,1,1,1,1,1,1,1,1,1,1,1,1,1,1,1,1,1,1,1,1,1,1,1,1,1,1,1,1,1,1,1,1,1,1,1,1,1,1,1,1,1,1,1,1,1,1,1,1,1,1,1,1,1,1,1,1,1,1,1,1,1,1,1,1,1,1,1,1,1,1,1,1,1,1,1,1,1,1,1,1,1,1,1,1,1,1,1,1,1,1,1,1,1,1,1,1,1,1,1,1,1,1,1,1,1,1,1,1,1,1,1,1,1,1,1,1,1,1,1,1,1,1,1,1,1,1,1,1,1,1,1,1,1,1,1,1,1,1,1,1,1,1,1,1,1,1,1,1,1,1,1,1,1,1,1,1,1,1,1,1,1,1,1,1,1,1,1,1,1,1,1,1,1,1,1,1,1,1,1,1,1,1,1,1,1,1,1,1,1,1,1,1,1,1,1,1,1,1,1,1,1,1,1,1,1,1,1,1,1,1,1,1,1,1,1,1,1,1,1,1,1,1,1,1,1,1,1,1,1,1,1,1,1,1,1,1,1,1,1,1,1,1,1,1,1,1,1,1,1,1,1,1,1,1,1,1,1,1,1,1,1,1,1,1,1,1,1,1,1,1,1,1,1,1,1,1,1,1,1,1,1,1,1,1,1,1,1,1,1,1,1,1,1,1,1,1,1,1,1,1,1,1,1,1,1,1,1,1,1,1,1,1,1,1,1,1,1,1,1,1,1,1,1,1,1,1,1,1,1,1,1,1,1,1,1,1,1,1,1,1,1,1,1,1,1,1,1,1,1,1,1,1,1,1,1,1,1,1,1,1,1,1,1,1,1,1,1,1,1,1,1,1,1,1,1,1,1,1,1,1,1,1,1,1,1,1,1,1,1,1,1,1,1,1,1,1,1,1,1,1,1,1,1,1,1,1,1,1,1,1,1,1,1,1,1,1,1,1,1,1,1,1,1,1,1,1,1,1,1,1,1,1,1,1,1,1,1,1,1,1,1,1,1,1,1,1,1,1,1,1,1,1,1,1,1,1,1,1,1,1,1,1,1,1,1,1],\"yaxis\":\"y2\",\"type\":\"bar\"}],                        {\"template\":{\"data\":{\"histogram2dcontour\":[{\"type\":\"histogram2dcontour\",\"colorbar\":{\"outlinewidth\":0,\"ticks\":\"\"},\"colorscale\":[[0.0,\"#0d0887\"],[0.1111111111111111,\"#46039f\"],[0.2222222222222222,\"#7201a8\"],[0.3333333333333333,\"#9c179e\"],[0.4444444444444444,\"#bd3786\"],[0.5555555555555556,\"#d8576b\"],[0.6666666666666666,\"#ed7953\"],[0.7777777777777778,\"#fb9f3a\"],[0.8888888888888888,\"#fdca26\"],[1.0,\"#f0f921\"]]}],\"choropleth\":[{\"type\":\"choropleth\",\"colorbar\":{\"outlinewidth\":0,\"ticks\":\"\"}}],\"histogram2d\":[{\"type\":\"histogram2d\",\"colorbar\":{\"outlinewidth\":0,\"ticks\":\"\"},\"colorscale\":[[0.0,\"#0d0887\"],[0.1111111111111111,\"#46039f\"],[0.2222222222222222,\"#7201a8\"],[0.3333333333333333,\"#9c179e\"],[0.4444444444444444,\"#bd3786\"],[0.5555555555555556,\"#d8576b\"],[0.6666666666666666,\"#ed7953\"],[0.7777777777777778,\"#fb9f3a\"],[0.8888888888888888,\"#fdca26\"],[1.0,\"#f0f921\"]]}],\"heatmap\":[{\"type\":\"heatmap\",\"colorbar\":{\"outlinewidth\":0,\"ticks\":\"\"},\"colorscale\":[[0.0,\"#0d0887\"],[0.1111111111111111,\"#46039f\"],[0.2222222222222222,\"#7201a8\"],[0.3333333333333333,\"#9c179e\"],[0.4444444444444444,\"#bd3786\"],[0.5555555555555556,\"#d8576b\"],[0.6666666666666666,\"#ed7953\"],[0.7777777777777778,\"#fb9f3a\"],[0.8888888888888888,\"#fdca26\"],[1.0,\"#f0f921\"]]}],\"heatmapgl\":[{\"type\":\"heatmapgl\",\"colorbar\":{\"outlinewidth\":0,\"ticks\":\"\"},\"colorscale\":[[0.0,\"#0d0887\"],[0.1111111111111111,\"#46039f\"],[0.2222222222222222,\"#7201a8\"],[0.3333333333333333,\"#9c179e\"],[0.4444444444444444,\"#bd3786\"],[0.5555555555555556,\"#d8576b\"],[0.6666666666666666,\"#ed7953\"],[0.7777777777777778,\"#fb9f3a\"],[0.8888888888888888,\"#fdca26\"],[1.0,\"#f0f921\"]]}],\"contourcarpet\":[{\"type\":\"contourcarpet\",\"colorbar\":{\"outlinewidth\":0,\"ticks\":\"\"}}],\"contour\":[{\"type\":\"contour\",\"colorbar\":{\"outlinewidth\":0,\"ticks\":\"\"},\"colorscale\":[[0.0,\"#0d0887\"],[0.1111111111111111,\"#46039f\"],[0.2222222222222222,\"#7201a8\"],[0.3333333333333333,\"#9c179e\"],[0.4444444444444444,\"#bd3786\"],[0.5555555555555556,\"#d8576b\"],[0.6666666666666666,\"#ed7953\"],[0.7777777777777778,\"#fb9f3a\"],[0.8888888888888888,\"#fdca26\"],[1.0,\"#f0f921\"]]}],\"surface\":[{\"type\":\"surface\",\"colorbar\":{\"outlinewidth\":0,\"ticks\":\"\"},\"colorscale\":[[0.0,\"#0d0887\"],[0.1111111111111111,\"#46039f\"],[0.2222222222222222,\"#7201a8\"],[0.3333333333333333,\"#9c179e\"],[0.4444444444444444,\"#bd3786\"],[0.5555555555555556,\"#d8576b\"],[0.6666666666666666,\"#ed7953\"],[0.7777777777777778,\"#fb9f3a\"],[0.8888888888888888,\"#fdca26\"],[1.0,\"#f0f921\"]]}],\"mesh3d\":[{\"type\":\"mesh3d\",\"colorbar\":{\"outlinewidth\":0,\"ticks\":\"\"}}],\"scatter\":[{\"fillpattern\":{\"fillmode\":\"overlay\",\"size\":10,\"solidity\":0.2},\"type\":\"scatter\"}],\"parcoords\":[{\"type\":\"parcoords\",\"line\":{\"colorbar\":{\"outlinewidth\":0,\"ticks\":\"\"}}}],\"scatterpolargl\":[{\"type\":\"scatterpolargl\",\"marker\":{\"colorbar\":{\"outlinewidth\":0,\"ticks\":\"\"}}}],\"bar\":[{\"error_x\":{\"color\":\"#2a3f5f\"},\"error_y\":{\"color\":\"#2a3f5f\"},\"marker\":{\"line\":{\"color\":\"#E5ECF6\",\"width\":0.5},\"pattern\":{\"fillmode\":\"overlay\",\"size\":10,\"solidity\":0.2}},\"type\":\"bar\"}],\"scattergeo\":[{\"type\":\"scattergeo\",\"marker\":{\"colorbar\":{\"outlinewidth\":0,\"ticks\":\"\"}}}],\"scatterpolar\":[{\"type\":\"scatterpolar\",\"marker\":{\"colorbar\":{\"outlinewidth\":0,\"ticks\":\"\"}}}],\"histogram\":[{\"marker\":{\"pattern\":{\"fillmode\":\"overlay\",\"size\":10,\"solidity\":0.2}},\"type\":\"histogram\"}],\"scattergl\":[{\"type\":\"scattergl\",\"marker\":{\"colorbar\":{\"outlinewidth\":0,\"ticks\":\"\"}}}],\"scatter3d\":[{\"type\":\"scatter3d\",\"line\":{\"colorbar\":{\"outlinewidth\":0,\"ticks\":\"\"}},\"marker\":{\"colorbar\":{\"outlinewidth\":0,\"ticks\":\"\"}}}],\"scattermapbox\":[{\"type\":\"scattermapbox\",\"marker\":{\"colorbar\":{\"outlinewidth\":0,\"ticks\":\"\"}}}],\"scatterternary\":[{\"type\":\"scatterternary\",\"marker\":{\"colorbar\":{\"outlinewidth\":0,\"ticks\":\"\"}}}],\"scattercarpet\":[{\"type\":\"scattercarpet\",\"marker\":{\"colorbar\":{\"outlinewidth\":0,\"ticks\":\"\"}}}],\"carpet\":[{\"aaxis\":{\"endlinecolor\":\"#2a3f5f\",\"gridcolor\":\"white\",\"linecolor\":\"white\",\"minorgridcolor\":\"white\",\"startlinecolor\":\"#2a3f5f\"},\"baxis\":{\"endlinecolor\":\"#2a3f5f\",\"gridcolor\":\"white\",\"linecolor\":\"white\",\"minorgridcolor\":\"white\",\"startlinecolor\":\"#2a3f5f\"},\"type\":\"carpet\"}],\"table\":[{\"cells\":{\"fill\":{\"color\":\"#EBF0F8\"},\"line\":{\"color\":\"white\"}},\"header\":{\"fill\":{\"color\":\"#C8D4E3\"},\"line\":{\"color\":\"white\"}},\"type\":\"table\"}],\"barpolar\":[{\"marker\":{\"line\":{\"color\":\"#E5ECF6\",\"width\":0.5},\"pattern\":{\"fillmode\":\"overlay\",\"size\":10,\"solidity\":0.2}},\"type\":\"barpolar\"}],\"pie\":[{\"automargin\":true,\"type\":\"pie\"}]},\"layout\":{\"autotypenumbers\":\"strict\",\"colorway\":[\"#636efa\",\"#EF553B\",\"#00cc96\",\"#ab63fa\",\"#FFA15A\",\"#19d3f3\",\"#FF6692\",\"#B6E880\",\"#FF97FF\",\"#FECB52\"],\"font\":{\"color\":\"#2a3f5f\"},\"hovermode\":\"closest\",\"hoverlabel\":{\"align\":\"left\"},\"paper_bgcolor\":\"white\",\"plot_bgcolor\":\"#E5ECF6\",\"polar\":{\"bgcolor\":\"#E5ECF6\",\"angularaxis\":{\"gridcolor\":\"white\",\"linecolor\":\"white\",\"ticks\":\"\"},\"radialaxis\":{\"gridcolor\":\"white\",\"linecolor\":\"white\",\"ticks\":\"\"}},\"ternary\":{\"bgcolor\":\"#E5ECF6\",\"aaxis\":{\"gridcolor\":\"white\",\"linecolor\":\"white\",\"ticks\":\"\"},\"baxis\":{\"gridcolor\":\"white\",\"linecolor\":\"white\",\"ticks\":\"\"},\"caxis\":{\"gridcolor\":\"white\",\"linecolor\":\"white\",\"ticks\":\"\"}},\"coloraxis\":{\"colorbar\":{\"outlinewidth\":0,\"ticks\":\"\"}},\"colorscale\":{\"sequential\":[[0.0,\"#0d0887\"],[0.1111111111111111,\"#46039f\"],[0.2222222222222222,\"#7201a8\"],[0.3333333333333333,\"#9c179e\"],[0.4444444444444444,\"#bd3786\"],[0.5555555555555556,\"#d8576b\"],[0.6666666666666666,\"#ed7953\"],[0.7777777777777778,\"#fb9f3a\"],[0.8888888888888888,\"#fdca26\"],[1.0,\"#f0f921\"]],\"sequentialminus\":[[0.0,\"#0d0887\"],[0.1111111111111111,\"#46039f\"],[0.2222222222222222,\"#7201a8\"],[0.3333333333333333,\"#9c179e\"],[0.4444444444444444,\"#bd3786\"],[0.5555555555555556,\"#d8576b\"],[0.6666666666666666,\"#ed7953\"],[0.7777777777777778,\"#fb9f3a\"],[0.8888888888888888,\"#fdca26\"],[1.0,\"#f0f921\"]],\"diverging\":[[0,\"#8e0152\"],[0.1,\"#c51b7d\"],[0.2,\"#de77ae\"],[0.3,\"#f1b6da\"],[0.4,\"#fde0ef\"],[0.5,\"#f7f7f7\"],[0.6,\"#e6f5d0\"],[0.7,\"#b8e186\"],[0.8,\"#7fbc41\"],[0.9,\"#4d9221\"],[1,\"#276419\"]]},\"xaxis\":{\"gridcolor\":\"white\",\"linecolor\":\"white\",\"ticks\":\"\",\"title\":{\"standoff\":15},\"zerolinecolor\":\"white\",\"automargin\":true,\"zerolinewidth\":2},\"yaxis\":{\"gridcolor\":\"white\",\"linecolor\":\"white\",\"ticks\":\"\",\"title\":{\"standoff\":15},\"zerolinecolor\":\"white\",\"automargin\":true,\"zerolinewidth\":2},\"scene\":{\"xaxis\":{\"backgroundcolor\":\"#E5ECF6\",\"gridcolor\":\"white\",\"linecolor\":\"white\",\"showbackground\":true,\"ticks\":\"\",\"zerolinecolor\":\"white\",\"gridwidth\":2},\"yaxis\":{\"backgroundcolor\":\"#E5ECF6\",\"gridcolor\":\"white\",\"linecolor\":\"white\",\"showbackground\":true,\"ticks\":\"\",\"zerolinecolor\":\"white\",\"gridwidth\":2},\"zaxis\":{\"backgroundcolor\":\"#E5ECF6\",\"gridcolor\":\"white\",\"linecolor\":\"white\",\"showbackground\":true,\"ticks\":\"\",\"zerolinecolor\":\"white\",\"gridwidth\":2}},\"shapedefaults\":{\"line\":{\"color\":\"#2a3f5f\"}},\"annotationdefaults\":{\"arrowcolor\":\"#2a3f5f\",\"arrowhead\":0,\"arrowwidth\":1},\"geo\":{\"bgcolor\":\"white\",\"landcolor\":\"#E5ECF6\",\"subunitcolor\":\"white\",\"showland\":true,\"showlakes\":true,\"lakecolor\":\"white\"},\"title\":{\"x\":0.05},\"mapbox\":{\"style\":\"light\"}}},\"xaxis\":{\"anchor\":\"y\",\"domain\":[0.0,0.45],\"categoryorder\":\"array\",\"categoryarray\":[\"very negative\",\"negative\",\"slightly negative\",\"Neutral\",\"slightly positive\",\"positive\",\"very positive\"]},\"yaxis\":{\"anchor\":\"x\",\"domain\":[0.0,1.0]},\"xaxis2\":{\"anchor\":\"y2\",\"domain\":[0.55,1.0],\"categoryorder\":\"array\",\"categoryarray\":[\"very negative\",\"negative\",\"slightly negative\",\"Neutral\",\"slightly positive\",\"positive\",\"very positive\"]},\"yaxis2\":{\"anchor\":\"x2\",\"domain\":[0.0,1.0]},\"annotations\":[{\"font\":{\"size\":16},\"showarrow\":false,\"text\":\"Gold\",\"x\":0.225,\"xanchor\":\"center\",\"xref\":\"paper\",\"y\":1.0,\"yanchor\":\"bottom\",\"yref\":\"paper\"},{\"font\":{\"size\":16},\"showarrow\":false,\"text\":\"MIM\",\"x\":0.775,\"xanchor\":\"center\",\"xref\":\"paper\",\"y\":1.0,\"yanchor\":\"bottom\",\"yref\":\"paper\"}]},                        {\"responsive\": true}                    ).then(function(){\n",
       "                            \n",
       "var gd = document.getElementById('e09e4f1f-956d-4bf9-b156-bba7855f3114');\n",
       "var x = new MutationObserver(function (mutations, observer) {{\n",
       "        var display = window.getComputedStyle(gd).display;\n",
       "        if (!display || display === 'none') {{\n",
       "            console.log([gd, 'removed!']);\n",
       "            Plotly.purge(gd);\n",
       "            observer.disconnect();\n",
       "        }}\n",
       "}});\n",
       "\n",
       "// Listen for the removal of the full notebook cells\n",
       "var notebookContainer = gd.closest('#notebook-container');\n",
       "if (notebookContainer) {{\n",
       "    x.observe(notebookContainer, {childList: true});\n",
       "}}\n",
       "\n",
       "// Listen for the clearing of the current output cell\n",
       "var outputEl = gd.closest('.output');\n",
       "if (outputEl) {{\n",
       "    x.observe(outputEl, {childList: true});\n",
       "}}\n",
       "\n",
       "                        })                };                });            </script>        </div>"
      ]
     },
     "metadata": {},
     "output_type": "display_data"
    }
   ],
   "source": [
    "import plotly.express as px\n",
    "import plotly.subplots as sp\n",
    "import pandas as pd\n",
    "\n",
    "d = {'segmentID': segment_list, 'labels': labels, 'labels_2': labels_2, 'labels_7': labels_7, 'preds': preds, 'preds_2': preds_2, 'preds_7': preds_7}\n",
    "df = pd.DataFrame(data=d)\n",
    "order = ['very negative', 'negative', 'slightly negative', 'Neutral', 'slightly positive', 'positive', 'very positive']\n",
    "\n",
    "fig1 = px.bar(df, x=\"labels_7\")\n",
    "fig2 = px.bar(df, x=\"preds_7\")\n",
    "\n",
    "fig1_traces = []\n",
    "fig2_traces = []\n",
    "\n",
    "for trace in range(len(fig1[\"data\"])):\n",
    "    fig1_traces.append(fig1[\"data\"][trace])\n",
    "for trace in range(len(fig2[\"data\"])):\n",
    "    fig2_traces.append(fig2[\"data\"][trace])\n",
    "\n",
    "this_figure = sp.make_subplots(rows=1, cols=2, subplot_titles=(\"Gold\", \"MIM\"))\n",
    "for traces in fig1_traces:\n",
    "    this_figure.append_trace(traces, row=1, col=1)\n",
    "for traces in fig2_traces:\n",
    "    this_figure.append_trace(traces, row=1, col=2)\n",
    "\n",
    "# this_figure.update_layout(height=600, width=1500, title_text=\"CMU-MOSI 7 Class Sentiment Intensity\")\n",
    "this_figure.update_xaxes(categoryorder='array', categoryarray= order)\n",
    "# this_figure.update_yaxes(range=[0,250])\n",
    "this_figure.show()"
   ]
  },
  {
   "cell_type": "code",
   "execution_count": 22,
   "metadata": {},
   "outputs": [
    {
     "data": {
      "application/vnd.plotly.v1+json": {
       "config": {
        "plotlyServerURL": "https://plot.ly"
       },
       "data": [
        {
         "alignmentgroup": "True",
         "hovertemplate": "labels_7=%{x}<br>preds=%{y}<extra></extra>",
         "legendgroup": "",
         "marker": {
          "color": "#636efa"
         },
         "name": "",
         "notched": false,
         "offsetgroup": "",
         "orientation": "v",
         "showlegend": false,
         "type": "box",
         "x": [
          "very negative",
          "very negative",
          "slightly negative",
          "positive",
          "very negative",
          "very negative",
          "very negative",
          "very negative",
          "Neutral",
          "slightly positive",
          "slightly positive",
          "very negative",
          "very negative",
          "slightly positive",
          "very negative",
          "negative",
          "negative",
          "very negative",
          "negative",
          "negative",
          "slightly negative",
          "very negative",
          "slightly negative",
          "negative",
          "Neutral",
          "very negative",
          "negative",
          "slightly negative",
          "slightly positive",
          "slightly positive",
          "negative",
          "very negative",
          "negative",
          "very positive",
          "very positive",
          "slightly positive",
          "slightly positive",
          "very positive",
          "very positive",
          "very positive",
          "slightly negative",
          "Neutral",
          "positive",
          "positive",
          "slightly negative",
          "negative",
          "very negative",
          "very negative",
          "very negative",
          "very negative",
          "very positive",
          "slightly negative",
          "positive",
          "positive",
          "slightly positive",
          "slightly positive",
          "positive",
          "very negative",
          "slightly negative",
          "slightly negative",
          "very positive",
          "positive",
          "slightly negative",
          "very negative",
          "very positive",
          "very positive",
          "very positive",
          "Neutral",
          "very positive",
          "positive",
          "slightly negative",
          "positive",
          "Neutral",
          "slightly positive",
          "slightly positive",
          "positive",
          "slightly negative",
          "positive",
          "slightly negative",
          "slightly negative",
          "positive",
          "slightly positive",
          "positive",
          "positive",
          "positive",
          "slightly negative",
          "slightly negative",
          "Neutral",
          "slightly negative",
          "slightly negative",
          "Neutral",
          "slightly positive",
          "slightly negative",
          "slightly negative",
          "Neutral",
          "Neutral",
          "Neutral",
          "slightly negative",
          "slightly positive",
          "slightly positive",
          "very negative",
          "negative",
          "positive",
          "Neutral",
          "positive",
          "slightly negative",
          "very positive",
          "positive",
          "Neutral",
          "very positive",
          "positive",
          "Neutral",
          "very positive",
          "positive",
          "very positive",
          "positive",
          "very positive",
          "positive",
          "positive",
          "slightly positive",
          "Neutral",
          "very negative",
          "negative",
          "Neutral",
          "negative",
          "negative",
          "negative",
          "very negative",
          "very negative",
          "very negative",
          "slightly negative",
          "slightly negative",
          "positive",
          "negative",
          "negative",
          "negative",
          "negative",
          "negative",
          "negative",
          "very negative",
          "slightly positive",
          "very negative",
          "slightly negative",
          "very negative",
          "very negative",
          "negative",
          "very negative",
          "very negative",
          "slightly negative",
          "negative",
          "very negative",
          "negative",
          "slightly negative",
          "very negative",
          "very negative",
          "negative",
          "very negative",
          "very negative",
          "very negative",
          "very negative",
          "slightly negative",
          "very negative",
          "negative",
          "very negative",
          "Neutral",
          "negative",
          "slightly negative",
          "Neutral",
          "slightly positive",
          "slightly positive",
          "negative",
          "slightly positive",
          "slightly negative",
          "slightly positive",
          "slightly negative",
          "negative",
          "slightly negative",
          "negative",
          "slightly positive",
          "Neutral",
          "slightly positive",
          "negative",
          "slightly positive",
          "Neutral",
          "Neutral",
          "slightly negative",
          "slightly negative",
          "very negative",
          "negative",
          "negative",
          "slightly positive",
          "very negative",
          "slightly negative",
          "Neutral",
          "very negative",
          "Neutral",
          "positive",
          "slightly negative",
          "slightly negative",
          "slightly positive",
          "slightly positive",
          "very negative",
          "negative",
          "very negative",
          "slightly negative",
          "negative",
          "very negative",
          "negative",
          "slightly negative",
          "negative",
          "negative",
          "slightly positive",
          "slightly negative",
          "slightly negative",
          "negative",
          "slightly negative",
          "slightly negative",
          "Neutral",
          "positive",
          "positive",
          "positive",
          "very negative",
          "negative",
          "positive",
          "positive",
          "slightly positive",
          "negative",
          "slightly negative",
          "Neutral",
          "positive",
          "slightly positive",
          "slightly positive",
          "slightly positive",
          "positive",
          "Neutral",
          "slightly positive",
          "very negative",
          "slightly positive",
          "Neutral",
          "slightly negative",
          "positive",
          "slightly negative",
          "slightly negative",
          "Neutral",
          "very negative",
          "very negative",
          "very negative",
          "Neutral",
          "Neutral",
          "slightly negative",
          "slightly negative",
          "Neutral",
          "Neutral",
          "Neutral",
          "Neutral",
          "Neutral",
          "Neutral",
          "very negative",
          "slightly positive",
          "slightly negative",
          "negative",
          "Neutral",
          "Neutral",
          "negative",
          "slightly negative",
          "Neutral",
          "Neutral",
          "slightly positive",
          "positive",
          "negative",
          "slightly negative",
          "slightly positive",
          "Neutral",
          "positive",
          "slightly negative",
          "very positive",
          "very positive",
          "Neutral",
          "negative",
          "slightly negative",
          "negative",
          "slightly negative",
          "positive",
          "very positive",
          "very positive",
          "very positive",
          "slightly positive",
          "slightly negative",
          "slightly positive",
          "positive",
          "slightly positive",
          "very negative",
          "very negative",
          "very positive",
          "very negative",
          "slightly negative",
          "very negative",
          "slightly positive",
          "slightly negative",
          "negative",
          "negative",
          "negative",
          "negative",
          "slightly positive",
          "slightly positive",
          "slightly positive",
          "negative",
          "positive",
          "very negative",
          "negative",
          "positive",
          "positive",
          "slightly positive",
          "Neutral",
          "slightly positive",
          "negative",
          "slightly negative",
          "Neutral",
          "slightly positive",
          "Neutral",
          "slightly negative",
          "Neutral",
          "Neutral",
          "Neutral",
          "Neutral",
          "slightly positive",
          "Neutral",
          "positive",
          "slightly negative",
          "positive",
          "slightly negative",
          "positive",
          "slightly negative",
          "Neutral",
          "very negative",
          "very negative",
          "slightly negative",
          "slightly negative",
          "negative",
          "very negative",
          "very positive",
          "very negative",
          "very negative",
          "negative",
          "negative",
          "very positive",
          "very negative",
          "very negative",
          "Neutral",
          "negative",
          "negative",
          "negative",
          "negative",
          "positive",
          "very positive",
          "very negative",
          "negative",
          "very negative",
          "very negative",
          "very negative",
          "slightly positive",
          "slightly negative",
          "slightly positive",
          "very negative",
          "negative",
          "very negative",
          "negative",
          "Neutral",
          "slightly negative",
          "very negative",
          "negative",
          "slightly positive",
          "Neutral",
          "negative",
          "slightly positive",
          "negative",
          "Neutral",
          "negative",
          "slightly negative",
          "positive",
          "very negative",
          "slightly negative",
          "Neutral",
          "negative",
          "slightly negative",
          "Neutral",
          "slightly negative",
          "positive",
          "positive",
          "slightly positive",
          "negative",
          "Neutral",
          "negative",
          "positive",
          "positive",
          "positive",
          "slightly positive",
          "slightly positive",
          "slightly negative",
          "negative",
          "negative",
          "Neutral",
          "slightly positive",
          "slightly positive",
          "negative",
          "slightly positive",
          "slightly positive",
          "very positive",
          "slightly positive",
          "slightly positive",
          "very negative",
          "negative",
          "slightly negative",
          "very negative",
          "negative",
          "negative",
          "slightly positive",
          "negative",
          "Neutral",
          "negative",
          "slightly positive",
          "negative",
          "negative",
          "negative",
          "negative",
          "negative",
          "positive",
          "very positive",
          "very positive",
          "slightly negative",
          "negative",
          "positive",
          "slightly negative",
          "very negative",
          "negative",
          "negative",
          "positive",
          "positive",
          "slightly positive",
          "slightly negative",
          "very negative",
          "negative",
          "positive",
          "slightly positive",
          "positive",
          "slightly negative",
          "slightly positive",
          "very negative",
          "very positive",
          "slightly negative",
          "very negative",
          "very negative",
          "very negative",
          "Neutral",
          "negative",
          "negative",
          "very negative",
          "very negative",
          "slightly negative",
          "negative",
          "very negative",
          "negative",
          "negative",
          "negative",
          "very negative",
          "negative",
          "slightly positive",
          "very negative",
          "very negative",
          "very positive",
          "very positive",
          "very positive",
          "positive",
          "Neutral",
          "slightly positive",
          "negative",
          "slightly negative",
          "slightly negative",
          "negative",
          "negative",
          "very negative",
          "negative",
          "very negative",
          "negative",
          "negative",
          "Neutral",
          "very negative",
          "Neutral",
          "negative",
          "slightly positive",
          "very negative",
          "very negative",
          "positive",
          "positive",
          "negative",
          "negative",
          "Neutral",
          "very negative",
          "slightly negative",
          "negative",
          "negative",
          "Neutral",
          "slightly positive",
          "Neutral",
          "negative",
          "negative",
          "slightly negative",
          "slightly negative",
          "negative",
          "slightly negative",
          "negative",
          "slightly negative",
          "negative",
          "slightly negative",
          "very negative",
          "slightly negative",
          "negative",
          "Neutral",
          "negative",
          "negative",
          "Neutral",
          "Neutral",
          "slightly negative",
          "very positive",
          "Neutral",
          "slightly positive",
          "Neutral",
          "positive",
          "slightly positive",
          "positive",
          "positive",
          "positive",
          "very positive",
          "positive",
          "Neutral",
          "positive",
          "positive",
          "very positive",
          "Neutral",
          "positive",
          "very positive",
          "positive",
          "very positive",
          "slightly positive",
          "slightly positive",
          "positive",
          "negative",
          "very positive",
          "negative",
          "positive",
          "Neutral",
          "Neutral",
          "very negative",
          "very positive",
          "positive",
          "positive",
          "positive",
          "very positive",
          "very positive",
          "Neutral",
          "positive",
          "Neutral",
          "Neutral",
          "very positive",
          "positive",
          "very positive",
          "Neutral",
          "positive",
          "very positive",
          "slightly positive",
          "very positive",
          "slightly positive",
          "slightly positive",
          "slightly positive",
          "slightly negative",
          "Neutral",
          "slightly positive",
          "Neutral",
          "positive",
          "slightly negative",
          "Neutral",
          "negative",
          "negative",
          "Neutral",
          "positive",
          "positive",
          "slightly negative",
          "positive",
          "Neutral",
          "positive",
          "slightly negative",
          "slightly negative",
          "Neutral",
          "positive",
          "positive",
          "positive",
          "positive",
          "positive",
          "positive",
          "Neutral",
          "very positive",
          "positive",
          "slightly positive",
          "slightly positive",
          "slightly positive",
          "slightly positive",
          "slightly negative",
          "slightly positive",
          "slightly negative",
          "Neutral",
          "negative",
          "slightly negative",
          "slightly negative",
          "negative",
          "slightly negative",
          "negative",
          "very positive",
          "slightly positive",
          "slightly positive",
          "Neutral",
          "negative",
          "negative",
          "slightly negative",
          "Neutral",
          "positive",
          "very positive",
          "slightly negative",
          "negative",
          "slightly negative",
          "negative",
          "Neutral",
          "Neutral",
          "Neutral",
          "negative",
          "Neutral",
          "negative",
          "negative",
          "positive",
          "slightly negative",
          "negative",
          "slightly negative",
          "negative",
          "negative",
          "slightly negative",
          "very negative",
          "negative",
          "slightly positive",
          "negative",
          "negative",
          "slightly negative",
          "negative",
          "positive",
          "negative",
          "negative",
          "very negative",
          "slightly positive",
          "slightly positive",
          "slightly negative",
          "slightly negative",
          "slightly positive",
          "very negative",
          "negative",
          "slightly negative",
          "negative",
          "negative",
          "positive",
          "positive",
          "slightly positive",
          "slightly negative",
          "negative",
          "slightly positive",
          "slightly positive",
          "slightly negative",
          "Neutral",
          "slightly positive",
          "Neutral",
          "slightly positive",
          "positive",
          "slightly negative",
          "negative",
          "slightly negative",
          "slightly positive",
          "Neutral",
          "slightly positive",
          "slightly positive"
         ],
         "x0": " ",
         "xaxis": "x",
         "y": [
          0.5643309950828552,
          -0.6547983288764954,
          2.1726326942443848,
          2.2309000492095947,
          -0.26712650060653687,
          1.9652526378631592,
          -1.284897804260254,
          2.450512409210205,
          2.256669759750366,
          1.7500510215759277,
          1.9057915210723877,
          -1.2521523237228394,
          2.3814027309417725,
          1.9544039964675903,
          -0.5403711199760437,
          -0.5347725749015808,
          1.7058031558990479,
          -0.15865258872509003,
          1.6821510791778564,
          1.0531331300735474,
          1.7852206230163574,
          0.4836711287498474,
          0.27664610743522644,
          -0.6984331607818604,
          1.8577189445495605,
          0.362088143825531,
          0.29528331756591797,
          1.1845306158065796,
          1.8994836807250977,
          2.1896936893463135,
          -0.430780291557312,
          1.2651997804641724,
          -0.6867896318435669,
          1.1031469106674194,
          1.7094520330429077,
          1.247833490371704,
          1.7259273529052734,
          1.8156204223632812,
          2.807321071624756,
          2.630441188812256,
          1.810763955116272,
          1.38265860080719,
          2.2993388175964355,
          2.1432125568389893,
          1.1602874994277954,
          0.1976458579301834,
          2.1030633449554443,
          2.628325939178467,
          1.6604743003845215,
          0.3760841488838196,
          2.2561817169189453,
          1.2554285526275635,
          2.7698137760162354,
          1.719338297843933,
          2.36983323097229,
          1.3697915077209473,
          2.484616279602051,
          0.8705812692642212,
          2.5850470066070557,
          0.38646015524864197,
          1.5198278427124023,
          1.137203574180603,
          2.0599825382232666,
          1.1615227460861206,
          2.6427345275878906,
          2.768887519836426,
          2.788630247116089,
          1.4767563343048096,
          2.8075978755950928,
          2.530348777770996,
          1.3606377840042114,
          2.352971076965332,
          1.495867133140564,
          1.9569789171218872,
          2.401825189590454,
          2.44783091545105,
          0.8095425367355347,
          2.490220069885254,
          2.03275203704834,
          1.488374948501587,
          2.392099380493164,
          2.3695015907287598,
          2.90971302986145,
          1.8247942924499512,
          2.5359225273132324,
          0.33302995562553406,
          1.3460965156555176,
          1.0889043807983398,
          -0.4296681582927704,
          1.2113908529281616,
          0.9912934303283691,
          1.43776273727417,
          2.0639402866363525,
          1.372974157333374,
          0.9226420521736145,
          0.9682891368865967,
          1.0753954648971558,
          1.403567910194397,
          1.9579709768295288,
          1.4295467138290405,
          1.547861933708191,
          0.40696775913238525,
          2.279388189315796,
          1.3485265970230103,
          2.357041120529175,
          1.9233766794204712,
          1.93124258518219,
          2.5284769535064697,
          1.5489989519119263,
          2.7839369773864746,
          2.2761709690093994,
          1.1306662559509277,
          2.459171772003174,
          2.327968120574951,
          2.3785362243652344,
          0.09208296239376068,
          2.6033196449279785,
          2.780351161956787,
          1.8460168838500977,
          1.2976187467575073,
          2.204775094985962,
          -1.9168716669082642,
          0.7884265184402466,
          1.194052815437317,
          2.062764883041382,
          2.1072702407836914,
          0.3062843382358551,
          1.5298198461532593,
          -0.8071612119674683,
          2.3773016929626465,
          0.2575579881668091,
          1.7351197004318237,
          2.4853410720825195,
          -1.2949483394622803,
          -0.9420620203018188,
          -0.19096572697162628,
          -1.0507221221923828,
          -0.36813318729400635,
          -1.6874715089797974,
          0.3089277446269989,
          1.5229969024658203,
          -0.8557923436164856,
          0.43377068638801575,
          -0.6608357429504395,
          -1.1244795322418213,
          -0.4298437237739563,
          -0.8273292779922485,
          -0.5113680958747864,
          1.6691226959228516,
          1.387652039527893,
          -1.597741723060608,
          1.2834267616271973,
          1.5359888076782227,
          0.8069322109222412,
          -0.5120097994804382,
          1.5375171899795532,
          -1.3716082572937012,
          -0.4917130768299103,
          1.5399521589279175,
          -1.6040936708450317,
          -0.6258975863456726,
          -1.4759631156921387,
          0.2085859626531601,
          2.090498447418213,
          1.5348299741744995,
          2.016413927078247,
          2.286374807357788,
          2.4688239097595215,
          0.7926058769226074,
          0.9333675503730774,
          0.9389399886131287,
          2.555255651473999,
          1.9394681453704834,
          2.283733606338501,
          1.44876229763031,
          1.6617014408111572,
          2.3883132934570312,
          1.930785894393921,
          1.9959099292755127,
          1.1773239374160767,
          2.0336806774139404,
          2.471651077270508,
          2.2285959720611572,
          1.4272419214248657,
          1.3160169124603271,
          1.2221100330352783,
          1.0938984155654907,
          -1.304506540298462,
          1.464029312133789,
          0.7724844217300415,
          2.1450765132904053,
          1.1000124216079712,
          0.5352394580841064,
          1.0858008861541748,
          1.8127005100250244,
          2.0994393825531006,
          2.439124584197998,
          1.0899102687835693,
          0.5982764959335327,
          2.209867477416992,
          1.848861575126648,
          -0.37836816906929016,
          -0.28052806854248047,
          -0.5773064494132996,
          -0.381752610206604,
          -0.2733835279941559,
          -0.42783427238464355,
          0.05343291535973549,
          0.17278696596622467,
          -0.46321678161621094,
          0.5482579469680786,
          1.9013183116912842,
          1.7933193445205688,
          2.564586877822876,
          1.5923460721969604,
          1.7272472381591797,
          0.8552199602127075,
          1.10282301902771,
          2.249049663543701,
          2.1818320751190186,
          2.3760225772857666,
          1.5306544303894043,
          -1.5374960899353027,
          2.0952870845794678,
          2.240064859390259,
          2.517577648162842,
          1.3995249271392822,
          1.4902790784835815,
          2.344658374786377,
          1.9191620349884033,
          1.1011581420898438,
          0.9261928200721741,
          1.9186782836914062,
          1.9900462627410889,
          0.32158273458480835,
          1.8903143405914307,
          1.8507165908813477,
          1.6188851594924927,
          -0.16457413136959076,
          1.321527361869812,
          2.1799604892730713,
          2.1037228107452393,
          0.3457673490047455,
          0.7702603936195374,
          0.824150025844574,
          0.9006370306015015,
          1.8236483335494995,
          1.30960214138031,
          0.4692839980125427,
          1.7547210454940796,
          -0.038842592388391495,
          1.0168395042419434,
          1.3450623750686646,
          1.522908329963684,
          1.252389669418335,
          0.932048499584198,
          1.9963765144348145,
          2.4095911979675293,
          2.0519325733184814,
          2.1229236125946045,
          1.9644930362701416,
          1.8859783411026,
          1.8977160453796387,
          -0.5188696980476379,
          1.1115996837615967,
          1.1572574377059937,
          1.043271541595459,
          1.2511268854141235,
          2.483494520187378,
          -0.08767609298229218,
          1.2254040241241455,
          1.3526934385299683,
          0.8750506043434143,
          2.621140718460083,
          0.33482277393341064,
          2.7422757148742676,
          2.597982883453369,
          1.8344844579696655,
          2.702937602996826,
          2.3340249061584473,
          0.5534140467643738,
          0.5337234139442444,
          2.6394312381744385,
          2.84206223487854,
          2.533308744430542,
          2.490591287612915,
          1.6875126361846924,
          0.9610874652862549,
          1.9622269868850708,
          2.074415683746338,
          2.3581252098083496,
          -1.801922082901001,
          -1.573671579360962,
          0.15633447468280792,
          -1.418472170829773,
          0.18514174222946167,
          0.7666568160057068,
          2.638410806655884,
          0.8173617124557495,
          -0.7889479994773865,
          0.7754771709442139,
          -0.39901411533355713,
          1.9770020246505737,
          2.0402884483337402,
          2.4858462810516357,
          1.9716525077819824,
          1.2855722904205322,
          2.525630235671997,
          -0.3632083833217621,
          1.036216139793396,
          2.4535791873931885,
          1.8005094528198242,
          1.5692503452301025,
          1.9292558431625366,
          -0.21242398023605347,
          0.4588383734226227,
          2.2545814514160156,
          1.0408596992492676,
          2.109971046447754,
          1.9423778057098389,
          1.5583513975143433,
          1.7472468614578247,
          -0.7558228969573975,
          1.4283956289291382,
          1.7748429775238037,
          1.805426001548767,
          2.3734586238861084,
          0.6252562999725342,
          0.9642799496650696,
          2.4941318035125732,
          1.3656824827194214,
          1.9692933559417725,
          0.07976001501083374,
          2.3080174922943115,
          -1.1736727952957153,
          -0.9512598514556885,
          0.7040407061576843,
          1.338248610496521,
          0.8373486995697021,
          0.21237167716026306,
          2.6408581733703613,
          0.657380998134613,
          0.5499588251113892,
          -0.5478453636169434,
          -0.8948466777801514,
          2.7427468299865723,
          -1.6895315647125244,
          -1.5517181158065796,
          2.0680062770843506,
          1.3655723333358765,
          1.1620570421218872,
          -1.5949394702911377,
          0.18026626110076904,
          2.5384864807128906,
          2.653996706008911,
          1.1543021202087402,
          -0.27164754271507263,
          1.224528193473816,
          -0.08934327960014343,
          0.7707656621932983,
          2.0786280632019043,
          2.3523502349853516,
          2.539240837097168,
          2.0055229663848877,
          2.041738510131836,
          1.7844929695129395,
          1.73814058303833,
          2.2682180404663086,
          0.04444698989391327,
          -0.389823317527771,
          1.1097922325134277,
          2.2222354412078857,
          2.1957895755767822,
          1.711840033531189,
          2.5580689907073975,
          -0.5889381170272827,
          1.4228566884994507,
          1.105009913444519,
          0.4147384464740753,
          2.6507608890533447,
          0.8898941278457642,
          1.1231352090835571,
          1.3276073932647705,
          -0.6237019300460815,
          1.8484495878219604,
          1.6109707355499268,
          1.3596175909042358,
          2.3922817707061768,
          1.942408561706543,
          2.6280345916748047,
          1.8563324213027954,
          1.5756791830062866,
          0.3479435443878174,
          2.1620235443115234,
          2.4087560176849365,
          2.441371440887451,
          2.5712740421295166,
          1.8193931579589844,
          -0.06410341709852219,
          -0.2606757581233978,
          -0.06898023188114166,
          -0.5881182551383972,
          2.5676536560058594,
          2.1761927604675293,
          -0.13662545382976532,
          2.317035436630249,
          2.4690117835998535,
          2.863802433013916,
          2.208543300628662,
          2.22750186920166,
          -0.012911375612020493,
          2.083829641342163,
          0.5124754309654236,
          2.0946760177612305,
          0.12212985754013062,
          0.8616556525230408,
          1.3684682846069336,
          -0.7528416514396667,
          1.6296781301498413,
          1.1755601167678833,
          2.123952627182007,
          1.8259772062301636,
          1.400099515914917,
          -1.189115047454834,
          1.6007237434387207,
          2.129700183868408,
          2.469775915145874,
          2.0247647762298584,
          2.447444200515747,
          0.9513371586799622,
          1.795933485031128,
          1.7774784564971924,
          1.452169418334961,
          0.7999051809310913,
          1.3281543254852295,
          0.7977096438407898,
          2.4104254245758057,
          1.0213702917099,
          2.0373778343200684,
          1.0365310907363892,
          1.825172781944275,
          1.6041196584701538,
          2.4765233993530273,
          1.5533959865570068,
          2.22239089012146,
          2.5360400676727295,
          2.2935876846313477,
          -1.377344012260437,
          2.4045422077178955,
          1.6321992874145508,
          -0.6421245336532593,
          -1.2670197486877441,
          2.260068893432617,
          1.3143237829208374,
          -1.2390199899673462,
          -0.6378797292709351,
          1.5848714113235474,
          2.2130842208862305,
          1.073403000831604,
          -0.179635688662529,
          -0.5635717511177063,
          -0.08529788255691528,
          2.2147345542907715,
          -0.08218160271644592,
          2.7953131198883057,
          0.937315821647644,
          2.7407257556915283,
          0.8860312104225159,
          1.172140121459961,
          2.2267096042633057,
          2.5517988204956055,
          2.36440110206604,
          1.743903398513794,
          2.251431941986084,
          2.0195205211639404,
          1.0419899225234985,
          0.9750516414642334,
          2.17307186126709,
          0.9011859893798828,
          1.0188182592391968,
          -1.7071689367294312,
          1.4870191812515259,
          1.3979970216751099,
          1.8769820928573608,
          1.2822657823562622,
          2.2121968269348145,
          1.6067801713943481,
          1.252074122428894,
          1.1834248304367065,
          1.8009556531906128,
          1.152092456817627,
          0.6757782697677612,
          2.1986043453216553,
          2.153823137283325,
          0.5703790187835693,
          1.0211613178253174,
          1.0815571546554565,
          -1.6287959814071655,
          1.065365195274353,
          1.952919363975525,
          1.284403920173645,
          1.45099675655365,
          2.7461278438568115,
          1.3051230907440186,
          -1.8170557022094727,
          0.3089483678340912,
          1.0745378732681274,
          0.698756992816925,
          -0.3166028559207916,
          -0.05636836588382721,
          -0.08940723538398743,
          1.4530478715896606,
          1.0865235328674316,
          1.3860794305801392,
          1.6715035438537598,
          1.135219693183899,
          1.6305453777313232,
          0.9364961385726929,
          1.084138035774231,
          1.5442754030227661,
          1.5727736949920654,
          1.7501881122589111,
          1.0210853815078735,
          2.5777664184570312,
          2.264657735824585,
          2.719942092895508,
          1.2762714624404907,
          2.5020830631256104,
          1.2532507181167603,
          1.2671403884887695,
          2.2568295001983643,
          2.3773109912872314,
          2.0513453483581543,
          2.256544828414917,
          1.026557207107544,
          1.4629225730895996,
          2.659445285797119,
          2.4039692878723145,
          1.5219674110412598,
          2.623786211013794,
          2.734546422958374,
          2.2747840881347656,
          2.4794390201568604,
          2.5733022689819336,
          2.482372999191284,
          1.3519936800003052,
          2.358630895614624,
          1.916490912437439,
          1.0117450952529907,
          1.1952929496765137,
          2.0149879455566406,
          2.0026133060455322,
          1.7097713947296143,
          2.6947522163391113,
          2.049553632736206,
          2.336059093475342,
          2.633729934692383,
          2.35158109664917,
          2.4835145473480225,
          1.2711635828018188,
          1.71575927734375,
          1.2649462223052979,
          1.3457528352737427,
          1.9815770387649536,
          2.596864938735962,
          2.6488428115844727,
          2.0760841369628906,
          1.6792073249816895,
          2.421133279800415,
          2.2326598167419434,
          2.815068006515503,
          2.1275923252105713,
          1.108475923538208,
          1.7568180561065674,
          0.8973750472068787,
          1.8668255805969238,
          1.1194528341293335,
          2.83225417137146,
          2.147885799407959,
          1.4247127771377563,
          1.2452958822250366,
          0.725960910320282,
          1.2242043018341064,
          0.8537240624427795,
          2.591101884841919,
          2.413098096847534,
          1.5768799781799316,
          1.381229043006897,
          -0.24456201493740082,
          2.4730072021484375,
          1.7047680616378784,
          1.199730396270752,
          1.7516348361968994,
          2.069429874420166,
          2.0645086765289307,
          2.098895311355591,
          2.0630719661712646,
          2.02864933013916,
          1.8955483436584473,
          1.0552358627319336,
          2.5756232738494873,
          2.66469144821167,
          2.2179346084594727,
          2.566215991973877,
          2.322781801223755,
          0.9283217191696167,
          1.8822224140167236,
          1.9462486505508423,
          1.4279083013534546,
          1.5277326107025146,
          0.8604006171226501,
          2.225425958633423,
          2.1303935050964355,
          1.177924394607544,
          -1.0542880296707153,
          0.05634002760052681,
          2.609299421310425,
          1.2056992053985596,
          2.20230770111084,
          1.303714394569397,
          0.9930219650268555,
          0.054442454129457474,
          1.693096399307251,
          1.5708608627319336,
          2.285881280899048,
          2.3752777576446533,
          0.8718578219413757,
          1.8911908864974976,
          -0.9583730101585388,
          1.1268205642700195,
          1.4172124862670898,
          1.9732515811920166,
          0.9123212695121765,
          0.1640033721923828,
          1.4011245965957642,
          1.212722897529602,
          2.480597972869873,
          1.7594325542449951,
          1.1446176767349243,
          2.475111961364746,
          0.4251134991645813,
          2.63769268989563,
          1.683645248413086,
          0.9651480913162231,
          0.4523957669734955,
          1.5106780529022217,
          2.271331310272217,
          1.0896155834197998,
          -0.2276105433702469,
          1.4629472494125366,
          1.7069326639175415,
          2.3995816707611084,
          1.0426572561264038,
          0.2831868529319763,
          -0.30941280722618103,
          2.206223964691162,
          1.2858456373214722,
          1.2850953340530396,
          0.7379671931266785,
          2.095505475997925,
          -1.6641539335250854,
          -0.38796335458755493,
          0.9100587964057922,
          -0.07104073464870453,
          1.0353291034698486,
          2.2526257038116455,
          2.2259521484375,
          2.4499995708465576,
          1.4731216430664062,
          0.9938937425613403,
          1.411176085472107,
          0.8576595187187195,
          1.156127691268921,
          1.539586067199707,
          1.4758319854736328,
          1.085327386856079,
          1.5526446104049683,
          1.8585678339004517,
          -0.02848457545042038,
          -0.7343381643295288,
          -0.0830959677696228,
          1.8728784322738647,
          1.8869413137435913,
          2.410027027130127,
          2.5003416538238525
         ],
         "y0": " ",
         "yaxis": "y"
        }
       ],
       "layout": {
        "boxmode": "group",
        "legend": {
         "tracegroupgap": 0
        },
        "margin": {
         "t": 60
        },
        "template": {
         "data": {
          "bar": [
           {
            "error_x": {
             "color": "#2a3f5f"
            },
            "error_y": {
             "color": "#2a3f5f"
            },
            "marker": {
             "line": {
              "color": "#E5ECF6",
              "width": 0.5
             },
             "pattern": {
              "fillmode": "overlay",
              "size": 10,
              "solidity": 0.2
             }
            },
            "type": "bar"
           }
          ],
          "barpolar": [
           {
            "marker": {
             "line": {
              "color": "#E5ECF6",
              "width": 0.5
             },
             "pattern": {
              "fillmode": "overlay",
              "size": 10,
              "solidity": 0.2
             }
            },
            "type": "barpolar"
           }
          ],
          "carpet": [
           {
            "aaxis": {
             "endlinecolor": "#2a3f5f",
             "gridcolor": "white",
             "linecolor": "white",
             "minorgridcolor": "white",
             "startlinecolor": "#2a3f5f"
            },
            "baxis": {
             "endlinecolor": "#2a3f5f",
             "gridcolor": "white",
             "linecolor": "white",
             "minorgridcolor": "white",
             "startlinecolor": "#2a3f5f"
            },
            "type": "carpet"
           }
          ],
          "choropleth": [
           {
            "colorbar": {
             "outlinewidth": 0,
             "ticks": ""
            },
            "type": "choropleth"
           }
          ],
          "contour": [
           {
            "colorbar": {
             "outlinewidth": 0,
             "ticks": ""
            },
            "colorscale": [
             [
              0,
              "#0d0887"
             ],
             [
              0.1111111111111111,
              "#46039f"
             ],
             [
              0.2222222222222222,
              "#7201a8"
             ],
             [
              0.3333333333333333,
              "#9c179e"
             ],
             [
              0.4444444444444444,
              "#bd3786"
             ],
             [
              0.5555555555555556,
              "#d8576b"
             ],
             [
              0.6666666666666666,
              "#ed7953"
             ],
             [
              0.7777777777777778,
              "#fb9f3a"
             ],
             [
              0.8888888888888888,
              "#fdca26"
             ],
             [
              1,
              "#f0f921"
             ]
            ],
            "type": "contour"
           }
          ],
          "contourcarpet": [
           {
            "colorbar": {
             "outlinewidth": 0,
             "ticks": ""
            },
            "type": "contourcarpet"
           }
          ],
          "heatmap": [
           {
            "colorbar": {
             "outlinewidth": 0,
             "ticks": ""
            },
            "colorscale": [
             [
              0,
              "#0d0887"
             ],
             [
              0.1111111111111111,
              "#46039f"
             ],
             [
              0.2222222222222222,
              "#7201a8"
             ],
             [
              0.3333333333333333,
              "#9c179e"
             ],
             [
              0.4444444444444444,
              "#bd3786"
             ],
             [
              0.5555555555555556,
              "#d8576b"
             ],
             [
              0.6666666666666666,
              "#ed7953"
             ],
             [
              0.7777777777777778,
              "#fb9f3a"
             ],
             [
              0.8888888888888888,
              "#fdca26"
             ],
             [
              1,
              "#f0f921"
             ]
            ],
            "type": "heatmap"
           }
          ],
          "heatmapgl": [
           {
            "colorbar": {
             "outlinewidth": 0,
             "ticks": ""
            },
            "colorscale": [
             [
              0,
              "#0d0887"
             ],
             [
              0.1111111111111111,
              "#46039f"
             ],
             [
              0.2222222222222222,
              "#7201a8"
             ],
             [
              0.3333333333333333,
              "#9c179e"
             ],
             [
              0.4444444444444444,
              "#bd3786"
             ],
             [
              0.5555555555555556,
              "#d8576b"
             ],
             [
              0.6666666666666666,
              "#ed7953"
             ],
             [
              0.7777777777777778,
              "#fb9f3a"
             ],
             [
              0.8888888888888888,
              "#fdca26"
             ],
             [
              1,
              "#f0f921"
             ]
            ],
            "type": "heatmapgl"
           }
          ],
          "histogram": [
           {
            "marker": {
             "pattern": {
              "fillmode": "overlay",
              "size": 10,
              "solidity": 0.2
             }
            },
            "type": "histogram"
           }
          ],
          "histogram2d": [
           {
            "colorbar": {
             "outlinewidth": 0,
             "ticks": ""
            },
            "colorscale": [
             [
              0,
              "#0d0887"
             ],
             [
              0.1111111111111111,
              "#46039f"
             ],
             [
              0.2222222222222222,
              "#7201a8"
             ],
             [
              0.3333333333333333,
              "#9c179e"
             ],
             [
              0.4444444444444444,
              "#bd3786"
             ],
             [
              0.5555555555555556,
              "#d8576b"
             ],
             [
              0.6666666666666666,
              "#ed7953"
             ],
             [
              0.7777777777777778,
              "#fb9f3a"
             ],
             [
              0.8888888888888888,
              "#fdca26"
             ],
             [
              1,
              "#f0f921"
             ]
            ],
            "type": "histogram2d"
           }
          ],
          "histogram2dcontour": [
           {
            "colorbar": {
             "outlinewidth": 0,
             "ticks": ""
            },
            "colorscale": [
             [
              0,
              "#0d0887"
             ],
             [
              0.1111111111111111,
              "#46039f"
             ],
             [
              0.2222222222222222,
              "#7201a8"
             ],
             [
              0.3333333333333333,
              "#9c179e"
             ],
             [
              0.4444444444444444,
              "#bd3786"
             ],
             [
              0.5555555555555556,
              "#d8576b"
             ],
             [
              0.6666666666666666,
              "#ed7953"
             ],
             [
              0.7777777777777778,
              "#fb9f3a"
             ],
             [
              0.8888888888888888,
              "#fdca26"
             ],
             [
              1,
              "#f0f921"
             ]
            ],
            "type": "histogram2dcontour"
           }
          ],
          "mesh3d": [
           {
            "colorbar": {
             "outlinewidth": 0,
             "ticks": ""
            },
            "type": "mesh3d"
           }
          ],
          "parcoords": [
           {
            "line": {
             "colorbar": {
              "outlinewidth": 0,
              "ticks": ""
             }
            },
            "type": "parcoords"
           }
          ],
          "pie": [
           {
            "automargin": true,
            "type": "pie"
           }
          ],
          "scatter": [
           {
            "fillpattern": {
             "fillmode": "overlay",
             "size": 10,
             "solidity": 0.2
            },
            "type": "scatter"
           }
          ],
          "scatter3d": [
           {
            "line": {
             "colorbar": {
              "outlinewidth": 0,
              "ticks": ""
             }
            },
            "marker": {
             "colorbar": {
              "outlinewidth": 0,
              "ticks": ""
             }
            },
            "type": "scatter3d"
           }
          ],
          "scattercarpet": [
           {
            "marker": {
             "colorbar": {
              "outlinewidth": 0,
              "ticks": ""
             }
            },
            "type": "scattercarpet"
           }
          ],
          "scattergeo": [
           {
            "marker": {
             "colorbar": {
              "outlinewidth": 0,
              "ticks": ""
             }
            },
            "type": "scattergeo"
           }
          ],
          "scattergl": [
           {
            "marker": {
             "colorbar": {
              "outlinewidth": 0,
              "ticks": ""
             }
            },
            "type": "scattergl"
           }
          ],
          "scattermapbox": [
           {
            "marker": {
             "colorbar": {
              "outlinewidth": 0,
              "ticks": ""
             }
            },
            "type": "scattermapbox"
           }
          ],
          "scatterpolar": [
           {
            "marker": {
             "colorbar": {
              "outlinewidth": 0,
              "ticks": ""
             }
            },
            "type": "scatterpolar"
           }
          ],
          "scatterpolargl": [
           {
            "marker": {
             "colorbar": {
              "outlinewidth": 0,
              "ticks": ""
             }
            },
            "type": "scatterpolargl"
           }
          ],
          "scatterternary": [
           {
            "marker": {
             "colorbar": {
              "outlinewidth": 0,
              "ticks": ""
             }
            },
            "type": "scatterternary"
           }
          ],
          "surface": [
           {
            "colorbar": {
             "outlinewidth": 0,
             "ticks": ""
            },
            "colorscale": [
             [
              0,
              "#0d0887"
             ],
             [
              0.1111111111111111,
              "#46039f"
             ],
             [
              0.2222222222222222,
              "#7201a8"
             ],
             [
              0.3333333333333333,
              "#9c179e"
             ],
             [
              0.4444444444444444,
              "#bd3786"
             ],
             [
              0.5555555555555556,
              "#d8576b"
             ],
             [
              0.6666666666666666,
              "#ed7953"
             ],
             [
              0.7777777777777778,
              "#fb9f3a"
             ],
             [
              0.8888888888888888,
              "#fdca26"
             ],
             [
              1,
              "#f0f921"
             ]
            ],
            "type": "surface"
           }
          ],
          "table": [
           {
            "cells": {
             "fill": {
              "color": "#EBF0F8"
             },
             "line": {
              "color": "white"
             }
            },
            "header": {
             "fill": {
              "color": "#C8D4E3"
             },
             "line": {
              "color": "white"
             }
            },
            "type": "table"
           }
          ]
         },
         "layout": {
          "annotationdefaults": {
           "arrowcolor": "#2a3f5f",
           "arrowhead": 0,
           "arrowwidth": 1
          },
          "autotypenumbers": "strict",
          "coloraxis": {
           "colorbar": {
            "outlinewidth": 0,
            "ticks": ""
           }
          },
          "colorscale": {
           "diverging": [
            [
             0,
             "#8e0152"
            ],
            [
             0.1,
             "#c51b7d"
            ],
            [
             0.2,
             "#de77ae"
            ],
            [
             0.3,
             "#f1b6da"
            ],
            [
             0.4,
             "#fde0ef"
            ],
            [
             0.5,
             "#f7f7f7"
            ],
            [
             0.6,
             "#e6f5d0"
            ],
            [
             0.7,
             "#b8e186"
            ],
            [
             0.8,
             "#7fbc41"
            ],
            [
             0.9,
             "#4d9221"
            ],
            [
             1,
             "#276419"
            ]
           ],
           "sequential": [
            [
             0,
             "#0d0887"
            ],
            [
             0.1111111111111111,
             "#46039f"
            ],
            [
             0.2222222222222222,
             "#7201a8"
            ],
            [
             0.3333333333333333,
             "#9c179e"
            ],
            [
             0.4444444444444444,
             "#bd3786"
            ],
            [
             0.5555555555555556,
             "#d8576b"
            ],
            [
             0.6666666666666666,
             "#ed7953"
            ],
            [
             0.7777777777777778,
             "#fb9f3a"
            ],
            [
             0.8888888888888888,
             "#fdca26"
            ],
            [
             1,
             "#f0f921"
            ]
           ],
           "sequentialminus": [
            [
             0,
             "#0d0887"
            ],
            [
             0.1111111111111111,
             "#46039f"
            ],
            [
             0.2222222222222222,
             "#7201a8"
            ],
            [
             0.3333333333333333,
             "#9c179e"
            ],
            [
             0.4444444444444444,
             "#bd3786"
            ],
            [
             0.5555555555555556,
             "#d8576b"
            ],
            [
             0.6666666666666666,
             "#ed7953"
            ],
            [
             0.7777777777777778,
             "#fb9f3a"
            ],
            [
             0.8888888888888888,
             "#fdca26"
            ],
            [
             1,
             "#f0f921"
            ]
           ]
          },
          "colorway": [
           "#636efa",
           "#EF553B",
           "#00cc96",
           "#ab63fa",
           "#FFA15A",
           "#19d3f3",
           "#FF6692",
           "#B6E880",
           "#FF97FF",
           "#FECB52"
          ],
          "font": {
           "color": "#2a3f5f"
          },
          "geo": {
           "bgcolor": "white",
           "lakecolor": "white",
           "landcolor": "#E5ECF6",
           "showlakes": true,
           "showland": true,
           "subunitcolor": "white"
          },
          "hoverlabel": {
           "align": "left"
          },
          "hovermode": "closest",
          "mapbox": {
           "style": "light"
          },
          "paper_bgcolor": "white",
          "plot_bgcolor": "#E5ECF6",
          "polar": {
           "angularaxis": {
            "gridcolor": "white",
            "linecolor": "white",
            "ticks": ""
           },
           "bgcolor": "#E5ECF6",
           "radialaxis": {
            "gridcolor": "white",
            "linecolor": "white",
            "ticks": ""
           }
          },
          "scene": {
           "xaxis": {
            "backgroundcolor": "#E5ECF6",
            "gridcolor": "white",
            "gridwidth": 2,
            "linecolor": "white",
            "showbackground": true,
            "ticks": "",
            "zerolinecolor": "white"
           },
           "yaxis": {
            "backgroundcolor": "#E5ECF6",
            "gridcolor": "white",
            "gridwidth": 2,
            "linecolor": "white",
            "showbackground": true,
            "ticks": "",
            "zerolinecolor": "white"
           },
           "zaxis": {
            "backgroundcolor": "#E5ECF6",
            "gridcolor": "white",
            "gridwidth": 2,
            "linecolor": "white",
            "showbackground": true,
            "ticks": "",
            "zerolinecolor": "white"
           }
          },
          "shapedefaults": {
           "line": {
            "color": "#2a3f5f"
           }
          },
          "ternary": {
           "aaxis": {
            "gridcolor": "white",
            "linecolor": "white",
            "ticks": ""
           },
           "baxis": {
            "gridcolor": "white",
            "linecolor": "white",
            "ticks": ""
           },
           "bgcolor": "#E5ECF6",
           "caxis": {
            "gridcolor": "white",
            "linecolor": "white",
            "ticks": ""
           }
          },
          "title": {
           "x": 0.05
          },
          "xaxis": {
           "automargin": true,
           "gridcolor": "white",
           "linecolor": "white",
           "ticks": "",
           "title": {
            "standoff": 15
           },
           "zerolinecolor": "white",
           "zerolinewidth": 2
          },
          "yaxis": {
           "automargin": true,
           "gridcolor": "white",
           "linecolor": "white",
           "ticks": "",
           "title": {
            "standoff": 15
           },
           "zerolinecolor": "white",
           "zerolinewidth": 2
          }
         }
        },
        "title": {
         "text": "CMU-MOSI MIM prediction value distribution"
        },
        "xaxis": {
         "anchor": "y",
         "categoryarray": [
          "very negative",
          "negative",
          "slightly negative",
          "Neutral",
          "slightly positive",
          "positive",
          "very positive"
         ],
         "categoryorder": "array",
         "domain": [
          0,
          1
         ],
         "title": {
          "text": "labels_7"
         }
        },
        "yaxis": {
         "anchor": "x",
         "domain": [
          0,
          1
         ],
         "title": {
          "text": "preds"
         }
        }
       }
      },
      "text/html": [
       "<div>                            <div id=\"374e0e40-13ee-4ec7-8ed4-fa7b25683d57\" class=\"plotly-graph-div\" style=\"height:525px; width:100%;\"></div>            <script type=\"text/javascript\">                require([\"plotly\"], function(Plotly) {                    window.PLOTLYENV=window.PLOTLYENV || {};                                    if (document.getElementById(\"374e0e40-13ee-4ec7-8ed4-fa7b25683d57\")) {                    Plotly.newPlot(                        \"374e0e40-13ee-4ec7-8ed4-fa7b25683d57\",                        [{\"alignmentgroup\":\"True\",\"hovertemplate\":\"labels_7=%{x}<br>preds=%{y}<extra></extra>\",\"legendgroup\":\"\",\"marker\":{\"color\":\"#636efa\"},\"name\":\"\",\"notched\":false,\"offsetgroup\":\"\",\"orientation\":\"v\",\"showlegend\":false,\"x\":[\"very negative\",\"very negative\",\"slightly negative\",\"positive\",\"very negative\",\"very negative\",\"very negative\",\"very negative\",\"Neutral\",\"slightly positive\",\"slightly positive\",\"very negative\",\"very negative\",\"slightly positive\",\"very negative\",\"negative\",\"negative\",\"very negative\",\"negative\",\"negative\",\"slightly negative\",\"very negative\",\"slightly negative\",\"negative\",\"Neutral\",\"very negative\",\"negative\",\"slightly negative\",\"slightly positive\",\"slightly positive\",\"negative\",\"very negative\",\"negative\",\"very positive\",\"very positive\",\"slightly positive\",\"slightly positive\",\"very positive\",\"very positive\",\"very positive\",\"slightly negative\",\"Neutral\",\"positive\",\"positive\",\"slightly negative\",\"negative\",\"very negative\",\"very negative\",\"very negative\",\"very negative\",\"very positive\",\"slightly negative\",\"positive\",\"positive\",\"slightly positive\",\"slightly positive\",\"positive\",\"very negative\",\"slightly negative\",\"slightly negative\",\"very positive\",\"positive\",\"slightly negative\",\"very negative\",\"very positive\",\"very positive\",\"very positive\",\"Neutral\",\"very positive\",\"positive\",\"slightly negative\",\"positive\",\"Neutral\",\"slightly positive\",\"slightly positive\",\"positive\",\"slightly negative\",\"positive\",\"slightly negative\",\"slightly negative\",\"positive\",\"slightly positive\",\"positive\",\"positive\",\"positive\",\"slightly negative\",\"slightly negative\",\"Neutral\",\"slightly negative\",\"slightly negative\",\"Neutral\",\"slightly positive\",\"slightly negative\",\"slightly negative\",\"Neutral\",\"Neutral\",\"Neutral\",\"slightly negative\",\"slightly positive\",\"slightly positive\",\"very negative\",\"negative\",\"positive\",\"Neutral\",\"positive\",\"slightly negative\",\"very positive\",\"positive\",\"Neutral\",\"very positive\",\"positive\",\"Neutral\",\"very positive\",\"positive\",\"very positive\",\"positive\",\"very positive\",\"positive\",\"positive\",\"slightly positive\",\"Neutral\",\"very negative\",\"negative\",\"Neutral\",\"negative\",\"negative\",\"negative\",\"very negative\",\"very negative\",\"very negative\",\"slightly negative\",\"slightly negative\",\"positive\",\"negative\",\"negative\",\"negative\",\"negative\",\"negative\",\"negative\",\"very negative\",\"slightly positive\",\"very negative\",\"slightly negative\",\"very negative\",\"very negative\",\"negative\",\"very negative\",\"very negative\",\"slightly negative\",\"negative\",\"very negative\",\"negative\",\"slightly negative\",\"very negative\",\"very negative\",\"negative\",\"very negative\",\"very negative\",\"very negative\",\"very negative\",\"slightly negative\",\"very negative\",\"negative\",\"very negative\",\"Neutral\",\"negative\",\"slightly negative\",\"Neutral\",\"slightly positive\",\"slightly positive\",\"negative\",\"slightly positive\",\"slightly negative\",\"slightly positive\",\"slightly negative\",\"negative\",\"slightly negative\",\"negative\",\"slightly positive\",\"Neutral\",\"slightly positive\",\"negative\",\"slightly positive\",\"Neutral\",\"Neutral\",\"slightly negative\",\"slightly negative\",\"very negative\",\"negative\",\"negative\",\"slightly positive\",\"very negative\",\"slightly negative\",\"Neutral\",\"very negative\",\"Neutral\",\"positive\",\"slightly negative\",\"slightly negative\",\"slightly positive\",\"slightly positive\",\"very negative\",\"negative\",\"very negative\",\"slightly negative\",\"negative\",\"very negative\",\"negative\",\"slightly negative\",\"negative\",\"negative\",\"slightly positive\",\"slightly negative\",\"slightly negative\",\"negative\",\"slightly negative\",\"slightly negative\",\"Neutral\",\"positive\",\"positive\",\"positive\",\"very negative\",\"negative\",\"positive\",\"positive\",\"slightly positive\",\"negative\",\"slightly negative\",\"Neutral\",\"positive\",\"slightly positive\",\"slightly positive\",\"slightly positive\",\"positive\",\"Neutral\",\"slightly positive\",\"very negative\",\"slightly positive\",\"Neutral\",\"slightly negative\",\"positive\",\"slightly negative\",\"slightly negative\",\"Neutral\",\"very negative\",\"very negative\",\"very negative\",\"Neutral\",\"Neutral\",\"slightly negative\",\"slightly negative\",\"Neutral\",\"Neutral\",\"Neutral\",\"Neutral\",\"Neutral\",\"Neutral\",\"very negative\",\"slightly positive\",\"slightly negative\",\"negative\",\"Neutral\",\"Neutral\",\"negative\",\"slightly negative\",\"Neutral\",\"Neutral\",\"slightly positive\",\"positive\",\"negative\",\"slightly negative\",\"slightly positive\",\"Neutral\",\"positive\",\"slightly negative\",\"very positive\",\"very positive\",\"Neutral\",\"negative\",\"slightly negative\",\"negative\",\"slightly negative\",\"positive\",\"very positive\",\"very positive\",\"very positive\",\"slightly positive\",\"slightly negative\",\"slightly positive\",\"positive\",\"slightly positive\",\"very negative\",\"very negative\",\"very positive\",\"very negative\",\"slightly negative\",\"very negative\",\"slightly positive\",\"slightly negative\",\"negative\",\"negative\",\"negative\",\"negative\",\"slightly positive\",\"slightly positive\",\"slightly positive\",\"negative\",\"positive\",\"very negative\",\"negative\",\"positive\",\"positive\",\"slightly positive\",\"Neutral\",\"slightly positive\",\"negative\",\"slightly negative\",\"Neutral\",\"slightly positive\",\"Neutral\",\"slightly negative\",\"Neutral\",\"Neutral\",\"Neutral\",\"Neutral\",\"slightly positive\",\"Neutral\",\"positive\",\"slightly negative\",\"positive\",\"slightly negative\",\"positive\",\"slightly negative\",\"Neutral\",\"very negative\",\"very negative\",\"slightly negative\",\"slightly negative\",\"negative\",\"very negative\",\"very positive\",\"very negative\",\"very negative\",\"negative\",\"negative\",\"very positive\",\"very negative\",\"very negative\",\"Neutral\",\"negative\",\"negative\",\"negative\",\"negative\",\"positive\",\"very positive\",\"very negative\",\"negative\",\"very negative\",\"very negative\",\"very negative\",\"slightly positive\",\"slightly negative\",\"slightly positive\",\"very negative\",\"negative\",\"very negative\",\"negative\",\"Neutral\",\"slightly negative\",\"very negative\",\"negative\",\"slightly positive\",\"Neutral\",\"negative\",\"slightly positive\",\"negative\",\"Neutral\",\"negative\",\"slightly negative\",\"positive\",\"very negative\",\"slightly negative\",\"Neutral\",\"negative\",\"slightly negative\",\"Neutral\",\"slightly negative\",\"positive\",\"positive\",\"slightly positive\",\"negative\",\"Neutral\",\"negative\",\"positive\",\"positive\",\"positive\",\"slightly positive\",\"slightly positive\",\"slightly negative\",\"negative\",\"negative\",\"Neutral\",\"slightly positive\",\"slightly positive\",\"negative\",\"slightly positive\",\"slightly positive\",\"very positive\",\"slightly positive\",\"slightly positive\",\"very negative\",\"negative\",\"slightly negative\",\"very negative\",\"negative\",\"negative\",\"slightly positive\",\"negative\",\"Neutral\",\"negative\",\"slightly positive\",\"negative\",\"negative\",\"negative\",\"negative\",\"negative\",\"positive\",\"very positive\",\"very positive\",\"slightly negative\",\"negative\",\"positive\",\"slightly negative\",\"very negative\",\"negative\",\"negative\",\"positive\",\"positive\",\"slightly positive\",\"slightly negative\",\"very negative\",\"negative\",\"positive\",\"slightly positive\",\"positive\",\"slightly negative\",\"slightly positive\",\"very negative\",\"very positive\",\"slightly negative\",\"very negative\",\"very negative\",\"very negative\",\"Neutral\",\"negative\",\"negative\",\"very negative\",\"very negative\",\"slightly negative\",\"negative\",\"very negative\",\"negative\",\"negative\",\"negative\",\"very negative\",\"negative\",\"slightly positive\",\"very negative\",\"very negative\",\"very positive\",\"very positive\",\"very positive\",\"positive\",\"Neutral\",\"slightly positive\",\"negative\",\"slightly negative\",\"slightly negative\",\"negative\",\"negative\",\"very negative\",\"negative\",\"very negative\",\"negative\",\"negative\",\"Neutral\",\"very negative\",\"Neutral\",\"negative\",\"slightly positive\",\"very negative\",\"very negative\",\"positive\",\"positive\",\"negative\",\"negative\",\"Neutral\",\"very negative\",\"slightly negative\",\"negative\",\"negative\",\"Neutral\",\"slightly positive\",\"Neutral\",\"negative\",\"negative\",\"slightly negative\",\"slightly negative\",\"negative\",\"slightly negative\",\"negative\",\"slightly negative\",\"negative\",\"slightly negative\",\"very negative\",\"slightly negative\",\"negative\",\"Neutral\",\"negative\",\"negative\",\"Neutral\",\"Neutral\",\"slightly negative\",\"very positive\",\"Neutral\",\"slightly positive\",\"Neutral\",\"positive\",\"slightly positive\",\"positive\",\"positive\",\"positive\",\"very positive\",\"positive\",\"Neutral\",\"positive\",\"positive\",\"very positive\",\"Neutral\",\"positive\",\"very positive\",\"positive\",\"very positive\",\"slightly positive\",\"slightly positive\",\"positive\",\"negative\",\"very positive\",\"negative\",\"positive\",\"Neutral\",\"Neutral\",\"very negative\",\"very positive\",\"positive\",\"positive\",\"positive\",\"very positive\",\"very positive\",\"Neutral\",\"positive\",\"Neutral\",\"Neutral\",\"very positive\",\"positive\",\"very positive\",\"Neutral\",\"positive\",\"very positive\",\"slightly positive\",\"very positive\",\"slightly positive\",\"slightly positive\",\"slightly positive\",\"slightly negative\",\"Neutral\",\"slightly positive\",\"Neutral\",\"positive\",\"slightly negative\",\"Neutral\",\"negative\",\"negative\",\"Neutral\",\"positive\",\"positive\",\"slightly negative\",\"positive\",\"Neutral\",\"positive\",\"slightly negative\",\"slightly negative\",\"Neutral\",\"positive\",\"positive\",\"positive\",\"positive\",\"positive\",\"positive\",\"Neutral\",\"very positive\",\"positive\",\"slightly positive\",\"slightly positive\",\"slightly positive\",\"slightly positive\",\"slightly negative\",\"slightly positive\",\"slightly negative\",\"Neutral\",\"negative\",\"slightly negative\",\"slightly negative\",\"negative\",\"slightly negative\",\"negative\",\"very positive\",\"slightly positive\",\"slightly positive\",\"Neutral\",\"negative\",\"negative\",\"slightly negative\",\"Neutral\",\"positive\",\"very positive\",\"slightly negative\",\"negative\",\"slightly negative\",\"negative\",\"Neutral\",\"Neutral\",\"Neutral\",\"negative\",\"Neutral\",\"negative\",\"negative\",\"positive\",\"slightly negative\",\"negative\",\"slightly negative\",\"negative\",\"negative\",\"slightly negative\",\"very negative\",\"negative\",\"slightly positive\",\"negative\",\"negative\",\"slightly negative\",\"negative\",\"positive\",\"negative\",\"negative\",\"very negative\",\"slightly positive\",\"slightly positive\",\"slightly negative\",\"slightly negative\",\"slightly positive\",\"very negative\",\"negative\",\"slightly negative\",\"negative\",\"negative\",\"positive\",\"positive\",\"slightly positive\",\"slightly negative\",\"negative\",\"slightly positive\",\"slightly positive\",\"slightly negative\",\"Neutral\",\"slightly positive\",\"Neutral\",\"slightly positive\",\"positive\",\"slightly negative\",\"negative\",\"slightly negative\",\"slightly positive\",\"Neutral\",\"slightly positive\",\"slightly positive\"],\"x0\":\" \",\"xaxis\":\"x\",\"y\":[0.5643309950828552,-0.6547983288764954,2.1726326942443848,2.2309000492095947,-0.26712650060653687,1.9652526378631592,-1.284897804260254,2.450512409210205,2.256669759750366,1.7500510215759277,1.9057915210723877,-1.2521523237228394,2.3814027309417725,1.9544039964675903,-0.5403711199760437,-0.5347725749015808,1.7058031558990479,-0.15865258872509003,1.6821510791778564,1.0531331300735474,1.7852206230163574,0.4836711287498474,0.27664610743522644,-0.6984331607818604,1.8577189445495605,0.362088143825531,0.29528331756591797,1.1845306158065796,1.8994836807250977,2.1896936893463135,-0.430780291557312,1.2651997804641724,-0.6867896318435669,1.1031469106674194,1.7094520330429077,1.247833490371704,1.7259273529052734,1.8156204223632812,2.807321071624756,2.630441188812256,1.810763955116272,1.38265860080719,2.2993388175964355,2.1432125568389893,1.1602874994277954,0.1976458579301834,2.1030633449554443,2.628325939178467,1.6604743003845215,0.3760841488838196,2.2561817169189453,1.2554285526275635,2.7698137760162354,1.719338297843933,2.36983323097229,1.3697915077209473,2.484616279602051,0.8705812692642212,2.5850470066070557,0.38646015524864197,1.5198278427124023,1.137203574180603,2.0599825382232666,1.1615227460861206,2.6427345275878906,2.768887519836426,2.788630247116089,1.4767563343048096,2.8075978755950928,2.530348777770996,1.3606377840042114,2.352971076965332,1.495867133140564,1.9569789171218872,2.401825189590454,2.44783091545105,0.8095425367355347,2.490220069885254,2.03275203704834,1.488374948501587,2.392099380493164,2.3695015907287598,2.90971302986145,1.8247942924499512,2.5359225273132324,0.33302995562553406,1.3460965156555176,1.0889043807983398,-0.4296681582927704,1.2113908529281616,0.9912934303283691,1.43776273727417,2.0639402866363525,1.372974157333374,0.9226420521736145,0.9682891368865967,1.0753954648971558,1.403567910194397,1.9579709768295288,1.4295467138290405,1.547861933708191,0.40696775913238525,2.279388189315796,1.3485265970230103,2.357041120529175,1.9233766794204712,1.93124258518219,2.5284769535064697,1.5489989519119263,2.7839369773864746,2.2761709690093994,1.1306662559509277,2.459171772003174,2.327968120574951,2.3785362243652344,0.09208296239376068,2.6033196449279785,2.780351161956787,1.8460168838500977,1.2976187467575073,2.204775094985962,-1.9168716669082642,0.7884265184402466,1.194052815437317,2.062764883041382,2.1072702407836914,0.3062843382358551,1.5298198461532593,-0.8071612119674683,2.3773016929626465,0.2575579881668091,1.7351197004318237,2.4853410720825195,-1.2949483394622803,-0.9420620203018188,-0.19096572697162628,-1.0507221221923828,-0.36813318729400635,-1.6874715089797974,0.3089277446269989,1.5229969024658203,-0.8557923436164856,0.43377068638801575,-0.6608357429504395,-1.1244795322418213,-0.4298437237739563,-0.8273292779922485,-0.5113680958747864,1.6691226959228516,1.387652039527893,-1.597741723060608,1.2834267616271973,1.5359888076782227,0.8069322109222412,-0.5120097994804382,1.5375171899795532,-1.3716082572937012,-0.4917130768299103,1.5399521589279175,-1.6040936708450317,-0.6258975863456726,-1.4759631156921387,0.2085859626531601,2.090498447418213,1.5348299741744995,2.016413927078247,2.286374807357788,2.4688239097595215,0.7926058769226074,0.9333675503730774,0.9389399886131287,2.555255651473999,1.9394681453704834,2.283733606338501,1.44876229763031,1.6617014408111572,2.3883132934570312,1.930785894393921,1.9959099292755127,1.1773239374160767,2.0336806774139404,2.471651077270508,2.2285959720611572,1.4272419214248657,1.3160169124603271,1.2221100330352783,1.0938984155654907,-1.304506540298462,1.464029312133789,0.7724844217300415,2.1450765132904053,1.1000124216079712,0.5352394580841064,1.0858008861541748,1.8127005100250244,2.0994393825531006,2.439124584197998,1.0899102687835693,0.5982764959335327,2.209867477416992,1.848861575126648,-0.37836816906929016,-0.28052806854248047,-0.5773064494132996,-0.381752610206604,-0.2733835279941559,-0.42783427238464355,0.05343291535973549,0.17278696596622467,-0.46321678161621094,0.5482579469680786,1.9013183116912842,1.7933193445205688,2.564586877822876,1.5923460721969604,1.7272472381591797,0.8552199602127075,1.10282301902771,2.249049663543701,2.1818320751190186,2.3760225772857666,1.5306544303894043,-1.5374960899353027,2.0952870845794678,2.240064859390259,2.517577648162842,1.3995249271392822,1.4902790784835815,2.344658374786377,1.9191620349884033,1.1011581420898438,0.9261928200721741,1.9186782836914062,1.9900462627410889,0.32158273458480835,1.8903143405914307,1.8507165908813477,1.6188851594924927,-0.16457413136959076,1.321527361869812,2.1799604892730713,2.1037228107452393,0.3457673490047455,0.7702603936195374,0.824150025844574,0.9006370306015015,1.8236483335494995,1.30960214138031,0.4692839980125427,1.7547210454940796,-0.038842592388391495,1.0168395042419434,1.3450623750686646,1.522908329963684,1.252389669418335,0.932048499584198,1.9963765144348145,2.4095911979675293,2.0519325733184814,2.1229236125946045,1.9644930362701416,1.8859783411026,1.8977160453796387,-0.5188696980476379,1.1115996837615967,1.1572574377059937,1.043271541595459,1.2511268854141235,2.483494520187378,-0.08767609298229218,1.2254040241241455,1.3526934385299683,0.8750506043434143,2.621140718460083,0.33482277393341064,2.7422757148742676,2.597982883453369,1.8344844579696655,2.702937602996826,2.3340249061584473,0.5534140467643738,0.5337234139442444,2.6394312381744385,2.84206223487854,2.533308744430542,2.490591287612915,1.6875126361846924,0.9610874652862549,1.9622269868850708,2.074415683746338,2.3581252098083496,-1.801922082901001,-1.573671579360962,0.15633447468280792,-1.418472170829773,0.18514174222946167,0.7666568160057068,2.638410806655884,0.8173617124557495,-0.7889479994773865,0.7754771709442139,-0.39901411533355713,1.9770020246505737,2.0402884483337402,2.4858462810516357,1.9716525077819824,1.2855722904205322,2.525630235671997,-0.3632083833217621,1.036216139793396,2.4535791873931885,1.8005094528198242,1.5692503452301025,1.9292558431625366,-0.21242398023605347,0.4588383734226227,2.2545814514160156,1.0408596992492676,2.109971046447754,1.9423778057098389,1.5583513975143433,1.7472468614578247,-0.7558228969573975,1.4283956289291382,1.7748429775238037,1.805426001548767,2.3734586238861084,0.6252562999725342,0.9642799496650696,2.4941318035125732,1.3656824827194214,1.9692933559417725,0.07976001501083374,2.3080174922943115,-1.1736727952957153,-0.9512598514556885,0.7040407061576843,1.338248610496521,0.8373486995697021,0.21237167716026306,2.6408581733703613,0.657380998134613,0.5499588251113892,-0.5478453636169434,-0.8948466777801514,2.7427468299865723,-1.6895315647125244,-1.5517181158065796,2.0680062770843506,1.3655723333358765,1.1620570421218872,-1.5949394702911377,0.18026626110076904,2.5384864807128906,2.653996706008911,1.1543021202087402,-0.27164754271507263,1.224528193473816,-0.08934327960014343,0.7707656621932983,2.0786280632019043,2.3523502349853516,2.539240837097168,2.0055229663848877,2.041738510131836,1.7844929695129395,1.73814058303833,2.2682180404663086,0.04444698989391327,-0.389823317527771,1.1097922325134277,2.2222354412078857,2.1957895755767822,1.711840033531189,2.5580689907073975,-0.5889381170272827,1.4228566884994507,1.105009913444519,0.4147384464740753,2.6507608890533447,0.8898941278457642,1.1231352090835571,1.3276073932647705,-0.6237019300460815,1.8484495878219604,1.6109707355499268,1.3596175909042358,2.3922817707061768,1.942408561706543,2.6280345916748047,1.8563324213027954,1.5756791830062866,0.3479435443878174,2.1620235443115234,2.4087560176849365,2.441371440887451,2.5712740421295166,1.8193931579589844,-0.06410341709852219,-0.2606757581233978,-0.06898023188114166,-0.5881182551383972,2.5676536560058594,2.1761927604675293,-0.13662545382976532,2.317035436630249,2.4690117835998535,2.863802433013916,2.208543300628662,2.22750186920166,-0.012911375612020493,2.083829641342163,0.5124754309654236,2.0946760177612305,0.12212985754013062,0.8616556525230408,1.3684682846069336,-0.7528416514396667,1.6296781301498413,1.1755601167678833,2.123952627182007,1.8259772062301636,1.400099515914917,-1.189115047454834,1.6007237434387207,2.129700183868408,2.469775915145874,2.0247647762298584,2.447444200515747,0.9513371586799622,1.795933485031128,1.7774784564971924,1.452169418334961,0.7999051809310913,1.3281543254852295,0.7977096438407898,2.4104254245758057,1.0213702917099,2.0373778343200684,1.0365310907363892,1.825172781944275,1.6041196584701538,2.4765233993530273,1.5533959865570068,2.22239089012146,2.5360400676727295,2.2935876846313477,-1.377344012260437,2.4045422077178955,1.6321992874145508,-0.6421245336532593,-1.2670197486877441,2.260068893432617,1.3143237829208374,-1.2390199899673462,-0.6378797292709351,1.5848714113235474,2.2130842208862305,1.073403000831604,-0.179635688662529,-0.5635717511177063,-0.08529788255691528,2.2147345542907715,-0.08218160271644592,2.7953131198883057,0.937315821647644,2.7407257556915283,0.8860312104225159,1.172140121459961,2.2267096042633057,2.5517988204956055,2.36440110206604,1.743903398513794,2.251431941986084,2.0195205211639404,1.0419899225234985,0.9750516414642334,2.17307186126709,0.9011859893798828,1.0188182592391968,-1.7071689367294312,1.4870191812515259,1.3979970216751099,1.8769820928573608,1.2822657823562622,2.2121968269348145,1.6067801713943481,1.252074122428894,1.1834248304367065,1.8009556531906128,1.152092456817627,0.6757782697677612,2.1986043453216553,2.153823137283325,0.5703790187835693,1.0211613178253174,1.0815571546554565,-1.6287959814071655,1.065365195274353,1.952919363975525,1.284403920173645,1.45099675655365,2.7461278438568115,1.3051230907440186,-1.8170557022094727,0.3089483678340912,1.0745378732681274,0.698756992816925,-0.3166028559207916,-0.05636836588382721,-0.08940723538398743,1.4530478715896606,1.0865235328674316,1.3860794305801392,1.6715035438537598,1.135219693183899,1.6305453777313232,0.9364961385726929,1.084138035774231,1.5442754030227661,1.5727736949920654,1.7501881122589111,1.0210853815078735,2.5777664184570312,2.264657735824585,2.719942092895508,1.2762714624404907,2.5020830631256104,1.2532507181167603,1.2671403884887695,2.2568295001983643,2.3773109912872314,2.0513453483581543,2.256544828414917,1.026557207107544,1.4629225730895996,2.659445285797119,2.4039692878723145,1.5219674110412598,2.623786211013794,2.734546422958374,2.2747840881347656,2.4794390201568604,2.5733022689819336,2.482372999191284,1.3519936800003052,2.358630895614624,1.916490912437439,1.0117450952529907,1.1952929496765137,2.0149879455566406,2.0026133060455322,1.7097713947296143,2.6947522163391113,2.049553632736206,2.336059093475342,2.633729934692383,2.35158109664917,2.4835145473480225,1.2711635828018188,1.71575927734375,1.2649462223052979,1.3457528352737427,1.9815770387649536,2.596864938735962,2.6488428115844727,2.0760841369628906,1.6792073249816895,2.421133279800415,2.2326598167419434,2.815068006515503,2.1275923252105713,1.108475923538208,1.7568180561065674,0.8973750472068787,1.8668255805969238,1.1194528341293335,2.83225417137146,2.147885799407959,1.4247127771377563,1.2452958822250366,0.725960910320282,1.2242043018341064,0.8537240624427795,2.591101884841919,2.413098096847534,1.5768799781799316,1.381229043006897,-0.24456201493740082,2.4730072021484375,1.7047680616378784,1.199730396270752,1.7516348361968994,2.069429874420166,2.0645086765289307,2.098895311355591,2.0630719661712646,2.02864933013916,1.8955483436584473,1.0552358627319336,2.5756232738494873,2.66469144821167,2.2179346084594727,2.566215991973877,2.322781801223755,0.9283217191696167,1.8822224140167236,1.9462486505508423,1.4279083013534546,1.5277326107025146,0.8604006171226501,2.225425958633423,2.1303935050964355,1.177924394607544,-1.0542880296707153,0.05634002760052681,2.609299421310425,1.2056992053985596,2.20230770111084,1.303714394569397,0.9930219650268555,0.054442454129457474,1.693096399307251,1.5708608627319336,2.285881280899048,2.3752777576446533,0.8718578219413757,1.8911908864974976,-0.9583730101585388,1.1268205642700195,1.4172124862670898,1.9732515811920166,0.9123212695121765,0.1640033721923828,1.4011245965957642,1.212722897529602,2.480597972869873,1.7594325542449951,1.1446176767349243,2.475111961364746,0.4251134991645813,2.63769268989563,1.683645248413086,0.9651480913162231,0.4523957669734955,1.5106780529022217,2.271331310272217,1.0896155834197998,-0.2276105433702469,1.4629472494125366,1.7069326639175415,2.3995816707611084,1.0426572561264038,0.2831868529319763,-0.30941280722618103,2.206223964691162,1.2858456373214722,1.2850953340530396,0.7379671931266785,2.095505475997925,-1.6641539335250854,-0.38796335458755493,0.9100587964057922,-0.07104073464870453,1.0353291034698486,2.2526257038116455,2.2259521484375,2.4499995708465576,1.4731216430664062,0.9938937425613403,1.411176085472107,0.8576595187187195,1.156127691268921,1.539586067199707,1.4758319854736328,1.085327386856079,1.5526446104049683,1.8585678339004517,-0.02848457545042038,-0.7343381643295288,-0.0830959677696228,1.8728784322738647,1.8869413137435913,2.410027027130127,2.5003416538238525],\"y0\":\" \",\"yaxis\":\"y\",\"type\":\"box\"}],                        {\"template\":{\"data\":{\"histogram2dcontour\":[{\"type\":\"histogram2dcontour\",\"colorbar\":{\"outlinewidth\":0,\"ticks\":\"\"},\"colorscale\":[[0.0,\"#0d0887\"],[0.1111111111111111,\"#46039f\"],[0.2222222222222222,\"#7201a8\"],[0.3333333333333333,\"#9c179e\"],[0.4444444444444444,\"#bd3786\"],[0.5555555555555556,\"#d8576b\"],[0.6666666666666666,\"#ed7953\"],[0.7777777777777778,\"#fb9f3a\"],[0.8888888888888888,\"#fdca26\"],[1.0,\"#f0f921\"]]}],\"choropleth\":[{\"type\":\"choropleth\",\"colorbar\":{\"outlinewidth\":0,\"ticks\":\"\"}}],\"histogram2d\":[{\"type\":\"histogram2d\",\"colorbar\":{\"outlinewidth\":0,\"ticks\":\"\"},\"colorscale\":[[0.0,\"#0d0887\"],[0.1111111111111111,\"#46039f\"],[0.2222222222222222,\"#7201a8\"],[0.3333333333333333,\"#9c179e\"],[0.4444444444444444,\"#bd3786\"],[0.5555555555555556,\"#d8576b\"],[0.6666666666666666,\"#ed7953\"],[0.7777777777777778,\"#fb9f3a\"],[0.8888888888888888,\"#fdca26\"],[1.0,\"#f0f921\"]]}],\"heatmap\":[{\"type\":\"heatmap\",\"colorbar\":{\"outlinewidth\":0,\"ticks\":\"\"},\"colorscale\":[[0.0,\"#0d0887\"],[0.1111111111111111,\"#46039f\"],[0.2222222222222222,\"#7201a8\"],[0.3333333333333333,\"#9c179e\"],[0.4444444444444444,\"#bd3786\"],[0.5555555555555556,\"#d8576b\"],[0.6666666666666666,\"#ed7953\"],[0.7777777777777778,\"#fb9f3a\"],[0.8888888888888888,\"#fdca26\"],[1.0,\"#f0f921\"]]}],\"heatmapgl\":[{\"type\":\"heatmapgl\",\"colorbar\":{\"outlinewidth\":0,\"ticks\":\"\"},\"colorscale\":[[0.0,\"#0d0887\"],[0.1111111111111111,\"#46039f\"],[0.2222222222222222,\"#7201a8\"],[0.3333333333333333,\"#9c179e\"],[0.4444444444444444,\"#bd3786\"],[0.5555555555555556,\"#d8576b\"],[0.6666666666666666,\"#ed7953\"],[0.7777777777777778,\"#fb9f3a\"],[0.8888888888888888,\"#fdca26\"],[1.0,\"#f0f921\"]]}],\"contourcarpet\":[{\"type\":\"contourcarpet\",\"colorbar\":{\"outlinewidth\":0,\"ticks\":\"\"}}],\"contour\":[{\"type\":\"contour\",\"colorbar\":{\"outlinewidth\":0,\"ticks\":\"\"},\"colorscale\":[[0.0,\"#0d0887\"],[0.1111111111111111,\"#46039f\"],[0.2222222222222222,\"#7201a8\"],[0.3333333333333333,\"#9c179e\"],[0.4444444444444444,\"#bd3786\"],[0.5555555555555556,\"#d8576b\"],[0.6666666666666666,\"#ed7953\"],[0.7777777777777778,\"#fb9f3a\"],[0.8888888888888888,\"#fdca26\"],[1.0,\"#f0f921\"]]}],\"surface\":[{\"type\":\"surface\",\"colorbar\":{\"outlinewidth\":0,\"ticks\":\"\"},\"colorscale\":[[0.0,\"#0d0887\"],[0.1111111111111111,\"#46039f\"],[0.2222222222222222,\"#7201a8\"],[0.3333333333333333,\"#9c179e\"],[0.4444444444444444,\"#bd3786\"],[0.5555555555555556,\"#d8576b\"],[0.6666666666666666,\"#ed7953\"],[0.7777777777777778,\"#fb9f3a\"],[0.8888888888888888,\"#fdca26\"],[1.0,\"#f0f921\"]]}],\"mesh3d\":[{\"type\":\"mesh3d\",\"colorbar\":{\"outlinewidth\":0,\"ticks\":\"\"}}],\"scatter\":[{\"fillpattern\":{\"fillmode\":\"overlay\",\"size\":10,\"solidity\":0.2},\"type\":\"scatter\"}],\"parcoords\":[{\"type\":\"parcoords\",\"line\":{\"colorbar\":{\"outlinewidth\":0,\"ticks\":\"\"}}}],\"scatterpolargl\":[{\"type\":\"scatterpolargl\",\"marker\":{\"colorbar\":{\"outlinewidth\":0,\"ticks\":\"\"}}}],\"bar\":[{\"error_x\":{\"color\":\"#2a3f5f\"},\"error_y\":{\"color\":\"#2a3f5f\"},\"marker\":{\"line\":{\"color\":\"#E5ECF6\",\"width\":0.5},\"pattern\":{\"fillmode\":\"overlay\",\"size\":10,\"solidity\":0.2}},\"type\":\"bar\"}],\"scattergeo\":[{\"type\":\"scattergeo\",\"marker\":{\"colorbar\":{\"outlinewidth\":0,\"ticks\":\"\"}}}],\"scatterpolar\":[{\"type\":\"scatterpolar\",\"marker\":{\"colorbar\":{\"outlinewidth\":0,\"ticks\":\"\"}}}],\"histogram\":[{\"marker\":{\"pattern\":{\"fillmode\":\"overlay\",\"size\":10,\"solidity\":0.2}},\"type\":\"histogram\"}],\"scattergl\":[{\"type\":\"scattergl\",\"marker\":{\"colorbar\":{\"outlinewidth\":0,\"ticks\":\"\"}}}],\"scatter3d\":[{\"type\":\"scatter3d\",\"line\":{\"colorbar\":{\"outlinewidth\":0,\"ticks\":\"\"}},\"marker\":{\"colorbar\":{\"outlinewidth\":0,\"ticks\":\"\"}}}],\"scattermapbox\":[{\"type\":\"scattermapbox\",\"marker\":{\"colorbar\":{\"outlinewidth\":0,\"ticks\":\"\"}}}],\"scatterternary\":[{\"type\":\"scatterternary\",\"marker\":{\"colorbar\":{\"outlinewidth\":0,\"ticks\":\"\"}}}],\"scattercarpet\":[{\"type\":\"scattercarpet\",\"marker\":{\"colorbar\":{\"outlinewidth\":0,\"ticks\":\"\"}}}],\"carpet\":[{\"aaxis\":{\"endlinecolor\":\"#2a3f5f\",\"gridcolor\":\"white\",\"linecolor\":\"white\",\"minorgridcolor\":\"white\",\"startlinecolor\":\"#2a3f5f\"},\"baxis\":{\"endlinecolor\":\"#2a3f5f\",\"gridcolor\":\"white\",\"linecolor\":\"white\",\"minorgridcolor\":\"white\",\"startlinecolor\":\"#2a3f5f\"},\"type\":\"carpet\"}],\"table\":[{\"cells\":{\"fill\":{\"color\":\"#EBF0F8\"},\"line\":{\"color\":\"white\"}},\"header\":{\"fill\":{\"color\":\"#C8D4E3\"},\"line\":{\"color\":\"white\"}},\"type\":\"table\"}],\"barpolar\":[{\"marker\":{\"line\":{\"color\":\"#E5ECF6\",\"width\":0.5},\"pattern\":{\"fillmode\":\"overlay\",\"size\":10,\"solidity\":0.2}},\"type\":\"barpolar\"}],\"pie\":[{\"automargin\":true,\"type\":\"pie\"}]},\"layout\":{\"autotypenumbers\":\"strict\",\"colorway\":[\"#636efa\",\"#EF553B\",\"#00cc96\",\"#ab63fa\",\"#FFA15A\",\"#19d3f3\",\"#FF6692\",\"#B6E880\",\"#FF97FF\",\"#FECB52\"],\"font\":{\"color\":\"#2a3f5f\"},\"hovermode\":\"closest\",\"hoverlabel\":{\"align\":\"left\"},\"paper_bgcolor\":\"white\",\"plot_bgcolor\":\"#E5ECF6\",\"polar\":{\"bgcolor\":\"#E5ECF6\",\"angularaxis\":{\"gridcolor\":\"white\",\"linecolor\":\"white\",\"ticks\":\"\"},\"radialaxis\":{\"gridcolor\":\"white\",\"linecolor\":\"white\",\"ticks\":\"\"}},\"ternary\":{\"bgcolor\":\"#E5ECF6\",\"aaxis\":{\"gridcolor\":\"white\",\"linecolor\":\"white\",\"ticks\":\"\"},\"baxis\":{\"gridcolor\":\"white\",\"linecolor\":\"white\",\"ticks\":\"\"},\"caxis\":{\"gridcolor\":\"white\",\"linecolor\":\"white\",\"ticks\":\"\"}},\"coloraxis\":{\"colorbar\":{\"outlinewidth\":0,\"ticks\":\"\"}},\"colorscale\":{\"sequential\":[[0.0,\"#0d0887\"],[0.1111111111111111,\"#46039f\"],[0.2222222222222222,\"#7201a8\"],[0.3333333333333333,\"#9c179e\"],[0.4444444444444444,\"#bd3786\"],[0.5555555555555556,\"#d8576b\"],[0.6666666666666666,\"#ed7953\"],[0.7777777777777778,\"#fb9f3a\"],[0.8888888888888888,\"#fdca26\"],[1.0,\"#f0f921\"]],\"sequentialminus\":[[0.0,\"#0d0887\"],[0.1111111111111111,\"#46039f\"],[0.2222222222222222,\"#7201a8\"],[0.3333333333333333,\"#9c179e\"],[0.4444444444444444,\"#bd3786\"],[0.5555555555555556,\"#d8576b\"],[0.6666666666666666,\"#ed7953\"],[0.7777777777777778,\"#fb9f3a\"],[0.8888888888888888,\"#fdca26\"],[1.0,\"#f0f921\"]],\"diverging\":[[0,\"#8e0152\"],[0.1,\"#c51b7d\"],[0.2,\"#de77ae\"],[0.3,\"#f1b6da\"],[0.4,\"#fde0ef\"],[0.5,\"#f7f7f7\"],[0.6,\"#e6f5d0\"],[0.7,\"#b8e186\"],[0.8,\"#7fbc41\"],[0.9,\"#4d9221\"],[1,\"#276419\"]]},\"xaxis\":{\"gridcolor\":\"white\",\"linecolor\":\"white\",\"ticks\":\"\",\"title\":{\"standoff\":15},\"zerolinecolor\":\"white\",\"automargin\":true,\"zerolinewidth\":2},\"yaxis\":{\"gridcolor\":\"white\",\"linecolor\":\"white\",\"ticks\":\"\",\"title\":{\"standoff\":15},\"zerolinecolor\":\"white\",\"automargin\":true,\"zerolinewidth\":2},\"scene\":{\"xaxis\":{\"backgroundcolor\":\"#E5ECF6\",\"gridcolor\":\"white\",\"linecolor\":\"white\",\"showbackground\":true,\"ticks\":\"\",\"zerolinecolor\":\"white\",\"gridwidth\":2},\"yaxis\":{\"backgroundcolor\":\"#E5ECF6\",\"gridcolor\":\"white\",\"linecolor\":\"white\",\"showbackground\":true,\"ticks\":\"\",\"zerolinecolor\":\"white\",\"gridwidth\":2},\"zaxis\":{\"backgroundcolor\":\"#E5ECF6\",\"gridcolor\":\"white\",\"linecolor\":\"white\",\"showbackground\":true,\"ticks\":\"\",\"zerolinecolor\":\"white\",\"gridwidth\":2}},\"shapedefaults\":{\"line\":{\"color\":\"#2a3f5f\"}},\"annotationdefaults\":{\"arrowcolor\":\"#2a3f5f\",\"arrowhead\":0,\"arrowwidth\":1},\"geo\":{\"bgcolor\":\"white\",\"landcolor\":\"#E5ECF6\",\"subunitcolor\":\"white\",\"showland\":true,\"showlakes\":true,\"lakecolor\":\"white\"},\"title\":{\"x\":0.05},\"mapbox\":{\"style\":\"light\"}}},\"xaxis\":{\"anchor\":\"y\",\"domain\":[0.0,1.0],\"title\":{\"text\":\"labels_7\"},\"categoryorder\":\"array\",\"categoryarray\":[\"very negative\",\"negative\",\"slightly negative\",\"Neutral\",\"slightly positive\",\"positive\",\"very positive\"]},\"yaxis\":{\"anchor\":\"x\",\"domain\":[0.0,1.0],\"title\":{\"text\":\"preds\"}},\"legend\":{\"tracegroupgap\":0},\"margin\":{\"t\":60},\"boxmode\":\"group\",\"title\":{\"text\":\"CMU-MOSI MIM prediction value distribution\"}},                        {\"responsive\": true}                    ).then(function(){\n",
       "                            \n",
       "var gd = document.getElementById('374e0e40-13ee-4ec7-8ed4-fa7b25683d57');\n",
       "var x = new MutationObserver(function (mutations, observer) {{\n",
       "        var display = window.getComputedStyle(gd).display;\n",
       "        if (!display || display === 'none') {{\n",
       "            console.log([gd, 'removed!']);\n",
       "            Plotly.purge(gd);\n",
       "            observer.disconnect();\n",
       "        }}\n",
       "}});\n",
       "\n",
       "// Listen for the removal of the full notebook cells\n",
       "var notebookContainer = gd.closest('#notebook-container');\n",
       "if (notebookContainer) {{\n",
       "    x.observe(notebookContainer, {childList: true});\n",
       "}}\n",
       "\n",
       "// Listen for the clearing of the current output cell\n",
       "var outputEl = gd.closest('.output');\n",
       "if (outputEl) {{\n",
       "    x.observe(outputEl, {childList: true});\n",
       "}}\n",
       "\n",
       "                        })                };                });            </script>        </div>"
      ]
     },
     "metadata": {},
     "output_type": "display_data"
    }
   ],
   "source": [
    "fig = px.box(df, x=\"labels_7\", y=\"preds\")\n",
    "fig.update_xaxes(categoryorder='array', categoryarray= order)\n",
    "fig.update_layout(title_text=\"CMU-MOSI MIM prediction value distribution\")\n",
    "fig.show()"
   ]
  },
  {
   "cell_type": "code",
   "execution_count": 19,
   "metadata": {},
   "outputs": [],
   "source": [
    "label_VN, label_N, label_SN, label_Neu, label_SP, label_P, label_VP = [], [], [], [], [], [], []\n",
    "\n",
    "for idx in range(len(segment_list)):\n",
    "    if labels_7[idx] == 'very negative': label_VN.append(preds_7[idx])\n",
    "    if labels_7[idx] == 'negative': label_N.append(preds_7[idx])\n",
    "    if labels_7[idx] == 'slightly negative': label_SN.append(preds_7[idx])\n",
    "    if labels_7[idx] == 'Neutral': label_Neu.append(preds_7[idx])\n",
    "    if labels_7[idx] == 'slightly positive': label_SP.append(preds_7[idx])\n",
    "    if labels_7[idx] == 'positive': label_P.append(preds_7[idx])\n",
    "    if labels_7[idx] == 'very positive': label_VP.append(preds_7[idx])\n"
   ]
  },
  {
   "cell_type": "code",
   "execution_count": 20,
   "metadata": {},
   "outputs": [
    {
     "name": "stdout",
     "output_type": "stream",
     "text": [
      "96\n",
      "140\n",
      "113\n",
      "96\n",
      "98\n",
      "94\n",
      "48\n"
     ]
    }
   ],
   "source": [
    "print(len(label_VN))\n",
    "print(len(label_N))\n",
    "print(len(label_SN))\n",
    "print(len(label_Neu))\n",
    "print(len(label_SP))\n",
    "print(len(label_P))\n",
    "print(len(label_VP))"
   ]
  },
  {
   "cell_type": "code",
   "execution_count": 32,
   "metadata": {},
   "outputs": [
    {
     "data": {
      "application/vnd.plotly.v1+json": {
       "config": {
        "plotlyServerURL": "https://plot.ly"
       },
       "data": [
        {
         "alignmentgroup": "True",
         "hovertemplate": "variable=0<br>value=%{x}<br>count=%{y}<extra></extra>",
         "legendgroup": "0",
         "marker": {
          "color": "#636efa",
          "pattern": {
           "shape": ""
          }
         },
         "name": "0",
         "offsetgroup": "0",
         "orientation": "v",
         "showlegend": true,
         "textposition": "auto",
         "type": "bar",
         "x": [
          "Neutral",
          "very negative",
          "negative",
          "slightly negative",
          "very negative",
          "slightly positive",
          "very negative",
          "slightly positive",
          "negative",
          "negative",
          "slightly negative",
          "slightly positive",
          "negative",
          "slightly negative",
          "Neutral",
          "Neutral",
          "negative",
          "slightly negative",
          "slightly negative",
          "very negative",
          "very negative",
          "Neutral",
          "negative",
          "negative",
          "slightly negative",
          "negative",
          "very negative",
          "negative",
          "negative",
          "very negative",
          "very negative",
          "very negative",
          "very negative",
          "very negative",
          "negative",
          "slightly negative",
          "very negative",
          "very negative",
          "positive",
          "very negative",
          "negative",
          "very negative",
          "negative",
          "slightly negative",
          "negative",
          "slightly negative",
          "Neutral",
          "negative",
          "negative",
          "negative",
          "slightly negative",
          "very negative",
          "negative",
          "very negative",
          "negative",
          "negative",
          "negative",
          "very negative",
          "negative",
          "negative",
          "negative",
          "very negative",
          "very negative",
          "slightly negative",
          "slightly negative",
          "slightly negative",
          "slightly negative",
          "slightly positive",
          "slightly negative",
          "slightly negative",
          "negative",
          "slightly negative",
          "slightly negative",
          "slightly negative",
          "negative",
          "very negative",
          "very negative",
          "negative",
          "negative",
          "negative",
          "negative",
          "negative",
          "negative",
          "very negative",
          "negative",
          "very negative",
          "negative",
          "negative",
          "slightly negative",
          "negative",
          "very negative",
          "very negative",
          "negative",
          "negative",
          "negative",
          "very negative"
         ],
         "xaxis": "x",
         "y": [
          1,
          1,
          1,
          1,
          1,
          1,
          1,
          1,
          1,
          1,
          1,
          1,
          1,
          1,
          1,
          1,
          1,
          1,
          1,
          1,
          1,
          1,
          1,
          1,
          1,
          1,
          1,
          1,
          1,
          1,
          1,
          1,
          1,
          1,
          1,
          1,
          1,
          1,
          1,
          1,
          1,
          1,
          1,
          1,
          1,
          1,
          1,
          1,
          1,
          1,
          1,
          1,
          1,
          1,
          1,
          1,
          1,
          1,
          1,
          1,
          1,
          1,
          1,
          1,
          1,
          1,
          1,
          1,
          1,
          1,
          1,
          1,
          1,
          1,
          1,
          1,
          1,
          1,
          1,
          1,
          1,
          1,
          1,
          1,
          1,
          1,
          1,
          1,
          1,
          1,
          1,
          1,
          1,
          1,
          1,
          1
         ],
         "yaxis": "y"
        },
        {
         "alignmentgroup": "True",
         "hovertemplate": "variable=0<br>value=%{x}<br>count=%{y}<extra></extra>",
         "legendgroup": "0",
         "marker": {
          "color": "#636efa",
          "pattern": {
           "shape": ""
          }
         },
         "name": "0",
         "offsetgroup": "0",
         "orientation": "v",
         "showlegend": true,
         "textposition": "auto",
         "type": "bar",
         "x": [
          "slightly negative",
          "slightly positive",
          "negative",
          "very positive",
          "very positive",
          "positive",
          "slightly negative",
          "positive",
          "positive",
          "very positive",
          "very positive",
          "slightly positive",
          "very positive",
          "very positive",
          "positive",
          "positive",
          "very positive",
          "very positive",
          "very positive",
          "very positive",
          "positive",
          "slightly negative",
          "very positive",
          "very positive",
          "positive",
          "very positive",
          "slightly positive",
          "very positive",
          "positive",
          "Neutral",
          "positive",
          "positive",
          "positive",
          "positive",
          "positive",
          "very positive",
          "positive",
          "slightly positive",
          "positive",
          "positive",
          "positive",
          "positive",
          "positive",
          "positive",
          "positive",
          "positive",
          "very positive",
          "positive"
         ],
         "xaxis": "x2",
         "y": [
          1,
          1,
          1,
          1,
          1,
          1,
          1,
          1,
          1,
          1,
          1,
          1,
          1,
          1,
          1,
          1,
          1,
          1,
          1,
          1,
          1,
          1,
          1,
          1,
          1,
          1,
          1,
          1,
          1,
          1,
          1,
          1,
          1,
          1,
          1,
          1,
          1,
          1,
          1,
          1,
          1,
          1,
          1,
          1,
          1,
          1,
          1,
          1
         ],
         "yaxis": "y2"
        }
       ],
       "layout": {
        "annotations": [
         {
          "font": {
           "size": 16
          },
          "showarrow": false,
          "text": "very negative",
          "x": 0.225,
          "xanchor": "center",
          "xref": "paper",
          "y": 1,
          "yanchor": "bottom",
          "yref": "paper"
         },
         {
          "font": {
           "size": 16
          },
          "showarrow": false,
          "text": "very positive",
          "x": 0.775,
          "xanchor": "center",
          "xref": "paper",
          "y": 1,
          "yanchor": "bottom",
          "yref": "paper"
         }
        ],
        "template": {
         "data": {
          "bar": [
           {
            "error_x": {
             "color": "#2a3f5f"
            },
            "error_y": {
             "color": "#2a3f5f"
            },
            "marker": {
             "line": {
              "color": "#E5ECF6",
              "width": 0.5
             },
             "pattern": {
              "fillmode": "overlay",
              "size": 10,
              "solidity": 0.2
             }
            },
            "type": "bar"
           }
          ],
          "barpolar": [
           {
            "marker": {
             "line": {
              "color": "#E5ECF6",
              "width": 0.5
             },
             "pattern": {
              "fillmode": "overlay",
              "size": 10,
              "solidity": 0.2
             }
            },
            "type": "barpolar"
           }
          ],
          "carpet": [
           {
            "aaxis": {
             "endlinecolor": "#2a3f5f",
             "gridcolor": "white",
             "linecolor": "white",
             "minorgridcolor": "white",
             "startlinecolor": "#2a3f5f"
            },
            "baxis": {
             "endlinecolor": "#2a3f5f",
             "gridcolor": "white",
             "linecolor": "white",
             "minorgridcolor": "white",
             "startlinecolor": "#2a3f5f"
            },
            "type": "carpet"
           }
          ],
          "choropleth": [
           {
            "colorbar": {
             "outlinewidth": 0,
             "ticks": ""
            },
            "type": "choropleth"
           }
          ],
          "contour": [
           {
            "colorbar": {
             "outlinewidth": 0,
             "ticks": ""
            },
            "colorscale": [
             [
              0,
              "#0d0887"
             ],
             [
              0.1111111111111111,
              "#46039f"
             ],
             [
              0.2222222222222222,
              "#7201a8"
             ],
             [
              0.3333333333333333,
              "#9c179e"
             ],
             [
              0.4444444444444444,
              "#bd3786"
             ],
             [
              0.5555555555555556,
              "#d8576b"
             ],
             [
              0.6666666666666666,
              "#ed7953"
             ],
             [
              0.7777777777777778,
              "#fb9f3a"
             ],
             [
              0.8888888888888888,
              "#fdca26"
             ],
             [
              1,
              "#f0f921"
             ]
            ],
            "type": "contour"
           }
          ],
          "contourcarpet": [
           {
            "colorbar": {
             "outlinewidth": 0,
             "ticks": ""
            },
            "type": "contourcarpet"
           }
          ],
          "heatmap": [
           {
            "colorbar": {
             "outlinewidth": 0,
             "ticks": ""
            },
            "colorscale": [
             [
              0,
              "#0d0887"
             ],
             [
              0.1111111111111111,
              "#46039f"
             ],
             [
              0.2222222222222222,
              "#7201a8"
             ],
             [
              0.3333333333333333,
              "#9c179e"
             ],
             [
              0.4444444444444444,
              "#bd3786"
             ],
             [
              0.5555555555555556,
              "#d8576b"
             ],
             [
              0.6666666666666666,
              "#ed7953"
             ],
             [
              0.7777777777777778,
              "#fb9f3a"
             ],
             [
              0.8888888888888888,
              "#fdca26"
             ],
             [
              1,
              "#f0f921"
             ]
            ],
            "type": "heatmap"
           }
          ],
          "heatmapgl": [
           {
            "colorbar": {
             "outlinewidth": 0,
             "ticks": ""
            },
            "colorscale": [
             [
              0,
              "#0d0887"
             ],
             [
              0.1111111111111111,
              "#46039f"
             ],
             [
              0.2222222222222222,
              "#7201a8"
             ],
             [
              0.3333333333333333,
              "#9c179e"
             ],
             [
              0.4444444444444444,
              "#bd3786"
             ],
             [
              0.5555555555555556,
              "#d8576b"
             ],
             [
              0.6666666666666666,
              "#ed7953"
             ],
             [
              0.7777777777777778,
              "#fb9f3a"
             ],
             [
              0.8888888888888888,
              "#fdca26"
             ],
             [
              1,
              "#f0f921"
             ]
            ],
            "type": "heatmapgl"
           }
          ],
          "histogram": [
           {
            "marker": {
             "pattern": {
              "fillmode": "overlay",
              "size": 10,
              "solidity": 0.2
             }
            },
            "type": "histogram"
           }
          ],
          "histogram2d": [
           {
            "colorbar": {
             "outlinewidth": 0,
             "ticks": ""
            },
            "colorscale": [
             [
              0,
              "#0d0887"
             ],
             [
              0.1111111111111111,
              "#46039f"
             ],
             [
              0.2222222222222222,
              "#7201a8"
             ],
             [
              0.3333333333333333,
              "#9c179e"
             ],
             [
              0.4444444444444444,
              "#bd3786"
             ],
             [
              0.5555555555555556,
              "#d8576b"
             ],
             [
              0.6666666666666666,
              "#ed7953"
             ],
             [
              0.7777777777777778,
              "#fb9f3a"
             ],
             [
              0.8888888888888888,
              "#fdca26"
             ],
             [
              1,
              "#f0f921"
             ]
            ],
            "type": "histogram2d"
           }
          ],
          "histogram2dcontour": [
           {
            "colorbar": {
             "outlinewidth": 0,
             "ticks": ""
            },
            "colorscale": [
             [
              0,
              "#0d0887"
             ],
             [
              0.1111111111111111,
              "#46039f"
             ],
             [
              0.2222222222222222,
              "#7201a8"
             ],
             [
              0.3333333333333333,
              "#9c179e"
             ],
             [
              0.4444444444444444,
              "#bd3786"
             ],
             [
              0.5555555555555556,
              "#d8576b"
             ],
             [
              0.6666666666666666,
              "#ed7953"
             ],
             [
              0.7777777777777778,
              "#fb9f3a"
             ],
             [
              0.8888888888888888,
              "#fdca26"
             ],
             [
              1,
              "#f0f921"
             ]
            ],
            "type": "histogram2dcontour"
           }
          ],
          "mesh3d": [
           {
            "colorbar": {
             "outlinewidth": 0,
             "ticks": ""
            },
            "type": "mesh3d"
           }
          ],
          "parcoords": [
           {
            "line": {
             "colorbar": {
              "outlinewidth": 0,
              "ticks": ""
             }
            },
            "type": "parcoords"
           }
          ],
          "pie": [
           {
            "automargin": true,
            "type": "pie"
           }
          ],
          "scatter": [
           {
            "marker": {
             "colorbar": {
              "outlinewidth": 0,
              "ticks": ""
             }
            },
            "type": "scatter"
           }
          ],
          "scatter3d": [
           {
            "line": {
             "colorbar": {
              "outlinewidth": 0,
              "ticks": ""
             }
            },
            "marker": {
             "colorbar": {
              "outlinewidth": 0,
              "ticks": ""
             }
            },
            "type": "scatter3d"
           }
          ],
          "scattercarpet": [
           {
            "marker": {
             "colorbar": {
              "outlinewidth": 0,
              "ticks": ""
             }
            },
            "type": "scattercarpet"
           }
          ],
          "scattergeo": [
           {
            "marker": {
             "colorbar": {
              "outlinewidth": 0,
              "ticks": ""
             }
            },
            "type": "scattergeo"
           }
          ],
          "scattergl": [
           {
            "marker": {
             "colorbar": {
              "outlinewidth": 0,
              "ticks": ""
             }
            },
            "type": "scattergl"
           }
          ],
          "scattermapbox": [
           {
            "marker": {
             "colorbar": {
              "outlinewidth": 0,
              "ticks": ""
             }
            },
            "type": "scattermapbox"
           }
          ],
          "scatterpolar": [
           {
            "marker": {
             "colorbar": {
              "outlinewidth": 0,
              "ticks": ""
             }
            },
            "type": "scatterpolar"
           }
          ],
          "scatterpolargl": [
           {
            "marker": {
             "colorbar": {
              "outlinewidth": 0,
              "ticks": ""
             }
            },
            "type": "scatterpolargl"
           }
          ],
          "scatterternary": [
           {
            "marker": {
             "colorbar": {
              "outlinewidth": 0,
              "ticks": ""
             }
            },
            "type": "scatterternary"
           }
          ],
          "surface": [
           {
            "colorbar": {
             "outlinewidth": 0,
             "ticks": ""
            },
            "colorscale": [
             [
              0,
              "#0d0887"
             ],
             [
              0.1111111111111111,
              "#46039f"
             ],
             [
              0.2222222222222222,
              "#7201a8"
             ],
             [
              0.3333333333333333,
              "#9c179e"
             ],
             [
              0.4444444444444444,
              "#bd3786"
             ],
             [
              0.5555555555555556,
              "#d8576b"
             ],
             [
              0.6666666666666666,
              "#ed7953"
             ],
             [
              0.7777777777777778,
              "#fb9f3a"
             ],
             [
              0.8888888888888888,
              "#fdca26"
             ],
             [
              1,
              "#f0f921"
             ]
            ],
            "type": "surface"
           }
          ],
          "table": [
           {
            "cells": {
             "fill": {
              "color": "#EBF0F8"
             },
             "line": {
              "color": "white"
             }
            },
            "header": {
             "fill": {
              "color": "#C8D4E3"
             },
             "line": {
              "color": "white"
             }
            },
            "type": "table"
           }
          ]
         },
         "layout": {
          "annotationdefaults": {
           "arrowcolor": "#2a3f5f",
           "arrowhead": 0,
           "arrowwidth": 1
          },
          "autotypenumbers": "strict",
          "coloraxis": {
           "colorbar": {
            "outlinewidth": 0,
            "ticks": ""
           }
          },
          "colorscale": {
           "diverging": [
            [
             0,
             "#8e0152"
            ],
            [
             0.1,
             "#c51b7d"
            ],
            [
             0.2,
             "#de77ae"
            ],
            [
             0.3,
             "#f1b6da"
            ],
            [
             0.4,
             "#fde0ef"
            ],
            [
             0.5,
             "#f7f7f7"
            ],
            [
             0.6,
             "#e6f5d0"
            ],
            [
             0.7,
             "#b8e186"
            ],
            [
             0.8,
             "#7fbc41"
            ],
            [
             0.9,
             "#4d9221"
            ],
            [
             1,
             "#276419"
            ]
           ],
           "sequential": [
            [
             0,
             "#0d0887"
            ],
            [
             0.1111111111111111,
             "#46039f"
            ],
            [
             0.2222222222222222,
             "#7201a8"
            ],
            [
             0.3333333333333333,
             "#9c179e"
            ],
            [
             0.4444444444444444,
             "#bd3786"
            ],
            [
             0.5555555555555556,
             "#d8576b"
            ],
            [
             0.6666666666666666,
             "#ed7953"
            ],
            [
             0.7777777777777778,
             "#fb9f3a"
            ],
            [
             0.8888888888888888,
             "#fdca26"
            ],
            [
             1,
             "#f0f921"
            ]
           ],
           "sequentialminus": [
            [
             0,
             "#0d0887"
            ],
            [
             0.1111111111111111,
             "#46039f"
            ],
            [
             0.2222222222222222,
             "#7201a8"
            ],
            [
             0.3333333333333333,
             "#9c179e"
            ],
            [
             0.4444444444444444,
             "#bd3786"
            ],
            [
             0.5555555555555556,
             "#d8576b"
            ],
            [
             0.6666666666666666,
             "#ed7953"
            ],
            [
             0.7777777777777778,
             "#fb9f3a"
            ],
            [
             0.8888888888888888,
             "#fdca26"
            ],
            [
             1,
             "#f0f921"
            ]
           ]
          },
          "colorway": [
           "#636efa",
           "#EF553B",
           "#00cc96",
           "#ab63fa",
           "#FFA15A",
           "#19d3f3",
           "#FF6692",
           "#B6E880",
           "#FF97FF",
           "#FECB52"
          ],
          "font": {
           "color": "#2a3f5f"
          },
          "geo": {
           "bgcolor": "white",
           "lakecolor": "white",
           "landcolor": "#E5ECF6",
           "showlakes": true,
           "showland": true,
           "subunitcolor": "white"
          },
          "hoverlabel": {
           "align": "left"
          },
          "hovermode": "closest",
          "mapbox": {
           "style": "light"
          },
          "paper_bgcolor": "white",
          "plot_bgcolor": "#E5ECF6",
          "polar": {
           "angularaxis": {
            "gridcolor": "white",
            "linecolor": "white",
            "ticks": ""
           },
           "bgcolor": "#E5ECF6",
           "radialaxis": {
            "gridcolor": "white",
            "linecolor": "white",
            "ticks": ""
           }
          },
          "scene": {
           "xaxis": {
            "backgroundcolor": "#E5ECF6",
            "gridcolor": "white",
            "gridwidth": 2,
            "linecolor": "white",
            "showbackground": true,
            "ticks": "",
            "zerolinecolor": "white"
           },
           "yaxis": {
            "backgroundcolor": "#E5ECF6",
            "gridcolor": "white",
            "gridwidth": 2,
            "linecolor": "white",
            "showbackground": true,
            "ticks": "",
            "zerolinecolor": "white"
           },
           "zaxis": {
            "backgroundcolor": "#E5ECF6",
            "gridcolor": "white",
            "gridwidth": 2,
            "linecolor": "white",
            "showbackground": true,
            "ticks": "",
            "zerolinecolor": "white"
           }
          },
          "shapedefaults": {
           "line": {
            "color": "#2a3f5f"
           }
          },
          "ternary": {
           "aaxis": {
            "gridcolor": "white",
            "linecolor": "white",
            "ticks": ""
           },
           "baxis": {
            "gridcolor": "white",
            "linecolor": "white",
            "ticks": ""
           },
           "bgcolor": "#E5ECF6",
           "caxis": {
            "gridcolor": "white",
            "linecolor": "white",
            "ticks": ""
           }
          },
          "title": {
           "x": 0.05
          },
          "xaxis": {
           "automargin": true,
           "gridcolor": "white",
           "linecolor": "white",
           "ticks": "",
           "title": {
            "standoff": 15
           },
           "zerolinecolor": "white",
           "zerolinewidth": 2
          },
          "yaxis": {
           "automargin": true,
           "gridcolor": "white",
           "linecolor": "white",
           "ticks": "",
           "title": {
            "standoff": 15
           },
           "zerolinecolor": "white",
           "zerolinewidth": 2
          }
         }
        },
        "title": {
         "text": "MIM",
         "x": 0.5
        },
        "xaxis": {
         "anchor": "y",
         "categoryarray": [
          "very negative",
          "negative",
          "slightly negative",
          "Neutral",
          "slightly positive",
          "positive",
          "very positive"
         ],
         "categoryorder": "array",
         "domain": [
          0,
          0.45
         ]
        },
        "xaxis2": {
         "anchor": "y2",
         "categoryarray": [
          "very negative",
          "negative",
          "slightly negative",
          "Neutral",
          "slightly positive",
          "positive",
          "very positive"
         ],
         "categoryorder": "array",
         "domain": [
          0.55,
          1
         ]
        },
        "yaxis": {
         "anchor": "x",
         "domain": [
          0,
          1
         ]
        },
        "yaxis2": {
         "anchor": "x2",
         "domain": [
          0,
          1
         ]
        }
       }
      },
      "text/html": [
       "<div>                            <div id=\"04e8282e-d21b-44ea-ad0b-ca3b9ea92761\" class=\"plotly-graph-div\" style=\"height:525px; width:100%;\"></div>            <script type=\"text/javascript\">                require([\"plotly\"], function(Plotly) {                    window.PLOTLYENV=window.PLOTLYENV || {};                                    if (document.getElementById(\"04e8282e-d21b-44ea-ad0b-ca3b9ea92761\")) {                    Plotly.newPlot(                        \"04e8282e-d21b-44ea-ad0b-ca3b9ea92761\",                        [{\"alignmentgroup\":\"True\",\"hovertemplate\":\"variable=0<br>value=%{x}<br>count=%{y}<extra></extra>\",\"legendgroup\":\"0\",\"marker\":{\"color\":\"#636efa\",\"pattern\":{\"shape\":\"\"}},\"name\":\"0\",\"offsetgroup\":\"0\",\"orientation\":\"v\",\"showlegend\":true,\"textposition\":\"auto\",\"type\":\"bar\",\"x\":[\"Neutral\",\"very negative\",\"negative\",\"slightly negative\",\"very negative\",\"slightly positive\",\"very negative\",\"slightly positive\",\"negative\",\"negative\",\"slightly negative\",\"slightly positive\",\"negative\",\"slightly negative\",\"Neutral\",\"Neutral\",\"negative\",\"slightly negative\",\"slightly negative\",\"very negative\",\"very negative\",\"Neutral\",\"negative\",\"negative\",\"slightly negative\",\"negative\",\"very negative\",\"negative\",\"negative\",\"very negative\",\"very negative\",\"very negative\",\"very negative\",\"very negative\",\"negative\",\"slightly negative\",\"very negative\",\"very negative\",\"positive\",\"very negative\",\"negative\",\"very negative\",\"negative\",\"slightly negative\",\"negative\",\"slightly negative\",\"Neutral\",\"negative\",\"negative\",\"negative\",\"slightly negative\",\"very negative\",\"negative\",\"very negative\",\"negative\",\"negative\",\"negative\",\"very negative\",\"negative\",\"negative\",\"negative\",\"very negative\",\"very negative\",\"slightly negative\",\"slightly negative\",\"slightly negative\",\"slightly negative\",\"slightly positive\",\"slightly negative\",\"slightly negative\",\"negative\",\"slightly negative\",\"slightly negative\",\"slightly negative\",\"negative\",\"very negative\",\"very negative\",\"negative\",\"negative\",\"negative\",\"negative\",\"negative\",\"negative\",\"very negative\",\"negative\",\"very negative\",\"negative\",\"negative\",\"slightly negative\",\"negative\",\"very negative\",\"very negative\",\"negative\",\"negative\",\"negative\",\"very negative\"],\"xaxis\":\"x\",\"y\":[1,1,1,1,1,1,1,1,1,1,1,1,1,1,1,1,1,1,1,1,1,1,1,1,1,1,1,1,1,1,1,1,1,1,1,1,1,1,1,1,1,1,1,1,1,1,1,1,1,1,1,1,1,1,1,1,1,1,1,1,1,1,1,1,1,1,1,1,1,1,1,1,1,1,1,1,1,1,1,1,1,1,1,1,1,1,1,1,1,1,1,1,1,1,1,1],\"yaxis\":\"y\"},{\"alignmentgroup\":\"True\",\"hovertemplate\":\"variable=0<br>value=%{x}<br>count=%{y}<extra></extra>\",\"legendgroup\":\"0\",\"marker\":{\"color\":\"#636efa\",\"pattern\":{\"shape\":\"\"}},\"name\":\"0\",\"offsetgroup\":\"0\",\"orientation\":\"v\",\"showlegend\":true,\"textposition\":\"auto\",\"type\":\"bar\",\"x\":[\"slightly negative\",\"slightly positive\",\"negative\",\"very positive\",\"very positive\",\"positive\",\"slightly negative\",\"positive\",\"positive\",\"very positive\",\"very positive\",\"slightly positive\",\"very positive\",\"very positive\",\"positive\",\"positive\",\"very positive\",\"very positive\",\"very positive\",\"very positive\",\"positive\",\"slightly negative\",\"very positive\",\"very positive\",\"positive\",\"very positive\",\"slightly positive\",\"very positive\",\"positive\",\"Neutral\",\"positive\",\"positive\",\"positive\",\"positive\",\"positive\",\"very positive\",\"positive\",\"slightly positive\",\"positive\",\"positive\",\"positive\",\"positive\",\"positive\",\"positive\",\"positive\",\"positive\",\"very positive\",\"positive\"],\"xaxis\":\"x2\",\"y\":[1,1,1,1,1,1,1,1,1,1,1,1,1,1,1,1,1,1,1,1,1,1,1,1,1,1,1,1,1,1,1,1,1,1,1,1,1,1,1,1,1,1,1,1,1,1,1,1],\"yaxis\":\"y2\"}],                        {\"annotations\":[{\"font\":{\"size\":16},\"showarrow\":false,\"text\":\"very negative\",\"x\":0.225,\"xanchor\":\"center\",\"xref\":\"paper\",\"y\":1.0,\"yanchor\":\"bottom\",\"yref\":\"paper\"},{\"font\":{\"size\":16},\"showarrow\":false,\"text\":\"very positive\",\"x\":0.775,\"xanchor\":\"center\",\"xref\":\"paper\",\"y\":1.0,\"yanchor\":\"bottom\",\"yref\":\"paper\"}],\"template\":{\"data\":{\"bar\":[{\"error_x\":{\"color\":\"#2a3f5f\"},\"error_y\":{\"color\":\"#2a3f5f\"},\"marker\":{\"line\":{\"color\":\"#E5ECF6\",\"width\":0.5},\"pattern\":{\"fillmode\":\"overlay\",\"size\":10,\"solidity\":0.2}},\"type\":\"bar\"}],\"barpolar\":[{\"marker\":{\"line\":{\"color\":\"#E5ECF6\",\"width\":0.5},\"pattern\":{\"fillmode\":\"overlay\",\"size\":10,\"solidity\":0.2}},\"type\":\"barpolar\"}],\"carpet\":[{\"aaxis\":{\"endlinecolor\":\"#2a3f5f\",\"gridcolor\":\"white\",\"linecolor\":\"white\",\"minorgridcolor\":\"white\",\"startlinecolor\":\"#2a3f5f\"},\"baxis\":{\"endlinecolor\":\"#2a3f5f\",\"gridcolor\":\"white\",\"linecolor\":\"white\",\"minorgridcolor\":\"white\",\"startlinecolor\":\"#2a3f5f\"},\"type\":\"carpet\"}],\"choropleth\":[{\"colorbar\":{\"outlinewidth\":0,\"ticks\":\"\"},\"type\":\"choropleth\"}],\"contour\":[{\"colorbar\":{\"outlinewidth\":0,\"ticks\":\"\"},\"colorscale\":[[0.0,\"#0d0887\"],[0.1111111111111111,\"#46039f\"],[0.2222222222222222,\"#7201a8\"],[0.3333333333333333,\"#9c179e\"],[0.4444444444444444,\"#bd3786\"],[0.5555555555555556,\"#d8576b\"],[0.6666666666666666,\"#ed7953\"],[0.7777777777777778,\"#fb9f3a\"],[0.8888888888888888,\"#fdca26\"],[1.0,\"#f0f921\"]],\"type\":\"contour\"}],\"contourcarpet\":[{\"colorbar\":{\"outlinewidth\":0,\"ticks\":\"\"},\"type\":\"contourcarpet\"}],\"heatmap\":[{\"colorbar\":{\"outlinewidth\":0,\"ticks\":\"\"},\"colorscale\":[[0.0,\"#0d0887\"],[0.1111111111111111,\"#46039f\"],[0.2222222222222222,\"#7201a8\"],[0.3333333333333333,\"#9c179e\"],[0.4444444444444444,\"#bd3786\"],[0.5555555555555556,\"#d8576b\"],[0.6666666666666666,\"#ed7953\"],[0.7777777777777778,\"#fb9f3a\"],[0.8888888888888888,\"#fdca26\"],[1.0,\"#f0f921\"]],\"type\":\"heatmap\"}],\"heatmapgl\":[{\"colorbar\":{\"outlinewidth\":0,\"ticks\":\"\"},\"colorscale\":[[0.0,\"#0d0887\"],[0.1111111111111111,\"#46039f\"],[0.2222222222222222,\"#7201a8\"],[0.3333333333333333,\"#9c179e\"],[0.4444444444444444,\"#bd3786\"],[0.5555555555555556,\"#d8576b\"],[0.6666666666666666,\"#ed7953\"],[0.7777777777777778,\"#fb9f3a\"],[0.8888888888888888,\"#fdca26\"],[1.0,\"#f0f921\"]],\"type\":\"heatmapgl\"}],\"histogram\":[{\"marker\":{\"pattern\":{\"fillmode\":\"overlay\",\"size\":10,\"solidity\":0.2}},\"type\":\"histogram\"}],\"histogram2d\":[{\"colorbar\":{\"outlinewidth\":0,\"ticks\":\"\"},\"colorscale\":[[0.0,\"#0d0887\"],[0.1111111111111111,\"#46039f\"],[0.2222222222222222,\"#7201a8\"],[0.3333333333333333,\"#9c179e\"],[0.4444444444444444,\"#bd3786\"],[0.5555555555555556,\"#d8576b\"],[0.6666666666666666,\"#ed7953\"],[0.7777777777777778,\"#fb9f3a\"],[0.8888888888888888,\"#fdca26\"],[1.0,\"#f0f921\"]],\"type\":\"histogram2d\"}],\"histogram2dcontour\":[{\"colorbar\":{\"outlinewidth\":0,\"ticks\":\"\"},\"colorscale\":[[0.0,\"#0d0887\"],[0.1111111111111111,\"#46039f\"],[0.2222222222222222,\"#7201a8\"],[0.3333333333333333,\"#9c179e\"],[0.4444444444444444,\"#bd3786\"],[0.5555555555555556,\"#d8576b\"],[0.6666666666666666,\"#ed7953\"],[0.7777777777777778,\"#fb9f3a\"],[0.8888888888888888,\"#fdca26\"],[1.0,\"#f0f921\"]],\"type\":\"histogram2dcontour\"}],\"mesh3d\":[{\"colorbar\":{\"outlinewidth\":0,\"ticks\":\"\"},\"type\":\"mesh3d\"}],\"parcoords\":[{\"line\":{\"colorbar\":{\"outlinewidth\":0,\"ticks\":\"\"}},\"type\":\"parcoords\"}],\"pie\":[{\"automargin\":true,\"type\":\"pie\"}],\"scatter\":[{\"marker\":{\"colorbar\":{\"outlinewidth\":0,\"ticks\":\"\"}},\"type\":\"scatter\"}],\"scatter3d\":[{\"line\":{\"colorbar\":{\"outlinewidth\":0,\"ticks\":\"\"}},\"marker\":{\"colorbar\":{\"outlinewidth\":0,\"ticks\":\"\"}},\"type\":\"scatter3d\"}],\"scattercarpet\":[{\"marker\":{\"colorbar\":{\"outlinewidth\":0,\"ticks\":\"\"}},\"type\":\"scattercarpet\"}],\"scattergeo\":[{\"marker\":{\"colorbar\":{\"outlinewidth\":0,\"ticks\":\"\"}},\"type\":\"scattergeo\"}],\"scattergl\":[{\"marker\":{\"colorbar\":{\"outlinewidth\":0,\"ticks\":\"\"}},\"type\":\"scattergl\"}],\"scattermapbox\":[{\"marker\":{\"colorbar\":{\"outlinewidth\":0,\"ticks\":\"\"}},\"type\":\"scattermapbox\"}],\"scatterpolar\":[{\"marker\":{\"colorbar\":{\"outlinewidth\":0,\"ticks\":\"\"}},\"type\":\"scatterpolar\"}],\"scatterpolargl\":[{\"marker\":{\"colorbar\":{\"outlinewidth\":0,\"ticks\":\"\"}},\"type\":\"scatterpolargl\"}],\"scatterternary\":[{\"marker\":{\"colorbar\":{\"outlinewidth\":0,\"ticks\":\"\"}},\"type\":\"scatterternary\"}],\"surface\":[{\"colorbar\":{\"outlinewidth\":0,\"ticks\":\"\"},\"colorscale\":[[0.0,\"#0d0887\"],[0.1111111111111111,\"#46039f\"],[0.2222222222222222,\"#7201a8\"],[0.3333333333333333,\"#9c179e\"],[0.4444444444444444,\"#bd3786\"],[0.5555555555555556,\"#d8576b\"],[0.6666666666666666,\"#ed7953\"],[0.7777777777777778,\"#fb9f3a\"],[0.8888888888888888,\"#fdca26\"],[1.0,\"#f0f921\"]],\"type\":\"surface\"}],\"table\":[{\"cells\":{\"fill\":{\"color\":\"#EBF0F8\"},\"line\":{\"color\":\"white\"}},\"header\":{\"fill\":{\"color\":\"#C8D4E3\"},\"line\":{\"color\":\"white\"}},\"type\":\"table\"}]},\"layout\":{\"annotationdefaults\":{\"arrowcolor\":\"#2a3f5f\",\"arrowhead\":0,\"arrowwidth\":1},\"autotypenumbers\":\"strict\",\"coloraxis\":{\"colorbar\":{\"outlinewidth\":0,\"ticks\":\"\"}},\"colorscale\":{\"diverging\":[[0,\"#8e0152\"],[0.1,\"#c51b7d\"],[0.2,\"#de77ae\"],[0.3,\"#f1b6da\"],[0.4,\"#fde0ef\"],[0.5,\"#f7f7f7\"],[0.6,\"#e6f5d0\"],[0.7,\"#b8e186\"],[0.8,\"#7fbc41\"],[0.9,\"#4d9221\"],[1,\"#276419\"]],\"sequential\":[[0.0,\"#0d0887\"],[0.1111111111111111,\"#46039f\"],[0.2222222222222222,\"#7201a8\"],[0.3333333333333333,\"#9c179e\"],[0.4444444444444444,\"#bd3786\"],[0.5555555555555556,\"#d8576b\"],[0.6666666666666666,\"#ed7953\"],[0.7777777777777778,\"#fb9f3a\"],[0.8888888888888888,\"#fdca26\"],[1.0,\"#f0f921\"]],\"sequentialminus\":[[0.0,\"#0d0887\"],[0.1111111111111111,\"#46039f\"],[0.2222222222222222,\"#7201a8\"],[0.3333333333333333,\"#9c179e\"],[0.4444444444444444,\"#bd3786\"],[0.5555555555555556,\"#d8576b\"],[0.6666666666666666,\"#ed7953\"],[0.7777777777777778,\"#fb9f3a\"],[0.8888888888888888,\"#fdca26\"],[1.0,\"#f0f921\"]]},\"colorway\":[\"#636efa\",\"#EF553B\",\"#00cc96\",\"#ab63fa\",\"#FFA15A\",\"#19d3f3\",\"#FF6692\",\"#B6E880\",\"#FF97FF\",\"#FECB52\"],\"font\":{\"color\":\"#2a3f5f\"},\"geo\":{\"bgcolor\":\"white\",\"lakecolor\":\"white\",\"landcolor\":\"#E5ECF6\",\"showlakes\":true,\"showland\":true,\"subunitcolor\":\"white\"},\"hoverlabel\":{\"align\":\"left\"},\"hovermode\":\"closest\",\"mapbox\":{\"style\":\"light\"},\"paper_bgcolor\":\"white\",\"plot_bgcolor\":\"#E5ECF6\",\"polar\":{\"angularaxis\":{\"gridcolor\":\"white\",\"linecolor\":\"white\",\"ticks\":\"\"},\"bgcolor\":\"#E5ECF6\",\"radialaxis\":{\"gridcolor\":\"white\",\"linecolor\":\"white\",\"ticks\":\"\"}},\"scene\":{\"xaxis\":{\"backgroundcolor\":\"#E5ECF6\",\"gridcolor\":\"white\",\"gridwidth\":2,\"linecolor\":\"white\",\"showbackground\":true,\"ticks\":\"\",\"zerolinecolor\":\"white\"},\"yaxis\":{\"backgroundcolor\":\"#E5ECF6\",\"gridcolor\":\"white\",\"gridwidth\":2,\"linecolor\":\"white\",\"showbackground\":true,\"ticks\":\"\",\"zerolinecolor\":\"white\"},\"zaxis\":{\"backgroundcolor\":\"#E5ECF6\",\"gridcolor\":\"white\",\"gridwidth\":2,\"linecolor\":\"white\",\"showbackground\":true,\"ticks\":\"\",\"zerolinecolor\":\"white\"}},\"shapedefaults\":{\"line\":{\"color\":\"#2a3f5f\"}},\"ternary\":{\"aaxis\":{\"gridcolor\":\"white\",\"linecolor\":\"white\",\"ticks\":\"\"},\"baxis\":{\"gridcolor\":\"white\",\"linecolor\":\"white\",\"ticks\":\"\"},\"bgcolor\":\"#E5ECF6\",\"caxis\":{\"gridcolor\":\"white\",\"linecolor\":\"white\",\"ticks\":\"\"}},\"title\":{\"x\":0.05},\"xaxis\":{\"automargin\":true,\"gridcolor\":\"white\",\"linecolor\":\"white\",\"ticks\":\"\",\"title\":{\"standoff\":15},\"zerolinecolor\":\"white\",\"zerolinewidth\":2},\"yaxis\":{\"automargin\":true,\"gridcolor\":\"white\",\"linecolor\":\"white\",\"ticks\":\"\",\"title\":{\"standoff\":15},\"zerolinecolor\":\"white\",\"zerolinewidth\":2}}},\"title\":{\"text\":\"MIM\",\"x\":0.5},\"xaxis\":{\"anchor\":\"y\",\"categoryarray\":[\"very negative\",\"negative\",\"slightly negative\",\"Neutral\",\"slightly positive\",\"positive\",\"very positive\"],\"categoryorder\":\"array\",\"domain\":[0.0,0.45]},\"xaxis2\":{\"anchor\":\"y2\",\"categoryarray\":[\"very negative\",\"negative\",\"slightly negative\",\"Neutral\",\"slightly positive\",\"positive\",\"very positive\"],\"categoryorder\":\"array\",\"domain\":[0.55,1.0]},\"yaxis\":{\"anchor\":\"x\",\"domain\":[0.0,1.0]},\"yaxis2\":{\"anchor\":\"x2\",\"domain\":[0.0,1.0]}},                        {\"responsive\": true}                    ).then(function(){\n",
       "                            \n",
       "var gd = document.getElementById('04e8282e-d21b-44ea-ad0b-ca3b9ea92761');\n",
       "var x = new MutationObserver(function (mutations, observer) {{\n",
       "        var display = window.getComputedStyle(gd).display;\n",
       "        if (!display || display === 'none') {{\n",
       "            console.log([gd, 'removed!']);\n",
       "            Plotly.purge(gd);\n",
       "            observer.disconnect();\n",
       "        }}\n",
       "}});\n",
       "\n",
       "// Listen for the removal of the full notebook cells\n",
       "var notebookContainer = gd.closest('#notebook-container');\n",
       "if (notebookContainer) {{\n",
       "    x.observe(notebookContainer, {childList: true});\n",
       "}}\n",
       "\n",
       "// Listen for the clearing of the current output cell\n",
       "var outputEl = gd.closest('.output');\n",
       "if (outputEl) {{\n",
       "    x.observe(outputEl, {childList: true});\n",
       "}}\n",
       "\n",
       "                        })                };                });            </script>        </div>"
      ]
     },
     "metadata": {},
     "output_type": "display_data"
    }
   ],
   "source": [
    "df1 = pd.DataFrame(data=label_VN)\n",
    "df2 = pd.DataFrame(data=label_N)\n",
    "df3 = pd.DataFrame(data=label_SN)\n",
    "df4 = pd.DataFrame(data=label_Neu)\n",
    "df5 = pd.DataFrame(data=label_SP)\n",
    "df6 = pd.DataFrame(data=label_P)\n",
    "df7 = pd.DataFrame(data=label_VP)\n",
    "order = ['very negative', 'negative', 'slightly negative', 'Neutral', 'slightly positive', 'positive', 'very positive']\n",
    "\n",
    "fig1 = px.bar(df1)\n",
    "fig7 = px.bar(df7)\n",
    "\n",
    "fig1_traces = []\n",
    "fig7_traces = []\n",
    "\n",
    "for trace in range(len(fig1[\"data\"])):\n",
    "    fig1_traces.append(fig1[\"data\"][trace])\n",
    "for trace in range(len(fig7[\"data\"])):\n",
    "    fig7_traces.append(fig7[\"data\"][trace])\n",
    "\n",
    "this_figure = sp.make_subplots(rows=1, cols=2, subplot_titles=(\"very negative\", \"very positive\"))\n",
    "for traces in fig1_traces:\n",
    "    this_figure.append_trace(traces, row=1, col=1)\n",
    "for traces in fig7_traces:\n",
    "    this_figure.append_trace(traces, row=1, col=2)\n",
    "\n",
    "# this_figure.update_layout(height=600, width=1500, title_text=\"CMU-MOSI 7 Class Sentiment Intensity\")\n",
    "this_figure.update_layout(title_text='MIM', title_x=0.5)\n",
    "this_figure.update_xaxes(categoryorder='array', categoryarray= order)\n",
    "# this_figure.update_yaxes(range=[0,250])\n",
    "this_figure.show()"
   ]
  },
  {
   "cell_type": "code",
   "execution_count": 33,
   "metadata": {},
   "outputs": [
    {
     "data": {
      "application/vnd.plotly.v1+json": {
       "config": {
        "plotlyServerURL": "https://plot.ly"
       },
       "data": [
        {
         "alignmentgroup": "True",
         "hovertemplate": "variable=0<br>value=%{x}<br>count=%{y}<extra></extra>",
         "legendgroup": "0",
         "marker": {
          "color": "#636efa",
          "pattern": {
           "shape": ""
          }
         },
         "name": "0",
         "offsetgroup": "0",
         "orientation": "v",
         "showlegend": true,
         "textposition": "auto",
         "type": "bar",
         "x": [
          "negative",
          "Neutral",
          "slightly positive",
          "slightly negative",
          "negative",
          "slightly negative",
          "slightly negative",
          "negative",
          "slightly negative",
          "slightly negative",
          "slightly negative",
          "negative",
          "very negative",
          "slightly negative",
          "negative",
          "very negative",
          "negative",
          "negative",
          "negative",
          "very negative",
          "negative",
          "negative",
          "slightly negative",
          "negative",
          "negative",
          "slightly negative",
          "negative",
          "Neutral",
          "Neutral",
          "negative",
          "negative",
          "slightly negative",
          "negative",
          "slightly negative",
          "slightly negative",
          "negative",
          "slightly negative",
          "Neutral",
          "very negative",
          "Neutral",
          "slightly negative",
          "negative",
          "slightly negative",
          "positive",
          "slightly negative",
          "negative",
          "negative",
          "negative",
          "Neutral",
          "negative",
          "slightly negative",
          "negative",
          "slightly negative",
          "negative",
          "negative",
          "slightly negative",
          "negative",
          "negative",
          "negative",
          "negative",
          "slightly negative",
          "slightly negative",
          "Neutral",
          "Neutral",
          "negative",
          "negative",
          "negative",
          "slightly positive",
          "negative",
          "negative",
          "negative",
          "negative",
          "Neutral",
          "slightly negative",
          "slightly negative",
          "negative",
          "negative",
          "Neutral",
          "Neutral",
          "negative",
          "slightly negative",
          "slightly negative",
          "negative",
          "slightly negative",
          "slightly negative",
          "Neutral",
          "very negative",
          "negative",
          "negative",
          "negative",
          "negative",
          "slightly negative",
          "slightly negative",
          "slightly negative",
          "slightly negative",
          "slightly negative",
          "slightly negative",
          "slightly positive",
          "negative",
          "negative",
          "slightly negative",
          "Neutral",
          "positive",
          "slightly negative",
          "very negative",
          "negative",
          "negative",
          "very negative",
          "slightly positive",
          "negative",
          "slightly negative",
          "slightly negative",
          "very negative",
          "slightly negative",
          "negative",
          "slightly negative",
          "Neutral",
          "Neutral",
          "negative",
          "slightly negative",
          "slightly negative",
          "Neutral",
          "negative",
          "negative",
          "slightly negative",
          "negative",
          "negative",
          "negative",
          "negative",
          "slightly negative",
          "Neutral",
          "negative",
          "negative",
          "slightly negative",
          "negative",
          "negative",
          "negative",
          "negative",
          "Neutral",
          "negative"
         ],
         "xaxis": "x",
         "y": [
          1,
          1,
          1,
          1,
          1,
          1,
          1,
          1,
          1,
          1,
          1,
          1,
          1,
          1,
          1,
          1,
          1,
          1,
          1,
          1,
          1,
          1,
          1,
          1,
          1,
          1,
          1,
          1,
          1,
          1,
          1,
          1,
          1,
          1,
          1,
          1,
          1,
          1,
          1,
          1,
          1,
          1,
          1,
          1,
          1,
          1,
          1,
          1,
          1,
          1,
          1,
          1,
          1,
          1,
          1,
          1,
          1,
          1,
          1,
          1,
          1,
          1,
          1,
          1,
          1,
          1,
          1,
          1,
          1,
          1,
          1,
          1,
          1,
          1,
          1,
          1,
          1,
          1,
          1,
          1,
          1,
          1,
          1,
          1,
          1,
          1,
          1,
          1,
          1,
          1,
          1,
          1,
          1,
          1,
          1,
          1,
          1,
          1,
          1,
          1,
          1,
          1,
          1,
          1,
          1,
          1,
          1,
          1,
          1,
          1,
          1,
          1,
          1,
          1,
          1,
          1,
          1,
          1,
          1,
          1,
          1,
          1,
          1,
          1,
          1,
          1,
          1,
          1,
          1,
          1,
          1,
          1,
          1,
          1,
          1,
          1,
          1,
          1,
          1,
          1
         ],
         "yaxis": "y"
        },
        {
         "alignmentgroup": "True",
         "hovertemplate": "variable=0<br>value=%{x}<br>count=%{y}<extra></extra>",
         "legendgroup": "0",
         "marker": {
          "color": "#636efa",
          "pattern": {
           "shape": ""
          }
         },
         "name": "0",
         "offsetgroup": "0",
         "orientation": "v",
         "showlegend": true,
         "textposition": "auto",
         "type": "bar",
         "x": [
          "positive",
          "positive",
          "positive",
          "positive",
          "slightly positive",
          "positive",
          "Neutral",
          "very positive",
          "positive",
          "positive",
          "positive",
          "positive",
          "very positive",
          "slightly negative",
          "positive",
          "positive",
          "positive",
          "positive",
          "positive",
          "positive",
          "negative",
          "very positive",
          "slightly positive",
          "positive",
          "slightly positive",
          "positive",
          "slightly positive",
          "positive",
          "positive",
          "positive",
          "slightly positive",
          "slightly positive",
          "slightly positive",
          "positive",
          "very positive",
          "very positive",
          "Neutral",
          "very positive",
          "positive",
          "slightly positive",
          "slightly negative",
          "slightly positive",
          "positive",
          "positive",
          "positive",
          "positive",
          "slightly positive",
          "very positive",
          "positive",
          "slightly positive",
          "very positive",
          "slightly positive",
          "very positive",
          "Neutral",
          "positive",
          "positive",
          "Neutral",
          "positive",
          "positive",
          "positive",
          "Neutral",
          "positive",
          "positive",
          "slightly positive",
          "Neutral",
          "positive",
          "very positive",
          "negative",
          "slightly negative",
          "Neutral",
          "positive",
          "positive",
          "positive",
          "slightly positive",
          "positive",
          "slightly positive",
          "Neutral",
          "positive",
          "positive",
          "slightly positive",
          "slightly positive",
          "slightly positive",
          "slightly positive",
          "positive",
          "slightly positive",
          "slightly positive",
          "slightly positive",
          "positive",
          "positive",
          "Neutral",
          "positive",
          "positive",
          "positive",
          "slightly positive"
         ],
         "xaxis": "x2",
         "y": [
          1,
          1,
          1,
          1,
          1,
          1,
          1,
          1,
          1,
          1,
          1,
          1,
          1,
          1,
          1,
          1,
          1,
          1,
          1,
          1,
          1,
          1,
          1,
          1,
          1,
          1,
          1,
          1,
          1,
          1,
          1,
          1,
          1,
          1,
          1,
          1,
          1,
          1,
          1,
          1,
          1,
          1,
          1,
          1,
          1,
          1,
          1,
          1,
          1,
          1,
          1,
          1,
          1,
          1,
          1,
          1,
          1,
          1,
          1,
          1,
          1,
          1,
          1,
          1,
          1,
          1,
          1,
          1,
          1,
          1,
          1,
          1,
          1,
          1,
          1,
          1,
          1,
          1,
          1,
          1,
          1,
          1,
          1,
          1,
          1,
          1,
          1,
          1,
          1,
          1,
          1,
          1,
          1,
          1
         ],
         "yaxis": "y2"
        }
       ],
       "layout": {
        "annotations": [
         {
          "font": {
           "size": 16
          },
          "showarrow": false,
          "text": "negative",
          "x": 0.225,
          "xanchor": "center",
          "xref": "paper",
          "y": 1,
          "yanchor": "bottom",
          "yref": "paper"
         },
         {
          "font": {
           "size": 16
          },
          "showarrow": false,
          "text": "positive",
          "x": 0.775,
          "xanchor": "center",
          "xref": "paper",
          "y": 1,
          "yanchor": "bottom",
          "yref": "paper"
         }
        ],
        "template": {
         "data": {
          "bar": [
           {
            "error_x": {
             "color": "#2a3f5f"
            },
            "error_y": {
             "color": "#2a3f5f"
            },
            "marker": {
             "line": {
              "color": "#E5ECF6",
              "width": 0.5
             },
             "pattern": {
              "fillmode": "overlay",
              "size": 10,
              "solidity": 0.2
             }
            },
            "type": "bar"
           }
          ],
          "barpolar": [
           {
            "marker": {
             "line": {
              "color": "#E5ECF6",
              "width": 0.5
             },
             "pattern": {
              "fillmode": "overlay",
              "size": 10,
              "solidity": 0.2
             }
            },
            "type": "barpolar"
           }
          ],
          "carpet": [
           {
            "aaxis": {
             "endlinecolor": "#2a3f5f",
             "gridcolor": "white",
             "linecolor": "white",
             "minorgridcolor": "white",
             "startlinecolor": "#2a3f5f"
            },
            "baxis": {
             "endlinecolor": "#2a3f5f",
             "gridcolor": "white",
             "linecolor": "white",
             "minorgridcolor": "white",
             "startlinecolor": "#2a3f5f"
            },
            "type": "carpet"
           }
          ],
          "choropleth": [
           {
            "colorbar": {
             "outlinewidth": 0,
             "ticks": ""
            },
            "type": "choropleth"
           }
          ],
          "contour": [
           {
            "colorbar": {
             "outlinewidth": 0,
             "ticks": ""
            },
            "colorscale": [
             [
              0,
              "#0d0887"
             ],
             [
              0.1111111111111111,
              "#46039f"
             ],
             [
              0.2222222222222222,
              "#7201a8"
             ],
             [
              0.3333333333333333,
              "#9c179e"
             ],
             [
              0.4444444444444444,
              "#bd3786"
             ],
             [
              0.5555555555555556,
              "#d8576b"
             ],
             [
              0.6666666666666666,
              "#ed7953"
             ],
             [
              0.7777777777777778,
              "#fb9f3a"
             ],
             [
              0.8888888888888888,
              "#fdca26"
             ],
             [
              1,
              "#f0f921"
             ]
            ],
            "type": "contour"
           }
          ],
          "contourcarpet": [
           {
            "colorbar": {
             "outlinewidth": 0,
             "ticks": ""
            },
            "type": "contourcarpet"
           }
          ],
          "heatmap": [
           {
            "colorbar": {
             "outlinewidth": 0,
             "ticks": ""
            },
            "colorscale": [
             [
              0,
              "#0d0887"
             ],
             [
              0.1111111111111111,
              "#46039f"
             ],
             [
              0.2222222222222222,
              "#7201a8"
             ],
             [
              0.3333333333333333,
              "#9c179e"
             ],
             [
              0.4444444444444444,
              "#bd3786"
             ],
             [
              0.5555555555555556,
              "#d8576b"
             ],
             [
              0.6666666666666666,
              "#ed7953"
             ],
             [
              0.7777777777777778,
              "#fb9f3a"
             ],
             [
              0.8888888888888888,
              "#fdca26"
             ],
             [
              1,
              "#f0f921"
             ]
            ],
            "type": "heatmap"
           }
          ],
          "heatmapgl": [
           {
            "colorbar": {
             "outlinewidth": 0,
             "ticks": ""
            },
            "colorscale": [
             [
              0,
              "#0d0887"
             ],
             [
              0.1111111111111111,
              "#46039f"
             ],
             [
              0.2222222222222222,
              "#7201a8"
             ],
             [
              0.3333333333333333,
              "#9c179e"
             ],
             [
              0.4444444444444444,
              "#bd3786"
             ],
             [
              0.5555555555555556,
              "#d8576b"
             ],
             [
              0.6666666666666666,
              "#ed7953"
             ],
             [
              0.7777777777777778,
              "#fb9f3a"
             ],
             [
              0.8888888888888888,
              "#fdca26"
             ],
             [
              1,
              "#f0f921"
             ]
            ],
            "type": "heatmapgl"
           }
          ],
          "histogram": [
           {
            "marker": {
             "pattern": {
              "fillmode": "overlay",
              "size": 10,
              "solidity": 0.2
             }
            },
            "type": "histogram"
           }
          ],
          "histogram2d": [
           {
            "colorbar": {
             "outlinewidth": 0,
             "ticks": ""
            },
            "colorscale": [
             [
              0,
              "#0d0887"
             ],
             [
              0.1111111111111111,
              "#46039f"
             ],
             [
              0.2222222222222222,
              "#7201a8"
             ],
             [
              0.3333333333333333,
              "#9c179e"
             ],
             [
              0.4444444444444444,
              "#bd3786"
             ],
             [
              0.5555555555555556,
              "#d8576b"
             ],
             [
              0.6666666666666666,
              "#ed7953"
             ],
             [
              0.7777777777777778,
              "#fb9f3a"
             ],
             [
              0.8888888888888888,
              "#fdca26"
             ],
             [
              1,
              "#f0f921"
             ]
            ],
            "type": "histogram2d"
           }
          ],
          "histogram2dcontour": [
           {
            "colorbar": {
             "outlinewidth": 0,
             "ticks": ""
            },
            "colorscale": [
             [
              0,
              "#0d0887"
             ],
             [
              0.1111111111111111,
              "#46039f"
             ],
             [
              0.2222222222222222,
              "#7201a8"
             ],
             [
              0.3333333333333333,
              "#9c179e"
             ],
             [
              0.4444444444444444,
              "#bd3786"
             ],
             [
              0.5555555555555556,
              "#d8576b"
             ],
             [
              0.6666666666666666,
              "#ed7953"
             ],
             [
              0.7777777777777778,
              "#fb9f3a"
             ],
             [
              0.8888888888888888,
              "#fdca26"
             ],
             [
              1,
              "#f0f921"
             ]
            ],
            "type": "histogram2dcontour"
           }
          ],
          "mesh3d": [
           {
            "colorbar": {
             "outlinewidth": 0,
             "ticks": ""
            },
            "type": "mesh3d"
           }
          ],
          "parcoords": [
           {
            "line": {
             "colorbar": {
              "outlinewidth": 0,
              "ticks": ""
             }
            },
            "type": "parcoords"
           }
          ],
          "pie": [
           {
            "automargin": true,
            "type": "pie"
           }
          ],
          "scatter": [
           {
            "marker": {
             "colorbar": {
              "outlinewidth": 0,
              "ticks": ""
             }
            },
            "type": "scatter"
           }
          ],
          "scatter3d": [
           {
            "line": {
             "colorbar": {
              "outlinewidth": 0,
              "ticks": ""
             }
            },
            "marker": {
             "colorbar": {
              "outlinewidth": 0,
              "ticks": ""
             }
            },
            "type": "scatter3d"
           }
          ],
          "scattercarpet": [
           {
            "marker": {
             "colorbar": {
              "outlinewidth": 0,
              "ticks": ""
             }
            },
            "type": "scattercarpet"
           }
          ],
          "scattergeo": [
           {
            "marker": {
             "colorbar": {
              "outlinewidth": 0,
              "ticks": ""
             }
            },
            "type": "scattergeo"
           }
          ],
          "scattergl": [
           {
            "marker": {
             "colorbar": {
              "outlinewidth": 0,
              "ticks": ""
             }
            },
            "type": "scattergl"
           }
          ],
          "scattermapbox": [
           {
            "marker": {
             "colorbar": {
              "outlinewidth": 0,
              "ticks": ""
             }
            },
            "type": "scattermapbox"
           }
          ],
          "scatterpolar": [
           {
            "marker": {
             "colorbar": {
              "outlinewidth": 0,
              "ticks": ""
             }
            },
            "type": "scatterpolar"
           }
          ],
          "scatterpolargl": [
           {
            "marker": {
             "colorbar": {
              "outlinewidth": 0,
              "ticks": ""
             }
            },
            "type": "scatterpolargl"
           }
          ],
          "scatterternary": [
           {
            "marker": {
             "colorbar": {
              "outlinewidth": 0,
              "ticks": ""
             }
            },
            "type": "scatterternary"
           }
          ],
          "surface": [
           {
            "colorbar": {
             "outlinewidth": 0,
             "ticks": ""
            },
            "colorscale": [
             [
              0,
              "#0d0887"
             ],
             [
              0.1111111111111111,
              "#46039f"
             ],
             [
              0.2222222222222222,
              "#7201a8"
             ],
             [
              0.3333333333333333,
              "#9c179e"
             ],
             [
              0.4444444444444444,
              "#bd3786"
             ],
             [
              0.5555555555555556,
              "#d8576b"
             ],
             [
              0.6666666666666666,
              "#ed7953"
             ],
             [
              0.7777777777777778,
              "#fb9f3a"
             ],
             [
              0.8888888888888888,
              "#fdca26"
             ],
             [
              1,
              "#f0f921"
             ]
            ],
            "type": "surface"
           }
          ],
          "table": [
           {
            "cells": {
             "fill": {
              "color": "#EBF0F8"
             },
             "line": {
              "color": "white"
             }
            },
            "header": {
             "fill": {
              "color": "#C8D4E3"
             },
             "line": {
              "color": "white"
             }
            },
            "type": "table"
           }
          ]
         },
         "layout": {
          "annotationdefaults": {
           "arrowcolor": "#2a3f5f",
           "arrowhead": 0,
           "arrowwidth": 1
          },
          "autotypenumbers": "strict",
          "coloraxis": {
           "colorbar": {
            "outlinewidth": 0,
            "ticks": ""
           }
          },
          "colorscale": {
           "diverging": [
            [
             0,
             "#8e0152"
            ],
            [
             0.1,
             "#c51b7d"
            ],
            [
             0.2,
             "#de77ae"
            ],
            [
             0.3,
             "#f1b6da"
            ],
            [
             0.4,
             "#fde0ef"
            ],
            [
             0.5,
             "#f7f7f7"
            ],
            [
             0.6,
             "#e6f5d0"
            ],
            [
             0.7,
             "#b8e186"
            ],
            [
             0.8,
             "#7fbc41"
            ],
            [
             0.9,
             "#4d9221"
            ],
            [
             1,
             "#276419"
            ]
           ],
           "sequential": [
            [
             0,
             "#0d0887"
            ],
            [
             0.1111111111111111,
             "#46039f"
            ],
            [
             0.2222222222222222,
             "#7201a8"
            ],
            [
             0.3333333333333333,
             "#9c179e"
            ],
            [
             0.4444444444444444,
             "#bd3786"
            ],
            [
             0.5555555555555556,
             "#d8576b"
            ],
            [
             0.6666666666666666,
             "#ed7953"
            ],
            [
             0.7777777777777778,
             "#fb9f3a"
            ],
            [
             0.8888888888888888,
             "#fdca26"
            ],
            [
             1,
             "#f0f921"
            ]
           ],
           "sequentialminus": [
            [
             0,
             "#0d0887"
            ],
            [
             0.1111111111111111,
             "#46039f"
            ],
            [
             0.2222222222222222,
             "#7201a8"
            ],
            [
             0.3333333333333333,
             "#9c179e"
            ],
            [
             0.4444444444444444,
             "#bd3786"
            ],
            [
             0.5555555555555556,
             "#d8576b"
            ],
            [
             0.6666666666666666,
             "#ed7953"
            ],
            [
             0.7777777777777778,
             "#fb9f3a"
            ],
            [
             0.8888888888888888,
             "#fdca26"
            ],
            [
             1,
             "#f0f921"
            ]
           ]
          },
          "colorway": [
           "#636efa",
           "#EF553B",
           "#00cc96",
           "#ab63fa",
           "#FFA15A",
           "#19d3f3",
           "#FF6692",
           "#B6E880",
           "#FF97FF",
           "#FECB52"
          ],
          "font": {
           "color": "#2a3f5f"
          },
          "geo": {
           "bgcolor": "white",
           "lakecolor": "white",
           "landcolor": "#E5ECF6",
           "showlakes": true,
           "showland": true,
           "subunitcolor": "white"
          },
          "hoverlabel": {
           "align": "left"
          },
          "hovermode": "closest",
          "mapbox": {
           "style": "light"
          },
          "paper_bgcolor": "white",
          "plot_bgcolor": "#E5ECF6",
          "polar": {
           "angularaxis": {
            "gridcolor": "white",
            "linecolor": "white",
            "ticks": ""
           },
           "bgcolor": "#E5ECF6",
           "radialaxis": {
            "gridcolor": "white",
            "linecolor": "white",
            "ticks": ""
           }
          },
          "scene": {
           "xaxis": {
            "backgroundcolor": "#E5ECF6",
            "gridcolor": "white",
            "gridwidth": 2,
            "linecolor": "white",
            "showbackground": true,
            "ticks": "",
            "zerolinecolor": "white"
           },
           "yaxis": {
            "backgroundcolor": "#E5ECF6",
            "gridcolor": "white",
            "gridwidth": 2,
            "linecolor": "white",
            "showbackground": true,
            "ticks": "",
            "zerolinecolor": "white"
           },
           "zaxis": {
            "backgroundcolor": "#E5ECF6",
            "gridcolor": "white",
            "gridwidth": 2,
            "linecolor": "white",
            "showbackground": true,
            "ticks": "",
            "zerolinecolor": "white"
           }
          },
          "shapedefaults": {
           "line": {
            "color": "#2a3f5f"
           }
          },
          "ternary": {
           "aaxis": {
            "gridcolor": "white",
            "linecolor": "white",
            "ticks": ""
           },
           "baxis": {
            "gridcolor": "white",
            "linecolor": "white",
            "ticks": ""
           },
           "bgcolor": "#E5ECF6",
           "caxis": {
            "gridcolor": "white",
            "linecolor": "white",
            "ticks": ""
           }
          },
          "title": {
           "x": 0.05
          },
          "xaxis": {
           "automargin": true,
           "gridcolor": "white",
           "linecolor": "white",
           "ticks": "",
           "title": {
            "standoff": 15
           },
           "zerolinecolor": "white",
           "zerolinewidth": 2
          },
          "yaxis": {
           "automargin": true,
           "gridcolor": "white",
           "linecolor": "white",
           "ticks": "",
           "title": {
            "standoff": 15
           },
           "zerolinecolor": "white",
           "zerolinewidth": 2
          }
         }
        },
        "title": {
         "text": "MIM",
         "x": 0.5
        },
        "xaxis": {
         "anchor": "y",
         "categoryarray": [
          "very negative",
          "negative",
          "slightly negative",
          "Neutral",
          "slightly positive",
          "positive",
          "very positive"
         ],
         "categoryorder": "array",
         "domain": [
          0,
          0.45
         ]
        },
        "xaxis2": {
         "anchor": "y2",
         "categoryarray": [
          "very negative",
          "negative",
          "slightly negative",
          "Neutral",
          "slightly positive",
          "positive",
          "very positive"
         ],
         "categoryorder": "array",
         "domain": [
          0.55,
          1
         ]
        },
        "yaxis": {
         "anchor": "x",
         "domain": [
          0,
          1
         ]
        },
        "yaxis2": {
         "anchor": "x2",
         "domain": [
          0,
          1
         ]
        }
       }
      },
      "text/html": [
       "<div>                            <div id=\"30a96ba9-d8a3-4b04-b62e-68f94dca9ac7\" class=\"plotly-graph-div\" style=\"height:525px; width:100%;\"></div>            <script type=\"text/javascript\">                require([\"plotly\"], function(Plotly) {                    window.PLOTLYENV=window.PLOTLYENV || {};                                    if (document.getElementById(\"30a96ba9-d8a3-4b04-b62e-68f94dca9ac7\")) {                    Plotly.newPlot(                        \"30a96ba9-d8a3-4b04-b62e-68f94dca9ac7\",                        [{\"alignmentgroup\":\"True\",\"hovertemplate\":\"variable=0<br>value=%{x}<br>count=%{y}<extra></extra>\",\"legendgroup\":\"0\",\"marker\":{\"color\":\"#636efa\",\"pattern\":{\"shape\":\"\"}},\"name\":\"0\",\"offsetgroup\":\"0\",\"orientation\":\"v\",\"showlegend\":true,\"textposition\":\"auto\",\"type\":\"bar\",\"x\":[\"negative\",\"Neutral\",\"slightly positive\",\"slightly negative\",\"negative\",\"slightly negative\",\"slightly negative\",\"negative\",\"slightly negative\",\"slightly negative\",\"slightly negative\",\"negative\",\"very negative\",\"slightly negative\",\"negative\",\"very negative\",\"negative\",\"negative\",\"negative\",\"very negative\",\"negative\",\"negative\",\"slightly negative\",\"negative\",\"negative\",\"slightly negative\",\"negative\",\"Neutral\",\"Neutral\",\"negative\",\"negative\",\"slightly negative\",\"negative\",\"slightly negative\",\"slightly negative\",\"negative\",\"slightly negative\",\"Neutral\",\"very negative\",\"Neutral\",\"slightly negative\",\"negative\",\"slightly negative\",\"positive\",\"slightly negative\",\"negative\",\"negative\",\"negative\",\"Neutral\",\"negative\",\"slightly negative\",\"negative\",\"slightly negative\",\"negative\",\"negative\",\"slightly negative\",\"negative\",\"negative\",\"negative\",\"negative\",\"slightly negative\",\"slightly negative\",\"Neutral\",\"Neutral\",\"negative\",\"negative\",\"negative\",\"slightly positive\",\"negative\",\"negative\",\"negative\",\"negative\",\"Neutral\",\"slightly negative\",\"slightly negative\",\"negative\",\"negative\",\"Neutral\",\"Neutral\",\"negative\",\"slightly negative\",\"slightly negative\",\"negative\",\"slightly negative\",\"slightly negative\",\"Neutral\",\"very negative\",\"negative\",\"negative\",\"negative\",\"negative\",\"slightly negative\",\"slightly negative\",\"slightly negative\",\"slightly negative\",\"slightly negative\",\"slightly negative\",\"slightly positive\",\"negative\",\"negative\",\"slightly negative\",\"Neutral\",\"positive\",\"slightly negative\",\"very negative\",\"negative\",\"negative\",\"very negative\",\"slightly positive\",\"negative\",\"slightly negative\",\"slightly negative\",\"very negative\",\"slightly negative\",\"negative\",\"slightly negative\",\"Neutral\",\"Neutral\",\"negative\",\"slightly negative\",\"slightly negative\",\"Neutral\",\"negative\",\"negative\",\"slightly negative\",\"negative\",\"negative\",\"negative\",\"negative\",\"slightly negative\",\"Neutral\",\"negative\",\"negative\",\"slightly negative\",\"negative\",\"negative\",\"negative\",\"negative\",\"Neutral\",\"negative\"],\"xaxis\":\"x\",\"y\":[1,1,1,1,1,1,1,1,1,1,1,1,1,1,1,1,1,1,1,1,1,1,1,1,1,1,1,1,1,1,1,1,1,1,1,1,1,1,1,1,1,1,1,1,1,1,1,1,1,1,1,1,1,1,1,1,1,1,1,1,1,1,1,1,1,1,1,1,1,1,1,1,1,1,1,1,1,1,1,1,1,1,1,1,1,1,1,1,1,1,1,1,1,1,1,1,1,1,1,1,1,1,1,1,1,1,1,1,1,1,1,1,1,1,1,1,1,1,1,1,1,1,1,1,1,1,1,1,1,1,1,1,1,1,1,1,1,1,1,1],\"yaxis\":\"y\"},{\"alignmentgroup\":\"True\",\"hovertemplate\":\"variable=0<br>value=%{x}<br>count=%{y}<extra></extra>\",\"legendgroup\":\"0\",\"marker\":{\"color\":\"#636efa\",\"pattern\":{\"shape\":\"\"}},\"name\":\"0\",\"offsetgroup\":\"0\",\"orientation\":\"v\",\"showlegend\":true,\"textposition\":\"auto\",\"type\":\"bar\",\"x\":[\"positive\",\"positive\",\"positive\",\"positive\",\"slightly positive\",\"positive\",\"Neutral\",\"very positive\",\"positive\",\"positive\",\"positive\",\"positive\",\"very positive\",\"slightly negative\",\"positive\",\"positive\",\"positive\",\"positive\",\"positive\",\"positive\",\"negative\",\"very positive\",\"slightly positive\",\"positive\",\"slightly positive\",\"positive\",\"slightly positive\",\"positive\",\"positive\",\"positive\",\"slightly positive\",\"slightly positive\",\"slightly positive\",\"positive\",\"very positive\",\"very positive\",\"Neutral\",\"very positive\",\"positive\",\"slightly positive\",\"slightly negative\",\"slightly positive\",\"positive\",\"positive\",\"positive\",\"positive\",\"slightly positive\",\"very positive\",\"positive\",\"slightly positive\",\"very positive\",\"slightly positive\",\"very positive\",\"Neutral\",\"positive\",\"positive\",\"Neutral\",\"positive\",\"positive\",\"positive\",\"Neutral\",\"positive\",\"positive\",\"slightly positive\",\"Neutral\",\"positive\",\"very positive\",\"negative\",\"slightly negative\",\"Neutral\",\"positive\",\"positive\",\"positive\",\"slightly positive\",\"positive\",\"slightly positive\",\"Neutral\",\"positive\",\"positive\",\"slightly positive\",\"slightly positive\",\"slightly positive\",\"slightly positive\",\"positive\",\"slightly positive\",\"slightly positive\",\"slightly positive\",\"positive\",\"positive\",\"Neutral\",\"positive\",\"positive\",\"positive\",\"slightly positive\"],\"xaxis\":\"x2\",\"y\":[1,1,1,1,1,1,1,1,1,1,1,1,1,1,1,1,1,1,1,1,1,1,1,1,1,1,1,1,1,1,1,1,1,1,1,1,1,1,1,1,1,1,1,1,1,1,1,1,1,1,1,1,1,1,1,1,1,1,1,1,1,1,1,1,1,1,1,1,1,1,1,1,1,1,1,1,1,1,1,1,1,1,1,1,1,1,1,1,1,1,1,1,1,1],\"yaxis\":\"y2\"}],                        {\"annotations\":[{\"font\":{\"size\":16},\"showarrow\":false,\"text\":\"negative\",\"x\":0.225,\"xanchor\":\"center\",\"xref\":\"paper\",\"y\":1.0,\"yanchor\":\"bottom\",\"yref\":\"paper\"},{\"font\":{\"size\":16},\"showarrow\":false,\"text\":\"positive\",\"x\":0.775,\"xanchor\":\"center\",\"xref\":\"paper\",\"y\":1.0,\"yanchor\":\"bottom\",\"yref\":\"paper\"}],\"template\":{\"data\":{\"bar\":[{\"error_x\":{\"color\":\"#2a3f5f\"},\"error_y\":{\"color\":\"#2a3f5f\"},\"marker\":{\"line\":{\"color\":\"#E5ECF6\",\"width\":0.5},\"pattern\":{\"fillmode\":\"overlay\",\"size\":10,\"solidity\":0.2}},\"type\":\"bar\"}],\"barpolar\":[{\"marker\":{\"line\":{\"color\":\"#E5ECF6\",\"width\":0.5},\"pattern\":{\"fillmode\":\"overlay\",\"size\":10,\"solidity\":0.2}},\"type\":\"barpolar\"}],\"carpet\":[{\"aaxis\":{\"endlinecolor\":\"#2a3f5f\",\"gridcolor\":\"white\",\"linecolor\":\"white\",\"minorgridcolor\":\"white\",\"startlinecolor\":\"#2a3f5f\"},\"baxis\":{\"endlinecolor\":\"#2a3f5f\",\"gridcolor\":\"white\",\"linecolor\":\"white\",\"minorgridcolor\":\"white\",\"startlinecolor\":\"#2a3f5f\"},\"type\":\"carpet\"}],\"choropleth\":[{\"colorbar\":{\"outlinewidth\":0,\"ticks\":\"\"},\"type\":\"choropleth\"}],\"contour\":[{\"colorbar\":{\"outlinewidth\":0,\"ticks\":\"\"},\"colorscale\":[[0.0,\"#0d0887\"],[0.1111111111111111,\"#46039f\"],[0.2222222222222222,\"#7201a8\"],[0.3333333333333333,\"#9c179e\"],[0.4444444444444444,\"#bd3786\"],[0.5555555555555556,\"#d8576b\"],[0.6666666666666666,\"#ed7953\"],[0.7777777777777778,\"#fb9f3a\"],[0.8888888888888888,\"#fdca26\"],[1.0,\"#f0f921\"]],\"type\":\"contour\"}],\"contourcarpet\":[{\"colorbar\":{\"outlinewidth\":0,\"ticks\":\"\"},\"type\":\"contourcarpet\"}],\"heatmap\":[{\"colorbar\":{\"outlinewidth\":0,\"ticks\":\"\"},\"colorscale\":[[0.0,\"#0d0887\"],[0.1111111111111111,\"#46039f\"],[0.2222222222222222,\"#7201a8\"],[0.3333333333333333,\"#9c179e\"],[0.4444444444444444,\"#bd3786\"],[0.5555555555555556,\"#d8576b\"],[0.6666666666666666,\"#ed7953\"],[0.7777777777777778,\"#fb9f3a\"],[0.8888888888888888,\"#fdca26\"],[1.0,\"#f0f921\"]],\"type\":\"heatmap\"}],\"heatmapgl\":[{\"colorbar\":{\"outlinewidth\":0,\"ticks\":\"\"},\"colorscale\":[[0.0,\"#0d0887\"],[0.1111111111111111,\"#46039f\"],[0.2222222222222222,\"#7201a8\"],[0.3333333333333333,\"#9c179e\"],[0.4444444444444444,\"#bd3786\"],[0.5555555555555556,\"#d8576b\"],[0.6666666666666666,\"#ed7953\"],[0.7777777777777778,\"#fb9f3a\"],[0.8888888888888888,\"#fdca26\"],[1.0,\"#f0f921\"]],\"type\":\"heatmapgl\"}],\"histogram\":[{\"marker\":{\"pattern\":{\"fillmode\":\"overlay\",\"size\":10,\"solidity\":0.2}},\"type\":\"histogram\"}],\"histogram2d\":[{\"colorbar\":{\"outlinewidth\":0,\"ticks\":\"\"},\"colorscale\":[[0.0,\"#0d0887\"],[0.1111111111111111,\"#46039f\"],[0.2222222222222222,\"#7201a8\"],[0.3333333333333333,\"#9c179e\"],[0.4444444444444444,\"#bd3786\"],[0.5555555555555556,\"#d8576b\"],[0.6666666666666666,\"#ed7953\"],[0.7777777777777778,\"#fb9f3a\"],[0.8888888888888888,\"#fdca26\"],[1.0,\"#f0f921\"]],\"type\":\"histogram2d\"}],\"histogram2dcontour\":[{\"colorbar\":{\"outlinewidth\":0,\"ticks\":\"\"},\"colorscale\":[[0.0,\"#0d0887\"],[0.1111111111111111,\"#46039f\"],[0.2222222222222222,\"#7201a8\"],[0.3333333333333333,\"#9c179e\"],[0.4444444444444444,\"#bd3786\"],[0.5555555555555556,\"#d8576b\"],[0.6666666666666666,\"#ed7953\"],[0.7777777777777778,\"#fb9f3a\"],[0.8888888888888888,\"#fdca26\"],[1.0,\"#f0f921\"]],\"type\":\"histogram2dcontour\"}],\"mesh3d\":[{\"colorbar\":{\"outlinewidth\":0,\"ticks\":\"\"},\"type\":\"mesh3d\"}],\"parcoords\":[{\"line\":{\"colorbar\":{\"outlinewidth\":0,\"ticks\":\"\"}},\"type\":\"parcoords\"}],\"pie\":[{\"automargin\":true,\"type\":\"pie\"}],\"scatter\":[{\"marker\":{\"colorbar\":{\"outlinewidth\":0,\"ticks\":\"\"}},\"type\":\"scatter\"}],\"scatter3d\":[{\"line\":{\"colorbar\":{\"outlinewidth\":0,\"ticks\":\"\"}},\"marker\":{\"colorbar\":{\"outlinewidth\":0,\"ticks\":\"\"}},\"type\":\"scatter3d\"}],\"scattercarpet\":[{\"marker\":{\"colorbar\":{\"outlinewidth\":0,\"ticks\":\"\"}},\"type\":\"scattercarpet\"}],\"scattergeo\":[{\"marker\":{\"colorbar\":{\"outlinewidth\":0,\"ticks\":\"\"}},\"type\":\"scattergeo\"}],\"scattergl\":[{\"marker\":{\"colorbar\":{\"outlinewidth\":0,\"ticks\":\"\"}},\"type\":\"scattergl\"}],\"scattermapbox\":[{\"marker\":{\"colorbar\":{\"outlinewidth\":0,\"ticks\":\"\"}},\"type\":\"scattermapbox\"}],\"scatterpolar\":[{\"marker\":{\"colorbar\":{\"outlinewidth\":0,\"ticks\":\"\"}},\"type\":\"scatterpolar\"}],\"scatterpolargl\":[{\"marker\":{\"colorbar\":{\"outlinewidth\":0,\"ticks\":\"\"}},\"type\":\"scatterpolargl\"}],\"scatterternary\":[{\"marker\":{\"colorbar\":{\"outlinewidth\":0,\"ticks\":\"\"}},\"type\":\"scatterternary\"}],\"surface\":[{\"colorbar\":{\"outlinewidth\":0,\"ticks\":\"\"},\"colorscale\":[[0.0,\"#0d0887\"],[0.1111111111111111,\"#46039f\"],[0.2222222222222222,\"#7201a8\"],[0.3333333333333333,\"#9c179e\"],[0.4444444444444444,\"#bd3786\"],[0.5555555555555556,\"#d8576b\"],[0.6666666666666666,\"#ed7953\"],[0.7777777777777778,\"#fb9f3a\"],[0.8888888888888888,\"#fdca26\"],[1.0,\"#f0f921\"]],\"type\":\"surface\"}],\"table\":[{\"cells\":{\"fill\":{\"color\":\"#EBF0F8\"},\"line\":{\"color\":\"white\"}},\"header\":{\"fill\":{\"color\":\"#C8D4E3\"},\"line\":{\"color\":\"white\"}},\"type\":\"table\"}]},\"layout\":{\"annotationdefaults\":{\"arrowcolor\":\"#2a3f5f\",\"arrowhead\":0,\"arrowwidth\":1},\"autotypenumbers\":\"strict\",\"coloraxis\":{\"colorbar\":{\"outlinewidth\":0,\"ticks\":\"\"}},\"colorscale\":{\"diverging\":[[0,\"#8e0152\"],[0.1,\"#c51b7d\"],[0.2,\"#de77ae\"],[0.3,\"#f1b6da\"],[0.4,\"#fde0ef\"],[0.5,\"#f7f7f7\"],[0.6,\"#e6f5d0\"],[0.7,\"#b8e186\"],[0.8,\"#7fbc41\"],[0.9,\"#4d9221\"],[1,\"#276419\"]],\"sequential\":[[0.0,\"#0d0887\"],[0.1111111111111111,\"#46039f\"],[0.2222222222222222,\"#7201a8\"],[0.3333333333333333,\"#9c179e\"],[0.4444444444444444,\"#bd3786\"],[0.5555555555555556,\"#d8576b\"],[0.6666666666666666,\"#ed7953\"],[0.7777777777777778,\"#fb9f3a\"],[0.8888888888888888,\"#fdca26\"],[1.0,\"#f0f921\"]],\"sequentialminus\":[[0.0,\"#0d0887\"],[0.1111111111111111,\"#46039f\"],[0.2222222222222222,\"#7201a8\"],[0.3333333333333333,\"#9c179e\"],[0.4444444444444444,\"#bd3786\"],[0.5555555555555556,\"#d8576b\"],[0.6666666666666666,\"#ed7953\"],[0.7777777777777778,\"#fb9f3a\"],[0.8888888888888888,\"#fdca26\"],[1.0,\"#f0f921\"]]},\"colorway\":[\"#636efa\",\"#EF553B\",\"#00cc96\",\"#ab63fa\",\"#FFA15A\",\"#19d3f3\",\"#FF6692\",\"#B6E880\",\"#FF97FF\",\"#FECB52\"],\"font\":{\"color\":\"#2a3f5f\"},\"geo\":{\"bgcolor\":\"white\",\"lakecolor\":\"white\",\"landcolor\":\"#E5ECF6\",\"showlakes\":true,\"showland\":true,\"subunitcolor\":\"white\"},\"hoverlabel\":{\"align\":\"left\"},\"hovermode\":\"closest\",\"mapbox\":{\"style\":\"light\"},\"paper_bgcolor\":\"white\",\"plot_bgcolor\":\"#E5ECF6\",\"polar\":{\"angularaxis\":{\"gridcolor\":\"white\",\"linecolor\":\"white\",\"ticks\":\"\"},\"bgcolor\":\"#E5ECF6\",\"radialaxis\":{\"gridcolor\":\"white\",\"linecolor\":\"white\",\"ticks\":\"\"}},\"scene\":{\"xaxis\":{\"backgroundcolor\":\"#E5ECF6\",\"gridcolor\":\"white\",\"gridwidth\":2,\"linecolor\":\"white\",\"showbackground\":true,\"ticks\":\"\",\"zerolinecolor\":\"white\"},\"yaxis\":{\"backgroundcolor\":\"#E5ECF6\",\"gridcolor\":\"white\",\"gridwidth\":2,\"linecolor\":\"white\",\"showbackground\":true,\"ticks\":\"\",\"zerolinecolor\":\"white\"},\"zaxis\":{\"backgroundcolor\":\"#E5ECF6\",\"gridcolor\":\"white\",\"gridwidth\":2,\"linecolor\":\"white\",\"showbackground\":true,\"ticks\":\"\",\"zerolinecolor\":\"white\"}},\"shapedefaults\":{\"line\":{\"color\":\"#2a3f5f\"}},\"ternary\":{\"aaxis\":{\"gridcolor\":\"white\",\"linecolor\":\"white\",\"ticks\":\"\"},\"baxis\":{\"gridcolor\":\"white\",\"linecolor\":\"white\",\"ticks\":\"\"},\"bgcolor\":\"#E5ECF6\",\"caxis\":{\"gridcolor\":\"white\",\"linecolor\":\"white\",\"ticks\":\"\"}},\"title\":{\"x\":0.05},\"xaxis\":{\"automargin\":true,\"gridcolor\":\"white\",\"linecolor\":\"white\",\"ticks\":\"\",\"title\":{\"standoff\":15},\"zerolinecolor\":\"white\",\"zerolinewidth\":2},\"yaxis\":{\"automargin\":true,\"gridcolor\":\"white\",\"linecolor\":\"white\",\"ticks\":\"\",\"title\":{\"standoff\":15},\"zerolinecolor\":\"white\",\"zerolinewidth\":2}}},\"title\":{\"text\":\"MIM\",\"x\":0.5},\"xaxis\":{\"anchor\":\"y\",\"categoryarray\":[\"very negative\",\"negative\",\"slightly negative\",\"Neutral\",\"slightly positive\",\"positive\",\"very positive\"],\"categoryorder\":\"array\",\"domain\":[0.0,0.45]},\"xaxis2\":{\"anchor\":\"y2\",\"categoryarray\":[\"very negative\",\"negative\",\"slightly negative\",\"Neutral\",\"slightly positive\",\"positive\",\"very positive\"],\"categoryorder\":\"array\",\"domain\":[0.55,1.0]},\"yaxis\":{\"anchor\":\"x\",\"domain\":[0.0,1.0]},\"yaxis2\":{\"anchor\":\"x2\",\"domain\":[0.0,1.0]}},                        {\"responsive\": true}                    ).then(function(){\n",
       "                            \n",
       "var gd = document.getElementById('30a96ba9-d8a3-4b04-b62e-68f94dca9ac7');\n",
       "var x = new MutationObserver(function (mutations, observer) {{\n",
       "        var display = window.getComputedStyle(gd).display;\n",
       "        if (!display || display === 'none') {{\n",
       "            console.log([gd, 'removed!']);\n",
       "            Plotly.purge(gd);\n",
       "            observer.disconnect();\n",
       "        }}\n",
       "}});\n",
       "\n",
       "// Listen for the removal of the full notebook cells\n",
       "var notebookContainer = gd.closest('#notebook-container');\n",
       "if (notebookContainer) {{\n",
       "    x.observe(notebookContainer, {childList: true});\n",
       "}}\n",
       "\n",
       "// Listen for the clearing of the current output cell\n",
       "var outputEl = gd.closest('.output');\n",
       "if (outputEl) {{\n",
       "    x.observe(outputEl, {childList: true});\n",
       "}}\n",
       "\n",
       "                        })                };                });            </script>        </div>"
      ]
     },
     "metadata": {},
     "output_type": "display_data"
    }
   ],
   "source": [
    "fig2 = px.bar(df2)\n",
    "fig6 = px.bar(df6)\n",
    "\n",
    "fig2_traces = []\n",
    "fig6_traces = []\n",
    "\n",
    "for trace in range(len(fig2[\"data\"])):\n",
    "    fig2_traces.append(fig2[\"data\"][trace])\n",
    "for trace in range(len(fig6[\"data\"])):\n",
    "    fig6_traces.append(fig6[\"data\"][trace])\n",
    "\n",
    "this_figure = sp.make_subplots(rows=1, cols=2, subplot_titles=(\"negative\", \"positive\"))\n",
    "for traces in fig2_traces:\n",
    "    this_figure.append_trace(traces, row=1, col=1)\n",
    "for traces in fig6_traces:\n",
    "    this_figure.append_trace(traces, row=1, col=2)\n",
    "\n",
    "# this_figure.update_layout(height=600, width=1500, title_text=\"CMU-MOSI 7 Class Sentiment Intensity\")\n",
    "this_figure.update_layout(title_text='MIM', title_x=0.5)\n",
    "this_figure.update_xaxes(categoryorder='array', categoryarray= order)\n",
    "# this_figure.update_yaxes(range=[0,250])\n",
    "this_figure.show()"
   ]
  },
  {
   "cell_type": "code",
   "execution_count": 34,
   "metadata": {},
   "outputs": [
    {
     "data": {
      "application/vnd.plotly.v1+json": {
       "config": {
        "plotlyServerURL": "https://plot.ly"
       },
       "data": [
        {
         "alignmentgroup": "True",
         "hovertemplate": "variable=0<br>value=%{x}<br>count=%{y}<extra></extra>",
         "legendgroup": "0",
         "marker": {
          "color": "#636efa",
          "pattern": {
           "shape": ""
          }
         },
         "name": "0",
         "offsetgroup": "0",
         "orientation": "v",
         "showlegend": true,
         "textposition": "auto",
         "type": "bar",
         "x": [
          "slightly negative",
          "Neutral",
          "negative",
          "slightly positive",
          "negative",
          "Neutral",
          "Neutral",
          "positive",
          "negative",
          "slightly negative",
          "Neutral",
          "slightly negative",
          "slightly positive",
          "slightly negative",
          "negative",
          "slightly negative",
          "negative",
          "slightly negative",
          "Neutral",
          "slightly negative",
          "slightly negative",
          "negative",
          "Neutral",
          "slightly negative",
          "negative",
          "slightly negative",
          "Neutral",
          "negative",
          "negative",
          "slightly negative",
          "Neutral",
          "slightly positive",
          "slightly negative",
          "negative",
          "negative",
          "negative",
          "slightly negative",
          "slightly negative",
          "negative",
          "slightly negative",
          "positive",
          "negative",
          "negative",
          "slightly negative",
          "slightly negative",
          "slightly negative",
          "slightly negative",
          "slightly negative",
          "slightly negative",
          "Neutral",
          "slightly negative",
          "slightly negative",
          "slightly negative",
          "negative",
          "slightly negative",
          "Neutral",
          "slightly negative",
          "slightly negative",
          "positive",
          "Neutral",
          "slightly negative",
          "Neutral",
          "slightly negative",
          "slightly negative",
          "Neutral",
          "negative",
          "slightly negative",
          "slightly negative",
          "slightly negative",
          "Neutral",
          "Neutral",
          "negative",
          "slightly negative",
          "slightly negative",
          "Neutral",
          "slightly negative",
          "positive",
          "Neutral",
          "Neutral",
          "slightly negative",
          "Neutral",
          "Neutral",
          "slightly negative",
          "slightly negative",
          "negative",
          "slightly positive",
          "Neutral",
          "Neutral",
          "slightly negative",
          "negative",
          "slightly negative",
          "negative",
          "Neutral",
          "Neutral",
          "negative",
          "negative",
          "Neutral",
          "slightly negative",
          "negative",
          "Neutral",
          "Neutral",
          "negative",
          "slightly negative",
          "negative",
          "Neutral",
          "slightly negative",
          "negative",
          "negative",
          "slightly negative",
          "negative",
          "Neutral",
          "negative",
          "negative"
         ],
         "xaxis": "x",
         "y": [
          1,
          1,
          1,
          1,
          1,
          1,
          1,
          1,
          1,
          1,
          1,
          1,
          1,
          1,
          1,
          1,
          1,
          1,
          1,
          1,
          1,
          1,
          1,
          1,
          1,
          1,
          1,
          1,
          1,
          1,
          1,
          1,
          1,
          1,
          1,
          1,
          1,
          1,
          1,
          1,
          1,
          1,
          1,
          1,
          1,
          1,
          1,
          1,
          1,
          1,
          1,
          1,
          1,
          1,
          1,
          1,
          1,
          1,
          1,
          1,
          1,
          1,
          1,
          1,
          1,
          1,
          1,
          1,
          1,
          1,
          1,
          1,
          1,
          1,
          1,
          1,
          1,
          1,
          1,
          1,
          1,
          1,
          1,
          1,
          1,
          1,
          1,
          1,
          1,
          1,
          1,
          1,
          1,
          1,
          1,
          1,
          1,
          1,
          1,
          1,
          1,
          1,
          1,
          1,
          1,
          1,
          1,
          1,
          1,
          1,
          1,
          1,
          1
         ],
         "yaxis": "y"
        },
        {
         "alignmentgroup": "True",
         "hovertemplate": "variable=0<br>value=%{x}<br>count=%{y}<extra></extra>",
         "legendgroup": "0",
         "marker": {
          "color": "#636efa",
          "pattern": {
           "shape": ""
          }
         },
         "name": "0",
         "offsetgroup": "0",
         "orientation": "v",
         "showlegend": true,
         "textposition": "auto",
         "type": "bar",
         "x": [
          "slightly positive",
          "slightly positive",
          "Neutral",
          "Neutral",
          "Neutral",
          "Neutral",
          "slightly negative",
          "slightly negative",
          "Neutral",
          "slightly negative",
          "Neutral",
          "Neutral",
          "Neutral",
          "positive",
          "Neutral",
          "Neutral",
          "Neutral",
          "slightly negative",
          "Neutral",
          "Neutral",
          "Neutral",
          "very negative",
          "Neutral",
          "positive",
          "slightly negative",
          "negative",
          "Neutral",
          "Neutral",
          "slightly negative",
          "Neutral",
          "slightly negative",
          "Neutral",
          "Neutral",
          "Neutral",
          "Neutral",
          "slightly negative",
          "slightly positive",
          "Neutral",
          "Neutral",
          "Neutral",
          "slightly positive",
          "positive",
          "Neutral",
          "slightly positive",
          "Neutral",
          "negative",
          "slightly positive",
          "Neutral",
          "negative",
          "slightly positive",
          "very negative",
          "slightly negative",
          "slightly positive",
          "Neutral",
          "Neutral",
          "negative",
          "slightly positive",
          "negative",
          "Neutral",
          "Neutral",
          "positive",
          "Neutral",
          "Neutral",
          "Neutral",
          "Neutral",
          "Neutral",
          "Neutral",
          "slightly negative",
          "slightly positive",
          "positive",
          "Neutral",
          "slightly negative",
          "slightly positive",
          "slightly positive",
          "Neutral",
          "Neutral",
          "Neutral",
          "Neutral",
          "positive",
          "slightly positive",
          "very positive",
          "Neutral",
          "Neutral",
          "slightly negative",
          "Neutral",
          "Neutral",
          "Neutral",
          "Neutral",
          "Neutral",
          "slightly negative",
          "Neutral",
          "slightly negative",
          "slightly negative",
          "Neutral",
          "Neutral",
          "Neutral"
         ],
         "xaxis": "x2",
         "y": [
          1,
          1,
          1,
          1,
          1,
          1,
          1,
          1,
          1,
          1,
          1,
          1,
          1,
          1,
          1,
          1,
          1,
          1,
          1,
          1,
          1,
          1,
          1,
          1,
          1,
          1,
          1,
          1,
          1,
          1,
          1,
          1,
          1,
          1,
          1,
          1,
          1,
          1,
          1,
          1,
          1,
          1,
          1,
          1,
          1,
          1,
          1,
          1,
          1,
          1,
          1,
          1,
          1,
          1,
          1,
          1,
          1,
          1,
          1,
          1,
          1,
          1,
          1,
          1,
          1,
          1,
          1,
          1,
          1,
          1,
          1,
          1,
          1,
          1,
          1,
          1,
          1,
          1,
          1,
          1,
          1,
          1,
          1,
          1,
          1,
          1,
          1,
          1,
          1,
          1,
          1,
          1,
          1,
          1,
          1,
          1
         ],
         "yaxis": "y2"
        },
        {
         "alignmentgroup": "True",
         "hovertemplate": "variable=0<br>value=%{x}<br>count=%{y}<extra></extra>",
         "legendgroup": "0",
         "marker": {
          "color": "#636efa",
          "pattern": {
           "shape": ""
          }
         },
         "name": "0",
         "offsetgroup": "0",
         "orientation": "v",
         "showlegend": true,
         "textposition": "auto",
         "type": "bar",
         "x": [
          "negative",
          "positive",
          "slightly positive",
          "slightly positive",
          "positive",
          "Neutral",
          "Neutral",
          "positive",
          "Neutral",
          "slightly negative",
          "positive",
          "positive",
          "Neutral",
          "slightly positive",
          "Neutral",
          "Neutral",
          "slightly negative",
          "slightly negative",
          "Neutral",
          "positive",
          "positive",
          "positive",
          "Neutral",
          "positive",
          "negative",
          "positive",
          "Neutral",
          "slightly positive",
          "positive",
          "Neutral",
          "Neutral",
          "slightly positive",
          "negative",
          "slightly positive",
          "slightly positive",
          "Neutral",
          "Neutral",
          "slightly positive",
          "slightly positive",
          "slightly positive",
          "positive",
          "Neutral",
          "positive",
          "slightly positive",
          "slightly positive",
          "very negative",
          "slightly positive",
          "slightly positive",
          "slightly positive",
          "positive",
          "positive",
          "very positive",
          "very positive",
          "positive",
          "negative",
          "positive",
          "positive",
          "positive",
          "positive",
          "Neutral",
          "slightly positive",
          "Neutral",
          "slightly positive",
          "slightly positive",
          "slightly positive",
          "positive",
          "very positive",
          "Neutral",
          "slightly positive",
          "positive",
          "slightly negative",
          "Neutral",
          "very positive",
          "negative",
          "positive",
          "slightly positive",
          "Neutral",
          "Neutral",
          "negative",
          "negative",
          "positive",
          "slightly negative",
          "slightly negative",
          "slightly negative",
          "Neutral",
          "Neutral",
          "positive",
          "positive",
          "slightly positive",
          "slightly positive",
          "positive",
          "slightly negative",
          "slightly negative",
          "slightly positive",
          "slightly positive",
          "slightly positive",
          "positive",
          "positive"
         ],
         "xaxis": "x3",
         "y": [
          1,
          1,
          1,
          1,
          1,
          1,
          1,
          1,
          1,
          1,
          1,
          1,
          1,
          1,
          1,
          1,
          1,
          1,
          1,
          1,
          1,
          1,
          1,
          1,
          1,
          1,
          1,
          1,
          1,
          1,
          1,
          1,
          1,
          1,
          1,
          1,
          1,
          1,
          1,
          1,
          1,
          1,
          1,
          1,
          1,
          1,
          1,
          1,
          1,
          1,
          1,
          1,
          1,
          1,
          1,
          1,
          1,
          1,
          1,
          1,
          1,
          1,
          1,
          1,
          1,
          1,
          1,
          1,
          1,
          1,
          1,
          1,
          1,
          1,
          1,
          1,
          1,
          1,
          1,
          1,
          1,
          1,
          1,
          1,
          1,
          1,
          1,
          1,
          1,
          1,
          1,
          1,
          1,
          1,
          1,
          1,
          1,
          1
         ],
         "yaxis": "y3"
        }
       ],
       "layout": {
        "annotations": [
         {
          "font": {
           "size": 16
          },
          "showarrow": false,
          "text": "slightly negative",
          "x": 0.14444444444444446,
          "xanchor": "center",
          "xref": "paper",
          "y": 1,
          "yanchor": "bottom",
          "yref": "paper"
         },
         {
          "font": {
           "size": 16
          },
          "showarrow": false,
          "text": "Neutral",
          "x": 0.5,
          "xanchor": "center",
          "xref": "paper",
          "y": 1,
          "yanchor": "bottom",
          "yref": "paper"
         },
         {
          "font": {
           "size": 16
          },
          "showarrow": false,
          "text": "slightly positive",
          "x": 0.8555555555555556,
          "xanchor": "center",
          "xref": "paper",
          "y": 1,
          "yanchor": "bottom",
          "yref": "paper"
         }
        ],
        "template": {
         "data": {
          "bar": [
           {
            "error_x": {
             "color": "#2a3f5f"
            },
            "error_y": {
             "color": "#2a3f5f"
            },
            "marker": {
             "line": {
              "color": "#E5ECF6",
              "width": 0.5
             },
             "pattern": {
              "fillmode": "overlay",
              "size": 10,
              "solidity": 0.2
             }
            },
            "type": "bar"
           }
          ],
          "barpolar": [
           {
            "marker": {
             "line": {
              "color": "#E5ECF6",
              "width": 0.5
             },
             "pattern": {
              "fillmode": "overlay",
              "size": 10,
              "solidity": 0.2
             }
            },
            "type": "barpolar"
           }
          ],
          "carpet": [
           {
            "aaxis": {
             "endlinecolor": "#2a3f5f",
             "gridcolor": "white",
             "linecolor": "white",
             "minorgridcolor": "white",
             "startlinecolor": "#2a3f5f"
            },
            "baxis": {
             "endlinecolor": "#2a3f5f",
             "gridcolor": "white",
             "linecolor": "white",
             "minorgridcolor": "white",
             "startlinecolor": "#2a3f5f"
            },
            "type": "carpet"
           }
          ],
          "choropleth": [
           {
            "colorbar": {
             "outlinewidth": 0,
             "ticks": ""
            },
            "type": "choropleth"
           }
          ],
          "contour": [
           {
            "colorbar": {
             "outlinewidth": 0,
             "ticks": ""
            },
            "colorscale": [
             [
              0,
              "#0d0887"
             ],
             [
              0.1111111111111111,
              "#46039f"
             ],
             [
              0.2222222222222222,
              "#7201a8"
             ],
             [
              0.3333333333333333,
              "#9c179e"
             ],
             [
              0.4444444444444444,
              "#bd3786"
             ],
             [
              0.5555555555555556,
              "#d8576b"
             ],
             [
              0.6666666666666666,
              "#ed7953"
             ],
             [
              0.7777777777777778,
              "#fb9f3a"
             ],
             [
              0.8888888888888888,
              "#fdca26"
             ],
             [
              1,
              "#f0f921"
             ]
            ],
            "type": "contour"
           }
          ],
          "contourcarpet": [
           {
            "colorbar": {
             "outlinewidth": 0,
             "ticks": ""
            },
            "type": "contourcarpet"
           }
          ],
          "heatmap": [
           {
            "colorbar": {
             "outlinewidth": 0,
             "ticks": ""
            },
            "colorscale": [
             [
              0,
              "#0d0887"
             ],
             [
              0.1111111111111111,
              "#46039f"
             ],
             [
              0.2222222222222222,
              "#7201a8"
             ],
             [
              0.3333333333333333,
              "#9c179e"
             ],
             [
              0.4444444444444444,
              "#bd3786"
             ],
             [
              0.5555555555555556,
              "#d8576b"
             ],
             [
              0.6666666666666666,
              "#ed7953"
             ],
             [
              0.7777777777777778,
              "#fb9f3a"
             ],
             [
              0.8888888888888888,
              "#fdca26"
             ],
             [
              1,
              "#f0f921"
             ]
            ],
            "type": "heatmap"
           }
          ],
          "heatmapgl": [
           {
            "colorbar": {
             "outlinewidth": 0,
             "ticks": ""
            },
            "colorscale": [
             [
              0,
              "#0d0887"
             ],
             [
              0.1111111111111111,
              "#46039f"
             ],
             [
              0.2222222222222222,
              "#7201a8"
             ],
             [
              0.3333333333333333,
              "#9c179e"
             ],
             [
              0.4444444444444444,
              "#bd3786"
             ],
             [
              0.5555555555555556,
              "#d8576b"
             ],
             [
              0.6666666666666666,
              "#ed7953"
             ],
             [
              0.7777777777777778,
              "#fb9f3a"
             ],
             [
              0.8888888888888888,
              "#fdca26"
             ],
             [
              1,
              "#f0f921"
             ]
            ],
            "type": "heatmapgl"
           }
          ],
          "histogram": [
           {
            "marker": {
             "pattern": {
              "fillmode": "overlay",
              "size": 10,
              "solidity": 0.2
             }
            },
            "type": "histogram"
           }
          ],
          "histogram2d": [
           {
            "colorbar": {
             "outlinewidth": 0,
             "ticks": ""
            },
            "colorscale": [
             [
              0,
              "#0d0887"
             ],
             [
              0.1111111111111111,
              "#46039f"
             ],
             [
              0.2222222222222222,
              "#7201a8"
             ],
             [
              0.3333333333333333,
              "#9c179e"
             ],
             [
              0.4444444444444444,
              "#bd3786"
             ],
             [
              0.5555555555555556,
              "#d8576b"
             ],
             [
              0.6666666666666666,
              "#ed7953"
             ],
             [
              0.7777777777777778,
              "#fb9f3a"
             ],
             [
              0.8888888888888888,
              "#fdca26"
             ],
             [
              1,
              "#f0f921"
             ]
            ],
            "type": "histogram2d"
           }
          ],
          "histogram2dcontour": [
           {
            "colorbar": {
             "outlinewidth": 0,
             "ticks": ""
            },
            "colorscale": [
             [
              0,
              "#0d0887"
             ],
             [
              0.1111111111111111,
              "#46039f"
             ],
             [
              0.2222222222222222,
              "#7201a8"
             ],
             [
              0.3333333333333333,
              "#9c179e"
             ],
             [
              0.4444444444444444,
              "#bd3786"
             ],
             [
              0.5555555555555556,
              "#d8576b"
             ],
             [
              0.6666666666666666,
              "#ed7953"
             ],
             [
              0.7777777777777778,
              "#fb9f3a"
             ],
             [
              0.8888888888888888,
              "#fdca26"
             ],
             [
              1,
              "#f0f921"
             ]
            ],
            "type": "histogram2dcontour"
           }
          ],
          "mesh3d": [
           {
            "colorbar": {
             "outlinewidth": 0,
             "ticks": ""
            },
            "type": "mesh3d"
           }
          ],
          "parcoords": [
           {
            "line": {
             "colorbar": {
              "outlinewidth": 0,
              "ticks": ""
             }
            },
            "type": "parcoords"
           }
          ],
          "pie": [
           {
            "automargin": true,
            "type": "pie"
           }
          ],
          "scatter": [
           {
            "marker": {
             "colorbar": {
              "outlinewidth": 0,
              "ticks": ""
             }
            },
            "type": "scatter"
           }
          ],
          "scatter3d": [
           {
            "line": {
             "colorbar": {
              "outlinewidth": 0,
              "ticks": ""
             }
            },
            "marker": {
             "colorbar": {
              "outlinewidth": 0,
              "ticks": ""
             }
            },
            "type": "scatter3d"
           }
          ],
          "scattercarpet": [
           {
            "marker": {
             "colorbar": {
              "outlinewidth": 0,
              "ticks": ""
             }
            },
            "type": "scattercarpet"
           }
          ],
          "scattergeo": [
           {
            "marker": {
             "colorbar": {
              "outlinewidth": 0,
              "ticks": ""
             }
            },
            "type": "scattergeo"
           }
          ],
          "scattergl": [
           {
            "marker": {
             "colorbar": {
              "outlinewidth": 0,
              "ticks": ""
             }
            },
            "type": "scattergl"
           }
          ],
          "scattermapbox": [
           {
            "marker": {
             "colorbar": {
              "outlinewidth": 0,
              "ticks": ""
             }
            },
            "type": "scattermapbox"
           }
          ],
          "scatterpolar": [
           {
            "marker": {
             "colorbar": {
              "outlinewidth": 0,
              "ticks": ""
             }
            },
            "type": "scatterpolar"
           }
          ],
          "scatterpolargl": [
           {
            "marker": {
             "colorbar": {
              "outlinewidth": 0,
              "ticks": ""
             }
            },
            "type": "scatterpolargl"
           }
          ],
          "scatterternary": [
           {
            "marker": {
             "colorbar": {
              "outlinewidth": 0,
              "ticks": ""
             }
            },
            "type": "scatterternary"
           }
          ],
          "surface": [
           {
            "colorbar": {
             "outlinewidth": 0,
             "ticks": ""
            },
            "colorscale": [
             [
              0,
              "#0d0887"
             ],
             [
              0.1111111111111111,
              "#46039f"
             ],
             [
              0.2222222222222222,
              "#7201a8"
             ],
             [
              0.3333333333333333,
              "#9c179e"
             ],
             [
              0.4444444444444444,
              "#bd3786"
             ],
             [
              0.5555555555555556,
              "#d8576b"
             ],
             [
              0.6666666666666666,
              "#ed7953"
             ],
             [
              0.7777777777777778,
              "#fb9f3a"
             ],
             [
              0.8888888888888888,
              "#fdca26"
             ],
             [
              1,
              "#f0f921"
             ]
            ],
            "type": "surface"
           }
          ],
          "table": [
           {
            "cells": {
             "fill": {
              "color": "#EBF0F8"
             },
             "line": {
              "color": "white"
             }
            },
            "header": {
             "fill": {
              "color": "#C8D4E3"
             },
             "line": {
              "color": "white"
             }
            },
            "type": "table"
           }
          ]
         },
         "layout": {
          "annotationdefaults": {
           "arrowcolor": "#2a3f5f",
           "arrowhead": 0,
           "arrowwidth": 1
          },
          "autotypenumbers": "strict",
          "coloraxis": {
           "colorbar": {
            "outlinewidth": 0,
            "ticks": ""
           }
          },
          "colorscale": {
           "diverging": [
            [
             0,
             "#8e0152"
            ],
            [
             0.1,
             "#c51b7d"
            ],
            [
             0.2,
             "#de77ae"
            ],
            [
             0.3,
             "#f1b6da"
            ],
            [
             0.4,
             "#fde0ef"
            ],
            [
             0.5,
             "#f7f7f7"
            ],
            [
             0.6,
             "#e6f5d0"
            ],
            [
             0.7,
             "#b8e186"
            ],
            [
             0.8,
             "#7fbc41"
            ],
            [
             0.9,
             "#4d9221"
            ],
            [
             1,
             "#276419"
            ]
           ],
           "sequential": [
            [
             0,
             "#0d0887"
            ],
            [
             0.1111111111111111,
             "#46039f"
            ],
            [
             0.2222222222222222,
             "#7201a8"
            ],
            [
             0.3333333333333333,
             "#9c179e"
            ],
            [
             0.4444444444444444,
             "#bd3786"
            ],
            [
             0.5555555555555556,
             "#d8576b"
            ],
            [
             0.6666666666666666,
             "#ed7953"
            ],
            [
             0.7777777777777778,
             "#fb9f3a"
            ],
            [
             0.8888888888888888,
             "#fdca26"
            ],
            [
             1,
             "#f0f921"
            ]
           ],
           "sequentialminus": [
            [
             0,
             "#0d0887"
            ],
            [
             0.1111111111111111,
             "#46039f"
            ],
            [
             0.2222222222222222,
             "#7201a8"
            ],
            [
             0.3333333333333333,
             "#9c179e"
            ],
            [
             0.4444444444444444,
             "#bd3786"
            ],
            [
             0.5555555555555556,
             "#d8576b"
            ],
            [
             0.6666666666666666,
             "#ed7953"
            ],
            [
             0.7777777777777778,
             "#fb9f3a"
            ],
            [
             0.8888888888888888,
             "#fdca26"
            ],
            [
             1,
             "#f0f921"
            ]
           ]
          },
          "colorway": [
           "#636efa",
           "#EF553B",
           "#00cc96",
           "#ab63fa",
           "#FFA15A",
           "#19d3f3",
           "#FF6692",
           "#B6E880",
           "#FF97FF",
           "#FECB52"
          ],
          "font": {
           "color": "#2a3f5f"
          },
          "geo": {
           "bgcolor": "white",
           "lakecolor": "white",
           "landcolor": "#E5ECF6",
           "showlakes": true,
           "showland": true,
           "subunitcolor": "white"
          },
          "hoverlabel": {
           "align": "left"
          },
          "hovermode": "closest",
          "mapbox": {
           "style": "light"
          },
          "paper_bgcolor": "white",
          "plot_bgcolor": "#E5ECF6",
          "polar": {
           "angularaxis": {
            "gridcolor": "white",
            "linecolor": "white",
            "ticks": ""
           },
           "bgcolor": "#E5ECF6",
           "radialaxis": {
            "gridcolor": "white",
            "linecolor": "white",
            "ticks": ""
           }
          },
          "scene": {
           "xaxis": {
            "backgroundcolor": "#E5ECF6",
            "gridcolor": "white",
            "gridwidth": 2,
            "linecolor": "white",
            "showbackground": true,
            "ticks": "",
            "zerolinecolor": "white"
           },
           "yaxis": {
            "backgroundcolor": "#E5ECF6",
            "gridcolor": "white",
            "gridwidth": 2,
            "linecolor": "white",
            "showbackground": true,
            "ticks": "",
            "zerolinecolor": "white"
           },
           "zaxis": {
            "backgroundcolor": "#E5ECF6",
            "gridcolor": "white",
            "gridwidth": 2,
            "linecolor": "white",
            "showbackground": true,
            "ticks": "",
            "zerolinecolor": "white"
           }
          },
          "shapedefaults": {
           "line": {
            "color": "#2a3f5f"
           }
          },
          "ternary": {
           "aaxis": {
            "gridcolor": "white",
            "linecolor": "white",
            "ticks": ""
           },
           "baxis": {
            "gridcolor": "white",
            "linecolor": "white",
            "ticks": ""
           },
           "bgcolor": "#E5ECF6",
           "caxis": {
            "gridcolor": "white",
            "linecolor": "white",
            "ticks": ""
           }
          },
          "title": {
           "x": 0.05
          },
          "xaxis": {
           "automargin": true,
           "gridcolor": "white",
           "linecolor": "white",
           "ticks": "",
           "title": {
            "standoff": 15
           },
           "zerolinecolor": "white",
           "zerolinewidth": 2
          },
          "yaxis": {
           "automargin": true,
           "gridcolor": "white",
           "linecolor": "white",
           "ticks": "",
           "title": {
            "standoff": 15
           },
           "zerolinecolor": "white",
           "zerolinewidth": 2
          }
         }
        },
        "title": {
         "text": "MIM",
         "x": 0.5
        },
        "xaxis": {
         "anchor": "y",
         "categoryarray": [
          "very negative",
          "negative",
          "slightly negative",
          "Neutral",
          "slightly positive",
          "positive",
          "very positive"
         ],
         "categoryorder": "array",
         "domain": [
          0,
          0.2888888888888889
         ]
        },
        "xaxis2": {
         "anchor": "y2",
         "categoryarray": [
          "very negative",
          "negative",
          "slightly negative",
          "Neutral",
          "slightly positive",
          "positive",
          "very positive"
         ],
         "categoryorder": "array",
         "domain": [
          0.35555555555555557,
          0.6444444444444445
         ]
        },
        "xaxis3": {
         "anchor": "y3",
         "categoryarray": [
          "very negative",
          "negative",
          "slightly negative",
          "Neutral",
          "slightly positive",
          "positive",
          "very positive"
         ],
         "categoryorder": "array",
         "domain": [
          0.7111111111111111,
          1
         ]
        },
        "yaxis": {
         "anchor": "x",
         "domain": [
          0,
          1
         ]
        },
        "yaxis2": {
         "anchor": "x2",
         "domain": [
          0,
          1
         ]
        },
        "yaxis3": {
         "anchor": "x3",
         "domain": [
          0,
          1
         ]
        }
       }
      },
      "text/html": [
       "<div>                            <div id=\"2ae6c6cb-c3ce-434a-94b0-57584d2032f8\" class=\"plotly-graph-div\" style=\"height:525px; width:100%;\"></div>            <script type=\"text/javascript\">                require([\"plotly\"], function(Plotly) {                    window.PLOTLYENV=window.PLOTLYENV || {};                                    if (document.getElementById(\"2ae6c6cb-c3ce-434a-94b0-57584d2032f8\")) {                    Plotly.newPlot(                        \"2ae6c6cb-c3ce-434a-94b0-57584d2032f8\",                        [{\"alignmentgroup\":\"True\",\"hovertemplate\":\"variable=0<br>value=%{x}<br>count=%{y}<extra></extra>\",\"legendgroup\":\"0\",\"marker\":{\"color\":\"#636efa\",\"pattern\":{\"shape\":\"\"}},\"name\":\"0\",\"offsetgroup\":\"0\",\"orientation\":\"v\",\"showlegend\":true,\"textposition\":\"auto\",\"type\":\"bar\",\"x\":[\"slightly negative\",\"Neutral\",\"negative\",\"slightly positive\",\"negative\",\"Neutral\",\"Neutral\",\"positive\",\"negative\",\"slightly negative\",\"Neutral\",\"slightly negative\",\"slightly positive\",\"slightly negative\",\"negative\",\"slightly negative\",\"negative\",\"slightly negative\",\"Neutral\",\"slightly negative\",\"slightly negative\",\"negative\",\"Neutral\",\"slightly negative\",\"negative\",\"slightly negative\",\"Neutral\",\"negative\",\"negative\",\"slightly negative\",\"Neutral\",\"slightly positive\",\"slightly negative\",\"negative\",\"negative\",\"negative\",\"slightly negative\",\"slightly negative\",\"negative\",\"slightly negative\",\"positive\",\"negative\",\"negative\",\"slightly negative\",\"slightly negative\",\"slightly negative\",\"slightly negative\",\"slightly negative\",\"slightly negative\",\"Neutral\",\"slightly negative\",\"slightly negative\",\"slightly negative\",\"negative\",\"slightly negative\",\"Neutral\",\"slightly negative\",\"slightly negative\",\"positive\",\"Neutral\",\"slightly negative\",\"Neutral\",\"slightly negative\",\"slightly negative\",\"Neutral\",\"negative\",\"slightly negative\",\"slightly negative\",\"slightly negative\",\"Neutral\",\"Neutral\",\"negative\",\"slightly negative\",\"slightly negative\",\"Neutral\",\"slightly negative\",\"positive\",\"Neutral\",\"Neutral\",\"slightly negative\",\"Neutral\",\"Neutral\",\"slightly negative\",\"slightly negative\",\"negative\",\"slightly positive\",\"Neutral\",\"Neutral\",\"slightly negative\",\"negative\",\"slightly negative\",\"negative\",\"Neutral\",\"Neutral\",\"negative\",\"negative\",\"Neutral\",\"slightly negative\",\"negative\",\"Neutral\",\"Neutral\",\"negative\",\"slightly negative\",\"negative\",\"Neutral\",\"slightly negative\",\"negative\",\"negative\",\"slightly negative\",\"negative\",\"Neutral\",\"negative\",\"negative\"],\"xaxis\":\"x\",\"y\":[1,1,1,1,1,1,1,1,1,1,1,1,1,1,1,1,1,1,1,1,1,1,1,1,1,1,1,1,1,1,1,1,1,1,1,1,1,1,1,1,1,1,1,1,1,1,1,1,1,1,1,1,1,1,1,1,1,1,1,1,1,1,1,1,1,1,1,1,1,1,1,1,1,1,1,1,1,1,1,1,1,1,1,1,1,1,1,1,1,1,1,1,1,1,1,1,1,1,1,1,1,1,1,1,1,1,1,1,1,1,1,1,1],\"yaxis\":\"y\"},{\"alignmentgroup\":\"True\",\"hovertemplate\":\"variable=0<br>value=%{x}<br>count=%{y}<extra></extra>\",\"legendgroup\":\"0\",\"marker\":{\"color\":\"#636efa\",\"pattern\":{\"shape\":\"\"}},\"name\":\"0\",\"offsetgroup\":\"0\",\"orientation\":\"v\",\"showlegend\":true,\"textposition\":\"auto\",\"type\":\"bar\",\"x\":[\"slightly positive\",\"slightly positive\",\"Neutral\",\"Neutral\",\"Neutral\",\"Neutral\",\"slightly negative\",\"slightly negative\",\"Neutral\",\"slightly negative\",\"Neutral\",\"Neutral\",\"Neutral\",\"positive\",\"Neutral\",\"Neutral\",\"Neutral\",\"slightly negative\",\"Neutral\",\"Neutral\",\"Neutral\",\"very negative\",\"Neutral\",\"positive\",\"slightly negative\",\"negative\",\"Neutral\",\"Neutral\",\"slightly negative\",\"Neutral\",\"slightly negative\",\"Neutral\",\"Neutral\",\"Neutral\",\"Neutral\",\"slightly negative\",\"slightly positive\",\"Neutral\",\"Neutral\",\"Neutral\",\"slightly positive\",\"positive\",\"Neutral\",\"slightly positive\",\"Neutral\",\"negative\",\"slightly positive\",\"Neutral\",\"negative\",\"slightly positive\",\"very negative\",\"slightly negative\",\"slightly positive\",\"Neutral\",\"Neutral\",\"negative\",\"slightly positive\",\"negative\",\"Neutral\",\"Neutral\",\"positive\",\"Neutral\",\"Neutral\",\"Neutral\",\"Neutral\",\"Neutral\",\"Neutral\",\"slightly negative\",\"slightly positive\",\"positive\",\"Neutral\",\"slightly negative\",\"slightly positive\",\"slightly positive\",\"Neutral\",\"Neutral\",\"Neutral\",\"Neutral\",\"positive\",\"slightly positive\",\"very positive\",\"Neutral\",\"Neutral\",\"slightly negative\",\"Neutral\",\"Neutral\",\"Neutral\",\"Neutral\",\"Neutral\",\"slightly negative\",\"Neutral\",\"slightly negative\",\"slightly negative\",\"Neutral\",\"Neutral\",\"Neutral\"],\"xaxis\":\"x2\",\"y\":[1,1,1,1,1,1,1,1,1,1,1,1,1,1,1,1,1,1,1,1,1,1,1,1,1,1,1,1,1,1,1,1,1,1,1,1,1,1,1,1,1,1,1,1,1,1,1,1,1,1,1,1,1,1,1,1,1,1,1,1,1,1,1,1,1,1,1,1,1,1,1,1,1,1,1,1,1,1,1,1,1,1,1,1,1,1,1,1,1,1,1,1,1,1,1,1],\"yaxis\":\"y2\"},{\"alignmentgroup\":\"True\",\"hovertemplate\":\"variable=0<br>value=%{x}<br>count=%{y}<extra></extra>\",\"legendgroup\":\"0\",\"marker\":{\"color\":\"#636efa\",\"pattern\":{\"shape\":\"\"}},\"name\":\"0\",\"offsetgroup\":\"0\",\"orientation\":\"v\",\"showlegend\":true,\"textposition\":\"auto\",\"type\":\"bar\",\"x\":[\"negative\",\"positive\",\"slightly positive\",\"slightly positive\",\"positive\",\"Neutral\",\"Neutral\",\"positive\",\"Neutral\",\"slightly negative\",\"positive\",\"positive\",\"Neutral\",\"slightly positive\",\"Neutral\",\"Neutral\",\"slightly negative\",\"slightly negative\",\"Neutral\",\"positive\",\"positive\",\"positive\",\"Neutral\",\"positive\",\"negative\",\"positive\",\"Neutral\",\"slightly positive\",\"positive\",\"Neutral\",\"Neutral\",\"slightly positive\",\"negative\",\"slightly positive\",\"slightly positive\",\"Neutral\",\"Neutral\",\"slightly positive\",\"slightly positive\",\"slightly positive\",\"positive\",\"Neutral\",\"positive\",\"slightly positive\",\"slightly positive\",\"very negative\",\"slightly positive\",\"slightly positive\",\"slightly positive\",\"positive\",\"positive\",\"very positive\",\"very positive\",\"positive\",\"negative\",\"positive\",\"positive\",\"positive\",\"positive\",\"Neutral\",\"slightly positive\",\"Neutral\",\"slightly positive\",\"slightly positive\",\"slightly positive\",\"positive\",\"very positive\",\"Neutral\",\"slightly positive\",\"positive\",\"slightly negative\",\"Neutral\",\"very positive\",\"negative\",\"positive\",\"slightly positive\",\"Neutral\",\"Neutral\",\"negative\",\"negative\",\"positive\",\"slightly negative\",\"slightly negative\",\"slightly negative\",\"Neutral\",\"Neutral\",\"positive\",\"positive\",\"slightly positive\",\"slightly positive\",\"positive\",\"slightly negative\",\"slightly negative\",\"slightly positive\",\"slightly positive\",\"slightly positive\",\"positive\",\"positive\"],\"xaxis\":\"x3\",\"y\":[1,1,1,1,1,1,1,1,1,1,1,1,1,1,1,1,1,1,1,1,1,1,1,1,1,1,1,1,1,1,1,1,1,1,1,1,1,1,1,1,1,1,1,1,1,1,1,1,1,1,1,1,1,1,1,1,1,1,1,1,1,1,1,1,1,1,1,1,1,1,1,1,1,1,1,1,1,1,1,1,1,1,1,1,1,1,1,1,1,1,1,1,1,1,1,1,1,1],\"yaxis\":\"y3\"}],                        {\"annotations\":[{\"font\":{\"size\":16},\"showarrow\":false,\"text\":\"slightly negative\",\"x\":0.14444444444444446,\"xanchor\":\"center\",\"xref\":\"paper\",\"y\":1.0,\"yanchor\":\"bottom\",\"yref\":\"paper\"},{\"font\":{\"size\":16},\"showarrow\":false,\"text\":\"Neutral\",\"x\":0.5,\"xanchor\":\"center\",\"xref\":\"paper\",\"y\":1.0,\"yanchor\":\"bottom\",\"yref\":\"paper\"},{\"font\":{\"size\":16},\"showarrow\":false,\"text\":\"slightly positive\",\"x\":0.8555555555555556,\"xanchor\":\"center\",\"xref\":\"paper\",\"y\":1.0,\"yanchor\":\"bottom\",\"yref\":\"paper\"}],\"template\":{\"data\":{\"bar\":[{\"error_x\":{\"color\":\"#2a3f5f\"},\"error_y\":{\"color\":\"#2a3f5f\"},\"marker\":{\"line\":{\"color\":\"#E5ECF6\",\"width\":0.5},\"pattern\":{\"fillmode\":\"overlay\",\"size\":10,\"solidity\":0.2}},\"type\":\"bar\"}],\"barpolar\":[{\"marker\":{\"line\":{\"color\":\"#E5ECF6\",\"width\":0.5},\"pattern\":{\"fillmode\":\"overlay\",\"size\":10,\"solidity\":0.2}},\"type\":\"barpolar\"}],\"carpet\":[{\"aaxis\":{\"endlinecolor\":\"#2a3f5f\",\"gridcolor\":\"white\",\"linecolor\":\"white\",\"minorgridcolor\":\"white\",\"startlinecolor\":\"#2a3f5f\"},\"baxis\":{\"endlinecolor\":\"#2a3f5f\",\"gridcolor\":\"white\",\"linecolor\":\"white\",\"minorgridcolor\":\"white\",\"startlinecolor\":\"#2a3f5f\"},\"type\":\"carpet\"}],\"choropleth\":[{\"colorbar\":{\"outlinewidth\":0,\"ticks\":\"\"},\"type\":\"choropleth\"}],\"contour\":[{\"colorbar\":{\"outlinewidth\":0,\"ticks\":\"\"},\"colorscale\":[[0.0,\"#0d0887\"],[0.1111111111111111,\"#46039f\"],[0.2222222222222222,\"#7201a8\"],[0.3333333333333333,\"#9c179e\"],[0.4444444444444444,\"#bd3786\"],[0.5555555555555556,\"#d8576b\"],[0.6666666666666666,\"#ed7953\"],[0.7777777777777778,\"#fb9f3a\"],[0.8888888888888888,\"#fdca26\"],[1.0,\"#f0f921\"]],\"type\":\"contour\"}],\"contourcarpet\":[{\"colorbar\":{\"outlinewidth\":0,\"ticks\":\"\"},\"type\":\"contourcarpet\"}],\"heatmap\":[{\"colorbar\":{\"outlinewidth\":0,\"ticks\":\"\"},\"colorscale\":[[0.0,\"#0d0887\"],[0.1111111111111111,\"#46039f\"],[0.2222222222222222,\"#7201a8\"],[0.3333333333333333,\"#9c179e\"],[0.4444444444444444,\"#bd3786\"],[0.5555555555555556,\"#d8576b\"],[0.6666666666666666,\"#ed7953\"],[0.7777777777777778,\"#fb9f3a\"],[0.8888888888888888,\"#fdca26\"],[1.0,\"#f0f921\"]],\"type\":\"heatmap\"}],\"heatmapgl\":[{\"colorbar\":{\"outlinewidth\":0,\"ticks\":\"\"},\"colorscale\":[[0.0,\"#0d0887\"],[0.1111111111111111,\"#46039f\"],[0.2222222222222222,\"#7201a8\"],[0.3333333333333333,\"#9c179e\"],[0.4444444444444444,\"#bd3786\"],[0.5555555555555556,\"#d8576b\"],[0.6666666666666666,\"#ed7953\"],[0.7777777777777778,\"#fb9f3a\"],[0.8888888888888888,\"#fdca26\"],[1.0,\"#f0f921\"]],\"type\":\"heatmapgl\"}],\"histogram\":[{\"marker\":{\"pattern\":{\"fillmode\":\"overlay\",\"size\":10,\"solidity\":0.2}},\"type\":\"histogram\"}],\"histogram2d\":[{\"colorbar\":{\"outlinewidth\":0,\"ticks\":\"\"},\"colorscale\":[[0.0,\"#0d0887\"],[0.1111111111111111,\"#46039f\"],[0.2222222222222222,\"#7201a8\"],[0.3333333333333333,\"#9c179e\"],[0.4444444444444444,\"#bd3786\"],[0.5555555555555556,\"#d8576b\"],[0.6666666666666666,\"#ed7953\"],[0.7777777777777778,\"#fb9f3a\"],[0.8888888888888888,\"#fdca26\"],[1.0,\"#f0f921\"]],\"type\":\"histogram2d\"}],\"histogram2dcontour\":[{\"colorbar\":{\"outlinewidth\":0,\"ticks\":\"\"},\"colorscale\":[[0.0,\"#0d0887\"],[0.1111111111111111,\"#46039f\"],[0.2222222222222222,\"#7201a8\"],[0.3333333333333333,\"#9c179e\"],[0.4444444444444444,\"#bd3786\"],[0.5555555555555556,\"#d8576b\"],[0.6666666666666666,\"#ed7953\"],[0.7777777777777778,\"#fb9f3a\"],[0.8888888888888888,\"#fdca26\"],[1.0,\"#f0f921\"]],\"type\":\"histogram2dcontour\"}],\"mesh3d\":[{\"colorbar\":{\"outlinewidth\":0,\"ticks\":\"\"},\"type\":\"mesh3d\"}],\"parcoords\":[{\"line\":{\"colorbar\":{\"outlinewidth\":0,\"ticks\":\"\"}},\"type\":\"parcoords\"}],\"pie\":[{\"automargin\":true,\"type\":\"pie\"}],\"scatter\":[{\"marker\":{\"colorbar\":{\"outlinewidth\":0,\"ticks\":\"\"}},\"type\":\"scatter\"}],\"scatter3d\":[{\"line\":{\"colorbar\":{\"outlinewidth\":0,\"ticks\":\"\"}},\"marker\":{\"colorbar\":{\"outlinewidth\":0,\"ticks\":\"\"}},\"type\":\"scatter3d\"}],\"scattercarpet\":[{\"marker\":{\"colorbar\":{\"outlinewidth\":0,\"ticks\":\"\"}},\"type\":\"scattercarpet\"}],\"scattergeo\":[{\"marker\":{\"colorbar\":{\"outlinewidth\":0,\"ticks\":\"\"}},\"type\":\"scattergeo\"}],\"scattergl\":[{\"marker\":{\"colorbar\":{\"outlinewidth\":0,\"ticks\":\"\"}},\"type\":\"scattergl\"}],\"scattermapbox\":[{\"marker\":{\"colorbar\":{\"outlinewidth\":0,\"ticks\":\"\"}},\"type\":\"scattermapbox\"}],\"scatterpolar\":[{\"marker\":{\"colorbar\":{\"outlinewidth\":0,\"ticks\":\"\"}},\"type\":\"scatterpolar\"}],\"scatterpolargl\":[{\"marker\":{\"colorbar\":{\"outlinewidth\":0,\"ticks\":\"\"}},\"type\":\"scatterpolargl\"}],\"scatterternary\":[{\"marker\":{\"colorbar\":{\"outlinewidth\":0,\"ticks\":\"\"}},\"type\":\"scatterternary\"}],\"surface\":[{\"colorbar\":{\"outlinewidth\":0,\"ticks\":\"\"},\"colorscale\":[[0.0,\"#0d0887\"],[0.1111111111111111,\"#46039f\"],[0.2222222222222222,\"#7201a8\"],[0.3333333333333333,\"#9c179e\"],[0.4444444444444444,\"#bd3786\"],[0.5555555555555556,\"#d8576b\"],[0.6666666666666666,\"#ed7953\"],[0.7777777777777778,\"#fb9f3a\"],[0.8888888888888888,\"#fdca26\"],[1.0,\"#f0f921\"]],\"type\":\"surface\"}],\"table\":[{\"cells\":{\"fill\":{\"color\":\"#EBF0F8\"},\"line\":{\"color\":\"white\"}},\"header\":{\"fill\":{\"color\":\"#C8D4E3\"},\"line\":{\"color\":\"white\"}},\"type\":\"table\"}]},\"layout\":{\"annotationdefaults\":{\"arrowcolor\":\"#2a3f5f\",\"arrowhead\":0,\"arrowwidth\":1},\"autotypenumbers\":\"strict\",\"coloraxis\":{\"colorbar\":{\"outlinewidth\":0,\"ticks\":\"\"}},\"colorscale\":{\"diverging\":[[0,\"#8e0152\"],[0.1,\"#c51b7d\"],[0.2,\"#de77ae\"],[0.3,\"#f1b6da\"],[0.4,\"#fde0ef\"],[0.5,\"#f7f7f7\"],[0.6,\"#e6f5d0\"],[0.7,\"#b8e186\"],[0.8,\"#7fbc41\"],[0.9,\"#4d9221\"],[1,\"#276419\"]],\"sequential\":[[0.0,\"#0d0887\"],[0.1111111111111111,\"#46039f\"],[0.2222222222222222,\"#7201a8\"],[0.3333333333333333,\"#9c179e\"],[0.4444444444444444,\"#bd3786\"],[0.5555555555555556,\"#d8576b\"],[0.6666666666666666,\"#ed7953\"],[0.7777777777777778,\"#fb9f3a\"],[0.8888888888888888,\"#fdca26\"],[1.0,\"#f0f921\"]],\"sequentialminus\":[[0.0,\"#0d0887\"],[0.1111111111111111,\"#46039f\"],[0.2222222222222222,\"#7201a8\"],[0.3333333333333333,\"#9c179e\"],[0.4444444444444444,\"#bd3786\"],[0.5555555555555556,\"#d8576b\"],[0.6666666666666666,\"#ed7953\"],[0.7777777777777778,\"#fb9f3a\"],[0.8888888888888888,\"#fdca26\"],[1.0,\"#f0f921\"]]},\"colorway\":[\"#636efa\",\"#EF553B\",\"#00cc96\",\"#ab63fa\",\"#FFA15A\",\"#19d3f3\",\"#FF6692\",\"#B6E880\",\"#FF97FF\",\"#FECB52\"],\"font\":{\"color\":\"#2a3f5f\"},\"geo\":{\"bgcolor\":\"white\",\"lakecolor\":\"white\",\"landcolor\":\"#E5ECF6\",\"showlakes\":true,\"showland\":true,\"subunitcolor\":\"white\"},\"hoverlabel\":{\"align\":\"left\"},\"hovermode\":\"closest\",\"mapbox\":{\"style\":\"light\"},\"paper_bgcolor\":\"white\",\"plot_bgcolor\":\"#E5ECF6\",\"polar\":{\"angularaxis\":{\"gridcolor\":\"white\",\"linecolor\":\"white\",\"ticks\":\"\"},\"bgcolor\":\"#E5ECF6\",\"radialaxis\":{\"gridcolor\":\"white\",\"linecolor\":\"white\",\"ticks\":\"\"}},\"scene\":{\"xaxis\":{\"backgroundcolor\":\"#E5ECF6\",\"gridcolor\":\"white\",\"gridwidth\":2,\"linecolor\":\"white\",\"showbackground\":true,\"ticks\":\"\",\"zerolinecolor\":\"white\"},\"yaxis\":{\"backgroundcolor\":\"#E5ECF6\",\"gridcolor\":\"white\",\"gridwidth\":2,\"linecolor\":\"white\",\"showbackground\":true,\"ticks\":\"\",\"zerolinecolor\":\"white\"},\"zaxis\":{\"backgroundcolor\":\"#E5ECF6\",\"gridcolor\":\"white\",\"gridwidth\":2,\"linecolor\":\"white\",\"showbackground\":true,\"ticks\":\"\",\"zerolinecolor\":\"white\"}},\"shapedefaults\":{\"line\":{\"color\":\"#2a3f5f\"}},\"ternary\":{\"aaxis\":{\"gridcolor\":\"white\",\"linecolor\":\"white\",\"ticks\":\"\"},\"baxis\":{\"gridcolor\":\"white\",\"linecolor\":\"white\",\"ticks\":\"\"},\"bgcolor\":\"#E5ECF6\",\"caxis\":{\"gridcolor\":\"white\",\"linecolor\":\"white\",\"ticks\":\"\"}},\"title\":{\"x\":0.05},\"xaxis\":{\"automargin\":true,\"gridcolor\":\"white\",\"linecolor\":\"white\",\"ticks\":\"\",\"title\":{\"standoff\":15},\"zerolinecolor\":\"white\",\"zerolinewidth\":2},\"yaxis\":{\"automargin\":true,\"gridcolor\":\"white\",\"linecolor\":\"white\",\"ticks\":\"\",\"title\":{\"standoff\":15},\"zerolinecolor\":\"white\",\"zerolinewidth\":2}}},\"title\":{\"text\":\"MIM\",\"x\":0.5},\"xaxis\":{\"anchor\":\"y\",\"categoryarray\":[\"very negative\",\"negative\",\"slightly negative\",\"Neutral\",\"slightly positive\",\"positive\",\"very positive\"],\"categoryorder\":\"array\",\"domain\":[0.0,0.2888888888888889]},\"xaxis2\":{\"anchor\":\"y2\",\"categoryarray\":[\"very negative\",\"negative\",\"slightly negative\",\"Neutral\",\"slightly positive\",\"positive\",\"very positive\"],\"categoryorder\":\"array\",\"domain\":[0.35555555555555557,0.6444444444444445]},\"xaxis3\":{\"anchor\":\"y3\",\"categoryarray\":[\"very negative\",\"negative\",\"slightly negative\",\"Neutral\",\"slightly positive\",\"positive\",\"very positive\"],\"categoryorder\":\"array\",\"domain\":[0.7111111111111111,1.0]},\"yaxis\":{\"anchor\":\"x\",\"domain\":[0.0,1.0]},\"yaxis2\":{\"anchor\":\"x2\",\"domain\":[0.0,1.0]},\"yaxis3\":{\"anchor\":\"x3\",\"domain\":[0.0,1.0]}},                        {\"responsive\": true}                    ).then(function(){\n",
       "                            \n",
       "var gd = document.getElementById('2ae6c6cb-c3ce-434a-94b0-57584d2032f8');\n",
       "var x = new MutationObserver(function (mutations, observer) {{\n",
       "        var display = window.getComputedStyle(gd).display;\n",
       "        if (!display || display === 'none') {{\n",
       "            console.log([gd, 'removed!']);\n",
       "            Plotly.purge(gd);\n",
       "            observer.disconnect();\n",
       "        }}\n",
       "}});\n",
       "\n",
       "// Listen for the removal of the full notebook cells\n",
       "var notebookContainer = gd.closest('#notebook-container');\n",
       "if (notebookContainer) {{\n",
       "    x.observe(notebookContainer, {childList: true});\n",
       "}}\n",
       "\n",
       "// Listen for the clearing of the current output cell\n",
       "var outputEl = gd.closest('.output');\n",
       "if (outputEl) {{\n",
       "    x.observe(outputEl, {childList: true});\n",
       "}}\n",
       "\n",
       "                        })                };                });            </script>        </div>"
      ]
     },
     "metadata": {},
     "output_type": "display_data"
    }
   ],
   "source": [
    "fig3 = px.bar(df3)\n",
    "fig4 = px.bar(df4)\n",
    "fig5 = px.bar(df5)\n",
    "\n",
    "fig3_traces = []\n",
    "fig4_traces = []\n",
    "fig5_traces = []\n",
    "\n",
    "for trace in range(len(fig3[\"data\"])):\n",
    "    fig3_traces.append(fig3[\"data\"][trace])\n",
    "for trace in range(len(fig4[\"data\"])):\n",
    "    fig4_traces.append(fig4[\"data\"][trace])\n",
    "for trace in range(len(fig5[\"data\"])):\n",
    "    fig5_traces.append(fig5[\"data\"][trace])\n",
    "\n",
    "this_figure = sp.make_subplots(rows=1, cols=3, subplot_titles=(\"slightly negative\", \"Neutral\", \"slightly positive\"))\n",
    "for traces in fig3_traces:\n",
    "    this_figure.append_trace(traces, row=1, col=1)\n",
    "for traces in fig4_traces:\n",
    "    this_figure.append_trace(traces, row=1, col=2)\n",
    "for traces in fig5_traces:\n",
    "    this_figure.append_trace(traces, row=1, col=3)\n",
    "\n",
    "# this_figure.update_layout(height=600, width=1500, title_text=\"CMU-MOSI 7 Class Sentiment Intensity\")\n",
    "this_figure.update_layout(title_text='MIM', title_x=0.5)\n",
    "this_figure.update_xaxes(categoryorder='array', categoryarray= order)\n",
    "# this_figure.update_yaxes(range=[0,250])\n",
    "this_figure.show()"
   ]
  },
  {
   "cell_type": "code",
   "execution_count": 19,
   "metadata": {},
   "outputs": [
    {
     "name": "stdout",
     "output_type": "stream",
     "text": [
      "very negative answer proportion:  28.125\n",
      "negative answer proportion:  45.714285714285715\n",
      "slightly negative answer proportion:  39.823008849557525\n",
      "Neutral answer proportion:  56.25\n",
      "slightly positive answer proportion:  26.53061224489796\n",
      "positive answer proportion:  50.0\n",
      "very positive answer proportion:  33.333333333333336\n"
     ]
    }
   ],
   "source": [
    "# CMU-MOSI MIM model prediction proportion\n",
    "print(\"very negative answer proportion: \", 100 * label_VN.count('very negative')/len(label_VN))\n",
    "print(\"negative answer proportion: \", 100 * label_N.count('negative')/len(label_N))\n",
    "print(\"slightly negative answer proportion: \", 100 * label_SN.count('slightly negative')/len(label_SN))\n",
    "print(\"Neutral answer proportion: \", 100 * label_Neu.count('Neutral')/len(label_Neu))\n",
    "print(\"slightly positive answer proportion: \", 100 * label_SP.count('slightly positive')/len(label_SP))\n",
    "print(\"positive answer proportion: \", 100 * label_P.count('positive')/len(label_P))\n",
    "print(\"very positive answer proportion: \", 100 * label_VP.count('very positive')/len(label_VP))"
   ]
  },
  {
   "cell_type": "code",
   "execution_count": 20,
   "metadata": {},
   "outputs": [
    {
     "name": "stdout",
     "output_type": "stream",
     "text": [
      "strong sentiment answer proportion:  29.86111111111111\n",
      "weak sentiment answer proportion:  40.71661237785016\n"
     ]
    }
   ],
   "source": [
    "print(\"strong sentiment answer proportion: \", 100 * (label_VN.count('very negative') + label_VP.count('very positive')) / (len(label_VN) + len(label_VP)))\n",
    "print(\"weak sentiment answer proportion: \", 100 * (label_SN.count('slightly negative') + label_Neu.count('Neutral') + label_SP.count('slightly positive')) / (len(label_SN) + len(label_Neu) + len(label_SP)))"
   ]
  },
  {
   "cell_type": "code",
   "execution_count": null,
   "metadata": {},
   "outputs": [],
   "source": []
  }
 ],
 "metadata": {
  "interpreter": {
   "hash": "658084397260d4aab479b7df4163d6eb096562a13a5b5f6c649e3c1d5e34b6c2"
  },
  "kernelspec": {
   "display_name": "Python 3.7.11 ('pytorch')",
   "language": "python",
   "name": "python3"
  },
  "language_info": {
   "codemirror_mode": {
    "name": "ipython",
    "version": 3
   },
   "file_extension": ".py",
   "mimetype": "text/x-python",
   "name": "python",
   "nbconvert_exporter": "python",
   "pygments_lexer": "ipython3",
   "version": "3.7.11"
  },
  "orig_nbformat": 4
 },
 "nbformat": 4,
 "nbformat_minor": 2
}
