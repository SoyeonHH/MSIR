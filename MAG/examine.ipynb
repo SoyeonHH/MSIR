{
 "cells": [
  {
   "cell_type": "code",
   "execution_count": 1,
   "metadata": {},
   "outputs": [],
   "source": [
    "import pickle as pkl\n",
    "import numpy as np\n",
    "from tqdm import tqdm\n",
    "import ipywidgets as widgets\n",
    "from ipywidgets import interact, interact_manual\n",
    "\n",
    "with open(\"../datasets/MOSI/mosi.pkl\", 'rb') as f:\n",
    "    mosi = pkl.load(f)\n",
    "\n",
    "with open(\"../datasets/mosei.pkl\", 'rb') as f:\n",
    "    mosei = pkl.load(f)"
   ]
  },
  {
   "cell_type": "code",
   "execution_count": 2,
   "metadata": {},
   "outputs": [
    {
     "data": {
      "application/vnd.jupyter.widget-view+json": {
       "model_id": "2badf03358fd4d83a328cc54a3f3f800",
       "version_major": 2,
       "version_minor": 0
      },
      "text/plain": [
       "interactive(children=(Dropdown(description='idx', options=(0, 1, 2, 3, 4, 5, 6, 7, 8, 9, 10, 11, 12, 13, 14, 1…"
      ]
     },
     "metadata": {},
     "output_type": "display_data"
    }
   ],
   "source": [
    "test_mosi = mosi['test']\n",
    "test_mosei = mosei['test']\n",
    "\n",
    "@interact\n",
    "def get_mosi_sample(idx = range(len(test_mosi))):\n",
    "    (words, visual, acoustic), label, segment =  mosi['test'][idx]\n",
    "    print(\"WORDS\", words)\n",
    "    print(len(words))\n",
    "    print(\"VISUAL\", visual.shape)\n",
    "    print(len(visual))\n",
    "    print(\"ACOUSTIC\", acoustic.shape)\n",
    "    print(\"LABEL\", label)\n",
    "    print(\"SEGMENT\", segment)"
   ]
  },
  {
   "cell_type": "code",
   "execution_count": 3,
   "metadata": {},
   "outputs": [
    {
     "data": {
      "application/vnd.jupyter.widget-view+json": {
       "model_id": "5bfa26b0aaa142b5a2f7c4647b08c75b",
       "version_major": 2,
       "version_minor": 0
      },
      "text/plain": [
       "interactive(children=(Dropdown(description='idx', options=(0, 1, 2, 3, 4, 5, 6, 7, 8, 9, 10, 11, 12, 13, 14, 1…"
      ]
     },
     "metadata": {},
     "output_type": "display_data"
    }
   ],
   "source": [
    "@interact\n",
    "def get_mosi_sample(idx = range(len(test_mosei))):\n",
    "    (words, visual, acoustic), label, segment =  mosei['test'][idx]\n",
    "    print(\"WORDS\", words)\n",
    "    print(\"VISUAL\", visual.shape)\n",
    "    print(\"ACOUSTIC\", acoustic.shape)\n",
    "    print(\"LABEL\", label)\n",
    "    print(\"SEGMENT\", segment)"
   ]
  },
  {
   "cell_type": "code",
   "execution_count": 4,
   "metadata": {},
   "outputs": [
    {
     "name": "stderr",
     "output_type": "stream",
     "text": [
      "100%|██████████| 1281/1281 [00:00<00:00, 701423.42it/s]\n",
      "100%|██████████| 229/229 [00:00<00:00, 637779.29it/s]\n",
      "100%|██████████| 685/685 [00:00<00:00, 611167.46it/s]\n",
      "100%|██████████| 16265/16265 [00:00<00:00, 684902.06it/s]\n",
      "100%|██████████| 1869/1869 [00:00<00:00, 692749.57it/s]\n",
      "100%|██████████| 4643/4643 [00:00<00:00, 694191.48it/s]\n"
     ]
    }
   ],
   "source": [
    "def validate(data, VISUAL_DIM:int, ACOUSTIC_DIM:int):\n",
    "    for partition in [\"train\", \"dev\", \"test\"]:\n",
    "        for feature in tqdm(data[partition]):\n",
    "            (words, visual, acoustic), label, segment = feature\n",
    "            assert len(words) == len(visual) == len(acoustic), f\"Modality Alignment failure at {segment}\"\n",
    "            assert visual.shape == (len(words), VISUAL_DIM), f\"Visual dimension mismatch at {segment}\"\n",
    "            assert acoustic.shape == (len(words), ACOUSTIC_DIM), f\"Acoustic dimension mismatch at {segment}\"\n",
    "\n",
    "validate(mosi, 47, 74)\n",
    "validate(mosei, 35, 74)"
   ]
  },
  {
   "cell_type": "code",
   "execution_count": 5,
   "metadata": {},
   "outputs": [],
   "source": [
    "with open(\"../datasets/MOSI/test.pkl\", 'rb') as f:\n",
    "    test_mosi = pkl.load(f)"
   ]
  },
  {
   "cell_type": "code",
   "execution_count": 8,
   "metadata": {},
   "outputs": [
    {
     "data": {
      "application/vnd.jupyter.widget-view+json": {
       "model_id": "dddd56b49df744b6829d09254488c394",
       "version_major": 2,
       "version_minor": 0
      },
      "text/plain": [
       "interactive(children=(Dropdown(description='idx', options=(0, 1, 2, 3, 4, 5, 6, 7, 8, 9, 10, 11, 12, 13, 14, 1…"
      ]
     },
     "metadata": {},
     "output_type": "display_data"
    }
   ],
   "source": [
    "@interact\n",
    "def get_mosi_sample(idx = range(len(test_mosi))):\n",
    "    (words, visual, acoustic, actual_words, _vlen, _alen), _label, idd =  test_mosi[idx]\n",
    "    print(\"WORDS\", actual_words)\n",
    "    print(len(actual_words))\n",
    "    print(\"VISUAL\", visual.shape)\n",
    "    print(\"ACOUSTIC\", acoustic.shape)\n",
    "    print(\"LABEL\", _label)\n",
    "    print(\"SEGMENT\", idd)\n",
    "    print(_alen)"
   ]
  },
  {
   "cell_type": "code",
   "execution_count": 7,
   "metadata": {},
   "outputs": [
    {
     "ename": "FileNotFoundError",
     "evalue": "[Errno 2] No such file or directory: '../datasets/MOSEI/test.pkl'",
     "output_type": "error",
     "traceback": [
      "\u001b[0;31m---------------------------------------------------------------------------\u001b[0m",
      "\u001b[0;31mFileNotFoundError\u001b[0m                         Traceback (most recent call last)",
      "\u001b[0;32m<ipython-input-7-f1d35b61e9cd>\u001b[0m in \u001b[0;36m<module>\u001b[0;34m\u001b[0m\n\u001b[0;32m----> 1\u001b[0;31m \u001b[0;32mwith\u001b[0m \u001b[0mopen\u001b[0m\u001b[0;34m(\u001b[0m\u001b[0;34m\"../datasets/MOSEI/test.pkl\"\u001b[0m\u001b[0;34m,\u001b[0m \u001b[0;34m'rb'\u001b[0m\u001b[0;34m)\u001b[0m \u001b[0;32mas\u001b[0m \u001b[0mf\u001b[0m\u001b[0;34m:\u001b[0m\u001b[0;34m\u001b[0m\u001b[0;34m\u001b[0m\u001b[0m\n\u001b[0m\u001b[1;32m      2\u001b[0m     \u001b[0mtest_mosei\u001b[0m \u001b[0;34m=\u001b[0m \u001b[0mpkl\u001b[0m\u001b[0;34m.\u001b[0m\u001b[0mload\u001b[0m\u001b[0;34m(\u001b[0m\u001b[0mf\u001b[0m\u001b[0;34m)\u001b[0m\u001b[0;34m\u001b[0m\u001b[0;34m\u001b[0m\u001b[0m\n\u001b[1;32m      3\u001b[0m \u001b[0;34m\u001b[0m\u001b[0m\n\u001b[1;32m      4\u001b[0m \u001b[0;34m@\u001b[0m\u001b[0minteract\u001b[0m\u001b[0;34m\u001b[0m\u001b[0;34m\u001b[0m\u001b[0m\n\u001b[1;32m      5\u001b[0m \u001b[0;32mdef\u001b[0m \u001b[0mget_mosi_sample\u001b[0m\u001b[0;34m(\u001b[0m\u001b[0midx\u001b[0m \u001b[0;34m=\u001b[0m \u001b[0mrange\u001b[0m\u001b[0;34m(\u001b[0m\u001b[0mlen\u001b[0m\u001b[0;34m(\u001b[0m\u001b[0mtest_mosi\u001b[0m\u001b[0;34m)\u001b[0m\u001b[0;34m)\u001b[0m\u001b[0;34m)\u001b[0m\u001b[0;34m:\u001b[0m\u001b[0;34m\u001b[0m\u001b[0;34m\u001b[0m\u001b[0m\n",
      "\u001b[0;31mFileNotFoundError\u001b[0m: [Errno 2] No such file or directory: '../datasets/MOSEI/test.pkl'"
     ]
    }
   ],
   "source": [
    "with open(\"../datasets/MOSEI/test.pkl\", 'rb') as f:\n",
    "    test_mosei = pkl.load(f)\n",
    "\n",
    "@interact\n",
    "def get_mosi_sample(idx = range(len(test_mosi))):\n",
    "    (words, visual, acoustic, actual_words, _vlen, _alen), _label, idd =  test_mosei[idx]\n",
    "    print(\"WORDS\", actual_words)\n",
    "    print(len(actual_words))\n",
    "    print(\"VISUAL\", visual.shape)\n",
    "    print(\"ACOUSTIC\", acoustic.shape)\n",
    "    print(\"LABEL\", _label)\n",
    "    print(\"SEGMENT\", idd)"
   ]
  },
  {
   "cell_type": "code",
   "execution_count": null,
   "metadata": {},
   "outputs": [],
   "source": []
  }
 ],
 "metadata": {
  "interpreter": {
   "hash": "99b221e9db0318903f19c34b1ba0eab49364574753058918f60cea91a58935ca"
  },
  "kernelspec": {
   "display_name": "Python 3.7.10 ('pytorch1.7.1_p37')",
   "language": "python",
   "name": "python3"
  },
  "language_info": {
   "codemirror_mode": {
    "name": "ipython",
    "version": 3
   },
   "file_extension": ".py",
   "mimetype": "text/x-python",
   "name": "python",
   "nbconvert_exporter": "python",
   "pygments_lexer": "ipython3",
   "version": "3.7.10"
  },
  "orig_nbformat": 2
 },
 "nbformat": 4,
 "nbformat_minor": 2
}
