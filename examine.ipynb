{
 "cells": [
  {
   "cell_type": "markdown",
   "metadata": {},
   "source": [
    "# Dataset Explorer"
   ]
  },
  {
   "cell_type": "code",
   "execution_count": 2,
   "metadata": {},
   "outputs": [],
   "source": [
    "import pickle as pkl\n",
    "import numpy as np\n",
    "from tqdm import tqdm\n",
    "import ipywidgets as widgets\n",
    "from ipywidgets import interact, interact_manual\n",
    "\n",
    "with open(\"/home/iknow/workspace/multimodal/MOSI/test.pkl\", 'rb') as f:\n",
    "    mosi = pkl.load(f)\n",
    "\n",
    "with open(\"/home/iknow/workspace/multimodal/MOSEI/test.pkl\", 'rb') as f:\n",
    "    mosei = pkl.load(f)"
   ]
  },
  {
   "cell_type": "code",
   "execution_count": 13,
   "metadata": {},
   "outputs": [
    {
     "data": {
      "application/vnd.jupyter.widget-view+json": {
       "model_id": "90fdeb162cdc44908003b306dfc53be3",
       "version_major": 2,
       "version_minor": 0
      },
      "text/plain": [
       "interactive(children=(Dropdown(description='idx', options=(0, 1, 2, 3, 4, 5, 6, 7, 8, 9, 10, 11, 12, 13, 14, 1…"
      ]
     },
     "metadata": {},
     "output_type": "display_data"
    }
   ],
   "source": [
    "# test_mosi = mosi['test']\n",
    "# test_mosei = mosei['test']\n",
    "test_mosi = mosi\n",
    "test_mosei = mosei\n",
    "\n",
    "@interact\n",
    "def get_mosi_sample(idx = range(len(test_mosi))):\n",
    "    print(np.shape(mosi))\n",
    "    print(np.shape(mosi[idx]))\n",
    "    print(mosi[idx])\n",
    "    (words, visual, acoustic), label, segment =  mosi[idx]\n",
    "    # print(\"WORDS\", words)\n",
    "    # print(\"VISUAL\", visual.shape)\n",
    "    # print(\"ACOUSTIC\", acoustic.shape)\n",
    "    # print(\"LABEL\", label)\n",
    "    # print(\"SEGMENT\", segment)"
   ]
  },
  {
   "cell_type": "code",
   "execution_count": 7,
   "metadata": {},
   "outputs": [
    {
     "data": {
      "application/vnd.jupyter.widget-view+json": {
       "model_id": "3018022af60b443387abf39127e997c6",
       "version_major": 2,
       "version_minor": 0
      },
      "text/plain": [
       "interactive(children=(Dropdown(description='idx', options=(0, 1, 2, 3, 4, 5, 6, 7, 8, 9, 10, 11, 12, 13, 14, 1…"
      ]
     },
     "metadata": {},
     "output_type": "display_data"
    }
   ],
   "source": [
    "@interact\n",
    "def get_mosi_sample(idx = range(len(test_mosei))):\n",
    "    (words, visual, acoustic), label, segment =  mosei['test'][idx]\n",
    "    print(\"WORDS\", words)\n",
    "    print(\"VISUAL\", visual.shape)\n",
    "    print(\"ACOUSTIC\", acoustic.shape)\n",
    "    print(\"LABEL\", label)\n",
    "    print(\"SEGMENT\", segment)"
   ]
  },
  {
   "cell_type": "code",
   "execution_count": 8,
   "metadata": {},
   "outputs": [
    {
     "ename": "TypeError",
     "evalue": "list indices must be integers or slices, not str",
     "output_type": "error",
     "traceback": [
      "\u001b[0;31m---------------------------------------------------------------------------\u001b[0m",
      "\u001b[0;31mTypeError\u001b[0m                                 Traceback (most recent call last)",
      "\u001b[1;32m/home/wooyeon/MSIR/examine.ipynb 셀 5\u001b[0m in \u001b[0;36m<cell line: 9>\u001b[0;34m()\u001b[0m\n\u001b[1;32m      <a href='vscode-notebook-cell://ssh-remote%2B210.107.197.58/home/wooyeon/MSIR/examine.ipynb#ch0000004vscode-remote?line=5'>6</a>\u001b[0m             \u001b[39massert\u001b[39;00m visual\u001b[39m.\u001b[39mshape \u001b[39m==\u001b[39m (\u001b[39mlen\u001b[39m(words), VISUAL_DIM), \u001b[39mf\u001b[39m\u001b[39m\"\u001b[39m\u001b[39mVisual dimension mismatch at \u001b[39m\u001b[39m{\u001b[39;00msegment\u001b[39m}\u001b[39;00m\u001b[39m\"\u001b[39m\n\u001b[1;32m      <a href='vscode-notebook-cell://ssh-remote%2B210.107.197.58/home/wooyeon/MSIR/examine.ipynb#ch0000004vscode-remote?line=6'>7</a>\u001b[0m             \u001b[39massert\u001b[39;00m acoustic\u001b[39m.\u001b[39mshape \u001b[39m==\u001b[39m (\u001b[39mlen\u001b[39m(words), ACOUSTIC_DIM), \u001b[39mf\u001b[39m\u001b[39m\"\u001b[39m\u001b[39mAcoustic dimension mismatch at \u001b[39m\u001b[39m{\u001b[39;00msegment\u001b[39m}\u001b[39;00m\u001b[39m\"\u001b[39m\n\u001b[0;32m----> <a href='vscode-notebook-cell://ssh-remote%2B210.107.197.58/home/wooyeon/MSIR/examine.ipynb#ch0000004vscode-remote?line=8'>9</a>\u001b[0m validate(mosi, \u001b[39m47\u001b[39;49m, \u001b[39m74\u001b[39;49m)\n\u001b[1;32m     <a href='vscode-notebook-cell://ssh-remote%2B210.107.197.58/home/wooyeon/MSIR/examine.ipynb#ch0000004vscode-remote?line=9'>10</a>\u001b[0m validate(mosei, \u001b[39m35\u001b[39m, \u001b[39m74\u001b[39m)\n",
      "\u001b[1;32m/home/wooyeon/MSIR/examine.ipynb 셀 5\u001b[0m in \u001b[0;36mvalidate\u001b[0;34m(data, VISUAL_DIM, ACOUSTIC_DIM)\u001b[0m\n\u001b[1;32m      <a href='vscode-notebook-cell://ssh-remote%2B210.107.197.58/home/wooyeon/MSIR/examine.ipynb#ch0000004vscode-remote?line=0'>1</a>\u001b[0m \u001b[39mdef\u001b[39;00m \u001b[39mvalidate\u001b[39m(data, VISUAL_DIM:\u001b[39mint\u001b[39m, ACOUSTIC_DIM:\u001b[39mint\u001b[39m):\n\u001b[1;32m      <a href='vscode-notebook-cell://ssh-remote%2B210.107.197.58/home/wooyeon/MSIR/examine.ipynb#ch0000004vscode-remote?line=1'>2</a>\u001b[0m     \u001b[39mfor\u001b[39;00m partition \u001b[39min\u001b[39;00m [\u001b[39m\"\u001b[39m\u001b[39mtrain\u001b[39m\u001b[39m\"\u001b[39m, \u001b[39m\"\u001b[39m\u001b[39mdev\u001b[39m\u001b[39m\"\u001b[39m, \u001b[39m\"\u001b[39m\u001b[39mtest\u001b[39m\u001b[39m\"\u001b[39m]:\n\u001b[0;32m----> <a href='vscode-notebook-cell://ssh-remote%2B210.107.197.58/home/wooyeon/MSIR/examine.ipynb#ch0000004vscode-remote?line=2'>3</a>\u001b[0m         \u001b[39mfor\u001b[39;00m feature \u001b[39min\u001b[39;00m tqdm(data[partition]):\n\u001b[1;32m      <a href='vscode-notebook-cell://ssh-remote%2B210.107.197.58/home/wooyeon/MSIR/examine.ipynb#ch0000004vscode-remote?line=3'>4</a>\u001b[0m             (words, visual, acoustic), label, segment \u001b[39m=\u001b[39m feature\n\u001b[1;32m      <a href='vscode-notebook-cell://ssh-remote%2B210.107.197.58/home/wooyeon/MSIR/examine.ipynb#ch0000004vscode-remote?line=4'>5</a>\u001b[0m             \u001b[39massert\u001b[39;00m \u001b[39mlen\u001b[39m(words) \u001b[39m==\u001b[39m \u001b[39mlen\u001b[39m(visual) \u001b[39m==\u001b[39m \u001b[39mlen\u001b[39m(acoustic), \u001b[39mf\u001b[39m\u001b[39m\"\u001b[39m\u001b[39mModality Alignment failure at \u001b[39m\u001b[39m{\u001b[39;00msegment\u001b[39m}\u001b[39;00m\u001b[39m\"\u001b[39m\n",
      "\u001b[0;31mTypeError\u001b[0m: list indices must be integers or slices, not str"
     ]
    }
   ],
   "source": [
    "def validate(data, VISUAL_DIM:int, ACOUSTIC_DIM:int):\n",
    "    for partition in [\"train\", \"dev\", \"test\"]:\n",
    "        for feature in tqdm(data[partition]):\n",
    "            (words, visual, acoustic), label, segment = feature\n",
    "            assert len(words) == len(visual) == len(acoustic), f\"Modality Alignment failure at {segment}\"\n",
    "            assert visual.shape == (len(words), VISUAL_DIM), f\"Visual dimension mismatch at {segment}\"\n",
    "            assert acoustic.shape == (len(words), ACOUSTIC_DIM), f\"Acoustic dimension mismatch at {segment}\"\n",
    "\n",
    "validate(mosi, 47, 74)\n",
    "validate(mosei, 35, 74)"
   ]
  },
  {
   "cell_type": "code",
   "execution_count": 38,
   "metadata": {},
   "outputs": [],
   "source": [
    "with open(\"./datasets/MOSI/test.pkl\", 'rb') as f:\n",
    "    test_mosi = pkl.load(f)"
   ]
  },
  {
   "cell_type": "code",
   "execution_count": 39,
   "metadata": {},
   "outputs": [
    {
     "data": {
      "application/vnd.jupyter.widget-view+json": {
       "model_id": "ec489192cbdf4d5bbecd29614e44e49f",
       "version_major": 2,
       "version_minor": 0
      },
      "text/plain": [
       "interactive(children=(Dropdown(description='idx', options=(0, 1, 2, 3, 4, 5, 6, 7, 8, 9, 10, 11, 12, 13, 14, 1…"
      ]
     },
     "metadata": {},
     "output_type": "display_data"
    }
   ],
   "source": [
    "@interact\n",
    "def get_mosi_sample(idx = range(len(test_mosi))):\n",
    "    (words, visual, acoustic, actual_words), label, segment =  test_mosi[idx]\n",
    "    print(\"WORDS\", words.shape)\n",
    "    print(\"VISUAL\", visual.shape)\n",
    "    print(\"ACOUSTIC\", acoustic.shape)\n",
    "    print(\"ACTUAL WORDS\", actual_words)\n",
    "    print(\"LABEL\", label)\n",
    "    print(\"SEGMENT\", segment)"
   ]
  },
  {
   "cell_type": "code",
   "execution_count": 40,
   "metadata": {},
   "outputs": [],
   "source": [
    "with open(\"./datasets/MOSEI/test.pkl\", 'rb') as f:\n",
    "    test_mosei = pkl.load(f)"
   ]
  },
  {
   "cell_type": "code",
   "execution_count": 41,
   "metadata": {},
   "outputs": [
    {
     "data": {
      "application/vnd.jupyter.widget-view+json": {
       "model_id": "d233a216370d4d2284b131cfd8e79b44",
       "version_major": 2,
       "version_minor": 0
      },
      "text/plain": [
       "interactive(children=(Dropdown(description='idx', options=(0, 1, 2, 3, 4, 5, 6, 7, 8, 9, 10, 11, 12, 13, 14, 1…"
      ]
     },
     "metadata": {},
     "output_type": "display_data"
    }
   ],
   "source": [
    "@interact\n",
    "def get_mosei_sample(idx = range(len(test_mosei))):\n",
    "    (words, visual, acoustic, actual_words, vlen, alen), label, segment =  test_mosei[idx]\n",
    "    print(\"WORDS\", words.shape)\n",
    "    print(\"VISUAL\", visual.shape)\n",
    "    print(\"ACOUSTIC\", acoustic.shape)\n",
    "    print(\"ACTUAL WORDS\", actual_words)\n",
    "    print(\"LABEL\", label)\n",
    "    print(\"SEGMENT\", segment)"
   ]
  },
  {
   "cell_type": "markdown",
   "metadata": {},
   "source": [
    "# MOSI"
   ]
  },
  {
   "cell_type": "markdown",
   "metadata": {},
   "source": [
    "## TFN"
   ]
  },
  {
   "cell_type": "markdown",
   "metadata": {},
   "source": [
    "### 1. Ground-truth Distribution"
   ]
  },
  {
   "cell_type": "code",
   "execution_count": 42,
   "metadata": {},
   "outputs": [],
   "source": [
    "with open(f\"results/TFN.pkl\", \"rb\") as handle:\n",
    "    # tfn_dict = {segment, labels, labels_2, labels_7, preds, preds_2, preds_7}\n",
    "    tfn = pkl.load(handle) "
   ]
  },
  {
   "cell_type": "code",
   "execution_count": 43,
   "metadata": {},
   "outputs": [
    {
     "name": "stdout",
     "output_type": "stream",
     "text": [
      "686\n"
     ]
    }
   ],
   "source": [
    "print(len(tfn['segment']))"
   ]
  },
  {
   "cell_type": "code",
   "execution_count": 44,
   "metadata": {},
   "outputs": [
    {
     "data": {
      "application/vnd.plotly.v1+json": {
       "config": {
        "plotlyServerURL": "https://plot.ly"
       },
       "data": [
        {
         "alignmentgroup": "True",
         "hovertemplate": "binary=%{x}<br>count=%{y}<extra></extra>",
         "legendgroup": "",
         "marker": {
          "color": "#636efa",
          "pattern": {
           "shape": ""
          }
         },
         "name": "",
         "offsetgroup": "",
         "orientation": "v",
         "showlegend": false,
         "textposition": "auto",
         "type": "bar",
         "x": [
          "pos",
          "neg",
          "neg",
          "neg",
          "neg",
          "neg",
          "neg",
          "neg",
          "neg",
          "pos",
          "neg",
          "neg",
          "neg",
          "neg",
          "pos",
          "neg",
          "pos",
          "neg",
          "neg",
          "neg",
          "neg",
          "pos",
          "pos",
          "neg",
          "neg",
          "neg",
          "neg",
          "neg",
          "neg",
          "neg",
          "neg",
          "neg",
          "pos",
          "pos",
          "pos",
          "pos",
          "neg",
          "neg",
          "neg",
          "pos",
          "neg",
          "neg",
          "neg",
          "pos",
          "pos",
          "neg",
          "pos",
          "neg",
          "pos",
          "pos",
          "pos",
          "neg",
          "neg",
          "neg",
          "neg",
          "neg",
          "neg",
          "pos",
          "pos",
          "pos",
          "pos",
          "neg",
          "pos",
          "pos",
          "pos",
          "pos",
          "neg",
          "pos",
          "neg",
          "neg",
          "neg",
          "pos",
          "neg",
          "neg",
          "pos",
          "pos",
          "neg",
          "pos",
          "neg",
          "neg",
          "neg",
          "pos",
          "pos",
          "pos",
          "pos",
          "pos",
          "pos",
          "neg",
          "pos",
          "pos",
          "pos",
          "neg",
          "neg",
          "pos",
          "pos",
          "pos",
          "pos",
          "pos",
          "pos",
          "pos",
          "pos",
          "neg",
          "pos",
          "pos",
          "neg",
          "pos",
          "pos",
          "neg",
          "pos",
          "pos",
          "pos",
          "pos",
          "pos",
          "pos",
          "neg",
          "pos",
          "neg",
          "pos",
          "pos",
          "pos",
          "pos",
          "neg",
          "neg",
          "pos",
          "neg",
          "neg",
          "neg",
          "neg",
          "neg",
          "neg",
          "neg",
          "neg",
          "pos",
          "neg",
          "neg",
          "neg",
          "neg",
          "neg",
          "neg",
          "neg",
          "neg",
          "neg",
          "neg",
          "neg",
          "pos",
          "neg",
          "neg",
          "neg",
          "neg",
          "neg",
          "neg",
          "neg",
          "neg",
          "neg",
          "neg",
          "neg",
          "neg",
          "neg",
          "neg",
          "neg",
          "neg",
          "neg",
          "pos",
          "neg",
          "pos",
          "neg",
          "neg",
          "neg",
          "neg",
          "neg",
          "neg",
          "pos",
          "neg",
          "neg",
          "pos",
          "pos",
          "neg",
          "neg",
          "neg",
          "neg",
          "pos",
          "neg",
          "neg",
          "pos",
          "pos",
          "neg",
          "pos",
          "pos",
          "neg",
          "neg",
          "neg",
          "neg",
          "neg",
          "neg",
          "neg",
          "neg",
          "neg",
          "pos",
          "neg",
          "neg",
          "pos",
          "neg",
          "neg",
          "pos",
          "pos",
          "neg",
          "neg",
          "neg",
          "neg",
          "pos",
          "neg",
          "neg",
          "neg",
          "neg",
          "neg",
          "neg",
          "neg",
          "neg",
          "pos",
          "pos",
          "neg",
          "neg",
          "pos",
          "pos",
          "neg",
          "neg",
          "neg",
          "pos",
          "neg",
          "neg",
          "neg",
          "pos",
          "neg",
          "pos",
          "neg",
          "pos",
          "neg",
          "neg",
          "neg",
          "neg",
          "neg",
          "pos",
          "pos",
          "neg",
          "pos",
          "neg",
          "neg",
          "neg",
          "pos",
          "pos",
          "pos",
          "neg",
          "pos",
          "pos",
          "neg",
          "neg",
          "neg",
          "neg",
          "neg",
          "pos",
          "pos",
          "pos",
          "neg",
          "neg",
          "neg",
          "neg",
          "neg",
          "pos",
          "neg",
          "pos",
          "neg",
          "neg",
          "pos",
          "pos",
          "neg",
          "neg",
          "neg",
          "pos",
          "pos",
          "pos",
          "neg",
          "pos",
          "neg",
          "pos",
          "neg",
          "pos",
          "pos",
          "neg",
          "neg",
          "neg",
          "neg",
          "pos",
          "neg",
          "pos",
          "pos",
          "neg",
          "neg",
          "neg",
          "pos",
          "neg",
          "pos",
          "neg",
          "pos",
          "neg",
          "pos",
          "neg",
          "pos",
          "neg",
          "neg",
          "pos",
          "pos",
          "pos",
          "pos",
          "pos",
          "pos",
          "neg",
          "neg",
          "pos",
          "pos",
          "pos",
          "neg",
          "neg",
          "neg",
          "neg",
          "neg",
          "neg",
          "neg",
          "neg",
          "pos",
          "neg",
          "pos",
          "neg",
          "neg",
          "pos",
          "pos",
          "neg",
          "neg",
          "neg",
          "neg",
          "neg",
          "neg",
          "neg",
          "pos",
          "pos",
          "pos",
          "neg",
          "pos",
          "neg",
          "pos",
          "neg",
          "pos",
          "neg",
          "neg",
          "neg",
          "neg",
          "neg",
          "neg",
          "neg",
          "neg",
          "neg",
          "neg",
          "neg",
          "pos",
          "pos",
          "neg",
          "neg",
          "neg",
          "neg",
          "pos",
          "pos",
          "neg",
          "pos",
          "neg",
          "neg",
          "neg",
          "neg",
          "pos",
          "neg",
          "pos",
          "neg",
          "neg",
          "neg",
          "neg",
          "neg",
          "neg",
          "neg",
          "neg",
          "pos",
          "pos",
          "neg",
          "pos",
          "neg",
          "neg",
          "pos",
          "neg",
          "neg",
          "pos",
          "neg",
          "neg",
          "pos",
          "neg",
          "neg",
          "pos",
          "pos",
          "neg",
          "pos",
          "pos",
          "pos",
          "pos",
          "pos",
          "neg",
          "pos",
          "pos",
          "pos",
          "pos",
          "neg",
          "neg",
          "neg",
          "pos",
          "neg",
          "neg",
          "neg",
          "neg",
          "neg",
          "neg",
          "neg",
          "neg",
          "neg",
          "neg",
          "neg",
          "pos",
          "neg",
          "pos",
          "pos",
          "pos",
          "neg",
          "pos",
          "neg",
          "pos",
          "neg",
          "neg",
          "pos",
          "pos",
          "neg",
          "pos",
          "pos",
          "pos",
          "pos",
          "pos",
          "neg",
          "neg",
          "neg",
          "neg",
          "neg",
          "neg",
          "neg",
          "neg",
          "neg",
          "neg",
          "neg",
          "pos",
          "neg",
          "pos",
          "pos",
          "neg",
          "pos",
          "pos",
          "pos",
          "neg",
          "neg",
          "neg",
          "neg",
          "neg",
          "pos",
          "neg",
          "neg",
          "neg",
          "neg",
          "neg",
          "neg",
          "neg",
          "neg",
          "neg",
          "neg",
          "neg",
          "neg",
          "neg",
          "neg",
          "neg",
          "neg",
          "neg",
          "neg",
          "pos",
          "neg",
          "neg",
          "neg",
          "neg",
          "neg",
          "neg",
          "neg",
          "neg",
          "neg",
          "neg",
          "neg",
          "neg",
          "neg",
          "pos",
          "pos",
          "neg",
          "pos",
          "pos",
          "neg",
          "pos",
          "neg",
          "neg",
          "pos",
          "pos",
          "pos",
          "pos",
          "pos",
          "pos",
          "neg",
          "neg",
          "neg",
          "pos",
          "neg",
          "neg",
          "pos",
          "neg",
          "pos",
          "neg",
          "neg",
          "pos",
          "pos",
          "neg",
          "pos",
          "neg",
          "pos",
          "pos",
          "pos",
          "pos",
          "pos",
          "neg",
          "neg",
          "pos",
          "pos",
          "pos",
          "neg",
          "pos",
          "pos",
          "neg",
          "pos",
          "pos",
          "pos",
          "neg",
          "pos",
          "neg",
          "pos",
          "pos",
          "pos",
          "pos",
          "pos",
          "neg",
          "pos",
          "pos",
          "pos",
          "neg",
          "neg",
          "pos",
          "pos",
          "pos",
          "pos",
          "pos",
          "pos",
          "pos",
          "pos",
          "neg",
          "pos",
          "pos",
          "pos",
          "pos",
          "pos",
          "pos",
          "neg",
          "pos",
          "pos",
          "pos",
          "neg",
          "pos",
          "neg",
          "pos",
          "neg",
          "pos",
          "pos",
          "pos",
          "neg",
          "pos",
          "pos",
          "pos",
          "neg",
          "pos",
          "neg",
          "neg",
          "neg",
          "pos",
          "pos",
          "neg",
          "neg",
          "neg",
          "neg",
          "neg",
          "neg",
          "pos",
          "pos",
          "pos",
          "neg",
          "neg",
          "neg",
          "neg",
          "pos",
          "neg",
          "pos",
          "neg",
          "neg",
          "neg",
          "neg",
          "pos",
          "pos",
          "pos",
          "neg",
          "pos",
          "neg",
          "neg",
          "neg",
          "neg",
          "neg",
          "neg",
          "neg",
          "pos",
          "pos",
          "neg",
          "neg",
          "pos",
          "neg",
          "neg",
          "neg",
          "neg",
          "neg",
          "neg",
          "neg",
          "neg",
          "pos",
          "neg",
          "pos",
          "neg",
          "neg",
          "neg",
          "neg",
          "pos",
          "neg",
          "neg",
          "neg",
          "neg",
          "pos",
          "pos",
          "pos",
          "neg",
          "neg",
          "pos",
          "pos",
          "neg",
          "neg",
          "pos",
          "neg",
          "pos",
          "neg",
          "neg",
          "neg",
          "neg",
          "neg",
          "pos",
          "pos",
          "pos",
          "neg",
          "pos",
          "pos"
         ],
         "xaxis": "x",
         "y": [
          1,
          1,
          1,
          1,
          1,
          1,
          1,
          1,
          1,
          1,
          1,
          1,
          1,
          1,
          1,
          1,
          1,
          1,
          1,
          1,
          1,
          1,
          1,
          1,
          1,
          1,
          1,
          1,
          1,
          1,
          1,
          1,
          1,
          1,
          1,
          1,
          1,
          1,
          1,
          1,
          1,
          1,
          1,
          1,
          1,
          1,
          1,
          1,
          1,
          1,
          1,
          1,
          1,
          1,
          1,
          1,
          1,
          1,
          1,
          1,
          1,
          1,
          1,
          1,
          1,
          1,
          1,
          1,
          1,
          1,
          1,
          1,
          1,
          1,
          1,
          1,
          1,
          1,
          1,
          1,
          1,
          1,
          1,
          1,
          1,
          1,
          1,
          1,
          1,
          1,
          1,
          1,
          1,
          1,
          1,
          1,
          1,
          1,
          1,
          1,
          1,
          1,
          1,
          1,
          1,
          1,
          1,
          1,
          1,
          1,
          1,
          1,
          1,
          1,
          1,
          1,
          1,
          1,
          1,
          1,
          1,
          1,
          1,
          1,
          1,
          1,
          1,
          1,
          1,
          1,
          1,
          1,
          1,
          1,
          1,
          1,
          1,
          1,
          1,
          1,
          1,
          1,
          1,
          1,
          1,
          1,
          1,
          1,
          1,
          1,
          1,
          1,
          1,
          1,
          1,
          1,
          1,
          1,
          1,
          1,
          1,
          1,
          1,
          1,
          1,
          1,
          1,
          1,
          1,
          1,
          1,
          1,
          1,
          1,
          1,
          1,
          1,
          1,
          1,
          1,
          1,
          1,
          1,
          1,
          1,
          1,
          1,
          1,
          1,
          1,
          1,
          1,
          1,
          1,
          1,
          1,
          1,
          1,
          1,
          1,
          1,
          1,
          1,
          1,
          1,
          1,
          1,
          1,
          1,
          1,
          1,
          1,
          1,
          1,
          1,
          1,
          1,
          1,
          1,
          1,
          1,
          1,
          1,
          1,
          1,
          1,
          1,
          1,
          1,
          1,
          1,
          1,
          1,
          1,
          1,
          1,
          1,
          1,
          1,
          1,
          1,
          1,
          1,
          1,
          1,
          1,
          1,
          1,
          1,
          1,
          1,
          1,
          1,
          1,
          1,
          1,
          1,
          1,
          1,
          1,
          1,
          1,
          1,
          1,
          1,
          1,
          1,
          1,
          1,
          1,
          1,
          1,
          1,
          1,
          1,
          1,
          1,
          1,
          1,
          1,
          1,
          1,
          1,
          1,
          1,
          1,
          1,
          1,
          1,
          1,
          1,
          1,
          1,
          1,
          1,
          1,
          1,
          1,
          1,
          1,
          1,
          1,
          1,
          1,
          1,
          1,
          1,
          1,
          1,
          1,
          1,
          1,
          1,
          1,
          1,
          1,
          1,
          1,
          1,
          1,
          1,
          1,
          1,
          1,
          1,
          1,
          1,
          1,
          1,
          1,
          1,
          1,
          1,
          1,
          1,
          1,
          1,
          1,
          1,
          1,
          1,
          1,
          1,
          1,
          1,
          1,
          1,
          1,
          1,
          1,
          1,
          1,
          1,
          1,
          1,
          1,
          1,
          1,
          1,
          1,
          1,
          1,
          1,
          1,
          1,
          1,
          1,
          1,
          1,
          1,
          1,
          1,
          1,
          1,
          1,
          1,
          1,
          1,
          1,
          1,
          1,
          1,
          1,
          1,
          1,
          1,
          1,
          1,
          1,
          1,
          1,
          1,
          1,
          1,
          1,
          1,
          1,
          1,
          1,
          1,
          1,
          1,
          1,
          1,
          1,
          1,
          1,
          1,
          1,
          1,
          1,
          1,
          1,
          1,
          1,
          1,
          1,
          1,
          1,
          1,
          1,
          1,
          1,
          1,
          1,
          1,
          1,
          1,
          1,
          1,
          1,
          1,
          1,
          1,
          1,
          1,
          1,
          1,
          1,
          1,
          1,
          1,
          1,
          1,
          1,
          1,
          1,
          1,
          1,
          1,
          1,
          1,
          1,
          1,
          1,
          1,
          1,
          1,
          1,
          1,
          1,
          1,
          1,
          1,
          1,
          1,
          1,
          1,
          1,
          1,
          1,
          1,
          1,
          1,
          1,
          1,
          1,
          1,
          1,
          1,
          1,
          1,
          1,
          1,
          1,
          1,
          1,
          1,
          1,
          1,
          1,
          1,
          1,
          1,
          1,
          1,
          1,
          1,
          1,
          1,
          1,
          1,
          1,
          1,
          1,
          1,
          1,
          1,
          1,
          1,
          1,
          1,
          1,
          1,
          1,
          1,
          1,
          1,
          1,
          1,
          1,
          1,
          1,
          1,
          1,
          1,
          1,
          1,
          1,
          1,
          1,
          1,
          1,
          1,
          1,
          1,
          1,
          1,
          1,
          1,
          1,
          1,
          1,
          1,
          1,
          1,
          1,
          1,
          1,
          1,
          1,
          1,
          1,
          1,
          1,
          1,
          1,
          1,
          1,
          1,
          1,
          1,
          1,
          1,
          1,
          1,
          1,
          1,
          1,
          1,
          1,
          1,
          1,
          1,
          1,
          1,
          1,
          1,
          1,
          1,
          1,
          1,
          1,
          1,
          1,
          1,
          1,
          1,
          1,
          1,
          1,
          1,
          1,
          1,
          1,
          1,
          1,
          1,
          1,
          1,
          1,
          1,
          1,
          1,
          1,
          1,
          1,
          1,
          1,
          1,
          1,
          1,
          1,
          1,
          1,
          1,
          1,
          1,
          1,
          1,
          1,
          1,
          1,
          1,
          1,
          1,
          1,
          1,
          1,
          1,
          1,
          1,
          1,
          1,
          1,
          1,
          1,
          1,
          1,
          1,
          1,
          1,
          1,
          1,
          1,
          1,
          1,
          1,
          1,
          1,
          1,
          1,
          1,
          1,
          1,
          1,
          1,
          1,
          1,
          1,
          1,
          1,
          1,
          1,
          1,
          1,
          1,
          1,
          1,
          1,
          1,
          1,
          1,
          1,
          1,
          1,
          1,
          1,
          1,
          1,
          1,
          1,
          1,
          1,
          1,
          1
         ],
         "yaxis": "y"
        },
        {
         "alignmentgroup": "True",
         "hovertemplate": "7_class=%{x}<br>count=%{y}<extra></extra>",
         "legendgroup": "",
         "marker": {
          "color": "#636efa",
          "pattern": {
           "shape": ""
          }
         },
         "name": "",
         "offsetgroup": "",
         "orientation": "v",
         "showlegend": false,
         "textposition": "auto",
         "type": "bar",
         "x": [
          "weakly positive",
          "very negative",
          "Neutral",
          "negative",
          "very negative",
          "negative",
          "weakly negative",
          "negative",
          "negative",
          "positive",
          "very negative",
          "very negative",
          "very negative",
          "weakly negative",
          "weakly positive",
          "weakly negative",
          "weakly positive",
          "very negative",
          "very negative",
          "Neutral",
          "very negative",
          "weakly positive",
          "weakly positive",
          "very negative",
          "negative",
          "weakly negative",
          "negative",
          "very negative",
          "very negative",
          "very negative",
          "negative",
          "very negative",
          "very positive",
          "positive",
          "weakly positive",
          "very positive",
          "very negative",
          "very negative",
          "weakly negative",
          "very positive",
          "weakly negative",
          "Neutral",
          "weakly negative",
          "positive",
          "very positive",
          "weakly negative",
          "very positive",
          "very negative",
          "very positive",
          "weakly positive",
          "very positive",
          "weakly negative",
          "very negative",
          "very negative",
          "weakly negative",
          "very negative",
          "negative",
          "weakly positive",
          "positive",
          "positive",
          "positive",
          "negative",
          "positive",
          "weakly positive",
          "Neutral",
          "weakly positive",
          "weakly negative",
          "positive",
          "weakly negative",
          "weakly negative",
          "weakly negative",
          "positive",
          "weakly negative",
          "Neutral",
          "positive",
          "weakly positive",
          "weakly negative",
          "very positive",
          "Neutral",
          "weakly negative",
          "weakly negative",
          "very positive",
          "weakly positive",
          "positive",
          "positive",
          "positive",
          "positive",
          "weakly negative",
          "very positive",
          "weakly positive",
          "Neutral",
          "weakly negative",
          "Neutral",
          "positive",
          "Neutral",
          "very positive",
          "Neutral",
          "positive",
          "Neutral",
          "very positive",
          "positive",
          "weakly negative",
          "positive",
          "positive",
          "weakly negative",
          "Neutral",
          "Neutral",
          "very negative",
          "very positive",
          "Neutral",
          "positive",
          "positive",
          "weakly positive",
          "weakly positive",
          "very negative",
          "positive",
          "negative",
          "very positive",
          "positive",
          "very positive",
          "very positive",
          "negative",
          "negative",
          "weakly positive",
          "negative",
          "Neutral",
          "very negative",
          "negative",
          "negative",
          "weakly negative",
          "negative",
          "very negative",
          "weakly positive",
          "negative",
          "negative",
          "very negative",
          "very negative",
          "weakly negative",
          "weakly negative",
          "negative",
          "negative",
          "very negative",
          "very negative",
          "very negative",
          "positive",
          "very negative",
          "weakly negative",
          "negative",
          "weakly negative",
          "very negative",
          "negative",
          "negative",
          "very negative",
          "very negative",
          "very negative",
          "negative",
          "very negative",
          "very negative",
          "very negative",
          "very negative",
          "weakly negative",
          "very negative",
          "Neutral",
          "weakly negative",
          "weakly positive",
          "Neutral",
          "weakly negative",
          "Neutral",
          "very negative",
          "negative",
          "weakly negative",
          "weakly positive",
          "weakly negative",
          "negative",
          "weakly positive",
          "weakly positive",
          "negative",
          "Neutral",
          "negative",
          "very negative",
          "Neutral",
          "negative",
          "negative",
          "weakly positive",
          "weakly positive",
          "negative",
          "weakly positive",
          "weakly positive",
          "very negative",
          "negative",
          "weakly negative",
          "weakly negative",
          "very negative",
          "weakly negative",
          "weakly negative",
          "negative",
          "weakly negative",
          "positive",
          "Neutral",
          "negative",
          "positive",
          "negative",
          "weakly negative",
          "weakly positive",
          "positive",
          "very negative",
          "very negative",
          "negative",
          "Neutral",
          "positive",
          "very negative",
          "weakly negative",
          "negative",
          "weakly negative",
          "negative",
          "weakly negative",
          "very negative",
          "weakly negative",
          "weakly positive",
          "Neutral",
          "negative",
          "weakly negative",
          "weakly positive",
          "positive",
          "weakly negative",
          "weakly negative",
          "Neutral",
          "weakly positive",
          "Neutral",
          "weakly negative",
          "Neutral",
          "weakly positive",
          "Neutral",
          "Neutral",
          "weakly negative",
          "positive",
          "Neutral",
          "Neutral",
          "very negative",
          "Neutral",
          "weakly negative",
          "positive",
          "weakly positive",
          "very negative",
          "weakly positive",
          "Neutral",
          "very negative",
          "Neutral",
          "positive",
          "positive",
          "weakly positive",
          "negative",
          "Neutral",
          "weakly positive",
          "very negative",
          "weakly negative",
          "Neutral",
          "negative",
          "negative",
          "weakly positive",
          "very positive",
          "very positive",
          "Neutral",
          "weakly negative",
          "negative",
          "weakly negative",
          "weakly negative",
          "Neutral",
          "weakly negative",
          "positive",
          "very negative",
          "weakly negative",
          "weakly positive",
          "weakly positive",
          "weakly negative",
          "negative",
          "weakly negative",
          "positive",
          "weakly positive",
          "very positive",
          "negative",
          "Neutral",
          "Neutral",
          "positive",
          "Neutral",
          "very positive",
          "very positive",
          "Neutral",
          "negative",
          "weakly negative",
          "weakly negative",
          "Neutral",
          "very negative",
          "positive",
          "weakly positive",
          "negative",
          "weakly negative",
          "negative",
          "weakly positive",
          "negative",
          "weakly positive",
          "negative",
          "positive",
          "very negative",
          "weakly positive",
          "very negative",
          "very positive",
          "negative",
          "negative",
          "positive",
          "positive",
          "weakly positive",
          "Neutral",
          "weakly positive",
          "Neutral",
          "very negative",
          "very negative",
          "weakly positive",
          "weakly positive",
          "weakly positive",
          "very negative",
          "very negative",
          "negative",
          "very negative",
          "weakly negative",
          "weakly negative",
          "weakly negative",
          "negative",
          "Neutral",
          "weakly negative",
          "Neutral",
          "Neutral",
          "weakly negative",
          "Neutral",
          "positive",
          "very negative",
          "weakly negative",
          "very negative",
          "negative",
          "very negative",
          "negative",
          "Neutral",
          "very positive",
          "Neutral",
          "weakly positive",
          "negative",
          "positive",
          "very negative",
          "very positive",
          "Neutral",
          "positive",
          "negative",
          "very negative",
          "negative",
          "negative",
          "weakly negative",
          "negative",
          "weakly negative",
          "very negative",
          "negative",
          "very negative",
          "negative",
          "weakly positive",
          "weakly positive",
          "very negative",
          "very negative",
          "very negative",
          "Neutral",
          "positive",
          "very positive",
          "Neutral",
          "positive",
          "Neutral",
          "Neutral",
          "very negative",
          "weakly negative",
          "weakly positive",
          "negative",
          "weakly positive",
          "negative",
          "very negative",
          "negative",
          "weakly negative",
          "negative",
          "negative",
          "negative",
          "very negative",
          "weakly positive",
          "weakly positive",
          "negative",
          "weakly positive",
          "negative",
          "weakly negative",
          "Neutral",
          "negative",
          "Neutral",
          "weakly positive",
          "very negative",
          "weakly negative",
          "weakly positive",
          "negative",
          "negative",
          "positive",
          "very positive",
          "weakly negative",
          "weakly positive",
          "positive",
          "weakly positive",
          "positive",
          "weakly positive",
          "weakly negative",
          "positive",
          "weakly positive",
          "positive",
          "Neutral",
          "negative",
          "very negative",
          "very negative",
          "positive",
          "negative",
          "weakly negative",
          "negative",
          "negative",
          "Neutral",
          "weakly negative",
          "negative",
          "negative",
          "negative",
          "negative",
          "weakly negative",
          "weakly positive",
          "negative",
          "positive",
          "positive",
          "weakly positive",
          "negative",
          "weakly positive",
          "negative",
          "very positive",
          "negative",
          "weakly negative",
          "positive",
          "weakly positive",
          "negative",
          "positive",
          "weakly positive",
          "very positive",
          "positive",
          "weakly positive",
          "weakly negative",
          "very negative",
          "very negative",
          "negative",
          "very negative",
          "very negative",
          "weakly negative",
          "negative",
          "weakly negative",
          "negative",
          "very negative",
          "very positive",
          "negative",
          "positive",
          "weakly positive",
          "very negative",
          "very positive",
          "Neutral",
          "very positive",
          "negative",
          "weakly negative",
          "very negative",
          "very negative",
          "very negative",
          "very positive",
          "Neutral",
          "negative",
          "negative",
          "negative",
          "very negative",
          "negative",
          "negative",
          "very negative",
          "Neutral",
          "negative",
          "weakly negative",
          "negative",
          "negative",
          "very negative",
          "very negative",
          "Neutral",
          "weakly negative",
          "negative",
          "Neutral",
          "negative",
          "weakly negative",
          "negative",
          "Neutral",
          "very negative",
          "negative",
          "negative",
          "negative",
          "Neutral",
          "negative",
          "very negative",
          "negative",
          "negative",
          "positive",
          "positive",
          "very negative",
          "weakly positive",
          "weakly positive",
          "weakly negative",
          "positive",
          "weakly negative",
          "negative",
          "very positive",
          "positive",
          "positive",
          "positive",
          "weakly positive",
          "Neutral",
          "Neutral",
          "weakly negative",
          "negative",
          "weakly positive",
          "Neutral",
          "negative",
          "very positive",
          "Neutral",
          "positive",
          "negative",
          "weakly negative",
          "very positive",
          "very positive",
          "very negative",
          "Neutral",
          "weakly negative",
          "positive",
          "positive",
          "positive",
          "very positive",
          "positive",
          "Neutral",
          "Neutral",
          "Neutral",
          "very positive",
          "Neutral",
          "very negative",
          "positive",
          "weakly positive",
          "weakly negative",
          "very positive",
          "very positive",
          "positive",
          "negative",
          "very positive",
          "negative",
          "positive",
          "weakly positive",
          "very positive",
          "weakly positive",
          "positive",
          "Neutral",
          "positive",
          "very positive",
          "weakly positive",
          "Neutral",
          "Neutral",
          "positive",
          "weakly positive",
          "positive",
          "very positive",
          "very positive",
          "positive",
          "Neutral",
          "weakly positive",
          "Neutral",
          "positive",
          "positive",
          "positive",
          "very positive",
          "weakly positive",
          "positive",
          "weakly negative",
          "positive",
          "positive",
          "weakly positive",
          "weakly negative",
          "Neutral",
          "weakly negative",
          "positive",
          "Neutral",
          "positive",
          "Neutral",
          "positive",
          "weakly negative",
          "weakly positive",
          "positive",
          "weakly positive",
          "weakly negative",
          "positive",
          "negative",
          "Neutral",
          "negative",
          "positive",
          "weakly positive",
          "Neutral",
          "Neutral",
          "weakly negative",
          "weakly negative",
          "weakly negative",
          "negative",
          "Neutral",
          "Neutral",
          "very positive",
          "negative",
          "negative",
          "negative",
          "Neutral",
          "weakly positive",
          "negative",
          "weakly positive",
          "weakly negative",
          "Neutral",
          "negative",
          "weakly negative",
          "Neutral",
          "positive",
          "weakly positive",
          "negative",
          "very positive",
          "weakly negative",
          "Neutral",
          "weakly negative",
          "negative",
          "negative",
          "weakly negative",
          "negative",
          "positive",
          "Neutral",
          "weakly negative",
          "negative",
          "weakly positive",
          "negative",
          "negative",
          "very negative",
          "negative",
          "very negative",
          "negative",
          "negative",
          "negative",
          "positive",
          "weakly negative",
          "positive",
          "weakly negative",
          "weakly negative",
          "weakly negative",
          "negative",
          "weakly positive",
          "weakly negative",
          "negative",
          "negative",
          "very negative",
          "positive",
          "weakly positive",
          "weakly positive",
          "negative",
          "negative",
          "weakly positive",
          "weakly positive",
          "negative",
          "weakly negative",
          "weakly positive",
          "weakly negative",
          "weakly positive",
          "Neutral",
          "weakly negative",
          "weakly negative",
          "negative",
          "Neutral",
          "weakly positive",
          "positive",
          "weakly positive",
          "Neutral",
          "weakly positive",
          "weakly positive"
         ],
         "xaxis": "x2",
         "y": [
          1,
          1,
          1,
          1,
          1,
          1,
          1,
          1,
          1,
          1,
          1,
          1,
          1,
          1,
          1,
          1,
          1,
          1,
          1,
          1,
          1,
          1,
          1,
          1,
          1,
          1,
          1,
          1,
          1,
          1,
          1,
          1,
          1,
          1,
          1,
          1,
          1,
          1,
          1,
          1,
          1,
          1,
          1,
          1,
          1,
          1,
          1,
          1,
          1,
          1,
          1,
          1,
          1,
          1,
          1,
          1,
          1,
          1,
          1,
          1,
          1,
          1,
          1,
          1,
          1,
          1,
          1,
          1,
          1,
          1,
          1,
          1,
          1,
          1,
          1,
          1,
          1,
          1,
          1,
          1,
          1,
          1,
          1,
          1,
          1,
          1,
          1,
          1,
          1,
          1,
          1,
          1,
          1,
          1,
          1,
          1,
          1,
          1,
          1,
          1,
          1,
          1,
          1,
          1,
          1,
          1,
          1,
          1,
          1,
          1,
          1,
          1,
          1,
          1,
          1,
          1,
          1,
          1,
          1,
          1,
          1,
          1,
          1,
          1,
          1,
          1,
          1,
          1,
          1,
          1,
          1,
          1,
          1,
          1,
          1,
          1,
          1,
          1,
          1,
          1,
          1,
          1,
          1,
          1,
          1,
          1,
          1,
          1,
          1,
          1,
          1,
          1,
          1,
          1,
          1,
          1,
          1,
          1,
          1,
          1,
          1,
          1,
          1,
          1,
          1,
          1,
          1,
          1,
          1,
          1,
          1,
          1,
          1,
          1,
          1,
          1,
          1,
          1,
          1,
          1,
          1,
          1,
          1,
          1,
          1,
          1,
          1,
          1,
          1,
          1,
          1,
          1,
          1,
          1,
          1,
          1,
          1,
          1,
          1,
          1,
          1,
          1,
          1,
          1,
          1,
          1,
          1,
          1,
          1,
          1,
          1,
          1,
          1,
          1,
          1,
          1,
          1,
          1,
          1,
          1,
          1,
          1,
          1,
          1,
          1,
          1,
          1,
          1,
          1,
          1,
          1,
          1,
          1,
          1,
          1,
          1,
          1,
          1,
          1,
          1,
          1,
          1,
          1,
          1,
          1,
          1,
          1,
          1,
          1,
          1,
          1,
          1,
          1,
          1,
          1,
          1,
          1,
          1,
          1,
          1,
          1,
          1,
          1,
          1,
          1,
          1,
          1,
          1,
          1,
          1,
          1,
          1,
          1,
          1,
          1,
          1,
          1,
          1,
          1,
          1,
          1,
          1,
          1,
          1,
          1,
          1,
          1,
          1,
          1,
          1,
          1,
          1,
          1,
          1,
          1,
          1,
          1,
          1,
          1,
          1,
          1,
          1,
          1,
          1,
          1,
          1,
          1,
          1,
          1,
          1,
          1,
          1,
          1,
          1,
          1,
          1,
          1,
          1,
          1,
          1,
          1,
          1,
          1,
          1,
          1,
          1,
          1,
          1,
          1,
          1,
          1,
          1,
          1,
          1,
          1,
          1,
          1,
          1,
          1,
          1,
          1,
          1,
          1,
          1,
          1,
          1,
          1,
          1,
          1,
          1,
          1,
          1,
          1,
          1,
          1,
          1,
          1,
          1,
          1,
          1,
          1,
          1,
          1,
          1,
          1,
          1,
          1,
          1,
          1,
          1,
          1,
          1,
          1,
          1,
          1,
          1,
          1,
          1,
          1,
          1,
          1,
          1,
          1,
          1,
          1,
          1,
          1,
          1,
          1,
          1,
          1,
          1,
          1,
          1,
          1,
          1,
          1,
          1,
          1,
          1,
          1,
          1,
          1,
          1,
          1,
          1,
          1,
          1,
          1,
          1,
          1,
          1,
          1,
          1,
          1,
          1,
          1,
          1,
          1,
          1,
          1,
          1,
          1,
          1,
          1,
          1,
          1,
          1,
          1,
          1,
          1,
          1,
          1,
          1,
          1,
          1,
          1,
          1,
          1,
          1,
          1,
          1,
          1,
          1,
          1,
          1,
          1,
          1,
          1,
          1,
          1,
          1,
          1,
          1,
          1,
          1,
          1,
          1,
          1,
          1,
          1,
          1,
          1,
          1,
          1,
          1,
          1,
          1,
          1,
          1,
          1,
          1,
          1,
          1,
          1,
          1,
          1,
          1,
          1,
          1,
          1,
          1,
          1,
          1,
          1,
          1,
          1,
          1,
          1,
          1,
          1,
          1,
          1,
          1,
          1,
          1,
          1,
          1,
          1,
          1,
          1,
          1,
          1,
          1,
          1,
          1,
          1,
          1,
          1,
          1,
          1,
          1,
          1,
          1,
          1,
          1,
          1,
          1,
          1,
          1,
          1,
          1,
          1,
          1,
          1,
          1,
          1,
          1,
          1,
          1,
          1,
          1,
          1,
          1,
          1,
          1,
          1,
          1,
          1,
          1,
          1,
          1,
          1,
          1,
          1,
          1,
          1,
          1,
          1,
          1,
          1,
          1,
          1,
          1,
          1,
          1,
          1,
          1,
          1,
          1,
          1,
          1,
          1,
          1,
          1,
          1,
          1,
          1,
          1,
          1,
          1,
          1,
          1,
          1,
          1,
          1,
          1,
          1,
          1,
          1,
          1,
          1,
          1,
          1,
          1,
          1,
          1,
          1,
          1,
          1,
          1,
          1,
          1,
          1,
          1,
          1,
          1,
          1,
          1,
          1,
          1,
          1,
          1,
          1,
          1,
          1,
          1,
          1,
          1,
          1,
          1,
          1,
          1,
          1,
          1,
          1,
          1,
          1,
          1,
          1,
          1,
          1,
          1,
          1,
          1,
          1,
          1,
          1,
          1,
          1,
          1,
          1,
          1,
          1,
          1,
          1,
          1,
          1,
          1,
          1,
          1,
          1,
          1,
          1,
          1,
          1,
          1,
          1,
          1,
          1,
          1,
          1,
          1,
          1,
          1,
          1,
          1,
          1,
          1,
          1,
          1,
          1,
          1,
          1,
          1,
          1,
          1,
          1,
          1,
          1,
          1,
          1,
          1,
          1,
          1,
          1,
          1,
          1,
          1,
          1,
          1,
          1,
          1,
          1,
          1,
          1
         ],
         "yaxis": "y2"
        }
       ],
       "layout": {
        "annotations": [
         {
          "font": {
           "size": 16
          },
          "showarrow": false,
          "text": "Binary",
          "x": 0.225,
          "xanchor": "center",
          "xref": "paper",
          "y": 1,
          "yanchor": "bottom",
          "yref": "paper"
         },
         {
          "font": {
           "size": 16
          },
          "showarrow": false,
          "text": "7-class",
          "x": 0.775,
          "xanchor": "center",
          "xref": "paper",
          "y": 1,
          "yanchor": "bottom",
          "yref": "paper"
         }
        ],
        "height": 500,
        "template": {
         "data": {
          "bar": [
           {
            "error_x": {
             "color": "#2a3f5f"
            },
            "error_y": {
             "color": "#2a3f5f"
            },
            "marker": {
             "line": {
              "color": "#E5ECF6",
              "width": 0.5
             },
             "pattern": {
              "fillmode": "overlay",
              "size": 10,
              "solidity": 0.2
             }
            },
            "type": "bar"
           }
          ],
          "barpolar": [
           {
            "marker": {
             "line": {
              "color": "#E5ECF6",
              "width": 0.5
             },
             "pattern": {
              "fillmode": "overlay",
              "size": 10,
              "solidity": 0.2
             }
            },
            "type": "barpolar"
           }
          ],
          "carpet": [
           {
            "aaxis": {
             "endlinecolor": "#2a3f5f",
             "gridcolor": "white",
             "linecolor": "white",
             "minorgridcolor": "white",
             "startlinecolor": "#2a3f5f"
            },
            "baxis": {
             "endlinecolor": "#2a3f5f",
             "gridcolor": "white",
             "linecolor": "white",
             "minorgridcolor": "white",
             "startlinecolor": "#2a3f5f"
            },
            "type": "carpet"
           }
          ],
          "choropleth": [
           {
            "colorbar": {
             "outlinewidth": 0,
             "ticks": ""
            },
            "type": "choropleth"
           }
          ],
          "contour": [
           {
            "colorbar": {
             "outlinewidth": 0,
             "ticks": ""
            },
            "colorscale": [
             [
              0,
              "#0d0887"
             ],
             [
              0.1111111111111111,
              "#46039f"
             ],
             [
              0.2222222222222222,
              "#7201a8"
             ],
             [
              0.3333333333333333,
              "#9c179e"
             ],
             [
              0.4444444444444444,
              "#bd3786"
             ],
             [
              0.5555555555555556,
              "#d8576b"
             ],
             [
              0.6666666666666666,
              "#ed7953"
             ],
             [
              0.7777777777777778,
              "#fb9f3a"
             ],
             [
              0.8888888888888888,
              "#fdca26"
             ],
             [
              1,
              "#f0f921"
             ]
            ],
            "type": "contour"
           }
          ],
          "contourcarpet": [
           {
            "colorbar": {
             "outlinewidth": 0,
             "ticks": ""
            },
            "type": "contourcarpet"
           }
          ],
          "heatmap": [
           {
            "colorbar": {
             "outlinewidth": 0,
             "ticks": ""
            },
            "colorscale": [
             [
              0,
              "#0d0887"
             ],
             [
              0.1111111111111111,
              "#46039f"
             ],
             [
              0.2222222222222222,
              "#7201a8"
             ],
             [
              0.3333333333333333,
              "#9c179e"
             ],
             [
              0.4444444444444444,
              "#bd3786"
             ],
             [
              0.5555555555555556,
              "#d8576b"
             ],
             [
              0.6666666666666666,
              "#ed7953"
             ],
             [
              0.7777777777777778,
              "#fb9f3a"
             ],
             [
              0.8888888888888888,
              "#fdca26"
             ],
             [
              1,
              "#f0f921"
             ]
            ],
            "type": "heatmap"
           }
          ],
          "heatmapgl": [
           {
            "colorbar": {
             "outlinewidth": 0,
             "ticks": ""
            },
            "colorscale": [
             [
              0,
              "#0d0887"
             ],
             [
              0.1111111111111111,
              "#46039f"
             ],
             [
              0.2222222222222222,
              "#7201a8"
             ],
             [
              0.3333333333333333,
              "#9c179e"
             ],
             [
              0.4444444444444444,
              "#bd3786"
             ],
             [
              0.5555555555555556,
              "#d8576b"
             ],
             [
              0.6666666666666666,
              "#ed7953"
             ],
             [
              0.7777777777777778,
              "#fb9f3a"
             ],
             [
              0.8888888888888888,
              "#fdca26"
             ],
             [
              1,
              "#f0f921"
             ]
            ],
            "type": "heatmapgl"
           }
          ],
          "histogram": [
           {
            "marker": {
             "pattern": {
              "fillmode": "overlay",
              "size": 10,
              "solidity": 0.2
             }
            },
            "type": "histogram"
           }
          ],
          "histogram2d": [
           {
            "colorbar": {
             "outlinewidth": 0,
             "ticks": ""
            },
            "colorscale": [
             [
              0,
              "#0d0887"
             ],
             [
              0.1111111111111111,
              "#46039f"
             ],
             [
              0.2222222222222222,
              "#7201a8"
             ],
             [
              0.3333333333333333,
              "#9c179e"
             ],
             [
              0.4444444444444444,
              "#bd3786"
             ],
             [
              0.5555555555555556,
              "#d8576b"
             ],
             [
              0.6666666666666666,
              "#ed7953"
             ],
             [
              0.7777777777777778,
              "#fb9f3a"
             ],
             [
              0.8888888888888888,
              "#fdca26"
             ],
             [
              1,
              "#f0f921"
             ]
            ],
            "type": "histogram2d"
           }
          ],
          "histogram2dcontour": [
           {
            "colorbar": {
             "outlinewidth": 0,
             "ticks": ""
            },
            "colorscale": [
             [
              0,
              "#0d0887"
             ],
             [
              0.1111111111111111,
              "#46039f"
             ],
             [
              0.2222222222222222,
              "#7201a8"
             ],
             [
              0.3333333333333333,
              "#9c179e"
             ],
             [
              0.4444444444444444,
              "#bd3786"
             ],
             [
              0.5555555555555556,
              "#d8576b"
             ],
             [
              0.6666666666666666,
              "#ed7953"
             ],
             [
              0.7777777777777778,
              "#fb9f3a"
             ],
             [
              0.8888888888888888,
              "#fdca26"
             ],
             [
              1,
              "#f0f921"
             ]
            ],
            "type": "histogram2dcontour"
           }
          ],
          "mesh3d": [
           {
            "colorbar": {
             "outlinewidth": 0,
             "ticks": ""
            },
            "type": "mesh3d"
           }
          ],
          "parcoords": [
           {
            "line": {
             "colorbar": {
              "outlinewidth": 0,
              "ticks": ""
             }
            },
            "type": "parcoords"
           }
          ],
          "pie": [
           {
            "automargin": true,
            "type": "pie"
           }
          ],
          "scatter": [
           {
            "fillpattern": {
             "fillmode": "overlay",
             "size": 10,
             "solidity": 0.2
            },
            "type": "scatter"
           }
          ],
          "scatter3d": [
           {
            "line": {
             "colorbar": {
              "outlinewidth": 0,
              "ticks": ""
             }
            },
            "marker": {
             "colorbar": {
              "outlinewidth": 0,
              "ticks": ""
             }
            },
            "type": "scatter3d"
           }
          ],
          "scattercarpet": [
           {
            "marker": {
             "colorbar": {
              "outlinewidth": 0,
              "ticks": ""
             }
            },
            "type": "scattercarpet"
           }
          ],
          "scattergeo": [
           {
            "marker": {
             "colorbar": {
              "outlinewidth": 0,
              "ticks": ""
             }
            },
            "type": "scattergeo"
           }
          ],
          "scattergl": [
           {
            "marker": {
             "colorbar": {
              "outlinewidth": 0,
              "ticks": ""
             }
            },
            "type": "scattergl"
           }
          ],
          "scattermapbox": [
           {
            "marker": {
             "colorbar": {
              "outlinewidth": 0,
              "ticks": ""
             }
            },
            "type": "scattermapbox"
           }
          ],
          "scatterpolar": [
           {
            "marker": {
             "colorbar": {
              "outlinewidth": 0,
              "ticks": ""
             }
            },
            "type": "scatterpolar"
           }
          ],
          "scatterpolargl": [
           {
            "marker": {
             "colorbar": {
              "outlinewidth": 0,
              "ticks": ""
             }
            },
            "type": "scatterpolargl"
           }
          ],
          "scatterternary": [
           {
            "marker": {
             "colorbar": {
              "outlinewidth": 0,
              "ticks": ""
             }
            },
            "type": "scatterternary"
           }
          ],
          "surface": [
           {
            "colorbar": {
             "outlinewidth": 0,
             "ticks": ""
            },
            "colorscale": [
             [
              0,
              "#0d0887"
             ],
             [
              0.1111111111111111,
              "#46039f"
             ],
             [
              0.2222222222222222,
              "#7201a8"
             ],
             [
              0.3333333333333333,
              "#9c179e"
             ],
             [
              0.4444444444444444,
              "#bd3786"
             ],
             [
              0.5555555555555556,
              "#d8576b"
             ],
             [
              0.6666666666666666,
              "#ed7953"
             ],
             [
              0.7777777777777778,
              "#fb9f3a"
             ],
             [
              0.8888888888888888,
              "#fdca26"
             ],
             [
              1,
              "#f0f921"
             ]
            ],
            "type": "surface"
           }
          ],
          "table": [
           {
            "cells": {
             "fill": {
              "color": "#EBF0F8"
             },
             "line": {
              "color": "white"
             }
            },
            "header": {
             "fill": {
              "color": "#C8D4E3"
             },
             "line": {
              "color": "white"
             }
            },
            "type": "table"
           }
          ]
         },
         "layout": {
          "annotationdefaults": {
           "arrowcolor": "#2a3f5f",
           "arrowhead": 0,
           "arrowwidth": 1
          },
          "autotypenumbers": "strict",
          "coloraxis": {
           "colorbar": {
            "outlinewidth": 0,
            "ticks": ""
           }
          },
          "colorscale": {
           "diverging": [
            [
             0,
             "#8e0152"
            ],
            [
             0.1,
             "#c51b7d"
            ],
            [
             0.2,
             "#de77ae"
            ],
            [
             0.3,
             "#f1b6da"
            ],
            [
             0.4,
             "#fde0ef"
            ],
            [
             0.5,
             "#f7f7f7"
            ],
            [
             0.6,
             "#e6f5d0"
            ],
            [
             0.7,
             "#b8e186"
            ],
            [
             0.8,
             "#7fbc41"
            ],
            [
             0.9,
             "#4d9221"
            ],
            [
             1,
             "#276419"
            ]
           ],
           "sequential": [
            [
             0,
             "#0d0887"
            ],
            [
             0.1111111111111111,
             "#46039f"
            ],
            [
             0.2222222222222222,
             "#7201a8"
            ],
            [
             0.3333333333333333,
             "#9c179e"
            ],
            [
             0.4444444444444444,
             "#bd3786"
            ],
            [
             0.5555555555555556,
             "#d8576b"
            ],
            [
             0.6666666666666666,
             "#ed7953"
            ],
            [
             0.7777777777777778,
             "#fb9f3a"
            ],
            [
             0.8888888888888888,
             "#fdca26"
            ],
            [
             1,
             "#f0f921"
            ]
           ],
           "sequentialminus": [
            [
             0,
             "#0d0887"
            ],
            [
             0.1111111111111111,
             "#46039f"
            ],
            [
             0.2222222222222222,
             "#7201a8"
            ],
            [
             0.3333333333333333,
             "#9c179e"
            ],
            [
             0.4444444444444444,
             "#bd3786"
            ],
            [
             0.5555555555555556,
             "#d8576b"
            ],
            [
             0.6666666666666666,
             "#ed7953"
            ],
            [
             0.7777777777777778,
             "#fb9f3a"
            ],
            [
             0.8888888888888888,
             "#fdca26"
            ],
            [
             1,
             "#f0f921"
            ]
           ]
          },
          "colorway": [
           "#636efa",
           "#EF553B",
           "#00cc96",
           "#ab63fa",
           "#FFA15A",
           "#19d3f3",
           "#FF6692",
           "#B6E880",
           "#FF97FF",
           "#FECB52"
          ],
          "font": {
           "color": "#2a3f5f"
          },
          "geo": {
           "bgcolor": "white",
           "lakecolor": "white",
           "landcolor": "#E5ECF6",
           "showlakes": true,
           "showland": true,
           "subunitcolor": "white"
          },
          "hoverlabel": {
           "align": "left"
          },
          "hovermode": "closest",
          "mapbox": {
           "style": "light"
          },
          "paper_bgcolor": "white",
          "plot_bgcolor": "#E5ECF6",
          "polar": {
           "angularaxis": {
            "gridcolor": "white",
            "linecolor": "white",
            "ticks": ""
           },
           "bgcolor": "#E5ECF6",
           "radialaxis": {
            "gridcolor": "white",
            "linecolor": "white",
            "ticks": ""
           }
          },
          "scene": {
           "xaxis": {
            "backgroundcolor": "#E5ECF6",
            "gridcolor": "white",
            "gridwidth": 2,
            "linecolor": "white",
            "showbackground": true,
            "ticks": "",
            "zerolinecolor": "white"
           },
           "yaxis": {
            "backgroundcolor": "#E5ECF6",
            "gridcolor": "white",
            "gridwidth": 2,
            "linecolor": "white",
            "showbackground": true,
            "ticks": "",
            "zerolinecolor": "white"
           },
           "zaxis": {
            "backgroundcolor": "#E5ECF6",
            "gridcolor": "white",
            "gridwidth": 2,
            "linecolor": "white",
            "showbackground": true,
            "ticks": "",
            "zerolinecolor": "white"
           }
          },
          "shapedefaults": {
           "line": {
            "color": "#2a3f5f"
           }
          },
          "ternary": {
           "aaxis": {
            "gridcolor": "white",
            "linecolor": "white",
            "ticks": ""
           },
           "baxis": {
            "gridcolor": "white",
            "linecolor": "white",
            "ticks": ""
           },
           "bgcolor": "#E5ECF6",
           "caxis": {
            "gridcolor": "white",
            "linecolor": "white",
            "ticks": ""
           }
          },
          "title": {
           "x": 0.05
          },
          "xaxis": {
           "automargin": true,
           "gridcolor": "white",
           "linecolor": "white",
           "ticks": "",
           "title": {
            "standoff": 15
           },
           "zerolinecolor": "white",
           "zerolinewidth": 2
          },
          "yaxis": {
           "automargin": true,
           "gridcolor": "white",
           "linecolor": "white",
           "ticks": "",
           "title": {
            "standoff": 15
           },
           "zerolinecolor": "white",
           "zerolinewidth": 2
          }
         }
        },
        "title": {
         "text": "Ground-truth distribution"
        },
        "width": 1200,
        "xaxis": {
         "anchor": "y",
         "categoryarray": [
          "very negative",
          "negative",
          "weakly negative",
          "Neutral",
          "weakly positive",
          "positive",
          "very positive"
         ],
         "categoryorder": "array",
         "domain": [
          0,
          0.45
         ]
        },
        "xaxis2": {
         "anchor": "y2",
         "categoryarray": [
          "very negative",
          "negative",
          "weakly negative",
          "Neutral",
          "weakly positive",
          "positive",
          "very positive"
         ],
         "categoryorder": "array",
         "domain": [
          0.55,
          1
         ]
        },
        "yaxis": {
         "anchor": "x",
         "domain": [
          0,
          1
         ]
        },
        "yaxis2": {
         "anchor": "x2",
         "domain": [
          0,
          1
         ]
        }
       }
      },
      "text/html": [
       "<div>                            <div id=\"6c4ea20c-7412-4470-9ca4-74c340e5f3c2\" class=\"plotly-graph-div\" style=\"height:500px; width:1200px;\"></div>            <script type=\"text/javascript\">                require([\"plotly\"], function(Plotly) {                    window.PLOTLYENV=window.PLOTLYENV || {};                                    if (document.getElementById(\"6c4ea20c-7412-4470-9ca4-74c340e5f3c2\")) {                    Plotly.newPlot(                        \"6c4ea20c-7412-4470-9ca4-74c340e5f3c2\",                        [{\"alignmentgroup\":\"True\",\"hovertemplate\":\"binary=%{x}<br>count=%{y}<extra></extra>\",\"legendgroup\":\"\",\"marker\":{\"color\":\"#636efa\",\"pattern\":{\"shape\":\"\"}},\"name\":\"\",\"offsetgroup\":\"\",\"orientation\":\"v\",\"showlegend\":false,\"textposition\":\"auto\",\"x\":[\"pos\",\"neg\",\"neg\",\"neg\",\"neg\",\"neg\",\"neg\",\"neg\",\"neg\",\"pos\",\"neg\",\"neg\",\"neg\",\"neg\",\"pos\",\"neg\",\"pos\",\"neg\",\"neg\",\"neg\",\"neg\",\"pos\",\"pos\",\"neg\",\"neg\",\"neg\",\"neg\",\"neg\",\"neg\",\"neg\",\"neg\",\"neg\",\"pos\",\"pos\",\"pos\",\"pos\",\"neg\",\"neg\",\"neg\",\"pos\",\"neg\",\"neg\",\"neg\",\"pos\",\"pos\",\"neg\",\"pos\",\"neg\",\"pos\",\"pos\",\"pos\",\"neg\",\"neg\",\"neg\",\"neg\",\"neg\",\"neg\",\"pos\",\"pos\",\"pos\",\"pos\",\"neg\",\"pos\",\"pos\",\"pos\",\"pos\",\"neg\",\"pos\",\"neg\",\"neg\",\"neg\",\"pos\",\"neg\",\"neg\",\"pos\",\"pos\",\"neg\",\"pos\",\"neg\",\"neg\",\"neg\",\"pos\",\"pos\",\"pos\",\"pos\",\"pos\",\"pos\",\"neg\",\"pos\",\"pos\",\"pos\",\"neg\",\"neg\",\"pos\",\"pos\",\"pos\",\"pos\",\"pos\",\"pos\",\"pos\",\"pos\",\"neg\",\"pos\",\"pos\",\"neg\",\"pos\",\"pos\",\"neg\",\"pos\",\"pos\",\"pos\",\"pos\",\"pos\",\"pos\",\"neg\",\"pos\",\"neg\",\"pos\",\"pos\",\"pos\",\"pos\",\"neg\",\"neg\",\"pos\",\"neg\",\"neg\",\"neg\",\"neg\",\"neg\",\"neg\",\"neg\",\"neg\",\"pos\",\"neg\",\"neg\",\"neg\",\"neg\",\"neg\",\"neg\",\"neg\",\"neg\",\"neg\",\"neg\",\"neg\",\"pos\",\"neg\",\"neg\",\"neg\",\"neg\",\"neg\",\"neg\",\"neg\",\"neg\",\"neg\",\"neg\",\"neg\",\"neg\",\"neg\",\"neg\",\"neg\",\"neg\",\"neg\",\"pos\",\"neg\",\"pos\",\"neg\",\"neg\",\"neg\",\"neg\",\"neg\",\"neg\",\"pos\",\"neg\",\"neg\",\"pos\",\"pos\",\"neg\",\"neg\",\"neg\",\"neg\",\"pos\",\"neg\",\"neg\",\"pos\",\"pos\",\"neg\",\"pos\",\"pos\",\"neg\",\"neg\",\"neg\",\"neg\",\"neg\",\"neg\",\"neg\",\"neg\",\"neg\",\"pos\",\"neg\",\"neg\",\"pos\",\"neg\",\"neg\",\"pos\",\"pos\",\"neg\",\"neg\",\"neg\",\"neg\",\"pos\",\"neg\",\"neg\",\"neg\",\"neg\",\"neg\",\"neg\",\"neg\",\"neg\",\"pos\",\"pos\",\"neg\",\"neg\",\"pos\",\"pos\",\"neg\",\"neg\",\"neg\",\"pos\",\"neg\",\"neg\",\"neg\",\"pos\",\"neg\",\"pos\",\"neg\",\"pos\",\"neg\",\"neg\",\"neg\",\"neg\",\"neg\",\"pos\",\"pos\",\"neg\",\"pos\",\"neg\",\"neg\",\"neg\",\"pos\",\"pos\",\"pos\",\"neg\",\"pos\",\"pos\",\"neg\",\"neg\",\"neg\",\"neg\",\"neg\",\"pos\",\"pos\",\"pos\",\"neg\",\"neg\",\"neg\",\"neg\",\"neg\",\"pos\",\"neg\",\"pos\",\"neg\",\"neg\",\"pos\",\"pos\",\"neg\",\"neg\",\"neg\",\"pos\",\"pos\",\"pos\",\"neg\",\"pos\",\"neg\",\"pos\",\"neg\",\"pos\",\"pos\",\"neg\",\"neg\",\"neg\",\"neg\",\"pos\",\"neg\",\"pos\",\"pos\",\"neg\",\"neg\",\"neg\",\"pos\",\"neg\",\"pos\",\"neg\",\"pos\",\"neg\",\"pos\",\"neg\",\"pos\",\"neg\",\"neg\",\"pos\",\"pos\",\"pos\",\"pos\",\"pos\",\"pos\",\"neg\",\"neg\",\"pos\",\"pos\",\"pos\",\"neg\",\"neg\",\"neg\",\"neg\",\"neg\",\"neg\",\"neg\",\"neg\",\"pos\",\"neg\",\"pos\",\"neg\",\"neg\",\"pos\",\"pos\",\"neg\",\"neg\",\"neg\",\"neg\",\"neg\",\"neg\",\"neg\",\"pos\",\"pos\",\"pos\",\"neg\",\"pos\",\"neg\",\"pos\",\"neg\",\"pos\",\"neg\",\"neg\",\"neg\",\"neg\",\"neg\",\"neg\",\"neg\",\"neg\",\"neg\",\"neg\",\"neg\",\"pos\",\"pos\",\"neg\",\"neg\",\"neg\",\"neg\",\"pos\",\"pos\",\"neg\",\"pos\",\"neg\",\"neg\",\"neg\",\"neg\",\"pos\",\"neg\",\"pos\",\"neg\",\"neg\",\"neg\",\"neg\",\"neg\",\"neg\",\"neg\",\"neg\",\"pos\",\"pos\",\"neg\",\"pos\",\"neg\",\"neg\",\"pos\",\"neg\",\"neg\",\"pos\",\"neg\",\"neg\",\"pos\",\"neg\",\"neg\",\"pos\",\"pos\",\"neg\",\"pos\",\"pos\",\"pos\",\"pos\",\"pos\",\"neg\",\"pos\",\"pos\",\"pos\",\"pos\",\"neg\",\"neg\",\"neg\",\"pos\",\"neg\",\"neg\",\"neg\",\"neg\",\"neg\",\"neg\",\"neg\",\"neg\",\"neg\",\"neg\",\"neg\",\"pos\",\"neg\",\"pos\",\"pos\",\"pos\",\"neg\",\"pos\",\"neg\",\"pos\",\"neg\",\"neg\",\"pos\",\"pos\",\"neg\",\"pos\",\"pos\",\"pos\",\"pos\",\"pos\",\"neg\",\"neg\",\"neg\",\"neg\",\"neg\",\"neg\",\"neg\",\"neg\",\"neg\",\"neg\",\"neg\",\"pos\",\"neg\",\"pos\",\"pos\",\"neg\",\"pos\",\"pos\",\"pos\",\"neg\",\"neg\",\"neg\",\"neg\",\"neg\",\"pos\",\"neg\",\"neg\",\"neg\",\"neg\",\"neg\",\"neg\",\"neg\",\"neg\",\"neg\",\"neg\",\"neg\",\"neg\",\"neg\",\"neg\",\"neg\",\"neg\",\"neg\",\"neg\",\"pos\",\"neg\",\"neg\",\"neg\",\"neg\",\"neg\",\"neg\",\"neg\",\"neg\",\"neg\",\"neg\",\"neg\",\"neg\",\"neg\",\"pos\",\"pos\",\"neg\",\"pos\",\"pos\",\"neg\",\"pos\",\"neg\",\"neg\",\"pos\",\"pos\",\"pos\",\"pos\",\"pos\",\"pos\",\"neg\",\"neg\",\"neg\",\"pos\",\"neg\",\"neg\",\"pos\",\"neg\",\"pos\",\"neg\",\"neg\",\"pos\",\"pos\",\"neg\",\"pos\",\"neg\",\"pos\",\"pos\",\"pos\",\"pos\",\"pos\",\"neg\",\"neg\",\"pos\",\"pos\",\"pos\",\"neg\",\"pos\",\"pos\",\"neg\",\"pos\",\"pos\",\"pos\",\"neg\",\"pos\",\"neg\",\"pos\",\"pos\",\"pos\",\"pos\",\"pos\",\"neg\",\"pos\",\"pos\",\"pos\",\"neg\",\"neg\",\"pos\",\"pos\",\"pos\",\"pos\",\"pos\",\"pos\",\"pos\",\"pos\",\"neg\",\"pos\",\"pos\",\"pos\",\"pos\",\"pos\",\"pos\",\"neg\",\"pos\",\"pos\",\"pos\",\"neg\",\"pos\",\"neg\",\"pos\",\"neg\",\"pos\",\"pos\",\"pos\",\"neg\",\"pos\",\"pos\",\"pos\",\"neg\",\"pos\",\"neg\",\"neg\",\"neg\",\"pos\",\"pos\",\"neg\",\"neg\",\"neg\",\"neg\",\"neg\",\"neg\",\"pos\",\"pos\",\"pos\",\"neg\",\"neg\",\"neg\",\"neg\",\"pos\",\"neg\",\"pos\",\"neg\",\"neg\",\"neg\",\"neg\",\"pos\",\"pos\",\"pos\",\"neg\",\"pos\",\"neg\",\"neg\",\"neg\",\"neg\",\"neg\",\"neg\",\"neg\",\"pos\",\"pos\",\"neg\",\"neg\",\"pos\",\"neg\",\"neg\",\"neg\",\"neg\",\"neg\",\"neg\",\"neg\",\"neg\",\"pos\",\"neg\",\"pos\",\"neg\",\"neg\",\"neg\",\"neg\",\"pos\",\"neg\",\"neg\",\"neg\",\"neg\",\"pos\",\"pos\",\"pos\",\"neg\",\"neg\",\"pos\",\"pos\",\"neg\",\"neg\",\"pos\",\"neg\",\"pos\",\"neg\",\"neg\",\"neg\",\"neg\",\"neg\",\"pos\",\"pos\",\"pos\",\"neg\",\"pos\",\"pos\"],\"xaxis\":\"x\",\"y\":[1,1,1,1,1,1,1,1,1,1,1,1,1,1,1,1,1,1,1,1,1,1,1,1,1,1,1,1,1,1,1,1,1,1,1,1,1,1,1,1,1,1,1,1,1,1,1,1,1,1,1,1,1,1,1,1,1,1,1,1,1,1,1,1,1,1,1,1,1,1,1,1,1,1,1,1,1,1,1,1,1,1,1,1,1,1,1,1,1,1,1,1,1,1,1,1,1,1,1,1,1,1,1,1,1,1,1,1,1,1,1,1,1,1,1,1,1,1,1,1,1,1,1,1,1,1,1,1,1,1,1,1,1,1,1,1,1,1,1,1,1,1,1,1,1,1,1,1,1,1,1,1,1,1,1,1,1,1,1,1,1,1,1,1,1,1,1,1,1,1,1,1,1,1,1,1,1,1,1,1,1,1,1,1,1,1,1,1,1,1,1,1,1,1,1,1,1,1,1,1,1,1,1,1,1,1,1,1,1,1,1,1,1,1,1,1,1,1,1,1,1,1,1,1,1,1,1,1,1,1,1,1,1,1,1,1,1,1,1,1,1,1,1,1,1,1,1,1,1,1,1,1,1,1,1,1,1,1,1,1,1,1,1,1,1,1,1,1,1,1,1,1,1,1,1,1,1,1,1,1,1,1,1,1,1,1,1,1,1,1,1,1,1,1,1,1,1,1,1,1,1,1,1,1,1,1,1,1,1,1,1,1,1,1,1,1,1,1,1,1,1,1,1,1,1,1,1,1,1,1,1,1,1,1,1,1,1,1,1,1,1,1,1,1,1,1,1,1,1,1,1,1,1,1,1,1,1,1,1,1,1,1,1,1,1,1,1,1,1,1,1,1,1,1,1,1,1,1,1,1,1,1,1,1,1,1,1,1,1,1,1,1,1,1,1,1,1,1,1,1,1,1,1,1,1,1,1,1,1,1,1,1,1,1,1,1,1,1,1,1,1,1,1,1,1,1,1,1,1,1,1,1,1,1,1,1,1,1,1,1,1,1,1,1,1,1,1,1,1,1,1,1,1,1,1,1,1,1,1,1,1,1,1,1,1,1,1,1,1,1,1,1,1,1,1,1,1,1,1,1,1,1,1,1,1,1,1,1,1,1,1,1,1,1,1,1,1,1,1,1,1,1,1,1,1,1,1,1,1,1,1,1,1,1,1,1,1,1,1,1,1,1,1,1,1,1,1,1,1,1,1,1,1,1,1,1,1,1,1,1,1,1,1,1,1,1,1,1,1,1,1,1,1,1,1,1,1,1,1,1,1,1,1,1,1,1,1,1,1,1,1,1,1,1,1,1,1,1,1,1,1,1,1,1,1,1,1,1,1,1,1,1,1,1,1,1,1,1,1,1,1,1,1,1,1,1,1,1,1,1,1,1,1,1,1,1,1,1,1,1,1,1,1,1,1,1,1,1,1,1,1,1,1,1,1,1,1,1,1,1,1,1,1,1,1,1,1,1,1,1,1,1,1,1,1,1,1,1,1,1,1,1,1,1,1,1,1,1,1,1,1,1,1,1,1,1,1,1,1,1,1,1,1,1,1,1],\"yaxis\":\"y\",\"type\":\"bar\"},{\"alignmentgroup\":\"True\",\"hovertemplate\":\"7_class=%{x}<br>count=%{y}<extra></extra>\",\"legendgroup\":\"\",\"marker\":{\"color\":\"#636efa\",\"pattern\":{\"shape\":\"\"}},\"name\":\"\",\"offsetgroup\":\"\",\"orientation\":\"v\",\"showlegend\":false,\"textposition\":\"auto\",\"x\":[\"weakly positive\",\"very negative\",\"Neutral\",\"negative\",\"very negative\",\"negative\",\"weakly negative\",\"negative\",\"negative\",\"positive\",\"very negative\",\"very negative\",\"very negative\",\"weakly negative\",\"weakly positive\",\"weakly negative\",\"weakly positive\",\"very negative\",\"very negative\",\"Neutral\",\"very negative\",\"weakly positive\",\"weakly positive\",\"very negative\",\"negative\",\"weakly negative\",\"negative\",\"very negative\",\"very negative\",\"very negative\",\"negative\",\"very negative\",\"very positive\",\"positive\",\"weakly positive\",\"very positive\",\"very negative\",\"very negative\",\"weakly negative\",\"very positive\",\"weakly negative\",\"Neutral\",\"weakly negative\",\"positive\",\"very positive\",\"weakly negative\",\"very positive\",\"very negative\",\"very positive\",\"weakly positive\",\"very positive\",\"weakly negative\",\"very negative\",\"very negative\",\"weakly negative\",\"very negative\",\"negative\",\"weakly positive\",\"positive\",\"positive\",\"positive\",\"negative\",\"positive\",\"weakly positive\",\"Neutral\",\"weakly positive\",\"weakly negative\",\"positive\",\"weakly negative\",\"weakly negative\",\"weakly negative\",\"positive\",\"weakly negative\",\"Neutral\",\"positive\",\"weakly positive\",\"weakly negative\",\"very positive\",\"Neutral\",\"weakly negative\",\"weakly negative\",\"very positive\",\"weakly positive\",\"positive\",\"positive\",\"positive\",\"positive\",\"weakly negative\",\"very positive\",\"weakly positive\",\"Neutral\",\"weakly negative\",\"Neutral\",\"positive\",\"Neutral\",\"very positive\",\"Neutral\",\"positive\",\"Neutral\",\"very positive\",\"positive\",\"weakly negative\",\"positive\",\"positive\",\"weakly negative\",\"Neutral\",\"Neutral\",\"very negative\",\"very positive\",\"Neutral\",\"positive\",\"positive\",\"weakly positive\",\"weakly positive\",\"very negative\",\"positive\",\"negative\",\"very positive\",\"positive\",\"very positive\",\"very positive\",\"negative\",\"negative\",\"weakly positive\",\"negative\",\"Neutral\",\"very negative\",\"negative\",\"negative\",\"weakly negative\",\"negative\",\"very negative\",\"weakly positive\",\"negative\",\"negative\",\"very negative\",\"very negative\",\"weakly negative\",\"weakly negative\",\"negative\",\"negative\",\"very negative\",\"very negative\",\"very negative\",\"positive\",\"very negative\",\"weakly negative\",\"negative\",\"weakly negative\",\"very negative\",\"negative\",\"negative\",\"very negative\",\"very negative\",\"very negative\",\"negative\",\"very negative\",\"very negative\",\"very negative\",\"very negative\",\"weakly negative\",\"very negative\",\"Neutral\",\"weakly negative\",\"weakly positive\",\"Neutral\",\"weakly negative\",\"Neutral\",\"very negative\",\"negative\",\"weakly negative\",\"weakly positive\",\"weakly negative\",\"negative\",\"weakly positive\",\"weakly positive\",\"negative\",\"Neutral\",\"negative\",\"very negative\",\"Neutral\",\"negative\",\"negative\",\"weakly positive\",\"weakly positive\",\"negative\",\"weakly positive\",\"weakly positive\",\"very negative\",\"negative\",\"weakly negative\",\"weakly negative\",\"very negative\",\"weakly negative\",\"weakly negative\",\"negative\",\"weakly negative\",\"positive\",\"Neutral\",\"negative\",\"positive\",\"negative\",\"weakly negative\",\"weakly positive\",\"positive\",\"very negative\",\"very negative\",\"negative\",\"Neutral\",\"positive\",\"very negative\",\"weakly negative\",\"negative\",\"weakly negative\",\"negative\",\"weakly negative\",\"very negative\",\"weakly negative\",\"weakly positive\",\"Neutral\",\"negative\",\"weakly negative\",\"weakly positive\",\"positive\",\"weakly negative\",\"weakly negative\",\"Neutral\",\"weakly positive\",\"Neutral\",\"weakly negative\",\"Neutral\",\"weakly positive\",\"Neutral\",\"Neutral\",\"weakly negative\",\"positive\",\"Neutral\",\"Neutral\",\"very negative\",\"Neutral\",\"weakly negative\",\"positive\",\"weakly positive\",\"very negative\",\"weakly positive\",\"Neutral\",\"very negative\",\"Neutral\",\"positive\",\"positive\",\"weakly positive\",\"negative\",\"Neutral\",\"weakly positive\",\"very negative\",\"weakly negative\",\"Neutral\",\"negative\",\"negative\",\"weakly positive\",\"very positive\",\"very positive\",\"Neutral\",\"weakly negative\",\"negative\",\"weakly negative\",\"weakly negative\",\"Neutral\",\"weakly negative\",\"positive\",\"very negative\",\"weakly negative\",\"weakly positive\",\"weakly positive\",\"weakly negative\",\"negative\",\"weakly negative\",\"positive\",\"weakly positive\",\"very positive\",\"negative\",\"Neutral\",\"Neutral\",\"positive\",\"Neutral\",\"very positive\",\"very positive\",\"Neutral\",\"negative\",\"weakly negative\",\"weakly negative\",\"Neutral\",\"very negative\",\"positive\",\"weakly positive\",\"negative\",\"weakly negative\",\"negative\",\"weakly positive\",\"negative\",\"weakly positive\",\"negative\",\"positive\",\"very negative\",\"weakly positive\",\"very negative\",\"very positive\",\"negative\",\"negative\",\"positive\",\"positive\",\"weakly positive\",\"Neutral\",\"weakly positive\",\"Neutral\",\"very negative\",\"very negative\",\"weakly positive\",\"weakly positive\",\"weakly positive\",\"very negative\",\"very negative\",\"negative\",\"very negative\",\"weakly negative\",\"weakly negative\",\"weakly negative\",\"negative\",\"Neutral\",\"weakly negative\",\"Neutral\",\"Neutral\",\"weakly negative\",\"Neutral\",\"positive\",\"very negative\",\"weakly negative\",\"very negative\",\"negative\",\"very negative\",\"negative\",\"Neutral\",\"very positive\",\"Neutral\",\"weakly positive\",\"negative\",\"positive\",\"very negative\",\"very positive\",\"Neutral\",\"positive\",\"negative\",\"very negative\",\"negative\",\"negative\",\"weakly negative\",\"negative\",\"weakly negative\",\"very negative\",\"negative\",\"very negative\",\"negative\",\"weakly positive\",\"weakly positive\",\"very negative\",\"very negative\",\"very negative\",\"Neutral\",\"positive\",\"very positive\",\"Neutral\",\"positive\",\"Neutral\",\"Neutral\",\"very negative\",\"weakly negative\",\"weakly positive\",\"negative\",\"weakly positive\",\"negative\",\"very negative\",\"negative\",\"weakly negative\",\"negative\",\"negative\",\"negative\",\"very negative\",\"weakly positive\",\"weakly positive\",\"negative\",\"weakly positive\",\"negative\",\"weakly negative\",\"Neutral\",\"negative\",\"Neutral\",\"weakly positive\",\"very negative\",\"weakly negative\",\"weakly positive\",\"negative\",\"negative\",\"positive\",\"very positive\",\"weakly negative\",\"weakly positive\",\"positive\",\"weakly positive\",\"positive\",\"weakly positive\",\"weakly negative\",\"positive\",\"weakly positive\",\"positive\",\"Neutral\",\"negative\",\"very negative\",\"very negative\",\"positive\",\"negative\",\"weakly negative\",\"negative\",\"negative\",\"Neutral\",\"weakly negative\",\"negative\",\"negative\",\"negative\",\"negative\",\"weakly negative\",\"weakly positive\",\"negative\",\"positive\",\"positive\",\"weakly positive\",\"negative\",\"weakly positive\",\"negative\",\"very positive\",\"negative\",\"weakly negative\",\"positive\",\"weakly positive\",\"negative\",\"positive\",\"weakly positive\",\"very positive\",\"positive\",\"weakly positive\",\"weakly negative\",\"very negative\",\"very negative\",\"negative\",\"very negative\",\"very negative\",\"weakly negative\",\"negative\",\"weakly negative\",\"negative\",\"very negative\",\"very positive\",\"negative\",\"positive\",\"weakly positive\",\"very negative\",\"very positive\",\"Neutral\",\"very positive\",\"negative\",\"weakly negative\",\"very negative\",\"very negative\",\"very negative\",\"very positive\",\"Neutral\",\"negative\",\"negative\",\"negative\",\"very negative\",\"negative\",\"negative\",\"very negative\",\"Neutral\",\"negative\",\"weakly negative\",\"negative\",\"negative\",\"very negative\",\"very negative\",\"Neutral\",\"weakly negative\",\"negative\",\"Neutral\",\"negative\",\"weakly negative\",\"negative\",\"Neutral\",\"very negative\",\"negative\",\"negative\",\"negative\",\"Neutral\",\"negative\",\"very negative\",\"negative\",\"negative\",\"positive\",\"positive\",\"very negative\",\"weakly positive\",\"weakly positive\",\"weakly negative\",\"positive\",\"weakly negative\",\"negative\",\"very positive\",\"positive\",\"positive\",\"positive\",\"weakly positive\",\"Neutral\",\"Neutral\",\"weakly negative\",\"negative\",\"weakly positive\",\"Neutral\",\"negative\",\"very positive\",\"Neutral\",\"positive\",\"negative\",\"weakly negative\",\"very positive\",\"very positive\",\"very negative\",\"Neutral\",\"weakly negative\",\"positive\",\"positive\",\"positive\",\"very positive\",\"positive\",\"Neutral\",\"Neutral\",\"Neutral\",\"very positive\",\"Neutral\",\"very negative\",\"positive\",\"weakly positive\",\"weakly negative\",\"very positive\",\"very positive\",\"positive\",\"negative\",\"very positive\",\"negative\",\"positive\",\"weakly positive\",\"very positive\",\"weakly positive\",\"positive\",\"Neutral\",\"positive\",\"very positive\",\"weakly positive\",\"Neutral\",\"Neutral\",\"positive\",\"weakly positive\",\"positive\",\"very positive\",\"very positive\",\"positive\",\"Neutral\",\"weakly positive\",\"Neutral\",\"positive\",\"positive\",\"positive\",\"very positive\",\"weakly positive\",\"positive\",\"weakly negative\",\"positive\",\"positive\",\"weakly positive\",\"weakly negative\",\"Neutral\",\"weakly negative\",\"positive\",\"Neutral\",\"positive\",\"Neutral\",\"positive\",\"weakly negative\",\"weakly positive\",\"positive\",\"weakly positive\",\"weakly negative\",\"positive\",\"negative\",\"Neutral\",\"negative\",\"positive\",\"weakly positive\",\"Neutral\",\"Neutral\",\"weakly negative\",\"weakly negative\",\"weakly negative\",\"negative\",\"Neutral\",\"Neutral\",\"very positive\",\"negative\",\"negative\",\"negative\",\"Neutral\",\"weakly positive\",\"negative\",\"weakly positive\",\"weakly negative\",\"Neutral\",\"negative\",\"weakly negative\",\"Neutral\",\"positive\",\"weakly positive\",\"negative\",\"very positive\",\"weakly negative\",\"Neutral\",\"weakly negative\",\"negative\",\"negative\",\"weakly negative\",\"negative\",\"positive\",\"Neutral\",\"weakly negative\",\"negative\",\"weakly positive\",\"negative\",\"negative\",\"very negative\",\"negative\",\"very negative\",\"negative\",\"negative\",\"negative\",\"positive\",\"weakly negative\",\"positive\",\"weakly negative\",\"weakly negative\",\"weakly negative\",\"negative\",\"weakly positive\",\"weakly negative\",\"negative\",\"negative\",\"very negative\",\"positive\",\"weakly positive\",\"weakly positive\",\"negative\",\"negative\",\"weakly positive\",\"weakly positive\",\"negative\",\"weakly negative\",\"weakly positive\",\"weakly negative\",\"weakly positive\",\"Neutral\",\"weakly negative\",\"weakly negative\",\"negative\",\"Neutral\",\"weakly positive\",\"positive\",\"weakly positive\",\"Neutral\",\"weakly positive\",\"weakly positive\"],\"xaxis\":\"x2\",\"y\":[1,1,1,1,1,1,1,1,1,1,1,1,1,1,1,1,1,1,1,1,1,1,1,1,1,1,1,1,1,1,1,1,1,1,1,1,1,1,1,1,1,1,1,1,1,1,1,1,1,1,1,1,1,1,1,1,1,1,1,1,1,1,1,1,1,1,1,1,1,1,1,1,1,1,1,1,1,1,1,1,1,1,1,1,1,1,1,1,1,1,1,1,1,1,1,1,1,1,1,1,1,1,1,1,1,1,1,1,1,1,1,1,1,1,1,1,1,1,1,1,1,1,1,1,1,1,1,1,1,1,1,1,1,1,1,1,1,1,1,1,1,1,1,1,1,1,1,1,1,1,1,1,1,1,1,1,1,1,1,1,1,1,1,1,1,1,1,1,1,1,1,1,1,1,1,1,1,1,1,1,1,1,1,1,1,1,1,1,1,1,1,1,1,1,1,1,1,1,1,1,1,1,1,1,1,1,1,1,1,1,1,1,1,1,1,1,1,1,1,1,1,1,1,1,1,1,1,1,1,1,1,1,1,1,1,1,1,1,1,1,1,1,1,1,1,1,1,1,1,1,1,1,1,1,1,1,1,1,1,1,1,1,1,1,1,1,1,1,1,1,1,1,1,1,1,1,1,1,1,1,1,1,1,1,1,1,1,1,1,1,1,1,1,1,1,1,1,1,1,1,1,1,1,1,1,1,1,1,1,1,1,1,1,1,1,1,1,1,1,1,1,1,1,1,1,1,1,1,1,1,1,1,1,1,1,1,1,1,1,1,1,1,1,1,1,1,1,1,1,1,1,1,1,1,1,1,1,1,1,1,1,1,1,1,1,1,1,1,1,1,1,1,1,1,1,1,1,1,1,1,1,1,1,1,1,1,1,1,1,1,1,1,1,1,1,1,1,1,1,1,1,1,1,1,1,1,1,1,1,1,1,1,1,1,1,1,1,1,1,1,1,1,1,1,1,1,1,1,1,1,1,1,1,1,1,1,1,1,1,1,1,1,1,1,1,1,1,1,1,1,1,1,1,1,1,1,1,1,1,1,1,1,1,1,1,1,1,1,1,1,1,1,1,1,1,1,1,1,1,1,1,1,1,1,1,1,1,1,1,1,1,1,1,1,1,1,1,1,1,1,1,1,1,1,1,1,1,1,1,1,1,1,1,1,1,1,1,1,1,1,1,1,1,1,1,1,1,1,1,1,1,1,1,1,1,1,1,1,1,1,1,1,1,1,1,1,1,1,1,1,1,1,1,1,1,1,1,1,1,1,1,1,1,1,1,1,1,1,1,1,1,1,1,1,1,1,1,1,1,1,1,1,1,1,1,1,1,1,1,1,1,1,1,1,1,1,1,1,1,1,1,1,1,1,1,1,1,1,1,1,1,1,1,1,1,1,1,1,1,1,1,1,1,1,1,1,1,1,1,1,1,1,1,1,1,1,1,1,1,1,1,1,1,1,1,1,1,1,1,1,1,1,1,1,1,1,1,1,1,1,1,1,1,1,1,1,1,1,1,1,1,1,1,1,1,1,1,1,1,1,1,1,1,1,1,1],\"yaxis\":\"y2\",\"type\":\"bar\"}],                        {\"template\":{\"data\":{\"histogram2dcontour\":[{\"type\":\"histogram2dcontour\",\"colorbar\":{\"outlinewidth\":0,\"ticks\":\"\"},\"colorscale\":[[0.0,\"#0d0887\"],[0.1111111111111111,\"#46039f\"],[0.2222222222222222,\"#7201a8\"],[0.3333333333333333,\"#9c179e\"],[0.4444444444444444,\"#bd3786\"],[0.5555555555555556,\"#d8576b\"],[0.6666666666666666,\"#ed7953\"],[0.7777777777777778,\"#fb9f3a\"],[0.8888888888888888,\"#fdca26\"],[1.0,\"#f0f921\"]]}],\"choropleth\":[{\"type\":\"choropleth\",\"colorbar\":{\"outlinewidth\":0,\"ticks\":\"\"}}],\"histogram2d\":[{\"type\":\"histogram2d\",\"colorbar\":{\"outlinewidth\":0,\"ticks\":\"\"},\"colorscale\":[[0.0,\"#0d0887\"],[0.1111111111111111,\"#46039f\"],[0.2222222222222222,\"#7201a8\"],[0.3333333333333333,\"#9c179e\"],[0.4444444444444444,\"#bd3786\"],[0.5555555555555556,\"#d8576b\"],[0.6666666666666666,\"#ed7953\"],[0.7777777777777778,\"#fb9f3a\"],[0.8888888888888888,\"#fdca26\"],[1.0,\"#f0f921\"]]}],\"heatmap\":[{\"type\":\"heatmap\",\"colorbar\":{\"outlinewidth\":0,\"ticks\":\"\"},\"colorscale\":[[0.0,\"#0d0887\"],[0.1111111111111111,\"#46039f\"],[0.2222222222222222,\"#7201a8\"],[0.3333333333333333,\"#9c179e\"],[0.4444444444444444,\"#bd3786\"],[0.5555555555555556,\"#d8576b\"],[0.6666666666666666,\"#ed7953\"],[0.7777777777777778,\"#fb9f3a\"],[0.8888888888888888,\"#fdca26\"],[1.0,\"#f0f921\"]]}],\"heatmapgl\":[{\"type\":\"heatmapgl\",\"colorbar\":{\"outlinewidth\":0,\"ticks\":\"\"},\"colorscale\":[[0.0,\"#0d0887\"],[0.1111111111111111,\"#46039f\"],[0.2222222222222222,\"#7201a8\"],[0.3333333333333333,\"#9c179e\"],[0.4444444444444444,\"#bd3786\"],[0.5555555555555556,\"#d8576b\"],[0.6666666666666666,\"#ed7953\"],[0.7777777777777778,\"#fb9f3a\"],[0.8888888888888888,\"#fdca26\"],[1.0,\"#f0f921\"]]}],\"contourcarpet\":[{\"type\":\"contourcarpet\",\"colorbar\":{\"outlinewidth\":0,\"ticks\":\"\"}}],\"contour\":[{\"type\":\"contour\",\"colorbar\":{\"outlinewidth\":0,\"ticks\":\"\"},\"colorscale\":[[0.0,\"#0d0887\"],[0.1111111111111111,\"#46039f\"],[0.2222222222222222,\"#7201a8\"],[0.3333333333333333,\"#9c179e\"],[0.4444444444444444,\"#bd3786\"],[0.5555555555555556,\"#d8576b\"],[0.6666666666666666,\"#ed7953\"],[0.7777777777777778,\"#fb9f3a\"],[0.8888888888888888,\"#fdca26\"],[1.0,\"#f0f921\"]]}],\"surface\":[{\"type\":\"surface\",\"colorbar\":{\"outlinewidth\":0,\"ticks\":\"\"},\"colorscale\":[[0.0,\"#0d0887\"],[0.1111111111111111,\"#46039f\"],[0.2222222222222222,\"#7201a8\"],[0.3333333333333333,\"#9c179e\"],[0.4444444444444444,\"#bd3786\"],[0.5555555555555556,\"#d8576b\"],[0.6666666666666666,\"#ed7953\"],[0.7777777777777778,\"#fb9f3a\"],[0.8888888888888888,\"#fdca26\"],[1.0,\"#f0f921\"]]}],\"mesh3d\":[{\"type\":\"mesh3d\",\"colorbar\":{\"outlinewidth\":0,\"ticks\":\"\"}}],\"scatter\":[{\"fillpattern\":{\"fillmode\":\"overlay\",\"size\":10,\"solidity\":0.2},\"type\":\"scatter\"}],\"parcoords\":[{\"type\":\"parcoords\",\"line\":{\"colorbar\":{\"outlinewidth\":0,\"ticks\":\"\"}}}],\"scatterpolargl\":[{\"type\":\"scatterpolargl\",\"marker\":{\"colorbar\":{\"outlinewidth\":0,\"ticks\":\"\"}}}],\"bar\":[{\"error_x\":{\"color\":\"#2a3f5f\"},\"error_y\":{\"color\":\"#2a3f5f\"},\"marker\":{\"line\":{\"color\":\"#E5ECF6\",\"width\":0.5},\"pattern\":{\"fillmode\":\"overlay\",\"size\":10,\"solidity\":0.2}},\"type\":\"bar\"}],\"scattergeo\":[{\"type\":\"scattergeo\",\"marker\":{\"colorbar\":{\"outlinewidth\":0,\"ticks\":\"\"}}}],\"scatterpolar\":[{\"type\":\"scatterpolar\",\"marker\":{\"colorbar\":{\"outlinewidth\":0,\"ticks\":\"\"}}}],\"histogram\":[{\"marker\":{\"pattern\":{\"fillmode\":\"overlay\",\"size\":10,\"solidity\":0.2}},\"type\":\"histogram\"}],\"scattergl\":[{\"type\":\"scattergl\",\"marker\":{\"colorbar\":{\"outlinewidth\":0,\"ticks\":\"\"}}}],\"scatter3d\":[{\"type\":\"scatter3d\",\"line\":{\"colorbar\":{\"outlinewidth\":0,\"ticks\":\"\"}},\"marker\":{\"colorbar\":{\"outlinewidth\":0,\"ticks\":\"\"}}}],\"scattermapbox\":[{\"type\":\"scattermapbox\",\"marker\":{\"colorbar\":{\"outlinewidth\":0,\"ticks\":\"\"}}}],\"scatterternary\":[{\"type\":\"scatterternary\",\"marker\":{\"colorbar\":{\"outlinewidth\":0,\"ticks\":\"\"}}}],\"scattercarpet\":[{\"type\":\"scattercarpet\",\"marker\":{\"colorbar\":{\"outlinewidth\":0,\"ticks\":\"\"}}}],\"carpet\":[{\"aaxis\":{\"endlinecolor\":\"#2a3f5f\",\"gridcolor\":\"white\",\"linecolor\":\"white\",\"minorgridcolor\":\"white\",\"startlinecolor\":\"#2a3f5f\"},\"baxis\":{\"endlinecolor\":\"#2a3f5f\",\"gridcolor\":\"white\",\"linecolor\":\"white\",\"minorgridcolor\":\"white\",\"startlinecolor\":\"#2a3f5f\"},\"type\":\"carpet\"}],\"table\":[{\"cells\":{\"fill\":{\"color\":\"#EBF0F8\"},\"line\":{\"color\":\"white\"}},\"header\":{\"fill\":{\"color\":\"#C8D4E3\"},\"line\":{\"color\":\"white\"}},\"type\":\"table\"}],\"barpolar\":[{\"marker\":{\"line\":{\"color\":\"#E5ECF6\",\"width\":0.5},\"pattern\":{\"fillmode\":\"overlay\",\"size\":10,\"solidity\":0.2}},\"type\":\"barpolar\"}],\"pie\":[{\"automargin\":true,\"type\":\"pie\"}]},\"layout\":{\"autotypenumbers\":\"strict\",\"colorway\":[\"#636efa\",\"#EF553B\",\"#00cc96\",\"#ab63fa\",\"#FFA15A\",\"#19d3f3\",\"#FF6692\",\"#B6E880\",\"#FF97FF\",\"#FECB52\"],\"font\":{\"color\":\"#2a3f5f\"},\"hovermode\":\"closest\",\"hoverlabel\":{\"align\":\"left\"},\"paper_bgcolor\":\"white\",\"plot_bgcolor\":\"#E5ECF6\",\"polar\":{\"bgcolor\":\"#E5ECF6\",\"angularaxis\":{\"gridcolor\":\"white\",\"linecolor\":\"white\",\"ticks\":\"\"},\"radialaxis\":{\"gridcolor\":\"white\",\"linecolor\":\"white\",\"ticks\":\"\"}},\"ternary\":{\"bgcolor\":\"#E5ECF6\",\"aaxis\":{\"gridcolor\":\"white\",\"linecolor\":\"white\",\"ticks\":\"\"},\"baxis\":{\"gridcolor\":\"white\",\"linecolor\":\"white\",\"ticks\":\"\"},\"caxis\":{\"gridcolor\":\"white\",\"linecolor\":\"white\",\"ticks\":\"\"}},\"coloraxis\":{\"colorbar\":{\"outlinewidth\":0,\"ticks\":\"\"}},\"colorscale\":{\"sequential\":[[0.0,\"#0d0887\"],[0.1111111111111111,\"#46039f\"],[0.2222222222222222,\"#7201a8\"],[0.3333333333333333,\"#9c179e\"],[0.4444444444444444,\"#bd3786\"],[0.5555555555555556,\"#d8576b\"],[0.6666666666666666,\"#ed7953\"],[0.7777777777777778,\"#fb9f3a\"],[0.8888888888888888,\"#fdca26\"],[1.0,\"#f0f921\"]],\"sequentialminus\":[[0.0,\"#0d0887\"],[0.1111111111111111,\"#46039f\"],[0.2222222222222222,\"#7201a8\"],[0.3333333333333333,\"#9c179e\"],[0.4444444444444444,\"#bd3786\"],[0.5555555555555556,\"#d8576b\"],[0.6666666666666666,\"#ed7953\"],[0.7777777777777778,\"#fb9f3a\"],[0.8888888888888888,\"#fdca26\"],[1.0,\"#f0f921\"]],\"diverging\":[[0,\"#8e0152\"],[0.1,\"#c51b7d\"],[0.2,\"#de77ae\"],[0.3,\"#f1b6da\"],[0.4,\"#fde0ef\"],[0.5,\"#f7f7f7\"],[0.6,\"#e6f5d0\"],[0.7,\"#b8e186\"],[0.8,\"#7fbc41\"],[0.9,\"#4d9221\"],[1,\"#276419\"]]},\"xaxis\":{\"gridcolor\":\"white\",\"linecolor\":\"white\",\"ticks\":\"\",\"title\":{\"standoff\":15},\"zerolinecolor\":\"white\",\"automargin\":true,\"zerolinewidth\":2},\"yaxis\":{\"gridcolor\":\"white\",\"linecolor\":\"white\",\"ticks\":\"\",\"title\":{\"standoff\":15},\"zerolinecolor\":\"white\",\"automargin\":true,\"zerolinewidth\":2},\"scene\":{\"xaxis\":{\"backgroundcolor\":\"#E5ECF6\",\"gridcolor\":\"white\",\"linecolor\":\"white\",\"showbackground\":true,\"ticks\":\"\",\"zerolinecolor\":\"white\",\"gridwidth\":2},\"yaxis\":{\"backgroundcolor\":\"#E5ECF6\",\"gridcolor\":\"white\",\"linecolor\":\"white\",\"showbackground\":true,\"ticks\":\"\",\"zerolinecolor\":\"white\",\"gridwidth\":2},\"zaxis\":{\"backgroundcolor\":\"#E5ECF6\",\"gridcolor\":\"white\",\"linecolor\":\"white\",\"showbackground\":true,\"ticks\":\"\",\"zerolinecolor\":\"white\",\"gridwidth\":2}},\"shapedefaults\":{\"line\":{\"color\":\"#2a3f5f\"}},\"annotationdefaults\":{\"arrowcolor\":\"#2a3f5f\",\"arrowhead\":0,\"arrowwidth\":1},\"geo\":{\"bgcolor\":\"white\",\"landcolor\":\"#E5ECF6\",\"subunitcolor\":\"white\",\"showland\":true,\"showlakes\":true,\"lakecolor\":\"white\"},\"title\":{\"x\":0.05},\"mapbox\":{\"style\":\"light\"}}},\"xaxis\":{\"anchor\":\"y\",\"domain\":[0.0,0.45],\"categoryorder\":\"array\",\"categoryarray\":[\"very negative\",\"negative\",\"weakly negative\",\"Neutral\",\"weakly positive\",\"positive\",\"very positive\"]},\"yaxis\":{\"anchor\":\"x\",\"domain\":[0.0,1.0]},\"xaxis2\":{\"anchor\":\"y2\",\"domain\":[0.55,1.0],\"categoryorder\":\"array\",\"categoryarray\":[\"very negative\",\"negative\",\"weakly negative\",\"Neutral\",\"weakly positive\",\"positive\",\"very positive\"]},\"yaxis2\":{\"anchor\":\"x2\",\"domain\":[0.0,1.0]},\"annotations\":[{\"font\":{\"size\":16},\"showarrow\":false,\"text\":\"Binary\",\"x\":0.225,\"xanchor\":\"center\",\"xref\":\"paper\",\"y\":1.0,\"yanchor\":\"bottom\",\"yref\":\"paper\"},{\"font\":{\"size\":16},\"showarrow\":false,\"text\":\"7-class\",\"x\":0.775,\"xanchor\":\"center\",\"xref\":\"paper\",\"y\":1.0,\"yanchor\":\"bottom\",\"yref\":\"paper\"}],\"title\":{\"text\":\"Ground-truth distribution\"},\"height\":500,\"width\":1200},                        {\"responsive\": true}                    ).then(function(){\n",
       "                            \n",
       "var gd = document.getElementById('6c4ea20c-7412-4470-9ca4-74c340e5f3c2');\n",
       "var x = new MutationObserver(function (mutations, observer) {{\n",
       "        var display = window.getComputedStyle(gd).display;\n",
       "        if (!display || display === 'none') {{\n",
       "            console.log([gd, 'removed!']);\n",
       "            Plotly.purge(gd);\n",
       "            observer.disconnect();\n",
       "        }}\n",
       "}});\n",
       "\n",
       "// Listen for the removal of the full notebook cells\n",
       "var notebookContainer = gd.closest('#notebook-container');\n",
       "if (notebookContainer) {{\n",
       "    x.observe(notebookContainer, {childList: true});\n",
       "}}\n",
       "\n",
       "// Listen for the clearing of the current output cell\n",
       "var outputEl = gd.closest('.output');\n",
       "if (outputEl) {{\n",
       "    x.observe(outputEl, {childList: true});\n",
       "}}\n",
       "\n",
       "                        })                };                });            </script>        </div>"
      ]
     },
     "metadata": {},
     "output_type": "display_data"
    }
   ],
   "source": [
    "import plotly.express as px\n",
    "import plotly.subplots as sp\n",
    "import pandas as pd\n",
    "\n",
    "d = {'binary': tfn['labels_2'], '7_class': tfn['labels_7']}\n",
    "df = pd.DataFrame(data=d)\n",
    "order = ['very negative', 'negative', 'weakly negative', 'Neutral', 'weakly positive', 'positive', 'very positive']\n",
    "\n",
    "fig1 = px.bar(df, x='binary')\n",
    "fig2 = px.bar(df, x='7_class')\n",
    "\n",
    "fig1_traces = []\n",
    "fig2_traces = []\n",
    "\n",
    "for trace in range(len(fig1[\"data\"])):\n",
    "    fig1_traces.append(fig1[\"data\"][trace])\n",
    "for trace in range(len(fig2[\"data\"])):\n",
    "    fig2_traces.append(fig2[\"data\"][trace])\n",
    "\n",
    "this_figure = sp.make_subplots(rows=1, cols=2, subplot_titles=(\"Binary\", \"7-class\"))\n",
    "for traces in fig1_traces:\n",
    "    this_figure.append_trace(traces, row=1, col=1)\n",
    "for traces in fig2_traces:\n",
    "    this_figure.append_trace(traces, row=1, col=2,)\n",
    "\n",
    "this_figure.update_xaxes(categoryorder='array', categoryarray= order)\n",
    "this_figure.update_layout(height=500, width=1200, title_text=\"Ground-truth distribution\")\n",
    "# this_figure.update_yaxes(range=[0,420])\n",
    "this_figure.show()"
   ]
  },
  {
   "cell_type": "markdown",
   "metadata": {},
   "source": [
    "### 2. Fusion result distribution"
   ]
  },
  {
   "cell_type": "code",
   "execution_count": 45,
   "metadata": {},
   "outputs": [
    {
     "data": {
      "application/vnd.plotly.v1+json": {
       "config": {
        "plotlyServerURL": "https://plot.ly"
       },
       "data": [
        {
         "alignmentgroup": "True",
         "hovertemplate": "preds_7=%{x}<br>count=%{y}<extra></extra>",
         "legendgroup": "",
         "marker": {
          "color": "#636efa",
          "pattern": {
           "shape": ""
          }
         },
         "name": "",
         "offsetgroup": "",
         "orientation": "v",
         "showlegend": false,
         "textposition": "auto",
         "type": "bar",
         "x": [
          "weakly positive",
          "weakly positive",
          "Neutral",
          "weakly positive",
          "weakly negative",
          "Neutral",
          "Neutral",
          "weakly positive",
          "Neutral",
          "weakly positive",
          "positive",
          "weakly negative",
          "weakly negative",
          "Neutral",
          "Neutral",
          "Neutral",
          "Neutral",
          "Neutral",
          "weakly negative",
          "weakly positive",
          "Neutral",
          "Neutral",
          "weakly positive",
          "weakly positive",
          "Neutral",
          "weakly positive",
          "weakly positive",
          "weakly positive",
          "Neutral",
          "Neutral",
          "Neutral",
          "Neutral",
          "weakly positive",
          "Neutral",
          "Neutral",
          "Neutral",
          "Neutral",
          "Neutral",
          "weakly positive",
          "weakly negative",
          "Neutral",
          "weakly positive",
          "Neutral",
          "Neutral",
          "positive",
          "weakly positive",
          "weakly negative",
          "Neutral",
          "weakly positive",
          "weakly positive",
          "weakly positive",
          "Neutral",
          "weakly negative",
          "weakly negative",
          "Neutral",
          "weakly positive",
          "Neutral",
          "weakly positive",
          "positive",
          "weakly positive",
          "weakly negative",
          "Neutral",
          "Neutral",
          "weakly positive",
          "weakly negative",
          "Neutral",
          "weakly negative",
          "weakly positive",
          "weakly negative",
          "Neutral",
          "Neutral",
          "Neutral",
          "Neutral",
          "weakly negative",
          "Neutral",
          "positive",
          "Neutral",
          "Neutral",
          "weakly negative",
          "weakly positive",
          "weakly negative",
          "Neutral",
          "Neutral",
          "weakly positive",
          "Neutral",
          "weakly positive",
          "Neutral",
          "weakly positive",
          "Neutral",
          "weakly positive",
          "Neutral",
          "Neutral",
          "weakly positive",
          "weakly positive",
          "weakly negative",
          "Neutral",
          "Neutral",
          "weakly positive",
          "weakly negative",
          "weakly positive",
          "weakly negative",
          "Neutral",
          "weakly positive",
          "Neutral",
          "Neutral",
          "weakly negative",
          "weakly positive",
          "weakly positive",
          "Neutral",
          "weakly positive",
          "positive",
          "Neutral",
          "weakly positive",
          "positive",
          "Neutral",
          "weakly positive",
          "Neutral",
          "positive",
          "very positive",
          "weakly negative",
          "weakly positive",
          "weakly positive",
          "Neutral",
          "positive",
          "weakly negative",
          "weakly positive",
          "weakly negative",
          "Neutral",
          "weakly negative",
          "Neutral",
          "Neutral",
          "weakly negative",
          "Neutral",
          "weakly negative",
          "Neutral",
          "Neutral",
          "Neutral",
          "weakly negative",
          "weakly positive",
          "Neutral",
          "weakly negative",
          "Neutral",
          "Neutral",
          "weakly positive",
          "Neutral",
          "weakly positive",
          "Neutral",
          "Neutral",
          "weakly positive",
          "weakly negative",
          "Neutral",
          "weakly negative",
          "Neutral",
          "weakly positive",
          "Neutral",
          "weakly positive",
          "weakly negative",
          "Neutral",
          "Neutral",
          "weakly negative",
          "Neutral",
          "weakly negative",
          "weakly negative",
          "weakly positive",
          "weakly positive",
          "Neutral",
          "Neutral",
          "positive",
          "weakly negative",
          "Neutral",
          "weakly negative",
          "Neutral",
          "Neutral",
          "Neutral",
          "Neutral",
          "weakly negative",
          "weakly negative",
          "weakly positive",
          "Neutral",
          "Neutral",
          "positive",
          "weakly positive",
          "weakly negative",
          "weakly negative",
          "positive",
          "Neutral",
          "weakly positive",
          "positive",
          "Neutral",
          "positive",
          "Neutral",
          "Neutral",
          "Neutral",
          "Neutral",
          "weakly negative",
          "Neutral",
          "weakly positive",
          "weakly positive",
          "Neutral",
          "weakly positive",
          "weakly positive",
          "Neutral",
          "Neutral",
          "Neutral",
          "positive",
          "Neutral",
          "weakly negative",
          "Neutral",
          "Neutral",
          "Neutral",
          "weakly positive",
          "Neutral",
          "weakly negative",
          "weakly positive",
          "weakly positive",
          "weakly negative",
          "positive",
          "Neutral",
          "weakly positive",
          "Neutral",
          "weakly negative",
          "Neutral",
          "weakly positive",
          "positive",
          "weakly negative",
          "positive",
          "Neutral",
          "weakly negative",
          "Neutral",
          "weakly positive",
          "weakly negative",
          "Neutral",
          "Neutral",
          "Neutral",
          "Neutral",
          "weakly positive",
          "Neutral",
          "Neutral",
          "weakly positive",
          "Neutral",
          "Neutral",
          "weakly negative",
          "weakly negative",
          "weakly positive",
          "Neutral",
          "Neutral",
          "weakly negative",
          "weakly positive",
          "weakly negative",
          "weakly positive",
          "positive",
          "positive",
          "weakly positive",
          "weakly positive",
          "weakly negative",
          "weakly positive",
          "Neutral",
          "Neutral",
          "Neutral",
          "weakly negative",
          "weakly positive",
          "weakly positive",
          "Neutral",
          "Neutral",
          "Neutral",
          "Neutral",
          "weakly positive",
          "Neutral",
          "Neutral",
          "positive",
          "weakly positive",
          "weakly positive",
          "weakly positive",
          "Neutral",
          "Neutral",
          "Neutral",
          "weakly positive",
          "weakly positive",
          "Neutral",
          "positive",
          "Neutral",
          "weakly positive",
          "weakly positive",
          "weakly positive",
          "weakly negative",
          "Neutral",
          "Neutral",
          "weakly positive",
          "weakly positive",
          "weakly positive",
          "weakly negative",
          "Neutral",
          "Neutral",
          "Neutral",
          "Neutral",
          "weakly negative",
          "positive",
          "weakly negative",
          "weakly positive",
          "Neutral",
          "weakly positive",
          "Neutral",
          "positive",
          "Neutral",
          "positive",
          "weakly positive",
          "weakly negative",
          "weakly positive",
          "Neutral",
          "weakly positive",
          "weakly positive",
          "positive",
          "positive",
          "weakly negative",
          "weakly positive",
          "Neutral",
          "weakly negative",
          "weakly positive",
          "weakly positive",
          "Neutral",
          "Neutral",
          "weakly negative",
          "Neutral",
          "Neutral",
          "Neutral",
          "Neutral",
          "Neutral",
          "weakly negative",
          "weakly negative",
          "weakly negative",
          "weakly positive",
          "Neutral",
          "Neutral",
          "weakly negative",
          "weakly positive",
          "Neutral",
          "weakly negative",
          "weakly positive",
          "weakly negative",
          "Neutral",
          "weakly negative",
          "weakly negative",
          "weakly positive",
          "weakly positive",
          "Neutral",
          "weakly positive",
          "weakly positive",
          "weakly positive",
          "Neutral",
          "positive",
          "weakly positive",
          "positive",
          "Neutral",
          "Neutral",
          "weakly negative",
          "Neutral",
          "weakly positive",
          "weakly negative",
          "Neutral",
          "weakly negative",
          "weakly negative",
          "weakly negative",
          "positive",
          "weakly positive",
          "weakly positive",
          "Neutral",
          "weakly negative",
          "weakly positive",
          "weakly positive",
          "weakly positive",
          "Neutral",
          "Neutral",
          "Neutral",
          "Neutral",
          "weakly negative",
          "Neutral",
          "weakly positive",
          "Neutral",
          "weakly negative",
          "weakly positive",
          "weakly positive",
          "weakly negative",
          "Neutral",
          "Neutral",
          "weakly negative",
          "weakly negative",
          "Neutral",
          "Neutral",
          "Neutral",
          "Neutral",
          "positive",
          "weakly negative",
          "Neutral",
          "Neutral",
          "positive",
          "weakly negative",
          "weakly positive",
          "weakly negative",
          "Neutral",
          "Neutral",
          "Neutral",
          "weakly negative",
          "weakly positive",
          "weakly positive",
          "Neutral",
          "weakly positive",
          "weakly positive",
          "Neutral",
          "positive",
          "weakly positive",
          "weakly positive",
          "weakly positive",
          "weakly positive",
          "weakly positive",
          "weakly positive",
          "weakly positive",
          "Neutral",
          "Neutral",
          "weakly negative",
          "Neutral",
          "weakly negative",
          "Neutral",
          "Neutral",
          "Neutral",
          "Neutral",
          "Neutral",
          "Neutral",
          "weakly negative",
          "weakly positive",
          "negative",
          "Neutral",
          "weakly negative",
          "positive",
          "weakly negative",
          "Neutral",
          "weakly negative",
          "weakly positive",
          "weakly negative",
          "weakly positive",
          "Neutral",
          "Neutral",
          "positive",
          "Neutral",
          "Neutral",
          "Neutral",
          "weakly positive",
          "weakly positive",
          "weakly positive",
          "weakly positive",
          "weakly positive",
          "weakly positive",
          "Neutral",
          "Neutral",
          "weakly negative",
          "Neutral",
          "weakly negative",
          "weakly negative",
          "weakly positive",
          "Neutral",
          "Neutral",
          "weakly positive",
          "weakly positive",
          "weakly negative",
          "Neutral",
          "weakly positive",
          "positive",
          "weakly positive",
          "Neutral",
          "weakly positive",
          "weakly negative",
          "weakly negative",
          "weakly positive",
          "weakly negative",
          "positive",
          "Neutral",
          "weakly negative",
          "weakly positive",
          "weakly positive",
          "weakly positive",
          "weakly positive",
          "weakly positive",
          "Neutral",
          "weakly positive",
          "Neutral",
          "weakly negative",
          "Neutral",
          "weakly negative",
          "weakly negative",
          "Neutral",
          "Neutral",
          "Neutral",
          "Neutral",
          "Neutral",
          "weakly negative",
          "Neutral",
          "negative",
          "weakly negative",
          "weakly positive",
          "Neutral",
          "weakly negative",
          "weakly negative",
          "weakly negative",
          "Neutral",
          "weakly negative",
          "Neutral",
          "Neutral",
          "weakly positive",
          "positive",
          "Neutral",
          "Neutral",
          "weakly negative",
          "weakly positive",
          "Neutral",
          "weakly positive",
          "weakly positive",
          "Neutral",
          "weakly negative",
          "weakly positive",
          "weakly positive",
          "weakly positive",
          "weakly positive",
          "Neutral",
          "Neutral",
          "weakly positive",
          "weakly positive",
          "weakly positive",
          "weakly positive",
          "positive",
          "weakly positive",
          "positive",
          "Neutral",
          "Neutral",
          "Neutral",
          "Neutral",
          "weakly negative",
          "weakly positive",
          "Neutral",
          "positive",
          "very positive",
          "Neutral",
          "weakly positive",
          "weakly negative",
          "positive",
          "weakly negative",
          "weakly positive",
          "Neutral",
          "Neutral",
          "weakly positive",
          "Neutral",
          "weakly negative",
          "Neutral",
          "Neutral",
          "positive",
          "Neutral",
          "Neutral",
          "weakly positive",
          "Neutral",
          "weakly negative",
          "weakly positive",
          "weakly positive",
          "Neutral",
          "weakly positive",
          "Neutral",
          "Neutral",
          "weakly positive",
          "weakly positive",
          "Neutral",
          "weakly positive",
          "Neutral",
          "weakly negative",
          "weakly positive",
          "weakly positive",
          "weakly positive",
          "positive",
          "positive",
          "weakly positive",
          "weakly positive",
          "weakly positive",
          "weakly negative",
          "positive",
          "Neutral",
          "weakly positive",
          "Neutral",
          "weakly positive",
          "weakly positive",
          "weakly positive",
          "Neutral",
          "weakly positive",
          "Neutral",
          "Neutral",
          "Neutral",
          "weakly positive",
          "positive",
          "weakly negative",
          "Neutral",
          "weakly positive",
          "weakly positive",
          "weakly positive",
          "negative",
          "Neutral",
          "weakly positive",
          "weakly positive",
          "Neutral",
          "Neutral",
          "positive",
          "weakly positive",
          "Neutral",
          "positive",
          "weakly positive",
          "Neutral",
          "weakly negative",
          "weakly positive",
          "Neutral",
          "weakly negative",
          "weakly positive",
          "Neutral",
          "weakly negative",
          "Neutral",
          "weakly positive",
          "weakly positive",
          "Neutral",
          "Neutral",
          "Neutral",
          "Neutral",
          "weakly positive",
          "weakly negative",
          "Neutral",
          "Neutral",
          "weakly positive",
          "Neutral",
          "Neutral",
          "weakly positive",
          "weakly negative",
          "weakly positive",
          "Neutral",
          "Neutral",
          "Neutral",
          "weakly negative",
          "positive",
          "weakly positive",
          "Neutral",
          "weakly negative",
          "Neutral",
          "Neutral",
          "Neutral",
          "Neutral",
          "Neutral",
          "weakly negative",
          "weakly negative",
          "Neutral",
          "weakly positive",
          "Neutral",
          "Neutral",
          "weakly negative",
          "weakly positive",
          "Neutral",
          "Neutral",
          "Neutral",
          "weakly positive",
          "Neutral",
          "Neutral",
          "Neutral",
          "weakly negative",
          "weakly positive",
          "Neutral",
          "weakly positive",
          "weakly negative",
          "Neutral",
          "Neutral",
          "weakly positive",
          "Neutral",
          "Neutral",
          "weakly negative",
          "Neutral",
          "weakly negative",
          "weakly positive",
          "weakly positive",
          "weakly positive",
          "weakly positive",
          "Neutral",
          "weakly positive",
          "weakly positive",
          "Neutral",
          "Neutral",
          "Neutral",
          "Neutral"
         ],
         "xaxis": "x",
         "y": [
          1,
          1,
          1,
          1,
          1,
          1,
          1,
          1,
          1,
          1,
          1,
          1,
          1,
          1,
          1,
          1,
          1,
          1,
          1,
          1,
          1,
          1,
          1,
          1,
          1,
          1,
          1,
          1,
          1,
          1,
          1,
          1,
          1,
          1,
          1,
          1,
          1,
          1,
          1,
          1,
          1,
          1,
          1,
          1,
          1,
          1,
          1,
          1,
          1,
          1,
          1,
          1,
          1,
          1,
          1,
          1,
          1,
          1,
          1,
          1,
          1,
          1,
          1,
          1,
          1,
          1,
          1,
          1,
          1,
          1,
          1,
          1,
          1,
          1,
          1,
          1,
          1,
          1,
          1,
          1,
          1,
          1,
          1,
          1,
          1,
          1,
          1,
          1,
          1,
          1,
          1,
          1,
          1,
          1,
          1,
          1,
          1,
          1,
          1,
          1,
          1,
          1,
          1,
          1,
          1,
          1,
          1,
          1,
          1,
          1,
          1,
          1,
          1,
          1,
          1,
          1,
          1,
          1,
          1,
          1,
          1,
          1,
          1,
          1,
          1,
          1,
          1,
          1,
          1,
          1,
          1,
          1,
          1,
          1,
          1,
          1,
          1,
          1,
          1,
          1,
          1,
          1,
          1,
          1,
          1,
          1,
          1,
          1,
          1,
          1,
          1,
          1,
          1,
          1,
          1,
          1,
          1,
          1,
          1,
          1,
          1,
          1,
          1,
          1,
          1,
          1,
          1,
          1,
          1,
          1,
          1,
          1,
          1,
          1,
          1,
          1,
          1,
          1,
          1,
          1,
          1,
          1,
          1,
          1,
          1,
          1,
          1,
          1,
          1,
          1,
          1,
          1,
          1,
          1,
          1,
          1,
          1,
          1,
          1,
          1,
          1,
          1,
          1,
          1,
          1,
          1,
          1,
          1,
          1,
          1,
          1,
          1,
          1,
          1,
          1,
          1,
          1,
          1,
          1,
          1,
          1,
          1,
          1,
          1,
          1,
          1,
          1,
          1,
          1,
          1,
          1,
          1,
          1,
          1,
          1,
          1,
          1,
          1,
          1,
          1,
          1,
          1,
          1,
          1,
          1,
          1,
          1,
          1,
          1,
          1,
          1,
          1,
          1,
          1,
          1,
          1,
          1,
          1,
          1,
          1,
          1,
          1,
          1,
          1,
          1,
          1,
          1,
          1,
          1,
          1,
          1,
          1,
          1,
          1,
          1,
          1,
          1,
          1,
          1,
          1,
          1,
          1,
          1,
          1,
          1,
          1,
          1,
          1,
          1,
          1,
          1,
          1,
          1,
          1,
          1,
          1,
          1,
          1,
          1,
          1,
          1,
          1,
          1,
          1,
          1,
          1,
          1,
          1,
          1,
          1,
          1,
          1,
          1,
          1,
          1,
          1,
          1,
          1,
          1,
          1,
          1,
          1,
          1,
          1,
          1,
          1,
          1,
          1,
          1,
          1,
          1,
          1,
          1,
          1,
          1,
          1,
          1,
          1,
          1,
          1,
          1,
          1,
          1,
          1,
          1,
          1,
          1,
          1,
          1,
          1,
          1,
          1,
          1,
          1,
          1,
          1,
          1,
          1,
          1,
          1,
          1,
          1,
          1,
          1,
          1,
          1,
          1,
          1,
          1,
          1,
          1,
          1,
          1,
          1,
          1,
          1,
          1,
          1,
          1,
          1,
          1,
          1,
          1,
          1,
          1,
          1,
          1,
          1,
          1,
          1,
          1,
          1,
          1,
          1,
          1,
          1,
          1,
          1,
          1,
          1,
          1,
          1,
          1,
          1,
          1,
          1,
          1,
          1,
          1,
          1,
          1,
          1,
          1,
          1,
          1,
          1,
          1,
          1,
          1,
          1,
          1,
          1,
          1,
          1,
          1,
          1,
          1,
          1,
          1,
          1,
          1,
          1,
          1,
          1,
          1,
          1,
          1,
          1,
          1,
          1,
          1,
          1,
          1,
          1,
          1,
          1,
          1,
          1,
          1,
          1,
          1,
          1,
          1,
          1,
          1,
          1,
          1,
          1,
          1,
          1,
          1,
          1,
          1,
          1,
          1,
          1,
          1,
          1,
          1,
          1,
          1,
          1,
          1,
          1,
          1,
          1,
          1,
          1,
          1,
          1,
          1,
          1,
          1,
          1,
          1,
          1,
          1,
          1,
          1,
          1,
          1,
          1,
          1,
          1,
          1,
          1,
          1,
          1,
          1,
          1,
          1,
          1,
          1,
          1,
          1,
          1,
          1,
          1,
          1,
          1,
          1,
          1,
          1,
          1,
          1,
          1,
          1,
          1,
          1,
          1,
          1,
          1,
          1,
          1,
          1,
          1,
          1,
          1,
          1,
          1,
          1,
          1,
          1,
          1,
          1,
          1,
          1,
          1,
          1,
          1,
          1,
          1,
          1,
          1,
          1,
          1,
          1,
          1,
          1,
          1,
          1,
          1,
          1,
          1,
          1,
          1,
          1,
          1,
          1,
          1,
          1,
          1,
          1,
          1,
          1,
          1,
          1,
          1,
          1,
          1,
          1,
          1,
          1,
          1,
          1,
          1,
          1,
          1,
          1,
          1,
          1,
          1,
          1,
          1,
          1,
          1,
          1,
          1,
          1,
          1,
          1,
          1,
          1,
          1,
          1,
          1,
          1,
          1,
          1,
          1,
          1,
          1,
          1,
          1,
          1,
          1,
          1,
          1,
          1,
          1,
          1,
          1,
          1,
          1,
          1,
          1,
          1,
          1,
          1,
          1,
          1,
          1,
          1,
          1,
          1,
          1,
          1,
          1,
          1,
          1,
          1,
          1,
          1,
          1,
          1,
          1,
          1,
          1,
          1,
          1,
          1,
          1,
          1,
          1,
          1,
          1,
          1,
          1,
          1,
          1,
          1,
          1,
          1,
          1,
          1,
          1,
          1,
          1,
          1,
          1,
          1,
          1,
          1,
          1,
          1,
          1,
          1,
          1,
          1,
          1,
          1,
          1,
          1,
          1,
          1,
          1,
          1,
          1,
          1,
          1,
          1,
          1,
          1,
          1,
          1,
          1
         ],
         "yaxis": "y"
        },
        {
         "alignmentgroup": "True",
         "hovertemplate": "preds_7=%{x}<br>count=%{y}<extra></extra>",
         "legendgroup": "",
         "marker": {
          "color": "#636efa",
          "pattern": {
           "shape": ""
          }
         },
         "name": "",
         "offsetgroup": "",
         "orientation": "v",
         "showlegend": false,
         "textposition": "auto",
         "type": "bar",
         "x": [
          "Neutral",
          "Neutral",
          "Neutral",
          "Neutral",
          "Neutral",
          "Neutral",
          "Neutral",
          "Neutral",
          "Neutral",
          "Neutral",
          "Neutral",
          "Neutral",
          "Neutral",
          "Neutral",
          "weakly positive",
          "Neutral",
          "Neutral",
          "Neutral",
          "Neutral",
          "Neutral",
          "Neutral",
          "weakly positive",
          "weakly positive",
          "Neutral",
          "weakly positive",
          "Neutral",
          "weakly positive",
          "weakly positive",
          "Neutral",
          "Neutral",
          "Neutral",
          "Neutral",
          "Neutral",
          "Neutral",
          "Neutral",
          "Neutral",
          "Neutral",
          "Neutral",
          "Neutral",
          "Neutral",
          "Neutral",
          "Neutral",
          "Neutral",
          "Neutral",
          "weakly positive",
          "Neutral",
          "Neutral",
          "weakly positive",
          "Neutral",
          "Neutral",
          "Neutral",
          "Neutral",
          "Neutral",
          "Neutral",
          "Neutral",
          "weakly positive",
          "Neutral",
          "Neutral",
          "weakly positive",
          "weakly positive",
          "Neutral",
          "Neutral",
          "weakly positive",
          "weakly positive",
          "weakly positive",
          "Neutral",
          "weakly positive",
          "Neutral",
          "Neutral",
          "Neutral",
          "Neutral",
          "Neutral",
          "weakly positive",
          "Neutral",
          "Neutral",
          "Neutral",
          "Neutral",
          "Neutral",
          "Neutral",
          "Neutral",
          "Neutral",
          "Neutral",
          "Neutral",
          "weakly positive",
          "Neutral",
          "Neutral",
          "Neutral",
          "Neutral",
          "weakly positive",
          "weakly positive",
          "Neutral",
          "Neutral",
          "Neutral",
          "Neutral",
          "Neutral",
          "Neutral",
          "Neutral",
          "Neutral",
          "weakly positive",
          "Neutral",
          "weakly positive",
          "Neutral",
          "Neutral",
          "Neutral",
          "Neutral",
          "weakly positive",
          "Neutral",
          "Neutral",
          "weakly positive",
          "Neutral",
          "Neutral",
          "Neutral",
          "Neutral",
          "Neutral",
          "weakly positive",
          "Neutral",
          "Neutral",
          "Neutral",
          "Neutral",
          "Neutral",
          "weakly positive",
          "weakly positive",
          "Neutral",
          "weakly positive",
          "weakly positive",
          "weakly positive",
          "Neutral",
          "Neutral",
          "Neutral",
          "Neutral",
          "Neutral",
          "Neutral",
          "Neutral",
          "Neutral",
          "weakly positive",
          "Neutral",
          "Neutral",
          "Neutral",
          "Neutral",
          "weakly positive",
          "Neutral",
          "Neutral",
          "weakly positive",
          "weakly positive",
          "Neutral",
          "Neutral",
          "Neutral",
          "Neutral",
          "Neutral",
          "Neutral",
          "weakly positive",
          "Neutral",
          "Neutral",
          "Neutral",
          "Neutral",
          "Neutral",
          "Neutral",
          "Neutral",
          "Neutral",
          "Neutral",
          "weakly positive",
          "Neutral",
          "Neutral",
          "Neutral",
          "Neutral",
          "Neutral",
          "weakly positive",
          "Neutral",
          "Neutral",
          "Neutral",
          "Neutral",
          "Neutral",
          "Neutral",
          "weakly positive",
          "Neutral",
          "Neutral",
          "Neutral",
          "weakly positive",
          "Neutral",
          "Neutral",
          "Neutral",
          "Neutral",
          "Neutral",
          "Neutral",
          "weakly positive",
          "Neutral",
          "Neutral",
          "Neutral",
          "Neutral",
          "weakly positive",
          "Neutral",
          "Neutral",
          "Neutral",
          "Neutral",
          "Neutral",
          "Neutral",
          "Neutral",
          "Neutral",
          "Neutral",
          "Neutral",
          "Neutral",
          "Neutral",
          "Neutral",
          "Neutral",
          "Neutral",
          "Neutral",
          "Neutral",
          "Neutral",
          "Neutral",
          "Neutral",
          "Neutral",
          "Neutral",
          "Neutral",
          "Neutral",
          "Neutral",
          "Neutral",
          "Neutral",
          "weakly positive",
          "weakly positive",
          "Neutral",
          "Neutral",
          "Neutral",
          "Neutral",
          "Neutral",
          "Neutral",
          "Neutral",
          "Neutral",
          "Neutral",
          "Neutral",
          "Neutral",
          "Neutral",
          "Neutral",
          "Neutral",
          "Neutral",
          "Neutral",
          "Neutral",
          "Neutral",
          "Neutral",
          "weakly positive",
          "Neutral",
          "weakly positive",
          "weakly positive",
          "weakly positive",
          "Neutral",
          "Neutral",
          "Neutral",
          "Neutral",
          "Neutral",
          "Neutral",
          "weakly positive",
          "Neutral",
          "Neutral",
          "Neutral",
          "Neutral",
          "weakly positive",
          "Neutral",
          "Neutral",
          "Neutral",
          "Neutral",
          "Neutral",
          "Neutral",
          "weakly positive",
          "Neutral",
          "Neutral",
          "Neutral",
          "Neutral",
          "Neutral",
          "Neutral",
          "Neutral",
          "weakly positive",
          "Neutral",
          "Neutral",
          "weakly positive",
          "Neutral",
          "Neutral",
          "weakly positive",
          "Neutral",
          "weakly positive",
          "Neutral",
          "Neutral",
          "Neutral",
          "Neutral",
          "Neutral",
          "weakly positive",
          "Neutral",
          "Neutral",
          "weakly positive",
          "Neutral",
          "Neutral",
          "Neutral",
          "Neutral",
          "Neutral",
          "Neutral",
          "weakly positive",
          "Neutral",
          "Neutral",
          "Neutral",
          "Neutral",
          "Neutral",
          "weakly positive",
          "Neutral",
          "Neutral",
          "Neutral",
          "Neutral",
          "Neutral",
          "Neutral",
          "Neutral",
          "Neutral",
          "Neutral",
          "Neutral",
          "weakly positive",
          "Neutral",
          "Neutral",
          "weakly positive",
          "Neutral",
          "Neutral",
          "Neutral",
          "Neutral",
          "weakly positive",
          "Neutral",
          "Neutral",
          "Neutral",
          "Neutral",
          "Neutral",
          "Neutral",
          "Neutral",
          "Neutral",
          "Neutral",
          "Neutral",
          "Neutral",
          "weakly positive",
          "weakly positive",
          "Neutral",
          "Neutral",
          "weakly positive",
          "Neutral",
          "Neutral",
          "Neutral",
          "Neutral",
          "Neutral",
          "Neutral",
          "Neutral",
          "weakly positive",
          "Neutral",
          "Neutral",
          "Neutral",
          "weakly positive",
          "Neutral",
          "weakly positive",
          "weakly positive",
          "Neutral",
          "weakly positive",
          "weakly positive",
          "weakly positive",
          "Neutral",
          "Neutral",
          "Neutral",
          "Neutral",
          "weakly positive",
          "Neutral",
          "Neutral",
          "Neutral",
          "Neutral",
          "Neutral",
          "weakly positive",
          "Neutral",
          "Neutral",
          "weakly positive",
          "Neutral",
          "weakly positive",
          "Neutral",
          "Neutral",
          "weakly positive",
          "Neutral",
          "Neutral",
          "Neutral",
          "weakly positive",
          "Neutral",
          "Neutral",
          "Neutral",
          "Neutral",
          "Neutral",
          "Neutral",
          "Neutral",
          "Neutral",
          "Neutral",
          "Neutral",
          "Neutral",
          "Neutral",
          "Neutral",
          "Neutral",
          "Neutral",
          "weakly positive",
          "Neutral",
          "Neutral",
          "Neutral",
          "weakly positive",
          "Neutral",
          "Neutral",
          "Neutral",
          "Neutral",
          "Neutral",
          "weakly positive",
          "Neutral",
          "Neutral",
          "Neutral",
          "Neutral",
          "Neutral",
          "weakly positive",
          "Neutral",
          "Neutral",
          "Neutral",
          "Neutral",
          "Neutral",
          "Neutral",
          "Neutral",
          "Neutral",
          "Neutral",
          "Neutral",
          "Neutral",
          "Neutral",
          "Neutral",
          "Neutral",
          "Neutral",
          "Neutral",
          "Neutral",
          "Neutral",
          "Neutral",
          "weakly positive",
          "weakly positive",
          "Neutral",
          "Neutral",
          "Neutral",
          "Neutral",
          "weakly positive",
          "Neutral",
          "Neutral",
          "Neutral",
          "weakly positive",
          "Neutral",
          "Neutral",
          "Neutral",
          "Neutral",
          "Neutral",
          "Neutral",
          "Neutral",
          "Neutral",
          "weakly positive",
          "Neutral",
          "Neutral",
          "Neutral",
          "Neutral",
          "Neutral",
          "Neutral",
          "weakly positive",
          "Neutral",
          "Neutral",
          "weakly positive",
          "Neutral",
          "weakly positive",
          "Neutral",
          "Neutral",
          "Neutral",
          "Neutral",
          "weakly positive",
          "weakly positive",
          "Neutral",
          "Neutral",
          "Neutral",
          "Neutral",
          "Neutral",
          "Neutral",
          "Neutral",
          "Neutral",
          "weakly positive",
          "Neutral",
          "Neutral",
          "weakly positive",
          "Neutral",
          "weakly positive",
          "Neutral",
          "Neutral",
          "Neutral",
          "weakly positive",
          "Neutral",
          "weakly positive",
          "Neutral",
          "Neutral",
          "Neutral",
          "Neutral",
          "Neutral",
          "Neutral",
          "Neutral",
          "Neutral",
          "Neutral",
          "weakly positive",
          "Neutral",
          "weakly positive",
          "Neutral",
          "Neutral",
          "Neutral",
          "Neutral",
          "Neutral",
          "Neutral",
          "Neutral",
          "Neutral",
          "Neutral",
          "weakly positive",
          "Neutral",
          "weakly positive",
          "Neutral",
          "weakly positive",
          "Neutral",
          "Neutral",
          "Neutral",
          "Neutral",
          "weakly positive",
          "Neutral",
          "Neutral",
          "weakly positive",
          "Neutral",
          "Neutral",
          "Neutral",
          "Neutral",
          "Neutral",
          "Neutral",
          "Neutral",
          "Neutral",
          "Neutral",
          "Neutral",
          "Neutral",
          "Neutral",
          "Neutral",
          "Neutral",
          "Neutral",
          "Neutral",
          "Neutral",
          "Neutral",
          "Neutral",
          "Neutral",
          "Neutral",
          "weakly positive",
          "weakly positive",
          "Neutral",
          "Neutral",
          "weakly positive",
          "Neutral",
          "weakly positive",
          "Neutral",
          "Neutral",
          "Neutral",
          "Neutral",
          "Neutral",
          "Neutral",
          "Neutral",
          "Neutral",
          "Neutral",
          "weakly positive",
          "Neutral",
          "Neutral",
          "weakly positive",
          "Neutral",
          "Neutral",
          "Neutral",
          "weakly positive",
          "weakly positive",
          "Neutral",
          "Neutral",
          "Neutral",
          "Neutral",
          "Neutral",
          "Neutral",
          "Neutral",
          "Neutral",
          "Neutral",
          "Neutral",
          "Neutral",
          "Neutral",
          "Neutral",
          "Neutral",
          "Neutral",
          "Neutral",
          "weakly positive",
          "Neutral",
          "Neutral",
          "Neutral",
          "weakly positive",
          "weakly positive",
          "Neutral",
          "Neutral",
          "Neutral",
          "Neutral",
          "Neutral",
          "Neutral",
          "Neutral",
          "Neutral",
          "Neutral",
          "Neutral",
          "Neutral",
          "Neutral",
          "Neutral",
          "Neutral",
          "Neutral",
          "Neutral",
          "Neutral",
          "Neutral",
          "Neutral",
          "Neutral",
          "Neutral",
          "Neutral",
          "Neutral",
          "Neutral",
          "Neutral",
          "Neutral",
          "Neutral",
          "Neutral",
          "Neutral",
          "Neutral",
          "Neutral",
          "Neutral",
          "Neutral",
          "Neutral",
          "Neutral",
          "Neutral",
          "Neutral",
          "Neutral",
          "Neutral",
          "Neutral",
          "Neutral",
          "Neutral",
          "weakly positive",
          "Neutral",
          "Neutral",
          "Neutral",
          "weakly positive",
          "Neutral",
          "Neutral",
          "Neutral",
          "weakly positive",
          "Neutral",
          "Neutral",
          "Neutral",
          "Neutral",
          "Neutral",
          "Neutral",
          "weakly positive",
          "weakly positive",
          "Neutral",
          "weakly positive",
          "Neutral",
          "Neutral",
          "Neutral",
          "Neutral",
          "Neutral",
          "Neutral",
          "Neutral",
          "Neutral",
          "Neutral",
          "Neutral",
          "Neutral",
          "weakly positive",
          "Neutral",
          "Neutral",
          "weakly positive",
          "weakly positive",
          "Neutral",
          "Neutral",
          "Neutral",
          "Neutral",
          "Neutral",
          "Neutral",
          "Neutral",
          "Neutral",
          "Neutral",
          "Neutral",
          "Neutral",
          "Neutral",
          "Neutral",
          "Neutral",
          "Neutral",
          "weakly positive",
          "Neutral",
          "weakly positive",
          "Neutral",
          "Neutral",
          "Neutral"
         ],
         "xaxis": "x2",
         "y": [
          1,
          1,
          1,
          1,
          1,
          1,
          1,
          1,
          1,
          1,
          1,
          1,
          1,
          1,
          1,
          1,
          1,
          1,
          1,
          1,
          1,
          1,
          1,
          1,
          1,
          1,
          1,
          1,
          1,
          1,
          1,
          1,
          1,
          1,
          1,
          1,
          1,
          1,
          1,
          1,
          1,
          1,
          1,
          1,
          1,
          1,
          1,
          1,
          1,
          1,
          1,
          1,
          1,
          1,
          1,
          1,
          1,
          1,
          1,
          1,
          1,
          1,
          1,
          1,
          1,
          1,
          1,
          1,
          1,
          1,
          1,
          1,
          1,
          1,
          1,
          1,
          1,
          1,
          1,
          1,
          1,
          1,
          1,
          1,
          1,
          1,
          1,
          1,
          1,
          1,
          1,
          1,
          1,
          1,
          1,
          1,
          1,
          1,
          1,
          1,
          1,
          1,
          1,
          1,
          1,
          1,
          1,
          1,
          1,
          1,
          1,
          1,
          1,
          1,
          1,
          1,
          1,
          1,
          1,
          1,
          1,
          1,
          1,
          1,
          1,
          1,
          1,
          1,
          1,
          1,
          1,
          1,
          1,
          1,
          1,
          1,
          1,
          1,
          1,
          1,
          1,
          1,
          1,
          1,
          1,
          1,
          1,
          1,
          1,
          1,
          1,
          1,
          1,
          1,
          1,
          1,
          1,
          1,
          1,
          1,
          1,
          1,
          1,
          1,
          1,
          1,
          1,
          1,
          1,
          1,
          1,
          1,
          1,
          1,
          1,
          1,
          1,
          1,
          1,
          1,
          1,
          1,
          1,
          1,
          1,
          1,
          1,
          1,
          1,
          1,
          1,
          1,
          1,
          1,
          1,
          1,
          1,
          1,
          1,
          1,
          1,
          1,
          1,
          1,
          1,
          1,
          1,
          1,
          1,
          1,
          1,
          1,
          1,
          1,
          1,
          1,
          1,
          1,
          1,
          1,
          1,
          1,
          1,
          1,
          1,
          1,
          1,
          1,
          1,
          1,
          1,
          1,
          1,
          1,
          1,
          1,
          1,
          1,
          1,
          1,
          1,
          1,
          1,
          1,
          1,
          1,
          1,
          1,
          1,
          1,
          1,
          1,
          1,
          1,
          1,
          1,
          1,
          1,
          1,
          1,
          1,
          1,
          1,
          1,
          1,
          1,
          1,
          1,
          1,
          1,
          1,
          1,
          1,
          1,
          1,
          1,
          1,
          1,
          1,
          1,
          1,
          1,
          1,
          1,
          1,
          1,
          1,
          1,
          1,
          1,
          1,
          1,
          1,
          1,
          1,
          1,
          1,
          1,
          1,
          1,
          1,
          1,
          1,
          1,
          1,
          1,
          1,
          1,
          1,
          1,
          1,
          1,
          1,
          1,
          1,
          1,
          1,
          1,
          1,
          1,
          1,
          1,
          1,
          1,
          1,
          1,
          1,
          1,
          1,
          1,
          1,
          1,
          1,
          1,
          1,
          1,
          1,
          1,
          1,
          1,
          1,
          1,
          1,
          1,
          1,
          1,
          1,
          1,
          1,
          1,
          1,
          1,
          1,
          1,
          1,
          1,
          1,
          1,
          1,
          1,
          1,
          1,
          1,
          1,
          1,
          1,
          1,
          1,
          1,
          1,
          1,
          1,
          1,
          1,
          1,
          1,
          1,
          1,
          1,
          1,
          1,
          1,
          1,
          1,
          1,
          1,
          1,
          1,
          1,
          1,
          1,
          1,
          1,
          1,
          1,
          1,
          1,
          1,
          1,
          1,
          1,
          1,
          1,
          1,
          1,
          1,
          1,
          1,
          1,
          1,
          1,
          1,
          1,
          1,
          1,
          1,
          1,
          1,
          1,
          1,
          1,
          1,
          1,
          1,
          1,
          1,
          1,
          1,
          1,
          1,
          1,
          1,
          1,
          1,
          1,
          1,
          1,
          1,
          1,
          1,
          1,
          1,
          1,
          1,
          1,
          1,
          1,
          1,
          1,
          1,
          1,
          1,
          1,
          1,
          1,
          1,
          1,
          1,
          1,
          1,
          1,
          1,
          1,
          1,
          1,
          1,
          1,
          1,
          1,
          1,
          1,
          1,
          1,
          1,
          1,
          1,
          1,
          1,
          1,
          1,
          1,
          1,
          1,
          1,
          1,
          1,
          1,
          1,
          1,
          1,
          1,
          1,
          1,
          1,
          1,
          1,
          1,
          1,
          1,
          1,
          1,
          1,
          1,
          1,
          1,
          1,
          1,
          1,
          1,
          1,
          1,
          1,
          1,
          1,
          1,
          1,
          1,
          1,
          1,
          1,
          1,
          1,
          1,
          1,
          1,
          1,
          1,
          1,
          1,
          1,
          1,
          1,
          1,
          1,
          1,
          1,
          1,
          1,
          1,
          1,
          1,
          1,
          1,
          1,
          1,
          1,
          1,
          1,
          1,
          1,
          1,
          1,
          1,
          1,
          1,
          1,
          1,
          1,
          1,
          1,
          1,
          1,
          1,
          1,
          1,
          1,
          1,
          1,
          1,
          1,
          1,
          1,
          1,
          1,
          1,
          1,
          1,
          1,
          1,
          1,
          1,
          1,
          1,
          1,
          1,
          1,
          1,
          1,
          1,
          1,
          1,
          1,
          1,
          1,
          1,
          1,
          1,
          1,
          1,
          1,
          1,
          1,
          1,
          1,
          1,
          1,
          1,
          1,
          1,
          1,
          1,
          1,
          1,
          1,
          1,
          1,
          1,
          1,
          1,
          1,
          1,
          1,
          1,
          1,
          1,
          1,
          1,
          1,
          1,
          1,
          1,
          1,
          1,
          1,
          1,
          1,
          1,
          1,
          1,
          1,
          1,
          1,
          1,
          1,
          1,
          1,
          1,
          1,
          1,
          1,
          1,
          1,
          1,
          1,
          1,
          1,
          1,
          1,
          1,
          1,
          1,
          1,
          1,
          1,
          1,
          1,
          1,
          1,
          1,
          1,
          1,
          1,
          1,
          1,
          1,
          1,
          1,
          1,
          1,
          1,
          1,
          1,
          1,
          1,
          1,
          1
         ],
         "yaxis": "y2"
        }
       ],
       "layout": {
        "annotations": [
         {
          "font": {
           "size": 16
          },
          "showarrow": false,
          "text": "TFN-40d",
          "x": 0.225,
          "xanchor": "center",
          "xref": "paper",
          "y": 1,
          "yanchor": "bottom",
          "yref": "paper"
         },
         {
          "font": {
           "size": 16
          },
          "showarrow": false,
          "text": "TFN-16d",
          "x": 0.775,
          "xanchor": "center",
          "xref": "paper",
          "y": 1,
          "yanchor": "bottom",
          "yref": "paper"
         }
        ],
        "height": 600,
        "template": {
         "data": {
          "bar": [
           {
            "error_x": {
             "color": "#2a3f5f"
            },
            "error_y": {
             "color": "#2a3f5f"
            },
            "marker": {
             "line": {
              "color": "#E5ECF6",
              "width": 0.5
             },
             "pattern": {
              "fillmode": "overlay",
              "size": 10,
              "solidity": 0.2
             }
            },
            "type": "bar"
           }
          ],
          "barpolar": [
           {
            "marker": {
             "line": {
              "color": "#E5ECF6",
              "width": 0.5
             },
             "pattern": {
              "fillmode": "overlay",
              "size": 10,
              "solidity": 0.2
             }
            },
            "type": "barpolar"
           }
          ],
          "carpet": [
           {
            "aaxis": {
             "endlinecolor": "#2a3f5f",
             "gridcolor": "white",
             "linecolor": "white",
             "minorgridcolor": "white",
             "startlinecolor": "#2a3f5f"
            },
            "baxis": {
             "endlinecolor": "#2a3f5f",
             "gridcolor": "white",
             "linecolor": "white",
             "minorgridcolor": "white",
             "startlinecolor": "#2a3f5f"
            },
            "type": "carpet"
           }
          ],
          "choropleth": [
           {
            "colorbar": {
             "outlinewidth": 0,
             "ticks": ""
            },
            "type": "choropleth"
           }
          ],
          "contour": [
           {
            "colorbar": {
             "outlinewidth": 0,
             "ticks": ""
            },
            "colorscale": [
             [
              0,
              "#0d0887"
             ],
             [
              0.1111111111111111,
              "#46039f"
             ],
             [
              0.2222222222222222,
              "#7201a8"
             ],
             [
              0.3333333333333333,
              "#9c179e"
             ],
             [
              0.4444444444444444,
              "#bd3786"
             ],
             [
              0.5555555555555556,
              "#d8576b"
             ],
             [
              0.6666666666666666,
              "#ed7953"
             ],
             [
              0.7777777777777778,
              "#fb9f3a"
             ],
             [
              0.8888888888888888,
              "#fdca26"
             ],
             [
              1,
              "#f0f921"
             ]
            ],
            "type": "contour"
           }
          ],
          "contourcarpet": [
           {
            "colorbar": {
             "outlinewidth": 0,
             "ticks": ""
            },
            "type": "contourcarpet"
           }
          ],
          "heatmap": [
           {
            "colorbar": {
             "outlinewidth": 0,
             "ticks": ""
            },
            "colorscale": [
             [
              0,
              "#0d0887"
             ],
             [
              0.1111111111111111,
              "#46039f"
             ],
             [
              0.2222222222222222,
              "#7201a8"
             ],
             [
              0.3333333333333333,
              "#9c179e"
             ],
             [
              0.4444444444444444,
              "#bd3786"
             ],
             [
              0.5555555555555556,
              "#d8576b"
             ],
             [
              0.6666666666666666,
              "#ed7953"
             ],
             [
              0.7777777777777778,
              "#fb9f3a"
             ],
             [
              0.8888888888888888,
              "#fdca26"
             ],
             [
              1,
              "#f0f921"
             ]
            ],
            "type": "heatmap"
           }
          ],
          "heatmapgl": [
           {
            "colorbar": {
             "outlinewidth": 0,
             "ticks": ""
            },
            "colorscale": [
             [
              0,
              "#0d0887"
             ],
             [
              0.1111111111111111,
              "#46039f"
             ],
             [
              0.2222222222222222,
              "#7201a8"
             ],
             [
              0.3333333333333333,
              "#9c179e"
             ],
             [
              0.4444444444444444,
              "#bd3786"
             ],
             [
              0.5555555555555556,
              "#d8576b"
             ],
             [
              0.6666666666666666,
              "#ed7953"
             ],
             [
              0.7777777777777778,
              "#fb9f3a"
             ],
             [
              0.8888888888888888,
              "#fdca26"
             ],
             [
              1,
              "#f0f921"
             ]
            ],
            "type": "heatmapgl"
           }
          ],
          "histogram": [
           {
            "marker": {
             "pattern": {
              "fillmode": "overlay",
              "size": 10,
              "solidity": 0.2
             }
            },
            "type": "histogram"
           }
          ],
          "histogram2d": [
           {
            "colorbar": {
             "outlinewidth": 0,
             "ticks": ""
            },
            "colorscale": [
             [
              0,
              "#0d0887"
             ],
             [
              0.1111111111111111,
              "#46039f"
             ],
             [
              0.2222222222222222,
              "#7201a8"
             ],
             [
              0.3333333333333333,
              "#9c179e"
             ],
             [
              0.4444444444444444,
              "#bd3786"
             ],
             [
              0.5555555555555556,
              "#d8576b"
             ],
             [
              0.6666666666666666,
              "#ed7953"
             ],
             [
              0.7777777777777778,
              "#fb9f3a"
             ],
             [
              0.8888888888888888,
              "#fdca26"
             ],
             [
              1,
              "#f0f921"
             ]
            ],
            "type": "histogram2d"
           }
          ],
          "histogram2dcontour": [
           {
            "colorbar": {
             "outlinewidth": 0,
             "ticks": ""
            },
            "colorscale": [
             [
              0,
              "#0d0887"
             ],
             [
              0.1111111111111111,
              "#46039f"
             ],
             [
              0.2222222222222222,
              "#7201a8"
             ],
             [
              0.3333333333333333,
              "#9c179e"
             ],
             [
              0.4444444444444444,
              "#bd3786"
             ],
             [
              0.5555555555555556,
              "#d8576b"
             ],
             [
              0.6666666666666666,
              "#ed7953"
             ],
             [
              0.7777777777777778,
              "#fb9f3a"
             ],
             [
              0.8888888888888888,
              "#fdca26"
             ],
             [
              1,
              "#f0f921"
             ]
            ],
            "type": "histogram2dcontour"
           }
          ],
          "mesh3d": [
           {
            "colorbar": {
             "outlinewidth": 0,
             "ticks": ""
            },
            "type": "mesh3d"
           }
          ],
          "parcoords": [
           {
            "line": {
             "colorbar": {
              "outlinewidth": 0,
              "ticks": ""
             }
            },
            "type": "parcoords"
           }
          ],
          "pie": [
           {
            "automargin": true,
            "type": "pie"
           }
          ],
          "scatter": [
           {
            "fillpattern": {
             "fillmode": "overlay",
             "size": 10,
             "solidity": 0.2
            },
            "type": "scatter"
           }
          ],
          "scatter3d": [
           {
            "line": {
             "colorbar": {
              "outlinewidth": 0,
              "ticks": ""
             }
            },
            "marker": {
             "colorbar": {
              "outlinewidth": 0,
              "ticks": ""
             }
            },
            "type": "scatter3d"
           }
          ],
          "scattercarpet": [
           {
            "marker": {
             "colorbar": {
              "outlinewidth": 0,
              "ticks": ""
             }
            },
            "type": "scattercarpet"
           }
          ],
          "scattergeo": [
           {
            "marker": {
             "colorbar": {
              "outlinewidth": 0,
              "ticks": ""
             }
            },
            "type": "scattergeo"
           }
          ],
          "scattergl": [
           {
            "marker": {
             "colorbar": {
              "outlinewidth": 0,
              "ticks": ""
             }
            },
            "type": "scattergl"
           }
          ],
          "scattermapbox": [
           {
            "marker": {
             "colorbar": {
              "outlinewidth": 0,
              "ticks": ""
             }
            },
            "type": "scattermapbox"
           }
          ],
          "scatterpolar": [
           {
            "marker": {
             "colorbar": {
              "outlinewidth": 0,
              "ticks": ""
             }
            },
            "type": "scatterpolar"
           }
          ],
          "scatterpolargl": [
           {
            "marker": {
             "colorbar": {
              "outlinewidth": 0,
              "ticks": ""
             }
            },
            "type": "scatterpolargl"
           }
          ],
          "scatterternary": [
           {
            "marker": {
             "colorbar": {
              "outlinewidth": 0,
              "ticks": ""
             }
            },
            "type": "scatterternary"
           }
          ],
          "surface": [
           {
            "colorbar": {
             "outlinewidth": 0,
             "ticks": ""
            },
            "colorscale": [
             [
              0,
              "#0d0887"
             ],
             [
              0.1111111111111111,
              "#46039f"
             ],
             [
              0.2222222222222222,
              "#7201a8"
             ],
             [
              0.3333333333333333,
              "#9c179e"
             ],
             [
              0.4444444444444444,
              "#bd3786"
             ],
             [
              0.5555555555555556,
              "#d8576b"
             ],
             [
              0.6666666666666666,
              "#ed7953"
             ],
             [
              0.7777777777777778,
              "#fb9f3a"
             ],
             [
              0.8888888888888888,
              "#fdca26"
             ],
             [
              1,
              "#f0f921"
             ]
            ],
            "type": "surface"
           }
          ],
          "table": [
           {
            "cells": {
             "fill": {
              "color": "#EBF0F8"
             },
             "line": {
              "color": "white"
             }
            },
            "header": {
             "fill": {
              "color": "#C8D4E3"
             },
             "line": {
              "color": "white"
             }
            },
            "type": "table"
           }
          ]
         },
         "layout": {
          "annotationdefaults": {
           "arrowcolor": "#2a3f5f",
           "arrowhead": 0,
           "arrowwidth": 1
          },
          "autotypenumbers": "strict",
          "coloraxis": {
           "colorbar": {
            "outlinewidth": 0,
            "ticks": ""
           }
          },
          "colorscale": {
           "diverging": [
            [
             0,
             "#8e0152"
            ],
            [
             0.1,
             "#c51b7d"
            ],
            [
             0.2,
             "#de77ae"
            ],
            [
             0.3,
             "#f1b6da"
            ],
            [
             0.4,
             "#fde0ef"
            ],
            [
             0.5,
             "#f7f7f7"
            ],
            [
             0.6,
             "#e6f5d0"
            ],
            [
             0.7,
             "#b8e186"
            ],
            [
             0.8,
             "#7fbc41"
            ],
            [
             0.9,
             "#4d9221"
            ],
            [
             1,
             "#276419"
            ]
           ],
           "sequential": [
            [
             0,
             "#0d0887"
            ],
            [
             0.1111111111111111,
             "#46039f"
            ],
            [
             0.2222222222222222,
             "#7201a8"
            ],
            [
             0.3333333333333333,
             "#9c179e"
            ],
            [
             0.4444444444444444,
             "#bd3786"
            ],
            [
             0.5555555555555556,
             "#d8576b"
            ],
            [
             0.6666666666666666,
             "#ed7953"
            ],
            [
             0.7777777777777778,
             "#fb9f3a"
            ],
            [
             0.8888888888888888,
             "#fdca26"
            ],
            [
             1,
             "#f0f921"
            ]
           ],
           "sequentialminus": [
            [
             0,
             "#0d0887"
            ],
            [
             0.1111111111111111,
             "#46039f"
            ],
            [
             0.2222222222222222,
             "#7201a8"
            ],
            [
             0.3333333333333333,
             "#9c179e"
            ],
            [
             0.4444444444444444,
             "#bd3786"
            ],
            [
             0.5555555555555556,
             "#d8576b"
            ],
            [
             0.6666666666666666,
             "#ed7953"
            ],
            [
             0.7777777777777778,
             "#fb9f3a"
            ],
            [
             0.8888888888888888,
             "#fdca26"
            ],
            [
             1,
             "#f0f921"
            ]
           ]
          },
          "colorway": [
           "#636efa",
           "#EF553B",
           "#00cc96",
           "#ab63fa",
           "#FFA15A",
           "#19d3f3",
           "#FF6692",
           "#B6E880",
           "#FF97FF",
           "#FECB52"
          ],
          "font": {
           "color": "#2a3f5f"
          },
          "geo": {
           "bgcolor": "white",
           "lakecolor": "white",
           "landcolor": "#E5ECF6",
           "showlakes": true,
           "showland": true,
           "subunitcolor": "white"
          },
          "hoverlabel": {
           "align": "left"
          },
          "hovermode": "closest",
          "mapbox": {
           "style": "light"
          },
          "paper_bgcolor": "white",
          "plot_bgcolor": "#E5ECF6",
          "polar": {
           "angularaxis": {
            "gridcolor": "white",
            "linecolor": "white",
            "ticks": ""
           },
           "bgcolor": "#E5ECF6",
           "radialaxis": {
            "gridcolor": "white",
            "linecolor": "white",
            "ticks": ""
           }
          },
          "scene": {
           "xaxis": {
            "backgroundcolor": "#E5ECF6",
            "gridcolor": "white",
            "gridwidth": 2,
            "linecolor": "white",
            "showbackground": true,
            "ticks": "",
            "zerolinecolor": "white"
           },
           "yaxis": {
            "backgroundcolor": "#E5ECF6",
            "gridcolor": "white",
            "gridwidth": 2,
            "linecolor": "white",
            "showbackground": true,
            "ticks": "",
            "zerolinecolor": "white"
           },
           "zaxis": {
            "backgroundcolor": "#E5ECF6",
            "gridcolor": "white",
            "gridwidth": 2,
            "linecolor": "white",
            "showbackground": true,
            "ticks": "",
            "zerolinecolor": "white"
           }
          },
          "shapedefaults": {
           "line": {
            "color": "#2a3f5f"
           }
          },
          "ternary": {
           "aaxis": {
            "gridcolor": "white",
            "linecolor": "white",
            "ticks": ""
           },
           "baxis": {
            "gridcolor": "white",
            "linecolor": "white",
            "ticks": ""
           },
           "bgcolor": "#E5ECF6",
           "caxis": {
            "gridcolor": "white",
            "linecolor": "white",
            "ticks": ""
           }
          },
          "title": {
           "x": 0.05
          },
          "xaxis": {
           "automargin": true,
           "gridcolor": "white",
           "linecolor": "white",
           "ticks": "",
           "title": {
            "standoff": 15
           },
           "zerolinecolor": "white",
           "zerolinewidth": 2
          },
          "yaxis": {
           "automargin": true,
           "gridcolor": "white",
           "linecolor": "white",
           "ticks": "",
           "title": {
            "standoff": 15
           },
           "zerolinecolor": "white",
           "zerolinewidth": 2
          }
         }
        },
        "title": {
         "text": "TFN frozen dimension"
        },
        "width": 1200,
        "xaxis": {
         "anchor": "y",
         "categoryarray": [
          "very negative",
          "negative",
          "weakly negative",
          "Neutral",
          "weakly positive",
          "positive",
          "very positive"
         ],
         "categoryorder": "array",
         "domain": [
          0,
          0.45
         ]
        },
        "xaxis2": {
         "anchor": "y2",
         "categoryarray": [
          "very negative",
          "negative",
          "weakly negative",
          "Neutral",
          "weakly positive",
          "positive",
          "very positive"
         ],
         "categoryorder": "array",
         "domain": [
          0.55,
          1
         ]
        },
        "yaxis": {
         "anchor": "x",
         "domain": [
          0,
          1
         ],
         "range": [
          0,
          300
         ]
        },
        "yaxis2": {
         "anchor": "x2",
         "domain": [
          0,
          1
         ],
         "range": [
          0,
          300
         ]
        }
       }
      },
      "text/html": [
       "<div>                            <div id=\"b7b9befa-5171-4ced-a64b-f6c35154e4a4\" class=\"plotly-graph-div\" style=\"height:600px; width:1200px;\"></div>            <script type=\"text/javascript\">                require([\"plotly\"], function(Plotly) {                    window.PLOTLYENV=window.PLOTLYENV || {};                                    if (document.getElementById(\"b7b9befa-5171-4ced-a64b-f6c35154e4a4\")) {                    Plotly.newPlot(                        \"b7b9befa-5171-4ced-a64b-f6c35154e4a4\",                        [{\"alignmentgroup\":\"True\",\"hovertemplate\":\"preds_7=%{x}<br>count=%{y}<extra></extra>\",\"legendgroup\":\"\",\"marker\":{\"color\":\"#636efa\",\"pattern\":{\"shape\":\"\"}},\"name\":\"\",\"offsetgroup\":\"\",\"orientation\":\"v\",\"showlegend\":false,\"textposition\":\"auto\",\"x\":[\"weakly positive\",\"weakly positive\",\"Neutral\",\"weakly positive\",\"weakly negative\",\"Neutral\",\"Neutral\",\"weakly positive\",\"Neutral\",\"weakly positive\",\"positive\",\"weakly negative\",\"weakly negative\",\"Neutral\",\"Neutral\",\"Neutral\",\"Neutral\",\"Neutral\",\"weakly negative\",\"weakly positive\",\"Neutral\",\"Neutral\",\"weakly positive\",\"weakly positive\",\"Neutral\",\"weakly positive\",\"weakly positive\",\"weakly positive\",\"Neutral\",\"Neutral\",\"Neutral\",\"Neutral\",\"weakly positive\",\"Neutral\",\"Neutral\",\"Neutral\",\"Neutral\",\"Neutral\",\"weakly positive\",\"weakly negative\",\"Neutral\",\"weakly positive\",\"Neutral\",\"Neutral\",\"positive\",\"weakly positive\",\"weakly negative\",\"Neutral\",\"weakly positive\",\"weakly positive\",\"weakly positive\",\"Neutral\",\"weakly negative\",\"weakly negative\",\"Neutral\",\"weakly positive\",\"Neutral\",\"weakly positive\",\"positive\",\"weakly positive\",\"weakly negative\",\"Neutral\",\"Neutral\",\"weakly positive\",\"weakly negative\",\"Neutral\",\"weakly negative\",\"weakly positive\",\"weakly negative\",\"Neutral\",\"Neutral\",\"Neutral\",\"Neutral\",\"weakly negative\",\"Neutral\",\"positive\",\"Neutral\",\"Neutral\",\"weakly negative\",\"weakly positive\",\"weakly negative\",\"Neutral\",\"Neutral\",\"weakly positive\",\"Neutral\",\"weakly positive\",\"Neutral\",\"weakly positive\",\"Neutral\",\"weakly positive\",\"Neutral\",\"Neutral\",\"weakly positive\",\"weakly positive\",\"weakly negative\",\"Neutral\",\"Neutral\",\"weakly positive\",\"weakly negative\",\"weakly positive\",\"weakly negative\",\"Neutral\",\"weakly positive\",\"Neutral\",\"Neutral\",\"weakly negative\",\"weakly positive\",\"weakly positive\",\"Neutral\",\"weakly positive\",\"positive\",\"Neutral\",\"weakly positive\",\"positive\",\"Neutral\",\"weakly positive\",\"Neutral\",\"positive\",\"very positive\",\"weakly negative\",\"weakly positive\",\"weakly positive\",\"Neutral\",\"positive\",\"weakly negative\",\"weakly positive\",\"weakly negative\",\"Neutral\",\"weakly negative\",\"Neutral\",\"Neutral\",\"weakly negative\",\"Neutral\",\"weakly negative\",\"Neutral\",\"Neutral\",\"Neutral\",\"weakly negative\",\"weakly positive\",\"Neutral\",\"weakly negative\",\"Neutral\",\"Neutral\",\"weakly positive\",\"Neutral\",\"weakly positive\",\"Neutral\",\"Neutral\",\"weakly positive\",\"weakly negative\",\"Neutral\",\"weakly negative\",\"Neutral\",\"weakly positive\",\"Neutral\",\"weakly positive\",\"weakly negative\",\"Neutral\",\"Neutral\",\"weakly negative\",\"Neutral\",\"weakly negative\",\"weakly negative\",\"weakly positive\",\"weakly positive\",\"Neutral\",\"Neutral\",\"positive\",\"weakly negative\",\"Neutral\",\"weakly negative\",\"Neutral\",\"Neutral\",\"Neutral\",\"Neutral\",\"weakly negative\",\"weakly negative\",\"weakly positive\",\"Neutral\",\"Neutral\",\"positive\",\"weakly positive\",\"weakly negative\",\"weakly negative\",\"positive\",\"Neutral\",\"weakly positive\",\"positive\",\"Neutral\",\"positive\",\"Neutral\",\"Neutral\",\"Neutral\",\"Neutral\",\"weakly negative\",\"Neutral\",\"weakly positive\",\"weakly positive\",\"Neutral\",\"weakly positive\",\"weakly positive\",\"Neutral\",\"Neutral\",\"Neutral\",\"positive\",\"Neutral\",\"weakly negative\",\"Neutral\",\"Neutral\",\"Neutral\",\"weakly positive\",\"Neutral\",\"weakly negative\",\"weakly positive\",\"weakly positive\",\"weakly negative\",\"positive\",\"Neutral\",\"weakly positive\",\"Neutral\",\"weakly negative\",\"Neutral\",\"weakly positive\",\"positive\",\"weakly negative\",\"positive\",\"Neutral\",\"weakly negative\",\"Neutral\",\"weakly positive\",\"weakly negative\",\"Neutral\",\"Neutral\",\"Neutral\",\"Neutral\",\"weakly positive\",\"Neutral\",\"Neutral\",\"weakly positive\",\"Neutral\",\"Neutral\",\"weakly negative\",\"weakly negative\",\"weakly positive\",\"Neutral\",\"Neutral\",\"weakly negative\",\"weakly positive\",\"weakly negative\",\"weakly positive\",\"positive\",\"positive\",\"weakly positive\",\"weakly positive\",\"weakly negative\",\"weakly positive\",\"Neutral\",\"Neutral\",\"Neutral\",\"weakly negative\",\"weakly positive\",\"weakly positive\",\"Neutral\",\"Neutral\",\"Neutral\",\"Neutral\",\"weakly positive\",\"Neutral\",\"Neutral\",\"positive\",\"weakly positive\",\"weakly positive\",\"weakly positive\",\"Neutral\",\"Neutral\",\"Neutral\",\"weakly positive\",\"weakly positive\",\"Neutral\",\"positive\",\"Neutral\",\"weakly positive\",\"weakly positive\",\"weakly positive\",\"weakly negative\",\"Neutral\",\"Neutral\",\"weakly positive\",\"weakly positive\",\"weakly positive\",\"weakly negative\",\"Neutral\",\"Neutral\",\"Neutral\",\"Neutral\",\"weakly negative\",\"positive\",\"weakly negative\",\"weakly positive\",\"Neutral\",\"weakly positive\",\"Neutral\",\"positive\",\"Neutral\",\"positive\",\"weakly positive\",\"weakly negative\",\"weakly positive\",\"Neutral\",\"weakly positive\",\"weakly positive\",\"positive\",\"positive\",\"weakly negative\",\"weakly positive\",\"Neutral\",\"weakly negative\",\"weakly positive\",\"weakly positive\",\"Neutral\",\"Neutral\",\"weakly negative\",\"Neutral\",\"Neutral\",\"Neutral\",\"Neutral\",\"Neutral\",\"weakly negative\",\"weakly negative\",\"weakly negative\",\"weakly positive\",\"Neutral\",\"Neutral\",\"weakly negative\",\"weakly positive\",\"Neutral\",\"weakly negative\",\"weakly positive\",\"weakly negative\",\"Neutral\",\"weakly negative\",\"weakly negative\",\"weakly positive\",\"weakly positive\",\"Neutral\",\"weakly positive\",\"weakly positive\",\"weakly positive\",\"Neutral\",\"positive\",\"weakly positive\",\"positive\",\"Neutral\",\"Neutral\",\"weakly negative\",\"Neutral\",\"weakly positive\",\"weakly negative\",\"Neutral\",\"weakly negative\",\"weakly negative\",\"weakly negative\",\"positive\",\"weakly positive\",\"weakly positive\",\"Neutral\",\"weakly negative\",\"weakly positive\",\"weakly positive\",\"weakly positive\",\"Neutral\",\"Neutral\",\"Neutral\",\"Neutral\",\"weakly negative\",\"Neutral\",\"weakly positive\",\"Neutral\",\"weakly negative\",\"weakly positive\",\"weakly positive\",\"weakly negative\",\"Neutral\",\"Neutral\",\"weakly negative\",\"weakly negative\",\"Neutral\",\"Neutral\",\"Neutral\",\"Neutral\",\"positive\",\"weakly negative\",\"Neutral\",\"Neutral\",\"positive\",\"weakly negative\",\"weakly positive\",\"weakly negative\",\"Neutral\",\"Neutral\",\"Neutral\",\"weakly negative\",\"weakly positive\",\"weakly positive\",\"Neutral\",\"weakly positive\",\"weakly positive\",\"Neutral\",\"positive\",\"weakly positive\",\"weakly positive\",\"weakly positive\",\"weakly positive\",\"weakly positive\",\"weakly positive\",\"weakly positive\",\"Neutral\",\"Neutral\",\"weakly negative\",\"Neutral\",\"weakly negative\",\"Neutral\",\"Neutral\",\"Neutral\",\"Neutral\",\"Neutral\",\"Neutral\",\"weakly negative\",\"weakly positive\",\"negative\",\"Neutral\",\"weakly negative\",\"positive\",\"weakly negative\",\"Neutral\",\"weakly negative\",\"weakly positive\",\"weakly negative\",\"weakly positive\",\"Neutral\",\"Neutral\",\"positive\",\"Neutral\",\"Neutral\",\"Neutral\",\"weakly positive\",\"weakly positive\",\"weakly positive\",\"weakly positive\",\"weakly positive\",\"weakly positive\",\"Neutral\",\"Neutral\",\"weakly negative\",\"Neutral\",\"weakly negative\",\"weakly negative\",\"weakly positive\",\"Neutral\",\"Neutral\",\"weakly positive\",\"weakly positive\",\"weakly negative\",\"Neutral\",\"weakly positive\",\"positive\",\"weakly positive\",\"Neutral\",\"weakly positive\",\"weakly negative\",\"weakly negative\",\"weakly positive\",\"weakly negative\",\"positive\",\"Neutral\",\"weakly negative\",\"weakly positive\",\"weakly positive\",\"weakly positive\",\"weakly positive\",\"weakly positive\",\"Neutral\",\"weakly positive\",\"Neutral\",\"weakly negative\",\"Neutral\",\"weakly negative\",\"weakly negative\",\"Neutral\",\"Neutral\",\"Neutral\",\"Neutral\",\"Neutral\",\"weakly negative\",\"Neutral\",\"negative\",\"weakly negative\",\"weakly positive\",\"Neutral\",\"weakly negative\",\"weakly negative\",\"weakly negative\",\"Neutral\",\"weakly negative\",\"Neutral\",\"Neutral\",\"weakly positive\",\"positive\",\"Neutral\",\"Neutral\",\"weakly negative\",\"weakly positive\",\"Neutral\",\"weakly positive\",\"weakly positive\",\"Neutral\",\"weakly negative\",\"weakly positive\",\"weakly positive\",\"weakly positive\",\"weakly positive\",\"Neutral\",\"Neutral\",\"weakly positive\",\"weakly positive\",\"weakly positive\",\"weakly positive\",\"positive\",\"weakly positive\",\"positive\",\"Neutral\",\"Neutral\",\"Neutral\",\"Neutral\",\"weakly negative\",\"weakly positive\",\"Neutral\",\"positive\",\"very positive\",\"Neutral\",\"weakly positive\",\"weakly negative\",\"positive\",\"weakly negative\",\"weakly positive\",\"Neutral\",\"Neutral\",\"weakly positive\",\"Neutral\",\"weakly negative\",\"Neutral\",\"Neutral\",\"positive\",\"Neutral\",\"Neutral\",\"weakly positive\",\"Neutral\",\"weakly negative\",\"weakly positive\",\"weakly positive\",\"Neutral\",\"weakly positive\",\"Neutral\",\"Neutral\",\"weakly positive\",\"weakly positive\",\"Neutral\",\"weakly positive\",\"Neutral\",\"weakly negative\",\"weakly positive\",\"weakly positive\",\"weakly positive\",\"positive\",\"positive\",\"weakly positive\",\"weakly positive\",\"weakly positive\",\"weakly negative\",\"positive\",\"Neutral\",\"weakly positive\",\"Neutral\",\"weakly positive\",\"weakly positive\",\"weakly positive\",\"Neutral\",\"weakly positive\",\"Neutral\",\"Neutral\",\"Neutral\",\"weakly positive\",\"positive\",\"weakly negative\",\"Neutral\",\"weakly positive\",\"weakly positive\",\"weakly positive\",\"negative\",\"Neutral\",\"weakly positive\",\"weakly positive\",\"Neutral\",\"Neutral\",\"positive\",\"weakly positive\",\"Neutral\",\"positive\",\"weakly positive\",\"Neutral\",\"weakly negative\",\"weakly positive\",\"Neutral\",\"weakly negative\",\"weakly positive\",\"Neutral\",\"weakly negative\",\"Neutral\",\"weakly positive\",\"weakly positive\",\"Neutral\",\"Neutral\",\"Neutral\",\"Neutral\",\"weakly positive\",\"weakly negative\",\"Neutral\",\"Neutral\",\"weakly positive\",\"Neutral\",\"Neutral\",\"weakly positive\",\"weakly negative\",\"weakly positive\",\"Neutral\",\"Neutral\",\"Neutral\",\"weakly negative\",\"positive\",\"weakly positive\",\"Neutral\",\"weakly negative\",\"Neutral\",\"Neutral\",\"Neutral\",\"Neutral\",\"Neutral\",\"weakly negative\",\"weakly negative\",\"Neutral\",\"weakly positive\",\"Neutral\",\"Neutral\",\"weakly negative\",\"weakly positive\",\"Neutral\",\"Neutral\",\"Neutral\",\"weakly positive\",\"Neutral\",\"Neutral\",\"Neutral\",\"weakly negative\",\"weakly positive\",\"Neutral\",\"weakly positive\",\"weakly negative\",\"Neutral\",\"Neutral\",\"weakly positive\",\"Neutral\",\"Neutral\",\"weakly negative\",\"Neutral\",\"weakly negative\",\"weakly positive\",\"weakly positive\",\"weakly positive\",\"weakly positive\",\"Neutral\",\"weakly positive\",\"weakly positive\",\"Neutral\",\"Neutral\",\"Neutral\",\"Neutral\"],\"xaxis\":\"x\",\"y\":[1,1,1,1,1,1,1,1,1,1,1,1,1,1,1,1,1,1,1,1,1,1,1,1,1,1,1,1,1,1,1,1,1,1,1,1,1,1,1,1,1,1,1,1,1,1,1,1,1,1,1,1,1,1,1,1,1,1,1,1,1,1,1,1,1,1,1,1,1,1,1,1,1,1,1,1,1,1,1,1,1,1,1,1,1,1,1,1,1,1,1,1,1,1,1,1,1,1,1,1,1,1,1,1,1,1,1,1,1,1,1,1,1,1,1,1,1,1,1,1,1,1,1,1,1,1,1,1,1,1,1,1,1,1,1,1,1,1,1,1,1,1,1,1,1,1,1,1,1,1,1,1,1,1,1,1,1,1,1,1,1,1,1,1,1,1,1,1,1,1,1,1,1,1,1,1,1,1,1,1,1,1,1,1,1,1,1,1,1,1,1,1,1,1,1,1,1,1,1,1,1,1,1,1,1,1,1,1,1,1,1,1,1,1,1,1,1,1,1,1,1,1,1,1,1,1,1,1,1,1,1,1,1,1,1,1,1,1,1,1,1,1,1,1,1,1,1,1,1,1,1,1,1,1,1,1,1,1,1,1,1,1,1,1,1,1,1,1,1,1,1,1,1,1,1,1,1,1,1,1,1,1,1,1,1,1,1,1,1,1,1,1,1,1,1,1,1,1,1,1,1,1,1,1,1,1,1,1,1,1,1,1,1,1,1,1,1,1,1,1,1,1,1,1,1,1,1,1,1,1,1,1,1,1,1,1,1,1,1,1,1,1,1,1,1,1,1,1,1,1,1,1,1,1,1,1,1,1,1,1,1,1,1,1,1,1,1,1,1,1,1,1,1,1,1,1,1,1,1,1,1,1,1,1,1,1,1,1,1,1,1,1,1,1,1,1,1,1,1,1,1,1,1,1,1,1,1,1,1,1,1,1,1,1,1,1,1,1,1,1,1,1,1,1,1,1,1,1,1,1,1,1,1,1,1,1,1,1,1,1,1,1,1,1,1,1,1,1,1,1,1,1,1,1,1,1,1,1,1,1,1,1,1,1,1,1,1,1,1,1,1,1,1,1,1,1,1,1,1,1,1,1,1,1,1,1,1,1,1,1,1,1,1,1,1,1,1,1,1,1,1,1,1,1,1,1,1,1,1,1,1,1,1,1,1,1,1,1,1,1,1,1,1,1,1,1,1,1,1,1,1,1,1,1,1,1,1,1,1,1,1,1,1,1,1,1,1,1,1,1,1,1,1,1,1,1,1,1,1,1,1,1,1,1,1,1,1,1,1,1,1,1,1,1,1,1,1,1,1,1,1,1,1,1,1,1,1,1,1,1,1,1,1,1,1,1,1,1,1,1,1,1,1,1,1,1,1,1,1,1,1,1,1,1,1,1,1,1,1,1,1,1,1,1,1,1,1,1,1,1,1,1,1,1,1,1,1,1,1,1,1,1,1,1,1,1,1,1,1,1,1,1,1,1,1,1,1,1,1,1,1,1,1,1,1,1,1,1,1,1,1,1,1,1,1,1,1,1,1,1,1,1,1,1,1,1],\"yaxis\":\"y\",\"type\":\"bar\"},{\"alignmentgroup\":\"True\",\"hovertemplate\":\"preds_7=%{x}<br>count=%{y}<extra></extra>\",\"legendgroup\":\"\",\"marker\":{\"color\":\"#636efa\",\"pattern\":{\"shape\":\"\"}},\"name\":\"\",\"offsetgroup\":\"\",\"orientation\":\"v\",\"showlegend\":false,\"textposition\":\"auto\",\"x\":[\"Neutral\",\"Neutral\",\"Neutral\",\"Neutral\",\"Neutral\",\"Neutral\",\"Neutral\",\"Neutral\",\"Neutral\",\"Neutral\",\"Neutral\",\"Neutral\",\"Neutral\",\"Neutral\",\"weakly positive\",\"Neutral\",\"Neutral\",\"Neutral\",\"Neutral\",\"Neutral\",\"Neutral\",\"weakly positive\",\"weakly positive\",\"Neutral\",\"weakly positive\",\"Neutral\",\"weakly positive\",\"weakly positive\",\"Neutral\",\"Neutral\",\"Neutral\",\"Neutral\",\"Neutral\",\"Neutral\",\"Neutral\",\"Neutral\",\"Neutral\",\"Neutral\",\"Neutral\",\"Neutral\",\"Neutral\",\"Neutral\",\"Neutral\",\"Neutral\",\"weakly positive\",\"Neutral\",\"Neutral\",\"weakly positive\",\"Neutral\",\"Neutral\",\"Neutral\",\"Neutral\",\"Neutral\",\"Neutral\",\"Neutral\",\"weakly positive\",\"Neutral\",\"Neutral\",\"weakly positive\",\"weakly positive\",\"Neutral\",\"Neutral\",\"weakly positive\",\"weakly positive\",\"weakly positive\",\"Neutral\",\"weakly positive\",\"Neutral\",\"Neutral\",\"Neutral\",\"Neutral\",\"Neutral\",\"weakly positive\",\"Neutral\",\"Neutral\",\"Neutral\",\"Neutral\",\"Neutral\",\"Neutral\",\"Neutral\",\"Neutral\",\"Neutral\",\"Neutral\",\"weakly positive\",\"Neutral\",\"Neutral\",\"Neutral\",\"Neutral\",\"weakly positive\",\"weakly positive\",\"Neutral\",\"Neutral\",\"Neutral\",\"Neutral\",\"Neutral\",\"Neutral\",\"Neutral\",\"Neutral\",\"weakly positive\",\"Neutral\",\"weakly positive\",\"Neutral\",\"Neutral\",\"Neutral\",\"Neutral\",\"weakly positive\",\"Neutral\",\"Neutral\",\"weakly positive\",\"Neutral\",\"Neutral\",\"Neutral\",\"Neutral\",\"Neutral\",\"weakly positive\",\"Neutral\",\"Neutral\",\"Neutral\",\"Neutral\",\"Neutral\",\"weakly positive\",\"weakly positive\",\"Neutral\",\"weakly positive\",\"weakly positive\",\"weakly positive\",\"Neutral\",\"Neutral\",\"Neutral\",\"Neutral\",\"Neutral\",\"Neutral\",\"Neutral\",\"Neutral\",\"weakly positive\",\"Neutral\",\"Neutral\",\"Neutral\",\"Neutral\",\"weakly positive\",\"Neutral\",\"Neutral\",\"weakly positive\",\"weakly positive\",\"Neutral\",\"Neutral\",\"Neutral\",\"Neutral\",\"Neutral\",\"Neutral\",\"weakly positive\",\"Neutral\",\"Neutral\",\"Neutral\",\"Neutral\",\"Neutral\",\"Neutral\",\"Neutral\",\"Neutral\",\"Neutral\",\"weakly positive\",\"Neutral\",\"Neutral\",\"Neutral\",\"Neutral\",\"Neutral\",\"weakly positive\",\"Neutral\",\"Neutral\",\"Neutral\",\"Neutral\",\"Neutral\",\"Neutral\",\"weakly positive\",\"Neutral\",\"Neutral\",\"Neutral\",\"weakly positive\",\"Neutral\",\"Neutral\",\"Neutral\",\"Neutral\",\"Neutral\",\"Neutral\",\"weakly positive\",\"Neutral\",\"Neutral\",\"Neutral\",\"Neutral\",\"weakly positive\",\"Neutral\",\"Neutral\",\"Neutral\",\"Neutral\",\"Neutral\",\"Neutral\",\"Neutral\",\"Neutral\",\"Neutral\",\"Neutral\",\"Neutral\",\"Neutral\",\"Neutral\",\"Neutral\",\"Neutral\",\"Neutral\",\"Neutral\",\"Neutral\",\"Neutral\",\"Neutral\",\"Neutral\",\"Neutral\",\"Neutral\",\"Neutral\",\"Neutral\",\"Neutral\",\"Neutral\",\"weakly positive\",\"weakly positive\",\"Neutral\",\"Neutral\",\"Neutral\",\"Neutral\",\"Neutral\",\"Neutral\",\"Neutral\",\"Neutral\",\"Neutral\",\"Neutral\",\"Neutral\",\"Neutral\",\"Neutral\",\"Neutral\",\"Neutral\",\"Neutral\",\"Neutral\",\"Neutral\",\"Neutral\",\"weakly positive\",\"Neutral\",\"weakly positive\",\"weakly positive\",\"weakly positive\",\"Neutral\",\"Neutral\",\"Neutral\",\"Neutral\",\"Neutral\",\"Neutral\",\"weakly positive\",\"Neutral\",\"Neutral\",\"Neutral\",\"Neutral\",\"weakly positive\",\"Neutral\",\"Neutral\",\"Neutral\",\"Neutral\",\"Neutral\",\"Neutral\",\"weakly positive\",\"Neutral\",\"Neutral\",\"Neutral\",\"Neutral\",\"Neutral\",\"Neutral\",\"Neutral\",\"weakly positive\",\"Neutral\",\"Neutral\",\"weakly positive\",\"Neutral\",\"Neutral\",\"weakly positive\",\"Neutral\",\"weakly positive\",\"Neutral\",\"Neutral\",\"Neutral\",\"Neutral\",\"Neutral\",\"weakly positive\",\"Neutral\",\"Neutral\",\"weakly positive\",\"Neutral\",\"Neutral\",\"Neutral\",\"Neutral\",\"Neutral\",\"Neutral\",\"weakly positive\",\"Neutral\",\"Neutral\",\"Neutral\",\"Neutral\",\"Neutral\",\"weakly positive\",\"Neutral\",\"Neutral\",\"Neutral\",\"Neutral\",\"Neutral\",\"Neutral\",\"Neutral\",\"Neutral\",\"Neutral\",\"Neutral\",\"weakly positive\",\"Neutral\",\"Neutral\",\"weakly positive\",\"Neutral\",\"Neutral\",\"Neutral\",\"Neutral\",\"weakly positive\",\"Neutral\",\"Neutral\",\"Neutral\",\"Neutral\",\"Neutral\",\"Neutral\",\"Neutral\",\"Neutral\",\"Neutral\",\"Neutral\",\"Neutral\",\"weakly positive\",\"weakly positive\",\"Neutral\",\"Neutral\",\"weakly positive\",\"Neutral\",\"Neutral\",\"Neutral\",\"Neutral\",\"Neutral\",\"Neutral\",\"Neutral\",\"weakly positive\",\"Neutral\",\"Neutral\",\"Neutral\",\"weakly positive\",\"Neutral\",\"weakly positive\",\"weakly positive\",\"Neutral\",\"weakly positive\",\"weakly positive\",\"weakly positive\",\"Neutral\",\"Neutral\",\"Neutral\",\"Neutral\",\"weakly positive\",\"Neutral\",\"Neutral\",\"Neutral\",\"Neutral\",\"Neutral\",\"weakly positive\",\"Neutral\",\"Neutral\",\"weakly positive\",\"Neutral\",\"weakly positive\",\"Neutral\",\"Neutral\",\"weakly positive\",\"Neutral\",\"Neutral\",\"Neutral\",\"weakly positive\",\"Neutral\",\"Neutral\",\"Neutral\",\"Neutral\",\"Neutral\",\"Neutral\",\"Neutral\",\"Neutral\",\"Neutral\",\"Neutral\",\"Neutral\",\"Neutral\",\"Neutral\",\"Neutral\",\"Neutral\",\"weakly positive\",\"Neutral\",\"Neutral\",\"Neutral\",\"weakly positive\",\"Neutral\",\"Neutral\",\"Neutral\",\"Neutral\",\"Neutral\",\"weakly positive\",\"Neutral\",\"Neutral\",\"Neutral\",\"Neutral\",\"Neutral\",\"weakly positive\",\"Neutral\",\"Neutral\",\"Neutral\",\"Neutral\",\"Neutral\",\"Neutral\",\"Neutral\",\"Neutral\",\"Neutral\",\"Neutral\",\"Neutral\",\"Neutral\",\"Neutral\",\"Neutral\",\"Neutral\",\"Neutral\",\"Neutral\",\"Neutral\",\"Neutral\",\"weakly positive\",\"weakly positive\",\"Neutral\",\"Neutral\",\"Neutral\",\"Neutral\",\"weakly positive\",\"Neutral\",\"Neutral\",\"Neutral\",\"weakly positive\",\"Neutral\",\"Neutral\",\"Neutral\",\"Neutral\",\"Neutral\",\"Neutral\",\"Neutral\",\"Neutral\",\"weakly positive\",\"Neutral\",\"Neutral\",\"Neutral\",\"Neutral\",\"Neutral\",\"Neutral\",\"weakly positive\",\"Neutral\",\"Neutral\",\"weakly positive\",\"Neutral\",\"weakly positive\",\"Neutral\",\"Neutral\",\"Neutral\",\"Neutral\",\"weakly positive\",\"weakly positive\",\"Neutral\",\"Neutral\",\"Neutral\",\"Neutral\",\"Neutral\",\"Neutral\",\"Neutral\",\"Neutral\",\"weakly positive\",\"Neutral\",\"Neutral\",\"weakly positive\",\"Neutral\",\"weakly positive\",\"Neutral\",\"Neutral\",\"Neutral\",\"weakly positive\",\"Neutral\",\"weakly positive\",\"Neutral\",\"Neutral\",\"Neutral\",\"Neutral\",\"Neutral\",\"Neutral\",\"Neutral\",\"Neutral\",\"Neutral\",\"weakly positive\",\"Neutral\",\"weakly positive\",\"Neutral\",\"Neutral\",\"Neutral\",\"Neutral\",\"Neutral\",\"Neutral\",\"Neutral\",\"Neutral\",\"Neutral\",\"weakly positive\",\"Neutral\",\"weakly positive\",\"Neutral\",\"weakly positive\",\"Neutral\",\"Neutral\",\"Neutral\",\"Neutral\",\"weakly positive\",\"Neutral\",\"Neutral\",\"weakly positive\",\"Neutral\",\"Neutral\",\"Neutral\",\"Neutral\",\"Neutral\",\"Neutral\",\"Neutral\",\"Neutral\",\"Neutral\",\"Neutral\",\"Neutral\",\"Neutral\",\"Neutral\",\"Neutral\",\"Neutral\",\"Neutral\",\"Neutral\",\"Neutral\",\"Neutral\",\"Neutral\",\"Neutral\",\"weakly positive\",\"weakly positive\",\"Neutral\",\"Neutral\",\"weakly positive\",\"Neutral\",\"weakly positive\",\"Neutral\",\"Neutral\",\"Neutral\",\"Neutral\",\"Neutral\",\"Neutral\",\"Neutral\",\"Neutral\",\"Neutral\",\"weakly positive\",\"Neutral\",\"Neutral\",\"weakly positive\",\"Neutral\",\"Neutral\",\"Neutral\",\"weakly positive\",\"weakly positive\",\"Neutral\",\"Neutral\",\"Neutral\",\"Neutral\",\"Neutral\",\"Neutral\",\"Neutral\",\"Neutral\",\"Neutral\",\"Neutral\",\"Neutral\",\"Neutral\",\"Neutral\",\"Neutral\",\"Neutral\",\"Neutral\",\"weakly positive\",\"Neutral\",\"Neutral\",\"Neutral\",\"weakly positive\",\"weakly positive\",\"Neutral\",\"Neutral\",\"Neutral\",\"Neutral\",\"Neutral\",\"Neutral\",\"Neutral\",\"Neutral\",\"Neutral\",\"Neutral\",\"Neutral\",\"Neutral\",\"Neutral\",\"Neutral\",\"Neutral\",\"Neutral\",\"Neutral\",\"Neutral\",\"Neutral\",\"Neutral\",\"Neutral\",\"Neutral\",\"Neutral\",\"Neutral\",\"Neutral\",\"Neutral\",\"Neutral\",\"Neutral\",\"Neutral\",\"Neutral\",\"Neutral\",\"Neutral\",\"Neutral\",\"Neutral\",\"Neutral\",\"Neutral\",\"Neutral\",\"Neutral\",\"Neutral\",\"Neutral\",\"Neutral\",\"Neutral\",\"weakly positive\",\"Neutral\",\"Neutral\",\"Neutral\",\"weakly positive\",\"Neutral\",\"Neutral\",\"Neutral\",\"weakly positive\",\"Neutral\",\"Neutral\",\"Neutral\",\"Neutral\",\"Neutral\",\"Neutral\",\"weakly positive\",\"weakly positive\",\"Neutral\",\"weakly positive\",\"Neutral\",\"Neutral\",\"Neutral\",\"Neutral\",\"Neutral\",\"Neutral\",\"Neutral\",\"Neutral\",\"Neutral\",\"Neutral\",\"Neutral\",\"weakly positive\",\"Neutral\",\"Neutral\",\"weakly positive\",\"weakly positive\",\"Neutral\",\"Neutral\",\"Neutral\",\"Neutral\",\"Neutral\",\"Neutral\",\"Neutral\",\"Neutral\",\"Neutral\",\"Neutral\",\"Neutral\",\"Neutral\",\"Neutral\",\"Neutral\",\"Neutral\",\"weakly positive\",\"Neutral\",\"weakly positive\",\"Neutral\",\"Neutral\",\"Neutral\"],\"xaxis\":\"x2\",\"y\":[1,1,1,1,1,1,1,1,1,1,1,1,1,1,1,1,1,1,1,1,1,1,1,1,1,1,1,1,1,1,1,1,1,1,1,1,1,1,1,1,1,1,1,1,1,1,1,1,1,1,1,1,1,1,1,1,1,1,1,1,1,1,1,1,1,1,1,1,1,1,1,1,1,1,1,1,1,1,1,1,1,1,1,1,1,1,1,1,1,1,1,1,1,1,1,1,1,1,1,1,1,1,1,1,1,1,1,1,1,1,1,1,1,1,1,1,1,1,1,1,1,1,1,1,1,1,1,1,1,1,1,1,1,1,1,1,1,1,1,1,1,1,1,1,1,1,1,1,1,1,1,1,1,1,1,1,1,1,1,1,1,1,1,1,1,1,1,1,1,1,1,1,1,1,1,1,1,1,1,1,1,1,1,1,1,1,1,1,1,1,1,1,1,1,1,1,1,1,1,1,1,1,1,1,1,1,1,1,1,1,1,1,1,1,1,1,1,1,1,1,1,1,1,1,1,1,1,1,1,1,1,1,1,1,1,1,1,1,1,1,1,1,1,1,1,1,1,1,1,1,1,1,1,1,1,1,1,1,1,1,1,1,1,1,1,1,1,1,1,1,1,1,1,1,1,1,1,1,1,1,1,1,1,1,1,1,1,1,1,1,1,1,1,1,1,1,1,1,1,1,1,1,1,1,1,1,1,1,1,1,1,1,1,1,1,1,1,1,1,1,1,1,1,1,1,1,1,1,1,1,1,1,1,1,1,1,1,1,1,1,1,1,1,1,1,1,1,1,1,1,1,1,1,1,1,1,1,1,1,1,1,1,1,1,1,1,1,1,1,1,1,1,1,1,1,1,1,1,1,1,1,1,1,1,1,1,1,1,1,1,1,1,1,1,1,1,1,1,1,1,1,1,1,1,1,1,1,1,1,1,1,1,1,1,1,1,1,1,1,1,1,1,1,1,1,1,1,1,1,1,1,1,1,1,1,1,1,1,1,1,1,1,1,1,1,1,1,1,1,1,1,1,1,1,1,1,1,1,1,1,1,1,1,1,1,1,1,1,1,1,1,1,1,1,1,1,1,1,1,1,1,1,1,1,1,1,1,1,1,1,1,1,1,1,1,1,1,1,1,1,1,1,1,1,1,1,1,1,1,1,1,1,1,1,1,1,1,1,1,1,1,1,1,1,1,1,1,1,1,1,1,1,1,1,1,1,1,1,1,1,1,1,1,1,1,1,1,1,1,1,1,1,1,1,1,1,1,1,1,1,1,1,1,1,1,1,1,1,1,1,1,1,1,1,1,1,1,1,1,1,1,1,1,1,1,1,1,1,1,1,1,1,1,1,1,1,1,1,1,1,1,1,1,1,1,1,1,1,1,1,1,1,1,1,1,1,1,1,1,1,1,1,1,1,1,1,1,1,1,1,1,1,1,1,1,1,1,1,1,1,1,1,1,1,1,1,1,1,1,1,1,1,1,1,1,1,1,1,1,1,1,1,1,1,1,1,1,1,1,1,1,1,1,1,1,1,1,1,1,1,1,1,1,1,1,1],\"yaxis\":\"y2\",\"type\":\"bar\"}],                        {\"template\":{\"data\":{\"histogram2dcontour\":[{\"type\":\"histogram2dcontour\",\"colorbar\":{\"outlinewidth\":0,\"ticks\":\"\"},\"colorscale\":[[0.0,\"#0d0887\"],[0.1111111111111111,\"#46039f\"],[0.2222222222222222,\"#7201a8\"],[0.3333333333333333,\"#9c179e\"],[0.4444444444444444,\"#bd3786\"],[0.5555555555555556,\"#d8576b\"],[0.6666666666666666,\"#ed7953\"],[0.7777777777777778,\"#fb9f3a\"],[0.8888888888888888,\"#fdca26\"],[1.0,\"#f0f921\"]]}],\"choropleth\":[{\"type\":\"choropleth\",\"colorbar\":{\"outlinewidth\":0,\"ticks\":\"\"}}],\"histogram2d\":[{\"type\":\"histogram2d\",\"colorbar\":{\"outlinewidth\":0,\"ticks\":\"\"},\"colorscale\":[[0.0,\"#0d0887\"],[0.1111111111111111,\"#46039f\"],[0.2222222222222222,\"#7201a8\"],[0.3333333333333333,\"#9c179e\"],[0.4444444444444444,\"#bd3786\"],[0.5555555555555556,\"#d8576b\"],[0.6666666666666666,\"#ed7953\"],[0.7777777777777778,\"#fb9f3a\"],[0.8888888888888888,\"#fdca26\"],[1.0,\"#f0f921\"]]}],\"heatmap\":[{\"type\":\"heatmap\",\"colorbar\":{\"outlinewidth\":0,\"ticks\":\"\"},\"colorscale\":[[0.0,\"#0d0887\"],[0.1111111111111111,\"#46039f\"],[0.2222222222222222,\"#7201a8\"],[0.3333333333333333,\"#9c179e\"],[0.4444444444444444,\"#bd3786\"],[0.5555555555555556,\"#d8576b\"],[0.6666666666666666,\"#ed7953\"],[0.7777777777777778,\"#fb9f3a\"],[0.8888888888888888,\"#fdca26\"],[1.0,\"#f0f921\"]]}],\"heatmapgl\":[{\"type\":\"heatmapgl\",\"colorbar\":{\"outlinewidth\":0,\"ticks\":\"\"},\"colorscale\":[[0.0,\"#0d0887\"],[0.1111111111111111,\"#46039f\"],[0.2222222222222222,\"#7201a8\"],[0.3333333333333333,\"#9c179e\"],[0.4444444444444444,\"#bd3786\"],[0.5555555555555556,\"#d8576b\"],[0.6666666666666666,\"#ed7953\"],[0.7777777777777778,\"#fb9f3a\"],[0.8888888888888888,\"#fdca26\"],[1.0,\"#f0f921\"]]}],\"contourcarpet\":[{\"type\":\"contourcarpet\",\"colorbar\":{\"outlinewidth\":0,\"ticks\":\"\"}}],\"contour\":[{\"type\":\"contour\",\"colorbar\":{\"outlinewidth\":0,\"ticks\":\"\"},\"colorscale\":[[0.0,\"#0d0887\"],[0.1111111111111111,\"#46039f\"],[0.2222222222222222,\"#7201a8\"],[0.3333333333333333,\"#9c179e\"],[0.4444444444444444,\"#bd3786\"],[0.5555555555555556,\"#d8576b\"],[0.6666666666666666,\"#ed7953\"],[0.7777777777777778,\"#fb9f3a\"],[0.8888888888888888,\"#fdca26\"],[1.0,\"#f0f921\"]]}],\"surface\":[{\"type\":\"surface\",\"colorbar\":{\"outlinewidth\":0,\"ticks\":\"\"},\"colorscale\":[[0.0,\"#0d0887\"],[0.1111111111111111,\"#46039f\"],[0.2222222222222222,\"#7201a8\"],[0.3333333333333333,\"#9c179e\"],[0.4444444444444444,\"#bd3786\"],[0.5555555555555556,\"#d8576b\"],[0.6666666666666666,\"#ed7953\"],[0.7777777777777778,\"#fb9f3a\"],[0.8888888888888888,\"#fdca26\"],[1.0,\"#f0f921\"]]}],\"mesh3d\":[{\"type\":\"mesh3d\",\"colorbar\":{\"outlinewidth\":0,\"ticks\":\"\"}}],\"scatter\":[{\"fillpattern\":{\"fillmode\":\"overlay\",\"size\":10,\"solidity\":0.2},\"type\":\"scatter\"}],\"parcoords\":[{\"type\":\"parcoords\",\"line\":{\"colorbar\":{\"outlinewidth\":0,\"ticks\":\"\"}}}],\"scatterpolargl\":[{\"type\":\"scatterpolargl\",\"marker\":{\"colorbar\":{\"outlinewidth\":0,\"ticks\":\"\"}}}],\"bar\":[{\"error_x\":{\"color\":\"#2a3f5f\"},\"error_y\":{\"color\":\"#2a3f5f\"},\"marker\":{\"line\":{\"color\":\"#E5ECF6\",\"width\":0.5},\"pattern\":{\"fillmode\":\"overlay\",\"size\":10,\"solidity\":0.2}},\"type\":\"bar\"}],\"scattergeo\":[{\"type\":\"scattergeo\",\"marker\":{\"colorbar\":{\"outlinewidth\":0,\"ticks\":\"\"}}}],\"scatterpolar\":[{\"type\":\"scatterpolar\",\"marker\":{\"colorbar\":{\"outlinewidth\":0,\"ticks\":\"\"}}}],\"histogram\":[{\"marker\":{\"pattern\":{\"fillmode\":\"overlay\",\"size\":10,\"solidity\":0.2}},\"type\":\"histogram\"}],\"scattergl\":[{\"type\":\"scattergl\",\"marker\":{\"colorbar\":{\"outlinewidth\":0,\"ticks\":\"\"}}}],\"scatter3d\":[{\"type\":\"scatter3d\",\"line\":{\"colorbar\":{\"outlinewidth\":0,\"ticks\":\"\"}},\"marker\":{\"colorbar\":{\"outlinewidth\":0,\"ticks\":\"\"}}}],\"scattermapbox\":[{\"type\":\"scattermapbox\",\"marker\":{\"colorbar\":{\"outlinewidth\":0,\"ticks\":\"\"}}}],\"scatterternary\":[{\"type\":\"scatterternary\",\"marker\":{\"colorbar\":{\"outlinewidth\":0,\"ticks\":\"\"}}}],\"scattercarpet\":[{\"type\":\"scattercarpet\",\"marker\":{\"colorbar\":{\"outlinewidth\":0,\"ticks\":\"\"}}}],\"carpet\":[{\"aaxis\":{\"endlinecolor\":\"#2a3f5f\",\"gridcolor\":\"white\",\"linecolor\":\"white\",\"minorgridcolor\":\"white\",\"startlinecolor\":\"#2a3f5f\"},\"baxis\":{\"endlinecolor\":\"#2a3f5f\",\"gridcolor\":\"white\",\"linecolor\":\"white\",\"minorgridcolor\":\"white\",\"startlinecolor\":\"#2a3f5f\"},\"type\":\"carpet\"}],\"table\":[{\"cells\":{\"fill\":{\"color\":\"#EBF0F8\"},\"line\":{\"color\":\"white\"}},\"header\":{\"fill\":{\"color\":\"#C8D4E3\"},\"line\":{\"color\":\"white\"}},\"type\":\"table\"}],\"barpolar\":[{\"marker\":{\"line\":{\"color\":\"#E5ECF6\",\"width\":0.5},\"pattern\":{\"fillmode\":\"overlay\",\"size\":10,\"solidity\":0.2}},\"type\":\"barpolar\"}],\"pie\":[{\"automargin\":true,\"type\":\"pie\"}]},\"layout\":{\"autotypenumbers\":\"strict\",\"colorway\":[\"#636efa\",\"#EF553B\",\"#00cc96\",\"#ab63fa\",\"#FFA15A\",\"#19d3f3\",\"#FF6692\",\"#B6E880\",\"#FF97FF\",\"#FECB52\"],\"font\":{\"color\":\"#2a3f5f\"},\"hovermode\":\"closest\",\"hoverlabel\":{\"align\":\"left\"},\"paper_bgcolor\":\"white\",\"plot_bgcolor\":\"#E5ECF6\",\"polar\":{\"bgcolor\":\"#E5ECF6\",\"angularaxis\":{\"gridcolor\":\"white\",\"linecolor\":\"white\",\"ticks\":\"\"},\"radialaxis\":{\"gridcolor\":\"white\",\"linecolor\":\"white\",\"ticks\":\"\"}},\"ternary\":{\"bgcolor\":\"#E5ECF6\",\"aaxis\":{\"gridcolor\":\"white\",\"linecolor\":\"white\",\"ticks\":\"\"},\"baxis\":{\"gridcolor\":\"white\",\"linecolor\":\"white\",\"ticks\":\"\"},\"caxis\":{\"gridcolor\":\"white\",\"linecolor\":\"white\",\"ticks\":\"\"}},\"coloraxis\":{\"colorbar\":{\"outlinewidth\":0,\"ticks\":\"\"}},\"colorscale\":{\"sequential\":[[0.0,\"#0d0887\"],[0.1111111111111111,\"#46039f\"],[0.2222222222222222,\"#7201a8\"],[0.3333333333333333,\"#9c179e\"],[0.4444444444444444,\"#bd3786\"],[0.5555555555555556,\"#d8576b\"],[0.6666666666666666,\"#ed7953\"],[0.7777777777777778,\"#fb9f3a\"],[0.8888888888888888,\"#fdca26\"],[1.0,\"#f0f921\"]],\"sequentialminus\":[[0.0,\"#0d0887\"],[0.1111111111111111,\"#46039f\"],[0.2222222222222222,\"#7201a8\"],[0.3333333333333333,\"#9c179e\"],[0.4444444444444444,\"#bd3786\"],[0.5555555555555556,\"#d8576b\"],[0.6666666666666666,\"#ed7953\"],[0.7777777777777778,\"#fb9f3a\"],[0.8888888888888888,\"#fdca26\"],[1.0,\"#f0f921\"]],\"diverging\":[[0,\"#8e0152\"],[0.1,\"#c51b7d\"],[0.2,\"#de77ae\"],[0.3,\"#f1b6da\"],[0.4,\"#fde0ef\"],[0.5,\"#f7f7f7\"],[0.6,\"#e6f5d0\"],[0.7,\"#b8e186\"],[0.8,\"#7fbc41\"],[0.9,\"#4d9221\"],[1,\"#276419\"]]},\"xaxis\":{\"gridcolor\":\"white\",\"linecolor\":\"white\",\"ticks\":\"\",\"title\":{\"standoff\":15},\"zerolinecolor\":\"white\",\"automargin\":true,\"zerolinewidth\":2},\"yaxis\":{\"gridcolor\":\"white\",\"linecolor\":\"white\",\"ticks\":\"\",\"title\":{\"standoff\":15},\"zerolinecolor\":\"white\",\"automargin\":true,\"zerolinewidth\":2},\"scene\":{\"xaxis\":{\"backgroundcolor\":\"#E5ECF6\",\"gridcolor\":\"white\",\"linecolor\":\"white\",\"showbackground\":true,\"ticks\":\"\",\"zerolinecolor\":\"white\",\"gridwidth\":2},\"yaxis\":{\"backgroundcolor\":\"#E5ECF6\",\"gridcolor\":\"white\",\"linecolor\":\"white\",\"showbackground\":true,\"ticks\":\"\",\"zerolinecolor\":\"white\",\"gridwidth\":2},\"zaxis\":{\"backgroundcolor\":\"#E5ECF6\",\"gridcolor\":\"white\",\"linecolor\":\"white\",\"showbackground\":true,\"ticks\":\"\",\"zerolinecolor\":\"white\",\"gridwidth\":2}},\"shapedefaults\":{\"line\":{\"color\":\"#2a3f5f\"}},\"annotationdefaults\":{\"arrowcolor\":\"#2a3f5f\",\"arrowhead\":0,\"arrowwidth\":1},\"geo\":{\"bgcolor\":\"white\",\"landcolor\":\"#E5ECF6\",\"subunitcolor\":\"white\",\"showland\":true,\"showlakes\":true,\"lakecolor\":\"white\"},\"title\":{\"x\":0.05},\"mapbox\":{\"style\":\"light\"}}},\"xaxis\":{\"anchor\":\"y\",\"domain\":[0.0,0.45],\"categoryorder\":\"array\",\"categoryarray\":[\"very negative\",\"negative\",\"weakly negative\",\"Neutral\",\"weakly positive\",\"positive\",\"very positive\"]},\"yaxis\":{\"anchor\":\"x\",\"domain\":[0.0,1.0],\"range\":[0,300]},\"xaxis2\":{\"anchor\":\"y2\",\"domain\":[0.55,1.0],\"categoryorder\":\"array\",\"categoryarray\":[\"very negative\",\"negative\",\"weakly negative\",\"Neutral\",\"weakly positive\",\"positive\",\"very positive\"]},\"yaxis2\":{\"anchor\":\"x2\",\"domain\":[0.0,1.0],\"range\":[0,300]},\"annotations\":[{\"font\":{\"size\":16},\"showarrow\":false,\"text\":\"TFN-40d\",\"x\":0.225,\"xanchor\":\"center\",\"xref\":\"paper\",\"y\":1.0,\"yanchor\":\"bottom\",\"yref\":\"paper\"},{\"font\":{\"size\":16},\"showarrow\":false,\"text\":\"TFN-16d\",\"x\":0.775,\"xanchor\":\"center\",\"xref\":\"paper\",\"y\":1.0,\"yanchor\":\"bottom\",\"yref\":\"paper\"}],\"title\":{\"text\":\"TFN frozen dimension\"},\"height\":600,\"width\":1200},                        {\"responsive\": true}                    ).then(function(){\n",
       "                            \n",
       "var gd = document.getElementById('b7b9befa-5171-4ced-a64b-f6c35154e4a4');\n",
       "var x = new MutationObserver(function (mutations, observer) {{\n",
       "        var display = window.getComputedStyle(gd).display;\n",
       "        if (!display || display === 'none') {{\n",
       "            console.log([gd, 'removed!']);\n",
       "            Plotly.purge(gd);\n",
       "            observer.disconnect();\n",
       "        }}\n",
       "}});\n",
       "\n",
       "// Listen for the removal of the full notebook cells\n",
       "var notebookContainer = gd.closest('#notebook-container');\n",
       "if (notebookContainer) {{\n",
       "    x.observe(notebookContainer, {childList: true});\n",
       "}}\n",
       "\n",
       "// Listen for the clearing of the current output cell\n",
       "var outputEl = gd.closest('.output');\n",
       "if (outputEl) {{\n",
       "    x.observe(outputEl, {childList: true});\n",
       "}}\n",
       "\n",
       "                        })                };                });            </script>        </div>"
      ]
     },
     "metadata": {},
     "output_type": "display_data"
    }
   ],
   "source": [
    "with open(f\"results/TFN_16d.pkl\", \"rb\") as handle:\n",
    "    tfn_16d = pkl.load(handle) \n",
    "\n",
    "df1 = pd.DataFrame(data=tfn)\n",
    "df2 = pd.DataFrame(data=tfn_16d)\n",
    "order = ['very negative', 'negative', 'weakly negative', 'Neutral', 'weakly positive', 'positive', 'very positive']\n",
    "\n",
    "fig1 = px.bar(df1, x=\"preds_7\")\n",
    "fig2 = px.bar(df2, x=\"preds_7\")\n",
    "\n",
    "fig1_traces = []\n",
    "fig2_traces = []\n",
    "\n",
    "for trace in range(len(fig1[\"data\"])):\n",
    "    fig1_traces.append(fig1[\"data\"][trace])\n",
    "for trace in range(len(fig2[\"data\"])):\n",
    "    fig2_traces.append(fig2[\"data\"][trace])\n",
    "\n",
    "this_figure = sp.make_subplots(rows=1, cols=2, subplot_titles=(\"TFN-40d\", \"TFN-16d\"))\n",
    "for traces in fig1_traces:\n",
    "    this_figure.append_trace(traces, row=1, col=1)\n",
    "for traces in fig2_traces:\n",
    "    this_figure.append_trace(traces, row=1, col=2)\n",
    "\n",
    "this_figure.update_layout(height=600, width=1200, title_text=\"TFN frozen dimension\")\n",
    "this_figure.update_xaxes(categoryorder='array', categoryarray= order)\n",
    "this_figure.update_yaxes(range=[0,300])\n",
    "this_figure.show()"
   ]
  },
  {
   "cell_type": "code",
   "execution_count": 46,
   "metadata": {},
   "outputs": [
    {
     "data": {
      "application/vnd.plotly.v1+json": {
       "config": {
        "plotlyServerURL": "https://plot.ly"
       },
       "data": [
        {
         "alignmentgroup": "True",
         "hovertemplate": "labels_7=%{x}<br>count=%{y}<extra></extra>",
         "legendgroup": "",
         "marker": {
          "color": "#636efa",
          "pattern": {
           "shape": ""
          }
         },
         "name": "",
         "offsetgroup": "",
         "orientation": "v",
         "showlegend": false,
         "textposition": "auto",
         "type": "bar",
         "x": [
          "weakly positive",
          "very negative",
          "Neutral",
          "negative",
          "very negative",
          "negative",
          "weakly negative",
          "negative",
          "negative",
          "positive",
          "very negative",
          "very negative",
          "very negative",
          "weakly negative",
          "weakly positive",
          "weakly negative",
          "weakly positive",
          "very negative",
          "very negative",
          "Neutral",
          "very negative",
          "weakly positive",
          "weakly positive",
          "very negative",
          "negative",
          "weakly negative",
          "negative",
          "very negative",
          "very negative",
          "very negative",
          "negative",
          "very negative",
          "very positive",
          "positive",
          "weakly positive",
          "very positive",
          "very negative",
          "very negative",
          "weakly negative",
          "very positive",
          "weakly negative",
          "Neutral",
          "weakly negative",
          "positive",
          "very positive",
          "weakly negative",
          "very positive",
          "very negative",
          "very positive",
          "weakly positive",
          "very positive",
          "weakly negative",
          "very negative",
          "very negative",
          "weakly negative",
          "very negative",
          "negative",
          "weakly positive",
          "positive",
          "positive",
          "positive",
          "negative",
          "positive",
          "weakly positive",
          "Neutral",
          "weakly positive",
          "weakly negative",
          "positive",
          "weakly negative",
          "weakly negative",
          "weakly negative",
          "positive",
          "weakly negative",
          "Neutral",
          "positive",
          "weakly positive",
          "weakly negative",
          "very positive",
          "Neutral",
          "weakly negative",
          "weakly negative",
          "very positive",
          "weakly positive",
          "positive",
          "positive",
          "positive",
          "positive",
          "weakly negative",
          "very positive",
          "weakly positive",
          "Neutral",
          "weakly negative",
          "Neutral",
          "positive",
          "Neutral",
          "very positive",
          "Neutral",
          "positive",
          "Neutral",
          "very positive",
          "positive",
          "weakly negative",
          "positive",
          "positive",
          "weakly negative",
          "Neutral",
          "Neutral",
          "very negative",
          "very positive",
          "Neutral",
          "positive",
          "positive",
          "weakly positive",
          "weakly positive",
          "very negative",
          "positive",
          "negative",
          "very positive",
          "positive",
          "very positive",
          "very positive",
          "negative",
          "negative",
          "weakly positive",
          "negative",
          "Neutral",
          "very negative",
          "negative",
          "negative",
          "weakly negative",
          "negative",
          "very negative",
          "weakly positive",
          "negative",
          "negative",
          "very negative",
          "very negative",
          "weakly negative",
          "weakly negative",
          "negative",
          "negative",
          "very negative",
          "very negative",
          "very negative",
          "positive",
          "very negative",
          "weakly negative",
          "negative",
          "weakly negative",
          "very negative",
          "negative",
          "negative",
          "very negative",
          "very negative",
          "very negative",
          "negative",
          "very negative",
          "very negative",
          "very negative",
          "very negative",
          "weakly negative",
          "very negative",
          "Neutral",
          "weakly negative",
          "weakly positive",
          "Neutral",
          "weakly negative",
          "Neutral",
          "very negative",
          "negative",
          "weakly negative",
          "weakly positive",
          "weakly negative",
          "negative",
          "weakly positive",
          "weakly positive",
          "negative",
          "Neutral",
          "negative",
          "very negative",
          "Neutral",
          "negative",
          "negative",
          "weakly positive",
          "weakly positive",
          "negative",
          "weakly positive",
          "weakly positive",
          "very negative",
          "negative",
          "weakly negative",
          "weakly negative",
          "very negative",
          "weakly negative",
          "weakly negative",
          "negative",
          "weakly negative",
          "positive",
          "Neutral",
          "negative",
          "positive",
          "negative",
          "weakly negative",
          "weakly positive",
          "positive",
          "very negative",
          "very negative",
          "negative",
          "Neutral",
          "positive",
          "very negative",
          "weakly negative",
          "negative",
          "weakly negative",
          "negative",
          "weakly negative",
          "very negative",
          "weakly negative",
          "weakly positive",
          "Neutral",
          "negative",
          "weakly negative",
          "weakly positive",
          "positive",
          "weakly negative",
          "weakly negative",
          "Neutral",
          "weakly positive",
          "Neutral",
          "weakly negative",
          "Neutral",
          "weakly positive",
          "Neutral",
          "Neutral",
          "weakly negative",
          "positive",
          "Neutral",
          "Neutral",
          "very negative",
          "Neutral",
          "weakly negative",
          "positive",
          "weakly positive",
          "very negative",
          "weakly positive",
          "Neutral",
          "very negative",
          "Neutral",
          "positive",
          "positive",
          "weakly positive",
          "negative",
          "Neutral",
          "weakly positive",
          "very negative",
          "weakly negative",
          "Neutral",
          "negative",
          "negative",
          "weakly positive",
          "very positive",
          "very positive",
          "Neutral",
          "weakly negative",
          "negative",
          "weakly negative",
          "weakly negative",
          "Neutral",
          "weakly negative",
          "positive",
          "very negative",
          "weakly negative",
          "weakly positive",
          "weakly positive",
          "weakly negative",
          "negative",
          "weakly negative",
          "positive",
          "weakly positive",
          "very positive",
          "negative",
          "Neutral",
          "Neutral",
          "positive",
          "Neutral",
          "very positive",
          "very positive",
          "Neutral",
          "negative",
          "weakly negative",
          "weakly negative",
          "Neutral",
          "very negative",
          "positive",
          "weakly positive",
          "negative",
          "weakly negative",
          "negative",
          "weakly positive",
          "negative",
          "weakly positive",
          "negative",
          "positive",
          "very negative",
          "weakly positive",
          "very negative",
          "very positive",
          "negative",
          "negative",
          "positive",
          "positive",
          "weakly positive",
          "Neutral",
          "weakly positive",
          "Neutral",
          "very negative",
          "very negative",
          "weakly positive",
          "weakly positive",
          "weakly positive",
          "very negative",
          "very negative",
          "negative",
          "very negative",
          "weakly negative",
          "weakly negative",
          "weakly negative",
          "negative",
          "Neutral",
          "weakly negative",
          "Neutral",
          "Neutral",
          "weakly negative",
          "Neutral",
          "positive",
          "very negative",
          "weakly negative",
          "very negative",
          "negative",
          "very negative",
          "negative",
          "Neutral",
          "very positive",
          "Neutral",
          "weakly positive",
          "negative",
          "positive",
          "very negative",
          "very positive",
          "Neutral",
          "positive",
          "negative",
          "very negative",
          "negative",
          "negative",
          "weakly negative",
          "negative",
          "weakly negative",
          "very negative",
          "negative",
          "very negative",
          "negative",
          "weakly positive",
          "weakly positive",
          "very negative",
          "very negative",
          "very negative",
          "Neutral",
          "positive",
          "very positive",
          "Neutral",
          "positive",
          "Neutral",
          "Neutral",
          "very negative",
          "weakly negative",
          "weakly positive",
          "negative",
          "weakly positive",
          "negative",
          "very negative",
          "negative",
          "weakly negative",
          "negative",
          "negative",
          "negative",
          "very negative",
          "weakly positive",
          "weakly positive",
          "negative",
          "weakly positive",
          "negative",
          "weakly negative",
          "Neutral",
          "negative",
          "Neutral",
          "weakly positive",
          "very negative",
          "weakly negative",
          "weakly positive",
          "negative",
          "negative",
          "positive",
          "very positive",
          "weakly negative",
          "weakly positive",
          "positive",
          "weakly positive",
          "positive",
          "weakly positive",
          "weakly negative",
          "positive",
          "weakly positive",
          "positive",
          "Neutral",
          "negative",
          "very negative",
          "very negative",
          "positive",
          "negative",
          "weakly negative",
          "negative",
          "negative",
          "Neutral",
          "weakly negative",
          "negative",
          "negative",
          "negative",
          "negative",
          "weakly negative",
          "weakly positive",
          "negative",
          "positive",
          "positive",
          "weakly positive",
          "negative",
          "weakly positive",
          "negative",
          "very positive",
          "negative",
          "weakly negative",
          "positive",
          "weakly positive",
          "negative",
          "positive",
          "weakly positive",
          "very positive",
          "positive",
          "weakly positive",
          "weakly negative",
          "very negative",
          "very negative",
          "negative",
          "very negative",
          "very negative",
          "weakly negative",
          "negative",
          "weakly negative",
          "negative",
          "very negative",
          "very positive",
          "negative",
          "positive",
          "weakly positive",
          "very negative",
          "very positive",
          "Neutral",
          "very positive",
          "negative",
          "weakly negative",
          "very negative",
          "very negative",
          "very negative",
          "very positive",
          "Neutral",
          "negative",
          "negative",
          "negative",
          "very negative",
          "negative",
          "negative",
          "very negative",
          "Neutral",
          "negative",
          "weakly negative",
          "negative",
          "negative",
          "very negative",
          "very negative",
          "Neutral",
          "weakly negative",
          "negative",
          "Neutral",
          "negative",
          "weakly negative",
          "negative",
          "Neutral",
          "very negative",
          "negative",
          "negative",
          "negative",
          "Neutral",
          "negative",
          "very negative",
          "negative",
          "negative",
          "positive",
          "positive",
          "very negative",
          "weakly positive",
          "weakly positive",
          "weakly negative",
          "positive",
          "weakly negative",
          "negative",
          "very positive",
          "positive",
          "positive",
          "positive",
          "weakly positive",
          "Neutral",
          "Neutral",
          "weakly negative",
          "negative",
          "weakly positive",
          "Neutral",
          "negative",
          "very positive",
          "Neutral",
          "positive",
          "negative",
          "weakly negative",
          "very positive",
          "very positive",
          "very negative",
          "Neutral",
          "weakly negative",
          "positive",
          "positive",
          "positive",
          "very positive",
          "positive",
          "Neutral",
          "Neutral",
          "Neutral",
          "very positive",
          "Neutral",
          "very negative",
          "positive",
          "weakly positive",
          "weakly negative",
          "very positive",
          "very positive",
          "positive",
          "negative",
          "very positive",
          "negative",
          "positive",
          "weakly positive",
          "very positive",
          "weakly positive",
          "positive",
          "Neutral",
          "positive",
          "very positive",
          "weakly positive",
          "Neutral",
          "Neutral",
          "positive",
          "weakly positive",
          "positive",
          "very positive",
          "very positive",
          "positive",
          "Neutral",
          "weakly positive",
          "Neutral",
          "positive",
          "positive",
          "positive",
          "very positive",
          "weakly positive",
          "positive",
          "weakly negative",
          "positive",
          "positive",
          "weakly positive",
          "weakly negative",
          "Neutral",
          "weakly negative",
          "positive",
          "Neutral",
          "positive",
          "Neutral",
          "positive",
          "weakly negative",
          "weakly positive",
          "positive",
          "weakly positive",
          "weakly negative",
          "positive",
          "negative",
          "Neutral",
          "negative",
          "positive",
          "weakly positive",
          "Neutral",
          "Neutral",
          "weakly negative",
          "weakly negative",
          "weakly negative",
          "negative",
          "Neutral",
          "Neutral",
          "very positive",
          "negative",
          "negative",
          "negative",
          "Neutral",
          "weakly positive",
          "negative",
          "weakly positive",
          "weakly negative",
          "Neutral",
          "negative",
          "weakly negative",
          "Neutral",
          "positive",
          "weakly positive",
          "negative",
          "very positive",
          "weakly negative",
          "Neutral",
          "weakly negative",
          "negative",
          "negative",
          "weakly negative",
          "negative",
          "positive",
          "Neutral",
          "weakly negative",
          "negative",
          "weakly positive",
          "negative",
          "negative",
          "very negative",
          "negative",
          "very negative",
          "negative",
          "negative",
          "negative",
          "positive",
          "weakly negative",
          "positive",
          "weakly negative",
          "weakly negative",
          "weakly negative",
          "negative",
          "weakly positive",
          "weakly negative",
          "negative",
          "negative",
          "very negative",
          "positive",
          "weakly positive",
          "weakly positive",
          "negative",
          "negative",
          "weakly positive",
          "weakly positive",
          "negative",
          "weakly negative",
          "weakly positive",
          "weakly negative",
          "weakly positive",
          "Neutral",
          "weakly negative",
          "weakly negative",
          "negative",
          "Neutral",
          "weakly positive",
          "positive",
          "weakly positive",
          "Neutral",
          "weakly positive",
          "weakly positive"
         ],
         "xaxis": "x",
         "y": [
          1,
          1,
          1,
          1,
          1,
          1,
          1,
          1,
          1,
          1,
          1,
          1,
          1,
          1,
          1,
          1,
          1,
          1,
          1,
          1,
          1,
          1,
          1,
          1,
          1,
          1,
          1,
          1,
          1,
          1,
          1,
          1,
          1,
          1,
          1,
          1,
          1,
          1,
          1,
          1,
          1,
          1,
          1,
          1,
          1,
          1,
          1,
          1,
          1,
          1,
          1,
          1,
          1,
          1,
          1,
          1,
          1,
          1,
          1,
          1,
          1,
          1,
          1,
          1,
          1,
          1,
          1,
          1,
          1,
          1,
          1,
          1,
          1,
          1,
          1,
          1,
          1,
          1,
          1,
          1,
          1,
          1,
          1,
          1,
          1,
          1,
          1,
          1,
          1,
          1,
          1,
          1,
          1,
          1,
          1,
          1,
          1,
          1,
          1,
          1,
          1,
          1,
          1,
          1,
          1,
          1,
          1,
          1,
          1,
          1,
          1,
          1,
          1,
          1,
          1,
          1,
          1,
          1,
          1,
          1,
          1,
          1,
          1,
          1,
          1,
          1,
          1,
          1,
          1,
          1,
          1,
          1,
          1,
          1,
          1,
          1,
          1,
          1,
          1,
          1,
          1,
          1,
          1,
          1,
          1,
          1,
          1,
          1,
          1,
          1,
          1,
          1,
          1,
          1,
          1,
          1,
          1,
          1,
          1,
          1,
          1,
          1,
          1,
          1,
          1,
          1,
          1,
          1,
          1,
          1,
          1,
          1,
          1,
          1,
          1,
          1,
          1,
          1,
          1,
          1,
          1,
          1,
          1,
          1,
          1,
          1,
          1,
          1,
          1,
          1,
          1,
          1,
          1,
          1,
          1,
          1,
          1,
          1,
          1,
          1,
          1,
          1,
          1,
          1,
          1,
          1,
          1,
          1,
          1,
          1,
          1,
          1,
          1,
          1,
          1,
          1,
          1,
          1,
          1,
          1,
          1,
          1,
          1,
          1,
          1,
          1,
          1,
          1,
          1,
          1,
          1,
          1,
          1,
          1,
          1,
          1,
          1,
          1,
          1,
          1,
          1,
          1,
          1,
          1,
          1,
          1,
          1,
          1,
          1,
          1,
          1,
          1,
          1,
          1,
          1,
          1,
          1,
          1,
          1,
          1,
          1,
          1,
          1,
          1,
          1,
          1,
          1,
          1,
          1,
          1,
          1,
          1,
          1,
          1,
          1,
          1,
          1,
          1,
          1,
          1,
          1,
          1,
          1,
          1,
          1,
          1,
          1,
          1,
          1,
          1,
          1,
          1,
          1,
          1,
          1,
          1,
          1,
          1,
          1,
          1,
          1,
          1,
          1,
          1,
          1,
          1,
          1,
          1,
          1,
          1,
          1,
          1,
          1,
          1,
          1,
          1,
          1,
          1,
          1,
          1,
          1,
          1,
          1,
          1,
          1,
          1,
          1,
          1,
          1,
          1,
          1,
          1,
          1,
          1,
          1,
          1,
          1,
          1,
          1,
          1,
          1,
          1,
          1,
          1,
          1,
          1,
          1,
          1,
          1,
          1,
          1,
          1,
          1,
          1,
          1,
          1,
          1,
          1,
          1,
          1,
          1,
          1,
          1,
          1,
          1,
          1,
          1,
          1,
          1,
          1,
          1,
          1,
          1,
          1,
          1,
          1,
          1,
          1,
          1,
          1,
          1,
          1,
          1,
          1,
          1,
          1,
          1,
          1,
          1,
          1,
          1,
          1,
          1,
          1,
          1,
          1,
          1,
          1,
          1,
          1,
          1,
          1,
          1,
          1,
          1,
          1,
          1,
          1,
          1,
          1,
          1,
          1,
          1,
          1,
          1,
          1,
          1,
          1,
          1,
          1,
          1,
          1,
          1,
          1,
          1,
          1,
          1,
          1,
          1,
          1,
          1,
          1,
          1,
          1,
          1,
          1,
          1,
          1,
          1,
          1,
          1,
          1,
          1,
          1,
          1,
          1,
          1,
          1,
          1,
          1,
          1,
          1,
          1,
          1,
          1,
          1,
          1,
          1,
          1,
          1,
          1,
          1,
          1,
          1,
          1,
          1,
          1,
          1,
          1,
          1,
          1,
          1,
          1,
          1,
          1,
          1,
          1,
          1,
          1,
          1,
          1,
          1,
          1,
          1,
          1,
          1,
          1,
          1,
          1,
          1,
          1,
          1,
          1,
          1,
          1,
          1,
          1,
          1,
          1,
          1,
          1,
          1,
          1,
          1,
          1,
          1,
          1,
          1,
          1,
          1,
          1,
          1,
          1,
          1,
          1,
          1,
          1,
          1,
          1,
          1,
          1,
          1,
          1,
          1,
          1,
          1,
          1,
          1,
          1,
          1,
          1,
          1,
          1,
          1,
          1,
          1,
          1,
          1,
          1,
          1,
          1,
          1,
          1,
          1,
          1,
          1,
          1,
          1,
          1,
          1,
          1,
          1,
          1,
          1,
          1,
          1,
          1,
          1,
          1,
          1,
          1,
          1,
          1,
          1,
          1,
          1,
          1,
          1,
          1,
          1,
          1,
          1,
          1,
          1,
          1,
          1,
          1,
          1,
          1,
          1,
          1,
          1,
          1,
          1,
          1,
          1,
          1,
          1,
          1,
          1,
          1,
          1,
          1,
          1,
          1,
          1,
          1,
          1,
          1,
          1,
          1,
          1,
          1,
          1,
          1,
          1,
          1,
          1,
          1,
          1,
          1,
          1,
          1,
          1,
          1,
          1,
          1,
          1,
          1,
          1,
          1,
          1,
          1,
          1,
          1,
          1,
          1,
          1,
          1,
          1,
          1,
          1,
          1,
          1,
          1,
          1,
          1,
          1,
          1,
          1,
          1,
          1,
          1,
          1,
          1,
          1,
          1,
          1,
          1,
          1,
          1,
          1,
          1,
          1,
          1,
          1,
          1,
          1,
          1,
          1,
          1,
          1,
          1,
          1,
          1,
          1,
          1,
          1,
          1,
          1,
          1,
          1,
          1,
          1,
          1,
          1,
          1,
          1,
          1,
          1,
          1,
          1,
          1,
          1,
          1,
          1
         ],
         "yaxis": "y"
        },
        {
         "alignmentgroup": "True",
         "hovertemplate": "preds_7=%{x}<br>count=%{y}<extra></extra>",
         "legendgroup": "",
         "marker": {
          "color": "#636efa",
          "pattern": {
           "shape": ""
          }
         },
         "name": "",
         "offsetgroup": "",
         "orientation": "v",
         "showlegend": false,
         "textposition": "auto",
         "type": "bar",
         "x": [
          "positive",
          "negative",
          "Neutral",
          "Neutral",
          "negative",
          "weakly negative",
          "positive",
          "weakly negative",
          "weakly positive",
          "positive",
          "positive",
          "negative",
          "negative",
          "negative",
          "positive",
          "weakly positive",
          "positive",
          "weakly positive",
          "negative",
          "weakly positive",
          "weakly positive",
          "weakly positive",
          "positive",
          "weakly negative",
          "negative",
          "positive",
          "Neutral",
          "negative",
          "very negative",
          "weakly negative",
          "weakly negative",
          "negative",
          "weakly positive",
          "very positive",
          "weakly positive",
          "weakly negative",
          "negative",
          "negative",
          "weakly negative",
          "positive",
          "weakly negative",
          "weakly positive",
          "positive",
          "weakly positive",
          "very positive",
          "negative",
          "very positive",
          "negative",
          "positive",
          "weakly positive",
          "negative",
          "Neutral",
          "Neutral",
          "Neutral",
          "negative",
          "weakly negative",
          "weakly negative",
          "positive",
          "weakly positive",
          "positive",
          "weakly positive",
          "weakly negative",
          "very positive",
          "weakly positive",
          "Neutral",
          "weakly positive",
          "negative",
          "positive",
          "weakly negative",
          "Neutral",
          "weakly positive",
          "positive",
          "weakly negative",
          "Neutral",
          "positive",
          "positive",
          "weakly positive",
          "very positive",
          "weakly negative",
          "positive",
          "weakly positive",
          "positive",
          "weakly positive",
          "positive",
          "positive",
          "very positive",
          "very positive",
          "weakly negative",
          "very positive",
          "weakly positive",
          "weakly positive",
          "Neutral",
          "Neutral",
          "positive",
          "weakly positive",
          "very positive",
          "weakly positive",
          "negative",
          "weakly positive",
          "very positive",
          "weakly positive",
          "weakly positive",
          "very positive",
          "positive",
          "negative",
          "Neutral",
          "Neutral",
          "Neutral",
          "very positive",
          "Neutral",
          "weakly positive",
          "weakly positive",
          "Neutral",
          "weakly negative",
          "negative",
          "positive",
          "negative",
          "positive",
          "very positive",
          "weakly positive",
          "very positive",
          "negative",
          "weakly negative",
          "weakly positive",
          "negative",
          "Neutral",
          "very negative",
          "very negative",
          "weakly negative",
          "Neutral",
          "negative",
          "negative",
          "weakly positive",
          "negative",
          "Neutral",
          "weakly negative",
          "negative",
          "weakly negative",
          "Neutral",
          "negative",
          "negative",
          "negative",
          "very negative",
          "very negative",
          "positive",
          "very negative",
          "positive",
          "negative",
          "positive",
          "weakly negative",
          "negative",
          "negative",
          "negative",
          "very negative",
          "negative",
          "negative",
          "negative",
          "very negative",
          "negative",
          "negative",
          "weakly positive",
          "weakly positive",
          "weakly negative",
          "negative",
          "weakly positive",
          "weakly positive",
          "weakly positive",
          "weakly positive",
          "very negative",
          "Neutral",
          "weakly negative",
          "very positive",
          "weakly negative",
          "weakly positive",
          "positive",
          "weakly negative",
          "weakly positive",
          "weakly positive",
          "weakly negative",
          "positive",
          "Neutral",
          "weakly negative",
          "Neutral",
          "negative",
          "weakly positive",
          "Neutral",
          "Neutral",
          "weakly negative",
          "negative",
          "weakly negative",
          "negative",
          "negative",
          "Neutral",
          "weakly negative",
          "negative",
          "negative",
          "positive",
          "positive",
          "negative",
          "Neutral",
          "positive",
          "weakly negative",
          "weakly negative",
          "weakly positive",
          "positive",
          "very negative",
          "negative",
          "negative",
          "Neutral",
          "weakly positive",
          "negative",
          "negative",
          "negative",
          "weakly negative",
          "negative",
          "weakly negative",
          "negative",
          "negative",
          "weakly positive",
          "weakly negative",
          "negative",
          "weakly negative",
          "positive",
          "positive",
          "weakly negative",
          "weakly positive",
          "weakly positive",
          "Neutral",
          "negative",
          "weakly negative",
          "Neutral",
          "weakly positive",
          "Neutral",
          "weakly negative",
          "weakly negative",
          "weakly positive",
          "weakly positive",
          "weakly negative",
          "negative",
          "Neutral",
          "weakly negative",
          "positive",
          "weakly positive",
          "negative",
          "Neutral",
          "negative",
          "Neutral",
          "Neutral",
          "weakly positive",
          "positive",
          "positive",
          "weakly positive",
          "positive",
          "weakly negative",
          "weakly negative",
          "weakly negative",
          "weakly negative",
          "positive",
          "weakly negative",
          "weakly positive",
          "positive",
          "positive",
          "positive",
          "Neutral",
          "weakly negative",
          "weakly positive",
          "Neutral",
          "weakly positive",
          "negative",
          "positive",
          "Neutral",
          "weakly negative",
          "Neutral",
          "weakly positive",
          "Neutral",
          "negative",
          "Neutral",
          "positive",
          "Neutral",
          "positive",
          "negative",
          "weakly positive",
          "Neutral",
          "positive",
          "weakly negative",
          "very positive",
          "very positive",
          "weakly positive",
          "negative",
          "positive",
          "weakly negative",
          "weakly positive",
          "negative",
          "weakly positive",
          "weakly positive",
          "negative",
          "weakly positive",
          "negative",
          "positive",
          "weakly negative",
          "weakly positive",
          "negative",
          "Neutral",
          "very negative",
          "Neutral",
          "negative",
          "Neutral",
          "Neutral",
          "negative",
          "positive",
          "weakly positive",
          "weakly positive",
          "weakly negative",
          "Neutral",
          "weakly positive",
          "very negative",
          "negative",
          "weakly positive",
          "weakly positive",
          "very negative",
          "weakly negative",
          "negative",
          "weakly positive",
          "negative",
          "negative",
          "Neutral",
          "weakly negative",
          "weakly negative",
          "very negative",
          "Neutral",
          "weakly positive",
          "negative",
          "Neutral",
          "weakly positive",
          "positive",
          "very negative",
          "negative",
          "weakly negative",
          "negative",
          "very negative",
          "negative",
          "weakly negative",
          "very positive",
          "weakly negative",
          "weakly positive",
          "negative",
          "weakly positive",
          "negative",
          "positive",
          "weakly positive",
          "weakly negative",
          "weakly negative",
          "weakly positive",
          "weakly positive",
          "negative",
          "Neutral",
          "negative",
          "Neutral",
          "negative",
          "weakly negative",
          "Neutral",
          "weakly negative",
          "weakly positive",
          "positive",
          "Neutral",
          "weakly negative",
          "weakly positive",
          "weakly positive",
          "positive",
          "positive",
          "weakly positive",
          "positive",
          "weakly negative",
          "weakly positive",
          "negative",
          "negative",
          "positive",
          "negative",
          "positive",
          "weakly positive",
          "negative",
          "very negative",
          "negative",
          "negative",
          "negative",
          "positive",
          "Neutral",
          "very positive",
          "positive",
          "weakly negative",
          "positive",
          "negative",
          "Neutral",
          "negative",
          "weakly positive",
          "negative",
          "positive",
          "weakly negative",
          "Neutral",
          "negative",
          "negative",
          "negative",
          "positive",
          "very positive",
          "negative",
          "weakly positive",
          "weakly positive",
          "weakly positive",
          "positive",
          "positive",
          "weakly positive",
          "weakly positive",
          "weakly positive",
          "positive",
          "weakly positive",
          "negative",
          "negative",
          "weakly negative",
          "weakly negative",
          "weakly negative",
          "weakly positive",
          "weakly negative",
          "weakly positive",
          "Neutral",
          "Neutral",
          "negative",
          "weakly positive",
          "negative",
          "Neutral",
          "very positive",
          "weakly positive",
          "Neutral",
          "weakly positive",
          "positive",
          "Neutral",
          "Neutral",
          "weakly positive",
          "negative",
          "positive",
          "negative",
          "Neutral",
          "positive",
          "weakly positive",
          "weakly negative",
          "positive",
          "weakly positive",
          "positive",
          "weakly positive",
          "very positive",
          "weakly negative",
          "very negative",
          "positive",
          "weakly negative",
          "weakly negative",
          "negative",
          "weakly positive",
          "negative",
          "Neutral",
          "weakly negative",
          "negative",
          "positive",
          "weakly negative",
          "weakly positive",
          "weakly positive",
          "very negative",
          "positive",
          "positive",
          "very positive",
          "weakly negative",
          "Neutral",
          "weakly negative",
          "Neutral",
          "weakly positive",
          "positive",
          "weakly positive",
          "negative",
          "weakly positive",
          "weakly negative",
          "weakly negative",
          "negative",
          "weakly positive",
          "negative",
          "weakly negative",
          "Neutral",
          "Neutral",
          "positive",
          "weakly negative",
          "very negative",
          "very negative",
          "weakly positive",
          "weakly negative",
          "weakly negative",
          "weakly positive",
          "very negative",
          "weakly negative",
          "negative",
          "Neutral",
          "very negative",
          "negative",
          "weakly negative",
          "Neutral",
          "Neutral",
          "Neutral",
          "negative",
          "positive",
          "negative",
          "positive",
          "positive",
          "very negative",
          "positive",
          "weakly positive",
          "Neutral",
          "positive",
          "weakly positive",
          "weakly negative",
          "positive",
          "negative",
          "Neutral",
          "Neutral",
          "weakly positive",
          "weakly positive",
          "Neutral",
          "negative",
          "weakly positive",
          "Neutral",
          "weakly negative",
          "Neutral",
          "very positive",
          "positive",
          "positive",
          "weakly positive",
          "Neutral",
          "positive",
          "positive",
          "negative",
          "Neutral",
          "Neutral",
          "positive",
          "positive",
          "very positive",
          "very positive",
          "very positive",
          "weakly positive",
          "weakly negative",
          "weakly positive",
          "positive",
          "weakly positive",
          "weakly negative",
          "positive",
          "negative",
          "weakly negative",
          "positive",
          "very positive",
          "weakly positive",
          "Neutral",
          "positive",
          "negative",
          "negative",
          "very positive",
          "positive",
          "weakly positive",
          "weakly positive",
          "Neutral",
          "very positive",
          "positive",
          "weakly positive",
          "positive",
          "positive",
          "weakly positive",
          "positive",
          "positive",
          "positive",
          "positive",
          "positive",
          "weakly positive",
          "positive",
          "weakly negative",
          "positive",
          "weakly positive",
          "weakly positive",
          "positive",
          "weakly negative",
          "very positive",
          "Neutral",
          "weakly positive",
          "weakly positive",
          "positive",
          "negative",
          "weakly negative",
          "weakly negative",
          "Neutral",
          "weakly positive",
          "positive",
          "very positive",
          "very positive",
          "weakly positive",
          "weakly negative",
          "weakly positive",
          "positive",
          "weakly negative",
          "weakly positive",
          "Neutral",
          "weakly positive",
          "weakly negative",
          "weakly positive",
          "Neutral",
          "weakly positive",
          "Neutral",
          "negative",
          "weakly negative",
          "positive",
          "Neutral",
          "Neutral",
          "weakly negative",
          "very positive",
          "negative",
          "negative",
          "weakly negative",
          "negative",
          "Neutral",
          "negative",
          "Neutral",
          "weakly positive",
          "weakly positive",
          "weakly positive",
          "negative",
          "Neutral",
          "weakly positive",
          "positive",
          "negative",
          "positive",
          "weakly negative",
          "weakly negative",
          "Neutral",
          "negative",
          "negative",
          "Neutral",
          "Neutral",
          "positive",
          "weakly negative",
          "weakly negative",
          "negative",
          "positive",
          "negative",
          "weakly negative",
          "negative",
          "Neutral",
          "negative",
          "negative",
          "negative",
          "positive",
          "very positive",
          "negative",
          "positive",
          "Neutral",
          "Neutral",
          "negative",
          "weakly positive",
          "weakly positive",
          "weakly negative",
          "weakly negative",
          "very negative",
          "very negative",
          "positive",
          "weakly positive",
          "positive",
          "weakly positive",
          "negative",
          "weakly positive",
          "positive",
          "negative",
          "weakly negative",
          "positive",
          "weakly positive",
          "weakly positive",
          "weakly positive",
          "weakly positive",
          "weakly negative",
          "negative",
          "positive",
          "Neutral",
          "weakly positive",
          "weakly negative",
          "weakly negative",
          "weakly positive",
          "positive"
         ],
         "xaxis": "x2",
         "y": [
          1,
          1,
          1,
          1,
          1,
          1,
          1,
          1,
          1,
          1,
          1,
          1,
          1,
          1,
          1,
          1,
          1,
          1,
          1,
          1,
          1,
          1,
          1,
          1,
          1,
          1,
          1,
          1,
          1,
          1,
          1,
          1,
          1,
          1,
          1,
          1,
          1,
          1,
          1,
          1,
          1,
          1,
          1,
          1,
          1,
          1,
          1,
          1,
          1,
          1,
          1,
          1,
          1,
          1,
          1,
          1,
          1,
          1,
          1,
          1,
          1,
          1,
          1,
          1,
          1,
          1,
          1,
          1,
          1,
          1,
          1,
          1,
          1,
          1,
          1,
          1,
          1,
          1,
          1,
          1,
          1,
          1,
          1,
          1,
          1,
          1,
          1,
          1,
          1,
          1,
          1,
          1,
          1,
          1,
          1,
          1,
          1,
          1,
          1,
          1,
          1,
          1,
          1,
          1,
          1,
          1,
          1,
          1,
          1,
          1,
          1,
          1,
          1,
          1,
          1,
          1,
          1,
          1,
          1,
          1,
          1,
          1,
          1,
          1,
          1,
          1,
          1,
          1,
          1,
          1,
          1,
          1,
          1,
          1,
          1,
          1,
          1,
          1,
          1,
          1,
          1,
          1,
          1,
          1,
          1,
          1,
          1,
          1,
          1,
          1,
          1,
          1,
          1,
          1,
          1,
          1,
          1,
          1,
          1,
          1,
          1,
          1,
          1,
          1,
          1,
          1,
          1,
          1,
          1,
          1,
          1,
          1,
          1,
          1,
          1,
          1,
          1,
          1,
          1,
          1,
          1,
          1,
          1,
          1,
          1,
          1,
          1,
          1,
          1,
          1,
          1,
          1,
          1,
          1,
          1,
          1,
          1,
          1,
          1,
          1,
          1,
          1,
          1,
          1,
          1,
          1,
          1,
          1,
          1,
          1,
          1,
          1,
          1,
          1,
          1,
          1,
          1,
          1,
          1,
          1,
          1,
          1,
          1,
          1,
          1,
          1,
          1,
          1,
          1,
          1,
          1,
          1,
          1,
          1,
          1,
          1,
          1,
          1,
          1,
          1,
          1,
          1,
          1,
          1,
          1,
          1,
          1,
          1,
          1,
          1,
          1,
          1,
          1,
          1,
          1,
          1,
          1,
          1,
          1,
          1,
          1,
          1,
          1,
          1,
          1,
          1,
          1,
          1,
          1,
          1,
          1,
          1,
          1,
          1,
          1,
          1,
          1,
          1,
          1,
          1,
          1,
          1,
          1,
          1,
          1,
          1,
          1,
          1,
          1,
          1,
          1,
          1,
          1,
          1,
          1,
          1,
          1,
          1,
          1,
          1,
          1,
          1,
          1,
          1,
          1,
          1,
          1,
          1,
          1,
          1,
          1,
          1,
          1,
          1,
          1,
          1,
          1,
          1,
          1,
          1,
          1,
          1,
          1,
          1,
          1,
          1,
          1,
          1,
          1,
          1,
          1,
          1,
          1,
          1,
          1,
          1,
          1,
          1,
          1,
          1,
          1,
          1,
          1,
          1,
          1,
          1,
          1,
          1,
          1,
          1,
          1,
          1,
          1,
          1,
          1,
          1,
          1,
          1,
          1,
          1,
          1,
          1,
          1,
          1,
          1,
          1,
          1,
          1,
          1,
          1,
          1,
          1,
          1,
          1,
          1,
          1,
          1,
          1,
          1,
          1,
          1,
          1,
          1,
          1,
          1,
          1,
          1,
          1,
          1,
          1,
          1,
          1,
          1,
          1,
          1,
          1,
          1,
          1,
          1,
          1,
          1,
          1,
          1,
          1,
          1,
          1,
          1,
          1,
          1,
          1,
          1,
          1,
          1,
          1,
          1,
          1,
          1,
          1,
          1,
          1,
          1,
          1,
          1,
          1,
          1,
          1,
          1,
          1,
          1,
          1,
          1,
          1,
          1,
          1,
          1,
          1,
          1,
          1,
          1,
          1,
          1,
          1,
          1,
          1,
          1,
          1,
          1,
          1,
          1,
          1,
          1,
          1,
          1,
          1,
          1,
          1,
          1,
          1,
          1,
          1,
          1,
          1,
          1,
          1,
          1,
          1,
          1,
          1,
          1,
          1,
          1,
          1,
          1,
          1,
          1,
          1,
          1,
          1,
          1,
          1,
          1,
          1,
          1,
          1,
          1,
          1,
          1,
          1,
          1,
          1,
          1,
          1,
          1,
          1,
          1,
          1,
          1,
          1,
          1,
          1,
          1,
          1,
          1,
          1,
          1,
          1,
          1,
          1,
          1,
          1,
          1,
          1,
          1,
          1,
          1,
          1,
          1,
          1,
          1,
          1,
          1,
          1,
          1,
          1,
          1,
          1,
          1,
          1,
          1,
          1,
          1,
          1,
          1,
          1,
          1,
          1,
          1,
          1,
          1,
          1,
          1,
          1,
          1,
          1,
          1,
          1,
          1,
          1,
          1,
          1,
          1,
          1,
          1,
          1,
          1,
          1,
          1,
          1,
          1,
          1,
          1,
          1,
          1,
          1,
          1,
          1,
          1,
          1,
          1,
          1,
          1,
          1,
          1,
          1,
          1,
          1,
          1,
          1,
          1,
          1,
          1,
          1,
          1,
          1,
          1,
          1,
          1,
          1,
          1,
          1,
          1,
          1,
          1,
          1,
          1,
          1,
          1,
          1,
          1,
          1,
          1,
          1,
          1,
          1,
          1,
          1,
          1,
          1,
          1,
          1,
          1,
          1,
          1,
          1,
          1,
          1,
          1,
          1,
          1,
          1,
          1,
          1,
          1,
          1,
          1,
          1,
          1,
          1,
          1,
          1,
          1,
          1,
          1,
          1,
          1,
          1,
          1,
          1,
          1,
          1,
          1,
          1,
          1,
          1,
          1,
          1,
          1,
          1,
          1,
          1,
          1,
          1,
          1,
          1,
          1,
          1,
          1,
          1,
          1,
          1,
          1,
          1,
          1,
          1,
          1,
          1,
          1,
          1,
          1,
          1,
          1,
          1,
          1,
          1,
          1,
          1,
          1,
          1,
          1,
          1,
          1,
          1,
          1,
          1,
          1,
          1
         ],
         "yaxis": "y2"
        }
       ],
       "layout": {
        "annotations": [
         {
          "font": {
           "size": 16
          },
          "showarrow": false,
          "text": "Grond-truth",
          "x": 0.225,
          "xanchor": "center",
          "xref": "paper",
          "y": 1,
          "yanchor": "bottom",
          "yref": "paper"
         },
         {
          "font": {
           "size": 16
          },
          "showarrow": false,
          "text": "TFN",
          "x": 0.775,
          "xanchor": "center",
          "xref": "paper",
          "y": 1,
          "yanchor": "bottom",
          "yref": "paper"
         }
        ],
        "template": {
         "data": {
          "bar": [
           {
            "error_x": {
             "color": "#2a3f5f"
            },
            "error_y": {
             "color": "#2a3f5f"
            },
            "marker": {
             "line": {
              "color": "#E5ECF6",
              "width": 0.5
             },
             "pattern": {
              "fillmode": "overlay",
              "size": 10,
              "solidity": 0.2
             }
            },
            "type": "bar"
           }
          ],
          "barpolar": [
           {
            "marker": {
             "line": {
              "color": "#E5ECF6",
              "width": 0.5
             },
             "pattern": {
              "fillmode": "overlay",
              "size": 10,
              "solidity": 0.2
             }
            },
            "type": "barpolar"
           }
          ],
          "carpet": [
           {
            "aaxis": {
             "endlinecolor": "#2a3f5f",
             "gridcolor": "white",
             "linecolor": "white",
             "minorgridcolor": "white",
             "startlinecolor": "#2a3f5f"
            },
            "baxis": {
             "endlinecolor": "#2a3f5f",
             "gridcolor": "white",
             "linecolor": "white",
             "minorgridcolor": "white",
             "startlinecolor": "#2a3f5f"
            },
            "type": "carpet"
           }
          ],
          "choropleth": [
           {
            "colorbar": {
             "outlinewidth": 0,
             "ticks": ""
            },
            "type": "choropleth"
           }
          ],
          "contour": [
           {
            "colorbar": {
             "outlinewidth": 0,
             "ticks": ""
            },
            "colorscale": [
             [
              0,
              "#0d0887"
             ],
             [
              0.1111111111111111,
              "#46039f"
             ],
             [
              0.2222222222222222,
              "#7201a8"
             ],
             [
              0.3333333333333333,
              "#9c179e"
             ],
             [
              0.4444444444444444,
              "#bd3786"
             ],
             [
              0.5555555555555556,
              "#d8576b"
             ],
             [
              0.6666666666666666,
              "#ed7953"
             ],
             [
              0.7777777777777778,
              "#fb9f3a"
             ],
             [
              0.8888888888888888,
              "#fdca26"
             ],
             [
              1,
              "#f0f921"
             ]
            ],
            "type": "contour"
           }
          ],
          "contourcarpet": [
           {
            "colorbar": {
             "outlinewidth": 0,
             "ticks": ""
            },
            "type": "contourcarpet"
           }
          ],
          "heatmap": [
           {
            "colorbar": {
             "outlinewidth": 0,
             "ticks": ""
            },
            "colorscale": [
             [
              0,
              "#0d0887"
             ],
             [
              0.1111111111111111,
              "#46039f"
             ],
             [
              0.2222222222222222,
              "#7201a8"
             ],
             [
              0.3333333333333333,
              "#9c179e"
             ],
             [
              0.4444444444444444,
              "#bd3786"
             ],
             [
              0.5555555555555556,
              "#d8576b"
             ],
             [
              0.6666666666666666,
              "#ed7953"
             ],
             [
              0.7777777777777778,
              "#fb9f3a"
             ],
             [
              0.8888888888888888,
              "#fdca26"
             ],
             [
              1,
              "#f0f921"
             ]
            ],
            "type": "heatmap"
           }
          ],
          "heatmapgl": [
           {
            "colorbar": {
             "outlinewidth": 0,
             "ticks": ""
            },
            "colorscale": [
             [
              0,
              "#0d0887"
             ],
             [
              0.1111111111111111,
              "#46039f"
             ],
             [
              0.2222222222222222,
              "#7201a8"
             ],
             [
              0.3333333333333333,
              "#9c179e"
             ],
             [
              0.4444444444444444,
              "#bd3786"
             ],
             [
              0.5555555555555556,
              "#d8576b"
             ],
             [
              0.6666666666666666,
              "#ed7953"
             ],
             [
              0.7777777777777778,
              "#fb9f3a"
             ],
             [
              0.8888888888888888,
              "#fdca26"
             ],
             [
              1,
              "#f0f921"
             ]
            ],
            "type": "heatmapgl"
           }
          ],
          "histogram": [
           {
            "marker": {
             "pattern": {
              "fillmode": "overlay",
              "size": 10,
              "solidity": 0.2
             }
            },
            "type": "histogram"
           }
          ],
          "histogram2d": [
           {
            "colorbar": {
             "outlinewidth": 0,
             "ticks": ""
            },
            "colorscale": [
             [
              0,
              "#0d0887"
             ],
             [
              0.1111111111111111,
              "#46039f"
             ],
             [
              0.2222222222222222,
              "#7201a8"
             ],
             [
              0.3333333333333333,
              "#9c179e"
             ],
             [
              0.4444444444444444,
              "#bd3786"
             ],
             [
              0.5555555555555556,
              "#d8576b"
             ],
             [
              0.6666666666666666,
              "#ed7953"
             ],
             [
              0.7777777777777778,
              "#fb9f3a"
             ],
             [
              0.8888888888888888,
              "#fdca26"
             ],
             [
              1,
              "#f0f921"
             ]
            ],
            "type": "histogram2d"
           }
          ],
          "histogram2dcontour": [
           {
            "colorbar": {
             "outlinewidth": 0,
             "ticks": ""
            },
            "colorscale": [
             [
              0,
              "#0d0887"
             ],
             [
              0.1111111111111111,
              "#46039f"
             ],
             [
              0.2222222222222222,
              "#7201a8"
             ],
             [
              0.3333333333333333,
              "#9c179e"
             ],
             [
              0.4444444444444444,
              "#bd3786"
             ],
             [
              0.5555555555555556,
              "#d8576b"
             ],
             [
              0.6666666666666666,
              "#ed7953"
             ],
             [
              0.7777777777777778,
              "#fb9f3a"
             ],
             [
              0.8888888888888888,
              "#fdca26"
             ],
             [
              1,
              "#f0f921"
             ]
            ],
            "type": "histogram2dcontour"
           }
          ],
          "mesh3d": [
           {
            "colorbar": {
             "outlinewidth": 0,
             "ticks": ""
            },
            "type": "mesh3d"
           }
          ],
          "parcoords": [
           {
            "line": {
             "colorbar": {
              "outlinewidth": 0,
              "ticks": ""
             }
            },
            "type": "parcoords"
           }
          ],
          "pie": [
           {
            "automargin": true,
            "type": "pie"
           }
          ],
          "scatter": [
           {
            "fillpattern": {
             "fillmode": "overlay",
             "size": 10,
             "solidity": 0.2
            },
            "type": "scatter"
           }
          ],
          "scatter3d": [
           {
            "line": {
             "colorbar": {
              "outlinewidth": 0,
              "ticks": ""
             }
            },
            "marker": {
             "colorbar": {
              "outlinewidth": 0,
              "ticks": ""
             }
            },
            "type": "scatter3d"
           }
          ],
          "scattercarpet": [
           {
            "marker": {
             "colorbar": {
              "outlinewidth": 0,
              "ticks": ""
             }
            },
            "type": "scattercarpet"
           }
          ],
          "scattergeo": [
           {
            "marker": {
             "colorbar": {
              "outlinewidth": 0,
              "ticks": ""
             }
            },
            "type": "scattergeo"
           }
          ],
          "scattergl": [
           {
            "marker": {
             "colorbar": {
              "outlinewidth": 0,
              "ticks": ""
             }
            },
            "type": "scattergl"
           }
          ],
          "scattermapbox": [
           {
            "marker": {
             "colorbar": {
              "outlinewidth": 0,
              "ticks": ""
             }
            },
            "type": "scattermapbox"
           }
          ],
          "scatterpolar": [
           {
            "marker": {
             "colorbar": {
              "outlinewidth": 0,
              "ticks": ""
             }
            },
            "type": "scatterpolar"
           }
          ],
          "scatterpolargl": [
           {
            "marker": {
             "colorbar": {
              "outlinewidth": 0,
              "ticks": ""
             }
            },
            "type": "scatterpolargl"
           }
          ],
          "scatterternary": [
           {
            "marker": {
             "colorbar": {
              "outlinewidth": 0,
              "ticks": ""
             }
            },
            "type": "scatterternary"
           }
          ],
          "surface": [
           {
            "colorbar": {
             "outlinewidth": 0,
             "ticks": ""
            },
            "colorscale": [
             [
              0,
              "#0d0887"
             ],
             [
              0.1111111111111111,
              "#46039f"
             ],
             [
              0.2222222222222222,
              "#7201a8"
             ],
             [
              0.3333333333333333,
              "#9c179e"
             ],
             [
              0.4444444444444444,
              "#bd3786"
             ],
             [
              0.5555555555555556,
              "#d8576b"
             ],
             [
              0.6666666666666666,
              "#ed7953"
             ],
             [
              0.7777777777777778,
              "#fb9f3a"
             ],
             [
              0.8888888888888888,
              "#fdca26"
             ],
             [
              1,
              "#f0f921"
             ]
            ],
            "type": "surface"
           }
          ],
          "table": [
           {
            "cells": {
             "fill": {
              "color": "#EBF0F8"
             },
             "line": {
              "color": "white"
             }
            },
            "header": {
             "fill": {
              "color": "#C8D4E3"
             },
             "line": {
              "color": "white"
             }
            },
            "type": "table"
           }
          ]
         },
         "layout": {
          "annotationdefaults": {
           "arrowcolor": "#2a3f5f",
           "arrowhead": 0,
           "arrowwidth": 1
          },
          "autotypenumbers": "strict",
          "coloraxis": {
           "colorbar": {
            "outlinewidth": 0,
            "ticks": ""
           }
          },
          "colorscale": {
           "diverging": [
            [
             0,
             "#8e0152"
            ],
            [
             0.1,
             "#c51b7d"
            ],
            [
             0.2,
             "#de77ae"
            ],
            [
             0.3,
             "#f1b6da"
            ],
            [
             0.4,
             "#fde0ef"
            ],
            [
             0.5,
             "#f7f7f7"
            ],
            [
             0.6,
             "#e6f5d0"
            ],
            [
             0.7,
             "#b8e186"
            ],
            [
             0.8,
             "#7fbc41"
            ],
            [
             0.9,
             "#4d9221"
            ],
            [
             1,
             "#276419"
            ]
           ],
           "sequential": [
            [
             0,
             "#0d0887"
            ],
            [
             0.1111111111111111,
             "#46039f"
            ],
            [
             0.2222222222222222,
             "#7201a8"
            ],
            [
             0.3333333333333333,
             "#9c179e"
            ],
            [
             0.4444444444444444,
             "#bd3786"
            ],
            [
             0.5555555555555556,
             "#d8576b"
            ],
            [
             0.6666666666666666,
             "#ed7953"
            ],
            [
             0.7777777777777778,
             "#fb9f3a"
            ],
            [
             0.8888888888888888,
             "#fdca26"
            ],
            [
             1,
             "#f0f921"
            ]
           ],
           "sequentialminus": [
            [
             0,
             "#0d0887"
            ],
            [
             0.1111111111111111,
             "#46039f"
            ],
            [
             0.2222222222222222,
             "#7201a8"
            ],
            [
             0.3333333333333333,
             "#9c179e"
            ],
            [
             0.4444444444444444,
             "#bd3786"
            ],
            [
             0.5555555555555556,
             "#d8576b"
            ],
            [
             0.6666666666666666,
             "#ed7953"
            ],
            [
             0.7777777777777778,
             "#fb9f3a"
            ],
            [
             0.8888888888888888,
             "#fdca26"
            ],
            [
             1,
             "#f0f921"
            ]
           ]
          },
          "colorway": [
           "#636efa",
           "#EF553B",
           "#00cc96",
           "#ab63fa",
           "#FFA15A",
           "#19d3f3",
           "#FF6692",
           "#B6E880",
           "#FF97FF",
           "#FECB52"
          ],
          "font": {
           "color": "#2a3f5f"
          },
          "geo": {
           "bgcolor": "white",
           "lakecolor": "white",
           "landcolor": "#E5ECF6",
           "showlakes": true,
           "showland": true,
           "subunitcolor": "white"
          },
          "hoverlabel": {
           "align": "left"
          },
          "hovermode": "closest",
          "mapbox": {
           "style": "light"
          },
          "paper_bgcolor": "white",
          "plot_bgcolor": "#E5ECF6",
          "polar": {
           "angularaxis": {
            "gridcolor": "white",
            "linecolor": "white",
            "ticks": ""
           },
           "bgcolor": "#E5ECF6",
           "radialaxis": {
            "gridcolor": "white",
            "linecolor": "white",
            "ticks": ""
           }
          },
          "scene": {
           "xaxis": {
            "backgroundcolor": "#E5ECF6",
            "gridcolor": "white",
            "gridwidth": 2,
            "linecolor": "white",
            "showbackground": true,
            "ticks": "",
            "zerolinecolor": "white"
           },
           "yaxis": {
            "backgroundcolor": "#E5ECF6",
            "gridcolor": "white",
            "gridwidth": 2,
            "linecolor": "white",
            "showbackground": true,
            "ticks": "",
            "zerolinecolor": "white"
           },
           "zaxis": {
            "backgroundcolor": "#E5ECF6",
            "gridcolor": "white",
            "gridwidth": 2,
            "linecolor": "white",
            "showbackground": true,
            "ticks": "",
            "zerolinecolor": "white"
           }
          },
          "shapedefaults": {
           "line": {
            "color": "#2a3f5f"
           }
          },
          "ternary": {
           "aaxis": {
            "gridcolor": "white",
            "linecolor": "white",
            "ticks": ""
           },
           "baxis": {
            "gridcolor": "white",
            "linecolor": "white",
            "ticks": ""
           },
           "bgcolor": "#E5ECF6",
           "caxis": {
            "gridcolor": "white",
            "linecolor": "white",
            "ticks": ""
           }
          },
          "title": {
           "x": 0.05
          },
          "xaxis": {
           "automargin": true,
           "gridcolor": "white",
           "linecolor": "white",
           "ticks": "",
           "title": {
            "standoff": 15
           },
           "zerolinecolor": "white",
           "zerolinewidth": 2
          },
          "yaxis": {
           "automargin": true,
           "gridcolor": "white",
           "linecolor": "white",
           "ticks": "",
           "title": {
            "standoff": 15
           },
           "zerolinecolor": "white",
           "zerolinewidth": 2
          }
         }
        },
        "title": {
         "text": "Fusion result distribution"
        },
        "xaxis": {
         "anchor": "y",
         "categoryarray": [
          "very negative",
          "negative",
          "weakly negative",
          "Neutral",
          "weakly positive",
          "positive",
          "very positive"
         ],
         "categoryorder": "array",
         "domain": [
          0,
          0.45
         ]
        },
        "xaxis2": {
         "anchor": "y2",
         "categoryarray": [
          "very negative",
          "negative",
          "weakly negative",
          "Neutral",
          "weakly positive",
          "positive",
          "very positive"
         ],
         "categoryorder": "array",
         "domain": [
          0.55,
          1
         ]
        },
        "yaxis": {
         "anchor": "x",
         "domain": [
          0,
          1
         ],
         "range": [
          0,
          200
         ]
        },
        "yaxis2": {
         "anchor": "x2",
         "domain": [
          0,
          1
         ],
         "range": [
          0,
          200
         ]
        }
       }
      },
      "text/html": [
       "<div>                            <div id=\"2c17dc15-ebe8-4f0b-9b12-f3b2e3992aeb\" class=\"plotly-graph-div\" style=\"height:525px; width:100%;\"></div>            <script type=\"text/javascript\">                require([\"plotly\"], function(Plotly) {                    window.PLOTLYENV=window.PLOTLYENV || {};                                    if (document.getElementById(\"2c17dc15-ebe8-4f0b-9b12-f3b2e3992aeb\")) {                    Plotly.newPlot(                        \"2c17dc15-ebe8-4f0b-9b12-f3b2e3992aeb\",                        [{\"alignmentgroup\":\"True\",\"hovertemplate\":\"labels_7=%{x}<br>count=%{y}<extra></extra>\",\"legendgroup\":\"\",\"marker\":{\"color\":\"#636efa\",\"pattern\":{\"shape\":\"\"}},\"name\":\"\",\"offsetgroup\":\"\",\"orientation\":\"v\",\"showlegend\":false,\"textposition\":\"auto\",\"x\":[\"weakly positive\",\"very negative\",\"Neutral\",\"negative\",\"very negative\",\"negative\",\"weakly negative\",\"negative\",\"negative\",\"positive\",\"very negative\",\"very negative\",\"very negative\",\"weakly negative\",\"weakly positive\",\"weakly negative\",\"weakly positive\",\"very negative\",\"very negative\",\"Neutral\",\"very negative\",\"weakly positive\",\"weakly positive\",\"very negative\",\"negative\",\"weakly negative\",\"negative\",\"very negative\",\"very negative\",\"very negative\",\"negative\",\"very negative\",\"very positive\",\"positive\",\"weakly positive\",\"very positive\",\"very negative\",\"very negative\",\"weakly negative\",\"very positive\",\"weakly negative\",\"Neutral\",\"weakly negative\",\"positive\",\"very positive\",\"weakly negative\",\"very positive\",\"very negative\",\"very positive\",\"weakly positive\",\"very positive\",\"weakly negative\",\"very negative\",\"very negative\",\"weakly negative\",\"very negative\",\"negative\",\"weakly positive\",\"positive\",\"positive\",\"positive\",\"negative\",\"positive\",\"weakly positive\",\"Neutral\",\"weakly positive\",\"weakly negative\",\"positive\",\"weakly negative\",\"weakly negative\",\"weakly negative\",\"positive\",\"weakly negative\",\"Neutral\",\"positive\",\"weakly positive\",\"weakly negative\",\"very positive\",\"Neutral\",\"weakly negative\",\"weakly negative\",\"very positive\",\"weakly positive\",\"positive\",\"positive\",\"positive\",\"positive\",\"weakly negative\",\"very positive\",\"weakly positive\",\"Neutral\",\"weakly negative\",\"Neutral\",\"positive\",\"Neutral\",\"very positive\",\"Neutral\",\"positive\",\"Neutral\",\"very positive\",\"positive\",\"weakly negative\",\"positive\",\"positive\",\"weakly negative\",\"Neutral\",\"Neutral\",\"very negative\",\"very positive\",\"Neutral\",\"positive\",\"positive\",\"weakly positive\",\"weakly positive\",\"very negative\",\"positive\",\"negative\",\"very positive\",\"positive\",\"very positive\",\"very positive\",\"negative\",\"negative\",\"weakly positive\",\"negative\",\"Neutral\",\"very negative\",\"negative\",\"negative\",\"weakly negative\",\"negative\",\"very negative\",\"weakly positive\",\"negative\",\"negative\",\"very negative\",\"very negative\",\"weakly negative\",\"weakly negative\",\"negative\",\"negative\",\"very negative\",\"very negative\",\"very negative\",\"positive\",\"very negative\",\"weakly negative\",\"negative\",\"weakly negative\",\"very negative\",\"negative\",\"negative\",\"very negative\",\"very negative\",\"very negative\",\"negative\",\"very negative\",\"very negative\",\"very negative\",\"very negative\",\"weakly negative\",\"very negative\",\"Neutral\",\"weakly negative\",\"weakly positive\",\"Neutral\",\"weakly negative\",\"Neutral\",\"very negative\",\"negative\",\"weakly negative\",\"weakly positive\",\"weakly negative\",\"negative\",\"weakly positive\",\"weakly positive\",\"negative\",\"Neutral\",\"negative\",\"very negative\",\"Neutral\",\"negative\",\"negative\",\"weakly positive\",\"weakly positive\",\"negative\",\"weakly positive\",\"weakly positive\",\"very negative\",\"negative\",\"weakly negative\",\"weakly negative\",\"very negative\",\"weakly negative\",\"weakly negative\",\"negative\",\"weakly negative\",\"positive\",\"Neutral\",\"negative\",\"positive\",\"negative\",\"weakly negative\",\"weakly positive\",\"positive\",\"very negative\",\"very negative\",\"negative\",\"Neutral\",\"positive\",\"very negative\",\"weakly negative\",\"negative\",\"weakly negative\",\"negative\",\"weakly negative\",\"very negative\",\"weakly negative\",\"weakly positive\",\"Neutral\",\"negative\",\"weakly negative\",\"weakly positive\",\"positive\",\"weakly negative\",\"weakly negative\",\"Neutral\",\"weakly positive\",\"Neutral\",\"weakly negative\",\"Neutral\",\"weakly positive\",\"Neutral\",\"Neutral\",\"weakly negative\",\"positive\",\"Neutral\",\"Neutral\",\"very negative\",\"Neutral\",\"weakly negative\",\"positive\",\"weakly positive\",\"very negative\",\"weakly positive\",\"Neutral\",\"very negative\",\"Neutral\",\"positive\",\"positive\",\"weakly positive\",\"negative\",\"Neutral\",\"weakly positive\",\"very negative\",\"weakly negative\",\"Neutral\",\"negative\",\"negative\",\"weakly positive\",\"very positive\",\"very positive\",\"Neutral\",\"weakly negative\",\"negative\",\"weakly negative\",\"weakly negative\",\"Neutral\",\"weakly negative\",\"positive\",\"very negative\",\"weakly negative\",\"weakly positive\",\"weakly positive\",\"weakly negative\",\"negative\",\"weakly negative\",\"positive\",\"weakly positive\",\"very positive\",\"negative\",\"Neutral\",\"Neutral\",\"positive\",\"Neutral\",\"very positive\",\"very positive\",\"Neutral\",\"negative\",\"weakly negative\",\"weakly negative\",\"Neutral\",\"very negative\",\"positive\",\"weakly positive\",\"negative\",\"weakly negative\",\"negative\",\"weakly positive\",\"negative\",\"weakly positive\",\"negative\",\"positive\",\"very negative\",\"weakly positive\",\"very negative\",\"very positive\",\"negative\",\"negative\",\"positive\",\"positive\",\"weakly positive\",\"Neutral\",\"weakly positive\",\"Neutral\",\"very negative\",\"very negative\",\"weakly positive\",\"weakly positive\",\"weakly positive\",\"very negative\",\"very negative\",\"negative\",\"very negative\",\"weakly negative\",\"weakly negative\",\"weakly negative\",\"negative\",\"Neutral\",\"weakly negative\",\"Neutral\",\"Neutral\",\"weakly negative\",\"Neutral\",\"positive\",\"very negative\",\"weakly negative\",\"very negative\",\"negative\",\"very negative\",\"negative\",\"Neutral\",\"very positive\",\"Neutral\",\"weakly positive\",\"negative\",\"positive\",\"very negative\",\"very positive\",\"Neutral\",\"positive\",\"negative\",\"very negative\",\"negative\",\"negative\",\"weakly negative\",\"negative\",\"weakly negative\",\"very negative\",\"negative\",\"very negative\",\"negative\",\"weakly positive\",\"weakly positive\",\"very negative\",\"very negative\",\"very negative\",\"Neutral\",\"positive\",\"very positive\",\"Neutral\",\"positive\",\"Neutral\",\"Neutral\",\"very negative\",\"weakly negative\",\"weakly positive\",\"negative\",\"weakly positive\",\"negative\",\"very negative\",\"negative\",\"weakly negative\",\"negative\",\"negative\",\"negative\",\"very negative\",\"weakly positive\",\"weakly positive\",\"negative\",\"weakly positive\",\"negative\",\"weakly negative\",\"Neutral\",\"negative\",\"Neutral\",\"weakly positive\",\"very negative\",\"weakly negative\",\"weakly positive\",\"negative\",\"negative\",\"positive\",\"very positive\",\"weakly negative\",\"weakly positive\",\"positive\",\"weakly positive\",\"positive\",\"weakly positive\",\"weakly negative\",\"positive\",\"weakly positive\",\"positive\",\"Neutral\",\"negative\",\"very negative\",\"very negative\",\"positive\",\"negative\",\"weakly negative\",\"negative\",\"negative\",\"Neutral\",\"weakly negative\",\"negative\",\"negative\",\"negative\",\"negative\",\"weakly negative\",\"weakly positive\",\"negative\",\"positive\",\"positive\",\"weakly positive\",\"negative\",\"weakly positive\",\"negative\",\"very positive\",\"negative\",\"weakly negative\",\"positive\",\"weakly positive\",\"negative\",\"positive\",\"weakly positive\",\"very positive\",\"positive\",\"weakly positive\",\"weakly negative\",\"very negative\",\"very negative\",\"negative\",\"very negative\",\"very negative\",\"weakly negative\",\"negative\",\"weakly negative\",\"negative\",\"very negative\",\"very positive\",\"negative\",\"positive\",\"weakly positive\",\"very negative\",\"very positive\",\"Neutral\",\"very positive\",\"negative\",\"weakly negative\",\"very negative\",\"very negative\",\"very negative\",\"very positive\",\"Neutral\",\"negative\",\"negative\",\"negative\",\"very negative\",\"negative\",\"negative\",\"very negative\",\"Neutral\",\"negative\",\"weakly negative\",\"negative\",\"negative\",\"very negative\",\"very negative\",\"Neutral\",\"weakly negative\",\"negative\",\"Neutral\",\"negative\",\"weakly negative\",\"negative\",\"Neutral\",\"very negative\",\"negative\",\"negative\",\"negative\",\"Neutral\",\"negative\",\"very negative\",\"negative\",\"negative\",\"positive\",\"positive\",\"very negative\",\"weakly positive\",\"weakly positive\",\"weakly negative\",\"positive\",\"weakly negative\",\"negative\",\"very positive\",\"positive\",\"positive\",\"positive\",\"weakly positive\",\"Neutral\",\"Neutral\",\"weakly negative\",\"negative\",\"weakly positive\",\"Neutral\",\"negative\",\"very positive\",\"Neutral\",\"positive\",\"negative\",\"weakly negative\",\"very positive\",\"very positive\",\"very negative\",\"Neutral\",\"weakly negative\",\"positive\",\"positive\",\"positive\",\"very positive\",\"positive\",\"Neutral\",\"Neutral\",\"Neutral\",\"very positive\",\"Neutral\",\"very negative\",\"positive\",\"weakly positive\",\"weakly negative\",\"very positive\",\"very positive\",\"positive\",\"negative\",\"very positive\",\"negative\",\"positive\",\"weakly positive\",\"very positive\",\"weakly positive\",\"positive\",\"Neutral\",\"positive\",\"very positive\",\"weakly positive\",\"Neutral\",\"Neutral\",\"positive\",\"weakly positive\",\"positive\",\"very positive\",\"very positive\",\"positive\",\"Neutral\",\"weakly positive\",\"Neutral\",\"positive\",\"positive\",\"positive\",\"very positive\",\"weakly positive\",\"positive\",\"weakly negative\",\"positive\",\"positive\",\"weakly positive\",\"weakly negative\",\"Neutral\",\"weakly negative\",\"positive\",\"Neutral\",\"positive\",\"Neutral\",\"positive\",\"weakly negative\",\"weakly positive\",\"positive\",\"weakly positive\",\"weakly negative\",\"positive\",\"negative\",\"Neutral\",\"negative\",\"positive\",\"weakly positive\",\"Neutral\",\"Neutral\",\"weakly negative\",\"weakly negative\",\"weakly negative\",\"negative\",\"Neutral\",\"Neutral\",\"very positive\",\"negative\",\"negative\",\"negative\",\"Neutral\",\"weakly positive\",\"negative\",\"weakly positive\",\"weakly negative\",\"Neutral\",\"negative\",\"weakly negative\",\"Neutral\",\"positive\",\"weakly positive\",\"negative\",\"very positive\",\"weakly negative\",\"Neutral\",\"weakly negative\",\"negative\",\"negative\",\"weakly negative\",\"negative\",\"positive\",\"Neutral\",\"weakly negative\",\"negative\",\"weakly positive\",\"negative\",\"negative\",\"very negative\",\"negative\",\"very negative\",\"negative\",\"negative\",\"negative\",\"positive\",\"weakly negative\",\"positive\",\"weakly negative\",\"weakly negative\",\"weakly negative\",\"negative\",\"weakly positive\",\"weakly negative\",\"negative\",\"negative\",\"very negative\",\"positive\",\"weakly positive\",\"weakly positive\",\"negative\",\"negative\",\"weakly positive\",\"weakly positive\",\"negative\",\"weakly negative\",\"weakly positive\",\"weakly negative\",\"weakly positive\",\"Neutral\",\"weakly negative\",\"weakly negative\",\"negative\",\"Neutral\",\"weakly positive\",\"positive\",\"weakly positive\",\"Neutral\",\"weakly positive\",\"weakly positive\"],\"xaxis\":\"x\",\"y\":[1,1,1,1,1,1,1,1,1,1,1,1,1,1,1,1,1,1,1,1,1,1,1,1,1,1,1,1,1,1,1,1,1,1,1,1,1,1,1,1,1,1,1,1,1,1,1,1,1,1,1,1,1,1,1,1,1,1,1,1,1,1,1,1,1,1,1,1,1,1,1,1,1,1,1,1,1,1,1,1,1,1,1,1,1,1,1,1,1,1,1,1,1,1,1,1,1,1,1,1,1,1,1,1,1,1,1,1,1,1,1,1,1,1,1,1,1,1,1,1,1,1,1,1,1,1,1,1,1,1,1,1,1,1,1,1,1,1,1,1,1,1,1,1,1,1,1,1,1,1,1,1,1,1,1,1,1,1,1,1,1,1,1,1,1,1,1,1,1,1,1,1,1,1,1,1,1,1,1,1,1,1,1,1,1,1,1,1,1,1,1,1,1,1,1,1,1,1,1,1,1,1,1,1,1,1,1,1,1,1,1,1,1,1,1,1,1,1,1,1,1,1,1,1,1,1,1,1,1,1,1,1,1,1,1,1,1,1,1,1,1,1,1,1,1,1,1,1,1,1,1,1,1,1,1,1,1,1,1,1,1,1,1,1,1,1,1,1,1,1,1,1,1,1,1,1,1,1,1,1,1,1,1,1,1,1,1,1,1,1,1,1,1,1,1,1,1,1,1,1,1,1,1,1,1,1,1,1,1,1,1,1,1,1,1,1,1,1,1,1,1,1,1,1,1,1,1,1,1,1,1,1,1,1,1,1,1,1,1,1,1,1,1,1,1,1,1,1,1,1,1,1,1,1,1,1,1,1,1,1,1,1,1,1,1,1,1,1,1,1,1,1,1,1,1,1,1,1,1,1,1,1,1,1,1,1,1,1,1,1,1,1,1,1,1,1,1,1,1,1,1,1,1,1,1,1,1,1,1,1,1,1,1,1,1,1,1,1,1,1,1,1,1,1,1,1,1,1,1,1,1,1,1,1,1,1,1,1,1,1,1,1,1,1,1,1,1,1,1,1,1,1,1,1,1,1,1,1,1,1,1,1,1,1,1,1,1,1,1,1,1,1,1,1,1,1,1,1,1,1,1,1,1,1,1,1,1,1,1,1,1,1,1,1,1,1,1,1,1,1,1,1,1,1,1,1,1,1,1,1,1,1,1,1,1,1,1,1,1,1,1,1,1,1,1,1,1,1,1,1,1,1,1,1,1,1,1,1,1,1,1,1,1,1,1,1,1,1,1,1,1,1,1,1,1,1,1,1,1,1,1,1,1,1,1,1,1,1,1,1,1,1,1,1,1,1,1,1,1,1,1,1,1,1,1,1,1,1,1,1,1,1,1,1,1,1,1,1,1,1,1,1,1,1,1,1,1,1,1,1,1,1,1,1,1,1,1,1,1,1,1,1,1,1,1,1,1,1,1,1,1,1,1,1,1,1,1,1,1,1,1,1,1,1,1,1,1,1,1,1,1,1,1,1,1,1,1,1,1,1,1,1,1,1,1,1,1,1,1,1,1,1,1,1,1,1,1,1,1,1,1,1,1,1,1,1],\"yaxis\":\"y\",\"type\":\"bar\"},{\"alignmentgroup\":\"True\",\"hovertemplate\":\"preds_7=%{x}<br>count=%{y}<extra></extra>\",\"legendgroup\":\"\",\"marker\":{\"color\":\"#636efa\",\"pattern\":{\"shape\":\"\"}},\"name\":\"\",\"offsetgroup\":\"\",\"orientation\":\"v\",\"showlegend\":false,\"textposition\":\"auto\",\"x\":[\"positive\",\"negative\",\"Neutral\",\"Neutral\",\"negative\",\"weakly negative\",\"positive\",\"weakly negative\",\"weakly positive\",\"positive\",\"positive\",\"negative\",\"negative\",\"negative\",\"positive\",\"weakly positive\",\"positive\",\"weakly positive\",\"negative\",\"weakly positive\",\"weakly positive\",\"weakly positive\",\"positive\",\"weakly negative\",\"negative\",\"positive\",\"Neutral\",\"negative\",\"very negative\",\"weakly negative\",\"weakly negative\",\"negative\",\"weakly positive\",\"very positive\",\"weakly positive\",\"weakly negative\",\"negative\",\"negative\",\"weakly negative\",\"positive\",\"weakly negative\",\"weakly positive\",\"positive\",\"weakly positive\",\"very positive\",\"negative\",\"very positive\",\"negative\",\"positive\",\"weakly positive\",\"negative\",\"Neutral\",\"Neutral\",\"Neutral\",\"negative\",\"weakly negative\",\"weakly negative\",\"positive\",\"weakly positive\",\"positive\",\"weakly positive\",\"weakly negative\",\"very positive\",\"weakly positive\",\"Neutral\",\"weakly positive\",\"negative\",\"positive\",\"weakly negative\",\"Neutral\",\"weakly positive\",\"positive\",\"weakly negative\",\"Neutral\",\"positive\",\"positive\",\"weakly positive\",\"very positive\",\"weakly negative\",\"positive\",\"weakly positive\",\"positive\",\"weakly positive\",\"positive\",\"positive\",\"very positive\",\"very positive\",\"weakly negative\",\"very positive\",\"weakly positive\",\"weakly positive\",\"Neutral\",\"Neutral\",\"positive\",\"weakly positive\",\"very positive\",\"weakly positive\",\"negative\",\"weakly positive\",\"very positive\",\"weakly positive\",\"weakly positive\",\"very positive\",\"positive\",\"negative\",\"Neutral\",\"Neutral\",\"Neutral\",\"very positive\",\"Neutral\",\"weakly positive\",\"weakly positive\",\"Neutral\",\"weakly negative\",\"negative\",\"positive\",\"negative\",\"positive\",\"very positive\",\"weakly positive\",\"very positive\",\"negative\",\"weakly negative\",\"weakly positive\",\"negative\",\"Neutral\",\"very negative\",\"very negative\",\"weakly negative\",\"Neutral\",\"negative\",\"negative\",\"weakly positive\",\"negative\",\"Neutral\",\"weakly negative\",\"negative\",\"weakly negative\",\"Neutral\",\"negative\",\"negative\",\"negative\",\"very negative\",\"very negative\",\"positive\",\"very negative\",\"positive\",\"negative\",\"positive\",\"weakly negative\",\"negative\",\"negative\",\"negative\",\"very negative\",\"negative\",\"negative\",\"negative\",\"very negative\",\"negative\",\"negative\",\"weakly positive\",\"weakly positive\",\"weakly negative\",\"negative\",\"weakly positive\",\"weakly positive\",\"weakly positive\",\"weakly positive\",\"very negative\",\"Neutral\",\"weakly negative\",\"very positive\",\"weakly negative\",\"weakly positive\",\"positive\",\"weakly negative\",\"weakly positive\",\"weakly positive\",\"weakly negative\",\"positive\",\"Neutral\",\"weakly negative\",\"Neutral\",\"negative\",\"weakly positive\",\"Neutral\",\"Neutral\",\"weakly negative\",\"negative\",\"weakly negative\",\"negative\",\"negative\",\"Neutral\",\"weakly negative\",\"negative\",\"negative\",\"positive\",\"positive\",\"negative\",\"Neutral\",\"positive\",\"weakly negative\",\"weakly negative\",\"weakly positive\",\"positive\",\"very negative\",\"negative\",\"negative\",\"Neutral\",\"weakly positive\",\"negative\",\"negative\",\"negative\",\"weakly negative\",\"negative\",\"weakly negative\",\"negative\",\"negative\",\"weakly positive\",\"weakly negative\",\"negative\",\"weakly negative\",\"positive\",\"positive\",\"weakly negative\",\"weakly positive\",\"weakly positive\",\"Neutral\",\"negative\",\"weakly negative\",\"Neutral\",\"weakly positive\",\"Neutral\",\"weakly negative\",\"weakly negative\",\"weakly positive\",\"weakly positive\",\"weakly negative\",\"negative\",\"Neutral\",\"weakly negative\",\"positive\",\"weakly positive\",\"negative\",\"Neutral\",\"negative\",\"Neutral\",\"Neutral\",\"weakly positive\",\"positive\",\"positive\",\"weakly positive\",\"positive\",\"weakly negative\",\"weakly negative\",\"weakly negative\",\"weakly negative\",\"positive\",\"weakly negative\",\"weakly positive\",\"positive\",\"positive\",\"positive\",\"Neutral\",\"weakly negative\",\"weakly positive\",\"Neutral\",\"weakly positive\",\"negative\",\"positive\",\"Neutral\",\"weakly negative\",\"Neutral\",\"weakly positive\",\"Neutral\",\"negative\",\"Neutral\",\"positive\",\"Neutral\",\"positive\",\"negative\",\"weakly positive\",\"Neutral\",\"positive\",\"weakly negative\",\"very positive\",\"very positive\",\"weakly positive\",\"negative\",\"positive\",\"weakly negative\",\"weakly positive\",\"negative\",\"weakly positive\",\"weakly positive\",\"negative\",\"weakly positive\",\"negative\",\"positive\",\"weakly negative\",\"weakly positive\",\"negative\",\"Neutral\",\"very negative\",\"Neutral\",\"negative\",\"Neutral\",\"Neutral\",\"negative\",\"positive\",\"weakly positive\",\"weakly positive\",\"weakly negative\",\"Neutral\",\"weakly positive\",\"very negative\",\"negative\",\"weakly positive\",\"weakly positive\",\"very negative\",\"weakly negative\",\"negative\",\"weakly positive\",\"negative\",\"negative\",\"Neutral\",\"weakly negative\",\"weakly negative\",\"very negative\",\"Neutral\",\"weakly positive\",\"negative\",\"Neutral\",\"weakly positive\",\"positive\",\"very negative\",\"negative\",\"weakly negative\",\"negative\",\"very negative\",\"negative\",\"weakly negative\",\"very positive\",\"weakly negative\",\"weakly positive\",\"negative\",\"weakly positive\",\"negative\",\"positive\",\"weakly positive\",\"weakly negative\",\"weakly negative\",\"weakly positive\",\"weakly positive\",\"negative\",\"Neutral\",\"negative\",\"Neutral\",\"negative\",\"weakly negative\",\"Neutral\",\"weakly negative\",\"weakly positive\",\"positive\",\"Neutral\",\"weakly negative\",\"weakly positive\",\"weakly positive\",\"positive\",\"positive\",\"weakly positive\",\"positive\",\"weakly negative\",\"weakly positive\",\"negative\",\"negative\",\"positive\",\"negative\",\"positive\",\"weakly positive\",\"negative\",\"very negative\",\"negative\",\"negative\",\"negative\",\"positive\",\"Neutral\",\"very positive\",\"positive\",\"weakly negative\",\"positive\",\"negative\",\"Neutral\",\"negative\",\"weakly positive\",\"negative\",\"positive\",\"weakly negative\",\"Neutral\",\"negative\",\"negative\",\"negative\",\"positive\",\"very positive\",\"negative\",\"weakly positive\",\"weakly positive\",\"weakly positive\",\"positive\",\"positive\",\"weakly positive\",\"weakly positive\",\"weakly positive\",\"positive\",\"weakly positive\",\"negative\",\"negative\",\"weakly negative\",\"weakly negative\",\"weakly negative\",\"weakly positive\",\"weakly negative\",\"weakly positive\",\"Neutral\",\"Neutral\",\"negative\",\"weakly positive\",\"negative\",\"Neutral\",\"very positive\",\"weakly positive\",\"Neutral\",\"weakly positive\",\"positive\",\"Neutral\",\"Neutral\",\"weakly positive\",\"negative\",\"positive\",\"negative\",\"Neutral\",\"positive\",\"weakly positive\",\"weakly negative\",\"positive\",\"weakly positive\",\"positive\",\"weakly positive\",\"very positive\",\"weakly negative\",\"very negative\",\"positive\",\"weakly negative\",\"weakly negative\",\"negative\",\"weakly positive\",\"negative\",\"Neutral\",\"weakly negative\",\"negative\",\"positive\",\"weakly negative\",\"weakly positive\",\"weakly positive\",\"very negative\",\"positive\",\"positive\",\"very positive\",\"weakly negative\",\"Neutral\",\"weakly negative\",\"Neutral\",\"weakly positive\",\"positive\",\"weakly positive\",\"negative\",\"weakly positive\",\"weakly negative\",\"weakly negative\",\"negative\",\"weakly positive\",\"negative\",\"weakly negative\",\"Neutral\",\"Neutral\",\"positive\",\"weakly negative\",\"very negative\",\"very negative\",\"weakly positive\",\"weakly negative\",\"weakly negative\",\"weakly positive\",\"very negative\",\"weakly negative\",\"negative\",\"Neutral\",\"very negative\",\"negative\",\"weakly negative\",\"Neutral\",\"Neutral\",\"Neutral\",\"negative\",\"positive\",\"negative\",\"positive\",\"positive\",\"very negative\",\"positive\",\"weakly positive\",\"Neutral\",\"positive\",\"weakly positive\",\"weakly negative\",\"positive\",\"negative\",\"Neutral\",\"Neutral\",\"weakly positive\",\"weakly positive\",\"Neutral\",\"negative\",\"weakly positive\",\"Neutral\",\"weakly negative\",\"Neutral\",\"very positive\",\"positive\",\"positive\",\"weakly positive\",\"Neutral\",\"positive\",\"positive\",\"negative\",\"Neutral\",\"Neutral\",\"positive\",\"positive\",\"very positive\",\"very positive\",\"very positive\",\"weakly positive\",\"weakly negative\",\"weakly positive\",\"positive\",\"weakly positive\",\"weakly negative\",\"positive\",\"negative\",\"weakly negative\",\"positive\",\"very positive\",\"weakly positive\",\"Neutral\",\"positive\",\"negative\",\"negative\",\"very positive\",\"positive\",\"weakly positive\",\"weakly positive\",\"Neutral\",\"very positive\",\"positive\",\"weakly positive\",\"positive\",\"positive\",\"weakly positive\",\"positive\",\"positive\",\"positive\",\"positive\",\"positive\",\"weakly positive\",\"positive\",\"weakly negative\",\"positive\",\"weakly positive\",\"weakly positive\",\"positive\",\"weakly negative\",\"very positive\",\"Neutral\",\"weakly positive\",\"weakly positive\",\"positive\",\"negative\",\"weakly negative\",\"weakly negative\",\"Neutral\",\"weakly positive\",\"positive\",\"very positive\",\"very positive\",\"weakly positive\",\"weakly negative\",\"weakly positive\",\"positive\",\"weakly negative\",\"weakly positive\",\"Neutral\",\"weakly positive\",\"weakly negative\",\"weakly positive\",\"Neutral\",\"weakly positive\",\"Neutral\",\"negative\",\"weakly negative\",\"positive\",\"Neutral\",\"Neutral\",\"weakly negative\",\"very positive\",\"negative\",\"negative\",\"weakly negative\",\"negative\",\"Neutral\",\"negative\",\"Neutral\",\"weakly positive\",\"weakly positive\",\"weakly positive\",\"negative\",\"Neutral\",\"weakly positive\",\"positive\",\"negative\",\"positive\",\"weakly negative\",\"weakly negative\",\"Neutral\",\"negative\",\"negative\",\"Neutral\",\"Neutral\",\"positive\",\"weakly negative\",\"weakly negative\",\"negative\",\"positive\",\"negative\",\"weakly negative\",\"negative\",\"Neutral\",\"negative\",\"negative\",\"negative\",\"positive\",\"very positive\",\"negative\",\"positive\",\"Neutral\",\"Neutral\",\"negative\",\"weakly positive\",\"weakly positive\",\"weakly negative\",\"weakly negative\",\"very negative\",\"very negative\",\"positive\",\"weakly positive\",\"positive\",\"weakly positive\",\"negative\",\"weakly positive\",\"positive\",\"negative\",\"weakly negative\",\"positive\",\"weakly positive\",\"weakly positive\",\"weakly positive\",\"weakly positive\",\"weakly negative\",\"negative\",\"positive\",\"Neutral\",\"weakly positive\",\"weakly negative\",\"weakly negative\",\"weakly positive\",\"positive\"],\"xaxis\":\"x2\",\"y\":[1,1,1,1,1,1,1,1,1,1,1,1,1,1,1,1,1,1,1,1,1,1,1,1,1,1,1,1,1,1,1,1,1,1,1,1,1,1,1,1,1,1,1,1,1,1,1,1,1,1,1,1,1,1,1,1,1,1,1,1,1,1,1,1,1,1,1,1,1,1,1,1,1,1,1,1,1,1,1,1,1,1,1,1,1,1,1,1,1,1,1,1,1,1,1,1,1,1,1,1,1,1,1,1,1,1,1,1,1,1,1,1,1,1,1,1,1,1,1,1,1,1,1,1,1,1,1,1,1,1,1,1,1,1,1,1,1,1,1,1,1,1,1,1,1,1,1,1,1,1,1,1,1,1,1,1,1,1,1,1,1,1,1,1,1,1,1,1,1,1,1,1,1,1,1,1,1,1,1,1,1,1,1,1,1,1,1,1,1,1,1,1,1,1,1,1,1,1,1,1,1,1,1,1,1,1,1,1,1,1,1,1,1,1,1,1,1,1,1,1,1,1,1,1,1,1,1,1,1,1,1,1,1,1,1,1,1,1,1,1,1,1,1,1,1,1,1,1,1,1,1,1,1,1,1,1,1,1,1,1,1,1,1,1,1,1,1,1,1,1,1,1,1,1,1,1,1,1,1,1,1,1,1,1,1,1,1,1,1,1,1,1,1,1,1,1,1,1,1,1,1,1,1,1,1,1,1,1,1,1,1,1,1,1,1,1,1,1,1,1,1,1,1,1,1,1,1,1,1,1,1,1,1,1,1,1,1,1,1,1,1,1,1,1,1,1,1,1,1,1,1,1,1,1,1,1,1,1,1,1,1,1,1,1,1,1,1,1,1,1,1,1,1,1,1,1,1,1,1,1,1,1,1,1,1,1,1,1,1,1,1,1,1,1,1,1,1,1,1,1,1,1,1,1,1,1,1,1,1,1,1,1,1,1,1,1,1,1,1,1,1,1,1,1,1,1,1,1,1,1,1,1,1,1,1,1,1,1,1,1,1,1,1,1,1,1,1,1,1,1,1,1,1,1,1,1,1,1,1,1,1,1,1,1,1,1,1,1,1,1,1,1,1,1,1,1,1,1,1,1,1,1,1,1,1,1,1,1,1,1,1,1,1,1,1,1,1,1,1,1,1,1,1,1,1,1,1,1,1,1,1,1,1,1,1,1,1,1,1,1,1,1,1,1,1,1,1,1,1,1,1,1,1,1,1,1,1,1,1,1,1,1,1,1,1,1,1,1,1,1,1,1,1,1,1,1,1,1,1,1,1,1,1,1,1,1,1,1,1,1,1,1,1,1,1,1,1,1,1,1,1,1,1,1,1,1,1,1,1,1,1,1,1,1,1,1,1,1,1,1,1,1,1,1,1,1,1,1,1,1,1,1,1,1,1,1,1,1,1,1,1,1,1,1,1,1,1,1,1,1,1,1,1,1,1,1,1,1,1,1,1,1,1,1,1,1,1,1,1,1,1,1,1,1,1,1,1,1,1,1,1,1,1,1,1,1,1,1,1,1,1,1,1,1,1,1,1,1,1,1,1,1,1,1,1,1],\"yaxis\":\"y2\",\"type\":\"bar\"}],                        {\"template\":{\"data\":{\"histogram2dcontour\":[{\"type\":\"histogram2dcontour\",\"colorbar\":{\"outlinewidth\":0,\"ticks\":\"\"},\"colorscale\":[[0.0,\"#0d0887\"],[0.1111111111111111,\"#46039f\"],[0.2222222222222222,\"#7201a8\"],[0.3333333333333333,\"#9c179e\"],[0.4444444444444444,\"#bd3786\"],[0.5555555555555556,\"#d8576b\"],[0.6666666666666666,\"#ed7953\"],[0.7777777777777778,\"#fb9f3a\"],[0.8888888888888888,\"#fdca26\"],[1.0,\"#f0f921\"]]}],\"choropleth\":[{\"type\":\"choropleth\",\"colorbar\":{\"outlinewidth\":0,\"ticks\":\"\"}}],\"histogram2d\":[{\"type\":\"histogram2d\",\"colorbar\":{\"outlinewidth\":0,\"ticks\":\"\"},\"colorscale\":[[0.0,\"#0d0887\"],[0.1111111111111111,\"#46039f\"],[0.2222222222222222,\"#7201a8\"],[0.3333333333333333,\"#9c179e\"],[0.4444444444444444,\"#bd3786\"],[0.5555555555555556,\"#d8576b\"],[0.6666666666666666,\"#ed7953\"],[0.7777777777777778,\"#fb9f3a\"],[0.8888888888888888,\"#fdca26\"],[1.0,\"#f0f921\"]]}],\"heatmap\":[{\"type\":\"heatmap\",\"colorbar\":{\"outlinewidth\":0,\"ticks\":\"\"},\"colorscale\":[[0.0,\"#0d0887\"],[0.1111111111111111,\"#46039f\"],[0.2222222222222222,\"#7201a8\"],[0.3333333333333333,\"#9c179e\"],[0.4444444444444444,\"#bd3786\"],[0.5555555555555556,\"#d8576b\"],[0.6666666666666666,\"#ed7953\"],[0.7777777777777778,\"#fb9f3a\"],[0.8888888888888888,\"#fdca26\"],[1.0,\"#f0f921\"]]}],\"heatmapgl\":[{\"type\":\"heatmapgl\",\"colorbar\":{\"outlinewidth\":0,\"ticks\":\"\"},\"colorscale\":[[0.0,\"#0d0887\"],[0.1111111111111111,\"#46039f\"],[0.2222222222222222,\"#7201a8\"],[0.3333333333333333,\"#9c179e\"],[0.4444444444444444,\"#bd3786\"],[0.5555555555555556,\"#d8576b\"],[0.6666666666666666,\"#ed7953\"],[0.7777777777777778,\"#fb9f3a\"],[0.8888888888888888,\"#fdca26\"],[1.0,\"#f0f921\"]]}],\"contourcarpet\":[{\"type\":\"contourcarpet\",\"colorbar\":{\"outlinewidth\":0,\"ticks\":\"\"}}],\"contour\":[{\"type\":\"contour\",\"colorbar\":{\"outlinewidth\":0,\"ticks\":\"\"},\"colorscale\":[[0.0,\"#0d0887\"],[0.1111111111111111,\"#46039f\"],[0.2222222222222222,\"#7201a8\"],[0.3333333333333333,\"#9c179e\"],[0.4444444444444444,\"#bd3786\"],[0.5555555555555556,\"#d8576b\"],[0.6666666666666666,\"#ed7953\"],[0.7777777777777778,\"#fb9f3a\"],[0.8888888888888888,\"#fdca26\"],[1.0,\"#f0f921\"]]}],\"surface\":[{\"type\":\"surface\",\"colorbar\":{\"outlinewidth\":0,\"ticks\":\"\"},\"colorscale\":[[0.0,\"#0d0887\"],[0.1111111111111111,\"#46039f\"],[0.2222222222222222,\"#7201a8\"],[0.3333333333333333,\"#9c179e\"],[0.4444444444444444,\"#bd3786\"],[0.5555555555555556,\"#d8576b\"],[0.6666666666666666,\"#ed7953\"],[0.7777777777777778,\"#fb9f3a\"],[0.8888888888888888,\"#fdca26\"],[1.0,\"#f0f921\"]]}],\"mesh3d\":[{\"type\":\"mesh3d\",\"colorbar\":{\"outlinewidth\":0,\"ticks\":\"\"}}],\"scatter\":[{\"fillpattern\":{\"fillmode\":\"overlay\",\"size\":10,\"solidity\":0.2},\"type\":\"scatter\"}],\"parcoords\":[{\"type\":\"parcoords\",\"line\":{\"colorbar\":{\"outlinewidth\":0,\"ticks\":\"\"}}}],\"scatterpolargl\":[{\"type\":\"scatterpolargl\",\"marker\":{\"colorbar\":{\"outlinewidth\":0,\"ticks\":\"\"}}}],\"bar\":[{\"error_x\":{\"color\":\"#2a3f5f\"},\"error_y\":{\"color\":\"#2a3f5f\"},\"marker\":{\"line\":{\"color\":\"#E5ECF6\",\"width\":0.5},\"pattern\":{\"fillmode\":\"overlay\",\"size\":10,\"solidity\":0.2}},\"type\":\"bar\"}],\"scattergeo\":[{\"type\":\"scattergeo\",\"marker\":{\"colorbar\":{\"outlinewidth\":0,\"ticks\":\"\"}}}],\"scatterpolar\":[{\"type\":\"scatterpolar\",\"marker\":{\"colorbar\":{\"outlinewidth\":0,\"ticks\":\"\"}}}],\"histogram\":[{\"marker\":{\"pattern\":{\"fillmode\":\"overlay\",\"size\":10,\"solidity\":0.2}},\"type\":\"histogram\"}],\"scattergl\":[{\"type\":\"scattergl\",\"marker\":{\"colorbar\":{\"outlinewidth\":0,\"ticks\":\"\"}}}],\"scatter3d\":[{\"type\":\"scatter3d\",\"line\":{\"colorbar\":{\"outlinewidth\":0,\"ticks\":\"\"}},\"marker\":{\"colorbar\":{\"outlinewidth\":0,\"ticks\":\"\"}}}],\"scattermapbox\":[{\"type\":\"scattermapbox\",\"marker\":{\"colorbar\":{\"outlinewidth\":0,\"ticks\":\"\"}}}],\"scatterternary\":[{\"type\":\"scatterternary\",\"marker\":{\"colorbar\":{\"outlinewidth\":0,\"ticks\":\"\"}}}],\"scattercarpet\":[{\"type\":\"scattercarpet\",\"marker\":{\"colorbar\":{\"outlinewidth\":0,\"ticks\":\"\"}}}],\"carpet\":[{\"aaxis\":{\"endlinecolor\":\"#2a3f5f\",\"gridcolor\":\"white\",\"linecolor\":\"white\",\"minorgridcolor\":\"white\",\"startlinecolor\":\"#2a3f5f\"},\"baxis\":{\"endlinecolor\":\"#2a3f5f\",\"gridcolor\":\"white\",\"linecolor\":\"white\",\"minorgridcolor\":\"white\",\"startlinecolor\":\"#2a3f5f\"},\"type\":\"carpet\"}],\"table\":[{\"cells\":{\"fill\":{\"color\":\"#EBF0F8\"},\"line\":{\"color\":\"white\"}},\"header\":{\"fill\":{\"color\":\"#C8D4E3\"},\"line\":{\"color\":\"white\"}},\"type\":\"table\"}],\"barpolar\":[{\"marker\":{\"line\":{\"color\":\"#E5ECF6\",\"width\":0.5},\"pattern\":{\"fillmode\":\"overlay\",\"size\":10,\"solidity\":0.2}},\"type\":\"barpolar\"}],\"pie\":[{\"automargin\":true,\"type\":\"pie\"}]},\"layout\":{\"autotypenumbers\":\"strict\",\"colorway\":[\"#636efa\",\"#EF553B\",\"#00cc96\",\"#ab63fa\",\"#FFA15A\",\"#19d3f3\",\"#FF6692\",\"#B6E880\",\"#FF97FF\",\"#FECB52\"],\"font\":{\"color\":\"#2a3f5f\"},\"hovermode\":\"closest\",\"hoverlabel\":{\"align\":\"left\"},\"paper_bgcolor\":\"white\",\"plot_bgcolor\":\"#E5ECF6\",\"polar\":{\"bgcolor\":\"#E5ECF6\",\"angularaxis\":{\"gridcolor\":\"white\",\"linecolor\":\"white\",\"ticks\":\"\"},\"radialaxis\":{\"gridcolor\":\"white\",\"linecolor\":\"white\",\"ticks\":\"\"}},\"ternary\":{\"bgcolor\":\"#E5ECF6\",\"aaxis\":{\"gridcolor\":\"white\",\"linecolor\":\"white\",\"ticks\":\"\"},\"baxis\":{\"gridcolor\":\"white\",\"linecolor\":\"white\",\"ticks\":\"\"},\"caxis\":{\"gridcolor\":\"white\",\"linecolor\":\"white\",\"ticks\":\"\"}},\"coloraxis\":{\"colorbar\":{\"outlinewidth\":0,\"ticks\":\"\"}},\"colorscale\":{\"sequential\":[[0.0,\"#0d0887\"],[0.1111111111111111,\"#46039f\"],[0.2222222222222222,\"#7201a8\"],[0.3333333333333333,\"#9c179e\"],[0.4444444444444444,\"#bd3786\"],[0.5555555555555556,\"#d8576b\"],[0.6666666666666666,\"#ed7953\"],[0.7777777777777778,\"#fb9f3a\"],[0.8888888888888888,\"#fdca26\"],[1.0,\"#f0f921\"]],\"sequentialminus\":[[0.0,\"#0d0887\"],[0.1111111111111111,\"#46039f\"],[0.2222222222222222,\"#7201a8\"],[0.3333333333333333,\"#9c179e\"],[0.4444444444444444,\"#bd3786\"],[0.5555555555555556,\"#d8576b\"],[0.6666666666666666,\"#ed7953\"],[0.7777777777777778,\"#fb9f3a\"],[0.8888888888888888,\"#fdca26\"],[1.0,\"#f0f921\"]],\"diverging\":[[0,\"#8e0152\"],[0.1,\"#c51b7d\"],[0.2,\"#de77ae\"],[0.3,\"#f1b6da\"],[0.4,\"#fde0ef\"],[0.5,\"#f7f7f7\"],[0.6,\"#e6f5d0\"],[0.7,\"#b8e186\"],[0.8,\"#7fbc41\"],[0.9,\"#4d9221\"],[1,\"#276419\"]]},\"xaxis\":{\"gridcolor\":\"white\",\"linecolor\":\"white\",\"ticks\":\"\",\"title\":{\"standoff\":15},\"zerolinecolor\":\"white\",\"automargin\":true,\"zerolinewidth\":2},\"yaxis\":{\"gridcolor\":\"white\",\"linecolor\":\"white\",\"ticks\":\"\",\"title\":{\"standoff\":15},\"zerolinecolor\":\"white\",\"automargin\":true,\"zerolinewidth\":2},\"scene\":{\"xaxis\":{\"backgroundcolor\":\"#E5ECF6\",\"gridcolor\":\"white\",\"linecolor\":\"white\",\"showbackground\":true,\"ticks\":\"\",\"zerolinecolor\":\"white\",\"gridwidth\":2},\"yaxis\":{\"backgroundcolor\":\"#E5ECF6\",\"gridcolor\":\"white\",\"linecolor\":\"white\",\"showbackground\":true,\"ticks\":\"\",\"zerolinecolor\":\"white\",\"gridwidth\":2},\"zaxis\":{\"backgroundcolor\":\"#E5ECF6\",\"gridcolor\":\"white\",\"linecolor\":\"white\",\"showbackground\":true,\"ticks\":\"\",\"zerolinecolor\":\"white\",\"gridwidth\":2}},\"shapedefaults\":{\"line\":{\"color\":\"#2a3f5f\"}},\"annotationdefaults\":{\"arrowcolor\":\"#2a3f5f\",\"arrowhead\":0,\"arrowwidth\":1},\"geo\":{\"bgcolor\":\"white\",\"landcolor\":\"#E5ECF6\",\"subunitcolor\":\"white\",\"showland\":true,\"showlakes\":true,\"lakecolor\":\"white\"},\"title\":{\"x\":0.05},\"mapbox\":{\"style\":\"light\"}}},\"xaxis\":{\"anchor\":\"y\",\"domain\":[0.0,0.45],\"categoryorder\":\"array\",\"categoryarray\":[\"very negative\",\"negative\",\"weakly negative\",\"Neutral\",\"weakly positive\",\"positive\",\"very positive\"]},\"yaxis\":{\"anchor\":\"x\",\"domain\":[0.0,1.0],\"range\":[0,200]},\"xaxis2\":{\"anchor\":\"y2\",\"domain\":[0.55,1.0],\"categoryorder\":\"array\",\"categoryarray\":[\"very negative\",\"negative\",\"weakly negative\",\"Neutral\",\"weakly positive\",\"positive\",\"very positive\"]},\"yaxis2\":{\"anchor\":\"x2\",\"domain\":[0.0,1.0],\"range\":[0,200]},\"annotations\":[{\"font\":{\"size\":16},\"showarrow\":false,\"text\":\"Grond-truth\",\"x\":0.225,\"xanchor\":\"center\",\"xref\":\"paper\",\"y\":1.0,\"yanchor\":\"bottom\",\"yref\":\"paper\"},{\"font\":{\"size\":16},\"showarrow\":false,\"text\":\"TFN\",\"x\":0.775,\"xanchor\":\"center\",\"xref\":\"paper\",\"y\":1.0,\"yanchor\":\"bottom\",\"yref\":\"paper\"}],\"title\":{\"text\":\"Fusion result distribution\"}},                        {\"responsive\": true}                    ).then(function(){\n",
       "                            \n",
       "var gd = document.getElementById('2c17dc15-ebe8-4f0b-9b12-f3b2e3992aeb');\n",
       "var x = new MutationObserver(function (mutations, observer) {{\n",
       "        var display = window.getComputedStyle(gd).display;\n",
       "        if (!display || display === 'none') {{\n",
       "            console.log([gd, 'removed!']);\n",
       "            Plotly.purge(gd);\n",
       "            observer.disconnect();\n",
       "        }}\n",
       "}});\n",
       "\n",
       "// Listen for the removal of the full notebook cells\n",
       "var notebookContainer = gd.closest('#notebook-container');\n",
       "if (notebookContainer) {{\n",
       "    x.observe(notebookContainer, {childList: true});\n",
       "}}\n",
       "\n",
       "// Listen for the clearing of the current output cell\n",
       "var outputEl = gd.closest('.output');\n",
       "if (outputEl) {{\n",
       "    x.observe(outputEl, {childList: true});\n",
       "}}\n",
       "\n",
       "                        })                };                });            </script>        </div>"
      ]
     },
     "metadata": {},
     "output_type": "display_data"
    }
   ],
   "source": [
    "with open(f\"results/TFN_fusion.pkl\", \"rb\") as handle:\n",
    "    tfn_origin = pkl.load(handle) \n",
    "\n",
    "df1 = pd.DataFrame(data=tfn)\n",
    "df2 = pd.DataFrame(data=tfn_origin)\n",
    "order = ['very negative', 'negative', 'weakly negative', 'Neutral', 'weakly positive', 'positive', 'very positive']\n",
    "\n",
    "fig1 = px.bar(df1, x=\"labels_7\")\n",
    "fig2 = px.bar(df2, x=\"preds_7\")\n",
    "fig3 = px.bar(df1, x=\"preds_7\")\n",
    "\n",
    "fig1_traces = []\n",
    "fig2_traces = []\n",
    "fig3_traces = []\n",
    "\n",
    "for trace in range(len(fig1[\"data\"])):\n",
    "    fig1_traces.append(fig1[\"data\"][trace])\n",
    "for trace in range(len(fig2[\"data\"])):\n",
    "    fig2_traces.append(fig2[\"data\"][trace])\n",
    "for trace in range(len(fig3[\"data\"])):\n",
    "    fig3_traces.append(fig3[\"data\"][trace])\n",
    "\n",
    "this_figure = sp.make_subplots(rows=1, cols=2, subplot_titles=(\"Grond-truth\", \"TFN\"))\n",
    "for traces in fig1_traces:\n",
    "    this_figure.append_trace(traces, row=1, col=1)\n",
    "for traces in fig2_traces:\n",
    "    this_figure.append_trace(traces, row=1, col=2)\n",
    "# for traces in fig3_traces:\n",
    "#     this_figure.append_trace(traces, row=1, col=3)\n",
    "\n",
    "this_figure.update_layout(title_text=\"Fusion result distribution\")\n",
    "this_figure.update_xaxes(categoryorder='array', categoryarray= order)\n",
    "this_figure.update_yaxes(range=[0,200])\n",
    "this_figure.show()"
   ]
  },
  {
   "cell_type": "markdown",
   "metadata": {},
   "source": [
    "### 3. Unimodal result distribution"
   ]
  },
  {
   "cell_type": "code",
   "execution_count": 47,
   "metadata": {},
   "outputs": [
    {
     "data": {
      "application/vnd.plotly.v1+json": {
       "config": {
        "plotlyServerURL": "https://plot.ly"
       },
       "data": [
        {
         "alignmentgroup": "True",
         "hovertemplate": "text_7=%{x}<br>count=%{y}<extra></extra>",
         "legendgroup": "",
         "marker": {
          "color": "#636efa",
          "pattern": {
           "shape": ""
          }
         },
         "name": "",
         "offsetgroup": "",
         "orientation": "v",
         "showlegend": false,
         "textposition": "auto",
         "type": "bar",
         "x": [
          "weakly positive",
          "weakly positive",
          "Neutral",
          "weakly positive",
          "Neutral",
          "Neutral",
          "Neutral",
          "Neutral",
          "Neutral",
          "weakly positive",
          "weakly positive",
          "weakly negative",
          "weakly negative",
          "Neutral",
          "Neutral",
          "Neutral",
          "Neutral",
          "Neutral",
          "Neutral",
          "weakly positive",
          "Neutral",
          "Neutral",
          "weakly positive",
          "Neutral",
          "weakly positive",
          "Neutral",
          "weakly positive",
          "Neutral",
          "weakly negative",
          "Neutral",
          "Neutral",
          "Neutral",
          "weakly positive",
          "weakly positive",
          "Neutral",
          "weakly positive",
          "Neutral",
          "Neutral",
          "weakly positive",
          "weakly negative",
          "Neutral",
          "Neutral",
          "weakly positive",
          "Neutral",
          "weakly positive",
          "Neutral",
          "weakly negative",
          "Neutral",
          "weakly negative",
          "positive",
          "weakly positive",
          "weakly negative",
          "weakly negative",
          "Neutral",
          "weakly negative",
          "Neutral",
          "Neutral",
          "weakly positive",
          "Neutral",
          "positive",
          "Neutral",
          "weakly positive",
          "Neutral",
          "weakly positive",
          "weakly negative",
          "Neutral",
          "weakly negative",
          "Neutral",
          "weakly negative",
          "Neutral",
          "Neutral",
          "Neutral",
          "weakly negative",
          "Neutral",
          "Neutral",
          "Neutral",
          "Neutral",
          "weakly negative",
          "weakly negative",
          "weakly positive",
          "Neutral",
          "weakly negative",
          "Neutral",
          "weakly positive",
          "Neutral",
          "weakly positive",
          "Neutral",
          "weakly positive",
          "weakly negative",
          "weakly positive",
          "Neutral",
          "Neutral",
          "Neutral",
          "Neutral",
          "Neutral",
          "weakly positive",
          "weakly positive",
          "Neutral",
          "Neutral",
          "Neutral",
          "weakly negative",
          "Neutral",
          "weakly positive",
          "Neutral",
          "Neutral",
          "Neutral",
          "weakly negative",
          "weakly positive",
          "weakly positive",
          "weakly positive",
          "positive",
          "Neutral",
          "weakly positive",
          "Neutral",
          "Neutral",
          "weakly positive",
          "weakly negative",
          "weakly positive",
          "positive",
          "Neutral",
          "weakly positive",
          "weakly positive",
          "Neutral",
          "weakly positive",
          "Neutral",
          "weakly positive",
          "weakly negative",
          "weakly positive",
          "Neutral",
          "Neutral",
          "Neutral",
          "weakly negative",
          "weakly negative",
          "weakly negative",
          "Neutral",
          "weakly negative",
          "Neutral",
          "Neutral",
          "Neutral",
          "Neutral",
          "Neutral",
          "Neutral",
          "weakly positive",
          "weakly positive",
          "weakly positive",
          "Neutral",
          "Neutral",
          "weakly positive",
          "Neutral",
          "Neutral",
          "Neutral",
          "weakly negative",
          "Neutral",
          "weakly positive",
          "weakly positive",
          "Neutral",
          "Neutral",
          "Neutral",
          "Neutral",
          "weakly positive",
          "Neutral",
          "Neutral",
          "weakly negative",
          "Neutral",
          "Neutral",
          "Neutral",
          "weakly positive",
          "weakly positive",
          "Neutral",
          "weakly positive",
          "Neutral",
          "Neutral",
          "Neutral",
          "Neutral",
          "weakly negative",
          "weakly negative",
          "Neutral",
          "weakly positive",
          "Neutral",
          "Neutral",
          "positive",
          "weakly negative",
          "Neutral",
          "Neutral",
          "Neutral",
          "Neutral",
          "Neutral",
          "weakly positive",
          "Neutral",
          "Neutral",
          "Neutral",
          "Neutral",
          "weakly positive",
          "Neutral",
          "weakly negative",
          "weakly negative",
          "Neutral",
          "weakly positive",
          "Neutral",
          "weakly negative",
          "weakly positive",
          "Neutral",
          "weakly positive",
          "Neutral",
          "weakly positive",
          "Neutral",
          "Neutral",
          "weakly negative",
          "weakly negative",
          "Neutral",
          "Neutral",
          "weakly negative",
          "weakly negative",
          "Neutral",
          "weakly positive",
          "weakly negative",
          "Neutral",
          "Neutral",
          "weakly positive",
          "Neutral",
          "weakly negative",
          "Neutral",
          "positive",
          "Neutral",
          "Neutral",
          "Neutral",
          "Neutral",
          "Neutral",
          "Neutral",
          "Neutral",
          "Neutral",
          "Neutral",
          "Neutral",
          "weakly negative",
          "Neutral",
          "Neutral",
          "Neutral",
          "Neutral",
          "weakly positive",
          "Neutral",
          "weakly negative",
          "weakly negative",
          "Neutral",
          "Neutral",
          "weakly positive",
          "weakly negative",
          "Neutral",
          "Neutral",
          "Neutral",
          "Neutral",
          "weakly positive",
          "weakly positive",
          "Neutral",
          "weakly positive",
          "Neutral",
          "Neutral",
          "weakly negative",
          "Neutral",
          "Neutral",
          "weakly negative",
          "weakly positive",
          "Neutral",
          "Neutral",
          "Neutral",
          "weakly negative",
          "Neutral",
          "Neutral",
          "Neutral",
          "Neutral",
          "Neutral",
          "Neutral",
          "Neutral",
          "Neutral",
          "Neutral",
          "Neutral",
          "weakly positive",
          "Neutral",
          "Neutral",
          "Neutral",
          "weakly positive",
          "weakly negative",
          "Neutral",
          "weakly positive",
          "weakly positive",
          "Neutral",
          "Neutral",
          "Neutral",
          "Neutral",
          "Neutral",
          "Neutral",
          "Neutral",
          "Neutral",
          "Neutral",
          "Neutral",
          "Neutral",
          "weakly negative",
          "weakly positive",
          "weakly positive",
          "positive",
          "Neutral",
          "weakly positive",
          "weakly positive",
          "Neutral",
          "Neutral",
          "weakly positive",
          "Neutral",
          "weakly negative",
          "weakly positive",
          "Neutral",
          "weakly positive",
          "Neutral",
          "Neutral",
          "weakly positive",
          "Neutral",
          "Neutral",
          "weakly negative",
          "Neutral",
          "Neutral",
          "Neutral",
          "Neutral",
          "Neutral",
          "Neutral",
          "Neutral",
          "weakly negative",
          "Neutral",
          "Neutral",
          "weakly negative",
          "Neutral",
          "Neutral",
          "Neutral",
          "weakly negative",
          "weakly positive",
          "Neutral",
          "Neutral",
          "weakly negative",
          "weakly negative",
          "weakly negative",
          "weakly positive",
          "weakly negative",
          "Neutral",
          "weakly negative",
          "weakly negative",
          "Neutral",
          "Neutral",
          "weakly positive",
          "weakly positive",
          "weakly positive",
          "weakly positive",
          "Neutral",
          "weakly positive",
          "Neutral",
          "weakly positive",
          "weakly positive",
          "weakly negative",
          "Neutral",
          "Neutral",
          "Neutral",
          "weakly negative",
          "Neutral",
          "Neutral",
          "Neutral",
          "Neutral",
          "weakly positive",
          "Neutral",
          "weakly positive",
          "weakly positive",
          "weakly negative",
          "Neutral",
          "Neutral",
          "Neutral",
          "Neutral",
          "weakly negative",
          "Neutral",
          "weakly positive",
          "Neutral",
          "Neutral",
          "weakly negative",
          "Neutral",
          "weakly negative",
          "Neutral",
          "Neutral",
          "weakly negative",
          "Neutral",
          "Neutral",
          "Neutral",
          "Neutral",
          "Neutral",
          "weakly negative",
          "Neutral",
          "Neutral",
          "positive",
          "Neutral",
          "weakly negative",
          "weakly negative",
          "Neutral",
          "Neutral",
          "Neutral",
          "Neutral",
          "Neutral",
          "weakly negative",
          "weakly positive",
          "weakly negative",
          "Neutral",
          "Neutral",
          "Neutral",
          "weakly negative",
          "weakly positive",
          "Neutral",
          "weakly positive",
          "Neutral",
          "weakly positive",
          "Neutral",
          "Neutral",
          "Neutral",
          "weakly positive",
          "weakly positive",
          "Neutral",
          "weakly positive",
          "Neutral",
          "Neutral",
          "weakly negative",
          "weakly negative",
          "Neutral",
          "weakly negative",
          "Neutral",
          "weakly negative",
          "weakly negative",
          "weakly negative",
          "Neutral",
          "weakly negative",
          "weakly negative",
          "weakly negative",
          "weakly positive",
          "weakly negative",
          "Neutral",
          "Neutral",
          "weakly positive",
          "Neutral",
          "Neutral",
          "Neutral",
          "Neutral",
          "Neutral",
          "weakly negative",
          "weakly positive",
          "weakly positive",
          "Neutral",
          "Neutral",
          "Neutral",
          "Neutral",
          "weakly positive",
          "weakly positive",
          "Neutral",
          "Neutral",
          "Neutral",
          "Neutral",
          "Neutral",
          "Neutral",
          "weakly positive",
          "Neutral",
          "Neutral",
          "Neutral",
          "Neutral",
          "weakly negative",
          "Neutral",
          "weakly positive",
          "weakly positive",
          "weakly negative",
          "Neutral",
          "weakly positive",
          "Neutral",
          "weakly negative",
          "weakly positive",
          "Neutral",
          "positive",
          "Neutral",
          "Neutral",
          "Neutral",
          "Neutral",
          "weakly positive",
          "weakly positive",
          "Neutral",
          "Neutral",
          "Neutral",
          "weakly positive",
          "Neutral",
          "Neutral",
          "Neutral",
          "weakly negative",
          "weakly positive",
          "weakly negative",
          "weakly negative",
          "weakly positive",
          "Neutral",
          "Neutral",
          "Neutral",
          "Neutral",
          "weakly negative",
          "Neutral",
          "Neutral",
          "Neutral",
          "weakly positive",
          "Neutral",
          "weakly positive",
          "Neutral",
          "Neutral",
          "Neutral",
          "Neutral",
          "weakly positive",
          "Neutral",
          "Neutral",
          "Neutral",
          "weakly positive",
          "weakly positive",
          "Neutral",
          "Neutral",
          "Neutral",
          "Neutral",
          "Neutral",
          "weakly positive",
          "Neutral",
          "Neutral",
          "Neutral",
          "weakly negative",
          "Neutral",
          "Neutral",
          "weakly positive",
          "weakly positive",
          "Neutral",
          "Neutral",
          "weakly negative",
          "weakly positive",
          "Neutral",
          "Neutral",
          "weakly positive",
          "Neutral",
          "Neutral",
          "weakly negative",
          "Neutral",
          "weakly positive",
          "Neutral",
          "Neutral",
          "Neutral",
          "weakly positive",
          "Neutral",
          "Neutral",
          "Neutral",
          "Neutral",
          "Neutral",
          "weakly negative",
          "Neutral",
          "weakly negative",
          "Neutral",
          "weakly positive",
          "Neutral",
          "Neutral",
          "weakly positive",
          "Neutral",
          "Neutral",
          "weakly positive",
          "Neutral",
          "Neutral",
          "weakly positive",
          "Neutral",
          "weakly negative",
          "Neutral",
          "Neutral",
          "Neutral",
          "Neutral",
          "Neutral",
          "Neutral",
          "weakly positive",
          "Neutral",
          "weakly positive",
          "weakly positive",
          "weakly positive",
          "weakly positive",
          "Neutral",
          "Neutral",
          "weakly negative",
          "Neutral",
          "Neutral",
          "Neutral",
          "Neutral",
          "Neutral",
          "weakly positive",
          "weakly positive",
          "weakly negative",
          "Neutral",
          "Neutral",
          "Neutral",
          "weakly negative",
          "Neutral",
          "weakly positive",
          "weakly negative",
          "Neutral",
          "Neutral",
          "Neutral",
          "Neutral",
          "Neutral",
          "weakly negative",
          "weakly positive",
          "weakly positive",
          "Neutral",
          "weakly negative",
          "weakly positive",
          "weakly positive",
          "Neutral",
          "positive",
          "weakly positive",
          "Neutral",
          "Neutral",
          "Neutral",
          "Neutral",
          "Neutral",
          "Neutral",
          "weakly positive",
          "weakly negative",
          "Neutral",
          "Neutral",
          "Neutral",
          "Neutral",
          "weakly negative",
          "Neutral",
          "Neutral",
          "weakly positive",
          "weakly negative",
          "Neutral",
          "Neutral",
          "Neutral",
          "weakly negative",
          "Neutral",
          "weakly negative",
          "Neutral",
          "Neutral",
          "Neutral",
          "Neutral",
          "weakly negative",
          "Neutral",
          "weakly positive",
          "weakly positive",
          "Neutral",
          "Neutral",
          "Neutral",
          "weakly negative",
          "Neutral",
          "weakly negative",
          "Neutral",
          "Neutral",
          "weakly positive",
          "Neutral",
          "weakly negative",
          "Neutral",
          "Neutral",
          "Neutral",
          "weakly positive",
          "Neutral",
          "weakly negative",
          "weakly negative",
          "weakly positive",
          "Neutral",
          "Neutral",
          "weakly positive",
          "weakly negative",
          "Neutral",
          "Neutral",
          "weakly positive",
          "Neutral",
          "weakly positive",
          "Neutral",
          "Neutral",
          "weakly positive",
          "weakly negative",
          "weakly negative",
          "Neutral",
          "weakly negative",
          "Neutral",
          "weakly positive",
          "Neutral",
          "Neutral",
          "Neutral",
          "Neutral",
          "Neutral",
          "Neutral",
          "weakly positive",
          "Neutral",
          "Neutral",
          "very negative",
          "negative",
          "weakly negative",
          "Neutral",
          "weakly positive",
          "positive",
          "very positive"
         ],
         "xaxis": "x",
         "y": [
          1,
          1,
          1,
          1,
          1,
          1,
          1,
          1,
          1,
          1,
          1,
          1,
          1,
          1,
          1,
          1,
          1,
          1,
          1,
          1,
          1,
          1,
          1,
          1,
          1,
          1,
          1,
          1,
          1,
          1,
          1,
          1,
          1,
          1,
          1,
          1,
          1,
          1,
          1,
          1,
          1,
          1,
          1,
          1,
          1,
          1,
          1,
          1,
          1,
          1,
          1,
          1,
          1,
          1,
          1,
          1,
          1,
          1,
          1,
          1,
          1,
          1,
          1,
          1,
          1,
          1,
          1,
          1,
          1,
          1,
          1,
          1,
          1,
          1,
          1,
          1,
          1,
          1,
          1,
          1,
          1,
          1,
          1,
          1,
          1,
          1,
          1,
          1,
          1,
          1,
          1,
          1,
          1,
          1,
          1,
          1,
          1,
          1,
          1,
          1,
          1,
          1,
          1,
          1,
          1,
          1,
          1,
          1,
          1,
          1,
          1,
          1,
          1,
          1,
          1,
          1,
          1,
          1,
          1,
          1,
          1,
          1,
          1,
          1,
          1,
          1,
          1,
          1,
          1,
          1,
          1,
          1,
          1,
          1,
          1,
          1,
          1,
          1,
          1,
          1,
          1,
          1,
          1,
          1,
          1,
          1,
          1,
          1,
          1,
          1,
          1,
          1,
          1,
          1,
          1,
          1,
          1,
          1,
          1,
          1,
          1,
          1,
          1,
          1,
          1,
          1,
          1,
          1,
          1,
          1,
          1,
          1,
          1,
          1,
          1,
          1,
          1,
          1,
          1,
          1,
          1,
          1,
          1,
          1,
          1,
          1,
          1,
          1,
          1,
          1,
          1,
          1,
          1,
          1,
          1,
          1,
          1,
          1,
          1,
          1,
          1,
          1,
          1,
          1,
          1,
          1,
          1,
          1,
          1,
          1,
          1,
          1,
          1,
          1,
          1,
          1,
          1,
          1,
          1,
          1,
          1,
          1,
          1,
          1,
          1,
          1,
          1,
          1,
          1,
          1,
          1,
          1,
          1,
          1,
          1,
          1,
          1,
          1,
          1,
          1,
          1,
          1,
          1,
          1,
          1,
          1,
          1,
          1,
          1,
          1,
          1,
          1,
          1,
          1,
          1,
          1,
          1,
          1,
          1,
          1,
          1,
          1,
          1,
          1,
          1,
          1,
          1,
          1,
          1,
          1,
          1,
          1,
          1,
          1,
          1,
          1,
          1,
          1,
          1,
          1,
          1,
          1,
          1,
          1,
          1,
          1,
          1,
          1,
          1,
          1,
          1,
          1,
          1,
          1,
          1,
          1,
          1,
          1,
          1,
          1,
          1,
          1,
          1,
          1,
          1,
          1,
          1,
          1,
          1,
          1,
          1,
          1,
          1,
          1,
          1,
          1,
          1,
          1,
          1,
          1,
          1,
          1,
          1,
          1,
          1,
          1,
          1,
          1,
          1,
          1,
          1,
          1,
          1,
          1,
          1,
          1,
          1,
          1,
          1,
          1,
          1,
          1,
          1,
          1,
          1,
          1,
          1,
          1,
          1,
          1,
          1,
          1,
          1,
          1,
          1,
          1,
          1,
          1,
          1,
          1,
          1,
          1,
          1,
          1,
          1,
          1,
          1,
          1,
          1,
          1,
          1,
          1,
          1,
          1,
          1,
          1,
          1,
          1,
          1,
          1,
          1,
          1,
          1,
          1,
          1,
          1,
          1,
          1,
          1,
          1,
          1,
          1,
          1,
          1,
          1,
          1,
          1,
          1,
          1,
          1,
          1,
          1,
          1,
          1,
          1,
          1,
          1,
          1,
          1,
          1,
          1,
          1,
          1,
          1,
          1,
          1,
          1,
          1,
          1,
          1,
          1,
          1,
          1,
          1,
          1,
          1,
          1,
          1,
          1,
          1,
          1,
          1,
          1,
          1,
          1,
          1,
          1,
          1,
          1,
          1,
          1,
          1,
          1,
          1,
          1,
          1,
          1,
          1,
          1,
          1,
          1,
          1,
          1,
          1,
          1,
          1,
          1,
          1,
          1,
          1,
          1,
          1,
          1,
          1,
          1,
          1,
          1,
          1,
          1,
          1,
          1,
          1,
          1,
          1,
          1,
          1,
          1,
          1,
          1,
          1,
          1,
          1,
          1,
          1,
          1,
          1,
          1,
          1,
          1,
          1,
          1,
          1,
          1,
          1,
          1,
          1,
          1,
          1,
          1,
          1,
          1,
          1,
          1,
          1,
          1,
          1,
          1,
          1,
          1,
          1,
          1,
          1,
          1,
          1,
          1,
          1,
          1,
          1,
          1,
          1,
          1,
          1,
          1,
          1,
          1,
          1,
          1,
          1,
          1,
          1,
          1,
          1,
          1,
          1,
          1,
          1,
          1,
          1,
          1,
          1,
          1,
          1,
          1,
          1,
          1,
          1,
          1,
          1,
          1,
          1,
          1,
          1,
          1,
          1,
          1,
          1,
          1,
          1,
          1,
          1,
          1,
          1,
          1,
          1,
          1,
          1,
          1,
          1,
          1,
          1,
          1,
          1,
          1,
          1,
          1,
          1,
          1,
          1,
          1,
          1,
          1,
          1,
          1,
          1,
          1,
          1,
          1,
          1,
          1,
          1,
          1,
          1,
          1,
          1,
          1,
          1,
          1,
          1,
          1,
          1,
          1,
          1,
          1,
          1,
          1,
          1,
          1,
          1,
          1,
          1,
          1,
          1,
          1,
          1,
          1,
          1,
          1,
          1,
          1,
          1,
          1,
          1,
          1,
          1,
          1,
          1,
          1,
          1,
          1,
          1,
          1,
          1,
          1,
          1,
          1,
          1,
          1,
          1,
          1,
          1,
          1,
          1,
          1,
          1,
          1,
          1,
          1,
          1,
          1,
          1,
          1,
          1,
          1,
          1,
          1,
          1,
          1,
          1,
          1,
          1,
          1,
          1,
          1,
          1,
          1,
          1,
          1,
          1,
          1,
          1,
          1,
          1,
          1,
          1,
          1,
          1,
          1,
          1,
          1,
          1,
          1,
          1,
          1,
          1,
          1,
          1,
          1,
          1,
          1,
          1,
          1,
          1,
          1
         ],
         "yaxis": "y"
        },
        {
         "alignmentgroup": "True",
         "hovertemplate": "audio_7=%{x}<br>count=%{y}<extra></extra>",
         "legendgroup": "",
         "marker": {
          "color": "#636efa",
          "pattern": {
           "shape": ""
          }
         },
         "name": "",
         "offsetgroup": "",
         "orientation": "v",
         "showlegend": false,
         "textposition": "auto",
         "type": "bar",
         "x": [
          "weakly positive",
          "weakly positive",
          "weakly positive",
          "weakly positive",
          "weakly positive",
          "weakly positive",
          "weakly positive",
          "Neutral",
          "weakly positive",
          "weakly positive",
          "weakly positive",
          "weakly positive",
          "weakly positive",
          "Neutral",
          "weakly positive",
          "Neutral",
          "positive",
          "weakly positive",
          "weakly positive",
          "weakly positive",
          "weakly positive",
          "Neutral",
          "weakly positive",
          "weakly positive",
          "weakly positive",
          "weakly positive",
          "weakly positive",
          "Neutral",
          "Neutral",
          "weakly positive",
          "weakly positive",
          "Neutral",
          "weakly positive",
          "weakly positive",
          "weakly positive",
          "Neutral",
          "Neutral",
          "weakly positive",
          "weakly positive",
          "weakly positive",
          "weakly positive",
          "weakly positive",
          "weakly positive",
          "weakly positive",
          "Neutral",
          "weakly positive",
          "weakly positive",
          "weakly positive",
          "Neutral",
          "weakly positive",
          "weakly positive",
          "Neutral",
          "weakly positive",
          "weakly positive",
          "Neutral",
          "Neutral",
          "Neutral",
          "Neutral",
          "weakly positive",
          "positive",
          "weakly positive",
          "weakly positive",
          "weakly positive",
          "weakly positive",
          "Neutral",
          "weakly positive",
          "weakly positive",
          "weakly positive",
          "weakly positive",
          "Neutral",
          "Neutral",
          "weakly positive",
          "Neutral",
          "weakly positive",
          "weakly positive",
          "weakly positive",
          "weakly positive",
          "weakly positive",
          "weakly positive",
          "weakly positive",
          "weakly positive",
          "weakly positive",
          "weakly positive",
          "Neutral",
          "weakly positive",
          "weakly positive",
          "weakly positive",
          "Neutral",
          "weakly positive",
          "weakly positive",
          "weakly positive",
          "weakly positive",
          "weakly positive",
          "weakly positive",
          "weakly positive",
          "weakly positive",
          "weakly positive",
          "Neutral",
          "positive",
          "Neutral",
          "weakly positive",
          "Neutral",
          "Neutral",
          "weakly positive",
          "weakly positive",
          "weakly positive",
          "weakly positive",
          "weakly positive",
          "Neutral",
          "Neutral",
          "weakly positive",
          "Neutral",
          "weakly positive",
          "weakly positive",
          "weakly positive",
          "weakly positive",
          "weakly positive",
          "weakly positive",
          "weakly positive",
          "weakly positive",
          "Neutral",
          "weakly positive",
          "weakly positive",
          "weakly positive",
          "weakly positive",
          "Neutral",
          "weakly positive",
          "weakly positive",
          "weakly positive",
          "weakly positive",
          "Neutral",
          "weakly positive",
          "weakly positive",
          "weakly positive",
          "weakly positive",
          "weakly positive",
          "weakly positive",
          "Neutral",
          "weakly positive",
          "weakly positive",
          "weakly positive",
          "weakly positive",
          "weakly positive",
          "weakly positive",
          "weakly positive",
          "Neutral",
          "weakly positive",
          "Neutral",
          "weakly positive",
          "Neutral",
          "weakly positive",
          "weakly positive",
          "weakly positive",
          "Neutral",
          "weakly positive",
          "weakly positive",
          "positive",
          "weakly positive",
          "positive",
          "Neutral",
          "weakly positive",
          "weakly positive",
          "weakly positive",
          "weakly positive",
          "weakly positive",
          "weakly positive",
          "weakly positive",
          "weakly positive",
          "weakly positive",
          "weakly positive",
          "weakly positive",
          "Neutral",
          "Neutral",
          "Neutral",
          "weakly positive",
          "weakly positive",
          "Neutral",
          "weakly positive",
          "weakly positive",
          "Neutral",
          "weakly positive",
          "weakly positive",
          "weakly positive",
          "weakly positive",
          "weakly positive",
          "weakly positive",
          "weakly positive",
          "weakly positive",
          "weakly positive",
          "Neutral",
          "weakly positive",
          "weakly positive",
          "weakly positive",
          "weakly positive",
          "weakly positive",
          "Neutral",
          "weakly positive",
          "weakly positive",
          "weakly positive",
          "Neutral",
          "weakly positive",
          "weakly positive",
          "weakly positive",
          "Neutral",
          "weakly positive",
          "Neutral",
          "weakly positive",
          "weakly positive",
          "weakly positive",
          "weakly positive",
          "weakly positive",
          "weakly positive",
          "weakly positive",
          "weakly positive",
          "Neutral",
          "weakly positive",
          "weakly positive",
          "weakly positive",
          "weakly positive",
          "weakly positive",
          "weakly positive",
          "weakly positive",
          "weakly positive",
          "weakly positive",
          "Neutral",
          "weakly positive",
          "weakly positive",
          "weakly positive",
          "weakly positive",
          "Neutral",
          "Neutral",
          "Neutral",
          "weakly positive",
          "weakly positive",
          "weakly positive",
          "Neutral",
          "Neutral",
          "weakly positive",
          "weakly positive",
          "weakly positive",
          "weakly positive",
          "weakly positive",
          "weakly positive",
          "Neutral",
          "weakly positive",
          "weakly positive",
          "Neutral",
          "weakly positive",
          "weakly positive",
          "weakly positive",
          "weakly positive",
          "weakly positive",
          "weakly positive",
          "weakly positive",
          "Neutral",
          "weakly positive",
          "weakly positive",
          "weakly positive",
          "Neutral",
          "weakly positive",
          "weakly positive",
          "positive",
          "weakly positive",
          "Neutral",
          "weakly positive",
          "weakly positive",
          "weakly positive",
          "Neutral",
          "Neutral",
          "weakly positive",
          "weakly positive",
          "weakly positive",
          "Neutral",
          "Neutral",
          "weakly positive",
          "weakly positive",
          "weakly positive",
          "weakly positive",
          "Neutral",
          "Neutral",
          "Neutral",
          "weakly positive",
          "Neutral",
          "weakly positive",
          "weakly positive",
          "weakly positive",
          "Neutral",
          "weakly positive",
          "Neutral",
          "Neutral",
          "weakly positive",
          "weakly positive",
          "weakly positive",
          "weakly positive",
          "Neutral",
          "weakly positive",
          "weakly positive",
          "weakly positive",
          "Neutral",
          "Neutral",
          "weakly positive",
          "weakly positive",
          "weakly positive",
          "weakly positive",
          "Neutral",
          "Neutral",
          "weakly positive",
          "weakly positive",
          "weakly positive",
          "weakly positive",
          "weakly positive",
          "weakly positive",
          "Neutral",
          "weakly positive",
          "weakly positive",
          "weakly positive",
          "Neutral",
          "weakly positive",
          "weakly positive",
          "weakly positive",
          "weakly positive",
          "weakly positive",
          "Neutral",
          "weakly positive",
          "weakly positive",
          "weakly positive",
          "weakly positive",
          "weakly positive",
          "weakly positive",
          "weakly positive",
          "weakly positive",
          "weakly positive",
          "weakly positive",
          "weakly positive",
          "weakly positive",
          "Neutral",
          "weakly positive",
          "weakly positive",
          "weakly positive",
          "weakly positive",
          "weakly positive",
          "weakly positive",
          "weakly positive",
          "Neutral",
          "Neutral",
          "weakly positive",
          "weakly positive",
          "weakly positive",
          "weakly positive",
          "Neutral",
          "Neutral",
          "weakly positive",
          "weakly positive",
          "weakly positive",
          "weakly positive",
          "weakly positive",
          "weakly positive",
          "weakly positive",
          "Neutral",
          "weakly positive",
          "weakly positive",
          "Neutral",
          "Neutral",
          "weakly positive",
          "Neutral",
          "weakly positive",
          "weakly positive",
          "weakly positive",
          "weakly positive",
          "weakly positive",
          "weakly positive",
          "Neutral",
          "weakly positive",
          "weakly positive",
          "weakly positive",
          "weakly positive",
          "weakly positive",
          "weakly positive",
          "Neutral",
          "weakly positive",
          "weakly positive",
          "weakly positive",
          "Neutral",
          "Neutral",
          "Neutral",
          "Neutral",
          "weakly positive",
          "weakly positive",
          "weakly positive",
          "weakly positive",
          "Neutral",
          "weakly positive",
          "weakly positive",
          "Neutral",
          "Neutral",
          "weakly positive",
          "weakly positive",
          "weakly positive",
          "weakly positive",
          "Neutral",
          "Neutral",
          "weakly positive",
          "weakly positive",
          "weakly positive",
          "weakly positive",
          "weakly positive",
          "Neutral",
          "weakly positive",
          "weakly positive",
          "weakly positive",
          "weakly positive",
          "weakly positive",
          "weakly positive",
          "Neutral",
          "Neutral",
          "weakly positive",
          "Neutral",
          "weakly positive",
          "weakly positive",
          "weakly positive",
          "weakly positive",
          "Neutral",
          "weakly positive",
          "weakly positive",
          "weakly positive",
          "Neutral",
          "positive",
          "Neutral",
          "weakly positive",
          "weakly positive",
          "Neutral",
          "weakly positive",
          "weakly positive",
          "Neutral",
          "Neutral",
          "Neutral",
          "weakly positive",
          "weakly positive",
          "weakly positive",
          "Neutral",
          "weakly positive",
          "Neutral",
          "weakly positive",
          "weakly positive",
          "weakly positive",
          "weakly positive",
          "weakly positive",
          "weakly positive",
          "Neutral",
          "Neutral",
          "Neutral",
          "Neutral",
          "Neutral",
          "weakly positive",
          "Neutral",
          "weakly positive",
          "weakly positive",
          "weakly positive",
          "Neutral",
          "weakly positive",
          "weakly positive",
          "very positive",
          "weakly positive",
          "weakly positive",
          "weakly positive",
          "weakly positive",
          "Neutral",
          "weakly positive",
          "weakly positive",
          "weakly positive",
          "weakly positive",
          "weakly positive",
          "weakly positive",
          "weakly positive",
          "weakly positive",
          "weakly positive",
          "Neutral",
          "Neutral",
          "weakly positive",
          "weakly positive",
          "weakly positive",
          "weakly positive",
          "weakly positive",
          "positive",
          "weakly positive",
          "weakly positive",
          "weakly positive",
          "weakly positive",
          "Neutral",
          "weakly positive",
          "weakly positive",
          "weakly positive",
          "weakly positive",
          "weakly positive",
          "weakly positive",
          "weakly positive",
          "weakly positive",
          "weakly positive",
          "weakly positive",
          "Neutral",
          "Neutral",
          "Neutral",
          "weakly positive",
          "weakly positive",
          "Neutral",
          "Neutral",
          "weakly positive",
          "Neutral",
          "weakly positive",
          "weakly positive",
          "weakly positive",
          "weakly positive",
          "weakly positive",
          "weakly positive",
          "Neutral",
          "weakly positive",
          "weakly positive",
          "Neutral",
          "weakly positive",
          "weakly positive",
          "weakly positive",
          "Neutral",
          "weakly positive",
          "weakly positive",
          "weakly positive",
          "weakly positive",
          "weakly positive",
          "weakly positive",
          "Neutral",
          "weakly positive",
          "weakly positive",
          "weakly positive",
          "Neutral",
          "weakly positive",
          "weakly positive",
          "Neutral",
          "Neutral",
          "weakly positive",
          "weakly positive",
          "weakly positive",
          "weakly positive",
          "weakly positive",
          "weakly positive",
          "weakly positive",
          "Neutral",
          "weakly positive",
          "weakly positive",
          "weakly positive",
          "weakly positive",
          "weakly positive",
          "weakly positive",
          "Neutral",
          "positive",
          "weakly positive",
          "Neutral",
          "Neutral",
          "weakly positive",
          "weakly positive",
          "weakly positive",
          "weakly positive",
          "Neutral",
          "weakly positive",
          "weakly positive",
          "Neutral",
          "weakly positive",
          "weakly positive",
          "Neutral",
          "weakly positive",
          "weakly positive",
          "weakly positive",
          "weakly positive",
          "weakly positive",
          "weakly positive",
          "weakly positive",
          "weakly positive",
          "weakly positive",
          "weakly positive",
          "weakly positive",
          "Neutral",
          "weakly positive",
          "weakly positive",
          "Neutral",
          "Neutral",
          "weakly positive",
          "weakly positive",
          "weakly positive",
          "Neutral",
          "weakly positive",
          "Neutral",
          "weakly positive",
          "weakly positive",
          "Neutral",
          "positive",
          "weakly positive",
          "weakly positive",
          "weakly positive",
          "weakly positive",
          "weakly positive",
          "weakly positive",
          "Neutral",
          "weakly positive",
          "weakly positive",
          "weakly positive",
          "weakly positive",
          "Neutral",
          "weakly positive",
          "weakly positive",
          "weakly positive",
          "weakly positive",
          "Neutral",
          "weakly positive",
          "Neutral",
          "weakly positive",
          "weakly positive",
          "weakly positive",
          "weakly positive",
          "weakly positive",
          "weakly positive",
          "weakly positive",
          "weakly positive",
          "weakly positive",
          "Neutral",
          "weakly positive",
          "weakly positive",
          "weakly positive",
          "Neutral",
          "weakly positive",
          "weakly positive",
          "weakly positive",
          "weakly positive",
          "Neutral",
          "weakly positive",
          "positive",
          "weakly positive",
          "weakly positive",
          "weakly positive",
          "weakly positive",
          "weakly positive",
          "weakly positive",
          "weakly positive",
          "Neutral",
          "weakly positive",
          "weakly positive",
          "weakly positive",
          "weakly positive",
          "weakly positive",
          "weakly positive",
          "Neutral",
          "weakly positive",
          "Neutral",
          "weakly positive",
          "weakly positive",
          "weakly positive",
          "positive",
          "weakly positive",
          "weakly positive",
          "Neutral",
          "weakly positive",
          "weakly positive",
          "weakly positive",
          "weakly positive",
          "Neutral",
          "weakly positive",
          "Neutral",
          "weakly positive",
          "Neutral",
          "Neutral",
          "Neutral",
          "Neutral",
          "weakly positive",
          "Neutral",
          "weakly positive",
          "Neutral",
          "positive",
          "weakly positive",
          "weakly positive",
          "weakly positive",
          "weakly positive",
          "weakly positive",
          "weakly positive",
          "Neutral",
          "weakly positive",
          "weakly positive",
          "weakly positive",
          "weakly positive",
          "weakly positive",
          "very negative",
          "negative",
          "weakly negative",
          "Neutral",
          "weakly positive",
          "positive",
          "very positive"
         ],
         "xaxis": "x2",
         "y": [
          1,
          1,
          1,
          1,
          1,
          1,
          1,
          1,
          1,
          1,
          1,
          1,
          1,
          1,
          1,
          1,
          1,
          1,
          1,
          1,
          1,
          1,
          1,
          1,
          1,
          1,
          1,
          1,
          1,
          1,
          1,
          1,
          1,
          1,
          1,
          1,
          1,
          1,
          1,
          1,
          1,
          1,
          1,
          1,
          1,
          1,
          1,
          1,
          1,
          1,
          1,
          1,
          1,
          1,
          1,
          1,
          1,
          1,
          1,
          1,
          1,
          1,
          1,
          1,
          1,
          1,
          1,
          1,
          1,
          1,
          1,
          1,
          1,
          1,
          1,
          1,
          1,
          1,
          1,
          1,
          1,
          1,
          1,
          1,
          1,
          1,
          1,
          1,
          1,
          1,
          1,
          1,
          1,
          1,
          1,
          1,
          1,
          1,
          1,
          1,
          1,
          1,
          1,
          1,
          1,
          1,
          1,
          1,
          1,
          1,
          1,
          1,
          1,
          1,
          1,
          1,
          1,
          1,
          1,
          1,
          1,
          1,
          1,
          1,
          1,
          1,
          1,
          1,
          1,
          1,
          1,
          1,
          1,
          1,
          1,
          1,
          1,
          1,
          1,
          1,
          1,
          1,
          1,
          1,
          1,
          1,
          1,
          1,
          1,
          1,
          1,
          1,
          1,
          1,
          1,
          1,
          1,
          1,
          1,
          1,
          1,
          1,
          1,
          1,
          1,
          1,
          1,
          1,
          1,
          1,
          1,
          1,
          1,
          1,
          1,
          1,
          1,
          1,
          1,
          1,
          1,
          1,
          1,
          1,
          1,
          1,
          1,
          1,
          1,
          1,
          1,
          1,
          1,
          1,
          1,
          1,
          1,
          1,
          1,
          1,
          1,
          1,
          1,
          1,
          1,
          1,
          1,
          1,
          1,
          1,
          1,
          1,
          1,
          1,
          1,
          1,
          1,
          1,
          1,
          1,
          1,
          1,
          1,
          1,
          1,
          1,
          1,
          1,
          1,
          1,
          1,
          1,
          1,
          1,
          1,
          1,
          1,
          1,
          1,
          1,
          1,
          1,
          1,
          1,
          1,
          1,
          1,
          1,
          1,
          1,
          1,
          1,
          1,
          1,
          1,
          1,
          1,
          1,
          1,
          1,
          1,
          1,
          1,
          1,
          1,
          1,
          1,
          1,
          1,
          1,
          1,
          1,
          1,
          1,
          1,
          1,
          1,
          1,
          1,
          1,
          1,
          1,
          1,
          1,
          1,
          1,
          1,
          1,
          1,
          1,
          1,
          1,
          1,
          1,
          1,
          1,
          1,
          1,
          1,
          1,
          1,
          1,
          1,
          1,
          1,
          1,
          1,
          1,
          1,
          1,
          1,
          1,
          1,
          1,
          1,
          1,
          1,
          1,
          1,
          1,
          1,
          1,
          1,
          1,
          1,
          1,
          1,
          1,
          1,
          1,
          1,
          1,
          1,
          1,
          1,
          1,
          1,
          1,
          1,
          1,
          1,
          1,
          1,
          1,
          1,
          1,
          1,
          1,
          1,
          1,
          1,
          1,
          1,
          1,
          1,
          1,
          1,
          1,
          1,
          1,
          1,
          1,
          1,
          1,
          1,
          1,
          1,
          1,
          1,
          1,
          1,
          1,
          1,
          1,
          1,
          1,
          1,
          1,
          1,
          1,
          1,
          1,
          1,
          1,
          1,
          1,
          1,
          1,
          1,
          1,
          1,
          1,
          1,
          1,
          1,
          1,
          1,
          1,
          1,
          1,
          1,
          1,
          1,
          1,
          1,
          1,
          1,
          1,
          1,
          1,
          1,
          1,
          1,
          1,
          1,
          1,
          1,
          1,
          1,
          1,
          1,
          1,
          1,
          1,
          1,
          1,
          1,
          1,
          1,
          1,
          1,
          1,
          1,
          1,
          1,
          1,
          1,
          1,
          1,
          1,
          1,
          1,
          1,
          1,
          1,
          1,
          1,
          1,
          1,
          1,
          1,
          1,
          1,
          1,
          1,
          1,
          1,
          1,
          1,
          1,
          1,
          1,
          1,
          1,
          1,
          1,
          1,
          1,
          1,
          1,
          1,
          1,
          1,
          1,
          1,
          1,
          1,
          1,
          1,
          1,
          1,
          1,
          1,
          1,
          1,
          1,
          1,
          1,
          1,
          1,
          1,
          1,
          1,
          1,
          1,
          1,
          1,
          1,
          1,
          1,
          1,
          1,
          1,
          1,
          1,
          1,
          1,
          1,
          1,
          1,
          1,
          1,
          1,
          1,
          1,
          1,
          1,
          1,
          1,
          1,
          1,
          1,
          1,
          1,
          1,
          1,
          1,
          1,
          1,
          1,
          1,
          1,
          1,
          1,
          1,
          1,
          1,
          1,
          1,
          1,
          1,
          1,
          1,
          1,
          1,
          1,
          1,
          1,
          1,
          1,
          1,
          1,
          1,
          1,
          1,
          1,
          1,
          1,
          1,
          1,
          1,
          1,
          1,
          1,
          1,
          1,
          1,
          1,
          1,
          1,
          1,
          1,
          1,
          1,
          1,
          1,
          1,
          1,
          1,
          1,
          1,
          1,
          1,
          1,
          1,
          1,
          1,
          1,
          1,
          1,
          1,
          1,
          1,
          1,
          1,
          1,
          1,
          1,
          1,
          1,
          1,
          1,
          1,
          1,
          1,
          1,
          1,
          1,
          1,
          1,
          1,
          1,
          1,
          1,
          1,
          1,
          1,
          1,
          1,
          1,
          1,
          1,
          1,
          1,
          1,
          1,
          1,
          1,
          1,
          1,
          1,
          1,
          1,
          1,
          1,
          1,
          1,
          1,
          1,
          1,
          1,
          1,
          1,
          1,
          1,
          1,
          1,
          1,
          1,
          1,
          1,
          1,
          1,
          1,
          1,
          1,
          1,
          1,
          1,
          1,
          1,
          1,
          1,
          1,
          1,
          1,
          1,
          1,
          1,
          1,
          1,
          1,
          1,
          1,
          1,
          1,
          1,
          1,
          1,
          1,
          1,
          1,
          1,
          1,
          1,
          1,
          1,
          1,
          1,
          1,
          1,
          1,
          1
         ],
         "yaxis": "y2"
        },
        {
         "alignmentgroup": "True",
         "hovertemplate": "video_7=%{x}<br>count=%{y}<extra></extra>",
         "legendgroup": "",
         "marker": {
          "color": "#636efa",
          "pattern": {
           "shape": ""
          }
         },
         "name": "",
         "offsetgroup": "",
         "orientation": "v",
         "showlegend": false,
         "textposition": "auto",
         "type": "bar",
         "x": [
          "Neutral",
          "Neutral",
          "Neutral",
          "Neutral",
          "Neutral",
          "Neutral",
          "Neutral",
          "Neutral",
          "Neutral",
          "Neutral",
          "Neutral",
          "Neutral",
          "Neutral",
          "Neutral",
          "Neutral",
          "Neutral",
          "Neutral",
          "Neutral",
          "Neutral",
          "Neutral",
          "Neutral",
          "Neutral",
          "Neutral",
          "Neutral",
          "Neutral",
          "Neutral",
          "Neutral",
          "Neutral",
          "Neutral",
          "Neutral",
          "Neutral",
          "Neutral",
          "Neutral",
          "Neutral",
          "Neutral",
          "Neutral",
          "Neutral",
          "Neutral",
          "Neutral",
          "Neutral",
          "Neutral",
          "Neutral",
          "Neutral",
          "Neutral",
          "Neutral",
          "Neutral",
          "Neutral",
          "Neutral",
          "Neutral",
          "Neutral",
          "Neutral",
          "Neutral",
          "Neutral",
          "Neutral",
          "Neutral",
          "Neutral",
          "Neutral",
          "Neutral",
          "Neutral",
          "Neutral",
          "Neutral",
          "Neutral",
          "Neutral",
          "Neutral",
          "Neutral",
          "Neutral",
          "Neutral",
          "Neutral",
          "Neutral",
          "Neutral",
          "Neutral",
          "Neutral",
          "Neutral",
          "Neutral",
          "Neutral",
          "Neutral",
          "Neutral",
          "Neutral",
          "Neutral",
          "Neutral",
          "Neutral",
          "Neutral",
          "Neutral",
          "Neutral",
          "Neutral",
          "Neutral",
          "Neutral",
          "Neutral",
          "Neutral",
          "Neutral",
          "Neutral",
          "Neutral",
          "Neutral",
          "Neutral",
          "Neutral",
          "Neutral",
          "Neutral",
          "Neutral",
          "Neutral",
          "Neutral",
          "Neutral",
          "Neutral",
          "Neutral",
          "Neutral",
          "Neutral",
          "Neutral",
          "Neutral",
          "Neutral",
          "Neutral",
          "Neutral",
          "Neutral",
          "Neutral",
          "Neutral",
          "Neutral",
          "Neutral",
          "Neutral",
          "Neutral",
          "Neutral",
          "Neutral",
          "Neutral",
          "Neutral",
          "Neutral",
          "Neutral",
          "Neutral",
          "Neutral",
          "Neutral",
          "Neutral",
          "Neutral",
          "Neutral",
          "Neutral",
          "Neutral",
          "Neutral",
          "Neutral",
          "Neutral",
          "Neutral",
          "Neutral",
          "Neutral",
          "Neutral",
          "Neutral",
          "Neutral",
          "Neutral",
          "Neutral",
          "Neutral",
          "Neutral",
          "Neutral",
          "Neutral",
          "Neutral",
          "Neutral",
          "Neutral",
          "Neutral",
          "Neutral",
          "Neutral",
          "Neutral",
          "Neutral",
          "Neutral",
          "Neutral",
          "Neutral",
          "Neutral",
          "Neutral",
          "Neutral",
          "Neutral",
          "Neutral",
          "Neutral",
          "Neutral",
          "Neutral",
          "Neutral",
          "Neutral",
          "Neutral",
          "Neutral",
          "Neutral",
          "weakly positive",
          "Neutral",
          "Neutral",
          "Neutral",
          "Neutral",
          "Neutral",
          "Neutral",
          "Neutral",
          "Neutral",
          "Neutral",
          "Neutral",
          "Neutral",
          "Neutral",
          "Neutral",
          "Neutral",
          "Neutral",
          "Neutral",
          "Neutral",
          "Neutral",
          "Neutral",
          "Neutral",
          "Neutral",
          "Neutral",
          "Neutral",
          "Neutral",
          "Neutral",
          "Neutral",
          "Neutral",
          "Neutral",
          "Neutral",
          "Neutral",
          "Neutral",
          "Neutral",
          "Neutral",
          "Neutral",
          "Neutral",
          "Neutral",
          "Neutral",
          "Neutral",
          "Neutral",
          "Neutral",
          "Neutral",
          "Neutral",
          "Neutral",
          "Neutral",
          "Neutral",
          "Neutral",
          "Neutral",
          "Neutral",
          "Neutral",
          "Neutral",
          "Neutral",
          "Neutral",
          "Neutral",
          "Neutral",
          "Neutral",
          "Neutral",
          "Neutral",
          "Neutral",
          "Neutral",
          "Neutral",
          "Neutral",
          "Neutral",
          "Neutral",
          "Neutral",
          "Neutral",
          "Neutral",
          "Neutral",
          "Neutral",
          "Neutral",
          "Neutral",
          "Neutral",
          "Neutral",
          "Neutral",
          "Neutral",
          "Neutral",
          "Neutral",
          "Neutral",
          "Neutral",
          "Neutral",
          "Neutral",
          "Neutral",
          "Neutral",
          "Neutral",
          "Neutral",
          "Neutral",
          "Neutral",
          "Neutral",
          "Neutral",
          "Neutral",
          "Neutral",
          "Neutral",
          "Neutral",
          "Neutral",
          "Neutral",
          "Neutral",
          "Neutral",
          "Neutral",
          "Neutral",
          "Neutral",
          "Neutral",
          "Neutral",
          "Neutral",
          "Neutral",
          "Neutral",
          "Neutral",
          "Neutral",
          "Neutral",
          "Neutral",
          "Neutral",
          "Neutral",
          "Neutral",
          "Neutral",
          "Neutral",
          "Neutral",
          "Neutral",
          "Neutral",
          "Neutral",
          "Neutral",
          "Neutral",
          "Neutral",
          "Neutral",
          "Neutral",
          "Neutral",
          "Neutral",
          "Neutral",
          "Neutral",
          "Neutral",
          "Neutral",
          "Neutral",
          "Neutral",
          "Neutral",
          "Neutral",
          "Neutral",
          "Neutral",
          "Neutral",
          "Neutral",
          "Neutral",
          "Neutral",
          "Neutral",
          "Neutral",
          "Neutral",
          "Neutral",
          "Neutral",
          "Neutral",
          "Neutral",
          "Neutral",
          "Neutral",
          "Neutral",
          "Neutral",
          "Neutral",
          "Neutral",
          "Neutral",
          "Neutral",
          "Neutral",
          "Neutral",
          "Neutral",
          "Neutral",
          "Neutral",
          "Neutral",
          "Neutral",
          "Neutral",
          "Neutral",
          "Neutral",
          "Neutral",
          "Neutral",
          "Neutral",
          "Neutral",
          "Neutral",
          "Neutral",
          "Neutral",
          "Neutral",
          "Neutral",
          "Neutral",
          "Neutral",
          "Neutral",
          "Neutral",
          "Neutral",
          "Neutral",
          "Neutral",
          "Neutral",
          "Neutral",
          "Neutral",
          "Neutral",
          "Neutral",
          "Neutral",
          "Neutral",
          "Neutral",
          "Neutral",
          "Neutral",
          "Neutral",
          "Neutral",
          "Neutral",
          "Neutral",
          "Neutral",
          "Neutral",
          "Neutral",
          "Neutral",
          "Neutral",
          "Neutral",
          "Neutral",
          "Neutral",
          "Neutral",
          "Neutral",
          "Neutral",
          "Neutral",
          "Neutral",
          "Neutral",
          "Neutral",
          "Neutral",
          "Neutral",
          "Neutral",
          "Neutral",
          "Neutral",
          "Neutral",
          "Neutral",
          "Neutral",
          "Neutral",
          "Neutral",
          "Neutral",
          "Neutral",
          "Neutral",
          "Neutral",
          "Neutral",
          "Neutral",
          "Neutral",
          "Neutral",
          "Neutral",
          "Neutral",
          "Neutral",
          "Neutral",
          "Neutral",
          "Neutral",
          "Neutral",
          "Neutral",
          "Neutral",
          "Neutral",
          "Neutral",
          "Neutral",
          "Neutral",
          "Neutral",
          "Neutral",
          "Neutral",
          "Neutral",
          "Neutral",
          "Neutral",
          "Neutral",
          "Neutral",
          "Neutral",
          "Neutral",
          "Neutral",
          "Neutral",
          "Neutral",
          "Neutral",
          "Neutral",
          "Neutral",
          "Neutral",
          "Neutral",
          "Neutral",
          "Neutral",
          "Neutral",
          "Neutral",
          "Neutral",
          "Neutral",
          "Neutral",
          "Neutral",
          "Neutral",
          "Neutral",
          "Neutral",
          "Neutral",
          "Neutral",
          "Neutral",
          "Neutral",
          "Neutral",
          "Neutral",
          "Neutral",
          "Neutral",
          "Neutral",
          "Neutral",
          "Neutral",
          "Neutral",
          "Neutral",
          "Neutral",
          "Neutral",
          "Neutral",
          "Neutral",
          "Neutral",
          "Neutral",
          "Neutral",
          "Neutral",
          "Neutral",
          "Neutral",
          "Neutral",
          "Neutral",
          "Neutral",
          "Neutral",
          "Neutral",
          "Neutral",
          "Neutral",
          "Neutral",
          "Neutral",
          "Neutral",
          "Neutral",
          "Neutral",
          "Neutral",
          "Neutral",
          "Neutral",
          "Neutral",
          "Neutral",
          "Neutral",
          "Neutral",
          "Neutral",
          "Neutral",
          "Neutral",
          "Neutral",
          "Neutral",
          "Neutral",
          "Neutral",
          "Neutral",
          "Neutral",
          "Neutral",
          "Neutral",
          "Neutral",
          "Neutral",
          "Neutral",
          "Neutral",
          "Neutral",
          "Neutral",
          "Neutral",
          "Neutral",
          "Neutral",
          "Neutral",
          "Neutral",
          "Neutral",
          "Neutral",
          "Neutral",
          "Neutral",
          "Neutral",
          "Neutral",
          "Neutral",
          "Neutral",
          "Neutral",
          "Neutral",
          "Neutral",
          "Neutral",
          "Neutral",
          "Neutral",
          "Neutral",
          "Neutral",
          "Neutral",
          "Neutral",
          "Neutral",
          "Neutral",
          "Neutral",
          "Neutral",
          "Neutral",
          "Neutral",
          "Neutral",
          "Neutral",
          "Neutral",
          "Neutral",
          "Neutral",
          "Neutral",
          "Neutral",
          "Neutral",
          "Neutral",
          "Neutral",
          "Neutral",
          "Neutral",
          "Neutral",
          "Neutral",
          "Neutral",
          "Neutral",
          "Neutral",
          "Neutral",
          "Neutral",
          "Neutral",
          "Neutral",
          "Neutral",
          "Neutral",
          "Neutral",
          "Neutral",
          "Neutral",
          "Neutral",
          "Neutral",
          "Neutral",
          "Neutral",
          "Neutral",
          "Neutral",
          "Neutral",
          "Neutral",
          "Neutral",
          "Neutral",
          "Neutral",
          "Neutral",
          "Neutral",
          "Neutral",
          "Neutral",
          "Neutral",
          "Neutral",
          "Neutral",
          "Neutral",
          "Neutral",
          "Neutral",
          "Neutral",
          "Neutral",
          "Neutral",
          "Neutral",
          "Neutral",
          "Neutral",
          "Neutral",
          "Neutral",
          "Neutral",
          "Neutral",
          "Neutral",
          "Neutral",
          "Neutral",
          "Neutral",
          "Neutral",
          "Neutral",
          "Neutral",
          "Neutral",
          "Neutral",
          "Neutral",
          "Neutral",
          "Neutral",
          "Neutral",
          "Neutral",
          "Neutral",
          "Neutral",
          "Neutral",
          "Neutral",
          "Neutral",
          "Neutral",
          "Neutral",
          "Neutral",
          "Neutral",
          "Neutral",
          "Neutral",
          "Neutral",
          "Neutral",
          "Neutral",
          "Neutral",
          "Neutral",
          "Neutral",
          "Neutral",
          "Neutral",
          "Neutral",
          "Neutral",
          "Neutral",
          "Neutral",
          "Neutral",
          "Neutral",
          "Neutral",
          "Neutral",
          "Neutral",
          "Neutral",
          "Neutral",
          "Neutral",
          "Neutral",
          "Neutral",
          "Neutral",
          "Neutral",
          "Neutral",
          "Neutral",
          "Neutral",
          "Neutral",
          "Neutral",
          "Neutral",
          "Neutral",
          "Neutral",
          "Neutral",
          "Neutral",
          "Neutral",
          "Neutral",
          "Neutral",
          "Neutral",
          "Neutral",
          "Neutral",
          "Neutral",
          "Neutral",
          "Neutral",
          "Neutral",
          "Neutral",
          "Neutral",
          "Neutral",
          "Neutral",
          "Neutral",
          "Neutral",
          "Neutral",
          "Neutral",
          "Neutral",
          "Neutral",
          "Neutral",
          "Neutral",
          "Neutral",
          "Neutral",
          "Neutral",
          "Neutral",
          "Neutral",
          "Neutral",
          "Neutral",
          "Neutral",
          "Neutral",
          "Neutral",
          "Neutral",
          "Neutral",
          "Neutral",
          "Neutral",
          "Neutral",
          "Neutral",
          "Neutral",
          "Neutral",
          "Neutral",
          "Neutral",
          "Neutral",
          "very negative",
          "negative",
          "weakly negative",
          "Neutral",
          "weakly positive",
          "positive",
          "very positive"
         ],
         "xaxis": "x3",
         "y": [
          1,
          1,
          1,
          1,
          1,
          1,
          1,
          1,
          1,
          1,
          1,
          1,
          1,
          1,
          1,
          1,
          1,
          1,
          1,
          1,
          1,
          1,
          1,
          1,
          1,
          1,
          1,
          1,
          1,
          1,
          1,
          1,
          1,
          1,
          1,
          1,
          1,
          1,
          1,
          1,
          1,
          1,
          1,
          1,
          1,
          1,
          1,
          1,
          1,
          1,
          1,
          1,
          1,
          1,
          1,
          1,
          1,
          1,
          1,
          1,
          1,
          1,
          1,
          1,
          1,
          1,
          1,
          1,
          1,
          1,
          1,
          1,
          1,
          1,
          1,
          1,
          1,
          1,
          1,
          1,
          1,
          1,
          1,
          1,
          1,
          1,
          1,
          1,
          1,
          1,
          1,
          1,
          1,
          1,
          1,
          1,
          1,
          1,
          1,
          1,
          1,
          1,
          1,
          1,
          1,
          1,
          1,
          1,
          1,
          1,
          1,
          1,
          1,
          1,
          1,
          1,
          1,
          1,
          1,
          1,
          1,
          1,
          1,
          1,
          1,
          1,
          1,
          1,
          1,
          1,
          1,
          1,
          1,
          1,
          1,
          1,
          1,
          1,
          1,
          1,
          1,
          1,
          1,
          1,
          1,
          1,
          1,
          1,
          1,
          1,
          1,
          1,
          1,
          1,
          1,
          1,
          1,
          1,
          1,
          1,
          1,
          1,
          1,
          1,
          1,
          1,
          1,
          1,
          1,
          1,
          1,
          1,
          1,
          1,
          1,
          1,
          1,
          1,
          1,
          1,
          1,
          1,
          1,
          1,
          1,
          1,
          1,
          1,
          1,
          1,
          1,
          1,
          1,
          1,
          1,
          1,
          1,
          1,
          1,
          1,
          1,
          1,
          1,
          1,
          1,
          1,
          1,
          1,
          1,
          1,
          1,
          1,
          1,
          1,
          1,
          1,
          1,
          1,
          1,
          1,
          1,
          1,
          1,
          1,
          1,
          1,
          1,
          1,
          1,
          1,
          1,
          1,
          1,
          1,
          1,
          1,
          1,
          1,
          1,
          1,
          1,
          1,
          1,
          1,
          1,
          1,
          1,
          1,
          1,
          1,
          1,
          1,
          1,
          1,
          1,
          1,
          1,
          1,
          1,
          1,
          1,
          1,
          1,
          1,
          1,
          1,
          1,
          1,
          1,
          1,
          1,
          1,
          1,
          1,
          1,
          1,
          1,
          1,
          1,
          1,
          1,
          1,
          1,
          1,
          1,
          1,
          1,
          1,
          1,
          1,
          1,
          1,
          1,
          1,
          1,
          1,
          1,
          1,
          1,
          1,
          1,
          1,
          1,
          1,
          1,
          1,
          1,
          1,
          1,
          1,
          1,
          1,
          1,
          1,
          1,
          1,
          1,
          1,
          1,
          1,
          1,
          1,
          1,
          1,
          1,
          1,
          1,
          1,
          1,
          1,
          1,
          1,
          1,
          1,
          1,
          1,
          1,
          1,
          1,
          1,
          1,
          1,
          1,
          1,
          1,
          1,
          1,
          1,
          1,
          1,
          1,
          1,
          1,
          1,
          1,
          1,
          1,
          1,
          1,
          1,
          1,
          1,
          1,
          1,
          1,
          1,
          1,
          1,
          1,
          1,
          1,
          1,
          1,
          1,
          1,
          1,
          1,
          1,
          1,
          1,
          1,
          1,
          1,
          1,
          1,
          1,
          1,
          1,
          1,
          1,
          1,
          1,
          1,
          1,
          1,
          1,
          1,
          1,
          1,
          1,
          1,
          1,
          1,
          1,
          1,
          1,
          1,
          1,
          1,
          1,
          1,
          1,
          1,
          1,
          1,
          1,
          1,
          1,
          1,
          1,
          1,
          1,
          1,
          1,
          1,
          1,
          1,
          1,
          1,
          1,
          1,
          1,
          1,
          1,
          1,
          1,
          1,
          1,
          1,
          1,
          1,
          1,
          1,
          1,
          1,
          1,
          1,
          1,
          1,
          1,
          1,
          1,
          1,
          1,
          1,
          1,
          1,
          1,
          1,
          1,
          1,
          1,
          1,
          1,
          1,
          1,
          1,
          1,
          1,
          1,
          1,
          1,
          1,
          1,
          1,
          1,
          1,
          1,
          1,
          1,
          1,
          1,
          1,
          1,
          1,
          1,
          1,
          1,
          1,
          1,
          1,
          1,
          1,
          1,
          1,
          1,
          1,
          1,
          1,
          1,
          1,
          1,
          1,
          1,
          1,
          1,
          1,
          1,
          1,
          1,
          1,
          1,
          1,
          1,
          1,
          1,
          1,
          1,
          1,
          1,
          1,
          1,
          1,
          1,
          1,
          1,
          1,
          1,
          1,
          1,
          1,
          1,
          1,
          1,
          1,
          1,
          1,
          1,
          1,
          1,
          1,
          1,
          1,
          1,
          1,
          1,
          1,
          1,
          1,
          1,
          1,
          1,
          1,
          1,
          1,
          1,
          1,
          1,
          1,
          1,
          1,
          1,
          1,
          1,
          1,
          1,
          1,
          1,
          1,
          1,
          1,
          1,
          1,
          1,
          1,
          1,
          1,
          1,
          1,
          1,
          1,
          1,
          1,
          1,
          1,
          1,
          1,
          1,
          1,
          1,
          1,
          1,
          1,
          1,
          1,
          1,
          1,
          1,
          1,
          1,
          1,
          1,
          1,
          1,
          1,
          1,
          1,
          1,
          1,
          1,
          1,
          1,
          1,
          1,
          1,
          1,
          1,
          1,
          1,
          1,
          1,
          1,
          1,
          1,
          1,
          1,
          1,
          1,
          1,
          1,
          1,
          1,
          1,
          1,
          1,
          1,
          1,
          1,
          1,
          1,
          1,
          1,
          1,
          1,
          1,
          1,
          1,
          1,
          1,
          1,
          1,
          1,
          1,
          1,
          1,
          1,
          1,
          1,
          1,
          1,
          1,
          1,
          1,
          1,
          1,
          1,
          1,
          1,
          1,
          1,
          1,
          1,
          1,
          1,
          1,
          1,
          1,
          1,
          1,
          1,
          1,
          1,
          1,
          1,
          1,
          1,
          1,
          1,
          1,
          1,
          1,
          1,
          1
         ],
         "yaxis": "y3"
        },
        {
         "alignmentgroup": "True",
         "hovertemplate": "preds_7=%{x}<br>count=%{y}<extra></extra>",
         "legendgroup": "",
         "marker": {
          "color": "#636efa",
          "pattern": {
           "shape": ""
          }
         },
         "name": "",
         "offsetgroup": "",
         "orientation": "v",
         "showlegend": false,
         "textposition": "auto",
         "type": "bar",
         "x": [
          "weakly positive",
          "weakly positive",
          "Neutral",
          "weakly positive",
          "weakly negative",
          "Neutral",
          "Neutral",
          "weakly positive",
          "Neutral",
          "weakly positive",
          "positive",
          "weakly negative",
          "weakly negative",
          "Neutral",
          "Neutral",
          "Neutral",
          "Neutral",
          "Neutral",
          "weakly negative",
          "weakly positive",
          "Neutral",
          "Neutral",
          "weakly positive",
          "weakly positive",
          "Neutral",
          "weakly positive",
          "weakly positive",
          "weakly positive",
          "Neutral",
          "Neutral",
          "Neutral",
          "Neutral",
          "weakly positive",
          "Neutral",
          "Neutral",
          "Neutral",
          "Neutral",
          "Neutral",
          "weakly positive",
          "weakly negative",
          "Neutral",
          "weakly positive",
          "Neutral",
          "Neutral",
          "positive",
          "weakly positive",
          "weakly negative",
          "Neutral",
          "weakly positive",
          "weakly positive",
          "weakly positive",
          "Neutral",
          "weakly negative",
          "weakly negative",
          "Neutral",
          "weakly positive",
          "Neutral",
          "weakly positive",
          "positive",
          "weakly positive",
          "weakly negative",
          "Neutral",
          "Neutral",
          "weakly positive",
          "weakly negative",
          "Neutral",
          "weakly negative",
          "weakly positive",
          "weakly negative",
          "Neutral",
          "Neutral",
          "Neutral",
          "Neutral",
          "weakly negative",
          "Neutral",
          "positive",
          "Neutral",
          "Neutral",
          "weakly negative",
          "weakly positive",
          "weakly negative",
          "Neutral",
          "Neutral",
          "weakly positive",
          "Neutral",
          "weakly positive",
          "Neutral",
          "weakly positive",
          "Neutral",
          "weakly positive",
          "Neutral",
          "Neutral",
          "weakly positive",
          "weakly positive",
          "weakly negative",
          "Neutral",
          "Neutral",
          "weakly positive",
          "weakly negative",
          "weakly positive",
          "weakly negative",
          "Neutral",
          "weakly positive",
          "Neutral",
          "Neutral",
          "weakly negative",
          "weakly positive",
          "weakly positive",
          "Neutral",
          "weakly positive",
          "positive",
          "Neutral",
          "weakly positive",
          "positive",
          "Neutral",
          "weakly positive",
          "Neutral",
          "positive",
          "very positive",
          "weakly negative",
          "weakly positive",
          "weakly positive",
          "Neutral",
          "positive",
          "weakly negative",
          "weakly positive",
          "weakly negative",
          "Neutral",
          "weakly negative",
          "Neutral",
          "Neutral",
          "weakly negative",
          "Neutral",
          "weakly negative",
          "Neutral",
          "Neutral",
          "Neutral",
          "weakly negative",
          "weakly positive",
          "Neutral",
          "weakly negative",
          "Neutral",
          "Neutral",
          "weakly positive",
          "Neutral",
          "weakly positive",
          "Neutral",
          "Neutral",
          "weakly positive",
          "weakly negative",
          "Neutral",
          "weakly negative",
          "Neutral",
          "weakly positive",
          "Neutral",
          "weakly positive",
          "weakly negative",
          "Neutral",
          "Neutral",
          "weakly negative",
          "Neutral",
          "weakly negative",
          "weakly negative",
          "weakly positive",
          "weakly positive",
          "Neutral",
          "Neutral",
          "positive",
          "weakly negative",
          "Neutral",
          "weakly negative",
          "Neutral",
          "Neutral",
          "Neutral",
          "Neutral",
          "weakly negative",
          "weakly negative",
          "weakly positive",
          "Neutral",
          "Neutral",
          "positive",
          "weakly positive",
          "weakly negative",
          "weakly negative",
          "positive",
          "Neutral",
          "weakly positive",
          "positive",
          "Neutral",
          "positive",
          "Neutral",
          "Neutral",
          "Neutral",
          "Neutral",
          "weakly negative",
          "Neutral",
          "weakly positive",
          "weakly positive",
          "Neutral",
          "weakly positive",
          "weakly positive",
          "Neutral",
          "Neutral",
          "Neutral",
          "positive",
          "Neutral",
          "weakly negative",
          "Neutral",
          "Neutral",
          "Neutral",
          "weakly positive",
          "Neutral",
          "weakly negative",
          "weakly positive",
          "weakly positive",
          "weakly negative",
          "positive",
          "Neutral",
          "weakly positive",
          "Neutral",
          "weakly negative",
          "Neutral",
          "weakly positive",
          "positive",
          "weakly negative",
          "positive",
          "Neutral",
          "weakly negative",
          "Neutral",
          "weakly positive",
          "weakly negative",
          "Neutral",
          "Neutral",
          "Neutral",
          "Neutral",
          "weakly positive",
          "Neutral",
          "Neutral",
          "weakly positive",
          "Neutral",
          "Neutral",
          "weakly negative",
          "weakly negative",
          "weakly positive",
          "Neutral",
          "Neutral",
          "weakly negative",
          "weakly positive",
          "weakly negative",
          "weakly positive",
          "positive",
          "positive",
          "weakly positive",
          "weakly positive",
          "weakly negative",
          "weakly positive",
          "Neutral",
          "Neutral",
          "Neutral",
          "weakly negative",
          "weakly positive",
          "weakly positive",
          "Neutral",
          "Neutral",
          "Neutral",
          "Neutral",
          "weakly positive",
          "Neutral",
          "Neutral",
          "positive",
          "weakly positive",
          "weakly positive",
          "weakly positive",
          "Neutral",
          "Neutral",
          "Neutral",
          "weakly positive",
          "weakly positive",
          "Neutral",
          "positive",
          "Neutral",
          "weakly positive",
          "weakly positive",
          "weakly positive",
          "weakly negative",
          "Neutral",
          "Neutral",
          "weakly positive",
          "weakly positive",
          "weakly positive",
          "weakly negative",
          "Neutral",
          "Neutral",
          "Neutral",
          "Neutral",
          "weakly negative",
          "positive",
          "weakly negative",
          "weakly positive",
          "Neutral",
          "weakly positive",
          "Neutral",
          "positive",
          "Neutral",
          "positive",
          "weakly positive",
          "weakly negative",
          "weakly positive",
          "Neutral",
          "weakly positive",
          "weakly positive",
          "positive",
          "positive",
          "weakly negative",
          "weakly positive",
          "Neutral",
          "weakly negative",
          "weakly positive",
          "weakly positive",
          "Neutral",
          "Neutral",
          "weakly negative",
          "Neutral",
          "Neutral",
          "Neutral",
          "Neutral",
          "Neutral",
          "weakly negative",
          "weakly negative",
          "weakly negative",
          "weakly positive",
          "Neutral",
          "Neutral",
          "weakly negative",
          "weakly positive",
          "Neutral",
          "weakly negative",
          "weakly positive",
          "weakly negative",
          "Neutral",
          "weakly negative",
          "weakly negative",
          "weakly positive",
          "weakly positive",
          "Neutral",
          "weakly positive",
          "weakly positive",
          "weakly positive",
          "Neutral",
          "positive",
          "weakly positive",
          "positive",
          "Neutral",
          "Neutral",
          "weakly negative",
          "Neutral",
          "weakly positive",
          "weakly negative",
          "Neutral",
          "weakly negative",
          "weakly negative",
          "weakly negative",
          "positive",
          "weakly positive",
          "weakly positive",
          "Neutral",
          "weakly negative",
          "weakly positive",
          "weakly positive",
          "weakly positive",
          "Neutral",
          "Neutral",
          "Neutral",
          "Neutral",
          "weakly negative",
          "Neutral",
          "weakly positive",
          "Neutral",
          "weakly negative",
          "weakly positive",
          "weakly positive",
          "weakly negative",
          "Neutral",
          "Neutral",
          "weakly negative",
          "weakly negative",
          "Neutral",
          "Neutral",
          "Neutral",
          "Neutral",
          "positive",
          "weakly negative",
          "Neutral",
          "Neutral",
          "positive",
          "weakly negative",
          "weakly positive",
          "weakly negative",
          "Neutral",
          "Neutral",
          "Neutral",
          "weakly negative",
          "weakly positive",
          "weakly positive",
          "Neutral",
          "weakly positive",
          "weakly positive",
          "Neutral",
          "positive",
          "weakly positive",
          "weakly positive",
          "weakly positive",
          "weakly positive",
          "weakly positive",
          "weakly positive",
          "weakly positive",
          "Neutral",
          "Neutral",
          "weakly negative",
          "Neutral",
          "weakly negative",
          "Neutral",
          "Neutral",
          "Neutral",
          "Neutral",
          "Neutral",
          "Neutral",
          "weakly negative",
          "weakly positive",
          "negative",
          "Neutral",
          "weakly negative",
          "positive",
          "weakly negative",
          "Neutral",
          "weakly negative",
          "weakly positive",
          "weakly negative",
          "weakly positive",
          "Neutral",
          "Neutral",
          "positive",
          "Neutral",
          "Neutral",
          "Neutral",
          "weakly positive",
          "weakly positive",
          "weakly positive",
          "weakly positive",
          "weakly positive",
          "weakly positive",
          "Neutral",
          "Neutral",
          "weakly negative",
          "Neutral",
          "weakly negative",
          "weakly negative",
          "weakly positive",
          "Neutral",
          "Neutral",
          "weakly positive",
          "weakly positive",
          "weakly negative",
          "Neutral",
          "weakly positive",
          "positive",
          "weakly positive",
          "Neutral",
          "weakly positive",
          "weakly negative",
          "weakly negative",
          "weakly positive",
          "weakly negative",
          "positive",
          "Neutral",
          "weakly negative",
          "weakly positive",
          "weakly positive",
          "weakly positive",
          "weakly positive",
          "weakly positive",
          "Neutral",
          "weakly positive",
          "Neutral",
          "weakly negative",
          "Neutral",
          "weakly negative",
          "weakly negative",
          "Neutral",
          "Neutral",
          "Neutral",
          "Neutral",
          "Neutral",
          "weakly negative",
          "Neutral",
          "negative",
          "weakly negative",
          "weakly positive",
          "Neutral",
          "weakly negative",
          "weakly negative",
          "weakly negative",
          "Neutral",
          "weakly negative",
          "Neutral",
          "Neutral",
          "weakly positive",
          "positive",
          "Neutral",
          "Neutral",
          "weakly negative",
          "weakly positive",
          "Neutral",
          "weakly positive",
          "weakly positive",
          "Neutral",
          "weakly negative",
          "weakly positive",
          "weakly positive",
          "weakly positive",
          "weakly positive",
          "Neutral",
          "Neutral",
          "weakly positive",
          "weakly positive",
          "weakly positive",
          "weakly positive",
          "positive",
          "weakly positive",
          "positive",
          "Neutral",
          "Neutral",
          "Neutral",
          "Neutral",
          "weakly negative",
          "weakly positive",
          "Neutral",
          "positive",
          "very positive",
          "Neutral",
          "weakly positive",
          "weakly negative",
          "positive",
          "weakly negative",
          "weakly positive",
          "Neutral",
          "Neutral",
          "weakly positive",
          "Neutral",
          "weakly negative",
          "Neutral",
          "Neutral",
          "positive",
          "Neutral",
          "Neutral",
          "weakly positive",
          "Neutral",
          "weakly negative",
          "weakly positive",
          "weakly positive",
          "Neutral",
          "weakly positive",
          "Neutral",
          "Neutral",
          "weakly positive",
          "weakly positive",
          "Neutral",
          "weakly positive",
          "Neutral",
          "weakly negative",
          "weakly positive",
          "weakly positive",
          "weakly positive",
          "positive",
          "positive",
          "weakly positive",
          "weakly positive",
          "weakly positive",
          "weakly negative",
          "positive",
          "Neutral",
          "weakly positive",
          "Neutral",
          "weakly positive",
          "weakly positive",
          "weakly positive",
          "Neutral",
          "weakly positive",
          "Neutral",
          "Neutral",
          "Neutral",
          "weakly positive",
          "positive",
          "weakly negative",
          "Neutral",
          "weakly positive",
          "weakly positive",
          "weakly positive",
          "negative",
          "Neutral",
          "weakly positive",
          "weakly positive",
          "Neutral",
          "Neutral",
          "positive",
          "weakly positive",
          "Neutral",
          "positive",
          "weakly positive",
          "Neutral",
          "weakly negative",
          "weakly positive",
          "Neutral",
          "weakly negative",
          "weakly positive",
          "Neutral",
          "weakly negative",
          "Neutral",
          "weakly positive",
          "weakly positive",
          "Neutral",
          "Neutral",
          "Neutral",
          "Neutral",
          "weakly positive",
          "weakly negative",
          "Neutral",
          "Neutral",
          "weakly positive",
          "Neutral",
          "Neutral",
          "weakly positive",
          "weakly negative",
          "weakly positive",
          "Neutral",
          "Neutral",
          "Neutral",
          "weakly negative",
          "positive",
          "weakly positive",
          "Neutral",
          "weakly negative",
          "Neutral",
          "Neutral",
          "Neutral",
          "Neutral",
          "Neutral",
          "weakly negative",
          "weakly negative",
          "Neutral",
          "weakly positive",
          "Neutral",
          "Neutral",
          "weakly negative",
          "weakly positive",
          "Neutral",
          "Neutral",
          "Neutral",
          "weakly positive",
          "Neutral",
          "Neutral",
          "Neutral",
          "weakly negative",
          "weakly positive",
          "Neutral",
          "weakly positive",
          "weakly negative",
          "Neutral",
          "Neutral",
          "weakly positive",
          "Neutral",
          "Neutral",
          "weakly negative",
          "Neutral",
          "weakly negative",
          "weakly positive",
          "weakly positive",
          "weakly positive",
          "weakly positive",
          "Neutral",
          "weakly positive",
          "weakly positive",
          "Neutral",
          "Neutral",
          "Neutral",
          "Neutral",
          "very negative",
          "negative",
          "weakly negative",
          "Neutral",
          "weakly positive",
          "positive",
          "very positive"
         ],
         "xaxis": "x4",
         "y": [
          1,
          1,
          1,
          1,
          1,
          1,
          1,
          1,
          1,
          1,
          1,
          1,
          1,
          1,
          1,
          1,
          1,
          1,
          1,
          1,
          1,
          1,
          1,
          1,
          1,
          1,
          1,
          1,
          1,
          1,
          1,
          1,
          1,
          1,
          1,
          1,
          1,
          1,
          1,
          1,
          1,
          1,
          1,
          1,
          1,
          1,
          1,
          1,
          1,
          1,
          1,
          1,
          1,
          1,
          1,
          1,
          1,
          1,
          1,
          1,
          1,
          1,
          1,
          1,
          1,
          1,
          1,
          1,
          1,
          1,
          1,
          1,
          1,
          1,
          1,
          1,
          1,
          1,
          1,
          1,
          1,
          1,
          1,
          1,
          1,
          1,
          1,
          1,
          1,
          1,
          1,
          1,
          1,
          1,
          1,
          1,
          1,
          1,
          1,
          1,
          1,
          1,
          1,
          1,
          1,
          1,
          1,
          1,
          1,
          1,
          1,
          1,
          1,
          1,
          1,
          1,
          1,
          1,
          1,
          1,
          1,
          1,
          1,
          1,
          1,
          1,
          1,
          1,
          1,
          1,
          1,
          1,
          1,
          1,
          1,
          1,
          1,
          1,
          1,
          1,
          1,
          1,
          1,
          1,
          1,
          1,
          1,
          1,
          1,
          1,
          1,
          1,
          1,
          1,
          1,
          1,
          1,
          1,
          1,
          1,
          1,
          1,
          1,
          1,
          1,
          1,
          1,
          1,
          1,
          1,
          1,
          1,
          1,
          1,
          1,
          1,
          1,
          1,
          1,
          1,
          1,
          1,
          1,
          1,
          1,
          1,
          1,
          1,
          1,
          1,
          1,
          1,
          1,
          1,
          1,
          1,
          1,
          1,
          1,
          1,
          1,
          1,
          1,
          1,
          1,
          1,
          1,
          1,
          1,
          1,
          1,
          1,
          1,
          1,
          1,
          1,
          1,
          1,
          1,
          1,
          1,
          1,
          1,
          1,
          1,
          1,
          1,
          1,
          1,
          1,
          1,
          1,
          1,
          1,
          1,
          1,
          1,
          1,
          1,
          1,
          1,
          1,
          1,
          1,
          1,
          1,
          1,
          1,
          1,
          1,
          1,
          1,
          1,
          1,
          1,
          1,
          1,
          1,
          1,
          1,
          1,
          1,
          1,
          1,
          1,
          1,
          1,
          1,
          1,
          1,
          1,
          1,
          1,
          1,
          1,
          1,
          1,
          1,
          1,
          1,
          1,
          1,
          1,
          1,
          1,
          1,
          1,
          1,
          1,
          1,
          1,
          1,
          1,
          1,
          1,
          1,
          1,
          1,
          1,
          1,
          1,
          1,
          1,
          1,
          1,
          1,
          1,
          1,
          1,
          1,
          1,
          1,
          1,
          1,
          1,
          1,
          1,
          1,
          1,
          1,
          1,
          1,
          1,
          1,
          1,
          1,
          1,
          1,
          1,
          1,
          1,
          1,
          1,
          1,
          1,
          1,
          1,
          1,
          1,
          1,
          1,
          1,
          1,
          1,
          1,
          1,
          1,
          1,
          1,
          1,
          1,
          1,
          1,
          1,
          1,
          1,
          1,
          1,
          1,
          1,
          1,
          1,
          1,
          1,
          1,
          1,
          1,
          1,
          1,
          1,
          1,
          1,
          1,
          1,
          1,
          1,
          1,
          1,
          1,
          1,
          1,
          1,
          1,
          1,
          1,
          1,
          1,
          1,
          1,
          1,
          1,
          1,
          1,
          1,
          1,
          1,
          1,
          1,
          1,
          1,
          1,
          1,
          1,
          1,
          1,
          1,
          1,
          1,
          1,
          1,
          1,
          1,
          1,
          1,
          1,
          1,
          1,
          1,
          1,
          1,
          1,
          1,
          1,
          1,
          1,
          1,
          1,
          1,
          1,
          1,
          1,
          1,
          1,
          1,
          1,
          1,
          1,
          1,
          1,
          1,
          1,
          1,
          1,
          1,
          1,
          1,
          1,
          1,
          1,
          1,
          1,
          1,
          1,
          1,
          1,
          1,
          1,
          1,
          1,
          1,
          1,
          1,
          1,
          1,
          1,
          1,
          1,
          1,
          1,
          1,
          1,
          1,
          1,
          1,
          1,
          1,
          1,
          1,
          1,
          1,
          1,
          1,
          1,
          1,
          1,
          1,
          1,
          1,
          1,
          1,
          1,
          1,
          1,
          1,
          1,
          1,
          1,
          1,
          1,
          1,
          1,
          1,
          1,
          1,
          1,
          1,
          1,
          1,
          1,
          1,
          1,
          1,
          1,
          1,
          1,
          1,
          1,
          1,
          1,
          1,
          1,
          1,
          1,
          1,
          1,
          1,
          1,
          1,
          1,
          1,
          1,
          1,
          1,
          1,
          1,
          1,
          1,
          1,
          1,
          1,
          1,
          1,
          1,
          1,
          1,
          1,
          1,
          1,
          1,
          1,
          1,
          1,
          1,
          1,
          1,
          1,
          1,
          1,
          1,
          1,
          1,
          1,
          1,
          1,
          1,
          1,
          1,
          1,
          1,
          1,
          1,
          1,
          1,
          1,
          1,
          1,
          1,
          1,
          1,
          1,
          1,
          1,
          1,
          1,
          1,
          1,
          1,
          1,
          1,
          1,
          1,
          1,
          1,
          1,
          1,
          1,
          1,
          1,
          1,
          1,
          1,
          1,
          1,
          1,
          1,
          1,
          1,
          1,
          1,
          1,
          1,
          1,
          1,
          1,
          1,
          1,
          1,
          1,
          1,
          1,
          1,
          1,
          1,
          1,
          1,
          1,
          1,
          1,
          1,
          1,
          1,
          1,
          1,
          1,
          1,
          1,
          1,
          1,
          1,
          1,
          1,
          1,
          1,
          1,
          1,
          1,
          1,
          1,
          1,
          1,
          1,
          1,
          1,
          1,
          1,
          1,
          1,
          1,
          1,
          1,
          1,
          1,
          1,
          1,
          1,
          1,
          1,
          1,
          1,
          1,
          1,
          1,
          1,
          1,
          1,
          1,
          1,
          1,
          1,
          1,
          1,
          1,
          1,
          1,
          1,
          1,
          1,
          1,
          1,
          1,
          1,
          1,
          1
         ],
         "yaxis": "y4"
        }
       ],
       "layout": {
        "annotations": [
         {
          "font": {
           "size": 16
          },
          "showarrow": false,
          "text": "Text-only",
          "x": 0.225,
          "xanchor": "center",
          "xref": "paper",
          "y": 1,
          "yanchor": "bottom",
          "yref": "paper"
         },
         {
          "font": {
           "size": 16
          },
          "showarrow": false,
          "text": "Acoustic-only",
          "x": 0.775,
          "xanchor": "center",
          "xref": "paper",
          "y": 1,
          "yanchor": "bottom",
          "yref": "paper"
         },
         {
          "font": {
           "size": 16
          },
          "showarrow": false,
          "text": "Visual-only",
          "x": 0.225,
          "xanchor": "center",
          "xref": "paper",
          "y": 0.375,
          "yanchor": "bottom",
          "yref": "paper"
         },
         {
          "font": {
           "size": 16
          },
          "showarrow": false,
          "text": "TFN-fusion",
          "x": 0.775,
          "xanchor": "center",
          "xref": "paper",
          "y": 0.375,
          "yanchor": "bottom",
          "yref": "paper"
         }
        ],
        "height": 800,
        "template": {
         "data": {
          "bar": [
           {
            "error_x": {
             "color": "#2a3f5f"
            },
            "error_y": {
             "color": "#2a3f5f"
            },
            "marker": {
             "line": {
              "color": "#E5ECF6",
              "width": 0.5
             },
             "pattern": {
              "fillmode": "overlay",
              "size": 10,
              "solidity": 0.2
             }
            },
            "type": "bar"
           }
          ],
          "barpolar": [
           {
            "marker": {
             "line": {
              "color": "#E5ECF6",
              "width": 0.5
             },
             "pattern": {
              "fillmode": "overlay",
              "size": 10,
              "solidity": 0.2
             }
            },
            "type": "barpolar"
           }
          ],
          "carpet": [
           {
            "aaxis": {
             "endlinecolor": "#2a3f5f",
             "gridcolor": "white",
             "linecolor": "white",
             "minorgridcolor": "white",
             "startlinecolor": "#2a3f5f"
            },
            "baxis": {
             "endlinecolor": "#2a3f5f",
             "gridcolor": "white",
             "linecolor": "white",
             "minorgridcolor": "white",
             "startlinecolor": "#2a3f5f"
            },
            "type": "carpet"
           }
          ],
          "choropleth": [
           {
            "colorbar": {
             "outlinewidth": 0,
             "ticks": ""
            },
            "type": "choropleth"
           }
          ],
          "contour": [
           {
            "colorbar": {
             "outlinewidth": 0,
             "ticks": ""
            },
            "colorscale": [
             [
              0,
              "#0d0887"
             ],
             [
              0.1111111111111111,
              "#46039f"
             ],
             [
              0.2222222222222222,
              "#7201a8"
             ],
             [
              0.3333333333333333,
              "#9c179e"
             ],
             [
              0.4444444444444444,
              "#bd3786"
             ],
             [
              0.5555555555555556,
              "#d8576b"
             ],
             [
              0.6666666666666666,
              "#ed7953"
             ],
             [
              0.7777777777777778,
              "#fb9f3a"
             ],
             [
              0.8888888888888888,
              "#fdca26"
             ],
             [
              1,
              "#f0f921"
             ]
            ],
            "type": "contour"
           }
          ],
          "contourcarpet": [
           {
            "colorbar": {
             "outlinewidth": 0,
             "ticks": ""
            },
            "type": "contourcarpet"
           }
          ],
          "heatmap": [
           {
            "colorbar": {
             "outlinewidth": 0,
             "ticks": ""
            },
            "colorscale": [
             [
              0,
              "#0d0887"
             ],
             [
              0.1111111111111111,
              "#46039f"
             ],
             [
              0.2222222222222222,
              "#7201a8"
             ],
             [
              0.3333333333333333,
              "#9c179e"
             ],
             [
              0.4444444444444444,
              "#bd3786"
             ],
             [
              0.5555555555555556,
              "#d8576b"
             ],
             [
              0.6666666666666666,
              "#ed7953"
             ],
             [
              0.7777777777777778,
              "#fb9f3a"
             ],
             [
              0.8888888888888888,
              "#fdca26"
             ],
             [
              1,
              "#f0f921"
             ]
            ],
            "type": "heatmap"
           }
          ],
          "heatmapgl": [
           {
            "colorbar": {
             "outlinewidth": 0,
             "ticks": ""
            },
            "colorscale": [
             [
              0,
              "#0d0887"
             ],
             [
              0.1111111111111111,
              "#46039f"
             ],
             [
              0.2222222222222222,
              "#7201a8"
             ],
             [
              0.3333333333333333,
              "#9c179e"
             ],
             [
              0.4444444444444444,
              "#bd3786"
             ],
             [
              0.5555555555555556,
              "#d8576b"
             ],
             [
              0.6666666666666666,
              "#ed7953"
             ],
             [
              0.7777777777777778,
              "#fb9f3a"
             ],
             [
              0.8888888888888888,
              "#fdca26"
             ],
             [
              1,
              "#f0f921"
             ]
            ],
            "type": "heatmapgl"
           }
          ],
          "histogram": [
           {
            "marker": {
             "pattern": {
              "fillmode": "overlay",
              "size": 10,
              "solidity": 0.2
             }
            },
            "type": "histogram"
           }
          ],
          "histogram2d": [
           {
            "colorbar": {
             "outlinewidth": 0,
             "ticks": ""
            },
            "colorscale": [
             [
              0,
              "#0d0887"
             ],
             [
              0.1111111111111111,
              "#46039f"
             ],
             [
              0.2222222222222222,
              "#7201a8"
             ],
             [
              0.3333333333333333,
              "#9c179e"
             ],
             [
              0.4444444444444444,
              "#bd3786"
             ],
             [
              0.5555555555555556,
              "#d8576b"
             ],
             [
              0.6666666666666666,
              "#ed7953"
             ],
             [
              0.7777777777777778,
              "#fb9f3a"
             ],
             [
              0.8888888888888888,
              "#fdca26"
             ],
             [
              1,
              "#f0f921"
             ]
            ],
            "type": "histogram2d"
           }
          ],
          "histogram2dcontour": [
           {
            "colorbar": {
             "outlinewidth": 0,
             "ticks": ""
            },
            "colorscale": [
             [
              0,
              "#0d0887"
             ],
             [
              0.1111111111111111,
              "#46039f"
             ],
             [
              0.2222222222222222,
              "#7201a8"
             ],
             [
              0.3333333333333333,
              "#9c179e"
             ],
             [
              0.4444444444444444,
              "#bd3786"
             ],
             [
              0.5555555555555556,
              "#d8576b"
             ],
             [
              0.6666666666666666,
              "#ed7953"
             ],
             [
              0.7777777777777778,
              "#fb9f3a"
             ],
             [
              0.8888888888888888,
              "#fdca26"
             ],
             [
              1,
              "#f0f921"
             ]
            ],
            "type": "histogram2dcontour"
           }
          ],
          "mesh3d": [
           {
            "colorbar": {
             "outlinewidth": 0,
             "ticks": ""
            },
            "type": "mesh3d"
           }
          ],
          "parcoords": [
           {
            "line": {
             "colorbar": {
              "outlinewidth": 0,
              "ticks": ""
             }
            },
            "type": "parcoords"
           }
          ],
          "pie": [
           {
            "automargin": true,
            "type": "pie"
           }
          ],
          "scatter": [
           {
            "fillpattern": {
             "fillmode": "overlay",
             "size": 10,
             "solidity": 0.2
            },
            "type": "scatter"
           }
          ],
          "scatter3d": [
           {
            "line": {
             "colorbar": {
              "outlinewidth": 0,
              "ticks": ""
             }
            },
            "marker": {
             "colorbar": {
              "outlinewidth": 0,
              "ticks": ""
             }
            },
            "type": "scatter3d"
           }
          ],
          "scattercarpet": [
           {
            "marker": {
             "colorbar": {
              "outlinewidth": 0,
              "ticks": ""
             }
            },
            "type": "scattercarpet"
           }
          ],
          "scattergeo": [
           {
            "marker": {
             "colorbar": {
              "outlinewidth": 0,
              "ticks": ""
             }
            },
            "type": "scattergeo"
           }
          ],
          "scattergl": [
           {
            "marker": {
             "colorbar": {
              "outlinewidth": 0,
              "ticks": ""
             }
            },
            "type": "scattergl"
           }
          ],
          "scattermapbox": [
           {
            "marker": {
             "colorbar": {
              "outlinewidth": 0,
              "ticks": ""
             }
            },
            "type": "scattermapbox"
           }
          ],
          "scatterpolar": [
           {
            "marker": {
             "colorbar": {
              "outlinewidth": 0,
              "ticks": ""
             }
            },
            "type": "scatterpolar"
           }
          ],
          "scatterpolargl": [
           {
            "marker": {
             "colorbar": {
              "outlinewidth": 0,
              "ticks": ""
             }
            },
            "type": "scatterpolargl"
           }
          ],
          "scatterternary": [
           {
            "marker": {
             "colorbar": {
              "outlinewidth": 0,
              "ticks": ""
             }
            },
            "type": "scatterternary"
           }
          ],
          "surface": [
           {
            "colorbar": {
             "outlinewidth": 0,
             "ticks": ""
            },
            "colorscale": [
             [
              0,
              "#0d0887"
             ],
             [
              0.1111111111111111,
              "#46039f"
             ],
             [
              0.2222222222222222,
              "#7201a8"
             ],
             [
              0.3333333333333333,
              "#9c179e"
             ],
             [
              0.4444444444444444,
              "#bd3786"
             ],
             [
              0.5555555555555556,
              "#d8576b"
             ],
             [
              0.6666666666666666,
              "#ed7953"
             ],
             [
              0.7777777777777778,
              "#fb9f3a"
             ],
             [
              0.8888888888888888,
              "#fdca26"
             ],
             [
              1,
              "#f0f921"
             ]
            ],
            "type": "surface"
           }
          ],
          "table": [
           {
            "cells": {
             "fill": {
              "color": "#EBF0F8"
             },
             "line": {
              "color": "white"
             }
            },
            "header": {
             "fill": {
              "color": "#C8D4E3"
             },
             "line": {
              "color": "white"
             }
            },
            "type": "table"
           }
          ]
         },
         "layout": {
          "annotationdefaults": {
           "arrowcolor": "#2a3f5f",
           "arrowhead": 0,
           "arrowwidth": 1
          },
          "autotypenumbers": "strict",
          "coloraxis": {
           "colorbar": {
            "outlinewidth": 0,
            "ticks": ""
           }
          },
          "colorscale": {
           "diverging": [
            [
             0,
             "#8e0152"
            ],
            [
             0.1,
             "#c51b7d"
            ],
            [
             0.2,
             "#de77ae"
            ],
            [
             0.3,
             "#f1b6da"
            ],
            [
             0.4,
             "#fde0ef"
            ],
            [
             0.5,
             "#f7f7f7"
            ],
            [
             0.6,
             "#e6f5d0"
            ],
            [
             0.7,
             "#b8e186"
            ],
            [
             0.8,
             "#7fbc41"
            ],
            [
             0.9,
             "#4d9221"
            ],
            [
             1,
             "#276419"
            ]
           ],
           "sequential": [
            [
             0,
             "#0d0887"
            ],
            [
             0.1111111111111111,
             "#46039f"
            ],
            [
             0.2222222222222222,
             "#7201a8"
            ],
            [
             0.3333333333333333,
             "#9c179e"
            ],
            [
             0.4444444444444444,
             "#bd3786"
            ],
            [
             0.5555555555555556,
             "#d8576b"
            ],
            [
             0.6666666666666666,
             "#ed7953"
            ],
            [
             0.7777777777777778,
             "#fb9f3a"
            ],
            [
             0.8888888888888888,
             "#fdca26"
            ],
            [
             1,
             "#f0f921"
            ]
           ],
           "sequentialminus": [
            [
             0,
             "#0d0887"
            ],
            [
             0.1111111111111111,
             "#46039f"
            ],
            [
             0.2222222222222222,
             "#7201a8"
            ],
            [
             0.3333333333333333,
             "#9c179e"
            ],
            [
             0.4444444444444444,
             "#bd3786"
            ],
            [
             0.5555555555555556,
             "#d8576b"
            ],
            [
             0.6666666666666666,
             "#ed7953"
            ],
            [
             0.7777777777777778,
             "#fb9f3a"
            ],
            [
             0.8888888888888888,
             "#fdca26"
            ],
            [
             1,
             "#f0f921"
            ]
           ]
          },
          "colorway": [
           "#636efa",
           "#EF553B",
           "#00cc96",
           "#ab63fa",
           "#FFA15A",
           "#19d3f3",
           "#FF6692",
           "#B6E880",
           "#FF97FF",
           "#FECB52"
          ],
          "font": {
           "color": "#2a3f5f"
          },
          "geo": {
           "bgcolor": "white",
           "lakecolor": "white",
           "landcolor": "#E5ECF6",
           "showlakes": true,
           "showland": true,
           "subunitcolor": "white"
          },
          "hoverlabel": {
           "align": "left"
          },
          "hovermode": "closest",
          "mapbox": {
           "style": "light"
          },
          "paper_bgcolor": "white",
          "plot_bgcolor": "#E5ECF6",
          "polar": {
           "angularaxis": {
            "gridcolor": "white",
            "linecolor": "white",
            "ticks": ""
           },
           "bgcolor": "#E5ECF6",
           "radialaxis": {
            "gridcolor": "white",
            "linecolor": "white",
            "ticks": ""
           }
          },
          "scene": {
           "xaxis": {
            "backgroundcolor": "#E5ECF6",
            "gridcolor": "white",
            "gridwidth": 2,
            "linecolor": "white",
            "showbackground": true,
            "ticks": "",
            "zerolinecolor": "white"
           },
           "yaxis": {
            "backgroundcolor": "#E5ECF6",
            "gridcolor": "white",
            "gridwidth": 2,
            "linecolor": "white",
            "showbackground": true,
            "ticks": "",
            "zerolinecolor": "white"
           },
           "zaxis": {
            "backgroundcolor": "#E5ECF6",
            "gridcolor": "white",
            "gridwidth": 2,
            "linecolor": "white",
            "showbackground": true,
            "ticks": "",
            "zerolinecolor": "white"
           }
          },
          "shapedefaults": {
           "line": {
            "color": "#2a3f5f"
           }
          },
          "ternary": {
           "aaxis": {
            "gridcolor": "white",
            "linecolor": "white",
            "ticks": ""
           },
           "baxis": {
            "gridcolor": "white",
            "linecolor": "white",
            "ticks": ""
           },
           "bgcolor": "#E5ECF6",
           "caxis": {
            "gridcolor": "white",
            "linecolor": "white",
            "ticks": ""
           }
          },
          "title": {
           "x": 0.05
          },
          "xaxis": {
           "automargin": true,
           "gridcolor": "white",
           "linecolor": "white",
           "ticks": "",
           "title": {
            "standoff": 15
           },
           "zerolinecolor": "white",
           "zerolinewidth": 2
          },
          "yaxis": {
           "automargin": true,
           "gridcolor": "white",
           "linecolor": "white",
           "ticks": "",
           "title": {
            "standoff": 15
           },
           "zerolinecolor": "white",
           "zerolinewidth": 2
          }
         }
        },
        "title": {
         "text": "Unimodal results distribution"
        },
        "width": 1200,
        "xaxis": {
         "anchor": "y",
         "categoryarray": [
          "very negative",
          "negative",
          "weakly negative",
          "Neutral",
          "weakly positive",
          "positive",
          "very positive"
         ],
         "categoryorder": "array",
         "domain": [
          0,
          0.45
         ]
        },
        "xaxis2": {
         "anchor": "y2",
         "categoryarray": [
          "very negative",
          "negative",
          "weakly negative",
          "Neutral",
          "weakly positive",
          "positive",
          "very positive"
         ],
         "categoryorder": "array",
         "domain": [
          0.55,
          1
         ]
        },
        "xaxis3": {
         "anchor": "y3",
         "categoryarray": [
          "very negative",
          "negative",
          "weakly negative",
          "Neutral",
          "weakly positive",
          "positive",
          "very positive"
         ],
         "categoryorder": "array",
         "domain": [
          0,
          0.45
         ]
        },
        "xaxis4": {
         "anchor": "y4",
         "categoryarray": [
          "very negative",
          "negative",
          "weakly negative",
          "Neutral",
          "weakly positive",
          "positive",
          "very positive"
         ],
         "categoryorder": "array",
         "domain": [
          0.55,
          1
         ]
        },
        "yaxis": {
         "anchor": "x",
         "domain": [
          0.625,
          1
         ],
         "range": [
          0,
          500
         ]
        },
        "yaxis2": {
         "anchor": "x2",
         "domain": [
          0.625,
          1
         ],
         "range": [
          0,
          500
         ]
        },
        "yaxis3": {
         "anchor": "x3",
         "domain": [
          0,
          0.375
         ],
         "range": [
          0,
          500
         ]
        },
        "yaxis4": {
         "anchor": "x4",
         "domain": [
          0,
          0.375
         ],
         "range": [
          0,
          500
         ]
        }
       }
      },
      "text/html": [
       "<div>                            <div id=\"6c4be9b6-9669-4fe7-bc3f-ce5c1fdb160a\" class=\"plotly-graph-div\" style=\"height:800px; width:1200px;\"></div>            <script type=\"text/javascript\">                require([\"plotly\"], function(Plotly) {                    window.PLOTLYENV=window.PLOTLYENV || {};                                    if (document.getElementById(\"6c4be9b6-9669-4fe7-bc3f-ce5c1fdb160a\")) {                    Plotly.newPlot(                        \"6c4be9b6-9669-4fe7-bc3f-ce5c1fdb160a\",                        [{\"alignmentgroup\":\"True\",\"hovertemplate\":\"text_7=%{x}<br>count=%{y}<extra></extra>\",\"legendgroup\":\"\",\"marker\":{\"color\":\"#636efa\",\"pattern\":{\"shape\":\"\"}},\"name\":\"\",\"offsetgroup\":\"\",\"orientation\":\"v\",\"showlegend\":false,\"textposition\":\"auto\",\"x\":[\"weakly positive\",\"weakly positive\",\"Neutral\",\"weakly positive\",\"Neutral\",\"Neutral\",\"Neutral\",\"Neutral\",\"Neutral\",\"weakly positive\",\"weakly positive\",\"weakly negative\",\"weakly negative\",\"Neutral\",\"Neutral\",\"Neutral\",\"Neutral\",\"Neutral\",\"Neutral\",\"weakly positive\",\"Neutral\",\"Neutral\",\"weakly positive\",\"Neutral\",\"weakly positive\",\"Neutral\",\"weakly positive\",\"Neutral\",\"weakly negative\",\"Neutral\",\"Neutral\",\"Neutral\",\"weakly positive\",\"weakly positive\",\"Neutral\",\"weakly positive\",\"Neutral\",\"Neutral\",\"weakly positive\",\"weakly negative\",\"Neutral\",\"Neutral\",\"weakly positive\",\"Neutral\",\"weakly positive\",\"Neutral\",\"weakly negative\",\"Neutral\",\"weakly negative\",\"positive\",\"weakly positive\",\"weakly negative\",\"weakly negative\",\"Neutral\",\"weakly negative\",\"Neutral\",\"Neutral\",\"weakly positive\",\"Neutral\",\"positive\",\"Neutral\",\"weakly positive\",\"Neutral\",\"weakly positive\",\"weakly negative\",\"Neutral\",\"weakly negative\",\"Neutral\",\"weakly negative\",\"Neutral\",\"Neutral\",\"Neutral\",\"weakly negative\",\"Neutral\",\"Neutral\",\"Neutral\",\"Neutral\",\"weakly negative\",\"weakly negative\",\"weakly positive\",\"Neutral\",\"weakly negative\",\"Neutral\",\"weakly positive\",\"Neutral\",\"weakly positive\",\"Neutral\",\"weakly positive\",\"weakly negative\",\"weakly positive\",\"Neutral\",\"Neutral\",\"Neutral\",\"Neutral\",\"Neutral\",\"weakly positive\",\"weakly positive\",\"Neutral\",\"Neutral\",\"Neutral\",\"weakly negative\",\"Neutral\",\"weakly positive\",\"Neutral\",\"Neutral\",\"Neutral\",\"weakly negative\",\"weakly positive\",\"weakly positive\",\"weakly positive\",\"positive\",\"Neutral\",\"weakly positive\",\"Neutral\",\"Neutral\",\"weakly positive\",\"weakly negative\",\"weakly positive\",\"positive\",\"Neutral\",\"weakly positive\",\"weakly positive\",\"Neutral\",\"weakly positive\",\"Neutral\",\"weakly positive\",\"weakly negative\",\"weakly positive\",\"Neutral\",\"Neutral\",\"Neutral\",\"weakly negative\",\"weakly negative\",\"weakly negative\",\"Neutral\",\"weakly negative\",\"Neutral\",\"Neutral\",\"Neutral\",\"Neutral\",\"Neutral\",\"Neutral\",\"weakly positive\",\"weakly positive\",\"weakly positive\",\"Neutral\",\"Neutral\",\"weakly positive\",\"Neutral\",\"Neutral\",\"Neutral\",\"weakly negative\",\"Neutral\",\"weakly positive\",\"weakly positive\",\"Neutral\",\"Neutral\",\"Neutral\",\"Neutral\",\"weakly positive\",\"Neutral\",\"Neutral\",\"weakly negative\",\"Neutral\",\"Neutral\",\"Neutral\",\"weakly positive\",\"weakly positive\",\"Neutral\",\"weakly positive\",\"Neutral\",\"Neutral\",\"Neutral\",\"Neutral\",\"weakly negative\",\"weakly negative\",\"Neutral\",\"weakly positive\",\"Neutral\",\"Neutral\",\"positive\",\"weakly negative\",\"Neutral\",\"Neutral\",\"Neutral\",\"Neutral\",\"Neutral\",\"weakly positive\",\"Neutral\",\"Neutral\",\"Neutral\",\"Neutral\",\"weakly positive\",\"Neutral\",\"weakly negative\",\"weakly negative\",\"Neutral\",\"weakly positive\",\"Neutral\",\"weakly negative\",\"weakly positive\",\"Neutral\",\"weakly positive\",\"Neutral\",\"weakly positive\",\"Neutral\",\"Neutral\",\"weakly negative\",\"weakly negative\",\"Neutral\",\"Neutral\",\"weakly negative\",\"weakly negative\",\"Neutral\",\"weakly positive\",\"weakly negative\",\"Neutral\",\"Neutral\",\"weakly positive\",\"Neutral\",\"weakly negative\",\"Neutral\",\"positive\",\"Neutral\",\"Neutral\",\"Neutral\",\"Neutral\",\"Neutral\",\"Neutral\",\"Neutral\",\"Neutral\",\"Neutral\",\"Neutral\",\"weakly negative\",\"Neutral\",\"Neutral\",\"Neutral\",\"Neutral\",\"weakly positive\",\"Neutral\",\"weakly negative\",\"weakly negative\",\"Neutral\",\"Neutral\",\"weakly positive\",\"weakly negative\",\"Neutral\",\"Neutral\",\"Neutral\",\"Neutral\",\"weakly positive\",\"weakly positive\",\"Neutral\",\"weakly positive\",\"Neutral\",\"Neutral\",\"weakly negative\",\"Neutral\",\"Neutral\",\"weakly negative\",\"weakly positive\",\"Neutral\",\"Neutral\",\"Neutral\",\"weakly negative\",\"Neutral\",\"Neutral\",\"Neutral\",\"Neutral\",\"Neutral\",\"Neutral\",\"Neutral\",\"Neutral\",\"Neutral\",\"Neutral\",\"weakly positive\",\"Neutral\",\"Neutral\",\"Neutral\",\"weakly positive\",\"weakly negative\",\"Neutral\",\"weakly positive\",\"weakly positive\",\"Neutral\",\"Neutral\",\"Neutral\",\"Neutral\",\"Neutral\",\"Neutral\",\"Neutral\",\"Neutral\",\"Neutral\",\"Neutral\",\"Neutral\",\"weakly negative\",\"weakly positive\",\"weakly positive\",\"positive\",\"Neutral\",\"weakly positive\",\"weakly positive\",\"Neutral\",\"Neutral\",\"weakly positive\",\"Neutral\",\"weakly negative\",\"weakly positive\",\"Neutral\",\"weakly positive\",\"Neutral\",\"Neutral\",\"weakly positive\",\"Neutral\",\"Neutral\",\"weakly negative\",\"Neutral\",\"Neutral\",\"Neutral\",\"Neutral\",\"Neutral\",\"Neutral\",\"Neutral\",\"weakly negative\",\"Neutral\",\"Neutral\",\"weakly negative\",\"Neutral\",\"Neutral\",\"Neutral\",\"weakly negative\",\"weakly positive\",\"Neutral\",\"Neutral\",\"weakly negative\",\"weakly negative\",\"weakly negative\",\"weakly positive\",\"weakly negative\",\"Neutral\",\"weakly negative\",\"weakly negative\",\"Neutral\",\"Neutral\",\"weakly positive\",\"weakly positive\",\"weakly positive\",\"weakly positive\",\"Neutral\",\"weakly positive\",\"Neutral\",\"weakly positive\",\"weakly positive\",\"weakly negative\",\"Neutral\",\"Neutral\",\"Neutral\",\"weakly negative\",\"Neutral\",\"Neutral\",\"Neutral\",\"Neutral\",\"weakly positive\",\"Neutral\",\"weakly positive\",\"weakly positive\",\"weakly negative\",\"Neutral\",\"Neutral\",\"Neutral\",\"Neutral\",\"weakly negative\",\"Neutral\",\"weakly positive\",\"Neutral\",\"Neutral\",\"weakly negative\",\"Neutral\",\"weakly negative\",\"Neutral\",\"Neutral\",\"weakly negative\",\"Neutral\",\"Neutral\",\"Neutral\",\"Neutral\",\"Neutral\",\"weakly negative\",\"Neutral\",\"Neutral\",\"positive\",\"Neutral\",\"weakly negative\",\"weakly negative\",\"Neutral\",\"Neutral\",\"Neutral\",\"Neutral\",\"Neutral\",\"weakly negative\",\"weakly positive\",\"weakly negative\",\"Neutral\",\"Neutral\",\"Neutral\",\"weakly negative\",\"weakly positive\",\"Neutral\",\"weakly positive\",\"Neutral\",\"weakly positive\",\"Neutral\",\"Neutral\",\"Neutral\",\"weakly positive\",\"weakly positive\",\"Neutral\",\"weakly positive\",\"Neutral\",\"Neutral\",\"weakly negative\",\"weakly negative\",\"Neutral\",\"weakly negative\",\"Neutral\",\"weakly negative\",\"weakly negative\",\"weakly negative\",\"Neutral\",\"weakly negative\",\"weakly negative\",\"weakly negative\",\"weakly positive\",\"weakly negative\",\"Neutral\",\"Neutral\",\"weakly positive\",\"Neutral\",\"Neutral\",\"Neutral\",\"Neutral\",\"Neutral\",\"weakly negative\",\"weakly positive\",\"weakly positive\",\"Neutral\",\"Neutral\",\"Neutral\",\"Neutral\",\"weakly positive\",\"weakly positive\",\"Neutral\",\"Neutral\",\"Neutral\",\"Neutral\",\"Neutral\",\"Neutral\",\"weakly positive\",\"Neutral\",\"Neutral\",\"Neutral\",\"Neutral\",\"weakly negative\",\"Neutral\",\"weakly positive\",\"weakly positive\",\"weakly negative\",\"Neutral\",\"weakly positive\",\"Neutral\",\"weakly negative\",\"weakly positive\",\"Neutral\",\"positive\",\"Neutral\",\"Neutral\",\"Neutral\",\"Neutral\",\"weakly positive\",\"weakly positive\",\"Neutral\",\"Neutral\",\"Neutral\",\"weakly positive\",\"Neutral\",\"Neutral\",\"Neutral\",\"weakly negative\",\"weakly positive\",\"weakly negative\",\"weakly negative\",\"weakly positive\",\"Neutral\",\"Neutral\",\"Neutral\",\"Neutral\",\"weakly negative\",\"Neutral\",\"Neutral\",\"Neutral\",\"weakly positive\",\"Neutral\",\"weakly positive\",\"Neutral\",\"Neutral\",\"Neutral\",\"Neutral\",\"weakly positive\",\"Neutral\",\"Neutral\",\"Neutral\",\"weakly positive\",\"weakly positive\",\"Neutral\",\"Neutral\",\"Neutral\",\"Neutral\",\"Neutral\",\"weakly positive\",\"Neutral\",\"Neutral\",\"Neutral\",\"weakly negative\",\"Neutral\",\"Neutral\",\"weakly positive\",\"weakly positive\",\"Neutral\",\"Neutral\",\"weakly negative\",\"weakly positive\",\"Neutral\",\"Neutral\",\"weakly positive\",\"Neutral\",\"Neutral\",\"weakly negative\",\"Neutral\",\"weakly positive\",\"Neutral\",\"Neutral\",\"Neutral\",\"weakly positive\",\"Neutral\",\"Neutral\",\"Neutral\",\"Neutral\",\"Neutral\",\"weakly negative\",\"Neutral\",\"weakly negative\",\"Neutral\",\"weakly positive\",\"Neutral\",\"Neutral\",\"weakly positive\",\"Neutral\",\"Neutral\",\"weakly positive\",\"Neutral\",\"Neutral\",\"weakly positive\",\"Neutral\",\"weakly negative\",\"Neutral\",\"Neutral\",\"Neutral\",\"Neutral\",\"Neutral\",\"Neutral\",\"weakly positive\",\"Neutral\",\"weakly positive\",\"weakly positive\",\"weakly positive\",\"weakly positive\",\"Neutral\",\"Neutral\",\"weakly negative\",\"Neutral\",\"Neutral\",\"Neutral\",\"Neutral\",\"Neutral\",\"weakly positive\",\"weakly positive\",\"weakly negative\",\"Neutral\",\"Neutral\",\"Neutral\",\"weakly negative\",\"Neutral\",\"weakly positive\",\"weakly negative\",\"Neutral\",\"Neutral\",\"Neutral\",\"Neutral\",\"Neutral\",\"weakly negative\",\"weakly positive\",\"weakly positive\",\"Neutral\",\"weakly negative\",\"weakly positive\",\"weakly positive\",\"Neutral\",\"positive\",\"weakly positive\",\"Neutral\",\"Neutral\",\"Neutral\",\"Neutral\",\"Neutral\",\"Neutral\",\"weakly positive\",\"weakly negative\",\"Neutral\",\"Neutral\",\"Neutral\",\"Neutral\",\"weakly negative\",\"Neutral\",\"Neutral\",\"weakly positive\",\"weakly negative\",\"Neutral\",\"Neutral\",\"Neutral\",\"weakly negative\",\"Neutral\",\"weakly negative\",\"Neutral\",\"Neutral\",\"Neutral\",\"Neutral\",\"weakly negative\",\"Neutral\",\"weakly positive\",\"weakly positive\",\"Neutral\",\"Neutral\",\"Neutral\",\"weakly negative\",\"Neutral\",\"weakly negative\",\"Neutral\",\"Neutral\",\"weakly positive\",\"Neutral\",\"weakly negative\",\"Neutral\",\"Neutral\",\"Neutral\",\"weakly positive\",\"Neutral\",\"weakly negative\",\"weakly negative\",\"weakly positive\",\"Neutral\",\"Neutral\",\"weakly positive\",\"weakly negative\",\"Neutral\",\"Neutral\",\"weakly positive\",\"Neutral\",\"weakly positive\",\"Neutral\",\"Neutral\",\"weakly positive\",\"weakly negative\",\"weakly negative\",\"Neutral\",\"weakly negative\",\"Neutral\",\"weakly positive\",\"Neutral\",\"Neutral\",\"Neutral\",\"Neutral\",\"Neutral\",\"Neutral\",\"weakly positive\",\"Neutral\",\"Neutral\",\"very negative\",\"negative\",\"weakly negative\",\"Neutral\",\"weakly positive\",\"positive\",\"very positive\"],\"xaxis\":\"x\",\"y\":[1,1,1,1,1,1,1,1,1,1,1,1,1,1,1,1,1,1,1,1,1,1,1,1,1,1,1,1,1,1,1,1,1,1,1,1,1,1,1,1,1,1,1,1,1,1,1,1,1,1,1,1,1,1,1,1,1,1,1,1,1,1,1,1,1,1,1,1,1,1,1,1,1,1,1,1,1,1,1,1,1,1,1,1,1,1,1,1,1,1,1,1,1,1,1,1,1,1,1,1,1,1,1,1,1,1,1,1,1,1,1,1,1,1,1,1,1,1,1,1,1,1,1,1,1,1,1,1,1,1,1,1,1,1,1,1,1,1,1,1,1,1,1,1,1,1,1,1,1,1,1,1,1,1,1,1,1,1,1,1,1,1,1,1,1,1,1,1,1,1,1,1,1,1,1,1,1,1,1,1,1,1,1,1,1,1,1,1,1,1,1,1,1,1,1,1,1,1,1,1,1,1,1,1,1,1,1,1,1,1,1,1,1,1,1,1,1,1,1,1,1,1,1,1,1,1,1,1,1,1,1,1,1,1,1,1,1,1,1,1,1,1,1,1,1,1,1,1,1,1,1,1,1,1,1,1,1,1,1,1,1,1,1,1,1,1,1,1,1,1,1,1,1,1,1,1,1,1,1,1,1,1,1,1,1,1,1,1,1,1,1,1,1,1,1,1,1,1,1,1,1,1,1,1,1,1,1,1,1,1,1,1,1,1,1,1,1,1,1,1,1,1,1,1,1,1,1,1,1,1,1,1,1,1,1,1,1,1,1,1,1,1,1,1,1,1,1,1,1,1,1,1,1,1,1,1,1,1,1,1,1,1,1,1,1,1,1,1,1,1,1,1,1,1,1,1,1,1,1,1,1,1,1,1,1,1,1,1,1,1,1,1,1,1,1,1,1,1,1,1,1,1,1,1,1,1,1,1,1,1,1,1,1,1,1,1,1,1,1,1,1,1,1,1,1,1,1,1,1,1,1,1,1,1,1,1,1,1,1,1,1,1,1,1,1,1,1,1,1,1,1,1,1,1,1,1,1,1,1,1,1,1,1,1,1,1,1,1,1,1,1,1,1,1,1,1,1,1,1,1,1,1,1,1,1,1,1,1,1,1,1,1,1,1,1,1,1,1,1,1,1,1,1,1,1,1,1,1,1,1,1,1,1,1,1,1,1,1,1,1,1,1,1,1,1,1,1,1,1,1,1,1,1,1,1,1,1,1,1,1,1,1,1,1,1,1,1,1,1,1,1,1,1,1,1,1,1,1,1,1,1,1,1,1,1,1,1,1,1,1,1,1,1,1,1,1,1,1,1,1,1,1,1,1,1,1,1,1,1,1,1,1,1,1,1,1,1,1,1,1,1,1,1,1,1,1,1,1,1,1,1,1,1,1,1,1,1,1,1,1,1,1,1,1,1,1,1,1,1,1,1,1,1,1,1,1,1,1,1,1,1,1,1,1,1,1,1,1,1,1,1,1,1,1,1,1,1,1,1,1,1,1,1,1,1,1,1,1,1,1,1,1,1,1,1,1,1,1,1,1,1,1,1,1,1,1,1,1,1,1,1,1,1],\"yaxis\":\"y\",\"type\":\"bar\"},{\"alignmentgroup\":\"True\",\"hovertemplate\":\"audio_7=%{x}<br>count=%{y}<extra></extra>\",\"legendgroup\":\"\",\"marker\":{\"color\":\"#636efa\",\"pattern\":{\"shape\":\"\"}},\"name\":\"\",\"offsetgroup\":\"\",\"orientation\":\"v\",\"showlegend\":false,\"textposition\":\"auto\",\"x\":[\"weakly positive\",\"weakly positive\",\"weakly positive\",\"weakly positive\",\"weakly positive\",\"weakly positive\",\"weakly positive\",\"Neutral\",\"weakly positive\",\"weakly positive\",\"weakly positive\",\"weakly positive\",\"weakly positive\",\"Neutral\",\"weakly positive\",\"Neutral\",\"positive\",\"weakly positive\",\"weakly positive\",\"weakly positive\",\"weakly positive\",\"Neutral\",\"weakly positive\",\"weakly positive\",\"weakly positive\",\"weakly positive\",\"weakly positive\",\"Neutral\",\"Neutral\",\"weakly positive\",\"weakly positive\",\"Neutral\",\"weakly positive\",\"weakly positive\",\"weakly positive\",\"Neutral\",\"Neutral\",\"weakly positive\",\"weakly positive\",\"weakly positive\",\"weakly positive\",\"weakly positive\",\"weakly positive\",\"weakly positive\",\"Neutral\",\"weakly positive\",\"weakly positive\",\"weakly positive\",\"Neutral\",\"weakly positive\",\"weakly positive\",\"Neutral\",\"weakly positive\",\"weakly positive\",\"Neutral\",\"Neutral\",\"Neutral\",\"Neutral\",\"weakly positive\",\"positive\",\"weakly positive\",\"weakly positive\",\"weakly positive\",\"weakly positive\",\"Neutral\",\"weakly positive\",\"weakly positive\",\"weakly positive\",\"weakly positive\",\"Neutral\",\"Neutral\",\"weakly positive\",\"Neutral\",\"weakly positive\",\"weakly positive\",\"weakly positive\",\"weakly positive\",\"weakly positive\",\"weakly positive\",\"weakly positive\",\"weakly positive\",\"weakly positive\",\"weakly positive\",\"Neutral\",\"weakly positive\",\"weakly positive\",\"weakly positive\",\"Neutral\",\"weakly positive\",\"weakly positive\",\"weakly positive\",\"weakly positive\",\"weakly positive\",\"weakly positive\",\"weakly positive\",\"weakly positive\",\"weakly positive\",\"Neutral\",\"positive\",\"Neutral\",\"weakly positive\",\"Neutral\",\"Neutral\",\"weakly positive\",\"weakly positive\",\"weakly positive\",\"weakly positive\",\"weakly positive\",\"Neutral\",\"Neutral\",\"weakly positive\",\"Neutral\",\"weakly positive\",\"weakly positive\",\"weakly positive\",\"weakly positive\",\"weakly positive\",\"weakly positive\",\"weakly positive\",\"weakly positive\",\"Neutral\",\"weakly positive\",\"weakly positive\",\"weakly positive\",\"weakly positive\",\"Neutral\",\"weakly positive\",\"weakly positive\",\"weakly positive\",\"weakly positive\",\"Neutral\",\"weakly positive\",\"weakly positive\",\"weakly positive\",\"weakly positive\",\"weakly positive\",\"weakly positive\",\"Neutral\",\"weakly positive\",\"weakly positive\",\"weakly positive\",\"weakly positive\",\"weakly positive\",\"weakly positive\",\"weakly positive\",\"Neutral\",\"weakly positive\",\"Neutral\",\"weakly positive\",\"Neutral\",\"weakly positive\",\"weakly positive\",\"weakly positive\",\"Neutral\",\"weakly positive\",\"weakly positive\",\"positive\",\"weakly positive\",\"positive\",\"Neutral\",\"weakly positive\",\"weakly positive\",\"weakly positive\",\"weakly positive\",\"weakly positive\",\"weakly positive\",\"weakly positive\",\"weakly positive\",\"weakly positive\",\"weakly positive\",\"weakly positive\",\"Neutral\",\"Neutral\",\"Neutral\",\"weakly positive\",\"weakly positive\",\"Neutral\",\"weakly positive\",\"weakly positive\",\"Neutral\",\"weakly positive\",\"weakly positive\",\"weakly positive\",\"weakly positive\",\"weakly positive\",\"weakly positive\",\"weakly positive\",\"weakly positive\",\"weakly positive\",\"Neutral\",\"weakly positive\",\"weakly positive\",\"weakly positive\",\"weakly positive\",\"weakly positive\",\"Neutral\",\"weakly positive\",\"weakly positive\",\"weakly positive\",\"Neutral\",\"weakly positive\",\"weakly positive\",\"weakly positive\",\"Neutral\",\"weakly positive\",\"Neutral\",\"weakly positive\",\"weakly positive\",\"weakly positive\",\"weakly positive\",\"weakly positive\",\"weakly positive\",\"weakly positive\",\"weakly positive\",\"Neutral\",\"weakly positive\",\"weakly positive\",\"weakly positive\",\"weakly positive\",\"weakly positive\",\"weakly positive\",\"weakly positive\",\"weakly positive\",\"weakly positive\",\"Neutral\",\"weakly positive\",\"weakly positive\",\"weakly positive\",\"weakly positive\",\"Neutral\",\"Neutral\",\"Neutral\",\"weakly positive\",\"weakly positive\",\"weakly positive\",\"Neutral\",\"Neutral\",\"weakly positive\",\"weakly positive\",\"weakly positive\",\"weakly positive\",\"weakly positive\",\"weakly positive\",\"Neutral\",\"weakly positive\",\"weakly positive\",\"Neutral\",\"weakly positive\",\"weakly positive\",\"weakly positive\",\"weakly positive\",\"weakly positive\",\"weakly positive\",\"weakly positive\",\"Neutral\",\"weakly positive\",\"weakly positive\",\"weakly positive\",\"Neutral\",\"weakly positive\",\"weakly positive\",\"positive\",\"weakly positive\",\"Neutral\",\"weakly positive\",\"weakly positive\",\"weakly positive\",\"Neutral\",\"Neutral\",\"weakly positive\",\"weakly positive\",\"weakly positive\",\"Neutral\",\"Neutral\",\"weakly positive\",\"weakly positive\",\"weakly positive\",\"weakly positive\",\"Neutral\",\"Neutral\",\"Neutral\",\"weakly positive\",\"Neutral\",\"weakly positive\",\"weakly positive\",\"weakly positive\",\"Neutral\",\"weakly positive\",\"Neutral\",\"Neutral\",\"weakly positive\",\"weakly positive\",\"weakly positive\",\"weakly positive\",\"Neutral\",\"weakly positive\",\"weakly positive\",\"weakly positive\",\"Neutral\",\"Neutral\",\"weakly positive\",\"weakly positive\",\"weakly positive\",\"weakly positive\",\"Neutral\",\"Neutral\",\"weakly positive\",\"weakly positive\",\"weakly positive\",\"weakly positive\",\"weakly positive\",\"weakly positive\",\"Neutral\",\"weakly positive\",\"weakly positive\",\"weakly positive\",\"Neutral\",\"weakly positive\",\"weakly positive\",\"weakly positive\",\"weakly positive\",\"weakly positive\",\"Neutral\",\"weakly positive\",\"weakly positive\",\"weakly positive\",\"weakly positive\",\"weakly positive\",\"weakly positive\",\"weakly positive\",\"weakly positive\",\"weakly positive\",\"weakly positive\",\"weakly positive\",\"weakly positive\",\"Neutral\",\"weakly positive\",\"weakly positive\",\"weakly positive\",\"weakly positive\",\"weakly positive\",\"weakly positive\",\"weakly positive\",\"Neutral\",\"Neutral\",\"weakly positive\",\"weakly positive\",\"weakly positive\",\"weakly positive\",\"Neutral\",\"Neutral\",\"weakly positive\",\"weakly positive\",\"weakly positive\",\"weakly positive\",\"weakly positive\",\"weakly positive\",\"weakly positive\",\"Neutral\",\"weakly positive\",\"weakly positive\",\"Neutral\",\"Neutral\",\"weakly positive\",\"Neutral\",\"weakly positive\",\"weakly positive\",\"weakly positive\",\"weakly positive\",\"weakly positive\",\"weakly positive\",\"Neutral\",\"weakly positive\",\"weakly positive\",\"weakly positive\",\"weakly positive\",\"weakly positive\",\"weakly positive\",\"Neutral\",\"weakly positive\",\"weakly positive\",\"weakly positive\",\"Neutral\",\"Neutral\",\"Neutral\",\"Neutral\",\"weakly positive\",\"weakly positive\",\"weakly positive\",\"weakly positive\",\"Neutral\",\"weakly positive\",\"weakly positive\",\"Neutral\",\"Neutral\",\"weakly positive\",\"weakly positive\",\"weakly positive\",\"weakly positive\",\"Neutral\",\"Neutral\",\"weakly positive\",\"weakly positive\",\"weakly positive\",\"weakly positive\",\"weakly positive\",\"Neutral\",\"weakly positive\",\"weakly positive\",\"weakly positive\",\"weakly positive\",\"weakly positive\",\"weakly positive\",\"Neutral\",\"Neutral\",\"weakly positive\",\"Neutral\",\"weakly positive\",\"weakly positive\",\"weakly positive\",\"weakly positive\",\"Neutral\",\"weakly positive\",\"weakly positive\",\"weakly positive\",\"Neutral\",\"positive\",\"Neutral\",\"weakly positive\",\"weakly positive\",\"Neutral\",\"weakly positive\",\"weakly positive\",\"Neutral\",\"Neutral\",\"Neutral\",\"weakly positive\",\"weakly positive\",\"weakly positive\",\"Neutral\",\"weakly positive\",\"Neutral\",\"weakly positive\",\"weakly positive\",\"weakly positive\",\"weakly positive\",\"weakly positive\",\"weakly positive\",\"Neutral\",\"Neutral\",\"Neutral\",\"Neutral\",\"Neutral\",\"weakly positive\",\"Neutral\",\"weakly positive\",\"weakly positive\",\"weakly positive\",\"Neutral\",\"weakly positive\",\"weakly positive\",\"very positive\",\"weakly positive\",\"weakly positive\",\"weakly positive\",\"weakly positive\",\"Neutral\",\"weakly positive\",\"weakly positive\",\"weakly positive\",\"weakly positive\",\"weakly positive\",\"weakly positive\",\"weakly positive\",\"weakly positive\",\"weakly positive\",\"Neutral\",\"Neutral\",\"weakly positive\",\"weakly positive\",\"weakly positive\",\"weakly positive\",\"weakly positive\",\"positive\",\"weakly positive\",\"weakly positive\",\"weakly positive\",\"weakly positive\",\"Neutral\",\"weakly positive\",\"weakly positive\",\"weakly positive\",\"weakly positive\",\"weakly positive\",\"weakly positive\",\"weakly positive\",\"weakly positive\",\"weakly positive\",\"weakly positive\",\"Neutral\",\"Neutral\",\"Neutral\",\"weakly positive\",\"weakly positive\",\"Neutral\",\"Neutral\",\"weakly positive\",\"Neutral\",\"weakly positive\",\"weakly positive\",\"weakly positive\",\"weakly positive\",\"weakly positive\",\"weakly positive\",\"Neutral\",\"weakly positive\",\"weakly positive\",\"Neutral\",\"weakly positive\",\"weakly positive\",\"weakly positive\",\"Neutral\",\"weakly positive\",\"weakly positive\",\"weakly positive\",\"weakly positive\",\"weakly positive\",\"weakly positive\",\"Neutral\",\"weakly positive\",\"weakly positive\",\"weakly positive\",\"Neutral\",\"weakly positive\",\"weakly positive\",\"Neutral\",\"Neutral\",\"weakly positive\",\"weakly positive\",\"weakly positive\",\"weakly positive\",\"weakly positive\",\"weakly positive\",\"weakly positive\",\"Neutral\",\"weakly positive\",\"weakly positive\",\"weakly positive\",\"weakly positive\",\"weakly positive\",\"weakly positive\",\"Neutral\",\"positive\",\"weakly positive\",\"Neutral\",\"Neutral\",\"weakly positive\",\"weakly positive\",\"weakly positive\",\"weakly positive\",\"Neutral\",\"weakly positive\",\"weakly positive\",\"Neutral\",\"weakly positive\",\"weakly positive\",\"Neutral\",\"weakly positive\",\"weakly positive\",\"weakly positive\",\"weakly positive\",\"weakly positive\",\"weakly positive\",\"weakly positive\",\"weakly positive\",\"weakly positive\",\"weakly positive\",\"weakly positive\",\"Neutral\",\"weakly positive\",\"weakly positive\",\"Neutral\",\"Neutral\",\"weakly positive\",\"weakly positive\",\"weakly positive\",\"Neutral\",\"weakly positive\",\"Neutral\",\"weakly positive\",\"weakly positive\",\"Neutral\",\"positive\",\"weakly positive\",\"weakly positive\",\"weakly positive\",\"weakly positive\",\"weakly positive\",\"weakly positive\",\"Neutral\",\"weakly positive\",\"weakly positive\",\"weakly positive\",\"weakly positive\",\"Neutral\",\"weakly positive\",\"weakly positive\",\"weakly positive\",\"weakly positive\",\"Neutral\",\"weakly positive\",\"Neutral\",\"weakly positive\",\"weakly positive\",\"weakly positive\",\"weakly positive\",\"weakly positive\",\"weakly positive\",\"weakly positive\",\"weakly positive\",\"weakly positive\",\"Neutral\",\"weakly positive\",\"weakly positive\",\"weakly positive\",\"Neutral\",\"weakly positive\",\"weakly positive\",\"weakly positive\",\"weakly positive\",\"Neutral\",\"weakly positive\",\"positive\",\"weakly positive\",\"weakly positive\",\"weakly positive\",\"weakly positive\",\"weakly positive\",\"weakly positive\",\"weakly positive\",\"Neutral\",\"weakly positive\",\"weakly positive\",\"weakly positive\",\"weakly positive\",\"weakly positive\",\"weakly positive\",\"Neutral\",\"weakly positive\",\"Neutral\",\"weakly positive\",\"weakly positive\",\"weakly positive\",\"positive\",\"weakly positive\",\"weakly positive\",\"Neutral\",\"weakly positive\",\"weakly positive\",\"weakly positive\",\"weakly positive\",\"Neutral\",\"weakly positive\",\"Neutral\",\"weakly positive\",\"Neutral\",\"Neutral\",\"Neutral\",\"Neutral\",\"weakly positive\",\"Neutral\",\"weakly positive\",\"Neutral\",\"positive\",\"weakly positive\",\"weakly positive\",\"weakly positive\",\"weakly positive\",\"weakly positive\",\"weakly positive\",\"Neutral\",\"weakly positive\",\"weakly positive\",\"weakly positive\",\"weakly positive\",\"weakly positive\",\"very negative\",\"negative\",\"weakly negative\",\"Neutral\",\"weakly positive\",\"positive\",\"very positive\"],\"xaxis\":\"x2\",\"y\":[1,1,1,1,1,1,1,1,1,1,1,1,1,1,1,1,1,1,1,1,1,1,1,1,1,1,1,1,1,1,1,1,1,1,1,1,1,1,1,1,1,1,1,1,1,1,1,1,1,1,1,1,1,1,1,1,1,1,1,1,1,1,1,1,1,1,1,1,1,1,1,1,1,1,1,1,1,1,1,1,1,1,1,1,1,1,1,1,1,1,1,1,1,1,1,1,1,1,1,1,1,1,1,1,1,1,1,1,1,1,1,1,1,1,1,1,1,1,1,1,1,1,1,1,1,1,1,1,1,1,1,1,1,1,1,1,1,1,1,1,1,1,1,1,1,1,1,1,1,1,1,1,1,1,1,1,1,1,1,1,1,1,1,1,1,1,1,1,1,1,1,1,1,1,1,1,1,1,1,1,1,1,1,1,1,1,1,1,1,1,1,1,1,1,1,1,1,1,1,1,1,1,1,1,1,1,1,1,1,1,1,1,1,1,1,1,1,1,1,1,1,1,1,1,1,1,1,1,1,1,1,1,1,1,1,1,1,1,1,1,1,1,1,1,1,1,1,1,1,1,1,1,1,1,1,1,1,1,1,1,1,1,1,1,1,1,1,1,1,1,1,1,1,1,1,1,1,1,1,1,1,1,1,1,1,1,1,1,1,1,1,1,1,1,1,1,1,1,1,1,1,1,1,1,1,1,1,1,1,1,1,1,1,1,1,1,1,1,1,1,1,1,1,1,1,1,1,1,1,1,1,1,1,1,1,1,1,1,1,1,1,1,1,1,1,1,1,1,1,1,1,1,1,1,1,1,1,1,1,1,1,1,1,1,1,1,1,1,1,1,1,1,1,1,1,1,1,1,1,1,1,1,1,1,1,1,1,1,1,1,1,1,1,1,1,1,1,1,1,1,1,1,1,1,1,1,1,1,1,1,1,1,1,1,1,1,1,1,1,1,1,1,1,1,1,1,1,1,1,1,1,1,1,1,1,1,1,1,1,1,1,1,1,1,1,1,1,1,1,1,1,1,1,1,1,1,1,1,1,1,1,1,1,1,1,1,1,1,1,1,1,1,1,1,1,1,1,1,1,1,1,1,1,1,1,1,1,1,1,1,1,1,1,1,1,1,1,1,1,1,1,1,1,1,1,1,1,1,1,1,1,1,1,1,1,1,1,1,1,1,1,1,1,1,1,1,1,1,1,1,1,1,1,1,1,1,1,1,1,1,1,1,1,1,1,1,1,1,1,1,1,1,1,1,1,1,1,1,1,1,1,1,1,1,1,1,1,1,1,1,1,1,1,1,1,1,1,1,1,1,1,1,1,1,1,1,1,1,1,1,1,1,1,1,1,1,1,1,1,1,1,1,1,1,1,1,1,1,1,1,1,1,1,1,1,1,1,1,1,1,1,1,1,1,1,1,1,1,1,1,1,1,1,1,1,1,1,1,1,1,1,1,1,1,1,1,1,1,1,1,1,1,1,1,1,1,1,1,1,1,1,1,1,1,1,1,1,1,1,1,1,1,1,1,1,1,1,1,1,1,1,1,1,1,1,1,1,1,1,1,1,1,1],\"yaxis\":\"y2\",\"type\":\"bar\"},{\"alignmentgroup\":\"True\",\"hovertemplate\":\"video_7=%{x}<br>count=%{y}<extra></extra>\",\"legendgroup\":\"\",\"marker\":{\"color\":\"#636efa\",\"pattern\":{\"shape\":\"\"}},\"name\":\"\",\"offsetgroup\":\"\",\"orientation\":\"v\",\"showlegend\":false,\"textposition\":\"auto\",\"x\":[\"Neutral\",\"Neutral\",\"Neutral\",\"Neutral\",\"Neutral\",\"Neutral\",\"Neutral\",\"Neutral\",\"Neutral\",\"Neutral\",\"Neutral\",\"Neutral\",\"Neutral\",\"Neutral\",\"Neutral\",\"Neutral\",\"Neutral\",\"Neutral\",\"Neutral\",\"Neutral\",\"Neutral\",\"Neutral\",\"Neutral\",\"Neutral\",\"Neutral\",\"Neutral\",\"Neutral\",\"Neutral\",\"Neutral\",\"Neutral\",\"Neutral\",\"Neutral\",\"Neutral\",\"Neutral\",\"Neutral\",\"Neutral\",\"Neutral\",\"Neutral\",\"Neutral\",\"Neutral\",\"Neutral\",\"Neutral\",\"Neutral\",\"Neutral\",\"Neutral\",\"Neutral\",\"Neutral\",\"Neutral\",\"Neutral\",\"Neutral\",\"Neutral\",\"Neutral\",\"Neutral\",\"Neutral\",\"Neutral\",\"Neutral\",\"Neutral\",\"Neutral\",\"Neutral\",\"Neutral\",\"Neutral\",\"Neutral\",\"Neutral\",\"Neutral\",\"Neutral\",\"Neutral\",\"Neutral\",\"Neutral\",\"Neutral\",\"Neutral\",\"Neutral\",\"Neutral\",\"Neutral\",\"Neutral\",\"Neutral\",\"Neutral\",\"Neutral\",\"Neutral\",\"Neutral\",\"Neutral\",\"Neutral\",\"Neutral\",\"Neutral\",\"Neutral\",\"Neutral\",\"Neutral\",\"Neutral\",\"Neutral\",\"Neutral\",\"Neutral\",\"Neutral\",\"Neutral\",\"Neutral\",\"Neutral\",\"Neutral\",\"Neutral\",\"Neutral\",\"Neutral\",\"Neutral\",\"Neutral\",\"Neutral\",\"Neutral\",\"Neutral\",\"Neutral\",\"Neutral\",\"Neutral\",\"Neutral\",\"Neutral\",\"Neutral\",\"Neutral\",\"Neutral\",\"Neutral\",\"Neutral\",\"Neutral\",\"Neutral\",\"Neutral\",\"Neutral\",\"Neutral\",\"Neutral\",\"Neutral\",\"Neutral\",\"Neutral\",\"Neutral\",\"Neutral\",\"Neutral\",\"Neutral\",\"Neutral\",\"Neutral\",\"Neutral\",\"Neutral\",\"Neutral\",\"Neutral\",\"Neutral\",\"Neutral\",\"Neutral\",\"Neutral\",\"Neutral\",\"Neutral\",\"Neutral\",\"Neutral\",\"Neutral\",\"Neutral\",\"Neutral\",\"Neutral\",\"Neutral\",\"Neutral\",\"Neutral\",\"Neutral\",\"Neutral\",\"Neutral\",\"Neutral\",\"Neutral\",\"Neutral\",\"Neutral\",\"Neutral\",\"Neutral\",\"Neutral\",\"Neutral\",\"Neutral\",\"Neutral\",\"Neutral\",\"Neutral\",\"Neutral\",\"Neutral\",\"Neutral\",\"Neutral\",\"Neutral\",\"Neutral\",\"Neutral\",\"Neutral\",\"weakly positive\",\"Neutral\",\"Neutral\",\"Neutral\",\"Neutral\",\"Neutral\",\"Neutral\",\"Neutral\",\"Neutral\",\"Neutral\",\"Neutral\",\"Neutral\",\"Neutral\",\"Neutral\",\"Neutral\",\"Neutral\",\"Neutral\",\"Neutral\",\"Neutral\",\"Neutral\",\"Neutral\",\"Neutral\",\"Neutral\",\"Neutral\",\"Neutral\",\"Neutral\",\"Neutral\",\"Neutral\",\"Neutral\",\"Neutral\",\"Neutral\",\"Neutral\",\"Neutral\",\"Neutral\",\"Neutral\",\"Neutral\",\"Neutral\",\"Neutral\",\"Neutral\",\"Neutral\",\"Neutral\",\"Neutral\",\"Neutral\",\"Neutral\",\"Neutral\",\"Neutral\",\"Neutral\",\"Neutral\",\"Neutral\",\"Neutral\",\"Neutral\",\"Neutral\",\"Neutral\",\"Neutral\",\"Neutral\",\"Neutral\",\"Neutral\",\"Neutral\",\"Neutral\",\"Neutral\",\"Neutral\",\"Neutral\",\"Neutral\",\"Neutral\",\"Neutral\",\"Neutral\",\"Neutral\",\"Neutral\",\"Neutral\",\"Neutral\",\"Neutral\",\"Neutral\",\"Neutral\",\"Neutral\",\"Neutral\",\"Neutral\",\"Neutral\",\"Neutral\",\"Neutral\",\"Neutral\",\"Neutral\",\"Neutral\",\"Neutral\",\"Neutral\",\"Neutral\",\"Neutral\",\"Neutral\",\"Neutral\",\"Neutral\",\"Neutral\",\"Neutral\",\"Neutral\",\"Neutral\",\"Neutral\",\"Neutral\",\"Neutral\",\"Neutral\",\"Neutral\",\"Neutral\",\"Neutral\",\"Neutral\",\"Neutral\",\"Neutral\",\"Neutral\",\"Neutral\",\"Neutral\",\"Neutral\",\"Neutral\",\"Neutral\",\"Neutral\",\"Neutral\",\"Neutral\",\"Neutral\",\"Neutral\",\"Neutral\",\"Neutral\",\"Neutral\",\"Neutral\",\"Neutral\",\"Neutral\",\"Neutral\",\"Neutral\",\"Neutral\",\"Neutral\",\"Neutral\",\"Neutral\",\"Neutral\",\"Neutral\",\"Neutral\",\"Neutral\",\"Neutral\",\"Neutral\",\"Neutral\",\"Neutral\",\"Neutral\",\"Neutral\",\"Neutral\",\"Neutral\",\"Neutral\",\"Neutral\",\"Neutral\",\"Neutral\",\"Neutral\",\"Neutral\",\"Neutral\",\"Neutral\",\"Neutral\",\"Neutral\",\"Neutral\",\"Neutral\",\"Neutral\",\"Neutral\",\"Neutral\",\"Neutral\",\"Neutral\",\"Neutral\",\"Neutral\",\"Neutral\",\"Neutral\",\"Neutral\",\"Neutral\",\"Neutral\",\"Neutral\",\"Neutral\",\"Neutral\",\"Neutral\",\"Neutral\",\"Neutral\",\"Neutral\",\"Neutral\",\"Neutral\",\"Neutral\",\"Neutral\",\"Neutral\",\"Neutral\",\"Neutral\",\"Neutral\",\"Neutral\",\"Neutral\",\"Neutral\",\"Neutral\",\"Neutral\",\"Neutral\",\"Neutral\",\"Neutral\",\"Neutral\",\"Neutral\",\"Neutral\",\"Neutral\",\"Neutral\",\"Neutral\",\"Neutral\",\"Neutral\",\"Neutral\",\"Neutral\",\"Neutral\",\"Neutral\",\"Neutral\",\"Neutral\",\"Neutral\",\"Neutral\",\"Neutral\",\"Neutral\",\"Neutral\",\"Neutral\",\"Neutral\",\"Neutral\",\"Neutral\",\"Neutral\",\"Neutral\",\"Neutral\",\"Neutral\",\"Neutral\",\"Neutral\",\"Neutral\",\"Neutral\",\"Neutral\",\"Neutral\",\"Neutral\",\"Neutral\",\"Neutral\",\"Neutral\",\"Neutral\",\"Neutral\",\"Neutral\",\"Neutral\",\"Neutral\",\"Neutral\",\"Neutral\",\"Neutral\",\"Neutral\",\"Neutral\",\"Neutral\",\"Neutral\",\"Neutral\",\"Neutral\",\"Neutral\",\"Neutral\",\"Neutral\",\"Neutral\",\"Neutral\",\"Neutral\",\"Neutral\",\"Neutral\",\"Neutral\",\"Neutral\",\"Neutral\",\"Neutral\",\"Neutral\",\"Neutral\",\"Neutral\",\"Neutral\",\"Neutral\",\"Neutral\",\"Neutral\",\"Neutral\",\"Neutral\",\"Neutral\",\"Neutral\",\"Neutral\",\"Neutral\",\"Neutral\",\"Neutral\",\"Neutral\",\"Neutral\",\"Neutral\",\"Neutral\",\"Neutral\",\"Neutral\",\"Neutral\",\"Neutral\",\"Neutral\",\"Neutral\",\"Neutral\",\"Neutral\",\"Neutral\",\"Neutral\",\"Neutral\",\"Neutral\",\"Neutral\",\"Neutral\",\"Neutral\",\"Neutral\",\"Neutral\",\"Neutral\",\"Neutral\",\"Neutral\",\"Neutral\",\"Neutral\",\"Neutral\",\"Neutral\",\"Neutral\",\"Neutral\",\"Neutral\",\"Neutral\",\"Neutral\",\"Neutral\",\"Neutral\",\"Neutral\",\"Neutral\",\"Neutral\",\"Neutral\",\"Neutral\",\"Neutral\",\"Neutral\",\"Neutral\",\"Neutral\",\"Neutral\",\"Neutral\",\"Neutral\",\"Neutral\",\"Neutral\",\"Neutral\",\"Neutral\",\"Neutral\",\"Neutral\",\"Neutral\",\"Neutral\",\"Neutral\",\"Neutral\",\"Neutral\",\"Neutral\",\"Neutral\",\"Neutral\",\"Neutral\",\"Neutral\",\"Neutral\",\"Neutral\",\"Neutral\",\"Neutral\",\"Neutral\",\"Neutral\",\"Neutral\",\"Neutral\",\"Neutral\",\"Neutral\",\"Neutral\",\"Neutral\",\"Neutral\",\"Neutral\",\"Neutral\",\"Neutral\",\"Neutral\",\"Neutral\",\"Neutral\",\"Neutral\",\"Neutral\",\"Neutral\",\"Neutral\",\"Neutral\",\"Neutral\",\"Neutral\",\"Neutral\",\"Neutral\",\"Neutral\",\"Neutral\",\"Neutral\",\"Neutral\",\"Neutral\",\"Neutral\",\"Neutral\",\"Neutral\",\"Neutral\",\"Neutral\",\"Neutral\",\"Neutral\",\"Neutral\",\"Neutral\",\"Neutral\",\"Neutral\",\"Neutral\",\"Neutral\",\"Neutral\",\"Neutral\",\"Neutral\",\"Neutral\",\"Neutral\",\"Neutral\",\"Neutral\",\"Neutral\",\"Neutral\",\"Neutral\",\"Neutral\",\"Neutral\",\"Neutral\",\"Neutral\",\"Neutral\",\"Neutral\",\"Neutral\",\"Neutral\",\"Neutral\",\"Neutral\",\"Neutral\",\"Neutral\",\"Neutral\",\"Neutral\",\"Neutral\",\"Neutral\",\"Neutral\",\"Neutral\",\"Neutral\",\"Neutral\",\"Neutral\",\"Neutral\",\"Neutral\",\"Neutral\",\"Neutral\",\"Neutral\",\"Neutral\",\"Neutral\",\"Neutral\",\"Neutral\",\"Neutral\",\"Neutral\",\"Neutral\",\"Neutral\",\"Neutral\",\"Neutral\",\"Neutral\",\"Neutral\",\"Neutral\",\"Neutral\",\"Neutral\",\"Neutral\",\"Neutral\",\"Neutral\",\"Neutral\",\"Neutral\",\"Neutral\",\"Neutral\",\"Neutral\",\"Neutral\",\"Neutral\",\"Neutral\",\"Neutral\",\"Neutral\",\"Neutral\",\"Neutral\",\"Neutral\",\"Neutral\",\"Neutral\",\"Neutral\",\"Neutral\",\"Neutral\",\"Neutral\",\"Neutral\",\"Neutral\",\"Neutral\",\"Neutral\",\"Neutral\",\"Neutral\",\"Neutral\",\"Neutral\",\"Neutral\",\"Neutral\",\"Neutral\",\"Neutral\",\"Neutral\",\"Neutral\",\"Neutral\",\"Neutral\",\"Neutral\",\"Neutral\",\"Neutral\",\"Neutral\",\"Neutral\",\"Neutral\",\"Neutral\",\"Neutral\",\"Neutral\",\"Neutral\",\"Neutral\",\"Neutral\",\"Neutral\",\"Neutral\",\"Neutral\",\"Neutral\",\"Neutral\",\"Neutral\",\"Neutral\",\"Neutral\",\"Neutral\",\"Neutral\",\"Neutral\",\"Neutral\",\"Neutral\",\"Neutral\",\"Neutral\",\"Neutral\",\"Neutral\",\"Neutral\",\"Neutral\",\"Neutral\",\"Neutral\",\"Neutral\",\"Neutral\",\"Neutral\",\"Neutral\",\"Neutral\",\"Neutral\",\"Neutral\",\"Neutral\",\"Neutral\",\"Neutral\",\"Neutral\",\"Neutral\",\"Neutral\",\"Neutral\",\"Neutral\",\"Neutral\",\"Neutral\",\"Neutral\",\"Neutral\",\"Neutral\",\"Neutral\",\"Neutral\",\"very negative\",\"negative\",\"weakly negative\",\"Neutral\",\"weakly positive\",\"positive\",\"very positive\"],\"xaxis\":\"x3\",\"y\":[1,1,1,1,1,1,1,1,1,1,1,1,1,1,1,1,1,1,1,1,1,1,1,1,1,1,1,1,1,1,1,1,1,1,1,1,1,1,1,1,1,1,1,1,1,1,1,1,1,1,1,1,1,1,1,1,1,1,1,1,1,1,1,1,1,1,1,1,1,1,1,1,1,1,1,1,1,1,1,1,1,1,1,1,1,1,1,1,1,1,1,1,1,1,1,1,1,1,1,1,1,1,1,1,1,1,1,1,1,1,1,1,1,1,1,1,1,1,1,1,1,1,1,1,1,1,1,1,1,1,1,1,1,1,1,1,1,1,1,1,1,1,1,1,1,1,1,1,1,1,1,1,1,1,1,1,1,1,1,1,1,1,1,1,1,1,1,1,1,1,1,1,1,1,1,1,1,1,1,1,1,1,1,1,1,1,1,1,1,1,1,1,1,1,1,1,1,1,1,1,1,1,1,1,1,1,1,1,1,1,1,1,1,1,1,1,1,1,1,1,1,1,1,1,1,1,1,1,1,1,1,1,1,1,1,1,1,1,1,1,1,1,1,1,1,1,1,1,1,1,1,1,1,1,1,1,1,1,1,1,1,1,1,1,1,1,1,1,1,1,1,1,1,1,1,1,1,1,1,1,1,1,1,1,1,1,1,1,1,1,1,1,1,1,1,1,1,1,1,1,1,1,1,1,1,1,1,1,1,1,1,1,1,1,1,1,1,1,1,1,1,1,1,1,1,1,1,1,1,1,1,1,1,1,1,1,1,1,1,1,1,1,1,1,1,1,1,1,1,1,1,1,1,1,1,1,1,1,1,1,1,1,1,1,1,1,1,1,1,1,1,1,1,1,1,1,1,1,1,1,1,1,1,1,1,1,1,1,1,1,1,1,1,1,1,1,1,1,1,1,1,1,1,1,1,1,1,1,1,1,1,1,1,1,1,1,1,1,1,1,1,1,1,1,1,1,1,1,1,1,1,1,1,1,1,1,1,1,1,1,1,1,1,1,1,1,1,1,1,1,1,1,1,1,1,1,1,1,1,1,1,1,1,1,1,1,1,1,1,1,1,1,1,1,1,1,1,1,1,1,1,1,1,1,1,1,1,1,1,1,1,1,1,1,1,1,1,1,1,1,1,1,1,1,1,1,1,1,1,1,1,1,1,1,1,1,1,1,1,1,1,1,1,1,1,1,1,1,1,1,1,1,1,1,1,1,1,1,1,1,1,1,1,1,1,1,1,1,1,1,1,1,1,1,1,1,1,1,1,1,1,1,1,1,1,1,1,1,1,1,1,1,1,1,1,1,1,1,1,1,1,1,1,1,1,1,1,1,1,1,1,1,1,1,1,1,1,1,1,1,1,1,1,1,1,1,1,1,1,1,1,1,1,1,1,1,1,1,1,1,1,1,1,1,1,1,1,1,1,1,1,1,1,1,1,1,1,1,1,1,1,1,1,1,1,1,1,1,1,1,1,1,1,1,1,1,1,1,1,1,1,1,1,1,1,1,1,1,1,1,1,1,1,1,1,1,1,1,1,1,1,1,1,1,1,1,1,1,1,1,1,1,1],\"yaxis\":\"y3\",\"type\":\"bar\"},{\"alignmentgroup\":\"True\",\"hovertemplate\":\"preds_7=%{x}<br>count=%{y}<extra></extra>\",\"legendgroup\":\"\",\"marker\":{\"color\":\"#636efa\",\"pattern\":{\"shape\":\"\"}},\"name\":\"\",\"offsetgroup\":\"\",\"orientation\":\"v\",\"showlegend\":false,\"textposition\":\"auto\",\"x\":[\"weakly positive\",\"weakly positive\",\"Neutral\",\"weakly positive\",\"weakly negative\",\"Neutral\",\"Neutral\",\"weakly positive\",\"Neutral\",\"weakly positive\",\"positive\",\"weakly negative\",\"weakly negative\",\"Neutral\",\"Neutral\",\"Neutral\",\"Neutral\",\"Neutral\",\"weakly negative\",\"weakly positive\",\"Neutral\",\"Neutral\",\"weakly positive\",\"weakly positive\",\"Neutral\",\"weakly positive\",\"weakly positive\",\"weakly positive\",\"Neutral\",\"Neutral\",\"Neutral\",\"Neutral\",\"weakly positive\",\"Neutral\",\"Neutral\",\"Neutral\",\"Neutral\",\"Neutral\",\"weakly positive\",\"weakly negative\",\"Neutral\",\"weakly positive\",\"Neutral\",\"Neutral\",\"positive\",\"weakly positive\",\"weakly negative\",\"Neutral\",\"weakly positive\",\"weakly positive\",\"weakly positive\",\"Neutral\",\"weakly negative\",\"weakly negative\",\"Neutral\",\"weakly positive\",\"Neutral\",\"weakly positive\",\"positive\",\"weakly positive\",\"weakly negative\",\"Neutral\",\"Neutral\",\"weakly positive\",\"weakly negative\",\"Neutral\",\"weakly negative\",\"weakly positive\",\"weakly negative\",\"Neutral\",\"Neutral\",\"Neutral\",\"Neutral\",\"weakly negative\",\"Neutral\",\"positive\",\"Neutral\",\"Neutral\",\"weakly negative\",\"weakly positive\",\"weakly negative\",\"Neutral\",\"Neutral\",\"weakly positive\",\"Neutral\",\"weakly positive\",\"Neutral\",\"weakly positive\",\"Neutral\",\"weakly positive\",\"Neutral\",\"Neutral\",\"weakly positive\",\"weakly positive\",\"weakly negative\",\"Neutral\",\"Neutral\",\"weakly positive\",\"weakly negative\",\"weakly positive\",\"weakly negative\",\"Neutral\",\"weakly positive\",\"Neutral\",\"Neutral\",\"weakly negative\",\"weakly positive\",\"weakly positive\",\"Neutral\",\"weakly positive\",\"positive\",\"Neutral\",\"weakly positive\",\"positive\",\"Neutral\",\"weakly positive\",\"Neutral\",\"positive\",\"very positive\",\"weakly negative\",\"weakly positive\",\"weakly positive\",\"Neutral\",\"positive\",\"weakly negative\",\"weakly positive\",\"weakly negative\",\"Neutral\",\"weakly negative\",\"Neutral\",\"Neutral\",\"weakly negative\",\"Neutral\",\"weakly negative\",\"Neutral\",\"Neutral\",\"Neutral\",\"weakly negative\",\"weakly positive\",\"Neutral\",\"weakly negative\",\"Neutral\",\"Neutral\",\"weakly positive\",\"Neutral\",\"weakly positive\",\"Neutral\",\"Neutral\",\"weakly positive\",\"weakly negative\",\"Neutral\",\"weakly negative\",\"Neutral\",\"weakly positive\",\"Neutral\",\"weakly positive\",\"weakly negative\",\"Neutral\",\"Neutral\",\"weakly negative\",\"Neutral\",\"weakly negative\",\"weakly negative\",\"weakly positive\",\"weakly positive\",\"Neutral\",\"Neutral\",\"positive\",\"weakly negative\",\"Neutral\",\"weakly negative\",\"Neutral\",\"Neutral\",\"Neutral\",\"Neutral\",\"weakly negative\",\"weakly negative\",\"weakly positive\",\"Neutral\",\"Neutral\",\"positive\",\"weakly positive\",\"weakly negative\",\"weakly negative\",\"positive\",\"Neutral\",\"weakly positive\",\"positive\",\"Neutral\",\"positive\",\"Neutral\",\"Neutral\",\"Neutral\",\"Neutral\",\"weakly negative\",\"Neutral\",\"weakly positive\",\"weakly positive\",\"Neutral\",\"weakly positive\",\"weakly positive\",\"Neutral\",\"Neutral\",\"Neutral\",\"positive\",\"Neutral\",\"weakly negative\",\"Neutral\",\"Neutral\",\"Neutral\",\"weakly positive\",\"Neutral\",\"weakly negative\",\"weakly positive\",\"weakly positive\",\"weakly negative\",\"positive\",\"Neutral\",\"weakly positive\",\"Neutral\",\"weakly negative\",\"Neutral\",\"weakly positive\",\"positive\",\"weakly negative\",\"positive\",\"Neutral\",\"weakly negative\",\"Neutral\",\"weakly positive\",\"weakly negative\",\"Neutral\",\"Neutral\",\"Neutral\",\"Neutral\",\"weakly positive\",\"Neutral\",\"Neutral\",\"weakly positive\",\"Neutral\",\"Neutral\",\"weakly negative\",\"weakly negative\",\"weakly positive\",\"Neutral\",\"Neutral\",\"weakly negative\",\"weakly positive\",\"weakly negative\",\"weakly positive\",\"positive\",\"positive\",\"weakly positive\",\"weakly positive\",\"weakly negative\",\"weakly positive\",\"Neutral\",\"Neutral\",\"Neutral\",\"weakly negative\",\"weakly positive\",\"weakly positive\",\"Neutral\",\"Neutral\",\"Neutral\",\"Neutral\",\"weakly positive\",\"Neutral\",\"Neutral\",\"positive\",\"weakly positive\",\"weakly positive\",\"weakly positive\",\"Neutral\",\"Neutral\",\"Neutral\",\"weakly positive\",\"weakly positive\",\"Neutral\",\"positive\",\"Neutral\",\"weakly positive\",\"weakly positive\",\"weakly positive\",\"weakly negative\",\"Neutral\",\"Neutral\",\"weakly positive\",\"weakly positive\",\"weakly positive\",\"weakly negative\",\"Neutral\",\"Neutral\",\"Neutral\",\"Neutral\",\"weakly negative\",\"positive\",\"weakly negative\",\"weakly positive\",\"Neutral\",\"weakly positive\",\"Neutral\",\"positive\",\"Neutral\",\"positive\",\"weakly positive\",\"weakly negative\",\"weakly positive\",\"Neutral\",\"weakly positive\",\"weakly positive\",\"positive\",\"positive\",\"weakly negative\",\"weakly positive\",\"Neutral\",\"weakly negative\",\"weakly positive\",\"weakly positive\",\"Neutral\",\"Neutral\",\"weakly negative\",\"Neutral\",\"Neutral\",\"Neutral\",\"Neutral\",\"Neutral\",\"weakly negative\",\"weakly negative\",\"weakly negative\",\"weakly positive\",\"Neutral\",\"Neutral\",\"weakly negative\",\"weakly positive\",\"Neutral\",\"weakly negative\",\"weakly positive\",\"weakly negative\",\"Neutral\",\"weakly negative\",\"weakly negative\",\"weakly positive\",\"weakly positive\",\"Neutral\",\"weakly positive\",\"weakly positive\",\"weakly positive\",\"Neutral\",\"positive\",\"weakly positive\",\"positive\",\"Neutral\",\"Neutral\",\"weakly negative\",\"Neutral\",\"weakly positive\",\"weakly negative\",\"Neutral\",\"weakly negative\",\"weakly negative\",\"weakly negative\",\"positive\",\"weakly positive\",\"weakly positive\",\"Neutral\",\"weakly negative\",\"weakly positive\",\"weakly positive\",\"weakly positive\",\"Neutral\",\"Neutral\",\"Neutral\",\"Neutral\",\"weakly negative\",\"Neutral\",\"weakly positive\",\"Neutral\",\"weakly negative\",\"weakly positive\",\"weakly positive\",\"weakly negative\",\"Neutral\",\"Neutral\",\"weakly negative\",\"weakly negative\",\"Neutral\",\"Neutral\",\"Neutral\",\"Neutral\",\"positive\",\"weakly negative\",\"Neutral\",\"Neutral\",\"positive\",\"weakly negative\",\"weakly positive\",\"weakly negative\",\"Neutral\",\"Neutral\",\"Neutral\",\"weakly negative\",\"weakly positive\",\"weakly positive\",\"Neutral\",\"weakly positive\",\"weakly positive\",\"Neutral\",\"positive\",\"weakly positive\",\"weakly positive\",\"weakly positive\",\"weakly positive\",\"weakly positive\",\"weakly positive\",\"weakly positive\",\"Neutral\",\"Neutral\",\"weakly negative\",\"Neutral\",\"weakly negative\",\"Neutral\",\"Neutral\",\"Neutral\",\"Neutral\",\"Neutral\",\"Neutral\",\"weakly negative\",\"weakly positive\",\"negative\",\"Neutral\",\"weakly negative\",\"positive\",\"weakly negative\",\"Neutral\",\"weakly negative\",\"weakly positive\",\"weakly negative\",\"weakly positive\",\"Neutral\",\"Neutral\",\"positive\",\"Neutral\",\"Neutral\",\"Neutral\",\"weakly positive\",\"weakly positive\",\"weakly positive\",\"weakly positive\",\"weakly positive\",\"weakly positive\",\"Neutral\",\"Neutral\",\"weakly negative\",\"Neutral\",\"weakly negative\",\"weakly negative\",\"weakly positive\",\"Neutral\",\"Neutral\",\"weakly positive\",\"weakly positive\",\"weakly negative\",\"Neutral\",\"weakly positive\",\"positive\",\"weakly positive\",\"Neutral\",\"weakly positive\",\"weakly negative\",\"weakly negative\",\"weakly positive\",\"weakly negative\",\"positive\",\"Neutral\",\"weakly negative\",\"weakly positive\",\"weakly positive\",\"weakly positive\",\"weakly positive\",\"weakly positive\",\"Neutral\",\"weakly positive\",\"Neutral\",\"weakly negative\",\"Neutral\",\"weakly negative\",\"weakly negative\",\"Neutral\",\"Neutral\",\"Neutral\",\"Neutral\",\"Neutral\",\"weakly negative\",\"Neutral\",\"negative\",\"weakly negative\",\"weakly positive\",\"Neutral\",\"weakly negative\",\"weakly negative\",\"weakly negative\",\"Neutral\",\"weakly negative\",\"Neutral\",\"Neutral\",\"weakly positive\",\"positive\",\"Neutral\",\"Neutral\",\"weakly negative\",\"weakly positive\",\"Neutral\",\"weakly positive\",\"weakly positive\",\"Neutral\",\"weakly negative\",\"weakly positive\",\"weakly positive\",\"weakly positive\",\"weakly positive\",\"Neutral\",\"Neutral\",\"weakly positive\",\"weakly positive\",\"weakly positive\",\"weakly positive\",\"positive\",\"weakly positive\",\"positive\",\"Neutral\",\"Neutral\",\"Neutral\",\"Neutral\",\"weakly negative\",\"weakly positive\",\"Neutral\",\"positive\",\"very positive\",\"Neutral\",\"weakly positive\",\"weakly negative\",\"positive\",\"weakly negative\",\"weakly positive\",\"Neutral\",\"Neutral\",\"weakly positive\",\"Neutral\",\"weakly negative\",\"Neutral\",\"Neutral\",\"positive\",\"Neutral\",\"Neutral\",\"weakly positive\",\"Neutral\",\"weakly negative\",\"weakly positive\",\"weakly positive\",\"Neutral\",\"weakly positive\",\"Neutral\",\"Neutral\",\"weakly positive\",\"weakly positive\",\"Neutral\",\"weakly positive\",\"Neutral\",\"weakly negative\",\"weakly positive\",\"weakly positive\",\"weakly positive\",\"positive\",\"positive\",\"weakly positive\",\"weakly positive\",\"weakly positive\",\"weakly negative\",\"positive\",\"Neutral\",\"weakly positive\",\"Neutral\",\"weakly positive\",\"weakly positive\",\"weakly positive\",\"Neutral\",\"weakly positive\",\"Neutral\",\"Neutral\",\"Neutral\",\"weakly positive\",\"positive\",\"weakly negative\",\"Neutral\",\"weakly positive\",\"weakly positive\",\"weakly positive\",\"negative\",\"Neutral\",\"weakly positive\",\"weakly positive\",\"Neutral\",\"Neutral\",\"positive\",\"weakly positive\",\"Neutral\",\"positive\",\"weakly positive\",\"Neutral\",\"weakly negative\",\"weakly positive\",\"Neutral\",\"weakly negative\",\"weakly positive\",\"Neutral\",\"weakly negative\",\"Neutral\",\"weakly positive\",\"weakly positive\",\"Neutral\",\"Neutral\",\"Neutral\",\"Neutral\",\"weakly positive\",\"weakly negative\",\"Neutral\",\"Neutral\",\"weakly positive\",\"Neutral\",\"Neutral\",\"weakly positive\",\"weakly negative\",\"weakly positive\",\"Neutral\",\"Neutral\",\"Neutral\",\"weakly negative\",\"positive\",\"weakly positive\",\"Neutral\",\"weakly negative\",\"Neutral\",\"Neutral\",\"Neutral\",\"Neutral\",\"Neutral\",\"weakly negative\",\"weakly negative\",\"Neutral\",\"weakly positive\",\"Neutral\",\"Neutral\",\"weakly negative\",\"weakly positive\",\"Neutral\",\"Neutral\",\"Neutral\",\"weakly positive\",\"Neutral\",\"Neutral\",\"Neutral\",\"weakly negative\",\"weakly positive\",\"Neutral\",\"weakly positive\",\"weakly negative\",\"Neutral\",\"Neutral\",\"weakly positive\",\"Neutral\",\"Neutral\",\"weakly negative\",\"Neutral\",\"weakly negative\",\"weakly positive\",\"weakly positive\",\"weakly positive\",\"weakly positive\",\"Neutral\",\"weakly positive\",\"weakly positive\",\"Neutral\",\"Neutral\",\"Neutral\",\"Neutral\",\"very negative\",\"negative\",\"weakly negative\",\"Neutral\",\"weakly positive\",\"positive\",\"very positive\"],\"xaxis\":\"x4\",\"y\":[1,1,1,1,1,1,1,1,1,1,1,1,1,1,1,1,1,1,1,1,1,1,1,1,1,1,1,1,1,1,1,1,1,1,1,1,1,1,1,1,1,1,1,1,1,1,1,1,1,1,1,1,1,1,1,1,1,1,1,1,1,1,1,1,1,1,1,1,1,1,1,1,1,1,1,1,1,1,1,1,1,1,1,1,1,1,1,1,1,1,1,1,1,1,1,1,1,1,1,1,1,1,1,1,1,1,1,1,1,1,1,1,1,1,1,1,1,1,1,1,1,1,1,1,1,1,1,1,1,1,1,1,1,1,1,1,1,1,1,1,1,1,1,1,1,1,1,1,1,1,1,1,1,1,1,1,1,1,1,1,1,1,1,1,1,1,1,1,1,1,1,1,1,1,1,1,1,1,1,1,1,1,1,1,1,1,1,1,1,1,1,1,1,1,1,1,1,1,1,1,1,1,1,1,1,1,1,1,1,1,1,1,1,1,1,1,1,1,1,1,1,1,1,1,1,1,1,1,1,1,1,1,1,1,1,1,1,1,1,1,1,1,1,1,1,1,1,1,1,1,1,1,1,1,1,1,1,1,1,1,1,1,1,1,1,1,1,1,1,1,1,1,1,1,1,1,1,1,1,1,1,1,1,1,1,1,1,1,1,1,1,1,1,1,1,1,1,1,1,1,1,1,1,1,1,1,1,1,1,1,1,1,1,1,1,1,1,1,1,1,1,1,1,1,1,1,1,1,1,1,1,1,1,1,1,1,1,1,1,1,1,1,1,1,1,1,1,1,1,1,1,1,1,1,1,1,1,1,1,1,1,1,1,1,1,1,1,1,1,1,1,1,1,1,1,1,1,1,1,1,1,1,1,1,1,1,1,1,1,1,1,1,1,1,1,1,1,1,1,1,1,1,1,1,1,1,1,1,1,1,1,1,1,1,1,1,1,1,1,1,1,1,1,1,1,1,1,1,1,1,1,1,1,1,1,1,1,1,1,1,1,1,1,1,1,1,1,1,1,1,1,1,1,1,1,1,1,1,1,1,1,1,1,1,1,1,1,1,1,1,1,1,1,1,1,1,1,1,1,1,1,1,1,1,1,1,1,1,1,1,1,1,1,1,1,1,1,1,1,1,1,1,1,1,1,1,1,1,1,1,1,1,1,1,1,1,1,1,1,1,1,1,1,1,1,1,1,1,1,1,1,1,1,1,1,1,1,1,1,1,1,1,1,1,1,1,1,1,1,1,1,1,1,1,1,1,1,1,1,1,1,1,1,1,1,1,1,1,1,1,1,1,1,1,1,1,1,1,1,1,1,1,1,1,1,1,1,1,1,1,1,1,1,1,1,1,1,1,1,1,1,1,1,1,1,1,1,1,1,1,1,1,1,1,1,1,1,1,1,1,1,1,1,1,1,1,1,1,1,1,1,1,1,1,1,1,1,1,1,1,1,1,1,1,1,1,1,1,1,1,1,1,1,1,1,1,1,1,1,1,1,1,1,1,1,1,1,1,1,1,1,1,1,1,1,1,1,1,1,1,1,1,1,1,1,1,1,1,1,1,1,1,1],\"yaxis\":\"y4\",\"type\":\"bar\"}],                        {\"template\":{\"data\":{\"histogram2dcontour\":[{\"type\":\"histogram2dcontour\",\"colorbar\":{\"outlinewidth\":0,\"ticks\":\"\"},\"colorscale\":[[0.0,\"#0d0887\"],[0.1111111111111111,\"#46039f\"],[0.2222222222222222,\"#7201a8\"],[0.3333333333333333,\"#9c179e\"],[0.4444444444444444,\"#bd3786\"],[0.5555555555555556,\"#d8576b\"],[0.6666666666666666,\"#ed7953\"],[0.7777777777777778,\"#fb9f3a\"],[0.8888888888888888,\"#fdca26\"],[1.0,\"#f0f921\"]]}],\"choropleth\":[{\"type\":\"choropleth\",\"colorbar\":{\"outlinewidth\":0,\"ticks\":\"\"}}],\"histogram2d\":[{\"type\":\"histogram2d\",\"colorbar\":{\"outlinewidth\":0,\"ticks\":\"\"},\"colorscale\":[[0.0,\"#0d0887\"],[0.1111111111111111,\"#46039f\"],[0.2222222222222222,\"#7201a8\"],[0.3333333333333333,\"#9c179e\"],[0.4444444444444444,\"#bd3786\"],[0.5555555555555556,\"#d8576b\"],[0.6666666666666666,\"#ed7953\"],[0.7777777777777778,\"#fb9f3a\"],[0.8888888888888888,\"#fdca26\"],[1.0,\"#f0f921\"]]}],\"heatmap\":[{\"type\":\"heatmap\",\"colorbar\":{\"outlinewidth\":0,\"ticks\":\"\"},\"colorscale\":[[0.0,\"#0d0887\"],[0.1111111111111111,\"#46039f\"],[0.2222222222222222,\"#7201a8\"],[0.3333333333333333,\"#9c179e\"],[0.4444444444444444,\"#bd3786\"],[0.5555555555555556,\"#d8576b\"],[0.6666666666666666,\"#ed7953\"],[0.7777777777777778,\"#fb9f3a\"],[0.8888888888888888,\"#fdca26\"],[1.0,\"#f0f921\"]]}],\"heatmapgl\":[{\"type\":\"heatmapgl\",\"colorbar\":{\"outlinewidth\":0,\"ticks\":\"\"},\"colorscale\":[[0.0,\"#0d0887\"],[0.1111111111111111,\"#46039f\"],[0.2222222222222222,\"#7201a8\"],[0.3333333333333333,\"#9c179e\"],[0.4444444444444444,\"#bd3786\"],[0.5555555555555556,\"#d8576b\"],[0.6666666666666666,\"#ed7953\"],[0.7777777777777778,\"#fb9f3a\"],[0.8888888888888888,\"#fdca26\"],[1.0,\"#f0f921\"]]}],\"contourcarpet\":[{\"type\":\"contourcarpet\",\"colorbar\":{\"outlinewidth\":0,\"ticks\":\"\"}}],\"contour\":[{\"type\":\"contour\",\"colorbar\":{\"outlinewidth\":0,\"ticks\":\"\"},\"colorscale\":[[0.0,\"#0d0887\"],[0.1111111111111111,\"#46039f\"],[0.2222222222222222,\"#7201a8\"],[0.3333333333333333,\"#9c179e\"],[0.4444444444444444,\"#bd3786\"],[0.5555555555555556,\"#d8576b\"],[0.6666666666666666,\"#ed7953\"],[0.7777777777777778,\"#fb9f3a\"],[0.8888888888888888,\"#fdca26\"],[1.0,\"#f0f921\"]]}],\"surface\":[{\"type\":\"surface\",\"colorbar\":{\"outlinewidth\":0,\"ticks\":\"\"},\"colorscale\":[[0.0,\"#0d0887\"],[0.1111111111111111,\"#46039f\"],[0.2222222222222222,\"#7201a8\"],[0.3333333333333333,\"#9c179e\"],[0.4444444444444444,\"#bd3786\"],[0.5555555555555556,\"#d8576b\"],[0.6666666666666666,\"#ed7953\"],[0.7777777777777778,\"#fb9f3a\"],[0.8888888888888888,\"#fdca26\"],[1.0,\"#f0f921\"]]}],\"mesh3d\":[{\"type\":\"mesh3d\",\"colorbar\":{\"outlinewidth\":0,\"ticks\":\"\"}}],\"scatter\":[{\"fillpattern\":{\"fillmode\":\"overlay\",\"size\":10,\"solidity\":0.2},\"type\":\"scatter\"}],\"parcoords\":[{\"type\":\"parcoords\",\"line\":{\"colorbar\":{\"outlinewidth\":0,\"ticks\":\"\"}}}],\"scatterpolargl\":[{\"type\":\"scatterpolargl\",\"marker\":{\"colorbar\":{\"outlinewidth\":0,\"ticks\":\"\"}}}],\"bar\":[{\"error_x\":{\"color\":\"#2a3f5f\"},\"error_y\":{\"color\":\"#2a3f5f\"},\"marker\":{\"line\":{\"color\":\"#E5ECF6\",\"width\":0.5},\"pattern\":{\"fillmode\":\"overlay\",\"size\":10,\"solidity\":0.2}},\"type\":\"bar\"}],\"scattergeo\":[{\"type\":\"scattergeo\",\"marker\":{\"colorbar\":{\"outlinewidth\":0,\"ticks\":\"\"}}}],\"scatterpolar\":[{\"type\":\"scatterpolar\",\"marker\":{\"colorbar\":{\"outlinewidth\":0,\"ticks\":\"\"}}}],\"histogram\":[{\"marker\":{\"pattern\":{\"fillmode\":\"overlay\",\"size\":10,\"solidity\":0.2}},\"type\":\"histogram\"}],\"scattergl\":[{\"type\":\"scattergl\",\"marker\":{\"colorbar\":{\"outlinewidth\":0,\"ticks\":\"\"}}}],\"scatter3d\":[{\"type\":\"scatter3d\",\"line\":{\"colorbar\":{\"outlinewidth\":0,\"ticks\":\"\"}},\"marker\":{\"colorbar\":{\"outlinewidth\":0,\"ticks\":\"\"}}}],\"scattermapbox\":[{\"type\":\"scattermapbox\",\"marker\":{\"colorbar\":{\"outlinewidth\":0,\"ticks\":\"\"}}}],\"scatterternary\":[{\"type\":\"scatterternary\",\"marker\":{\"colorbar\":{\"outlinewidth\":0,\"ticks\":\"\"}}}],\"scattercarpet\":[{\"type\":\"scattercarpet\",\"marker\":{\"colorbar\":{\"outlinewidth\":0,\"ticks\":\"\"}}}],\"carpet\":[{\"aaxis\":{\"endlinecolor\":\"#2a3f5f\",\"gridcolor\":\"white\",\"linecolor\":\"white\",\"minorgridcolor\":\"white\",\"startlinecolor\":\"#2a3f5f\"},\"baxis\":{\"endlinecolor\":\"#2a3f5f\",\"gridcolor\":\"white\",\"linecolor\":\"white\",\"minorgridcolor\":\"white\",\"startlinecolor\":\"#2a3f5f\"},\"type\":\"carpet\"}],\"table\":[{\"cells\":{\"fill\":{\"color\":\"#EBF0F8\"},\"line\":{\"color\":\"white\"}},\"header\":{\"fill\":{\"color\":\"#C8D4E3\"},\"line\":{\"color\":\"white\"}},\"type\":\"table\"}],\"barpolar\":[{\"marker\":{\"line\":{\"color\":\"#E5ECF6\",\"width\":0.5},\"pattern\":{\"fillmode\":\"overlay\",\"size\":10,\"solidity\":0.2}},\"type\":\"barpolar\"}],\"pie\":[{\"automargin\":true,\"type\":\"pie\"}]},\"layout\":{\"autotypenumbers\":\"strict\",\"colorway\":[\"#636efa\",\"#EF553B\",\"#00cc96\",\"#ab63fa\",\"#FFA15A\",\"#19d3f3\",\"#FF6692\",\"#B6E880\",\"#FF97FF\",\"#FECB52\"],\"font\":{\"color\":\"#2a3f5f\"},\"hovermode\":\"closest\",\"hoverlabel\":{\"align\":\"left\"},\"paper_bgcolor\":\"white\",\"plot_bgcolor\":\"#E5ECF6\",\"polar\":{\"bgcolor\":\"#E5ECF6\",\"angularaxis\":{\"gridcolor\":\"white\",\"linecolor\":\"white\",\"ticks\":\"\"},\"radialaxis\":{\"gridcolor\":\"white\",\"linecolor\":\"white\",\"ticks\":\"\"}},\"ternary\":{\"bgcolor\":\"#E5ECF6\",\"aaxis\":{\"gridcolor\":\"white\",\"linecolor\":\"white\",\"ticks\":\"\"},\"baxis\":{\"gridcolor\":\"white\",\"linecolor\":\"white\",\"ticks\":\"\"},\"caxis\":{\"gridcolor\":\"white\",\"linecolor\":\"white\",\"ticks\":\"\"}},\"coloraxis\":{\"colorbar\":{\"outlinewidth\":0,\"ticks\":\"\"}},\"colorscale\":{\"sequential\":[[0.0,\"#0d0887\"],[0.1111111111111111,\"#46039f\"],[0.2222222222222222,\"#7201a8\"],[0.3333333333333333,\"#9c179e\"],[0.4444444444444444,\"#bd3786\"],[0.5555555555555556,\"#d8576b\"],[0.6666666666666666,\"#ed7953\"],[0.7777777777777778,\"#fb9f3a\"],[0.8888888888888888,\"#fdca26\"],[1.0,\"#f0f921\"]],\"sequentialminus\":[[0.0,\"#0d0887\"],[0.1111111111111111,\"#46039f\"],[0.2222222222222222,\"#7201a8\"],[0.3333333333333333,\"#9c179e\"],[0.4444444444444444,\"#bd3786\"],[0.5555555555555556,\"#d8576b\"],[0.6666666666666666,\"#ed7953\"],[0.7777777777777778,\"#fb9f3a\"],[0.8888888888888888,\"#fdca26\"],[1.0,\"#f0f921\"]],\"diverging\":[[0,\"#8e0152\"],[0.1,\"#c51b7d\"],[0.2,\"#de77ae\"],[0.3,\"#f1b6da\"],[0.4,\"#fde0ef\"],[0.5,\"#f7f7f7\"],[0.6,\"#e6f5d0\"],[0.7,\"#b8e186\"],[0.8,\"#7fbc41\"],[0.9,\"#4d9221\"],[1,\"#276419\"]]},\"xaxis\":{\"gridcolor\":\"white\",\"linecolor\":\"white\",\"ticks\":\"\",\"title\":{\"standoff\":15},\"zerolinecolor\":\"white\",\"automargin\":true,\"zerolinewidth\":2},\"yaxis\":{\"gridcolor\":\"white\",\"linecolor\":\"white\",\"ticks\":\"\",\"title\":{\"standoff\":15},\"zerolinecolor\":\"white\",\"automargin\":true,\"zerolinewidth\":2},\"scene\":{\"xaxis\":{\"backgroundcolor\":\"#E5ECF6\",\"gridcolor\":\"white\",\"linecolor\":\"white\",\"showbackground\":true,\"ticks\":\"\",\"zerolinecolor\":\"white\",\"gridwidth\":2},\"yaxis\":{\"backgroundcolor\":\"#E5ECF6\",\"gridcolor\":\"white\",\"linecolor\":\"white\",\"showbackground\":true,\"ticks\":\"\",\"zerolinecolor\":\"white\",\"gridwidth\":2},\"zaxis\":{\"backgroundcolor\":\"#E5ECF6\",\"gridcolor\":\"white\",\"linecolor\":\"white\",\"showbackground\":true,\"ticks\":\"\",\"zerolinecolor\":\"white\",\"gridwidth\":2}},\"shapedefaults\":{\"line\":{\"color\":\"#2a3f5f\"}},\"annotationdefaults\":{\"arrowcolor\":\"#2a3f5f\",\"arrowhead\":0,\"arrowwidth\":1},\"geo\":{\"bgcolor\":\"white\",\"landcolor\":\"#E5ECF6\",\"subunitcolor\":\"white\",\"showland\":true,\"showlakes\":true,\"lakecolor\":\"white\"},\"title\":{\"x\":0.05},\"mapbox\":{\"style\":\"light\"}}},\"xaxis\":{\"anchor\":\"y\",\"domain\":[0.0,0.45],\"categoryorder\":\"array\",\"categoryarray\":[\"very negative\",\"negative\",\"weakly negative\",\"Neutral\",\"weakly positive\",\"positive\",\"very positive\"]},\"yaxis\":{\"anchor\":\"x\",\"domain\":[0.625,1.0],\"range\":[0,500]},\"xaxis2\":{\"anchor\":\"y2\",\"domain\":[0.55,1.0],\"categoryorder\":\"array\",\"categoryarray\":[\"very negative\",\"negative\",\"weakly negative\",\"Neutral\",\"weakly positive\",\"positive\",\"very positive\"]},\"yaxis2\":{\"anchor\":\"x2\",\"domain\":[0.625,1.0],\"range\":[0,500]},\"xaxis3\":{\"anchor\":\"y3\",\"domain\":[0.0,0.45],\"categoryorder\":\"array\",\"categoryarray\":[\"very negative\",\"negative\",\"weakly negative\",\"Neutral\",\"weakly positive\",\"positive\",\"very positive\"]},\"yaxis3\":{\"anchor\":\"x3\",\"domain\":[0.0,0.375],\"range\":[0,500]},\"xaxis4\":{\"anchor\":\"y4\",\"domain\":[0.55,1.0],\"categoryorder\":\"array\",\"categoryarray\":[\"very negative\",\"negative\",\"weakly negative\",\"Neutral\",\"weakly positive\",\"positive\",\"very positive\"]},\"yaxis4\":{\"anchor\":\"x4\",\"domain\":[0.0,0.375],\"range\":[0,500]},\"annotations\":[{\"font\":{\"size\":16},\"showarrow\":false,\"text\":\"Text-only\",\"x\":0.225,\"xanchor\":\"center\",\"xref\":\"paper\",\"y\":1.0,\"yanchor\":\"bottom\",\"yref\":\"paper\"},{\"font\":{\"size\":16},\"showarrow\":false,\"text\":\"Acoustic-only\",\"x\":0.775,\"xanchor\":\"center\",\"xref\":\"paper\",\"y\":1.0,\"yanchor\":\"bottom\",\"yref\":\"paper\"},{\"font\":{\"size\":16},\"showarrow\":false,\"text\":\"Visual-only\",\"x\":0.225,\"xanchor\":\"center\",\"xref\":\"paper\",\"y\":0.375,\"yanchor\":\"bottom\",\"yref\":\"paper\"},{\"font\":{\"size\":16},\"showarrow\":false,\"text\":\"TFN-fusion\",\"x\":0.775,\"xanchor\":\"center\",\"xref\":\"paper\",\"y\":0.375,\"yanchor\":\"bottom\",\"yref\":\"paper\"}],\"title\":{\"text\":\"Unimodal results distribution\"},\"height\":800,\"width\":1200},                        {\"responsive\": true}                    ).then(function(){\n",
       "                            \n",
       "var gd = document.getElementById('6c4be9b6-9669-4fe7-bc3f-ce5c1fdb160a');\n",
       "var x = new MutationObserver(function (mutations, observer) {{\n",
       "        var display = window.getComputedStyle(gd).display;\n",
       "        if (!display || display === 'none') {{\n",
       "            console.log([gd, 'removed!']);\n",
       "            Plotly.purge(gd);\n",
       "            observer.disconnect();\n",
       "        }}\n",
       "}});\n",
       "\n",
       "// Listen for the removal of the full notebook cells\n",
       "var notebookContainer = gd.closest('#notebook-container');\n",
       "if (notebookContainer) {{\n",
       "    x.observe(notebookContainer, {childList: true});\n",
       "}}\n",
       "\n",
       "// Listen for the clearing of the current output cell\n",
       "var outputEl = gd.closest('.output');\n",
       "if (outputEl) {{\n",
       "    x.observe(outputEl, {childList: true});\n",
       "}}\n",
       "\n",
       "                        })                };                });            </script>        </div>"
      ]
     },
     "metadata": {},
     "output_type": "display_data"
    }
   ],
   "source": [
    "keys = list(tfn.keys())\n",
    "for key in keys:\n",
    "    tfn[key].extend(['very negative', 'negative', 'weakly negative', 'Neutral', 'weakly positive', 'positive', 'very positive'])\n",
    "\n",
    "df = pd.DataFrame(data=tfn)\n",
    "\n",
    "fig1 = px.bar(df, x=\"text_7\")\n",
    "fig2 = px.bar(df, x=\"audio_7\")\n",
    "fig3 = px.bar(df, x=\"video_7\")\n",
    "fig4 = px.bar(df, x=\"preds_7\")\n",
    "\n",
    "fig1_traces = []\n",
    "fig2_traces = []\n",
    "fig3_traces = []\n",
    "fig4_traces = []\n",
    "\n",
    "for trace in range(len(fig1[\"data\"])):\n",
    "    fig1_traces.append(fig1[\"data\"][trace])\n",
    "for trace in range(len(fig2[\"data\"])):\n",
    "    fig2_traces.append(fig2[\"data\"][trace])\n",
    "for trace in range(len(fig3[\"data\"])):\n",
    "    fig3_traces.append(fig3[\"data\"][trace])\n",
    "for trace in range(len(fig4[\"data\"])):\n",
    "    fig4_traces.append(fig4[\"data\"][trace])\n",
    "\n",
    "this_figure = sp.make_subplots(rows=2, cols=2, subplot_titles=(\"Text-only\", \"Acoustic-only\", \"Visual-only\", \"TFN-fusion\"))\n",
    "for traces in fig1_traces:\n",
    "    this_figure.append_trace(traces, row=1, col=1)\n",
    "for traces in fig2_traces:\n",
    "    this_figure.append_trace(traces, row=1, col=2)\n",
    "for traces in fig3_traces:\n",
    "    this_figure.append_trace(traces, row=2, col=1)\n",
    "for traces in fig4_traces:\n",
    "    this_figure.append_trace(traces, row=2, col=2)\n",
    "\n",
    "this_figure.update_layout(height=800, width=1200, title_text=\"Unimodal results distribution\")\n",
    "this_figure.update_xaxes(categoryorder='array', categoryarray= order)\n",
    "this_figure.update_yaxes(range=[0,500])\n",
    "this_figure.show()"
   ]
  },
  {
   "cell_type": "markdown",
   "metadata": {},
   "source": [
    "## MMIM"
   ]
  },
  {
   "cell_type": "code",
   "execution_count": 4,
   "metadata": {},
   "outputs": [],
   "source": [
    "import pickle as pkl\n",
    "with open(f\"results/MMIM_mosi.pkl\", \"rb\") as handle:\n",

    "    # tfn_dict = {segment, labels, labels_2, labels_7, preds, preds_2, preds_7}\n",
    "    mmim = pkl.load(handle)"
   ]
  },
  {
   "cell_type": "code",
   "execution_count": 10,
   "metadata": {},
   "outputs": [
    {
     "name": "stdout",
     "output_type": "stream",
     "text": [
      "686\n"
     ]
    }
   ],
   "source": [
    "print(len(mmim['segment']))"
   ]
  },
  {
   "cell_type": "code",
   "execution_count": 5,
   "metadata": {},
   "outputs": [
    {
     "data": {
      "application/vnd.plotly.v1+json": {
       "config": {
        "plotlyServerURL": "https://plot.ly"
       },
       "data": [
        {
         "alignmentgroup": "True",
         "hovertemplate": "labels_7=%{x}<br>segment=%{y}<extra></extra>",
         "legendgroup": "",
         "marker": {
          "color": "#636efa",
          "pattern": {
           "shape": ""
          }
         },
         "name": "",
         "offsetgroup": "",
         "orientation": "v",
         "showlegend": false,
         "textposition": "auto",
         "type": "bar",
         "x": [
          "Neutral",
          "negative",
          "positive",
          "very negative",
          "very positive",
          "weakly negative",
          "weakly positive"
         ],
         "xaxis": "x",
         "y": [
          96,
          141,
          94,
          96,
          48,
          113,
          98
         ],
         "yaxis": "y"
        },
        {
         "alignmentgroup": "True",
         "hovertemplate": "preds_7=%{x}<br>segment=%{y}<extra></extra>",
         "legendgroup": "",
         "marker": {
          "color": "#636efa",
          "pattern": {
           "shape": ""
          }
         },
         "name": "",
         "offsetgroup": "",
         "orientation": "v",
         "showlegend": false,
         "textposition": "auto",
         "type": "bar",
         "x": [
          "negative",
          "positive",
          "very negative",
          "very positive"
         ],
         "xaxis": "x2",
         "y": [
          135,
          73,
          31,
          135,
          142,
          114,
          56
         ],
         "yaxis": "y2"
        }
       ],
       "layout": {
        "annotations": [
         {
          "font": {
           "size": 16
          },
          "showarrow": false,
          "text": "Grond-truth",
          "x": 0.225,
          "xanchor": "center",
          "xref": "paper",
          "y": 1,
          "yanchor": "bottom",
          "yref": "paper"
         },
         {
          "font": {
           "size": 16
          },
          "showarrow": false,
          "text": "MMIM",
          "x": 0.775,
          "xanchor": "center",
          "xref": "paper",
          "y": 1,
          "yanchor": "bottom",
          "yref": "paper"
         }
        ],
        "template": {
         "data": {
          "bar": [
           {
            "error_x": {
             "color": "#2a3f5f"
            },
            "error_y": {
             "color": "#2a3f5f"
            },
            "marker": {
             "line": {
              "color": "#E5ECF6",
              "width": 0.5
             },
             "pattern": {
              "fillmode": "overlay",
              "size": 10,
              "solidity": 0.2
             }
            },
            "type": "bar"
           }
          ],
          "barpolar": [
           {
            "marker": {
             "line": {
              "color": "#E5ECF6",
              "width": 0.5
             },
             "pattern": {
              "fillmode": "overlay",
              "size": 10,
              "solidity": 0.2
             }
            },
            "type": "barpolar"
           }
          ],
          "carpet": [
           {
            "aaxis": {
             "endlinecolor": "#2a3f5f",
             "gridcolor": "white",
             "linecolor": "white",
             "minorgridcolor": "white",
             "startlinecolor": "#2a3f5f"
            },
            "baxis": {
             "endlinecolor": "#2a3f5f",
             "gridcolor": "white",
             "linecolor": "white",
             "minorgridcolor": "white",
             "startlinecolor": "#2a3f5f"
            },
            "type": "carpet"
           }
          ],
          "choropleth": [
           {
            "colorbar": {
             "outlinewidth": 0,
             "ticks": ""
            },
            "type": "choropleth"
           }
          ],
          "contour": [
           {
            "colorbar": {
             "outlinewidth": 0,
             "ticks": ""
            },
            "colorscale": [
             [
              0,
              "#0d0887"
             ],
             [
              0.1111111111111111,
              "#46039f"
             ],
             [
              0.2222222222222222,
              "#7201a8"
             ],
             [
              0.3333333333333333,
              "#9c179e"
             ],
             [
              0.4444444444444444,
              "#bd3786"
             ],
             [
              0.5555555555555556,
              "#d8576b"
             ],
             [
              0.6666666666666666,
              "#ed7953"
             ],
             [
              0.7777777777777778,
              "#fb9f3a"
             ],
             [
              0.8888888888888888,
              "#fdca26"
             ],
             [
              1,
              "#f0f921"
             ]
            ],
            "type": "contour"
           }
          ],
          "contourcarpet": [
           {
            "colorbar": {
             "outlinewidth": 0,
             "ticks": ""
            },
            "type": "contourcarpet"
           }
          ],
          "heatmap": [
           {
            "colorbar": {
             "outlinewidth": 0,
             "ticks": ""
            },
            "colorscale": [
             [
              0,
              "#0d0887"
             ],
             [
              0.1111111111111111,
              "#46039f"
             ],
             [
              0.2222222222222222,
              "#7201a8"
             ],
             [
              0.3333333333333333,
              "#9c179e"
             ],
             [
              0.4444444444444444,
              "#bd3786"
             ],
             [
              0.5555555555555556,
              "#d8576b"
             ],
             [
              0.6666666666666666,
              "#ed7953"
             ],
             [
              0.7777777777777778,
              "#fb9f3a"
             ],
             [
              0.8888888888888888,
              "#fdca26"
             ],
             [
              1,
              "#f0f921"
             ]
            ],
            "type": "heatmap"
           }
          ],
          "heatmapgl": [
           {
            "colorbar": {
             "outlinewidth": 0,
             "ticks": ""
            },
            "colorscale": [
             [
              0,
              "#0d0887"
             ],
             [
              0.1111111111111111,
              "#46039f"
             ],
             [
              0.2222222222222222,
              "#7201a8"
             ],
             [
              0.3333333333333333,
              "#9c179e"
             ],
             [
              0.4444444444444444,
              "#bd3786"
             ],
             [
              0.5555555555555556,
              "#d8576b"
             ],
             [
              0.6666666666666666,
              "#ed7953"
             ],
             [
              0.7777777777777778,
              "#fb9f3a"
             ],
             [
              0.8888888888888888,
              "#fdca26"
             ],
             [
              1,
              "#f0f921"
             ]
            ],
            "type": "heatmapgl"
           }
          ],
          "histogram": [
           {
            "marker": {
             "pattern": {
              "fillmode": "overlay",
              "size": 10,
              "solidity": 0.2
             }
            },
            "type": "histogram"
           }
          ],
          "histogram2d": [
           {
            "colorbar": {
             "outlinewidth": 0,
             "ticks": ""
            },
            "colorscale": [
             [
              0,
              "#0d0887"
             ],
             [
              0.1111111111111111,
              "#46039f"
             ],
             [
              0.2222222222222222,
              "#7201a8"
             ],
             [
              0.3333333333333333,
              "#9c179e"
             ],
             [
              0.4444444444444444,
              "#bd3786"
             ],
             [
              0.5555555555555556,
              "#d8576b"
             ],
             [
              0.6666666666666666,
              "#ed7953"
             ],
             [
              0.7777777777777778,
              "#fb9f3a"
             ],
             [
              0.8888888888888888,
              "#fdca26"
             ],
             [
              1,
              "#f0f921"
             ]
            ],
            "type": "histogram2d"
           }
          ],
          "histogram2dcontour": [
           {
            "colorbar": {
             "outlinewidth": 0,
             "ticks": ""
            },
            "colorscale": [
             [
              0,
              "#0d0887"
             ],
             [
              0.1111111111111111,
              "#46039f"
             ],
             [
              0.2222222222222222,
              "#7201a8"
             ],
             [
              0.3333333333333333,
              "#9c179e"
             ],
             [
              0.4444444444444444,
              "#bd3786"
             ],
             [
              0.5555555555555556,
              "#d8576b"
             ],
             [
              0.6666666666666666,
              "#ed7953"
             ],
             [
              0.7777777777777778,
              "#fb9f3a"
             ],
             [
              0.8888888888888888,
              "#fdca26"
             ],
             [
              1,
              "#f0f921"
             ]
            ],
            "type": "histogram2dcontour"
           }
          ],
          "mesh3d": [
           {
            "colorbar": {
             "outlinewidth": 0,
             "ticks": ""
            },
            "type": "mesh3d"
           }
          ],
          "parcoords": [
           {
            "line": {
             "colorbar": {
              "outlinewidth": 0,
              "ticks": ""
             }
            },
            "type": "parcoords"
           }
          ],
          "pie": [
           {
            "automargin": true,
            "type": "pie"
           }
          ],
          "scatter": [
           {
            "fillpattern": {
             "fillmode": "overlay",
             "size": 10,
             "solidity": 0.2
            },
            "type": "scatter"
           }
          ],
          "scatter3d": [
           {
            "line": {
             "colorbar": {
              "outlinewidth": 0,
              "ticks": ""
             }
            },
            "marker": {
             "colorbar": {
              "outlinewidth": 0,
              "ticks": ""
             }
            },
            "type": "scatter3d"
           }
          ],
          "scattercarpet": [
           {
            "marker": {
             "colorbar": {
              "outlinewidth": 0,
              "ticks": ""
             }
            },
            "type": "scattercarpet"
           }
          ],
          "scattergeo": [
           {
            "marker": {
             "colorbar": {
              "outlinewidth": 0,
              "ticks": ""
             }
            },
            "type": "scattergeo"
           }
          ],
          "scattergl": [
           {
            "marker": {
             "colorbar": {
              "outlinewidth": 0,
              "ticks": ""
             }
            },
            "type": "scattergl"
           }
          ],
          "scattermapbox": [
           {
            "marker": {
             "colorbar": {
              "outlinewidth": 0,
              "ticks": ""
             }
            },
            "type": "scattermapbox"
           }
          ],
          "scatterpolar": [
           {
            "marker": {
             "colorbar": {
              "outlinewidth": 0,
              "ticks": ""
             }
            },
            "type": "scatterpolar"
           }
          ],
          "scatterpolargl": [
           {
            "marker": {
             "colorbar": {
              "outlinewidth": 0,
              "ticks": ""
             }
            },
            "type": "scatterpolargl"
           }
          ],
          "scatterternary": [
           {
            "marker": {
             "colorbar": {
              "outlinewidth": 0,
              "ticks": ""
             }
            },
            "type": "scatterternary"
           }
          ],
          "surface": [
           {
            "colorbar": {
             "outlinewidth": 0,
             "ticks": ""
            },
            "colorscale": [
             [
              0,
              "#0d0887"
             ],
             [
              0.1111111111111111,
              "#46039f"
             ],
             [
              0.2222222222222222,
              "#7201a8"
             ],
             [
              0.3333333333333333,
              "#9c179e"
             ],
             [
              0.4444444444444444,
              "#bd3786"
             ],
             [
              0.5555555555555556,
              "#d8576b"
             ],
             [
              0.6666666666666666,
              "#ed7953"
             ],
             [
              0.7777777777777778,
              "#fb9f3a"
             ],
             [
              0.8888888888888888,
              "#fdca26"
             ],
             [
              1,
              "#f0f921"
             ]
            ],
            "type": "surface"
           }
          ],
          "table": [
           {
            "cells": {
             "fill": {
              "color": "#EBF0F8"
             },
             "line": {
              "color": "white"
             }
            },
            "header": {
             "fill": {
              "color": "#C8D4E3"
             },
             "line": {
              "color": "white"
             }
            },
            "type": "table"
           }
          ]
         },
         "layout": {
          "annotationdefaults": {
           "arrowcolor": "#2a3f5f",
           "arrowhead": 0,
           "arrowwidth": 1
          },
          "autotypenumbers": "strict",
          "coloraxis": {
           "colorbar": {
            "outlinewidth": 0,
            "ticks": ""
           }
          },
          "colorscale": {
           "diverging": [
            [
             0,
             "#8e0152"
            ],
            [
             0.1,
             "#c51b7d"
            ],
            [
             0.2,
             "#de77ae"
            ],
            [
             0.3,
             "#f1b6da"
            ],
            [
             0.4,
             "#fde0ef"
            ],
            [
             0.5,
             "#f7f7f7"
            ],
            [
             0.6,
             "#e6f5d0"
            ],
            [
             0.7,
             "#b8e186"
            ],
            [
             0.8,
             "#7fbc41"
            ],
            [
             0.9,
             "#4d9221"
            ],
            [
             1,
             "#276419"
            ]
           ],
           "sequential": [
            [
             0,
             "#0d0887"
            ],
            [
             0.1111111111111111,
             "#46039f"
            ],
            [
             0.2222222222222222,
             "#7201a8"
            ],
            [
             0.3333333333333333,
             "#9c179e"
            ],
            [
             0.4444444444444444,
             "#bd3786"
            ],
            [
             0.5555555555555556,
             "#d8576b"
            ],
            [
             0.6666666666666666,
             "#ed7953"
            ],
            [
             0.7777777777777778,
             "#fb9f3a"
            ],
            [
             0.8888888888888888,
             "#fdca26"
            ],
            [
             1,
             "#f0f921"
            ]
           ],
           "sequentialminus": [
            [
             0,
             "#0d0887"
            ],
            [
             0.1111111111111111,
             "#46039f"
            ],
            [
             0.2222222222222222,
             "#7201a8"
            ],
            [
             0.3333333333333333,
             "#9c179e"
            ],
            [
             0.4444444444444444,
             "#bd3786"
            ],
            [
             0.5555555555555556,
             "#d8576b"
            ],
            [
             0.6666666666666666,
             "#ed7953"
            ],
            [
             0.7777777777777778,
             "#fb9f3a"
            ],
            [
             0.8888888888888888,
             "#fdca26"
            ],
            [
             1,
             "#f0f921"
            ]
           ]
          },
          "colorway": [
           "#636efa",
           "#EF553B",
           "#00cc96",
           "#ab63fa",
           "#FFA15A",
           "#19d3f3",
           "#FF6692",
           "#B6E880",
           "#FF97FF",
           "#FECB52"
          ],
          "font": {
           "color": "#2a3f5f"
          },
          "geo": {
           "bgcolor": "white",
           "lakecolor": "white",
           "landcolor": "#E5ECF6",
           "showlakes": true,
           "showland": true,
           "subunitcolor": "white"
          },
          "hoverlabel": {
           "align": "left"
          },
          "hovermode": "closest",
          "mapbox": {
           "style": "light"
          },
          "paper_bgcolor": "white",
          "plot_bgcolor": "#E5ECF6",
          "polar": {
           "angularaxis": {
            "gridcolor": "white",
            "linecolor": "white",
            "ticks": ""
           },
           "bgcolor": "#E5ECF6",
           "radialaxis": {
            "gridcolor": "white",
            "linecolor": "white",
            "ticks": ""
           }
          },
          "scene": {
           "xaxis": {
            "backgroundcolor": "#E5ECF6",
            "gridcolor": "white",
            "gridwidth": 2,
            "linecolor": "white",
            "showbackground": true,
            "ticks": "",
            "zerolinecolor": "white"
           },
           "yaxis": {
            "backgroundcolor": "#E5ECF6",
            "gridcolor": "white",
            "gridwidth": 2,
            "linecolor": "white",
            "showbackground": true,
            "ticks": "",
            "zerolinecolor": "white"
           },
           "zaxis": {
            "backgroundcolor": "#E5ECF6",
            "gridcolor": "white",
            "gridwidth": 2,
            "linecolor": "white",
            "showbackground": true,
            "ticks": "",
            "zerolinecolor": "white"
           }
          },
          "shapedefaults": {
           "line": {
            "color": "#2a3f5f"
           }
          },
          "ternary": {
           "aaxis": {
            "gridcolor": "white",
            "linecolor": "white",
            "ticks": ""
           },
           "baxis": {
            "gridcolor": "white",
            "linecolor": "white",
            "ticks": ""
           },
           "bgcolor": "#E5ECF6",
           "caxis": {
            "gridcolor": "white",
            "linecolor": "white",
            "ticks": ""
           }
          },
          "title": {
           "x": 0.05
          },
          "xaxis": {
           "automargin": true,
           "gridcolor": "white",
           "linecolor": "white",
           "ticks": "",
           "title": {
            "standoff": 15
           },
           "zerolinecolor": "white",
           "zerolinewidth": 2
          },
          "yaxis": {
           "automargin": true,
           "gridcolor": "white",
           "linecolor": "white",
           "ticks": "",
           "title": {
            "standoff": 15
           },
           "zerolinecolor": "white",
           "zerolinewidth": 2
          }
         }
        },
        "title": {
         "text": "7-Classification Result"
        },
        "xaxis": {
         "anchor": "y",
         "categoryarray": [
          "very negative",
          "negative",
          "weakly negative",
          "Neutral",
          "weakly positive",
          "positive",
          "very positive"
         ],
         "categoryorder": "array",
         "domain": [
          0,
          0.45
         ]
        },
        "xaxis2": {
         "anchor": "y2",
         "categoryarray": [
          "very negative",
          "negative",
          "weakly negative",
          "Neutral",
          "weakly positive",
          "positive",
          "very positive"
         ],
         "categoryorder": "array",
         "domain": [
          0.55,
          1
         ]
        },
        "yaxis": {
         "anchor": "x",
         "domain": [
          0,
          1
         ],
         "range": [
          0,
          200
         ]
        },
        "yaxis2": {
         "anchor": "x2",
         "domain": [
          0,
          1
         ],
         "range": [
          0,
          200
         ]
        }
       }
      },
      "text/html": [
       "<div>                            <div id=\"aebc7a13-766a-4f14-83ef-2da638abcd04\" class=\"plotly-graph-div\" style=\"height:525px; width:100%;\"></div>            <script type=\"text/javascript\">                require([\"plotly\"], function(Plotly) {                    window.PLOTLYENV=window.PLOTLYENV || {};                                    if (document.getElementById(\"aebc7a13-766a-4f14-83ef-2da638abcd04\")) {                    Plotly.newPlot(                        \"aebc7a13-766a-4f14-83ef-2da638abcd04\",                        [{\"alignmentgroup\":\"True\",\"hovertemplate\":\"labels_7=%{x}<br>segment=%{y}<extra></extra>\",\"legendgroup\":\"\",\"marker\":{\"color\":\"#636efa\",\"pattern\":{\"shape\":\"\"}},\"name\":\"\",\"offsetgroup\":\"\",\"orientation\":\"v\",\"showlegend\":false,\"textposition\":\"auto\",\"x\":[\"Neutral\",\"negative\",\"positive\",\"very negative\",\"very positive\",\"weakly negative\",\"weakly positive\"],\"xaxis\":\"x\",\"y\":[96,141,94,96,48,113,98],\"yaxis\":\"y\",\"type\":\"bar\"},{\"alignmentgroup\":\"True\",\"hovertemplate\":\"preds_7=%{x}<br>segment=%{y}<extra></extra>\",\"legendgroup\":\"\",\"marker\":{\"color\":\"#636efa\",\"pattern\":{\"shape\":\"\"}},\"name\":\"\",\"offsetgroup\":\"\",\"orientation\":\"v\",\"showlegend\":false,\"textposition\":\"auto\",\"x\":[\"Neutral\",\"negative\",\"positive\",\"very negative\",\"very positive\",\"weakly negative\",\"weakly positive\"],\"xaxis\":\"x2\",\"y\":[135,73,31,135,142,114,56],\"yaxis\":\"y2\",\"type\":\"bar\"}],                        {\"template\":{\"data\":{\"histogram2dcontour\":[{\"type\":\"histogram2dcontour\",\"colorbar\":{\"outlinewidth\":0,\"ticks\":\"\"},\"colorscale\":[[0.0,\"#0d0887\"],[0.1111111111111111,\"#46039f\"],[0.2222222222222222,\"#7201a8\"],[0.3333333333333333,\"#9c179e\"],[0.4444444444444444,\"#bd3786\"],[0.5555555555555556,\"#d8576b\"],[0.6666666666666666,\"#ed7953\"],[0.7777777777777778,\"#fb9f3a\"],[0.8888888888888888,\"#fdca26\"],[1.0,\"#f0f921\"]]}],\"choropleth\":[{\"type\":\"choropleth\",\"colorbar\":{\"outlinewidth\":0,\"ticks\":\"\"}}],\"histogram2d\":[{\"type\":\"histogram2d\",\"colorbar\":{\"outlinewidth\":0,\"ticks\":\"\"},\"colorscale\":[[0.0,\"#0d0887\"],[0.1111111111111111,\"#46039f\"],[0.2222222222222222,\"#7201a8\"],[0.3333333333333333,\"#9c179e\"],[0.4444444444444444,\"#bd3786\"],[0.5555555555555556,\"#d8576b\"],[0.6666666666666666,\"#ed7953\"],[0.7777777777777778,\"#fb9f3a\"],[0.8888888888888888,\"#fdca26\"],[1.0,\"#f0f921\"]]}],\"heatmap\":[{\"type\":\"heatmap\",\"colorbar\":{\"outlinewidth\":0,\"ticks\":\"\"},\"colorscale\":[[0.0,\"#0d0887\"],[0.1111111111111111,\"#46039f\"],[0.2222222222222222,\"#7201a8\"],[0.3333333333333333,\"#9c179e\"],[0.4444444444444444,\"#bd3786\"],[0.5555555555555556,\"#d8576b\"],[0.6666666666666666,\"#ed7953\"],[0.7777777777777778,\"#fb9f3a\"],[0.8888888888888888,\"#fdca26\"],[1.0,\"#f0f921\"]]}],\"heatmapgl\":[{\"type\":\"heatmapgl\",\"colorbar\":{\"outlinewidth\":0,\"ticks\":\"\"},\"colorscale\":[[0.0,\"#0d0887\"],[0.1111111111111111,\"#46039f\"],[0.2222222222222222,\"#7201a8\"],[0.3333333333333333,\"#9c179e\"],[0.4444444444444444,\"#bd3786\"],[0.5555555555555556,\"#d8576b\"],[0.6666666666666666,\"#ed7953\"],[0.7777777777777778,\"#fb9f3a\"],[0.8888888888888888,\"#fdca26\"],[1.0,\"#f0f921\"]]}],\"contourcarpet\":[{\"type\":\"contourcarpet\",\"colorbar\":{\"outlinewidth\":0,\"ticks\":\"\"}}],\"contour\":[{\"type\":\"contour\",\"colorbar\":{\"outlinewidth\":0,\"ticks\":\"\"},\"colorscale\":[[0.0,\"#0d0887\"],[0.1111111111111111,\"#46039f\"],[0.2222222222222222,\"#7201a8\"],[0.3333333333333333,\"#9c179e\"],[0.4444444444444444,\"#bd3786\"],[0.5555555555555556,\"#d8576b\"],[0.6666666666666666,\"#ed7953\"],[0.7777777777777778,\"#fb9f3a\"],[0.8888888888888888,\"#fdca26\"],[1.0,\"#f0f921\"]]}],\"surface\":[{\"type\":\"surface\",\"colorbar\":{\"outlinewidth\":0,\"ticks\":\"\"},\"colorscale\":[[0.0,\"#0d0887\"],[0.1111111111111111,\"#46039f\"],[0.2222222222222222,\"#7201a8\"],[0.3333333333333333,\"#9c179e\"],[0.4444444444444444,\"#bd3786\"],[0.5555555555555556,\"#d8576b\"],[0.6666666666666666,\"#ed7953\"],[0.7777777777777778,\"#fb9f3a\"],[0.8888888888888888,\"#fdca26\"],[1.0,\"#f0f921\"]]}],\"mesh3d\":[{\"type\":\"mesh3d\",\"colorbar\":{\"outlinewidth\":0,\"ticks\":\"\"}}],\"scatter\":[{\"fillpattern\":{\"fillmode\":\"overlay\",\"size\":10,\"solidity\":0.2},\"type\":\"scatter\"}],\"parcoords\":[{\"type\":\"parcoords\",\"line\":{\"colorbar\":{\"outlinewidth\":0,\"ticks\":\"\"}}}],\"scatterpolargl\":[{\"type\":\"scatterpolargl\",\"marker\":{\"colorbar\":{\"outlinewidth\":0,\"ticks\":\"\"}}}],\"bar\":[{\"error_x\":{\"color\":\"#2a3f5f\"},\"error_y\":{\"color\":\"#2a3f5f\"},\"marker\":{\"line\":{\"color\":\"#E5ECF6\",\"width\":0.5},\"pattern\":{\"fillmode\":\"overlay\",\"size\":10,\"solidity\":0.2}},\"type\":\"bar\"}],\"scattergeo\":[{\"type\":\"scattergeo\",\"marker\":{\"colorbar\":{\"outlinewidth\":0,\"ticks\":\"\"}}}],\"scatterpolar\":[{\"type\":\"scatterpolar\",\"marker\":{\"colorbar\":{\"outlinewidth\":0,\"ticks\":\"\"}}}],\"histogram\":[{\"marker\":{\"pattern\":{\"fillmode\":\"overlay\",\"size\":10,\"solidity\":0.2}},\"type\":\"histogram\"}],\"scattergl\":[{\"type\":\"scattergl\",\"marker\":{\"colorbar\":{\"outlinewidth\":0,\"ticks\":\"\"}}}],\"scatter3d\":[{\"type\":\"scatter3d\",\"line\":{\"colorbar\":{\"outlinewidth\":0,\"ticks\":\"\"}},\"marker\":{\"colorbar\":{\"outlinewidth\":0,\"ticks\":\"\"}}}],\"scattermapbox\":[{\"type\":\"scattermapbox\",\"marker\":{\"colorbar\":{\"outlinewidth\":0,\"ticks\":\"\"}}}],\"scatterternary\":[{\"type\":\"scatterternary\",\"marker\":{\"colorbar\":{\"outlinewidth\":0,\"ticks\":\"\"}}}],\"scattercarpet\":[{\"type\":\"scattercarpet\",\"marker\":{\"colorbar\":{\"outlinewidth\":0,\"ticks\":\"\"}}}],\"carpet\":[{\"aaxis\":{\"endlinecolor\":\"#2a3f5f\",\"gridcolor\":\"white\",\"linecolor\":\"white\",\"minorgridcolor\":\"white\",\"startlinecolor\":\"#2a3f5f\"},\"baxis\":{\"endlinecolor\":\"#2a3f5f\",\"gridcolor\":\"white\",\"linecolor\":\"white\",\"minorgridcolor\":\"white\",\"startlinecolor\":\"#2a3f5f\"},\"type\":\"carpet\"}],\"table\":[{\"cells\":{\"fill\":{\"color\":\"#EBF0F8\"},\"line\":{\"color\":\"white\"}},\"header\":{\"fill\":{\"color\":\"#C8D4E3\"},\"line\":{\"color\":\"white\"}},\"type\":\"table\"}],\"barpolar\":[{\"marker\":{\"line\":{\"color\":\"#E5ECF6\",\"width\":0.5},\"pattern\":{\"fillmode\":\"overlay\",\"size\":10,\"solidity\":0.2}},\"type\":\"barpolar\"}],\"pie\":[{\"automargin\":true,\"type\":\"pie\"}]},\"layout\":{\"autotypenumbers\":\"strict\",\"colorway\":[\"#636efa\",\"#EF553B\",\"#00cc96\",\"#ab63fa\",\"#FFA15A\",\"#19d3f3\",\"#FF6692\",\"#B6E880\",\"#FF97FF\",\"#FECB52\"],\"font\":{\"color\":\"#2a3f5f\"},\"hovermode\":\"closest\",\"hoverlabel\":{\"align\":\"left\"},\"paper_bgcolor\":\"white\",\"plot_bgcolor\":\"#E5ECF6\",\"polar\":{\"bgcolor\":\"#E5ECF6\",\"angularaxis\":{\"gridcolor\":\"white\",\"linecolor\":\"white\",\"ticks\":\"\"},\"radialaxis\":{\"gridcolor\":\"white\",\"linecolor\":\"white\",\"ticks\":\"\"}},\"ternary\":{\"bgcolor\":\"#E5ECF6\",\"aaxis\":{\"gridcolor\":\"white\",\"linecolor\":\"white\",\"ticks\":\"\"},\"baxis\":{\"gridcolor\":\"white\",\"linecolor\":\"white\",\"ticks\":\"\"},\"caxis\":{\"gridcolor\":\"white\",\"linecolor\":\"white\",\"ticks\":\"\"}},\"coloraxis\":{\"colorbar\":{\"outlinewidth\":0,\"ticks\":\"\"}},\"colorscale\":{\"sequential\":[[0.0,\"#0d0887\"],[0.1111111111111111,\"#46039f\"],[0.2222222222222222,\"#7201a8\"],[0.3333333333333333,\"#9c179e\"],[0.4444444444444444,\"#bd3786\"],[0.5555555555555556,\"#d8576b\"],[0.6666666666666666,\"#ed7953\"],[0.7777777777777778,\"#fb9f3a\"],[0.8888888888888888,\"#fdca26\"],[1.0,\"#f0f921\"]],\"sequentialminus\":[[0.0,\"#0d0887\"],[0.1111111111111111,\"#46039f\"],[0.2222222222222222,\"#7201a8\"],[0.3333333333333333,\"#9c179e\"],[0.4444444444444444,\"#bd3786\"],[0.5555555555555556,\"#d8576b\"],[0.6666666666666666,\"#ed7953\"],[0.7777777777777778,\"#fb9f3a\"],[0.8888888888888888,\"#fdca26\"],[1.0,\"#f0f921\"]],\"diverging\":[[0,\"#8e0152\"],[0.1,\"#c51b7d\"],[0.2,\"#de77ae\"],[0.3,\"#f1b6da\"],[0.4,\"#fde0ef\"],[0.5,\"#f7f7f7\"],[0.6,\"#e6f5d0\"],[0.7,\"#b8e186\"],[0.8,\"#7fbc41\"],[0.9,\"#4d9221\"],[1,\"#276419\"]]},\"xaxis\":{\"gridcolor\":\"white\",\"linecolor\":\"white\",\"ticks\":\"\",\"title\":{\"standoff\":15},\"zerolinecolor\":\"white\",\"automargin\":true,\"zerolinewidth\":2},\"yaxis\":{\"gridcolor\":\"white\",\"linecolor\":\"white\",\"ticks\":\"\",\"title\":{\"standoff\":15},\"zerolinecolor\":\"white\",\"automargin\":true,\"zerolinewidth\":2},\"scene\":{\"xaxis\":{\"backgroundcolor\":\"#E5ECF6\",\"gridcolor\":\"white\",\"linecolor\":\"white\",\"showbackground\":true,\"ticks\":\"\",\"zerolinecolor\":\"white\",\"gridwidth\":2},\"yaxis\":{\"backgroundcolor\":\"#E5ECF6\",\"gridcolor\":\"white\",\"linecolor\":\"white\",\"showbackground\":true,\"ticks\":\"\",\"zerolinecolor\":\"white\",\"gridwidth\":2},\"zaxis\":{\"backgroundcolor\":\"#E5ECF6\",\"gridcolor\":\"white\",\"linecolor\":\"white\",\"showbackground\":true,\"ticks\":\"\",\"zerolinecolor\":\"white\",\"gridwidth\":2}},\"shapedefaults\":{\"line\":{\"color\":\"#2a3f5f\"}},\"annotationdefaults\":{\"arrowcolor\":\"#2a3f5f\",\"arrowhead\":0,\"arrowwidth\":1},\"geo\":{\"bgcolor\":\"white\",\"landcolor\":\"#E5ECF6\",\"subunitcolor\":\"white\",\"showland\":true,\"showlakes\":true,\"lakecolor\":\"white\"},\"title\":{\"x\":0.05},\"mapbox\":{\"style\":\"light\"}}},\"xaxis\":{\"anchor\":\"y\",\"domain\":[0.0,0.45],\"categoryorder\":\"array\",\"categoryarray\":[\"very negative\",\"negative\",\"weakly negative\",\"Neutral\",\"weakly positive\",\"positive\",\"very positive\"]},\"yaxis\":{\"anchor\":\"x\",\"domain\":[0.0,1.0],\"range\":[0,200]},\"xaxis2\":{\"anchor\":\"y2\",\"domain\":[0.55,1.0],\"categoryorder\":\"array\",\"categoryarray\":[\"very negative\",\"negative\",\"weakly negative\",\"Neutral\",\"weakly positive\",\"positive\",\"very positive\"]},\"yaxis2\":{\"anchor\":\"x2\",\"domain\":[0.0,1.0],\"range\":[0,200]},\"annotations\":[{\"font\":{\"size\":16},\"showarrow\":false,\"text\":\"Grond-truth\",\"x\":0.225,\"xanchor\":\"center\",\"xref\":\"paper\",\"y\":1.0,\"yanchor\":\"bottom\",\"yref\":\"paper\"},{\"font\":{\"size\":16},\"showarrow\":false,\"text\":\"MMIM\",\"x\":0.775,\"xanchor\":\"center\",\"xref\":\"paper\",\"y\":1.0,\"yanchor\":\"bottom\",\"yref\":\"paper\"}],\"title\":{\"text\":\"7-Classification Result\"}},                        {\"responsive\": true}                    ).then(function(){\n",
       "                            \n",
       "var gd = document.getElementById('aebc7a13-766a-4f14-83ef-2da638abcd04');\n",
       "var x = new MutationObserver(function (mutations, observer) {{\n",
       "        var display = window.getComputedStyle(gd).display;\n",
       "        if (!display || display === 'none') {{\n",
       "            console.log([gd, 'removed!']);\n",
       "            Plotly.purge(gd);\n",
       "            observer.disconnect();\n",
       "        }}\n",
       "}});\n",
       "\n",
       "// Listen for the removal of the full notebook cells\n",
       "var notebookContainer = gd.closest('#notebook-container');\n",
       "if (notebookContainer) {{\n",
       "    x.observe(notebookContainer, {childList: true});\n",
       "}}\n",
       "\n",
       "// Listen for the clearing of the current output cell\n",
       "var outputEl = gd.closest('.output');\n",
       "if (outputEl) {{\n",
       "    x.observe(outputEl, {childList: true});\n",
       "}}\n",
       "\n",
       "                        })                };                });            </script>        </div>"
      ]
     },
     "metadata": {},
     "output_type": "display_data"
    }
   ],
   "source": [
    "import plotly.express as px\n",
    "import plotly.subplots as sp\n",
    "import pandas as pd\n",
    "\n",
    "df = pd.DataFrame(data=mmim)\n",
    "df_gold = df.groupby('labels_7').count().reset_index()\n",
    "df_pred = df.groupby('preds_7').count().reset_index()\n",
    "\n",
    "order = ['very negative', 'negative', 'weakly negative', 'Neutral', 'weakly positive', 'positive', 'very positive']\n",
    "\n",
    "fig1 = px.bar(df_gold, x=\"labels_7\", y=\"segment\")\n",
    "fig2 = px.bar(df_pred, x=\"preds_7\", y=\"segment\")\n",
    "\n",
    "fig1_traces = []\n",
    "fig2_traces = []\n",
    "\n",
    "for trace in range(len(fig1[\"data\"])):\n",
    "    fig1_traces.append(fig1[\"data\"][trace])\n",
    "for trace in range(len(fig2[\"data\"])):\n",
    "    fig2_traces.append(fig2[\"data\"][trace])\n",
    "\n",
    "this_figure = sp.make_subplots(rows=1, cols=2, subplot_titles=(\"Grond-truth\", \"MMIM\"))\n",
    "for traces in fig1_traces:\n",
    "    this_figure.append_trace(traces, row=1, col=1)\n",
    "for traces in fig2_traces:\n",
    "    this_figure.append_trace(traces, row=1, col=2)\n",
    "\n",
    "this_figure.update_layout(title_text=\"7-Classification Result\")\n",
    "this_figure.update_xaxes(categoryorder='array', categoryarray= order)\n",
    "this_figure.update_yaxes(range=[0,200])\n",
    "this_figure.show()"
   ]
  },
  {
   "cell_type": "code",
   "execution_count": 13,
   "metadata": {},
   "outputs": [],
   "source": [
    "segment_list = mmim[\"segment\"]\n",
    "preds = mmim[\"preds\"]\n",
    "labels_7 = mmim[\"labels_7\"]"
   ]
  },
  {
   "cell_type": "code",
   "execution_count": 29,
   "metadata": {},
   "outputs": [],
   "source": [
    "error_VN, error_N, error_SN, error_Neu, error_SP, error_P, error_VP = [], [], [], [], [], [], []\n",
    "for idx in range(len(segment_list)):\n",
    "    if labels_7[idx] == 'very negative': error_VN.append(abs(preds[idx] - (-3.0))[0])\n",
    "    if labels_7[idx] == 'negative': error_N.append(abs(preds[idx] - (-2.0))[0])\n",
    "    if labels_7[idx] == 'weakly negative': error_SN.append(abs(preds[idx] - (-1.0))[0])\n",
    "    if labels_7[idx] == 'Neutral': error_Neu.append(abs(preds[idx])[0])\n",
    "    if labels_7[idx] == 'weakly positive': error_SP.append(abs(preds[idx] - 1.0)[0])\n",
    "    if labels_7[idx] == 'positive': error_P.append(abs(preds[idx] - 2.0)[0])\n",
    "    if labels_7[idx] == 'very positive': error_VP.append(abs(preds[idx] - 3.0)[0])"
   ]
  },
  {
   "cell_type": "code",
   "execution_count": 32,
   "metadata": {},
   "outputs": [
    {
     "data": {
      "application/vnd.plotly.v1+json": {
       "config": {
        "plotlyServerURL": "https://plot.ly"
       },
       "data": [
        {
         "boxpoints": "all",
         "jitter": 0,
         "marker": {
          "color": "#1984c5"
         },
         "name": "very negative",
         "type": "box",
         "y": [
          0.2468106746673584,
          0.2962303161621094,
          5.083059310913086,
          1.087556004524231,
          1.0867887735366821,
          2.4191274642944336,
          1.3017520904541016,
          4.093157768249512,
          2.744121551513672,
          0.9646904468536377,
          2.021501064300537,
          0.7653610706329346,
          0.43312525749206543,
          1.2220457792282104,
          1.339414119720459,
          1.5147860050201416,
          2.0356945991516113,
          1.2490187883377075,
          1.5576971769332886,
          2.700406074523926,
          0.30036234855651855,
          2.766585350036621,
          0.887639045715332,
          0.1920473575592041,
          0.6688752174377441,
          2.5524020195007324,
          2.5989599227905273,
          0.5732972621917725,
          0.7759978771209717,
          0.367786169052124,
          0.9742715358734131,
          2.471376419067383,
          0.7503101825714111,
          0.2867090702056885,
          2.6183924674987793,
          0.2867090702056885,
          0.32727718353271484,
          2.3029799461364746,
          2.22001314163208,
          3.489530086517334,
          1.3133764266967773,
          2.101616382598877,
          2.606560230255127,
          2.3904314041137695,
          0.4917294979095459,
          1.643373966217041,
          0.6829392910003662,
          0.7138326168060303,
          0.33507466316223145,
          2.731276035308838,
          3.4684720039367676,
          1.4509837627410889,
          2.3215160369873047,
          2.1229920387268066,
          2.6787285804748535,
          1.016075611114502,
          0.234893798828125,
          0.1464693546295166,
          1.3097777366638184,
          2.050661563873291,
          2.5903384685516357,
          2.6088500022888184,
          0.7080833911895752,
          2.295443534851074,
          0.4401414394378662,
          1.7875328063964844,
          2.3814473152160645,
          2.220569133758545,
          0.6762690544128418,
          1.586357593536377,
          2.509856939315796,
          1.1036567687988281,
          1.412771224975586,
          0.2550351619720459,
          2.5645337104797363,
          1.8186326026916504,
          5.514908790588379,
          0.8125629425048828,
          1.8088583946228027,
          0.0034906864166259766,
          2.7807912826538086,
          0.6510288715362549,
          2.4901247024536133,
          3.9587855339050293,
          2.1343226432800293,
          1.693390130996704,
          0.9083080291748047,
          1.0524368286132812,
          1.137613296508789,
          1.5900514125823975,
          2.5611157417297363,
          0.9848072528839111,
          0.7447042465209961,
          0.4567232131958008,
          0.8351714611053467,
          1.2520356178283691
         ]
        },
        {
         "boxpoints": "all",
         "jitter": 0,
         "marker": {
          "color": "#22a7f0"
         },
         "name": "negative",
         "type": "box",
         "y": [
          1.6968079805374146,
          1.161003828048706,
          1.3688483238220215,
          1.8185975551605225,
          0.987443208694458,
          3.9025890827178955,
          0.08774805068969727,
          0.5823860168457031,
          1.154414176940918,
          0.2251344919204712,
          0.6156771183013916,
          1.2360495328903198,
          0.7564101219177246,
          0.741084098815918,
          1.041008472442627,
          1.8812904357910156,
          2.1309714317321777,
          0.9103841781616211,
          2.515605926513672,
          1.8538322448730469,
          0.35456418991088867,
          1.6425888538360596,
          1.2802248001098633,
          1.420703649520874,
          0.6177468299865723,
          2.2610127925872803,
          1.8522775173187256,
          1.8486831188201904,
          0.12343573570251465,
          0.26162075996398926,
          1.2665225267410278,
          1.8762733936309814,
          0.6392567157745361,
          1.8389997482299805,
          1.192223072052002,
          0.28972017765045166,
          0.40266644954681396,
          2.6717705726623535,
          0.2358236312866211,
          2.1592109203338623,
          2.1981043815612793,
          0.28785240650177,
          1.9499887228012085,
          1.9906461238861084,
          0.430370569229126,
          1.1472280025482178,
          0.7671986818313599,
          1.2192621231079102,
          0.464489221572876,
          1.9090921878814697,
          0.6988885402679443,
          0.8279860019683838,
          1.878546953201294,
          0.10064756870269775,
          1.4098243713378906,
          0.6408596038818359,
          1.2017173767089844,
          1.6654305458068848,
          1.6511926651000977,
          0.37895190715789795,
          1.508488416671753,
          1.0543742179870605,
          1.1811556816101074,
          2.533730983734131,
          1.787581205368042,
          3.655867099761963,
          2.125328540802002,
          0.0218355655670166,
          2.6937077045440674,
          0.31328344345092773,
          0.7918624877929688,
          2.392000675201416,
          0.3831183910369873,
          0.5785071849822998,
          0.23935651779174805,
          1.685750961303711,
          1.4051556587219238,
          1.807641625404358,
          0.40680980682373047,
          1.9547332525253296,
          0.08725810050964355,
          0.6259617805480957,
          1.6868094205856323,
          1.2755086421966553,
          0.7744300365447998,
          1.816772699356079,
          0.055700063705444336,
          0.41863465309143066,
          0.4647156000137329,
          0.5547211170196533,
          0.802788496017456,
          1.05381178855896,
          2.8165392875671387,
          6.325131416320801,
          0.15561389923095703,
          1.120525598526001,
          0.6487065553665161,
          1.230155348777771,
          3.7103443145751953,
          0.6708076000213623,
          0.5395340919494629,
          1.8217592239379883,
          1.3985676765441895,
          1.0501132011413574,
          1.377393364906311,
          2.027991771697998,
          0.24251222610473633,
          4.466123104095459,
          1.176344633102417,
          1.4922959804534912,
          1.8113877773284912,
          4.36171817779541,
          2.1259281635284424,
          1.2266521453857422,
          1.7130711078643799,
          1.161332368850708,
          0.22214043140411377,
          1.6985750198364258,
          1.294602870941162,
          0.43262743949890137,
          0.0066602230072021484,
          0.03293752670288086,
          2.1290435791015625,
          1.7863585948944092,
          0.20270729064941406,
          0.3721308708190918,
          0.2814469337463379,
          1.0903894901275635,
          0.05336260795593262,
          1.3309006690979004,
          1.6629313230514526,
          0.11157679557800293,
          1.1254205703735352,
          6.700989723205566,
          1.7351876497268677,
          0.19395530223846436,
          1.4438226222991943,
          2.8106725215911865,
          0.22676324844360352,
          1.465997338294983,
          0.2623405456542969
         ]
        },
        {
         "boxpoints": "all",
         "jitter": 0,
         "marker": {
          "color": "#63bff0"
         },
         "name": "weakly negative",
         "type": "box",
         "y": [
          1.3446111679077148,
          0.9510824680328369,
          2.2591395378112793,
          0.8677467703819275,
          0.6834034323692322,
          0.37000322341918945,
          4.762119770050049,
          1.2547764778137207,
          0.812778115272522,
          0.19525396823883057,
          0.9978110790252686,
          0.03170156478881836,
          0.3894314765930176,
          0.5167770385742188,
          0.036057353019714355,
          0.524849534034729,
          1.6942381858825684,
          0.9201688766479492,
          0.5859369039535522,
          0.7148560285568237,
          1.0330970287322998,
          1.046597957611084,
          0.7240567803382874,
          0.15075898170471191,
          0.8986518383026123,
          1.1773396730422974,
          6.998615741729736,
          0.3412536382675171,
          1.0877645015716553,
          0.0640631914138794,
          0.2721155881881714,
          0.7740793228149414,
          1.1758613586425781,
          2.0499179363250732,
          0.3648560047149658,
          1.5299313068389893,
          3.399763345718384,
          0.4728044271469116,
          1.7603423595428467,
          0.0484926700592041,
          0.10595154762268066,
          1.2270443439483643,
          0.7878528833389282,
          0.07449913024902344,
          0.27497315406799316,
          0.23634827136993408,
          0.4756661057472229,
          0.2575188875198364,
          0.706336259841919,
          0.21582067012786865,
          5.242845058441162,
          0.483974814414978,
          0.10169386863708496,
          0.2098374366760254,
          0.40883076190948486,
          0.6386381387710571,
          4.209628105163574,
          0.1966334581375122,
          2.1299142837524414,
          0.8152556419372559,
          0.7545493841171265,
          1.708709955215454,
          0.43689393997192383,
          0.6021479368209839,
          0.41712820529937744,
          0.6800018548965454,
          0.5207020044326782,
          0.3814283609390259,
          0.6663265228271484,
          0.533616304397583,
          1.2243592739105225,
          2.6006972789764404,
          1.5310442447662354,
          0.9713125824928284,
          0.17430734634399414,
          7.104432582855225,
          0.013379216194152832,
          0.20903754234313965,
          0.15233302116394043,
          0.535845160484314,
          0.9660031199455261,
          2.1431758403778076,
          0.11627435684204102,
          0.44556570053100586,
          0.9388324618339539,
          1.2889949083328247,
          1.0746383666992188,
          0.6966925859451294,
          0.02396368980407715,
          1.0484097003936768,
          0.592131495475769,
          0.37204408645629883,
          0.23326915502548218,
          0.6660324931144714,
          0.15274953842163086,
          1.8410961627960205,
          0.3964877128601074,
          1.5371694564819336,
          0.6566224098205566,
          2.6643378734588623,
          0.5235930681228638,
          0.8464200496673584,
          0.6100889444351196,
          0.5413578748703003,
          1.0810837745666504,
          0.28201162815093994,
          0.5090031623840332,
          3.2399115562438965,
          1.2425730228424072,
          0.4228564500808716,
          0.03808236122131348,
          0.2444104552268982,
          0.2766255736351013
         ]
        },
        {
         "boxpoints": "all",
         "jitter": 0,
         "marker": {
          "color": "#63bff0"
         },
         "name": "Neutral",
         "type": "box",
         "y": [
          0.29288530349731445,
          1.645604133605957,
          0.272024005651474,
          0.4921776354312897,
          0.7498432993888855,
          0.6243614554405212,
          0.02404705062508583,
          0.05358085408806801,
          0.26485732197761536,
          0.6054054498672485,
          1.2879440784454346,
          0.24699124693870544,
          0.5620932579040527,
          0.33919617533683777,
          0.4017975628376007,
          0.9485981464385986,
          0.38993188738822937,
          0.31366267800331116,
          0.2148045003414154,
          0.1051611602306366,
          5.20683479309082,
          0.39286699891090393,
          0.4699549973011017,
          0.10523378849029541,
          0.7893243432044983,
          0.6905800700187683,
          0.1741602122783661,
          1.0731281042099,
          0.2085358202457428,
          1.669597864151001,
          0.3918261229991913,
          0.7946208715438843,
          0.07110527157783508,
          2.6444764137268066,
          1.5067920684814453,
          0.10171574354171753,
          0.0830405056476593,
          2.3963205814361572,
          0.7359025478363037,
          1.1030795574188232,
          0.6436901092529297,
          0.4180508553981781,
          0.3691641092300415,
          0.9463135004043579,
          4.231284141540527,
          0.8640763759613037,
          2.088806629180908,
          0.014974858611822128,
          2.330688714981079,
          0.3618749678134918,
          0.5114798545837402,
          0.09494706988334656,
          0.10741204023361206,
          0.29555729031562805,
          0.6973811388015747,
          0.45629480481147766,
          3.2400295734405518,
          0.37330254912376404,
          0.1459559202194214,
          2.2586255073547363,
          0.05561158433556557,
          0.29758191108703613,
          0.12011229991912842,
          0.7154926657676697,
          0.24350175261497498,
          0.33984604477882385,
          0.4940594732761383,
          0.4236685335636139,
          1.4582898616790771,
          1.3857603073120117,
          0.37799665331840515,
          0.5344091057777405,
          0.6168168783187866,
          1.9814095497131348,
          0.6805904507637024,
          0.010059479624032974,
          0.0717863142490387,
          0.07063236832618713,
          0.8123473525047302,
          0.8992910385131836,
          0.6206406354904175,
          0.005754675716161728,
          6.601735591888428,
          0.2826271951198578,
          0.203231543302536,
          0.05499008670449257,
          0.31604552268981934,
          0.792351484298706,
          1.1489800214767456,
          0.1941024363040924,
          0.2201843559741974,
          0.31510308384895325,
          0.5189167261123657,
          0.32846465706825256,
          0.2088821828365326,
          0.6298396587371826
         ]
        },
        {
         "boxpoints": "all",
         "jitter": 0,
         "marker": {
          "color": "#63bff0"
         },
         "name": "weakly positive",
         "type": "box",
         "y": [
          0.14849185943603516,
          0.6947563886642456,
          0.6568237543106079,
          0.12062078714370728,
          1.9092888832092285,
          1.2351824045181274,
          0.2479259967803955,
          1.7223279476165771,
          0.915709376335144,
          1.0800968408584595,
          0.3190253973007202,
          0.7637159824371338,
          0.384249210357666,
          1.538960576057434,
          1.2286996841430664,
          0.1859285831451416,
          0.9636998176574707,
          0.04199850559234619,
          2.4849483966827393,
          1.0730550289154053,
          2.1596779823303223,
          3.283921003341675,
          1.8617608547210693,
          1.209999680519104,
          4.356845855712891,
          1.0503015518188477,
          0.9978986978530884,
          1.7702147960662842,
          1.4944877624511719,
          0.443418025970459,
          0.7478801012039185,
          1.584799885749817,
          1.5310699939727783,
          1.944406270980835,
          1.5557833909988403,
          1.8557870388031006,
          0.5598872900009155,
          0.9970697164535522,
          0.22009754180908203,
          0.053475260734558105,
          0.16475129127502441,
          0.9641997814178467,
          0.12397968769073486,
          1.0414237976074219,
          2.9906389713287354,
          0.19060951471328735,
          1.7178409099578857,
          0.5837513208389282,
          0.2666177749633789,
          4.700578689575195,
          3.20864200592041,
          5.2691144943237305,
          3.113304615020752,
          2.8422505855560303,
          5.027787208557129,
          1.6782057285308838,
          3.2916510105133057,
          2.5947659015655518,
          0.269184410572052,
          3.787107467651367,
          0.5862312316894531,
          1.0467326641082764,
          1.3960297107696533,
          0.8597381114959717,
          1.980302333831787,
          0.5301986932754517,
          4.7222580909729,
          0.781872034072876,
          3.2498726844787598,
          0.6481751203536987,
          0.7094970941543579,
          1.034153699874878,
          3.675144910812378,
          4.320361614227295,
          1.2100095748901367,
          0.8814895153045654,
          0.23091888427734375,
          2.6268422603607178,
          3.660390853881836,
          2.5684890747070312,
          1.6334902048110962,
          0.28184354305267334,
          0.3770037293434143,
          1.6534191370010376,
          1.63908052444458,
          0.908531665802002,
          0.4934850335121155,
          0.6375535726547241,
          2.4469830989837646,
          1.3145198822021484,
          0.8644794225692749,
          1.650635004043579,
          4.1058220863342285,
          0.42412233352661133,
          1.1638818979263306,
          1.6559258699417114,
          0.6339385509490967,
          3.063650131225586
         ]
        },
        {
         "boxpoints": "all",
         "jitter": 0,
         "marker": {
          "color": "#22a7f0"
         },
         "name": "positive",
         "type": "box",
         "y": [
          2.3112845420837402,
          1.9220900535583496,
          1.5008004903793335,
          0.2996518611907959,
          1.5925652980804443,
          0.6927255392074585,
          3.2443318367004395,
          2.565458059310913,
          1.588955044746399,
          1.9970133304595947,
          0.4376339912414551,
          0.9385151863098145,
          4.019038200378418,
          3.5738701820373535,
          0.38799452781677246,
          4.152671813964844,
          1.2681896686553955,
          3.9198756217956543,
          2.2293782234191895,
          1.7497804164886475,
          1.5523794889450073,
          0.033611297607421875,
          4.348427772521973,
          0.8169972896575928,
          1.9850783348083496,
          1.775078296661377,
          1.036050796508789,
          0.07797670364379883,
          0.25104427337646484,
          1.024134635925293,
          0.2777559757232666,
          0.01128697395324707,
          0.885589599609375,
          3.8667125701904297,
          2.753138542175293,
          1.7577054500579834,
          1.5007364749908447,
          0.26223278045654297,
          3.6491551399230957,
          3.991765022277832,
          1.434568166732788,
          1.1302058696746826,
          3.7023472785949707,
          2.277700424194336,
          1.548194408416748,
          0.35453951358795166,
          1.0897023677825928,
          2.6635546684265137,
          1.706197738647461,
          2.5188422203063965,
          2.9595248699188232,
          1.194871187210083,
          2.049424171447754,
          2.5755739212036133,
          1.7293739318847656,
          0.44979166984558105,
          1.0099024772644043,
          0.3962893486022949,
          0.17189979553222656,
          0.5708471536636353,
          5.016037940979004,
          2.231557607650757,
          2.320425033569336,
          0.16210198402404785,
          1.6542131900787354,
          1.612501859664917,
          2.2098240852355957,
          2.1596384048461914,
          1.4286277294158936,
          1.863356113433838,
          2.480299949645996,
          1.4902994632720947,
          2.214799404144287,
          1.2048795223236084,
          1.679065465927124,
          1.9414427280426025,
          0.22977471351623535,
          0.9958721399307251,
          1.6315008401870728,
          2.129833698272705,
          1.090040922164917,
          0.34729886054992676,
          1.4334230422973633,
          0.9441964626312256,
          0.2535746097564697,
          0.10530233383178711,
          0.47253644466400146,
          0.5118069648742676,
          1.602421760559082,
          1.4502599239349365,
          2.3762283325195312,
          1.8672785758972168,
          1.1883256435394287,
          0.18883764743804932
         ]
        },
        {
         "boxpoints": "all",
         "jitter": 0,
         "marker": {
          "color": "#1984c5"
         },
         "name": "very positive",
         "type": "box",
         "y": [
          3.1053574085235596,
          4.666103839874268,
          0.21380925178527832,
          2.3755784034729004,
          3.5266947746276855,
          2.3671083450317383,
          7.873895645141602,
          3.484837055206299,
          0.35320591926574707,
          2.220902919769287,
          3.2648587226867676,
          1.4386630058288574,
          3.3373894691467285,
          3.0366601943969727,
          1.838826060295105,
          3.632350444793701,
          1.3103137016296387,
          1.32728910446167,
          3.0028724670410156,
          3.5791893005371094,
          2.9953341484069824,
          4.213011741638184,
          3.407858371734619,
          3.1094956398010254,
          2.0712904930114746,
          1.2737956047058105,
          1.7154250144958496,
          0.17620444297790527,
          0.23097634315490723,
          1.4819438457489014,
          0.23655986785888672,
          0.6327893733978271,
          1.362135887145996,
          3.007251262664795,
          1.343949794769287,
          0.35776209831237793,
          1.1995606422424316,
          1.508498191833496,
          1.9525647163391113,
          0.7153644561767578,
          1.1170954704284668,
          0.9878156185150146,
          1.1525864601135254,
          0.5419070720672607,
          1.4186716079711914,
          1.254209041595459,
          3.4627890586853027,
          0.022792816162109375
         ]
        },
        {
         "marker": {
          "color": "red"
         },
         "mode": "markers",
         "name": "Mean Absolute Error",
         "type": "scatter",
         "x": [
          "very negative",
          "negative",
          "weakly negative",
          "Neutral",
          "weakly positive",
          "positive",
          "very positive"
         ],
         "y": [
          1.6012020111083984,
          1.313491940498352,
          1.0001161098480225,
          0.7804697155952454,
          1.5600793361663818,
          1.6411662101745605,
          2.060532331466675
         ]
        }
       ],
       "layout": {
        "template": {
         "data": {
          "bar": [
           {
            "error_x": {
             "color": "#2a3f5f"
            },
            "error_y": {
             "color": "#2a3f5f"
            },
            "marker": {
             "line": {
              "color": "#E5ECF6",
              "width": 0.5
             },
             "pattern": {
              "fillmode": "overlay",
              "size": 10,
              "solidity": 0.2
             }
            },
            "type": "bar"
           }
          ],
          "barpolar": [
           {
            "marker": {
             "line": {
              "color": "#E5ECF6",
              "width": 0.5
             },
             "pattern": {
              "fillmode": "overlay",
              "size": 10,
              "solidity": 0.2
             }
            },
            "type": "barpolar"
           }
          ],
          "carpet": [
           {
            "aaxis": {
             "endlinecolor": "#2a3f5f",
             "gridcolor": "white",
             "linecolor": "white",
             "minorgridcolor": "white",
             "startlinecolor": "#2a3f5f"
            },
            "baxis": {
             "endlinecolor": "#2a3f5f",
             "gridcolor": "white",
             "linecolor": "white",
             "minorgridcolor": "white",
             "startlinecolor": "#2a3f5f"
            },
            "type": "carpet"
           }
          ],
          "choropleth": [
           {
            "colorbar": {
             "outlinewidth": 0,
             "ticks": ""
            },
            "type": "choropleth"
           }
          ],
          "contour": [
           {
            "colorbar": {
             "outlinewidth": 0,
             "ticks": ""
            },
            "colorscale": [
             [
              0,
              "#0d0887"
             ],
             [
              0.1111111111111111,
              "#46039f"
             ],
             [
              0.2222222222222222,
              "#7201a8"
             ],
             [
              0.3333333333333333,
              "#9c179e"
             ],
             [
              0.4444444444444444,
              "#bd3786"
             ],
             [
              0.5555555555555556,
              "#d8576b"
             ],
             [
              0.6666666666666666,
              "#ed7953"
             ],
             [
              0.7777777777777778,
              "#fb9f3a"
             ],
             [
              0.8888888888888888,
              "#fdca26"
             ],
             [
              1,
              "#f0f921"
             ]
            ],
            "type": "contour"
           }
          ],
          "contourcarpet": [
           {
            "colorbar": {
             "outlinewidth": 0,
             "ticks": ""
            },
            "type": "contourcarpet"
           }
          ],
          "heatmap": [
           {
            "colorbar": {
             "outlinewidth": 0,
             "ticks": ""
            },
            "colorscale": [
             [
              0,
              "#0d0887"
             ],
             [
              0.1111111111111111,
              "#46039f"
             ],
             [
              0.2222222222222222,
              "#7201a8"
             ],
             [
              0.3333333333333333,
              "#9c179e"
             ],
             [
              0.4444444444444444,
              "#bd3786"
             ],
             [
              0.5555555555555556,
              "#d8576b"
             ],
             [
              0.6666666666666666,
              "#ed7953"
             ],
             [
              0.7777777777777778,
              "#fb9f3a"
             ],
             [
              0.8888888888888888,
              "#fdca26"
             ],
             [
              1,
              "#f0f921"
             ]
            ],
            "type": "heatmap"
           }
          ],
          "heatmapgl": [
           {
            "colorbar": {
             "outlinewidth": 0,
             "ticks": ""
            },
            "colorscale": [
             [
              0,
              "#0d0887"
             ],
             [
              0.1111111111111111,
              "#46039f"
             ],
             [
              0.2222222222222222,
              "#7201a8"
             ],
             [
              0.3333333333333333,
              "#9c179e"
             ],
             [
              0.4444444444444444,
              "#bd3786"
             ],
             [
              0.5555555555555556,
              "#d8576b"
             ],
             [
              0.6666666666666666,
              "#ed7953"
             ],
             [
              0.7777777777777778,
              "#fb9f3a"
             ],
             [
              0.8888888888888888,
              "#fdca26"
             ],
             [
              1,
              "#f0f921"
             ]
            ],
            "type": "heatmapgl"
           }
          ],
          "histogram": [
           {
            "marker": {
             "pattern": {
              "fillmode": "overlay",
              "size": 10,
              "solidity": 0.2
             }
            },
            "type": "histogram"
           }
          ],
          "histogram2d": [
           {
            "colorbar": {
             "outlinewidth": 0,
             "ticks": ""
            },
            "colorscale": [
             [
              0,
              "#0d0887"
             ],
             [
              0.1111111111111111,
              "#46039f"
             ],
             [
              0.2222222222222222,
              "#7201a8"
             ],
             [
              0.3333333333333333,
              "#9c179e"
             ],
             [
              0.4444444444444444,
              "#bd3786"
             ],
             [
              0.5555555555555556,
              "#d8576b"
             ],
             [
              0.6666666666666666,
              "#ed7953"
             ],
             [
              0.7777777777777778,
              "#fb9f3a"
             ],
             [
              0.8888888888888888,
              "#fdca26"
             ],
             [
              1,
              "#f0f921"
             ]
            ],
            "type": "histogram2d"
           }
          ],
          "histogram2dcontour": [
           {
            "colorbar": {
             "outlinewidth": 0,
             "ticks": ""
            },
            "colorscale": [
             [
              0,
              "#0d0887"
             ],
             [
              0.1111111111111111,
              "#46039f"
             ],
             [
              0.2222222222222222,
              "#7201a8"
             ],
             [
              0.3333333333333333,
              "#9c179e"
             ],
             [
              0.4444444444444444,
              "#bd3786"
             ],
             [
              0.5555555555555556,
              "#d8576b"
             ],
             [
              0.6666666666666666,
              "#ed7953"
             ],
             [
              0.7777777777777778,
              "#fb9f3a"
             ],
             [
              0.8888888888888888,
              "#fdca26"
             ],
             [
              1,
              "#f0f921"
             ]
            ],
            "type": "histogram2dcontour"
           }
          ],
          "mesh3d": [
           {
            "colorbar": {
             "outlinewidth": 0,
             "ticks": ""
            },
            "type": "mesh3d"
           }
          ],
          "parcoords": [
           {
            "line": {
             "colorbar": {
              "outlinewidth": 0,
              "ticks": ""
             }
            },
            "type": "parcoords"
           }
          ],
          "pie": [
           {
            "automargin": true,
            "type": "pie"
           }
          ],
          "scatter": [
           {
            "fillpattern": {
             "fillmode": "overlay",
             "size": 10,
             "solidity": 0.2
            },
            "type": "scatter"
           }
          ],
          "scatter3d": [
           {
            "line": {
             "colorbar": {
              "outlinewidth": 0,
              "ticks": ""
             }
            },
            "marker": {
             "colorbar": {
              "outlinewidth": 0,
              "ticks": ""
             }
            },
            "type": "scatter3d"
           }
          ],
          "scattercarpet": [
           {
            "marker": {
             "colorbar": {
              "outlinewidth": 0,
              "ticks": ""
             }
            },
            "type": "scattercarpet"
           }
          ],
          "scattergeo": [
           {
            "marker": {
             "colorbar": {
              "outlinewidth": 0,
              "ticks": ""
             }
            },
            "type": "scattergeo"
           }
          ],
          "scattergl": [
           {
            "marker": {
             "colorbar": {
              "outlinewidth": 0,
              "ticks": ""
             }
            },
            "type": "scattergl"
           }
          ],
          "scattermapbox": [
           {
            "marker": {
             "colorbar": {
              "outlinewidth": 0,
              "ticks": ""
             }
            },
            "type": "scattermapbox"
           }
          ],
          "scatterpolar": [
           {
            "marker": {
             "colorbar": {
              "outlinewidth": 0,
              "ticks": ""
             }
            },
            "type": "scatterpolar"
           }
          ],
          "scatterpolargl": [
           {
            "marker": {
             "colorbar": {
              "outlinewidth": 0,
              "ticks": ""
             }
            },
            "type": "scatterpolargl"
           }
          ],
          "scatterternary": [
           {
            "marker": {
             "colorbar": {
              "outlinewidth": 0,
              "ticks": ""
             }
            },
            "type": "scatterternary"
           }
          ],
          "surface": [
           {
            "colorbar": {
             "outlinewidth": 0,
             "ticks": ""
            },
            "colorscale": [
             [
              0,
              "#0d0887"
             ],
             [
              0.1111111111111111,
              "#46039f"
             ],
             [
              0.2222222222222222,
              "#7201a8"
             ],
             [
              0.3333333333333333,
              "#9c179e"
             ],
             [
              0.4444444444444444,
              "#bd3786"
             ],
             [
              0.5555555555555556,
              "#d8576b"
             ],
             [
              0.6666666666666666,
              "#ed7953"
             ],
             [
              0.7777777777777778,
              "#fb9f3a"
             ],
             [
              0.8888888888888888,
              "#fdca26"
             ],
             [
              1,
              "#f0f921"
             ]
            ],
            "type": "surface"
           }
          ],
          "table": [
           {
            "cells": {
             "fill": {
              "color": "#EBF0F8"
             },
             "line": {
              "color": "white"
             }
            },
            "header": {
             "fill": {
              "color": "#C8D4E3"
             },
             "line": {
              "color": "white"
             }
            },
            "type": "table"
           }
          ]
         },
         "layout": {
          "annotationdefaults": {
           "arrowcolor": "#2a3f5f",
           "arrowhead": 0,
           "arrowwidth": 1
          },
          "autotypenumbers": "strict",
          "coloraxis": {
           "colorbar": {
            "outlinewidth": 0,
            "ticks": ""
           }
          },
          "colorscale": {
           "diverging": [
            [
             0,
             "#8e0152"
            ],
            [
             0.1,
             "#c51b7d"
            ],
            [
             0.2,
             "#de77ae"
            ],
            [
             0.3,
             "#f1b6da"
            ],
            [
             0.4,
             "#fde0ef"
            ],
            [
             0.5,
             "#f7f7f7"
            ],
            [
             0.6,
             "#e6f5d0"
            ],
            [
             0.7,
             "#b8e186"
            ],
            [
             0.8,
             "#7fbc41"
            ],
            [
             0.9,
             "#4d9221"
            ],
            [
             1,
             "#276419"
            ]
           ],
           "sequential": [
            [
             0,
             "#0d0887"
            ],
            [
             0.1111111111111111,
             "#46039f"
            ],
            [
             0.2222222222222222,
             "#7201a8"
            ],
            [
             0.3333333333333333,
             "#9c179e"
            ],
            [
             0.4444444444444444,
             "#bd3786"
            ],
            [
             0.5555555555555556,
             "#d8576b"
            ],
            [
             0.6666666666666666,
             "#ed7953"
            ],
            [
             0.7777777777777778,
             "#fb9f3a"
            ],
            [
             0.8888888888888888,
             "#fdca26"
            ],
            [
             1,
             "#f0f921"
            ]
           ],
           "sequentialminus": [
            [
             0,
             "#0d0887"
            ],
            [
             0.1111111111111111,
             "#46039f"
            ],
            [
             0.2222222222222222,
             "#7201a8"
            ],
            [
             0.3333333333333333,
             "#9c179e"
            ],
            [
             0.4444444444444444,
             "#bd3786"
            ],
            [
             0.5555555555555556,
             "#d8576b"
            ],
            [
             0.6666666666666666,
             "#ed7953"
            ],
            [
             0.7777777777777778,
             "#fb9f3a"
            ],
            [
             0.8888888888888888,
             "#fdca26"
            ],
            [
             1,
             "#f0f921"
            ]
           ]
          },
          "colorway": [
           "#636efa",
           "#EF553B",
           "#00cc96",
           "#ab63fa",
           "#FFA15A",
           "#19d3f3",
           "#FF6692",
           "#B6E880",
           "#FF97FF",
           "#FECB52"
          ],
          "font": {
           "color": "#2a3f5f"
          },
          "geo": {
           "bgcolor": "white",
           "lakecolor": "white",
           "landcolor": "#E5ECF6",
           "showlakes": true,
           "showland": true,
           "subunitcolor": "white"
          },
          "hoverlabel": {
           "align": "left"
          },
          "hovermode": "closest",
          "mapbox": {
           "style": "light"
          },
          "paper_bgcolor": "white",
          "plot_bgcolor": "#E5ECF6",
          "polar": {
           "angularaxis": {
            "gridcolor": "white",
            "linecolor": "white",
            "ticks": ""
           },
           "bgcolor": "#E5ECF6",
           "radialaxis": {
            "gridcolor": "white",
            "linecolor": "white",
            "ticks": ""
           }
          },
          "scene": {
           "xaxis": {
            "backgroundcolor": "#E5ECF6",
            "gridcolor": "white",
            "gridwidth": 2,
            "linecolor": "white",
            "showbackground": true,
            "ticks": "",
            "zerolinecolor": "white"
           },
           "yaxis": {
            "backgroundcolor": "#E5ECF6",
            "gridcolor": "white",
            "gridwidth": 2,
            "linecolor": "white",
            "showbackground": true,
            "ticks": "",
            "zerolinecolor": "white"
           },
           "zaxis": {
            "backgroundcolor": "#E5ECF6",
            "gridcolor": "white",
            "gridwidth": 2,
            "linecolor": "white",
            "showbackground": true,
            "ticks": "",
            "zerolinecolor": "white"
           }
          },
          "shapedefaults": {
           "line": {
            "color": "#2a3f5f"
           }
          },
          "ternary": {
           "aaxis": {
            "gridcolor": "white",
            "linecolor": "white",
            "ticks": ""
           },
           "baxis": {
            "gridcolor": "white",
            "linecolor": "white",
            "ticks": ""
           },
           "bgcolor": "#E5ECF6",
           "caxis": {
            "gridcolor": "white",
            "linecolor": "white",
            "ticks": ""
           }
          },
          "title": {
           "x": 0.05
          },
          "xaxis": {
           "automargin": true,
           "gridcolor": "white",
           "linecolor": "white",
           "ticks": "",
           "title": {
            "standoff": 15
           },
           "zerolinecolor": "white",
           "zerolinewidth": 2
          },
          "yaxis": {
           "automargin": true,
           "gridcolor": "white",
           "linecolor": "white",
           "ticks": "",
           "title": {
            "standoff": 15
           },
           "zerolinecolor": "white",
           "zerolinewidth": 2
          }
         }
        },
        "title": {
         "text": "MIM Sentiment Intensity Prediction Error Distribution"
        },
        "yaxis": {
         "title": {
          "text": "Absolute Error"
         }
        }
       }
      },
      "text/html": [
       "<div>                            <div id=\"f7ade816-527f-4b19-9a5f-2fe2564cb278\" class=\"plotly-graph-div\" style=\"height:525px; width:100%;\"></div>            <script type=\"text/javascript\">                require([\"plotly\"], function(Plotly) {                    window.PLOTLYENV=window.PLOTLYENV || {};                                    if (document.getElementById(\"f7ade816-527f-4b19-9a5f-2fe2564cb278\")) {                    Plotly.newPlot(                        \"f7ade816-527f-4b19-9a5f-2fe2564cb278\",                        [{\"marker\":{\"color\":\"#1984c5\"},\"name\":\"very negative\",\"y\":[0.2468106746673584,0.2962303161621094,5.083059310913086,1.087556004524231,1.0867887735366821,2.4191274642944336,1.3017520904541016,4.093157768249512,2.744121551513672,0.9646904468536377,2.021501064300537,0.7653610706329346,0.43312525749206543,1.2220457792282104,1.339414119720459,1.5147860050201416,2.0356945991516113,1.2490187883377075,1.5576971769332886,2.700406074523926,0.30036234855651855,2.766585350036621,0.887639045715332,0.1920473575592041,0.6688752174377441,2.5524020195007324,2.5989599227905273,0.5732972621917725,0.7759978771209717,0.367786169052124,0.9742715358734131,2.471376419067383,0.7503101825714111,0.2867090702056885,2.6183924674987793,0.2867090702056885,0.32727718353271484,2.3029799461364746,2.22001314163208,3.489530086517334,1.3133764266967773,2.101616382598877,2.606560230255127,2.3904314041137695,0.4917294979095459,1.643373966217041,0.6829392910003662,0.7138326168060303,0.33507466316223145,2.731276035308838,3.4684720039367676,1.4509837627410889,2.3215160369873047,2.1229920387268066,2.6787285804748535,1.016075611114502,0.234893798828125,0.1464693546295166,1.3097777366638184,2.050661563873291,2.5903384685516357,2.6088500022888184,0.7080833911895752,2.295443534851074,0.4401414394378662,1.7875328063964844,2.3814473152160645,2.220569133758545,0.6762690544128418,1.586357593536377,2.509856939315796,1.1036567687988281,1.412771224975586,0.2550351619720459,2.5645337104797363,1.8186326026916504,5.514908790588379,0.8125629425048828,1.8088583946228027,0.0034906864166259766,2.7807912826538086,0.6510288715362549,2.4901247024536133,3.9587855339050293,2.1343226432800293,1.693390130996704,0.9083080291748047,1.0524368286132812,1.137613296508789,1.5900514125823975,2.5611157417297363,0.9848072528839111,0.7447042465209961,0.4567232131958008,0.8351714611053467,1.2520356178283691],\"type\":\"box\",\"boxpoints\":\"all\",\"jitter\":0},{\"marker\":{\"color\":\"#22a7f0\"},\"name\":\"negative\",\"y\":[1.6968079805374146,1.161003828048706,1.3688483238220215,1.8185975551605225,0.987443208694458,3.9025890827178955,0.08774805068969727,0.5823860168457031,1.154414176940918,0.2251344919204712,0.6156771183013916,1.2360495328903198,0.7564101219177246,0.741084098815918,1.041008472442627,1.8812904357910156,2.1309714317321777,0.9103841781616211,2.515605926513672,1.8538322448730469,0.35456418991088867,1.6425888538360596,1.2802248001098633,1.420703649520874,0.6177468299865723,2.2610127925872803,1.8522775173187256,1.8486831188201904,0.12343573570251465,0.26162075996398926,1.2665225267410278,1.8762733936309814,0.6392567157745361,1.8389997482299805,1.192223072052002,0.28972017765045166,0.40266644954681396,2.6717705726623535,0.2358236312866211,2.1592109203338623,2.1981043815612793,0.28785240650177,1.9499887228012085,1.9906461238861084,0.430370569229126,1.1472280025482178,0.7671986818313599,1.2192621231079102,0.464489221572876,1.9090921878814697,0.6988885402679443,0.8279860019683838,1.878546953201294,0.10064756870269775,1.4098243713378906,0.6408596038818359,1.2017173767089844,1.6654305458068848,1.6511926651000977,0.37895190715789795,1.508488416671753,1.0543742179870605,1.1811556816101074,2.533730983734131,1.787581205368042,3.655867099761963,2.125328540802002,0.0218355655670166,2.6937077045440674,0.31328344345092773,0.7918624877929688,2.392000675201416,0.3831183910369873,0.5785071849822998,0.23935651779174805,1.685750961303711,1.4051556587219238,1.807641625404358,0.40680980682373047,1.9547332525253296,0.08725810050964355,0.6259617805480957,1.6868094205856323,1.2755086421966553,0.7744300365447998,1.816772699356079,0.055700063705444336,0.41863465309143066,0.4647156000137329,0.5547211170196533,0.802788496017456,1.05381178855896,2.8165392875671387,6.325131416320801,0.15561389923095703,1.120525598526001,0.6487065553665161,1.230155348777771,3.7103443145751953,0.6708076000213623,0.5395340919494629,1.8217592239379883,1.3985676765441895,1.0501132011413574,1.377393364906311,2.027991771697998,0.24251222610473633,4.466123104095459,1.176344633102417,1.4922959804534912,1.8113877773284912,4.36171817779541,2.1259281635284424,1.2266521453857422,1.7130711078643799,1.161332368850708,0.22214043140411377,1.6985750198364258,1.294602870941162,0.43262743949890137,0.0066602230072021484,0.03293752670288086,2.1290435791015625,1.7863585948944092,0.20270729064941406,0.3721308708190918,0.2814469337463379,1.0903894901275635,0.05336260795593262,1.3309006690979004,1.6629313230514526,0.11157679557800293,1.1254205703735352,6.700989723205566,1.7351876497268677,0.19395530223846436,1.4438226222991943,2.8106725215911865,0.22676324844360352,1.465997338294983,0.2623405456542969],\"type\":\"box\",\"boxpoints\":\"all\",\"jitter\":0},{\"marker\":{\"color\":\"#63bff0\"},\"name\":\"weakly negative\",\"y\":[1.3446111679077148,0.9510824680328369,2.2591395378112793,0.8677467703819275,0.6834034323692322,0.37000322341918945,4.762119770050049,1.2547764778137207,0.812778115272522,0.19525396823883057,0.9978110790252686,0.03170156478881836,0.3894314765930176,0.5167770385742188,0.036057353019714355,0.524849534034729,1.6942381858825684,0.9201688766479492,0.5859369039535522,0.7148560285568237,1.0330970287322998,1.046597957611084,0.7240567803382874,0.15075898170471191,0.8986518383026123,1.1773396730422974,6.998615741729736,0.3412536382675171,1.0877645015716553,0.0640631914138794,0.2721155881881714,0.7740793228149414,1.1758613586425781,2.0499179363250732,0.3648560047149658,1.5299313068389893,3.399763345718384,0.4728044271469116,1.7603423595428467,0.0484926700592041,0.10595154762268066,1.2270443439483643,0.7878528833389282,0.07449913024902344,0.27497315406799316,0.23634827136993408,0.4756661057472229,0.2575188875198364,0.706336259841919,0.21582067012786865,5.242845058441162,0.483974814414978,0.10169386863708496,0.2098374366760254,0.40883076190948486,0.6386381387710571,4.209628105163574,0.1966334581375122,2.1299142837524414,0.8152556419372559,0.7545493841171265,1.708709955215454,0.43689393997192383,0.6021479368209839,0.41712820529937744,0.6800018548965454,0.5207020044326782,0.3814283609390259,0.6663265228271484,0.533616304397583,1.2243592739105225,2.6006972789764404,1.5310442447662354,0.9713125824928284,0.17430734634399414,7.104432582855225,0.013379216194152832,0.20903754234313965,0.15233302116394043,0.535845160484314,0.9660031199455261,2.1431758403778076,0.11627435684204102,0.44556570053100586,0.9388324618339539,1.2889949083328247,1.0746383666992188,0.6966925859451294,0.02396368980407715,1.0484097003936768,0.592131495475769,0.37204408645629883,0.23326915502548218,0.6660324931144714,0.15274953842163086,1.8410961627960205,0.3964877128601074,1.5371694564819336,0.6566224098205566,2.6643378734588623,0.5235930681228638,0.8464200496673584,0.6100889444351196,0.5413578748703003,1.0810837745666504,0.28201162815093994,0.5090031623840332,3.2399115562438965,1.2425730228424072,0.4228564500808716,0.03808236122131348,0.2444104552268982,0.2766255736351013],\"type\":\"box\",\"boxpoints\":\"all\",\"jitter\":0},{\"marker\":{\"color\":\"#63bff0\"},\"name\":\"Neutral\",\"y\":[0.29288530349731445,1.645604133605957,0.272024005651474,0.4921776354312897,0.7498432993888855,0.6243614554405212,0.02404705062508583,0.05358085408806801,0.26485732197761536,0.6054054498672485,1.2879440784454346,0.24699124693870544,0.5620932579040527,0.33919617533683777,0.4017975628376007,0.9485981464385986,0.38993188738822937,0.31366267800331116,0.2148045003414154,0.1051611602306366,5.20683479309082,0.39286699891090393,0.4699549973011017,0.10523378849029541,0.7893243432044983,0.6905800700187683,0.1741602122783661,1.0731281042099,0.2085358202457428,1.669597864151001,0.3918261229991913,0.7946208715438843,0.07110527157783508,2.6444764137268066,1.5067920684814453,0.10171574354171753,0.0830405056476593,2.3963205814361572,0.7359025478363037,1.1030795574188232,0.6436901092529297,0.4180508553981781,0.3691641092300415,0.9463135004043579,4.231284141540527,0.8640763759613037,2.088806629180908,0.014974858611822128,2.330688714981079,0.3618749678134918,0.5114798545837402,0.09494706988334656,0.10741204023361206,0.29555729031562805,0.6973811388015747,0.45629480481147766,3.2400295734405518,0.37330254912376404,0.1459559202194214,2.2586255073547363,0.05561158433556557,0.29758191108703613,0.12011229991912842,0.7154926657676697,0.24350175261497498,0.33984604477882385,0.4940594732761383,0.4236685335636139,1.4582898616790771,1.3857603073120117,0.37799665331840515,0.5344091057777405,0.6168168783187866,1.9814095497131348,0.6805904507637024,0.010059479624032974,0.0717863142490387,0.07063236832618713,0.8123473525047302,0.8992910385131836,0.6206406354904175,0.005754675716161728,6.601735591888428,0.2826271951198578,0.203231543302536,0.05499008670449257,0.31604552268981934,0.792351484298706,1.1489800214767456,0.1941024363040924,0.2201843559741974,0.31510308384895325,0.5189167261123657,0.32846465706825256,0.2088821828365326,0.6298396587371826],\"type\":\"box\",\"boxpoints\":\"all\",\"jitter\":0},{\"marker\":{\"color\":\"#63bff0\"},\"name\":\"weakly positive\",\"y\":[0.14849185943603516,0.6947563886642456,0.6568237543106079,0.12062078714370728,1.9092888832092285,1.2351824045181274,0.2479259967803955,1.7223279476165771,0.915709376335144,1.0800968408584595,0.3190253973007202,0.7637159824371338,0.384249210357666,1.538960576057434,1.2286996841430664,0.1859285831451416,0.9636998176574707,0.04199850559234619,2.4849483966827393,1.0730550289154053,2.1596779823303223,3.283921003341675,1.8617608547210693,1.209999680519104,4.356845855712891,1.0503015518188477,0.9978986978530884,1.7702147960662842,1.4944877624511719,0.443418025970459,0.7478801012039185,1.584799885749817,1.5310699939727783,1.944406270980835,1.5557833909988403,1.8557870388031006,0.5598872900009155,0.9970697164535522,0.22009754180908203,0.053475260734558105,0.16475129127502441,0.9641997814178467,0.12397968769073486,1.0414237976074219,2.9906389713287354,0.19060951471328735,1.7178409099578857,0.5837513208389282,0.2666177749633789,4.700578689575195,3.20864200592041,5.2691144943237305,3.113304615020752,2.8422505855560303,5.027787208557129,1.6782057285308838,3.2916510105133057,2.5947659015655518,0.269184410572052,3.787107467651367,0.5862312316894531,1.0467326641082764,1.3960297107696533,0.8597381114959717,1.980302333831787,0.5301986932754517,4.7222580909729,0.781872034072876,3.2498726844787598,0.6481751203536987,0.7094970941543579,1.034153699874878,3.675144910812378,4.320361614227295,1.2100095748901367,0.8814895153045654,0.23091888427734375,2.6268422603607178,3.660390853881836,2.5684890747070312,1.6334902048110962,0.28184354305267334,0.3770037293434143,1.6534191370010376,1.63908052444458,0.908531665802002,0.4934850335121155,0.6375535726547241,2.4469830989837646,1.3145198822021484,0.8644794225692749,1.650635004043579,4.1058220863342285,0.42412233352661133,1.1638818979263306,1.6559258699417114,0.6339385509490967,3.063650131225586],\"type\":\"box\",\"boxpoints\":\"all\",\"jitter\":0},{\"marker\":{\"color\":\"#22a7f0\"},\"name\":\"positive\",\"y\":[2.3112845420837402,1.9220900535583496,1.5008004903793335,0.2996518611907959,1.5925652980804443,0.6927255392074585,3.2443318367004395,2.565458059310913,1.588955044746399,1.9970133304595947,0.4376339912414551,0.9385151863098145,4.019038200378418,3.5738701820373535,0.38799452781677246,4.152671813964844,1.2681896686553955,3.9198756217956543,2.2293782234191895,1.7497804164886475,1.5523794889450073,0.033611297607421875,4.348427772521973,0.8169972896575928,1.9850783348083496,1.775078296661377,1.036050796508789,0.07797670364379883,0.25104427337646484,1.024134635925293,0.2777559757232666,0.01128697395324707,0.885589599609375,3.8667125701904297,2.753138542175293,1.7577054500579834,1.5007364749908447,0.26223278045654297,3.6491551399230957,3.991765022277832,1.434568166732788,1.1302058696746826,3.7023472785949707,2.277700424194336,1.548194408416748,0.35453951358795166,1.0897023677825928,2.6635546684265137,1.706197738647461,2.5188422203063965,2.9595248699188232,1.194871187210083,2.049424171447754,2.5755739212036133,1.7293739318847656,0.44979166984558105,1.0099024772644043,0.3962893486022949,0.17189979553222656,0.5708471536636353,5.016037940979004,2.231557607650757,2.320425033569336,0.16210198402404785,1.6542131900787354,1.612501859664917,2.2098240852355957,2.1596384048461914,1.4286277294158936,1.863356113433838,2.480299949645996,1.4902994632720947,2.214799404144287,1.2048795223236084,1.679065465927124,1.9414427280426025,0.22977471351623535,0.9958721399307251,1.6315008401870728,2.129833698272705,1.090040922164917,0.34729886054992676,1.4334230422973633,0.9441964626312256,0.2535746097564697,0.10530233383178711,0.47253644466400146,0.5118069648742676,1.602421760559082,1.4502599239349365,2.3762283325195312,1.8672785758972168,1.1883256435394287,0.18883764743804932],\"type\":\"box\",\"boxpoints\":\"all\",\"jitter\":0},{\"marker\":{\"color\":\"#1984c5\"},\"name\":\"very positive\",\"y\":[3.1053574085235596,4.666103839874268,0.21380925178527832,2.3755784034729004,3.5266947746276855,2.3671083450317383,7.873895645141602,3.484837055206299,0.35320591926574707,2.220902919769287,3.2648587226867676,1.4386630058288574,3.3373894691467285,3.0366601943969727,1.838826060295105,3.632350444793701,1.3103137016296387,1.32728910446167,3.0028724670410156,3.5791893005371094,2.9953341484069824,4.213011741638184,3.407858371734619,3.1094956398010254,2.0712904930114746,1.2737956047058105,1.7154250144958496,0.17620444297790527,0.23097634315490723,1.4819438457489014,0.23655986785888672,0.6327893733978271,1.362135887145996,3.007251262664795,1.343949794769287,0.35776209831237793,1.1995606422424316,1.508498191833496,1.9525647163391113,0.7153644561767578,1.1170954704284668,0.9878156185150146,1.1525864601135254,0.5419070720672607,1.4186716079711914,1.254209041595459,3.4627890586853027,0.022792816162109375],\"type\":\"box\",\"boxpoints\":\"all\",\"jitter\":0},{\"marker\":{\"color\":\"red\"},\"mode\":\"markers\",\"name\":\"Mean Absolute Error\",\"x\":[\"very negative\",\"negative\",\"weakly negative\",\"Neutral\",\"weakly positive\",\"positive\",\"very positive\"],\"y\":[1.6012020111083984,1.313491940498352,1.0001161098480225,0.7804697155952454,1.5600793361663818,1.6411662101745605,2.060532331466675],\"type\":\"scatter\"}],                        {\"template\":{\"data\":{\"histogram2dcontour\":[{\"type\":\"histogram2dcontour\",\"colorbar\":{\"outlinewidth\":0,\"ticks\":\"\"},\"colorscale\":[[0.0,\"#0d0887\"],[0.1111111111111111,\"#46039f\"],[0.2222222222222222,\"#7201a8\"],[0.3333333333333333,\"#9c179e\"],[0.4444444444444444,\"#bd3786\"],[0.5555555555555556,\"#d8576b\"],[0.6666666666666666,\"#ed7953\"],[0.7777777777777778,\"#fb9f3a\"],[0.8888888888888888,\"#fdca26\"],[1.0,\"#f0f921\"]]}],\"choropleth\":[{\"type\":\"choropleth\",\"colorbar\":{\"outlinewidth\":0,\"ticks\":\"\"}}],\"histogram2d\":[{\"type\":\"histogram2d\",\"colorbar\":{\"outlinewidth\":0,\"ticks\":\"\"},\"colorscale\":[[0.0,\"#0d0887\"],[0.1111111111111111,\"#46039f\"],[0.2222222222222222,\"#7201a8\"],[0.3333333333333333,\"#9c179e\"],[0.4444444444444444,\"#bd3786\"],[0.5555555555555556,\"#d8576b\"],[0.6666666666666666,\"#ed7953\"],[0.7777777777777778,\"#fb9f3a\"],[0.8888888888888888,\"#fdca26\"],[1.0,\"#f0f921\"]]}],\"heatmap\":[{\"type\":\"heatmap\",\"colorbar\":{\"outlinewidth\":0,\"ticks\":\"\"},\"colorscale\":[[0.0,\"#0d0887\"],[0.1111111111111111,\"#46039f\"],[0.2222222222222222,\"#7201a8\"],[0.3333333333333333,\"#9c179e\"],[0.4444444444444444,\"#bd3786\"],[0.5555555555555556,\"#d8576b\"],[0.6666666666666666,\"#ed7953\"],[0.7777777777777778,\"#fb9f3a\"],[0.8888888888888888,\"#fdca26\"],[1.0,\"#f0f921\"]]}],\"heatmapgl\":[{\"type\":\"heatmapgl\",\"colorbar\":{\"outlinewidth\":0,\"ticks\":\"\"},\"colorscale\":[[0.0,\"#0d0887\"],[0.1111111111111111,\"#46039f\"],[0.2222222222222222,\"#7201a8\"],[0.3333333333333333,\"#9c179e\"],[0.4444444444444444,\"#bd3786\"],[0.5555555555555556,\"#d8576b\"],[0.6666666666666666,\"#ed7953\"],[0.7777777777777778,\"#fb9f3a\"],[0.8888888888888888,\"#fdca26\"],[1.0,\"#f0f921\"]]}],\"contourcarpet\":[{\"type\":\"contourcarpet\",\"colorbar\":{\"outlinewidth\":0,\"ticks\":\"\"}}],\"contour\":[{\"type\":\"contour\",\"colorbar\":{\"outlinewidth\":0,\"ticks\":\"\"},\"colorscale\":[[0.0,\"#0d0887\"],[0.1111111111111111,\"#46039f\"],[0.2222222222222222,\"#7201a8\"],[0.3333333333333333,\"#9c179e\"],[0.4444444444444444,\"#bd3786\"],[0.5555555555555556,\"#d8576b\"],[0.6666666666666666,\"#ed7953\"],[0.7777777777777778,\"#fb9f3a\"],[0.8888888888888888,\"#fdca26\"],[1.0,\"#f0f921\"]]}],\"surface\":[{\"type\":\"surface\",\"colorbar\":{\"outlinewidth\":0,\"ticks\":\"\"},\"colorscale\":[[0.0,\"#0d0887\"],[0.1111111111111111,\"#46039f\"],[0.2222222222222222,\"#7201a8\"],[0.3333333333333333,\"#9c179e\"],[0.4444444444444444,\"#bd3786\"],[0.5555555555555556,\"#d8576b\"],[0.6666666666666666,\"#ed7953\"],[0.7777777777777778,\"#fb9f3a\"],[0.8888888888888888,\"#fdca26\"],[1.0,\"#f0f921\"]]}],\"mesh3d\":[{\"type\":\"mesh3d\",\"colorbar\":{\"outlinewidth\":0,\"ticks\":\"\"}}],\"scatter\":[{\"fillpattern\":{\"fillmode\":\"overlay\",\"size\":10,\"solidity\":0.2},\"type\":\"scatter\"}],\"parcoords\":[{\"type\":\"parcoords\",\"line\":{\"colorbar\":{\"outlinewidth\":0,\"ticks\":\"\"}}}],\"scatterpolargl\":[{\"type\":\"scatterpolargl\",\"marker\":{\"colorbar\":{\"outlinewidth\":0,\"ticks\":\"\"}}}],\"bar\":[{\"error_x\":{\"color\":\"#2a3f5f\"},\"error_y\":{\"color\":\"#2a3f5f\"},\"marker\":{\"line\":{\"color\":\"#E5ECF6\",\"width\":0.5},\"pattern\":{\"fillmode\":\"overlay\",\"size\":10,\"solidity\":0.2}},\"type\":\"bar\"}],\"scattergeo\":[{\"type\":\"scattergeo\",\"marker\":{\"colorbar\":{\"outlinewidth\":0,\"ticks\":\"\"}}}],\"scatterpolar\":[{\"type\":\"scatterpolar\",\"marker\":{\"colorbar\":{\"outlinewidth\":0,\"ticks\":\"\"}}}],\"histogram\":[{\"marker\":{\"pattern\":{\"fillmode\":\"overlay\",\"size\":10,\"solidity\":0.2}},\"type\":\"histogram\"}],\"scattergl\":[{\"type\":\"scattergl\",\"marker\":{\"colorbar\":{\"outlinewidth\":0,\"ticks\":\"\"}}}],\"scatter3d\":[{\"type\":\"scatter3d\",\"line\":{\"colorbar\":{\"outlinewidth\":0,\"ticks\":\"\"}},\"marker\":{\"colorbar\":{\"outlinewidth\":0,\"ticks\":\"\"}}}],\"scattermapbox\":[{\"type\":\"scattermapbox\",\"marker\":{\"colorbar\":{\"outlinewidth\":0,\"ticks\":\"\"}}}],\"scatterternary\":[{\"type\":\"scatterternary\",\"marker\":{\"colorbar\":{\"outlinewidth\":0,\"ticks\":\"\"}}}],\"scattercarpet\":[{\"type\":\"scattercarpet\",\"marker\":{\"colorbar\":{\"outlinewidth\":0,\"ticks\":\"\"}}}],\"carpet\":[{\"aaxis\":{\"endlinecolor\":\"#2a3f5f\",\"gridcolor\":\"white\",\"linecolor\":\"white\",\"minorgridcolor\":\"white\",\"startlinecolor\":\"#2a3f5f\"},\"baxis\":{\"endlinecolor\":\"#2a3f5f\",\"gridcolor\":\"white\",\"linecolor\":\"white\",\"minorgridcolor\":\"white\",\"startlinecolor\":\"#2a3f5f\"},\"type\":\"carpet\"}],\"table\":[{\"cells\":{\"fill\":{\"color\":\"#EBF0F8\"},\"line\":{\"color\":\"white\"}},\"header\":{\"fill\":{\"color\":\"#C8D4E3\"},\"line\":{\"color\":\"white\"}},\"type\":\"table\"}],\"barpolar\":[{\"marker\":{\"line\":{\"color\":\"#E5ECF6\",\"width\":0.5},\"pattern\":{\"fillmode\":\"overlay\",\"size\":10,\"solidity\":0.2}},\"type\":\"barpolar\"}],\"pie\":[{\"automargin\":true,\"type\":\"pie\"}]},\"layout\":{\"autotypenumbers\":\"strict\",\"colorway\":[\"#636efa\",\"#EF553B\",\"#00cc96\",\"#ab63fa\",\"#FFA15A\",\"#19d3f3\",\"#FF6692\",\"#B6E880\",\"#FF97FF\",\"#FECB52\"],\"font\":{\"color\":\"#2a3f5f\"},\"hovermode\":\"closest\",\"hoverlabel\":{\"align\":\"left\"},\"paper_bgcolor\":\"white\",\"plot_bgcolor\":\"#E5ECF6\",\"polar\":{\"bgcolor\":\"#E5ECF6\",\"angularaxis\":{\"gridcolor\":\"white\",\"linecolor\":\"white\",\"ticks\":\"\"},\"radialaxis\":{\"gridcolor\":\"white\",\"linecolor\":\"white\",\"ticks\":\"\"}},\"ternary\":{\"bgcolor\":\"#E5ECF6\",\"aaxis\":{\"gridcolor\":\"white\",\"linecolor\":\"white\",\"ticks\":\"\"},\"baxis\":{\"gridcolor\":\"white\",\"linecolor\":\"white\",\"ticks\":\"\"},\"caxis\":{\"gridcolor\":\"white\",\"linecolor\":\"white\",\"ticks\":\"\"}},\"coloraxis\":{\"colorbar\":{\"outlinewidth\":0,\"ticks\":\"\"}},\"colorscale\":{\"sequential\":[[0.0,\"#0d0887\"],[0.1111111111111111,\"#46039f\"],[0.2222222222222222,\"#7201a8\"],[0.3333333333333333,\"#9c179e\"],[0.4444444444444444,\"#bd3786\"],[0.5555555555555556,\"#d8576b\"],[0.6666666666666666,\"#ed7953\"],[0.7777777777777778,\"#fb9f3a\"],[0.8888888888888888,\"#fdca26\"],[1.0,\"#f0f921\"]],\"sequentialminus\":[[0.0,\"#0d0887\"],[0.1111111111111111,\"#46039f\"],[0.2222222222222222,\"#7201a8\"],[0.3333333333333333,\"#9c179e\"],[0.4444444444444444,\"#bd3786\"],[0.5555555555555556,\"#d8576b\"],[0.6666666666666666,\"#ed7953\"],[0.7777777777777778,\"#fb9f3a\"],[0.8888888888888888,\"#fdca26\"],[1.0,\"#f0f921\"]],\"diverging\":[[0,\"#8e0152\"],[0.1,\"#c51b7d\"],[0.2,\"#de77ae\"],[0.3,\"#f1b6da\"],[0.4,\"#fde0ef\"],[0.5,\"#f7f7f7\"],[0.6,\"#e6f5d0\"],[0.7,\"#b8e186\"],[0.8,\"#7fbc41\"],[0.9,\"#4d9221\"],[1,\"#276419\"]]},\"xaxis\":{\"gridcolor\":\"white\",\"linecolor\":\"white\",\"ticks\":\"\",\"title\":{\"standoff\":15},\"zerolinecolor\":\"white\",\"automargin\":true,\"zerolinewidth\":2},\"yaxis\":{\"gridcolor\":\"white\",\"linecolor\":\"white\",\"ticks\":\"\",\"title\":{\"standoff\":15},\"zerolinecolor\":\"white\",\"automargin\":true,\"zerolinewidth\":2},\"scene\":{\"xaxis\":{\"backgroundcolor\":\"#E5ECF6\",\"gridcolor\":\"white\",\"linecolor\":\"white\",\"showbackground\":true,\"ticks\":\"\",\"zerolinecolor\":\"white\",\"gridwidth\":2},\"yaxis\":{\"backgroundcolor\":\"#E5ECF6\",\"gridcolor\":\"white\",\"linecolor\":\"white\",\"showbackground\":true,\"ticks\":\"\",\"zerolinecolor\":\"white\",\"gridwidth\":2},\"zaxis\":{\"backgroundcolor\":\"#E5ECF6\",\"gridcolor\":\"white\",\"linecolor\":\"white\",\"showbackground\":true,\"ticks\":\"\",\"zerolinecolor\":\"white\",\"gridwidth\":2}},\"shapedefaults\":{\"line\":{\"color\":\"#2a3f5f\"}},\"annotationdefaults\":{\"arrowcolor\":\"#2a3f5f\",\"arrowhead\":0,\"arrowwidth\":1},\"geo\":{\"bgcolor\":\"white\",\"landcolor\":\"#E5ECF6\",\"subunitcolor\":\"white\",\"showland\":true,\"showlakes\":true,\"lakecolor\":\"white\"},\"title\":{\"x\":0.05},\"mapbox\":{\"style\":\"light\"}}},\"title\":{\"text\":\"MIM Sentiment Intensity Prediction Error Distribution\"},\"yaxis\":{\"title\":{\"text\":\"Absolute Error\"}}},                        {\"responsive\": true}                    ).then(function(){\n",
       "                            \n",
       "var gd = document.getElementById('f7ade816-527f-4b19-9a5f-2fe2564cb278');\n",
       "var x = new MutationObserver(function (mutations, observer) {{\n",
       "        var display = window.getComputedStyle(gd).display;\n",
       "        if (!display || display === 'none') {{\n",
       "            console.log([gd, 'removed!']);\n",
       "            Plotly.purge(gd);\n",
       "            observer.disconnect();\n",
       "        }}\n",
       "}});\n",
       "\n",
       "// Listen for the removal of the full notebook cells\n",
       "var notebookContainer = gd.closest('#notebook-container');\n",
       "if (notebookContainer) {{\n",
       "    x.observe(notebookContainer, {childList: true});\n",
       "}}\n",
       "\n",
       "// Listen for the clearing of the current output cell\n",
       "var outputEl = gd.closest('.output');\n",
       "if (outputEl) {{\n",
       "    x.observe(outputEl, {childList: true});\n",
       "}}\n",
       "\n",
       "                        })                };                });            </script>        </div>"
      ]
     },
     "metadata": {},
     "output_type": "display_data"
    }
   ],
   "source": [
    "import plotly.graph_objects as go\n",
    "import numpy as np\n",
    "\n",
    "fig = go.Figure()\n",
    "fig.add_trace(go.Box(y=error_VN, name=\"very negative\", marker_color=\"#1984c5\"))\n",
    "fig.add_trace(go.Box(y=error_N, name=\"negative\", marker_color=\"#22a7f0\"))\n",
    "fig.add_trace(go.Box(y=error_SN, name=\"weakly negative\", marker_color=\"#63bff0\"))\n",
    "fig.add_trace(go.Box(y=error_Neu, name=\"Neutral\", marker_color=\"#63bff0\"))\n",
    "fig.add_trace(go.Box(y=error_SP, name=\"weakly positive\", marker_color=\"#63bff0\"))\n",
    "fig.add_trace(go.Box(y=error_P, name=\"positive\", marker_color=\"#22a7f0\"))\n",
    "fig.add_trace(go.Box(y=error_VP, name=\"very positive\", marker_color=\"#1984c5\"))\n",
    "fig.update_traces(boxpoints='all', jitter=0)\n",
    "fig.add_trace(\n",
    "    go.Scatter(x=order, y=[np.mean(error_VN), np.mean(error_N), np.mean(error_SN), np.mean(error_Neu), np.mean(error_SP), np.mean(error_P), np.mean(error_VP)], \\\n",
    "         mode='markers', name=\"Mean Absolute Error\", marker_color=\"red\"))\n",
    "fig.update_layout(yaxis_title=\"Absolute Error\" ,title_text=\"MIM Sentiment Intensity Prediction Error Distribution\")\n",
    "fig.show()"
   ]
  },
  {
   "cell_type": "markdown",
   "metadata": {},
   "source": [
    "# MOSEI"
   ]
  },
  {
   "cell_type": "markdown",
   "metadata": {},
   "source": [
    "## TFN"
   ]
  },
  {
   "cell_type": "markdown",
   "metadata": {},
   "source": [
    "### 1. Ground-truth"
   ]
  },
  {
   "cell_type": "code",
   "execution_count": 48,
   "metadata": {},
   "outputs": [],
   "source": [
    "with open(f\"results/TFN_mosei.pkl\", \"rb\") as handle:\n",
    "    # tfn_dict = {segment, labels, labels_2, labels_7, preds, preds_2, preds_7, preds_text, text_2, text_7, preds_video, ...}\n",
    "    tfn_mosei = pkl.load(handle) "
   ]
  },
  {
   "cell_type": "code",
   "execution_count": 49,
   "metadata": {},
   "outputs": [
    {
     "name": "stdout",
     "output_type": "stream",
     "text": [
      "4654\n"
     ]
    }
   ],
   "source": [
    "print(len(tfn_mosei['segment']))"
   ]
  },
  {
   "cell_type": "code",
   "execution_count": 50,
   "metadata": {},
   "outputs": [
    {
     "data": {
      "application/vnd.plotly.v1+json": {
       "config": {
        "plotlyServerURL": "https://plot.ly"
       },
       "data": [
        {
         "alignmentgroup": "True",
         "hovertemplate": "labels_2=%{x}<br>segment=%{y}<extra></extra>",
         "legendgroup": "",
         "marker": {
          "color": "#636efa",
          "pattern": {
           "shape": ""
          }
         },
         "name": "",
         "offsetgroup": "",
         "orientation": "v",
         "showlegend": false,
         "textposition": "auto",
         "type": "bar",
         "x": [
          "neg",
          "pos"
         ],
         "xaxis": "x",
         "y": [
          2373,
          2281
         ],
         "yaxis": "y"
        },
        {
         "alignmentgroup": "True",
         "hovertemplate": "labels_7=%{x}<br>segment=%{y}<extra></extra>",
         "legendgroup": "",
         "marker": {
          "color": "#636efa",
          "pattern": {
           "shape": ""
          }
         },
         "name": "",
         "offsetgroup": "",
         "orientation": "v",
         "showlegend": false,
         "textposition": "auto",
         "type": "bar",
         "x": [
          "Neutral",
          "negative",
          "positive",
          "very negative",
          "very positive",
          "weakly negative",
          "weakly positive"
         ],
         "xaxis": "x2",
         "y": [
          1922,
          488,
          663,
          156,
          109,
          380,
          936
         ],
         "yaxis": "y2"
        }
       ],
       "layout": {
        "annotations": [
         {
          "font": {
           "size": 16
          },
          "showarrow": false,
          "text": "Binary",
          "x": 0.225,
          "xanchor": "center",
          "xref": "paper",
          "y": 1,
          "yanchor": "bottom",
          "yref": "paper"
         },
         {
          "font": {
           "size": 16
          },
          "showarrow": false,
          "text": "7-class",
          "x": 0.775,
          "xanchor": "center",
          "xref": "paper",
          "y": 1,
          "yanchor": "bottom",
          "yref": "paper"
         }
        ],
        "height": 500,
        "template": {
         "data": {
          "bar": [
           {
            "error_x": {
             "color": "#2a3f5f"
            },
            "error_y": {
             "color": "#2a3f5f"
            },
            "marker": {
             "line": {
              "color": "#E5ECF6",
              "width": 0.5
             },
             "pattern": {
              "fillmode": "overlay",
              "size": 10,
              "solidity": 0.2
             }
            },
            "type": "bar"
           }
          ],
          "barpolar": [
           {
            "marker": {
             "line": {
              "color": "#E5ECF6",
              "width": 0.5
             },
             "pattern": {
              "fillmode": "overlay",
              "size": 10,
              "solidity": 0.2
             }
            },
            "type": "barpolar"
           }
          ],
          "carpet": [
           {
            "aaxis": {
             "endlinecolor": "#2a3f5f",
             "gridcolor": "white",
             "linecolor": "white",
             "minorgridcolor": "white",
             "startlinecolor": "#2a3f5f"
            },
            "baxis": {
             "endlinecolor": "#2a3f5f",
             "gridcolor": "white",
             "linecolor": "white",
             "minorgridcolor": "white",
             "startlinecolor": "#2a3f5f"
            },
            "type": "carpet"
           }
          ],
          "choropleth": [
           {
            "colorbar": {
             "outlinewidth": 0,
             "ticks": ""
            },
            "type": "choropleth"
           }
          ],
          "contour": [
           {
            "colorbar": {
             "outlinewidth": 0,
             "ticks": ""
            },
            "colorscale": [
             [
              0,
              "#0d0887"
             ],
             [
              0.1111111111111111,
              "#46039f"
             ],
             [
              0.2222222222222222,
              "#7201a8"
             ],
             [
              0.3333333333333333,
              "#9c179e"
             ],
             [
              0.4444444444444444,
              "#bd3786"
             ],
             [
              0.5555555555555556,
              "#d8576b"
             ],
             [
              0.6666666666666666,
              "#ed7953"
             ],
             [
              0.7777777777777778,
              "#fb9f3a"
             ],
             [
              0.8888888888888888,
              "#fdca26"
             ],
             [
              1,
              "#f0f921"
             ]
            ],
            "type": "contour"
           }
          ],
          "contourcarpet": [
           {
            "colorbar": {
             "outlinewidth": 0,
             "ticks": ""
            },
            "type": "contourcarpet"
           }
          ],
          "heatmap": [
           {
            "colorbar": {
             "outlinewidth": 0,
             "ticks": ""
            },
            "colorscale": [
             [
              0,
              "#0d0887"
             ],
             [
              0.1111111111111111,
              "#46039f"
             ],
             [
              0.2222222222222222,
              "#7201a8"
             ],
             [
              0.3333333333333333,
              "#9c179e"
             ],
             [
              0.4444444444444444,
              "#bd3786"
             ],
             [
              0.5555555555555556,
              "#d8576b"
             ],
             [
              0.6666666666666666,
              "#ed7953"
             ],
             [
              0.7777777777777778,
              "#fb9f3a"
             ],
             [
              0.8888888888888888,
              "#fdca26"
             ],
             [
              1,
              "#f0f921"
             ]
            ],
            "type": "heatmap"
           }
          ],
          "heatmapgl": [
           {
            "colorbar": {
             "outlinewidth": 0,
             "ticks": ""
            },
            "colorscale": [
             [
              0,
              "#0d0887"
             ],
             [
              0.1111111111111111,
              "#46039f"
             ],
             [
              0.2222222222222222,
              "#7201a8"
             ],
             [
              0.3333333333333333,
              "#9c179e"
             ],
             [
              0.4444444444444444,
              "#bd3786"
             ],
             [
              0.5555555555555556,
              "#d8576b"
             ],
             [
              0.6666666666666666,
              "#ed7953"
             ],
             [
              0.7777777777777778,
              "#fb9f3a"
             ],
             [
              0.8888888888888888,
              "#fdca26"
             ],
             [
              1,
              "#f0f921"
             ]
            ],
            "type": "heatmapgl"
           }
          ],
          "histogram": [
           {
            "marker": {
             "pattern": {
              "fillmode": "overlay",
              "size": 10,
              "solidity": 0.2
             }
            },
            "type": "histogram"
           }
          ],
          "histogram2d": [
           {
            "colorbar": {
             "outlinewidth": 0,
             "ticks": ""
            },
            "colorscale": [
             [
              0,
              "#0d0887"
             ],
             [
              0.1111111111111111,
              "#46039f"
             ],
             [
              0.2222222222222222,
              "#7201a8"
             ],
             [
              0.3333333333333333,
              "#9c179e"
             ],
             [
              0.4444444444444444,
              "#bd3786"
             ],
             [
              0.5555555555555556,
              "#d8576b"
             ],
             [
              0.6666666666666666,
              "#ed7953"
             ],
             [
              0.7777777777777778,
              "#fb9f3a"
             ],
             [
              0.8888888888888888,
              "#fdca26"
             ],
             [
              1,
              "#f0f921"
             ]
            ],
            "type": "histogram2d"
           }
          ],
          "histogram2dcontour": [
           {
            "colorbar": {
             "outlinewidth": 0,
             "ticks": ""
            },
            "colorscale": [
             [
              0,
              "#0d0887"
             ],
             [
              0.1111111111111111,
              "#46039f"
             ],
             [
              0.2222222222222222,
              "#7201a8"
             ],
             [
              0.3333333333333333,
              "#9c179e"
             ],
             [
              0.4444444444444444,
              "#bd3786"
             ],
             [
              0.5555555555555556,
              "#d8576b"
             ],
             [
              0.6666666666666666,
              "#ed7953"
             ],
             [
              0.7777777777777778,
              "#fb9f3a"
             ],
             [
              0.8888888888888888,
              "#fdca26"
             ],
             [
              1,
              "#f0f921"
             ]
            ],
            "type": "histogram2dcontour"
           }
          ],
          "mesh3d": [
           {
            "colorbar": {
             "outlinewidth": 0,
             "ticks": ""
            },
            "type": "mesh3d"
           }
          ],
          "parcoords": [
           {
            "line": {
             "colorbar": {
              "outlinewidth": 0,
              "ticks": ""
             }
            },
            "type": "parcoords"
           }
          ],
          "pie": [
           {
            "automargin": true,
            "type": "pie"
           }
          ],
          "scatter": [
           {
            "fillpattern": {
             "fillmode": "overlay",
             "size": 10,
             "solidity": 0.2
            },
            "type": "scatter"
           }
          ],
          "scatter3d": [
           {
            "line": {
             "colorbar": {
              "outlinewidth": 0,
              "ticks": ""
             }
            },
            "marker": {
             "colorbar": {
              "outlinewidth": 0,
              "ticks": ""
             }
            },
            "type": "scatter3d"
           }
          ],
          "scattercarpet": [
           {
            "marker": {
             "colorbar": {
              "outlinewidth": 0,
              "ticks": ""
             }
            },
            "type": "scattercarpet"
           }
          ],
          "scattergeo": [
           {
            "marker": {
             "colorbar": {
              "outlinewidth": 0,
              "ticks": ""
             }
            },
            "type": "scattergeo"
           }
          ],
          "scattergl": [
           {
            "marker": {
             "colorbar": {
              "outlinewidth": 0,
              "ticks": ""
             }
            },
            "type": "scattergl"
           }
          ],
          "scattermapbox": [
           {
            "marker": {
             "colorbar": {
              "outlinewidth": 0,
              "ticks": ""
             }
            },
            "type": "scattermapbox"
           }
          ],
          "scatterpolar": [
           {
            "marker": {
             "colorbar": {
              "outlinewidth": 0,
              "ticks": ""
             }
            },
            "type": "scatterpolar"
           }
          ],
          "scatterpolargl": [
           {
            "marker": {
             "colorbar": {
              "outlinewidth": 0,
              "ticks": ""
             }
            },
            "type": "scatterpolargl"
           }
          ],
          "scatterternary": [
           {
            "marker": {
             "colorbar": {
              "outlinewidth": 0,
              "ticks": ""
             }
            },
            "type": "scatterternary"
           }
          ],
          "surface": [
           {
            "colorbar": {
             "outlinewidth": 0,
             "ticks": ""
            },
            "colorscale": [
             [
              0,
              "#0d0887"
             ],
             [
              0.1111111111111111,
              "#46039f"
             ],
             [
              0.2222222222222222,
              "#7201a8"
             ],
             [
              0.3333333333333333,
              "#9c179e"
             ],
             [
              0.4444444444444444,
              "#bd3786"
             ],
             [
              0.5555555555555556,
              "#d8576b"
             ],
             [
              0.6666666666666666,
              "#ed7953"
             ],
             [
              0.7777777777777778,
              "#fb9f3a"
             ],
             [
              0.8888888888888888,
              "#fdca26"
             ],
             [
              1,
              "#f0f921"
             ]
            ],
            "type": "surface"
           }
          ],
          "table": [
           {
            "cells": {
             "fill": {
              "color": "#EBF0F8"
             },
             "line": {
              "color": "white"
             }
            },
            "header": {
             "fill": {
              "color": "#C8D4E3"
             },
             "line": {
              "color": "white"
             }
            },
            "type": "table"
           }
          ]
         },
         "layout": {
          "annotationdefaults": {
           "arrowcolor": "#2a3f5f",
           "arrowhead": 0,
           "arrowwidth": 1
          },
          "autotypenumbers": "strict",
          "coloraxis": {
           "colorbar": {
            "outlinewidth": 0,
            "ticks": ""
           }
          },
          "colorscale": {
           "diverging": [
            [
             0,
             "#8e0152"
            ],
            [
             0.1,
             "#c51b7d"
            ],
            [
             0.2,
             "#de77ae"
            ],
            [
             0.3,
             "#f1b6da"
            ],
            [
             0.4,
             "#fde0ef"
            ],
            [
             0.5,
             "#f7f7f7"
            ],
            [
             0.6,
             "#e6f5d0"
            ],
            [
             0.7,
             "#b8e186"
            ],
            [
             0.8,
             "#7fbc41"
            ],
            [
             0.9,
             "#4d9221"
            ],
            [
             1,
             "#276419"
            ]
           ],
           "sequential": [
            [
             0,
             "#0d0887"
            ],
            [
             0.1111111111111111,
             "#46039f"
            ],
            [
             0.2222222222222222,
             "#7201a8"
            ],
            [
             0.3333333333333333,
             "#9c179e"
            ],
            [
             0.4444444444444444,
             "#bd3786"
            ],
            [
             0.5555555555555556,
             "#d8576b"
            ],
            [
             0.6666666666666666,
             "#ed7953"
            ],
            [
             0.7777777777777778,
             "#fb9f3a"
            ],
            [
             0.8888888888888888,
             "#fdca26"
            ],
            [
             1,
             "#f0f921"
            ]
           ],
           "sequentialminus": [
            [
             0,
             "#0d0887"
            ],
            [
             0.1111111111111111,
             "#46039f"
            ],
            [
             0.2222222222222222,
             "#7201a8"
            ],
            [
             0.3333333333333333,
             "#9c179e"
            ],
            [
             0.4444444444444444,
             "#bd3786"
            ],
            [
             0.5555555555555556,
             "#d8576b"
            ],
            [
             0.6666666666666666,
             "#ed7953"
            ],
            [
             0.7777777777777778,
             "#fb9f3a"
            ],
            [
             0.8888888888888888,
             "#fdca26"
            ],
            [
             1,
             "#f0f921"
            ]
           ]
          },
          "colorway": [
           "#636efa",
           "#EF553B",
           "#00cc96",
           "#ab63fa",
           "#FFA15A",
           "#19d3f3",
           "#FF6692",
           "#B6E880",
           "#FF97FF",
           "#FECB52"
          ],
          "font": {
           "color": "#2a3f5f"
          },
          "geo": {
           "bgcolor": "white",
           "lakecolor": "white",
           "landcolor": "#E5ECF6",
           "showlakes": true,
           "showland": true,
           "subunitcolor": "white"
          },
          "hoverlabel": {
           "align": "left"
          },
          "hovermode": "closest",
          "mapbox": {
           "style": "light"
          },
          "paper_bgcolor": "white",
          "plot_bgcolor": "#E5ECF6",
          "polar": {
           "angularaxis": {
            "gridcolor": "white",
            "linecolor": "white",
            "ticks": ""
           },
           "bgcolor": "#E5ECF6",
           "radialaxis": {
            "gridcolor": "white",
            "linecolor": "white",
            "ticks": ""
           }
          },
          "scene": {
           "xaxis": {
            "backgroundcolor": "#E5ECF6",
            "gridcolor": "white",
            "gridwidth": 2,
            "linecolor": "white",
            "showbackground": true,
            "ticks": "",
            "zerolinecolor": "white"
           },
           "yaxis": {
            "backgroundcolor": "#E5ECF6",
            "gridcolor": "white",
            "gridwidth": 2,
            "linecolor": "white",
            "showbackground": true,
            "ticks": "",
            "zerolinecolor": "white"
           },
           "zaxis": {
            "backgroundcolor": "#E5ECF6",
            "gridcolor": "white",
            "gridwidth": 2,
            "linecolor": "white",
            "showbackground": true,
            "ticks": "",
            "zerolinecolor": "white"
           }
          },
          "shapedefaults": {
           "line": {
            "color": "#2a3f5f"
           }
          },
          "ternary": {
           "aaxis": {
            "gridcolor": "white",
            "linecolor": "white",
            "ticks": ""
           },
           "baxis": {
            "gridcolor": "white",
            "linecolor": "white",
            "ticks": ""
           },
           "bgcolor": "#E5ECF6",
           "caxis": {
            "gridcolor": "white",
            "linecolor": "white",
            "ticks": ""
           }
          },
          "title": {
           "x": 0.05
          },
          "xaxis": {
           "automargin": true,
           "gridcolor": "white",
           "linecolor": "white",
           "ticks": "",
           "title": {
            "standoff": 15
           },
           "zerolinecolor": "white",
           "zerolinewidth": 2
          },
          "yaxis": {
           "automargin": true,
           "gridcolor": "white",
           "linecolor": "white",
           "ticks": "",
           "title": {
            "standoff": 15
           },
           "zerolinecolor": "white",
           "zerolinewidth": 2
          }
         }
        },
        "title": {
         "text": "Ground-truth distribution"
        },
        "width": 1200,
        "xaxis": {
         "anchor": "y",
         "categoryarray": [
          "very negative",
          "negative",
          "weakly negative",
          "Neutral",
          "weakly positive",
          "positive",
          "very positive"
         ],
         "categoryorder": "array",
         "domain": [
          0,
          0.45
         ]
        },
        "xaxis2": {
         "anchor": "y2",
         "categoryarray": [
          "very negative",
          "negative",
          "weakly negative",
          "Neutral",
          "weakly positive",
          "positive",
          "very positive"
         ],
         "categoryorder": "array",
         "domain": [
          0.55,
          1
         ]
        },
        "yaxis": {
         "anchor": "x",
         "domain": [
          0,
          1
         ],
         "range": [
          0,
          2500
         ]
        },
        "yaxis2": {
         "anchor": "x2",
         "domain": [
          0,
          1
         ],
         "range": [
          0,
          2500
         ]
        }
       }
      },
      "text/html": [
       "<div>                            <div id=\"ccad203a-ae41-448e-9dfc-61c49f07b741\" class=\"plotly-graph-div\" style=\"height:500px; width:1200px;\"></div>            <script type=\"text/javascript\">                require([\"plotly\"], function(Plotly) {                    window.PLOTLYENV=window.PLOTLYENV || {};                                    if (document.getElementById(\"ccad203a-ae41-448e-9dfc-61c49f07b741\")) {                    Plotly.newPlot(                        \"ccad203a-ae41-448e-9dfc-61c49f07b741\",                        [{\"alignmentgroup\":\"True\",\"hovertemplate\":\"labels_2=%{x}<br>segment=%{y}<extra></extra>\",\"legendgroup\":\"\",\"marker\":{\"color\":\"#636efa\",\"pattern\":{\"shape\":\"\"}},\"name\":\"\",\"offsetgroup\":\"\",\"orientation\":\"v\",\"showlegend\":false,\"textposition\":\"auto\",\"x\":[\"neg\",\"pos\"],\"xaxis\":\"x\",\"y\":[2373,2281],\"yaxis\":\"y\",\"type\":\"bar\"},{\"alignmentgroup\":\"True\",\"hovertemplate\":\"labels_7=%{x}<br>segment=%{y}<extra></extra>\",\"legendgroup\":\"\",\"marker\":{\"color\":\"#636efa\",\"pattern\":{\"shape\":\"\"}},\"name\":\"\",\"offsetgroup\":\"\",\"orientation\":\"v\",\"showlegend\":false,\"textposition\":\"auto\",\"x\":[\"Neutral\",\"negative\",\"positive\",\"very negative\",\"very positive\",\"weakly negative\",\"weakly positive\"],\"xaxis\":\"x2\",\"y\":[1922,488,663,156,109,380,936],\"yaxis\":\"y2\",\"type\":\"bar\"}],                        {\"template\":{\"data\":{\"histogram2dcontour\":[{\"type\":\"histogram2dcontour\",\"colorbar\":{\"outlinewidth\":0,\"ticks\":\"\"},\"colorscale\":[[0.0,\"#0d0887\"],[0.1111111111111111,\"#46039f\"],[0.2222222222222222,\"#7201a8\"],[0.3333333333333333,\"#9c179e\"],[0.4444444444444444,\"#bd3786\"],[0.5555555555555556,\"#d8576b\"],[0.6666666666666666,\"#ed7953\"],[0.7777777777777778,\"#fb9f3a\"],[0.8888888888888888,\"#fdca26\"],[1.0,\"#f0f921\"]]}],\"choropleth\":[{\"type\":\"choropleth\",\"colorbar\":{\"outlinewidth\":0,\"ticks\":\"\"}}],\"histogram2d\":[{\"type\":\"histogram2d\",\"colorbar\":{\"outlinewidth\":0,\"ticks\":\"\"},\"colorscale\":[[0.0,\"#0d0887\"],[0.1111111111111111,\"#46039f\"],[0.2222222222222222,\"#7201a8\"],[0.3333333333333333,\"#9c179e\"],[0.4444444444444444,\"#bd3786\"],[0.5555555555555556,\"#d8576b\"],[0.6666666666666666,\"#ed7953\"],[0.7777777777777778,\"#fb9f3a\"],[0.8888888888888888,\"#fdca26\"],[1.0,\"#f0f921\"]]}],\"heatmap\":[{\"type\":\"heatmap\",\"colorbar\":{\"outlinewidth\":0,\"ticks\":\"\"},\"colorscale\":[[0.0,\"#0d0887\"],[0.1111111111111111,\"#46039f\"],[0.2222222222222222,\"#7201a8\"],[0.3333333333333333,\"#9c179e\"],[0.4444444444444444,\"#bd3786\"],[0.5555555555555556,\"#d8576b\"],[0.6666666666666666,\"#ed7953\"],[0.7777777777777778,\"#fb9f3a\"],[0.8888888888888888,\"#fdca26\"],[1.0,\"#f0f921\"]]}],\"heatmapgl\":[{\"type\":\"heatmapgl\",\"colorbar\":{\"outlinewidth\":0,\"ticks\":\"\"},\"colorscale\":[[0.0,\"#0d0887\"],[0.1111111111111111,\"#46039f\"],[0.2222222222222222,\"#7201a8\"],[0.3333333333333333,\"#9c179e\"],[0.4444444444444444,\"#bd3786\"],[0.5555555555555556,\"#d8576b\"],[0.6666666666666666,\"#ed7953\"],[0.7777777777777778,\"#fb9f3a\"],[0.8888888888888888,\"#fdca26\"],[1.0,\"#f0f921\"]]}],\"contourcarpet\":[{\"type\":\"contourcarpet\",\"colorbar\":{\"outlinewidth\":0,\"ticks\":\"\"}}],\"contour\":[{\"type\":\"contour\",\"colorbar\":{\"outlinewidth\":0,\"ticks\":\"\"},\"colorscale\":[[0.0,\"#0d0887\"],[0.1111111111111111,\"#46039f\"],[0.2222222222222222,\"#7201a8\"],[0.3333333333333333,\"#9c179e\"],[0.4444444444444444,\"#bd3786\"],[0.5555555555555556,\"#d8576b\"],[0.6666666666666666,\"#ed7953\"],[0.7777777777777778,\"#fb9f3a\"],[0.8888888888888888,\"#fdca26\"],[1.0,\"#f0f921\"]]}],\"surface\":[{\"type\":\"surface\",\"colorbar\":{\"outlinewidth\":0,\"ticks\":\"\"},\"colorscale\":[[0.0,\"#0d0887\"],[0.1111111111111111,\"#46039f\"],[0.2222222222222222,\"#7201a8\"],[0.3333333333333333,\"#9c179e\"],[0.4444444444444444,\"#bd3786\"],[0.5555555555555556,\"#d8576b\"],[0.6666666666666666,\"#ed7953\"],[0.7777777777777778,\"#fb9f3a\"],[0.8888888888888888,\"#fdca26\"],[1.0,\"#f0f921\"]]}],\"mesh3d\":[{\"type\":\"mesh3d\",\"colorbar\":{\"outlinewidth\":0,\"ticks\":\"\"}}],\"scatter\":[{\"fillpattern\":{\"fillmode\":\"overlay\",\"size\":10,\"solidity\":0.2},\"type\":\"scatter\"}],\"parcoords\":[{\"type\":\"parcoords\",\"line\":{\"colorbar\":{\"outlinewidth\":0,\"ticks\":\"\"}}}],\"scatterpolargl\":[{\"type\":\"scatterpolargl\",\"marker\":{\"colorbar\":{\"outlinewidth\":0,\"ticks\":\"\"}}}],\"bar\":[{\"error_x\":{\"color\":\"#2a3f5f\"},\"error_y\":{\"color\":\"#2a3f5f\"},\"marker\":{\"line\":{\"color\":\"#E5ECF6\",\"width\":0.5},\"pattern\":{\"fillmode\":\"overlay\",\"size\":10,\"solidity\":0.2}},\"type\":\"bar\"}],\"scattergeo\":[{\"type\":\"scattergeo\",\"marker\":{\"colorbar\":{\"outlinewidth\":0,\"ticks\":\"\"}}}],\"scatterpolar\":[{\"type\":\"scatterpolar\",\"marker\":{\"colorbar\":{\"outlinewidth\":0,\"ticks\":\"\"}}}],\"histogram\":[{\"marker\":{\"pattern\":{\"fillmode\":\"overlay\",\"size\":10,\"solidity\":0.2}},\"type\":\"histogram\"}],\"scattergl\":[{\"type\":\"scattergl\",\"marker\":{\"colorbar\":{\"outlinewidth\":0,\"ticks\":\"\"}}}],\"scatter3d\":[{\"type\":\"scatter3d\",\"line\":{\"colorbar\":{\"outlinewidth\":0,\"ticks\":\"\"}},\"marker\":{\"colorbar\":{\"outlinewidth\":0,\"ticks\":\"\"}}}],\"scattermapbox\":[{\"type\":\"scattermapbox\",\"marker\":{\"colorbar\":{\"outlinewidth\":0,\"ticks\":\"\"}}}],\"scatterternary\":[{\"type\":\"scatterternary\",\"marker\":{\"colorbar\":{\"outlinewidth\":0,\"ticks\":\"\"}}}],\"scattercarpet\":[{\"type\":\"scattercarpet\",\"marker\":{\"colorbar\":{\"outlinewidth\":0,\"ticks\":\"\"}}}],\"carpet\":[{\"aaxis\":{\"endlinecolor\":\"#2a3f5f\",\"gridcolor\":\"white\",\"linecolor\":\"white\",\"minorgridcolor\":\"white\",\"startlinecolor\":\"#2a3f5f\"},\"baxis\":{\"endlinecolor\":\"#2a3f5f\",\"gridcolor\":\"white\",\"linecolor\":\"white\",\"minorgridcolor\":\"white\",\"startlinecolor\":\"#2a3f5f\"},\"type\":\"carpet\"}],\"table\":[{\"cells\":{\"fill\":{\"color\":\"#EBF0F8\"},\"line\":{\"color\":\"white\"}},\"header\":{\"fill\":{\"color\":\"#C8D4E3\"},\"line\":{\"color\":\"white\"}},\"type\":\"table\"}],\"barpolar\":[{\"marker\":{\"line\":{\"color\":\"#E5ECF6\",\"width\":0.5},\"pattern\":{\"fillmode\":\"overlay\",\"size\":10,\"solidity\":0.2}},\"type\":\"barpolar\"}],\"pie\":[{\"automargin\":true,\"type\":\"pie\"}]},\"layout\":{\"autotypenumbers\":\"strict\",\"colorway\":[\"#636efa\",\"#EF553B\",\"#00cc96\",\"#ab63fa\",\"#FFA15A\",\"#19d3f3\",\"#FF6692\",\"#B6E880\",\"#FF97FF\",\"#FECB52\"],\"font\":{\"color\":\"#2a3f5f\"},\"hovermode\":\"closest\",\"hoverlabel\":{\"align\":\"left\"},\"paper_bgcolor\":\"white\",\"plot_bgcolor\":\"#E5ECF6\",\"polar\":{\"bgcolor\":\"#E5ECF6\",\"angularaxis\":{\"gridcolor\":\"white\",\"linecolor\":\"white\",\"ticks\":\"\"},\"radialaxis\":{\"gridcolor\":\"white\",\"linecolor\":\"white\",\"ticks\":\"\"}},\"ternary\":{\"bgcolor\":\"#E5ECF6\",\"aaxis\":{\"gridcolor\":\"white\",\"linecolor\":\"white\",\"ticks\":\"\"},\"baxis\":{\"gridcolor\":\"white\",\"linecolor\":\"white\",\"ticks\":\"\"},\"caxis\":{\"gridcolor\":\"white\",\"linecolor\":\"white\",\"ticks\":\"\"}},\"coloraxis\":{\"colorbar\":{\"outlinewidth\":0,\"ticks\":\"\"}},\"colorscale\":{\"sequential\":[[0.0,\"#0d0887\"],[0.1111111111111111,\"#46039f\"],[0.2222222222222222,\"#7201a8\"],[0.3333333333333333,\"#9c179e\"],[0.4444444444444444,\"#bd3786\"],[0.5555555555555556,\"#d8576b\"],[0.6666666666666666,\"#ed7953\"],[0.7777777777777778,\"#fb9f3a\"],[0.8888888888888888,\"#fdca26\"],[1.0,\"#f0f921\"]],\"sequentialminus\":[[0.0,\"#0d0887\"],[0.1111111111111111,\"#46039f\"],[0.2222222222222222,\"#7201a8\"],[0.3333333333333333,\"#9c179e\"],[0.4444444444444444,\"#bd3786\"],[0.5555555555555556,\"#d8576b\"],[0.6666666666666666,\"#ed7953\"],[0.7777777777777778,\"#fb9f3a\"],[0.8888888888888888,\"#fdca26\"],[1.0,\"#f0f921\"]],\"diverging\":[[0,\"#8e0152\"],[0.1,\"#c51b7d\"],[0.2,\"#de77ae\"],[0.3,\"#f1b6da\"],[0.4,\"#fde0ef\"],[0.5,\"#f7f7f7\"],[0.6,\"#e6f5d0\"],[0.7,\"#b8e186\"],[0.8,\"#7fbc41\"],[0.9,\"#4d9221\"],[1,\"#276419\"]]},\"xaxis\":{\"gridcolor\":\"white\",\"linecolor\":\"white\",\"ticks\":\"\",\"title\":{\"standoff\":15},\"zerolinecolor\":\"white\",\"automargin\":true,\"zerolinewidth\":2},\"yaxis\":{\"gridcolor\":\"white\",\"linecolor\":\"white\",\"ticks\":\"\",\"title\":{\"standoff\":15},\"zerolinecolor\":\"white\",\"automargin\":true,\"zerolinewidth\":2},\"scene\":{\"xaxis\":{\"backgroundcolor\":\"#E5ECF6\",\"gridcolor\":\"white\",\"linecolor\":\"white\",\"showbackground\":true,\"ticks\":\"\",\"zerolinecolor\":\"white\",\"gridwidth\":2},\"yaxis\":{\"backgroundcolor\":\"#E5ECF6\",\"gridcolor\":\"white\",\"linecolor\":\"white\",\"showbackground\":true,\"ticks\":\"\",\"zerolinecolor\":\"white\",\"gridwidth\":2},\"zaxis\":{\"backgroundcolor\":\"#E5ECF6\",\"gridcolor\":\"white\",\"linecolor\":\"white\",\"showbackground\":true,\"ticks\":\"\",\"zerolinecolor\":\"white\",\"gridwidth\":2}},\"shapedefaults\":{\"line\":{\"color\":\"#2a3f5f\"}},\"annotationdefaults\":{\"arrowcolor\":\"#2a3f5f\",\"arrowhead\":0,\"arrowwidth\":1},\"geo\":{\"bgcolor\":\"white\",\"landcolor\":\"#E5ECF6\",\"subunitcolor\":\"white\",\"showland\":true,\"showlakes\":true,\"lakecolor\":\"white\"},\"title\":{\"x\":0.05},\"mapbox\":{\"style\":\"light\"}}},\"xaxis\":{\"anchor\":\"y\",\"domain\":[0.0,0.45],\"categoryorder\":\"array\",\"categoryarray\":[\"very negative\",\"negative\",\"weakly negative\",\"Neutral\",\"weakly positive\",\"positive\",\"very positive\"]},\"yaxis\":{\"anchor\":\"x\",\"domain\":[0.0,1.0],\"range\":[0,2500]},\"xaxis2\":{\"anchor\":\"y2\",\"domain\":[0.55,1.0],\"categoryorder\":\"array\",\"categoryarray\":[\"very negative\",\"negative\",\"weakly negative\",\"Neutral\",\"weakly positive\",\"positive\",\"very positive\"]},\"yaxis2\":{\"anchor\":\"x2\",\"domain\":[0.0,1.0],\"range\":[0,2500]},\"annotations\":[{\"font\":{\"size\":16},\"showarrow\":false,\"text\":\"Binary\",\"x\":0.225,\"xanchor\":\"center\",\"xref\":\"paper\",\"y\":1.0,\"yanchor\":\"bottom\",\"yref\":\"paper\"},{\"font\":{\"size\":16},\"showarrow\":false,\"text\":\"7-class\",\"x\":0.775,\"xanchor\":\"center\",\"xref\":\"paper\",\"y\":1.0,\"yanchor\":\"bottom\",\"yref\":\"paper\"}],\"title\":{\"text\":\"Ground-truth distribution\"},\"height\":500,\"width\":1200},                        {\"responsive\": true}                    ).then(function(){\n",
       "                            \n",
       "var gd = document.getElementById('ccad203a-ae41-448e-9dfc-61c49f07b741');\n",
       "var x = new MutationObserver(function (mutations, observer) {{\n",
       "        var display = window.getComputedStyle(gd).display;\n",
       "        if (!display || display === 'none') {{\n",
       "            console.log([gd, 'removed!']);\n",
       "            Plotly.purge(gd);\n",
       "            observer.disconnect();\n",
       "        }}\n",
       "}});\n",
       "\n",
       "// Listen for the removal of the full notebook cells\n",
       "var notebookContainer = gd.closest('#notebook-container');\n",
       "if (notebookContainer) {{\n",
       "    x.observe(notebookContainer, {childList: true});\n",
       "}}\n",
       "\n",
       "// Listen for the clearing of the current output cell\n",
       "var outputEl = gd.closest('.output');\n",
       "if (outputEl) {{\n",
       "    x.observe(outputEl, {childList: true});\n",
       "}}\n",
       "\n",
       "                        })                };                });            </script>        </div>"
      ]
     },
     "metadata": {},
     "output_type": "display_data"
    }
   ],
   "source": [
    "import plotly.express as px\n",
    "import plotly.subplots as sp\n",
    "import pandas as pd\n",
    "\n",
    "df = pd.DataFrame(data=tfn_mosei)\n",
    "df_2 = df.groupby('labels_2').count().reset_index()\n",
    "df_7 = df.groupby('labels_7').count().reset_index()\n",
    "\n",
    "order = ['very negative', 'negative', 'weakly negative', 'Neutral', 'weakly positive', 'positive', 'very positive']\n",
    "\n",
    "fig1 = px.bar(df_2, x='labels_2', y='segment')\n",
    "fig2 = px.bar(df_7, x='labels_7', y='segment')\n",
    "\n",
    "fig1_traces = []\n",
    "fig2_traces = []\n",
    "\n",
    "for trace in range(len(fig1[\"data\"])):\n",
    "    fig1_traces.append(fig1[\"data\"][trace])\n",
    "for trace in range(len(fig2[\"data\"])):\n",
    "    fig2_traces.append(fig2[\"data\"][trace])\n",
    "\n",
    "this_figure = sp.make_subplots(rows=1, cols=2, subplot_titles=(\"Binary\", \"7-class\"))\n",
    "for traces in fig1_traces:\n",
    "    this_figure.append_trace(traces, row=1, col=1)\n",
    "for traces in fig2_traces:\n",
    "    this_figure.append_trace(traces, row=1, col=2)\n",
    "\n",
    "this_figure.update_xaxes(categoryorder='array', categoryarray= order)\n",
    "this_figure.update_layout(height=500, width=1200, title_text=\"Ground-truth distribution\")\n",
    "this_figure.update_yaxes(range=[0,2500])\n",
    "this_figure.show()"
   ]
  },
  {
   "cell_type": "markdown",
   "metadata": {},
   "source": [
    "### 2. Fusion result distribution"
   ]
  },
  {
   "cell_type": "code",
   "execution_count": 51,
   "metadata": {},
   "outputs": [
    {
     "data": {
      "application/vnd.plotly.v1+json": {
       "config": {
        "plotlyServerURL": "https://plot.ly"
       },
       "data": [
        {
         "alignmentgroup": "True",
         "hovertemplate": "labels_7=%{x}<br>segment=%{y}<extra></extra>",
         "legendgroup": "",
         "marker": {
          "color": "#636efa",
          "pattern": {
           "shape": ""
          }
         },
         "name": "",
         "offsetgroup": "",
         "orientation": "v",
         "showlegend": false,
         "textposition": "auto",
         "type": "bar",
         "x": [
          "Neutral",
          "negative",
          "positive",
          "very negative",
          "very positive",
          "weakly negative",
          "weakly positive"
         ],
         "xaxis": "x",
         "y": [
          1922,
          488,
          663,
          156,
          109,
          380,
          936
         ],
         "yaxis": "y"
        },
        {
         "alignmentgroup": "True",
         "hovertemplate": "preds_7=%{x}<br>segment=%{y}<extra></extra>",
         "legendgroup": "",
         "marker": {
          "color": "#636efa",
          "pattern": {
           "shape": ""
          }
         },
         "name": "",
         "offsetgroup": "",
         "orientation": "v",
         "showlegend": false,
         "textposition": "auto",
         "type": "bar",
         "x": [
          "Neutral",
          "weakly positive"
         ],
         "xaxis": "x2",
         "y": [
          4581,
          73
         ],
         "yaxis": "y2"
        }
       ],
       "layout": {
        "annotations": [
         {
          "font": {
           "size": 16
          },
          "showarrow": false,
          "text": "Grond-truth",
          "x": 0.225,
          "xanchor": "center",
          "xref": "paper",
          "y": 1,
          "yanchor": "bottom",
          "yref": "paper"
         },
         {
          "font": {
           "size": 16
          },
          "showarrow": false,
          "text": "TFN-frozen",
          "x": 0.775,
          "xanchor": "center",
          "xref": "paper",
          "y": 1,
          "yanchor": "bottom",
          "yref": "paper"
         }
        ],
        "height": 800,
        "template": {
         "data": {
          "bar": [
           {
            "error_x": {
             "color": "#2a3f5f"
            },
            "error_y": {
             "color": "#2a3f5f"
            },
            "marker": {
             "line": {
              "color": "#E5ECF6",
              "width": 0.5
             },
             "pattern": {
              "fillmode": "overlay",
              "size": 10,
              "solidity": 0.2
             }
            },
            "type": "bar"
           }
          ],
          "barpolar": [
           {
            "marker": {
             "line": {
              "color": "#E5ECF6",
              "width": 0.5
             },
             "pattern": {
              "fillmode": "overlay",
              "size": 10,
              "solidity": 0.2
             }
            },
            "type": "barpolar"
           }
          ],
          "carpet": [
           {
            "aaxis": {
             "endlinecolor": "#2a3f5f",
             "gridcolor": "white",
             "linecolor": "white",
             "minorgridcolor": "white",
             "startlinecolor": "#2a3f5f"
            },
            "baxis": {
             "endlinecolor": "#2a3f5f",
             "gridcolor": "white",
             "linecolor": "white",
             "minorgridcolor": "white",
             "startlinecolor": "#2a3f5f"
            },
            "type": "carpet"
           }
          ],
          "choropleth": [
           {
            "colorbar": {
             "outlinewidth": 0,
             "ticks": ""
            },
            "type": "choropleth"
           }
          ],
          "contour": [
           {
            "colorbar": {
             "outlinewidth": 0,
             "ticks": ""
            },
            "colorscale": [
             [
              0,
              "#0d0887"
             ],
             [
              0.1111111111111111,
              "#46039f"
             ],
             [
              0.2222222222222222,
              "#7201a8"
             ],
             [
              0.3333333333333333,
              "#9c179e"
             ],
             [
              0.4444444444444444,
              "#bd3786"
             ],
             [
              0.5555555555555556,
              "#d8576b"
             ],
             [
              0.6666666666666666,
              "#ed7953"
             ],
             [
              0.7777777777777778,
              "#fb9f3a"
             ],
             [
              0.8888888888888888,
              "#fdca26"
             ],
             [
              1,
              "#f0f921"
             ]
            ],
            "type": "contour"
           }
          ],
          "contourcarpet": [
           {
            "colorbar": {
             "outlinewidth": 0,
             "ticks": ""
            },
            "type": "contourcarpet"
           }
          ],
          "heatmap": [
           {
            "colorbar": {
             "outlinewidth": 0,
             "ticks": ""
            },
            "colorscale": [
             [
              0,
              "#0d0887"
             ],
             [
              0.1111111111111111,
              "#46039f"
             ],
             [
              0.2222222222222222,
              "#7201a8"
             ],
             [
              0.3333333333333333,
              "#9c179e"
             ],
             [
              0.4444444444444444,
              "#bd3786"
             ],
             [
              0.5555555555555556,
              "#d8576b"
             ],
             [
              0.6666666666666666,
              "#ed7953"
             ],
             [
              0.7777777777777778,
              "#fb9f3a"
             ],
             [
              0.8888888888888888,
              "#fdca26"
             ],
             [
              1,
              "#f0f921"
             ]
            ],
            "type": "heatmap"
           }
          ],
          "heatmapgl": [
           {
            "colorbar": {
             "outlinewidth": 0,
             "ticks": ""
            },
            "colorscale": [
             [
              0,
              "#0d0887"
             ],
             [
              0.1111111111111111,
              "#46039f"
             ],
             [
              0.2222222222222222,
              "#7201a8"
             ],
             [
              0.3333333333333333,
              "#9c179e"
             ],
             [
              0.4444444444444444,
              "#bd3786"
             ],
             [
              0.5555555555555556,
              "#d8576b"
             ],
             [
              0.6666666666666666,
              "#ed7953"
             ],
             [
              0.7777777777777778,
              "#fb9f3a"
             ],
             [
              0.8888888888888888,
              "#fdca26"
             ],
             [
              1,
              "#f0f921"
             ]
            ],
            "type": "heatmapgl"
           }
          ],
          "histogram": [
           {
            "marker": {
             "pattern": {
              "fillmode": "overlay",
              "size": 10,
              "solidity": 0.2
             }
            },
            "type": "histogram"
           }
          ],
          "histogram2d": [
           {
            "colorbar": {
             "outlinewidth": 0,
             "ticks": ""
            },
            "colorscale": [
             [
              0,
              "#0d0887"
             ],
             [
              0.1111111111111111,
              "#46039f"
             ],
             [
              0.2222222222222222,
              "#7201a8"
             ],
             [
              0.3333333333333333,
              "#9c179e"
             ],
             [
              0.4444444444444444,
              "#bd3786"
             ],
             [
              0.5555555555555556,
              "#d8576b"
             ],
             [
              0.6666666666666666,
              "#ed7953"
             ],
             [
              0.7777777777777778,
              "#fb9f3a"
             ],
             [
              0.8888888888888888,
              "#fdca26"
             ],
             [
              1,
              "#f0f921"
             ]
            ],
            "type": "histogram2d"
           }
          ],
          "histogram2dcontour": [
           {
            "colorbar": {
             "outlinewidth": 0,
             "ticks": ""
            },
            "colorscale": [
             [
              0,
              "#0d0887"
             ],
             [
              0.1111111111111111,
              "#46039f"
             ],
             [
              0.2222222222222222,
              "#7201a8"
             ],
             [
              0.3333333333333333,
              "#9c179e"
             ],
             [
              0.4444444444444444,
              "#bd3786"
             ],
             [
              0.5555555555555556,
              "#d8576b"
             ],
             [
              0.6666666666666666,
              "#ed7953"
             ],
             [
              0.7777777777777778,
              "#fb9f3a"
             ],
             [
              0.8888888888888888,
              "#fdca26"
             ],
             [
              1,
              "#f0f921"
             ]
            ],
            "type": "histogram2dcontour"
           }
          ],
          "mesh3d": [
           {
            "colorbar": {
             "outlinewidth": 0,
             "ticks": ""
            },
            "type": "mesh3d"
           }
          ],
          "parcoords": [
           {
            "line": {
             "colorbar": {
              "outlinewidth": 0,
              "ticks": ""
             }
            },
            "type": "parcoords"
           }
          ],
          "pie": [
           {
            "automargin": true,
            "type": "pie"
           }
          ],
          "scatter": [
           {
            "fillpattern": {
             "fillmode": "overlay",
             "size": 10,
             "solidity": 0.2
            },
            "type": "scatter"
           }
          ],
          "scatter3d": [
           {
            "line": {
             "colorbar": {
              "outlinewidth": 0,
              "ticks": ""
             }
            },
            "marker": {
             "colorbar": {
              "outlinewidth": 0,
              "ticks": ""
             }
            },
            "type": "scatter3d"
           }
          ],
          "scattercarpet": [
           {
            "marker": {
             "colorbar": {
              "outlinewidth": 0,
              "ticks": ""
             }
            },
            "type": "scattercarpet"
           }
          ],
          "scattergeo": [
           {
            "marker": {
             "colorbar": {
              "outlinewidth": 0,
              "ticks": ""
             }
            },
            "type": "scattergeo"
           }
          ],
          "scattergl": [
           {
            "marker": {
             "colorbar": {
              "outlinewidth": 0,
              "ticks": ""
             }
            },
            "type": "scattergl"
           }
          ],
          "scattermapbox": [
           {
            "marker": {
             "colorbar": {
              "outlinewidth": 0,
              "ticks": ""
             }
            },
            "type": "scattermapbox"
           }
          ],
          "scatterpolar": [
           {
            "marker": {
             "colorbar": {
              "outlinewidth": 0,
              "ticks": ""
             }
            },
            "type": "scatterpolar"
           }
          ],
          "scatterpolargl": [
           {
            "marker": {
             "colorbar": {
              "outlinewidth": 0,
              "ticks": ""
             }
            },
            "type": "scatterpolargl"
           }
          ],
          "scatterternary": [
           {
            "marker": {
             "colorbar": {
              "outlinewidth": 0,
              "ticks": ""
             }
            },
            "type": "scatterternary"
           }
          ],
          "surface": [
           {
            "colorbar": {
             "outlinewidth": 0,
             "ticks": ""
            },
            "colorscale": [
             [
              0,
              "#0d0887"
             ],
             [
              0.1111111111111111,
              "#46039f"
             ],
             [
              0.2222222222222222,
              "#7201a8"
             ],
             [
              0.3333333333333333,
              "#9c179e"
             ],
             [
              0.4444444444444444,
              "#bd3786"
             ],
             [
              0.5555555555555556,
              "#d8576b"
             ],
             [
              0.6666666666666666,
              "#ed7953"
             ],
             [
              0.7777777777777778,
              "#fb9f3a"
             ],
             [
              0.8888888888888888,
              "#fdca26"
             ],
             [
              1,
              "#f0f921"
             ]
            ],
            "type": "surface"
           }
          ],
          "table": [
           {
            "cells": {
             "fill": {
              "color": "#EBF0F8"
             },
             "line": {
              "color": "white"
             }
            },
            "header": {
             "fill": {
              "color": "#C8D4E3"
             },
             "line": {
              "color": "white"
             }
            },
            "type": "table"
           }
          ]
         },
         "layout": {
          "annotationdefaults": {
           "arrowcolor": "#2a3f5f",
           "arrowhead": 0,
           "arrowwidth": 1
          },
          "autotypenumbers": "strict",
          "coloraxis": {
           "colorbar": {
            "outlinewidth": 0,
            "ticks": ""
           }
          },
          "colorscale": {
           "diverging": [
            [
             0,
             "#8e0152"
            ],
            [
             0.1,
             "#c51b7d"
            ],
            [
             0.2,
             "#de77ae"
            ],
            [
             0.3,
             "#f1b6da"
            ],
            [
             0.4,
             "#fde0ef"
            ],
            [
             0.5,
             "#f7f7f7"
            ],
            [
             0.6,
             "#e6f5d0"
            ],
            [
             0.7,
             "#b8e186"
            ],
            [
             0.8,
             "#7fbc41"
            ],
            [
             0.9,
             "#4d9221"
            ],
            [
             1,
             "#276419"
            ]
           ],
           "sequential": [
            [
             0,
             "#0d0887"
            ],
            [
             0.1111111111111111,
             "#46039f"
            ],
            [
             0.2222222222222222,
             "#7201a8"
            ],
            [
             0.3333333333333333,
             "#9c179e"
            ],
            [
             0.4444444444444444,
             "#bd3786"
            ],
            [
             0.5555555555555556,
             "#d8576b"
            ],
            [
             0.6666666666666666,
             "#ed7953"
            ],
            [
             0.7777777777777778,
             "#fb9f3a"
            ],
            [
             0.8888888888888888,
             "#fdca26"
            ],
            [
             1,
             "#f0f921"
            ]
           ],
           "sequentialminus": [
            [
             0,
             "#0d0887"
            ],
            [
             0.1111111111111111,
             "#46039f"
            ],
            [
             0.2222222222222222,
             "#7201a8"
            ],
            [
             0.3333333333333333,
             "#9c179e"
            ],
            [
             0.4444444444444444,
             "#bd3786"
            ],
            [
             0.5555555555555556,
             "#d8576b"
            ],
            [
             0.6666666666666666,
             "#ed7953"
            ],
            [
             0.7777777777777778,
             "#fb9f3a"
            ],
            [
             0.8888888888888888,
             "#fdca26"
            ],
            [
             1,
             "#f0f921"
            ]
           ]
          },
          "colorway": [
           "#636efa",
           "#EF553B",
           "#00cc96",
           "#ab63fa",
           "#FFA15A",
           "#19d3f3",
           "#FF6692",
           "#B6E880",
           "#FF97FF",
           "#FECB52"
          ],
          "font": {
           "color": "#2a3f5f"
          },
          "geo": {
           "bgcolor": "white",
           "lakecolor": "white",
           "landcolor": "#E5ECF6",
           "showlakes": true,
           "showland": true,
           "subunitcolor": "white"
          },
          "hoverlabel": {
           "align": "left"
          },
          "hovermode": "closest",
          "mapbox": {
           "style": "light"
          },
          "paper_bgcolor": "white",
          "plot_bgcolor": "#E5ECF6",
          "polar": {
           "angularaxis": {
            "gridcolor": "white",
            "linecolor": "white",
            "ticks": ""
           },
           "bgcolor": "#E5ECF6",
           "radialaxis": {
            "gridcolor": "white",
            "linecolor": "white",
            "ticks": ""
           }
          },
          "scene": {
           "xaxis": {
            "backgroundcolor": "#E5ECF6",
            "gridcolor": "white",
            "gridwidth": 2,
            "linecolor": "white",
            "showbackground": true,
            "ticks": "",
            "zerolinecolor": "white"
           },
           "yaxis": {
            "backgroundcolor": "#E5ECF6",
            "gridcolor": "white",
            "gridwidth": 2,
            "linecolor": "white",
            "showbackground": true,
            "ticks": "",
            "zerolinecolor": "white"
           },
           "zaxis": {
            "backgroundcolor": "#E5ECF6",
            "gridcolor": "white",
            "gridwidth": 2,
            "linecolor": "white",
            "showbackground": true,
            "ticks": "",
            "zerolinecolor": "white"
           }
          },
          "shapedefaults": {
           "line": {
            "color": "#2a3f5f"
           }
          },
          "ternary": {
           "aaxis": {
            "gridcolor": "white",
            "linecolor": "white",
            "ticks": ""
           },
           "baxis": {
            "gridcolor": "white",
            "linecolor": "white",
            "ticks": ""
           },
           "bgcolor": "#E5ECF6",
           "caxis": {
            "gridcolor": "white",
            "linecolor": "white",
            "ticks": ""
           }
          },
          "title": {
           "x": 0.05
          },
          "xaxis": {
           "automargin": true,
           "gridcolor": "white",
           "linecolor": "white",
           "ticks": "",
           "title": {
            "standoff": 15
           },
           "zerolinecolor": "white",
           "zerolinewidth": 2
          },
          "yaxis": {
           "automargin": true,
           "gridcolor": "white",
           "linecolor": "white",
           "ticks": "",
           "title": {
            "standoff": 15
           },
           "zerolinecolor": "white",
           "zerolinewidth": 2
          }
         }
        },
        "title": {
         "text": "Fusion result distribution"
        },
        "width": 1200,
        "xaxis": {
         "anchor": "y",
         "categoryarray": [
          "very negative",
          "negative",
          "weakly negative",
          "Neutral",
          "weakly positive",
          "positive",
          "very positive"
         ],
         "categoryorder": "array",
         "domain": [
          0,
          0.45
         ]
        },
        "xaxis2": {
         "anchor": "y2",
         "categoryarray": [
          "very negative",
          "negative",
          "weakly negative",
          "Neutral",
          "weakly positive",
          "positive",
          "very positive"
         ],
         "categoryorder": "array",
         "domain": [
          0.55,
          1
         ]
        },
        "yaxis": {
         "anchor": "x",
         "domain": [
          0,
          1
         ],
         "range": [
          0,
          4500
         ]
        },
        "yaxis2": {
         "anchor": "x2",
         "domain": [
          0,
          1
         ],
         "range": [
          0,
          4500
         ]
        }
       }
      },
      "text/html": [
       "<div>                            <div id=\"d590ee42-a975-4dcf-a0e2-cd7849d739a1\" class=\"plotly-graph-div\" style=\"height:800px; width:1200px;\"></div>            <script type=\"text/javascript\">                require([\"plotly\"], function(Plotly) {                    window.PLOTLYENV=window.PLOTLYENV || {};                                    if (document.getElementById(\"d590ee42-a975-4dcf-a0e2-cd7849d739a1\")) {                    Plotly.newPlot(                        \"d590ee42-a975-4dcf-a0e2-cd7849d739a1\",                        [{\"alignmentgroup\":\"True\",\"hovertemplate\":\"labels_7=%{x}<br>segment=%{y}<extra></extra>\",\"legendgroup\":\"\",\"marker\":{\"color\":\"#636efa\",\"pattern\":{\"shape\":\"\"}},\"name\":\"\",\"offsetgroup\":\"\",\"orientation\":\"v\",\"showlegend\":false,\"textposition\":\"auto\",\"x\":[\"Neutral\",\"negative\",\"positive\",\"very negative\",\"very positive\",\"weakly negative\",\"weakly positive\"],\"xaxis\":\"x\",\"y\":[1922,488,663,156,109,380,936],\"yaxis\":\"y\",\"type\":\"bar\"},{\"alignmentgroup\":\"True\",\"hovertemplate\":\"preds_7=%{x}<br>segment=%{y}<extra></extra>\",\"legendgroup\":\"\",\"marker\":{\"color\":\"#636efa\",\"pattern\":{\"shape\":\"\"}},\"name\":\"\",\"offsetgroup\":\"\",\"orientation\":\"v\",\"showlegend\":false,\"textposition\":\"auto\",\"x\":[\"Neutral\",\"weakly positive\"],\"xaxis\":\"x2\",\"y\":[4581,73],\"yaxis\":\"y2\",\"type\":\"bar\"}],                        {\"template\":{\"data\":{\"histogram2dcontour\":[{\"type\":\"histogram2dcontour\",\"colorbar\":{\"outlinewidth\":0,\"ticks\":\"\"},\"colorscale\":[[0.0,\"#0d0887\"],[0.1111111111111111,\"#46039f\"],[0.2222222222222222,\"#7201a8\"],[0.3333333333333333,\"#9c179e\"],[0.4444444444444444,\"#bd3786\"],[0.5555555555555556,\"#d8576b\"],[0.6666666666666666,\"#ed7953\"],[0.7777777777777778,\"#fb9f3a\"],[0.8888888888888888,\"#fdca26\"],[1.0,\"#f0f921\"]]}],\"choropleth\":[{\"type\":\"choropleth\",\"colorbar\":{\"outlinewidth\":0,\"ticks\":\"\"}}],\"histogram2d\":[{\"type\":\"histogram2d\",\"colorbar\":{\"outlinewidth\":0,\"ticks\":\"\"},\"colorscale\":[[0.0,\"#0d0887\"],[0.1111111111111111,\"#46039f\"],[0.2222222222222222,\"#7201a8\"],[0.3333333333333333,\"#9c179e\"],[0.4444444444444444,\"#bd3786\"],[0.5555555555555556,\"#d8576b\"],[0.6666666666666666,\"#ed7953\"],[0.7777777777777778,\"#fb9f3a\"],[0.8888888888888888,\"#fdca26\"],[1.0,\"#f0f921\"]]}],\"heatmap\":[{\"type\":\"heatmap\",\"colorbar\":{\"outlinewidth\":0,\"ticks\":\"\"},\"colorscale\":[[0.0,\"#0d0887\"],[0.1111111111111111,\"#46039f\"],[0.2222222222222222,\"#7201a8\"],[0.3333333333333333,\"#9c179e\"],[0.4444444444444444,\"#bd3786\"],[0.5555555555555556,\"#d8576b\"],[0.6666666666666666,\"#ed7953\"],[0.7777777777777778,\"#fb9f3a\"],[0.8888888888888888,\"#fdca26\"],[1.0,\"#f0f921\"]]}],\"heatmapgl\":[{\"type\":\"heatmapgl\",\"colorbar\":{\"outlinewidth\":0,\"ticks\":\"\"},\"colorscale\":[[0.0,\"#0d0887\"],[0.1111111111111111,\"#46039f\"],[0.2222222222222222,\"#7201a8\"],[0.3333333333333333,\"#9c179e\"],[0.4444444444444444,\"#bd3786\"],[0.5555555555555556,\"#d8576b\"],[0.6666666666666666,\"#ed7953\"],[0.7777777777777778,\"#fb9f3a\"],[0.8888888888888888,\"#fdca26\"],[1.0,\"#f0f921\"]]}],\"contourcarpet\":[{\"type\":\"contourcarpet\",\"colorbar\":{\"outlinewidth\":0,\"ticks\":\"\"}}],\"contour\":[{\"type\":\"contour\",\"colorbar\":{\"outlinewidth\":0,\"ticks\":\"\"},\"colorscale\":[[0.0,\"#0d0887\"],[0.1111111111111111,\"#46039f\"],[0.2222222222222222,\"#7201a8\"],[0.3333333333333333,\"#9c179e\"],[0.4444444444444444,\"#bd3786\"],[0.5555555555555556,\"#d8576b\"],[0.6666666666666666,\"#ed7953\"],[0.7777777777777778,\"#fb9f3a\"],[0.8888888888888888,\"#fdca26\"],[1.0,\"#f0f921\"]]}],\"surface\":[{\"type\":\"surface\",\"colorbar\":{\"outlinewidth\":0,\"ticks\":\"\"},\"colorscale\":[[0.0,\"#0d0887\"],[0.1111111111111111,\"#46039f\"],[0.2222222222222222,\"#7201a8\"],[0.3333333333333333,\"#9c179e\"],[0.4444444444444444,\"#bd3786\"],[0.5555555555555556,\"#d8576b\"],[0.6666666666666666,\"#ed7953\"],[0.7777777777777778,\"#fb9f3a\"],[0.8888888888888888,\"#fdca26\"],[1.0,\"#f0f921\"]]}],\"mesh3d\":[{\"type\":\"mesh3d\",\"colorbar\":{\"outlinewidth\":0,\"ticks\":\"\"}}],\"scatter\":[{\"fillpattern\":{\"fillmode\":\"overlay\",\"size\":10,\"solidity\":0.2},\"type\":\"scatter\"}],\"parcoords\":[{\"type\":\"parcoords\",\"line\":{\"colorbar\":{\"outlinewidth\":0,\"ticks\":\"\"}}}],\"scatterpolargl\":[{\"type\":\"scatterpolargl\",\"marker\":{\"colorbar\":{\"outlinewidth\":0,\"ticks\":\"\"}}}],\"bar\":[{\"error_x\":{\"color\":\"#2a3f5f\"},\"error_y\":{\"color\":\"#2a3f5f\"},\"marker\":{\"line\":{\"color\":\"#E5ECF6\",\"width\":0.5},\"pattern\":{\"fillmode\":\"overlay\",\"size\":10,\"solidity\":0.2}},\"type\":\"bar\"}],\"scattergeo\":[{\"type\":\"scattergeo\",\"marker\":{\"colorbar\":{\"outlinewidth\":0,\"ticks\":\"\"}}}],\"scatterpolar\":[{\"type\":\"scatterpolar\",\"marker\":{\"colorbar\":{\"outlinewidth\":0,\"ticks\":\"\"}}}],\"histogram\":[{\"marker\":{\"pattern\":{\"fillmode\":\"overlay\",\"size\":10,\"solidity\":0.2}},\"type\":\"histogram\"}],\"scattergl\":[{\"type\":\"scattergl\",\"marker\":{\"colorbar\":{\"outlinewidth\":0,\"ticks\":\"\"}}}],\"scatter3d\":[{\"type\":\"scatter3d\",\"line\":{\"colorbar\":{\"outlinewidth\":0,\"ticks\":\"\"}},\"marker\":{\"colorbar\":{\"outlinewidth\":0,\"ticks\":\"\"}}}],\"scattermapbox\":[{\"type\":\"scattermapbox\",\"marker\":{\"colorbar\":{\"outlinewidth\":0,\"ticks\":\"\"}}}],\"scatterternary\":[{\"type\":\"scatterternary\",\"marker\":{\"colorbar\":{\"outlinewidth\":0,\"ticks\":\"\"}}}],\"scattercarpet\":[{\"type\":\"scattercarpet\",\"marker\":{\"colorbar\":{\"outlinewidth\":0,\"ticks\":\"\"}}}],\"carpet\":[{\"aaxis\":{\"endlinecolor\":\"#2a3f5f\",\"gridcolor\":\"white\",\"linecolor\":\"white\",\"minorgridcolor\":\"white\",\"startlinecolor\":\"#2a3f5f\"},\"baxis\":{\"endlinecolor\":\"#2a3f5f\",\"gridcolor\":\"white\",\"linecolor\":\"white\",\"minorgridcolor\":\"white\",\"startlinecolor\":\"#2a3f5f\"},\"type\":\"carpet\"}],\"table\":[{\"cells\":{\"fill\":{\"color\":\"#EBF0F8\"},\"line\":{\"color\":\"white\"}},\"header\":{\"fill\":{\"color\":\"#C8D4E3\"},\"line\":{\"color\":\"white\"}},\"type\":\"table\"}],\"barpolar\":[{\"marker\":{\"line\":{\"color\":\"#E5ECF6\",\"width\":0.5},\"pattern\":{\"fillmode\":\"overlay\",\"size\":10,\"solidity\":0.2}},\"type\":\"barpolar\"}],\"pie\":[{\"automargin\":true,\"type\":\"pie\"}]},\"layout\":{\"autotypenumbers\":\"strict\",\"colorway\":[\"#636efa\",\"#EF553B\",\"#00cc96\",\"#ab63fa\",\"#FFA15A\",\"#19d3f3\",\"#FF6692\",\"#B6E880\",\"#FF97FF\",\"#FECB52\"],\"font\":{\"color\":\"#2a3f5f\"},\"hovermode\":\"closest\",\"hoverlabel\":{\"align\":\"left\"},\"paper_bgcolor\":\"white\",\"plot_bgcolor\":\"#E5ECF6\",\"polar\":{\"bgcolor\":\"#E5ECF6\",\"angularaxis\":{\"gridcolor\":\"white\",\"linecolor\":\"white\",\"ticks\":\"\"},\"radialaxis\":{\"gridcolor\":\"white\",\"linecolor\":\"white\",\"ticks\":\"\"}},\"ternary\":{\"bgcolor\":\"#E5ECF6\",\"aaxis\":{\"gridcolor\":\"white\",\"linecolor\":\"white\",\"ticks\":\"\"},\"baxis\":{\"gridcolor\":\"white\",\"linecolor\":\"white\",\"ticks\":\"\"},\"caxis\":{\"gridcolor\":\"white\",\"linecolor\":\"white\",\"ticks\":\"\"}},\"coloraxis\":{\"colorbar\":{\"outlinewidth\":0,\"ticks\":\"\"}},\"colorscale\":{\"sequential\":[[0.0,\"#0d0887\"],[0.1111111111111111,\"#46039f\"],[0.2222222222222222,\"#7201a8\"],[0.3333333333333333,\"#9c179e\"],[0.4444444444444444,\"#bd3786\"],[0.5555555555555556,\"#d8576b\"],[0.6666666666666666,\"#ed7953\"],[0.7777777777777778,\"#fb9f3a\"],[0.8888888888888888,\"#fdca26\"],[1.0,\"#f0f921\"]],\"sequentialminus\":[[0.0,\"#0d0887\"],[0.1111111111111111,\"#46039f\"],[0.2222222222222222,\"#7201a8\"],[0.3333333333333333,\"#9c179e\"],[0.4444444444444444,\"#bd3786\"],[0.5555555555555556,\"#d8576b\"],[0.6666666666666666,\"#ed7953\"],[0.7777777777777778,\"#fb9f3a\"],[0.8888888888888888,\"#fdca26\"],[1.0,\"#f0f921\"]],\"diverging\":[[0,\"#8e0152\"],[0.1,\"#c51b7d\"],[0.2,\"#de77ae\"],[0.3,\"#f1b6da\"],[0.4,\"#fde0ef\"],[0.5,\"#f7f7f7\"],[0.6,\"#e6f5d0\"],[0.7,\"#b8e186\"],[0.8,\"#7fbc41\"],[0.9,\"#4d9221\"],[1,\"#276419\"]]},\"xaxis\":{\"gridcolor\":\"white\",\"linecolor\":\"white\",\"ticks\":\"\",\"title\":{\"standoff\":15},\"zerolinecolor\":\"white\",\"automargin\":true,\"zerolinewidth\":2},\"yaxis\":{\"gridcolor\":\"white\",\"linecolor\":\"white\",\"ticks\":\"\",\"title\":{\"standoff\":15},\"zerolinecolor\":\"white\",\"automargin\":true,\"zerolinewidth\":2},\"scene\":{\"xaxis\":{\"backgroundcolor\":\"#E5ECF6\",\"gridcolor\":\"white\",\"linecolor\":\"white\",\"showbackground\":true,\"ticks\":\"\",\"zerolinecolor\":\"white\",\"gridwidth\":2},\"yaxis\":{\"backgroundcolor\":\"#E5ECF6\",\"gridcolor\":\"white\",\"linecolor\":\"white\",\"showbackground\":true,\"ticks\":\"\",\"zerolinecolor\":\"white\",\"gridwidth\":2},\"zaxis\":{\"backgroundcolor\":\"#E5ECF6\",\"gridcolor\":\"white\",\"linecolor\":\"white\",\"showbackground\":true,\"ticks\":\"\",\"zerolinecolor\":\"white\",\"gridwidth\":2}},\"shapedefaults\":{\"line\":{\"color\":\"#2a3f5f\"}},\"annotationdefaults\":{\"arrowcolor\":\"#2a3f5f\",\"arrowhead\":0,\"arrowwidth\":1},\"geo\":{\"bgcolor\":\"white\",\"landcolor\":\"#E5ECF6\",\"subunitcolor\":\"white\",\"showland\":true,\"showlakes\":true,\"lakecolor\":\"white\"},\"title\":{\"x\":0.05},\"mapbox\":{\"style\":\"light\"}}},\"xaxis\":{\"anchor\":\"y\",\"domain\":[0.0,0.45],\"categoryorder\":\"array\",\"categoryarray\":[\"very negative\",\"negative\",\"weakly negative\",\"Neutral\",\"weakly positive\",\"positive\",\"very positive\"]},\"yaxis\":{\"anchor\":\"x\",\"domain\":[0.0,1.0],\"range\":[0,4500]},\"xaxis2\":{\"anchor\":\"y2\",\"domain\":[0.55,1.0],\"categoryorder\":\"array\",\"categoryarray\":[\"very negative\",\"negative\",\"weakly negative\",\"Neutral\",\"weakly positive\",\"positive\",\"very positive\"]},\"yaxis2\":{\"anchor\":\"x2\",\"domain\":[0.0,1.0],\"range\":[0,4500]},\"annotations\":[{\"font\":{\"size\":16},\"showarrow\":false,\"text\":\"Grond-truth\",\"x\":0.225,\"xanchor\":\"center\",\"xref\":\"paper\",\"y\":1.0,\"yanchor\":\"bottom\",\"yref\":\"paper\"},{\"font\":{\"size\":16},\"showarrow\":false,\"text\":\"TFN-frozen\",\"x\":0.775,\"xanchor\":\"center\",\"xref\":\"paper\",\"y\":1.0,\"yanchor\":\"bottom\",\"yref\":\"paper\"}],\"title\":{\"text\":\"Fusion result distribution\"},\"height\":800,\"width\":1200},                        {\"responsive\": true}                    ).then(function(){\n",
       "                            \n",
       "var gd = document.getElementById('d590ee42-a975-4dcf-a0e2-cd7849d739a1');\n",
       "var x = new MutationObserver(function (mutations, observer) {{\n",
       "        var display = window.getComputedStyle(gd).display;\n",
       "        if (!display || display === 'none') {{\n",
       "            console.log([gd, 'removed!']);\n",
       "            Plotly.purge(gd);\n",
       "            observer.disconnect();\n",
       "        }}\n",
       "}});\n",
       "\n",
       "// Listen for the removal of the full notebook cells\n",
       "var notebookContainer = gd.closest('#notebook-container');\n",
       "if (notebookContainer) {{\n",
       "    x.observe(notebookContainer, {childList: true});\n",
       "}}\n",
       "\n",
       "// Listen for the clearing of the current output cell\n",
       "var outputEl = gd.closest('.output');\n",
       "if (outputEl) {{\n",
       "    x.observe(outputEl, {childList: true});\n",
       "}}\n",
       "\n",
       "                        })                };                });            </script>        </div>"
      ]
     },
     "metadata": {},
     "output_type": "display_data"
    }
   ],
   "source": [
    "df = pd.DataFrame(data=tfn_mosei)\n",
    "df_gold = df.groupby('labels_7').count().reset_index()\n",
    "df_pred = df.groupby('preds_7').count().reset_index()\n",
    "\n",
    "order = ['very negative', 'negative', 'weakly negative', 'Neutral', 'weakly positive', 'positive', 'very positive']\n",
    "\n",
    "fig1 = px.bar(df_gold, x=\"labels_7\", y=\"segment\")\n",
    "fig2 = px.bar(df_pred, x=\"preds_7\", y=\"segment\")\n",
    "\n",
    "fig1_traces = []\n",
    "fig2_traces = []\n",
    "\n",
    "for trace in range(len(fig1[\"data\"])):\n",
    "    fig1_traces.append(fig1[\"data\"][trace])\n",
    "for trace in range(len(fig2[\"data\"])):\n",
    "    fig2_traces.append(fig2[\"data\"][trace])\n",
    "\n",
    "this_figure = sp.make_subplots(rows=1, cols=2, subplot_titles=(\"Grond-truth\", \"TFN-frozen\"))\n",
    "for traces in fig1_traces:\n",
    "    this_figure.append_trace(traces, row=1, col=1)\n",
    "for traces in fig2_traces:\n",
    "    this_figure.append_trace(traces, row=1, col=2)\n",
    "\n",
    "this_figure.update_layout(height=800, width=1200, title_text=\"Fusion result distribution\")\n",
    "this_figure.update_xaxes(categoryorder='array', categoryarray= order)\n",
    "this_figure.update_yaxes(range=[0,4500])\n",
    "this_figure.show()"
   ]
  },
  {
   "cell_type": "markdown",
   "metadata": {},
   "source": [
    "### 3. Unimodal result distribution"
   ]
  },
  {
   "cell_type": "code",
   "execution_count": 52,
   "metadata": {},
   "outputs": [
    {
     "data": {
      "application/vnd.plotly.v1+json": {
       "config": {
        "plotlyServerURL": "https://plot.ly"
       },
       "data": [
        {
         "alignmentgroup": "True",
         "hovertemplate": "text_7=%{x}<br>segment=%{y}<extra></extra>",
         "legendgroup": "",
         "marker": {
          "color": "#636efa",
          "pattern": {
           "shape": ""
          }
         },
         "name": "",
         "offsetgroup": "",
         "orientation": "v",
         "showlegend": false,
         "textposition": "auto",
         "type": "bar",
         "x": [
          "Neutral",
          "weakly positive"
         ],
         "xaxis": "x",
         "y": [
          4651,
          3
         ],
         "yaxis": "y"
        },
        {
         "alignmentgroup": "True",
         "hovertemplate": "audio_7=%{x}<br>segment=%{y}<extra></extra>",
         "legendgroup": "",
         "marker": {
          "color": "#636efa",
          "pattern": {
           "shape": ""
          }
         },
         "name": "",
         "offsetgroup": "",
         "orientation": "v",
         "showlegend": false,
         "textposition": "auto",
         "type": "bar",
         "x": [
          "Neutral"
         ],
         "xaxis": "x2",
         "y": [
          4654
         ],
         "yaxis": "y2"
        },
        {
         "alignmentgroup": "True",
         "hovertemplate": "video_7=%{x}<br>segment=%{y}<extra></extra>",
         "legendgroup": "",
         "marker": {
          "color": "#636efa",
          "pattern": {
           "shape": ""
          }
         },
         "name": "",
         "offsetgroup": "",
         "orientation": "v",
         "showlegend": false,
         "textposition": "auto",
         "type": "bar",
         "x": [
          "Neutral"
         ],
         "xaxis": "x3",
         "y": [
          4654
         ],
         "yaxis": "y3"
        },
        {
         "alignmentgroup": "True",
         "hovertemplate": "preds_7=%{x}<br>segment=%{y}<extra></extra>",
         "legendgroup": "",
         "marker": {
          "color": "#636efa",
          "pattern": {
           "shape": ""
          }
         },
         "name": "",
         "offsetgroup": "",
         "orientation": "v",
         "showlegend": false,
         "textposition": "auto",
         "type": "bar",
         "x": [
          "Neutral",
          "weakly positive"
         ],
         "xaxis": "x4",
         "y": [
          4581,
          73
         ],
         "yaxis": "y4"
        }
       ],
       "layout": {
        "annotations": [
         {
          "font": {
           "size": 16
          },
          "showarrow": false,
          "text": "Text-only",
          "x": 0.225,
          "xanchor": "center",
          "xref": "paper",
          "y": 1,
          "yanchor": "bottom",
          "yref": "paper"
         },
         {
          "font": {
           "size": 16
          },
          "showarrow": false,
          "text": "Acoustic-only",
          "x": 0.775,
          "xanchor": "center",
          "xref": "paper",
          "y": 1,
          "yanchor": "bottom",
          "yref": "paper"
         },
         {
          "font": {
           "size": 16
          },
          "showarrow": false,
          "text": "Visual-only",
          "x": 0.225,
          "xanchor": "center",
          "xref": "paper",
          "y": 0.375,
          "yanchor": "bottom",
          "yref": "paper"
         },
         {
          "font": {
           "size": 16
          },
          "showarrow": false,
          "text": "TFN-fusion",
          "x": 0.775,
          "xanchor": "center",
          "xref": "paper",
          "y": 0.375,
          "yanchor": "bottom",
          "yref": "paper"
         }
        ],
        "height": 800,
        "template": {
         "data": {
          "bar": [
           {
            "error_x": {
             "color": "#2a3f5f"
            },
            "error_y": {
             "color": "#2a3f5f"
            },
            "marker": {
             "line": {
              "color": "#E5ECF6",
              "width": 0.5
             },
             "pattern": {
              "fillmode": "overlay",
              "size": 10,
              "solidity": 0.2
             }
            },
            "type": "bar"
           }
          ],
          "barpolar": [
           {
            "marker": {
             "line": {
              "color": "#E5ECF6",
              "width": 0.5
             },
             "pattern": {
              "fillmode": "overlay",
              "size": 10,
              "solidity": 0.2
             }
            },
            "type": "barpolar"
           }
          ],
          "carpet": [
           {
            "aaxis": {
             "endlinecolor": "#2a3f5f",
             "gridcolor": "white",
             "linecolor": "white",
             "minorgridcolor": "white",
             "startlinecolor": "#2a3f5f"
            },
            "baxis": {
             "endlinecolor": "#2a3f5f",
             "gridcolor": "white",
             "linecolor": "white",
             "minorgridcolor": "white",
             "startlinecolor": "#2a3f5f"
            },
            "type": "carpet"
           }
          ],
          "choropleth": [
           {
            "colorbar": {
             "outlinewidth": 0,
             "ticks": ""
            },
            "type": "choropleth"
           }
          ],
          "contour": [
           {
            "colorbar": {
             "outlinewidth": 0,
             "ticks": ""
            },
            "colorscale": [
             [
              0,
              "#0d0887"
             ],
             [
              0.1111111111111111,
              "#46039f"
             ],
             [
              0.2222222222222222,
              "#7201a8"
             ],
             [
              0.3333333333333333,
              "#9c179e"
             ],
             [
              0.4444444444444444,
              "#bd3786"
             ],
             [
              0.5555555555555556,
              "#d8576b"
             ],
             [
              0.6666666666666666,
              "#ed7953"
             ],
             [
              0.7777777777777778,
              "#fb9f3a"
             ],
             [
              0.8888888888888888,
              "#fdca26"
             ],
             [
              1,
              "#f0f921"
             ]
            ],
            "type": "contour"
           }
          ],
          "contourcarpet": [
           {
            "colorbar": {
             "outlinewidth": 0,
             "ticks": ""
            },
            "type": "contourcarpet"
           }
          ],
          "heatmap": [
           {
            "colorbar": {
             "outlinewidth": 0,
             "ticks": ""
            },
            "colorscale": [
             [
              0,
              "#0d0887"
             ],
             [
              0.1111111111111111,
              "#46039f"
             ],
             [
              0.2222222222222222,
              "#7201a8"
             ],
             [
              0.3333333333333333,
              "#9c179e"
             ],
             [
              0.4444444444444444,
              "#bd3786"
             ],
             [
              0.5555555555555556,
              "#d8576b"
             ],
             [
              0.6666666666666666,
              "#ed7953"
             ],
             [
              0.7777777777777778,
              "#fb9f3a"
             ],
             [
              0.8888888888888888,
              "#fdca26"
             ],
             [
              1,
              "#f0f921"
             ]
            ],
            "type": "heatmap"
           }
          ],
          "heatmapgl": [
           {
            "colorbar": {
             "outlinewidth": 0,
             "ticks": ""
            },
            "colorscale": [
             [
              0,
              "#0d0887"
             ],
             [
              0.1111111111111111,
              "#46039f"
             ],
             [
              0.2222222222222222,
              "#7201a8"
             ],
             [
              0.3333333333333333,
              "#9c179e"
             ],
             [
              0.4444444444444444,
              "#bd3786"
             ],
             [
              0.5555555555555556,
              "#d8576b"
             ],
             [
              0.6666666666666666,
              "#ed7953"
             ],
             [
              0.7777777777777778,
              "#fb9f3a"
             ],
             [
              0.8888888888888888,
              "#fdca26"
             ],
             [
              1,
              "#f0f921"
             ]
            ],
            "type": "heatmapgl"
           }
          ],
          "histogram": [
           {
            "marker": {
             "pattern": {
              "fillmode": "overlay",
              "size": 10,
              "solidity": 0.2
             }
            },
            "type": "histogram"
           }
          ],
          "histogram2d": [
           {
            "colorbar": {
             "outlinewidth": 0,
             "ticks": ""
            },
            "colorscale": [
             [
              0,
              "#0d0887"
             ],
             [
              0.1111111111111111,
              "#46039f"
             ],
             [
              0.2222222222222222,
              "#7201a8"
             ],
             [
              0.3333333333333333,
              "#9c179e"
             ],
             [
              0.4444444444444444,
              "#bd3786"
             ],
             [
              0.5555555555555556,
              "#d8576b"
             ],
             [
              0.6666666666666666,
              "#ed7953"
             ],
             [
              0.7777777777777778,
              "#fb9f3a"
             ],
             [
              0.8888888888888888,
              "#fdca26"
             ],
             [
              1,
              "#f0f921"
             ]
            ],
            "type": "histogram2d"
           }
          ],
          "histogram2dcontour": [
           {
            "colorbar": {
             "outlinewidth": 0,
             "ticks": ""
            },
            "colorscale": [
             [
              0,
              "#0d0887"
             ],
             [
              0.1111111111111111,
              "#46039f"
             ],
             [
              0.2222222222222222,
              "#7201a8"
             ],
             [
              0.3333333333333333,
              "#9c179e"
             ],
             [
              0.4444444444444444,
              "#bd3786"
             ],
             [
              0.5555555555555556,
              "#d8576b"
             ],
             [
              0.6666666666666666,
              "#ed7953"
             ],
             [
              0.7777777777777778,
              "#fb9f3a"
             ],
             [
              0.8888888888888888,
              "#fdca26"
             ],
             [
              1,
              "#f0f921"
             ]
            ],
            "type": "histogram2dcontour"
           }
          ],
          "mesh3d": [
           {
            "colorbar": {
             "outlinewidth": 0,
             "ticks": ""
            },
            "type": "mesh3d"
           }
          ],
          "parcoords": [
           {
            "line": {
             "colorbar": {
              "outlinewidth": 0,
              "ticks": ""
             }
            },
            "type": "parcoords"
           }
          ],
          "pie": [
           {
            "automargin": true,
            "type": "pie"
           }
          ],
          "scatter": [
           {
            "fillpattern": {
             "fillmode": "overlay",
             "size": 10,
             "solidity": 0.2
            },
            "type": "scatter"
           }
          ],
          "scatter3d": [
           {
            "line": {
             "colorbar": {
              "outlinewidth": 0,
              "ticks": ""
             }
            },
            "marker": {
             "colorbar": {
              "outlinewidth": 0,
              "ticks": ""
             }
            },
            "type": "scatter3d"
           }
          ],
          "scattercarpet": [
           {
            "marker": {
             "colorbar": {
              "outlinewidth": 0,
              "ticks": ""
             }
            },
            "type": "scattercarpet"
           }
          ],
          "scattergeo": [
           {
            "marker": {
             "colorbar": {
              "outlinewidth": 0,
              "ticks": ""
             }
            },
            "type": "scattergeo"
           }
          ],
          "scattergl": [
           {
            "marker": {
             "colorbar": {
              "outlinewidth": 0,
              "ticks": ""
             }
            },
            "type": "scattergl"
           }
          ],
          "scattermapbox": [
           {
            "marker": {
             "colorbar": {
              "outlinewidth": 0,
              "ticks": ""
             }
            },
            "type": "scattermapbox"
           }
          ],
          "scatterpolar": [
           {
            "marker": {
             "colorbar": {
              "outlinewidth": 0,
              "ticks": ""
             }
            },
            "type": "scatterpolar"
           }
          ],
          "scatterpolargl": [
           {
            "marker": {
             "colorbar": {
              "outlinewidth": 0,
              "ticks": ""
             }
            },
            "type": "scatterpolargl"
           }
          ],
          "scatterternary": [
           {
            "marker": {
             "colorbar": {
              "outlinewidth": 0,
              "ticks": ""
             }
            },
            "type": "scatterternary"
           }
          ],
          "surface": [
           {
            "colorbar": {
             "outlinewidth": 0,
             "ticks": ""
            },
            "colorscale": [
             [
              0,
              "#0d0887"
             ],
             [
              0.1111111111111111,
              "#46039f"
             ],
             [
              0.2222222222222222,
              "#7201a8"
             ],
             [
              0.3333333333333333,
              "#9c179e"
             ],
             [
              0.4444444444444444,
              "#bd3786"
             ],
             [
              0.5555555555555556,
              "#d8576b"
             ],
             [
              0.6666666666666666,
              "#ed7953"
             ],
             [
              0.7777777777777778,
              "#fb9f3a"
             ],
             [
              0.8888888888888888,
              "#fdca26"
             ],
             [
              1,
              "#f0f921"
             ]
            ],
            "type": "surface"
           }
          ],
          "table": [
           {
            "cells": {
             "fill": {
              "color": "#EBF0F8"
             },
             "line": {
              "color": "white"
             }
            },
            "header": {
             "fill": {
              "color": "#C8D4E3"
             },
             "line": {
              "color": "white"
             }
            },
            "type": "table"
           }
          ]
         },
         "layout": {
          "annotationdefaults": {
           "arrowcolor": "#2a3f5f",
           "arrowhead": 0,
           "arrowwidth": 1
          },
          "autotypenumbers": "strict",
          "coloraxis": {
           "colorbar": {
            "outlinewidth": 0,
            "ticks": ""
           }
          },
          "colorscale": {
           "diverging": [
            [
             0,
             "#8e0152"
            ],
            [
             0.1,
             "#c51b7d"
            ],
            [
             0.2,
             "#de77ae"
            ],
            [
             0.3,
             "#f1b6da"
            ],
            [
             0.4,
             "#fde0ef"
            ],
            [
             0.5,
             "#f7f7f7"
            ],
            [
             0.6,
             "#e6f5d0"
            ],
            [
             0.7,
             "#b8e186"
            ],
            [
             0.8,
             "#7fbc41"
            ],
            [
             0.9,
             "#4d9221"
            ],
            [
             1,
             "#276419"
            ]
           ],
           "sequential": [
            [
             0,
             "#0d0887"
            ],
            [
             0.1111111111111111,
             "#46039f"
            ],
            [
             0.2222222222222222,
             "#7201a8"
            ],
            [
             0.3333333333333333,
             "#9c179e"
            ],
            [
             0.4444444444444444,
             "#bd3786"
            ],
            [
             0.5555555555555556,
             "#d8576b"
            ],
            [
             0.6666666666666666,
             "#ed7953"
            ],
            [
             0.7777777777777778,
             "#fb9f3a"
            ],
            [
             0.8888888888888888,
             "#fdca26"
            ],
            [
             1,
             "#f0f921"
            ]
           ],
           "sequentialminus": [
            [
             0,
             "#0d0887"
            ],
            [
             0.1111111111111111,
             "#46039f"
            ],
            [
             0.2222222222222222,
             "#7201a8"
            ],
            [
             0.3333333333333333,
             "#9c179e"
            ],
            [
             0.4444444444444444,
             "#bd3786"
            ],
            [
             0.5555555555555556,
             "#d8576b"
            ],
            [
             0.6666666666666666,
             "#ed7953"
            ],
            [
             0.7777777777777778,
             "#fb9f3a"
            ],
            [
             0.8888888888888888,
             "#fdca26"
            ],
            [
             1,
             "#f0f921"
            ]
           ]
          },
          "colorway": [
           "#636efa",
           "#EF553B",
           "#00cc96",
           "#ab63fa",
           "#FFA15A",
           "#19d3f3",
           "#FF6692",
           "#B6E880",
           "#FF97FF",
           "#FECB52"
          ],
          "font": {
           "color": "#2a3f5f"
          },
          "geo": {
           "bgcolor": "white",
           "lakecolor": "white",
           "landcolor": "#E5ECF6",
           "showlakes": true,
           "showland": true,
           "subunitcolor": "white"
          },
          "hoverlabel": {
           "align": "left"
          },
          "hovermode": "closest",
          "mapbox": {
           "style": "light"
          },
          "paper_bgcolor": "white",
          "plot_bgcolor": "#E5ECF6",
          "polar": {
           "angularaxis": {
            "gridcolor": "white",
            "linecolor": "white",
            "ticks": ""
           },
           "bgcolor": "#E5ECF6",
           "radialaxis": {
            "gridcolor": "white",
            "linecolor": "white",
            "ticks": ""
           }
          },
          "scene": {
           "xaxis": {
            "backgroundcolor": "#E5ECF6",
            "gridcolor": "white",
            "gridwidth": 2,
            "linecolor": "white",
            "showbackground": true,
            "ticks": "",
            "zerolinecolor": "white"
           },
           "yaxis": {
            "backgroundcolor": "#E5ECF6",
            "gridcolor": "white",
            "gridwidth": 2,
            "linecolor": "white",
            "showbackground": true,
            "ticks": "",
            "zerolinecolor": "white"
           },
           "zaxis": {
            "backgroundcolor": "#E5ECF6",
            "gridcolor": "white",
            "gridwidth": 2,
            "linecolor": "white",
            "showbackground": true,
            "ticks": "",
            "zerolinecolor": "white"
           }
          },
          "shapedefaults": {
           "line": {
            "color": "#2a3f5f"
           }
          },
          "ternary": {
           "aaxis": {
            "gridcolor": "white",
            "linecolor": "white",
            "ticks": ""
           },
           "baxis": {
            "gridcolor": "white",
            "linecolor": "white",
            "ticks": ""
           },
           "bgcolor": "#E5ECF6",
           "caxis": {
            "gridcolor": "white",
            "linecolor": "white",
            "ticks": ""
           }
          },
          "title": {
           "x": 0.05
          },
          "xaxis": {
           "automargin": true,
           "gridcolor": "white",
           "linecolor": "white",
           "ticks": "",
           "title": {
            "standoff": 15
           },
           "zerolinecolor": "white",
           "zerolinewidth": 2
          },
          "yaxis": {
           "automargin": true,
           "gridcolor": "white",
           "linecolor": "white",
           "ticks": "",
           "title": {
            "standoff": 15
           },
           "zerolinecolor": "white",
           "zerolinewidth": 2
          }
         }
        },
        "title": {
         "text": "Unimodal results distribution"
        },
        "width": 1200,
        "xaxis": {
         "anchor": "y",
         "categoryarray": [
          "very negative",
          "negative",
          "weakly negative",
          "Neutral",
          "weakly positive",
          "positive",
          "very positive"
         ],
         "categoryorder": "array",
         "domain": [
          0,
          0.45
         ]
        },
        "xaxis2": {
         "anchor": "y2",
         "categoryarray": [
          "very negative",
          "negative",
          "weakly negative",
          "Neutral",
          "weakly positive",
          "positive",
          "very positive"
         ],
         "categoryorder": "array",
         "domain": [
          0.55,
          1
         ]
        },
        "xaxis3": {
         "anchor": "y3",
         "categoryarray": [
          "very negative",
          "negative",
          "weakly negative",
          "Neutral",
          "weakly positive",
          "positive",
          "very positive"
         ],
         "categoryorder": "array",
         "domain": [
          0,
          0.45
         ]
        },
        "xaxis4": {
         "anchor": "y4",
         "categoryarray": [
          "very negative",
          "negative",
          "weakly negative",
          "Neutral",
          "weakly positive",
          "positive",
          "very positive"
         ],
         "categoryorder": "array",
         "domain": [
          0.55,
          1
         ]
        },
        "yaxis": {
         "anchor": "x",
         "domain": [
          0.625,
          1
         ]
        },
        "yaxis2": {
         "anchor": "x2",
         "domain": [
          0.625,
          1
         ]
        },
        "yaxis3": {
         "anchor": "x3",
         "domain": [
          0,
          0.375
         ]
        },
        "yaxis4": {
         "anchor": "x4",
         "domain": [
          0,
          0.375
         ]
        }
       }
      },
      "text/html": [
       "<div>                            <div id=\"6d1ed515-600a-461f-9dda-743dc7ab108c\" class=\"plotly-graph-div\" style=\"height:800px; width:1200px;\"></div>            <script type=\"text/javascript\">                require([\"plotly\"], function(Plotly) {                    window.PLOTLYENV=window.PLOTLYENV || {};                                    if (document.getElementById(\"6d1ed515-600a-461f-9dda-743dc7ab108c\")) {                    Plotly.newPlot(                        \"6d1ed515-600a-461f-9dda-743dc7ab108c\",                        [{\"alignmentgroup\":\"True\",\"hovertemplate\":\"text_7=%{x}<br>segment=%{y}<extra></extra>\",\"legendgroup\":\"\",\"marker\":{\"color\":\"#636efa\",\"pattern\":{\"shape\":\"\"}},\"name\":\"\",\"offsetgroup\":\"\",\"orientation\":\"v\",\"showlegend\":false,\"textposition\":\"auto\",\"x\":[\"Neutral\",\"weakly positive\"],\"xaxis\":\"x\",\"y\":[4651,3],\"yaxis\":\"y\",\"type\":\"bar\"},{\"alignmentgroup\":\"True\",\"hovertemplate\":\"audio_7=%{x}<br>segment=%{y}<extra></extra>\",\"legendgroup\":\"\",\"marker\":{\"color\":\"#636efa\",\"pattern\":{\"shape\":\"\"}},\"name\":\"\",\"offsetgroup\":\"\",\"orientation\":\"v\",\"showlegend\":false,\"textposition\":\"auto\",\"x\":[\"Neutral\"],\"xaxis\":\"x2\",\"y\":[4654],\"yaxis\":\"y2\",\"type\":\"bar\"},{\"alignmentgroup\":\"True\",\"hovertemplate\":\"video_7=%{x}<br>segment=%{y}<extra></extra>\",\"legendgroup\":\"\",\"marker\":{\"color\":\"#636efa\",\"pattern\":{\"shape\":\"\"}},\"name\":\"\",\"offsetgroup\":\"\",\"orientation\":\"v\",\"showlegend\":false,\"textposition\":\"auto\",\"x\":[\"Neutral\"],\"xaxis\":\"x3\",\"y\":[4654],\"yaxis\":\"y3\",\"type\":\"bar\"},{\"alignmentgroup\":\"True\",\"hovertemplate\":\"preds_7=%{x}<br>segment=%{y}<extra></extra>\",\"legendgroup\":\"\",\"marker\":{\"color\":\"#636efa\",\"pattern\":{\"shape\":\"\"}},\"name\":\"\",\"offsetgroup\":\"\",\"orientation\":\"v\",\"showlegend\":false,\"textposition\":\"auto\",\"x\":[\"Neutral\",\"weakly positive\"],\"xaxis\":\"x4\",\"y\":[4581,73],\"yaxis\":\"y4\",\"type\":\"bar\"}],                        {\"template\":{\"data\":{\"histogram2dcontour\":[{\"type\":\"histogram2dcontour\",\"colorbar\":{\"outlinewidth\":0,\"ticks\":\"\"},\"colorscale\":[[0.0,\"#0d0887\"],[0.1111111111111111,\"#46039f\"],[0.2222222222222222,\"#7201a8\"],[0.3333333333333333,\"#9c179e\"],[0.4444444444444444,\"#bd3786\"],[0.5555555555555556,\"#d8576b\"],[0.6666666666666666,\"#ed7953\"],[0.7777777777777778,\"#fb9f3a\"],[0.8888888888888888,\"#fdca26\"],[1.0,\"#f0f921\"]]}],\"choropleth\":[{\"type\":\"choropleth\",\"colorbar\":{\"outlinewidth\":0,\"ticks\":\"\"}}],\"histogram2d\":[{\"type\":\"histogram2d\",\"colorbar\":{\"outlinewidth\":0,\"ticks\":\"\"},\"colorscale\":[[0.0,\"#0d0887\"],[0.1111111111111111,\"#46039f\"],[0.2222222222222222,\"#7201a8\"],[0.3333333333333333,\"#9c179e\"],[0.4444444444444444,\"#bd3786\"],[0.5555555555555556,\"#d8576b\"],[0.6666666666666666,\"#ed7953\"],[0.7777777777777778,\"#fb9f3a\"],[0.8888888888888888,\"#fdca26\"],[1.0,\"#f0f921\"]]}],\"heatmap\":[{\"type\":\"heatmap\",\"colorbar\":{\"outlinewidth\":0,\"ticks\":\"\"},\"colorscale\":[[0.0,\"#0d0887\"],[0.1111111111111111,\"#46039f\"],[0.2222222222222222,\"#7201a8\"],[0.3333333333333333,\"#9c179e\"],[0.4444444444444444,\"#bd3786\"],[0.5555555555555556,\"#d8576b\"],[0.6666666666666666,\"#ed7953\"],[0.7777777777777778,\"#fb9f3a\"],[0.8888888888888888,\"#fdca26\"],[1.0,\"#f0f921\"]]}],\"heatmapgl\":[{\"type\":\"heatmapgl\",\"colorbar\":{\"outlinewidth\":0,\"ticks\":\"\"},\"colorscale\":[[0.0,\"#0d0887\"],[0.1111111111111111,\"#46039f\"],[0.2222222222222222,\"#7201a8\"],[0.3333333333333333,\"#9c179e\"],[0.4444444444444444,\"#bd3786\"],[0.5555555555555556,\"#d8576b\"],[0.6666666666666666,\"#ed7953\"],[0.7777777777777778,\"#fb9f3a\"],[0.8888888888888888,\"#fdca26\"],[1.0,\"#f0f921\"]]}],\"contourcarpet\":[{\"type\":\"contourcarpet\",\"colorbar\":{\"outlinewidth\":0,\"ticks\":\"\"}}],\"contour\":[{\"type\":\"contour\",\"colorbar\":{\"outlinewidth\":0,\"ticks\":\"\"},\"colorscale\":[[0.0,\"#0d0887\"],[0.1111111111111111,\"#46039f\"],[0.2222222222222222,\"#7201a8\"],[0.3333333333333333,\"#9c179e\"],[0.4444444444444444,\"#bd3786\"],[0.5555555555555556,\"#d8576b\"],[0.6666666666666666,\"#ed7953\"],[0.7777777777777778,\"#fb9f3a\"],[0.8888888888888888,\"#fdca26\"],[1.0,\"#f0f921\"]]}],\"surface\":[{\"type\":\"surface\",\"colorbar\":{\"outlinewidth\":0,\"ticks\":\"\"},\"colorscale\":[[0.0,\"#0d0887\"],[0.1111111111111111,\"#46039f\"],[0.2222222222222222,\"#7201a8\"],[0.3333333333333333,\"#9c179e\"],[0.4444444444444444,\"#bd3786\"],[0.5555555555555556,\"#d8576b\"],[0.6666666666666666,\"#ed7953\"],[0.7777777777777778,\"#fb9f3a\"],[0.8888888888888888,\"#fdca26\"],[1.0,\"#f0f921\"]]}],\"mesh3d\":[{\"type\":\"mesh3d\",\"colorbar\":{\"outlinewidth\":0,\"ticks\":\"\"}}],\"scatter\":[{\"fillpattern\":{\"fillmode\":\"overlay\",\"size\":10,\"solidity\":0.2},\"type\":\"scatter\"}],\"parcoords\":[{\"type\":\"parcoords\",\"line\":{\"colorbar\":{\"outlinewidth\":0,\"ticks\":\"\"}}}],\"scatterpolargl\":[{\"type\":\"scatterpolargl\",\"marker\":{\"colorbar\":{\"outlinewidth\":0,\"ticks\":\"\"}}}],\"bar\":[{\"error_x\":{\"color\":\"#2a3f5f\"},\"error_y\":{\"color\":\"#2a3f5f\"},\"marker\":{\"line\":{\"color\":\"#E5ECF6\",\"width\":0.5},\"pattern\":{\"fillmode\":\"overlay\",\"size\":10,\"solidity\":0.2}},\"type\":\"bar\"}],\"scattergeo\":[{\"type\":\"scattergeo\",\"marker\":{\"colorbar\":{\"outlinewidth\":0,\"ticks\":\"\"}}}],\"scatterpolar\":[{\"type\":\"scatterpolar\",\"marker\":{\"colorbar\":{\"outlinewidth\":0,\"ticks\":\"\"}}}],\"histogram\":[{\"marker\":{\"pattern\":{\"fillmode\":\"overlay\",\"size\":10,\"solidity\":0.2}},\"type\":\"histogram\"}],\"scattergl\":[{\"type\":\"scattergl\",\"marker\":{\"colorbar\":{\"outlinewidth\":0,\"ticks\":\"\"}}}],\"scatter3d\":[{\"type\":\"scatter3d\",\"line\":{\"colorbar\":{\"outlinewidth\":0,\"ticks\":\"\"}},\"marker\":{\"colorbar\":{\"outlinewidth\":0,\"ticks\":\"\"}}}],\"scattermapbox\":[{\"type\":\"scattermapbox\",\"marker\":{\"colorbar\":{\"outlinewidth\":0,\"ticks\":\"\"}}}],\"scatterternary\":[{\"type\":\"scatterternary\",\"marker\":{\"colorbar\":{\"outlinewidth\":0,\"ticks\":\"\"}}}],\"scattercarpet\":[{\"type\":\"scattercarpet\",\"marker\":{\"colorbar\":{\"outlinewidth\":0,\"ticks\":\"\"}}}],\"carpet\":[{\"aaxis\":{\"endlinecolor\":\"#2a3f5f\",\"gridcolor\":\"white\",\"linecolor\":\"white\",\"minorgridcolor\":\"white\",\"startlinecolor\":\"#2a3f5f\"},\"baxis\":{\"endlinecolor\":\"#2a3f5f\",\"gridcolor\":\"white\",\"linecolor\":\"white\",\"minorgridcolor\":\"white\",\"startlinecolor\":\"#2a3f5f\"},\"type\":\"carpet\"}],\"table\":[{\"cells\":{\"fill\":{\"color\":\"#EBF0F8\"},\"line\":{\"color\":\"white\"}},\"header\":{\"fill\":{\"color\":\"#C8D4E3\"},\"line\":{\"color\":\"white\"}},\"type\":\"table\"}],\"barpolar\":[{\"marker\":{\"line\":{\"color\":\"#E5ECF6\",\"width\":0.5},\"pattern\":{\"fillmode\":\"overlay\",\"size\":10,\"solidity\":0.2}},\"type\":\"barpolar\"}],\"pie\":[{\"automargin\":true,\"type\":\"pie\"}]},\"layout\":{\"autotypenumbers\":\"strict\",\"colorway\":[\"#636efa\",\"#EF553B\",\"#00cc96\",\"#ab63fa\",\"#FFA15A\",\"#19d3f3\",\"#FF6692\",\"#B6E880\",\"#FF97FF\",\"#FECB52\"],\"font\":{\"color\":\"#2a3f5f\"},\"hovermode\":\"closest\",\"hoverlabel\":{\"align\":\"left\"},\"paper_bgcolor\":\"white\",\"plot_bgcolor\":\"#E5ECF6\",\"polar\":{\"bgcolor\":\"#E5ECF6\",\"angularaxis\":{\"gridcolor\":\"white\",\"linecolor\":\"white\",\"ticks\":\"\"},\"radialaxis\":{\"gridcolor\":\"white\",\"linecolor\":\"white\",\"ticks\":\"\"}},\"ternary\":{\"bgcolor\":\"#E5ECF6\",\"aaxis\":{\"gridcolor\":\"white\",\"linecolor\":\"white\",\"ticks\":\"\"},\"baxis\":{\"gridcolor\":\"white\",\"linecolor\":\"white\",\"ticks\":\"\"},\"caxis\":{\"gridcolor\":\"white\",\"linecolor\":\"white\",\"ticks\":\"\"}},\"coloraxis\":{\"colorbar\":{\"outlinewidth\":0,\"ticks\":\"\"}},\"colorscale\":{\"sequential\":[[0.0,\"#0d0887\"],[0.1111111111111111,\"#46039f\"],[0.2222222222222222,\"#7201a8\"],[0.3333333333333333,\"#9c179e\"],[0.4444444444444444,\"#bd3786\"],[0.5555555555555556,\"#d8576b\"],[0.6666666666666666,\"#ed7953\"],[0.7777777777777778,\"#fb9f3a\"],[0.8888888888888888,\"#fdca26\"],[1.0,\"#f0f921\"]],\"sequentialminus\":[[0.0,\"#0d0887\"],[0.1111111111111111,\"#46039f\"],[0.2222222222222222,\"#7201a8\"],[0.3333333333333333,\"#9c179e\"],[0.4444444444444444,\"#bd3786\"],[0.5555555555555556,\"#d8576b\"],[0.6666666666666666,\"#ed7953\"],[0.7777777777777778,\"#fb9f3a\"],[0.8888888888888888,\"#fdca26\"],[1.0,\"#f0f921\"]],\"diverging\":[[0,\"#8e0152\"],[0.1,\"#c51b7d\"],[0.2,\"#de77ae\"],[0.3,\"#f1b6da\"],[0.4,\"#fde0ef\"],[0.5,\"#f7f7f7\"],[0.6,\"#e6f5d0\"],[0.7,\"#b8e186\"],[0.8,\"#7fbc41\"],[0.9,\"#4d9221\"],[1,\"#276419\"]]},\"xaxis\":{\"gridcolor\":\"white\",\"linecolor\":\"white\",\"ticks\":\"\",\"title\":{\"standoff\":15},\"zerolinecolor\":\"white\",\"automargin\":true,\"zerolinewidth\":2},\"yaxis\":{\"gridcolor\":\"white\",\"linecolor\":\"white\",\"ticks\":\"\",\"title\":{\"standoff\":15},\"zerolinecolor\":\"white\",\"automargin\":true,\"zerolinewidth\":2},\"scene\":{\"xaxis\":{\"backgroundcolor\":\"#E5ECF6\",\"gridcolor\":\"white\",\"linecolor\":\"white\",\"showbackground\":true,\"ticks\":\"\",\"zerolinecolor\":\"white\",\"gridwidth\":2},\"yaxis\":{\"backgroundcolor\":\"#E5ECF6\",\"gridcolor\":\"white\",\"linecolor\":\"white\",\"showbackground\":true,\"ticks\":\"\",\"zerolinecolor\":\"white\",\"gridwidth\":2},\"zaxis\":{\"backgroundcolor\":\"#E5ECF6\",\"gridcolor\":\"white\",\"linecolor\":\"white\",\"showbackground\":true,\"ticks\":\"\",\"zerolinecolor\":\"white\",\"gridwidth\":2}},\"shapedefaults\":{\"line\":{\"color\":\"#2a3f5f\"}},\"annotationdefaults\":{\"arrowcolor\":\"#2a3f5f\",\"arrowhead\":0,\"arrowwidth\":1},\"geo\":{\"bgcolor\":\"white\",\"landcolor\":\"#E5ECF6\",\"subunitcolor\":\"white\",\"showland\":true,\"showlakes\":true,\"lakecolor\":\"white\"},\"title\":{\"x\":0.05},\"mapbox\":{\"style\":\"light\"}}},\"xaxis\":{\"anchor\":\"y\",\"domain\":[0.0,0.45],\"categoryorder\":\"array\",\"categoryarray\":[\"very negative\",\"negative\",\"weakly negative\",\"Neutral\",\"weakly positive\",\"positive\",\"very positive\"]},\"yaxis\":{\"anchor\":\"x\",\"domain\":[0.625,1.0]},\"xaxis2\":{\"anchor\":\"y2\",\"domain\":[0.55,1.0],\"categoryorder\":\"array\",\"categoryarray\":[\"very negative\",\"negative\",\"weakly negative\",\"Neutral\",\"weakly positive\",\"positive\",\"very positive\"]},\"yaxis2\":{\"anchor\":\"x2\",\"domain\":[0.625,1.0]},\"xaxis3\":{\"anchor\":\"y3\",\"domain\":[0.0,0.45],\"categoryorder\":\"array\",\"categoryarray\":[\"very negative\",\"negative\",\"weakly negative\",\"Neutral\",\"weakly positive\",\"positive\",\"very positive\"]},\"yaxis3\":{\"anchor\":\"x3\",\"domain\":[0.0,0.375]},\"xaxis4\":{\"anchor\":\"y4\",\"domain\":[0.55,1.0],\"categoryorder\":\"array\",\"categoryarray\":[\"very negative\",\"negative\",\"weakly negative\",\"Neutral\",\"weakly positive\",\"positive\",\"very positive\"]},\"yaxis4\":{\"anchor\":\"x4\",\"domain\":[0.0,0.375]},\"annotations\":[{\"font\":{\"size\":16},\"showarrow\":false,\"text\":\"Text-only\",\"x\":0.225,\"xanchor\":\"center\",\"xref\":\"paper\",\"y\":1.0,\"yanchor\":\"bottom\",\"yref\":\"paper\"},{\"font\":{\"size\":16},\"showarrow\":false,\"text\":\"Acoustic-only\",\"x\":0.775,\"xanchor\":\"center\",\"xref\":\"paper\",\"y\":1.0,\"yanchor\":\"bottom\",\"yref\":\"paper\"},{\"font\":{\"size\":16},\"showarrow\":false,\"text\":\"Visual-only\",\"x\":0.225,\"xanchor\":\"center\",\"xref\":\"paper\",\"y\":0.375,\"yanchor\":\"bottom\",\"yref\":\"paper\"},{\"font\":{\"size\":16},\"showarrow\":false,\"text\":\"TFN-fusion\",\"x\":0.775,\"xanchor\":\"center\",\"xref\":\"paper\",\"y\":0.375,\"yanchor\":\"bottom\",\"yref\":\"paper\"}],\"title\":{\"text\":\"Unimodal results distribution\"},\"height\":800,\"width\":1200},                        {\"responsive\": true}                    ).then(function(){\n",
       "                            \n",
       "var gd = document.getElementById('6d1ed515-600a-461f-9dda-743dc7ab108c');\n",
       "var x = new MutationObserver(function (mutations, observer) {{\n",
       "        var display = window.getComputedStyle(gd).display;\n",
       "        if (!display || display === 'none') {{\n",
       "            console.log([gd, 'removed!']);\n",
       "            Plotly.purge(gd);\n",
       "            observer.disconnect();\n",
       "        }}\n",
       "}});\n",
       "\n",
       "// Listen for the removal of the full notebook cells\n",
       "var notebookContainer = gd.closest('#notebook-container');\n",
       "if (notebookContainer) {{\n",
       "    x.observe(notebookContainer, {childList: true});\n",
       "}}\n",
       "\n",
       "// Listen for the clearing of the current output cell\n",
       "var outputEl = gd.closest('.output');\n",
       "if (outputEl) {{\n",
       "    x.observe(outputEl, {childList: true});\n",
       "}}\n",
       "\n",
       "                        })                };                });            </script>        </div>"
      ]
     },
     "metadata": {},
     "output_type": "display_data"
    }
   ],
   "source": [
    "# keys = list(tfn.keys())\n",
    "# for key in keys:\n",
    "#     tfn[key].extend(['very negative', 'negative', 'weakly negative', 'Neutral', 'weakly positive', 'positive', 'very positive'])\n",
    "\n",
    "df = pd.DataFrame(data=tfn_mosei)\n",
    "df_t = df.groupby('text_7').count().reset_index()\n",
    "df_a = df.groupby('audio_7').count().reset_index()\n",
    "df_v = df.groupby('video_7').count().reset_index()\n",
    "df_f = df.groupby('preds_7').count().reset_index()\n",
    "\n",
    "fig1 = px.bar(df_t, x=\"text_7\", y=\"segment\")\n",
    "fig2 = px.bar(df_a, x=\"audio_7\", y=\"segment\")\n",
    "fig3 = px.bar(df_v, x=\"video_7\", y=\"segment\")\n",
    "fig4 = px.bar(df_f, x=\"preds_7\", y=\"segment\")\n",
    "\n",
    "fig1_traces = []\n",
    "fig2_traces = []\n",
    "fig3_traces = []\n",
    "fig4_traces = []\n",
    "\n",
    "for trace in range(len(fig1[\"data\"])):\n",
    "    fig1_traces.append(fig1[\"data\"][trace])\n",
    "for trace in range(len(fig2[\"data\"])):\n",
    "    fig2_traces.append(fig2[\"data\"][trace])\n",
    "for trace in range(len(fig3[\"data\"])):\n",
    "    fig3_traces.append(fig3[\"data\"][trace])\n",
    "for trace in range(len(fig4[\"data\"])):\n",
    "    fig4_traces.append(fig4[\"data\"][trace])\n",
    "\n",
    "this_figure = sp.make_subplots(rows=2, cols=2, subplot_titles=(\"Text-only\", \"Acoustic-only\", \"Visual-only\", \"TFN-fusion\"))\n",
    "for traces in fig1_traces:\n",
    "    this_figure.append_trace(traces, row=1, col=1)\n",
    "for traces in fig2_traces:\n",
    "    this_figure.append_trace(traces, row=1, col=2)\n",
    "for traces in fig3_traces:\n",
    "    this_figure.append_trace(traces, row=2, col=1)\n",
    "for traces in fig4_traces:\n",
    "    this_figure.append_trace(traces, row=2, col=2)\n",
    "\n",
    "this_figure.update_layout(height=800, width=1200, title_text=\"Unimodal results distribution\")\n",
    "this_figure.update_xaxes(categoryorder='array', categoryarray= order)\n",
    "# this_figure.update_yaxes(range=[0,500])\n",
    "this_figure.show()"
   ]
  },
  {
   "cell_type": "markdown",
   "metadata": {},
   "source": [
    "## MMIM"
   ]
  },
  {
   "cell_type": "code",
   "execution_count": 57,
   "metadata": {},
   "outputs": [],
   "source": [
    "with open(f\"results/MMIM_mosei.pkl\", \"rb\") as handle:\n",
    "    # tfn_dict = {segment, labels, labels_2, labels_7, preds, preds_2, preds_7}\n",
    "    mmim_mosei = pkl.load(handle)"
   ]
  },
  {
   "cell_type": "code",
   "execution_count": 58,
   "metadata": {},
   "outputs": [
    {
     "name": "stdout",
     "output_type": "stream",
     "text": [
      "4654\n"
     ]
    }
   ],
   "source": [
    "print(len(mmim_mosei['segment']))"
   ]
  },
  {
   "cell_type": "code",
   "execution_count": 61,
   "metadata": {},
   "outputs": [
    {
     "data": {
      "application/vnd.plotly.v1+json": {
       "config": {
        "plotlyServerURL": "https://plot.ly"
       },
       "data": [
        {
         "alignmentgroup": "True",
         "hovertemplate": "labels_7=%{x}<br>segment=%{y}<extra></extra>",
         "legendgroup": "",
         "marker": {
          "color": "#636efa",
          "pattern": {
           "shape": ""
          }
         },
         "name": "",
         "offsetgroup": "",
         "orientation": "v",
         "showlegend": false,
         "textposition": "auto",
         "type": "bar",
         "x": [
          "Neutral",
          "negative",
          "positive",
          "very negative",
          "very positive",
          "weakly negative",
          "weakly positive"
         ],
         "xaxis": "x",
         "y": [
          1922,
          488,
          663,
          156,
          109,
          380,
          936
         ],
         "yaxis": "y"
        },
        {
         "alignmentgroup": "True",
         "hovertemplate": "preds_7=%{x}<br>segment=%{y}<extra></extra>",
         "legendgroup": "",
         "marker": {
          "color": "#636efa",
          "pattern": {
           "shape": ""
          }
         },
         "name": "",
         "offsetgroup": "",
         "orientation": "v",
         "showlegend": false,
         "textposition": "auto",
         "type": "bar",
         "x": [
          "Neutral",
          "negative",
          "positive",
          "very negative",
          "very positive",
          "weakly negative",
          "weakly positive"
         ],
         "xaxis": "x2",
         "y": [
          2302,
          279,
          300,
          59,
          46,
          615,
          1053
         ],
         "yaxis": "y2"
        }
       ],
       "layout": {
        "annotations": [
         {
          "font": {
           "size": 16
          },
          "showarrow": false,
          "text": "Grond-truth",
          "x": 0.225,
          "xanchor": "center",
          "xref": "paper",
          "y": 1,
          "yanchor": "bottom",
          "yref": "paper"
         },
         {
          "font": {
           "size": 16
          },
          "showarrow": false,
          "text": "MMIM",
          "x": 0.775,
          "xanchor": "center",
          "xref": "paper",
          "y": 1,
          "yanchor": "bottom",
          "yref": "paper"
         }
        ],
        "template": {
         "data": {
          "bar": [
           {
            "error_x": {
             "color": "#2a3f5f"
            },
            "error_y": {
             "color": "#2a3f5f"
            },
            "marker": {
             "line": {
              "color": "#E5ECF6",
              "width": 0.5
             },
             "pattern": {
              "fillmode": "overlay",
              "size": 10,
              "solidity": 0.2
             }
            },
            "type": "bar"
           }
          ],
          "barpolar": [
           {
            "marker": {
             "line": {
              "color": "#E5ECF6",
              "width": 0.5
             },
             "pattern": {
              "fillmode": "overlay",
              "size": 10,
              "solidity": 0.2
             }
            },
            "type": "barpolar"
           }
          ],
          "carpet": [
           {
            "aaxis": {
             "endlinecolor": "#2a3f5f",
             "gridcolor": "white",
             "linecolor": "white",
             "minorgridcolor": "white",
             "startlinecolor": "#2a3f5f"
            },
            "baxis": {
             "endlinecolor": "#2a3f5f",
             "gridcolor": "white",
             "linecolor": "white",
             "minorgridcolor": "white",
             "startlinecolor": "#2a3f5f"
            },
            "type": "carpet"
           }
          ],
          "choropleth": [
           {
            "colorbar": {
             "outlinewidth": 0,
             "ticks": ""
            },
            "type": "choropleth"
           }
          ],
          "contour": [
           {
            "colorbar": {
             "outlinewidth": 0,
             "ticks": ""
            },
            "colorscale": [
             [
              0,
              "#0d0887"
             ],
             [
              0.1111111111111111,
              "#46039f"
             ],
             [
              0.2222222222222222,
              "#7201a8"
             ],
             [
              0.3333333333333333,
              "#9c179e"
             ],
             [
              0.4444444444444444,
              "#bd3786"
             ],
             [
              0.5555555555555556,
              "#d8576b"
             ],
             [
              0.6666666666666666,
              "#ed7953"
             ],
             [
              0.7777777777777778,
              "#fb9f3a"
             ],
             [
              0.8888888888888888,
              "#fdca26"
             ],
             [
              1,
              "#f0f921"
             ]
            ],
            "type": "contour"
           }
          ],
          "contourcarpet": [
           {
            "colorbar": {
             "outlinewidth": 0,
             "ticks": ""
            },
            "type": "contourcarpet"
           }
          ],
          "heatmap": [
           {
            "colorbar": {
             "outlinewidth": 0,
             "ticks": ""
            },
            "colorscale": [
             [
              0,
              "#0d0887"
             ],
             [
              0.1111111111111111,
              "#46039f"
             ],
             [
              0.2222222222222222,
              "#7201a8"
             ],
             [
              0.3333333333333333,
              "#9c179e"
             ],
             [
              0.4444444444444444,
              "#bd3786"
             ],
             [
              0.5555555555555556,
              "#d8576b"
             ],
             [
              0.6666666666666666,
              "#ed7953"
             ],
             [
              0.7777777777777778,
              "#fb9f3a"
             ],
             [
              0.8888888888888888,
              "#fdca26"
             ],
             [
              1,
              "#f0f921"
             ]
            ],
            "type": "heatmap"
           }
          ],
          "heatmapgl": [
           {
            "colorbar": {
             "outlinewidth": 0,
             "ticks": ""
            },
            "colorscale": [
             [
              0,
              "#0d0887"
             ],
             [
              0.1111111111111111,
              "#46039f"
             ],
             [
              0.2222222222222222,
              "#7201a8"
             ],
             [
              0.3333333333333333,
              "#9c179e"
             ],
             [
              0.4444444444444444,
              "#bd3786"
             ],
             [
              0.5555555555555556,
              "#d8576b"
             ],
             [
              0.6666666666666666,
              "#ed7953"
             ],
             [
              0.7777777777777778,
              "#fb9f3a"
             ],
             [
              0.8888888888888888,
              "#fdca26"
             ],
             [
              1,
              "#f0f921"
             ]
            ],
            "type": "heatmapgl"
           }
          ],
          "histogram": [
           {
            "marker": {
             "pattern": {
              "fillmode": "overlay",
              "size": 10,
              "solidity": 0.2
             }
            },
            "type": "histogram"
           }
          ],
          "histogram2d": [
           {
            "colorbar": {
             "outlinewidth": 0,
             "ticks": ""
            },
            "colorscale": [
             [
              0,
              "#0d0887"
             ],
             [
              0.1111111111111111,
              "#46039f"
             ],
             [
              0.2222222222222222,
              "#7201a8"
             ],
             [
              0.3333333333333333,
              "#9c179e"
             ],
             [
              0.4444444444444444,
              "#bd3786"
             ],
             [
              0.5555555555555556,
              "#d8576b"
             ],
             [
              0.6666666666666666,
              "#ed7953"
             ],
             [
              0.7777777777777778,
              "#fb9f3a"
             ],
             [
              0.8888888888888888,
              "#fdca26"
             ],
             [
              1,
              "#f0f921"
             ]
            ],
            "type": "histogram2d"
           }
          ],
          "histogram2dcontour": [
           {
            "colorbar": {
             "outlinewidth": 0,
             "ticks": ""
            },
            "colorscale": [
             [
              0,
              "#0d0887"
             ],
             [
              0.1111111111111111,
              "#46039f"
             ],
             [
              0.2222222222222222,
              "#7201a8"
             ],
             [
              0.3333333333333333,
              "#9c179e"
             ],
             [
              0.4444444444444444,
              "#bd3786"
             ],
             [
              0.5555555555555556,
              "#d8576b"
             ],
             [
              0.6666666666666666,
              "#ed7953"
             ],
             [
              0.7777777777777778,
              "#fb9f3a"
             ],
             [
              0.8888888888888888,
              "#fdca26"
             ],
             [
              1,
              "#f0f921"
             ]
            ],
            "type": "histogram2dcontour"
           }
          ],
          "mesh3d": [
           {
            "colorbar": {
             "outlinewidth": 0,
             "ticks": ""
            },
            "type": "mesh3d"
           }
          ],
          "parcoords": [
           {
            "line": {
             "colorbar": {
              "outlinewidth": 0,
              "ticks": ""
             }
            },
            "type": "parcoords"
           }
          ],
          "pie": [
           {
            "automargin": true,
            "type": "pie"
           }
          ],
          "scatter": [
           {
            "fillpattern": {
             "fillmode": "overlay",
             "size": 10,
             "solidity": 0.2
            },
            "type": "scatter"
           }
          ],
          "scatter3d": [
           {
            "line": {
             "colorbar": {
              "outlinewidth": 0,
              "ticks": ""
             }
            },
            "marker": {
             "colorbar": {
              "outlinewidth": 0,
              "ticks": ""
             }
            },
            "type": "scatter3d"
           }
          ],
          "scattercarpet": [
           {
            "marker": {
             "colorbar": {
              "outlinewidth": 0,
              "ticks": ""
             }
            },
            "type": "scattercarpet"
           }
          ],
          "scattergeo": [
           {
            "marker": {
             "colorbar": {
              "outlinewidth": 0,
              "ticks": ""
             }
            },
            "type": "scattergeo"
           }
          ],
          "scattergl": [
           {
            "marker": {
             "colorbar": {
              "outlinewidth": 0,
              "ticks": ""
             }
            },
            "type": "scattergl"
           }
          ],
          "scattermapbox": [
           {
            "marker": {
             "colorbar": {
              "outlinewidth": 0,
              "ticks": ""
             }
            },
            "type": "scattermapbox"
           }
          ],
          "scatterpolar": [
           {
            "marker": {
             "colorbar": {
              "outlinewidth": 0,
              "ticks": ""
             }
            },
            "type": "scatterpolar"
           }
          ],
          "scatterpolargl": [
           {
            "marker": {
             "colorbar": {
              "outlinewidth": 0,
              "ticks": ""
             }
            },
            "type": "scatterpolargl"
           }
          ],
          "scatterternary": [
           {
            "marker": {
             "colorbar": {
              "outlinewidth": 0,
              "ticks": ""
             }
            },
            "type": "scatterternary"
           }
          ],
          "surface": [
           {
            "colorbar": {
             "outlinewidth": 0,
             "ticks": ""
            },
            "colorscale": [
             [
              0,
              "#0d0887"
             ],
             [
              0.1111111111111111,
              "#46039f"
             ],
             [
              0.2222222222222222,
              "#7201a8"
             ],
             [
              0.3333333333333333,
              "#9c179e"
             ],
             [
              0.4444444444444444,
              "#bd3786"
             ],
             [
              0.5555555555555556,
              "#d8576b"
             ],
             [
              0.6666666666666666,
              "#ed7953"
             ],
             [
              0.7777777777777778,
              "#fb9f3a"
             ],
             [
              0.8888888888888888,
              "#fdca26"
             ],
             [
              1,
              "#f0f921"
             ]
            ],
            "type": "surface"
           }
          ],
          "table": [
           {
            "cells": {
             "fill": {
              "color": "#EBF0F8"
             },
             "line": {
              "color": "white"
             }
            },
            "header": {
             "fill": {
              "color": "#C8D4E3"
             },
             "line": {
              "color": "white"
             }
            },
            "type": "table"
           }
          ]
         },
         "layout": {
          "annotationdefaults": {
           "arrowcolor": "#2a3f5f",
           "arrowhead": 0,
           "arrowwidth": 1
          },
          "autotypenumbers": "strict",
          "coloraxis": {
           "colorbar": {
            "outlinewidth": 0,
            "ticks": ""
           }
          },
          "colorscale": {
           "diverging": [
            [
             0,
             "#8e0152"
            ],
            [
             0.1,
             "#c51b7d"
            ],
            [
             0.2,
             "#de77ae"
            ],
            [
             0.3,
             "#f1b6da"
            ],
            [
             0.4,
             "#fde0ef"
            ],
            [
             0.5,
             "#f7f7f7"
            ],
            [
             0.6,
             "#e6f5d0"
            ],
            [
             0.7,
             "#b8e186"
            ],
            [
             0.8,
             "#7fbc41"
            ],
            [
             0.9,
             "#4d9221"
            ],
            [
             1,
             "#276419"
            ]
           ],
           "sequential": [
            [
             0,
             "#0d0887"
            ],
            [
             0.1111111111111111,
             "#46039f"
            ],
            [
             0.2222222222222222,
             "#7201a8"
            ],
            [
             0.3333333333333333,
             "#9c179e"
            ],
            [
             0.4444444444444444,
             "#bd3786"
            ],
            [
             0.5555555555555556,
             "#d8576b"
            ],
            [
             0.6666666666666666,
             "#ed7953"
            ],
            [
             0.7777777777777778,
             "#fb9f3a"
            ],
            [
             0.8888888888888888,
             "#fdca26"
            ],
            [
             1,
             "#f0f921"
            ]
           ],
           "sequentialminus": [
            [
             0,
             "#0d0887"
            ],
            [
             0.1111111111111111,
             "#46039f"
            ],
            [
             0.2222222222222222,
             "#7201a8"
            ],
            [
             0.3333333333333333,
             "#9c179e"
            ],
            [
             0.4444444444444444,
             "#bd3786"
            ],
            [
             0.5555555555555556,
             "#d8576b"
            ],
            [
             0.6666666666666666,
             "#ed7953"
            ],
            [
             0.7777777777777778,
             "#fb9f3a"
            ],
            [
             0.8888888888888888,
             "#fdca26"
            ],
            [
             1,
             "#f0f921"
            ]
           ]
          },
          "colorway": [
           "#636efa",
           "#EF553B",
           "#00cc96",
           "#ab63fa",
           "#FFA15A",
           "#19d3f3",
           "#FF6692",
           "#B6E880",
           "#FF97FF",
           "#FECB52"
          ],
          "font": {
           "color": "#2a3f5f"
          },
          "geo": {
           "bgcolor": "white",
           "lakecolor": "white",
           "landcolor": "#E5ECF6",
           "showlakes": true,
           "showland": true,
           "subunitcolor": "white"
          },
          "hoverlabel": {
           "align": "left"
          },
          "hovermode": "closest",
          "mapbox": {
           "style": "light"
          },
          "paper_bgcolor": "white",
          "plot_bgcolor": "#E5ECF6",
          "polar": {
           "angularaxis": {
            "gridcolor": "white",
            "linecolor": "white",
            "ticks": ""
           },
           "bgcolor": "#E5ECF6",
           "radialaxis": {
            "gridcolor": "white",
            "linecolor": "white",
            "ticks": ""
           }
          },
          "scene": {
           "xaxis": {
            "backgroundcolor": "#E5ECF6",
            "gridcolor": "white",
            "gridwidth": 2,
            "linecolor": "white",
            "showbackground": true,
            "ticks": "",
            "zerolinecolor": "white"
           },
           "yaxis": {
            "backgroundcolor": "#E5ECF6",
            "gridcolor": "white",
            "gridwidth": 2,
            "linecolor": "white",
            "showbackground": true,
            "ticks": "",
            "zerolinecolor": "white"
           },
           "zaxis": {
            "backgroundcolor": "#E5ECF6",
            "gridcolor": "white",
            "gridwidth": 2,
            "linecolor": "white",
            "showbackground": true,
            "ticks": "",
            "zerolinecolor": "white"
           }
          },
          "shapedefaults": {
           "line": {
            "color": "#2a3f5f"
           }
          },
          "ternary": {
           "aaxis": {
            "gridcolor": "white",
            "linecolor": "white",
            "ticks": ""
           },
           "baxis": {
            "gridcolor": "white",
            "linecolor": "white",
            "ticks": ""
           },
           "bgcolor": "#E5ECF6",
           "caxis": {
            "gridcolor": "white",
            "linecolor": "white",
            "ticks": ""
           }
          },
          "title": {
           "x": 0.05
          },
          "xaxis": {
           "automargin": true,
           "gridcolor": "white",
           "linecolor": "white",
           "ticks": "",
           "title": {
            "standoff": 15
           },
           "zerolinecolor": "white",
           "zerolinewidth": 2
          },
          "yaxis": {
           "automargin": true,
           "gridcolor": "white",
           "linecolor": "white",
           "ticks": "",
           "title": {
            "standoff": 15
           },
           "zerolinecolor": "white",
           "zerolinewidth": 2
          }
         }
        },
        "title": {
         "text": "7-Classification Result"
        },
        "xaxis": {
         "anchor": "y",
         "categoryarray": [
          "very negative",
          "negative",
          "weakly negative",
          "Neutral",
          "weakly positive",
          "positive",
          "very positive"
         ],
         "categoryorder": "array",
         "domain": [
          0,
          0.45
         ]
        },
        "xaxis2": {
         "anchor": "y2",
         "categoryarray": [
          "very negative",
          "negative",
          "weakly negative",
          "Neutral",
          "weakly positive",
          "positive",
          "very positive"
         ],
         "categoryorder": "array",
         "domain": [
          0.55,
          1
         ]
        },
        "yaxis": {
         "anchor": "x",
         "domain": [
          0,
          1
         ],
         "range": [
          0,
          2500
         ]
        },
        "yaxis2": {
         "anchor": "x2",
         "domain": [
          0,
          1
         ],
         "range": [
          0,
          2500
         ]
        }
       }
      },
      "text/html": [
       "<div>                            <div id=\"7a2b16f3-943b-4d01-bd4f-625baf494e0e\" class=\"plotly-graph-div\" style=\"height:525px; width:100%;\"></div>            <script type=\"text/javascript\">                require([\"plotly\"], function(Plotly) {                    window.PLOTLYENV=window.PLOTLYENV || {};                                    if (document.getElementById(\"7a2b16f3-943b-4d01-bd4f-625baf494e0e\")) {                    Plotly.newPlot(                        \"7a2b16f3-943b-4d01-bd4f-625baf494e0e\",                        [{\"alignmentgroup\":\"True\",\"hovertemplate\":\"labels_7=%{x}<br>segment=%{y}<extra></extra>\",\"legendgroup\":\"\",\"marker\":{\"color\":\"#636efa\",\"pattern\":{\"shape\":\"\"}},\"name\":\"\",\"offsetgroup\":\"\",\"orientation\":\"v\",\"showlegend\":false,\"textposition\":\"auto\",\"x\":[\"Neutral\",\"negative\",\"positive\",\"very negative\",\"very positive\",\"weakly negative\",\"weakly positive\"],\"xaxis\":\"x\",\"y\":[1922,488,663,156,109,380,936],\"yaxis\":\"y\",\"type\":\"bar\"},{\"alignmentgroup\":\"True\",\"hovertemplate\":\"preds_7=%{x}<br>segment=%{y}<extra></extra>\",\"legendgroup\":\"\",\"marker\":{\"color\":\"#636efa\",\"pattern\":{\"shape\":\"\"}},\"name\":\"\",\"offsetgroup\":\"\",\"orientation\":\"v\",\"showlegend\":false,\"textposition\":\"auto\",\"x\":[\"Neutral\",\"negative\",\"positive\",\"very negative\",\"very positive\",\"weakly negative\",\"weakly positive\"],\"xaxis\":\"x2\",\"y\":[2302,279,300,59,46,615,1053],\"yaxis\":\"y2\",\"type\":\"bar\"}],                        {\"template\":{\"data\":{\"histogram2dcontour\":[{\"type\":\"histogram2dcontour\",\"colorbar\":{\"outlinewidth\":0,\"ticks\":\"\"},\"colorscale\":[[0.0,\"#0d0887\"],[0.1111111111111111,\"#46039f\"],[0.2222222222222222,\"#7201a8\"],[0.3333333333333333,\"#9c179e\"],[0.4444444444444444,\"#bd3786\"],[0.5555555555555556,\"#d8576b\"],[0.6666666666666666,\"#ed7953\"],[0.7777777777777778,\"#fb9f3a\"],[0.8888888888888888,\"#fdca26\"],[1.0,\"#f0f921\"]]}],\"choropleth\":[{\"type\":\"choropleth\",\"colorbar\":{\"outlinewidth\":0,\"ticks\":\"\"}}],\"histogram2d\":[{\"type\":\"histogram2d\",\"colorbar\":{\"outlinewidth\":0,\"ticks\":\"\"},\"colorscale\":[[0.0,\"#0d0887\"],[0.1111111111111111,\"#46039f\"],[0.2222222222222222,\"#7201a8\"],[0.3333333333333333,\"#9c179e\"],[0.4444444444444444,\"#bd3786\"],[0.5555555555555556,\"#d8576b\"],[0.6666666666666666,\"#ed7953\"],[0.7777777777777778,\"#fb9f3a\"],[0.8888888888888888,\"#fdca26\"],[1.0,\"#f0f921\"]]}],\"heatmap\":[{\"type\":\"heatmap\",\"colorbar\":{\"outlinewidth\":0,\"ticks\":\"\"},\"colorscale\":[[0.0,\"#0d0887\"],[0.1111111111111111,\"#46039f\"],[0.2222222222222222,\"#7201a8\"],[0.3333333333333333,\"#9c179e\"],[0.4444444444444444,\"#bd3786\"],[0.5555555555555556,\"#d8576b\"],[0.6666666666666666,\"#ed7953\"],[0.7777777777777778,\"#fb9f3a\"],[0.8888888888888888,\"#fdca26\"],[1.0,\"#f0f921\"]]}],\"heatmapgl\":[{\"type\":\"heatmapgl\",\"colorbar\":{\"outlinewidth\":0,\"ticks\":\"\"},\"colorscale\":[[0.0,\"#0d0887\"],[0.1111111111111111,\"#46039f\"],[0.2222222222222222,\"#7201a8\"],[0.3333333333333333,\"#9c179e\"],[0.4444444444444444,\"#bd3786\"],[0.5555555555555556,\"#d8576b\"],[0.6666666666666666,\"#ed7953\"],[0.7777777777777778,\"#fb9f3a\"],[0.8888888888888888,\"#fdca26\"],[1.0,\"#f0f921\"]]}],\"contourcarpet\":[{\"type\":\"contourcarpet\",\"colorbar\":{\"outlinewidth\":0,\"ticks\":\"\"}}],\"contour\":[{\"type\":\"contour\",\"colorbar\":{\"outlinewidth\":0,\"ticks\":\"\"},\"colorscale\":[[0.0,\"#0d0887\"],[0.1111111111111111,\"#46039f\"],[0.2222222222222222,\"#7201a8\"],[0.3333333333333333,\"#9c179e\"],[0.4444444444444444,\"#bd3786\"],[0.5555555555555556,\"#d8576b\"],[0.6666666666666666,\"#ed7953\"],[0.7777777777777778,\"#fb9f3a\"],[0.8888888888888888,\"#fdca26\"],[1.0,\"#f0f921\"]]}],\"surface\":[{\"type\":\"surface\",\"colorbar\":{\"outlinewidth\":0,\"ticks\":\"\"},\"colorscale\":[[0.0,\"#0d0887\"],[0.1111111111111111,\"#46039f\"],[0.2222222222222222,\"#7201a8\"],[0.3333333333333333,\"#9c179e\"],[0.4444444444444444,\"#bd3786\"],[0.5555555555555556,\"#d8576b\"],[0.6666666666666666,\"#ed7953\"],[0.7777777777777778,\"#fb9f3a\"],[0.8888888888888888,\"#fdca26\"],[1.0,\"#f0f921\"]]}],\"mesh3d\":[{\"type\":\"mesh3d\",\"colorbar\":{\"outlinewidth\":0,\"ticks\":\"\"}}],\"scatter\":[{\"fillpattern\":{\"fillmode\":\"overlay\",\"size\":10,\"solidity\":0.2},\"type\":\"scatter\"}],\"parcoords\":[{\"type\":\"parcoords\",\"line\":{\"colorbar\":{\"outlinewidth\":0,\"ticks\":\"\"}}}],\"scatterpolargl\":[{\"type\":\"scatterpolargl\",\"marker\":{\"colorbar\":{\"outlinewidth\":0,\"ticks\":\"\"}}}],\"bar\":[{\"error_x\":{\"color\":\"#2a3f5f\"},\"error_y\":{\"color\":\"#2a3f5f\"},\"marker\":{\"line\":{\"color\":\"#E5ECF6\",\"width\":0.5},\"pattern\":{\"fillmode\":\"overlay\",\"size\":10,\"solidity\":0.2}},\"type\":\"bar\"}],\"scattergeo\":[{\"type\":\"scattergeo\",\"marker\":{\"colorbar\":{\"outlinewidth\":0,\"ticks\":\"\"}}}],\"scatterpolar\":[{\"type\":\"scatterpolar\",\"marker\":{\"colorbar\":{\"outlinewidth\":0,\"ticks\":\"\"}}}],\"histogram\":[{\"marker\":{\"pattern\":{\"fillmode\":\"overlay\",\"size\":10,\"solidity\":0.2}},\"type\":\"histogram\"}],\"scattergl\":[{\"type\":\"scattergl\",\"marker\":{\"colorbar\":{\"outlinewidth\":0,\"ticks\":\"\"}}}],\"scatter3d\":[{\"type\":\"scatter3d\",\"line\":{\"colorbar\":{\"outlinewidth\":0,\"ticks\":\"\"}},\"marker\":{\"colorbar\":{\"outlinewidth\":0,\"ticks\":\"\"}}}],\"scattermapbox\":[{\"type\":\"scattermapbox\",\"marker\":{\"colorbar\":{\"outlinewidth\":0,\"ticks\":\"\"}}}],\"scatterternary\":[{\"type\":\"scatterternary\",\"marker\":{\"colorbar\":{\"outlinewidth\":0,\"ticks\":\"\"}}}],\"scattercarpet\":[{\"type\":\"scattercarpet\",\"marker\":{\"colorbar\":{\"outlinewidth\":0,\"ticks\":\"\"}}}],\"carpet\":[{\"aaxis\":{\"endlinecolor\":\"#2a3f5f\",\"gridcolor\":\"white\",\"linecolor\":\"white\",\"minorgridcolor\":\"white\",\"startlinecolor\":\"#2a3f5f\"},\"baxis\":{\"endlinecolor\":\"#2a3f5f\",\"gridcolor\":\"white\",\"linecolor\":\"white\",\"minorgridcolor\":\"white\",\"startlinecolor\":\"#2a3f5f\"},\"type\":\"carpet\"}],\"table\":[{\"cells\":{\"fill\":{\"color\":\"#EBF0F8\"},\"line\":{\"color\":\"white\"}},\"header\":{\"fill\":{\"color\":\"#C8D4E3\"},\"line\":{\"color\":\"white\"}},\"type\":\"table\"}],\"barpolar\":[{\"marker\":{\"line\":{\"color\":\"#E5ECF6\",\"width\":0.5},\"pattern\":{\"fillmode\":\"overlay\",\"size\":10,\"solidity\":0.2}},\"type\":\"barpolar\"}],\"pie\":[{\"automargin\":true,\"type\":\"pie\"}]},\"layout\":{\"autotypenumbers\":\"strict\",\"colorway\":[\"#636efa\",\"#EF553B\",\"#00cc96\",\"#ab63fa\",\"#FFA15A\",\"#19d3f3\",\"#FF6692\",\"#B6E880\",\"#FF97FF\",\"#FECB52\"],\"font\":{\"color\":\"#2a3f5f\"},\"hovermode\":\"closest\",\"hoverlabel\":{\"align\":\"left\"},\"paper_bgcolor\":\"white\",\"plot_bgcolor\":\"#E5ECF6\",\"polar\":{\"bgcolor\":\"#E5ECF6\",\"angularaxis\":{\"gridcolor\":\"white\",\"linecolor\":\"white\",\"ticks\":\"\"},\"radialaxis\":{\"gridcolor\":\"white\",\"linecolor\":\"white\",\"ticks\":\"\"}},\"ternary\":{\"bgcolor\":\"#E5ECF6\",\"aaxis\":{\"gridcolor\":\"white\",\"linecolor\":\"white\",\"ticks\":\"\"},\"baxis\":{\"gridcolor\":\"white\",\"linecolor\":\"white\",\"ticks\":\"\"},\"caxis\":{\"gridcolor\":\"white\",\"linecolor\":\"white\",\"ticks\":\"\"}},\"coloraxis\":{\"colorbar\":{\"outlinewidth\":0,\"ticks\":\"\"}},\"colorscale\":{\"sequential\":[[0.0,\"#0d0887\"],[0.1111111111111111,\"#46039f\"],[0.2222222222222222,\"#7201a8\"],[0.3333333333333333,\"#9c179e\"],[0.4444444444444444,\"#bd3786\"],[0.5555555555555556,\"#d8576b\"],[0.6666666666666666,\"#ed7953\"],[0.7777777777777778,\"#fb9f3a\"],[0.8888888888888888,\"#fdca26\"],[1.0,\"#f0f921\"]],\"sequentialminus\":[[0.0,\"#0d0887\"],[0.1111111111111111,\"#46039f\"],[0.2222222222222222,\"#7201a8\"],[0.3333333333333333,\"#9c179e\"],[0.4444444444444444,\"#bd3786\"],[0.5555555555555556,\"#d8576b\"],[0.6666666666666666,\"#ed7953\"],[0.7777777777777778,\"#fb9f3a\"],[0.8888888888888888,\"#fdca26\"],[1.0,\"#f0f921\"]],\"diverging\":[[0,\"#8e0152\"],[0.1,\"#c51b7d\"],[0.2,\"#de77ae\"],[0.3,\"#f1b6da\"],[0.4,\"#fde0ef\"],[0.5,\"#f7f7f7\"],[0.6,\"#e6f5d0\"],[0.7,\"#b8e186\"],[0.8,\"#7fbc41\"],[0.9,\"#4d9221\"],[1,\"#276419\"]]},\"xaxis\":{\"gridcolor\":\"white\",\"linecolor\":\"white\",\"ticks\":\"\",\"title\":{\"standoff\":15},\"zerolinecolor\":\"white\",\"automargin\":true,\"zerolinewidth\":2},\"yaxis\":{\"gridcolor\":\"white\",\"linecolor\":\"white\",\"ticks\":\"\",\"title\":{\"standoff\":15},\"zerolinecolor\":\"white\",\"automargin\":true,\"zerolinewidth\":2},\"scene\":{\"xaxis\":{\"backgroundcolor\":\"#E5ECF6\",\"gridcolor\":\"white\",\"linecolor\":\"white\",\"showbackground\":true,\"ticks\":\"\",\"zerolinecolor\":\"white\",\"gridwidth\":2},\"yaxis\":{\"backgroundcolor\":\"#E5ECF6\",\"gridcolor\":\"white\",\"linecolor\":\"white\",\"showbackground\":true,\"ticks\":\"\",\"zerolinecolor\":\"white\",\"gridwidth\":2},\"zaxis\":{\"backgroundcolor\":\"#E5ECF6\",\"gridcolor\":\"white\",\"linecolor\":\"white\",\"showbackground\":true,\"ticks\":\"\",\"zerolinecolor\":\"white\",\"gridwidth\":2}},\"shapedefaults\":{\"line\":{\"color\":\"#2a3f5f\"}},\"annotationdefaults\":{\"arrowcolor\":\"#2a3f5f\",\"arrowhead\":0,\"arrowwidth\":1},\"geo\":{\"bgcolor\":\"white\",\"landcolor\":\"#E5ECF6\",\"subunitcolor\":\"white\",\"showland\":true,\"showlakes\":true,\"lakecolor\":\"white\"},\"title\":{\"x\":0.05},\"mapbox\":{\"style\":\"light\"}}},\"xaxis\":{\"anchor\":\"y\",\"domain\":[0.0,0.45],\"categoryorder\":\"array\",\"categoryarray\":[\"very negative\",\"negative\",\"weakly negative\",\"Neutral\",\"weakly positive\",\"positive\",\"very positive\"]},\"yaxis\":{\"anchor\":\"x\",\"domain\":[0.0,1.0],\"range\":[0,2500]},\"xaxis2\":{\"anchor\":\"y2\",\"domain\":[0.55,1.0],\"categoryorder\":\"array\",\"categoryarray\":[\"very negative\",\"negative\",\"weakly negative\",\"Neutral\",\"weakly positive\",\"positive\",\"very positive\"]},\"yaxis2\":{\"anchor\":\"x2\",\"domain\":[0.0,1.0],\"range\":[0,2500]},\"annotations\":[{\"font\":{\"size\":16},\"showarrow\":false,\"text\":\"Grond-truth\",\"x\":0.225,\"xanchor\":\"center\",\"xref\":\"paper\",\"y\":1.0,\"yanchor\":\"bottom\",\"yref\":\"paper\"},{\"font\":{\"size\":16},\"showarrow\":false,\"text\":\"MMIM\",\"x\":0.775,\"xanchor\":\"center\",\"xref\":\"paper\",\"y\":1.0,\"yanchor\":\"bottom\",\"yref\":\"paper\"}],\"title\":{\"text\":\"7-Classification Result\"}},                        {\"responsive\": true}                    ).then(function(){\n",
       "                            \n",
       "var gd = document.getElementById('7a2b16f3-943b-4d01-bd4f-625baf494e0e');\n",
       "var x = new MutationObserver(function (mutations, observer) {{\n",
       "        var display = window.getComputedStyle(gd).display;\n",
       "        if (!display || display === 'none') {{\n",
       "            console.log([gd, 'removed!']);\n",
       "            Plotly.purge(gd);\n",
       "            observer.disconnect();\n",
       "        }}\n",
       "}});\n",
       "\n",
       "// Listen for the removal of the full notebook cells\n",
       "var notebookContainer = gd.closest('#notebook-container');\n",
       "if (notebookContainer) {{\n",
       "    x.observe(notebookContainer, {childList: true});\n",
       "}}\n",
       "\n",
       "// Listen for the clearing of the current output cell\n",
       "var outputEl = gd.closest('.output');\n",
       "if (outputEl) {{\n",
       "    x.observe(outputEl, {childList: true});\n",
       "}}\n",
       "\n",
       "                        })                };                });            </script>        </div>"
      ]
     },
     "metadata": {},
     "output_type": "display_data"
    }
   ],
   "source": [
    "import plotly.express as px\n",
    "import plotly.subplots as sp\n",
    "import pandas as pd\n",
    "\n",
    "df = pd.DataFrame(data=mmim_mosei)\n",
    "df_gold = df.groupby('labels_7').count().reset_index()\n",
    "df_pred = df.groupby('preds_7').count().reset_index()\n",
    "\n",
    "order = ['very negative', 'negative', 'weakly negative', 'Neutral', 'weakly positive', 'positive', 'very positive']\n",
    "\n",
    "fig1 = px.bar(df_gold, x=\"labels_7\", y=\"segment\")\n",
    "fig2 = px.bar(df_pred, x=\"preds_7\", y=\"segment\")\n",
    "\n",
    "fig1_traces = []\n",
    "fig2_traces = []\n",
    "\n",
    "for trace in range(len(fig1[\"data\"])):\n",
    "    fig1_traces.append(fig1[\"data\"][trace])\n",
    "for trace in range(len(fig2[\"data\"])):\n",
    "    fig2_traces.append(fig2[\"data\"][trace])\n",
    "\n",
    "this_figure = sp.make_subplots(rows=1, cols=2, subplot_titles=(\"Grond-truth\", \"MMIM\"))\n",
    "for traces in fig1_traces:\n",
    "    this_figure.append_trace(traces, row=1, col=1)\n",
    "for traces in fig2_traces:\n",
    "    this_figure.append_trace(traces, row=1, col=2)\n",
    "\n",
    "this_figure.update_layout(title_text=\"7-Classification Result\")\n",
    "this_figure.update_xaxes(categoryorder='array', categoryarray= order)\n",
    "this_figure.update_yaxes(range=[0,2500])\n",
    "this_figure.show()"
   ]
  },
  {
   "cell_type": "code",
   "execution_count": null,
   "metadata": {},
   "outputs": [],
   "source": []
  }
 ],
 "metadata": {
  "kernelspec": {
   "display_name": "Python 3.9.13 64-bit ('mm')",
   "language": "python",
   "name": "python3"
  },
  "language_info": {
   "codemirror_mode": {
    "name": "ipython",
    "version": 3
   },
   "file_extension": ".py",
   "mimetype": "text/x-python",
   "name": "python",
   "nbconvert_exporter": "python",
   "pygments_lexer": "ipython3",
   "version": "3.9.13"
  },
  "orig_nbformat": 4,
  "vscode": {
   "interpreter": {
    "hash": "64d056d71e7aeb9116d94ac7bda4302b01ed533a5bc1e5661d2a849fcd90d3e9"
   }
  }
 },
 "nbformat": 4,
 "nbformat_minor": 2
}
