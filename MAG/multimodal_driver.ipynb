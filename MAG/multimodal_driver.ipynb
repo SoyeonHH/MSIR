{
 "cells": [
  {
   "cell_type": "code",
   "execution_count": 34,
   "metadata": {},
   "outputs": [],
   "source": [
    "from __future__ import absolute_import, division, print_function\n",
    "\n",
    "import csv\n",
    "import os\n",
    "import random\n",
    "import pickle\n",
    "import sys\n",
    "import numpy as np\n",
    "from typing import *\n",
    "\n",
    "from sklearn.metrics import classification_report\n",
    "from sklearn.metrics import confusion_matrix\n",
    "from sklearn.metrics import precision_recall_fscore_support\n",
    "from sklearn.metrics import accuracy_score, f1_score\n",
    "\n",
    "import wandb\n",
    "import torch\n",
    "import torch.nn as nn\n",
    "from torch.utils.data import DataLoader, RandomSampler, SequentialSampler, TensorDataset\n",
    "from torch.utils.data.distributed import DistributedSampler\n",
    "from tqdm import tqdm, trange\n",
    "\n",
    "from torch.nn import CrossEntropyLoss, L1Loss, MSELoss\n",
    "from scipy.stats import pearsonr, spearmanr\n",
    "from sklearn.metrics import matthews_corrcoef\n",
    "from transformers import BertTokenizer, XLNetTokenizer, BertForSequenceClassification, get_linear_schedule_with_warmup\n",
    "from transformers.models.bert.configuration_bert import BertConfig\n",
    "from transformers.optimization import AdamW\n",
    "from bert import MAG_BertForSequenceClassification\n",
    "from xlnet import MAG_XLNetForSequenceClassification\n",
    "\n",
    "from argparse_utils import str2bool, seed\n",
    "from global_configs import ACOUSTIC_DIM, VISUAL_DIM, DEVICE"
   ]
  },
  {
   "cell_type": "code",
   "execution_count": 35,
   "metadata": {},
   "outputs": [],
   "source": [
    "import easydict\n",
    "\n",
    "args = easydict.EasyDict({\n",
    "    \"dataset\": \"mosi\",\n",
    "    \"max_seq_length\": 50,\n",
    "    \"train_batch_size\": 48,\n",
    "    \"dev_batch_size\" : 128,\n",
    "    \"test_batch_size\": 128,\n",
    "    \"n_epochs\": 40,\n",
    "    \"beta_shift\": 1.0,\n",
    "    \"dropout_prob\": 0.5,\n",
    "    \"model\": \"bert-base-uncased\",\n",
    "    \"learning_rate\": 1e-5,\n",
    "    \"gradient_accumulation_step\": 1,\n",
    "    \"warmup_proportion\": 0.1,\n",
    "    \"seed\": seed(\"random\")\n",
    "})"
   ]
  },
  {
   "cell_type": "code",
   "execution_count": 36,
   "metadata": {},
   "outputs": [],
   "source": [
    "class InputFeatures(object):\n",
    "    \"\"\"A single set of features of data.\"\"\"\n",
    "\n",
    "    def __init__(self, input_ids, visual, acoustic, input_mask, segment_ids, label_id):\n",
    "        self.input_ids = input_ids\n",
    "        self.visual = visual\n",
    "        self.acoustic = acoustic\n",
    "        self.input_mask = input_mask\n",
    "        self.segment_ids = segment_ids\n",
    "        self.label_id = label_id"
   ]
  },
  {
   "cell_type": "code",
   "execution_count": 37,
   "metadata": {},
   "outputs": [],
   "source": [
    "class MultimodalConfig(object):\n",
    "    def __init__(self, beta_shift, dropout_prob):\n",
    "        self.beta_shift = beta_shift\n",
    "        self.dropout_prob = dropout_prob"
   ]
  },
  {
   "cell_type": "code",
   "execution_count": 38,
   "metadata": {},
   "outputs": [],
   "source": [
    "def convert_to_features(examples, max_seq_length, tokenizer):\n",
    "    features = []\n",
    "\n",
    "    for (ex_index, example) in enumerate(examples):\n",
    "\n",
    "        (words, visual, acoustic), label_id, segment = example\n",
    "\n",
    "        tokens, inversions = [], []\n",
    "        for idx, word in enumerate(words):\n",
    "            tokenized = tokenizer.tokenize(word)\n",
    "            tokens.extend(tokenized)\n",
    "            inversions.extend([idx] * len(tokenized))\n",
    "\n",
    "        # Check inversion\n",
    "        assert len(tokens) == len(inversions)\n",
    "\n",
    "        aligned_visual = []\n",
    "        aligned_audio = []\n",
    "\n",
    "        for inv_idx in inversions:\n",
    "            aligned_visual.append(visual[inv_idx, :])\n",
    "            aligned_audio.append(acoustic[inv_idx, :])\n",
    "\n",
    "        visual = np.array(aligned_visual)\n",
    "        acoustic = np.array(aligned_audio)\n",
    "\n",
    "        # Truncate input if necessary\n",
    "        if len(tokens) > max_seq_length - 2:\n",
    "            tokens = tokens[: max_seq_length - 2]\n",
    "            acoustic = acoustic[: max_seq_length - 2]\n",
    "            visual = visual[: max_seq_length - 2]\n",
    "\n",
    "        if args.model == \"bert-base-uncased\":\n",
    "            prepare_input = prepare_bert_input\n",
    "        elif args.model == \"xlnet-base-cased\":\n",
    "            prepare_input = prepare_xlnet_input\n",
    "\n",
    "        input_ids, visual, acoustic, input_mask, segment_ids = prepare_input(\n",
    "            tokens, visual, acoustic, tokenizer\n",
    "        )\n",
    "\n",
    "        # Check input length\n",
    "        assert len(input_ids) == args.max_seq_length\n",
    "        assert len(input_mask) == args.max_seq_length\n",
    "        assert len(segment_ids) == args.max_seq_length\n",
    "        assert acoustic.shape[0] == args.max_seq_length\n",
    "        assert visual.shape[0] == args.max_seq_length\n",
    "\n",
    "        features.append(\n",
    "            InputFeatures(\n",
    "                input_ids=input_ids,\n",
    "                input_mask=input_mask,\n",
    "                segment_ids=segment_ids,\n",
    "                visual=visual,\n",
    "                acoustic=acoustic,\n",
    "                label_id=label_id,\n",
    "            )\n",
    "        )\n",
    "    return features\n",
    "\n",
    "\n",
    "def prepare_bert_input(tokens, visual, acoustic, tokenizer):\n",
    "    CLS = tokenizer.cls_token\n",
    "    SEP = tokenizer.sep_token\n",
    "    tokens = [CLS] + tokens + [SEP]\n",
    "\n",
    "    # Pad zero vectors for acoustic / visual vectors to account for [CLS] / [SEP] tokens\n",
    "    acoustic_zero = np.zeros((1, ACOUSTIC_DIM))\n",
    "    acoustic = np.concatenate((acoustic_zero, acoustic, acoustic_zero))\n",
    "    visual_zero = np.zeros((1, VISUAL_DIM))\n",
    "    visual = np.concatenate((visual_zero, visual, visual_zero))\n",
    "\n",
    "    input_ids = tokenizer.convert_tokens_to_ids(tokens)\n",
    "    segment_ids = [0] * len(input_ids)\n",
    "    input_mask = [1] * len(input_ids)\n",
    "\n",
    "    pad_length = args.max_seq_length - len(input_ids)\n",
    "\n",
    "    acoustic_padding = np.zeros((pad_length, ACOUSTIC_DIM))\n",
    "    acoustic = np.concatenate((acoustic, acoustic_padding))\n",
    "\n",
    "    visual_padding = np.zeros((pad_length, VISUAL_DIM))\n",
    "    visual = np.concatenate((visual, visual_padding))\n",
    "\n",
    "    padding = [0] * pad_length\n",
    "\n",
    "    # Pad inputs\n",
    "    input_ids += padding\n",
    "    input_mask += padding\n",
    "    segment_ids += padding\n",
    "\n",
    "    return input_ids, visual, acoustic, input_mask, segment_ids\n",
    "\n",
    "\n",
    "def prepare_xlnet_input(tokens, visual, acoustic, tokenizer):\n",
    "    CLS = tokenizer.cls_token\n",
    "    SEP = tokenizer.sep_token\n",
    "    PAD_ID = tokenizer.pad_token_id\n",
    "\n",
    "    # PAD special tokens\n",
    "    tokens = tokens + [SEP] + [CLS]\n",
    "    audio_zero = np.zeros((1, ACOUSTIC_DIM))\n",
    "    acoustic = np.concatenate((acoustic, audio_zero, audio_zero))\n",
    "    visual_zero = np.zeros((1, VISUAL_DIM))\n",
    "    visual = np.concatenate((visual, visual_zero, visual_zero))\n",
    "\n",
    "    input_ids = tokenizer.convert_tokens_to_ids(tokens)\n",
    "    input_mask = [1] * len(input_ids)\n",
    "    segment_ids = [0] * (len(tokens) - 1) + [2]\n",
    "\n",
    "    pad_length = (args.max_seq_length - len(segment_ids))\n",
    "\n",
    "    # then zero pad the visual and acoustic\n",
    "    audio_padding = np.zeros((pad_length, ACOUSTIC_DIM))\n",
    "    acoustic = np.concatenate((audio_padding, acoustic))\n",
    "\n",
    "    video_padding = np.zeros((pad_length, VISUAL_DIM))\n",
    "    visual = np.concatenate((video_padding, visual))\n",
    "\n",
    "    input_ids = [PAD_ID] * pad_length + input_ids\n",
    "    input_mask = [0] * pad_length + input_mask\n",
    "    segment_ids = [3] * pad_length + segment_ids\n",
    "\n",
    "    return input_ids, visual, acoustic, input_mask, segment_ids\n",
    "\n",
    "\n",
    "def get_tokenizer(model):\n",
    "    if model == \"bert-base-uncased\":\n",
    "        return BertTokenizer.from_pretrained(model)\n",
    "    elif model == \"xlnet-base-cased\":\n",
    "        return XLNetTokenizer.from_pretrained(model)\n",
    "    else:\n",
    "        raise ValueError(\n",
    "            \"Expected 'bert-base-uncased' or 'xlnet-base-cased, but received {}\".format(\n",
    "                model\n",
    "            )\n",
    "        )\n",
    "\n",
    "\n",
    "def get_appropriate_dataset(data):\n",
    "\n",
    "    tokenizer = get_tokenizer(args.model)\n",
    "\n",
    "    features = convert_to_features(data, args.max_seq_length, tokenizer)\n",
    "    all_input_ids = torch.tensor(\n",
    "        [f.input_ids for f in features], dtype=torch.long)\n",
    "    all_input_mask = torch.tensor(\n",
    "        [f.input_mask for f in features], dtype=torch.long)\n",
    "    all_segment_ids = torch.tensor(\n",
    "        [f.segment_ids for f in features], dtype=torch.long)\n",
    "    all_visual = torch.tensor([f.visual for f in features], dtype=torch.float)\n",
    "    all_acoustic = torch.tensor(\n",
    "        [f.acoustic for f in features], dtype=torch.float)\n",
    "    all_label_ids = torch.tensor(\n",
    "        [f.label_id for f in features], dtype=torch.float)\n",
    "\n",
    "    dataset = TensorDataset(\n",
    "        all_input_ids,\n",
    "        all_visual,\n",
    "        all_acoustic,\n",
    "        all_input_mask,\n",
    "        all_segment_ids,\n",
    "        all_label_ids,\n",
    "    )\n",
    "    return dataset, tokenizer\n",
    "\n",
    "\n",
    "def set_up_data_loader():\n",
    "    with open(f\"../datasets/MOSI/{args.dataset}.pkl\", \"rb\") as handle:\n",
    "        data = pickle.load(handle)\n",
    "\n",
    "    train_data = data[\"train\"]\n",
    "    dev_data = data[\"dev\"]\n",
    "    test_data = data[\"test\"]\n",
    "\n",
    "    train_dataset, train_tokenizer = get_appropriate_dataset(train_data)\n",
    "    dev_dataset, dev_tokenizer = get_appropriate_dataset(dev_data)\n",
    "    test_dataset, test_tokenizer = get_appropriate_dataset(test_data)\n",
    "\n",
    "    num_train_optimization_steps = (\n",
    "        int(\n",
    "            len(train_dataset) / args.train_batch_size /\n",
    "            args.gradient_accumulation_step\n",
    "        )\n",
    "        * args.n_epochs\n",
    "    )\n",
    "\n",
    "    train_dataloader = DataLoader(\n",
    "        train_dataset, batch_size=args.train_batch_size, shuffle=True\n",
    "    )\n",
    "\n",
    "    dev_dataloader = DataLoader(\n",
    "        dev_dataset, batch_size=args.dev_batch_size, shuffle=True\n",
    "    )\n",
    "\n",
    "    test_dataloader = DataLoader(\n",
    "        test_dataset, batch_size=args.test_batch_size, shuffle=True,\n",
    "    )\n",
    "\n",
    "    return (\n",
    "        train_dataloader,\n",
    "        dev_dataloader,\n",
    "        test_dataloader,\n",
    "        num_train_optimization_steps,\n",
    "        train_tokenizer,\n",
    "        dev_tokenizer,\n",
    "        test_tokenizer\n",
    "    )\n",
    "\n",
    "\n",
    "def set_random_seed(seed: int):\n",
    "    \"\"\"\n",
    "    Helper function to seed experiment for reproducibility.\n",
    "    If -1 is provided as seed, experiment uses random seed from 0~9999\n",
    "\n",
    "    Args:\n",
    "        seed (int): integer to be used as seed, use -1 to randomly seed experiment\n",
    "    \"\"\"\n",
    "    print(\"Seed: {}\".format(seed))\n",
    "\n",
    "    torch.backends.cudnn.benchmark = False\n",
    "    torch.backends.cudnn.enabled = False\n",
    "    torch.backends.cudnn.deterministic = True\n",
    "\n",
    "    random.seed(seed)\n",
    "    os.environ[\"PYTHONHASHSEED\"] = str(seed)\n",
    "    np.random.seed(seed)\n",
    "    torch.manual_seed(seed)\n",
    "    torch.cuda.manual_seed(seed)\n",
    "    torch.cuda.manual_seed_all(seed)\n",
    "\n",
    "\n",
    "def prep_for_training(num_train_optimization_steps: int):\n",
    "    multimodal_config = MultimodalConfig(\n",
    "        beta_shift=args.beta_shift, dropout_prob=args.dropout_prob\n",
    "    )\n",
    "    bert_config = BertConfig(\n",
    "        hidden_dropout_prob=args.dropout_prob\n",
    "    )\n",
    "\n",
    "    if args.model == \"bert-base-uncased\":\n",
    "        ## Fusion all modalities\n",
    "        # model = MAG_BertForSequenceClassification.from_pretrained(\n",
    "        #     args.model, multimodal_config=multimodal_config, num_labels=1,\n",
    "        # )\n",
    "\n",
    "        ## Ablation Study for visual, acoustic exception\n",
    "        model = BertForSequenceClassification.from_pretrained(\n",
    "            args.model, num_labels=1\n",
    "        )\n",
    "    elif args.model == \"xlnet-base-cased\":\n",
    "        model = MAG_XLNetForSequenceClassification.from_pretrained(\n",
    "            args.model, multimodal_config=multimodal_config, num_labels=1\n",
    "        )\n",
    "\n",
    "    model.to(DEVICE)\n",
    "\n",
    "    # Prepare optimizer\n",
    "    param_optimizer = list(model.named_parameters())\n",
    "    no_decay = [\"bias\", \"LayerNorm.bias\", \"LayerNorm.weight\"]\n",
    "    optimizer_grouped_parameters = [\n",
    "        {\n",
    "            \"params\": [\n",
    "                p for n, p in param_optimizer if not any(nd in n for nd in no_decay)\n",
    "            ],\n",
    "            \"weight_decay\": 0.01,\n",
    "        },\n",
    "        {\n",
    "            \"params\": [\n",
    "                p for n, p in param_optimizer if any(nd in n for nd in no_decay)\n",
    "            ],\n",
    "            \"weight_decay\": 0.0,\n",
    "        },\n",
    "    ]\n",
    "\n",
    "    optimizer = AdamW(optimizer_grouped_parameters, lr=args.learning_rate)\n",
    "    scheduler = get_linear_schedule_with_warmup(\n",
    "        optimizer,\n",
    "        num_warmup_steps=num_train_optimization_steps,\n",
    "        num_training_steps=args.warmup_proportion * num_train_optimization_steps,\n",
    "    )\n",
    "    return model, optimizer, scheduler\n",
    "\n",
    "\n",
    "def train_epoch(model: nn.Module, train_dataloader: DataLoader, optimizer, scheduler):\n",
    "    model.train()\n",
    "    tr_loss = 0\n",
    "    nb_tr_examples, nb_tr_steps = 0, 0\n",
    "    for step, batch in enumerate(tqdm(train_dataloader, desc=\"Iteration\")):\n",
    "        batch = tuple(t.to(DEVICE) for t in batch)\n",
    "        input_ids, visual, acoustic, input_mask, segment_ids, label_ids = batch\n",
    "        visual = torch.squeeze(visual, 1)\n",
    "        acoustic = torch.squeeze(acoustic, 1)\n",
    "        model.zero_grad()\n",
    "        # outputs = model(\n",
    "        #     input_ids,\n",
    "        #     visual,\n",
    "        #     acoustic,\n",
    "        #     token_type_ids=segment_ids,\n",
    "        #     attention_mask=input_mask,\n",
    "        #     labels=None\n",
    "        # )\n",
    "        outputs = model(\n",
    "            input_ids,\n",
    "            token_type_ids=segment_ids,\n",
    "            attention_mask=input_mask,\n",
    "            labels=label_ids\n",
    "        )\n",
    "\n",
    "        # logits = outputs[0]\n",
    "        # loss_fct = MSELoss()\n",
    "        # loss = loss_fct(logits.view(-1), label_ids.view(-1))\n",
    "\n",
    "        loss = outputs.loss\n",
    "\n",
    "        if args.gradient_accumulation_step > 1:\n",
    "            loss = loss / args.gradient_accumulation_step\n",
    "\n",
    "        loss.backward()\n",
    "        torch.nn.utils.clip_grad_norm_(model.parameters(), 1.0)\n",
    "\n",
    "        tr_loss += loss.item()\n",
    "        nb_tr_steps += 1\n",
    "\n",
    "        if (step + 1) % args.gradient_accumulation_step == 0:\n",
    "            optimizer.step()\n",
    "            scheduler.step()\n",
    "            optimizer.zero_grad()\n",
    "\n",
    "    return tr_loss / nb_tr_steps\n",
    "\n",
    "\n",
    "def eval_epoch(model: nn.Module, dev_dataloader: DataLoader, optimizer):\n",
    "    model.eval()\n",
    "    dev_loss = 0\n",
    "    nb_dev_examples, nb_dev_steps = 0, 0\n",
    "    with torch.no_grad():\n",
    "        for step, batch in enumerate(tqdm(dev_dataloader, desc=\"Iteration\")):\n",
    "            batch = tuple(t.to(DEVICE) for t in batch)\n",
    "\n",
    "            input_ids, visual, acoustic, input_mask, segment_ids, label_ids = batch\n",
    "            visual = torch.squeeze(visual, 1)\n",
    "            acoustic = torch.squeeze(acoustic, 1)\n",
    "            # outputs = model(\n",
    "            #     input_ids,\n",
    "            #     visual,\n",
    "            #     acoustic,\n",
    "            #     token_type_ids=segment_ids,\n",
    "            #     attention_mask=input_mask,\n",
    "            #     labels=None\n",
    "            # )\n",
    "            # logits = outputs[0]\n",
    "\n",
    "            # loss_fct = MSELoss()\n",
    "            # loss = loss_fct(logits.view(-1), label_ids.view(-1))\n",
    "\n",
    "            outputs = model(\n",
    "            input_ids,\n",
    "            token_type_ids=segment_ids,\n",
    "            attention_mask=input_mask,\n",
    "            labels=label_ids\n",
    "            )\n",
    "            loss = outputs.loss\n",
    "\n",
    "            if args.gradient_accumulation_step > 1:\n",
    "                loss = loss / args.gradient_accumulation_step\n",
    "\n",
    "            dev_loss += loss.item()\n",
    "            nb_dev_steps += 1\n",
    "\n",
    "    return dev_loss / nb_dev_steps\n",
    "\n",
    "\n",
    "def test_epoch(model: nn.Module, test_dataloader: DataLoader, tokenizer):\n",
    "    model.eval()\n",
    "    preds = []\n",
    "    labels = []\n",
    "    \n",
    "    with torch.no_grad():\n",
    "        for i, batch in enumerate(tqdm(test_dataloader)):\n",
    "            batch = tuple(t.to(DEVICE) for t in batch)\n",
    "\n",
    "            input_ids, visual, acoustic, input_mask, segment_ids, label_ids = batch\n",
    "            visual = torch.squeeze(visual, 1)\n",
    "            acoustic = torch.squeeze(acoustic, 1)\n",
    "            # outputs = model(\n",
    "            #     input_ids,\n",
    "            #     visual,\n",
    "            #     acoustic,\n",
    "            #     token_type_ids=segment_ids,\n",
    "            #     attention_mask=input_mask,\n",
    "            #     labels=None\n",
    "            # )\n",
    "\n",
    "            outputs = model(\n",
    "            input_ids,\n",
    "            token_type_ids=segment_ids,\n",
    "            attention_mask=input_mask,\n",
    "            labels=None\n",
    "            )\n",
    "\n",
    "            logits = outputs[0]\n",
    "\n",
    "            logits = logits.detach().cpu().numpy()\n",
    "            label_ids = label_ids.detach().cpu().numpy()\n",
    "\n",
    "            logits = np.squeeze(logits).tolist()\n",
    "            label_ids = np.squeeze(label_ids).tolist()\n",
    "\n",
    "            preds.extend(logits)\n",
    "            labels.extend(label_ids)\n",
    "\n",
    "            # print(i, \" th batch\")\n",
    "            # for i, s in enumerate(input_ids):\n",
    "            #     tokens = tokenizer.convert_ids_to_tokens(s, skip_special_tokens = True)\n",
    "            #     print(tokens, logits[i], label_ids[i])\n",
    "\n",
    "        preds = np.array(preds)\n",
    "        labels = np.array(labels)\n",
    "\n",
    "        # for s in input_ids:\n",
    "        #     tokens = tokenizer.convert_ids_to_tokens(s)\n",
    "        #     print(tokens)\n",
    "        # print(preds)\n",
    "        # print(labels)\n",
    "        # print(\"--------------------------------------------------------------------\")\n",
    "\n",
    "    return preds, labels\n",
    "\n",
    "\n",
    "def test_score_model(model: nn.Module, test_dataloader: DataLoader, tokenizer, use_zero=False):\n",
    "\n",
    "    preds, y_test = test_epoch(model, test_dataloader, tokenizer)\n",
    "    non_zeros = np.array(\n",
    "        [i for i, e in enumerate(y_test) if e != 0 or use_zero])\n",
    "\n",
    "    preds = preds[non_zeros]\n",
    "    y_test = y_test[non_zeros]\n",
    "\n",
    "    mae = np.mean(np.absolute(preds - y_test))\n",
    "    corr = np.corrcoef(preds, y_test)[0][1]\n",
    "\n",
    "    preds = preds >= 0\n",
    "    y_test = y_test >= 0\n",
    "\n",
    "    f_score = f1_score(y_test, preds, average=\"weighted\")\n",
    "    acc = accuracy_score(y_test, preds)\n",
    "\n",
    "    return acc, mae, corr, f_score\n",
    "\n",
    "\n",
    "def test_instance(model: nn.Module, test_tokenizer):\n",
    "    model.eval()\n",
    "    segment_list = []\n",
    "    words_list = []\n",
    "    preds = []\n",
    "    preds_2 = []\n",
    "    preds_7 = []\n",
    "    labels = []\n",
    "    labels_2 = []\n",
    "    labels_7 = []\n",
    "\n",
    "    with open(f\"../datasets/MOSI/{args.dataset}.pkl\", \"rb\") as handle:\n",
    "        data = pickle.load(handle)\n",
    "\n",
    "    # test_data[idx] = (words, visual, acoustic), label, segment\n",
    "    test_data = data[\"test\"]\n",
    "    test_dataset, test_tokenizer = get_appropriate_dataset(test_data)\n",
    "    test_dataloader = DataLoader(\n",
    "        test_dataset, batch_size=args.test_batch_size, shuffle=False,\n",
    "    )\n",
    "\n",
    "    video = set()\n",
    "    count = 0\n",
    "\n",
    "    for idx in range(len(test_data)):\n",
    "        (words, visual, acoustic), label, segment = test_data[idx]\n",
    "        if args.dataset == 'mosi':\n",
    "            segment_list.append(segment)\n",
    "        else:\n",
    "            video_name = segment[0]\n",
    "            if video_name in video:\n",
    "                count += 1\n",
    "            else:\n",
    "                video.add(video_name)\n",
    "                count = 0\n",
    "            segment_list.append(video_name + '[' + str(count) + ']')\n",
    "\n",
    "        words_list.append(words)\n",
    "        labels.append(label[0][0])\n",
    "\n",
    "        # label_2 appending\n",
    "        if label > 0:\n",
    "            labels_2.append('positive')\n",
    "        else:\n",
    "            labels_2.append('negative')\n",
    "        \n",
    "        # label_7 appending\n",
    "        if label < -15/7:\n",
    "            labels_7.append('very negative')\n",
    "        elif label < -9/7:\n",
    "            labels_7.append('negative')\n",
    "        elif label < -3/7:\n",
    "            labels_7.append('slightly negative')\n",
    "        elif label < 3/7:\n",
    "            labels_7.append('Neutral')\n",
    "        elif label < 9/7:\n",
    "            labels_7.append('slightly positive')\n",
    "        elif label < 15/7:\n",
    "            labels_7.append('positive')\n",
    "        else:\n",
    "            labels_7.append('very positive')\n",
    "            \n",
    "    # prediction\n",
    "    with torch.no_grad():\n",
    "        for i, batch in enumerate(tqdm(test_dataloader)):\n",
    "            batch = tuple(t.to(DEVICE) for t in batch)\n",
    "\n",
    "            input_ids, visual, acoustic, input_mask, segment_ids, label_ids = batch\n",
    "            visual = torch.squeeze(visual, 1)\n",
    "            acoustic = torch.squeeze(acoustic, 1)\n",
    "            outputs = model(\n",
    "                input_ids,\n",
    "                visual,\n",
    "                acoustic,\n",
    "                token_type_ids=segment_ids,\n",
    "                attention_mask=input_mask,\n",
    "                labels=None\n",
    "            )\n",
    "            logits = outputs[0]\n",
    "\n",
    "            logits = logits.detach().cpu().numpy()\n",
    "            label_ids = label_ids.detach().cpu().numpy()\n",
    "\n",
    "            logits = np.squeeze(logits).tolist()\n",
    "            label_ids = np.squeeze(label_ids).tolist()\n",
    "\n",
    "            preds.extend(logits)\n",
    "\n",
    "            for logit in logits:\n",
    "                # preds_2 appending\n",
    "                if logit > 0:\n",
    "                    preds_2.append('positive')\n",
    "                else:\n",
    "                    preds_2.append('negative')\n",
    "\n",
    "                # label_7 appending\n",
    "                if logit < -15/7:\n",
    "                    preds_7.append('very negative')\n",
    "                elif logit < -9/7:\n",
    "                    preds_7.append('negative')\n",
    "                elif logit < -3/7:\n",
    "                    preds_7.append('slightly negative')\n",
    "                elif logit < 3/7:\n",
    "                    preds_7.append('Neutral')\n",
    "                elif logit < 9/7:\n",
    "                    preds_7.append('slightly positive')\n",
    "                elif logit < 15/7:\n",
    "                    preds_7.append('positive')\n",
    "                else:\n",
    "                    preds_7.append('very positive')\n",
    "\n",
    "            \n",
    "\n",
    "    count = 0\n",
    "    for i in range(len(segment_list)):\n",
    "        print(i, \"th data\")\n",
    "        print(segment_list[i])\n",
    "        print(words_list[i])\n",
    "        print(labels[i])\n",
    "        print(labels_2[i])\n",
    "        print(labels_7[i])\n",
    "        print(preds[i])\n",
    "        print(preds_2[i])\n",
    "        print(preds_7[i])\n",
    "\n",
    "\n",
    "def train(\n",
    "    model,\n",
    "    train_dataloader,\n",
    "    validation_dataloader,\n",
    "    test_data_loader,\n",
    "    optimizer,\n",
    "    scheduler,\n",
    "    tokenizer\n",
    "):\n",
    "    valid_losses = []\n",
    "    test_accuracies = []\n",
    "\n",
    "    for epoch_i in range(int(args.n_epochs)):\n",
    "        train_loss = train_epoch(model, train_dataloader, optimizer, scheduler)\n",
    "        valid_loss = eval_epoch(model, validation_dataloader, optimizer)\n",
    "        test_acc, test_mae, test_corr, test_f_score = test_score_model(\n",
    "            model, test_data_loader, tokenizer\n",
    "        )\n",
    "\n",
    "        print(\n",
    "            \"epoch:{}, train_loss:{}, valid_loss:{}, test_acc:{}\".format(\n",
    "                epoch_i, train_loss, valid_loss, test_acc\n",
    "            )\n",
    "        )\n",
    "\n",
    "        valid_losses.append(valid_loss)\n",
    "        test_accuracies.append(test_acc)\n",
    "    \n",
    "    print(\"Total Result:\")\n",
    "    print(\"best_accuracy: \", sorted(test_accuracies)[-1])\n",
    "    print(\"best loss: \", sorted(valid_losses)[0])\n",
    "    \n",
    "    return model\n"
   ]
  },
  {
   "cell_type": "code",
   "execution_count": 39,
   "metadata": {},
   "outputs": [
    {
     "name": "stdout",
     "output_type": "stream",
     "text": [
      "Seed: 1690\n"
     ]
    }
   ],
   "source": [
    "set_random_seed(args.seed)"
   ]
  },
  {
   "cell_type": "code",
   "execution_count": 18,
   "metadata": {},
   "outputs": [
    {
     "name": "stderr",
     "output_type": "stream",
     "text": [
      "Some weights of the model checkpoint at bert-base-uncased were not used when initializing BertForSequenceClassification: ['cls.predictions.bias', 'cls.predictions.transform.LayerNorm.weight', 'cls.predictions.transform.dense.bias', 'cls.predictions.transform.LayerNorm.bias', 'cls.predictions.transform.dense.weight', 'cls.seq_relationship.weight', 'cls.predictions.decoder.weight', 'cls.seq_relationship.bias']\n",
      "- This IS expected if you are initializing BertForSequenceClassification from the checkpoint of a model trained on another task or with another architecture (e.g. initializing a BertForSequenceClassification model from a BertForPreTraining model).\n",
      "- This IS NOT expected if you are initializing BertForSequenceClassification from the checkpoint of a model that you expect to be exactly identical (initializing a BertForSequenceClassification model from a BertForSequenceClassification model).\n",
      "Some weights of BertForSequenceClassification were not initialized from the model checkpoint at bert-base-uncased and are newly initialized: ['classifier.weight', 'classifier.bias']\n",
      "You should probably TRAIN this model on a down-stream task to be able to use it for predictions and inference.\n",
      "/mnt/soyeon/anaconda3/envs/pytorch/lib/python3.7/site-packages/transformers/optimization.py:309: FutureWarning: This implementation of AdamW is deprecated and will be removed in a future version. Use the PyTorch implementation torch.optim.AdamW instead, or set `no_deprecation_warning=True` to disable this warning\n",
      "  FutureWarning,\n",
      "Iteration: 100%|██████████| 27/27 [00:02<00:00,  9.53it/s]\n",
      "Iteration: 100%|██████████| 2/2 [00:00<00:00, 21.03it/s]\n",
      "100%|██████████| 6/6 [00:00<00:00, 20.47it/s]\n"
     ]
    },
    {
     "name": "stdout",
     "output_type": "stream",
     "text": [
      "epoch:0, train_loss:2.329716187936288, valid_loss:2.8119139671325684, test_acc:0.5679389312977099\n"
     ]
    },
    {
     "name": "stderr",
     "output_type": "stream",
     "text": [
      "Iteration: 100%|██████████| 27/27 [00:02<00:00, 12.16it/s]\n",
      "Iteration: 100%|██████████| 2/2 [00:00<00:00, 21.00it/s]\n",
      "100%|██████████| 6/6 [00:00<00:00, 20.48it/s]\n"
     ]
    },
    {
     "name": "stdout",
     "output_type": "stream",
     "text": [
      "epoch:1, train_loss:2.32402644334016, valid_loss:2.7578238248825073, test_acc:0.5603053435114503\n"
     ]
    },
    {
     "name": "stderr",
     "output_type": "stream",
     "text": [
      "Iteration: 100%|██████████| 27/27 [00:02<00:00, 12.16it/s]\n",
      "Iteration: 100%|██████████| 2/2 [00:00<00:00, 21.19it/s]\n",
      "100%|██████████| 6/6 [00:00<00:00, 20.42it/s]\n"
     ]
    },
    {
     "name": "stdout",
     "output_type": "stream",
     "text": [
      "epoch:2, train_loss:2.314677432731346, valid_loss:2.742027521133423, test_acc:0.549618320610687\n"
     ]
    },
    {
     "name": "stderr",
     "output_type": "stream",
     "text": [
      "Iteration: 100%|██████████| 27/27 [00:02<00:00, 12.24it/s]\n",
      "Iteration: 100%|██████████| 2/2 [00:00<00:00, 20.89it/s]\n",
      "100%|██████████| 6/6 [00:00<00:00, 20.49it/s]\n"
     ]
    },
    {
     "name": "stdout",
     "output_type": "stream",
     "text": [
      "epoch:3, train_loss:2.2994151027114302, valid_loss:2.6746902465820312, test_acc:0.5557251908396946\n"
     ]
    },
    {
     "name": "stderr",
     "output_type": "stream",
     "text": [
      "Iteration: 100%|██████████| 27/27 [00:02<00:00, 12.22it/s]\n",
      "Iteration: 100%|██████████| 2/2 [00:00<00:00, 21.01it/s]\n",
      "100%|██████████| 6/6 [00:00<00:00, 20.43it/s]\n"
     ]
    },
    {
     "name": "stdout",
     "output_type": "stream",
     "text": [
      "epoch:4, train_loss:2.2562954469963357, valid_loss:2.690970301628113, test_acc:0.5557251908396946\n"
     ]
    },
    {
     "name": "stderr",
     "output_type": "stream",
     "text": [
      "Iteration: 100%|██████████| 27/27 [00:02<00:00, 12.07it/s]\n",
      "Iteration: 100%|██████████| 2/2 [00:00<00:00, 21.16it/s]\n",
      "100%|██████████| 6/6 [00:00<00:00, 20.35it/s]\n"
     ]
    },
    {
     "name": "stdout",
     "output_type": "stream",
     "text": [
      "epoch:5, train_loss:2.221479566008956, valid_loss:2.646364212036133, test_acc:0.5679389312977099\n"
     ]
    },
    {
     "name": "stderr",
     "output_type": "stream",
     "text": [
      "Iteration: 100%|██████████| 27/27 [00:02<00:00, 12.15it/s]\n",
      "Iteration: 100%|██████████| 2/2 [00:00<00:00, 20.94it/s]\n",
      "100%|██████████| 6/6 [00:00<00:00, 20.40it/s]\n"
     ]
    },
    {
     "name": "stdout",
     "output_type": "stream",
     "text": [
      "epoch:6, train_loss:2.178174133653994, valid_loss:2.605894446372986, test_acc:0.5770992366412214\n"
     ]
    },
    {
     "name": "stderr",
     "output_type": "stream",
     "text": [
      "Iteration: 100%|██████████| 27/27 [00:02<00:00, 12.12it/s]\n",
      "Iteration: 100%|██████████| 2/2 [00:00<00:00, 21.04it/s]\n",
      "100%|██████████| 6/6 [00:00<00:00, 20.33it/s]\n"
     ]
    },
    {
     "name": "stdout",
     "output_type": "stream",
     "text": [
      "epoch:7, train_loss:2.115795139913206, valid_loss:2.5435848236083984, test_acc:0.5740458015267176\n"
     ]
    },
    {
     "name": "stderr",
     "output_type": "stream",
     "text": [
      "Iteration: 100%|██████████| 27/27 [00:02<00:00, 12.07it/s]\n",
      "Iteration: 100%|██████████| 2/2 [00:00<00:00, 20.81it/s]\n",
      "100%|██████████| 6/6 [00:00<00:00, 20.09it/s]\n"
     ]
    },
    {
     "name": "stdout",
     "output_type": "stream",
     "text": [
      "epoch:8, train_loss:2.0419098889386214, valid_loss:2.4213231801986694, test_acc:0.5755725190839694\n"
     ]
    },
    {
     "name": "stderr",
     "output_type": "stream",
     "text": [
      "Iteration: 100%|██████████| 27/27 [00:02<00:00, 12.07it/s]\n",
      "Iteration: 100%|██████████| 2/2 [00:00<00:00, 20.83it/s]\n",
      "100%|██████████| 6/6 [00:00<00:00, 20.22it/s]\n"
     ]
    },
    {
     "name": "stdout",
     "output_type": "stream",
     "text": [
      "epoch:9, train_loss:1.8892787120960377, valid_loss:2.2728978395462036, test_acc:0.5877862595419847\n"
     ]
    },
    {
     "name": "stderr",
     "output_type": "stream",
     "text": [
      "Iteration: 100%|██████████| 27/27 [00:02<00:00, 12.08it/s]\n",
      "Iteration: 100%|██████████| 2/2 [00:00<00:00, 20.82it/s]\n",
      "100%|██████████| 6/6 [00:00<00:00, 20.01it/s]\n"
     ]
    },
    {
     "name": "stdout",
     "output_type": "stream",
     "text": [
      "epoch:10, train_loss:1.7118228762238115, valid_loss:1.9809101819992065, test_acc:0.7053435114503817\n"
     ]
    },
    {
     "name": "stderr",
     "output_type": "stream",
     "text": [
      "Iteration: 100%|██████████| 27/27 [00:02<00:00, 12.00it/s]\n",
      "Iteration: 100%|██████████| 2/2 [00:00<00:00, 20.88it/s]\n",
      "100%|██████████| 6/6 [00:00<00:00, 20.24it/s]\n"
     ]
    },
    {
     "name": "stdout",
     "output_type": "stream",
     "text": [
      "epoch:11, train_loss:1.4276138610310025, valid_loss:1.6669862270355225, test_acc:0.7862595419847328\n"
     ]
    },
    {
     "name": "stderr",
     "output_type": "stream",
     "text": [
      "Iteration: 100%|██████████| 27/27 [00:02<00:00, 11.94it/s]\n",
      "Iteration: 100%|██████████| 2/2 [00:00<00:00, 20.70it/s]\n",
      "100%|██████████| 6/6 [00:00<00:00, 20.12it/s]\n"
     ]
    },
    {
     "name": "stdout",
     "output_type": "stream",
     "text": [
      "epoch:12, train_loss:1.08340882813489, valid_loss:1.4148651957511902, test_acc:0.8\n"
     ]
    },
    {
     "name": "stderr",
     "output_type": "stream",
     "text": [
      "Iteration: 100%|██████████| 27/27 [00:02<00:00, 11.93it/s]\n",
      "Iteration: 100%|██████████| 2/2 [00:00<00:00, 20.90it/s]\n",
      "100%|██████████| 6/6 [00:00<00:00, 20.16it/s]\n"
     ]
    },
    {
     "name": "stdout",
     "output_type": "stream",
     "text": [
      "epoch:13, train_loss:0.8684028011781199, valid_loss:1.3697199821472168, test_acc:0.8213740458015267\n"
     ]
    },
    {
     "name": "stderr",
     "output_type": "stream",
     "text": [
      "Iteration: 100%|██████████| 27/27 [00:02<00:00, 11.90it/s]\n",
      "Iteration: 100%|██████████| 2/2 [00:00<00:00, 20.82it/s]\n",
      "100%|██████████| 6/6 [00:00<00:00, 20.12it/s]\n"
     ]
    },
    {
     "name": "stdout",
     "output_type": "stream",
     "text": [
      "epoch:14, train_loss:0.742679441416705, valid_loss:1.3278641104698181, test_acc:0.8122137404580153\n"
     ]
    },
    {
     "name": "stderr",
     "output_type": "stream",
     "text": [
      "Iteration: 100%|██████████| 27/27 [00:02<00:00, 11.96it/s]\n",
      "Iteration: 100%|██████████| 2/2 [00:00<00:00, 20.75it/s]\n",
      "100%|██████████| 6/6 [00:00<00:00, 20.09it/s]\n"
     ]
    },
    {
     "name": "stdout",
     "output_type": "stream",
     "text": [
      "epoch:15, train_loss:0.626339974226775, valid_loss:1.2393858432769775, test_acc:0.8183206106870229\n"
     ]
    },
    {
     "name": "stderr",
     "output_type": "stream",
     "text": [
      "Iteration: 100%|██████████| 27/27 [00:02<00:00, 11.95it/s]\n",
      "Iteration: 100%|██████████| 2/2 [00:00<00:00, 20.73it/s]\n",
      "100%|██████████| 6/6 [00:00<00:00, 20.05it/s]\n"
     ]
    },
    {
     "name": "stdout",
     "output_type": "stream",
     "text": [
      "epoch:16, train_loss:0.5253170949441416, valid_loss:1.2376623749732971, test_acc:0.8366412213740458\n"
     ]
    },
    {
     "name": "stderr",
     "output_type": "stream",
     "text": [
      "Iteration: 100%|██████████| 27/27 [00:02<00:00, 11.91it/s]\n",
      "Iteration: 100%|██████████| 2/2 [00:00<00:00, 20.63it/s]\n",
      "100%|██████████| 6/6 [00:00<00:00, 19.98it/s]\n"
     ]
    },
    {
     "name": "stdout",
     "output_type": "stream",
     "text": [
      "epoch:17, train_loss:0.45564576983451843, valid_loss:1.1919048130512238, test_acc:0.8381679389312977\n"
     ]
    },
    {
     "name": "stderr",
     "output_type": "stream",
     "text": [
      "Iteration: 100%|██████████| 27/27 [00:02<00:00, 11.90it/s]\n",
      "Iteration: 100%|██████████| 2/2 [00:00<00:00, 20.65it/s]\n",
      "100%|██████████| 6/6 [00:00<00:00, 20.03it/s]\n"
     ]
    },
    {
     "name": "stdout",
     "output_type": "stream",
     "text": [
      "epoch:18, train_loss:0.39525222612751854, valid_loss:1.1992638111114502, test_acc:0.8244274809160306\n"
     ]
    },
    {
     "name": "stderr",
     "output_type": "stream",
     "text": [
      "Iteration: 100%|██████████| 27/27 [00:02<00:00, 11.93it/s]\n",
      "Iteration: 100%|██████████| 2/2 [00:00<00:00, 20.54it/s]\n",
      "100%|██████████| 6/6 [00:00<00:00, 20.02it/s]\n"
     ]
    },
    {
     "name": "stdout",
     "output_type": "stream",
     "text": [
      "epoch:19, train_loss:0.33568577468395233, valid_loss:1.294867753982544, test_acc:0.8412213740458016\n"
     ]
    },
    {
     "name": "stderr",
     "output_type": "stream",
     "text": [
      "Iteration: 100%|██████████| 27/27 [00:02<00:00, 11.88it/s]\n",
      "Iteration: 100%|██████████| 2/2 [00:00<00:00, 20.91it/s]\n",
      "100%|██████████| 6/6 [00:00<00:00, 19.90it/s]\n"
     ]
    },
    {
     "name": "stdout",
     "output_type": "stream",
     "text": [
      "epoch:20, train_loss:0.2637648041601534, valid_loss:1.2500019073486328, test_acc:0.8305343511450382\n"
     ]
    },
    {
     "name": "stderr",
     "output_type": "stream",
     "text": [
      "Iteration: 100%|██████████| 27/27 [00:02<00:00, 11.85it/s]\n",
      "Iteration: 100%|██████████| 2/2 [00:00<00:00, 20.28it/s]\n",
      "100%|██████████| 6/6 [00:00<00:00, 19.93it/s]\n"
     ]
    },
    {
     "name": "stdout",
     "output_type": "stream",
     "text": [
      "epoch:21, train_loss:0.2489098713353828, valid_loss:1.1934056282043457, test_acc:0.8274809160305343\n"
     ]
    },
    {
     "name": "stderr",
     "output_type": "stream",
     "text": [
      "Iteration: 100%|██████████| 27/27 [00:02<00:00, 11.86it/s]\n",
      "Iteration: 100%|██████████| 2/2 [00:00<00:00, 20.55it/s]\n",
      "100%|██████████| 6/6 [00:00<00:00, 19.93it/s]\n"
     ]
    },
    {
     "name": "stdout",
     "output_type": "stream",
     "text": [
      "epoch:22, train_loss:0.2098961196563862, valid_loss:1.1805788278579712, test_acc:0.8366412213740458\n"
     ]
    },
    {
     "name": "stderr",
     "output_type": "stream",
     "text": [
      "Iteration: 100%|██████████| 27/27 [00:02<00:00, 11.82it/s]\n",
      "Iteration: 100%|██████████| 2/2 [00:00<00:00, 20.49it/s]\n",
      "100%|██████████| 6/6 [00:00<00:00, 19.80it/s]\n"
     ]
    },
    {
     "name": "stdout",
     "output_type": "stream",
     "text": [
      "epoch:23, train_loss:0.1793701601801095, valid_loss:1.1781408190727234, test_acc:0.8305343511450382\n"
     ]
    },
    {
     "name": "stderr",
     "output_type": "stream",
     "text": [
      "Iteration: 100%|██████████| 27/27 [00:02<00:00, 11.82it/s]\n",
      "Iteration: 100%|██████████| 2/2 [00:00<00:00, 20.49it/s]\n",
      "100%|██████████| 6/6 [00:00<00:00, 19.84it/s]\n"
     ]
    },
    {
     "name": "stdout",
     "output_type": "stream",
     "text": [
      "epoch:24, train_loss:0.16602684336679954, valid_loss:1.1586021780967712, test_acc:0.8290076335877863\n"
     ]
    },
    {
     "name": "stderr",
     "output_type": "stream",
     "text": [
      "Iteration: 100%|██████████| 27/27 [00:02<00:00, 11.77it/s]\n",
      "Iteration: 100%|██████████| 2/2 [00:00<00:00, 20.36it/s]\n",
      "100%|██████████| 6/6 [00:00<00:00, 19.83it/s]\n"
     ]
    },
    {
     "name": "stdout",
     "output_type": "stream",
     "text": [
      "epoch:25, train_loss:0.14238767160309684, valid_loss:1.1096620559692383, test_acc:0.8244274809160306\n"
     ]
    },
    {
     "name": "stderr",
     "output_type": "stream",
     "text": [
      "Iteration: 100%|██████████| 27/27 [00:02<00:00, 11.82it/s]\n",
      "Iteration: 100%|██████████| 2/2 [00:00<00:00, 20.35it/s]\n",
      "100%|██████████| 6/6 [00:00<00:00, 19.80it/s]\n"
     ]
    },
    {
     "name": "stdout",
     "output_type": "stream",
     "text": [
      "epoch:26, train_loss:0.13217036094930437, valid_loss:1.1418929398059845, test_acc:0.8351145038167939\n"
     ]
    },
    {
     "name": "stderr",
     "output_type": "stream",
     "text": [
      "Iteration: 100%|██████████| 27/27 [00:02<00:00, 11.79it/s]\n",
      "Iteration: 100%|██████████| 2/2 [00:00<00:00, 20.56it/s]\n",
      "100%|██████████| 6/6 [00:00<00:00, 19.79it/s]\n"
     ]
    },
    {
     "name": "stdout",
     "output_type": "stream",
     "text": [
      "epoch:27, train_loss:0.12622509648402533, valid_loss:1.1337698698043823, test_acc:0.8320610687022901\n"
     ]
    },
    {
     "name": "stderr",
     "output_type": "stream",
     "text": [
      "Iteration: 100%|██████████| 27/27 [00:02<00:00, 11.78it/s]\n",
      "Iteration: 100%|██████████| 2/2 [00:00<00:00, 20.31it/s]\n",
      "100%|██████████| 6/6 [00:00<00:00, 19.81it/s]\n"
     ]
    },
    {
     "name": "stdout",
     "output_type": "stream",
     "text": [
      "epoch:28, train_loss:0.11591946402633632, valid_loss:1.1381986141204834, test_acc:0.8381679389312977\n"
     ]
    },
    {
     "name": "stderr",
     "output_type": "stream",
     "text": [
      "Iteration: 100%|██████████| 27/27 [00:02<00:00, 11.73it/s]\n",
      "Iteration: 100%|██████████| 2/2 [00:00<00:00, 20.45it/s]\n",
      "100%|██████████| 6/6 [00:00<00:00, 19.87it/s]\n"
     ]
    },
    {
     "name": "stdout",
     "output_type": "stream",
     "text": [
      "epoch:29, train_loss:0.10701232624274713, valid_loss:1.1694161295890808, test_acc:0.8396946564885496\n"
     ]
    },
    {
     "name": "stderr",
     "output_type": "stream",
     "text": [
      "Iteration: 100%|██████████| 27/27 [00:02<00:00, 11.78it/s]\n",
      "Iteration: 100%|██████████| 2/2 [00:00<00:00, 20.47it/s]\n",
      "100%|██████████| 6/6 [00:00<00:00, 19.80it/s]\n"
     ]
    },
    {
     "name": "stdout",
     "output_type": "stream",
     "text": [
      "epoch:30, train_loss:0.09374705978013852, valid_loss:1.1366562247276306, test_acc:0.8366412213740458\n"
     ]
    },
    {
     "name": "stderr",
     "output_type": "stream",
     "text": [
      "Iteration: 100%|██████████| 27/27 [00:02<00:00, 11.80it/s]\n",
      "Iteration: 100%|██████████| 2/2 [00:00<00:00, 20.60it/s]\n",
      "100%|██████████| 6/6 [00:00<00:00, 19.81it/s]\n"
     ]
    },
    {
     "name": "stdout",
     "output_type": "stream",
     "text": [
      "epoch:31, train_loss:0.09839864765052442, valid_loss:1.0873255729675293, test_acc:0.8412213740458016\n"
     ]
    },
    {
     "name": "stderr",
     "output_type": "stream",
     "text": [
      "Iteration: 100%|██████████| 27/27 [00:02<00:00, 11.80it/s]\n",
      "Iteration: 100%|██████████| 2/2 [00:00<00:00, 20.42it/s]\n",
      "100%|██████████| 6/6 [00:00<00:00, 19.79it/s]\n"
     ]
    },
    {
     "name": "stdout",
     "output_type": "stream",
     "text": [
      "epoch:32, train_loss:0.0922147906212895, valid_loss:1.088740050792694, test_acc:0.8442748091603054\n"
     ]
    },
    {
     "name": "stderr",
     "output_type": "stream",
     "text": [
      "Iteration: 100%|██████████| 27/27 [00:02<00:00, 11.83it/s]\n",
      "Iteration: 100%|██████████| 2/2 [00:00<00:00, 20.26it/s]\n",
      "100%|██████████| 6/6 [00:00<00:00, 19.80it/s]\n"
     ]
    },
    {
     "name": "stdout",
     "output_type": "stream",
     "text": [
      "epoch:33, train_loss:0.07967405131569615, valid_loss:1.0968186259269714, test_acc:0.8366412213740458\n"
     ]
    },
    {
     "name": "stderr",
     "output_type": "stream",
     "text": [
      "Iteration: 100%|██████████| 27/27 [00:02<00:00, 11.76it/s]\n",
      "Iteration: 100%|██████████| 2/2 [00:00<00:00, 20.51it/s]\n",
      "100%|██████████| 6/6 [00:00<00:00, 19.71it/s]\n"
     ]
    },
    {
     "name": "stdout",
     "output_type": "stream",
     "text": [
      "epoch:34, train_loss:0.07729263120779285, valid_loss:1.0885278582572937, test_acc:0.8366412213740458\n"
     ]
    },
    {
     "name": "stderr",
     "output_type": "stream",
     "text": [
      "Iteration: 100%|██████████| 27/27 [00:02<00:00, 11.77it/s]\n",
      "Iteration: 100%|██████████| 2/2 [00:00<00:00, 20.35it/s]\n",
      "100%|██████████| 6/6 [00:00<00:00, 19.81it/s]\n"
     ]
    },
    {
     "name": "stdout",
     "output_type": "stream",
     "text": [
      "epoch:35, train_loss:0.07779825106263161, valid_loss:1.111832320690155, test_acc:0.8427480916030534\n"
     ]
    },
    {
     "name": "stderr",
     "output_type": "stream",
     "text": [
      "Iteration: 100%|██████████| 27/27 [00:02<00:00, 11.79it/s]\n",
      "Iteration: 100%|██████████| 2/2 [00:00<00:00, 20.60it/s]\n",
      "100%|██████████| 6/6 [00:00<00:00, 19.82it/s]\n"
     ]
    },
    {
     "name": "stdout",
     "output_type": "stream",
     "text": [
      "epoch:36, train_loss:0.07400428655522841, valid_loss:1.132395476102829, test_acc:0.8473282442748091\n"
     ]
    },
    {
     "name": "stderr",
     "output_type": "stream",
     "text": [
      "Iteration: 100%|██████████| 27/27 [00:02<00:00, 11.83it/s]\n",
      "Iteration: 100%|██████████| 2/2 [00:00<00:00, 20.56it/s]\n",
      "100%|██████████| 6/6 [00:00<00:00, 19.82it/s]\n"
     ]
    },
    {
     "name": "stdout",
     "output_type": "stream",
     "text": [
      "epoch:37, train_loss:0.07070976481945426, valid_loss:1.1113368570804596, test_acc:0.8396946564885496\n"
     ]
    },
    {
     "name": "stderr",
     "output_type": "stream",
     "text": [
      "Iteration: 100%|██████████| 27/27 [00:02<00:00, 11.83it/s]\n",
      "Iteration: 100%|██████████| 2/2 [00:00<00:00, 20.51it/s]\n",
      "100%|██████████| 6/6 [00:00<00:00, 19.83it/s]\n"
     ]
    },
    {
     "name": "stdout",
     "output_type": "stream",
     "text": [
      "epoch:38, train_loss:0.07155398031075795, valid_loss:1.1246662139892578, test_acc:0.8259541984732824\n"
     ]
    },
    {
     "name": "stderr",
     "output_type": "stream",
     "text": [
      "Iteration: 100%|██████████| 27/27 [00:02<00:00, 11.77it/s]\n",
      "Iteration: 100%|██████████| 2/2 [00:00<00:00, 20.32it/s]\n",
      "100%|██████████| 6/6 [00:00<00:00, 19.80it/s]"
     ]
    },
    {
     "name": "stdout",
     "output_type": "stream",
     "text": [
      "epoch:39, train_loss:0.0746192414727476, valid_loss:1.070777177810669, test_acc:0.8259541984732824\n",
      "Total Result:\n",
      "best_accuracy:  0.8473282442748091\n",
      "best loss:  1.070777177810669\n"
     ]
    },
    {
     "name": "stderr",
     "output_type": "stream",
     "text": [
      "\n"
     ]
    }
   ],
   "source": [
    "(\n",
    "    train_data_loader,\n",
    "    dev_data_loader,\n",
    "    test_data_loader,\n",
    "    num_train_optimization_steps,\n",
    "    train_tokenizer,\n",
    "    dev_tokenizer,\n",
    "    test_tokenizer\n",
    ") = set_up_data_loader()\n",
    "\n",
    "model, optimizer, scheduler = prep_for_training(\n",
    "    num_train_optimization_steps)\n",
    "\n",
    "model = train(\n",
    "    model,\n",
    "    train_data_loader,\n",
    "    dev_data_loader,\n",
    "    test_data_loader,\n",
    "    optimizer,\n",
    "    scheduler,\n",
    "    test_tokenizer\n",
    ")"
   ]
  },
  {
   "cell_type": "markdown",
   "metadata": {},
   "source": [
    "### Model Save and Load"
   ]
  },
  {
   "cell_type": "code",
   "execution_count": 19,
   "metadata": {},
   "outputs": [],
   "source": [
    "torch.save(model.state_dict(), \"./saved_models_MAG_mosi_onlybert.pt\")"
   ]
  },
  {
   "cell_type": "code",
   "execution_count": 40,
   "metadata": {},
   "outputs": [
    {
     "data": {
      "text/plain": [
       "BertForSequenceClassification(\n",
       "  (bert): BertModel(\n",
       "    (embeddings): BertEmbeddings(\n",
       "      (word_embeddings): Embedding(30522, 768, padding_idx=0)\n",
       "      (position_embeddings): Embedding(512, 768)\n",
       "      (token_type_embeddings): Embedding(2, 768)\n",
       "      (LayerNorm): LayerNorm((768,), eps=1e-12, elementwise_affine=True)\n",
       "      (dropout): Dropout(p=0.1, inplace=False)\n",
       "    )\n",
       "    (encoder): BertEncoder(\n",
       "      (layer): ModuleList(\n",
       "        (0): BertLayer(\n",
       "          (attention): BertAttention(\n",
       "            (self): BertSelfAttention(\n",
       "              (query): Linear(in_features=768, out_features=768, bias=True)\n",
       "              (key): Linear(in_features=768, out_features=768, bias=True)\n",
       "              (value): Linear(in_features=768, out_features=768, bias=True)\n",
       "              (dropout): Dropout(p=0.1, inplace=False)\n",
       "            )\n",
       "            (output): BertSelfOutput(\n",
       "              (dense): Linear(in_features=768, out_features=768, bias=True)\n",
       "              (LayerNorm): LayerNorm((768,), eps=1e-12, elementwise_affine=True)\n",
       "              (dropout): Dropout(p=0.1, inplace=False)\n",
       "            )\n",
       "          )\n",
       "          (intermediate): BertIntermediate(\n",
       "            (dense): Linear(in_features=768, out_features=3072, bias=True)\n",
       "            (intermediate_act_fn): GELUActivation()\n",
       "          )\n",
       "          (output): BertOutput(\n",
       "            (dense): Linear(in_features=3072, out_features=768, bias=True)\n",
       "            (LayerNorm): LayerNorm((768,), eps=1e-12, elementwise_affine=True)\n",
       "            (dropout): Dropout(p=0.1, inplace=False)\n",
       "          )\n",
       "        )\n",
       "        (1): BertLayer(\n",
       "          (attention): BertAttention(\n",
       "            (self): BertSelfAttention(\n",
       "              (query): Linear(in_features=768, out_features=768, bias=True)\n",
       "              (key): Linear(in_features=768, out_features=768, bias=True)\n",
       "              (value): Linear(in_features=768, out_features=768, bias=True)\n",
       "              (dropout): Dropout(p=0.1, inplace=False)\n",
       "            )\n",
       "            (output): BertSelfOutput(\n",
       "              (dense): Linear(in_features=768, out_features=768, bias=True)\n",
       "              (LayerNorm): LayerNorm((768,), eps=1e-12, elementwise_affine=True)\n",
       "              (dropout): Dropout(p=0.1, inplace=False)\n",
       "            )\n",
       "          )\n",
       "          (intermediate): BertIntermediate(\n",
       "            (dense): Linear(in_features=768, out_features=3072, bias=True)\n",
       "            (intermediate_act_fn): GELUActivation()\n",
       "          )\n",
       "          (output): BertOutput(\n",
       "            (dense): Linear(in_features=3072, out_features=768, bias=True)\n",
       "            (LayerNorm): LayerNorm((768,), eps=1e-12, elementwise_affine=True)\n",
       "            (dropout): Dropout(p=0.1, inplace=False)\n",
       "          )\n",
       "        )\n",
       "        (2): BertLayer(\n",
       "          (attention): BertAttention(\n",
       "            (self): BertSelfAttention(\n",
       "              (query): Linear(in_features=768, out_features=768, bias=True)\n",
       "              (key): Linear(in_features=768, out_features=768, bias=True)\n",
       "              (value): Linear(in_features=768, out_features=768, bias=True)\n",
       "              (dropout): Dropout(p=0.1, inplace=False)\n",
       "            )\n",
       "            (output): BertSelfOutput(\n",
       "              (dense): Linear(in_features=768, out_features=768, bias=True)\n",
       "              (LayerNorm): LayerNorm((768,), eps=1e-12, elementwise_affine=True)\n",
       "              (dropout): Dropout(p=0.1, inplace=False)\n",
       "            )\n",
       "          )\n",
       "          (intermediate): BertIntermediate(\n",
       "            (dense): Linear(in_features=768, out_features=3072, bias=True)\n",
       "            (intermediate_act_fn): GELUActivation()\n",
       "          )\n",
       "          (output): BertOutput(\n",
       "            (dense): Linear(in_features=3072, out_features=768, bias=True)\n",
       "            (LayerNorm): LayerNorm((768,), eps=1e-12, elementwise_affine=True)\n",
       "            (dropout): Dropout(p=0.1, inplace=False)\n",
       "          )\n",
       "        )\n",
       "        (3): BertLayer(\n",
       "          (attention): BertAttention(\n",
       "            (self): BertSelfAttention(\n",
       "              (query): Linear(in_features=768, out_features=768, bias=True)\n",
       "              (key): Linear(in_features=768, out_features=768, bias=True)\n",
       "              (value): Linear(in_features=768, out_features=768, bias=True)\n",
       "              (dropout): Dropout(p=0.1, inplace=False)\n",
       "            )\n",
       "            (output): BertSelfOutput(\n",
       "              (dense): Linear(in_features=768, out_features=768, bias=True)\n",
       "              (LayerNorm): LayerNorm((768,), eps=1e-12, elementwise_affine=True)\n",
       "              (dropout): Dropout(p=0.1, inplace=False)\n",
       "            )\n",
       "          )\n",
       "          (intermediate): BertIntermediate(\n",
       "            (dense): Linear(in_features=768, out_features=3072, bias=True)\n",
       "            (intermediate_act_fn): GELUActivation()\n",
       "          )\n",
       "          (output): BertOutput(\n",
       "            (dense): Linear(in_features=3072, out_features=768, bias=True)\n",
       "            (LayerNorm): LayerNorm((768,), eps=1e-12, elementwise_affine=True)\n",
       "            (dropout): Dropout(p=0.1, inplace=False)\n",
       "          )\n",
       "        )\n",
       "        (4): BertLayer(\n",
       "          (attention): BertAttention(\n",
       "            (self): BertSelfAttention(\n",
       "              (query): Linear(in_features=768, out_features=768, bias=True)\n",
       "              (key): Linear(in_features=768, out_features=768, bias=True)\n",
       "              (value): Linear(in_features=768, out_features=768, bias=True)\n",
       "              (dropout): Dropout(p=0.1, inplace=False)\n",
       "            )\n",
       "            (output): BertSelfOutput(\n",
       "              (dense): Linear(in_features=768, out_features=768, bias=True)\n",
       "              (LayerNorm): LayerNorm((768,), eps=1e-12, elementwise_affine=True)\n",
       "              (dropout): Dropout(p=0.1, inplace=False)\n",
       "            )\n",
       "          )\n",
       "          (intermediate): BertIntermediate(\n",
       "            (dense): Linear(in_features=768, out_features=3072, bias=True)\n",
       "            (intermediate_act_fn): GELUActivation()\n",
       "          )\n",
       "          (output): BertOutput(\n",
       "            (dense): Linear(in_features=3072, out_features=768, bias=True)\n",
       "            (LayerNorm): LayerNorm((768,), eps=1e-12, elementwise_affine=True)\n",
       "            (dropout): Dropout(p=0.1, inplace=False)\n",
       "          )\n",
       "        )\n",
       "        (5): BertLayer(\n",
       "          (attention): BertAttention(\n",
       "            (self): BertSelfAttention(\n",
       "              (query): Linear(in_features=768, out_features=768, bias=True)\n",
       "              (key): Linear(in_features=768, out_features=768, bias=True)\n",
       "              (value): Linear(in_features=768, out_features=768, bias=True)\n",
       "              (dropout): Dropout(p=0.1, inplace=False)\n",
       "            )\n",
       "            (output): BertSelfOutput(\n",
       "              (dense): Linear(in_features=768, out_features=768, bias=True)\n",
       "              (LayerNorm): LayerNorm((768,), eps=1e-12, elementwise_affine=True)\n",
       "              (dropout): Dropout(p=0.1, inplace=False)\n",
       "            )\n",
       "          )\n",
       "          (intermediate): BertIntermediate(\n",
       "            (dense): Linear(in_features=768, out_features=3072, bias=True)\n",
       "            (intermediate_act_fn): GELUActivation()\n",
       "          )\n",
       "          (output): BertOutput(\n",
       "            (dense): Linear(in_features=3072, out_features=768, bias=True)\n",
       "            (LayerNorm): LayerNorm((768,), eps=1e-12, elementwise_affine=True)\n",
       "            (dropout): Dropout(p=0.1, inplace=False)\n",
       "          )\n",
       "        )\n",
       "        (6): BertLayer(\n",
       "          (attention): BertAttention(\n",
       "            (self): BertSelfAttention(\n",
       "              (query): Linear(in_features=768, out_features=768, bias=True)\n",
       "              (key): Linear(in_features=768, out_features=768, bias=True)\n",
       "              (value): Linear(in_features=768, out_features=768, bias=True)\n",
       "              (dropout): Dropout(p=0.1, inplace=False)\n",
       "            )\n",
       "            (output): BertSelfOutput(\n",
       "              (dense): Linear(in_features=768, out_features=768, bias=True)\n",
       "              (LayerNorm): LayerNorm((768,), eps=1e-12, elementwise_affine=True)\n",
       "              (dropout): Dropout(p=0.1, inplace=False)\n",
       "            )\n",
       "          )\n",
       "          (intermediate): BertIntermediate(\n",
       "            (dense): Linear(in_features=768, out_features=3072, bias=True)\n",
       "            (intermediate_act_fn): GELUActivation()\n",
       "          )\n",
       "          (output): BertOutput(\n",
       "            (dense): Linear(in_features=3072, out_features=768, bias=True)\n",
       "            (LayerNorm): LayerNorm((768,), eps=1e-12, elementwise_affine=True)\n",
       "            (dropout): Dropout(p=0.1, inplace=False)\n",
       "          )\n",
       "        )\n",
       "        (7): BertLayer(\n",
       "          (attention): BertAttention(\n",
       "            (self): BertSelfAttention(\n",
       "              (query): Linear(in_features=768, out_features=768, bias=True)\n",
       "              (key): Linear(in_features=768, out_features=768, bias=True)\n",
       "              (value): Linear(in_features=768, out_features=768, bias=True)\n",
       "              (dropout): Dropout(p=0.1, inplace=False)\n",
       "            )\n",
       "            (output): BertSelfOutput(\n",
       "              (dense): Linear(in_features=768, out_features=768, bias=True)\n",
       "              (LayerNorm): LayerNorm((768,), eps=1e-12, elementwise_affine=True)\n",
       "              (dropout): Dropout(p=0.1, inplace=False)\n",
       "            )\n",
       "          )\n",
       "          (intermediate): BertIntermediate(\n",
       "            (dense): Linear(in_features=768, out_features=3072, bias=True)\n",
       "            (intermediate_act_fn): GELUActivation()\n",
       "          )\n",
       "          (output): BertOutput(\n",
       "            (dense): Linear(in_features=3072, out_features=768, bias=True)\n",
       "            (LayerNorm): LayerNorm((768,), eps=1e-12, elementwise_affine=True)\n",
       "            (dropout): Dropout(p=0.1, inplace=False)\n",
       "          )\n",
       "        )\n",
       "        (8): BertLayer(\n",
       "          (attention): BertAttention(\n",
       "            (self): BertSelfAttention(\n",
       "              (query): Linear(in_features=768, out_features=768, bias=True)\n",
       "              (key): Linear(in_features=768, out_features=768, bias=True)\n",
       "              (value): Linear(in_features=768, out_features=768, bias=True)\n",
       "              (dropout): Dropout(p=0.1, inplace=False)\n",
       "            )\n",
       "            (output): BertSelfOutput(\n",
       "              (dense): Linear(in_features=768, out_features=768, bias=True)\n",
       "              (LayerNorm): LayerNorm((768,), eps=1e-12, elementwise_affine=True)\n",
       "              (dropout): Dropout(p=0.1, inplace=False)\n",
       "            )\n",
       "          )\n",
       "          (intermediate): BertIntermediate(\n",
       "            (dense): Linear(in_features=768, out_features=3072, bias=True)\n",
       "            (intermediate_act_fn): GELUActivation()\n",
       "          )\n",
       "          (output): BertOutput(\n",
       "            (dense): Linear(in_features=3072, out_features=768, bias=True)\n",
       "            (LayerNorm): LayerNorm((768,), eps=1e-12, elementwise_affine=True)\n",
       "            (dropout): Dropout(p=0.1, inplace=False)\n",
       "          )\n",
       "        )\n",
       "        (9): BertLayer(\n",
       "          (attention): BertAttention(\n",
       "            (self): BertSelfAttention(\n",
       "              (query): Linear(in_features=768, out_features=768, bias=True)\n",
       "              (key): Linear(in_features=768, out_features=768, bias=True)\n",
       "              (value): Linear(in_features=768, out_features=768, bias=True)\n",
       "              (dropout): Dropout(p=0.1, inplace=False)\n",
       "            )\n",
       "            (output): BertSelfOutput(\n",
       "              (dense): Linear(in_features=768, out_features=768, bias=True)\n",
       "              (LayerNorm): LayerNorm((768,), eps=1e-12, elementwise_affine=True)\n",
       "              (dropout): Dropout(p=0.1, inplace=False)\n",
       "            )\n",
       "          )\n",
       "          (intermediate): BertIntermediate(\n",
       "            (dense): Linear(in_features=768, out_features=3072, bias=True)\n",
       "            (intermediate_act_fn): GELUActivation()\n",
       "          )\n",
       "          (output): BertOutput(\n",
       "            (dense): Linear(in_features=3072, out_features=768, bias=True)\n",
       "            (LayerNorm): LayerNorm((768,), eps=1e-12, elementwise_affine=True)\n",
       "            (dropout): Dropout(p=0.1, inplace=False)\n",
       "          )\n",
       "        )\n",
       "        (10): BertLayer(\n",
       "          (attention): BertAttention(\n",
       "            (self): BertSelfAttention(\n",
       "              (query): Linear(in_features=768, out_features=768, bias=True)\n",
       "              (key): Linear(in_features=768, out_features=768, bias=True)\n",
       "              (value): Linear(in_features=768, out_features=768, bias=True)\n",
       "              (dropout): Dropout(p=0.1, inplace=False)\n",
       "            )\n",
       "            (output): BertSelfOutput(\n",
       "              (dense): Linear(in_features=768, out_features=768, bias=True)\n",
       "              (LayerNorm): LayerNorm((768,), eps=1e-12, elementwise_affine=True)\n",
       "              (dropout): Dropout(p=0.1, inplace=False)\n",
       "            )\n",
       "          )\n",
       "          (intermediate): BertIntermediate(\n",
       "            (dense): Linear(in_features=768, out_features=3072, bias=True)\n",
       "            (intermediate_act_fn): GELUActivation()\n",
       "          )\n",
       "          (output): BertOutput(\n",
       "            (dense): Linear(in_features=3072, out_features=768, bias=True)\n",
       "            (LayerNorm): LayerNorm((768,), eps=1e-12, elementwise_affine=True)\n",
       "            (dropout): Dropout(p=0.1, inplace=False)\n",
       "          )\n",
       "        )\n",
       "        (11): BertLayer(\n",
       "          (attention): BertAttention(\n",
       "            (self): BertSelfAttention(\n",
       "              (query): Linear(in_features=768, out_features=768, bias=True)\n",
       "              (key): Linear(in_features=768, out_features=768, bias=True)\n",
       "              (value): Linear(in_features=768, out_features=768, bias=True)\n",
       "              (dropout): Dropout(p=0.1, inplace=False)\n",
       "            )\n",
       "            (output): BertSelfOutput(\n",
       "              (dense): Linear(in_features=768, out_features=768, bias=True)\n",
       "              (LayerNorm): LayerNorm((768,), eps=1e-12, elementwise_affine=True)\n",
       "              (dropout): Dropout(p=0.1, inplace=False)\n",
       "            )\n",
       "          )\n",
       "          (intermediate): BertIntermediate(\n",
       "            (dense): Linear(in_features=768, out_features=3072, bias=True)\n",
       "            (intermediate_act_fn): GELUActivation()\n",
       "          )\n",
       "          (output): BertOutput(\n",
       "            (dense): Linear(in_features=3072, out_features=768, bias=True)\n",
       "            (LayerNorm): LayerNorm((768,), eps=1e-12, elementwise_affine=True)\n",
       "            (dropout): Dropout(p=0.1, inplace=False)\n",
       "          )\n",
       "        )\n",
       "      )\n",
       "    )\n",
       "    (pooler): BertPooler(\n",
       "      (dense): Linear(in_features=768, out_features=768, bias=True)\n",
       "      (activation): Tanh()\n",
       "    )\n",
       "  )\n",
       "  (dropout): Dropout(p=0.1, inplace=False)\n",
       "  (classifier): Linear(in_features=768, out_features=1, bias=True)\n",
       ")"
      ]
     },
     "execution_count": 40,
     "metadata": {},
     "output_type": "execute_result"
    }
   ],
   "source": [
    "# multimodal_config = MultimodalConfig(beta_shift=args.beta_shift, dropout_prob=args.dropout_prob)\n",
    "# bert_config = BertConfig(hidden_dropout_prob=args.dropout_prob)\n",
    "# model = MAG_BertForSequenceClassification.from_pretrained(args.model, multimodal_config=multimodal_config, num_labels=1)\n",
    "model.load_state_dict(torch.load(\"./saved_models_MAG_mosi_onlybert.pt\"))\n",
    "model.eval()"
   ]
  },
  {
   "cell_type": "code",
   "execution_count": 48,
   "metadata": {},
   "outputs": [
    {
     "name": "stdout",
     "output_type": "stream",
     "text": [
      "Initializing MAG with beta_shift:1.0 hidden_prob:0.5\n"
     ]
    },
    {
     "name": "stderr",
     "output_type": "stream",
     "text": [
      "Some weights of the model checkpoint at bert-base-uncased were not used when initializing MAG_BertForSequenceClassification: ['cls.predictions.bias', 'cls.predictions.transform.LayerNorm.weight', 'cls.predictions.transform.dense.bias', 'cls.predictions.transform.LayerNorm.bias', 'cls.predictions.transform.dense.weight', 'cls.seq_relationship.weight', 'cls.predictions.decoder.weight', 'cls.seq_relationship.bias']\n",
      "- This IS expected if you are initializing MAG_BertForSequenceClassification from the checkpoint of a model trained on another task or with another architecture (e.g. initializing a BertForSequenceClassification model from a BertForPreTraining model).\n",
      "- This IS NOT expected if you are initializing MAG_BertForSequenceClassification from the checkpoint of a model that you expect to be exactly identical (initializing a BertForSequenceClassification model from a BertForSequenceClassification model).\n",
      "Some weights of MAG_BertForSequenceClassification were not initialized from the model checkpoint at bert-base-uncased and are newly initialized: ['classifier.bias', 'bert.MAG.W_v.weight', 'bert.MAG.W_hv.bias', 'bert.MAG.W_hv.weight', 'bert.MAG.W_a.weight', 'bert.MAG.LayerNorm.bias', 'classifier.weight', 'bert.MAG.W_ha.bias', 'bert.MAG.W_ha.weight', 'bert.MAG.W_v.bias', 'bert.MAG.LayerNorm.weight', 'bert.MAG.W_a.bias']\n",
      "You should probably TRAIN this model on a down-stream task to be able to use it for predictions and inference.\n"
     ]
    },
    {
     "data": {
      "text/plain": [
       "MAG_BertForSequenceClassification(\n",
       "  (bert): MAG_BertModel(\n",
       "    (embeddings): BertEmbeddings(\n",
       "      (word_embeddings): Embedding(30522, 768, padding_idx=0)\n",
       "      (position_embeddings): Embedding(512, 768)\n",
       "      (token_type_embeddings): Embedding(2, 768)\n",
       "      (LayerNorm): LayerNorm((768,), eps=1e-12, elementwise_affine=True)\n",
       "      (dropout): Dropout(p=0.1, inplace=False)\n",
       "    )\n",
       "    (encoder): BertEncoder(\n",
       "      (layer): ModuleList(\n",
       "        (0): BertLayer(\n",
       "          (attention): BertAttention(\n",
       "            (self): BertSelfAttention(\n",
       "              (query): Linear(in_features=768, out_features=768, bias=True)\n",
       "              (key): Linear(in_features=768, out_features=768, bias=True)\n",
       "              (value): Linear(in_features=768, out_features=768, bias=True)\n",
       "              (dropout): Dropout(p=0.1, inplace=False)\n",
       "            )\n",
       "            (output): BertSelfOutput(\n",
       "              (dense): Linear(in_features=768, out_features=768, bias=True)\n",
       "              (LayerNorm): LayerNorm((768,), eps=1e-12, elementwise_affine=True)\n",
       "              (dropout): Dropout(p=0.1, inplace=False)\n",
       "            )\n",
       "          )\n",
       "          (intermediate): BertIntermediate(\n",
       "            (dense): Linear(in_features=768, out_features=3072, bias=True)\n",
       "            (intermediate_act_fn): GELUActivation()\n",
       "          )\n",
       "          (output): BertOutput(\n",
       "            (dense): Linear(in_features=3072, out_features=768, bias=True)\n",
       "            (LayerNorm): LayerNorm((768,), eps=1e-12, elementwise_affine=True)\n",
       "            (dropout): Dropout(p=0.1, inplace=False)\n",
       "          )\n",
       "        )\n",
       "        (1): BertLayer(\n",
       "          (attention): BertAttention(\n",
       "            (self): BertSelfAttention(\n",
       "              (query): Linear(in_features=768, out_features=768, bias=True)\n",
       "              (key): Linear(in_features=768, out_features=768, bias=True)\n",
       "              (value): Linear(in_features=768, out_features=768, bias=True)\n",
       "              (dropout): Dropout(p=0.1, inplace=False)\n",
       "            )\n",
       "            (output): BertSelfOutput(\n",
       "              (dense): Linear(in_features=768, out_features=768, bias=True)\n",
       "              (LayerNorm): LayerNorm((768,), eps=1e-12, elementwise_affine=True)\n",
       "              (dropout): Dropout(p=0.1, inplace=False)\n",
       "            )\n",
       "          )\n",
       "          (intermediate): BertIntermediate(\n",
       "            (dense): Linear(in_features=768, out_features=3072, bias=True)\n",
       "            (intermediate_act_fn): GELUActivation()\n",
       "          )\n",
       "          (output): BertOutput(\n",
       "            (dense): Linear(in_features=3072, out_features=768, bias=True)\n",
       "            (LayerNorm): LayerNorm((768,), eps=1e-12, elementwise_affine=True)\n",
       "            (dropout): Dropout(p=0.1, inplace=False)\n",
       "          )\n",
       "        )\n",
       "        (2): BertLayer(\n",
       "          (attention): BertAttention(\n",
       "            (self): BertSelfAttention(\n",
       "              (query): Linear(in_features=768, out_features=768, bias=True)\n",
       "              (key): Linear(in_features=768, out_features=768, bias=True)\n",
       "              (value): Linear(in_features=768, out_features=768, bias=True)\n",
       "              (dropout): Dropout(p=0.1, inplace=False)\n",
       "            )\n",
       "            (output): BertSelfOutput(\n",
       "              (dense): Linear(in_features=768, out_features=768, bias=True)\n",
       "              (LayerNorm): LayerNorm((768,), eps=1e-12, elementwise_affine=True)\n",
       "              (dropout): Dropout(p=0.1, inplace=False)\n",
       "            )\n",
       "          )\n",
       "          (intermediate): BertIntermediate(\n",
       "            (dense): Linear(in_features=768, out_features=3072, bias=True)\n",
       "            (intermediate_act_fn): GELUActivation()\n",
       "          )\n",
       "          (output): BertOutput(\n",
       "            (dense): Linear(in_features=3072, out_features=768, bias=True)\n",
       "            (LayerNorm): LayerNorm((768,), eps=1e-12, elementwise_affine=True)\n",
       "            (dropout): Dropout(p=0.1, inplace=False)\n",
       "          )\n",
       "        )\n",
       "        (3): BertLayer(\n",
       "          (attention): BertAttention(\n",
       "            (self): BertSelfAttention(\n",
       "              (query): Linear(in_features=768, out_features=768, bias=True)\n",
       "              (key): Linear(in_features=768, out_features=768, bias=True)\n",
       "              (value): Linear(in_features=768, out_features=768, bias=True)\n",
       "              (dropout): Dropout(p=0.1, inplace=False)\n",
       "            )\n",
       "            (output): BertSelfOutput(\n",
       "              (dense): Linear(in_features=768, out_features=768, bias=True)\n",
       "              (LayerNorm): LayerNorm((768,), eps=1e-12, elementwise_affine=True)\n",
       "              (dropout): Dropout(p=0.1, inplace=False)\n",
       "            )\n",
       "          )\n",
       "          (intermediate): BertIntermediate(\n",
       "            (dense): Linear(in_features=768, out_features=3072, bias=True)\n",
       "            (intermediate_act_fn): GELUActivation()\n",
       "          )\n",
       "          (output): BertOutput(\n",
       "            (dense): Linear(in_features=3072, out_features=768, bias=True)\n",
       "            (LayerNorm): LayerNorm((768,), eps=1e-12, elementwise_affine=True)\n",
       "            (dropout): Dropout(p=0.1, inplace=False)\n",
       "          )\n",
       "        )\n",
       "        (4): BertLayer(\n",
       "          (attention): BertAttention(\n",
       "            (self): BertSelfAttention(\n",
       "              (query): Linear(in_features=768, out_features=768, bias=True)\n",
       "              (key): Linear(in_features=768, out_features=768, bias=True)\n",
       "              (value): Linear(in_features=768, out_features=768, bias=True)\n",
       "              (dropout): Dropout(p=0.1, inplace=False)\n",
       "            )\n",
       "            (output): BertSelfOutput(\n",
       "              (dense): Linear(in_features=768, out_features=768, bias=True)\n",
       "              (LayerNorm): LayerNorm((768,), eps=1e-12, elementwise_affine=True)\n",
       "              (dropout): Dropout(p=0.1, inplace=False)\n",
       "            )\n",
       "          )\n",
       "          (intermediate): BertIntermediate(\n",
       "            (dense): Linear(in_features=768, out_features=3072, bias=True)\n",
       "            (intermediate_act_fn): GELUActivation()\n",
       "          )\n",
       "          (output): BertOutput(\n",
       "            (dense): Linear(in_features=3072, out_features=768, bias=True)\n",
       "            (LayerNorm): LayerNorm((768,), eps=1e-12, elementwise_affine=True)\n",
       "            (dropout): Dropout(p=0.1, inplace=False)\n",
       "          )\n",
       "        )\n",
       "        (5): BertLayer(\n",
       "          (attention): BertAttention(\n",
       "            (self): BertSelfAttention(\n",
       "              (query): Linear(in_features=768, out_features=768, bias=True)\n",
       "              (key): Linear(in_features=768, out_features=768, bias=True)\n",
       "              (value): Linear(in_features=768, out_features=768, bias=True)\n",
       "              (dropout): Dropout(p=0.1, inplace=False)\n",
       "            )\n",
       "            (output): BertSelfOutput(\n",
       "              (dense): Linear(in_features=768, out_features=768, bias=True)\n",
       "              (LayerNorm): LayerNorm((768,), eps=1e-12, elementwise_affine=True)\n",
       "              (dropout): Dropout(p=0.1, inplace=False)\n",
       "            )\n",
       "          )\n",
       "          (intermediate): BertIntermediate(\n",
       "            (dense): Linear(in_features=768, out_features=3072, bias=True)\n",
       "            (intermediate_act_fn): GELUActivation()\n",
       "          )\n",
       "          (output): BertOutput(\n",
       "            (dense): Linear(in_features=3072, out_features=768, bias=True)\n",
       "            (LayerNorm): LayerNorm((768,), eps=1e-12, elementwise_affine=True)\n",
       "            (dropout): Dropout(p=0.1, inplace=False)\n",
       "          )\n",
       "        )\n",
       "        (6): BertLayer(\n",
       "          (attention): BertAttention(\n",
       "            (self): BertSelfAttention(\n",
       "              (query): Linear(in_features=768, out_features=768, bias=True)\n",
       "              (key): Linear(in_features=768, out_features=768, bias=True)\n",
       "              (value): Linear(in_features=768, out_features=768, bias=True)\n",
       "              (dropout): Dropout(p=0.1, inplace=False)\n",
       "            )\n",
       "            (output): BertSelfOutput(\n",
       "              (dense): Linear(in_features=768, out_features=768, bias=True)\n",
       "              (LayerNorm): LayerNorm((768,), eps=1e-12, elementwise_affine=True)\n",
       "              (dropout): Dropout(p=0.1, inplace=False)\n",
       "            )\n",
       "          )\n",
       "          (intermediate): BertIntermediate(\n",
       "            (dense): Linear(in_features=768, out_features=3072, bias=True)\n",
       "            (intermediate_act_fn): GELUActivation()\n",
       "          )\n",
       "          (output): BertOutput(\n",
       "            (dense): Linear(in_features=3072, out_features=768, bias=True)\n",
       "            (LayerNorm): LayerNorm((768,), eps=1e-12, elementwise_affine=True)\n",
       "            (dropout): Dropout(p=0.1, inplace=False)\n",
       "          )\n",
       "        )\n",
       "        (7): BertLayer(\n",
       "          (attention): BertAttention(\n",
       "            (self): BertSelfAttention(\n",
       "              (query): Linear(in_features=768, out_features=768, bias=True)\n",
       "              (key): Linear(in_features=768, out_features=768, bias=True)\n",
       "              (value): Linear(in_features=768, out_features=768, bias=True)\n",
       "              (dropout): Dropout(p=0.1, inplace=False)\n",
       "            )\n",
       "            (output): BertSelfOutput(\n",
       "              (dense): Linear(in_features=768, out_features=768, bias=True)\n",
       "              (LayerNorm): LayerNorm((768,), eps=1e-12, elementwise_affine=True)\n",
       "              (dropout): Dropout(p=0.1, inplace=False)\n",
       "            )\n",
       "          )\n",
       "          (intermediate): BertIntermediate(\n",
       "            (dense): Linear(in_features=768, out_features=3072, bias=True)\n",
       "            (intermediate_act_fn): GELUActivation()\n",
       "          )\n",
       "          (output): BertOutput(\n",
       "            (dense): Linear(in_features=3072, out_features=768, bias=True)\n",
       "            (LayerNorm): LayerNorm((768,), eps=1e-12, elementwise_affine=True)\n",
       "            (dropout): Dropout(p=0.1, inplace=False)\n",
       "          )\n",
       "        )\n",
       "        (8): BertLayer(\n",
       "          (attention): BertAttention(\n",
       "            (self): BertSelfAttention(\n",
       "              (query): Linear(in_features=768, out_features=768, bias=True)\n",
       "              (key): Linear(in_features=768, out_features=768, bias=True)\n",
       "              (value): Linear(in_features=768, out_features=768, bias=True)\n",
       "              (dropout): Dropout(p=0.1, inplace=False)\n",
       "            )\n",
       "            (output): BertSelfOutput(\n",
       "              (dense): Linear(in_features=768, out_features=768, bias=True)\n",
       "              (LayerNorm): LayerNorm((768,), eps=1e-12, elementwise_affine=True)\n",
       "              (dropout): Dropout(p=0.1, inplace=False)\n",
       "            )\n",
       "          )\n",
       "          (intermediate): BertIntermediate(\n",
       "            (dense): Linear(in_features=768, out_features=3072, bias=True)\n",
       "            (intermediate_act_fn): GELUActivation()\n",
       "          )\n",
       "          (output): BertOutput(\n",
       "            (dense): Linear(in_features=3072, out_features=768, bias=True)\n",
       "            (LayerNorm): LayerNorm((768,), eps=1e-12, elementwise_affine=True)\n",
       "            (dropout): Dropout(p=0.1, inplace=False)\n",
       "          )\n",
       "        )\n",
       "        (9): BertLayer(\n",
       "          (attention): BertAttention(\n",
       "            (self): BertSelfAttention(\n",
       "              (query): Linear(in_features=768, out_features=768, bias=True)\n",
       "              (key): Linear(in_features=768, out_features=768, bias=True)\n",
       "              (value): Linear(in_features=768, out_features=768, bias=True)\n",
       "              (dropout): Dropout(p=0.1, inplace=False)\n",
       "            )\n",
       "            (output): BertSelfOutput(\n",
       "              (dense): Linear(in_features=768, out_features=768, bias=True)\n",
       "              (LayerNorm): LayerNorm((768,), eps=1e-12, elementwise_affine=True)\n",
       "              (dropout): Dropout(p=0.1, inplace=False)\n",
       "            )\n",
       "          )\n",
       "          (intermediate): BertIntermediate(\n",
       "            (dense): Linear(in_features=768, out_features=3072, bias=True)\n",
       "            (intermediate_act_fn): GELUActivation()\n",
       "          )\n",
       "          (output): BertOutput(\n",
       "            (dense): Linear(in_features=3072, out_features=768, bias=True)\n",
       "            (LayerNorm): LayerNorm((768,), eps=1e-12, elementwise_affine=True)\n",
       "            (dropout): Dropout(p=0.1, inplace=False)\n",
       "          )\n",
       "        )\n",
       "        (10): BertLayer(\n",
       "          (attention): BertAttention(\n",
       "            (self): BertSelfAttention(\n",
       "              (query): Linear(in_features=768, out_features=768, bias=True)\n",
       "              (key): Linear(in_features=768, out_features=768, bias=True)\n",
       "              (value): Linear(in_features=768, out_features=768, bias=True)\n",
       "              (dropout): Dropout(p=0.1, inplace=False)\n",
       "            )\n",
       "            (output): BertSelfOutput(\n",
       "              (dense): Linear(in_features=768, out_features=768, bias=True)\n",
       "              (LayerNorm): LayerNorm((768,), eps=1e-12, elementwise_affine=True)\n",
       "              (dropout): Dropout(p=0.1, inplace=False)\n",
       "            )\n",
       "          )\n",
       "          (intermediate): BertIntermediate(\n",
       "            (dense): Linear(in_features=768, out_features=3072, bias=True)\n",
       "            (intermediate_act_fn): GELUActivation()\n",
       "          )\n",
       "          (output): BertOutput(\n",
       "            (dense): Linear(in_features=3072, out_features=768, bias=True)\n",
       "            (LayerNorm): LayerNorm((768,), eps=1e-12, elementwise_affine=True)\n",
       "            (dropout): Dropout(p=0.1, inplace=False)\n",
       "          )\n",
       "        )\n",
       "        (11): BertLayer(\n",
       "          (attention): BertAttention(\n",
       "            (self): BertSelfAttention(\n",
       "              (query): Linear(in_features=768, out_features=768, bias=True)\n",
       "              (key): Linear(in_features=768, out_features=768, bias=True)\n",
       "              (value): Linear(in_features=768, out_features=768, bias=True)\n",
       "              (dropout): Dropout(p=0.1, inplace=False)\n",
       "            )\n",
       "            (output): BertSelfOutput(\n",
       "              (dense): Linear(in_features=768, out_features=768, bias=True)\n",
       "              (LayerNorm): LayerNorm((768,), eps=1e-12, elementwise_affine=True)\n",
       "              (dropout): Dropout(p=0.1, inplace=False)\n",
       "            )\n",
       "          )\n",
       "          (intermediate): BertIntermediate(\n",
       "            (dense): Linear(in_features=768, out_features=3072, bias=True)\n",
       "            (intermediate_act_fn): GELUActivation()\n",
       "          )\n",
       "          (output): BertOutput(\n",
       "            (dense): Linear(in_features=3072, out_features=768, bias=True)\n",
       "            (LayerNorm): LayerNorm((768,), eps=1e-12, elementwise_affine=True)\n",
       "            (dropout): Dropout(p=0.1, inplace=False)\n",
       "          )\n",
       "        )\n",
       "      )\n",
       "    )\n",
       "    (pooler): BertPooler(\n",
       "      (dense): Linear(in_features=768, out_features=768, bias=True)\n",
       "      (activation): Tanh()\n",
       "    )\n",
       "    (MAG): MAG(\n",
       "      (W_hv): Linear(in_features=815, out_features=768, bias=True)\n",
       "      (W_ha): Linear(in_features=842, out_features=768, bias=True)\n",
       "      (W_v): Linear(in_features=47, out_features=768, bias=True)\n",
       "      (W_a): Linear(in_features=74, out_features=768, bias=True)\n",
       "      (LayerNorm): LayerNorm((768,), eps=1e-05, elementwise_affine=True)\n",
       "      (dropout): Dropout(p=0.5, inplace=False)\n",
       "    )\n",
       "  )\n",
       "  (dropout): Dropout(p=0.1, inplace=False)\n",
       "  (classifier): Linear(in_features=768, out_features=1, bias=True)\n",
       ")"
      ]
     },
     "execution_count": 48,
     "metadata": {},
     "output_type": "execute_result"
    }
   ],
   "source": [
    "multimodal_config = MultimodalConfig(beta_shift=args.beta_shift, dropout_prob=args.dropout_prob)\n",
    "bert_config = BertConfig(hidden_dropout_prob=args.dropout_prob)\n",
    "model_fusion = MAG_BertForSequenceClassification.from_pretrained(args.model, multimodal_config=multimodal_config, num_labels=1)\n",
    "model_fusion.load_state_dict(torch.load(\"./saved_models_MAG_mosi.pt\"))\n",
    "model_fusion.eval()"
   ]
  },
  {
   "cell_type": "markdown",
   "metadata": {},
   "source": [
    "### Sentiment Intensity Reflection of Fustion Embedding Space"
   ]
  },
  {
   "cell_type": "code",
   "execution_count": null,
   "metadata": {},
   "outputs": [],
   "source": [
    "with open(f\"../datasets/{args.dataset}.pkl\", \"rb\") as handle:\n",
    "    data = pickle.load(handle)\n",
    "\n",
    "train_data = data[\"train\"]\n",
    "dev_data = data[\"dev\"]\n",
    "test_data = data[\"test\"]\n",
    "\n",
    "train_dataset, train_tokenizer = get_appropriate_dataset(train_data)\n",
    "dev_dataset, dev_tokenizer = get_appropriate_dataset(dev_data)\n",
    "test_dataset, test_tokenizer = get_appropriate_dataset(test_data)\n",
    "\n",
    "test_data_loader = DataLoader(test_dataset, batch_size=args.test_batch_size, shuffle=False)\n",
    "\n",
    "model.eval()\n",
    "\n",
    "test_embeddings = torch.zeros((0, 100), dtype=torch.float32)\n",
    "preds = []\n",
    "labels = []\n",
    "classes = []\n",
    "pred_classes = []\n",
    "\n",
    "# Gold 7-Class\n",
    "for idx in range(len(test_data)):\n",
    "    (word, visual, acoustic), label, segment = test_data[idx]\n",
    "    if label < -15/7:\n",
    "        classes.append(-3)\n",
    "    elif label < -9/7:\n",
    "        classes.append(-2)\n",
    "    elif label < -3/7:\n",
    "        classes.append(-1)\n",
    "    elif label < 3/7:\n",
    "        classes.append(0)\n",
    "    elif label < 9/7:\n",
    "        classes.append(1)\n",
    "    elif label < 15/7:\n",
    "        classes.append(2)\n",
    "    else:\n",
    "        classes.append(3)\n",
    "classes = np.array(classes)\n",
    "\n",
    "# MAG-BERT Model output\n",
    "with torch.no_grad():\n",
    "    for i, batch in enumerate(tqdm(test_data_loader)):\n",
    "        batch = tuple(t.to(DEVICE) for t in batch)\n",
    "\n",
    "        input_ids, visual, acoustic, input_mask, segment_ids, label_ids = batch\n",
    "        visual = torch.squeeze(visual, 1)\n",
    "        acoustic = torch.squeeze(acoustic, 1)\n",
    "        outputs = model(\n",
    "            input_ids,\n",
    "            visual,\n",
    "            acoustic,\n",
    "            token_type_ids=segment_ids,\n",
    "            attention_mask=input_mask,\n",
    "            labels=None\n",
    "        )\n",
    "\n",
    "        logits = outputs[0]\n",
    "        embeddings = outputs[1:]\n",
    "\n",
    "        test_embeddings = torch.cat((test_embeddings, embeddings.detach().cpu()), 0)\n",
    "\n",
    "        logits = logits.detach().cpu().numpy()\n",
    "        label_ids = label_ids.detach().cpu().numpy()\n",
    "\n",
    "        preds.extend(np.squeeze(logits).tolist())\n",
    "        labels.extend(np.squeeze(label_ids).tolist())\n",
    "\n",
    "        preds = np.array(preds)\n",
    "        labels = np.array(labels)\n",
    "\n",
    "        # 7-class prediction\n",
    "        for logit in logits:\n",
    "            if logit < -15/7:\n",
    "                pred_classes.append(-3)\n",
    "            elif logit < -9/7:\n",
    "                pred_classes.append(-2)\n",
    "            elif logit < -3/7:\n",
    "                pred_classes.append(-1)\n",
    "            elif logit < 3/7:\n",
    "                pred_classes.append(0)\n",
    "            elif logit < 9/7:\n",
    "                pred_classes.append(1)\n",
    "            elif logit < 15/7:\n",
    "                pred_classes.append(2)\n",
    "            else:\n",
    "                pred_classes.append(3)\n",
    "        pred_classes = np.array(pred_classes)\n",
    "    \n",
    "    "
   ]
  },
  {
   "cell_type": "code",
   "execution_count": null,
   "metadata": {},
   "outputs": [],
   "source": [
    "# Create a two dimensional t-SNE projection of the embeddings\n",
    "import matplotlib.pyplot as plt\n",
    "import numpy as np\n",
    "from matplotlib import cm\n",
    "from sklearn.manifold import TSNE\n",
    "\n",
    "tsne = TSNE(2, verbose=1)\n",
    "tsne_proj = tsne.fit_transform(test_embeddings)\n",
    "cmap = cm.get_cmap('tab20')\n",
    "fig, ax = plt.subplot(figsize=(8,8))\n",
    "# num_categories = 7\n",
    "for lab in range(-3, 3):\n",
    "    indices = pred_classes==lab\n",
    "    "
   ]
  },
  {
   "cell_type": "markdown",
   "metadata": {},
   "source": [
    "### Test Instance Prediction Result"
   ]
  },
  {
   "cell_type": "code",
   "execution_count": 49,
   "metadata": {},
   "outputs": [],
   "source": [
    "def test_instance(model: nn.Module):\n",
    "    model_fusion.eval()\n",
    "    segment_list = []\n",
    "    words_list = []\n",
    "    preds = []\n",
    "    preds_2 = []\n",
    "    preds_7 = []\n",
    "    labels = []\n",
    "    labels_2 = []\n",
    "    labels_7 = []\n",
    "\n",
    "    with open(f\"../datasets/MOSI/{args.dataset}.pkl\", \"rb\") as handle:\n",
    "        data = pickle.load(handle)\n",
    "\n",
    "    # test_data[idx] = (words, visual, acoustic), label, segment\n",
    "    test_data = data[\"test\"]\n",
    "    test_dataset, test_tokenizer = get_appropriate_dataset(test_data)\n",
    "    test_dataloader = DataLoader(\n",
    "        test_dataset, batch_size=args.test_batch_size, shuffle=False,\n",
    "    )\n",
    "\n",
    "    video = set()\n",
    "    count = 0\n",
    "\n",
    "    for idx in range(len(test_data)):\n",
    "        (words, visual, acoustic), label, segment = test_data[idx]\n",
    "        if args.dataset == 'mosi':\n",
    "            segment_list.append(segment)\n",
    "        else:\n",
    "            video_name = segment[0]\n",
    "            if video_name in video:\n",
    "                count += 1\n",
    "            else:\n",
    "                video.add(video_name)\n",
    "                count = 0\n",
    "            segment_list.append(video_name + '[' + str(count) + ']')\n",
    "\n",
    "        words_list.append(words)\n",
    "        labels.append(label[0][0])\n",
    "\n",
    "        # label_2 appending\n",
    "        if label > 0:\n",
    "            labels_2.append('positive')\n",
    "        else:\n",
    "            labels_2.append('negative')\n",
    "        \n",
    "        # label_7 appending\n",
    "        if label < -15/7:\n",
    "            labels_7.append('very negative')\n",
    "        elif label < -9/7:\n",
    "            labels_7.append('negative')\n",
    "        elif label < -3/7:\n",
    "            labels_7.append('slightly negative')\n",
    "        elif label < 3/7:\n",
    "            labels_7.append('Neutral')\n",
    "        elif label < 9/7:\n",
    "            labels_7.append('slightly positive')\n",
    "        elif label < 15/7:\n",
    "            labels_7.append('positive')\n",
    "        else:\n",
    "            labels_7.append('very positive')\n",
    "            \n",
    "    # prediction\n",
    "    with torch.no_grad():\n",
    "        for i, batch in enumerate(tqdm(test_dataloader)):\n",
    "            batch = tuple(t.to(DEVICE) for t in batch)\n",
    "\n",
    "            input_ids, visual, acoustic, input_mask, segment_ids, label_ids = batch\n",
    "            visual = torch.squeeze(visual, 1)\n",
    "            acoustic = torch.squeeze(acoustic, 1)\n",
    "            outputs = model_fusion(\n",
    "                input_ids,\n",
    "                visual,\n",
    "                acoustic,\n",
    "                token_type_ids=segment_ids,\n",
    "                attention_mask=input_mask,\n",
    "                labels=None\n",
    "            )\n",
    "            # outputs = model(\n",
    "            # input_ids,\n",
    "            # token_type_ids=segment_ids,\n",
    "            # attention_mask=input_mask,\n",
    "            # labels=None\n",
    "            # )\n",
    "            logits = outputs[0]\n",
    "\n",
    "            logits = logits.detach().cpu().numpy()\n",
    "            label_ids = label_ids.detach().cpu().numpy()\n",
    "\n",
    "            logits = np.squeeze(logits).tolist()\n",
    "            label_ids = np.squeeze(label_ids).tolist()\n",
    "\n",
    "            preds.extend(logits)\n",
    "\n",
    "            for logit in logits:\n",
    "                # preds_2 appending\n",
    "                if logit > 0:\n",
    "                    preds_2.append('positive')\n",
    "                else:\n",
    "                    preds_2.append('negative')\n",
    "\n",
    "                # label_7 appending\n",
    "                if logit < -15/7:\n",
    "                    preds_7.append('very negative')\n",
    "                elif logit < -9/7:\n",
    "                    preds_7.append('negative')\n",
    "                elif logit < -3/7:\n",
    "                    preds_7.append('slightly negative')\n",
    "                elif logit < 3/7:\n",
    "                    preds_7.append('Neutral')\n",
    "                elif logit < 9/7:\n",
    "                    preds_7.append('slightly positive')\n",
    "                elif logit < 15/7:\n",
    "                    preds_7.append('positive')\n",
    "                else:\n",
    "                    preds_7.append('very positive')\n",
    "\n",
    "                # if logit < -15/7:\n",
    "                #     preds_7.append('-3')\n",
    "                # elif logit < -9/7:\n",
    "                #     preds_7.append('-2')\n",
    "                # elif logit < -3/7:\n",
    "                #     preds_7.append('-1')\n",
    "                # elif logit < 3/7:\n",
    "                #     preds_7.append('0')\n",
    "                # elif logit < 9/7:\n",
    "                #     preds_7.append('1')\n",
    "                # elif logit < 15/7:\n",
    "                #     preds_7.append('2')\n",
    "                # else:\n",
    "                #     preds_7.append('3')\n",
    "\n",
    "            \n",
    "\n",
    "    count = 0\n",
    "    # for i in range(len(segment_list)):\n",
    "    #     print(i, \"th data\")\n",
    "    #     print(segment_list[i])\n",
    "    #     print(words_list[i])\n",
    "    #     print(labels[i])\n",
    "    #     print(labels_2[i])\n",
    "    #     print(labels_7[i])\n",
    "    #     print(preds[i])\n",
    "    #     print(preds_2[i])\n",
    "    #     print(preds_7[i])\n",
    "\n",
    "    return segment_list, words_list, labels, labels_2, labels_7, preds, preds_2, preds_7\n"
   ]
  },
  {
   "cell_type": "code",
   "execution_count": 50,
   "metadata": {},
   "outputs": [
    {
     "name": "stderr",
     "output_type": "stream",
     "text": [
      "100%|██████████| 6/6 [00:00<00:00, 19.90it/s]\n"
     ]
    }
   ],
   "source": [
    "model_fusion = model_fusion.to(DEVICE)\n",
    "segment_list, words_list, labels, labels_2, labels_7, preds, preds_2, preds_7 = test_instance(model=model)"
   ]
  },
  {
   "cell_type": "code",
   "execution_count": 24,
   "metadata": {},
   "outputs": [
    {
     "data": {
      "application/vnd.jupyter.widget-view+json": {
       "model_id": "de7aedeb188a4190961388ab3b0f79a3",
       "version_major": 2,
       "version_minor": 0
      },
      "text/plain": [
       "interactive(children=(Dropdown(description='idx', options=(0, 1, 2, 3, 4, 5, 6, 7, 8, 9, 10, 11, 12, 13, 14, 1…"
      ]
     },
     "metadata": {},
     "output_type": "display_data"
    }
   ],
   "source": [
    "from ipywidgets import interact\n",
    "\n",
    "@interact\n",
    "def get_predict_result(idx = range(len(segment_list))):\n",
    "    print(\"SEGMENT:\", segment_list[idx])\n",
    "    print(\"WORDS:\", words_list[idx])\n",
    "    print(\"GOLD_VALUE:\", labels[idx])\n",
    "    print(\"GOLD_BINARY:\", labels_2[idx])\n",
    "    print(\"GOLD_7_CLASS:\", labels_7[idx])\n",
    "    print(\"PREDICTED_VALUE:\", preds[idx])\n",
    "    print(\"PREDICTED_BINARY:\", preds_2[idx])\n",
    "    print(\"PREDICTED _7_CLASS:\", preds_7[idx])"
   ]
  },
  {
   "cell_type": "code",
   "execution_count": 43,
   "metadata": {},
   "outputs": [
    {
     "data": {
      "application/vnd.plotly.v1+json": {
       "config": {
        "plotlyServerURL": "https://plot.ly"
       },
       "data": [
        {
         "alignmentgroup": "True",
         "hovertemplate": "labels_7=%{x}<br>count=%{y}<extra></extra>",
         "legendgroup": "",
         "marker": {
          "color": "#636efa",
          "pattern": {
           "shape": ""
          }
         },
         "name": "",
         "offsetgroup": "",
         "orientation": "v",
         "showlegend": false,
         "textposition": "auto",
         "type": "bar",
         "x": [
          "very negative",
          "very negative",
          "slightly negative",
          "positive",
          "very negative",
          "very negative",
          "very negative",
          "very negative",
          "Neutral",
          "slightly positive",
          "slightly positive",
          "very negative",
          "very negative",
          "slightly positive",
          "very negative",
          "negative",
          "negative",
          "very negative",
          "negative",
          "negative",
          "slightly negative",
          "very negative",
          "slightly negative",
          "negative",
          "Neutral",
          "very negative",
          "negative",
          "slightly negative",
          "slightly positive",
          "slightly positive",
          "negative",
          "very negative",
          "negative",
          "very positive",
          "very positive",
          "slightly positive",
          "slightly positive",
          "very positive",
          "very positive",
          "very positive",
          "slightly negative",
          "Neutral",
          "positive",
          "positive",
          "slightly negative",
          "negative",
          "very negative",
          "very negative",
          "very negative",
          "very negative",
          "very positive",
          "slightly negative",
          "positive",
          "positive",
          "slightly positive",
          "slightly positive",
          "positive",
          "very negative",
          "slightly negative",
          "slightly negative",
          "very positive",
          "positive",
          "slightly negative",
          "very negative",
          "very positive",
          "very positive",
          "very positive",
          "Neutral",
          "very positive",
          "positive",
          "slightly negative",
          "positive",
          "Neutral",
          "slightly positive",
          "slightly positive",
          "positive",
          "slightly negative",
          "positive",
          "slightly negative",
          "slightly negative",
          "positive",
          "slightly positive",
          "positive",
          "positive",
          "positive",
          "slightly negative",
          "slightly negative",
          "Neutral",
          "slightly negative",
          "slightly negative",
          "Neutral",
          "slightly positive",
          "slightly negative",
          "slightly negative",
          "Neutral",
          "Neutral",
          "Neutral",
          "slightly negative",
          "slightly positive",
          "slightly positive",
          "very negative",
          "negative",
          "positive",
          "Neutral",
          "positive",
          "slightly negative",
          "very positive",
          "positive",
          "Neutral",
          "very positive",
          "positive",
          "Neutral",
          "very positive",
          "positive",
          "very positive",
          "positive",
          "very positive",
          "positive",
          "positive",
          "slightly positive",
          "Neutral",
          "very negative",
          "negative",
          "Neutral",
          "negative",
          "negative",
          "negative",
          "very negative",
          "very negative",
          "very negative",
          "slightly negative",
          "slightly negative",
          "positive",
          "negative",
          "negative",
          "negative",
          "negative",
          "negative",
          "negative",
          "very negative",
          "slightly positive",
          "very negative",
          "slightly negative",
          "very negative",
          "very negative",
          "negative",
          "very negative",
          "very negative",
          "slightly negative",
          "negative",
          "very negative",
          "negative",
          "slightly negative",
          "very negative",
          "very negative",
          "negative",
          "very negative",
          "very negative",
          "very negative",
          "very negative",
          "slightly negative",
          "very negative",
          "negative",
          "very negative",
          "Neutral",
          "negative",
          "slightly negative",
          "Neutral",
          "slightly positive",
          "slightly positive",
          "negative",
          "slightly positive",
          "slightly negative",
          "slightly positive",
          "slightly negative",
          "negative",
          "slightly negative",
          "negative",
          "slightly positive",
          "Neutral",
          "slightly positive",
          "negative",
          "slightly positive",
          "Neutral",
          "Neutral",
          "slightly negative",
          "slightly negative",
          "very negative",
          "negative",
          "negative",
          "slightly positive",
          "very negative",
          "slightly negative",
          "Neutral",
          "very negative",
          "Neutral",
          "positive",
          "slightly negative",
          "slightly negative",
          "slightly positive",
          "slightly positive",
          "very negative",
          "negative",
          "very negative",
          "slightly negative",
          "negative",
          "very negative",
          "negative",
          "slightly negative",
          "negative",
          "negative",
          "slightly positive",
          "slightly negative",
          "slightly negative",
          "negative",
          "slightly negative",
          "slightly negative",
          "Neutral",
          "positive",
          "positive",
          "positive",
          "very negative",
          "negative",
          "positive",
          "positive",
          "slightly positive",
          "negative",
          "slightly negative",
          "Neutral",
          "positive",
          "slightly positive",
          "slightly positive",
          "slightly positive",
          "positive",
          "Neutral",
          "slightly positive",
          "very negative",
          "slightly positive",
          "Neutral",
          "slightly negative",
          "positive",
          "slightly negative",
          "slightly negative",
          "Neutral",
          "very negative",
          "very negative",
          "very negative",
          "Neutral",
          "Neutral",
          "slightly negative",
          "slightly negative",
          "Neutral",
          "Neutral",
          "Neutral",
          "Neutral",
          "Neutral",
          "Neutral",
          "very negative",
          "slightly positive",
          "slightly negative",
          "negative",
          "Neutral",
          "Neutral",
          "negative",
          "slightly negative",
          "Neutral",
          "Neutral",
          "slightly positive",
          "positive",
          "negative",
          "slightly negative",
          "slightly positive",
          "Neutral",
          "positive",
          "slightly negative",
          "very positive",
          "very positive",
          "Neutral",
          "negative",
          "slightly negative",
          "negative",
          "slightly negative",
          "positive",
          "very positive",
          "very positive",
          "very positive",
          "slightly positive",
          "slightly negative",
          "slightly positive",
          "positive",
          "slightly positive",
          "very negative",
          "very negative",
          "very positive",
          "very negative",
          "slightly negative",
          "very negative",
          "slightly positive",
          "slightly negative",
          "negative",
          "negative",
          "negative",
          "negative",
          "slightly positive",
          "slightly positive",
          "slightly positive",
          "negative",
          "positive",
          "very negative",
          "negative",
          "positive",
          "positive",
          "slightly positive",
          "Neutral",
          "slightly positive",
          "negative",
          "slightly negative",
          "Neutral",
          "slightly positive",
          "Neutral",
          "slightly negative",
          "Neutral",
          "Neutral",
          "Neutral",
          "Neutral",
          "slightly positive",
          "Neutral",
          "positive",
          "slightly negative",
          "positive",
          "slightly negative",
          "positive",
          "slightly negative",
          "Neutral",
          "very negative",
          "very negative",
          "slightly negative",
          "slightly negative",
          "negative",
          "very negative",
          "very positive",
          "very negative",
          "very negative",
          "negative",
          "negative",
          "very positive",
          "very negative",
          "very negative",
          "Neutral",
          "negative",
          "negative",
          "negative",
          "negative",
          "positive",
          "very positive",
          "very negative",
          "negative",
          "very negative",
          "very negative",
          "very negative",
          "slightly positive",
          "slightly negative",
          "slightly positive",
          "very negative",
          "negative",
          "very negative",
          "negative",
          "Neutral",
          "slightly negative",
          "very negative",
          "negative",
          "slightly positive",
          "Neutral",
          "negative",
          "slightly positive",
          "negative",
          "Neutral",
          "negative",
          "slightly negative",
          "positive",
          "very negative",
          "slightly negative",
          "Neutral",
          "negative",
          "slightly negative",
          "Neutral",
          "slightly negative",
          "positive",
          "positive",
          "slightly positive",
          "negative",
          "Neutral",
          "negative",
          "positive",
          "positive",
          "positive",
          "slightly positive",
          "slightly positive",
          "slightly negative",
          "negative",
          "negative",
          "Neutral",
          "slightly positive",
          "slightly positive",
          "negative",
          "slightly positive",
          "slightly positive",
          "very positive",
          "slightly positive",
          "slightly positive",
          "very negative",
          "negative",
          "slightly negative",
          "very negative",
          "negative",
          "negative",
          "slightly positive",
          "negative",
          "Neutral",
          "negative",
          "slightly positive",
          "negative",
          "negative",
          "negative",
          "negative",
          "negative",
          "positive",
          "very positive",
          "very positive",
          "slightly negative",
          "negative",
          "positive",
          "slightly negative",
          "very negative",
          "negative",
          "negative",
          "positive",
          "positive",
          "slightly positive",
          "slightly negative",
          "very negative",
          "negative",
          "positive",
          "slightly positive",
          "positive",
          "slightly negative",
          "slightly positive",
          "very negative",
          "very positive",
          "slightly negative",
          "very negative",
          "very negative",
          "very negative",
          "Neutral",
          "negative",
          "negative",
          "very negative",
          "very negative",
          "slightly negative",
          "negative",
          "very negative",
          "negative",
          "negative",
          "negative",
          "very negative",
          "negative",
          "slightly positive",
          "very negative",
          "very negative",
          "very positive",
          "very positive",
          "very positive",
          "positive",
          "Neutral",
          "slightly positive",
          "negative",
          "slightly negative",
          "slightly negative",
          "negative",
          "negative",
          "very negative",
          "negative",
          "very negative",
          "negative",
          "negative",
          "Neutral",
          "very negative",
          "Neutral",
          "negative",
          "slightly positive",
          "very negative",
          "very negative",
          "positive",
          "positive",
          "negative",
          "negative",
          "Neutral",
          "very negative",
          "slightly negative",
          "negative",
          "negative",
          "Neutral",
          "slightly positive",
          "Neutral",
          "negative",
          "negative",
          "slightly negative",
          "slightly negative",
          "negative",
          "slightly negative",
          "negative",
          "slightly negative",
          "negative",
          "slightly negative",
          "very negative",
          "slightly negative",
          "negative",
          "Neutral",
          "negative",
          "negative",
          "Neutral",
          "Neutral",
          "slightly negative",
          "very positive",
          "Neutral",
          "slightly positive",
          "Neutral",
          "positive",
          "slightly positive",
          "positive",
          "positive",
          "positive",
          "very positive",
          "positive",
          "Neutral",
          "positive",
          "positive",
          "very positive",
          "Neutral",
          "positive",
          "very positive",
          "positive",
          "very positive",
          "slightly positive",
          "slightly positive",
          "positive",
          "negative",
          "very positive",
          "negative",
          "positive",
          "Neutral",
          "Neutral",
          "very negative",
          "very positive",
          "positive",
          "positive",
          "positive",
          "very positive",
          "very positive",
          "Neutral",
          "positive",
          "Neutral",
          "Neutral",
          "very positive",
          "positive",
          "very positive",
          "Neutral",
          "positive",
          "very positive",
          "slightly positive",
          "very positive",
          "slightly positive",
          "slightly positive",
          "slightly positive",
          "slightly negative",
          "Neutral",
          "slightly positive",
          "Neutral",
          "positive",
          "slightly negative",
          "Neutral",
          "negative",
          "negative",
          "Neutral",
          "positive",
          "positive",
          "slightly negative",
          "positive",
          "Neutral",
          "positive",
          "slightly negative",
          "slightly negative",
          "Neutral",
          "positive",
          "positive",
          "positive",
          "positive",
          "positive",
          "positive",
          "Neutral",
          "very positive",
          "positive",
          "slightly positive",
          "slightly positive",
          "slightly positive",
          "slightly positive",
          "slightly negative",
          "slightly positive",
          "slightly negative",
          "Neutral",
          "negative",
          "slightly negative",
          "slightly negative",
          "negative",
          "slightly negative",
          "negative",
          "very positive",
          "slightly positive",
          "slightly positive",
          "Neutral",
          "negative",
          "negative",
          "slightly negative",
          "Neutral",
          "positive",
          "very positive",
          "slightly negative",
          "negative",
          "slightly negative",
          "negative",
          "Neutral",
          "Neutral",
          "Neutral",
          "negative",
          "Neutral",
          "negative",
          "negative",
          "positive",
          "slightly negative",
          "negative",
          "slightly negative",
          "negative",
          "negative",
          "slightly negative",
          "very negative",
          "negative",
          "slightly positive",
          "negative",
          "negative",
          "slightly negative",
          "negative",
          "positive",
          "negative",
          "negative",
          "very negative",
          "slightly positive",
          "slightly positive",
          "slightly negative",
          "slightly negative",
          "slightly positive",
          "very negative",
          "negative",
          "slightly negative",
          "negative",
          "negative",
          "positive",
          "positive",
          "slightly positive",
          "slightly negative",
          "negative",
          "slightly positive",
          "slightly positive",
          "slightly negative",
          "Neutral",
          "slightly positive",
          "Neutral",
          "slightly positive",
          "positive",
          "slightly negative",
          "negative",
          "slightly negative",
          "slightly positive",
          "Neutral",
          "slightly positive",
          "slightly positive"
         ],
         "xaxis": "x",
         "y": [
          1,
          1,
          1,
          1,
          1,
          1,
          1,
          1,
          1,
          1,
          1,
          1,
          1,
          1,
          1,
          1,
          1,
          1,
          1,
          1,
          1,
          1,
          1,
          1,
          1,
          1,
          1,
          1,
          1,
          1,
          1,
          1,
          1,
          1,
          1,
          1,
          1,
          1,
          1,
          1,
          1,
          1,
          1,
          1,
          1,
          1,
          1,
          1,
          1,
          1,
          1,
          1,
          1,
          1,
          1,
          1,
          1,
          1,
          1,
          1,
          1,
          1,
          1,
          1,
          1,
          1,
          1,
          1,
          1,
          1,
          1,
          1,
          1,
          1,
          1,
          1,
          1,
          1,
          1,
          1,
          1,
          1,
          1,
          1,
          1,
          1,
          1,
          1,
          1,
          1,
          1,
          1,
          1,
          1,
          1,
          1,
          1,
          1,
          1,
          1,
          1,
          1,
          1,
          1,
          1,
          1,
          1,
          1,
          1,
          1,
          1,
          1,
          1,
          1,
          1,
          1,
          1,
          1,
          1,
          1,
          1,
          1,
          1,
          1,
          1,
          1,
          1,
          1,
          1,
          1,
          1,
          1,
          1,
          1,
          1,
          1,
          1,
          1,
          1,
          1,
          1,
          1,
          1,
          1,
          1,
          1,
          1,
          1,
          1,
          1,
          1,
          1,
          1,
          1,
          1,
          1,
          1,
          1,
          1,
          1,
          1,
          1,
          1,
          1,
          1,
          1,
          1,
          1,
          1,
          1,
          1,
          1,
          1,
          1,
          1,
          1,
          1,
          1,
          1,
          1,
          1,
          1,
          1,
          1,
          1,
          1,
          1,
          1,
          1,
          1,
          1,
          1,
          1,
          1,
          1,
          1,
          1,
          1,
          1,
          1,
          1,
          1,
          1,
          1,
          1,
          1,
          1,
          1,
          1,
          1,
          1,
          1,
          1,
          1,
          1,
          1,
          1,
          1,
          1,
          1,
          1,
          1,
          1,
          1,
          1,
          1,
          1,
          1,
          1,
          1,
          1,
          1,
          1,
          1,
          1,
          1,
          1,
          1,
          1,
          1,
          1,
          1,
          1,
          1,
          1,
          1,
          1,
          1,
          1,
          1,
          1,
          1,
          1,
          1,
          1,
          1,
          1,
          1,
          1,
          1,
          1,
          1,
          1,
          1,
          1,
          1,
          1,
          1,
          1,
          1,
          1,
          1,
          1,
          1,
          1,
          1,
          1,
          1,
          1,
          1,
          1,
          1,
          1,
          1,
          1,
          1,
          1,
          1,
          1,
          1,
          1,
          1,
          1,
          1,
          1,
          1,
          1,
          1,
          1,
          1,
          1,
          1,
          1,
          1,
          1,
          1,
          1,
          1,
          1,
          1,
          1,
          1,
          1,
          1,
          1,
          1,
          1,
          1,
          1,
          1,
          1,
          1,
          1,
          1,
          1,
          1,
          1,
          1,
          1,
          1,
          1,
          1,
          1,
          1,
          1,
          1,
          1,
          1,
          1,
          1,
          1,
          1,
          1,
          1,
          1,
          1,
          1,
          1,
          1,
          1,
          1,
          1,
          1,
          1,
          1,
          1,
          1,
          1,
          1,
          1,
          1,
          1,
          1,
          1,
          1,
          1,
          1,
          1,
          1,
          1,
          1,
          1,
          1,
          1,
          1,
          1,
          1,
          1,
          1,
          1,
          1,
          1,
          1,
          1,
          1,
          1,
          1,
          1,
          1,
          1,
          1,
          1,
          1,
          1,
          1,
          1,
          1,
          1,
          1,
          1,
          1,
          1,
          1,
          1,
          1,
          1,
          1,
          1,
          1,
          1,
          1,
          1,
          1,
          1,
          1,
          1,
          1,
          1,
          1,
          1,
          1,
          1,
          1,
          1,
          1,
          1,
          1,
          1,
          1,
          1,
          1,
          1,
          1,
          1,
          1,
          1,
          1,
          1,
          1,
          1,
          1,
          1,
          1,
          1,
          1,
          1,
          1,
          1,
          1,
          1,
          1,
          1,
          1,
          1,
          1,
          1,
          1,
          1,
          1,
          1,
          1,
          1,
          1,
          1,
          1,
          1,
          1,
          1,
          1,
          1,
          1,
          1,
          1,
          1,
          1,
          1,
          1,
          1,
          1,
          1,
          1,
          1,
          1,
          1,
          1,
          1,
          1,
          1,
          1,
          1,
          1,
          1,
          1,
          1,
          1,
          1,
          1,
          1,
          1,
          1,
          1,
          1,
          1,
          1,
          1,
          1,
          1,
          1,
          1,
          1,
          1,
          1,
          1,
          1,
          1,
          1,
          1,
          1,
          1,
          1,
          1,
          1,
          1,
          1,
          1,
          1,
          1,
          1,
          1,
          1,
          1,
          1,
          1,
          1,
          1,
          1,
          1,
          1,
          1,
          1,
          1,
          1,
          1,
          1,
          1,
          1,
          1,
          1,
          1,
          1,
          1,
          1,
          1,
          1,
          1,
          1,
          1,
          1,
          1,
          1,
          1,
          1,
          1,
          1,
          1,
          1,
          1,
          1,
          1,
          1,
          1,
          1,
          1,
          1,
          1,
          1,
          1,
          1,
          1,
          1,
          1,
          1,
          1,
          1,
          1,
          1,
          1,
          1,
          1,
          1,
          1,
          1,
          1,
          1,
          1,
          1,
          1,
          1,
          1,
          1,
          1,
          1,
          1,
          1,
          1,
          1,
          1,
          1,
          1,
          1,
          1,
          1,
          1,
          1,
          1,
          1,
          1,
          1,
          1,
          1,
          1,
          1,
          1,
          1,
          1,
          1,
          1,
          1,
          1,
          1,
          1,
          1,
          1,
          1,
          1,
          1,
          1,
          1,
          1,
          1,
          1,
          1,
          1,
          1,
          1,
          1,
          1,
          1,
          1,
          1,
          1,
          1,
          1,
          1,
          1,
          1,
          1,
          1,
          1,
          1,
          1,
          1,
          1,
          1,
          1,
          1,
          1,
          1,
          1,
          1,
          1,
          1,
          1,
          1,
          1,
          1,
          1,
          1,
          1,
          1,
          1,
          1,
          1,
          1,
          1
         ],
         "yaxis": "y"
        },
        {
         "alignmentgroup": "True",
         "hovertemplate": "preds_7=%{x}<br>count=%{y}<extra></extra>",
         "legendgroup": "",
         "marker": {
          "color": "#636efa",
          "pattern": {
           "shape": ""
          }
         },
         "name": "",
         "offsetgroup": "",
         "orientation": "v",
         "showlegend": false,
         "textposition": "auto",
         "type": "bar",
         "x": [
          "slightly negative",
          "negative",
          "slightly negative",
          "slightly positive",
          "slightly negative",
          "negative",
          "very negative",
          "positive",
          "positive",
          "Neutral",
          "slightly positive",
          "negative",
          "slightly positive",
          "slightly positive",
          "negative",
          "slightly negative",
          "slightly positive",
          "negative",
          "slightly positive",
          "slightly negative",
          "Neutral",
          "slightly negative",
          "slightly negative",
          "negative",
          "slightly positive",
          "slightly negative",
          "Neutral",
          "slightly positive",
          "positive",
          "positive",
          "slightly negative",
          "slightly negative",
          "negative",
          "slightly negative",
          "slightly positive",
          "Neutral",
          "slightly positive",
          "negative",
          "very positive",
          "very positive",
          "negative",
          "slightly positive",
          "positive",
          "positive",
          "Neutral",
          "negative",
          "negative",
          "slightly negative",
          "slightly negative",
          "slightly negative",
          "Neutral",
          "slightly negative",
          "very positive",
          "positive",
          "positive",
          "slightly positive",
          "positive",
          "negative",
          "very positive",
          "slightly negative",
          "negative",
          "positive",
          "slightly negative",
          "negative",
          "positive",
          "very positive",
          "very positive",
          "Neutral",
          "very positive",
          "very positive",
          "Neutral",
          "very positive",
          "slightly negative",
          "Neutral",
          "positive",
          "positive",
          "negative",
          "positive",
          "Neutral",
          "slightly negative",
          "Neutral",
          "positive",
          "very positive",
          "Neutral",
          "very positive",
          "negative",
          "slightly negative",
          "slightly negative",
          "negative",
          "slightly negative",
          "negative",
          "Neutral",
          "Neutral",
          "negative",
          "Neutral",
          "Neutral",
          "slightly negative",
          "Neutral",
          "Neutral",
          "slightly negative",
          "slightly negative",
          "negative",
          "positive",
          "slightly negative",
          "positive",
          "slightly negative",
          "Neutral",
          "very positive",
          "Neutral",
          "very positive",
          "slightly positive",
          "slightly positive",
          "very positive",
          "very positive",
          "positive",
          "slightly positive",
          "very positive",
          "very positive",
          "slightly positive",
          "Neutral",
          "positive",
          "very negative",
          "negative",
          "slightly positive",
          "negative",
          "slightly negative",
          "slightly negative",
          "Neutral",
          "negative",
          "slightly negative",
          "slightly negative",
          "slightly negative",
          "positive",
          "negative",
          "negative",
          "slightly negative",
          "negative",
          "negative",
          "negative",
          "slightly negative",
          "slightly positive",
          "negative",
          "negative",
          "very negative",
          "negative",
          "negative",
          "negative",
          "negative",
          "slightly negative",
          "negative",
          "very negative",
          "slightly negative",
          "Neutral",
          "very negative",
          "negative",
          "negative",
          "negative",
          "negative",
          "negative",
          "very negative",
          "negative",
          "very negative",
          "slightly negative",
          "positive",
          "slightly positive",
          "Neutral",
          "negative",
          "slightly positive",
          "slightly negative",
          "Neutral",
          "negative",
          "Neutral",
          "slightly negative",
          "positive",
          "Neutral",
          "Neutral",
          "slightly positive",
          "slightly positive",
          "slightly positive",
          "slightly negative",
          "Neutral",
          "negative",
          "slightly positive",
          "slightly positive",
          "slightly positive",
          "slightly negative",
          "negative",
          "negative",
          "negative",
          "slightly negative",
          "slightly negative",
          "slightly negative",
          "negative",
          "slightly negative",
          "negative",
          "negative",
          "positive",
          "slightly negative",
          "slightly negative",
          "positive",
          "slightly positive",
          "negative",
          "negative",
          "negative",
          "negative",
          "slightly negative",
          "negative",
          "slightly negative",
          "very negative",
          "negative",
          "Neutral",
          "slightly positive",
          "Neutral",
          "positive",
          "Neutral",
          "slightly negative",
          "negative",
          "Neutral",
          "positive",
          "slightly positive",
          "positive",
          "slightly negative",
          "very negative",
          "slightly positive",
          "positive",
          "positive",
          "Neutral",
          "negative",
          "slightly positive",
          "Neutral",
          "Neutral",
          "Neutral",
          "positive",
          "positive",
          "negative",
          "positive",
          "slightly negative",
          "Neutral",
          "negative",
          "slightly positive",
          "positive",
          "negative",
          "negative",
          "Neutral",
          "slightly negative",
          "slightly negative",
          "very negative",
          "Neutral",
          "slightly negative",
          "slightly negative",
          "negative",
          "Neutral",
          "Neutral",
          "Neutral",
          "Neutral",
          "Neutral",
          "Neutral",
          "Neutral",
          "slightly positive",
          "slightly negative",
          "negative",
          "slightly negative",
          "positive",
          "negative",
          "Neutral",
          "slightly positive",
          "slightly negative",
          "Neutral",
          "positive",
          "negative",
          "slightly negative",
          "slightly positive",
          "Neutral",
          "very positive",
          "slightly positive",
          "very positive",
          "very positive",
          "slightly positive",
          "slightly positive",
          "Neutral",
          "negative",
          "slightly negative",
          "very positive",
          "very positive",
          "positive",
          "very positive",
          "slightly positive",
          "Neutral",
          "slightly positive",
          "Neutral",
          "positive",
          "very negative",
          "very negative",
          "slightly negative",
          "very negative",
          "Neutral",
          "negative",
          "slightly positive",
          "slightly negative",
          "negative",
          "slightly negative",
          "negative",
          "Neutral",
          "Neutral",
          "positive",
          "positive",
          "negative",
          "positive",
          "very negative",
          "slightly negative",
          "very positive",
          "slightly positive",
          "slightly positive",
          "Neutral",
          "slightly negative",
          "slightly negative",
          "very positive",
          "Neutral",
          "positive",
          "positive",
          "Neutral",
          "Neutral",
          "negative",
          "positive",
          "positive",
          "slightly positive",
          "Neutral",
          "positive",
          "Neutral",
          "positive",
          "slightly negative",
          "positive",
          "slightly negative",
          "positive",
          "negative",
          "negative",
          "negative",
          "Neutral",
          "negative",
          "slightly negative",
          "very positive",
          "very negative",
          "negative",
          "negative",
          "very negative",
          "very positive",
          "very negative",
          "very negative",
          "negative",
          "Neutral",
          "slightly negative",
          "negative",
          "negative",
          "positive",
          "very positive",
          "Neutral",
          "very negative",
          "negative",
          "negative",
          "negative",
          "positive",
          "slightly negative",
          "slightly positive",
          "slightly positive",
          "slightly negative",
          "slightly negative",
          "slightly negative",
          "Neutral",
          "slightly negative",
          "slightly negative",
          "slightly negative",
          "positive",
          "slightly positive",
          "slightly positive",
          "very positive",
          "negative",
          "Neutral",
          "negative",
          "slightly negative",
          "very positive",
          "slightly negative",
          "slightly negative",
          "slightly negative",
          "slightly negative",
          "Neutral",
          "slightly negative",
          "Neutral",
          "positive",
          "slightly positive",
          "very positive",
          "slightly positive",
          "Neutral",
          "negative",
          "positive",
          "very positive",
          "positive",
          "positive",
          "Neutral",
          "slightly negative",
          "slightly negative",
          "negative",
          "negative",
          "very positive",
          "very positive",
          "negative",
          "positive",
          "very positive",
          "very positive",
          "Neutral",
          "slightly positive",
          "slightly negative",
          "Neutral",
          "Neutral",
          "Neutral",
          "negative",
          "Neutral",
          "slightly positive",
          "very negative",
          "Neutral",
          "negative",
          "slightly negative",
          "slightly positive",
          "Neutral",
          "negative",
          "Neutral",
          "slightly negative",
          "very positive",
          "positive",
          "very positive",
          "slightly negative",
          "negative",
          "positive",
          "Neutral",
          "negative",
          "slightly positive",
          "slightly negative",
          "positive",
          "Neutral",
          "positive",
          "Neutral",
          "Neutral",
          "slightly positive",
          "positive",
          "slightly positive",
          "slightly positive",
          "very positive",
          "positive",
          "very negative",
          "positive",
          "Neutral",
          "very negative",
          "negative",
          "negative",
          "Neutral",
          "very negative",
          "negative",
          "slightly negative",
          "negative",
          "Neutral",
          "negative",
          "negative",
          "negative",
          "slightly negative",
          "slightly negative",
          "negative",
          "negative",
          "positive",
          "slightly negative",
          "negative",
          "very positive",
          "positive",
          "positive",
          "Neutral",
          "positive",
          "slightly positive",
          "negative",
          "slightly negative",
          "Neutral",
          "slightly negative",
          "slightly negative",
          "very negative",
          "Neutral",
          "slightly negative",
          "positive",
          "slightly negative",
          "positive",
          "very negative",
          "Neutral",
          "negative",
          "positive",
          "very negative",
          "negative",
          "positive",
          "positive",
          "slightly negative",
          "slightly negative",
          "slightly negative",
          "very negative",
          "Neutral",
          "slightly positive",
          "slightly negative",
          "slightly positive",
          "positive",
          "slightly positive",
          "very negative",
          "negative",
          "negative",
          "slightly negative",
          "slightly negative",
          "slightly negative",
          "negative",
          "Neutral",
          "Neutral",
          "Neutral",
          "negative",
          "Neutral",
          "slightly negative",
          "Neutral",
          "slightly negative",
          "Neutral",
          "slightly negative",
          "slightly positive",
          "slightly negative",
          "slightly positive",
          "positive",
          "slightly negative",
          "slightly negative",
          "very positive",
          "positive",
          "Neutral",
          "positive",
          "positive",
          "slightly positive",
          "slightly positive",
          "negative",
          "Neutral",
          "positive",
          "very positive",
          "slightly positive",
          "positive",
          "very positive",
          "slightly negative",
          "slightly positive",
          "positive",
          "negative",
          "slightly positive",
          "slightly negative",
          "very positive",
          "Neutral",
          "positive",
          "positive",
          "Neutral",
          "negative",
          "positive",
          "positive",
          "positive",
          "positive",
          "positive",
          "positive",
          "Neutral",
          "slightly positive",
          "Neutral",
          "Neutral",
          "positive",
          "very positive",
          "positive",
          "slightly positive",
          "positive",
          "very positive",
          "positive",
          "positive",
          "Neutral",
          "slightly positive",
          "slightly positive",
          "slightly negative",
          "slightly positive",
          "negative",
          "positive",
          "Neutral",
          "slightly negative",
          "Neutral",
          "negative",
          "negative",
          "slightly negative",
          "positive",
          "positive",
          "slightly negative",
          "Neutral",
          "slightly negative",
          "positive",
          "negative",
          "Neutral",
          "slightly positive",
          "positive",
          "positive",
          "positive",
          "positive",
          "slightly positive",
          "slightly positive",
          "Neutral",
          "very positive",
          "very positive",
          "slightly positive",
          "positive",
          "slightly negative",
          "Neutral",
          "Neutral",
          "slightly negative",
          "very negative",
          "Neutral",
          "negative",
          "slightly positive",
          "slightly negative",
          "Neutral",
          "very negative",
          "slightly negative",
          "very positive",
          "positive",
          "Neutral",
          "Neutral",
          "negative",
          "negative",
          "Neutral",
          "Neutral",
          "positive",
          "positive",
          "slightly negative",
          "slightly negative",
          "negative",
          "negative",
          "slightly negative",
          "slightly negative",
          "slightly negative",
          "negative",
          "slightly negative",
          "negative",
          "negative",
          "slightly positive",
          "slightly negative",
          "negative",
          "negative",
          "negative",
          "negative",
          "Neutral",
          "very negative",
          "slightly negative",
          "positive",
          "Neutral",
          "very negative",
          "slightly negative",
          "negative",
          "very positive",
          "negative",
          "negative",
          "negative",
          "slightly positive",
          "slightly positive",
          "negative",
          "slightly negative",
          "slightly positive",
          "very negative",
          "slightly negative",
          "negative",
          "very negative",
          "negative",
          "positive",
          "positive",
          "positive",
          "Neutral",
          "Neutral",
          "Neutral",
          "slightly negative",
          "Neutral",
          "Neutral",
          "slightly positive",
          "slightly positive",
          "slightly positive",
          "positive",
          "negative",
          "negative",
          "slightly negative",
          "slightly positive",
          "slightly positive",
          "positive",
          "positive"
         ],
         "xaxis": "x2",
         "y": [
          1,
          1,
          1,
          1,
          1,
          1,
          1,
          1,
          1,
          1,
          1,
          1,
          1,
          1,
          1,
          1,
          1,
          1,
          1,
          1,
          1,
          1,
          1,
          1,
          1,
          1,
          1,
          1,
          1,
          1,
          1,
          1,
          1,
          1,
          1,
          1,
          1,
          1,
          1,
          1,
          1,
          1,
          1,
          1,
          1,
          1,
          1,
          1,
          1,
          1,
          1,
          1,
          1,
          1,
          1,
          1,
          1,
          1,
          1,
          1,
          1,
          1,
          1,
          1,
          1,
          1,
          1,
          1,
          1,
          1,
          1,
          1,
          1,
          1,
          1,
          1,
          1,
          1,
          1,
          1,
          1,
          1,
          1,
          1,
          1,
          1,
          1,
          1,
          1,
          1,
          1,
          1,
          1,
          1,
          1,
          1,
          1,
          1,
          1,
          1,
          1,
          1,
          1,
          1,
          1,
          1,
          1,
          1,
          1,
          1,
          1,
          1,
          1,
          1,
          1,
          1,
          1,
          1,
          1,
          1,
          1,
          1,
          1,
          1,
          1,
          1,
          1,
          1,
          1,
          1,
          1,
          1,
          1,
          1,
          1,
          1,
          1,
          1,
          1,
          1,
          1,
          1,
          1,
          1,
          1,
          1,
          1,
          1,
          1,
          1,
          1,
          1,
          1,
          1,
          1,
          1,
          1,
          1,
          1,
          1,
          1,
          1,
          1,
          1,
          1,
          1,
          1,
          1,
          1,
          1,
          1,
          1,
          1,
          1,
          1,
          1,
          1,
          1,
          1,
          1,
          1,
          1,
          1,
          1,
          1,
          1,
          1,
          1,
          1,
          1,
          1,
          1,
          1,
          1,
          1,
          1,
          1,
          1,
          1,
          1,
          1,
          1,
          1,
          1,
          1,
          1,
          1,
          1,
          1,
          1,
          1,
          1,
          1,
          1,
          1,
          1,
          1,
          1,
          1,
          1,
          1,
          1,
          1,
          1,
          1,
          1,
          1,
          1,
          1,
          1,
          1,
          1,
          1,
          1,
          1,
          1,
          1,
          1,
          1,
          1,
          1,
          1,
          1,
          1,
          1,
          1,
          1,
          1,
          1,
          1,
          1,
          1,
          1,
          1,
          1,
          1,
          1,
          1,
          1,
          1,
          1,
          1,
          1,
          1,
          1,
          1,
          1,
          1,
          1,
          1,
          1,
          1,
          1,
          1,
          1,
          1,
          1,
          1,
          1,
          1,
          1,
          1,
          1,
          1,
          1,
          1,
          1,
          1,
          1,
          1,
          1,
          1,
          1,
          1,
          1,
          1,
          1,
          1,
          1,
          1,
          1,
          1,
          1,
          1,
          1,
          1,
          1,
          1,
          1,
          1,
          1,
          1,
          1,
          1,
          1,
          1,
          1,
          1,
          1,
          1,
          1,
          1,
          1,
          1,
          1,
          1,
          1,
          1,
          1,
          1,
          1,
          1,
          1,
          1,
          1,
          1,
          1,
          1,
          1,
          1,
          1,
          1,
          1,
          1,
          1,
          1,
          1,
          1,
          1,
          1,
          1,
          1,
          1,
          1,
          1,
          1,
          1,
          1,
          1,
          1,
          1,
          1,
          1,
          1,
          1,
          1,
          1,
          1,
          1,
          1,
          1,
          1,
          1,
          1,
          1,
          1,
          1,
          1,
          1,
          1,
          1,
          1,
          1,
          1,
          1,
          1,
          1,
          1,
          1,
          1,
          1,
          1,
          1,
          1,
          1,
          1,
          1,
          1,
          1,
          1,
          1,
          1,
          1,
          1,
          1,
          1,
          1,
          1,
          1,
          1,
          1,
          1,
          1,
          1,
          1,
          1,
          1,
          1,
          1,
          1,
          1,
          1,
          1,
          1,
          1,
          1,
          1,
          1,
          1,
          1,
          1,
          1,
          1,
          1,
          1,
          1,
          1,
          1,
          1,
          1,
          1,
          1,
          1,
          1,
          1,
          1,
          1,
          1,
          1,
          1,
          1,
          1,
          1,
          1,
          1,
          1,
          1,
          1,
          1,
          1,
          1,
          1,
          1,
          1,
          1,
          1,
          1,
          1,
          1,
          1,
          1,
          1,
          1,
          1,
          1,
          1,
          1,
          1,
          1,
          1,
          1,
          1,
          1,
          1,
          1,
          1,
          1,
          1,
          1,
          1,
          1,
          1,
          1,
          1,
          1,
          1,
          1,
          1,
          1,
          1,
          1,
          1,
          1,
          1,
          1,
          1,
          1,
          1,
          1,
          1,
          1,
          1,
          1,
          1,
          1,
          1,
          1,
          1,
          1,
          1,
          1,
          1,
          1,
          1,
          1,
          1,
          1,
          1,
          1,
          1,
          1,
          1,
          1,
          1,
          1,
          1,
          1,
          1,
          1,
          1,
          1,
          1,
          1,
          1,
          1,
          1,
          1,
          1,
          1,
          1,
          1,
          1,
          1,
          1,
          1,
          1,
          1,
          1,
          1,
          1,
          1,
          1,
          1,
          1,
          1,
          1,
          1,
          1,
          1,
          1,
          1,
          1,
          1,
          1,
          1,
          1,
          1,
          1,
          1,
          1,
          1,
          1,
          1,
          1,
          1,
          1,
          1,
          1,
          1,
          1,
          1,
          1,
          1,
          1,
          1,
          1,
          1,
          1,
          1,
          1,
          1,
          1,
          1,
          1,
          1,
          1,
          1,
          1,
          1,
          1,
          1,
          1,
          1,
          1,
          1,
          1,
          1,
          1,
          1,
          1,
          1,
          1,
          1,
          1,
          1,
          1,
          1,
          1,
          1,
          1,
          1,
          1,
          1,
          1,
          1,
          1,
          1,
          1,
          1,
          1,
          1,
          1,
          1,
          1,
          1,
          1,
          1,
          1,
          1,
          1,
          1,
          1,
          1,
          1,
          1,
          1,
          1,
          1,
          1,
          1,
          1,
          1,
          1,
          1,
          1,
          1,
          1,
          1,
          1,
          1,
          1,
          1,
          1,
          1,
          1,
          1,
          1,
          1,
          1,
          1,
          1,
          1,
          1,
          1,
          1
         ],
         "yaxis": "y2"
        }
       ],
       "layout": {
        "annotations": [
         {
          "font": {
           "size": 16
          },
          "showarrow": false,
          "text": "Gold",
          "x": 0.225,
          "xanchor": "center",
          "xref": "paper",
          "y": 1,
          "yanchor": "bottom",
          "yref": "paper"
         },
         {
          "font": {
           "size": 16
          },
          "showarrow": false,
          "text": "MAGBERT",
          "x": 0.775,
          "xanchor": "center",
          "xref": "paper",
          "y": 1,
          "yanchor": "bottom",
          "yref": "paper"
         }
        ],
        "template": {
         "data": {
          "bar": [
           {
            "error_x": {
             "color": "#2a3f5f"
            },
            "error_y": {
             "color": "#2a3f5f"
            },
            "marker": {
             "line": {
              "color": "#E5ECF6",
              "width": 0.5
             },
             "pattern": {
              "fillmode": "overlay",
              "size": 10,
              "solidity": 0.2
             }
            },
            "type": "bar"
           }
          ],
          "barpolar": [
           {
            "marker": {
             "line": {
              "color": "#E5ECF6",
              "width": 0.5
             },
             "pattern": {
              "fillmode": "overlay",
              "size": 10,
              "solidity": 0.2
             }
            },
            "type": "barpolar"
           }
          ],
          "carpet": [
           {
            "aaxis": {
             "endlinecolor": "#2a3f5f",
             "gridcolor": "white",
             "linecolor": "white",
             "minorgridcolor": "white",
             "startlinecolor": "#2a3f5f"
            },
            "baxis": {
             "endlinecolor": "#2a3f5f",
             "gridcolor": "white",
             "linecolor": "white",
             "minorgridcolor": "white",
             "startlinecolor": "#2a3f5f"
            },
            "type": "carpet"
           }
          ],
          "choropleth": [
           {
            "colorbar": {
             "outlinewidth": 0,
             "ticks": ""
            },
            "type": "choropleth"
           }
          ],
          "contour": [
           {
            "colorbar": {
             "outlinewidth": 0,
             "ticks": ""
            },
            "colorscale": [
             [
              0,
              "#0d0887"
             ],
             [
              0.1111111111111111,
              "#46039f"
             ],
             [
              0.2222222222222222,
              "#7201a8"
             ],
             [
              0.3333333333333333,
              "#9c179e"
             ],
             [
              0.4444444444444444,
              "#bd3786"
             ],
             [
              0.5555555555555556,
              "#d8576b"
             ],
             [
              0.6666666666666666,
              "#ed7953"
             ],
             [
              0.7777777777777778,
              "#fb9f3a"
             ],
             [
              0.8888888888888888,
              "#fdca26"
             ],
             [
              1,
              "#f0f921"
             ]
            ],
            "type": "contour"
           }
          ],
          "contourcarpet": [
           {
            "colorbar": {
             "outlinewidth": 0,
             "ticks": ""
            },
            "type": "contourcarpet"
           }
          ],
          "heatmap": [
           {
            "colorbar": {
             "outlinewidth": 0,
             "ticks": ""
            },
            "colorscale": [
             [
              0,
              "#0d0887"
             ],
             [
              0.1111111111111111,
              "#46039f"
             ],
             [
              0.2222222222222222,
              "#7201a8"
             ],
             [
              0.3333333333333333,
              "#9c179e"
             ],
             [
              0.4444444444444444,
              "#bd3786"
             ],
             [
              0.5555555555555556,
              "#d8576b"
             ],
             [
              0.6666666666666666,
              "#ed7953"
             ],
             [
              0.7777777777777778,
              "#fb9f3a"
             ],
             [
              0.8888888888888888,
              "#fdca26"
             ],
             [
              1,
              "#f0f921"
             ]
            ],
            "type": "heatmap"
           }
          ],
          "heatmapgl": [
           {
            "colorbar": {
             "outlinewidth": 0,
             "ticks": ""
            },
            "colorscale": [
             [
              0,
              "#0d0887"
             ],
             [
              0.1111111111111111,
              "#46039f"
             ],
             [
              0.2222222222222222,
              "#7201a8"
             ],
             [
              0.3333333333333333,
              "#9c179e"
             ],
             [
              0.4444444444444444,
              "#bd3786"
             ],
             [
              0.5555555555555556,
              "#d8576b"
             ],
             [
              0.6666666666666666,
              "#ed7953"
             ],
             [
              0.7777777777777778,
              "#fb9f3a"
             ],
             [
              0.8888888888888888,
              "#fdca26"
             ],
             [
              1,
              "#f0f921"
             ]
            ],
            "type": "heatmapgl"
           }
          ],
          "histogram": [
           {
            "marker": {
             "pattern": {
              "fillmode": "overlay",
              "size": 10,
              "solidity": 0.2
             }
            },
            "type": "histogram"
           }
          ],
          "histogram2d": [
           {
            "colorbar": {
             "outlinewidth": 0,
             "ticks": ""
            },
            "colorscale": [
             [
              0,
              "#0d0887"
             ],
             [
              0.1111111111111111,
              "#46039f"
             ],
             [
              0.2222222222222222,
              "#7201a8"
             ],
             [
              0.3333333333333333,
              "#9c179e"
             ],
             [
              0.4444444444444444,
              "#bd3786"
             ],
             [
              0.5555555555555556,
              "#d8576b"
             ],
             [
              0.6666666666666666,
              "#ed7953"
             ],
             [
              0.7777777777777778,
              "#fb9f3a"
             ],
             [
              0.8888888888888888,
              "#fdca26"
             ],
             [
              1,
              "#f0f921"
             ]
            ],
            "type": "histogram2d"
           }
          ],
          "histogram2dcontour": [
           {
            "colorbar": {
             "outlinewidth": 0,
             "ticks": ""
            },
            "colorscale": [
             [
              0,
              "#0d0887"
             ],
             [
              0.1111111111111111,
              "#46039f"
             ],
             [
              0.2222222222222222,
              "#7201a8"
             ],
             [
              0.3333333333333333,
              "#9c179e"
             ],
             [
              0.4444444444444444,
              "#bd3786"
             ],
             [
              0.5555555555555556,
              "#d8576b"
             ],
             [
              0.6666666666666666,
              "#ed7953"
             ],
             [
              0.7777777777777778,
              "#fb9f3a"
             ],
             [
              0.8888888888888888,
              "#fdca26"
             ],
             [
              1,
              "#f0f921"
             ]
            ],
            "type": "histogram2dcontour"
           }
          ],
          "mesh3d": [
           {
            "colorbar": {
             "outlinewidth": 0,
             "ticks": ""
            },
            "type": "mesh3d"
           }
          ],
          "parcoords": [
           {
            "line": {
             "colorbar": {
              "outlinewidth": 0,
              "ticks": ""
             }
            },
            "type": "parcoords"
           }
          ],
          "pie": [
           {
            "automargin": true,
            "type": "pie"
           }
          ],
          "scatter": [
           {
            "fillpattern": {
             "fillmode": "overlay",
             "size": 10,
             "solidity": 0.2
            },
            "type": "scatter"
           }
          ],
          "scatter3d": [
           {
            "line": {
             "colorbar": {
              "outlinewidth": 0,
              "ticks": ""
             }
            },
            "marker": {
             "colorbar": {
              "outlinewidth": 0,
              "ticks": ""
             }
            },
            "type": "scatter3d"
           }
          ],
          "scattercarpet": [
           {
            "marker": {
             "colorbar": {
              "outlinewidth": 0,
              "ticks": ""
             }
            },
            "type": "scattercarpet"
           }
          ],
          "scattergeo": [
           {
            "marker": {
             "colorbar": {
              "outlinewidth": 0,
              "ticks": ""
             }
            },
            "type": "scattergeo"
           }
          ],
          "scattergl": [
           {
            "marker": {
             "colorbar": {
              "outlinewidth": 0,
              "ticks": ""
             }
            },
            "type": "scattergl"
           }
          ],
          "scattermapbox": [
           {
            "marker": {
             "colorbar": {
              "outlinewidth": 0,
              "ticks": ""
             }
            },
            "type": "scattermapbox"
           }
          ],
          "scatterpolar": [
           {
            "marker": {
             "colorbar": {
              "outlinewidth": 0,
              "ticks": ""
             }
            },
            "type": "scatterpolar"
           }
          ],
          "scatterpolargl": [
           {
            "marker": {
             "colorbar": {
              "outlinewidth": 0,
              "ticks": ""
             }
            },
            "type": "scatterpolargl"
           }
          ],
          "scatterternary": [
           {
            "marker": {
             "colorbar": {
              "outlinewidth": 0,
              "ticks": ""
             }
            },
            "type": "scatterternary"
           }
          ],
          "surface": [
           {
            "colorbar": {
             "outlinewidth": 0,
             "ticks": ""
            },
            "colorscale": [
             [
              0,
              "#0d0887"
             ],
             [
              0.1111111111111111,
              "#46039f"
             ],
             [
              0.2222222222222222,
              "#7201a8"
             ],
             [
              0.3333333333333333,
              "#9c179e"
             ],
             [
              0.4444444444444444,
              "#bd3786"
             ],
             [
              0.5555555555555556,
              "#d8576b"
             ],
             [
              0.6666666666666666,
              "#ed7953"
             ],
             [
              0.7777777777777778,
              "#fb9f3a"
             ],
             [
              0.8888888888888888,
              "#fdca26"
             ],
             [
              1,
              "#f0f921"
             ]
            ],
            "type": "surface"
           }
          ],
          "table": [
           {
            "cells": {
             "fill": {
              "color": "#EBF0F8"
             },
             "line": {
              "color": "white"
             }
            },
            "header": {
             "fill": {
              "color": "#C8D4E3"
             },
             "line": {
              "color": "white"
             }
            },
            "type": "table"
           }
          ]
         },
         "layout": {
          "annotationdefaults": {
           "arrowcolor": "#2a3f5f",
           "arrowhead": 0,
           "arrowwidth": 1
          },
          "autotypenumbers": "strict",
          "coloraxis": {
           "colorbar": {
            "outlinewidth": 0,
            "ticks": ""
           }
          },
          "colorscale": {
           "diverging": [
            [
             0,
             "#8e0152"
            ],
            [
             0.1,
             "#c51b7d"
            ],
            [
             0.2,
             "#de77ae"
            ],
            [
             0.3,
             "#f1b6da"
            ],
            [
             0.4,
             "#fde0ef"
            ],
            [
             0.5,
             "#f7f7f7"
            ],
            [
             0.6,
             "#e6f5d0"
            ],
            [
             0.7,
             "#b8e186"
            ],
            [
             0.8,
             "#7fbc41"
            ],
            [
             0.9,
             "#4d9221"
            ],
            [
             1,
             "#276419"
            ]
           ],
           "sequential": [
            [
             0,
             "#0d0887"
            ],
            [
             0.1111111111111111,
             "#46039f"
            ],
            [
             0.2222222222222222,
             "#7201a8"
            ],
            [
             0.3333333333333333,
             "#9c179e"
            ],
            [
             0.4444444444444444,
             "#bd3786"
            ],
            [
             0.5555555555555556,
             "#d8576b"
            ],
            [
             0.6666666666666666,
             "#ed7953"
            ],
            [
             0.7777777777777778,
             "#fb9f3a"
            ],
            [
             0.8888888888888888,
             "#fdca26"
            ],
            [
             1,
             "#f0f921"
            ]
           ],
           "sequentialminus": [
            [
             0,
             "#0d0887"
            ],
            [
             0.1111111111111111,
             "#46039f"
            ],
            [
             0.2222222222222222,
             "#7201a8"
            ],
            [
             0.3333333333333333,
             "#9c179e"
            ],
            [
             0.4444444444444444,
             "#bd3786"
            ],
            [
             0.5555555555555556,
             "#d8576b"
            ],
            [
             0.6666666666666666,
             "#ed7953"
            ],
            [
             0.7777777777777778,
             "#fb9f3a"
            ],
            [
             0.8888888888888888,
             "#fdca26"
            ],
            [
             1,
             "#f0f921"
            ]
           ]
          },
          "colorway": [
           "#636efa",
           "#EF553B",
           "#00cc96",
           "#ab63fa",
           "#FFA15A",
           "#19d3f3",
           "#FF6692",
           "#B6E880",
           "#FF97FF",
           "#FECB52"
          ],
          "font": {
           "color": "#2a3f5f"
          },
          "geo": {
           "bgcolor": "white",
           "lakecolor": "white",
           "landcolor": "#E5ECF6",
           "showlakes": true,
           "showland": true,
           "subunitcolor": "white"
          },
          "hoverlabel": {
           "align": "left"
          },
          "hovermode": "closest",
          "mapbox": {
           "style": "light"
          },
          "paper_bgcolor": "white",
          "plot_bgcolor": "#E5ECF6",
          "polar": {
           "angularaxis": {
            "gridcolor": "white",
            "linecolor": "white",
            "ticks": ""
           },
           "bgcolor": "#E5ECF6",
           "radialaxis": {
            "gridcolor": "white",
            "linecolor": "white",
            "ticks": ""
           }
          },
          "scene": {
           "xaxis": {
            "backgroundcolor": "#E5ECF6",
            "gridcolor": "white",
            "gridwidth": 2,
            "linecolor": "white",
            "showbackground": true,
            "ticks": "",
            "zerolinecolor": "white"
           },
           "yaxis": {
            "backgroundcolor": "#E5ECF6",
            "gridcolor": "white",
            "gridwidth": 2,
            "linecolor": "white",
            "showbackground": true,
            "ticks": "",
            "zerolinecolor": "white"
           },
           "zaxis": {
            "backgroundcolor": "#E5ECF6",
            "gridcolor": "white",
            "gridwidth": 2,
            "linecolor": "white",
            "showbackground": true,
            "ticks": "",
            "zerolinecolor": "white"
           }
          },
          "shapedefaults": {
           "line": {
            "color": "#2a3f5f"
           }
          },
          "ternary": {
           "aaxis": {
            "gridcolor": "white",
            "linecolor": "white",
            "ticks": ""
           },
           "baxis": {
            "gridcolor": "white",
            "linecolor": "white",
            "ticks": ""
           },
           "bgcolor": "#E5ECF6",
           "caxis": {
            "gridcolor": "white",
            "linecolor": "white",
            "ticks": ""
           }
          },
          "title": {
           "x": 0.05
          },
          "xaxis": {
           "automargin": true,
           "gridcolor": "white",
           "linecolor": "white",
           "ticks": "",
           "title": {
            "standoff": 15
           },
           "zerolinecolor": "white",
           "zerolinewidth": 2
          },
          "yaxis": {
           "automargin": true,
           "gridcolor": "white",
           "linecolor": "white",
           "ticks": "",
           "title": {
            "standoff": 15
           },
           "zerolinecolor": "white",
           "zerolinewidth": 2
          }
         }
        },
        "title": {
         "text": "CMU-MOSI 7 Class Sentiment Intensity"
        },
        "xaxis": {
         "anchor": "y",
         "categoryarray": [
          "very negative",
          "negative",
          "slightly negative",
          "Neutral",
          "slightly positive",
          "positive",
          "very positive"
         ],
         "categoryorder": "array",
         "domain": [
          0,
          0.45
         ]
        },
        "xaxis2": {
         "anchor": "y2",
         "categoryarray": [
          "very negative",
          "negative",
          "slightly negative",
          "Neutral",
          "slightly positive",
          "positive",
          "very positive"
         ],
         "categoryorder": "array",
         "domain": [
          0.55,
          1
         ]
        },
        "yaxis": {
         "anchor": "x",
         "domain": [
          0,
          1
         ],
         "range": [
          0,
          200
         ]
        },
        "yaxis2": {
         "anchor": "x2",
         "domain": [
          0,
          1
         ],
         "range": [
          0,
          200
         ]
        }
       }
      },
      "text/html": [
       "<div>                            <div id=\"0b0f50cb-c756-4e77-a1e0-140f34f0b27e\" class=\"plotly-graph-div\" style=\"height:525px; width:100%;\"></div>            <script type=\"text/javascript\">                require([\"plotly\"], function(Plotly) {                    window.PLOTLYENV=window.PLOTLYENV || {};                                    if (document.getElementById(\"0b0f50cb-c756-4e77-a1e0-140f34f0b27e\")) {                    Plotly.newPlot(                        \"0b0f50cb-c756-4e77-a1e0-140f34f0b27e\",                        [{\"alignmentgroup\":\"True\",\"hovertemplate\":\"labels_7=%{x}<br>count=%{y}<extra></extra>\",\"legendgroup\":\"\",\"marker\":{\"color\":\"#636efa\",\"pattern\":{\"shape\":\"\"}},\"name\":\"\",\"offsetgroup\":\"\",\"orientation\":\"v\",\"showlegend\":false,\"textposition\":\"auto\",\"x\":[\"very negative\",\"very negative\",\"slightly negative\",\"positive\",\"very negative\",\"very negative\",\"very negative\",\"very negative\",\"Neutral\",\"slightly positive\",\"slightly positive\",\"very negative\",\"very negative\",\"slightly positive\",\"very negative\",\"negative\",\"negative\",\"very negative\",\"negative\",\"negative\",\"slightly negative\",\"very negative\",\"slightly negative\",\"negative\",\"Neutral\",\"very negative\",\"negative\",\"slightly negative\",\"slightly positive\",\"slightly positive\",\"negative\",\"very negative\",\"negative\",\"very positive\",\"very positive\",\"slightly positive\",\"slightly positive\",\"very positive\",\"very positive\",\"very positive\",\"slightly negative\",\"Neutral\",\"positive\",\"positive\",\"slightly negative\",\"negative\",\"very negative\",\"very negative\",\"very negative\",\"very negative\",\"very positive\",\"slightly negative\",\"positive\",\"positive\",\"slightly positive\",\"slightly positive\",\"positive\",\"very negative\",\"slightly negative\",\"slightly negative\",\"very positive\",\"positive\",\"slightly negative\",\"very negative\",\"very positive\",\"very positive\",\"very positive\",\"Neutral\",\"very positive\",\"positive\",\"slightly negative\",\"positive\",\"Neutral\",\"slightly positive\",\"slightly positive\",\"positive\",\"slightly negative\",\"positive\",\"slightly negative\",\"slightly negative\",\"positive\",\"slightly positive\",\"positive\",\"positive\",\"positive\",\"slightly negative\",\"slightly negative\",\"Neutral\",\"slightly negative\",\"slightly negative\",\"Neutral\",\"slightly positive\",\"slightly negative\",\"slightly negative\",\"Neutral\",\"Neutral\",\"Neutral\",\"slightly negative\",\"slightly positive\",\"slightly positive\",\"very negative\",\"negative\",\"positive\",\"Neutral\",\"positive\",\"slightly negative\",\"very positive\",\"positive\",\"Neutral\",\"very positive\",\"positive\",\"Neutral\",\"very positive\",\"positive\",\"very positive\",\"positive\",\"very positive\",\"positive\",\"positive\",\"slightly positive\",\"Neutral\",\"very negative\",\"negative\",\"Neutral\",\"negative\",\"negative\",\"negative\",\"very negative\",\"very negative\",\"very negative\",\"slightly negative\",\"slightly negative\",\"positive\",\"negative\",\"negative\",\"negative\",\"negative\",\"negative\",\"negative\",\"very negative\",\"slightly positive\",\"very negative\",\"slightly negative\",\"very negative\",\"very negative\",\"negative\",\"very negative\",\"very negative\",\"slightly negative\",\"negative\",\"very negative\",\"negative\",\"slightly negative\",\"very negative\",\"very negative\",\"negative\",\"very negative\",\"very negative\",\"very negative\",\"very negative\",\"slightly negative\",\"very negative\",\"negative\",\"very negative\",\"Neutral\",\"negative\",\"slightly negative\",\"Neutral\",\"slightly positive\",\"slightly positive\",\"negative\",\"slightly positive\",\"slightly negative\",\"slightly positive\",\"slightly negative\",\"negative\",\"slightly negative\",\"negative\",\"slightly positive\",\"Neutral\",\"slightly positive\",\"negative\",\"slightly positive\",\"Neutral\",\"Neutral\",\"slightly negative\",\"slightly negative\",\"very negative\",\"negative\",\"negative\",\"slightly positive\",\"very negative\",\"slightly negative\",\"Neutral\",\"very negative\",\"Neutral\",\"positive\",\"slightly negative\",\"slightly negative\",\"slightly positive\",\"slightly positive\",\"very negative\",\"negative\",\"very negative\",\"slightly negative\",\"negative\",\"very negative\",\"negative\",\"slightly negative\",\"negative\",\"negative\",\"slightly positive\",\"slightly negative\",\"slightly negative\",\"negative\",\"slightly negative\",\"slightly negative\",\"Neutral\",\"positive\",\"positive\",\"positive\",\"very negative\",\"negative\",\"positive\",\"positive\",\"slightly positive\",\"negative\",\"slightly negative\",\"Neutral\",\"positive\",\"slightly positive\",\"slightly positive\",\"slightly positive\",\"positive\",\"Neutral\",\"slightly positive\",\"very negative\",\"slightly positive\",\"Neutral\",\"slightly negative\",\"positive\",\"slightly negative\",\"slightly negative\",\"Neutral\",\"very negative\",\"very negative\",\"very negative\",\"Neutral\",\"Neutral\",\"slightly negative\",\"slightly negative\",\"Neutral\",\"Neutral\",\"Neutral\",\"Neutral\",\"Neutral\",\"Neutral\",\"very negative\",\"slightly positive\",\"slightly negative\",\"negative\",\"Neutral\",\"Neutral\",\"negative\",\"slightly negative\",\"Neutral\",\"Neutral\",\"slightly positive\",\"positive\",\"negative\",\"slightly negative\",\"slightly positive\",\"Neutral\",\"positive\",\"slightly negative\",\"very positive\",\"very positive\",\"Neutral\",\"negative\",\"slightly negative\",\"negative\",\"slightly negative\",\"positive\",\"very positive\",\"very positive\",\"very positive\",\"slightly positive\",\"slightly negative\",\"slightly positive\",\"positive\",\"slightly positive\",\"very negative\",\"very negative\",\"very positive\",\"very negative\",\"slightly negative\",\"very negative\",\"slightly positive\",\"slightly negative\",\"negative\",\"negative\",\"negative\",\"negative\",\"slightly positive\",\"slightly positive\",\"slightly positive\",\"negative\",\"positive\",\"very negative\",\"negative\",\"positive\",\"positive\",\"slightly positive\",\"Neutral\",\"slightly positive\",\"negative\",\"slightly negative\",\"Neutral\",\"slightly positive\",\"Neutral\",\"slightly negative\",\"Neutral\",\"Neutral\",\"Neutral\",\"Neutral\",\"slightly positive\",\"Neutral\",\"positive\",\"slightly negative\",\"positive\",\"slightly negative\",\"positive\",\"slightly negative\",\"Neutral\",\"very negative\",\"very negative\",\"slightly negative\",\"slightly negative\",\"negative\",\"very negative\",\"very positive\",\"very negative\",\"very negative\",\"negative\",\"negative\",\"very positive\",\"very negative\",\"very negative\",\"Neutral\",\"negative\",\"negative\",\"negative\",\"negative\",\"positive\",\"very positive\",\"very negative\",\"negative\",\"very negative\",\"very negative\",\"very negative\",\"slightly positive\",\"slightly negative\",\"slightly positive\",\"very negative\",\"negative\",\"very negative\",\"negative\",\"Neutral\",\"slightly negative\",\"very negative\",\"negative\",\"slightly positive\",\"Neutral\",\"negative\",\"slightly positive\",\"negative\",\"Neutral\",\"negative\",\"slightly negative\",\"positive\",\"very negative\",\"slightly negative\",\"Neutral\",\"negative\",\"slightly negative\",\"Neutral\",\"slightly negative\",\"positive\",\"positive\",\"slightly positive\",\"negative\",\"Neutral\",\"negative\",\"positive\",\"positive\",\"positive\",\"slightly positive\",\"slightly positive\",\"slightly negative\",\"negative\",\"negative\",\"Neutral\",\"slightly positive\",\"slightly positive\",\"negative\",\"slightly positive\",\"slightly positive\",\"very positive\",\"slightly positive\",\"slightly positive\",\"very negative\",\"negative\",\"slightly negative\",\"very negative\",\"negative\",\"negative\",\"slightly positive\",\"negative\",\"Neutral\",\"negative\",\"slightly positive\",\"negative\",\"negative\",\"negative\",\"negative\",\"negative\",\"positive\",\"very positive\",\"very positive\",\"slightly negative\",\"negative\",\"positive\",\"slightly negative\",\"very negative\",\"negative\",\"negative\",\"positive\",\"positive\",\"slightly positive\",\"slightly negative\",\"very negative\",\"negative\",\"positive\",\"slightly positive\",\"positive\",\"slightly negative\",\"slightly positive\",\"very negative\",\"very positive\",\"slightly negative\",\"very negative\",\"very negative\",\"very negative\",\"Neutral\",\"negative\",\"negative\",\"very negative\",\"very negative\",\"slightly negative\",\"negative\",\"very negative\",\"negative\",\"negative\",\"negative\",\"very negative\",\"negative\",\"slightly positive\",\"very negative\",\"very negative\",\"very positive\",\"very positive\",\"very positive\",\"positive\",\"Neutral\",\"slightly positive\",\"negative\",\"slightly negative\",\"slightly negative\",\"negative\",\"negative\",\"very negative\",\"negative\",\"very negative\",\"negative\",\"negative\",\"Neutral\",\"very negative\",\"Neutral\",\"negative\",\"slightly positive\",\"very negative\",\"very negative\",\"positive\",\"positive\",\"negative\",\"negative\",\"Neutral\",\"very negative\",\"slightly negative\",\"negative\",\"negative\",\"Neutral\",\"slightly positive\",\"Neutral\",\"negative\",\"negative\",\"slightly negative\",\"slightly negative\",\"negative\",\"slightly negative\",\"negative\",\"slightly negative\",\"negative\",\"slightly negative\",\"very negative\",\"slightly negative\",\"negative\",\"Neutral\",\"negative\",\"negative\",\"Neutral\",\"Neutral\",\"slightly negative\",\"very positive\",\"Neutral\",\"slightly positive\",\"Neutral\",\"positive\",\"slightly positive\",\"positive\",\"positive\",\"positive\",\"very positive\",\"positive\",\"Neutral\",\"positive\",\"positive\",\"very positive\",\"Neutral\",\"positive\",\"very positive\",\"positive\",\"very positive\",\"slightly positive\",\"slightly positive\",\"positive\",\"negative\",\"very positive\",\"negative\",\"positive\",\"Neutral\",\"Neutral\",\"very negative\",\"very positive\",\"positive\",\"positive\",\"positive\",\"very positive\",\"very positive\",\"Neutral\",\"positive\",\"Neutral\",\"Neutral\",\"very positive\",\"positive\",\"very positive\",\"Neutral\",\"positive\",\"very positive\",\"slightly positive\",\"very positive\",\"slightly positive\",\"slightly positive\",\"slightly positive\",\"slightly negative\",\"Neutral\",\"slightly positive\",\"Neutral\",\"positive\",\"slightly negative\",\"Neutral\",\"negative\",\"negative\",\"Neutral\",\"positive\",\"positive\",\"slightly negative\",\"positive\",\"Neutral\",\"positive\",\"slightly negative\",\"slightly negative\",\"Neutral\",\"positive\",\"positive\",\"positive\",\"positive\",\"positive\",\"positive\",\"Neutral\",\"very positive\",\"positive\",\"slightly positive\",\"slightly positive\",\"slightly positive\",\"slightly positive\",\"slightly negative\",\"slightly positive\",\"slightly negative\",\"Neutral\",\"negative\",\"slightly negative\",\"slightly negative\",\"negative\",\"slightly negative\",\"negative\",\"very positive\",\"slightly positive\",\"slightly positive\",\"Neutral\",\"negative\",\"negative\",\"slightly negative\",\"Neutral\",\"positive\",\"very positive\",\"slightly negative\",\"negative\",\"slightly negative\",\"negative\",\"Neutral\",\"Neutral\",\"Neutral\",\"negative\",\"Neutral\",\"negative\",\"negative\",\"positive\",\"slightly negative\",\"negative\",\"slightly negative\",\"negative\",\"negative\",\"slightly negative\",\"very negative\",\"negative\",\"slightly positive\",\"negative\",\"negative\",\"slightly negative\",\"negative\",\"positive\",\"negative\",\"negative\",\"very negative\",\"slightly positive\",\"slightly positive\",\"slightly negative\",\"slightly negative\",\"slightly positive\",\"very negative\",\"negative\",\"slightly negative\",\"negative\",\"negative\",\"positive\",\"positive\",\"slightly positive\",\"slightly negative\",\"negative\",\"slightly positive\",\"slightly positive\",\"slightly negative\",\"Neutral\",\"slightly positive\",\"Neutral\",\"slightly positive\",\"positive\",\"slightly negative\",\"negative\",\"slightly negative\",\"slightly positive\",\"Neutral\",\"slightly positive\",\"slightly positive\"],\"xaxis\":\"x\",\"y\":[1,1,1,1,1,1,1,1,1,1,1,1,1,1,1,1,1,1,1,1,1,1,1,1,1,1,1,1,1,1,1,1,1,1,1,1,1,1,1,1,1,1,1,1,1,1,1,1,1,1,1,1,1,1,1,1,1,1,1,1,1,1,1,1,1,1,1,1,1,1,1,1,1,1,1,1,1,1,1,1,1,1,1,1,1,1,1,1,1,1,1,1,1,1,1,1,1,1,1,1,1,1,1,1,1,1,1,1,1,1,1,1,1,1,1,1,1,1,1,1,1,1,1,1,1,1,1,1,1,1,1,1,1,1,1,1,1,1,1,1,1,1,1,1,1,1,1,1,1,1,1,1,1,1,1,1,1,1,1,1,1,1,1,1,1,1,1,1,1,1,1,1,1,1,1,1,1,1,1,1,1,1,1,1,1,1,1,1,1,1,1,1,1,1,1,1,1,1,1,1,1,1,1,1,1,1,1,1,1,1,1,1,1,1,1,1,1,1,1,1,1,1,1,1,1,1,1,1,1,1,1,1,1,1,1,1,1,1,1,1,1,1,1,1,1,1,1,1,1,1,1,1,1,1,1,1,1,1,1,1,1,1,1,1,1,1,1,1,1,1,1,1,1,1,1,1,1,1,1,1,1,1,1,1,1,1,1,1,1,1,1,1,1,1,1,1,1,1,1,1,1,1,1,1,1,1,1,1,1,1,1,1,1,1,1,1,1,1,1,1,1,1,1,1,1,1,1,1,1,1,1,1,1,1,1,1,1,1,1,1,1,1,1,1,1,1,1,1,1,1,1,1,1,1,1,1,1,1,1,1,1,1,1,1,1,1,1,1,1,1,1,1,1,1,1,1,1,1,1,1,1,1,1,1,1,1,1,1,1,1,1,1,1,1,1,1,1,1,1,1,1,1,1,1,1,1,1,1,1,1,1,1,1,1,1,1,1,1,1,1,1,1,1,1,1,1,1,1,1,1,1,1,1,1,1,1,1,1,1,1,1,1,1,1,1,1,1,1,1,1,1,1,1,1,1,1,1,1,1,1,1,1,1,1,1,1,1,1,1,1,1,1,1,1,1,1,1,1,1,1,1,1,1,1,1,1,1,1,1,1,1,1,1,1,1,1,1,1,1,1,1,1,1,1,1,1,1,1,1,1,1,1,1,1,1,1,1,1,1,1,1,1,1,1,1,1,1,1,1,1,1,1,1,1,1,1,1,1,1,1,1,1,1,1,1,1,1,1,1,1,1,1,1,1,1,1,1,1,1,1,1,1,1,1,1,1,1,1,1,1,1,1,1,1,1,1,1,1,1,1,1,1,1,1,1,1,1,1,1,1,1,1,1,1,1,1,1,1,1,1,1,1,1,1,1,1,1,1,1,1,1,1,1,1,1,1,1,1,1,1,1,1,1,1,1,1,1,1,1,1,1,1,1,1,1,1,1,1,1,1,1,1,1,1,1,1,1,1,1,1,1,1,1,1,1,1,1,1,1,1,1,1,1,1,1,1,1,1,1,1,1,1,1,1,1,1,1,1,1,1,1,1,1,1,1],\"yaxis\":\"y\",\"type\":\"bar\"},{\"alignmentgroup\":\"True\",\"hovertemplate\":\"preds_7=%{x}<br>count=%{y}<extra></extra>\",\"legendgroup\":\"\",\"marker\":{\"color\":\"#636efa\",\"pattern\":{\"shape\":\"\"}},\"name\":\"\",\"offsetgroup\":\"\",\"orientation\":\"v\",\"showlegend\":false,\"textposition\":\"auto\",\"x\":[\"slightly negative\",\"negative\",\"slightly negative\",\"slightly positive\",\"slightly negative\",\"negative\",\"very negative\",\"positive\",\"positive\",\"Neutral\",\"slightly positive\",\"negative\",\"slightly positive\",\"slightly positive\",\"negative\",\"slightly negative\",\"slightly positive\",\"negative\",\"slightly positive\",\"slightly negative\",\"Neutral\",\"slightly negative\",\"slightly negative\",\"negative\",\"slightly positive\",\"slightly negative\",\"Neutral\",\"slightly positive\",\"positive\",\"positive\",\"slightly negative\",\"slightly negative\",\"negative\",\"slightly negative\",\"slightly positive\",\"Neutral\",\"slightly positive\",\"negative\",\"very positive\",\"very positive\",\"negative\",\"slightly positive\",\"positive\",\"positive\",\"Neutral\",\"negative\",\"negative\",\"slightly negative\",\"slightly negative\",\"slightly negative\",\"Neutral\",\"slightly negative\",\"very positive\",\"positive\",\"positive\",\"slightly positive\",\"positive\",\"negative\",\"very positive\",\"slightly negative\",\"negative\",\"positive\",\"slightly negative\",\"negative\",\"positive\",\"very positive\",\"very positive\",\"Neutral\",\"very positive\",\"very positive\",\"Neutral\",\"very positive\",\"slightly negative\",\"Neutral\",\"positive\",\"positive\",\"negative\",\"positive\",\"Neutral\",\"slightly negative\",\"Neutral\",\"positive\",\"very positive\",\"Neutral\",\"very positive\",\"negative\",\"slightly negative\",\"slightly negative\",\"negative\",\"slightly negative\",\"negative\",\"Neutral\",\"Neutral\",\"negative\",\"Neutral\",\"Neutral\",\"slightly negative\",\"Neutral\",\"Neutral\",\"slightly negative\",\"slightly negative\",\"negative\",\"positive\",\"slightly negative\",\"positive\",\"slightly negative\",\"Neutral\",\"very positive\",\"Neutral\",\"very positive\",\"slightly positive\",\"slightly positive\",\"very positive\",\"very positive\",\"positive\",\"slightly positive\",\"very positive\",\"very positive\",\"slightly positive\",\"Neutral\",\"positive\",\"very negative\",\"negative\",\"slightly positive\",\"negative\",\"slightly negative\",\"slightly negative\",\"Neutral\",\"negative\",\"slightly negative\",\"slightly negative\",\"slightly negative\",\"positive\",\"negative\",\"negative\",\"slightly negative\",\"negative\",\"negative\",\"negative\",\"slightly negative\",\"slightly positive\",\"negative\",\"negative\",\"very negative\",\"negative\",\"negative\",\"negative\",\"negative\",\"slightly negative\",\"negative\",\"very negative\",\"slightly negative\",\"Neutral\",\"very negative\",\"negative\",\"negative\",\"negative\",\"negative\",\"negative\",\"very negative\",\"negative\",\"very negative\",\"slightly negative\",\"positive\",\"slightly positive\",\"Neutral\",\"negative\",\"slightly positive\",\"slightly negative\",\"Neutral\",\"negative\",\"Neutral\",\"slightly negative\",\"positive\",\"Neutral\",\"Neutral\",\"slightly positive\",\"slightly positive\",\"slightly positive\",\"slightly negative\",\"Neutral\",\"negative\",\"slightly positive\",\"slightly positive\",\"slightly positive\",\"slightly negative\",\"negative\",\"negative\",\"negative\",\"slightly negative\",\"slightly negative\",\"slightly negative\",\"negative\",\"slightly negative\",\"negative\",\"negative\",\"positive\",\"slightly negative\",\"slightly negative\",\"positive\",\"slightly positive\",\"negative\",\"negative\",\"negative\",\"negative\",\"slightly negative\",\"negative\",\"slightly negative\",\"very negative\",\"negative\",\"Neutral\",\"slightly positive\",\"Neutral\",\"positive\",\"Neutral\",\"slightly negative\",\"negative\",\"Neutral\",\"positive\",\"slightly positive\",\"positive\",\"slightly negative\",\"very negative\",\"slightly positive\",\"positive\",\"positive\",\"Neutral\",\"negative\",\"slightly positive\",\"Neutral\",\"Neutral\",\"Neutral\",\"positive\",\"positive\",\"negative\",\"positive\",\"slightly negative\",\"Neutral\",\"negative\",\"slightly positive\",\"positive\",\"negative\",\"negative\",\"Neutral\",\"slightly negative\",\"slightly negative\",\"very negative\",\"Neutral\",\"slightly negative\",\"slightly negative\",\"negative\",\"Neutral\",\"Neutral\",\"Neutral\",\"Neutral\",\"Neutral\",\"Neutral\",\"Neutral\",\"slightly positive\",\"slightly negative\",\"negative\",\"slightly negative\",\"positive\",\"negative\",\"Neutral\",\"slightly positive\",\"slightly negative\",\"Neutral\",\"positive\",\"negative\",\"slightly negative\",\"slightly positive\",\"Neutral\",\"very positive\",\"slightly positive\",\"very positive\",\"very positive\",\"slightly positive\",\"slightly positive\",\"Neutral\",\"negative\",\"slightly negative\",\"very positive\",\"very positive\",\"positive\",\"very positive\",\"slightly positive\",\"Neutral\",\"slightly positive\",\"Neutral\",\"positive\",\"very negative\",\"very negative\",\"slightly negative\",\"very negative\",\"Neutral\",\"negative\",\"slightly positive\",\"slightly negative\",\"negative\",\"slightly negative\",\"negative\",\"Neutral\",\"Neutral\",\"positive\",\"positive\",\"negative\",\"positive\",\"very negative\",\"slightly negative\",\"very positive\",\"slightly positive\",\"slightly positive\",\"Neutral\",\"slightly negative\",\"slightly negative\",\"very positive\",\"Neutral\",\"positive\",\"positive\",\"Neutral\",\"Neutral\",\"negative\",\"positive\",\"positive\",\"slightly positive\",\"Neutral\",\"positive\",\"Neutral\",\"positive\",\"slightly negative\",\"positive\",\"slightly negative\",\"positive\",\"negative\",\"negative\",\"negative\",\"Neutral\",\"negative\",\"slightly negative\",\"very positive\",\"very negative\",\"negative\",\"negative\",\"very negative\",\"very positive\",\"very negative\",\"very negative\",\"negative\",\"Neutral\",\"slightly negative\",\"negative\",\"negative\",\"positive\",\"very positive\",\"Neutral\",\"very negative\",\"negative\",\"negative\",\"negative\",\"positive\",\"slightly negative\",\"slightly positive\",\"slightly positive\",\"slightly negative\",\"slightly negative\",\"slightly negative\",\"Neutral\",\"slightly negative\",\"slightly negative\",\"slightly negative\",\"positive\",\"slightly positive\",\"slightly positive\",\"very positive\",\"negative\",\"Neutral\",\"negative\",\"slightly negative\",\"very positive\",\"slightly negative\",\"slightly negative\",\"slightly negative\",\"slightly negative\",\"Neutral\",\"slightly negative\",\"Neutral\",\"positive\",\"slightly positive\",\"very positive\",\"slightly positive\",\"Neutral\",\"negative\",\"positive\",\"very positive\",\"positive\",\"positive\",\"Neutral\",\"slightly negative\",\"slightly negative\",\"negative\",\"negative\",\"very positive\",\"very positive\",\"negative\",\"positive\",\"very positive\",\"very positive\",\"Neutral\",\"slightly positive\",\"slightly negative\",\"Neutral\",\"Neutral\",\"Neutral\",\"negative\",\"Neutral\",\"slightly positive\",\"very negative\",\"Neutral\",\"negative\",\"slightly negative\",\"slightly positive\",\"Neutral\",\"negative\",\"Neutral\",\"slightly negative\",\"very positive\",\"positive\",\"very positive\",\"slightly negative\",\"negative\",\"positive\",\"Neutral\",\"negative\",\"slightly positive\",\"slightly negative\",\"positive\",\"Neutral\",\"positive\",\"Neutral\",\"Neutral\",\"slightly positive\",\"positive\",\"slightly positive\",\"slightly positive\",\"very positive\",\"positive\",\"very negative\",\"positive\",\"Neutral\",\"very negative\",\"negative\",\"negative\",\"Neutral\",\"very negative\",\"negative\",\"slightly negative\",\"negative\",\"Neutral\",\"negative\",\"negative\",\"negative\",\"slightly negative\",\"slightly negative\",\"negative\",\"negative\",\"positive\",\"slightly negative\",\"negative\",\"very positive\",\"positive\",\"positive\",\"Neutral\",\"positive\",\"slightly positive\",\"negative\",\"slightly negative\",\"Neutral\",\"slightly negative\",\"slightly negative\",\"very negative\",\"Neutral\",\"slightly negative\",\"positive\",\"slightly negative\",\"positive\",\"very negative\",\"Neutral\",\"negative\",\"positive\",\"very negative\",\"negative\",\"positive\",\"positive\",\"slightly negative\",\"slightly negative\",\"slightly negative\",\"very negative\",\"Neutral\",\"slightly positive\",\"slightly negative\",\"slightly positive\",\"positive\",\"slightly positive\",\"very negative\",\"negative\",\"negative\",\"slightly negative\",\"slightly negative\",\"slightly negative\",\"negative\",\"Neutral\",\"Neutral\",\"Neutral\",\"negative\",\"Neutral\",\"slightly negative\",\"Neutral\",\"slightly negative\",\"Neutral\",\"slightly negative\",\"slightly positive\",\"slightly negative\",\"slightly positive\",\"positive\",\"slightly negative\",\"slightly negative\",\"very positive\",\"positive\",\"Neutral\",\"positive\",\"positive\",\"slightly positive\",\"slightly positive\",\"negative\",\"Neutral\",\"positive\",\"very positive\",\"slightly positive\",\"positive\",\"very positive\",\"slightly negative\",\"slightly positive\",\"positive\",\"negative\",\"slightly positive\",\"slightly negative\",\"very positive\",\"Neutral\",\"positive\",\"positive\",\"Neutral\",\"negative\",\"positive\",\"positive\",\"positive\",\"positive\",\"positive\",\"positive\",\"Neutral\",\"slightly positive\",\"Neutral\",\"Neutral\",\"positive\",\"very positive\",\"positive\",\"slightly positive\",\"positive\",\"very positive\",\"positive\",\"positive\",\"Neutral\",\"slightly positive\",\"slightly positive\",\"slightly negative\",\"slightly positive\",\"negative\",\"positive\",\"Neutral\",\"slightly negative\",\"Neutral\",\"negative\",\"negative\",\"slightly negative\",\"positive\",\"positive\",\"slightly negative\",\"Neutral\",\"slightly negative\",\"positive\",\"negative\",\"Neutral\",\"slightly positive\",\"positive\",\"positive\",\"positive\",\"positive\",\"slightly positive\",\"slightly positive\",\"Neutral\",\"very positive\",\"very positive\",\"slightly positive\",\"positive\",\"slightly negative\",\"Neutral\",\"Neutral\",\"slightly negative\",\"very negative\",\"Neutral\",\"negative\",\"slightly positive\",\"slightly negative\",\"Neutral\",\"very negative\",\"slightly negative\",\"very positive\",\"positive\",\"Neutral\",\"Neutral\",\"negative\",\"negative\",\"Neutral\",\"Neutral\",\"positive\",\"positive\",\"slightly negative\",\"slightly negative\",\"negative\",\"negative\",\"slightly negative\",\"slightly negative\",\"slightly negative\",\"negative\",\"slightly negative\",\"negative\",\"negative\",\"slightly positive\",\"slightly negative\",\"negative\",\"negative\",\"negative\",\"negative\",\"Neutral\",\"very negative\",\"slightly negative\",\"positive\",\"Neutral\",\"very negative\",\"slightly negative\",\"negative\",\"very positive\",\"negative\",\"negative\",\"negative\",\"slightly positive\",\"slightly positive\",\"negative\",\"slightly negative\",\"slightly positive\",\"very negative\",\"slightly negative\",\"negative\",\"very negative\",\"negative\",\"positive\",\"positive\",\"positive\",\"Neutral\",\"Neutral\",\"Neutral\",\"slightly negative\",\"Neutral\",\"Neutral\",\"slightly positive\",\"slightly positive\",\"slightly positive\",\"positive\",\"negative\",\"negative\",\"slightly negative\",\"slightly positive\",\"slightly positive\",\"positive\",\"positive\"],\"xaxis\":\"x2\",\"y\":[1,1,1,1,1,1,1,1,1,1,1,1,1,1,1,1,1,1,1,1,1,1,1,1,1,1,1,1,1,1,1,1,1,1,1,1,1,1,1,1,1,1,1,1,1,1,1,1,1,1,1,1,1,1,1,1,1,1,1,1,1,1,1,1,1,1,1,1,1,1,1,1,1,1,1,1,1,1,1,1,1,1,1,1,1,1,1,1,1,1,1,1,1,1,1,1,1,1,1,1,1,1,1,1,1,1,1,1,1,1,1,1,1,1,1,1,1,1,1,1,1,1,1,1,1,1,1,1,1,1,1,1,1,1,1,1,1,1,1,1,1,1,1,1,1,1,1,1,1,1,1,1,1,1,1,1,1,1,1,1,1,1,1,1,1,1,1,1,1,1,1,1,1,1,1,1,1,1,1,1,1,1,1,1,1,1,1,1,1,1,1,1,1,1,1,1,1,1,1,1,1,1,1,1,1,1,1,1,1,1,1,1,1,1,1,1,1,1,1,1,1,1,1,1,1,1,1,1,1,1,1,1,1,1,1,1,1,1,1,1,1,1,1,1,1,1,1,1,1,1,1,1,1,1,1,1,1,1,1,1,1,1,1,1,1,1,1,1,1,1,1,1,1,1,1,1,1,1,1,1,1,1,1,1,1,1,1,1,1,1,1,1,1,1,1,1,1,1,1,1,1,1,1,1,1,1,1,1,1,1,1,1,1,1,1,1,1,1,1,1,1,1,1,1,1,1,1,1,1,1,1,1,1,1,1,1,1,1,1,1,1,1,1,1,1,1,1,1,1,1,1,1,1,1,1,1,1,1,1,1,1,1,1,1,1,1,1,1,1,1,1,1,1,1,1,1,1,1,1,1,1,1,1,1,1,1,1,1,1,1,1,1,1,1,1,1,1,1,1,1,1,1,1,1,1,1,1,1,1,1,1,1,1,1,1,1,1,1,1,1,1,1,1,1,1,1,1,1,1,1,1,1,1,1,1,1,1,1,1,1,1,1,1,1,1,1,1,1,1,1,1,1,1,1,1,1,1,1,1,1,1,1,1,1,1,1,1,1,1,1,1,1,1,1,1,1,1,1,1,1,1,1,1,1,1,1,1,1,1,1,1,1,1,1,1,1,1,1,1,1,1,1,1,1,1,1,1,1,1,1,1,1,1,1,1,1,1,1,1,1,1,1,1,1,1,1,1,1,1,1,1,1,1,1,1,1,1,1,1,1,1,1,1,1,1,1,1,1,1,1,1,1,1,1,1,1,1,1,1,1,1,1,1,1,1,1,1,1,1,1,1,1,1,1,1,1,1,1,1,1,1,1,1,1,1,1,1,1,1,1,1,1,1,1,1,1,1,1,1,1,1,1,1,1,1,1,1,1,1,1,1,1,1,1,1,1,1,1,1,1,1,1,1,1,1,1,1,1,1,1,1,1,1,1,1,1,1,1,1,1,1,1,1,1,1,1,1,1,1,1,1,1,1,1,1,1,1,1,1,1,1,1,1,1,1,1,1,1,1,1,1,1,1,1,1,1,1,1,1,1,1,1,1,1,1],\"yaxis\":\"y2\",\"type\":\"bar\"}],                        {\"template\":{\"data\":{\"histogram2dcontour\":[{\"type\":\"histogram2dcontour\",\"colorbar\":{\"outlinewidth\":0,\"ticks\":\"\"},\"colorscale\":[[0.0,\"#0d0887\"],[0.1111111111111111,\"#46039f\"],[0.2222222222222222,\"#7201a8\"],[0.3333333333333333,\"#9c179e\"],[0.4444444444444444,\"#bd3786\"],[0.5555555555555556,\"#d8576b\"],[0.6666666666666666,\"#ed7953\"],[0.7777777777777778,\"#fb9f3a\"],[0.8888888888888888,\"#fdca26\"],[1.0,\"#f0f921\"]]}],\"choropleth\":[{\"type\":\"choropleth\",\"colorbar\":{\"outlinewidth\":0,\"ticks\":\"\"}}],\"histogram2d\":[{\"type\":\"histogram2d\",\"colorbar\":{\"outlinewidth\":0,\"ticks\":\"\"},\"colorscale\":[[0.0,\"#0d0887\"],[0.1111111111111111,\"#46039f\"],[0.2222222222222222,\"#7201a8\"],[0.3333333333333333,\"#9c179e\"],[0.4444444444444444,\"#bd3786\"],[0.5555555555555556,\"#d8576b\"],[0.6666666666666666,\"#ed7953\"],[0.7777777777777778,\"#fb9f3a\"],[0.8888888888888888,\"#fdca26\"],[1.0,\"#f0f921\"]]}],\"heatmap\":[{\"type\":\"heatmap\",\"colorbar\":{\"outlinewidth\":0,\"ticks\":\"\"},\"colorscale\":[[0.0,\"#0d0887\"],[0.1111111111111111,\"#46039f\"],[0.2222222222222222,\"#7201a8\"],[0.3333333333333333,\"#9c179e\"],[0.4444444444444444,\"#bd3786\"],[0.5555555555555556,\"#d8576b\"],[0.6666666666666666,\"#ed7953\"],[0.7777777777777778,\"#fb9f3a\"],[0.8888888888888888,\"#fdca26\"],[1.0,\"#f0f921\"]]}],\"heatmapgl\":[{\"type\":\"heatmapgl\",\"colorbar\":{\"outlinewidth\":0,\"ticks\":\"\"},\"colorscale\":[[0.0,\"#0d0887\"],[0.1111111111111111,\"#46039f\"],[0.2222222222222222,\"#7201a8\"],[0.3333333333333333,\"#9c179e\"],[0.4444444444444444,\"#bd3786\"],[0.5555555555555556,\"#d8576b\"],[0.6666666666666666,\"#ed7953\"],[0.7777777777777778,\"#fb9f3a\"],[0.8888888888888888,\"#fdca26\"],[1.0,\"#f0f921\"]]}],\"contourcarpet\":[{\"type\":\"contourcarpet\",\"colorbar\":{\"outlinewidth\":0,\"ticks\":\"\"}}],\"contour\":[{\"type\":\"contour\",\"colorbar\":{\"outlinewidth\":0,\"ticks\":\"\"},\"colorscale\":[[0.0,\"#0d0887\"],[0.1111111111111111,\"#46039f\"],[0.2222222222222222,\"#7201a8\"],[0.3333333333333333,\"#9c179e\"],[0.4444444444444444,\"#bd3786\"],[0.5555555555555556,\"#d8576b\"],[0.6666666666666666,\"#ed7953\"],[0.7777777777777778,\"#fb9f3a\"],[0.8888888888888888,\"#fdca26\"],[1.0,\"#f0f921\"]]}],\"surface\":[{\"type\":\"surface\",\"colorbar\":{\"outlinewidth\":0,\"ticks\":\"\"},\"colorscale\":[[0.0,\"#0d0887\"],[0.1111111111111111,\"#46039f\"],[0.2222222222222222,\"#7201a8\"],[0.3333333333333333,\"#9c179e\"],[0.4444444444444444,\"#bd3786\"],[0.5555555555555556,\"#d8576b\"],[0.6666666666666666,\"#ed7953\"],[0.7777777777777778,\"#fb9f3a\"],[0.8888888888888888,\"#fdca26\"],[1.0,\"#f0f921\"]]}],\"mesh3d\":[{\"type\":\"mesh3d\",\"colorbar\":{\"outlinewidth\":0,\"ticks\":\"\"}}],\"scatter\":[{\"fillpattern\":{\"fillmode\":\"overlay\",\"size\":10,\"solidity\":0.2},\"type\":\"scatter\"}],\"parcoords\":[{\"type\":\"parcoords\",\"line\":{\"colorbar\":{\"outlinewidth\":0,\"ticks\":\"\"}}}],\"scatterpolargl\":[{\"type\":\"scatterpolargl\",\"marker\":{\"colorbar\":{\"outlinewidth\":0,\"ticks\":\"\"}}}],\"bar\":[{\"error_x\":{\"color\":\"#2a3f5f\"},\"error_y\":{\"color\":\"#2a3f5f\"},\"marker\":{\"line\":{\"color\":\"#E5ECF6\",\"width\":0.5},\"pattern\":{\"fillmode\":\"overlay\",\"size\":10,\"solidity\":0.2}},\"type\":\"bar\"}],\"scattergeo\":[{\"type\":\"scattergeo\",\"marker\":{\"colorbar\":{\"outlinewidth\":0,\"ticks\":\"\"}}}],\"scatterpolar\":[{\"type\":\"scatterpolar\",\"marker\":{\"colorbar\":{\"outlinewidth\":0,\"ticks\":\"\"}}}],\"histogram\":[{\"marker\":{\"pattern\":{\"fillmode\":\"overlay\",\"size\":10,\"solidity\":0.2}},\"type\":\"histogram\"}],\"scattergl\":[{\"type\":\"scattergl\",\"marker\":{\"colorbar\":{\"outlinewidth\":0,\"ticks\":\"\"}}}],\"scatter3d\":[{\"type\":\"scatter3d\",\"line\":{\"colorbar\":{\"outlinewidth\":0,\"ticks\":\"\"}},\"marker\":{\"colorbar\":{\"outlinewidth\":0,\"ticks\":\"\"}}}],\"scattermapbox\":[{\"type\":\"scattermapbox\",\"marker\":{\"colorbar\":{\"outlinewidth\":0,\"ticks\":\"\"}}}],\"scatterternary\":[{\"type\":\"scatterternary\",\"marker\":{\"colorbar\":{\"outlinewidth\":0,\"ticks\":\"\"}}}],\"scattercarpet\":[{\"type\":\"scattercarpet\",\"marker\":{\"colorbar\":{\"outlinewidth\":0,\"ticks\":\"\"}}}],\"carpet\":[{\"aaxis\":{\"endlinecolor\":\"#2a3f5f\",\"gridcolor\":\"white\",\"linecolor\":\"white\",\"minorgridcolor\":\"white\",\"startlinecolor\":\"#2a3f5f\"},\"baxis\":{\"endlinecolor\":\"#2a3f5f\",\"gridcolor\":\"white\",\"linecolor\":\"white\",\"minorgridcolor\":\"white\",\"startlinecolor\":\"#2a3f5f\"},\"type\":\"carpet\"}],\"table\":[{\"cells\":{\"fill\":{\"color\":\"#EBF0F8\"},\"line\":{\"color\":\"white\"}},\"header\":{\"fill\":{\"color\":\"#C8D4E3\"},\"line\":{\"color\":\"white\"}},\"type\":\"table\"}],\"barpolar\":[{\"marker\":{\"line\":{\"color\":\"#E5ECF6\",\"width\":0.5},\"pattern\":{\"fillmode\":\"overlay\",\"size\":10,\"solidity\":0.2}},\"type\":\"barpolar\"}],\"pie\":[{\"automargin\":true,\"type\":\"pie\"}]},\"layout\":{\"autotypenumbers\":\"strict\",\"colorway\":[\"#636efa\",\"#EF553B\",\"#00cc96\",\"#ab63fa\",\"#FFA15A\",\"#19d3f3\",\"#FF6692\",\"#B6E880\",\"#FF97FF\",\"#FECB52\"],\"font\":{\"color\":\"#2a3f5f\"},\"hovermode\":\"closest\",\"hoverlabel\":{\"align\":\"left\"},\"paper_bgcolor\":\"white\",\"plot_bgcolor\":\"#E5ECF6\",\"polar\":{\"bgcolor\":\"#E5ECF6\",\"angularaxis\":{\"gridcolor\":\"white\",\"linecolor\":\"white\",\"ticks\":\"\"},\"radialaxis\":{\"gridcolor\":\"white\",\"linecolor\":\"white\",\"ticks\":\"\"}},\"ternary\":{\"bgcolor\":\"#E5ECF6\",\"aaxis\":{\"gridcolor\":\"white\",\"linecolor\":\"white\",\"ticks\":\"\"},\"baxis\":{\"gridcolor\":\"white\",\"linecolor\":\"white\",\"ticks\":\"\"},\"caxis\":{\"gridcolor\":\"white\",\"linecolor\":\"white\",\"ticks\":\"\"}},\"coloraxis\":{\"colorbar\":{\"outlinewidth\":0,\"ticks\":\"\"}},\"colorscale\":{\"sequential\":[[0.0,\"#0d0887\"],[0.1111111111111111,\"#46039f\"],[0.2222222222222222,\"#7201a8\"],[0.3333333333333333,\"#9c179e\"],[0.4444444444444444,\"#bd3786\"],[0.5555555555555556,\"#d8576b\"],[0.6666666666666666,\"#ed7953\"],[0.7777777777777778,\"#fb9f3a\"],[0.8888888888888888,\"#fdca26\"],[1.0,\"#f0f921\"]],\"sequentialminus\":[[0.0,\"#0d0887\"],[0.1111111111111111,\"#46039f\"],[0.2222222222222222,\"#7201a8\"],[0.3333333333333333,\"#9c179e\"],[0.4444444444444444,\"#bd3786\"],[0.5555555555555556,\"#d8576b\"],[0.6666666666666666,\"#ed7953\"],[0.7777777777777778,\"#fb9f3a\"],[0.8888888888888888,\"#fdca26\"],[1.0,\"#f0f921\"]],\"diverging\":[[0,\"#8e0152\"],[0.1,\"#c51b7d\"],[0.2,\"#de77ae\"],[0.3,\"#f1b6da\"],[0.4,\"#fde0ef\"],[0.5,\"#f7f7f7\"],[0.6,\"#e6f5d0\"],[0.7,\"#b8e186\"],[0.8,\"#7fbc41\"],[0.9,\"#4d9221\"],[1,\"#276419\"]]},\"xaxis\":{\"gridcolor\":\"white\",\"linecolor\":\"white\",\"ticks\":\"\",\"title\":{\"standoff\":15},\"zerolinecolor\":\"white\",\"automargin\":true,\"zerolinewidth\":2},\"yaxis\":{\"gridcolor\":\"white\",\"linecolor\":\"white\",\"ticks\":\"\",\"title\":{\"standoff\":15},\"zerolinecolor\":\"white\",\"automargin\":true,\"zerolinewidth\":2},\"scene\":{\"xaxis\":{\"backgroundcolor\":\"#E5ECF6\",\"gridcolor\":\"white\",\"linecolor\":\"white\",\"showbackground\":true,\"ticks\":\"\",\"zerolinecolor\":\"white\",\"gridwidth\":2},\"yaxis\":{\"backgroundcolor\":\"#E5ECF6\",\"gridcolor\":\"white\",\"linecolor\":\"white\",\"showbackground\":true,\"ticks\":\"\",\"zerolinecolor\":\"white\",\"gridwidth\":2},\"zaxis\":{\"backgroundcolor\":\"#E5ECF6\",\"gridcolor\":\"white\",\"linecolor\":\"white\",\"showbackground\":true,\"ticks\":\"\",\"zerolinecolor\":\"white\",\"gridwidth\":2}},\"shapedefaults\":{\"line\":{\"color\":\"#2a3f5f\"}},\"annotationdefaults\":{\"arrowcolor\":\"#2a3f5f\",\"arrowhead\":0,\"arrowwidth\":1},\"geo\":{\"bgcolor\":\"white\",\"landcolor\":\"#E5ECF6\",\"subunitcolor\":\"white\",\"showland\":true,\"showlakes\":true,\"lakecolor\":\"white\"},\"title\":{\"x\":0.05},\"mapbox\":{\"style\":\"light\"}}},\"xaxis\":{\"anchor\":\"y\",\"domain\":[0.0,0.45],\"categoryorder\":\"array\",\"categoryarray\":[\"very negative\",\"negative\",\"slightly negative\",\"Neutral\",\"slightly positive\",\"positive\",\"very positive\"]},\"yaxis\":{\"anchor\":\"x\",\"domain\":[0.0,1.0],\"range\":[0,200]},\"xaxis2\":{\"anchor\":\"y2\",\"domain\":[0.55,1.0],\"categoryorder\":\"array\",\"categoryarray\":[\"very negative\",\"negative\",\"slightly negative\",\"Neutral\",\"slightly positive\",\"positive\",\"very positive\"]},\"yaxis2\":{\"anchor\":\"x2\",\"domain\":[0.0,1.0],\"range\":[0,200]},\"annotations\":[{\"font\":{\"size\":16},\"showarrow\":false,\"text\":\"Gold\",\"x\":0.225,\"xanchor\":\"center\",\"xref\":\"paper\",\"y\":1.0,\"yanchor\":\"bottom\",\"yref\":\"paper\"},{\"font\":{\"size\":16},\"showarrow\":false,\"text\":\"MAGBERT\",\"x\":0.775,\"xanchor\":\"center\",\"xref\":\"paper\",\"y\":1.0,\"yanchor\":\"bottom\",\"yref\":\"paper\"}],\"title\":{\"text\":\"CMU-MOSI 7 Class Sentiment Intensity\"}},                        {\"responsive\": true}                    ).then(function(){\n",
       "                            \n",
       "var gd = document.getElementById('0b0f50cb-c756-4e77-a1e0-140f34f0b27e');\n",
       "var x = new MutationObserver(function (mutations, observer) {{\n",
       "        var display = window.getComputedStyle(gd).display;\n",
       "        if (!display || display === 'none') {{\n",
       "            console.log([gd, 'removed!']);\n",
       "            Plotly.purge(gd);\n",
       "            observer.disconnect();\n",
       "        }}\n",
       "}});\n",
       "\n",
       "// Listen for the removal of the full notebook cells\n",
       "var notebookContainer = gd.closest('#notebook-container');\n",
       "if (notebookContainer) {{\n",
       "    x.observe(notebookContainer, {childList: true});\n",
       "}}\n",
       "\n",
       "// Listen for the clearing of the current output cell\n",
       "var outputEl = gd.closest('.output');\n",
       "if (outputEl) {{\n",
       "    x.observe(outputEl, {childList: true});\n",
       "}}\n",
       "\n",
       "                        })                };                });            </script>        </div>"
      ]
     },
     "metadata": {},
     "output_type": "display_data"
    }
   ],
   "source": [
    "import plotly.express as px\n",
    "import plotly.subplots as sp\n",
    "import pandas as pd\n",
    "\n",
    "d = {'segmentID': segment_list, 'words': words_list, 'labels': labels, 'labels_2': labels_2, 'labels_7': labels_7, 'preds': preds, 'preds_2': preds_2, 'preds_7': preds_7}\n",
    "df = pd.DataFrame(data=d)\n",
    "order = ['very negative', 'negative', 'slightly negative', 'Neutral', 'slightly positive', 'positive', 'very positive']\n",
    "\n",
    "fig1 = px.bar(df, x=\"labels_7\")\n",
    "fig2 = px.bar(df, x=\"preds_7\")\n",
    "\n",
    "fig1_traces = []\n",
    "fig2_traces = []\n",
    "\n",
    "for trace in range(len(fig1[\"data\"])):\n",
    "    fig1_traces.append(fig1[\"data\"][trace])\n",
    "for trace in range(len(fig2[\"data\"])):\n",
    "    fig2_traces.append(fig2[\"data\"][trace])\n",
    "\n",
    "this_figure = sp.make_subplots(rows=1, cols=2, subplot_titles=(\"Gold\", \"MAGBERT\"))\n",
    "for traces in fig1_traces:\n",
    "    this_figure.append_trace(traces, row=1, col=1)\n",
    "for traces in fig2_traces:\n",
    "    this_figure.append_trace(traces, row=1, col=2)\n",
    "\n",
    "# this_figure.update_layout(height=600, width=1500, title_text=\"CMU-MOSI 7 Class Sentiment Intensity\")\n",
    "this_figure.update_layout(title_text=\"CMU-MOSI 7 Class Sentiment Intensity\")\n",
    "this_figure.update_xaxes(categoryorder='array', categoryarray= order)\n",
    "this_figure.update_yaxes(range=[0,200])\n",
    "this_figure.show()"
   ]
  },
  {
   "cell_type": "markdown",
   "metadata": {},
   "source": [
    "## Prediction Value Box Plot"
   ]
  },
  {
   "cell_type": "code",
   "execution_count": 51,
   "metadata": {},
   "outputs": [],
   "source": [
    "label_VN, label_N, label_SN, label_Neu, label_SP, label_P, label_VP = [], [], [], [], [], [], []\n",
    "\n",
    "for idx in range(len(segment_list)):\n",
    "    if labels_7[idx] == 'very negative': label_VN.append(preds[idx])\n",
    "    if labels_7[idx] == 'negative': label_N.append(preds[idx])\n",
    "    if labels_7[idx] == 'slightly negative': label_SN.append(preds[idx])\n",
    "    if labels_7[idx] == 'Neutral': label_Neu.append(preds[idx])\n",
    "    if labels_7[idx] == 'slightly positive': label_SP.append(preds[idx])\n",
    "    if labels_7[idx] == 'positive': label_P.append(preds[idx])\n",
    "    if labels_7[idx] == 'very positive': label_VP.append(preds[idx])"
   ]
  },
  {
   "cell_type": "code",
   "execution_count": 27,
   "metadata": {},
   "outputs": [
    {
     "data": {
      "application/vnd.plotly.v1+json": {
       "config": {
        "plotlyServerURL": "https://plot.ly"
       },
       "data": [
        {
         "alignmentgroup": "True",
         "boxpoints": "all",
         "hovertemplate": "labels_7=%{x}<br>preds=%{y}<extra></extra>",
         "legendgroup": "",
         "marker": {
          "color": "#636efa"
         },
         "name": "",
         "notched": false,
         "offsetgroup": "",
         "orientation": "v",
         "showlegend": false,
         "type": "box",
         "x": [
          "very negative",
          "very negative",
          "slightly negative",
          "positive",
          "very negative",
          "very negative",
          "very negative",
          "very negative",
          "Neutral",
          "slightly positive",
          "slightly positive",
          "very negative",
          "very negative",
          "slightly positive",
          "very negative",
          "negative",
          "negative",
          "very negative",
          "negative",
          "negative",
          "slightly negative",
          "very negative",
          "slightly negative",
          "negative",
          "Neutral",
          "very negative",
          "negative",
          "slightly negative",
          "slightly positive",
          "slightly positive",
          "negative",
          "very negative",
          "negative",
          "very positive",
          "very positive",
          "slightly positive",
          "slightly positive",
          "very positive",
          "very positive",
          "very positive",
          "slightly negative",
          "Neutral",
          "positive",
          "positive",
          "slightly negative",
          "negative",
          "very negative",
          "very negative",
          "very negative",
          "very negative",
          "very positive",
          "slightly negative",
          "positive",
          "positive",
          "slightly positive",
          "slightly positive",
          "positive",
          "very negative",
          "slightly negative",
          "slightly negative",
          "very positive",
          "positive",
          "slightly negative",
          "very negative",
          "very positive",
          "very positive",
          "very positive",
          "Neutral",
          "very positive",
          "positive",
          "slightly negative",
          "positive",
          "Neutral",
          "slightly positive",
          "slightly positive",
          "positive",
          "slightly negative",
          "positive",
          "slightly negative",
          "slightly negative",
          "positive",
          "slightly positive",
          "positive",
          "positive",
          "positive",
          "slightly negative",
          "slightly negative",
          "Neutral",
          "slightly negative",
          "slightly negative",
          "Neutral",
          "slightly positive",
          "slightly negative",
          "slightly negative",
          "Neutral",
          "Neutral",
          "Neutral",
          "slightly negative",
          "slightly positive",
          "slightly positive",
          "very negative",
          "negative",
          "positive",
          "Neutral",
          "positive",
          "slightly negative",
          "very positive",
          "positive",
          "Neutral",
          "very positive",
          "positive",
          "Neutral",
          "very positive",
          "positive",
          "very positive",
          "positive",
          "very positive",
          "positive",
          "positive",
          "slightly positive",
          "Neutral",
          "very negative",
          "negative",
          "Neutral",
          "negative",
          "negative",
          "negative",
          "very negative",
          "very negative",
          "very negative",
          "slightly negative",
          "slightly negative",
          "positive",
          "negative",
          "negative",
          "negative",
          "negative",
          "negative",
          "negative",
          "very negative",
          "slightly positive",
          "very negative",
          "slightly negative",
          "very negative",
          "very negative",
          "negative",
          "very negative",
          "very negative",
          "slightly negative",
          "negative",
          "very negative",
          "negative",
          "slightly negative",
          "very negative",
          "very negative",
          "negative",
          "very negative",
          "very negative",
          "very negative",
          "very negative",
          "slightly negative",
          "very negative",
          "negative",
          "very negative",
          "Neutral",
          "negative",
          "slightly negative",
          "Neutral",
          "slightly positive",
          "slightly positive",
          "negative",
          "slightly positive",
          "slightly negative",
          "slightly positive",
          "slightly negative",
          "negative",
          "slightly negative",
          "negative",
          "slightly positive",
          "Neutral",
          "slightly positive",
          "negative",
          "slightly positive",
          "Neutral",
          "Neutral",
          "slightly negative",
          "slightly negative",
          "very negative",
          "negative",
          "negative",
          "slightly positive",
          "very negative",
          "slightly negative",
          "Neutral",
          "very negative",
          "Neutral",
          "positive",
          "slightly negative",
          "slightly negative",
          "slightly positive",
          "slightly positive",
          "very negative",
          "negative",
          "very negative",
          "slightly negative",
          "negative",
          "very negative",
          "negative",
          "slightly negative",
          "negative",
          "negative",
          "slightly positive",
          "slightly negative",
          "slightly negative",
          "negative",
          "slightly negative",
          "slightly negative",
          "Neutral",
          "positive",
          "positive",
          "positive",
          "very negative",
          "negative",
          "positive",
          "positive",
          "slightly positive",
          "negative",
          "slightly negative",
          "Neutral",
          "positive",
          "slightly positive",
          "slightly positive",
          "slightly positive",
          "positive",
          "Neutral",
          "slightly positive",
          "very negative",
          "slightly positive",
          "Neutral",
          "slightly negative",
          "positive",
          "slightly negative",
          "slightly negative",
          "Neutral",
          "very negative",
          "very negative",
          "very negative",
          "Neutral",
          "Neutral",
          "slightly negative",
          "slightly negative",
          "Neutral",
          "Neutral",
          "Neutral",
          "Neutral",
          "Neutral",
          "Neutral",
          "very negative",
          "slightly positive",
          "slightly negative",
          "negative",
          "Neutral",
          "Neutral",
          "negative",
          "slightly negative",
          "Neutral",
          "Neutral",
          "slightly positive",
          "positive",
          "negative",
          "slightly negative",
          "slightly positive",
          "Neutral",
          "positive",
          "slightly negative",
          "very positive",
          "very positive",
          "Neutral",
          "negative",
          "slightly negative",
          "negative",
          "slightly negative",
          "positive",
          "very positive",
          "very positive",
          "very positive",
          "slightly positive",
          "slightly negative",
          "slightly positive",
          "positive",
          "slightly positive",
          "very negative",
          "very negative",
          "very positive",
          "very negative",
          "slightly negative",
          "very negative",
          "slightly positive",
          "slightly negative",
          "negative",
          "negative",
          "negative",
          "negative",
          "slightly positive",
          "slightly positive",
          "slightly positive",
          "negative",
          "positive",
          "very negative",
          "negative",
          "positive",
          "positive",
          "slightly positive",
          "Neutral",
          "slightly positive",
          "negative",
          "slightly negative",
          "Neutral",
          "slightly positive",
          "Neutral",
          "slightly negative",
          "Neutral",
          "Neutral",
          "Neutral",
          "Neutral",
          "slightly positive",
          "Neutral",
          "positive",
          "slightly negative",
          "positive",
          "slightly negative",
          "positive",
          "slightly negative",
          "Neutral",
          "very negative",
          "very negative",
          "slightly negative",
          "slightly negative",
          "negative",
          "very negative",
          "very positive",
          "very negative",
          "very negative",
          "negative",
          "negative",
          "very positive",
          "very negative",
          "very negative",
          "Neutral",
          "negative",
          "negative",
          "negative",
          "negative",
          "positive",
          "very positive",
          "very negative",
          "negative",
          "very negative",
          "very negative",
          "very negative",
          "slightly positive",
          "slightly negative",
          "slightly positive",
          "very negative",
          "negative",
          "very negative",
          "negative",
          "Neutral",
          "slightly negative",
          "very negative",
          "negative",
          "slightly positive",
          "Neutral",
          "negative",
          "slightly positive",
          "negative",
          "Neutral",
          "negative",
          "slightly negative",
          "positive",
          "very negative",
          "slightly negative",
          "Neutral",
          "negative",
          "slightly negative",
          "Neutral",
          "slightly negative",
          "positive",
          "positive",
          "slightly positive",
          "negative",
          "Neutral",
          "negative",
          "positive",
          "positive",
          "positive",
          "slightly positive",
          "slightly positive",
          "slightly negative",
          "negative",
          "negative",
          "Neutral",
          "slightly positive",
          "slightly positive",
          "negative",
          "slightly positive",
          "slightly positive",
          "very positive",
          "slightly positive",
          "slightly positive",
          "very negative",
          "negative",
          "slightly negative",
          "very negative",
          "negative",
          "negative",
          "slightly positive",
          "negative",
          "Neutral",
          "negative",
          "slightly positive",
          "negative",
          "negative",
          "negative",
          "negative",
          "negative",
          "positive",
          "very positive",
          "very positive",
          "slightly negative",
          "negative",
          "positive",
          "slightly negative",
          "very negative",
          "negative",
          "negative",
          "positive",
          "positive",
          "slightly positive",
          "slightly negative",
          "very negative",
          "negative",
          "positive",
          "slightly positive",
          "positive",
          "slightly negative",
          "slightly positive",
          "very negative",
          "very positive",
          "slightly negative",
          "very negative",
          "very negative",
          "very negative",
          "Neutral",
          "negative",
          "negative",
          "very negative",
          "very negative",
          "slightly negative",
          "negative",
          "very negative",
          "negative",
          "negative",
          "negative",
          "very negative",
          "negative",
          "slightly positive",
          "very negative",
          "very negative",
          "very positive",
          "very positive",
          "very positive",
          "positive",
          "Neutral",
          "slightly positive",
          "negative",
          "slightly negative",
          "slightly negative",
          "negative",
          "negative",
          "very negative",
          "negative",
          "very negative",
          "negative",
          "negative",
          "Neutral",
          "very negative",
          "Neutral",
          "negative",
          "slightly positive",
          "very negative",
          "very negative",
          "positive",
          "positive",
          "negative",
          "negative",
          "Neutral",
          "very negative",
          "slightly negative",
          "negative",
          "negative",
          "Neutral",
          "slightly positive",
          "Neutral",
          "negative",
          "negative",
          "slightly negative",
          "slightly negative",
          "negative",
          "slightly negative",
          "negative",
          "slightly negative",
          "negative",
          "slightly negative",
          "very negative",
          "slightly negative",
          "negative",
          "Neutral",
          "negative",
          "negative",
          "Neutral",
          "Neutral",
          "slightly negative",
          "very positive",
          "Neutral",
          "slightly positive",
          "Neutral",
          "positive",
          "slightly positive",
          "positive",
          "positive",
          "positive",
          "very positive",
          "positive",
          "Neutral",
          "positive",
          "positive",
          "very positive",
          "Neutral",
          "positive",
          "very positive",
          "positive",
          "very positive",
          "slightly positive",
          "slightly positive",
          "positive",
          "negative",
          "very positive",
          "negative",
          "positive",
          "Neutral",
          "Neutral",
          "very negative",
          "very positive",
          "positive",
          "positive",
          "positive",
          "very positive",
          "very positive",
          "Neutral",
          "positive",
          "Neutral",
          "Neutral",
          "very positive",
          "positive",
          "very positive",
          "Neutral",
          "positive",
          "very positive",
          "slightly positive",
          "very positive",
          "slightly positive",
          "slightly positive",
          "slightly positive",
          "slightly negative",
          "Neutral",
          "slightly positive",
          "Neutral",
          "positive",
          "slightly negative",
          "Neutral",
          "negative",
          "negative",
          "Neutral",
          "positive",
          "positive",
          "slightly negative",
          "positive",
          "Neutral",
          "positive",
          "slightly negative",
          "slightly negative",
          "Neutral",
          "positive",
          "positive",
          "positive",
          "positive",
          "positive",
          "positive",
          "Neutral",
          "very positive",
          "positive",
          "slightly positive",
          "slightly positive",
          "slightly positive",
          "slightly positive",
          "slightly negative",
          "slightly positive",
          "slightly negative",
          "Neutral",
          "negative",
          "slightly negative",
          "slightly negative",
          "negative",
          "slightly negative",
          "negative",
          "very positive",
          "slightly positive",
          "slightly positive",
          "Neutral",
          "negative",
          "negative",
          "slightly negative",
          "Neutral",
          "positive",
          "very positive",
          "slightly negative",
          "negative",
          "slightly negative",
          "negative",
          "Neutral",
          "Neutral",
          "Neutral",
          "negative",
          "Neutral",
          "negative",
          "negative",
          "positive",
          "slightly negative",
          "negative",
          "slightly negative",
          "negative",
          "negative",
          "slightly negative",
          "very negative",
          "negative",
          "slightly positive",
          "negative",
          "negative",
          "slightly negative",
          "negative",
          "positive",
          "negative",
          "negative",
          "very negative",
          "slightly positive",
          "slightly positive",
          "slightly negative",
          "slightly negative",
          "slightly positive",
          "very negative",
          "negative",
          "slightly negative",
          "negative",
          "negative",
          "positive",
          "positive",
          "slightly positive",
          "slightly negative",
          "negative",
          "slightly positive",
          "slightly positive",
          "slightly negative",
          "Neutral",
          "slightly positive",
          "Neutral",
          "slightly positive",
          "positive",
          "slightly negative",
          "negative",
          "slightly negative",
          "slightly positive",
          "Neutral",
          "slightly positive",
          "slightly positive"
         ],
         "x0": " ",
         "xaxis": "x",
         "y": [
          -0.9183494448661804,
          -1.9813562631607056,
          -0.9976269006729126,
          1.1474193334579468,
          -0.9186753034591675,
          -1.3578912019729614,
          -2.2286038398742676,
          1.442970871925354,
          1.316367745399475,
          0.26762375235557556,
          0.9161474704742432,
          -1.7187204360961914,
          1.1721776723861694,
          0.7903260588645935,
          -1.7872390747070312,
          -0.8681683540344238,
          0.5776548385620117,
          -1.729192852973938,
          0.8159222602844238,
          -1.121852993965149,
          -0.20347915589809418,
          -0.9442993998527527,
          -0.8853422999382019,
          -1.6437071561813354,
          0.99114990234375,
          -0.7417618036270142,
          0.03556006774306297,
          1.0091968774795532,
          1.297981858253479,
          1.6779654026031494,
          -0.7177141308784485,
          -1.2681159973144531,
          -1.8899661302566528,
          -0.7729095220565796,
          1.2195760011672974,
          -0.2612344026565552,
          0.8207414150238037,
          -1.468758225440979,
          2.6053121089935303,
          2.5672829151153564,
          -1.4053878784179688,
          0.8261750340461731,
          1.5982857942581177,
          1.65541410446167,
          0.07692994177341461,
          -1.6202245950698853,
          -1.4693950414657593,
          -1.2758004665374756,
          -0.5238915681838989,
          -0.7391737699508667,
          -0.002837841399013996,
          -0.47090595960617065,
          2.3332583904266357,
          1.609932780265808,
          2.0164201259613037,
          1.2569851875305176,
          1.9925365447998047,
          -1.3539832830429077,
          2.4032068252563477,
          -1.0854418277740479,
          -1.8912893533706665,
          1.4095066785812378,
          -1.1575506925582886,
          -1.6453238725662231,
          1.6278575658798218,
          2.465667724609375,
          2.244710922241211,
          0.26320016384124756,
          2.292759418487549,
          2.4538626670837402,
          0.1676853597164154,
          2.1930549144744873,
          -0.5843584537506104,
          -0.013712908141314983,
          1.5307056903839111,
          1.5410194396972656,
          -1.6799931526184082,
          1.7253119945526123,
          0.016225920990109444,
          -0.9407258629798889,
          0.34683576226234436,
          1.7221739292144775,
          2.611975908279419,
          -0.07015098631381989,
          2.25624418258667,
          -1.5183712244033813,
          -0.9743684530258179,
          -1.063041090965271,
          -1.5519859790802002,
          -0.4657745957374573,
          -1.308585286140442,
          -0.03779086470603943,
          -0.0946001186966896,
          -1.5034551620483398,
          -0.28318437933921814,
          0.08318064361810684,
          -0.6487492322921753,
          -0.3470526933670044,
          0.27069875597953796,
          -0.7870967388153076,
          -1.066778302192688,
          -1.8372339010238647,
          1.8367359638214111,
          -0.7891408205032349,
          1.9915517568588257,
          -1.1255273818969727,
          -0.0789012759923935,
          2.251960277557373,
          -0.36908435821533203,
          2.466198444366455,
          1.2547972202301025,
          0.46310096979141235,
          2.407036066055298,
          2.2698874473571777,
          1.813032627105713,
          0.6084287762641907,
          2.282198905944824,
          2.538052558898926,
          0.49542298913002014,
          -0.335919052362442,
          1.608142375946045,
          -2.63988995552063,
          -1.491551399230957,
          0.4946970045566559,
          -1.606460690498352,
          -0.8723956346511841,
          -1.1118109226226807,
          -0.09230490773916245,
          -1.324605107307434,
          -1.127302885055542,
          -0.6881301403045654,
          -0.803295910358429,
          1.6189123392105103,
          -1.762402892112732,
          -1.8461639881134033,
          -1.0759111642837524,
          -2.038980007171631,
          -1.7372769117355347,
          -1.9728245735168457,
          -0.9726542234420776,
          0.582042396068573,
          -2.0798189640045166,
          -1.9019657373428345,
          -2.252894163131714,
          -1.9849857091903687,
          -1.598588466644287,
          -1.6068576574325562,
          -2.035507917404175,
          -0.908439040184021,
          -1.556057095527649,
          -2.353001594543457,
          -1.1829922199249268,
          0.26083216071128845,
          -2.5009608268737793,
          -2.035507917404175,
          -1.769649863243103,
          -1.8775285482406616,
          -1.696486234664917,
          -1.5814703702926636,
          -2.4434220790863037,
          -1.6331864595413208,
          -2.6222405433654785,
          -1.1073552370071411,
          1.3854297399520874,
          0.6577385663986206,
          -0.369833767414093,
          -2.1161177158355713,
          0.9841276407241821,
          -0.5008779764175415,
          -0.08378269523382187,
          -1.381384253501892,
          0.16954687237739563,
          -1.1758662462234497,
          1.6022342443466187,
          0.2276407778263092,
          -0.11448775976896286,
          1.2404261827468872,
          1.0698121786117554,
          1.2697256803512573,
          -1.1892186403274536,
          -0.2048909068107605,
          -2.032261610031128,
          0.972109854221344,
          0.9193753004074097,
          0.6586562395095825,
          -0.8900689482688904,
          -1.4589227437973022,
          -2.116222620010376,
          -1.42560613155365,
          -1.1333472728729248,
          -0.9820196032524109,
          -0.9966628551483154,
          -1.600107192993164,
          -0.6731615662574768,
          -1.987186074256897,
          -1.6726888418197632,
          1.5832911729812622,
          -1.2656503915786743,
          -0.4547681510448456,
          1.540894627571106,
          0.9187466502189636,
          -1.7088068723678589,
          -1.5471062660217285,
          -1.6040529012680054,
          -1.402720332145691,
          -0.6900269389152527,
          -2.1192879676818848,
          -0.9163520336151123,
          -2.264066219329834,
          -1.365759015083313,
          -0.09683466702699661,
          0.4610854983329773,
          0.043608661741018295,
          1.8222815990447998,
          -0.068808414041996,
          -0.9896630048751831,
          -1.3266880512237549,
          -0.22889378666877747,
          1.686952829360962,
          0.9200800061225891,
          1.7541778087615967,
          -0.6182143688201904,
          -2.5636112689971924,
          1.1477843523025513,
          1.9023046493530273,
          2.0300517082214355,
          0.39601826667785645,
          -1.7634726762771606,
          0.9672224521636963,
          0.4050116240978241,
          -0.33331188559532166,
          -0.26081299781799316,
          1.3390169143676758,
          1.398814082145691,
          -1.8715476989746094,
          1.4679982662200928,
          -0.9910876154899597,
          0.15255728363990784,
          -1.3297834396362305,
          0.42887985706329346,
          1.5407588481903076,
          -1.3994202613830566,
          -1.510063886642456,
          0.374553382396698,
          -1.2374767065048218,
          -0.8310441970825195,
          -2.2624757289886475,
          -0.04796907305717468,
          -1.011587381362915,
          -1.0015597343444824,
          -1.4376896619796753,
          0.2792823910713196,
          -0.027244355529546738,
          -0.11944806575775146,
          0.1656009703874588,
          -0.3728872835636139,
          -0.026062941178679466,
          0.37168049812316895,
          1.1020681858062744,
          -0.48120957612991333,
          -1.4380866289138794,
          -0.6548641324043274,
          1.5026293992996216,
          -1.673377513885498,
          0.35824263095855713,
          1.0496492385864258,
          -0.6251462697982788,
          -0.3171898126602173,
          1.9720150232315063,
          -1.3618322610855103,
          -1.0151249170303345,
          1.2477095127105713,
          -0.3263061046600342,
          2.362640380859375,
          0.6359187364578247,
          2.8835787773132324,
          2.4364218711853027,
          1.00095534324646,
          0.8723490834236145,
          -0.0623350627720356,
          -1.4171390533447266,
          -1.1309033632278442,
          2.2664613723754883,
          2.68076491355896,
          1.8905695676803589,
          2.2790346145629883,
          0.6918904781341553,
          -0.06712780892848969,
          0.9968611598014832,
          0.17267249524593353,
          1.5599780082702637,
          -2.679032802581787,
          -2.3283233642578125,
          -0.9149227738380432,
          -2.458510637283325,
          0.03937704861164093,
          -1.7289494276046753,
          1.1764425039291382,
          -1.2030168771743774,
          -1.7480772733688354,
          -1.063887596130371,
          -1.963895559310913,
          -0.10281312465667725,
          -0.3531306982040405,
          2.138131856918335,
          1.6296164989471436,
          -1.842477560043335,
          1.8110681772232056,
          -2.579779624938965,
          -0.6762781143188477,
          2.333341121673584,
          1.021358609199524,
          0.5089282989501953,
          0.41298913955688477,
          -0.472630113363266,
          -0.7421286106109619,
          2.3063900470733643,
          -0.3417210876941681,
          1.7158082723617554,
          1.3464329242706299,
          0.17573148012161255,
          0.3310559391975403,
          -1.7048536539077759,
          1.5280520915985107,
          1.3038930892944336,
          1.1771595478057861,
          -0.2158021777868271,
          1.3438498973846436,
          -0.03481408581137657,
          1.4469809532165527,
          -0.6049641370773315,
          1.7468671798706055,
          -0.8383289575576782,
          1.6805448532104492,
          -1.5929509401321411,
          -1.697396993637085,
          -1.5073779821395874,
          0.36794513463974,
          -1.7242212295532227,
          -0.9900595545768738,
          2.365990400314331,
          -2.2615373134613037,
          -1.9129775762557983,
          -1.799830675125122,
          -2.4154744148254395,
          2.4809441566467285,
          -2.5234062671661377,
          -2.549288272857666,
          -1.8046925067901611,
          -0.3687956631183624,
          -1.2407656908035278,
          -1.9692155122756958,
          -1.4368847608566284,
          1.5445642471313477,
          2.478379011154175,
          -0.08172117918729782,
          -2.1551361083984375,
          -1.3465685844421387,
          -1.7821645736694336,
          -1.797378659248352,
          1.3545787334442139,
          -1.0156241655349731,
          0.9846323728561401,
          0.8102310299873352,
          -0.9065515995025635,
          -0.5815922617912292,
          -0.7424778938293457,
          -0.20152458548545837,
          -1.073311448097229,
          -0.6942208409309387,
          -0.5491796135902405,
          1.825256586074829,
          1.2843382358551025,
          0.5778108835220337,
          2.7045650482177734,
          -1.4222279787063599,
          -0.1972081959247589,
          -1.7752612829208374,
          -1.2286319732666016,
          2.4263739585876465,
          -1.11888587474823,
          -0.9413653612136841,
          -1.2211695909500122,
          -0.9556770324707031,
          -0.273947149515152,
          -0.8083475828170776,
          0.09753125160932541,
          1.616127371788025,
          1.2850937843322754,
          2.2939672470092773,
          0.9966112375259399,
          0.24281392991542816,
          -1.450966715812683,
          2.1101887226104736,
          2.234227180480957,
          2.0137014389038086,
          2.0443854331970215,
          0.33136892318725586,
          -1.0916004180908203,
          -0.9382076859474182,
          -1.8572455644607544,
          -1.456427812576294,
          2.321592092514038,
          2.5209500789642334,
          -1.7223180532455444,
          1.6345633268356323,
          2.5072498321533203,
          2.4192798137664795,
          -0.19971083104610443,
          1.1178362369537354,
          -0.9291884303092957,
          0.10763105005025864,
          -0.2190709263086319,
          -0.41799062490463257,
          -1.7087441682815552,
          0.20028997957706451,
          0.6887845396995544,
          -2.267455577850342,
          0.1314244121313095,
          -1.620099663734436,
          -0.6858385801315308,
          0.8744381666183472,
          0.10613497346639633,
          -1.6520843505859375,
          -0.15098528563976288,
          -0.8952932953834534,
          2.1572747230529785,
          1.5748051404953003,
          2.4091649055480957,
          -0.6817492842674255,
          -1.546030879020691,
          1.5867202281951904,
          -0.21934621036052704,
          -1.850415825843811,
          0.47577565908432007,
          -1.25661039352417,
          1.9227491617202759,
          -0.10851077735424042,
          1.4244725704193115,
          -0.40826401114463806,
          0.13479086756706238,
          0.8826031684875488,
          2.0091800689697266,
          0.7154586315155029,
          1.2169135808944702,
          2.1951351165771484,
          1.7307692766189575,
          -2.3187694549560547,
          1.406202793121338,
          0.0664840117096901,
          -2.6088173389434814,
          -1.3932580947875977,
          -1.4804222583770752,
          0.028953375294804573,
          -2.206110954284668,
          -1.479231357574463,
          -1.227972149848938,
          -1.6847889423370361,
          0.05692402645945549,
          -1.7762622833251953,
          -1.674106478691101,
          -1.5380024909973145,
          -0.7662493586540222,
          -1.100447416305542,
          -1.323909044265747,
          -1.5072457790374756,
          1.8428155183792114,
          -1.2395094633102417,
          -1.9069536924362183,
          2.2268640995025635,
          2.108038902282715,
          1.3886926174163818,
          -0.02992984838783741,
          1.6177693605422974,
          0.9591575860977173,
          -1.3383362293243408,
          -1.2102242708206177,
          0.2601560354232788,
          -0.7470086812973022,
          -0.7717248201370239,
          -2.218674421310425,
          -0.31162968277931213,
          -1.1612411737442017,
          1.51533043384552,
          -0.8087319731712341,
          1.4634112119674683,
          -2.203136682510376,
          0.10685638338327408,
          -1.9121618270874023,
          1.3652958869934082,
          -2.3615548610687256,
          -1.7643128633499146,
          1.6353883743286133,
          1.927188754081726,
          -1.1948322057724,
          -0.5120219588279724,
          -0.5341736674308777,
          -2.557377815246582,
          0.285304993391037,
          0.9784693717956543,
          -0.6161404848098755,
          0.970234751701355,
          1.4411855936050415,
          0.6239452362060547,
          -2.715200662612915,
          -1.984836220741272,
          -1.7433135509490967,
          -0.9227208495140076,
          -1.0031342506408691,
          -0.5414233207702637,
          -1.785159707069397,
          0.20127247273921967,
          0.030363840982317924,
          0.06618648022413254,
          -1.612118124961853,
          -0.3734491765499115,
          -1.1451354026794434,
          -0.37678471207618713,
          -1.0115526914596558,
          -0.33141010999679565,
          -0.8411481380462646,
          0.7948329448699951,
          -0.47262781858444214,
          0.9281611442565918,
          1.7525622844696045,
          -0.4338933229446411,
          -0.6873153448104858,
          2.381476879119873,
          1.994282841682434,
          -0.06312309950590134,
          1.3292938470840454,
          2.0110862255096436,
          1.130025029182434,
          1.2637312412261963,
          -1.441556692123413,
          0.0399024523794651,
          2.0387303829193115,
          2.2836527824401855,
          0.47922617197036743,
          2.007814407348633,
          2.4768829345703125,
          -1.0920928716659546,
          0.9522049427032471,
          1.8758747577667236,
          -1.4149984121322632,
          0.6234994530677795,
          -0.43788203597068787,
          2.2753310203552246,
          -0.3533641993999481,
          1.3045636415481567,
          1.452097773551941,
          0.2693011164665222,
          -1.5797697305679321,
          1.8349493741989136,
          2.0169503688812256,
          2.132286548614502,
          1.8112272024154663,
          2.097287654876709,
          2.1257176399230957,
          0.24261973798274994,
          1.2140504121780396,
          -0.39243775606155396,
          0.3166946768760681,
          1.9722304344177246,
          2.273792266845703,
          1.9913790225982666,
          0.906830906867981,
          1.4419664144515991,
          2.1958954334259033,
          1.3853144645690918,
          1.8483607769012451,
          0.005492278374731541,
          0.44362857937812805,
          0.8048181533813477,
          -0.8266602754592896,
          0.6115196347236633,
          -1.4951984882354736,
          1.9481970071792603,
          0.1776200532913208,
          -1.1045295000076294,
          0.2323206663131714,
          -1.5587185621261597,
          -1.5501340627670288,
          -1.2286250591278076,
          1.6361511945724487,
          1.7381149530410767,
          -1.2772873640060425,
          -0.08832217007875443,
          -0.5082912445068359,
          1.6955894231796265,
          -1.392818808555603,
          -0.29438722133636475,
          0.6810865998268127,
          1.8502684831619263,
          1.8722306489944458,
          1.9337650537490845,
          1.4592595100402832,
          1.1629526615142822,
          1.217200517654419,
          0.2682071328163147,
          2.185206174850464,
          2.4487361907958984,
          0.43346577882766724,
          1.579994559288025,
          -1.031214952468872,
          -0.10257824510335922,
          -0.23188410699367523,
          -1.1457525491714478,
          -2.356607675552368,
          0.07942710071802139,
          -1.447435975074768,
          0.6577997803688049,
          -0.498388409614563,
          0.08047129958868027,
          -2.2055211067199707,
          -1.2383495569229126,
          2.6229164600372314,
          1.4335664510726929,
          0.08764059096574783,
          0.2728564739227295,
          -1.3690414428710938,
          -1.6130951642990112,
          -0.3866782486438751,
          -0.03140164166688919,
          2.02394962310791,
          1.910978078842163,
          -0.5612486600875854,
          -0.4458228051662445,
          -1.8365651369094849,
          -1.9254353046417236,
          -0.7572013139724731,
          -0.509615957736969,
          -1.1787501573562622,
          -1.5843075513839722,
          -0.9585524797439575,
          -1.4159765243530273,
          -1.6039642095565796,
          0.49420273303985596,
          -0.7992300391197205,
          -1.8033150434494019,
          -1.4788824319839478,
          -1.6801402568817139,
          -1.98456609249115,
          -0.38108083605766296,
          -2.2874295711517334,
          -0.8901920318603516,
          1.6123690605163574,
          -0.2608610987663269,
          -2.2019577026367188,
          -0.6584400534629822,
          -1.5445072650909424,
          2.3198485374450684,
          -1.5886650085449219,
          -2.0894880294799805,
          -1.9683605432510376,
          0.5399929881095886,
          0.95753014087677,
          -1.8471511602401733,
          -0.7704540491104126,
          0.730361819267273,
          -2.152876615524292,
          -0.9282256364822388,
          -1.2974086999893188,
          -2.1979446411132812,
          -2.035275936126709,
          1.9410244226455688,
          2.0246798992156982,
          1.7225552797317505,
          -0.13050319254398346,
          0.2642154097557068,
          0.17151832580566406,
          -0.8063568472862244,
          -0.24457018077373505,
          -0.3341379761695862,
          0.7186921834945679,
          0.7556973695755005,
          1.188143253326416,
          1.6441702842712402,
          -1.6167421340942383,
          -1.8620604276657104,
          -1.0338451862335205,
          0.6833649277687073,
          0.8714730739593506,
          2.039048194885254,
          2.061363697052002
         ],
         "y0": " ",
         "yaxis": "y"
        },
        {
         "mode": "markers",
         "name": "mean",
         "type": "scatter",
         "x": [
          "very negative",
          "negative",
          "slightly negative",
          "Neutral",
          "slightly positive",
          "positive",
          "very positive"
         ],
         "y": [
          -1.4862388302572072,
          -1.0857733789698354,
          -0.6329636780001158,
          0.06936226909359296,
          0.8269013767605837,
          1.535324853012695,
          1.7233734207499463
         ]
        },
        {
         "mode": "markers",
         "name": "gold",
         "type": "scatter",
         "x": [
          "very negative",
          "negative",
          "slightly negative",
          "Neutral",
          "slightly positive",
          "positive",
          "very positive"
         ],
         "y": [
          -3,
          -2,
          -1,
          0,
          1,
          2,
          3
         ]
        }
       ],
       "layout": {
        "boxmode": "group",
        "legend": {
         "tracegroupgap": 0
        },
        "margin": {
         "t": 60
        },
        "template": {
         "data": {
          "bar": [
           {
            "error_x": {
             "color": "#2a3f5f"
            },
            "error_y": {
             "color": "#2a3f5f"
            },
            "marker": {
             "line": {
              "color": "#E5ECF6",
              "width": 0.5
             },
             "pattern": {
              "fillmode": "overlay",
              "size": 10,
              "solidity": 0.2
             }
            },
            "type": "bar"
           }
          ],
          "barpolar": [
           {
            "marker": {
             "line": {
              "color": "#E5ECF6",
              "width": 0.5
             },
             "pattern": {
              "fillmode": "overlay",
              "size": 10,
              "solidity": 0.2
             }
            },
            "type": "barpolar"
           }
          ],
          "carpet": [
           {
            "aaxis": {
             "endlinecolor": "#2a3f5f",
             "gridcolor": "white",
             "linecolor": "white",
             "minorgridcolor": "white",
             "startlinecolor": "#2a3f5f"
            },
            "baxis": {
             "endlinecolor": "#2a3f5f",
             "gridcolor": "white",
             "linecolor": "white",
             "minorgridcolor": "white",
             "startlinecolor": "#2a3f5f"
            },
            "type": "carpet"
           }
          ],
          "choropleth": [
           {
            "colorbar": {
             "outlinewidth": 0,
             "ticks": ""
            },
            "type": "choropleth"
           }
          ],
          "contour": [
           {
            "colorbar": {
             "outlinewidth": 0,
             "ticks": ""
            },
            "colorscale": [
             [
              0,
              "#0d0887"
             ],
             [
              0.1111111111111111,
              "#46039f"
             ],
             [
              0.2222222222222222,
              "#7201a8"
             ],
             [
              0.3333333333333333,
              "#9c179e"
             ],
             [
              0.4444444444444444,
              "#bd3786"
             ],
             [
              0.5555555555555556,
              "#d8576b"
             ],
             [
              0.6666666666666666,
              "#ed7953"
             ],
             [
              0.7777777777777778,
              "#fb9f3a"
             ],
             [
              0.8888888888888888,
              "#fdca26"
             ],
             [
              1,
              "#f0f921"
             ]
            ],
            "type": "contour"
           }
          ],
          "contourcarpet": [
           {
            "colorbar": {
             "outlinewidth": 0,
             "ticks": ""
            },
            "type": "contourcarpet"
           }
          ],
          "heatmap": [
           {
            "colorbar": {
             "outlinewidth": 0,
             "ticks": ""
            },
            "colorscale": [
             [
              0,
              "#0d0887"
             ],
             [
              0.1111111111111111,
              "#46039f"
             ],
             [
              0.2222222222222222,
              "#7201a8"
             ],
             [
              0.3333333333333333,
              "#9c179e"
             ],
             [
              0.4444444444444444,
              "#bd3786"
             ],
             [
              0.5555555555555556,
              "#d8576b"
             ],
             [
              0.6666666666666666,
              "#ed7953"
             ],
             [
              0.7777777777777778,
              "#fb9f3a"
             ],
             [
              0.8888888888888888,
              "#fdca26"
             ],
             [
              1,
              "#f0f921"
             ]
            ],
            "type": "heatmap"
           }
          ],
          "heatmapgl": [
           {
            "colorbar": {
             "outlinewidth": 0,
             "ticks": ""
            },
            "colorscale": [
             [
              0,
              "#0d0887"
             ],
             [
              0.1111111111111111,
              "#46039f"
             ],
             [
              0.2222222222222222,
              "#7201a8"
             ],
             [
              0.3333333333333333,
              "#9c179e"
             ],
             [
              0.4444444444444444,
              "#bd3786"
             ],
             [
              0.5555555555555556,
              "#d8576b"
             ],
             [
              0.6666666666666666,
              "#ed7953"
             ],
             [
              0.7777777777777778,
              "#fb9f3a"
             ],
             [
              0.8888888888888888,
              "#fdca26"
             ],
             [
              1,
              "#f0f921"
             ]
            ],
            "type": "heatmapgl"
           }
          ],
          "histogram": [
           {
            "marker": {
             "pattern": {
              "fillmode": "overlay",
              "size": 10,
              "solidity": 0.2
             }
            },
            "type": "histogram"
           }
          ],
          "histogram2d": [
           {
            "colorbar": {
             "outlinewidth": 0,
             "ticks": ""
            },
            "colorscale": [
             [
              0,
              "#0d0887"
             ],
             [
              0.1111111111111111,
              "#46039f"
             ],
             [
              0.2222222222222222,
              "#7201a8"
             ],
             [
              0.3333333333333333,
              "#9c179e"
             ],
             [
              0.4444444444444444,
              "#bd3786"
             ],
             [
              0.5555555555555556,
              "#d8576b"
             ],
             [
              0.6666666666666666,
              "#ed7953"
             ],
             [
              0.7777777777777778,
              "#fb9f3a"
             ],
             [
              0.8888888888888888,
              "#fdca26"
             ],
             [
              1,
              "#f0f921"
             ]
            ],
            "type": "histogram2d"
           }
          ],
          "histogram2dcontour": [
           {
            "colorbar": {
             "outlinewidth": 0,
             "ticks": ""
            },
            "colorscale": [
             [
              0,
              "#0d0887"
             ],
             [
              0.1111111111111111,
              "#46039f"
             ],
             [
              0.2222222222222222,
              "#7201a8"
             ],
             [
              0.3333333333333333,
              "#9c179e"
             ],
             [
              0.4444444444444444,
              "#bd3786"
             ],
             [
              0.5555555555555556,
              "#d8576b"
             ],
             [
              0.6666666666666666,
              "#ed7953"
             ],
             [
              0.7777777777777778,
              "#fb9f3a"
             ],
             [
              0.8888888888888888,
              "#fdca26"
             ],
             [
              1,
              "#f0f921"
             ]
            ],
            "type": "histogram2dcontour"
           }
          ],
          "mesh3d": [
           {
            "colorbar": {
             "outlinewidth": 0,
             "ticks": ""
            },
            "type": "mesh3d"
           }
          ],
          "parcoords": [
           {
            "line": {
             "colorbar": {
              "outlinewidth": 0,
              "ticks": ""
             }
            },
            "type": "parcoords"
           }
          ],
          "pie": [
           {
            "automargin": true,
            "type": "pie"
           }
          ],
          "scatter": [
           {
            "fillpattern": {
             "fillmode": "overlay",
             "size": 10,
             "solidity": 0.2
            },
            "type": "scatter"
           }
          ],
          "scatter3d": [
           {
            "line": {
             "colorbar": {
              "outlinewidth": 0,
              "ticks": ""
             }
            },
            "marker": {
             "colorbar": {
              "outlinewidth": 0,
              "ticks": ""
             }
            },
            "type": "scatter3d"
           }
          ],
          "scattercarpet": [
           {
            "marker": {
             "colorbar": {
              "outlinewidth": 0,
              "ticks": ""
             }
            },
            "type": "scattercarpet"
           }
          ],
          "scattergeo": [
           {
            "marker": {
             "colorbar": {
              "outlinewidth": 0,
              "ticks": ""
             }
            },
            "type": "scattergeo"
           }
          ],
          "scattergl": [
           {
            "marker": {
             "colorbar": {
              "outlinewidth": 0,
              "ticks": ""
             }
            },
            "type": "scattergl"
           }
          ],
          "scattermapbox": [
           {
            "marker": {
             "colorbar": {
              "outlinewidth": 0,
              "ticks": ""
             }
            },
            "type": "scattermapbox"
           }
          ],
          "scatterpolar": [
           {
            "marker": {
             "colorbar": {
              "outlinewidth": 0,
              "ticks": ""
             }
            },
            "type": "scatterpolar"
           }
          ],
          "scatterpolargl": [
           {
            "marker": {
             "colorbar": {
              "outlinewidth": 0,
              "ticks": ""
             }
            },
            "type": "scatterpolargl"
           }
          ],
          "scatterternary": [
           {
            "marker": {
             "colorbar": {
              "outlinewidth": 0,
              "ticks": ""
             }
            },
            "type": "scatterternary"
           }
          ],
          "surface": [
           {
            "colorbar": {
             "outlinewidth": 0,
             "ticks": ""
            },
            "colorscale": [
             [
              0,
              "#0d0887"
             ],
             [
              0.1111111111111111,
              "#46039f"
             ],
             [
              0.2222222222222222,
              "#7201a8"
             ],
             [
              0.3333333333333333,
              "#9c179e"
             ],
             [
              0.4444444444444444,
              "#bd3786"
             ],
             [
              0.5555555555555556,
              "#d8576b"
             ],
             [
              0.6666666666666666,
              "#ed7953"
             ],
             [
              0.7777777777777778,
              "#fb9f3a"
             ],
             [
              0.8888888888888888,
              "#fdca26"
             ],
             [
              1,
              "#f0f921"
             ]
            ],
            "type": "surface"
           }
          ],
          "table": [
           {
            "cells": {
             "fill": {
              "color": "#EBF0F8"
             },
             "line": {
              "color": "white"
             }
            },
            "header": {
             "fill": {
              "color": "#C8D4E3"
             },
             "line": {
              "color": "white"
             }
            },
            "type": "table"
           }
          ]
         },
         "layout": {
          "annotationdefaults": {
           "arrowcolor": "#2a3f5f",
           "arrowhead": 0,
           "arrowwidth": 1
          },
          "autotypenumbers": "strict",
          "coloraxis": {
           "colorbar": {
            "outlinewidth": 0,
            "ticks": ""
           }
          },
          "colorscale": {
           "diverging": [
            [
             0,
             "#8e0152"
            ],
            [
             0.1,
             "#c51b7d"
            ],
            [
             0.2,
             "#de77ae"
            ],
            [
             0.3,
             "#f1b6da"
            ],
            [
             0.4,
             "#fde0ef"
            ],
            [
             0.5,
             "#f7f7f7"
            ],
            [
             0.6,
             "#e6f5d0"
            ],
            [
             0.7,
             "#b8e186"
            ],
            [
             0.8,
             "#7fbc41"
            ],
            [
             0.9,
             "#4d9221"
            ],
            [
             1,
             "#276419"
            ]
           ],
           "sequential": [
            [
             0,
             "#0d0887"
            ],
            [
             0.1111111111111111,
             "#46039f"
            ],
            [
             0.2222222222222222,
             "#7201a8"
            ],
            [
             0.3333333333333333,
             "#9c179e"
            ],
            [
             0.4444444444444444,
             "#bd3786"
            ],
            [
             0.5555555555555556,
             "#d8576b"
            ],
            [
             0.6666666666666666,
             "#ed7953"
            ],
            [
             0.7777777777777778,
             "#fb9f3a"
            ],
            [
             0.8888888888888888,
             "#fdca26"
            ],
            [
             1,
             "#f0f921"
            ]
           ],
           "sequentialminus": [
            [
             0,
             "#0d0887"
            ],
            [
             0.1111111111111111,
             "#46039f"
            ],
            [
             0.2222222222222222,
             "#7201a8"
            ],
            [
             0.3333333333333333,
             "#9c179e"
            ],
            [
             0.4444444444444444,
             "#bd3786"
            ],
            [
             0.5555555555555556,
             "#d8576b"
            ],
            [
             0.6666666666666666,
             "#ed7953"
            ],
            [
             0.7777777777777778,
             "#fb9f3a"
            ],
            [
             0.8888888888888888,
             "#fdca26"
            ],
            [
             1,
             "#f0f921"
            ]
           ]
          },
          "colorway": [
           "#636efa",
           "#EF553B",
           "#00cc96",
           "#ab63fa",
           "#FFA15A",
           "#19d3f3",
           "#FF6692",
           "#B6E880",
           "#FF97FF",
           "#FECB52"
          ],
          "font": {
           "color": "#2a3f5f"
          },
          "geo": {
           "bgcolor": "white",
           "lakecolor": "white",
           "landcolor": "#E5ECF6",
           "showlakes": true,
           "showland": true,
           "subunitcolor": "white"
          },
          "hoverlabel": {
           "align": "left"
          },
          "hovermode": "closest",
          "mapbox": {
           "style": "light"
          },
          "paper_bgcolor": "white",
          "plot_bgcolor": "#E5ECF6",
          "polar": {
           "angularaxis": {
            "gridcolor": "white",
            "linecolor": "white",
            "ticks": ""
           },
           "bgcolor": "#E5ECF6",
           "radialaxis": {
            "gridcolor": "white",
            "linecolor": "white",
            "ticks": ""
           }
          },
          "scene": {
           "xaxis": {
            "backgroundcolor": "#E5ECF6",
            "gridcolor": "white",
            "gridwidth": 2,
            "linecolor": "white",
            "showbackground": true,
            "ticks": "",
            "zerolinecolor": "white"
           },
           "yaxis": {
            "backgroundcolor": "#E5ECF6",
            "gridcolor": "white",
            "gridwidth": 2,
            "linecolor": "white",
            "showbackground": true,
            "ticks": "",
            "zerolinecolor": "white"
           },
           "zaxis": {
            "backgroundcolor": "#E5ECF6",
            "gridcolor": "white",
            "gridwidth": 2,
            "linecolor": "white",
            "showbackground": true,
            "ticks": "",
            "zerolinecolor": "white"
           }
          },
          "shapedefaults": {
           "line": {
            "color": "#2a3f5f"
           }
          },
          "ternary": {
           "aaxis": {
            "gridcolor": "white",
            "linecolor": "white",
            "ticks": ""
           },
           "baxis": {
            "gridcolor": "white",
            "linecolor": "white",
            "ticks": ""
           },
           "bgcolor": "#E5ECF6",
           "caxis": {
            "gridcolor": "white",
            "linecolor": "white",
            "ticks": ""
           }
          },
          "title": {
           "x": 0.05
          },
          "xaxis": {
           "automargin": true,
           "gridcolor": "white",
           "linecolor": "white",
           "ticks": "",
           "title": {
            "standoff": 15
           },
           "zerolinecolor": "white",
           "zerolinewidth": 2
          },
          "yaxis": {
           "automargin": true,
           "gridcolor": "white",
           "linecolor": "white",
           "ticks": "",
           "title": {
            "standoff": 15
           },
           "zerolinecolor": "white",
           "zerolinewidth": 2
          }
         }
        },
        "title": {
         "text": "CMU-MOSI MAGBERT prediction value distribution"
        },
        "xaxis": {
         "anchor": "y",
         "categoryarray": [
          "very negative",
          "negative",
          "slightly negative",
          "Neutral",
          "slightly positive",
          "positive",
          "very positive"
         ],
         "categoryorder": "array",
         "domain": [
          0,
          1
         ],
         "title": {
          "text": "labels_7"
         }
        },
        "yaxis": {
         "anchor": "x",
         "domain": [
          0,
          1
         ],
         "title": {
          "text": "preds"
         }
        }
       }
      },
      "text/html": [
       "<div>                            <div id=\"5f2bb93b-1609-48b2-a5aa-616c88aeb3e4\" class=\"plotly-graph-div\" style=\"height:525px; width:100%;\"></div>            <script type=\"text/javascript\">                require([\"plotly\"], function(Plotly) {                    window.PLOTLYENV=window.PLOTLYENV || {};                                    if (document.getElementById(\"5f2bb93b-1609-48b2-a5aa-616c88aeb3e4\")) {                    Plotly.newPlot(                        \"5f2bb93b-1609-48b2-a5aa-616c88aeb3e4\",                        [{\"alignmentgroup\":\"True\",\"boxpoints\":\"all\",\"hovertemplate\":\"labels_7=%{x}<br>preds=%{y}<extra></extra>\",\"legendgroup\":\"\",\"marker\":{\"color\":\"#636efa\"},\"name\":\"\",\"notched\":false,\"offsetgroup\":\"\",\"orientation\":\"v\",\"showlegend\":false,\"x\":[\"very negative\",\"very negative\",\"slightly negative\",\"positive\",\"very negative\",\"very negative\",\"very negative\",\"very negative\",\"Neutral\",\"slightly positive\",\"slightly positive\",\"very negative\",\"very negative\",\"slightly positive\",\"very negative\",\"negative\",\"negative\",\"very negative\",\"negative\",\"negative\",\"slightly negative\",\"very negative\",\"slightly negative\",\"negative\",\"Neutral\",\"very negative\",\"negative\",\"slightly negative\",\"slightly positive\",\"slightly positive\",\"negative\",\"very negative\",\"negative\",\"very positive\",\"very positive\",\"slightly positive\",\"slightly positive\",\"very positive\",\"very positive\",\"very positive\",\"slightly negative\",\"Neutral\",\"positive\",\"positive\",\"slightly negative\",\"negative\",\"very negative\",\"very negative\",\"very negative\",\"very negative\",\"very positive\",\"slightly negative\",\"positive\",\"positive\",\"slightly positive\",\"slightly positive\",\"positive\",\"very negative\",\"slightly negative\",\"slightly negative\",\"very positive\",\"positive\",\"slightly negative\",\"very negative\",\"very positive\",\"very positive\",\"very positive\",\"Neutral\",\"very positive\",\"positive\",\"slightly negative\",\"positive\",\"Neutral\",\"slightly positive\",\"slightly positive\",\"positive\",\"slightly negative\",\"positive\",\"slightly negative\",\"slightly negative\",\"positive\",\"slightly positive\",\"positive\",\"positive\",\"positive\",\"slightly negative\",\"slightly negative\",\"Neutral\",\"slightly negative\",\"slightly negative\",\"Neutral\",\"slightly positive\",\"slightly negative\",\"slightly negative\",\"Neutral\",\"Neutral\",\"Neutral\",\"slightly negative\",\"slightly positive\",\"slightly positive\",\"very negative\",\"negative\",\"positive\",\"Neutral\",\"positive\",\"slightly negative\",\"very positive\",\"positive\",\"Neutral\",\"very positive\",\"positive\",\"Neutral\",\"very positive\",\"positive\",\"very positive\",\"positive\",\"very positive\",\"positive\",\"positive\",\"slightly positive\",\"Neutral\",\"very negative\",\"negative\",\"Neutral\",\"negative\",\"negative\",\"negative\",\"very negative\",\"very negative\",\"very negative\",\"slightly negative\",\"slightly negative\",\"positive\",\"negative\",\"negative\",\"negative\",\"negative\",\"negative\",\"negative\",\"very negative\",\"slightly positive\",\"very negative\",\"slightly negative\",\"very negative\",\"very negative\",\"negative\",\"very negative\",\"very negative\",\"slightly negative\",\"negative\",\"very negative\",\"negative\",\"slightly negative\",\"very negative\",\"very negative\",\"negative\",\"very negative\",\"very negative\",\"very negative\",\"very negative\",\"slightly negative\",\"very negative\",\"negative\",\"very negative\",\"Neutral\",\"negative\",\"slightly negative\",\"Neutral\",\"slightly positive\",\"slightly positive\",\"negative\",\"slightly positive\",\"slightly negative\",\"slightly positive\",\"slightly negative\",\"negative\",\"slightly negative\",\"negative\",\"slightly positive\",\"Neutral\",\"slightly positive\",\"negative\",\"slightly positive\",\"Neutral\",\"Neutral\",\"slightly negative\",\"slightly negative\",\"very negative\",\"negative\",\"negative\",\"slightly positive\",\"very negative\",\"slightly negative\",\"Neutral\",\"very negative\",\"Neutral\",\"positive\",\"slightly negative\",\"slightly negative\",\"slightly positive\",\"slightly positive\",\"very negative\",\"negative\",\"very negative\",\"slightly negative\",\"negative\",\"very negative\",\"negative\",\"slightly negative\",\"negative\",\"negative\",\"slightly positive\",\"slightly negative\",\"slightly negative\",\"negative\",\"slightly negative\",\"slightly negative\",\"Neutral\",\"positive\",\"positive\",\"positive\",\"very negative\",\"negative\",\"positive\",\"positive\",\"slightly positive\",\"negative\",\"slightly negative\",\"Neutral\",\"positive\",\"slightly positive\",\"slightly positive\",\"slightly positive\",\"positive\",\"Neutral\",\"slightly positive\",\"very negative\",\"slightly positive\",\"Neutral\",\"slightly negative\",\"positive\",\"slightly negative\",\"slightly negative\",\"Neutral\",\"very negative\",\"very negative\",\"very negative\",\"Neutral\",\"Neutral\",\"slightly negative\",\"slightly negative\",\"Neutral\",\"Neutral\",\"Neutral\",\"Neutral\",\"Neutral\",\"Neutral\",\"very negative\",\"slightly positive\",\"slightly negative\",\"negative\",\"Neutral\",\"Neutral\",\"negative\",\"slightly negative\",\"Neutral\",\"Neutral\",\"slightly positive\",\"positive\",\"negative\",\"slightly negative\",\"slightly positive\",\"Neutral\",\"positive\",\"slightly negative\",\"very positive\",\"very positive\",\"Neutral\",\"negative\",\"slightly negative\",\"negative\",\"slightly negative\",\"positive\",\"very positive\",\"very positive\",\"very positive\",\"slightly positive\",\"slightly negative\",\"slightly positive\",\"positive\",\"slightly positive\",\"very negative\",\"very negative\",\"very positive\",\"very negative\",\"slightly negative\",\"very negative\",\"slightly positive\",\"slightly negative\",\"negative\",\"negative\",\"negative\",\"negative\",\"slightly positive\",\"slightly positive\",\"slightly positive\",\"negative\",\"positive\",\"very negative\",\"negative\",\"positive\",\"positive\",\"slightly positive\",\"Neutral\",\"slightly positive\",\"negative\",\"slightly negative\",\"Neutral\",\"slightly positive\",\"Neutral\",\"slightly negative\",\"Neutral\",\"Neutral\",\"Neutral\",\"Neutral\",\"slightly positive\",\"Neutral\",\"positive\",\"slightly negative\",\"positive\",\"slightly negative\",\"positive\",\"slightly negative\",\"Neutral\",\"very negative\",\"very negative\",\"slightly negative\",\"slightly negative\",\"negative\",\"very negative\",\"very positive\",\"very negative\",\"very negative\",\"negative\",\"negative\",\"very positive\",\"very negative\",\"very negative\",\"Neutral\",\"negative\",\"negative\",\"negative\",\"negative\",\"positive\",\"very positive\",\"very negative\",\"negative\",\"very negative\",\"very negative\",\"very negative\",\"slightly positive\",\"slightly negative\",\"slightly positive\",\"very negative\",\"negative\",\"very negative\",\"negative\",\"Neutral\",\"slightly negative\",\"very negative\",\"negative\",\"slightly positive\",\"Neutral\",\"negative\",\"slightly positive\",\"negative\",\"Neutral\",\"negative\",\"slightly negative\",\"positive\",\"very negative\",\"slightly negative\",\"Neutral\",\"negative\",\"slightly negative\",\"Neutral\",\"slightly negative\",\"positive\",\"positive\",\"slightly positive\",\"negative\",\"Neutral\",\"negative\",\"positive\",\"positive\",\"positive\",\"slightly positive\",\"slightly positive\",\"slightly negative\",\"negative\",\"negative\",\"Neutral\",\"slightly positive\",\"slightly positive\",\"negative\",\"slightly positive\",\"slightly positive\",\"very positive\",\"slightly positive\",\"slightly positive\",\"very negative\",\"negative\",\"slightly negative\",\"very negative\",\"negative\",\"negative\",\"slightly positive\",\"negative\",\"Neutral\",\"negative\",\"slightly positive\",\"negative\",\"negative\",\"negative\",\"negative\",\"negative\",\"positive\",\"very positive\",\"very positive\",\"slightly negative\",\"negative\",\"positive\",\"slightly negative\",\"very negative\",\"negative\",\"negative\",\"positive\",\"positive\",\"slightly positive\",\"slightly negative\",\"very negative\",\"negative\",\"positive\",\"slightly positive\",\"positive\",\"slightly negative\",\"slightly positive\",\"very negative\",\"very positive\",\"slightly negative\",\"very negative\",\"very negative\",\"very negative\",\"Neutral\",\"negative\",\"negative\",\"very negative\",\"very negative\",\"slightly negative\",\"negative\",\"very negative\",\"negative\",\"negative\",\"negative\",\"very negative\",\"negative\",\"slightly positive\",\"very negative\",\"very negative\",\"very positive\",\"very positive\",\"very positive\",\"positive\",\"Neutral\",\"slightly positive\",\"negative\",\"slightly negative\",\"slightly negative\",\"negative\",\"negative\",\"very negative\",\"negative\",\"very negative\",\"negative\",\"negative\",\"Neutral\",\"very negative\",\"Neutral\",\"negative\",\"slightly positive\",\"very negative\",\"very negative\",\"positive\",\"positive\",\"negative\",\"negative\",\"Neutral\",\"very negative\",\"slightly negative\",\"negative\",\"negative\",\"Neutral\",\"slightly positive\",\"Neutral\",\"negative\",\"negative\",\"slightly negative\",\"slightly negative\",\"negative\",\"slightly negative\",\"negative\",\"slightly negative\",\"negative\",\"slightly negative\",\"very negative\",\"slightly negative\",\"negative\",\"Neutral\",\"negative\",\"negative\",\"Neutral\",\"Neutral\",\"slightly negative\",\"very positive\",\"Neutral\",\"slightly positive\",\"Neutral\",\"positive\",\"slightly positive\",\"positive\",\"positive\",\"positive\",\"very positive\",\"positive\",\"Neutral\",\"positive\",\"positive\",\"very positive\",\"Neutral\",\"positive\",\"very positive\",\"positive\",\"very positive\",\"slightly positive\",\"slightly positive\",\"positive\",\"negative\",\"very positive\",\"negative\",\"positive\",\"Neutral\",\"Neutral\",\"very negative\",\"very positive\",\"positive\",\"positive\",\"positive\",\"very positive\",\"very positive\",\"Neutral\",\"positive\",\"Neutral\",\"Neutral\",\"very positive\",\"positive\",\"very positive\",\"Neutral\",\"positive\",\"very positive\",\"slightly positive\",\"very positive\",\"slightly positive\",\"slightly positive\",\"slightly positive\",\"slightly negative\",\"Neutral\",\"slightly positive\",\"Neutral\",\"positive\",\"slightly negative\",\"Neutral\",\"negative\",\"negative\",\"Neutral\",\"positive\",\"positive\",\"slightly negative\",\"positive\",\"Neutral\",\"positive\",\"slightly negative\",\"slightly negative\",\"Neutral\",\"positive\",\"positive\",\"positive\",\"positive\",\"positive\",\"positive\",\"Neutral\",\"very positive\",\"positive\",\"slightly positive\",\"slightly positive\",\"slightly positive\",\"slightly positive\",\"slightly negative\",\"slightly positive\",\"slightly negative\",\"Neutral\",\"negative\",\"slightly negative\",\"slightly negative\",\"negative\",\"slightly negative\",\"negative\",\"very positive\",\"slightly positive\",\"slightly positive\",\"Neutral\",\"negative\",\"negative\",\"slightly negative\",\"Neutral\",\"positive\",\"very positive\",\"slightly negative\",\"negative\",\"slightly negative\",\"negative\",\"Neutral\",\"Neutral\",\"Neutral\",\"negative\",\"Neutral\",\"negative\",\"negative\",\"positive\",\"slightly negative\",\"negative\",\"slightly negative\",\"negative\",\"negative\",\"slightly negative\",\"very negative\",\"negative\",\"slightly positive\",\"negative\",\"negative\",\"slightly negative\",\"negative\",\"positive\",\"negative\",\"negative\",\"very negative\",\"slightly positive\",\"slightly positive\",\"slightly negative\",\"slightly negative\",\"slightly positive\",\"very negative\",\"negative\",\"slightly negative\",\"negative\",\"negative\",\"positive\",\"positive\",\"slightly positive\",\"slightly negative\",\"negative\",\"slightly positive\",\"slightly positive\",\"slightly negative\",\"Neutral\",\"slightly positive\",\"Neutral\",\"slightly positive\",\"positive\",\"slightly negative\",\"negative\",\"slightly negative\",\"slightly positive\",\"Neutral\",\"slightly positive\",\"slightly positive\"],\"x0\":\" \",\"xaxis\":\"x\",\"y\":[-0.9183494448661804,-1.9813562631607056,-0.9976269006729126,1.1474193334579468,-0.9186753034591675,-1.3578912019729614,-2.2286038398742676,1.442970871925354,1.316367745399475,0.26762375235557556,0.9161474704742432,-1.7187204360961914,1.1721776723861694,0.7903260588645935,-1.7872390747070312,-0.8681683540344238,0.5776548385620117,-1.729192852973938,0.8159222602844238,-1.121852993965149,-0.20347915589809418,-0.9442993998527527,-0.8853422999382019,-1.6437071561813354,0.99114990234375,-0.7417618036270142,0.03556006774306297,1.0091968774795532,1.297981858253479,1.6779654026031494,-0.7177141308784485,-1.2681159973144531,-1.8899661302566528,-0.7729095220565796,1.2195760011672974,-0.2612344026565552,0.8207414150238037,-1.468758225440979,2.6053121089935303,2.5672829151153564,-1.4053878784179688,0.8261750340461731,1.5982857942581177,1.65541410446167,0.07692994177341461,-1.6202245950698853,-1.4693950414657593,-1.2758004665374756,-0.5238915681838989,-0.7391737699508667,-0.002837841399013996,-0.47090595960617065,2.3332583904266357,1.609932780265808,2.0164201259613037,1.2569851875305176,1.9925365447998047,-1.3539832830429077,2.4032068252563477,-1.0854418277740479,-1.8912893533706665,1.4095066785812378,-1.1575506925582886,-1.6453238725662231,1.6278575658798218,2.465667724609375,2.244710922241211,0.26320016384124756,2.292759418487549,2.4538626670837402,0.1676853597164154,2.1930549144744873,-0.5843584537506104,-0.013712908141314983,1.5307056903839111,1.5410194396972656,-1.6799931526184082,1.7253119945526123,0.016225920990109444,-0.9407258629798889,0.34683576226234436,1.7221739292144775,2.611975908279419,-0.07015098631381989,2.25624418258667,-1.5183712244033813,-0.9743684530258179,-1.063041090965271,-1.5519859790802002,-0.4657745957374573,-1.308585286140442,-0.03779086470603943,-0.0946001186966896,-1.5034551620483398,-0.28318437933921814,0.08318064361810684,-0.6487492322921753,-0.3470526933670044,0.27069875597953796,-0.7870967388153076,-1.066778302192688,-1.8372339010238647,1.8367359638214111,-0.7891408205032349,1.9915517568588257,-1.1255273818969727,-0.0789012759923935,2.251960277557373,-0.36908435821533203,2.466198444366455,1.2547972202301025,0.46310096979141235,2.407036066055298,2.2698874473571777,1.813032627105713,0.6084287762641907,2.282198905944824,2.538052558898926,0.49542298913002014,-0.335919052362442,1.608142375946045,-2.63988995552063,-1.491551399230957,0.4946970045566559,-1.606460690498352,-0.8723956346511841,-1.1118109226226807,-0.09230490773916245,-1.324605107307434,-1.127302885055542,-0.6881301403045654,-0.803295910358429,1.6189123392105103,-1.762402892112732,-1.8461639881134033,-1.0759111642837524,-2.038980007171631,-1.7372769117355347,-1.9728245735168457,-0.9726542234420776,0.582042396068573,-2.0798189640045166,-1.9019657373428345,-2.252894163131714,-1.9849857091903687,-1.598588466644287,-1.6068576574325562,-2.035507917404175,-0.908439040184021,-1.556057095527649,-2.353001594543457,-1.1829922199249268,0.26083216071128845,-2.5009608268737793,-2.035507917404175,-1.769649863243103,-1.8775285482406616,-1.696486234664917,-1.5814703702926636,-2.4434220790863037,-1.6331864595413208,-2.6222405433654785,-1.1073552370071411,1.3854297399520874,0.6577385663986206,-0.369833767414093,-2.1161177158355713,0.9841276407241821,-0.5008779764175415,-0.08378269523382187,-1.381384253501892,0.16954687237739563,-1.1758662462234497,1.6022342443466187,0.2276407778263092,-0.11448775976896286,1.2404261827468872,1.0698121786117554,1.2697256803512573,-1.1892186403274536,-0.2048909068107605,-2.032261610031128,0.972109854221344,0.9193753004074097,0.6586562395095825,-0.8900689482688904,-1.4589227437973022,-2.116222620010376,-1.42560613155365,-1.1333472728729248,-0.9820196032524109,-0.9966628551483154,-1.600107192993164,-0.6731615662574768,-1.987186074256897,-1.6726888418197632,1.5832911729812622,-1.2656503915786743,-0.4547681510448456,1.540894627571106,0.9187466502189636,-1.7088068723678589,-1.5471062660217285,-1.6040529012680054,-1.402720332145691,-0.6900269389152527,-2.1192879676818848,-0.9163520336151123,-2.264066219329834,-1.365759015083313,-0.09683466702699661,0.4610854983329773,0.043608661741018295,1.8222815990447998,-0.068808414041996,-0.9896630048751831,-1.3266880512237549,-0.22889378666877747,1.686952829360962,0.9200800061225891,1.7541778087615967,-0.6182143688201904,-2.5636112689971924,1.1477843523025513,1.9023046493530273,2.0300517082214355,0.39601826667785645,-1.7634726762771606,0.9672224521636963,0.4050116240978241,-0.33331188559532166,-0.26081299781799316,1.3390169143676758,1.398814082145691,-1.8715476989746094,1.4679982662200928,-0.9910876154899597,0.15255728363990784,-1.3297834396362305,0.42887985706329346,1.5407588481903076,-1.3994202613830566,-1.510063886642456,0.374553382396698,-1.2374767065048218,-0.8310441970825195,-2.2624757289886475,-0.04796907305717468,-1.011587381362915,-1.0015597343444824,-1.4376896619796753,0.2792823910713196,-0.027244355529546738,-0.11944806575775146,0.1656009703874588,-0.3728872835636139,-0.026062941178679466,0.37168049812316895,1.1020681858062744,-0.48120957612991333,-1.4380866289138794,-0.6548641324043274,1.5026293992996216,-1.673377513885498,0.35824263095855713,1.0496492385864258,-0.6251462697982788,-0.3171898126602173,1.9720150232315063,-1.3618322610855103,-1.0151249170303345,1.2477095127105713,-0.3263061046600342,2.362640380859375,0.6359187364578247,2.8835787773132324,2.4364218711853027,1.00095534324646,0.8723490834236145,-0.0623350627720356,-1.4171390533447266,-1.1309033632278442,2.2664613723754883,2.68076491355896,1.8905695676803589,2.2790346145629883,0.6918904781341553,-0.06712780892848969,0.9968611598014832,0.17267249524593353,1.5599780082702637,-2.679032802581787,-2.3283233642578125,-0.9149227738380432,-2.458510637283325,0.03937704861164093,-1.7289494276046753,1.1764425039291382,-1.2030168771743774,-1.7480772733688354,-1.063887596130371,-1.963895559310913,-0.10281312465667725,-0.3531306982040405,2.138131856918335,1.6296164989471436,-1.842477560043335,1.8110681772232056,-2.579779624938965,-0.6762781143188477,2.333341121673584,1.021358609199524,0.5089282989501953,0.41298913955688477,-0.472630113363266,-0.7421286106109619,2.3063900470733643,-0.3417210876941681,1.7158082723617554,1.3464329242706299,0.17573148012161255,0.3310559391975403,-1.7048536539077759,1.5280520915985107,1.3038930892944336,1.1771595478057861,-0.2158021777868271,1.3438498973846436,-0.03481408581137657,1.4469809532165527,-0.6049641370773315,1.7468671798706055,-0.8383289575576782,1.6805448532104492,-1.5929509401321411,-1.697396993637085,-1.5073779821395874,0.36794513463974,-1.7242212295532227,-0.9900595545768738,2.365990400314331,-2.2615373134613037,-1.9129775762557983,-1.799830675125122,-2.4154744148254395,2.4809441566467285,-2.5234062671661377,-2.549288272857666,-1.8046925067901611,-0.3687956631183624,-1.2407656908035278,-1.9692155122756958,-1.4368847608566284,1.5445642471313477,2.478379011154175,-0.08172117918729782,-2.1551361083984375,-1.3465685844421387,-1.7821645736694336,-1.797378659248352,1.3545787334442139,-1.0156241655349731,0.9846323728561401,0.8102310299873352,-0.9065515995025635,-0.5815922617912292,-0.7424778938293457,-0.20152458548545837,-1.073311448097229,-0.6942208409309387,-0.5491796135902405,1.825256586074829,1.2843382358551025,0.5778108835220337,2.7045650482177734,-1.4222279787063599,-0.1972081959247589,-1.7752612829208374,-1.2286319732666016,2.4263739585876465,-1.11888587474823,-0.9413653612136841,-1.2211695909500122,-0.9556770324707031,-0.273947149515152,-0.8083475828170776,0.09753125160932541,1.616127371788025,1.2850937843322754,2.2939672470092773,0.9966112375259399,0.24281392991542816,-1.450966715812683,2.1101887226104736,2.234227180480957,2.0137014389038086,2.0443854331970215,0.33136892318725586,-1.0916004180908203,-0.9382076859474182,-1.8572455644607544,-1.456427812576294,2.321592092514038,2.5209500789642334,-1.7223180532455444,1.6345633268356323,2.5072498321533203,2.4192798137664795,-0.19971083104610443,1.1178362369537354,-0.9291884303092957,0.10763105005025864,-0.2190709263086319,-0.41799062490463257,-1.7087441682815552,0.20028997957706451,0.6887845396995544,-2.267455577850342,0.1314244121313095,-1.620099663734436,-0.6858385801315308,0.8744381666183472,0.10613497346639633,-1.6520843505859375,-0.15098528563976288,-0.8952932953834534,2.1572747230529785,1.5748051404953003,2.4091649055480957,-0.6817492842674255,-1.546030879020691,1.5867202281951904,-0.21934621036052704,-1.850415825843811,0.47577565908432007,-1.25661039352417,1.9227491617202759,-0.10851077735424042,1.4244725704193115,-0.40826401114463806,0.13479086756706238,0.8826031684875488,2.0091800689697266,0.7154586315155029,1.2169135808944702,2.1951351165771484,1.7307692766189575,-2.3187694549560547,1.406202793121338,0.0664840117096901,-2.6088173389434814,-1.3932580947875977,-1.4804222583770752,0.028953375294804573,-2.206110954284668,-1.479231357574463,-1.227972149848938,-1.6847889423370361,0.05692402645945549,-1.7762622833251953,-1.674106478691101,-1.5380024909973145,-0.7662493586540222,-1.100447416305542,-1.323909044265747,-1.5072457790374756,1.8428155183792114,-1.2395094633102417,-1.9069536924362183,2.2268640995025635,2.108038902282715,1.3886926174163818,-0.02992984838783741,1.6177693605422974,0.9591575860977173,-1.3383362293243408,-1.2102242708206177,0.2601560354232788,-0.7470086812973022,-0.7717248201370239,-2.218674421310425,-0.31162968277931213,-1.1612411737442017,1.51533043384552,-0.8087319731712341,1.4634112119674683,-2.203136682510376,0.10685638338327408,-1.9121618270874023,1.3652958869934082,-2.3615548610687256,-1.7643128633499146,1.6353883743286133,1.927188754081726,-1.1948322057724,-0.5120219588279724,-0.5341736674308777,-2.557377815246582,0.285304993391037,0.9784693717956543,-0.6161404848098755,0.970234751701355,1.4411855936050415,0.6239452362060547,-2.715200662612915,-1.984836220741272,-1.7433135509490967,-0.9227208495140076,-1.0031342506408691,-0.5414233207702637,-1.785159707069397,0.20127247273921967,0.030363840982317924,0.06618648022413254,-1.612118124961853,-0.3734491765499115,-1.1451354026794434,-0.37678471207618713,-1.0115526914596558,-0.33141010999679565,-0.8411481380462646,0.7948329448699951,-0.47262781858444214,0.9281611442565918,1.7525622844696045,-0.4338933229446411,-0.6873153448104858,2.381476879119873,1.994282841682434,-0.06312309950590134,1.3292938470840454,2.0110862255096436,1.130025029182434,1.2637312412261963,-1.441556692123413,0.0399024523794651,2.0387303829193115,2.2836527824401855,0.47922617197036743,2.007814407348633,2.4768829345703125,-1.0920928716659546,0.9522049427032471,1.8758747577667236,-1.4149984121322632,0.6234994530677795,-0.43788203597068787,2.2753310203552246,-0.3533641993999481,1.3045636415481567,1.452097773551941,0.2693011164665222,-1.5797697305679321,1.8349493741989136,2.0169503688812256,2.132286548614502,1.8112272024154663,2.097287654876709,2.1257176399230957,0.24261973798274994,1.2140504121780396,-0.39243775606155396,0.3166946768760681,1.9722304344177246,2.273792266845703,1.9913790225982666,0.906830906867981,1.4419664144515991,2.1958954334259033,1.3853144645690918,1.8483607769012451,0.005492278374731541,0.44362857937812805,0.8048181533813477,-0.8266602754592896,0.6115196347236633,-1.4951984882354736,1.9481970071792603,0.1776200532913208,-1.1045295000076294,0.2323206663131714,-1.5587185621261597,-1.5501340627670288,-1.2286250591278076,1.6361511945724487,1.7381149530410767,-1.2772873640060425,-0.08832217007875443,-0.5082912445068359,1.6955894231796265,-1.392818808555603,-0.29438722133636475,0.6810865998268127,1.8502684831619263,1.8722306489944458,1.9337650537490845,1.4592595100402832,1.1629526615142822,1.217200517654419,0.2682071328163147,2.185206174850464,2.4487361907958984,0.43346577882766724,1.579994559288025,-1.031214952468872,-0.10257824510335922,-0.23188410699367523,-1.1457525491714478,-2.356607675552368,0.07942710071802139,-1.447435975074768,0.6577997803688049,-0.498388409614563,0.08047129958868027,-2.2055211067199707,-1.2383495569229126,2.6229164600372314,1.4335664510726929,0.08764059096574783,0.2728564739227295,-1.3690414428710938,-1.6130951642990112,-0.3866782486438751,-0.03140164166688919,2.02394962310791,1.910978078842163,-0.5612486600875854,-0.4458228051662445,-1.8365651369094849,-1.9254353046417236,-0.7572013139724731,-0.509615957736969,-1.1787501573562622,-1.5843075513839722,-0.9585524797439575,-1.4159765243530273,-1.6039642095565796,0.49420273303985596,-0.7992300391197205,-1.8033150434494019,-1.4788824319839478,-1.6801402568817139,-1.98456609249115,-0.38108083605766296,-2.2874295711517334,-0.8901920318603516,1.6123690605163574,-0.2608610987663269,-2.2019577026367188,-0.6584400534629822,-1.5445072650909424,2.3198485374450684,-1.5886650085449219,-2.0894880294799805,-1.9683605432510376,0.5399929881095886,0.95753014087677,-1.8471511602401733,-0.7704540491104126,0.730361819267273,-2.152876615524292,-0.9282256364822388,-1.2974086999893188,-2.1979446411132812,-2.035275936126709,1.9410244226455688,2.0246798992156982,1.7225552797317505,-0.13050319254398346,0.2642154097557068,0.17151832580566406,-0.8063568472862244,-0.24457018077373505,-0.3341379761695862,0.7186921834945679,0.7556973695755005,1.188143253326416,1.6441702842712402,-1.6167421340942383,-1.8620604276657104,-1.0338451862335205,0.6833649277687073,0.8714730739593506,2.039048194885254,2.061363697052002],\"y0\":\" \",\"yaxis\":\"y\",\"type\":\"box\"},{\"mode\":\"markers\",\"name\":\"mean\",\"x\":[\"very negative\",\"negative\",\"slightly negative\",\"Neutral\",\"slightly positive\",\"positive\",\"very positive\"],\"y\":[-1.4862388302572072,-1.0857733789698354,-0.6329636780001158,0.06936226909359296,0.8269013767605837,1.535324853012695,1.7233734207499463],\"type\":\"scatter\"},{\"mode\":\"markers\",\"name\":\"gold\",\"x\":[\"very negative\",\"negative\",\"slightly negative\",\"Neutral\",\"slightly positive\",\"positive\",\"very positive\"],\"y\":[-3,-2,-1,0,1,2,3],\"type\":\"scatter\"}],                        {\"template\":{\"data\":{\"histogram2dcontour\":[{\"type\":\"histogram2dcontour\",\"colorbar\":{\"outlinewidth\":0,\"ticks\":\"\"},\"colorscale\":[[0.0,\"#0d0887\"],[0.1111111111111111,\"#46039f\"],[0.2222222222222222,\"#7201a8\"],[0.3333333333333333,\"#9c179e\"],[0.4444444444444444,\"#bd3786\"],[0.5555555555555556,\"#d8576b\"],[0.6666666666666666,\"#ed7953\"],[0.7777777777777778,\"#fb9f3a\"],[0.8888888888888888,\"#fdca26\"],[1.0,\"#f0f921\"]]}],\"choropleth\":[{\"type\":\"choropleth\",\"colorbar\":{\"outlinewidth\":0,\"ticks\":\"\"}}],\"histogram2d\":[{\"type\":\"histogram2d\",\"colorbar\":{\"outlinewidth\":0,\"ticks\":\"\"},\"colorscale\":[[0.0,\"#0d0887\"],[0.1111111111111111,\"#46039f\"],[0.2222222222222222,\"#7201a8\"],[0.3333333333333333,\"#9c179e\"],[0.4444444444444444,\"#bd3786\"],[0.5555555555555556,\"#d8576b\"],[0.6666666666666666,\"#ed7953\"],[0.7777777777777778,\"#fb9f3a\"],[0.8888888888888888,\"#fdca26\"],[1.0,\"#f0f921\"]]}],\"heatmap\":[{\"type\":\"heatmap\",\"colorbar\":{\"outlinewidth\":0,\"ticks\":\"\"},\"colorscale\":[[0.0,\"#0d0887\"],[0.1111111111111111,\"#46039f\"],[0.2222222222222222,\"#7201a8\"],[0.3333333333333333,\"#9c179e\"],[0.4444444444444444,\"#bd3786\"],[0.5555555555555556,\"#d8576b\"],[0.6666666666666666,\"#ed7953\"],[0.7777777777777778,\"#fb9f3a\"],[0.8888888888888888,\"#fdca26\"],[1.0,\"#f0f921\"]]}],\"heatmapgl\":[{\"type\":\"heatmapgl\",\"colorbar\":{\"outlinewidth\":0,\"ticks\":\"\"},\"colorscale\":[[0.0,\"#0d0887\"],[0.1111111111111111,\"#46039f\"],[0.2222222222222222,\"#7201a8\"],[0.3333333333333333,\"#9c179e\"],[0.4444444444444444,\"#bd3786\"],[0.5555555555555556,\"#d8576b\"],[0.6666666666666666,\"#ed7953\"],[0.7777777777777778,\"#fb9f3a\"],[0.8888888888888888,\"#fdca26\"],[1.0,\"#f0f921\"]]}],\"contourcarpet\":[{\"type\":\"contourcarpet\",\"colorbar\":{\"outlinewidth\":0,\"ticks\":\"\"}}],\"contour\":[{\"type\":\"contour\",\"colorbar\":{\"outlinewidth\":0,\"ticks\":\"\"},\"colorscale\":[[0.0,\"#0d0887\"],[0.1111111111111111,\"#46039f\"],[0.2222222222222222,\"#7201a8\"],[0.3333333333333333,\"#9c179e\"],[0.4444444444444444,\"#bd3786\"],[0.5555555555555556,\"#d8576b\"],[0.6666666666666666,\"#ed7953\"],[0.7777777777777778,\"#fb9f3a\"],[0.8888888888888888,\"#fdca26\"],[1.0,\"#f0f921\"]]}],\"surface\":[{\"type\":\"surface\",\"colorbar\":{\"outlinewidth\":0,\"ticks\":\"\"},\"colorscale\":[[0.0,\"#0d0887\"],[0.1111111111111111,\"#46039f\"],[0.2222222222222222,\"#7201a8\"],[0.3333333333333333,\"#9c179e\"],[0.4444444444444444,\"#bd3786\"],[0.5555555555555556,\"#d8576b\"],[0.6666666666666666,\"#ed7953\"],[0.7777777777777778,\"#fb9f3a\"],[0.8888888888888888,\"#fdca26\"],[1.0,\"#f0f921\"]]}],\"mesh3d\":[{\"type\":\"mesh3d\",\"colorbar\":{\"outlinewidth\":0,\"ticks\":\"\"}}],\"scatter\":[{\"fillpattern\":{\"fillmode\":\"overlay\",\"size\":10,\"solidity\":0.2},\"type\":\"scatter\"}],\"parcoords\":[{\"type\":\"parcoords\",\"line\":{\"colorbar\":{\"outlinewidth\":0,\"ticks\":\"\"}}}],\"scatterpolargl\":[{\"type\":\"scatterpolargl\",\"marker\":{\"colorbar\":{\"outlinewidth\":0,\"ticks\":\"\"}}}],\"bar\":[{\"error_x\":{\"color\":\"#2a3f5f\"},\"error_y\":{\"color\":\"#2a3f5f\"},\"marker\":{\"line\":{\"color\":\"#E5ECF6\",\"width\":0.5},\"pattern\":{\"fillmode\":\"overlay\",\"size\":10,\"solidity\":0.2}},\"type\":\"bar\"}],\"scattergeo\":[{\"type\":\"scattergeo\",\"marker\":{\"colorbar\":{\"outlinewidth\":0,\"ticks\":\"\"}}}],\"scatterpolar\":[{\"type\":\"scatterpolar\",\"marker\":{\"colorbar\":{\"outlinewidth\":0,\"ticks\":\"\"}}}],\"histogram\":[{\"marker\":{\"pattern\":{\"fillmode\":\"overlay\",\"size\":10,\"solidity\":0.2}},\"type\":\"histogram\"}],\"scattergl\":[{\"type\":\"scattergl\",\"marker\":{\"colorbar\":{\"outlinewidth\":0,\"ticks\":\"\"}}}],\"scatter3d\":[{\"type\":\"scatter3d\",\"line\":{\"colorbar\":{\"outlinewidth\":0,\"ticks\":\"\"}},\"marker\":{\"colorbar\":{\"outlinewidth\":0,\"ticks\":\"\"}}}],\"scattermapbox\":[{\"type\":\"scattermapbox\",\"marker\":{\"colorbar\":{\"outlinewidth\":0,\"ticks\":\"\"}}}],\"scatterternary\":[{\"type\":\"scatterternary\",\"marker\":{\"colorbar\":{\"outlinewidth\":0,\"ticks\":\"\"}}}],\"scattercarpet\":[{\"type\":\"scattercarpet\",\"marker\":{\"colorbar\":{\"outlinewidth\":0,\"ticks\":\"\"}}}],\"carpet\":[{\"aaxis\":{\"endlinecolor\":\"#2a3f5f\",\"gridcolor\":\"white\",\"linecolor\":\"white\",\"minorgridcolor\":\"white\",\"startlinecolor\":\"#2a3f5f\"},\"baxis\":{\"endlinecolor\":\"#2a3f5f\",\"gridcolor\":\"white\",\"linecolor\":\"white\",\"minorgridcolor\":\"white\",\"startlinecolor\":\"#2a3f5f\"},\"type\":\"carpet\"}],\"table\":[{\"cells\":{\"fill\":{\"color\":\"#EBF0F8\"},\"line\":{\"color\":\"white\"}},\"header\":{\"fill\":{\"color\":\"#C8D4E3\"},\"line\":{\"color\":\"white\"}},\"type\":\"table\"}],\"barpolar\":[{\"marker\":{\"line\":{\"color\":\"#E5ECF6\",\"width\":0.5},\"pattern\":{\"fillmode\":\"overlay\",\"size\":10,\"solidity\":0.2}},\"type\":\"barpolar\"}],\"pie\":[{\"automargin\":true,\"type\":\"pie\"}]},\"layout\":{\"autotypenumbers\":\"strict\",\"colorway\":[\"#636efa\",\"#EF553B\",\"#00cc96\",\"#ab63fa\",\"#FFA15A\",\"#19d3f3\",\"#FF6692\",\"#B6E880\",\"#FF97FF\",\"#FECB52\"],\"font\":{\"color\":\"#2a3f5f\"},\"hovermode\":\"closest\",\"hoverlabel\":{\"align\":\"left\"},\"paper_bgcolor\":\"white\",\"plot_bgcolor\":\"#E5ECF6\",\"polar\":{\"bgcolor\":\"#E5ECF6\",\"angularaxis\":{\"gridcolor\":\"white\",\"linecolor\":\"white\",\"ticks\":\"\"},\"radialaxis\":{\"gridcolor\":\"white\",\"linecolor\":\"white\",\"ticks\":\"\"}},\"ternary\":{\"bgcolor\":\"#E5ECF6\",\"aaxis\":{\"gridcolor\":\"white\",\"linecolor\":\"white\",\"ticks\":\"\"},\"baxis\":{\"gridcolor\":\"white\",\"linecolor\":\"white\",\"ticks\":\"\"},\"caxis\":{\"gridcolor\":\"white\",\"linecolor\":\"white\",\"ticks\":\"\"}},\"coloraxis\":{\"colorbar\":{\"outlinewidth\":0,\"ticks\":\"\"}},\"colorscale\":{\"sequential\":[[0.0,\"#0d0887\"],[0.1111111111111111,\"#46039f\"],[0.2222222222222222,\"#7201a8\"],[0.3333333333333333,\"#9c179e\"],[0.4444444444444444,\"#bd3786\"],[0.5555555555555556,\"#d8576b\"],[0.6666666666666666,\"#ed7953\"],[0.7777777777777778,\"#fb9f3a\"],[0.8888888888888888,\"#fdca26\"],[1.0,\"#f0f921\"]],\"sequentialminus\":[[0.0,\"#0d0887\"],[0.1111111111111111,\"#46039f\"],[0.2222222222222222,\"#7201a8\"],[0.3333333333333333,\"#9c179e\"],[0.4444444444444444,\"#bd3786\"],[0.5555555555555556,\"#d8576b\"],[0.6666666666666666,\"#ed7953\"],[0.7777777777777778,\"#fb9f3a\"],[0.8888888888888888,\"#fdca26\"],[1.0,\"#f0f921\"]],\"diverging\":[[0,\"#8e0152\"],[0.1,\"#c51b7d\"],[0.2,\"#de77ae\"],[0.3,\"#f1b6da\"],[0.4,\"#fde0ef\"],[0.5,\"#f7f7f7\"],[0.6,\"#e6f5d0\"],[0.7,\"#b8e186\"],[0.8,\"#7fbc41\"],[0.9,\"#4d9221\"],[1,\"#276419\"]]},\"xaxis\":{\"gridcolor\":\"white\",\"linecolor\":\"white\",\"ticks\":\"\",\"title\":{\"standoff\":15},\"zerolinecolor\":\"white\",\"automargin\":true,\"zerolinewidth\":2},\"yaxis\":{\"gridcolor\":\"white\",\"linecolor\":\"white\",\"ticks\":\"\",\"title\":{\"standoff\":15},\"zerolinecolor\":\"white\",\"automargin\":true,\"zerolinewidth\":2},\"scene\":{\"xaxis\":{\"backgroundcolor\":\"#E5ECF6\",\"gridcolor\":\"white\",\"linecolor\":\"white\",\"showbackground\":true,\"ticks\":\"\",\"zerolinecolor\":\"white\",\"gridwidth\":2},\"yaxis\":{\"backgroundcolor\":\"#E5ECF6\",\"gridcolor\":\"white\",\"linecolor\":\"white\",\"showbackground\":true,\"ticks\":\"\",\"zerolinecolor\":\"white\",\"gridwidth\":2},\"zaxis\":{\"backgroundcolor\":\"#E5ECF6\",\"gridcolor\":\"white\",\"linecolor\":\"white\",\"showbackground\":true,\"ticks\":\"\",\"zerolinecolor\":\"white\",\"gridwidth\":2}},\"shapedefaults\":{\"line\":{\"color\":\"#2a3f5f\"}},\"annotationdefaults\":{\"arrowcolor\":\"#2a3f5f\",\"arrowhead\":0,\"arrowwidth\":1},\"geo\":{\"bgcolor\":\"white\",\"landcolor\":\"#E5ECF6\",\"subunitcolor\":\"white\",\"showland\":true,\"showlakes\":true,\"lakecolor\":\"white\"},\"title\":{\"x\":0.05},\"mapbox\":{\"style\":\"light\"}}},\"xaxis\":{\"anchor\":\"y\",\"domain\":[0.0,1.0],\"title\":{\"text\":\"labels_7\"},\"categoryorder\":\"array\",\"categoryarray\":[\"very negative\",\"negative\",\"slightly negative\",\"Neutral\",\"slightly positive\",\"positive\",\"very positive\"]},\"yaxis\":{\"anchor\":\"x\",\"domain\":[0.0,1.0],\"title\":{\"text\":\"preds\"}},\"legend\":{\"tracegroupgap\":0},\"margin\":{\"t\":60},\"boxmode\":\"group\",\"title\":{\"text\":\"CMU-MOSI MAGBERT prediction value distribution\"}},                        {\"responsive\": true}                    ).then(function(){\n",
       "                            \n",
       "var gd = document.getElementById('5f2bb93b-1609-48b2-a5aa-616c88aeb3e4');\n",
       "var x = new MutationObserver(function (mutations, observer) {{\n",
       "        var display = window.getComputedStyle(gd).display;\n",
       "        if (!display || display === 'none') {{\n",
       "            console.log([gd, 'removed!']);\n",
       "            Plotly.purge(gd);\n",
       "            observer.disconnect();\n",
       "        }}\n",
       "}});\n",
       "\n",
       "// Listen for the removal of the full notebook cells\n",
       "var notebookContainer = gd.closest('#notebook-container');\n",
       "if (notebookContainer) {{\n",
       "    x.observe(notebookContainer, {childList: true});\n",
       "}}\n",
       "\n",
       "// Listen for the clearing of the current output cell\n",
       "var outputEl = gd.closest('.output');\n",
       "if (outputEl) {{\n",
       "    x.observe(outputEl, {childList: true});\n",
       "}}\n",
       "\n",
       "                        })                };                });            </script>        </div>"
      ]
     },
     "metadata": {},
     "output_type": "display_data"
    }
   ],
   "source": [
    "import plotly.express as px\n",
    "import plotly.subplots as sp\n",
    "import plotly.graph_objects as go\n",
    "import pandas as pd\n",
    "\n",
    "d = {'segmentID': segment_list, 'words': words_list, 'labels': labels, 'labels_2': labels_2, 'labels_7': labels_7, 'preds': preds, 'preds_2': preds_2, 'preds_7': preds_7}\n",
    "df = pd.DataFrame(data=d)\n",
    "order = ['very negative', 'negative', 'slightly negative', 'Neutral', 'slightly positive', 'positive', 'very positive']\n",
    "\n",
    "fig = px.box(df, x=\"labels_7\", y=\"preds\", points=\"all\")\n",
    "fig.add_trace(\n",
    "    go.Scatter(x=order, y=[np.mean(label_VN), np.mean(label_N), np.mean(label_SN), np.mean(label_Neu), np.mean(label_SP), np.mean(label_P), np.mean(label_VP)], \\\n",
    "         mode='markers', name=\"mean\"))\n",
    "fig.add_trace(go.Scatter(x=order, y=[-3, -2, -1, 0, 1, 2, 3], mode='markers', name=\"gold\"))\n",
    "\n",
    "fig.update_xaxes(categoryorder='array', categoryarray= order)\n",
    "fig.update_layout(title_text=\"CMU-MOSI MAGBERT prediction value distribution\")\n",
    "fig.show()"
   ]
  },
  {
   "cell_type": "markdown",
   "metadata": {},
   "source": [
    "## Sentiment Intensity Regression Error Distribution"
   ]
  },
  {
   "cell_type": "code",
   "execution_count": 52,
   "metadata": {},
   "outputs": [],
   "source": [
    "error_VN, error_N, error_SN, error_Neu, error_SP, error_P, error_VP = [], [], [], [], [], [], []\n",
    "\n",
    "for idx in range(len(segment_list)):\n",
    "    if labels_7[idx] == 'very negative': error_VN.append(abs(preds[idx] - (-3.0)))\n",
    "    if labels_7[idx] == 'negative': error_N.append(abs(preds[idx] - (-2.0)))\n",
    "    if labels_7[idx] == 'slightly negative': error_SN.append(abs(preds[idx] - (-1.0)))\n",
    "    if labels_7[idx] == 'Neutral': error_Neu.append(abs(preds[idx]))\n",
    "    if labels_7[idx] == 'slightly positive': error_SP.append(abs(preds[idx] - 1.0))\n",
    "    if labels_7[idx] == 'positive': error_P.append(abs(preds[idx] - 2.0))\n",
    "    if labels_7[idx] == 'very positive': error_VP.append(abs(preds[idx] - 3.0))"
   ]
  },
  {
   "cell_type": "code",
   "execution_count": 32,
   "metadata": {},
   "outputs": [
    {
     "data": {
      "application/vnd.plotly.v1+json": {
       "config": {
        "plotlyServerURL": "https://plot.ly"
       },
       "data": [
        {
         "boxpoints": "all",
         "jitter": 0,
         "marker": {
          "color": "#1984c5"
         },
         "name": "very negative",
         "type": "box",
         "y": [
          2.0816505551338196,
          1.0186437368392944,
          2.0813246965408325,
          1.6421087980270386,
          0.7713961601257324,
          4.442970871925354,
          1.2812795639038086,
          4.172177672386169,
          1.2127609252929688,
          1.270807147026062,
          2.0557006001472473,
          2.258238196372986,
          1.7318840026855469,
          1.5306049585342407,
          1.7241995334625244,
          2.476108431816101,
          2.2608262300491333,
          1.6460167169570923,
          1.3546761274337769,
          1.933221697807312,
          0.3601100444793701,
          2.9076950922608376,
          1.675394892692566,
          1.872697114944458,
          2.0273457765579224,
          0.9201810359954834,
          0.7471058368682861,
          1.0150142908096313,
          1.3931423425674438,
          0.9644920825958252,
          0.646998405456543,
          0.4990391731262207,
          0.9644920825958252,
          1.1224714517593384,
          1.303513765335083,
          1.4185296297073364,
          0.5565779209136963,
          0.3777594566345215,
          4.385429739952087,
          0.883777379989624,
          2.0033371448516846,
          1.012813925743103,
          1.2911931276321411,
          1.3959470987319946,
          0.8807120323181152,
          2.3817856311798096,
          2.0089123845100403,
          1.7625232934951782,
          2.1689558029174805,
          0.7375242710113525,
          3.371680498123169,
          0.3209671974182129,
          0.6716766357421875,
          0.5414893627166748,
          1.2710505723953247,
          0.42022037506103516,
          1.4070490598678589,
          1.302603006362915,
          2.009940445423126,
          0.7384626865386963,
          1.0870224237442017,
          0.4765937328338623,
          0.450711727142334,
          2.918278820812702,
          1.6534314155578613,
          1.2178354263305664,
          1.202621340751648,
          3.810231029987335,
          2.4184077382087708,
          2.3057791590690613,
          1.88111412525177,
          2.0708115696907043,
          2.5820093750953674,
          1.149584174156189,
          3.1347908675670624,
          0.6812305450439453,
          0.39118266105651855,
          1.6067419052124023,
          1.5195777416229248,
          1.772027850151062,
          1.3152110576629639,
          1.325893521308899,
          1.676090955734253,
          1.7604905366897583,
          1.0930463075637817,
          0.7813255786895752,
          1.8387588262557983,
          0.796863317489624,
          0.6384451389312744,
          1.2356871366500854,
          0.44262218475341797,
          1.387881875038147,
          1.4202302694320679,
          0.7125704288482666,
          1.0316394567489624,
          0.847123384475708
         ]
        },
        {
         "boxpoints": "all",
         "jitter": 0,
         "marker": {
          "color": "#22a7f0"
         },
         "name": "negative",
         "type": "box",
         "y": [
          1.1318316459655762,
          2.5776548385620117,
          2.815922260284424,
          0.8781470060348511,
          0.35629284381866455,
          2.035560067743063,
          1.2822858691215515,
          0.11003386974334717,
          0.37977540493011475,
          0.16276609897613525,
          0.508448600769043,
          0.39353930950164795,
          1.127604365348816,
          0.8881890773773193,
          0.23759710788726807,
          0.15383601188659668,
          0.9240888357162476,
          0.03898000717163086,
          0.26272308826446533,
          0.027175426483154297,
          0.4014115333557129,
          0.4439429044723511,
          0.8170077800750732,
          0.23035013675689697,
          0.8926447629928589,
          1.630166232585907,
          0.6186157464981079,
          1.8855122402310371,
          3.0698121786117554,
          0.03226161003112793,
          0.5743938684463501,
          0.8666527271270752,
          0.4528937339782715,
          1.3099730610847473,
          1.0836479663848877,
          0.634240984916687,
          1.9031653329730034,
          1.931191585958004,
          0.5636112689971924,
          2.3960182666778564,
          0.5619133710861206,
          0.32662248611450195,
          0.6381677389144897,
          2.8723490834236145,
          0.5828609466552734,
          0.25192272663116455,
          0.9361124038696289,
          0.036104440689086914,
          1.8971868753433228,
          0.15752243995666504,
          1.3237218856811523,
          1.257871389389038,
          0.27577877044677734,
          0.20016932487487793,
          0.41547441482543945,
          1.6312043368816376,
          0.7592343091964722,
          0.0307844877243042,
          0.5631152391433716,
          0.1551361083984375,
          1.0934484004974365,
          1.2575221061706543,
          1.4508203864097595,
          2.5778108835220337,
          0.5777720212936401,
          0.2247387170791626,
          1.0443229675292969,
          2.99661123752594,
          0.5490332841873169,
          1.0617923140525818,
          0.1427544355392456,
          0.27768194675445557,
          2.1076310500502586,
          0.2912558317184448,
          2.2002899795770645,
          0.2674555778503418,
          0.37990033626556396,
          2.874438166618347,
          2.1061349734663963,
          0.3479156494140625,
          1.8490147143602371,
          1.1047067046165466,
          0.4539691209793091,
          2.47577565908432,
          0.7433896064758301,
          2.882603168487549,
          0.20611095428466797,
          0.5207686424255371,
          0.2237377166748047,
          0.46199750900268555,
          1.2337506413459778,
          0.899552583694458,
          0.4927542209625244,
          0.6616637706756592,
          1.2529913187026978,
          1.228275179862976,
          1.6883703172206879,
          3.51533043384552,
          1.1912680268287659,
          0.08783817291259766,
          0.8051677942276001,
          1.4879780411720276,
          2.9784693717956543,
          1.3838595151901245,
          0.715200662612915,
          0.015163779258728027,
          0.9968657493591309,
          0.21484029293060303,
          2.030363840982318,
          0.8548645973205566,
          0.9884473085403442,
          1.6685898900032043,
          1.5621179640293121,
          1.6466358006000519,
          0.44128143787384033,
          0.4498659372329712,
          0.5525640249252319,
          2.0804712995886803,
          0.7616504430770874,
          0.6309585571289062,
          0.38690483570098877,
          1.5541771948337555,
          0.07456469535827637,
          0.41569244861602783,
          0.5840234756469727,
          0.3960357904434204,
          0.19668495655059814,
          0.31985974311828613,
          0.015433907508850098,
          1.1098079681396484,
          1.739138901233673,
          0.20195770263671875,
          0.4554927349090576,
          0.4113349914550781,
          0.08948802947998047,
          1.0717743635177612,
          0.19794464111328125,
          0.035275936126708984,
          2.264215409755707,
          0.13793957233428955
         ]
        },
        {
         "boxpoints": "all",
         "jitter": 0,
         "marker": {
          "color": "#63bff0"
         },
         "name": "slightly negative",
         "type": "box",
         "y": [
          0.0023730993270874023,
          0.7965208441019058,
          0.1146577000617981,
          2.0091968774795532,
          0.40538787841796875,
          1.0769299417734146,
          0.5290940403938293,
          3.4032068252563477,
          0.08544182777404785,
          0.15755069255828857,
          1.1676853597164154,
          0.6799931526184082,
          1.0162259209901094,
          0.059274137020111084,
          0.5183712244033813,
          0.02563154697418213,
          0.5519859790802002,
          0.5342254042625427,
          0.9053998813033104,
          0.5034551620483398,
          0.6529473066329956,
          0.12552738189697266,
          0.31186985969543457,
          0.19670408964157104,
          0.9019657373428345,
          0.091560959815979,
          1.2608321607112885,
          0.6331864595413208,
          1.1161177158355713,
          0.1758662462234497,
          1.2276407778263092,
          2.240426182746887,
          0.10993105173110962,
          0.45892274379730225,
          0.6001071929931641,
          0.2656503915786743,
          0.5452318489551544,
          0.4027203321456909,
          1.264066219329834,
          1.0436086617410183,
          2.8222815990448,
          0.010336995124816895,
          0.3266880512237549,
          0.7634726762771606,
          1.4288798570632935,
          0.39942026138305664,
          0.510063886642456,
          0.0015597343444824219,
          0.4376896619796753,
          0.5187904238700867,
          1.3582426309585571,
          0.015124917030334473,
          1.6359187364578247,
          0.9376649372279644,
          0.13090336322784424,
          0.9328721910715103,
          1.039377048611641,
          0.20301687717437744,
          3.3063900470733643,
          1.1757314801216125,
          0.9651859141886234,
          0.39503586292266846,
          0.16167104244232178,
          0.5073779821395874,
          1.36794513463974,
          0.015624165534973145,
          0.073311448097229,
          0.22863197326660156,
          0.05863463878631592,
          0.726052850484848,
          1.0975312516093254,
          0.09160041809082031,
          0.7809290736913681,
          0.31825071573257446,
          0.780653789639473,
          0.5917359888553619,
          3.1951351165771484,
          1.06648401170969,
          1.0569240264594555,
          0.21022427082061768,
          1.2601560354232788,
          1.285304993391037,
          0.7433135509490967,
          0.07727915048599243,
          0.45857667922973633,
          1.2012724727392197,
          1.0661864802241325,
          0.6265508234500885,
          0.5273721814155579,
          0.17333972454071045,
          0.1045295000076294,
          0.2772873640060425,
          0.392818808555603,
          0.7056127786636353,
          0.7681158930063248,
          1.3566076755523682,
          1.657799780368805,
          0.501611590385437,
          1.2055211067199707,
          0.6133217513561249,
          0.43875133991241455,
          0.8365651369094849,
          0.20076996088027954,
          0.47888243198394775,
          0.618919163942337,
          0.3415599465370178,
          0.8471511602401733,
          0.2295459508895874,
          0.29740869998931885,
          0.8694968074560165,
          0.755429819226265,
          0.6167421340942383,
          0.03384518623352051
         ]
        },
        {
         "boxpoints": "all",
         "jitter": 0,
         "marker": {
          "color": "#63bff0"
         },
         "name": "Neutral",
         "type": "box",
         "y": [
          1.316367745399475,
          0.99114990234375,
          0.8261750340461731,
          0.26320016384124756,
          0.5843584537506104,
          1.063041090965271,
          1.308585286140442,
          0.28318437933921814,
          0.08318064361810684,
          0.6487492322921753,
          0.7891408205032349,
          0.36908435821533203,
          0.46310096979141235,
          1.608142375946045,
          0.4946970045566559,
          0.6577385663986206,
          0.9841276407241821,
          1.1892186403274536,
          0.9193753004074097,
          0.6586562395095825,
          0.6731615662574768,
          1.6726888418197632,
          0.22889378666877747,
          0.9672224521636963,
          1.8715476989746094,
          1.3297834396362305,
          0.374553382396698,
          0.04796907305717468,
          1.011587381362915,
          0.2792823910713196,
          0.027244355529546738,
          0.11944806575775146,
          0.1656009703874588,
          0.3728872835636139,
          0.026062941178679466,
          0.6548641324043274,
          1.5026293992996216,
          1.0496492385864258,
          0.6251462697982788,
          0.3263061046600342,
          1.00095534324646,
          0.41298913955688477,
          0.3417210876941681,
          1.3464329242706299,
          0.3310559391975403,
          1.7048536539077759,
          1.5280520915985107,
          1.3038930892944336,
          0.2158021777868271,
          1.6805448532104492,
          1.8046925067901611,
          0.20152458548545837,
          1.2843382358551025,
          0.1972081959247589,
          1.2211695909500122,
          0.8083475828170776,
          0.24281392991542816,
          1.456427812576294,
          0.1314244121313095,
          0.028953375294804573,
          1.6177693605422974,
          1.4634112119674683,
          0.10685638338327408,
          0.5341736674308777,
          0.970234751701355,
          0.6239452362060547,
          0.37678471207618713,
          0.8411481380462646,
          0.7948329448699951,
          1.7525622844696045,
          0.6873153448104858,
          1.441556692123413,
          0.47922617197036743,
          1.452097773551941,
          0.2693011164665222,
          0.24261973798274994,
          0.39243775606155396,
          0.3166946768760681,
          0.906830906867981,
          0.6115196347236633,
          1.9481970071792603,
          0.2323206663131714,
          1.2286250591278076,
          0.5082912445068359,
          0.6810865998268127,
          0.2682071328163147,
          0.07942710071802139,
          0.2728564739227295,
          0.03140164166688919,
          0.7572013139724731,
          0.509615957736969,
          1.1787501573562622,
          0.9585524797439575,
          0.3341379761695862,
          0.7556973695755005,
          0.8714730739593506
         ]
        },
        {
         "boxpoints": "all",
         "jitter": 0,
         "marker": {
          "color": "#63bff0"
         },
         "name": "slightly positive",
         "type": "box",
         "y": [
          0.7323762476444244,
          0.08385252952575684,
          0.2096739411354065,
          0.297981858253479,
          0.6779654026031494,
          1.2612344026565552,
          0.1792585849761963,
          1.0164201259613037,
          0.2569851875305176,
          1.013712908141315,
          0.5307056903839111,
          0.7221739292144775,
          1.0377908647060394,
          0.729301244020462,
          1.7870967388153076,
          1.335919052362442,
          0.417957603931427,
          1.5008779764175415,
          1.0837826952338219,
          0.8304531276226044,
          0.6022342443466187,
          0.2697256803512573,
          1.2048909068107605,
          0.027890145778656006,
          1.9820196032524109,
          0.540894627571106,
          0.08125334978103638,
          0.5389145016670227,
          1.0300517082214355,
          1.3333118855953217,
          1.2608129978179932,
          0.3390169143676758,
          0.4679982662200928,
          0.8474427163600922,
          0.10206818580627441,
          1.3171898126602173,
          0.2477095127105713,
          0.3081095218658447,
          0.0031388401985168457,
          0.5599780082702637,
          0.17644250392913818,
          1.3531306982040405,
          1.138131856918335,
          0.6296164989471436,
          0.4910717010498047,
          1.472630113363266,
          0.7158082723617554,
          0.17715954780578613,
          0.35457873344421387,
          0.015367627143859863,
          0.8252565860748291,
          1.7045650482177734,
          1.2939672470092773,
          1.0443854331970215,
          0.6686310768127441,
          1.321592092514038,
          1.5209500789642334,
          0.6345633268356323,
          1.5072498321533203,
          1.1997108310461044,
          0.11783623695373535,
          0.31121546030044556,
          1.6858385801315308,
          0.4244725704193115,
          0.28454136848449707,
          0.7307692766189575,
          0.8428155183792114,
          0.040842413902282715,
          0.3652958869934082,
          0.4411855936050415,
          1.4338933229446411,
          0.9942828416824341,
          0.8758747577667236,
          2.414998412132263,
          0.3853144645690918,
          0.9945077216252685,
          0.556371420621872,
          0.19518184661865234,
          2.4951984882354736,
          0.5665342211723328,
          0.5799945592880249,
          2.031214952468872,
          1.1025782451033592,
          2.1457525491714478,
          0.43356645107269287,
          0.9123594090342522,
          0.6123690605163574,
          0.4600070118904114,
          0.04246985912322998,
          0.26963818073272705,
          0.7225552797317505,
          0.8284816741943359,
          1.8063568472862244,
          0.28130781650543213,
          0.18814325332641602,
          0.3166350722312927,
          1.039048194885254,
          1.061363697052002
         ]
        },
        {
         "boxpoints": "all",
         "jitter": 0,
         "marker": {
          "color": "#22a7f0"
         },
         "name": "positive",
         "type": "box",
         "y": [
          0.8525806665420532,
          0.4017142057418823,
          0.3445858955383301,
          0.33325839042663574,
          0.3900672197341919,
          0.0074634552001953125,
          0.5904933214187622,
          0.45386266708374023,
          0.1930549144744873,
          0.4589805603027344,
          0.2746880054473877,
          1.6531642377376556,
          0.611975908279419,
          2.07015098631382,
          0.2562441825866699,
          0.16326403617858887,
          0.008448243141174316,
          0.25196027755737305,
          0.7452027797698975,
          0.26988744735717773,
          1.3915712237358093,
          0.5380525588989258,
          1.5045770108699799,
          0.38108766078948975,
          0.4167088270187378,
          0.3130471706390381,
          1.0799199938774109,
          0.24582219123840332,
          0.8522156476974487,
          0.09769535064697266,
          1.594988375902176,
          0.6011859178543091,
          0.4592411518096924,
          0.027984976768493652,
          0.362640380859375,
          0.2664613723754883,
          1.8273275047540665,
          0.18893182277679443,
          0.333341121673584,
          0.9786413908004761,
          0.6561501026153564,
          0.5530190467834473,
          0.25313282012939453,
          0.45543575286865234,
          0.4263739585876465,
          0.3838726282119751,
          0.7149062156677246,
          0.11018872261047363,
          0.23422718048095703,
          0.013701438903808594,
          0.15727472305297852,
          0.41327977180480957,
          0.07725083827972412,
          2.1085107773542404,
          0.009180068969726562,
          0.7830864191055298,
          2.0299298483878374,
          0.3646116256713867,
          0.07281124591827393,
          0.38147687911987305,
          2.0631230995059013,
          0.6707061529159546,
          0.011086225509643555,
          0.7362687587738037,
          1.960097547620535,
          0.03873038291931152,
          0.007814407348632812,
          3.0920928716659546,
          1.3765005469322205,
          0.6954363584518433,
          0.016950368881225586,
          0.13228654861450195,
          0.1887727975845337,
          0.7859495878219604,
          0.2737922668457031,
          0.5580335855484009,
          1.8223799467086792,
          0.36384880542755127,
          0.26188504695892334,
          2.0883221700787544,
          0.30441057682037354,
          0.14973151683807373,
          0.1277693510055542,
          0.06623494625091553,
          0.5407404899597168,
          0.8370473384857178,
          0.782799482345581,
          0.44873619079589844,
          0.023949623107910156,
          1.505797266960144,
          0.31984853744506836,
          0.05897557735443115,
          0.024679899215698242,
          0.35582971572875977
         ]
        },
        {
         "boxpoints": "all",
         "jitter": 0,
         "marker": {
          "color": "#1984c5"
         },
         "name": "very positive",
         "type": "box",
         "y": [
          3.7729095220565796,
          1.7804239988327026,
          4.468758225440979,
          0.3946878910064697,
          0.43271708488464355,
          3.002837841399014,
          4.8912893533706665,
          1.3721424341201782,
          0.534332275390625,
          0.7552890777587891,
          0.7072405815124512,
          3.0789012759923935,
          0.5338015556335449,
          0.5929639339447021,
          1.186967372894287,
          0.7178010940551758,
          0.11642122268676758,
          0.5635781288146973,
          0.31923508644104004,
          1.1094304323196411,
          0.7209653854370117,
          3.914922773838043,
          0.634009599685669,
          0.5190558433532715,
          0.5216209888458252,
          0.5807201862335205,
          1.4251948595046997,
          0.5908350944519043,
          1.593797206878662,
          0.7731359004974365,
          0.8919610977172852,
          1.6113073825836182,
          2.071838855743408,
          1.869974970817566,
          0.7163472175598145,
          0.5231170654296875,
          2.047795057296753,
          0.7246689796447754,
          1.1650506258010864,
          0.902712345123291,
          0.8742823600769043,
          1.0277695655822754,
          1.0086209774017334,
          0.8041045665740967,
          1.1516392230987549,
          0.8147938251495361,
          0.37708353996276855,
          1.089021921157837
         ]
        },
        {
         "marker": {
          "color": "red"
         },
         "mode": "markers",
         "name": "Mean Absolute Error",
         "type": "scatter",
         "x": [
          "very negative",
          "negative",
          "slightly negative",
          "Neutral",
          "slightly positive",
          "positive",
          "very positive"
         ],
         "y": [
          1.5137611697427928,
          0.9559251483662852,
          0.7201637340363412,
          0.7559183636136974,
          0.7959774812607436,
          0.6029950755826653,
          1.2766265792500537
         ]
        }
       ],
       "layout": {
        "template": {
         "data": {
          "bar": [
           {
            "error_x": {
             "color": "#2a3f5f"
            },
            "error_y": {
             "color": "#2a3f5f"
            },
            "marker": {
             "line": {
              "color": "#E5ECF6",
              "width": 0.5
             },
             "pattern": {
              "fillmode": "overlay",
              "size": 10,
              "solidity": 0.2
             }
            },
            "type": "bar"
           }
          ],
          "barpolar": [
           {
            "marker": {
             "line": {
              "color": "#E5ECF6",
              "width": 0.5
             },
             "pattern": {
              "fillmode": "overlay",
              "size": 10,
              "solidity": 0.2
             }
            },
            "type": "barpolar"
           }
          ],
          "carpet": [
           {
            "aaxis": {
             "endlinecolor": "#2a3f5f",
             "gridcolor": "white",
             "linecolor": "white",
             "minorgridcolor": "white",
             "startlinecolor": "#2a3f5f"
            },
            "baxis": {
             "endlinecolor": "#2a3f5f",
             "gridcolor": "white",
             "linecolor": "white",
             "minorgridcolor": "white",
             "startlinecolor": "#2a3f5f"
            },
            "type": "carpet"
           }
          ],
          "choropleth": [
           {
            "colorbar": {
             "outlinewidth": 0,
             "ticks": ""
            },
            "type": "choropleth"
           }
          ],
          "contour": [
           {
            "colorbar": {
             "outlinewidth": 0,
             "ticks": ""
            },
            "colorscale": [
             [
              0,
              "#0d0887"
             ],
             [
              0.1111111111111111,
              "#46039f"
             ],
             [
              0.2222222222222222,
              "#7201a8"
             ],
             [
              0.3333333333333333,
              "#9c179e"
             ],
             [
              0.4444444444444444,
              "#bd3786"
             ],
             [
              0.5555555555555556,
              "#d8576b"
             ],
             [
              0.6666666666666666,
              "#ed7953"
             ],
             [
              0.7777777777777778,
              "#fb9f3a"
             ],
             [
              0.8888888888888888,
              "#fdca26"
             ],
             [
              1,
              "#f0f921"
             ]
            ],
            "type": "contour"
           }
          ],
          "contourcarpet": [
           {
            "colorbar": {
             "outlinewidth": 0,
             "ticks": ""
            },
            "type": "contourcarpet"
           }
          ],
          "heatmap": [
           {
            "colorbar": {
             "outlinewidth": 0,
             "ticks": ""
            },
            "colorscale": [
             [
              0,
              "#0d0887"
             ],
             [
              0.1111111111111111,
              "#46039f"
             ],
             [
              0.2222222222222222,
              "#7201a8"
             ],
             [
              0.3333333333333333,
              "#9c179e"
             ],
             [
              0.4444444444444444,
              "#bd3786"
             ],
             [
              0.5555555555555556,
              "#d8576b"
             ],
             [
              0.6666666666666666,
              "#ed7953"
             ],
             [
              0.7777777777777778,
              "#fb9f3a"
             ],
             [
              0.8888888888888888,
              "#fdca26"
             ],
             [
              1,
              "#f0f921"
             ]
            ],
            "type": "heatmap"
           }
          ],
          "heatmapgl": [
           {
            "colorbar": {
             "outlinewidth": 0,
             "ticks": ""
            },
            "colorscale": [
             [
              0,
              "#0d0887"
             ],
             [
              0.1111111111111111,
              "#46039f"
             ],
             [
              0.2222222222222222,
              "#7201a8"
             ],
             [
              0.3333333333333333,
              "#9c179e"
             ],
             [
              0.4444444444444444,
              "#bd3786"
             ],
             [
              0.5555555555555556,
              "#d8576b"
             ],
             [
              0.6666666666666666,
              "#ed7953"
             ],
             [
              0.7777777777777778,
              "#fb9f3a"
             ],
             [
              0.8888888888888888,
              "#fdca26"
             ],
             [
              1,
              "#f0f921"
             ]
            ],
            "type": "heatmapgl"
           }
          ],
          "histogram": [
           {
            "marker": {
             "pattern": {
              "fillmode": "overlay",
              "size": 10,
              "solidity": 0.2
             }
            },
            "type": "histogram"
           }
          ],
          "histogram2d": [
           {
            "colorbar": {
             "outlinewidth": 0,
             "ticks": ""
            },
            "colorscale": [
             [
              0,
              "#0d0887"
             ],
             [
              0.1111111111111111,
              "#46039f"
             ],
             [
              0.2222222222222222,
              "#7201a8"
             ],
             [
              0.3333333333333333,
              "#9c179e"
             ],
             [
              0.4444444444444444,
              "#bd3786"
             ],
             [
              0.5555555555555556,
              "#d8576b"
             ],
             [
              0.6666666666666666,
              "#ed7953"
             ],
             [
              0.7777777777777778,
              "#fb9f3a"
             ],
             [
              0.8888888888888888,
              "#fdca26"
             ],
             [
              1,
              "#f0f921"
             ]
            ],
            "type": "histogram2d"
           }
          ],
          "histogram2dcontour": [
           {
            "colorbar": {
             "outlinewidth": 0,
             "ticks": ""
            },
            "colorscale": [
             [
              0,
              "#0d0887"
             ],
             [
              0.1111111111111111,
              "#46039f"
             ],
             [
              0.2222222222222222,
              "#7201a8"
             ],
             [
              0.3333333333333333,
              "#9c179e"
             ],
             [
              0.4444444444444444,
              "#bd3786"
             ],
             [
              0.5555555555555556,
              "#d8576b"
             ],
             [
              0.6666666666666666,
              "#ed7953"
             ],
             [
              0.7777777777777778,
              "#fb9f3a"
             ],
             [
              0.8888888888888888,
              "#fdca26"
             ],
             [
              1,
              "#f0f921"
             ]
            ],
            "type": "histogram2dcontour"
           }
          ],
          "mesh3d": [
           {
            "colorbar": {
             "outlinewidth": 0,
             "ticks": ""
            },
            "type": "mesh3d"
           }
          ],
          "parcoords": [
           {
            "line": {
             "colorbar": {
              "outlinewidth": 0,
              "ticks": ""
             }
            },
            "type": "parcoords"
           }
          ],
          "pie": [
           {
            "automargin": true,
            "type": "pie"
           }
          ],
          "scatter": [
           {
            "fillpattern": {
             "fillmode": "overlay",
             "size": 10,
             "solidity": 0.2
            },
            "type": "scatter"
           }
          ],
          "scatter3d": [
           {
            "line": {
             "colorbar": {
              "outlinewidth": 0,
              "ticks": ""
             }
            },
            "marker": {
             "colorbar": {
              "outlinewidth": 0,
              "ticks": ""
             }
            },
            "type": "scatter3d"
           }
          ],
          "scattercarpet": [
           {
            "marker": {
             "colorbar": {
              "outlinewidth": 0,
              "ticks": ""
             }
            },
            "type": "scattercarpet"
           }
          ],
          "scattergeo": [
           {
            "marker": {
             "colorbar": {
              "outlinewidth": 0,
              "ticks": ""
             }
            },
            "type": "scattergeo"
           }
          ],
          "scattergl": [
           {
            "marker": {
             "colorbar": {
              "outlinewidth": 0,
              "ticks": ""
             }
            },
            "type": "scattergl"
           }
          ],
          "scattermapbox": [
           {
            "marker": {
             "colorbar": {
              "outlinewidth": 0,
              "ticks": ""
             }
            },
            "type": "scattermapbox"
           }
          ],
          "scatterpolar": [
           {
            "marker": {
             "colorbar": {
              "outlinewidth": 0,
              "ticks": ""
             }
            },
            "type": "scatterpolar"
           }
          ],
          "scatterpolargl": [
           {
            "marker": {
             "colorbar": {
              "outlinewidth": 0,
              "ticks": ""
             }
            },
            "type": "scatterpolargl"
           }
          ],
          "scatterternary": [
           {
            "marker": {
             "colorbar": {
              "outlinewidth": 0,
              "ticks": ""
             }
            },
            "type": "scatterternary"
           }
          ],
          "surface": [
           {
            "colorbar": {
             "outlinewidth": 0,
             "ticks": ""
            },
            "colorscale": [
             [
              0,
              "#0d0887"
             ],
             [
              0.1111111111111111,
              "#46039f"
             ],
             [
              0.2222222222222222,
              "#7201a8"
             ],
             [
              0.3333333333333333,
              "#9c179e"
             ],
             [
              0.4444444444444444,
              "#bd3786"
             ],
             [
              0.5555555555555556,
              "#d8576b"
             ],
             [
              0.6666666666666666,
              "#ed7953"
             ],
             [
              0.7777777777777778,
              "#fb9f3a"
             ],
             [
              0.8888888888888888,
              "#fdca26"
             ],
             [
              1,
              "#f0f921"
             ]
            ],
            "type": "surface"
           }
          ],
          "table": [
           {
            "cells": {
             "fill": {
              "color": "#EBF0F8"
             },
             "line": {
              "color": "white"
             }
            },
            "header": {
             "fill": {
              "color": "#C8D4E3"
             },
             "line": {
              "color": "white"
             }
            },
            "type": "table"
           }
          ]
         },
         "layout": {
          "annotationdefaults": {
           "arrowcolor": "#2a3f5f",
           "arrowhead": 0,
           "arrowwidth": 1
          },
          "autotypenumbers": "strict",
          "coloraxis": {
           "colorbar": {
            "outlinewidth": 0,
            "ticks": ""
           }
          },
          "colorscale": {
           "diverging": [
            [
             0,
             "#8e0152"
            ],
            [
             0.1,
             "#c51b7d"
            ],
            [
             0.2,
             "#de77ae"
            ],
            [
             0.3,
             "#f1b6da"
            ],
            [
             0.4,
             "#fde0ef"
            ],
            [
             0.5,
             "#f7f7f7"
            ],
            [
             0.6,
             "#e6f5d0"
            ],
            [
             0.7,
             "#b8e186"
            ],
            [
             0.8,
             "#7fbc41"
            ],
            [
             0.9,
             "#4d9221"
            ],
            [
             1,
             "#276419"
            ]
           ],
           "sequential": [
            [
             0,
             "#0d0887"
            ],
            [
             0.1111111111111111,
             "#46039f"
            ],
            [
             0.2222222222222222,
             "#7201a8"
            ],
            [
             0.3333333333333333,
             "#9c179e"
            ],
            [
             0.4444444444444444,
             "#bd3786"
            ],
            [
             0.5555555555555556,
             "#d8576b"
            ],
            [
             0.6666666666666666,
             "#ed7953"
            ],
            [
             0.7777777777777778,
             "#fb9f3a"
            ],
            [
             0.8888888888888888,
             "#fdca26"
            ],
            [
             1,
             "#f0f921"
            ]
           ],
           "sequentialminus": [
            [
             0,
             "#0d0887"
            ],
            [
             0.1111111111111111,
             "#46039f"
            ],
            [
             0.2222222222222222,
             "#7201a8"
            ],
            [
             0.3333333333333333,
             "#9c179e"
            ],
            [
             0.4444444444444444,
             "#bd3786"
            ],
            [
             0.5555555555555556,
             "#d8576b"
            ],
            [
             0.6666666666666666,
             "#ed7953"
            ],
            [
             0.7777777777777778,
             "#fb9f3a"
            ],
            [
             0.8888888888888888,
             "#fdca26"
            ],
            [
             1,
             "#f0f921"
            ]
           ]
          },
          "colorway": [
           "#636efa",
           "#EF553B",
           "#00cc96",
           "#ab63fa",
           "#FFA15A",
           "#19d3f3",
           "#FF6692",
           "#B6E880",
           "#FF97FF",
           "#FECB52"
          ],
          "font": {
           "color": "#2a3f5f"
          },
          "geo": {
           "bgcolor": "white",
           "lakecolor": "white",
           "landcolor": "#E5ECF6",
           "showlakes": true,
           "showland": true,
           "subunitcolor": "white"
          },
          "hoverlabel": {
           "align": "left"
          },
          "hovermode": "closest",
          "mapbox": {
           "style": "light"
          },
          "paper_bgcolor": "white",
          "plot_bgcolor": "#E5ECF6",
          "polar": {
           "angularaxis": {
            "gridcolor": "white",
            "linecolor": "white",
            "ticks": ""
           },
           "bgcolor": "#E5ECF6",
           "radialaxis": {
            "gridcolor": "white",
            "linecolor": "white",
            "ticks": ""
           }
          },
          "scene": {
           "xaxis": {
            "backgroundcolor": "#E5ECF6",
            "gridcolor": "white",
            "gridwidth": 2,
            "linecolor": "white",
            "showbackground": true,
            "ticks": "",
            "zerolinecolor": "white"
           },
           "yaxis": {
            "backgroundcolor": "#E5ECF6",
            "gridcolor": "white",
            "gridwidth": 2,
            "linecolor": "white",
            "showbackground": true,
            "ticks": "",
            "zerolinecolor": "white"
           },
           "zaxis": {
            "backgroundcolor": "#E5ECF6",
            "gridcolor": "white",
            "gridwidth": 2,
            "linecolor": "white",
            "showbackground": true,
            "ticks": "",
            "zerolinecolor": "white"
           }
          },
          "shapedefaults": {
           "line": {
            "color": "#2a3f5f"
           }
          },
          "ternary": {
           "aaxis": {
            "gridcolor": "white",
            "linecolor": "white",
            "ticks": ""
           },
           "baxis": {
            "gridcolor": "white",
            "linecolor": "white",
            "ticks": ""
           },
           "bgcolor": "#E5ECF6",
           "caxis": {
            "gridcolor": "white",
            "linecolor": "white",
            "ticks": ""
           }
          },
          "title": {
           "x": 0.05
          },
          "xaxis": {
           "automargin": true,
           "gridcolor": "white",
           "linecolor": "white",
           "ticks": "",
           "title": {
            "standoff": 15
           },
           "zerolinecolor": "white",
           "zerolinewidth": 2
          },
          "yaxis": {
           "automargin": true,
           "gridcolor": "white",
           "linecolor": "white",
           "ticks": "",
           "title": {
            "standoff": 15
           },
           "zerolinecolor": "white",
           "zerolinewidth": 2
          }
         }
        },
        "title": {
         "text": "MAGBERT Sentiment Intensity Prediction Error Distribution - [onlyBERT]"
        },
        "yaxis": {
         "title": {
          "text": "Absolute Error"
         }
        }
       }
      },
      "text/html": [
       "<div>                            <div id=\"1542fc16-bf6c-4f54-b9f0-25a66a4baf14\" class=\"plotly-graph-div\" style=\"height:525px; width:100%;\"></div>            <script type=\"text/javascript\">                require([\"plotly\"], function(Plotly) {                    window.PLOTLYENV=window.PLOTLYENV || {};                                    if (document.getElementById(\"1542fc16-bf6c-4f54-b9f0-25a66a4baf14\")) {                    Plotly.newPlot(                        \"1542fc16-bf6c-4f54-b9f0-25a66a4baf14\",                        [{\"marker\":{\"color\":\"#1984c5\"},\"name\":\"very negative\",\"y\":[2.0816505551338196,1.0186437368392944,2.0813246965408325,1.6421087980270386,0.7713961601257324,4.442970871925354,1.2812795639038086,4.172177672386169,1.2127609252929688,1.270807147026062,2.0557006001472473,2.258238196372986,1.7318840026855469,1.5306049585342407,1.7241995334625244,2.476108431816101,2.2608262300491333,1.6460167169570923,1.3546761274337769,1.933221697807312,0.3601100444793701,2.9076950922608376,1.675394892692566,1.872697114944458,2.0273457765579224,0.9201810359954834,0.7471058368682861,1.0150142908096313,1.3931423425674438,0.9644920825958252,0.646998405456543,0.4990391731262207,0.9644920825958252,1.1224714517593384,1.303513765335083,1.4185296297073364,0.5565779209136963,0.3777594566345215,4.385429739952087,0.883777379989624,2.0033371448516846,1.012813925743103,1.2911931276321411,1.3959470987319946,0.8807120323181152,2.3817856311798096,2.0089123845100403,1.7625232934951782,2.1689558029174805,0.7375242710113525,3.371680498123169,0.3209671974182129,0.6716766357421875,0.5414893627166748,1.2710505723953247,0.42022037506103516,1.4070490598678589,1.302603006362915,2.009940445423126,0.7384626865386963,1.0870224237442017,0.4765937328338623,0.450711727142334,2.918278820812702,1.6534314155578613,1.2178354263305664,1.202621340751648,3.810231029987335,2.4184077382087708,2.3057791590690613,1.88111412525177,2.0708115696907043,2.5820093750953674,1.149584174156189,3.1347908675670624,0.6812305450439453,0.39118266105651855,1.6067419052124023,1.5195777416229248,1.772027850151062,1.3152110576629639,1.325893521308899,1.676090955734253,1.7604905366897583,1.0930463075637817,0.7813255786895752,1.8387588262557983,0.796863317489624,0.6384451389312744,1.2356871366500854,0.44262218475341797,1.387881875038147,1.4202302694320679,0.7125704288482666,1.0316394567489624,0.847123384475708],\"type\":\"box\",\"boxpoints\":\"all\",\"jitter\":0},{\"marker\":{\"color\":\"#22a7f0\"},\"name\":\"negative\",\"y\":[1.1318316459655762,2.5776548385620117,2.815922260284424,0.8781470060348511,0.35629284381866455,2.035560067743063,1.2822858691215515,0.11003386974334717,0.37977540493011475,0.16276609897613525,0.508448600769043,0.39353930950164795,1.127604365348816,0.8881890773773193,0.23759710788726807,0.15383601188659668,0.9240888357162476,0.03898000717163086,0.26272308826446533,0.027175426483154297,0.4014115333557129,0.4439429044723511,0.8170077800750732,0.23035013675689697,0.8926447629928589,1.630166232585907,0.6186157464981079,1.8855122402310371,3.0698121786117554,0.03226161003112793,0.5743938684463501,0.8666527271270752,0.4528937339782715,1.3099730610847473,1.0836479663848877,0.634240984916687,1.9031653329730034,1.931191585958004,0.5636112689971924,2.3960182666778564,0.5619133710861206,0.32662248611450195,0.6381677389144897,2.8723490834236145,0.5828609466552734,0.25192272663116455,0.9361124038696289,0.036104440689086914,1.8971868753433228,0.15752243995666504,1.3237218856811523,1.257871389389038,0.27577877044677734,0.20016932487487793,0.41547441482543945,1.6312043368816376,0.7592343091964722,0.0307844877243042,0.5631152391433716,0.1551361083984375,1.0934484004974365,1.2575221061706543,1.4508203864097595,2.5778108835220337,0.5777720212936401,0.2247387170791626,1.0443229675292969,2.99661123752594,0.5490332841873169,1.0617923140525818,0.1427544355392456,0.27768194675445557,2.1076310500502586,0.2912558317184448,2.2002899795770645,0.2674555778503418,0.37990033626556396,2.874438166618347,2.1061349734663963,0.3479156494140625,1.8490147143602371,1.1047067046165466,0.4539691209793091,2.47577565908432,0.7433896064758301,2.882603168487549,0.20611095428466797,0.5207686424255371,0.2237377166748047,0.46199750900268555,1.2337506413459778,0.899552583694458,0.4927542209625244,0.6616637706756592,1.2529913187026978,1.228275179862976,1.6883703172206879,3.51533043384552,1.1912680268287659,0.08783817291259766,0.8051677942276001,1.4879780411720276,2.9784693717956543,1.3838595151901245,0.715200662612915,0.015163779258728027,0.9968657493591309,0.21484029293060303,2.030363840982318,0.8548645973205566,0.9884473085403442,1.6685898900032043,1.5621179640293121,1.6466358006000519,0.44128143787384033,0.4498659372329712,0.5525640249252319,2.0804712995886803,0.7616504430770874,0.6309585571289062,0.38690483570098877,1.5541771948337555,0.07456469535827637,0.41569244861602783,0.5840234756469727,0.3960357904434204,0.19668495655059814,0.31985974311828613,0.015433907508850098,1.1098079681396484,1.739138901233673,0.20195770263671875,0.4554927349090576,0.4113349914550781,0.08948802947998047,1.0717743635177612,0.19794464111328125,0.035275936126708984,2.264215409755707,0.13793957233428955],\"type\":\"box\",\"boxpoints\":\"all\",\"jitter\":0},{\"marker\":{\"color\":\"#63bff0\"},\"name\":\"slightly negative\",\"y\":[0.0023730993270874023,0.7965208441019058,0.1146577000617981,2.0091968774795532,0.40538787841796875,1.0769299417734146,0.5290940403938293,3.4032068252563477,0.08544182777404785,0.15755069255828857,1.1676853597164154,0.6799931526184082,1.0162259209901094,0.059274137020111084,0.5183712244033813,0.02563154697418213,0.5519859790802002,0.5342254042625427,0.9053998813033104,0.5034551620483398,0.6529473066329956,0.12552738189697266,0.31186985969543457,0.19670408964157104,0.9019657373428345,0.091560959815979,1.2608321607112885,0.6331864595413208,1.1161177158355713,0.1758662462234497,1.2276407778263092,2.240426182746887,0.10993105173110962,0.45892274379730225,0.6001071929931641,0.2656503915786743,0.5452318489551544,0.4027203321456909,1.264066219329834,1.0436086617410183,2.8222815990448,0.010336995124816895,0.3266880512237549,0.7634726762771606,1.4288798570632935,0.39942026138305664,0.510063886642456,0.0015597343444824219,0.4376896619796753,0.5187904238700867,1.3582426309585571,0.015124917030334473,1.6359187364578247,0.9376649372279644,0.13090336322784424,0.9328721910715103,1.039377048611641,0.20301687717437744,3.3063900470733643,1.1757314801216125,0.9651859141886234,0.39503586292266846,0.16167104244232178,0.5073779821395874,1.36794513463974,0.015624165534973145,0.073311448097229,0.22863197326660156,0.05863463878631592,0.726052850484848,1.0975312516093254,0.09160041809082031,0.7809290736913681,0.31825071573257446,0.780653789639473,0.5917359888553619,3.1951351165771484,1.06648401170969,1.0569240264594555,0.21022427082061768,1.2601560354232788,1.285304993391037,0.7433135509490967,0.07727915048599243,0.45857667922973633,1.2012724727392197,1.0661864802241325,0.6265508234500885,0.5273721814155579,0.17333972454071045,0.1045295000076294,0.2772873640060425,0.392818808555603,0.7056127786636353,0.7681158930063248,1.3566076755523682,1.657799780368805,0.501611590385437,1.2055211067199707,0.6133217513561249,0.43875133991241455,0.8365651369094849,0.20076996088027954,0.47888243198394775,0.618919163942337,0.3415599465370178,0.8471511602401733,0.2295459508895874,0.29740869998931885,0.8694968074560165,0.755429819226265,0.6167421340942383,0.03384518623352051],\"type\":\"box\",\"boxpoints\":\"all\",\"jitter\":0},{\"marker\":{\"color\":\"#63bff0\"},\"name\":\"Neutral\",\"y\":[1.316367745399475,0.99114990234375,0.8261750340461731,0.26320016384124756,0.5843584537506104,1.063041090965271,1.308585286140442,0.28318437933921814,0.08318064361810684,0.6487492322921753,0.7891408205032349,0.36908435821533203,0.46310096979141235,1.608142375946045,0.4946970045566559,0.6577385663986206,0.9841276407241821,1.1892186403274536,0.9193753004074097,0.6586562395095825,0.6731615662574768,1.6726888418197632,0.22889378666877747,0.9672224521636963,1.8715476989746094,1.3297834396362305,0.374553382396698,0.04796907305717468,1.011587381362915,0.2792823910713196,0.027244355529546738,0.11944806575775146,0.1656009703874588,0.3728872835636139,0.026062941178679466,0.6548641324043274,1.5026293992996216,1.0496492385864258,0.6251462697982788,0.3263061046600342,1.00095534324646,0.41298913955688477,0.3417210876941681,1.3464329242706299,0.3310559391975403,1.7048536539077759,1.5280520915985107,1.3038930892944336,0.2158021777868271,1.6805448532104492,1.8046925067901611,0.20152458548545837,1.2843382358551025,0.1972081959247589,1.2211695909500122,0.8083475828170776,0.24281392991542816,1.456427812576294,0.1314244121313095,0.028953375294804573,1.6177693605422974,1.4634112119674683,0.10685638338327408,0.5341736674308777,0.970234751701355,0.6239452362060547,0.37678471207618713,0.8411481380462646,0.7948329448699951,1.7525622844696045,0.6873153448104858,1.441556692123413,0.47922617197036743,1.452097773551941,0.2693011164665222,0.24261973798274994,0.39243775606155396,0.3166946768760681,0.906830906867981,0.6115196347236633,1.9481970071792603,0.2323206663131714,1.2286250591278076,0.5082912445068359,0.6810865998268127,0.2682071328163147,0.07942710071802139,0.2728564739227295,0.03140164166688919,0.7572013139724731,0.509615957736969,1.1787501573562622,0.9585524797439575,0.3341379761695862,0.7556973695755005,0.8714730739593506],\"type\":\"box\",\"boxpoints\":\"all\",\"jitter\":0},{\"marker\":{\"color\":\"#63bff0\"},\"name\":\"slightly positive\",\"y\":[0.7323762476444244,0.08385252952575684,0.2096739411354065,0.297981858253479,0.6779654026031494,1.2612344026565552,0.1792585849761963,1.0164201259613037,0.2569851875305176,1.013712908141315,0.5307056903839111,0.7221739292144775,1.0377908647060394,0.729301244020462,1.7870967388153076,1.335919052362442,0.417957603931427,1.5008779764175415,1.0837826952338219,0.8304531276226044,0.6022342443466187,0.2697256803512573,1.2048909068107605,0.027890145778656006,1.9820196032524109,0.540894627571106,0.08125334978103638,0.5389145016670227,1.0300517082214355,1.3333118855953217,1.2608129978179932,0.3390169143676758,0.4679982662200928,0.8474427163600922,0.10206818580627441,1.3171898126602173,0.2477095127105713,0.3081095218658447,0.0031388401985168457,0.5599780082702637,0.17644250392913818,1.3531306982040405,1.138131856918335,0.6296164989471436,0.4910717010498047,1.472630113363266,0.7158082723617554,0.17715954780578613,0.35457873344421387,0.015367627143859863,0.8252565860748291,1.7045650482177734,1.2939672470092773,1.0443854331970215,0.6686310768127441,1.321592092514038,1.5209500789642334,0.6345633268356323,1.5072498321533203,1.1997108310461044,0.11783623695373535,0.31121546030044556,1.6858385801315308,0.4244725704193115,0.28454136848449707,0.7307692766189575,0.8428155183792114,0.040842413902282715,0.3652958869934082,0.4411855936050415,1.4338933229446411,0.9942828416824341,0.8758747577667236,2.414998412132263,0.3853144645690918,0.9945077216252685,0.556371420621872,0.19518184661865234,2.4951984882354736,0.5665342211723328,0.5799945592880249,2.031214952468872,1.1025782451033592,2.1457525491714478,0.43356645107269287,0.9123594090342522,0.6123690605163574,0.4600070118904114,0.04246985912322998,0.26963818073272705,0.7225552797317505,0.8284816741943359,1.8063568472862244,0.28130781650543213,0.18814325332641602,0.3166350722312927,1.039048194885254,1.061363697052002],\"type\":\"box\",\"boxpoints\":\"all\",\"jitter\":0},{\"marker\":{\"color\":\"#22a7f0\"},\"name\":\"positive\",\"y\":[0.8525806665420532,0.4017142057418823,0.3445858955383301,0.33325839042663574,0.3900672197341919,0.0074634552001953125,0.5904933214187622,0.45386266708374023,0.1930549144744873,0.4589805603027344,0.2746880054473877,1.6531642377376556,0.611975908279419,2.07015098631382,0.2562441825866699,0.16326403617858887,0.008448243141174316,0.25196027755737305,0.7452027797698975,0.26988744735717773,1.3915712237358093,0.5380525588989258,1.5045770108699799,0.38108766078948975,0.4167088270187378,0.3130471706390381,1.0799199938774109,0.24582219123840332,0.8522156476974487,0.09769535064697266,1.594988375902176,0.6011859178543091,0.4592411518096924,0.027984976768493652,0.362640380859375,0.2664613723754883,1.8273275047540665,0.18893182277679443,0.333341121673584,0.9786413908004761,0.6561501026153564,0.5530190467834473,0.25313282012939453,0.45543575286865234,0.4263739585876465,0.3838726282119751,0.7149062156677246,0.11018872261047363,0.23422718048095703,0.013701438903808594,0.15727472305297852,0.41327977180480957,0.07725083827972412,2.1085107773542404,0.009180068969726562,0.7830864191055298,2.0299298483878374,0.3646116256713867,0.07281124591827393,0.38147687911987305,2.0631230995059013,0.6707061529159546,0.011086225509643555,0.7362687587738037,1.960097547620535,0.03873038291931152,0.007814407348632812,3.0920928716659546,1.3765005469322205,0.6954363584518433,0.016950368881225586,0.13228654861450195,0.1887727975845337,0.7859495878219604,0.2737922668457031,0.5580335855484009,1.8223799467086792,0.36384880542755127,0.26188504695892334,2.0883221700787544,0.30441057682037354,0.14973151683807373,0.1277693510055542,0.06623494625091553,0.5407404899597168,0.8370473384857178,0.782799482345581,0.44873619079589844,0.023949623107910156,1.505797266960144,0.31984853744506836,0.05897557735443115,0.024679899215698242,0.35582971572875977],\"type\":\"box\",\"boxpoints\":\"all\",\"jitter\":0},{\"marker\":{\"color\":\"#1984c5\"},\"name\":\"very positive\",\"y\":[3.7729095220565796,1.7804239988327026,4.468758225440979,0.3946878910064697,0.43271708488464355,3.002837841399014,4.8912893533706665,1.3721424341201782,0.534332275390625,0.7552890777587891,0.7072405815124512,3.0789012759923935,0.5338015556335449,0.5929639339447021,1.186967372894287,0.7178010940551758,0.11642122268676758,0.5635781288146973,0.31923508644104004,1.1094304323196411,0.7209653854370117,3.914922773838043,0.634009599685669,0.5190558433532715,0.5216209888458252,0.5807201862335205,1.4251948595046997,0.5908350944519043,1.593797206878662,0.7731359004974365,0.8919610977172852,1.6113073825836182,2.071838855743408,1.869974970817566,0.7163472175598145,0.5231170654296875,2.047795057296753,0.7246689796447754,1.1650506258010864,0.902712345123291,0.8742823600769043,1.0277695655822754,1.0086209774017334,0.8041045665740967,1.1516392230987549,0.8147938251495361,0.37708353996276855,1.089021921157837],\"type\":\"box\",\"boxpoints\":\"all\",\"jitter\":0},{\"marker\":{\"color\":\"red\"},\"mode\":\"markers\",\"name\":\"Mean Absolute Error\",\"x\":[\"very negative\",\"negative\",\"slightly negative\",\"Neutral\",\"slightly positive\",\"positive\",\"very positive\"],\"y\":[1.5137611697427928,0.9559251483662852,0.7201637340363412,0.7559183636136974,0.7959774812607436,0.6029950755826653,1.2766265792500537],\"type\":\"scatter\"}],                        {\"template\":{\"data\":{\"histogram2dcontour\":[{\"type\":\"histogram2dcontour\",\"colorbar\":{\"outlinewidth\":0,\"ticks\":\"\"},\"colorscale\":[[0.0,\"#0d0887\"],[0.1111111111111111,\"#46039f\"],[0.2222222222222222,\"#7201a8\"],[0.3333333333333333,\"#9c179e\"],[0.4444444444444444,\"#bd3786\"],[0.5555555555555556,\"#d8576b\"],[0.6666666666666666,\"#ed7953\"],[0.7777777777777778,\"#fb9f3a\"],[0.8888888888888888,\"#fdca26\"],[1.0,\"#f0f921\"]]}],\"choropleth\":[{\"type\":\"choropleth\",\"colorbar\":{\"outlinewidth\":0,\"ticks\":\"\"}}],\"histogram2d\":[{\"type\":\"histogram2d\",\"colorbar\":{\"outlinewidth\":0,\"ticks\":\"\"},\"colorscale\":[[0.0,\"#0d0887\"],[0.1111111111111111,\"#46039f\"],[0.2222222222222222,\"#7201a8\"],[0.3333333333333333,\"#9c179e\"],[0.4444444444444444,\"#bd3786\"],[0.5555555555555556,\"#d8576b\"],[0.6666666666666666,\"#ed7953\"],[0.7777777777777778,\"#fb9f3a\"],[0.8888888888888888,\"#fdca26\"],[1.0,\"#f0f921\"]]}],\"heatmap\":[{\"type\":\"heatmap\",\"colorbar\":{\"outlinewidth\":0,\"ticks\":\"\"},\"colorscale\":[[0.0,\"#0d0887\"],[0.1111111111111111,\"#46039f\"],[0.2222222222222222,\"#7201a8\"],[0.3333333333333333,\"#9c179e\"],[0.4444444444444444,\"#bd3786\"],[0.5555555555555556,\"#d8576b\"],[0.6666666666666666,\"#ed7953\"],[0.7777777777777778,\"#fb9f3a\"],[0.8888888888888888,\"#fdca26\"],[1.0,\"#f0f921\"]]}],\"heatmapgl\":[{\"type\":\"heatmapgl\",\"colorbar\":{\"outlinewidth\":0,\"ticks\":\"\"},\"colorscale\":[[0.0,\"#0d0887\"],[0.1111111111111111,\"#46039f\"],[0.2222222222222222,\"#7201a8\"],[0.3333333333333333,\"#9c179e\"],[0.4444444444444444,\"#bd3786\"],[0.5555555555555556,\"#d8576b\"],[0.6666666666666666,\"#ed7953\"],[0.7777777777777778,\"#fb9f3a\"],[0.8888888888888888,\"#fdca26\"],[1.0,\"#f0f921\"]]}],\"contourcarpet\":[{\"type\":\"contourcarpet\",\"colorbar\":{\"outlinewidth\":0,\"ticks\":\"\"}}],\"contour\":[{\"type\":\"contour\",\"colorbar\":{\"outlinewidth\":0,\"ticks\":\"\"},\"colorscale\":[[0.0,\"#0d0887\"],[0.1111111111111111,\"#46039f\"],[0.2222222222222222,\"#7201a8\"],[0.3333333333333333,\"#9c179e\"],[0.4444444444444444,\"#bd3786\"],[0.5555555555555556,\"#d8576b\"],[0.6666666666666666,\"#ed7953\"],[0.7777777777777778,\"#fb9f3a\"],[0.8888888888888888,\"#fdca26\"],[1.0,\"#f0f921\"]]}],\"surface\":[{\"type\":\"surface\",\"colorbar\":{\"outlinewidth\":0,\"ticks\":\"\"},\"colorscale\":[[0.0,\"#0d0887\"],[0.1111111111111111,\"#46039f\"],[0.2222222222222222,\"#7201a8\"],[0.3333333333333333,\"#9c179e\"],[0.4444444444444444,\"#bd3786\"],[0.5555555555555556,\"#d8576b\"],[0.6666666666666666,\"#ed7953\"],[0.7777777777777778,\"#fb9f3a\"],[0.8888888888888888,\"#fdca26\"],[1.0,\"#f0f921\"]]}],\"mesh3d\":[{\"type\":\"mesh3d\",\"colorbar\":{\"outlinewidth\":0,\"ticks\":\"\"}}],\"scatter\":[{\"fillpattern\":{\"fillmode\":\"overlay\",\"size\":10,\"solidity\":0.2},\"type\":\"scatter\"}],\"parcoords\":[{\"type\":\"parcoords\",\"line\":{\"colorbar\":{\"outlinewidth\":0,\"ticks\":\"\"}}}],\"scatterpolargl\":[{\"type\":\"scatterpolargl\",\"marker\":{\"colorbar\":{\"outlinewidth\":0,\"ticks\":\"\"}}}],\"bar\":[{\"error_x\":{\"color\":\"#2a3f5f\"},\"error_y\":{\"color\":\"#2a3f5f\"},\"marker\":{\"line\":{\"color\":\"#E5ECF6\",\"width\":0.5},\"pattern\":{\"fillmode\":\"overlay\",\"size\":10,\"solidity\":0.2}},\"type\":\"bar\"}],\"scattergeo\":[{\"type\":\"scattergeo\",\"marker\":{\"colorbar\":{\"outlinewidth\":0,\"ticks\":\"\"}}}],\"scatterpolar\":[{\"type\":\"scatterpolar\",\"marker\":{\"colorbar\":{\"outlinewidth\":0,\"ticks\":\"\"}}}],\"histogram\":[{\"marker\":{\"pattern\":{\"fillmode\":\"overlay\",\"size\":10,\"solidity\":0.2}},\"type\":\"histogram\"}],\"scattergl\":[{\"type\":\"scattergl\",\"marker\":{\"colorbar\":{\"outlinewidth\":0,\"ticks\":\"\"}}}],\"scatter3d\":[{\"type\":\"scatter3d\",\"line\":{\"colorbar\":{\"outlinewidth\":0,\"ticks\":\"\"}},\"marker\":{\"colorbar\":{\"outlinewidth\":0,\"ticks\":\"\"}}}],\"scattermapbox\":[{\"type\":\"scattermapbox\",\"marker\":{\"colorbar\":{\"outlinewidth\":0,\"ticks\":\"\"}}}],\"scatterternary\":[{\"type\":\"scatterternary\",\"marker\":{\"colorbar\":{\"outlinewidth\":0,\"ticks\":\"\"}}}],\"scattercarpet\":[{\"type\":\"scattercarpet\",\"marker\":{\"colorbar\":{\"outlinewidth\":0,\"ticks\":\"\"}}}],\"carpet\":[{\"aaxis\":{\"endlinecolor\":\"#2a3f5f\",\"gridcolor\":\"white\",\"linecolor\":\"white\",\"minorgridcolor\":\"white\",\"startlinecolor\":\"#2a3f5f\"},\"baxis\":{\"endlinecolor\":\"#2a3f5f\",\"gridcolor\":\"white\",\"linecolor\":\"white\",\"minorgridcolor\":\"white\",\"startlinecolor\":\"#2a3f5f\"},\"type\":\"carpet\"}],\"table\":[{\"cells\":{\"fill\":{\"color\":\"#EBF0F8\"},\"line\":{\"color\":\"white\"}},\"header\":{\"fill\":{\"color\":\"#C8D4E3\"},\"line\":{\"color\":\"white\"}},\"type\":\"table\"}],\"barpolar\":[{\"marker\":{\"line\":{\"color\":\"#E5ECF6\",\"width\":0.5},\"pattern\":{\"fillmode\":\"overlay\",\"size\":10,\"solidity\":0.2}},\"type\":\"barpolar\"}],\"pie\":[{\"automargin\":true,\"type\":\"pie\"}]},\"layout\":{\"autotypenumbers\":\"strict\",\"colorway\":[\"#636efa\",\"#EF553B\",\"#00cc96\",\"#ab63fa\",\"#FFA15A\",\"#19d3f3\",\"#FF6692\",\"#B6E880\",\"#FF97FF\",\"#FECB52\"],\"font\":{\"color\":\"#2a3f5f\"},\"hovermode\":\"closest\",\"hoverlabel\":{\"align\":\"left\"},\"paper_bgcolor\":\"white\",\"plot_bgcolor\":\"#E5ECF6\",\"polar\":{\"bgcolor\":\"#E5ECF6\",\"angularaxis\":{\"gridcolor\":\"white\",\"linecolor\":\"white\",\"ticks\":\"\"},\"radialaxis\":{\"gridcolor\":\"white\",\"linecolor\":\"white\",\"ticks\":\"\"}},\"ternary\":{\"bgcolor\":\"#E5ECF6\",\"aaxis\":{\"gridcolor\":\"white\",\"linecolor\":\"white\",\"ticks\":\"\"},\"baxis\":{\"gridcolor\":\"white\",\"linecolor\":\"white\",\"ticks\":\"\"},\"caxis\":{\"gridcolor\":\"white\",\"linecolor\":\"white\",\"ticks\":\"\"}},\"coloraxis\":{\"colorbar\":{\"outlinewidth\":0,\"ticks\":\"\"}},\"colorscale\":{\"sequential\":[[0.0,\"#0d0887\"],[0.1111111111111111,\"#46039f\"],[0.2222222222222222,\"#7201a8\"],[0.3333333333333333,\"#9c179e\"],[0.4444444444444444,\"#bd3786\"],[0.5555555555555556,\"#d8576b\"],[0.6666666666666666,\"#ed7953\"],[0.7777777777777778,\"#fb9f3a\"],[0.8888888888888888,\"#fdca26\"],[1.0,\"#f0f921\"]],\"sequentialminus\":[[0.0,\"#0d0887\"],[0.1111111111111111,\"#46039f\"],[0.2222222222222222,\"#7201a8\"],[0.3333333333333333,\"#9c179e\"],[0.4444444444444444,\"#bd3786\"],[0.5555555555555556,\"#d8576b\"],[0.6666666666666666,\"#ed7953\"],[0.7777777777777778,\"#fb9f3a\"],[0.8888888888888888,\"#fdca26\"],[1.0,\"#f0f921\"]],\"diverging\":[[0,\"#8e0152\"],[0.1,\"#c51b7d\"],[0.2,\"#de77ae\"],[0.3,\"#f1b6da\"],[0.4,\"#fde0ef\"],[0.5,\"#f7f7f7\"],[0.6,\"#e6f5d0\"],[0.7,\"#b8e186\"],[0.8,\"#7fbc41\"],[0.9,\"#4d9221\"],[1,\"#276419\"]]},\"xaxis\":{\"gridcolor\":\"white\",\"linecolor\":\"white\",\"ticks\":\"\",\"title\":{\"standoff\":15},\"zerolinecolor\":\"white\",\"automargin\":true,\"zerolinewidth\":2},\"yaxis\":{\"gridcolor\":\"white\",\"linecolor\":\"white\",\"ticks\":\"\",\"title\":{\"standoff\":15},\"zerolinecolor\":\"white\",\"automargin\":true,\"zerolinewidth\":2},\"scene\":{\"xaxis\":{\"backgroundcolor\":\"#E5ECF6\",\"gridcolor\":\"white\",\"linecolor\":\"white\",\"showbackground\":true,\"ticks\":\"\",\"zerolinecolor\":\"white\",\"gridwidth\":2},\"yaxis\":{\"backgroundcolor\":\"#E5ECF6\",\"gridcolor\":\"white\",\"linecolor\":\"white\",\"showbackground\":true,\"ticks\":\"\",\"zerolinecolor\":\"white\",\"gridwidth\":2},\"zaxis\":{\"backgroundcolor\":\"#E5ECF6\",\"gridcolor\":\"white\",\"linecolor\":\"white\",\"showbackground\":true,\"ticks\":\"\",\"zerolinecolor\":\"white\",\"gridwidth\":2}},\"shapedefaults\":{\"line\":{\"color\":\"#2a3f5f\"}},\"annotationdefaults\":{\"arrowcolor\":\"#2a3f5f\",\"arrowhead\":0,\"arrowwidth\":1},\"geo\":{\"bgcolor\":\"white\",\"landcolor\":\"#E5ECF6\",\"subunitcolor\":\"white\",\"showland\":true,\"showlakes\":true,\"lakecolor\":\"white\"},\"title\":{\"x\":0.05},\"mapbox\":{\"style\":\"light\"}}},\"title\":{\"text\":\"MAGBERT Sentiment Intensity Prediction Error Distribution - [onlyBERT]\"},\"yaxis\":{\"title\":{\"text\":\"Absolute Error\"}}},                        {\"responsive\": true}                    ).then(function(){\n",
       "                            \n",
       "var gd = document.getElementById('1542fc16-bf6c-4f54-b9f0-25a66a4baf14');\n",
       "var x = new MutationObserver(function (mutations, observer) {{\n",
       "        var display = window.getComputedStyle(gd).display;\n",
       "        if (!display || display === 'none') {{\n",
       "            console.log([gd, 'removed!']);\n",
       "            Plotly.purge(gd);\n",
       "            observer.disconnect();\n",
       "        }}\n",
       "}});\n",
       "\n",
       "// Listen for the removal of the full notebook cells\n",
       "var notebookContainer = gd.closest('#notebook-container');\n",
       "if (notebookContainer) {{\n",
       "    x.observe(notebookContainer, {childList: true});\n",
       "}}\n",
       "\n",
       "// Listen for the clearing of the current output cell\n",
       "var outputEl = gd.closest('.output');\n",
       "if (outputEl) {{\n",
       "    x.observe(outputEl, {childList: true});\n",
       "}}\n",
       "\n",
       "                        })                };                });            </script>        </div>"
      ]
     },
     "metadata": {},
     "output_type": "display_data"
    }
   ],
   "source": [
    "import plotly.graph_objects as go\n",
    "\n",
    "fig = go.Figure()\n",
    "fig.add_trace(go.Box(y=error_VN, name=\"very negative\", marker_color=\"#1984c5\"))\n",
    "fig.add_trace(go.Box(y=error_N, name=\"negative\", marker_color=\"#22a7f0\"))\n",
    "fig.add_trace(go.Box(y=error_SN, name=\"slightly negative\", marker_color=\"#63bff0\"))\n",
    "fig.add_trace(go.Box(y=error_Neu, name=\"Neutral\", marker_color=\"#63bff0\"))\n",
    "fig.add_trace(go.Box(y=error_SP, name=\"slightly positive\", marker_color=\"#63bff0\"))\n",
    "fig.add_trace(go.Box(y=error_P, name=\"positive\", marker_color=\"#22a7f0\"))\n",
    "fig.add_trace(go.Box(y=error_VP, name=\"very positive\", marker_color=\"#1984c5\"))\n",
    "fig.update_traces(boxpoints='all', jitter=0)\n",
    "fig.add_trace(\n",
    "    go.Scatter(x=order, y=[np.mean(error_VN), np.mean(error_N), np.mean(error_SN), np.mean(error_Neu), np.mean(error_SP), np.mean(error_P), np.mean(error_VP)], \\\n",
    "         mode='markers', name=\"Mean Absolute Error\", marker_color=\"red\"))\n",
    "fig.update_layout(yaxis_title=\"Absolute Error\" ,title_text=\"MAGBERT Sentiment Intensity Prediction Error Distribution - [onlyBERT]\")\n",
    "fig.show()"
   ]
  },
  {
   "cell_type": "code",
   "execution_count": 31,
   "metadata": {},
   "outputs": [
    {
     "name": "stdout",
     "output_type": "stream",
     "text": [
      "<CMU-MOSI MAGBERT [onlyBERT] MAE>\n",
      "VERY NEGATIVE 1.5137611697427928\n",
      "NEGATIVE 0.9559251483662852\n",
      "SLIGHTLY NEGATIVE 0.7201637340363412\n",
      "NEUTRAL 0.7559183636136974\n",
      "SLIGHTLY POSITIVE 0.7959774812607436\n",
      "POSITIVE 0.6029950755826653\n",
      "VERY POSITIVE 1.2766265792500537\n"
     ]
    }
   ],
   "source": [
    "print(\"<CMU-MOSI MAGBERT [onlyBERT] MAE>\")\n",
    "print(\"VERY NEGATIVE\", np.mean(error_VN))\n",
    "print(\"NEGATIVE\", np.mean(error_N))\n",
    "print(\"SLIGHTLY NEGATIVE\", np.mean(error_SN))\n",
    "print(\"NEUTRAL\", np.mean(error_Neu))\n",
    "print(\"SLIGHTLY POSITIVE\", np.mean(error_SP))\n",
    "print(\"POSITIVE\", np.mean(error_P))\n",
    "print(\"VERY POSITIVE\", np.mean(error_VP))"
   ]
  },
  {
   "cell_type": "code",
   "execution_count": 47,
   "metadata": {},
   "outputs": [
    {
     "name": "stdout",
     "output_type": "stream",
     "text": [
      "0.09415104486028307\n"
     ]
    }
   ],
   "source": [
    "# Text\n",
    "means = [np.mean(error_VN), np.mean(error_N), np.mean(error_SN), np.mean(error_Neu), np.mean(error_SP), np.mean(error_P), np.mean(error_VP)]\n",
    "print(np.var(means))\n"
   ]
  },
  {
   "cell_type": "code",
   "execution_count": 53,
   "metadata": {},
   "outputs": [
    {
     "name": "stdout",
     "output_type": "stream",
     "text": [
      "0.1551135231270337\n"
     ]
    }
   ],
   "source": [
    "# Fusion\n",
    "means = [np.mean(error_VN), np.mean(error_N), np.mean(error_SN), np.mean(error_Neu), np.mean(error_SP), np.mean(error_P), np.mean(error_VP)]\n",
    "print(np.var(means))"
   ]
  },
  {
   "cell_type": "code",
   "execution_count": null,
   "metadata": {},
   "outputs": [],
   "source": []
  }
 ],
 "metadata": {
  "interpreter": {
   "hash": "658084397260d4aab479b7df4163d6eb096562a13a5b5f6c649e3c1d5e34b6c2"
  },
  "kernelspec": {
   "display_name": "Python 3.7.11 ('pytorch')",
   "language": "python",
   "name": "python3"
  },
  "language_info": {
   "codemirror_mode": {
    "name": "ipython",
    "version": 3
   },
   "file_extension": ".py",
   "mimetype": "text/x-python",
   "name": "python",
   "nbconvert_exporter": "python",
   "pygments_lexer": "ipython3",
   "version": "3.7.11"
  },
  "orig_nbformat": 4
 },
 "nbformat": 4,
 "nbformat_minor": 2
}
